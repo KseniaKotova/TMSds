{
 "cells": [
  {
   "cell_type": "markdown",
   "id": "b6db9b0b",
   "metadata": {},
   "source": [
    "### Task 1\n",
    "#### To solve equations"
   ]
  },
  {
   "cell_type": "code",
   "execution_count": 1,
   "id": "89488b12",
   "metadata": {},
   "outputs": [],
   "source": [
    "from math import sqrt"
   ]
  },
  {
   "cell_type": "markdown",
   "id": "60e0b5ba",
   "metadata": {},
   "source": [
    "$$y^2 - 12y + 20 = 0$$"
   ]
  },
  {
   "cell_type": "code",
   "execution_count": 2,
   "id": "e221ab08",
   "metadata": {},
   "outputs": [
    {
     "name": "stdout",
     "output_type": "stream",
     "text": [
      "The first solution is 2.0, the second solution is 10.0.\n"
     ]
    }
   ],
   "source": [
    "a = 1\n",
    "b = -12\n",
    "c = 20\n",
    "\n",
    "D = b**2 - 4*a*c\n",
    "\n",
    "if D < 0:\n",
    "    print(\"No solutions\")\n",
    "elif D == 0:\n",
    "    y = -b/(2*a)\n",
    "    print(f\"One solution is {y}\")\n",
    "else:\n",
    "    y1 = (-b-sqrt(D))/(2*a)\n",
    "    y2 = (-b+sqrt(D))/(2*a)\n",
    "    print(f\"The first solution is {y1}, the second solution is {y2}.\")"
   ]
  },
  {
   "cell_type": "markdown",
   "id": "5c7a1120",
   "metadata": {},
   "source": [
    "$$z^2 + 17z + 72 = 0$$"
   ]
  },
  {
   "cell_type": "code",
   "execution_count": 3,
   "id": "33ac9f1b",
   "metadata": {},
   "outputs": [
    {
     "name": "stdout",
     "output_type": "stream",
     "text": [
      "The first solution is -9.0, the second solution is -8.0.\n"
     ]
    }
   ],
   "source": [
    "a = 1\n",
    "b = 17\n",
    "c = 72\n",
    "\n",
    "D = b**2 - 4*a*c\n",
    "\n",
    "if D < 0:\n",
    "    print(\"No solutions\")\n",
    "elif D == 0:\n",
    "    z = -b/(2*a)\n",
    "    print(f\"One solution is {z}\")\n",
    "else:\n",
    "    z1 = (-b-sqrt(D))/(2*a)\n",
    "    z2 = (-b+sqrt(D))/(2*a)\n",
    "    print(f\"The first solution is {z1}, the second solution is {z2}.\")"
   ]
  },
  {
   "cell_type": "markdown",
   "id": "8cc20fe9",
   "metadata": {},
   "source": [
    "$$x^2 - 7x - 44 = 0$$"
   ]
  },
  {
   "cell_type": "code",
   "execution_count": 4,
   "id": "1b225dae",
   "metadata": {},
   "outputs": [
    {
     "name": "stdout",
     "output_type": "stream",
     "text": [
      "The first solution is -4.0, the second solution is 11.0.\n"
     ]
    }
   ],
   "source": [
    "a = 1\n",
    "b = -7\n",
    "c = -44\n",
    "\n",
    "D = b**2 - 4*a*c\n",
    "\n",
    "if D < 0:\n",
    "    print(\"No solutions\")\n",
    "elif D == 0:\n",
    "    x = -b/(2*a)\n",
    "    print(f\"One solution is {x}\")\n",
    "else:\n",
    "    x1 = (-b-sqrt(D))/(2*a)\n",
    "    x2 = (-b+sqrt(D))/(2*a)\n",
    "    print(f\"The first solution is {x1}, the second solution is {x2}.\")"
   ]
  },
  {
   "cell_type": "markdown",
   "id": "c15f9459",
   "metadata": {},
   "source": [
    "$$y^2 + 9y + 8 = 0$$"
   ]
  },
  {
   "cell_type": "code",
   "execution_count": 5,
   "id": "03aa18d9",
   "metadata": {},
   "outputs": [
    {
     "name": "stdout",
     "output_type": "stream",
     "text": [
      "The first solution is -8.0, the second solution is -1.0.\n"
     ]
    }
   ],
   "source": [
    "a = 1\n",
    "b = 9\n",
    "c = 8\n",
    "\n",
    "D = b**2 - 4*a*c\n",
    "\n",
    "if D < 0:\n",
    "    print(\"No solutions\")\n",
    "elif D == 0:\n",
    "    y = -b/(2*a)\n",
    "    print(f\"One solution is {y}\")\n",
    "else:\n",
    "    y1 = (-b-sqrt(D))/(2*a)\n",
    "    y2 = (-b+sqrt(D))/(2*a)\n",
    "    print(f\"The first solution is {y1}, the second solution is {y2}.\")"
   ]
  },
  {
   "cell_type": "markdown",
   "id": "d8907613",
   "metadata": {},
   "source": [
    "$$b^2 - 2b - 63 = 0$$"
   ]
  },
  {
   "cell_type": "code",
   "execution_count": 6,
   "id": "a748911c",
   "metadata": {},
   "outputs": [
    {
     "name": "stdout",
     "output_type": "stream",
     "text": [
      "The first solution is -7.0, the second solution is 9.0.\n"
     ]
    }
   ],
   "source": [
    "a = 1\n",
    "b = -2\n",
    "c = -63\n",
    "\n",
    "D = b**2 - 4*a*c\n",
    "\n",
    "if D < 0:\n",
    "    print(\"No solutions\")\n",
    "elif D == 0:\n",
    "    b_sol = -b/(2*a)\n",
    "    print(f\"One solution is {b_sol}\")\n",
    "else:\n",
    "    b1_sol = (-b-sqrt(D))/(2*a)\n",
    "    b2_sol = (-b+sqrt(D))/(2*a)\n",
    "    print(f\"The first solution is {b1_sol}, the second solution is {b2_sol}.\")"
   ]
  },
  {
   "cell_type": "markdown",
   "id": "088885f1",
   "metadata": {},
   "source": [
    "$$(x^2 - 8)^2 + 4(x^2 - 8) - 5 = 0$$\n",
    "$$t = x^2 - 8 => x^2 = t + 8$$"
   ]
  },
  {
   "cell_type": "code",
   "execution_count": 7,
   "id": "0af30502",
   "metadata": {},
   "outputs": [
    {
     "name": "stdout",
     "output_type": "stream",
     "text": [
      "For the first solution t1 -5.0 x1_1 is 1.7320508075688772 and x1_2 is -1.7320508075688772. For the second solution t2 1.0 x2_1 is 3.0 and x2_1 is -3.0.\n"
     ]
    }
   ],
   "source": [
    "a = 1\n",
    "b = 4\n",
    "c = -5\n",
    "\n",
    "D = b**2 - 4*a*c\n",
    "\n",
    "if D < 0:\n",
    "    print(\"No solutions for x and for t\")\n",
    "elif D == 0:\n",
    "    t = -b/(2*a)\n",
    "\n",
    "    if t + 8 < 0:\n",
    "        print(f\"One solution for t is {t}, but no solutions for x\")\n",
    "    elif t + 8 == 0:\n",
    "        print(f\"One solution for t is {t} and x is {sqrt(t + 8)}\")\n",
    "    else:\n",
    "        print(f\"One solution for t is {t} and x1 is {sqrt(t + 8)} \"\n",
    "              f\"and x2 is {-sqrt(t + 8)}\")\n",
    "else:\n",
    "    t1 = (-b-sqrt(D))/(2*a)\n",
    "    t2 = (-b+sqrt(D))/(2*a)\n",
    "\n",
    "    if t1 + 8 < 0 and t2 + 8 < 0:\n",
    "        print(f\"The first solution t1 is {t1}, \"\n",
    "                  f\"the second solution t2 is {t2}, \"\n",
    "                  f\"but no solutions for x\")\n",
    "    else:\n",
    "        x1 = sqrt(t1 + 8)\n",
    "        x2 = sqrt(t2 + 8)\n",
    "    print(f\"For the first solution t1 {t1} x1_1 is {x1} \"\n",
    "          f\"and x1_2 is {-x1}. \"\n",
    "          f\"For the second solution t2 {t2} x2_1 is {x2} \"\n",
    "          f\"and x2_1 is {-x2}.\")"
   ]
  },
  {
   "cell_type": "markdown",
   "id": "3008fa6f",
   "metadata": {},
   "source": [
    "## Task 2"
   ]
  },
  {
   "cell_type": "markdown",
   "id": "f1624849",
   "metadata": {},
   "source": [
    "### Reverse the list"
   ]
  },
  {
   "cell_type": "code",
   "execution_count": 8,
   "id": "c1dae936",
   "metadata": {},
   "outputs": [
    {
     "name": "stdout",
     "output_type": "stream",
     "text": [
      "Reversed list is [9, 2, 6, 5, 1]\n"
     ]
    }
   ],
   "source": [
    "arr = [1, 5, 6, 2, 9]\n",
    "\n",
    "print(f\"Reversed list is {arr[::-1]}\")"
   ]
  },
  {
   "cell_type": "markdown",
   "id": "55fe804d",
   "metadata": {},
   "source": [
    "## Task 3"
   ]
  },
  {
   "cell_type": "markdown",
   "id": "0a7910c1",
   "metadata": {},
   "source": [
    "### Change the first and the last elements of the list"
   ]
  },
  {
   "cell_type": "code",
   "execution_count": 9,
   "id": "a221693e",
   "metadata": {},
   "outputs": [
    {
     "name": "stdout",
     "output_type": "stream",
     "text": [
      "Changed first and last elements: [5, 2, 3, 4, 1]\n"
     ]
    }
   ],
   "source": [
    "def change(lst):\n",
    "\n",
    "    if len(lst) > 1:\n",
    "        lst[0], lst[-1] = lst[-1], lst[0]\n",
    "\n",
    "    return f\"Changed first and last elements: {lst}\"\n",
    "\n",
    "\n",
    "lst = [1, 2, 3, 4, 5]\n",
    "print(change(lst))"
   ]
  },
  {
   "cell_type": "markdown",
   "id": "1c2a6713",
   "metadata": {},
   "source": [
    "## Task 4"
   ]
  },
  {
   "cell_type": "markdown",
   "id": "f60958d3",
   "metadata": {},
   "source": [
    "### Create useless func"
   ]
  },
  {
   "cell_type": "code",
   "execution_count": 10,
   "id": "006fe3ce",
   "metadata": {},
   "outputs": [
    {
     "name": "stdout",
     "output_type": "stream",
     "text": [
      "Divided max element on length of list: 3.5714285714285716\n"
     ]
    }
   ],
   "source": [
    "def useless(arr):\n",
    "\n",
    "    max_num = arr[0]\n",
    "    if len(arr) != 0:\n",
    "        for el in arr[1:]:\n",
    "            if el > max_num:\n",
    "                max_num = el\n",
    "\n",
    "    return f\"Divided max element on length of list: {max_num/len(arr)}\"\n",
    "\n",
    "\n",
    "arr = [1, 9, 16, 4, 25, 13, 7]\n",
    "print(useless(arr))"
   ]
  },
  {
   "cell_type": "markdown",
   "id": "5db45ef0",
   "metadata": {},
   "source": [
    "## Task 5"
   ]
  },
  {
   "cell_type": "markdown",
   "id": "68f6d6e0",
   "metadata": {},
   "source": [
    "### \"_\" problem"
   ]
  },
  {
   "cell_type": "code",
   "execution_count": 11,
   "id": "74a1a03b",
   "metadata": {},
   "outputs": [
    {
     "name": "stdout",
     "output_type": "stream",
     "text": [
      "The list with words with added symbols '_' is ['роза___', 'орхидея', 'тюльпан']\n"
     ]
    }
   ],
   "source": [
    "def all_eq(words_arr):\n",
    "\n",
    "    max_len = len(words_arr[0])\n",
    "\n",
    "    if len(words_arr) != 0:\n",
    "        for word in words_arr[1:]:\n",
    "            if len(word) > max_len:\n",
    "                max_len = len(word)\n",
    "\n",
    "    new_words_arr = []\n",
    "\n",
    "    for word in words_arr:\n",
    "        new_words_arr.append(word + '_'*(max_len - len(word)))\n",
    "\n",
    "    return new_words_arr\n",
    "\n",
    "\n",
    "words_arr = ['роза', 'орхидея', 'тюльпан']\n",
    "print(f\"The list with words with added symbols '_' \"\n",
    "      f\"is {all_eq(words_arr)}\")"
   ]
  },
  {
   "cell_type": "code",
   "execution_count": 12,
   "id": "445dfda3",
   "metadata": {},
   "outputs": [],
   "source": [
    "assert all_eq(['крот', 'белка', 'выхухоль']) == ['крот____', 'белка___', 'выхухоль']"
   ]
  },
  {
   "cell_type": "markdown",
   "id": "ab346651",
   "metadata": {},
   "source": [
    "## Task 6"
   ]
  },
  {
   "cell_type": "markdown",
   "id": "305cd30c",
   "metadata": {},
   "source": [
    "### Sort the list"
   ]
  },
  {
   "cell_type": "code",
   "execution_count": 24,
   "id": "f8bc6179",
   "metadata": {},
   "outputs": [
    {
     "name": "stdout",
     "output_type": "stream",
     "text": [
      "Num of iterations for [64, 34, 25, 12, 22, 11, 90] is 7\n",
      "Num of iterations for [64, 34, 25, 12, 22, 11] is 6\n",
      "Num of iterations for [64, 34, 25, 22] is 4\n",
      "Num of iterations for [34, 25, 22] is 3\n",
      "Sorted list:  [11, 12, 22, 25, 34, 64, 90]\n"
     ]
    }
   ],
   "source": [
    "from random import randint\n",
    "\n",
    "\n",
    "def sort(array):\n",
    "\n",
    "    if len(array) < 2:\n",
    "        return array\n",
    "\n",
    "    low, same, high = [], [], []\n",
    "    count = 0\n",
    "    rand_value = array[randint(0, len(array) - 1)]\n",
    "\n",
    "    for item in array:\n",
    "        if item < rand_value:\n",
    "            low.append(item)\n",
    "        elif item == rand_value:\n",
    "            same.append(item)\n",
    "        elif item > rand_value:\n",
    "            high.append(item)\n",
    "        count += 1\n",
    "\n",
    "    print(f\"Num of iterations for {array} is {count}\")\n",
    "\n",
    "    return sort(low) + same + sort(high)\n",
    "\n",
    "arr = [64, 34, 25, 12, 22, 11, 90]\n",
    "sort_array = sort(arr)\n",
    "\n",
    "print(\"Sorted list: \", sort_array)"
   ]
  }
 ],
 "metadata": {
  "kernelspec": {
   "display_name": "Python 3 (ipykernel)",
   "language": "python",
   "name": "python3"
  },
  "language_info": {
   "codemirror_mode": {
    "name": "ipython",
    "version": 3
   },
   "file_extension": ".py",
   "mimetype": "text/x-python",
   "name": "python",
   "nbconvert_exporter": "python",
   "pygments_lexer": "ipython3",
   "version": "3.10.6"
  }
 },
 "nbformat": 4,
 "nbformat_minor": 5
}

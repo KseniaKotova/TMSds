{
  "nbformat": 4,
  "nbformat_minor": 0,
  "metadata": {
    "colab": {
      "provenance": []
    },
    "kernelspec": {
      "name": "python3",
      "display_name": "Python 3"
    },
    "language_info": {
      "name": "python"
    }
  },
  "cells": [
    {
      "cell_type": "code",
      "source": [
        "import nltk\n",
        "from nltk.corpus import stopwords\n",
        "from nltk.tokenize import word_tokenize\n",
        "from nltk.stem import WordNetLemmatizer"
      ],
      "metadata": {
        "id": "VE7abuWz9HVY"
      },
      "execution_count": null,
      "outputs": []
    },
    {
      "cell_type": "code",
      "source": [
        "import pandas as pd\n",
        "from sklearn.model_selection import train_test_split\n",
        "from sklearn.feature_extraction.text import CountVectorizer, TfidfTransformer\n",
        "from sklearn.linear_model import LogisticRegression\n",
        "from sklearn.metrics import accuracy_score, classification_report, confusion_matrix"
      ],
      "metadata": {
        "id": "wjourRS29Jqp"
      },
      "execution_count": 15,
      "outputs": []
    },
    {
      "cell_type": "code",
      "source": [
        "data = pd.read_csv(\"IMDB Dataset.csv\")\n",
        "\n",
        "X_train, X_test, y_train, y_test = train_test_split(data['review'], data['sentiment'], test_size=0.2, random_state=42)"
      ],
      "metadata": {
        "id": "VJRFMd_L9Xrs"
      },
      "execution_count": null,
      "outputs": []
    },
    {
      "cell_type": "code",
      "source": [
        "vectorizer = CountVectorizer()\n",
        "X_train_counts = vectorizer.fit_transform(X_train)\n",
        "\n",
        "tfidf_transformer = TfidfTransformer()\n",
        "X_train_tfidf = tfidf_transformer.fit_transform(X_train_counts)\n",
        "\n",
        "# Обучение модели логистической регрессии\n",
        "clf = LogisticRegression(max_iter=100)\n",
        "clf.fit(X_train_tfidf, y_train)\n",
        "\n",
        "# Преобразование тестовых данных в векторы TF-IDF\n",
        "X_test_counts = vectorizer.transform(X_test)\n",
        "X_test_tfidf = tfidf_transformer.transform(X_test_counts)\n",
        "\n",
        "# Предсказание меток для тестовых данных\n",
        "y_pred = clf.predict(X_test_tfidf)\n",
        "\n",
        "# Оценка точности модели\n",
        "accuracy = accuracy_score(y_test, y_pred)\n",
        "print(f\"Accuracy: {accuracy:.2f}\")\n",
        "\n",
        "# Вывод отчета о классификации и матрицы ошибок\n",
        "print(classification_report(y_test, y_pred))\n",
        "print(confusion_matrix(y_test, y_pred))"
      ],
      "metadata": {
        "colab": {
          "base_uri": "https://localhost:8080/"
        },
        "id": "vLUCMIOK9hI9",
        "outputId": "bd1d01e0-0d16-452e-8103-ba6be35f9250"
      },
      "execution_count": null,
      "outputs": [
        {
          "output_type": "stream",
          "name": "stderr",
          "text": [
            "/usr/local/lib/python3.10/dist-packages/sklearn/linear_model/_logistic.py:460: ConvergenceWarning: lbfgs failed to converge (status=1):\n",
            "STOP: TOTAL NO. of ITERATIONS REACHED LIMIT.\n",
            "\n",
            "Increase the number of iterations (max_iter) or scale the data as shown in:\n",
            "    https://scikit-learn.org/stable/modules/preprocessing.html\n",
            "Please also refer to the documentation for alternative solver options:\n",
            "    https://scikit-learn.org/stable/modules/linear_model.html#logistic-regression\n",
            "  n_iter_i = _check_optimize_result(\n"
          ]
        },
        {
          "output_type": "stream",
          "name": "stdout",
          "text": [
            "Accuracy: 0.90\n",
            "              precision    recall  f1-score   support\n",
            "\n",
            "    negative       0.91      0.89      0.90      4961\n",
            "    positive       0.89      0.91      0.90      5039\n",
            "\n",
            "    accuracy                           0.90     10000\n",
            "   macro avg       0.90      0.90      0.90     10000\n",
            "weighted avg       0.90      0.90      0.90     10000\n",
            "\n",
            "[[4403  558]\n",
            " [ 440 4599]]\n"
          ]
        }
      ]
    },
    {
      "cell_type": "code",
      "source": [
        "nltk.download('punkt')\n",
        "nltk.download('stopwords')\n",
        "nltk.download('wordnet')\n",
        "\n",
        "data = pd.read_csv(\"IMDB Dataset.csv\")\n",
        "\n",
        "data['tokens'] = data['review'].apply(word_tokenize)"
      ],
      "metadata": {
        "colab": {
          "base_uri": "https://localhost:8080/"
        },
        "id": "Kc-QctNS9nNL",
        "outputId": "7c5ea3b0-cafb-49f3-da71-2e8af382cca1"
      },
      "execution_count": null,
      "outputs": [
        {
          "output_type": "stream",
          "name": "stderr",
          "text": [
            "[nltk_data] Downloading package punkt to /root/nltk_data...\n",
            "[nltk_data]   Package punkt is already up-to-date!\n",
            "[nltk_data] Downloading package stopwords to /root/nltk_data...\n",
            "[nltk_data]   Package stopwords is already up-to-date!\n",
            "[nltk_data] Downloading package wordnet to /root/nltk_data...\n",
            "[nltk_data]   Package wordnet is already up-to-date!\n"
          ]
        }
      ]
    },
    {
      "cell_type": "code",
      "source": [
        "stop_words = set(stopwords.words('english'))\n",
        "\n",
        "lemmatizer = WordNetLemmatizer()\n",
        "\n",
        "def preprocess(tokens):\n",
        "    return [lemmatizer.lemmatize(word.lower()) for word in tokens if word.lower() not in stop_words]\n",
        "\n",
        "data['lemma_no_stop'] = data['tokens'].apply(preprocess)"
      ],
      "metadata": {
        "id": "kz8fT5Pk-mV9"
      },
      "execution_count": null,
      "outputs": []
    },
    {
      "cell_type": "code",
      "source": [
        "data['lemma_no_stop'] = data['lemma_no_stop'].apply(lambda tokens: ' '.join(tokens))"
      ],
      "metadata": {
        "id": "HBciYuQYF9nr"
      },
      "execution_count": null,
      "outputs": []
    },
    {
      "cell_type": "code",
      "source": [
        "X_train, X_test, y_train, y_test = train_test_split(data['lemma_no_stop'], data['sentiment'], test_size=0.2, random_state=42)"
      ],
      "metadata": {
        "id": "Y8kI6ydRCXOQ"
      },
      "execution_count": null,
      "outputs": []
    },
    {
      "cell_type": "markdown",
      "source": [
        "# TF-IDF"
      ],
      "metadata": {
        "id": "jYfSv5TtoiYA"
      }
    },
    {
      "cell_type": "code",
      "source": [
        "from sklearn.ensemble import RandomForestClassifier\n",
        "\n",
        "vectorizer = CountVectorizer()\n",
        "X_train_counts = vectorizer.fit_transform(X_train)\n",
        "\n",
        "tfidf_transformer = TfidfTransformer()\n",
        "X_train_tfidf = tfidf_transformer.fit_transform(X_train_counts)\n",
        "\n",
        "# Обучение модели логистической регрессии\n",
        "clf = LogisticRegression(max_iter=100)\n",
        "clf.fit(X_train_tfidf, y_train)\n",
        "\n",
        "rfc = RandomForestClassifier(max_depth=10, random_state=42)\n",
        "rfc.fit(X_train_tfidf, y_train)"
      ],
      "metadata": {
        "colab": {
          "base_uri": "https://localhost:8080/",
          "height": 74
        },
        "id": "IYKkuC1jEvf6",
        "outputId": "15ee2d64-716a-4a1f-fcea-cd35e5def6b9"
      },
      "execution_count": null,
      "outputs": [
        {
          "output_type": "execute_result",
          "data": {
            "text/plain": [
              "RandomForestClassifier(max_depth=10, random_state=42)"
            ],
            "text/html": [
              "<style>#sk-container-id-1 {color: black;}#sk-container-id-1 pre{padding: 0;}#sk-container-id-1 div.sk-toggleable {background-color: white;}#sk-container-id-1 label.sk-toggleable__label {cursor: pointer;display: block;width: 100%;margin-bottom: 0;padding: 0.3em;box-sizing: border-box;text-align: center;}#sk-container-id-1 label.sk-toggleable__label-arrow:before {content: \"▸\";float: left;margin-right: 0.25em;color: #696969;}#sk-container-id-1 label.sk-toggleable__label-arrow:hover:before {color: black;}#sk-container-id-1 div.sk-estimator:hover label.sk-toggleable__label-arrow:before {color: black;}#sk-container-id-1 div.sk-toggleable__content {max-height: 0;max-width: 0;overflow: hidden;text-align: left;background-color: #f0f8ff;}#sk-container-id-1 div.sk-toggleable__content pre {margin: 0.2em;color: black;border-radius: 0.25em;background-color: #f0f8ff;}#sk-container-id-1 input.sk-toggleable__control:checked~div.sk-toggleable__content {max-height: 200px;max-width: 100%;overflow: auto;}#sk-container-id-1 input.sk-toggleable__control:checked~label.sk-toggleable__label-arrow:before {content: \"▾\";}#sk-container-id-1 div.sk-estimator input.sk-toggleable__control:checked~label.sk-toggleable__label {background-color: #d4ebff;}#sk-container-id-1 div.sk-label input.sk-toggleable__control:checked~label.sk-toggleable__label {background-color: #d4ebff;}#sk-container-id-1 input.sk-hidden--visually {border: 0;clip: rect(1px 1px 1px 1px);clip: rect(1px, 1px, 1px, 1px);height: 1px;margin: -1px;overflow: hidden;padding: 0;position: absolute;width: 1px;}#sk-container-id-1 div.sk-estimator {font-family: monospace;background-color: #f0f8ff;border: 1px dotted black;border-radius: 0.25em;box-sizing: border-box;margin-bottom: 0.5em;}#sk-container-id-1 div.sk-estimator:hover {background-color: #d4ebff;}#sk-container-id-1 div.sk-parallel-item::after {content: \"\";width: 100%;border-bottom: 1px solid gray;flex-grow: 1;}#sk-container-id-1 div.sk-label:hover label.sk-toggleable__label {background-color: #d4ebff;}#sk-container-id-1 div.sk-serial::before {content: \"\";position: absolute;border-left: 1px solid gray;box-sizing: border-box;top: 0;bottom: 0;left: 50%;z-index: 0;}#sk-container-id-1 div.sk-serial {display: flex;flex-direction: column;align-items: center;background-color: white;padding-right: 0.2em;padding-left: 0.2em;position: relative;}#sk-container-id-1 div.sk-item {position: relative;z-index: 1;}#sk-container-id-1 div.sk-parallel {display: flex;align-items: stretch;justify-content: center;background-color: white;position: relative;}#sk-container-id-1 div.sk-item::before, #sk-container-id-1 div.sk-parallel-item::before {content: \"\";position: absolute;border-left: 1px solid gray;box-sizing: border-box;top: 0;bottom: 0;left: 50%;z-index: -1;}#sk-container-id-1 div.sk-parallel-item {display: flex;flex-direction: column;z-index: 1;position: relative;background-color: white;}#sk-container-id-1 div.sk-parallel-item:first-child::after {align-self: flex-end;width: 50%;}#sk-container-id-1 div.sk-parallel-item:last-child::after {align-self: flex-start;width: 50%;}#sk-container-id-1 div.sk-parallel-item:only-child::after {width: 0;}#sk-container-id-1 div.sk-dashed-wrapped {border: 1px dashed gray;margin: 0 0.4em 0.5em 0.4em;box-sizing: border-box;padding-bottom: 0.4em;background-color: white;}#sk-container-id-1 div.sk-label label {font-family: monospace;font-weight: bold;display: inline-block;line-height: 1.2em;}#sk-container-id-1 div.sk-label-container {text-align: center;}#sk-container-id-1 div.sk-container {/* jupyter's `normalize.less` sets `[hidden] { display: none; }` but bootstrap.min.css set `[hidden] { display: none !important; }` so we also need the `!important` here to be able to override the default hidden behavior on the sphinx rendered scikit-learn.org. See: https://github.com/scikit-learn/scikit-learn/issues/21755 */display: inline-block !important;position: relative;}#sk-container-id-1 div.sk-text-repr-fallback {display: none;}</style><div id=\"sk-container-id-1\" class=\"sk-top-container\"><div class=\"sk-text-repr-fallback\"><pre>RandomForestClassifier(max_depth=10, random_state=42)</pre><b>In a Jupyter environment, please rerun this cell to show the HTML representation or trust the notebook. <br />On GitHub, the HTML representation is unable to render, please try loading this page with nbviewer.org.</b></div><div class=\"sk-container\" hidden><div class=\"sk-item\"><div class=\"sk-estimator sk-toggleable\"><input class=\"sk-toggleable__control sk-hidden--visually\" id=\"sk-estimator-id-1\" type=\"checkbox\" checked><label for=\"sk-estimator-id-1\" class=\"sk-toggleable__label sk-toggleable__label-arrow\">RandomForestClassifier</label><div class=\"sk-toggleable__content\"><pre>RandomForestClassifier(max_depth=10, random_state=42)</pre></div></div></div></div></div>"
            ]
          },
          "metadata": {},
          "execution_count": 19
        }
      ]
    },
    {
      "cell_type": "code",
      "source": [
        "X_test_counts = vectorizer.transform(X_test)\n",
        "X_test_tfidf = tfidf_transformer.transform(X_test_counts)\n",
        "\n",
        "# Предсказание меток для тестовых данных\n",
        "y_pred = clf.predict(X_test_tfidf)\n",
        "\n",
        "# Оценка точности модели\n",
        "accuracy_clf_tfidf = accuracy_score(y_test, y_pred)\n",
        "print(f\"Accuracy: {accuracy_clf_tfidf:.2f}\")\n",
        "\n",
        "# Вывод отчета о классификации и матрицы ошибок\n",
        "print(classification_report(y_test, y_pred))\n",
        "print(confusion_matrix(y_test, y_pred))"
      ],
      "metadata": {
        "colab": {
          "base_uri": "https://localhost:8080/"
        },
        "id": "XbKVrzqBEzJP",
        "outputId": "72731ebe-320e-4c1f-ecd9-4b19907e01c3"
      },
      "execution_count": null,
      "outputs": [
        {
          "output_type": "stream",
          "name": "stdout",
          "text": [
            "Accuracy: 0.90\n",
            "              precision    recall  f1-score   support\n",
            "\n",
            "    negative       0.91      0.88      0.89      4961\n",
            "    positive       0.88      0.91      0.90      5039\n",
            "\n",
            "    accuracy                           0.90     10000\n",
            "   macro avg       0.90      0.90      0.90     10000\n",
            "weighted avg       0.90      0.90      0.90     10000\n",
            "\n",
            "[[4359  602]\n",
            " [ 440 4599]]\n"
          ]
        }
      ]
    },
    {
      "cell_type": "code",
      "source": [
        "X_test_counts = vectorizer.transform(X_test)\n",
        "X_test_tfidf = tfidf_transformer.transform(X_test_counts)\n",
        "\n",
        "# Предсказание меток для тестовых данных\n",
        "y_pred = rfc.predict(X_test_tfidf)\n",
        "\n",
        "# Оценка точности модели\n",
        "accuracy_rfc_tfidf = accuracy_score(y_test, y_pred)\n",
        "print(f\"Accuracy: {accuracy_rfc_tfidf:.2f}\")\n",
        "\n",
        "# Вывод отчета о классификации и матрицы ошибок\n",
        "print(classification_report(y_test, y_pred))\n",
        "print(confusion_matrix(y_test, y_pred))"
      ],
      "metadata": {
        "colab": {
          "base_uri": "https://localhost:8080/"
        },
        "id": "Zq4-JcZfJGIF",
        "outputId": "22109407-6a1a-41c7-b75e-84dbb1a9f868"
      },
      "execution_count": null,
      "outputs": [
        {
          "output_type": "stream",
          "name": "stdout",
          "text": [
            "Accuracy: 0.83\n",
            "              precision    recall  f1-score   support\n",
            "\n",
            "    negative       0.85      0.80      0.82      4961\n",
            "    positive       0.81      0.86      0.84      5039\n",
            "\n",
            "    accuracy                           0.83     10000\n",
            "   macro avg       0.83      0.83      0.83     10000\n",
            "weighted avg       0.83      0.83      0.83     10000\n",
            "\n",
            "[[3976  985]\n",
            " [ 704 4335]]\n"
          ]
        }
      ]
    },
    {
      "cell_type": "markdown",
      "source": [
        "# Word2Vec"
      ],
      "metadata": {
        "id": "Fb_4gy3rqJfu"
      }
    },
    {
      "cell_type": "code",
      "source": [
        "from gensim.models import Word2Vec\n",
        "import numpy as np"
      ],
      "metadata": {
        "id": "76WoJfMIopXm"
      },
      "execution_count": null,
      "outputs": []
    },
    {
      "cell_type": "code",
      "source": [
        "model = Word2Vec(data['lemma_no_stop'].apply(lambda x: x.split()), vector_size=100, window=5, min_count=1)\n",
        "\n",
        "def get_vector(sentence):\n",
        "    words = sentence.split()\n",
        "    vectors = [model.wv[word] for word in words if word in model.wv]\n",
        "    return np.mean(vectors, axis=0) if vectors else np.zeros(100)\n",
        "\n",
        "X_train_w2v = np.array([get_vector(sentence) for sentence in X_train])\n",
        "X_test_w2v = np.array([get_vector(sentence) for sentence in X_test])\n"
      ],
      "metadata": {
        "id": "yv5fl1elJJqH"
      },
      "execution_count": null,
      "outputs": []
    },
    {
      "cell_type": "code",
      "source": [
        "from sklearn.ensemble import RandomForestClassifier\n",
        "\n",
        "clf = LogisticRegression(max_iter=100)\n",
        "clf.fit(X_train_w2v, y_train)\n",
        "\n",
        "rfc = RandomForestClassifier(max_depth=10, random_state=42)\n",
        "rfc.fit(X_train_w2v, y_train)"
      ],
      "metadata": {
        "colab": {
          "base_uri": "https://localhost:8080/",
          "height": 213
        },
        "id": "S3HmAhD9qjwX",
        "outputId": "cd565995-a4d8-40b7-db2d-53db9d30ae18"
      },
      "execution_count": null,
      "outputs": [
        {
          "output_type": "stream",
          "name": "stderr",
          "text": [
            "/usr/local/lib/python3.10/dist-packages/sklearn/linear_model/_logistic.py:460: ConvergenceWarning: lbfgs failed to converge (status=1):\n",
            "STOP: TOTAL NO. of ITERATIONS REACHED LIMIT.\n",
            "\n",
            "Increase the number of iterations (max_iter) or scale the data as shown in:\n",
            "    https://scikit-learn.org/stable/modules/preprocessing.html\n",
            "Please also refer to the documentation for alternative solver options:\n",
            "    https://scikit-learn.org/stable/modules/linear_model.html#logistic-regression\n",
            "  n_iter_i = _check_optimize_result(\n"
          ]
        },
        {
          "output_type": "execute_result",
          "data": {
            "text/plain": [
              "RandomForestClassifier(max_depth=10, random_state=42)"
            ],
            "text/html": [
              "<style>#sk-container-id-2 {color: black;}#sk-container-id-2 pre{padding: 0;}#sk-container-id-2 div.sk-toggleable {background-color: white;}#sk-container-id-2 label.sk-toggleable__label {cursor: pointer;display: block;width: 100%;margin-bottom: 0;padding: 0.3em;box-sizing: border-box;text-align: center;}#sk-container-id-2 label.sk-toggleable__label-arrow:before {content: \"▸\";float: left;margin-right: 0.25em;color: #696969;}#sk-container-id-2 label.sk-toggleable__label-arrow:hover:before {color: black;}#sk-container-id-2 div.sk-estimator:hover label.sk-toggleable__label-arrow:before {color: black;}#sk-container-id-2 div.sk-toggleable__content {max-height: 0;max-width: 0;overflow: hidden;text-align: left;background-color: #f0f8ff;}#sk-container-id-2 div.sk-toggleable__content pre {margin: 0.2em;color: black;border-radius: 0.25em;background-color: #f0f8ff;}#sk-container-id-2 input.sk-toggleable__control:checked~div.sk-toggleable__content {max-height: 200px;max-width: 100%;overflow: auto;}#sk-container-id-2 input.sk-toggleable__control:checked~label.sk-toggleable__label-arrow:before {content: \"▾\";}#sk-container-id-2 div.sk-estimator input.sk-toggleable__control:checked~label.sk-toggleable__label {background-color: #d4ebff;}#sk-container-id-2 div.sk-label input.sk-toggleable__control:checked~label.sk-toggleable__label {background-color: #d4ebff;}#sk-container-id-2 input.sk-hidden--visually {border: 0;clip: rect(1px 1px 1px 1px);clip: rect(1px, 1px, 1px, 1px);height: 1px;margin: -1px;overflow: hidden;padding: 0;position: absolute;width: 1px;}#sk-container-id-2 div.sk-estimator {font-family: monospace;background-color: #f0f8ff;border: 1px dotted black;border-radius: 0.25em;box-sizing: border-box;margin-bottom: 0.5em;}#sk-container-id-2 div.sk-estimator:hover {background-color: #d4ebff;}#sk-container-id-2 div.sk-parallel-item::after {content: \"\";width: 100%;border-bottom: 1px solid gray;flex-grow: 1;}#sk-container-id-2 div.sk-label:hover label.sk-toggleable__label {background-color: #d4ebff;}#sk-container-id-2 div.sk-serial::before {content: \"\";position: absolute;border-left: 1px solid gray;box-sizing: border-box;top: 0;bottom: 0;left: 50%;z-index: 0;}#sk-container-id-2 div.sk-serial {display: flex;flex-direction: column;align-items: center;background-color: white;padding-right: 0.2em;padding-left: 0.2em;position: relative;}#sk-container-id-2 div.sk-item {position: relative;z-index: 1;}#sk-container-id-2 div.sk-parallel {display: flex;align-items: stretch;justify-content: center;background-color: white;position: relative;}#sk-container-id-2 div.sk-item::before, #sk-container-id-2 div.sk-parallel-item::before {content: \"\";position: absolute;border-left: 1px solid gray;box-sizing: border-box;top: 0;bottom: 0;left: 50%;z-index: -1;}#sk-container-id-2 div.sk-parallel-item {display: flex;flex-direction: column;z-index: 1;position: relative;background-color: white;}#sk-container-id-2 div.sk-parallel-item:first-child::after {align-self: flex-end;width: 50%;}#sk-container-id-2 div.sk-parallel-item:last-child::after {align-self: flex-start;width: 50%;}#sk-container-id-2 div.sk-parallel-item:only-child::after {width: 0;}#sk-container-id-2 div.sk-dashed-wrapped {border: 1px dashed gray;margin: 0 0.4em 0.5em 0.4em;box-sizing: border-box;padding-bottom: 0.4em;background-color: white;}#sk-container-id-2 div.sk-label label {font-family: monospace;font-weight: bold;display: inline-block;line-height: 1.2em;}#sk-container-id-2 div.sk-label-container {text-align: center;}#sk-container-id-2 div.sk-container {/* jupyter's `normalize.less` sets `[hidden] { display: none; }` but bootstrap.min.css set `[hidden] { display: none !important; }` so we also need the `!important` here to be able to override the default hidden behavior on the sphinx rendered scikit-learn.org. See: https://github.com/scikit-learn/scikit-learn/issues/21755 */display: inline-block !important;position: relative;}#sk-container-id-2 div.sk-text-repr-fallback {display: none;}</style><div id=\"sk-container-id-2\" class=\"sk-top-container\"><div class=\"sk-text-repr-fallback\"><pre>RandomForestClassifier(max_depth=10, random_state=42)</pre><b>In a Jupyter environment, please rerun this cell to show the HTML representation or trust the notebook. <br />On GitHub, the HTML representation is unable to render, please try loading this page with nbviewer.org.</b></div><div class=\"sk-container\" hidden><div class=\"sk-item\"><div class=\"sk-estimator sk-toggleable\"><input class=\"sk-toggleable__control sk-hidden--visually\" id=\"sk-estimator-id-2\" type=\"checkbox\" checked><label for=\"sk-estimator-id-2\" class=\"sk-toggleable__label sk-toggleable__label-arrow\">RandomForestClassifier</label><div class=\"sk-toggleable__content\"><pre>RandomForestClassifier(max_depth=10, random_state=42)</pre></div></div></div></div></div>"
            ]
          },
          "metadata": {},
          "execution_count": 24
        }
      ]
    },
    {
      "cell_type": "code",
      "source": [
        "y_pred = clf.predict(X_test_w2v)\n",
        "\n",
        "# Оценка точности модели\n",
        "accuracy_clf_w2v = accuracy_score(y_test, y_pred)\n",
        "print(f\"Accuracy: {accuracy_clf_w2v:.2f}\")\n",
        "\n",
        "# Вывод отчета о классификации и матрицы ошибок\n",
        "print(classification_report(y_test, y_pred))\n",
        "print(confusion_matrix(y_test, y_pred))"
      ],
      "metadata": {
        "colab": {
          "base_uri": "https://localhost:8080/"
        },
        "id": "MIGw2-nUq7ur",
        "outputId": "85c991f6-5e7f-4896-b853-9bbbd6f02126"
      },
      "execution_count": null,
      "outputs": [
        {
          "output_type": "stream",
          "name": "stdout",
          "text": [
            "Accuracy: 0.85\n",
            "              precision    recall  f1-score   support\n",
            "\n",
            "    negative       0.86      0.85      0.85      4961\n",
            "    positive       0.85      0.86      0.86      5039\n",
            "\n",
            "    accuracy                           0.85     10000\n",
            "   macro avg       0.85      0.85      0.85     10000\n",
            "weighted avg       0.85      0.85      0.85     10000\n",
            "\n",
            "[[4202  759]\n",
            " [ 697 4342]]\n"
          ]
        }
      ]
    },
    {
      "cell_type": "code",
      "source": [
        "y_pred = rfc.predict(X_test_w2v)\n",
        "\n",
        "# Оценка точности модели\n",
        "accuracy_rfc_w2v = accuracy_score(y_test, y_pred)\n",
        "print(f\"Accuracy: {accuracy_clf_w2v:.2f}\")\n",
        "\n",
        "# Вывод отчета о классификации и матрицы ошибок\n",
        "print(classification_report(y_test, y_pred))\n",
        "print(confusion_matrix(y_test, y_pred))"
      ],
      "metadata": {
        "colab": {
          "base_uri": "https://localhost:8080/"
        },
        "id": "wF6gTyr3uR_v",
        "outputId": "73c89f2c-fb21-419b-c622-a7dd8549338f"
      },
      "execution_count": null,
      "outputs": [
        {
          "output_type": "stream",
          "name": "stdout",
          "text": [
            "Accuracy: 0.85\n",
            "              precision    recall  f1-score   support\n",
            "\n",
            "    negative       0.80      0.79      0.79      4961\n",
            "    positive       0.79      0.81      0.80      5039\n",
            "\n",
            "    accuracy                           0.80     10000\n",
            "   macro avg       0.80      0.80      0.80     10000\n",
            "weighted avg       0.80      0.80      0.80     10000\n",
            "\n",
            "[[3910 1051]\n",
            " [ 980 4059]]\n"
          ]
        }
      ]
    },
    {
      "cell_type": "markdown",
      "source": [
        "# Bag of Words"
      ],
      "metadata": {
        "id": "HxwsC-erujQ2"
      }
    },
    {
      "cell_type": "code",
      "source": [
        "from sklearn.feature_extraction.text import CountVectorizer\n",
        "\n",
        "vectorizer = CountVectorizer()\n",
        "X_train_bow = vectorizer.fit_transform(X_train)\n",
        "X_test_bow = vectorizer.transform(X_test)"
      ],
      "metadata": {
        "id": "gTXgHVyAum0R"
      },
      "execution_count": null,
      "outputs": []
    },
    {
      "cell_type": "code",
      "source": [
        "clf = LogisticRegression(max_iter=100)\n",
        "clf.fit(X_train_bow, y_train)\n",
        "\n",
        "rfc = RandomForestClassifier(max_depth=10, random_state=42)\n",
        "rfc.fit(X_train_bow, y_train)"
      ],
      "metadata": {
        "colab": {
          "base_uri": "https://localhost:8080/",
          "height": 213
        },
        "id": "y32TIrsFusK8",
        "outputId": "b97e8145-451b-47f6-a7f1-5a0e71da5536"
      },
      "execution_count": null,
      "outputs": [
        {
          "output_type": "stream",
          "name": "stderr",
          "text": [
            "/usr/local/lib/python3.10/dist-packages/sklearn/linear_model/_logistic.py:460: ConvergenceWarning: lbfgs failed to converge (status=1):\n",
            "STOP: TOTAL NO. of ITERATIONS REACHED LIMIT.\n",
            "\n",
            "Increase the number of iterations (max_iter) or scale the data as shown in:\n",
            "    https://scikit-learn.org/stable/modules/preprocessing.html\n",
            "Please also refer to the documentation for alternative solver options:\n",
            "    https://scikit-learn.org/stable/modules/linear_model.html#logistic-regression\n",
            "  n_iter_i = _check_optimize_result(\n"
          ]
        },
        {
          "output_type": "execute_result",
          "data": {
            "text/plain": [
              "RandomForestClassifier(max_depth=10, random_state=42)"
            ],
            "text/html": [
              "<style>#sk-container-id-3 {color: black;}#sk-container-id-3 pre{padding: 0;}#sk-container-id-3 div.sk-toggleable {background-color: white;}#sk-container-id-3 label.sk-toggleable__label {cursor: pointer;display: block;width: 100%;margin-bottom: 0;padding: 0.3em;box-sizing: border-box;text-align: center;}#sk-container-id-3 label.sk-toggleable__label-arrow:before {content: \"▸\";float: left;margin-right: 0.25em;color: #696969;}#sk-container-id-3 label.sk-toggleable__label-arrow:hover:before {color: black;}#sk-container-id-3 div.sk-estimator:hover label.sk-toggleable__label-arrow:before {color: black;}#sk-container-id-3 div.sk-toggleable__content {max-height: 0;max-width: 0;overflow: hidden;text-align: left;background-color: #f0f8ff;}#sk-container-id-3 div.sk-toggleable__content pre {margin: 0.2em;color: black;border-radius: 0.25em;background-color: #f0f8ff;}#sk-container-id-3 input.sk-toggleable__control:checked~div.sk-toggleable__content {max-height: 200px;max-width: 100%;overflow: auto;}#sk-container-id-3 input.sk-toggleable__control:checked~label.sk-toggleable__label-arrow:before {content: \"▾\";}#sk-container-id-3 div.sk-estimator input.sk-toggleable__control:checked~label.sk-toggleable__label {background-color: #d4ebff;}#sk-container-id-3 div.sk-label input.sk-toggleable__control:checked~label.sk-toggleable__label {background-color: #d4ebff;}#sk-container-id-3 input.sk-hidden--visually {border: 0;clip: rect(1px 1px 1px 1px);clip: rect(1px, 1px, 1px, 1px);height: 1px;margin: -1px;overflow: hidden;padding: 0;position: absolute;width: 1px;}#sk-container-id-3 div.sk-estimator {font-family: monospace;background-color: #f0f8ff;border: 1px dotted black;border-radius: 0.25em;box-sizing: border-box;margin-bottom: 0.5em;}#sk-container-id-3 div.sk-estimator:hover {background-color: #d4ebff;}#sk-container-id-3 div.sk-parallel-item::after {content: \"\";width: 100%;border-bottom: 1px solid gray;flex-grow: 1;}#sk-container-id-3 div.sk-label:hover label.sk-toggleable__label {background-color: #d4ebff;}#sk-container-id-3 div.sk-serial::before {content: \"\";position: absolute;border-left: 1px solid gray;box-sizing: border-box;top: 0;bottom: 0;left: 50%;z-index: 0;}#sk-container-id-3 div.sk-serial {display: flex;flex-direction: column;align-items: center;background-color: white;padding-right: 0.2em;padding-left: 0.2em;position: relative;}#sk-container-id-3 div.sk-item {position: relative;z-index: 1;}#sk-container-id-3 div.sk-parallel {display: flex;align-items: stretch;justify-content: center;background-color: white;position: relative;}#sk-container-id-3 div.sk-item::before, #sk-container-id-3 div.sk-parallel-item::before {content: \"\";position: absolute;border-left: 1px solid gray;box-sizing: border-box;top: 0;bottom: 0;left: 50%;z-index: -1;}#sk-container-id-3 div.sk-parallel-item {display: flex;flex-direction: column;z-index: 1;position: relative;background-color: white;}#sk-container-id-3 div.sk-parallel-item:first-child::after {align-self: flex-end;width: 50%;}#sk-container-id-3 div.sk-parallel-item:last-child::after {align-self: flex-start;width: 50%;}#sk-container-id-3 div.sk-parallel-item:only-child::after {width: 0;}#sk-container-id-3 div.sk-dashed-wrapped {border: 1px dashed gray;margin: 0 0.4em 0.5em 0.4em;box-sizing: border-box;padding-bottom: 0.4em;background-color: white;}#sk-container-id-3 div.sk-label label {font-family: monospace;font-weight: bold;display: inline-block;line-height: 1.2em;}#sk-container-id-3 div.sk-label-container {text-align: center;}#sk-container-id-3 div.sk-container {/* jupyter's `normalize.less` sets `[hidden] { display: none; }` but bootstrap.min.css set `[hidden] { display: none !important; }` so we also need the `!important` here to be able to override the default hidden behavior on the sphinx rendered scikit-learn.org. See: https://github.com/scikit-learn/scikit-learn/issues/21755 */display: inline-block !important;position: relative;}#sk-container-id-3 div.sk-text-repr-fallback {display: none;}</style><div id=\"sk-container-id-3\" class=\"sk-top-container\"><div class=\"sk-text-repr-fallback\"><pre>RandomForestClassifier(max_depth=10, random_state=42)</pre><b>In a Jupyter environment, please rerun this cell to show the HTML representation or trust the notebook. <br />On GitHub, the HTML representation is unable to render, please try loading this page with nbviewer.org.</b></div><div class=\"sk-container\" hidden><div class=\"sk-item\"><div class=\"sk-estimator sk-toggleable\"><input class=\"sk-toggleable__control sk-hidden--visually\" id=\"sk-estimator-id-3\" type=\"checkbox\" checked><label for=\"sk-estimator-id-3\" class=\"sk-toggleable__label sk-toggleable__label-arrow\">RandomForestClassifier</label><div class=\"sk-toggleable__content\"><pre>RandomForestClassifier(max_depth=10, random_state=42)</pre></div></div></div></div></div>"
            ]
          },
          "metadata": {},
          "execution_count": 28
        }
      ]
    },
    {
      "cell_type": "code",
      "source": [
        "y_pred = clf.predict(X_test_bow)\n",
        "\n",
        "# Оценка точности модели\n",
        "accuracy_clf_bow = accuracy_score(y_test, y_pred)\n",
        "print(f\"Accuracy: {accuracy_clf_bow:.2f}\")\n",
        "\n",
        "# Вывод отчета о классификации и матрицы ошибок\n",
        "print(classification_report(y_test, y_pred))\n",
        "print(confusion_matrix(y_test, y_pred))"
      ],
      "metadata": {
        "colab": {
          "base_uri": "https://localhost:8080/"
        },
        "id": "0L1Id4vPuwhk",
        "outputId": "209de739-5969-4f64-c92f-3c954f6218bb"
      },
      "execution_count": null,
      "outputs": [
        {
          "output_type": "stream",
          "name": "stdout",
          "text": [
            "Accuracy: 0.89\n",
            "              precision    recall  f1-score   support\n",
            "\n",
            "    negative       0.89      0.88      0.88      4961\n",
            "    positive       0.88      0.89      0.89      5039\n",
            "\n",
            "    accuracy                           0.89     10000\n",
            "   macro avg       0.89      0.89      0.89     10000\n",
            "weighted avg       0.89      0.89      0.89     10000\n",
            "\n",
            "[[4352  609]\n",
            " [ 538 4501]]\n"
          ]
        }
      ]
    },
    {
      "cell_type": "code",
      "source": [
        "y_pred = rfc.predict(X_test_bow)\n",
        "\n",
        "# Оценка точности модели\n",
        "accuracy_rfc_bow = accuracy_score(y_test, y_pred)\n",
        "print(f\"Accuracy: {accuracy_rfc_bow:.2f}\")\n",
        "\n",
        "# Вывод отчета о классификации и матрицы ошибок\n",
        "print(classification_report(y_test, y_pred))\n",
        "print(confusion_matrix(y_test, y_pred))"
      ],
      "metadata": {
        "colab": {
          "base_uri": "https://localhost:8080/"
        },
        "id": "MGufnQIxu0J5",
        "outputId": "ef3a91a5-677d-43d8-8b8a-f179c7aed16d"
      },
      "execution_count": null,
      "outputs": [
        {
          "output_type": "stream",
          "name": "stdout",
          "text": [
            "Accuracy: 0.84\n",
            "              precision    recall  f1-score   support\n",
            "\n",
            "    negative       0.85      0.82      0.83      4961\n",
            "    positive       0.83      0.86      0.84      5039\n",
            "\n",
            "    accuracy                           0.84     10000\n",
            "   macro avg       0.84      0.84      0.84     10000\n",
            "weighted avg       0.84      0.84      0.84     10000\n",
            "\n",
            "[[4046  915]\n",
            " [ 701 4338]]\n"
          ]
        }
      ]
    },
    {
      "cell_type": "markdown",
      "source": [
        "# TF-IDF с n-граммами"
      ],
      "metadata": {
        "id": "HW0TmsvAwsg_"
      }
    },
    {
      "cell_type": "code",
      "source": [
        "from sklearn.feature_extraction.text import TfidfVectorizer\n",
        "\n",
        "tfidf_vectorizer = TfidfVectorizer(ngram_range=(1, 2))\n",
        "X_train_tfidf_bi = tfidf_vectorizer.fit_transform(X_train)\n",
        "X_test_tfidf_bi = tfidf_vectorizer.transform(X_test)"
      ],
      "metadata": {
        "id": "mjU0LD-rvC9U"
      },
      "execution_count": null,
      "outputs": []
    },
    {
      "cell_type": "code",
      "source": [
        "clf = LogisticRegression(max_iter=100)\n",
        "clf.fit(X_train_tfidf_bi, y_train)\n",
        "\n",
        "rfc = RandomForestClassifier(max_depth=10, random_state=42)\n",
        "rfc.fit(X_train_tfidf_bi, y_train)"
      ],
      "metadata": {
        "colab": {
          "base_uri": "https://localhost:8080/",
          "height": 213
        },
        "id": "kAjEpHy_vAfB",
        "outputId": "5afff4ca-59dc-4c70-a6f2-a798ced82e1d"
      },
      "execution_count": null,
      "outputs": [
        {
          "output_type": "stream",
          "name": "stderr",
          "text": [
            "/usr/local/lib/python3.10/dist-packages/sklearn/linear_model/_logistic.py:460: ConvergenceWarning: lbfgs failed to converge (status=1):\n",
            "STOP: TOTAL NO. of ITERATIONS REACHED LIMIT.\n",
            "\n",
            "Increase the number of iterations (max_iter) or scale the data as shown in:\n",
            "    https://scikit-learn.org/stable/modules/preprocessing.html\n",
            "Please also refer to the documentation for alternative solver options:\n",
            "    https://scikit-learn.org/stable/modules/linear_model.html#logistic-regression\n",
            "  n_iter_i = _check_optimize_result(\n"
          ]
        },
        {
          "output_type": "execute_result",
          "data": {
            "text/plain": [
              "RandomForestClassifier(max_depth=10, random_state=42)"
            ],
            "text/html": [
              "<style>#sk-container-id-4 {color: black;}#sk-container-id-4 pre{padding: 0;}#sk-container-id-4 div.sk-toggleable {background-color: white;}#sk-container-id-4 label.sk-toggleable__label {cursor: pointer;display: block;width: 100%;margin-bottom: 0;padding: 0.3em;box-sizing: border-box;text-align: center;}#sk-container-id-4 label.sk-toggleable__label-arrow:before {content: \"▸\";float: left;margin-right: 0.25em;color: #696969;}#sk-container-id-4 label.sk-toggleable__label-arrow:hover:before {color: black;}#sk-container-id-4 div.sk-estimator:hover label.sk-toggleable__label-arrow:before {color: black;}#sk-container-id-4 div.sk-toggleable__content {max-height: 0;max-width: 0;overflow: hidden;text-align: left;background-color: #f0f8ff;}#sk-container-id-4 div.sk-toggleable__content pre {margin: 0.2em;color: black;border-radius: 0.25em;background-color: #f0f8ff;}#sk-container-id-4 input.sk-toggleable__control:checked~div.sk-toggleable__content {max-height: 200px;max-width: 100%;overflow: auto;}#sk-container-id-4 input.sk-toggleable__control:checked~label.sk-toggleable__label-arrow:before {content: \"▾\";}#sk-container-id-4 div.sk-estimator input.sk-toggleable__control:checked~label.sk-toggleable__label {background-color: #d4ebff;}#sk-container-id-4 div.sk-label input.sk-toggleable__control:checked~label.sk-toggleable__label {background-color: #d4ebff;}#sk-container-id-4 input.sk-hidden--visually {border: 0;clip: rect(1px 1px 1px 1px);clip: rect(1px, 1px, 1px, 1px);height: 1px;margin: -1px;overflow: hidden;padding: 0;position: absolute;width: 1px;}#sk-container-id-4 div.sk-estimator {font-family: monospace;background-color: #f0f8ff;border: 1px dotted black;border-radius: 0.25em;box-sizing: border-box;margin-bottom: 0.5em;}#sk-container-id-4 div.sk-estimator:hover {background-color: #d4ebff;}#sk-container-id-4 div.sk-parallel-item::after {content: \"\";width: 100%;border-bottom: 1px solid gray;flex-grow: 1;}#sk-container-id-4 div.sk-label:hover label.sk-toggleable__label {background-color: #d4ebff;}#sk-container-id-4 div.sk-serial::before {content: \"\";position: absolute;border-left: 1px solid gray;box-sizing: border-box;top: 0;bottom: 0;left: 50%;z-index: 0;}#sk-container-id-4 div.sk-serial {display: flex;flex-direction: column;align-items: center;background-color: white;padding-right: 0.2em;padding-left: 0.2em;position: relative;}#sk-container-id-4 div.sk-item {position: relative;z-index: 1;}#sk-container-id-4 div.sk-parallel {display: flex;align-items: stretch;justify-content: center;background-color: white;position: relative;}#sk-container-id-4 div.sk-item::before, #sk-container-id-4 div.sk-parallel-item::before {content: \"\";position: absolute;border-left: 1px solid gray;box-sizing: border-box;top: 0;bottom: 0;left: 50%;z-index: -1;}#sk-container-id-4 div.sk-parallel-item {display: flex;flex-direction: column;z-index: 1;position: relative;background-color: white;}#sk-container-id-4 div.sk-parallel-item:first-child::after {align-self: flex-end;width: 50%;}#sk-container-id-4 div.sk-parallel-item:last-child::after {align-self: flex-start;width: 50%;}#sk-container-id-4 div.sk-parallel-item:only-child::after {width: 0;}#sk-container-id-4 div.sk-dashed-wrapped {border: 1px dashed gray;margin: 0 0.4em 0.5em 0.4em;box-sizing: border-box;padding-bottom: 0.4em;background-color: white;}#sk-container-id-4 div.sk-label label {font-family: monospace;font-weight: bold;display: inline-block;line-height: 1.2em;}#sk-container-id-4 div.sk-label-container {text-align: center;}#sk-container-id-4 div.sk-container {/* jupyter's `normalize.less` sets `[hidden] { display: none; }` but bootstrap.min.css set `[hidden] { display: none !important; }` so we also need the `!important` here to be able to override the default hidden behavior on the sphinx rendered scikit-learn.org. See: https://github.com/scikit-learn/scikit-learn/issues/21755 */display: inline-block !important;position: relative;}#sk-container-id-4 div.sk-text-repr-fallback {display: none;}</style><div id=\"sk-container-id-4\" class=\"sk-top-container\"><div class=\"sk-text-repr-fallback\"><pre>RandomForestClassifier(max_depth=10, random_state=42)</pre><b>In a Jupyter environment, please rerun this cell to show the HTML representation or trust the notebook. <br />On GitHub, the HTML representation is unable to render, please try loading this page with nbviewer.org.</b></div><div class=\"sk-container\" hidden><div class=\"sk-item\"><div class=\"sk-estimator sk-toggleable\"><input class=\"sk-toggleable__control sk-hidden--visually\" id=\"sk-estimator-id-4\" type=\"checkbox\" checked><label for=\"sk-estimator-id-4\" class=\"sk-toggleable__label sk-toggleable__label-arrow\">RandomForestClassifier</label><div class=\"sk-toggleable__content\"><pre>RandomForestClassifier(max_depth=10, random_state=42)</pre></div></div></div></div></div>"
            ]
          },
          "metadata": {},
          "execution_count": 32
        }
      ]
    },
    {
      "cell_type": "code",
      "source": [
        "y_pred = clf.predict(X_test_tfidf_bi)\n",
        "\n",
        "# Оценка точности модели\n",
        "accuracy_clf_bi = accuracy_score(y_test, y_pred)\n",
        "print(f\"Accuracy: {accuracy_clf_bi:.2f}\")\n",
        "\n",
        "# Вывод отчета о классификации и матрицы ошибок\n",
        "print(classification_report(y_test, y_pred))\n",
        "print(confusion_matrix(y_test, y_pred))\n",
        "\n",
        "\n",
        "y_pred = rfc.predict(X_test_tfidf_bi)\n",
        "\n",
        "# Оценка точности модели\n",
        "accuracy_rfc_bi = accuracy_score(y_test, y_pred)\n",
        "print(f\"Accuracy: {accuracy_rfc_bi:.2f}\")\n",
        "\n",
        "# Вывод отчета о классификации и матрицы ошибок\n",
        "print(classification_report(y_test, y_pred))\n",
        "print(confusion_matrix(y_test, y_pred))"
      ],
      "metadata": {
        "colab": {
          "base_uri": "https://localhost:8080/"
        },
        "id": "CLad6ryvv354",
        "outputId": "a86bb999-686e-4f25-c29a-428bbe260421"
      },
      "execution_count": null,
      "outputs": [
        {
          "output_type": "stream",
          "name": "stdout",
          "text": [
            "Accuracy: 0.89\n",
            "              precision    recall  f1-score   support\n",
            "\n",
            "    negative       0.91      0.87      0.89      4961\n",
            "    positive       0.88      0.91      0.90      5039\n",
            "\n",
            "    accuracy                           0.89     10000\n",
            "   macro avg       0.89      0.89      0.89     10000\n",
            "weighted avg       0.89      0.89      0.89     10000\n",
            "\n",
            "[[4329  632]\n",
            " [ 444 4595]]\n",
            "Accuracy: 0.82\n",
            "              precision    recall  f1-score   support\n",
            "\n",
            "    negative       0.83      0.80      0.81      4961\n",
            "    positive       0.81      0.83      0.82      5039\n",
            "\n",
            "    accuracy                           0.82     10000\n",
            "   macro avg       0.82      0.82      0.82     10000\n",
            "weighted avg       0.82      0.82      0.82     10000\n",
            "\n",
            "[[3968  993]\n",
            " [ 839 4200]]\n"
          ]
        }
      ]
    },
    {
      "cell_type": "markdown",
      "source": [
        "# FastText"
      ],
      "metadata": {
        "id": "Ov-w8rnWw4gs"
      }
    },
    {
      "cell_type": "code",
      "source": [
        "from gensim.models import FastText\n",
        "\n",
        "model_fasttext = FastText(data['lemma_no_stop'].apply(lambda x: x.split()), vector_size=100, window=5, min_count=1)\n",
        "\n",
        "def get_vector_fasttext(sentence):\n",
        "    words = sentence.split()\n",
        "    vectors = [model_fasttext.wv[word] for word in words if word in model_fasttext.wv]\n",
        "    return np.mean(vectors, axis=0) if vectors else np.zeros(100)\n",
        "\n",
        "X_train_fasttext = np.array([get_vector_fasttext(sentence) for sentence in X_train])\n",
        "X_test_fasttext = np.array([get_vector_fasttext(sentence) for sentence in X_test])"
      ],
      "metadata": {
        "id": "NI4ivz8BwnkJ"
      },
      "execution_count": null,
      "outputs": []
    },
    {
      "cell_type": "code",
      "source": [
        "clf = LogisticRegression(max_iter=100)\n",
        "clf.fit(X_train_fasttext, y_train)\n",
        "\n",
        "rfc = RandomForestClassifier(max_depth=10, random_state=42)\n",
        "rfc.fit(X_train_fasttext, y_train)\n",
        "\n",
        "\n",
        "y_pred = clf.predict(X_test_fasttext)\n",
        "\n",
        "# Оценка точности модели\n",
        "accuracy_clf_fasttext = accuracy_score(y_test, y_pred)\n",
        "print(f\"Accuracy: {accuracy_clf_fasttext:.2f}\")\n",
        "\n",
        "# Вывод отчета о классификации и матрицы ошибок\n",
        "print(classification_report(y_test, y_pred))\n",
        "print(confusion_matrix(y_test, y_pred))\n",
        "\n",
        "\n",
        "y_pred = rfc.predict(X_test_fasttext)\n",
        "\n",
        "# Оценка точности модели\n",
        "accuracy_rfc_fasttext = accuracy_score(y_test, y_pred)\n",
        "print(f\"Accuracy: {accuracy_rfc_fasttext:.2f}\")\n",
        "\n",
        "# Вывод отчета о классификации и матрицы ошибок\n",
        "print(classification_report(y_test, y_pred))\n",
        "print(confusion_matrix(y_test, y_pred))"
      ],
      "metadata": {
        "colab": {
          "base_uri": "https://localhost:8080/"
        },
        "id": "a6t-6uvmw8dY",
        "outputId": "3c315501-cd65-4e33-9efa-ab080a1d2743"
      },
      "execution_count": null,
      "outputs": [
        {
          "output_type": "stream",
          "name": "stderr",
          "text": [
            "/usr/local/lib/python3.10/dist-packages/sklearn/linear_model/_logistic.py:460: ConvergenceWarning: lbfgs failed to converge (status=1):\n",
            "STOP: TOTAL NO. of ITERATIONS REACHED LIMIT.\n",
            "\n",
            "Increase the number of iterations (max_iter) or scale the data as shown in:\n",
            "    https://scikit-learn.org/stable/modules/preprocessing.html\n",
            "Please also refer to the documentation for alternative solver options:\n",
            "    https://scikit-learn.org/stable/modules/linear_model.html#logistic-regression\n",
            "  n_iter_i = _check_optimize_result(\n"
          ]
        },
        {
          "output_type": "stream",
          "name": "stdout",
          "text": [
            "Accuracy: 0.84\n",
            "              precision    recall  f1-score   support\n",
            "\n",
            "    negative       0.84      0.83      0.83      4961\n",
            "    positive       0.83      0.84      0.84      5039\n",
            "\n",
            "    accuracy                           0.84     10000\n",
            "   macro avg       0.84      0.84      0.84     10000\n",
            "weighted avg       0.84      0.84      0.84     10000\n",
            "\n",
            "[[4118  843]\n",
            " [ 791 4248]]\n",
            "Accuracy: 0.74\n",
            "              precision    recall  f1-score   support\n",
            "\n",
            "    negative       0.74      0.76      0.75      4961\n",
            "    positive       0.75      0.73      0.74      5039\n",
            "\n",
            "    accuracy                           0.74     10000\n",
            "   macro avg       0.74      0.74      0.74     10000\n",
            "weighted avg       0.74      0.74      0.74     10000\n",
            "\n",
            "[[3755 1206]\n",
            " [1347 3692]]\n"
          ]
        }
      ]
    },
    {
      "cell_type": "markdown",
      "source": [
        "# Universal Sentence Encoder (недостаточно оперативки)"
      ],
      "metadata": {
        "id": "qbJX75bbxVui"
      }
    },
    {
      "cell_type": "code",
      "source": [
        "import tensorflow_hub as hub\n",
        "import numpy as np\n",
        "\n",
        "embed = hub.load(\"https://tfhub.dev/google/universal-sentence-encoder/4\")\n",
        "\n",
        "def embed_in_batches(texts, batch_size=1000):\n",
        "    embeddings = []\n",
        "    for i in range(0, len(texts), batch_size):\n",
        "        batch_embeddings = embed(texts[i: i + batch_size]).numpy()\n",
        "        embeddings.append(batch_embeddings)\n",
        "    return np.concatenate(embeddings, axis=0)\n",
        "\n",
        "X_train_use = embed_in_batches(X_train.tolist())\n",
        "X_test_use = embed_in_batches(X_test.tolist())"
      ],
      "metadata": {
        "id": "2PlCNoq3xVBx"
      },
      "execution_count": null,
      "outputs": []
    },
    {
      "cell_type": "code",
      "source": [
        "from sklearn.ensemble import RandomForestClassifier\n",
        "\n",
        "clf = LogisticRegression(max_iter=100)\n",
        "clf.fit(X_train_use, y_train)\n",
        "\n",
        "rfc = RandomForestClassifier(max_depth=10, random_state=42)\n",
        "rfc.fit(X_train_use, y_train)\n",
        "\n",
        "\n",
        "y_pred = clf.predict(X_test_use)\n",
        "\n",
        "# Оценка точности модели\n",
        "accuracy_clf_use = accuracy_score(y_test, y_pred)\n",
        "print(f\"Accuracy: {accuracy_clf_use:.2f}\")\n",
        "\n",
        "# Вывод отчета о классификации и матрицы ошибок\n",
        "print(classification_report(y_test, y_pred))\n",
        "print(confusion_matrix(y_test, y_pred))\n",
        "\n",
        "\n",
        "y_pred = rfc.predict(X_test_use)\n",
        "\n",
        "# Оценка точности модели\n",
        "accuracy_rfc_use = accuracy_score(y_test, y_pred)\n",
        "print(f\"Accuracy: {accuracy_rfc_use:.2f}\")\n",
        "\n",
        "# Вывод отчета о классификации и матрицы ошибок\n",
        "print(classification_report(y_test, y_pred))\n",
        "print(confusion_matrix(y_test, y_pred))"
      ],
      "metadata": {
        "colab": {
          "base_uri": "https://localhost:8080/"
        },
        "id": "2M_6IPn5yZjY",
        "outputId": "e4feed43-8f70-4859-ccd3-49b135e119c2"
      },
      "execution_count": null,
      "outputs": [
        {
          "output_type": "stream",
          "name": "stderr",
          "text": [
            "/usr/local/lib/python3.10/dist-packages/sklearn/linear_model/_logistic.py:460: ConvergenceWarning: lbfgs failed to converge (status=1):\n",
            "STOP: TOTAL NO. of ITERATIONS REACHED LIMIT.\n",
            "\n",
            "Increase the number of iterations (max_iter) or scale the data as shown in:\n",
            "    https://scikit-learn.org/stable/modules/preprocessing.html\n",
            "Please also refer to the documentation for alternative solver options:\n",
            "    https://scikit-learn.org/stable/modules/linear_model.html#logistic-regression\n",
            "  n_iter_i = _check_optimize_result(\n"
          ]
        },
        {
          "output_type": "stream",
          "name": "stdout",
          "text": [
            "Accuracy: 0.83\n",
            "              precision    recall  f1-score   support\n",
            "\n",
            "    negative       0.83      0.84      0.83      4961\n",
            "    positive       0.84      0.83      0.83      5039\n",
            "\n",
            "    accuracy                           0.83     10000\n",
            "   macro avg       0.83      0.83      0.83     10000\n",
            "weighted avg       0.83      0.83      0.83     10000\n",
            "\n",
            "[[4144  817]\n",
            " [ 842 4197]]\n",
            "Accuracy: 0.81\n",
            "              precision    recall  f1-score   support\n",
            "\n",
            "    negative       0.80      0.81      0.81      4961\n",
            "    positive       0.81      0.81      0.81      5039\n",
            "\n",
            "    accuracy                           0.81     10000\n",
            "   macro avg       0.81      0.81      0.81     10000\n",
            "weighted avg       0.81      0.81      0.81     10000\n",
            "\n",
            "[[4027  934]\n",
            " [ 981 4058]]\n"
          ]
        }
      ]
    },
    {
      "cell_type": "code",
      "source": [
        "dl_compare_with_mech = {\n",
        "        'TF-IDF': [accuracy_clf_tfidf, accuracy_rfc_tfidf],\n",
        "        'Word2Vec': [accuracy_clf_w2v, accuracy_rfc_w2v],\n",
        "        'Bag of Words': [accuracy_clf_bow, accuracy_rfc_bow],\n",
        "        'TF-IDF с n-граммами': [accuracy_clf_bi, accuracy_rfc_bi],\n",
        "        'FastText': [accuracy_clf_fasttext, accuracy_rfc_fasttext],\n",
        "        'Universal Sentence Encoder': [accuracy_clf_use, accuracy_rfc_use]\n",
        "            }\n",
        "dl_compare_with_mech = pd.DataFrame(dl_compare_with_mech,index=['Logistic Regression','RandomForestClassifier'])\n",
        "dl_compare_with_mech.head()"
      ],
      "metadata": {
        "colab": {
          "base_uri": "https://localhost:8080/",
          "height": 112
        },
        "id": "VaPVdLFR7K37",
        "outputId": "5575cc93-140e-46d7-e20e-ca55e742aac3"
      },
      "execution_count": null,
      "outputs": [
        {
          "output_type": "execute_result",
          "data": {
            "text/plain": [
              "                        TF-IDF  Word2Vec  Bag of Words  TF-IDF с n-граммами  \\\n",
              "Logistic Regression     0.8958    0.8544        0.8853               0.8924   \n",
              "RandomForestClassifier  0.8311    0.7969        0.8384               0.8168   \n",
              "\n",
              "                        FastText  Universal Sentence Encoder  \n",
              "Logistic Regression       0.8366                      0.8341  \n",
              "RandomForestClassifier    0.7447                      0.8085  "
            ],
            "text/html": [
              "\n",
              "  <div id=\"df-37600acb-03a4-44ce-9912-afab4125c488\" class=\"colab-df-container\">\n",
              "    <div>\n",
              "<style scoped>\n",
              "    .dataframe tbody tr th:only-of-type {\n",
              "        vertical-align: middle;\n",
              "    }\n",
              "\n",
              "    .dataframe tbody tr th {\n",
              "        vertical-align: top;\n",
              "    }\n",
              "\n",
              "    .dataframe thead th {\n",
              "        text-align: right;\n",
              "    }\n",
              "</style>\n",
              "<table border=\"1\" class=\"dataframe\">\n",
              "  <thead>\n",
              "    <tr style=\"text-align: right;\">\n",
              "      <th></th>\n",
              "      <th>TF-IDF</th>\n",
              "      <th>Word2Vec</th>\n",
              "      <th>Bag of Words</th>\n",
              "      <th>TF-IDF с n-граммами</th>\n",
              "      <th>FastText</th>\n",
              "      <th>Universal Sentence Encoder</th>\n",
              "    </tr>\n",
              "  </thead>\n",
              "  <tbody>\n",
              "    <tr>\n",
              "      <th>Logistic Regression</th>\n",
              "      <td>0.8958</td>\n",
              "      <td>0.8544</td>\n",
              "      <td>0.8853</td>\n",
              "      <td>0.8924</td>\n",
              "      <td>0.8366</td>\n",
              "      <td>0.8341</td>\n",
              "    </tr>\n",
              "    <tr>\n",
              "      <th>RandomForestClassifier</th>\n",
              "      <td>0.8311</td>\n",
              "      <td>0.7969</td>\n",
              "      <td>0.8384</td>\n",
              "      <td>0.8168</td>\n",
              "      <td>0.7447</td>\n",
              "      <td>0.8085</td>\n",
              "    </tr>\n",
              "  </tbody>\n",
              "</table>\n",
              "</div>\n",
              "    <div class=\"colab-df-buttons\">\n",
              "\n",
              "  <div class=\"colab-df-container\">\n",
              "    <button class=\"colab-df-convert\" onclick=\"convertToInteractive('df-37600acb-03a4-44ce-9912-afab4125c488')\"\n",
              "            title=\"Convert this dataframe to an interactive table.\"\n",
              "            style=\"display:none;\">\n",
              "\n",
              "  <svg xmlns=\"http://www.w3.org/2000/svg\" height=\"24px\" viewBox=\"0 -960 960 960\">\n",
              "    <path d=\"M120-120v-720h720v720H120Zm60-500h600v-160H180v160Zm220 220h160v-160H400v160Zm0 220h160v-160H400v160ZM180-400h160v-160H180v160Zm440 0h160v-160H620v160ZM180-180h160v-160H180v160Zm440 0h160v-160H620v160Z\"/>\n",
              "  </svg>\n",
              "    </button>\n",
              "\n",
              "  <style>\n",
              "    .colab-df-container {\n",
              "      display:flex;\n",
              "      gap: 12px;\n",
              "    }\n",
              "\n",
              "    .colab-df-convert {\n",
              "      background-color: #E8F0FE;\n",
              "      border: none;\n",
              "      border-radius: 50%;\n",
              "      cursor: pointer;\n",
              "      display: none;\n",
              "      fill: #1967D2;\n",
              "      height: 32px;\n",
              "      padding: 0 0 0 0;\n",
              "      width: 32px;\n",
              "    }\n",
              "\n",
              "    .colab-df-convert:hover {\n",
              "      background-color: #E2EBFA;\n",
              "      box-shadow: 0px 1px 2px rgba(60, 64, 67, 0.3), 0px 1px 3px 1px rgba(60, 64, 67, 0.15);\n",
              "      fill: #174EA6;\n",
              "    }\n",
              "\n",
              "    .colab-df-buttons div {\n",
              "      margin-bottom: 4px;\n",
              "    }\n",
              "\n",
              "    [theme=dark] .colab-df-convert {\n",
              "      background-color: #3B4455;\n",
              "      fill: #D2E3FC;\n",
              "    }\n",
              "\n",
              "    [theme=dark] .colab-df-convert:hover {\n",
              "      background-color: #434B5C;\n",
              "      box-shadow: 0px 1px 3px 1px rgba(0, 0, 0, 0.15);\n",
              "      filter: drop-shadow(0px 1px 2px rgba(0, 0, 0, 0.3));\n",
              "      fill: #FFFFFF;\n",
              "    }\n",
              "  </style>\n",
              "\n",
              "    <script>\n",
              "      const buttonEl =\n",
              "        document.querySelector('#df-37600acb-03a4-44ce-9912-afab4125c488 button.colab-df-convert');\n",
              "      buttonEl.style.display =\n",
              "        google.colab.kernel.accessAllowed ? 'block' : 'none';\n",
              "\n",
              "      async function convertToInteractive(key) {\n",
              "        const element = document.querySelector('#df-37600acb-03a4-44ce-9912-afab4125c488');\n",
              "        const dataTable =\n",
              "          await google.colab.kernel.invokeFunction('convertToInteractive',\n",
              "                                                    [key], {});\n",
              "        if (!dataTable) return;\n",
              "\n",
              "        const docLinkHtml = 'Like what you see? Visit the ' +\n",
              "          '<a target=\"_blank\" href=https://colab.research.google.com/notebooks/data_table.ipynb>data table notebook</a>'\n",
              "          + ' to learn more about interactive tables.';\n",
              "        element.innerHTML = '';\n",
              "        dataTable['output_type'] = 'display_data';\n",
              "        await google.colab.output.renderOutput(dataTable, element);\n",
              "        const docLink = document.createElement('div');\n",
              "        docLink.innerHTML = docLinkHtml;\n",
              "        element.appendChild(docLink);\n",
              "      }\n",
              "    </script>\n",
              "  </div>\n",
              "\n",
              "\n",
              "<div id=\"df-a3a8362c-0c9a-4b87-8165-76d083996fad\">\n",
              "  <button class=\"colab-df-quickchart\" onclick=\"quickchart('df-a3a8362c-0c9a-4b87-8165-76d083996fad')\"\n",
              "            title=\"Suggest charts\"\n",
              "            style=\"display:none;\">\n",
              "\n",
              "<svg xmlns=\"http://www.w3.org/2000/svg\" height=\"24px\"viewBox=\"0 0 24 24\"\n",
              "     width=\"24px\">\n",
              "    <g>\n",
              "        <path d=\"M19 3H5c-1.1 0-2 .9-2 2v14c0 1.1.9 2 2 2h14c1.1 0 2-.9 2-2V5c0-1.1-.9-2-2-2zM9 17H7v-7h2v7zm4 0h-2V7h2v10zm4 0h-2v-4h2v4z\"/>\n",
              "    </g>\n",
              "</svg>\n",
              "  </button>\n",
              "\n",
              "<style>\n",
              "  .colab-df-quickchart {\n",
              "      --bg-color: #E8F0FE;\n",
              "      --fill-color: #1967D2;\n",
              "      --hover-bg-color: #E2EBFA;\n",
              "      --hover-fill-color: #174EA6;\n",
              "      --disabled-fill-color: #AAA;\n",
              "      --disabled-bg-color: #DDD;\n",
              "  }\n",
              "\n",
              "  [theme=dark] .colab-df-quickchart {\n",
              "      --bg-color: #3B4455;\n",
              "      --fill-color: #D2E3FC;\n",
              "      --hover-bg-color: #434B5C;\n",
              "      --hover-fill-color: #FFFFFF;\n",
              "      --disabled-bg-color: #3B4455;\n",
              "      --disabled-fill-color: #666;\n",
              "  }\n",
              "\n",
              "  .colab-df-quickchart {\n",
              "    background-color: var(--bg-color);\n",
              "    border: none;\n",
              "    border-radius: 50%;\n",
              "    cursor: pointer;\n",
              "    display: none;\n",
              "    fill: var(--fill-color);\n",
              "    height: 32px;\n",
              "    padding: 0;\n",
              "    width: 32px;\n",
              "  }\n",
              "\n",
              "  .colab-df-quickchart:hover {\n",
              "    background-color: var(--hover-bg-color);\n",
              "    box-shadow: 0 1px 2px rgba(60, 64, 67, 0.3), 0 1px 3px 1px rgba(60, 64, 67, 0.15);\n",
              "    fill: var(--button-hover-fill-color);\n",
              "  }\n",
              "\n",
              "  .colab-df-quickchart-complete:disabled,\n",
              "  .colab-df-quickchart-complete:disabled:hover {\n",
              "    background-color: var(--disabled-bg-color);\n",
              "    fill: var(--disabled-fill-color);\n",
              "    box-shadow: none;\n",
              "  }\n",
              "\n",
              "  .colab-df-spinner {\n",
              "    border: 2px solid var(--fill-color);\n",
              "    border-color: transparent;\n",
              "    border-bottom-color: var(--fill-color);\n",
              "    animation:\n",
              "      spin 1s steps(1) infinite;\n",
              "  }\n",
              "\n",
              "  @keyframes spin {\n",
              "    0% {\n",
              "      border-color: transparent;\n",
              "      border-bottom-color: var(--fill-color);\n",
              "      border-left-color: var(--fill-color);\n",
              "    }\n",
              "    20% {\n",
              "      border-color: transparent;\n",
              "      border-left-color: var(--fill-color);\n",
              "      border-top-color: var(--fill-color);\n",
              "    }\n",
              "    30% {\n",
              "      border-color: transparent;\n",
              "      border-left-color: var(--fill-color);\n",
              "      border-top-color: var(--fill-color);\n",
              "      border-right-color: var(--fill-color);\n",
              "    }\n",
              "    40% {\n",
              "      border-color: transparent;\n",
              "      border-right-color: var(--fill-color);\n",
              "      border-top-color: var(--fill-color);\n",
              "    }\n",
              "    60% {\n",
              "      border-color: transparent;\n",
              "      border-right-color: var(--fill-color);\n",
              "    }\n",
              "    80% {\n",
              "      border-color: transparent;\n",
              "      border-right-color: var(--fill-color);\n",
              "      border-bottom-color: var(--fill-color);\n",
              "    }\n",
              "    90% {\n",
              "      border-color: transparent;\n",
              "      border-bottom-color: var(--fill-color);\n",
              "    }\n",
              "  }\n",
              "</style>\n",
              "\n",
              "  <script>\n",
              "    async function quickchart(key) {\n",
              "      const quickchartButtonEl =\n",
              "        document.querySelector('#' + key + ' button');\n",
              "      quickchartButtonEl.disabled = true;  // To prevent multiple clicks.\n",
              "      quickchartButtonEl.classList.add('colab-df-spinner');\n",
              "      try {\n",
              "        const charts = await google.colab.kernel.invokeFunction(\n",
              "            'suggestCharts', [key], {});\n",
              "      } catch (error) {\n",
              "        console.error('Error during call to suggestCharts:', error);\n",
              "      }\n",
              "      quickchartButtonEl.classList.remove('colab-df-spinner');\n",
              "      quickchartButtonEl.classList.add('colab-df-quickchart-complete');\n",
              "    }\n",
              "    (() => {\n",
              "      let quickchartButtonEl =\n",
              "        document.querySelector('#df-a3a8362c-0c9a-4b87-8165-76d083996fad button');\n",
              "      quickchartButtonEl.style.display =\n",
              "        google.colab.kernel.accessAllowed ? 'block' : 'none';\n",
              "    })();\n",
              "  </script>\n",
              "</div>\n",
              "\n",
              "    </div>\n",
              "  </div>\n"
            ],
            "application/vnd.google.colaboratory.intrinsic+json": {
              "type": "dataframe",
              "variable_name": "dl_compare_with_mech",
              "summary": "{\n  \"name\": \"dl_compare_with_mech\",\n  \"rows\": 2,\n  \"fields\": [\n    {\n      \"column\": \"TF-IDF\",\n      \"properties\": {\n        \"dtype\": \"number\",\n        \"std\": 0.04574980874276969,\n        \"min\": 0.8311,\n        \"max\": 0.8958,\n        \"num_unique_values\": 2,\n        \"samples\": [\n          0.8311,\n          0.8958\n        ],\n        \"semantic_type\": \"\",\n        \"description\": \"\"\n      }\n    },\n    {\n      \"column\": \"Word2Vec\",\n      \"properties\": {\n        \"dtype\": \"number\",\n        \"std\": 0.04065863991822648,\n        \"min\": 0.7969,\n        \"max\": 0.8544,\n        \"num_unique_values\": 2,\n        \"samples\": [\n          0.7969,\n          0.8544\n        ],\n        \"semantic_type\": \"\",\n        \"description\": \"\"\n      }\n    },\n    {\n      \"column\": \"Bag of Words\",\n      \"properties\": {\n        \"dtype\": \"number\",\n        \"std\": 0.03316330803764904,\n        \"min\": 0.8384,\n        \"max\": 0.8853,\n        \"num_unique_values\": 2,\n        \"samples\": [\n          0.8384,\n          0.8853\n        ],\n        \"semantic_type\": \"\",\n        \"description\": \"\"\n      }\n    },\n    {\n      \"column\": \"TF-IDF \\u0441 n-\\u0433\\u0440\\u0430\\u043c\\u043c\\u0430\\u043c\\u0438\",\n      \"properties\": {\n        \"dtype\": \"number\",\n        \"std\": 0.053457272657702996,\n        \"min\": 0.8168,\n        \"max\": 0.8924,\n        \"num_unique_values\": 2,\n        \"samples\": [\n          0.8168,\n          0.8924\n        ],\n        \"semantic_type\": \"\",\n        \"description\": \"\"\n      }\n    },\n    {\n      \"column\": \"FastText\",\n      \"properties\": {\n        \"dtype\": \"number\",\n        \"std\": 0.0649831131910437,\n        \"min\": 0.7447,\n        \"max\": 0.8366,\n        \"num_unique_values\": 2,\n        \"samples\": [\n          0.7447,\n          0.8366\n        ],\n        \"semantic_type\": \"\",\n        \"description\": \"\"\n      }\n    },\n    {\n      \"column\": \"Universal Sentence Encoder\",\n      \"properties\": {\n        \"dtype\": \"number\",\n        \"std\": 0.018101933598375586,\n        \"min\": 0.8085,\n        \"max\": 0.8341,\n        \"num_unique_values\": 2,\n        \"samples\": [\n          0.8085,\n          0.8341\n        ],\n        \"semantic_type\": \"\",\n        \"description\": \"\"\n      }\n    }\n  ]\n}"
            }
          },
          "metadata": {},
          "execution_count": 38
        }
      ]
    },
    {
      "cell_type": "markdown",
      "source": [
        "# SPAM FILTER"
      ],
      "metadata": {
        "id": "8ZqmsVW0CNXP"
      }
    },
    {
      "cell_type": "code",
      "source": [
        "import os\n",
        "import tarfile\n",
        "import urllib.request\n",
        "import re\n",
        "import numpy as np\n",
        "import nltk\n",
        "from bs4 import BeautifulSoup\n",
        "from sklearn.feature_extraction.text import CountVectorizer\n",
        "from sklearn.model_selection import train_test_split, cross_val_score\n",
        "from sklearn.ensemble import RandomForestClassifier\n",
        "from sklearn.metrics import accuracy_score, classification_report, confusion_matrix\n",
        "from nltk.corpus import stopwords\n",
        "from nltk.tokenize import word_tokenize\n",
        "from nltk.stem import WordNetLemmatizer\n",
        "import optuna"
      ],
      "metadata": {
        "id": "nRXs1PdPCqQY"
      },
      "execution_count": 69,
      "outputs": []
    },
    {
      "cell_type": "code",
      "source": [
        "class SpamClassifier():\n",
        "  def __init__(self, download_ham, download_spam, download_dir):\n",
        "    self.download_ham = download_ham\n",
        "    self.download_spam = download_spam\n",
        "    self.download_dir = download_dir\n",
        "    self.ham_dir = os.path.join(download_dir, 'ham')\n",
        "    self.spam_dir = os.path.join(download_dir, 'spam')\n",
        "    self.stop_words = set(stopwords.words('english'))\n",
        "    self.lemmatizer = WordNetLemmatizer()\n",
        "    self.vectorizer = CountVectorizer(stop_words='english')\n",
        "    self.rfc_model = None\n",
        "    self.tfidf_transformer = TfidfTransformer()\n",
        "\n",
        "  def download_and_extract(self, url, extract_path):\n",
        "    archive_name = os.path.join(extract_path, url.split('/')[-1])\n",
        "    urllib.request.urlretrieve(url, archive_name)\n",
        "    with tarfile.open(archive_name, \"r:bz2\") as tar:\n",
        "        tar.extractall(path=extract_path)\n",
        "    os.remove(archive_name)\n",
        "\n",
        "  def setup_data(self):\n",
        "    os.makedirs(self.ham_dir, exist_ok=True)\n",
        "    for url in self.download_ham:\n",
        "        self.download_and_extract(url, self.ham_dir)\n",
        "\n",
        "    os.makedirs(self.spam_dir, exist_ok=True)\n",
        "    for url in self.download_spam:\n",
        "        self.download_and_extract(url, self.spam_dir)\n",
        "\n",
        "  def get_data(self, path):\n",
        "    data = []\n",
        "    for root, dirs, files in os.walk(path):\n",
        "        for file in files:\n",
        "            file_path = os.path.join(root, file)\n",
        "            if os.path.isfile(file_path):\n",
        "                with open(file_path, encoding=\"ISO-8859-1\") as f:\n",
        "                    words_list = f.read()\n",
        "                    data.append(words_list)\n",
        "    return data\n",
        "\n",
        "  def preprocess_email(self, email):\n",
        "    email = BeautifulSoup(email, \"html.parser\").get_text()\n",
        "    email = re.sub(r'^(From|To|Subject|Date|Return-Path|Received|Message-Id|X-\\w+):.*', '', email, flags=re.MULTILINE)\n",
        "    email = email.lower()\n",
        "    email = re.sub(r'http\\S+|www\\S+|https\\S+', '', email, flags=re.MULTILINE)\n",
        "    email = re.sub(r'\\S+@\\S+', '', email)\n",
        "    email = re.sub(r'[^a-z\\s]', '', email)\n",
        "    words = word_tokenize(email)\n",
        "    words = [lemmatizer.lemmatize(word) for word in words if word not in stop_words]\n",
        "    return ' '.join(words)\n",
        "\n",
        "  def prepare_data(self):\n",
        "    ham_data = self.get_data(self.ham_dir)\n",
        "    spam_data = self.get_data(self.spam_dir)\n",
        "    np.random.shuffle(ham_data)\n",
        "    np.random.shuffle(spam_data)\n",
        "\n",
        "    processed_ham_data = [self.preprocess_email(email) for email in ham_data]\n",
        "    processed_spam_data = [self.preprocess_email(email) for email in spam_data]\n",
        "\n",
        "    y = len(processed_ham_data)*[0] + len(processed_spam_data)*[1]\n",
        "    X = processed_ham_data + processed_spam_data\n",
        "\n",
        "    X_train, X_test, y_train, y_test = train_test_split(X, y, stratify=y, random_state=42, test_size=0.2)\n",
        "\n",
        "    X_train_counts = self.vectorizer.fit_transform(X_train)\n",
        "    X_train_tfidf = self.tfidf_transformer.fit_transform(X_train_counts).toarray()\n",
        "\n",
        "    X_test_counts = self.vectorizer.transform(X_test)\n",
        "    X_test_tfidf = self.tfidf_transformer.transform(X_test_counts).toarray()\n",
        "\n",
        "    return X_train_tfidf, X_test_tfidf, y_train, y_test\n",
        "\n",
        "  def optimize_hyperparameters(self, n_trials=50):\n",
        "        def objective(trial):\n",
        "            n_estimators = trial.suggest_int('n_estimators', 100, 1500)\n",
        "            max_depth = trial.suggest_int('max_depth', 10, 50)\n",
        "            min_samples_split = trial.suggest_int('min_samples_split', 2, 10)\n",
        "            min_samples_leaf = trial.suggest_int('min_samples_leaf', 1, 4)\n",
        "\n",
        "            model = RandomForestClassifier(\n",
        "                n_estimators=n_estimators,\n",
        "                max_depth=max_depth,\n",
        "                min_samples_split=min_samples_split,\n",
        "                min_samples_leaf=min_samples_leaf,\n",
        "                random_state=42\n",
        "            )\n",
        "\n",
        "            X_train, _, y_train, _ = self.prepare_data()\n",
        "            scores = cross_val_score(model, X_train, y_train, cv=3, scoring='accuracy')\n",
        "            return scores.mean()\n",
        "\n",
        "        study = optuna.create_study(direction='maximize')\n",
        "        study.optimize(objective, n_trials=n_trials)\n",
        "        print(\"Best hyperparameters:\", study.best_params)\n",
        "        self.rfc_model = RandomForestClassifier(**study.best_params, random_state=42)\n",
        "\n",
        "  def train_and_evaluate(self):\n",
        "    if self.rfc_model is None:\n",
        "            self.rfc_model = RandomForestClassifier(n_estimators=1200)\n",
        "    X_train, X_test, y_train, y_test = self.prepare_data()\n",
        "    self.rfc_model.fit(X_train, y_train)\n",
        "    y_pred = self.rfc_model.predict(X_test)\n",
        "\n",
        "    accuracy = accuracy_score(y_test, y_pred)\n",
        "    print(f\"Accuracy: {accuracy:.2f}\")\n",
        "    print(classification_report(y_test, y_pred))\n",
        "    print(confusion_matrix(y_test, y_pred))"
      ],
      "metadata": {
        "id": "bptOs0OYPGM9"
      },
      "execution_count": 70,
      "outputs": []
    },
    {
      "cell_type": "code",
      "source": [
        "DOWNLOAD_HAM = [\n",
        "    \"https://spamassassin.apache.org/old/publiccorpus/20030228_easy_ham.tar.bz2\",\n",
        "    \"https://spamassassin.apache.org/old/publiccorpus/20030228_easy_ham_2.tar.bz2\",\n",
        "    \"https://spamassassin.apache.org/old/publiccorpus/20030228_hard_ham.tar.bz2\"\n",
        "]\n",
        "\n",
        "DOWNLOAD_SPAM = [\n",
        "    \"https://spamassassin.apache.org/old/publiccorpus/20050311_spam_2.tar.bz2\",\n",
        "    \"https://spamassassin.apache.org/old/publiccorpus/20030228_spam.tar.bz2\"\n",
        "]\n",
        "\n",
        "DOWNLOAD_DIR = '/content/spam_data'\n",
        "\n",
        "classifier = SpamClassifier(DOWNLOAD_HAM, DOWNLOAD_SPAM, DOWNLOAD_DIR)\n",
        "classifier.setup_data()\n",
        "classifier.optimize_hyperparameters(n_trials=15)\n",
        "classifier.train_and_evaluate()"
      ],
      "metadata": {
        "colab": {
          "base_uri": "https://localhost:8080/"
        },
        "id": "mWOGqvJRc5YH",
        "outputId": "87a70c9a-2cb5-4e40-9235-6b300245ac8d"
      },
      "execution_count": 71,
      "outputs": [
        {
          "output_type": "stream",
          "name": "stderr",
          "text": [
            "[I 2024-08-23 09:30:06,986] A new study created in memory with name: no-name-f035dc2a-8cdd-40f2-9774-0357f1cbfc60\n",
            "[I 2024-08-23 09:40:33,126] Trial 0 finished with value: 0.9661157422665339 and parameters: {'n_estimators': 992, 'max_depth': 26, 'min_samples_split': 4, 'min_samples_leaf': 1}. Best is trial 0 with value: 0.9661157422665339.\n",
            "[I 2024-08-23 09:45:04,815] Trial 1 finished with value: 0.9340906047082859 and parameters: {'n_estimators': 759, 'max_depth': 12, 'min_samples_split': 7, 'min_samples_leaf': 2}. Best is trial 0 with value: 0.9661157422665339.\n",
            "[I 2024-08-23 09:52:39,613] Trial 2 finished with value: 0.9611565520029971 and parameters: {'n_estimators': 834, 'max_depth': 23, 'min_samples_split': 5, 'min_samples_leaf': 2}. Best is trial 0 with value: 0.9661157422665339.\n",
            "[I 2024-08-23 09:56:55,598] Trial 3 finished with value: 0.9113623484119246 and parameters: {'n_estimators': 813, 'max_depth': 10, 'min_samples_split': 3, 'min_samples_leaf': 2}. Best is trial 0 with value: 0.9661157422665339.\n",
            "[I 2024-08-23 10:03:27,138] Trial 4 finished with value: 0.9654957794643019 and parameters: {'n_estimators': 599, 'max_depth': 44, 'min_samples_split': 10, 'min_samples_leaf': 2}. Best is trial 0 with value: 0.9661157422665339.\n",
            "[I 2024-08-23 10:10:37,264] Trial 5 finished with value: 0.9497930000284246 and parameters: {'n_estimators': 968, 'max_depth': 18, 'min_samples_split': 4, 'min_samples_leaf': 3}. Best is trial 0 with value: 0.9661157422665339.\n",
            "[I 2024-08-23 10:17:50,322] Trial 6 finished with value: 0.9727277825536168 and parameters: {'n_estimators': 526, 'max_depth': 49, 'min_samples_split': 4, 'min_samples_leaf': 1}. Best is trial 6 with value: 0.9727277825536168.\n",
            "[I 2024-08-23 10:19:21,203] Trial 7 finished with value: 0.9588824587914234 and parameters: {'n_estimators': 103, 'max_depth': 27, 'min_samples_split': 4, 'min_samples_leaf': 4}. Best is trial 6 with value: 0.9727277825536168.\n",
            "[I 2024-08-23 10:24:13,729] Trial 8 finished with value: 0.9599175226685904 and parameters: {'n_estimators': 489, 'max_depth': 34, 'min_samples_split': 4, 'min_samples_leaf': 4}. Best is trial 6 with value: 0.9727277825536168.\n",
            "[I 2024-08-23 10:36:58,398] Trial 9 finished with value: 0.9621890551085729 and parameters: {'n_estimators': 1262, 'max_depth': 38, 'min_samples_split': 2, 'min_samples_leaf': 3}. Best is trial 6 with value: 0.9727277825536168.\n",
            "[I 2024-08-23 10:40:22,795] Trial 10 finished with value: 0.9733476173172692 and parameters: {'n_estimators': 218, 'max_depth': 50, 'min_samples_split': 7, 'min_samples_leaf': 1}. Best is trial 10 with value: 0.9733476173172692.\n",
            "[I 2024-08-23 10:43:01,624] Trial 11 finished with value: 0.9721062832884302 and parameters: {'n_estimators': 153, 'max_depth': 50, 'min_samples_split': 7, 'min_samples_leaf': 1}. Best is trial 10 with value: 0.9733476173172692.\n",
            "[I 2024-08-23 10:48:01,825] Trial 12 finished with value: 0.9727293190165716 and parameters: {'n_estimators': 358, 'max_depth': 49, 'min_samples_split': 9, 'min_samples_leaf': 1}. Best is trial 10 with value: 0.9733476173172692.\n",
            "[I 2024-08-23 10:52:14,452] Trial 13 finished with value: 0.9702475472289507 and parameters: {'n_estimators': 302, 'max_depth': 42, 'min_samples_split': 9, 'min_samples_leaf': 1}. Best is trial 10 with value: 0.9733476173172692.\n",
            "[I 2024-08-23 10:57:08,756] Trial 14 finished with value: 0.9700420453087562 and parameters: {'n_estimators': 340, 'max_depth': 45, 'min_samples_split': 9, 'min_samples_leaf': 1}. Best is trial 10 with value: 0.9733476173172692.\n"
          ]
        },
        {
          "output_type": "stream",
          "name": "stdout",
          "text": [
            "Best hyperparameters: {'n_estimators': 218, 'max_depth': 50, 'min_samples_split': 7, 'min_samples_leaf': 1}\n",
            "Accuracy: 0.97\n",
            "              precision    recall  f1-score   support\n",
            "\n",
            "           0       0.98      0.99      0.98       831\n",
            "           1       0.97      0.95      0.96       380\n",
            "\n",
            "    accuracy                           0.97      1211\n",
            "   macro avg       0.97      0.97      0.97      1211\n",
            "weighted avg       0.97      0.97      0.97      1211\n",
            "\n",
            "[[819  12]\n",
            " [ 20 360]]\n"
          ]
        }
      ]
    }
  ]
}
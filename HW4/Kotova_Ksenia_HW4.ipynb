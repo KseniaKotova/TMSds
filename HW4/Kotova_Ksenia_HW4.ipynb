{
 "cells": [
  {
   "cell_type": "markdown",
   "metadata": {},
   "source": [
    "# Task 1"
   ]
  },
  {
   "cell_type": "markdown",
   "metadata": {},
   "source": [
    "### Solve the problem with x = 1.79\n",
    "$$ y = \\left( \\cos(e^x) + \\ln((1+x)^2) + \\sqrt{\\exp(\\cos(x)) + (\\sin(\\pi x))^2} + \\sqrt{\\frac{1}{x}} + \\cos(x^2) \\right)^{\\sin(x)} $$"
   ]
  },
  {
   "cell_type": "code",
   "execution_count": 1,
   "metadata": {},
   "outputs": [],
   "source": [
    "import math "
   ]
  },
  {
   "cell_type": "code",
   "execution_count": 7,
   "metadata": {},
   "outputs": [
    {
     "name": "stdout",
     "output_type": "stream",
     "text": [
      "2.775368323057839\n"
     ]
    }
   ],
   "source": [
    "x: float = 1.79\n",
    "\n",
    "print((math.cos(math.e**x) + (math.log((1 + x)))**2 + \n",
    "     (math.exp(math.cos(x)) + math.sin(math.pi * x)**2)**0.5 + \n",
    "     (1/x)**0.5 + math.cos(x**2))**math.sin(x))"
   ]
  },
  {
   "cell_type": "markdown",
   "metadata": {},
   "source": [
    "# Task 2"
   ]
  },
  {
   "cell_type": "markdown",
   "metadata": {},
   "source": [
    "### Напишите функцию search_substr(subst, st), которая принимает 2 строки и определяет, имеется ли подстрока subst в строке st. В случае нахождения подстроки, возвращается фраза «Есть контакт!», а иначе «Мимо!». Должно быть найдено совпадение независимо от регистра обеих строк."
   ]
  },
  {
   "cell_type": "code",
   "execution_count": 12,
   "metadata": {},
   "outputs": [
    {
     "name": "stdout",
     "output_type": "stream",
     "text": [
      "Есть контакт!\n"
     ]
    }
   ],
   "source": [
    "\n",
    "def search_substr(substr, st):\n",
    "\n",
    "    if substr.lower() in st.lower():\n",
    "        return \"Есть контакт!\"\n",
    "    else: \n",
    "        return \"Мимо!\"\n",
    "\n",
    "\n",
    "substr = \"Moon\"\n",
    "st = \"THE MOON IS A SATELLITE OF EARTH\"\n",
    "\n",
    "print(search_substr(substr, st))"
   ]
  },
  {
   "cell_type": "code",
   "execution_count": 13,
   "metadata": {},
   "outputs": [],
   "source": [
    "assert(search_substr(\"Луна\", \"луна спутник ЗЕМЛИ\")) == \"Есть контакт!\""
   ]
  },
  {
   "cell_type": "markdown",
   "metadata": {},
   "source": [
    "# Task 3"
   ]
  },
  {
   "cell_type": "markdown",
   "metadata": {},
   "source": [
    "### На основании строки определить 3 наиболее часто встречаемых символа в ней. Пробелы нужно игнорировать (не учитывать при подсчете). Для простоты подсчета количества вхождений символов удобно использовать Counter из модуля collections."
   ]
  },
  {
   "cell_type": "code",
   "execution_count": 28,
   "metadata": {},
   "outputs": [
    {
     "name": "stdout",
     "output_type": "stream",
     "text": [
      "), d, q\n"
     ]
    }
   ],
   "source": [
    "from collections import Counter\n",
    "\n",
    "\n",
    "def common_chars(st):\n",
    "\n",
    "    st = st.replace(\" \", \"\")\n",
    "    st_chars = Counter(st)\n",
    "    most_common = st_chars.most_common(3)\n",
    "\n",
    "    return \", \".join(char for char, _ in most_common)\n",
    "\n",
    "\n",
    "st = \"abdk#  du*ns(o   djqq )))))\"\n",
    "print(common_chars(st))"
   ]
  },
  {
   "cell_type": "markdown",
   "metadata": {},
   "source": [
    "# Task 4"
   ]
  },
  {
   "cell_type": "markdown",
   "metadata": {},
   "source": [
    "### Дана строка в виде случайной последовательности чисел от 0 до 9. Требуется создать словарь, который в качестве ключей будет принимать данные числа (т.е. ключи будут типом int), а в качестве значений – количество этих чисел в имеющейся последовательности. Для построения словаря создайте функцию count_it(sequence), принимающую строку из цифр. Функция должна возвратить словарь из 3-х самых часто встречаемых чисел."
   ]
  },
  {
   "cell_type": "code",
   "execution_count": 42,
   "metadata": {},
   "outputs": [
    {
     "name": "stdout",
     "output_type": "stream",
     "text": [
      "{3: 4, 8: 3, 7: 2}\n"
     ]
    }
   ],
   "source": [
    "def count_it(sequence):\n",
    "\n",
    "    sequence = sequence.replace(\" \", \"\")\n",
    "    sequence_nums = Counter(sequence)\n",
    "    most_common = sequence_nums.most_common(3)\n",
    "    result_dict = {int(num): count for num, count in most_common}\n",
    "    return result_dict\n",
    "\n",
    "\n",
    "sequence = \"6783920375   381 4382\"\n",
    "print(count_it(sequence))"
   ]
  },
  {
   "cell_type": "markdown",
   "metadata": {},
   "source": [
    "# Task 5"
   ]
  },
  {
   "cell_type": "markdown",
   "metadata": {},
   "source": [
    "### Шахматы. у вас есть стандартное поле 8*8, после введения координат (a, b) нахождения вашей фигуры и фигуры соперника (с, d), необходимо получить ответ, угрожает ли вражеская фигура вам: 1) вражеская фигура ферзь 2) вражеская фигура конь"
   ]
  },
  {
   "cell_type": "code",
   "execution_count": 47,
   "metadata": {},
   "outputs": [
    {
     "name": "stdout",
     "output_type": "stream",
     "text": [
      "Knight is threatening\n"
     ]
    }
   ],
   "source": [
    "def is_threat(my_position, enemy_position, figure):\n",
    "\n",
    "    my_x, my_y = my_position\n",
    "    enemy_x, enemy_y = enemy_position\n",
    "\n",
    "    dx = abs(my_x - enemy_x)\n",
    "    dy = abs(my_y - enemy_y)\n",
    "\n",
    "    if figure == \"knight\":\n",
    "        if dx == 1 and dy == 2 or dx == 2 and dy == 1:\n",
    "            print(\"Knight is threatening\")\n",
    "        else:\n",
    "            print(\"Knight is not threatening\")\n",
    "    elif figure == \"queen\":\n",
    "        if dx == dy or my_x == enemy_x and my_y == enemy_y:\n",
    "            print(\"Queen is threatening\")\n",
    "        else:\n",
    "            print(\"Queen is not threatening\")\n",
    "    else:\n",
    "        print(\"Unknown figure\")\n",
    "\n",
    "\n",
    "my_position = (4, 5)\n",
    "enemy_position = (5, 7)\n",
    "figure = \"knight\"\n",
    "\n",
    "is_threat(my_position, enemy_position, figure)"
   ]
  }
 ],
 "metadata": {
  "kernelspec": {
   "display_name": "Python 3",
   "language": "python",
   "name": "python3"
  },
  "language_info": {
   "codemirror_mode": {
    "name": "ipython",
    "version": 3
   },
   "file_extension": ".py",
   "mimetype": "text/x-python",
   "name": "python",
   "nbconvert_exporter": "python",
   "pygments_lexer": "ipython3",
   "version": "3.10.6"
  }
 },
 "nbformat": 4,
 "nbformat_minor": 2
}

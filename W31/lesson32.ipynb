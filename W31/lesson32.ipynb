{
 "cells": [
  {
   "cell_type": "code",
   "execution_count": 1,
   "id": "initial_id",
   "metadata": {
    "ExecuteTime": {
     "end_time": "2024-06-14T16:11:22.190309Z",
     "start_time": "2024-06-14T16:11:09.255374Z"
    },
    "collapsed": true
   },
   "outputs": [],
   "source": [
    "import tensorflow as tf\n",
    "from tensorflow.keras.layers import Input, Dense, Flatten, Reshape\n",
    "from tensorflow.keras.models import Model\n",
    "import deeplake\n",
    "import numpy as np\n",
    "from sklearn.model_selection import train_test_split\n",
    "from tensorflow.keras.optimizers import Adam"
   ]
  },
  {
   "cell_type": "code",
   "execution_count": 18,
   "id": "6281ef0b882fc7",
   "metadata": {
    "ExecuteTime": {
     "end_time": "2024-06-14T16:34:03.714679Z",
     "start_time": "2024-06-14T16:33:57.963170Z"
    }
   },
   "outputs": [
    {
     "name": "stderr",
     "output_type": "stream",
     "text": [
      "/"
     ]
    },
    {
     "name": "stdout",
     "output_type": "stream",
     "text": [
      "Opening dataset in read-only mode as you don't have write permissions.\n"
     ]
    },
    {
     "name": "stderr",
     "output_type": "stream",
     "text": [
      "/"
     ]
    },
    {
     "name": "stdout",
     "output_type": "stream",
     "text": [
      "This dataset can be visualized in Jupyter Notebook by ds.visualize() or at https://app.activeloop.ai/activeloop/mnist-train\n",
      "\n"
     ]
    },
    {
     "name": "stderr",
     "output_type": "stream",
     "text": [
      "\\"
     ]
    },
    {
     "name": "stdout",
     "output_type": "stream",
     "text": [
      "hub://activeloop/mnist-train loaded successfully.\n",
      "\n"
     ]
    },
    {
     "name": "stderr",
     "output_type": "stream",
     "text": [
      " \r"
     ]
    }
   ],
   "source": [
    "ds = deeplake.load(\"hub://activeloop/mnist-train\")"
   ]
  },
  {
   "cell_type": "code",
   "execution_count": 3,
   "id": "c0df6bf9a1c9fa0f",
   "metadata": {
    "ExecuteTime": {
     "end_time": "2024-06-14T16:13:21.918782Z",
     "start_time": "2024-06-14T16:13:20.125201Z"
    }
   },
   "outputs": [],
   "source": [
    "labels = np.array(ds['labels'])"
   ]
  },
  {
   "cell_type": "code",
   "execution_count": 4,
   "id": "f1d0805e1c9c11cc",
   "metadata": {
    "ExecuteTime": {
     "end_time": "2024-06-14T16:13:29.061209Z",
     "start_time": "2024-06-14T16:13:29.050843Z"
    }
   },
   "outputs": [
    {
     "data": {
      "text/plain": [
       "array([[5],\n",
       "       [0],\n",
       "       [4],\n",
       "       ...,\n",
       "       [5],\n",
       "       [6],\n",
       "       [8]], dtype=uint32)"
      ]
     },
     "execution_count": 4,
     "metadata": {},
     "output_type": "execute_result"
    }
   ],
   "source": [
    "labels"
   ]
  },
  {
   "cell_type": "code",
   "execution_count": 5,
   "id": "17542fb5da914298",
   "metadata": {
    "ExecuteTime": {
     "end_time": "2024-06-14T16:14:18.301013Z",
     "start_time": "2024-06-14T16:14:06.248790Z"
    }
   },
   "outputs": [],
   "source": [
    "images = np.array(ds['images'])"
   ]
  },
  {
   "cell_type": "code",
   "execution_count": 6,
   "id": "7691f584e8731074",
   "metadata": {
    "ExecuteTime": {
     "end_time": "2024-06-14T16:19:47.638938Z",
     "start_time": "2024-06-14T16:19:47.574965Z"
    }
   },
   "outputs": [],
   "source": [
    "# Разбиение данных на тренировочный и тестовый наборы\n",
    "mnist_train_X, mnist_test_X, mnist_train_y, mnist_test_y = train_test_split(images, labels, test_size=0.2, random_state=42)"
   ]
  },
  {
   "cell_type": "code",
   "execution_count": 7,
   "id": "78a1d7115272f005",
   "metadata": {
    "ExecuteTime": {
     "end_time": "2024-06-14T16:20:04.137114Z",
     "start_time": "2024-06-14T16:20:04.126576Z"
    }
   },
   "outputs": [
    {
     "data": {
      "text/plain": [
       "(array([[[0, 0, 0, ..., 0, 0, 0],\n",
       "         [0, 0, 0, ..., 0, 0, 0],\n",
       "         [0, 0, 0, ..., 0, 0, 0],\n",
       "         ...,\n",
       "         [0, 0, 0, ..., 0, 0, 0],\n",
       "         [0, 0, 0, ..., 0, 0, 0],\n",
       "         [0, 0, 0, ..., 0, 0, 0]],\n",
       " \n",
       "        [[0, 0, 0, ..., 0, 0, 0],\n",
       "         [0, 0, 0, ..., 0, 0, 0],\n",
       "         [0, 0, 0, ..., 0, 0, 0],\n",
       "         ...,\n",
       "         [0, 0, 0, ..., 0, 0, 0],\n",
       "         [0, 0, 0, ..., 0, 0, 0],\n",
       "         [0, 0, 0, ..., 0, 0, 0]],\n",
       " \n",
       "        [[0, 0, 0, ..., 0, 0, 0],\n",
       "         [0, 0, 0, ..., 0, 0, 0],\n",
       "         [0, 0, 0, ..., 0, 0, 0],\n",
       "         ...,\n",
       "         [0, 0, 0, ..., 0, 0, 0],\n",
       "         [0, 0, 0, ..., 0, 0, 0],\n",
       "         [0, 0, 0, ..., 0, 0, 0]],\n",
       " \n",
       "        ...,\n",
       " \n",
       "        [[0, 0, 0, ..., 0, 0, 0],\n",
       "         [0, 0, 0, ..., 0, 0, 0],\n",
       "         [0, 0, 0, ..., 0, 0, 0],\n",
       "         ...,\n",
       "         [0, 0, 0, ..., 0, 0, 0],\n",
       "         [0, 0, 0, ..., 0, 0, 0],\n",
       "         [0, 0, 0, ..., 0, 0, 0]],\n",
       " \n",
       "        [[0, 0, 0, ..., 0, 0, 0],\n",
       "         [0, 0, 0, ..., 0, 0, 0],\n",
       "         [0, 0, 0, ..., 0, 0, 0],\n",
       "         ...,\n",
       "         [0, 0, 0, ..., 0, 0, 0],\n",
       "         [0, 0, 0, ..., 0, 0, 0],\n",
       "         [0, 0, 0, ..., 0, 0, 0]],\n",
       " \n",
       "        [[0, 0, 0, ..., 0, 0, 0],\n",
       "         [0, 0, 0, ..., 0, 0, 0],\n",
       "         [0, 0, 0, ..., 0, 0, 0],\n",
       "         ...,\n",
       "         [0, 0, 0, ..., 0, 0, 0],\n",
       "         [0, 0, 0, ..., 0, 0, 0],\n",
       "         [0, 0, 0, ..., 0, 0, 0]]], dtype=uint8),\n",
       " array([[[0, 0, 0, ..., 0, 0, 0],\n",
       "         [0, 0, 0, ..., 0, 0, 0],\n",
       "         [0, 0, 0, ..., 0, 0, 0],\n",
       "         ...,\n",
       "         [0, 0, 0, ..., 0, 0, 0],\n",
       "         [0, 0, 0, ..., 0, 0, 0],\n",
       "         [0, 0, 0, ..., 0, 0, 0]],\n",
       " \n",
       "        [[0, 0, 0, ..., 0, 0, 0],\n",
       "         [0, 0, 0, ..., 0, 0, 0],\n",
       "         [0, 0, 0, ..., 0, 0, 0],\n",
       "         ...,\n",
       "         [0, 0, 0, ..., 0, 0, 0],\n",
       "         [0, 0, 0, ..., 0, 0, 0],\n",
       "         [0, 0, 0, ..., 0, 0, 0]],\n",
       " \n",
       "        [[0, 0, 0, ..., 0, 0, 0],\n",
       "         [0, 0, 0, ..., 0, 0, 0],\n",
       "         [0, 0, 0, ..., 0, 0, 0],\n",
       "         ...,\n",
       "         [0, 0, 0, ..., 0, 0, 0],\n",
       "         [0, 0, 0, ..., 0, 0, 0],\n",
       "         [0, 0, 0, ..., 0, 0, 0]],\n",
       " \n",
       "        ...,\n",
       " \n",
       "        [[0, 0, 0, ..., 0, 0, 0],\n",
       "         [0, 0, 0, ..., 0, 0, 0],\n",
       "         [0, 0, 0, ..., 0, 0, 0],\n",
       "         ...,\n",
       "         [0, 0, 0, ..., 0, 0, 0],\n",
       "         [0, 0, 0, ..., 0, 0, 0],\n",
       "         [0, 0, 0, ..., 0, 0, 0]],\n",
       " \n",
       "        [[0, 0, 0, ..., 0, 0, 0],\n",
       "         [0, 0, 0, ..., 0, 0, 0],\n",
       "         [0, 0, 0, ..., 0, 0, 0],\n",
       "         ...,\n",
       "         [0, 0, 0, ..., 0, 0, 0],\n",
       "         [0, 0, 0, ..., 0, 0, 0],\n",
       "         [0, 0, 0, ..., 0, 0, 0]],\n",
       " \n",
       "        [[0, 0, 0, ..., 0, 0, 0],\n",
       "         [0, 0, 0, ..., 0, 0, 0],\n",
       "         [0, 0, 0, ..., 0, 0, 0],\n",
       "         ...,\n",
       "         [0, 0, 0, ..., 0, 0, 0],\n",
       "         [0, 0, 0, ..., 0, 0, 0],\n",
       "         [0, 0, 0, ..., 0, 0, 0]]], dtype=uint8),\n",
       " array([[5],\n",
       "        [0],\n",
       "        [1],\n",
       "        ...,\n",
       "        [0],\n",
       "        [0],\n",
       "        [4]], dtype=uint32),\n",
       " array([[7],\n",
       "        [3],\n",
       "        [8],\n",
       "        ...,\n",
       "        [9],\n",
       "        [7],\n",
       "        [2]], dtype=uint32))"
      ]
     },
     "execution_count": 7,
     "metadata": {},
     "output_type": "execute_result"
    }
   ],
   "source": [
    "mnist_train_X, mnist_test_X, mnist_train_y, mnist_test_y"
   ]
  },
  {
   "cell_type": "code",
   "execution_count": 8,
   "id": "492eee1d94d7fb7e",
   "metadata": {
    "ExecuteTime": {
     "end_time": "2024-06-14T16:21:05.481583Z",
     "start_time": "2024-06-14T16:21:05.241843Z"
    }
   },
   "outputs": [],
   "source": [
    "mnist_train_X = mnist_train_X / 255\n",
    "mnist_test_X = mnist_test_X / 255"
   ]
  },
  {
   "cell_type": "code",
   "execution_count": 2,
   "id": "a2cf59906dd224f2",
   "metadata": {
    "ExecuteTime": {
     "end_time": "2024-06-14T16:22:22.812619Z",
     "start_time": "2024-06-14T16:22:22.808097Z"
    }
   },
   "outputs": [],
   "source": [
    "import tensorflow as tf\n",
    "from tensorflow.keras.layers import Input, Conv2D, MaxPooling2D, UpSampling2D\n",
    "from tensorflow.keras.models import Model"
   ]
  },
  {
   "cell_type": "code",
   "execution_count": 13,
   "id": "97a5f85946ce3410",
   "metadata": {
    "ExecuteTime": {
     "end_time": "2024-06-14T16:25:01.570117Z",
     "start_time": "2024-06-14T16:25:01.493815Z"
    }
   },
   "outputs": [],
   "source": [
    "# ЗАДАНИЕ 2\n",
    "\n",
    "# Архитектура сверточного автоэнкодера\n",
    "input_img = Input(shape=(28, 28, 1))  # Fashion MNIST - черно-белые изображения\n",
    "\n",
    "# Энкодер\n",
    "x = Conv2D(32, (3, 3), activation='relu', padding='same')(input_img)\n",
    "x = MaxPooling2D((2, 2), padding='same')(x)\n",
    "x = Conv2D(64, (3, 3), activation='relu', padding='same')(x)\n",
    "encoded = MaxPooling2D((2, 2), padding='same')(x)\n",
    "\n",
    "# Декодер\n",
    "x = Conv2D(64, (3, 3), activation='relu', padding='same')(encoded)\n",
    "x = UpSampling2D((2, 2))(x)\n",
    "x = Conv2D(32, (3, 3), activation='relu', padding='same')(x)\n",
    "x = UpSampling2D((2, 2))(x)\n",
    "decoded = Conv2D(1, (3, 3), activation='sigmoid', padding='same')(x)\n",
    "\n",
    "optimizer = Adam(learning_rate=0.01)\n",
    "# Сборка автоэнкодера\n",
    "autoencoder = Model(input_img, decoded)\n",
    "autoencoder.compile(optimizer=optimizer, loss='binary_crossentropy')\n",
    "\n",
    "# Предполагается, что fashion_train и fashion_test имеют размерность (num_samples, 28, 28)\n",
    "# Мы просто изменяем размерность данных для соответствия форме (num_samples, 28, 28, 1)\n",
    "mnist_train = mnist_train_X.reshape(-1, 28, 28, 1)\n",
    "mnist_test = mnist_test_X.reshape(-1, 28, 28, 1)"
   ]
  },
  {
   "cell_type": "code",
   "execution_count": 14,
   "id": "765e2c871f1c1c1",
   "metadata": {
    "ExecuteTime": {
     "end_time": "2024-06-14T16:27:39.350318Z",
     "start_time": "2024-06-14T16:25:03.235072Z"
    }
   },
   "outputs": [
    {
     "name": "stdout",
     "output_type": "stream",
     "text": [
      "Epoch 1/50\n",
      "\u001b[1m4/4\u001b[0m \u001b[32m━━━━━━━━━━━━━━━━━━━━\u001b[0m\u001b[37m\u001b[0m \u001b[1m6s\u001b[0m 981ms/step - loss: 0.7498 - val_loss: 0.6326\n",
      "Epoch 2/50\n",
      "\u001b[1m4/4\u001b[0m \u001b[32m━━━━━━━━━━━━━━━━━━━━\u001b[0m\u001b[37m\u001b[0m \u001b[1m3s\u001b[0m 868ms/step - loss: 0.5933 - val_loss: 0.4619\n",
      "Epoch 3/50\n",
      "\u001b[1m4/4\u001b[0m \u001b[32m━━━━━━━━━━━━━━━━━━━━\u001b[0m\u001b[37m\u001b[0m \u001b[1m3s\u001b[0m 866ms/step - loss: 0.4525 - val_loss: 0.3742\n",
      "Epoch 4/50\n",
      "\u001b[1m4/4\u001b[0m \u001b[32m━━━━━━━━━━━━━━━━━━━━\u001b[0m\u001b[37m\u001b[0m \u001b[1m3s\u001b[0m 870ms/step - loss: 0.3601 - val_loss: 0.3034\n",
      "Epoch 5/50\n",
      "\u001b[1m4/4\u001b[0m \u001b[32m━━━━━━━━━━━━━━━━━━━━\u001b[0m\u001b[37m\u001b[0m \u001b[1m3s\u001b[0m 890ms/step - loss: 0.2915 - val_loss: 0.2419\n",
      "Epoch 6/50\n",
      "\u001b[1m4/4\u001b[0m \u001b[32m━━━━━━━━━━━━━━━━━━━━\u001b[0m\u001b[37m\u001b[0m \u001b[1m3s\u001b[0m 917ms/step - loss: 0.2319 - val_loss: 0.1912\n",
      "Epoch 7/50\n",
      "\u001b[1m4/4\u001b[0m \u001b[32m━━━━━━━━━━━━━━━━━━━━\u001b[0m\u001b[37m\u001b[0m \u001b[1m3s\u001b[0m 896ms/step - loss: 0.1854 - val_loss: 0.1688\n",
      "Epoch 8/50\n",
      "\u001b[1m4/4\u001b[0m \u001b[32m━━━━━━━━━━━━━━━━━━━━\u001b[0m\u001b[37m\u001b[0m \u001b[1m3s\u001b[0m 945ms/step - loss: 0.1667 - val_loss: 0.1554\n",
      "Epoch 9/50\n",
      "\u001b[1m4/4\u001b[0m \u001b[32m━━━━━━━━━━━━━━━━━━━━\u001b[0m\u001b[37m\u001b[0m \u001b[1m3s\u001b[0m 972ms/step - loss: 0.1539 - val_loss: 0.1423\n",
      "Epoch 10/50\n",
      "\u001b[1m4/4\u001b[0m \u001b[32m━━━━━━━━━━━━━━━━━━━━\u001b[0m\u001b[37m\u001b[0m \u001b[1m3s\u001b[0m 971ms/step - loss: 0.1411 - val_loss: 0.1308\n",
      "Epoch 11/50\n",
      "\u001b[1m4/4\u001b[0m \u001b[32m━━━━━━━━━━━━━━━━━━━━\u001b[0m\u001b[37m\u001b[0m \u001b[1m3s\u001b[0m 1s/step - loss: 0.1313 - val_loss: 0.1223\n",
      "Epoch 12/50\n",
      "\u001b[1m4/4\u001b[0m \u001b[32m━━━━━━━━━━━━━━━━━━━━\u001b[0m\u001b[37m\u001b[0m \u001b[1m3s\u001b[0m 1s/step - loss: 0.1226 - val_loss: 0.1234\n",
      "Epoch 13/50\n",
      "\u001b[1m4/4\u001b[0m \u001b[32m━━━━━━━━━━━━━━━━━━━━\u001b[0m\u001b[37m\u001b[0m \u001b[1m3s\u001b[0m 1s/step - loss: 0.1213 - val_loss: 0.1116\n",
      "Epoch 14/50\n",
      "\u001b[1m4/4\u001b[0m \u001b[32m━━━━━━━━━━━━━━━━━━━━\u001b[0m\u001b[37m\u001b[0m \u001b[1m3s\u001b[0m 916ms/step - loss: 0.1127 - val_loss: 0.1099\n",
      "Epoch 15/50\n",
      "\u001b[1m4/4\u001b[0m \u001b[32m━━━━━━━━━━━━━━━━━━━━\u001b[0m\u001b[37m\u001b[0m \u001b[1m3s\u001b[0m 972ms/step - loss: 0.1101 - val_loss: 0.1052\n",
      "Epoch 16/50\n",
      "\u001b[1m4/4\u001b[0m \u001b[32m━━━━━━━━━━━━━━━━━━━━\u001b[0m\u001b[37m\u001b[0m \u001b[1m3s\u001b[0m 1s/step - loss: 0.1055 - val_loss: 0.1017\n",
      "Epoch 17/50\n",
      "\u001b[1m4/4\u001b[0m \u001b[32m━━━━━━━━━━━━━━━━━━━━\u001b[0m\u001b[37m\u001b[0m \u001b[1m3s\u001b[0m 962ms/step - loss: 0.1023 - val_loss: 0.0988\n",
      "Epoch 18/50\n",
      "\u001b[1m4/4\u001b[0m \u001b[32m━━━━━━━━━━━━━━━━━━━━\u001b[0m\u001b[37m\u001b[0m \u001b[1m3s\u001b[0m 985ms/step - loss: 0.0995 - val_loss: 0.0969\n",
      "Epoch 19/50\n",
      "\u001b[1m4/4\u001b[0m \u001b[32m━━━━━━━━━━━━━━━━━━━━\u001b[0m\u001b[37m\u001b[0m \u001b[1m3s\u001b[0m 906ms/step - loss: 0.0984 - val_loss: 0.0959\n",
      "Epoch 20/50\n",
      "\u001b[1m4/4\u001b[0m \u001b[32m━━━━━━━━━━━━━━━━━━━━\u001b[0m\u001b[37m\u001b[0m \u001b[1m3s\u001b[0m 936ms/step - loss: 0.0966 - val_loss: 0.0949\n",
      "Epoch 21/50\n",
      "\u001b[1m4/4\u001b[0m \u001b[32m━━━━━━━━━━━━━━━━━━━━\u001b[0m\u001b[37m\u001b[0m \u001b[1m3s\u001b[0m 953ms/step - loss: 0.0950 - val_loss: 0.0938\n",
      "Epoch 22/50\n",
      "\u001b[1m4/4\u001b[0m \u001b[32m━━━━━━━━━━━━━━━━━━━━\u001b[0m\u001b[37m\u001b[0m \u001b[1m3s\u001b[0m 924ms/step - loss: 0.0941 - val_loss: 0.0928\n",
      "Epoch 23/50\n",
      "\u001b[1m4/4\u001b[0m \u001b[32m━━━━━━━━━━━━━━━━━━━━\u001b[0m\u001b[37m\u001b[0m \u001b[1m3s\u001b[0m 985ms/step - loss: 0.0931 - val_loss: 0.0923\n",
      "Epoch 24/50\n",
      "\u001b[1m4/4\u001b[0m \u001b[32m━━━━━━━━━━━━━━━━━━━━\u001b[0m\u001b[37m\u001b[0m \u001b[1m3s\u001b[0m 975ms/step - loss: 0.0922 - val_loss: 0.0907\n",
      "Epoch 25/50\n",
      "\u001b[1m4/4\u001b[0m \u001b[32m━━━━━━━━━━━━━━━━━━━━\u001b[0m\u001b[37m\u001b[0m \u001b[1m3s\u001b[0m 959ms/step - loss: 0.0905 - val_loss: 0.0895\n",
      "Epoch 26/50\n",
      "\u001b[1m4/4\u001b[0m \u001b[32m━━━━━━━━━━━━━━━━━━━━\u001b[0m\u001b[37m\u001b[0m \u001b[1m3s\u001b[0m 933ms/step - loss: 0.0907 - val_loss: 0.0892\n",
      "Epoch 27/50\n",
      "\u001b[1m4/4\u001b[0m \u001b[32m━━━━━━━━━━━━━━━━━━━━\u001b[0m\u001b[37m\u001b[0m \u001b[1m3s\u001b[0m 1s/step - loss: 0.0896 - val_loss: 0.0888\n",
      "Epoch 28/50\n",
      "\u001b[1m4/4\u001b[0m \u001b[32m━━━━━━━━━━━━━━━━━━━━\u001b[0m\u001b[37m\u001b[0m \u001b[1m3s\u001b[0m 976ms/step - loss: 0.0893 - val_loss: 0.0887\n",
      "Epoch 29/50\n",
      "\u001b[1m4/4\u001b[0m \u001b[32m━━━━━━━━━━━━━━━━━━━━\u001b[0m\u001b[37m\u001b[0m \u001b[1m3s\u001b[0m 897ms/step - loss: 0.0890 - val_loss: 0.0872\n",
      "Epoch 30/50\n",
      "\u001b[1m4/4\u001b[0m \u001b[32m━━━━━━━━━━━━━━━━━━━━\u001b[0m\u001b[37m\u001b[0m \u001b[1m3s\u001b[0m 899ms/step - loss: 0.0876 - val_loss: 0.0866\n",
      "Epoch 31/50\n",
      "\u001b[1m4/4\u001b[0m \u001b[32m━━━━━━━━━━━━━━━━━━━━\u001b[0m\u001b[37m\u001b[0m \u001b[1m3s\u001b[0m 918ms/step - loss: 0.0870 - val_loss: 0.0858\n",
      "Epoch 32/50\n",
      "\u001b[1m4/4\u001b[0m \u001b[32m━━━━━━━━━━━━━━━━━━━━\u001b[0m\u001b[37m\u001b[0m \u001b[1m3s\u001b[0m 928ms/step - loss: 0.0870 - val_loss: 0.0858\n",
      "Epoch 33/50\n",
      "\u001b[1m4/4\u001b[0m \u001b[32m━━━━━━━━━━━━━━━━━━━━\u001b[0m\u001b[37m\u001b[0m \u001b[1m3s\u001b[0m 954ms/step - loss: 0.0907 - val_loss: 0.1124\n",
      "Epoch 34/50\n",
      "\u001b[1m4/4\u001b[0m \u001b[32m━━━━━━━━━━━━━━━━━━━━\u001b[0m\u001b[37m\u001b[0m \u001b[1m3s\u001b[0m 895ms/step - loss: 0.1039 - val_loss: 0.0969\n",
      "Epoch 35/50\n",
      "\u001b[1m4/4\u001b[0m \u001b[32m━━━━━━━━━━━━━━━━━━━━\u001b[0m\u001b[37m\u001b[0m \u001b[1m3s\u001b[0m 889ms/step - loss: 0.0940 - val_loss: 0.0919\n",
      "Epoch 36/50\n",
      "\u001b[1m4/4\u001b[0m \u001b[32m━━━━━━━━━━━━━━━━━━━━\u001b[0m\u001b[37m\u001b[0m \u001b[1m3s\u001b[0m 888ms/step - loss: 0.0919 - val_loss: 0.0872\n",
      "Epoch 37/50\n",
      "\u001b[1m4/4\u001b[0m \u001b[32m━━━━━━━━━━━━━━━━━━━━\u001b[0m\u001b[37m\u001b[0m \u001b[1m3s\u001b[0m 968ms/step - loss: 0.0883 - val_loss: 0.0888\n",
      "Epoch 38/50\n",
      "\u001b[1m4/4\u001b[0m \u001b[32m━━━━━━━━━━━━━━━━━━━━\u001b[0m\u001b[37m\u001b[0m \u001b[1m3s\u001b[0m 1s/step - loss: 0.0879 - val_loss: 0.0865\n",
      "Epoch 39/50\n",
      "\u001b[1m4/4\u001b[0m \u001b[32m━━━━━━━━━━━━━━━━━━━━\u001b[0m\u001b[37m\u001b[0m \u001b[1m4s\u001b[0m 1s/step - loss: 0.0865 - val_loss: 0.0853\n",
      "Epoch 40/50\n",
      "\u001b[1m4/4\u001b[0m \u001b[32m━━━━━━━━━━━━━━━━━━━━\u001b[0m\u001b[37m\u001b[0m \u001b[1m3s\u001b[0m 1s/step - loss: 0.0856 - val_loss: 0.0848\n",
      "Epoch 41/50\n",
      "\u001b[1m4/4\u001b[0m \u001b[32m━━━━━━━━━━━━━━━━━━━━\u001b[0m\u001b[37m\u001b[0m \u001b[1m3s\u001b[0m 1s/step - loss: 0.0849 - val_loss: 0.0844\n",
      "Epoch 42/50\n",
      "\u001b[1m4/4\u001b[0m \u001b[32m━━━━━━━━━━━━━━━━━━━━\u001b[0m\u001b[37m\u001b[0m \u001b[1m3s\u001b[0m 996ms/step - loss: 0.0841 - val_loss: 0.0838\n",
      "Epoch 43/50\n",
      "\u001b[1m4/4\u001b[0m \u001b[32m━━━━━━━━━━━━━━━━━━━━\u001b[0m\u001b[37m\u001b[0m \u001b[1m3s\u001b[0m 990ms/step - loss: 0.0842 - val_loss: 0.0830\n",
      "Epoch 44/50\n",
      "\u001b[1m4/4\u001b[0m \u001b[32m━━━━━━━━━━━━━━━━━━━━\u001b[0m\u001b[37m\u001b[0m \u001b[1m3s\u001b[0m 977ms/step - loss: 0.0840 - val_loss: 0.0827\n",
      "Epoch 45/50\n",
      "\u001b[1m4/4\u001b[0m \u001b[32m━━━━━━━━━━━━━━━━━━━━\u001b[0m\u001b[37m\u001b[0m \u001b[1m4s\u001b[0m 1s/step - loss: 0.0827 - val_loss: 0.0827\n",
      "Epoch 46/50\n",
      "\u001b[1m4/4\u001b[0m \u001b[32m━━━━━━━━━━━━━━━━━━━━\u001b[0m\u001b[37m\u001b[0m \u001b[1m3s\u001b[0m 1s/step - loss: 0.0825 - val_loss: 0.0822\n",
      "Epoch 47/50\n",
      "\u001b[1m4/4\u001b[0m \u001b[32m━━━━━━━━━━━━━━━━━━━━\u001b[0m\u001b[37m\u001b[0m \u001b[1m3s\u001b[0m 890ms/step - loss: 0.0828 - val_loss: 0.0822\n",
      "Epoch 48/50\n",
      "\u001b[1m4/4\u001b[0m \u001b[32m━━━━━━━━━━━━━━━━━━━━\u001b[0m\u001b[37m\u001b[0m \u001b[1m3s\u001b[0m 843ms/step - loss: 0.0819 - val_loss: 0.0817\n",
      "Epoch 49/50\n",
      "\u001b[1m4/4\u001b[0m \u001b[32m━━━━━━━━━━━━━━━━━━━━\u001b[0m\u001b[37m\u001b[0m \u001b[1m3s\u001b[0m 843ms/step - loss: 0.0815 - val_loss: 0.0815\n",
      "Epoch 50/50\n",
      "\u001b[1m4/4\u001b[0m \u001b[32m━━━━━━━━━━━━━━━━━━━━\u001b[0m\u001b[37m\u001b[0m \u001b[1m3s\u001b[0m 871ms/step - loss: 0.0823 - val_loss: 0.0816\n"
     ]
    },
    {
     "data": {
      "text/plain": [
       "<keras.src.callbacks.history.History at 0x1eb4fabfe00>"
      ]
     },
     "execution_count": 14,
     "metadata": {},
     "output_type": "execute_result"
    }
   ],
   "source": [
    "# Обучение автоэнкодера\n",
    "autoencoder.fit(mnist_train[:1000], mnist_train[:1000],\n",
    "                epochs=50,\n",
    "                batch_size=256,\n",
    "                validation_data=(mnist_test, mnist_test))\n"
   ]
  },
  {
   "cell_type": "code",
   "execution_count": 15,
   "id": "983de4a03c293940",
   "metadata": {
    "ExecuteTime": {
     "end_time": "2024-06-14T16:31:02.914375Z",
     "start_time": "2024-06-14T16:30:56.317226Z"
    }
   },
   "outputs": [
    {
     "name": "stdout",
     "output_type": "stream",
     "text": [
      "\u001b[1m375/375\u001b[0m \u001b[32m━━━━━━━━━━━━━━━━━━━━\u001b[0m\u001b[37m\u001b[0m \u001b[1m4s\u001b[0m 11ms/step\n"
     ]
    },
    {
     "data": {
      "image/png": "[encoded data removed]",
      "text/plain": [
       "<Figure size 2000x400 with 20 Axes>"
      ]
     },
     "metadata": {},
     "output_type": "display_data"
    }
   ],
   "source": [
    "import numpy as np\n",
    "import matplotlib.pyplot as plt\n",
    "\n",
    "# Предсказание на тестовом наборе данных\n",
    "decoded_imgs = autoencoder.predict(mnist_test)\n",
    "\n",
    "n = 10  # количество изображений для отображения\n",
    "plt.figure(figsize=(20, 4))\n",
    "\n",
    "for i in range(n):\n",
    "    # Отображение оригинальных изображений\n",
    "    ax = plt.subplot(2, n, i + 1)\n",
    "    plt.imshow(mnist_test[i].reshape(28, 28))\n",
    "    plt.gray()\n",
    "    ax.get_xaxis().set_visible(False)\n",
    "    ax.get_yaxis().set_visible(False)\n",
    "\n",
    "    # Отображение восстановленных изображений\n",
    "    ax = plt.subplot(2, n, i + 1 + n)\n",
    "    plt.imshow(decoded_imgs[i].reshape(28, 28))\n",
    "    plt.gray()\n",
    "    ax.get_xaxis().set_visible(False)\n",
    "#     ax.get_y"
   ]
  },
  {
   "cell_type": "code",
   "execution_count": 16,
   "id": "970cc10f8d1bcc80",
   "metadata": {
    "ExecuteTime": {
     "end_time": "2024-06-14T16:32:16.447957Z",
     "start_time": "2024-06-14T16:32:10.352353Z"
    }
   },
   "outputs": [
    {
     "name": "stderr",
     "output_type": "stream",
     "text": [
      "|"
     ]
    },
    {
     "name": "stdout",
     "output_type": "stream",
     "text": [
      "Opening dataset in read-only mode as you don't have write permissions.\n"
     ]
    },
    {
     "name": "stderr",
     "output_type": "stream",
     "text": [
      "-"
     ]
    },
    {
     "name": "stdout",
     "output_type": "stream",
     "text": [
      "This dataset can be visualized in Jupyter Notebook by ds.visualize() or at https://app.activeloop.ai/activeloop/fashion-mnist-train\n",
      "\n"
     ]
    },
    {
     "name": "stderr",
     "output_type": "stream",
     "text": [
      "/"
     ]
    },
    {
     "name": "stdout",
     "output_type": "stream",
     "text": [
      "hub://activeloop/fashion-mnist-train loaded successfully.\n",
      "\n"
     ]
    },
    {
     "name": "stderr",
     "output_type": "stream",
     "text": [
      " \r"
     ]
    }
   ],
   "source": [
    "ds = deeplake.load('hub://activeloop/fashion-mnist-train')"
   ]
  },
  {
   "cell_type": "code",
   "execution_count": 58,
   "id": "391f130fb0a8b4a6",
   "metadata": {
    "ExecuteTime": {
     "end_time": "2024-06-14T16:56:15.069394Z",
     "start_time": "2024-06-14T16:56:14.747491Z"
    }
   },
   "outputs": [],
   "source": [
    "mnist = tf.keras.datasets.mnist \n",
    "(train_images, train_labels), (test_images, test_labels) = mnist.load_data()\n",
    "filtered_train_images = train_images[train_labels < 5]\n",
    "filtered_test_images = test_images[test_labels < 5]\n",
    "filtered_train_labels = train_labels[train_labels < 5]\n",
    "filtered_test_labels = test_labels[test_labels < 5]"
   ]
  },
  {
   "cell_type": "code",
   "execution_count": 59,
   "id": "94192557b7dd4c0c",
   "metadata": {
    "ExecuteTime": {
     "end_time": "2024-06-14T16:57:19.432126Z",
     "start_time": "2024-06-14T16:57:19.264599Z"
    }
   },
   "outputs": [],
   "source": [
    "fashion_train_X = filtered_train_images / 255\n",
    "fashion_test_X = filtered_test_images / 255"
   ]
  },
  {
   "cell_type": "code",
   "execution_count": 60,
   "id": "9f128955d7c65188",
   "metadata": {
    "ExecuteTime": {
     "end_time": "2024-06-14T17:01:16.206333Z",
     "start_time": "2024-06-14T17:00:41.119960Z"
    }
   },
   "outputs": [
    {
     "name": "stdout",
     "output_type": "stream",
     "text": [
      "Epoch 1/50\n",
      "\u001b[1m2/2\u001b[0m \u001b[32m━━━━━━━━━━━━━━━━━━━━\u001b[0m\u001b[37m\u001b[0m \u001b[1m2s\u001b[0m 761ms/step - accuracy: 0.2520 - loss: 1.6289 - val_accuracy: 0.6739 - val_loss: 1.3828\n",
      "Epoch 2/50\n",
      "\u001b[1m2/2\u001b[0m \u001b[32m━━━━━━━━━━━━━━━━━━━━\u001b[0m\u001b[37m\u001b[0m \u001b[1m1s\u001b[0m 561ms/step - accuracy: 0.7289 - loss: 1.3421 - val_accuracy: 0.8412 - val_loss: 1.1913\n",
      "Epoch 3/50\n",
      "\u001b[1m2/2\u001b[0m \u001b[32m━━━━━━━━━━━━━━━━━━━━\u001b[0m\u001b[37m\u001b[0m \u001b[1m1s\u001b[0m 554ms/step - accuracy: 0.8598 - loss: 1.1529 - val_accuracy: 0.8097 - val_loss: 1.0203\n",
      "Epoch 4/50\n",
      "\u001b[1m2/2\u001b[0m \u001b[32m━━━━━━━━━━━━━━━━━━━━\u001b[0m\u001b[37m\u001b[0m \u001b[1m1s\u001b[0m 518ms/step - accuracy: 0.8359 - loss: 0.9762 - val_accuracy: 0.8646 - val_loss: 0.8652\n",
      "Epoch 5/50\n",
      "\u001b[1m2/2\u001b[0m \u001b[32m━━━━━━━━━━━━━━━━━━━━\u001b[0m\u001b[37m\u001b[0m \u001b[1m1s\u001b[0m 524ms/step - accuracy: 0.8903 - loss: 0.8337 - val_accuracy: 0.9025 - val_loss: 0.7371\n",
      "Epoch 6/50\n",
      "\u001b[1m2/2\u001b[0m \u001b[32m━━━━━━━━━━━━━━━━━━━━\u001b[0m\u001b[37m\u001b[0m \u001b[1m1s\u001b[0m 515ms/step - accuracy: 0.9035 - loss: 0.7137 - val_accuracy: 0.9122 - val_loss: 0.6351\n",
      "Epoch 7/50\n",
      "\u001b[1m2/2\u001b[0m \u001b[32m━━━━━━━━━━━━━━━━━━━━\u001b[0m\u001b[37m\u001b[0m \u001b[1m1s\u001b[0m 497ms/step - accuracy: 0.9101 - loss: 0.6159 - val_accuracy: 0.9163 - val_loss: 0.5510\n",
      "Epoch 8/50\n",
      "\u001b[1m2/2\u001b[0m \u001b[32m━━━━━━━━━━━━━━━━━━━━\u001b[0m\u001b[37m\u001b[0m \u001b[1m1s\u001b[0m 509ms/step - accuracy: 0.9061 - loss: 0.5324 - val_accuracy: 0.9191 - val_loss: 0.4852\n",
      "Epoch 9/50\n",
      "\u001b[1m2/2\u001b[0m \u001b[32m━━━━━━━━━━━━━━━━━━━━\u001b[0m\u001b[37m\u001b[0m \u001b[1m1s\u001b[0m 565ms/step - accuracy: 0.9114 - loss: 0.4654 - val_accuracy: 0.9247 - val_loss: 0.4293\n",
      "Epoch 10/50\n",
      "\u001b[1m2/2\u001b[0m \u001b[32m━━━━━━━━━━━━━━━━━━━━\u001b[0m\u001b[37m\u001b[0m \u001b[1m1s\u001b[0m 570ms/step - accuracy: 0.9141 - loss: 0.4114 - val_accuracy: 0.9299 - val_loss: 0.3855\n",
      "Epoch 11/50\n",
      "\u001b[1m2/2\u001b[0m \u001b[32m━━━━━━━━━━━━━━━━━━━━\u001b[0m\u001b[37m\u001b[0m \u001b[1m1s\u001b[0m 649ms/step - accuracy: 0.9180 - loss: 0.3767 - val_accuracy: 0.9340 - val_loss: 0.3516\n",
      "Epoch 12/50\n",
      "\u001b[1m2/2\u001b[0m \u001b[32m━━━━━━━━━━━━━━━━━━━━\u001b[0m\u001b[37m\u001b[0m \u001b[1m1s\u001b[0m 532ms/step - accuracy: 0.9233 - loss: 0.3345 - val_accuracy: 0.9356 - val_loss: 0.3211\n",
      "Epoch 13/50\n",
      "\u001b[1m2/2\u001b[0m \u001b[32m━━━━━━━━━━━━━━━━━━━━\u001b[0m\u001b[37m\u001b[0m \u001b[1m1s\u001b[0m 534ms/step - accuracy: 0.9234 - loss: 0.3135 - val_accuracy: 0.9364 - val_loss: 0.2970\n",
      "Epoch 14/50\n",
      "\u001b[1m2/2\u001b[0m \u001b[32m━━━━━━━━━━━━━━━━━━━━\u001b[0m\u001b[37m\u001b[0m \u001b[1m1s\u001b[0m 555ms/step - accuracy: 0.9378 - loss: 0.2790 - val_accuracy: 0.9385 - val_loss: 0.2768\n",
      "Epoch 15/50\n",
      "\u001b[1m2/2\u001b[0m \u001b[32m━━━━━━━━━━━━━━━━━━━━\u001b[0m\u001b[37m\u001b[0m \u001b[1m1s\u001b[0m 542ms/step - accuracy: 0.9313 - loss: 0.2693 - val_accuracy: 0.9414 - val_loss: 0.2599\n",
      "Epoch 16/50\n",
      "\u001b[1m2/2\u001b[0m \u001b[32m━━━━━━━━━━━━━━━━━━━━\u001b[0m\u001b[37m\u001b[0m \u001b[1m1s\u001b[0m 512ms/step - accuracy: 0.9365 - loss: 0.2489 - val_accuracy: 0.9430 - val_loss: 0.2462\n",
      "Epoch 17/50\n",
      "\u001b[1m2/2\u001b[0m \u001b[32m━━━━━━━━━━━━━━━━━━━━\u001b[0m\u001b[37m\u001b[0m \u001b[1m1s\u001b[0m 551ms/step - accuracy: 0.9366 - loss: 0.2327 - val_accuracy: 0.9442 - val_loss: 0.2351\n",
      "Epoch 18/50\n",
      "\u001b[1m2/2\u001b[0m \u001b[32m━━━━━━━━━━━━━━━━━━━━\u001b[0m\u001b[37m\u001b[0m \u001b[1m1s\u001b[0m 546ms/step - accuracy: 0.9418 - loss: 0.2226 - val_accuracy: 0.9455 - val_loss: 0.2247\n",
      "Epoch 19/50\n",
      "\u001b[1m2/2\u001b[0m \u001b[32m━━━━━━━━━━━━━━━━━━━━\u001b[0m\u001b[37m\u001b[0m \u001b[1m1s\u001b[0m 513ms/step - accuracy: 0.9563 - loss: 0.1999 - val_accuracy: 0.9480 - val_loss: 0.2146\n",
      "Epoch 20/50\n",
      "\u001b[1m2/2\u001b[0m \u001b[32m━━━━━━━━━━━━━━━━━━━━\u001b[0m\u001b[37m\u001b[0m \u001b[1m1s\u001b[0m 561ms/step - accuracy: 0.9550 - loss: 0.1908 - val_accuracy: 0.9492 - val_loss: 0.2060\n",
      "Epoch 21/50\n",
      "\u001b[1m2/2\u001b[0m \u001b[32m━━━━━━━━━━━━━━━━━━━━\u001b[0m\u001b[37m\u001b[0m \u001b[1m1s\u001b[0m 554ms/step - accuracy: 0.9485 - loss: 0.1946 - val_accuracy: 0.9494 - val_loss: 0.2000\n",
      "Epoch 22/50\n",
      "\u001b[1m2/2\u001b[0m \u001b[32m━━━━━━━━━━━━━━━━━━━━\u001b[0m\u001b[37m\u001b[0m \u001b[1m1s\u001b[0m 558ms/step - accuracy: 0.9550 - loss: 0.1784 - val_accuracy: 0.9508 - val_loss: 0.1931\n",
      "Epoch 23/50\n",
      "\u001b[1m2/2\u001b[0m \u001b[32m━━━━━━━━━━━━━━━━━━━━\u001b[0m\u001b[37m\u001b[0m \u001b[1m1s\u001b[0m 597ms/step - accuracy: 0.9577 - loss: 0.1751 - val_accuracy: 0.9533 - val_loss: 0.1875\n",
      "Epoch 24/50\n",
      "\u001b[1m2/2\u001b[0m \u001b[32m━━━━━━━━━━━━━━━━━━━━\u001b[0m\u001b[37m\u001b[0m \u001b[1m1s\u001b[0m 576ms/step - accuracy: 0.9616 - loss: 0.1579 - val_accuracy: 0.9543 - val_loss: 0.1823\n",
      "Epoch 25/50\n",
      "\u001b[1m2/2\u001b[0m \u001b[32m━━━━━━━━━━━━━━━━━━━━\u001b[0m\u001b[37m\u001b[0m \u001b[1m1s\u001b[0m 529ms/step - accuracy: 0.9525 - loss: 0.1685 - val_accuracy: 0.9552 - val_loss: 0.1783\n",
      "Epoch 26/50\n",
      "\u001b[1m2/2\u001b[0m \u001b[32m━━━━━━━━━━━━━━━━━━━━\u001b[0m\u001b[37m\u001b[0m \u001b[1m1s\u001b[0m 524ms/step - accuracy: 0.9551 - loss: 0.1573 - val_accuracy: 0.9564 - val_loss: 0.1737\n",
      "Epoch 27/50\n",
      "\u001b[1m2/2\u001b[0m \u001b[32m━━━━━━━━━━━━━━━━━━━━\u001b[0m\u001b[37m\u001b[0m \u001b[1m1s\u001b[0m 485ms/step - accuracy: 0.9630 - loss: 0.1472 - val_accuracy: 0.9560 - val_loss: 0.1710\n",
      "Epoch 28/50\n",
      "\u001b[1m2/2\u001b[0m \u001b[32m━━━━━━━━━━━━━━━━━━━━\u001b[0m\u001b[37m\u001b[0m \u001b[1m1s\u001b[0m 499ms/step - accuracy: 0.9616 - loss: 0.1460 - val_accuracy: 0.9576 - val_loss: 0.1669\n",
      "Epoch 29/50\n",
      "\u001b[1m2/2\u001b[0m \u001b[32m━━━━━━━━━━━━━━━━━━━━\u001b[0m\u001b[37m\u001b[0m \u001b[1m1s\u001b[0m 516ms/step - accuracy: 0.9643 - loss: 0.1408 - val_accuracy: 0.9587 - val_loss: 0.1627\n",
      "Epoch 30/50\n",
      "\u001b[1m2/2\u001b[0m \u001b[32m━━━━━━━━━━━━━━━━━━━━\u001b[0m\u001b[37m\u001b[0m \u001b[1m1s\u001b[0m 514ms/step - accuracy: 0.9617 - loss: 0.1393 - val_accuracy: 0.9597 - val_loss: 0.1598\n",
      "Epoch 31/50\n",
      "\u001b[1m2/2\u001b[0m \u001b[32m━━━━━━━━━━━━━━━━━━━━\u001b[0m\u001b[37m\u001b[0m \u001b[1m1s\u001b[0m 507ms/step - accuracy: 0.9617 - loss: 0.1361 - val_accuracy: 0.9609 - val_loss: 0.1569\n",
      "Epoch 32/50\n",
      "\u001b[1m2/2\u001b[0m \u001b[32m━━━━━━━━━━━━━━━━━━━━\u001b[0m\u001b[37m\u001b[0m \u001b[1m1s\u001b[0m 485ms/step - accuracy: 0.9630 - loss: 0.1285 - val_accuracy: 0.9615 - val_loss: 0.1551\n",
      "Epoch 33/50\n",
      "\u001b[1m2/2\u001b[0m \u001b[32m━━━━━━━━━━━━━━━━━━━━\u001b[0m\u001b[37m\u001b[0m \u001b[1m1s\u001b[0m 495ms/step - accuracy: 0.9709 - loss: 0.1178 - val_accuracy: 0.9622 - val_loss: 0.1529\n",
      "Epoch 34/50\n",
      "\u001b[1m2/2\u001b[0m \u001b[32m━━━━━━━━━━━━━━━━━━━━\u001b[0m\u001b[37m\u001b[0m \u001b[1m1s\u001b[0m 486ms/step - accuracy: 0.9657 - loss: 0.1230 - val_accuracy: 0.9624 - val_loss: 0.1506\n",
      "Epoch 35/50\n",
      "\u001b[1m2/2\u001b[0m \u001b[32m━━━━━━━━━━━━━━━━━━━━\u001b[0m\u001b[37m\u001b[0m \u001b[1m1s\u001b[0m 514ms/step - accuracy: 0.9709 - loss: 0.1105 - val_accuracy: 0.9624 - val_loss: 0.1481\n",
      "Epoch 36/50\n",
      "\u001b[1m2/2\u001b[0m \u001b[32m━━━━━━━━━━━━━━━━━━━━\u001b[0m\u001b[37m\u001b[0m \u001b[1m1s\u001b[0m 527ms/step - accuracy: 0.9709 - loss: 0.1148 - val_accuracy: 0.9634 - val_loss: 0.1455\n",
      "Epoch 37/50\n",
      "\u001b[1m2/2\u001b[0m \u001b[32m━━━━━━━━━━━━━━━━━━━━\u001b[0m\u001b[37m\u001b[0m \u001b[1m1s\u001b[0m 525ms/step - accuracy: 0.9709 - loss: 0.1058 - val_accuracy: 0.9640 - val_loss: 0.1435\n",
      "Epoch 38/50\n",
      "\u001b[1m2/2\u001b[0m \u001b[32m━━━━━━━━━━━━━━━━━━━━\u001b[0m\u001b[37m\u001b[0m \u001b[1m1s\u001b[0m 557ms/step - accuracy: 0.9670 - loss: 0.1103 - val_accuracy: 0.9630 - val_loss: 0.1429\n",
      "Epoch 39/50\n",
      "\u001b[1m2/2\u001b[0m \u001b[32m━━━━━━━━━━━━━━━━━━━━\u001b[0m\u001b[37m\u001b[0m \u001b[1m1s\u001b[0m 650ms/step - accuracy: 0.9749 - loss: 0.0992 - val_accuracy: 0.9636 - val_loss: 0.1402\n",
      "Epoch 40/50\n",
      "\u001b[1m2/2\u001b[0m \u001b[32m━━━━━━━━━━━━━━━━━━━━\u001b[0m\u001b[37m\u001b[0m \u001b[1m1s\u001b[0m 643ms/step - accuracy: 0.9722 - loss: 0.0995 - val_accuracy: 0.9648 - val_loss: 0.1383\n",
      "Epoch 41/50\n",
      "\u001b[1m2/2\u001b[0m \u001b[32m━━━━━━━━━━━━━━━━━━━━\u001b[0m\u001b[37m\u001b[0m \u001b[1m1s\u001b[0m 592ms/step - accuracy: 0.9736 - loss: 0.0952 - val_accuracy: 0.9652 - val_loss: 0.1370\n",
      "Epoch 42/50\n",
      "\u001b[1m2/2\u001b[0m \u001b[32m━━━━━━━━━━━━━━━━━━━━\u001b[0m\u001b[37m\u001b[0m \u001b[1m1s\u001b[0m 561ms/step - accuracy: 0.9709 - loss: 0.0951 - val_accuracy: 0.9665 - val_loss: 0.1361\n",
      "Epoch 43/50\n",
      "\u001b[1m2/2\u001b[0m \u001b[32m━━━━━━━━━━━━━━━━━━━━\u001b[0m\u001b[37m\u001b[0m \u001b[1m1s\u001b[0m 548ms/step - accuracy: 0.9762 - loss: 0.0936 - val_accuracy: 0.9656 - val_loss: 0.1355\n",
      "Epoch 44/50\n",
      "\u001b[1m2/2\u001b[0m \u001b[32m━━━━━━━━━━━━━━━━━━━━\u001b[0m\u001b[37m\u001b[0m \u001b[1m1s\u001b[0m 547ms/step - accuracy: 0.9775 - loss: 0.0889 - val_accuracy: 0.9650 - val_loss: 0.1341\n",
      "Epoch 45/50\n",
      "\u001b[1m2/2\u001b[0m \u001b[32m━━━━━━━━━━━━━━━━━━━━\u001b[0m\u001b[37m\u001b[0m \u001b[1m1s\u001b[0m 599ms/step - accuracy: 0.9775 - loss: 0.0860 - val_accuracy: 0.9656 - val_loss: 0.1318\n",
      "Epoch 46/50\n",
      "\u001b[1m2/2\u001b[0m \u001b[32m━━━━━━━━━━━━━━━━━━━━\u001b[0m\u001b[37m\u001b[0m \u001b[1m1s\u001b[0m 953ms/step - accuracy: 0.9788 - loss: 0.0870 - val_accuracy: 0.9658 - val_loss: 0.1304\n",
      "Epoch 47/50\n",
      "\u001b[1m2/2\u001b[0m \u001b[32m━━━━━━━━━━━━━━━━━━━━\u001b[0m\u001b[37m\u001b[0m \u001b[1m1s\u001b[0m 817ms/step - accuracy: 0.9815 - loss: 0.0799 - val_accuracy: 0.9661 - val_loss: 0.1291\n",
      "Epoch 48/50\n",
      "\u001b[1m2/2\u001b[0m \u001b[32m━━━━━━━━━━━━━━━━━━━━\u001b[0m\u001b[37m\u001b[0m \u001b[1m1s\u001b[0m 868ms/step - accuracy: 0.9789 - loss: 0.0801 - val_accuracy: 0.9665 - val_loss: 0.1280\n",
      "Epoch 49/50\n",
      "\u001b[1m2/2\u001b[0m \u001b[32m━━━━━━━━━━━━━━━━━━━━\u001b[0m\u001b[37m\u001b[0m \u001b[1m1s\u001b[0m 560ms/step - accuracy: 0.9841 - loss: 0.0772 - val_accuracy: 0.9658 - val_loss: 0.1282\n",
      "Epoch 50/50\n",
      "\u001b[1m2/2\u001b[0m \u001b[32m━━━━━━━━━━━━━━━━━━━━\u001b[0m\u001b[37m\u001b[0m \u001b[1m1s\u001b[0m 554ms/step - accuracy: 0.9867 - loss: 0.0739 - val_accuracy: 0.9669 - val_loss: 0.1265\n",
      "\u001b[1m161/161\u001b[0m \u001b[32m━━━━━━━━━━━━━━━━━━━━\u001b[0m\u001b[37m\u001b[0m \u001b[1m1s\u001b[0m 7ms/step\n"
     ]
    }
   ],
   "source": [
    "new_autoencoder = Model(input_img, decoded)\n",
    "for layer in new_autoencoder.layers:\n",
    "    layer.trainable = False\n",
    "\n",
    "flattened = Flatten()(encoded)\n",
    "x = Dense(128, activation='relu')(flattened)\n",
    "predictions = Dense(5, activation='softmax')(x)\n",
    "\n",
    "fashion_model = Model(input_img, predictions)\n",
    "fashion_model.compile(optimizer='adam', loss='sparse_categorical_crossentropy', metrics=['accuracy'])\n",
    "fashion_model.fit(fashion_train_X[:500], filtered_train_labels[:500], epochs=50, batch_size=256, validation_data=(fashion_test_X, filtered_test_labels))\n",
    "\n",
    "# Предсказание\n",
    "predictions = fashion_model.predict(fashion_test_X)\n"
   ]
  },
  {
   "cell_type": "code",
   "execution_count": 61,
   "id": "ba01b6f52d4b860c",
   "metadata": {
    "ExecuteTime": {
     "end_time": "2024-06-14T17:02:07.927513Z",
     "start_time": "2024-06-14T17:02:07.637765Z"
    }
   },
   "outputs": [
    {
     "data": {
      "image/png": "[encoded data removed]",
      "text/plain": [
       "<Figure size 1000x1000 with 2 Axes>"
      ]
     },
     "metadata": {},
     "output_type": "display_data"
    }
   ],
   "source": [
    "import numpy as np\n",
    "from sklearn.metrics import confusion_matrix, ConfusionMatrixDisplay\n",
    "import matplotlib.pyplot as plt\n",
    "\n",
    "# Получаем предсказанные метки классов из вероятностных предсказаний\n",
    "predicted_labels = np.argmax(predictions, axis=-1)\n",
    "\n",
    "# Вычисляем confusion matrix\n",
    "cm = confusion_matrix(filtered_test_labels, predicted_labels)\n",
    "\n",
    "# Визуализируем confusion matrix\n",
    "fig, ax = plt.subplots(figsize=(10, 10))\n",
    "ConfusionMatrixDisplay(cm, display_labels=[0, 1, 2, 3, 4]).plot(ax=ax)  # Измените метки классов, если у вас другие\n",
    "plt.show()\n"
   ]
  },
  {
   "cell_type": "code",
   "execution_count": 62,
   "id": "25d22929f74ae927",
   "metadata": {
    "ExecuteTime": {
     "end_time": "2024-06-14T17:03:48.851937Z",
     "start_time": "2024-06-14T17:03:48.833852Z"
    }
   },
   "outputs": [
    {
     "name": "stdout",
     "output_type": "stream",
     "text": [
      "Precision: 0.97\n",
      "Recall: 0.97\n",
      "F1-score: 0.97\n"
     ]
    }
   ],
   "source": [
    "from sklearn.metrics import precision_recall_fscore_support\n",
    "\n",
    "precision, recall, f1, _ = precision_recall_fscore_support(filtered_test_labels, predicted_labels, average='macro')\n",
    "\n",
    "# Print the metrics\n",
    "print(f\"Precision: {precision:.2f}\")\n",
    "print(f\"Recall: {recall:.2f}\")\n",
    "print(f\"F1-score: {f1:.2f}\")"
   ]
  },
  {
   "cell_type": "code",
   "execution_count": 66,
   "id": "627f5cb729778f70",
   "metadata": {
    "ExecuteTime": {
     "end_time": "2024-06-14T17:06:00.676056Z",
     "start_time": "2024-06-14T17:06:00.657363Z"
    }
   },
   "outputs": [
    {
     "name": "stdout",
     "output_type": "stream",
     "text": [
      "              precision    recall  f1-score   support\n",
      "\n",
      "           0       0.98      0.98      0.98       980\n",
      "           1       0.98      0.99      0.99      1135\n",
      "           2       0.94      0.95      0.94      1032\n",
      "           3       0.97      0.94      0.95      1010\n",
      "           4       0.97      0.97      0.97       982\n",
      "\n",
      "    accuracy                           0.97      5139\n",
      "   macro avg       0.97      0.97      0.97      5139\n",
      "weighted avg       0.97      0.97      0.97      5139\n",
      "\n"
     ]
    }
   ],
   "source": [
    "from sklearn.metrics import classification_report\n",
    "\n",
    "# Получаем отчет о классификации\n",
    "report = classification_report(filtered_test_labels, predicted_labels)\n",
    "print(report)"
   ]
  },
  {
   "cell_type": "markdown",
   "id": "129fdcf2a73add12",
   "metadata": {},
   "source": [
    "# Задание 1"
   ]
  },
  {
   "cell_type": "code",
   "execution_count": 71,
   "id": "b89f4454cdf18e51",
   "metadata": {
    "ExecuteTime": {
     "end_time": "2024-06-14T17:09:16.968537Z",
     "start_time": "2024-06-14T17:09:11.115062Z"
    }
   },
   "outputs": [
    {
     "name": "stderr",
     "output_type": "stream",
     "text": [
      "\\"
     ]
    },
    {
     "name": "stdout",
     "output_type": "stream",
     "text": [
      "Opening dataset in read-only mode as you don't have write permissions.\n"
     ]
    },
    {
     "name": "stderr",
     "output_type": "stream",
     "text": [
      "|"
     ]
    },
    {
     "name": "stdout",
     "output_type": "stream",
     "text": [
      "This dataset can be visualized in Jupyter Notebook by ds.visualize() or at https://app.activeloop.ai/activeloop/mnist-train\n",
      "\n"
     ]
    },
    {
     "name": "stderr",
     "output_type": "stream",
     "text": [
      "|"
     ]
    },
    {
     "name": "stdout",
     "output_type": "stream",
     "text": [
      "hub://activeloop/mnist-train loaded successfully.\n",
      "\n"
     ]
    },
    {
     "name": "stderr",
     "output_type": "stream",
     "text": [
      " \r"
     ]
    }
   ],
   "source": [
    "ds = deeplake.load(\"hub://activeloop/mnist-train\")"
   ]
  },
  {
   "cell_type": "code",
   "execution_count": 111,
   "id": "aa56821e8e4bec52",
   "metadata": {
    "ExecuteTime": {
     "end_time": "2024-06-14T17:37:01.195975Z",
     "start_time": "2024-06-14T17:36:54.006644Z"
    }
   },
   "outputs": [],
   "source": [
    "labels = np.array(ds['labels'])\n",
    "images = np.array(ds['images'])\n",
    "mnist_train_X, mnist_test_X, mnist_train_y, mnist_test_y = train_test_split(images, labels, test_size=0.2, random_state=42)"
   ]
  },
  {
   "cell_type": "code",
   "execution_count": 112,
   "id": "5454cf88b81c1cc7",
   "metadata": {
    "ExecuteTime": {
     "end_time": "2024-06-14T17:37:01.834724Z",
     "start_time": "2024-06-14T17:37:01.634103Z"
    }
   },
   "outputs": [],
   "source": [
    "mnist_train_X = mnist_train_X / 255\n",
    "mnist_test_X = mnist_test_X / 255"
   ]
  },
  {
   "cell_type": "code",
   "execution_count": 113,
   "id": "1dee547aea15b9bc",
   "metadata": {
    "ExecuteTime": {
     "end_time": "2024-06-14T17:37:02.304343Z",
     "start_time": "2024-06-14T17:37:02.140113Z"
    }
   },
   "outputs": [],
   "source": [
    "# Архитектура сверточного автоэнкодера\n",
    "input_img = Input(shape=(28, 28, 1))  # Fashion MNIST - черно-белые изображения\n",
    "\n",
    "# Энкодер\n",
    "x = Conv2D(32, (3, 3), activation='relu', padding='same')(input_img)\n",
    "x = MaxPooling2D((2, 2), padding='same')(x)\n",
    "x = Conv2D(64, (3, 3), activation='relu', padding='same')(x)\n",
    "encoded = MaxPooling2D((2, 2), padding='same')(x)\n",
    "\n",
    "# Декодер\n",
    "x = Conv2D(64, (3, 3), activation='relu', padding='same')(encoded)\n",
    "x = UpSampling2D((2, 2))(x)\n",
    "x = Conv2D(32, (3, 3), activation='relu', padding='same')(x)\n",
    "x = UpSampling2D((2, 2))(x)\n",
    "decoded = Conv2D(1, (3, 3), activation='sigmoid', padding='same')(x)\n",
    "flattened = Flatten()(decoded)\n",
    "out = Dense(10, activation='softmax')(flattened)\n",
    "\n",
    "optimizer = Adam(learning_rate=0.001)\n",
    "# Сборка автоэнкодера\n",
    "autoencoder = Model(input_img, out)\n",
    "autoencoder.compile(optimizer=optimizer, loss='categorical_crossentropy', metrics=['accuracy'])\n",
    "\n",
    "# Предполагается, что fashion_train и fashion_test имеют размерность (num_samples, 28, 28)\n",
    "# Мы просто изменяем размерность данных для соответствия форме (num_samples, 28, 28, 1)\n",
    "mnist_train = mnist_train_X.reshape(-1, 28, 28, 1)\n",
    "mnist_test = mnist_test_X.reshape(-1, 28, 28, 1)"
   ]
  },
  {
   "cell_type": "code",
   "execution_count": 114,
   "id": "ba88d2f07d699ac8",
   "metadata": {
    "ExecuteTime": {
     "end_time": "2024-06-14T17:37:03.250873Z",
     "start_time": "2024-06-14T17:37:03.243622Z"
    }
   },
   "outputs": [],
   "source": [
    "mnist_train_y = tf.keras.utils.to_categorical(mnist_train_y, 10)\n",
    "mnist_train_y\n",
    "mnist_test_y = tf.keras.utils.to_categorical(mnist_test_y, 10)"
   ]
  },
  {
   "cell_type": "code",
   "execution_count": 115,
   "id": "c33cba37eacdfa5",
   "metadata": {
    "ExecuteTime": {
     "end_time": "2024-06-14T17:39:42.503605Z",
     "start_time": "2024-06-14T17:37:04.125233Z"
    }
   },
   "outputs": [
    {
     "name": "stdout",
     "output_type": "stream",
     "text": [
      "Epoch 1/50\n",
      "\u001b[1m4/4\u001b[0m \u001b[32m━━━━━━━━━━━━━━━━━━━━\u001b[0m\u001b[37m\u001b[0m \u001b[1m6s\u001b[0m 1s/step - accuracy: 0.0962 - loss: 2.3596 - val_accuracy: 0.1023 - val_loss: 2.3335\n",
      "Epoch 2/50\n",
      "\u001b[1m4/4\u001b[0m \u001b[32m━━━━━━━━━━━━━━━━━━━━\u001b[0m\u001b[37m\u001b[0m \u001b[1m3s\u001b[0m 912ms/step - accuracy: 0.1198 - loss: 2.3111 - val_accuracy: 0.1503 - val_loss: 2.2652\n",
      "Epoch 3/50\n",
      "\u001b[1m4/4\u001b[0m \u001b[32m━━━━━━━━━━━━━━━━━━━━\u001b[0m\u001b[37m\u001b[0m \u001b[1m3s\u001b[0m 949ms/step - accuracy: 0.2000 - loss: 2.2401 - val_accuracy: 0.3045 - val_loss: 2.1605\n",
      "Epoch 4/50\n",
      "\u001b[1m4/4\u001b[0m \u001b[32m━━━━━━━━━━━━━━━━━━━━\u001b[0m\u001b[37m\u001b[0m \u001b[1m3s\u001b[0m 947ms/step - accuracy: 0.3203 - loss: 2.1128 - val_accuracy: 0.4153 - val_loss: 1.9880\n",
      "Epoch 5/50\n",
      "\u001b[1m4/4\u001b[0m \u001b[32m━━━━━━━━━━━━━━━━━━━━\u001b[0m\u001b[37m\u001b[0m \u001b[1m3s\u001b[0m 940ms/step - accuracy: 0.4288 - loss: 1.9352 - val_accuracy: 0.5247 - val_loss: 1.7414\n",
      "Epoch 6/50\n",
      "\u001b[1m4/4\u001b[0m \u001b[32m━━━━━━━━━━━━━━━━━━━━\u001b[0m\u001b[37m\u001b[0m \u001b[1m5s\u001b[0m 922ms/step - accuracy: 0.5185 - loss: 1.6770 - val_accuracy: 0.5773 - val_loss: 1.5108\n",
      "Epoch 7/50\n",
      "\u001b[1m4/4\u001b[0m \u001b[32m━━━━━━━━━━━━━━━━━━━━\u001b[0m\u001b[37m\u001b[0m \u001b[1m3s\u001b[0m 920ms/step - accuracy: 0.6010 - loss: 1.4393 - val_accuracy: 0.6623 - val_loss: 1.3007\n",
      "Epoch 8/50\n",
      "\u001b[1m4/4\u001b[0m \u001b[32m━━━━━━━━━━━━━━━━━━━━\u001b[0m\u001b[37m\u001b[0m \u001b[1m3s\u001b[0m 929ms/step - accuracy: 0.7018 - loss: 1.2337 - val_accuracy: 0.7450 - val_loss: 1.0776\n",
      "Epoch 9/50\n",
      "\u001b[1m4/4\u001b[0m \u001b[32m━━━━━━━━━━━━━━━━━━━━\u001b[0m\u001b[37m\u001b[0m \u001b[1m3s\u001b[0m 1s/step - accuracy: 0.7622 - loss: 1.0334 - val_accuracy: 0.7717 - val_loss: 0.9145\n",
      "Epoch 10/50\n",
      "\u001b[1m4/4\u001b[0m \u001b[32m━━━━━━━━━━━━━━━━━━━━\u001b[0m\u001b[37m\u001b[0m \u001b[1m3s\u001b[0m 1s/step - accuracy: 0.8014 - loss: 0.8561 - val_accuracy: 0.8147 - val_loss: 0.7673\n",
      "Epoch 11/50\n",
      "\u001b[1m4/4\u001b[0m \u001b[32m━━━━━━━━━━━━━━━━━━━━\u001b[0m\u001b[37m\u001b[0m \u001b[1m3s\u001b[0m 1s/step - accuracy: 0.8292 - loss: 0.7239 - val_accuracy: 0.8524 - val_loss: 0.6490\n",
      "Epoch 12/50\n",
      "\u001b[1m4/4\u001b[0m \u001b[32m━━━━━━━━━━━━━━━━━━━━\u001b[0m\u001b[37m\u001b[0m \u001b[1m3s\u001b[0m 962ms/step - accuracy: 0.8720 - loss: 0.5994 - val_accuracy: 0.8660 - val_loss: 0.5687\n",
      "Epoch 13/50\n",
      "\u001b[1m4/4\u001b[0m \u001b[32m━━━━━━━━━━━━━━━━━━━━\u001b[0m\u001b[37m\u001b[0m \u001b[1m3s\u001b[0m 906ms/step - accuracy: 0.8811 - loss: 0.5171 - val_accuracy: 0.8739 - val_loss: 0.5130\n",
      "Epoch 14/50\n",
      "\u001b[1m4/4\u001b[0m \u001b[32m━━━━━━━━━━━━━━━━━━━━\u001b[0m\u001b[37m\u001b[0m \u001b[1m3s\u001b[0m 937ms/step - accuracy: 0.8965 - loss: 0.4504 - val_accuracy: 0.8888 - val_loss: 0.4566\n",
      "Epoch 15/50\n",
      "\u001b[1m4/4\u001b[0m \u001b[32m━━━━━━━━━━━━━━━━━━━━\u001b[0m\u001b[37m\u001b[0m \u001b[1m3s\u001b[0m 982ms/step - accuracy: 0.9181 - loss: 0.3920 - val_accuracy: 0.8932 - val_loss: 0.4243\n",
      "Epoch 16/50\n",
      "\u001b[1m4/4\u001b[0m \u001b[32m━━━━━━━━━━━━━━━━━━━━\u001b[0m\u001b[37m\u001b[0m \u001b[1m3s\u001b[0m 960ms/step - accuracy: 0.9210 - loss: 0.3730 - val_accuracy: 0.9022 - val_loss: 0.3888\n",
      "Epoch 17/50\n",
      "\u001b[1m4/4\u001b[0m \u001b[32m━━━━━━━━━━━━━━━━━━━━\u001b[0m\u001b[37m\u001b[0m \u001b[1m3s\u001b[0m 961ms/step - accuracy: 0.9400 - loss: 0.3147 - val_accuracy: 0.9024 - val_loss: 0.3824\n",
      "Epoch 18/50\n",
      "\u001b[1m4/4\u001b[0m \u001b[32m━━━━━━━━━━━━━━━━━━━━\u001b[0m\u001b[37m\u001b[0m \u001b[1m3s\u001b[0m 942ms/step - accuracy: 0.9269 - loss: 0.3204 - val_accuracy: 0.9122 - val_loss: 0.3445\n",
      "Epoch 19/50\n",
      "\u001b[1m4/4\u001b[0m \u001b[32m━━━━━━━━━━━━━━━━━━━━\u001b[0m\u001b[37m\u001b[0m \u001b[1m3s\u001b[0m 904ms/step - accuracy: 0.9402 - loss: 0.2841 - val_accuracy: 0.9135 - val_loss: 0.3270\n",
      "Epoch 20/50\n",
      "\u001b[1m4/4\u001b[0m \u001b[32m━━━━━━━━━━━━━━━━━━━━\u001b[0m\u001b[37m\u001b[0m \u001b[1m3s\u001b[0m 912ms/step - accuracy: 0.9358 - loss: 0.2815 - val_accuracy: 0.9156 - val_loss: 0.3142\n",
      "Epoch 21/50\n",
      "\u001b[1m4/4\u001b[0m \u001b[32m━━━━━━━━━━━━━━━━━━━━\u001b[0m\u001b[37m\u001b[0m \u001b[1m3s\u001b[0m 914ms/step - accuracy: 0.9487 - loss: 0.2394 - val_accuracy: 0.9182 - val_loss: 0.3033\n",
      "Epoch 22/50\n",
      "\u001b[1m4/4\u001b[0m \u001b[32m━━━━━━━━━━━━━━━━━━━━\u001b[0m\u001b[37m\u001b[0m \u001b[1m3s\u001b[0m 904ms/step - accuracy: 0.9445 - loss: 0.2343 - val_accuracy: 0.9193 - val_loss: 0.2947\n",
      "Epoch 23/50\n",
      "\u001b[1m4/4\u001b[0m \u001b[32m━━━━━━━━━━━━━━━━━━━━\u001b[0m\u001b[37m\u001b[0m \u001b[1m3s\u001b[0m 915ms/step - accuracy: 0.9517 - loss: 0.2160 - val_accuracy: 0.9251 - val_loss: 0.2803\n",
      "Epoch 24/50\n",
      "\u001b[1m4/4\u001b[0m \u001b[32m━━━━━━━━━━━━━━━━━━━━\u001b[0m\u001b[37m\u001b[0m \u001b[1m3s\u001b[0m 904ms/step - accuracy: 0.9587 - loss: 0.1950 - val_accuracy: 0.9248 - val_loss: 0.2711\n",
      "Epoch 25/50\n",
      "\u001b[1m4/4\u001b[0m \u001b[32m━━━━━━━━━━━━━━━━━━━━\u001b[0m\u001b[37m\u001b[0m \u001b[1m3s\u001b[0m 901ms/step - accuracy: 0.9519 - loss: 0.2026 - val_accuracy: 0.9243 - val_loss: 0.2716\n",
      "Epoch 26/50\n",
      "\u001b[1m4/4\u001b[0m \u001b[32m━━━━━━━━━━━━━━━━━━━━\u001b[0m\u001b[37m\u001b[0m \u001b[1m3s\u001b[0m 893ms/step - accuracy: 0.9612 - loss: 0.1840 - val_accuracy: 0.9293 - val_loss: 0.2594\n",
      "Epoch 27/50\n",
      "\u001b[1m4/4\u001b[0m \u001b[32m━━━━━━━━━━━━━━━━━━━━\u001b[0m\u001b[37m\u001b[0m \u001b[1m3s\u001b[0m 912ms/step - accuracy: 0.9619 - loss: 0.1656 - val_accuracy: 0.9290 - val_loss: 0.2509\n",
      "Epoch 28/50\n",
      "\u001b[1m4/4\u001b[0m \u001b[32m━━━━━━━━━━━━━━━━━━━━\u001b[0m\u001b[37m\u001b[0m \u001b[1m3s\u001b[0m 994ms/step - accuracy: 0.9560 - loss: 0.1786 - val_accuracy: 0.9324 - val_loss: 0.2448\n",
      "Epoch 29/50\n",
      "\u001b[1m4/4\u001b[0m \u001b[32m━━━━━━━━━━━━━━━━━━━━\u001b[0m\u001b[37m\u001b[0m \u001b[1m4s\u001b[0m 1s/step - accuracy: 0.9678 - loss: 0.1553 - val_accuracy: 0.9344 - val_loss: 0.2394\n",
      "Epoch 30/50\n",
      "\u001b[1m4/4\u001b[0m \u001b[32m━━━━━━━━━━━━━━━━━━━━\u001b[0m\u001b[37m\u001b[0m \u001b[1m3s\u001b[0m 1s/step - accuracy: 0.9716 - loss: 0.1470 - val_accuracy: 0.9362 - val_loss: 0.2349\n",
      "Epoch 31/50\n",
      "\u001b[1m4/4\u001b[0m \u001b[32m━━━━━━━━━━━━━━━━━━━━\u001b[0m\u001b[37m\u001b[0m \u001b[1m3s\u001b[0m 1s/step - accuracy: 0.9722 - loss: 0.1282 - val_accuracy: 0.9351 - val_loss: 0.2318\n",
      "Epoch 32/50\n",
      "\u001b[1m4/4\u001b[0m \u001b[32m━━━━━━━━━━━━━━━━━━━━\u001b[0m\u001b[37m\u001b[0m \u001b[1m4s\u001b[0m 1s/step - accuracy: 0.9714 - loss: 0.1327 - val_accuracy: 0.9383 - val_loss: 0.2234\n",
      "Epoch 33/50\n",
      "\u001b[1m4/4\u001b[0m \u001b[32m━━━━━━━━━━━━━━━━━━━━\u001b[0m\u001b[37m\u001b[0m \u001b[1m3s\u001b[0m 985ms/step - accuracy: 0.9767 - loss: 0.1186 - val_accuracy: 0.9386 - val_loss: 0.2170\n",
      "Epoch 34/50\n",
      "\u001b[1m4/4\u001b[0m \u001b[32m━━━━━━━━━━━━━━━━━━━━\u001b[0m\u001b[37m\u001b[0m \u001b[1m3s\u001b[0m 914ms/step - accuracy: 0.9715 - loss: 0.1231 - val_accuracy: 0.9358 - val_loss: 0.2223\n",
      "Epoch 35/50\n",
      "\u001b[1m4/4\u001b[0m \u001b[32m━━━━━━━━━━━━━━━━━━━━\u001b[0m\u001b[37m\u001b[0m \u001b[1m3s\u001b[0m 1s/step - accuracy: 0.9737 - loss: 0.1169 - val_accuracy: 0.9384 - val_loss: 0.2214\n",
      "Epoch 36/50\n",
      "\u001b[1m4/4\u001b[0m \u001b[32m━━━━━━━━━━━━━━━━━━━━\u001b[0m\u001b[37m\u001b[0m \u001b[1m3s\u001b[0m 943ms/step - accuracy: 0.9749 - loss: 0.1221 - val_accuracy: 0.9398 - val_loss: 0.2094\n",
      "Epoch 37/50\n",
      "\u001b[1m4/4\u001b[0m \u001b[32m━━━━━━━━━━━━━━━━━━━━\u001b[0m\u001b[37m\u001b[0m \u001b[1m3s\u001b[0m 1s/step - accuracy: 0.9787 - loss: 0.1022 - val_accuracy: 0.9417 - val_loss: 0.2047\n",
      "Epoch 38/50\n",
      "\u001b[1m4/4\u001b[0m \u001b[32m━━━━━━━━━━━━━━━━━━━━\u001b[0m\u001b[37m\u001b[0m \u001b[1m3s\u001b[0m 998ms/step - accuracy: 0.9871 - loss: 0.0999 - val_accuracy: 0.9417 - val_loss: 0.2023\n",
      "Epoch 39/50\n",
      "\u001b[1m4/4\u001b[0m \u001b[32m━━━━━━━━━━━━━━━━━━━━\u001b[0m\u001b[37m\u001b[0m \u001b[1m3s\u001b[0m 957ms/step - accuracy: 0.9823 - loss: 0.0980 - val_accuracy: 0.9393 - val_loss: 0.2058\n",
      "Epoch 40/50\n",
      "\u001b[1m4/4\u001b[0m \u001b[32m━━━━━━━━━━━━━━━━━━━━\u001b[0m\u001b[37m\u001b[0m \u001b[1m3s\u001b[0m 965ms/step - accuracy: 0.9890 - loss: 0.0920 - val_accuracy: 0.9428 - val_loss: 0.1956\n",
      "Epoch 41/50\n",
      "\u001b[1m4/4\u001b[0m \u001b[32m━━━━━━━━━━━━━━━━━━━━\u001b[0m\u001b[37m\u001b[0m \u001b[1m3s\u001b[0m 906ms/step - accuracy: 0.9878 - loss: 0.0832 - val_accuracy: 0.9440 - val_loss: 0.1932\n",
      "Epoch 42/50\n",
      "\u001b[1m4/4\u001b[0m \u001b[32m━━━━━━━━━━━━━━━━━━━━\u001b[0m\u001b[37m\u001b[0m \u001b[1m3s\u001b[0m 884ms/step - accuracy: 0.9917 - loss: 0.0773 - val_accuracy: 0.9446 - val_loss: 0.1957\n",
      "Epoch 43/50\n",
      "\u001b[1m4/4\u001b[0m \u001b[32m━━━━━━━━━━━━━━━━━━━━\u001b[0m\u001b[37m\u001b[0m \u001b[1m3s\u001b[0m 920ms/step - accuracy: 0.9910 - loss: 0.0731 - val_accuracy: 0.9442 - val_loss: 0.1976\n",
      "Epoch 44/50\n",
      "\u001b[1m4/4\u001b[0m \u001b[32m━━━━━━━━━━━━━━━━━━━━\u001b[0m\u001b[37m\u001b[0m \u001b[1m3s\u001b[0m 950ms/step - accuracy: 0.9904 - loss: 0.0793 - val_accuracy: 0.9443 - val_loss: 0.1934\n",
      "Epoch 45/50\n",
      "\u001b[1m4/4\u001b[0m \u001b[32m━━━━━━━━━━━━━━━━━━━━\u001b[0m\u001b[37m\u001b[0m \u001b[1m3s\u001b[0m 1s/step - accuracy: 0.9885 - loss: 0.0754 - val_accuracy: 0.9468 - val_loss: 0.1879\n",
      "Epoch 46/50\n",
      "\u001b[1m4/4\u001b[0m \u001b[32m━━━━━━━━━━━━━━━━━━━━\u001b[0m\u001b[37m\u001b[0m \u001b[1m3s\u001b[0m 927ms/step - accuracy: 0.9944 - loss: 0.0667 - val_accuracy: 0.9451 - val_loss: 0.1888\n",
      "Epoch 47/50\n",
      "\u001b[1m4/4\u001b[0m \u001b[32m━━━━━━━━━━━━━━━━━━━━\u001b[0m\u001b[37m\u001b[0m \u001b[1m3s\u001b[0m 912ms/step - accuracy: 0.9943 - loss: 0.0668 - val_accuracy: 0.9465 - val_loss: 0.1805\n",
      "Epoch 48/50\n",
      "\u001b[1m4/4\u001b[0m \u001b[32m━━━━━━━━━━━━━━━━━━━━\u001b[0m\u001b[37m\u001b[0m \u001b[1m3s\u001b[0m 937ms/step - accuracy: 0.9955 - loss: 0.0609 - val_accuracy: 0.9479 - val_loss: 0.1820\n",
      "Epoch 49/50\n",
      "\u001b[1m4/4\u001b[0m \u001b[32m━━━━━━━━━━━━━━━━━━━━\u001b[0m\u001b[37m\u001b[0m \u001b[1m3s\u001b[0m 938ms/step - accuracy: 0.9930 - loss: 0.0583 - val_accuracy: 0.9473 - val_loss: 0.1813\n",
      "Epoch 50/50\n",
      "\u001b[1m4/4\u001b[0m \u001b[32m━━━━━━━━━━━━━━━━━━━━\u001b[0m\u001b[37m\u001b[0m \u001b[1m3s\u001b[0m 965ms/step - accuracy: 0.9967 - loss: 0.0616 - val_accuracy: 0.9474 - val_loss: 0.1762\n"
     ]
    },
    {
     "data": {
      "text/plain": [
       "<keras.src.callbacks.history.History at 0x1eb84d3f650>"
      ]
     },
     "execution_count": 115,
     "metadata": {},
     "output_type": "execute_result"
    }
   ],
   "source": [
    "autoencoder.fit(mnist_train[:1000], mnist_train_y[:1000],\n",
    "                epochs=50,\n",
    "                batch_size=256,\n",
    "                validation_data=(mnist_test, mnist_test_y))"
   ]
  },
  {
   "cell_type": "code",
   "execution_count": 116,
   "id": "66651d041bd487d3",
   "metadata": {
    "ExecuteTime": {
     "end_time": "2024-06-14T17:39:57.771051Z",
     "start_time": "2024-06-14T17:39:52.479631Z"
    }
   },
   "outputs": [
    {
     "name": "stdout",
     "output_type": "stream",
     "text": [
      "\u001b[1m375/375\u001b[0m \u001b[32m━━━━━━━━━━━━━━━━━━━━\u001b[0m\u001b[37m\u001b[0m \u001b[1m5s\u001b[0m 12ms/step\n"
     ]
    }
   ],
   "source": [
    "predicted_labels = autoencoder.predict(mnist_test)"
   ]
  },
  {
   "cell_type": "code",
   "execution_count": 117,
   "id": "639f22496d047be2",
   "metadata": {
    "ExecuteTime": {
     "end_time": "2024-06-14T17:39:59.603044Z",
     "start_time": "2024-06-14T17:39:59.597535Z"
    }
   },
   "outputs": [
    {
     "data": {
      "text/plain": [
       "array([[3.82636017e-06, 1.72816130e-04, 1.42675590e-05, ...,\n",
       "        9.87030923e-01, 5.91221091e-04, 4.71739843e-03],\n",
       "       [1.19154203e-04, 2.22531999e-05, 1.29992710e-04, ...,\n",
       "        5.65597948e-05, 2.74087834e-05, 1.13973429e-05],\n",
       "       [1.09420577e-03, 6.60721416e-05, 6.92333735e-04, ...,\n",
       "        6.11546566e-05, 9.89002228e-01, 4.43332130e-04],\n",
       "       ...,\n",
       "       [1.12264475e-04, 1.55776725e-04, 1.29165892e-05, ...,\n",
       "        1.19385996e-03, 8.76444578e-03, 9.62774396e-01],\n",
       "       [3.13195027e-03, 2.19851900e-05, 6.51563678e-05, ...,\n",
       "        5.26794136e-01, 1.80061953e-03, 4.65376556e-01],\n",
       "       [1.14780013e-03, 2.31757112e-05, 9.90161419e-01, ...,\n",
       "        1.40454038e-03, 3.22454260e-04, 3.58355537e-05]], dtype=float32)"
      ]
     },
     "execution_count": 117,
     "metadata": {},
     "output_type": "execute_result"
    }
   ],
   "source": [
    "predicted_labels"
   ]
  },
  {
   "cell_type": "code",
   "execution_count": 119,
   "id": "56534b4772bfb43a",
   "metadata": {
    "ExecuteTime": {
     "end_time": "2024-06-14T17:40:28.089399Z",
     "start_time": "2024-06-14T17:40:28.080742Z"
    }
   },
   "outputs": [
    {
     "data": {
      "text/plain": [
       "array([[0., 0., 0., ..., 1., 0., 0.],\n",
       "       [0., 0., 0., ..., 0., 0., 0.],\n",
       "       [0., 0., 0., ..., 0., 1., 0.],\n",
       "       ...,\n",
       "       [0., 0., 0., ..., 0., 0., 1.],\n",
       "       [0., 0., 0., ..., 1., 0., 0.],\n",
       "       [0., 0., 1., ..., 0., 0., 0.]])"
      ]
     },
     "execution_count": 119,
     "metadata": {},
     "output_type": "execute_result"
    }
   ],
   "source": [
    "mnist_test_y"
   ]
  },
  {
   "cell_type": "code",
   "execution_count": 127,
   "id": "dfa6598168a25b70",
   "metadata": {
    "ExecuteTime": {
     "end_time": "2024-06-14T17:43:32.720102Z",
     "start_time": "2024-06-14T17:43:32.685002Z"
    }
   },
   "outputs": [
    {
     "name": "stdout",
     "output_type": "stream",
     "text": [
      "              precision    recall  f1-score   support\n",
      "\n",
      "           0       0.97      0.97      0.97      1175\n",
      "           1       0.98      0.98      0.98      1322\n",
      "           2       0.94      0.93      0.93      1174\n",
      "           3       0.95      0.92      0.93      1219\n",
      "           4       0.97      0.94      0.95      1176\n",
      "           5       0.95      0.92      0.93      1104\n",
      "           6       0.96      0.98      0.97      1177\n",
      "           7       0.93      0.97      0.95      1299\n",
      "           8       0.90      0.94      0.92      1160\n",
      "           9       0.92      0.92      0.92      1194\n",
      "\n",
      "    accuracy                           0.95     12000\n",
      "   macro avg       0.95      0.95      0.95     12000\n",
      "weighted avg       0.95      0.95      0.95     12000\n",
      "\n"
     ]
    }
   ],
   "source": [
    "from sklearn.metrics import classification_report\n",
    "\n",
    "prediction_y = np.argmax(predicted_labels, axis=-1)\n",
    "mnist_test_y_1 = np.argmax(mnist_test_y, axis=-1)\n",
    "# Получаем отчет о классификации\n",
    "report = classification_report(mnist_test_y_1, prediction_y)\n",
    "print(report)"
   ]
  },
  {
   "cell_type": "code",
   "execution_count": 125,
   "id": "e2027bf4740c1366",
   "metadata": {
    "ExecuteTime": {
     "end_time": "2024-06-14T17:43:06.403630Z",
     "start_time": "2024-06-14T17:43:06.394739Z"
    }
   },
   "outputs": [
    {
     "data": {
      "text/plain": [
       "array([7, 3, 8, ..., 9, 7, 2], dtype=int64)"
      ]
     },
     "execution_count": 125,
     "metadata": {},
     "output_type": "execute_result"
    }
   ],
   "source": [
    "prediction_y"
   ]
  },
  {
   "cell_type": "code",
   "execution_count": 126,
   "id": "9cbfaca253caaf79",
   "metadata": {
    "ExecuteTime": {
     "end_time": "2024-06-14T17:43:12.667489Z",
     "start_time": "2024-06-14T17:43:12.661036Z"
    }
   },
   "outputs": [
    {
     "data": {
      "text/plain": [
       "array([[0., 0., 0., ..., 1., 0., 0.],\n",
       "       [0., 0., 0., ..., 0., 0., 0.],\n",
       "       [0., 0., 0., ..., 0., 1., 0.],\n",
       "       ...,\n",
       "       [0., 0., 0., ..., 0., 0., 1.],\n",
       "       [0., 0., 0., ..., 1., 0., 0.],\n",
       "       [0., 0., 1., ..., 0., 0., 0.]])"
      ]
     },
     "execution_count": 126,
     "metadata": {},
     "output_type": "execute_result"
    }
   ],
   "source": [
    "mnist_test_y"
   ]
  },
  {
   "cell_type": "code",
   "execution_count": 128,
   "id": "c435e2e07879a4e6",
   "metadata": {
    "ExecuteTime": {
     "end_time": "2024-06-14T17:50:46.171820Z",
     "start_time": "2024-06-14T17:49:41.172260Z"
    }
   },
   "outputs": [
    {
     "name": "stdout",
     "output_type": "stream",
     "text": [
      "Epoch 1/50\n",
      "\u001b[1m2/2\u001b[0m \u001b[32m━━━━━━━━━━━━━━━━━━━━\u001b[0m\u001b[37m\u001b[0m \u001b[1m4s\u001b[0m 2s/step - accuracy: 0.4693 - loss: 1.3916 - val_accuracy: 0.7488 - val_loss: 0.7978\n",
      "Epoch 2/50\n",
      "\u001b[1m2/2\u001b[0m \u001b[32m━━━━━━━━━━━━━━━━━━━━\u001b[0m\u001b[37m\u001b[0m \u001b[1m1s\u001b[0m 1s/step - accuracy: 0.8270 - loss: 0.6675 - val_accuracy: 0.9323 - val_loss: 0.3946\n",
      "Epoch 3/50\n",
      "\u001b[1m2/2\u001b[0m \u001b[32m━━━━━━━━━━━━━━━━━━━━\u001b[0m\u001b[37m\u001b[0m \u001b[1m1s\u001b[0m 1s/step - accuracy: 0.9497 - loss: 0.3117 - val_accuracy: 0.9774 - val_loss: 0.2064\n",
      "Epoch 4/50\n",
      "\u001b[1m2/2\u001b[0m \u001b[32m━━━━━━━━━━━━━━━━━━━━\u001b[0m\u001b[37m\u001b[0m \u001b[1m1s\u001b[0m 1s/step - accuracy: 0.9828 - loss: 0.1743 - val_accuracy: 0.9780 - val_loss: 0.1459\n",
      "Epoch 5/50\n",
      "\u001b[1m2/2\u001b[0m \u001b[32m━━━━━━━━━━━━━━━━━━━━\u001b[0m\u001b[37m\u001b[0m \u001b[1m1s\u001b[0m 1s/step - accuracy: 0.9802 - loss: 0.1268 - val_accuracy: 0.9813 - val_loss: 0.1011\n",
      "Epoch 6/50\n",
      "\u001b[1m2/2\u001b[0m \u001b[32m━━━━━━━━━━━━━━━━━━━━\u001b[0m\u001b[37m\u001b[0m \u001b[1m1s\u001b[0m 1s/step - accuracy: 0.9881 - loss: 0.0883 - val_accuracy: 0.9813 - val_loss: 0.0773\n",
      "Epoch 7/50\n",
      "\u001b[1m2/2\u001b[0m \u001b[32m━━━━━━━━━━━━━━━━━━━━\u001b[0m\u001b[37m\u001b[0m \u001b[1m1s\u001b[0m 1s/step - accuracy: 0.9854 - loss: 0.0695 - val_accuracy: 0.9831 - val_loss: 0.0681\n",
      "Epoch 8/50\n",
      "\u001b[1m2/2\u001b[0m \u001b[32m━━━━━━━━━━━━━━━━━━━━\u001b[0m\u001b[37m\u001b[0m \u001b[1m1s\u001b[0m 1s/step - accuracy: 0.9841 - loss: 0.0586 - val_accuracy: 0.9823 - val_loss: 0.0638\n",
      "Epoch 9/50\n",
      "\u001b[1m2/2\u001b[0m \u001b[32m━━━━━━━━━━━━━━━━━━━━\u001b[0m\u001b[37m\u001b[0m \u001b[1m1s\u001b[0m 1s/step - accuracy: 0.9894 - loss: 0.0522 - val_accuracy: 0.9825 - val_loss: 0.0609\n",
      "Epoch 10/50\n",
      "\u001b[1m2/2\u001b[0m \u001b[32m━━━━━━━━━━━━━━━━━━━━\u001b[0m\u001b[37m\u001b[0m \u001b[1m1s\u001b[0m 1s/step - accuracy: 0.9881 - loss: 0.0507 - val_accuracy: 0.9825 - val_loss: 0.0582\n",
      "Epoch 11/50\n",
      "\u001b[1m2/2\u001b[0m \u001b[32m━━━━━━━━━━━━━━━━━━━━\u001b[0m\u001b[37m\u001b[0m \u001b[1m1s\u001b[0m 1s/step - accuracy: 0.9881 - loss: 0.0444 - val_accuracy: 0.9825 - val_loss: 0.0558\n",
      "Epoch 12/50\n",
      "\u001b[1m2/2\u001b[0m \u001b[32m━━━━━━━━━━━━━━━━━━━━\u001b[0m\u001b[37m\u001b[0m \u001b[1m1s\u001b[0m 1s/step - accuracy: 0.9934 - loss: 0.0329 - val_accuracy: 0.9833 - val_loss: 0.0545\n",
      "Epoch 13/50\n",
      "\u001b[1m2/2\u001b[0m \u001b[32m━━━━━━━━━━━━━━━━━━━━\u001b[0m\u001b[37m\u001b[0m \u001b[1m1s\u001b[0m 1s/step - accuracy: 0.9934 - loss: 0.0317 - val_accuracy: 0.9833 - val_loss: 0.0535\n",
      "Epoch 14/50\n",
      "\u001b[1m2/2\u001b[0m \u001b[32m━━━━━━━━━━━━━━━━━━━━\u001b[0m\u001b[37m\u001b[0m \u001b[1m1s\u001b[0m 1s/step - accuracy: 0.9947 - loss: 0.0283 - val_accuracy: 0.9823 - val_loss: 0.0522\n",
      "Epoch 15/50\n",
      "\u001b[1m2/2\u001b[0m \u001b[32m━━━━━━━━━━━━━━━━━━━━\u001b[0m\u001b[37m\u001b[0m \u001b[1m1s\u001b[0m 1s/step - accuracy: 0.9934 - loss: 0.0295 - val_accuracy: 0.9825 - val_loss: 0.0516\n",
      "Epoch 16/50\n",
      "\u001b[1m2/2\u001b[0m \u001b[32m━━━━━━━━━━━━━━━━━━━━\u001b[0m\u001b[37m\u001b[0m \u001b[1m1s\u001b[0m 1s/step - accuracy: 0.9947 - loss: 0.0282 - val_accuracy: 0.9827 - val_loss: 0.0501\n",
      "Epoch 17/50\n",
      "\u001b[1m2/2\u001b[0m \u001b[32m━━━━━━━━━━━━━━━━━━━━\u001b[0m\u001b[37m\u001b[0m \u001b[1m1s\u001b[0m 1s/step - accuracy: 0.9960 - loss: 0.0219 - val_accuracy: 0.9838 - val_loss: 0.0489\n",
      "Epoch 18/50\n",
      "\u001b[1m2/2\u001b[0m \u001b[32m━━━━━━━━━━━━━━━━━━━━\u001b[0m\u001b[37m\u001b[0m \u001b[1m1s\u001b[0m 1s/step - accuracy: 0.9987 - loss: 0.0172 - val_accuracy: 0.9837 - val_loss: 0.0483\n",
      "Epoch 19/50\n",
      "\u001b[1m2/2\u001b[0m \u001b[32m━━━━━━━━━━━━━━━━━━━━\u001b[0m\u001b[37m\u001b[0m \u001b[1m1s\u001b[0m 1s/step - accuracy: 0.9987 - loss: 0.0155 - val_accuracy: 0.9838 - val_loss: 0.0482\n",
      "Epoch 20/50\n",
      "\u001b[1m2/2\u001b[0m \u001b[32m━━━━━━━━━━━━━━━━━━━━\u001b[0m\u001b[37m\u001b[0m \u001b[1m1s\u001b[0m 1s/step - accuracy: 0.9987 - loss: 0.0148 - val_accuracy: 0.9835 - val_loss: 0.0484\n",
      "Epoch 21/50\n",
      "\u001b[1m2/2\u001b[0m \u001b[32m━━━━━━━━━━━━━━━━━━━━\u001b[0m\u001b[37m\u001b[0m \u001b[1m1s\u001b[0m 1s/step - accuracy: 0.9987 - loss: 0.0136 - val_accuracy: 0.9835 - val_loss: 0.0484\n",
      "Epoch 22/50\n",
      "\u001b[1m2/2\u001b[0m \u001b[32m━━━━━━━━━━━━━━━━━━━━\u001b[0m\u001b[37m\u001b[0m \u001b[1m1s\u001b[0m 1s/step - accuracy: 0.9974 - loss: 0.0146 - val_accuracy: 0.9835 - val_loss: 0.0484\n",
      "Epoch 23/50\n",
      "\u001b[1m2/2\u001b[0m \u001b[32m━━━━━━━━━━━━━━━━━━━━\u001b[0m\u001b[37m\u001b[0m \u001b[1m1s\u001b[0m 1s/step - accuracy: 0.9974 - loss: 0.0128 - val_accuracy: 0.9831 - val_loss: 0.0481\n",
      "Epoch 24/50\n",
      "\u001b[1m2/2\u001b[0m \u001b[32m━━━━━━━━━━━━━━━━━━━━\u001b[0m\u001b[37m\u001b[0m \u001b[1m1s\u001b[0m 1s/step - accuracy: 0.9974 - loss: 0.0121 - val_accuracy: 0.9833 - val_loss: 0.0480\n",
      "Epoch 25/50\n",
      "\u001b[1m2/2\u001b[0m \u001b[32m━━━━━━━━━━━━━━━━━━━━\u001b[0m\u001b[37m\u001b[0m \u001b[1m1s\u001b[0m 1s/step - accuracy: 0.9974 - loss: 0.0112 - val_accuracy: 0.9831 - val_loss: 0.0479\n",
      "Epoch 26/50\n",
      "\u001b[1m2/2\u001b[0m \u001b[32m━━━━━━━━━━━━━━━━━━━━\u001b[0m\u001b[37m\u001b[0m \u001b[1m1s\u001b[0m 1s/step - accuracy: 1.0000 - loss: 0.0086 - val_accuracy: 0.9831 - val_loss: 0.0480\n",
      "Epoch 27/50\n",
      "\u001b[1m2/2\u001b[0m \u001b[32m━━━━━━━━━━━━━━━━━━━━\u001b[0m\u001b[37m\u001b[0m \u001b[1m1s\u001b[0m 1s/step - accuracy: 1.0000 - loss: 0.0093 - val_accuracy: 0.9831 - val_loss: 0.0480\n",
      "Epoch 28/50\n",
      "\u001b[1m2/2\u001b[0m \u001b[32m━━━━━━━━━━━━━━━━━━━━\u001b[0m\u001b[37m\u001b[0m \u001b[1m1s\u001b[0m 1s/step - accuracy: 1.0000 - loss: 0.0086 - val_accuracy: 0.9829 - val_loss: 0.0481\n",
      "Epoch 29/50\n",
      "\u001b[1m2/2\u001b[0m \u001b[32m━━━━━━━━━━━━━━━━━━━━\u001b[0m\u001b[37m\u001b[0m \u001b[1m1s\u001b[0m 1s/step - accuracy: 1.0000 - loss: 0.0083 - val_accuracy: 0.9831 - val_loss: 0.0481\n",
      "Epoch 30/50\n",
      "\u001b[1m2/2\u001b[0m \u001b[32m━━━━━━━━━━━━━━━━━━━━\u001b[0m\u001b[37m\u001b[0m \u001b[1m1s\u001b[0m 1s/step - accuracy: 1.0000 - loss: 0.0078 - val_accuracy: 0.9833 - val_loss: 0.0479\n",
      "Epoch 31/50\n",
      "\u001b[1m2/2\u001b[0m \u001b[32m━━━━━━━━━━━━━━━━━━━━\u001b[0m\u001b[37m\u001b[0m \u001b[1m1s\u001b[0m 1s/step - accuracy: 1.0000 - loss: 0.0078 - val_accuracy: 0.9838 - val_loss: 0.0477\n",
      "Epoch 32/50\n",
      "\u001b[1m2/2\u001b[0m \u001b[32m━━━━━━━━━━━━━━━━━━━━\u001b[0m\u001b[37m\u001b[0m \u001b[1m1s\u001b[0m 1s/step - accuracy: 1.0000 - loss: 0.0063 - val_accuracy: 0.9842 - val_loss: 0.0476\n",
      "Epoch 33/50\n",
      "\u001b[1m2/2\u001b[0m \u001b[32m━━━━━━━━━━━━━━━━━━━━\u001b[0m\u001b[37m\u001b[0m \u001b[1m1s\u001b[0m 1s/step - accuracy: 1.0000 - loss: 0.0064 - val_accuracy: 0.9840 - val_loss: 0.0476\n",
      "Epoch 34/50\n",
      "\u001b[1m2/2\u001b[0m \u001b[32m━━━━━━━━━━━━━━━━━━━━\u001b[0m\u001b[37m\u001b[0m \u001b[1m1s\u001b[0m 1s/step - accuracy: 1.0000 - loss: 0.0056 - val_accuracy: 0.9838 - val_loss: 0.0475\n",
      "Epoch 35/50\n",
      "\u001b[1m2/2\u001b[0m \u001b[32m━━━━━━━━━━━━━━━━━━━━\u001b[0m\u001b[37m\u001b[0m \u001b[1m1s\u001b[0m 1s/step - accuracy: 1.0000 - loss: 0.0050 - val_accuracy: 0.9838 - val_loss: 0.0474\n",
      "Epoch 36/50\n",
      "\u001b[1m2/2\u001b[0m \u001b[32m━━━━━━━━━━━━━━━━━━━━\u001b[0m\u001b[37m\u001b[0m \u001b[1m1s\u001b[0m 1s/step - accuracy: 1.0000 - loss: 0.0055 - val_accuracy: 0.9838 - val_loss: 0.0475\n",
      "Epoch 37/50\n",
      "\u001b[1m2/2\u001b[0m \u001b[32m━━━━━━━━━━━━━━━━━━━━\u001b[0m\u001b[37m\u001b[0m \u001b[1m1s\u001b[0m 1s/step - accuracy: 1.0000 - loss: 0.0052 - val_accuracy: 0.9840 - val_loss: 0.0473\n",
      "Epoch 38/50\n",
      "\u001b[1m2/2\u001b[0m \u001b[32m━━━━━━━━━━━━━━━━━━━━\u001b[0m\u001b[37m\u001b[0m \u001b[1m1s\u001b[0m 1s/step - accuracy: 1.0000 - loss: 0.0054 - val_accuracy: 0.9840 - val_loss: 0.0471\n",
      "Epoch 39/50\n",
      "\u001b[1m2/2\u001b[0m \u001b[32m━━━━━━━━━━━━━━━━━━━━\u001b[0m\u001b[37m\u001b[0m \u001b[1m1s\u001b[0m 1s/step - accuracy: 1.0000 - loss: 0.0050 - val_accuracy: 0.9840 - val_loss: 0.0467\n",
      "Epoch 40/50\n",
      "\u001b[1m2/2\u001b[0m \u001b[32m━━━━━━━━━━━━━━━━━━━━\u001b[0m\u001b[37m\u001b[0m \u001b[1m1s\u001b[0m 1s/step - accuracy: 1.0000 - loss: 0.0048 - val_accuracy: 0.9844 - val_loss: 0.0464\n",
      "Epoch 41/50\n",
      "\u001b[1m2/2\u001b[0m \u001b[32m━━━━━━━━━━━━━━━━━━━━\u001b[0m\u001b[37m\u001b[0m \u001b[1m1s\u001b[0m 1s/step - accuracy: 1.0000 - loss: 0.0045 - val_accuracy: 0.9844 - val_loss: 0.0464\n",
      "Epoch 42/50\n",
      "\u001b[1m2/2\u001b[0m \u001b[32m━━━━━━━━━━━━━━━━━━━━\u001b[0m\u001b[37m\u001b[0m \u001b[1m1s\u001b[0m 1s/step - accuracy: 1.0000 - loss: 0.0040 - val_accuracy: 0.9844 - val_loss: 0.0464\n",
      "Epoch 43/50\n",
      "\u001b[1m2/2\u001b[0m \u001b[32m━━━━━━━━━━━━━━━━━━━━\u001b[0m\u001b[37m\u001b[0m \u001b[1m1s\u001b[0m 1s/step - accuracy: 1.0000 - loss: 0.0043 - val_accuracy: 0.9840 - val_loss: 0.0464\n",
      "Epoch 44/50\n",
      "\u001b[1m2/2\u001b[0m \u001b[32m━━━━━━━━━━━━━━━━━━━━\u001b[0m\u001b[37m\u001b[0m \u001b[1m1s\u001b[0m 1s/step - accuracy: 1.0000 - loss: 0.0037 - val_accuracy: 0.9840 - val_loss: 0.0464\n",
      "Epoch 45/50\n",
      "\u001b[1m2/2\u001b[0m \u001b[32m━━━━━━━━━━━━━━━━━━━━\u001b[0m\u001b[37m\u001b[0m \u001b[1m1s\u001b[0m 1s/step - accuracy: 1.0000 - loss: 0.0039 - val_accuracy: 0.9838 - val_loss: 0.0464\n",
      "Epoch 46/50\n",
      "\u001b[1m2/2\u001b[0m \u001b[32m━━━━━━━━━━━━━━━━━━━━\u001b[0m\u001b[37m\u001b[0m \u001b[1m1s\u001b[0m 1s/step - accuracy: 1.0000 - loss: 0.0039 - val_accuracy: 0.9838 - val_loss: 0.0464\n",
      "Epoch 47/50\n",
      "\u001b[1m2/2\u001b[0m \u001b[32m━━━━━━━━━━━━━━━━━━━━\u001b[0m\u001b[37m\u001b[0m \u001b[1m1s\u001b[0m 1s/step - accuracy: 1.0000 - loss: 0.0036 - val_accuracy: 0.9838 - val_loss: 0.0463\n",
      "Epoch 48/50\n",
      "\u001b[1m2/2\u001b[0m \u001b[32m━━━━━━━━━━━━━━━━━━━━\u001b[0m\u001b[37m\u001b[0m \u001b[1m1s\u001b[0m 1s/step - accuracy: 1.0000 - loss: 0.0036 - val_accuracy: 0.9838 - val_loss: 0.0462\n",
      "Epoch 49/50\n",
      "\u001b[1m2/2\u001b[0m \u001b[32m━━━━━━━━━━━━━━━━━━━━\u001b[0m\u001b[37m\u001b[0m \u001b[1m1s\u001b[0m 1s/step - accuracy: 1.0000 - loss: 0.0037 - val_accuracy: 0.9838 - val_loss: 0.0462\n",
      "Epoch 50/50\n",
      "\u001b[1m2/2\u001b[0m \u001b[32m━━━━━━━━━━━━━━━━━━━━\u001b[0m\u001b[37m\u001b[0m \u001b[1m1s\u001b[0m 1s/step - accuracy: 1.0000 - loss: 0.0035 - val_accuracy: 0.9840 - val_loss: 0.0460\n",
      "\u001b[1m161/161\u001b[0m \u001b[32m━━━━━━━━━━━━━━━━━━━━\u001b[0m\u001b[37m\u001b[0m \u001b[1m2s\u001b[0m 12ms/step\n"
     ]
    }
   ],
   "source": [
    "new_autoencoder_fashion = Model(input_img, autoencoder.layers[-1].output)\n",
    "for layer in new_autoencoder_fashion.layers:\n",
    "    layer.trainable = False\n",
    "\n",
    "x = Dense(128, activation='relu')(flattened)\n",
    "predictions = Dense(5, activation='softmax')(x)\n",
    "\n",
    "fashion_model_from_numbers = Model(input_img, predictions)\n",
    "fashion_model_from_numbers.compile(optimizer='adam', loss='sparse_categorical_crossentropy', metrics=['accuracy'])\n",
    "fashion_model_from_numbers.fit(fashion_train_X[:500], filtered_train_labels[:500], epochs=50, batch_size=256, validation_data=(fashion_test_X, filtered_test_labels))\n",
    "\n",
    "# Предсказание\n",
    "predictions_from_numbers = fashion_model_from_numbers.predict(fashion_test_X)"
   ]
  },
  {
   "cell_type": "code",
   "execution_count": 129,
   "id": "16d702dcb906e395",
   "metadata": {
    "ExecuteTime": {
     "end_time": "2024-06-14T17:50:57.519474Z",
     "start_time": "2024-06-14T17:50:57.510373Z"
    }
   },
   "outputs": [
    {
     "data": {
      "text/plain": [
       "array([[2.4483036e-04, 2.9581110e-04, 9.9939477e-01, 6.3976440e-05,\n",
       "        6.2702185e-07],\n",
       "       [3.7931730e-07, 9.9993348e-01, 1.0779216e-05, 1.6683859e-07,\n",
       "        5.5273671e-05],\n",
       "       [9.9999225e-01, 5.4356542e-07, 3.5600010e-06, 7.1906790e-08,\n",
       "        3.6111899e-06],\n",
       "       ...,\n",
       "       [6.0395126e-07, 4.6429665e-05, 9.9994695e-01, 6.0259094e-06,\n",
       "        6.7574661e-09],\n",
       "       [1.5320422e-04, 3.6951122e-04, 1.5115135e-03, 9.9796534e-01,\n",
       "        4.2553376e-07],\n",
       "       [9.2967589e-08, 3.6488529e-04, 7.0191857e-07, 7.5221990e-08,\n",
       "        9.9963415e-01]], dtype=float32)"
      ]
     },
     "execution_count": 129,
     "metadata": {},
     "output_type": "execute_result"
    }
   ],
   "source": [
    "predictions_from_numbers"
   ]
  },
  {
   "cell_type": "code",
   "execution_count": 134,
   "id": "7516a8561e984291",
   "metadata": {
    "ExecuteTime": {
     "end_time": "2024-06-14T17:53:52.680427Z",
     "start_time": "2024-06-14T17:53:52.653626Z"
    }
   },
   "outputs": [
    {
     "name": "stdout",
     "output_type": "stream",
     "text": [
      "              precision    recall  f1-score   support\n",
      "\n",
      "           0       0.99      0.99      0.99       980\n",
      "           1       0.99      0.99      0.99      1135\n",
      "           2       0.96      0.98      0.97      1032\n",
      "           3       0.99      0.98      0.98      1010\n",
      "           4       0.99      0.99      0.99       982\n",
      "\n",
      "    accuracy                           0.98      5139\n",
      "   macro avg       0.98      0.98      0.98      5139\n",
      "weighted avg       0.98      0.98      0.98      5139\n",
      "\n"
     ]
    }
   ],
   "source": [
    "prediction_fashion_y = np.argmax(predictions_from_numbers, axis=-1)\n",
    "# Получаем отчет о классификации\n",
    "report = classification_report(filtered_test_labels, prediction_fashion_y)\n",
    "print(report)"
   ]
  },
  {
   "cell_type": "code",
   "execution_count": 133,
   "id": "35daf57839fee51b",
   "metadata": {
    "ExecuteTime": {
     "end_time": "2024-06-14T17:53:43.537628Z",
     "start_time": "2024-06-14T17:53:43.531206Z"
    }
   },
   "outputs": [
    {
     "data": {
      "text/plain": [
       "array([2, 1, 0, ..., 2, 3, 4], dtype=uint8)"
      ]
     },
     "execution_count": 133,
     "metadata": {},
     "output_type": "execute_result"
    }
   ],
   "source": [
    "filtered_test_labels"
   ]
  },
  {
   "cell_type": "code",
   "execution_count": 135,
   "id": "1c1a43cb9945a35f",
   "metadata": {
    "ExecuteTime": {
     "end_time": "2024-06-14T17:54:41.373981Z",
     "start_time": "2024-06-14T17:54:41.060158Z"
    }
   },
   "outputs": [
    {
     "data": {
      "image/png": "[encoded data removed]",
      "text/plain": [
       "<Figure size 1000x1000 with 2 Axes>"
      ]
     },
     "metadata": {},
     "output_type": "display_data"
    }
   ],
   "source": [
    "# Вычисляем confusion matrix\n",
    "cm = confusion_matrix(filtered_test_labels, prediction_fashion_y)\n",
    "\n",
    "# Визуализируем confusion matrix\n",
    "fig, ax = plt.subplots(figsize=(10, 10))\n",
    "ConfusionMatrixDisplay(cm, display_labels=[0, 1, 2, 3, 4]).plot(ax=ax)  # Измените метки классов, если у вас другие\n",
    "plt.show()"
   ]
  },
  {
   "cell_type": "markdown",
   "id": "5caafd22e3f6cf",
   "metadata": {},
   "source": [
    "# Задание 3"
   ]
  },
  {
   "cell_type": "code",
   "execution_count": 2,
   "id": "8bf0941b9c92a66e",
   "metadata": {},
   "outputs": [
    {
     "name": "stdout",
     "output_type": "stream",
     "text": [
      "Epoch 1/50\n",
      "118/118 [==============================] - 10s 67ms/step - loss: 0.0644 - accuracy: 0.7871 - val_loss: 0.0325 - val_accuracy: 0.8070\n",
      "Epoch 2/50\n",
      "118/118 [==============================] - 6s 54ms/step - loss: 0.0240 - accuracy: 0.8093 - val_loss: 0.0180 - val_accuracy: 0.8111\n",
      "Epoch 3/50\n",
      "118/118 [==============================] - 6s 51ms/step - loss: 0.0160 - accuracy: 0.8125 - val_loss: 0.0140 - val_accuracy: 0.8118\n",
      "Epoch 4/50\n",
      "118/118 [==============================] - 7s 55ms/step - loss: 0.0128 - accuracy: 0.8136 - val_loss: 0.0116 - val_accuracy: 0.8128\n",
      "Epoch 5/50\n",
      "118/118 [==============================] - 7s 56ms/step - loss: 0.0110 - accuracy: 0.8141 - val_loss: 0.0104 - val_accuracy: 0.8131\n",
      "Epoch 6/50\n",
      "118/118 [==============================] - 7s 58ms/step - loss: 0.0098 - accuracy: 0.8144 - val_loss: 0.0094 - val_accuracy: 0.8136\n",
      "Epoch 7/50\n",
      "118/118 [==============================] - 6s 54ms/step - loss: 0.0090 - accuracy: 0.8146 - val_loss: 0.0083 - val_accuracy: 0.8137\n",
      "Epoch 8/50\n",
      "118/118 [==============================] - 8s 66ms/step - loss: 0.0083 - accuracy: 0.8147 - val_loss: 0.0080 - val_accuracy: 0.8137\n",
      "Epoch 9/50\n",
      "118/118 [==============================] - 6s 54ms/step - loss: 0.0078 - accuracy: 0.8148 - val_loss: 0.0073 - val_accuracy: 0.8139\n",
      "Epoch 10/50\n",
      "118/118 [==============================] - 7s 59ms/step - loss: 0.0074 - accuracy: 0.8149 - val_loss: 0.0072 - val_accuracy: 0.8139\n",
      "Epoch 11/50\n",
      "118/118 [==============================] - 8s 67ms/step - loss: 0.0070 - accuracy: 0.8150 - val_loss: 0.0066 - val_accuracy: 0.8140\n",
      "Epoch 12/50\n",
      "118/118 [==============================] - 7s 62ms/step - loss: 0.0067 - accuracy: 0.8150 - val_loss: 0.0065 - val_accuracy: 0.8141\n",
      "Epoch 13/50\n",
      "118/118 [==============================] - 6s 51ms/step - loss: 0.0064 - accuracy: 0.8151 - val_loss: 0.0063 - val_accuracy: 0.8141\n",
      "Epoch 14/50\n",
      "118/118 [==============================] - 6s 50ms/step - loss: 0.0061 - accuracy: 0.8151 - val_loss: 0.0059 - val_accuracy: 0.8141\n",
      "Epoch 15/50\n",
      "118/118 [==============================] - 7s 60ms/step - loss: 0.0059 - accuracy: 0.8151 - val_loss: 0.0058 - val_accuracy: 0.8141\n",
      "Epoch 16/50\n",
      "118/118 [==============================] - 6s 51ms/step - loss: 0.0058 - accuracy: 0.8151 - val_loss: 0.0057 - val_accuracy: 0.8141\n",
      "Epoch 17/50\n",
      "118/118 [==============================] - 7s 56ms/step - loss: 0.0056 - accuracy: 0.8152 - val_loss: 0.0055 - val_accuracy: 0.8142\n",
      "Epoch 18/50\n",
      "118/118 [==============================] - 6s 48ms/step - loss: 0.0054 - accuracy: 0.8152 - val_loss: 0.0053 - val_accuracy: 0.8142\n",
      "Epoch 19/50\n",
      "118/118 [==============================] - 6s 50ms/step - loss: 0.0052 - accuracy: 0.8152 - val_loss: 0.0052 - val_accuracy: 0.8142\n",
      "Epoch 20/50\n",
      "118/118 [==============================] - 6s 53ms/step - loss: 0.0051 - accuracy: 0.8152 - val_loss: 0.0050 - val_accuracy: 0.8143\n",
      "Epoch 21/50\n",
      "118/118 [==============================] - 6s 54ms/step - loss: 0.0050 - accuracy: 0.8152 - val_loss: 0.0050 - val_accuracy: 0.8142\n",
      "Epoch 22/50\n",
      "118/118 [==============================] - 7s 60ms/step - loss: 0.0048 - accuracy: 0.8152 - val_loss: 0.0048 - val_accuracy: 0.8143\n",
      "Epoch 23/50\n",
      "118/118 [==============================] - 6s 53ms/step - loss: 0.0047 - accuracy: 0.8153 - val_loss: 0.0048 - val_accuracy: 0.8143\n",
      "Epoch 24/50\n",
      "118/118 [==============================] - 6s 53ms/step - loss: 0.0047 - accuracy: 0.8153 - val_loss: 0.0046 - val_accuracy: 0.8143\n",
      "Epoch 25/50\n",
      "118/118 [==============================] - 5s 46ms/step - loss: 0.0046 - accuracy: 0.8153 - val_loss: 0.0045 - val_accuracy: 0.8143\n",
      "Epoch 26/50\n",
      "118/118 [==============================] - 6s 50ms/step - loss: 0.0045 - accuracy: 0.8153 - val_loss: 0.0046 - val_accuracy: 0.8143\n",
      "Epoch 27/50\n",
      "118/118 [==============================] - 6s 47ms/step - loss: 0.0044 - accuracy: 0.8153 - val_loss: 0.0044 - val_accuracy: 0.8143\n",
      "Epoch 28/50\n",
      "118/118 [==============================] - 5s 47ms/step - loss: 0.0043 - accuracy: 0.8153 - val_loss: 0.0043 - val_accuracy: 0.8143\n",
      "Epoch 29/50\n",
      "118/118 [==============================] - 5s 46ms/step - loss: 0.0043 - accuracy: 0.8153 - val_loss: 0.0045 - val_accuracy: 0.8143\n",
      "Epoch 30/50\n",
      "118/118 [==============================] - 6s 48ms/step - loss: 0.0042 - accuracy: 0.8153 - val_loss: 0.0043 - val_accuracy: 0.8143\n",
      "Epoch 31/50\n",
      "118/118 [==============================] - 6s 48ms/step - loss: 0.0041 - accuracy: 0.8153 - val_loss: 0.0043 - val_accuracy: 0.8143\n",
      "Epoch 32/50\n",
      "118/118 [==============================] - 7s 62ms/step - loss: 0.0041 - accuracy: 0.8153 - val_loss: 0.0042 - val_accuracy: 0.8143\n",
      "Epoch 33/50\n",
      "118/118 [==============================] - 7s 60ms/step - loss: 0.0040 - accuracy: 0.8153 - val_loss: 0.0041 - val_accuracy: 0.8143\n",
      "Epoch 34/50\n",
      "118/118 [==============================] - 7s 57ms/step - loss: 0.0039 - accuracy: 0.8153 - val_loss: 0.0043 - val_accuracy: 0.8143\n",
      "Epoch 35/50\n",
      "118/118 [==============================] - 8s 66ms/step - loss: 0.0038 - accuracy: 0.8153 - val_loss: 0.0039 - val_accuracy: 0.8143\n",
      "Epoch 36/50\n",
      "118/118 [==============================] - 8s 64ms/step - loss: 0.0038 - accuracy: 0.8153 - val_loss: 0.0039 - val_accuracy: 0.8143\n",
      "Epoch 37/50\n",
      "118/118 [==============================] - 6s 50ms/step - loss: 0.0038 - accuracy: 0.8153 - val_loss: 0.0039 - val_accuracy: 0.8144\n",
      "Epoch 38/50\n",
      "118/118 [==============================] - 5s 47ms/step - loss: 0.0037 - accuracy: 0.8154 - val_loss: 0.0039 - val_accuracy: 0.8143\n",
      "Epoch 39/50\n",
      "118/118 [==============================] - 5s 43ms/step - loss: 0.0037 - accuracy: 0.8154 - val_loss: 0.0038 - val_accuracy: 0.8144\n",
      "Epoch 40/50\n",
      "118/118 [==============================] - 6s 51ms/step - loss: 0.0036 - accuracy: 0.8154 - val_loss: 0.0037 - val_accuracy: 0.8144\n",
      "Epoch 41/50\n",
      "118/118 [==============================] - 6s 54ms/step - loss: 0.0036 - accuracy: 0.8154 - val_loss: 0.0037 - val_accuracy: 0.8144\n",
      "Epoch 42/50\n",
      "118/118 [==============================] - 6s 51ms/step - loss: 0.0035 - accuracy: 0.8154 - val_loss: 0.0036 - val_accuracy: 0.8144\n",
      "Epoch 43/50\n",
      "118/118 [==============================] - 7s 56ms/step - loss: 0.0035 - accuracy: 0.8154 - val_loss: 0.0036 - val_accuracy: 0.8144\n",
      "Epoch 44/50\n",
      "118/118 [==============================] - 7s 56ms/step - loss: 0.0035 - accuracy: 0.8154 - val_loss: 0.0035 - val_accuracy: 0.8144\n",
      "Epoch 45/50\n",
      "118/118 [==============================] - 8s 68ms/step - loss: 0.0034 - accuracy: 0.8154 - val_loss: 0.0036 - val_accuracy: 0.8144\n",
      "Epoch 46/50\n",
      "118/118 [==============================] - 7s 61ms/step - loss: 0.0035 - accuracy: 0.8154 - val_loss: 0.0037 - val_accuracy: 0.8144\n",
      "Epoch 47/50\n",
      "118/118 [==============================] - 6s 53ms/step - loss: 0.0034 - accuracy: 0.8154 - val_loss: 0.0035 - val_accuracy: 0.8144\n",
      "Epoch 48/50\n",
      "118/118 [==============================] - 6s 50ms/step - loss: 0.0034 - accuracy: 0.8154 - val_loss: 0.0034 - val_accuracy: 0.8144\n",
      "Epoch 49/50\n",
      "118/118 [==============================] - 7s 57ms/step - loss: 0.0033 - accuracy: 0.8154 - val_loss: 0.0034 - val_accuracy: 0.8144\n",
      "Epoch 50/50\n",
      "118/118 [==============================] - 6s 49ms/step - loss: 0.0033 - accuracy: 0.8154 - val_loss: 0.0034 - val_accuracy: 0.8144\n"
     ]
    },
    {
     "data": {
      "text/plain": [
       "<keras.callbacks.History at 0x2220002e9b0>"
      ]
     },
     "execution_count": 2,
     "metadata": {},
     "output_type": "execute_result"
    }
   ],
   "source": [
    "# Загрузка и предобработка данных\n",
    "(mnist_train_X, mnist_train_y), (mnist_test_X, mnist_test_y) = tf.keras.datasets.mnist.load_data()\n",
    "\n",
    "# Нормализация данных\n",
    "mnist_train = mnist_train_X.astype('float32') / 255.\n",
    "mnist_test = mnist_test_X.astype('float32') / 255.\n",
    "\n",
    "mnist_train = mnist_train.reshape(-1, 28, 28, 1)\n",
    "mnist_test = mnist_test.reshape(-1, 28, 28, 1)\n",
    "\n",
    "# Архитектура автоэнкодера\n",
    "input_img = Input(shape=(28, 28, 1))\n",
    "x = Flatten()(input_img)\n",
    "x = Dense(512, activation='relu')(x)\n",
    "x = Dense(256, activation='relu')(x)\n",
    "encoded = Dense(128, activation='relu')(x)\n",
    "\n",
    "x = Dense(256, activation='relu')(encoded)\n",
    "x = Dense(512, activation='relu')(x)\n",
    "x = Dense(28*28, activation='sigmoid')(x)\n",
    "decoded = Reshape((28, 28, 1))(x)\n",
    "\n",
    "autoencoder = Model(input_img, decoded)\n",
    "\n",
    "optimizer = Adam(learning_rate=0.001)\n",
    "# Обучение автоэнкодера на notMNIST\n",
    "autoencoder.compile(optimizer=optimizer, loss='mse', metrics=['accuracy'])\n",
    "autoencoder.fit(mnist_train,\n",
    "                mnist_train,\n",
    "                epochs=50,\n",
    "                batch_size=512,\n",
    "                validation_data=(mnist_test, mnist_test))\n"
   ]
  },
  {
   "cell_type": "code",
   "execution_count": 4,
   "id": "be949ce8",
   "metadata": {},
   "outputs": [
    {
     "name": "stdout",
     "output_type": "stream",
     "text": [
      "313/313 [==============================] - 2s 8ms/step\n"
     ]
    },
    {
     "data": {
      "image/png": "[encoded data removed]",
      "text/plain": [
       "<Figure size 2000x400 with 20 Axes>"
      ]
     },
     "metadata": {},
     "output_type": "display_data"
    }
   ],
   "source": [
    "import matplotlib.pyplot as plt\n",
    "\n",
    "\n",
    "# Предсказание на тестовом наборе данных\n",
    "decoded_imgs = autoencoder.predict(mnist_test)\n",
    "\n",
    "n = 10  # количество изображений для отображения\n",
    "plt.figure(figsize=(20, 4))\n",
    "\n",
    "for i in range(n):\n",
    "    # Отображение оригинальных изображений\n",
    "    ax = plt.subplot(2, n, i + 1)\n",
    "    plt.imshow(mnist_test[i].reshape(28, 28))\n",
    "    plt.gray()\n",
    "    ax.get_xaxis().set_visible(False)\n",
    "    ax.get_yaxis().set_visible(False)\n",
    "\n",
    "    # Отображение восстановленных изображений\n",
    "    ax = plt.subplot(2, n, i + 1 + n)\n",
    "    plt.imshow(decoded_imgs[i].reshape(28, 28))\n",
    "    plt.gray()\n",
    "    ax.get_xaxis().set_visible(False)"
   ]
  },
  {
   "cell_type": "markdown",
   "id": "e7b1b49b",
   "metadata": {},
   "source": [
    "# Задание 2 Pipeline"
   ]
  },
  {
   "cell_type": "code",
   "execution_count": 2,
   "id": "a1638142",
   "metadata": {},
   "outputs": [],
   "source": [
    "import numpy as np\n",
    "import tensorflow as tf\n",
    "from tensorflow.keras.layers import Input, Conv2D, MaxPooling2D, UpSampling2D, Flatten, Dense\n",
    "from tensorflow.keras.models import Model\n",
    "from tensorflow.keras.optimizers import Adam\n",
    "from sklearn.base import BaseEstimator, TransformerMixin\n",
    "from sklearn.pipeline import Pipeline\n",
    "from sklearn.preprocessing import FunctionTransformer\n",
    "from sklearn.model_selection import train_test_split\n",
    "import deeplake"
   ]
  },
  {
   "cell_type": "code",
   "execution_count": 19,
   "id": "5dc43fc9",
   "metadata": {},
   "outputs": [],
   "source": [
    "class DataLoader(BaseEstimator, TransformerMixin):\n",
    "    def __init__(self, dataset_name):\n",
    "        self.dataset_name = dataset_name\n",
    "    \n",
    "    def fit(self, X=None, y=None):\n",
    "        return self\n",
    "    \n",
    "    def transform(self, X=None, y=None):\n",
    "        ds = deeplake.load(self.dataset_name)\n",
    "        labels = np.array(ds['labels']).squeeze()\n",
    "        images = np.array(ds['images'])\n",
    "        return train_test_split(images, labels, test_size=0.2, random_state=42)"
   ]
  },
  {
   "cell_type": "code",
   "execution_count": 20,
   "id": "d42bfb19",
   "metadata": {},
   "outputs": [],
   "source": [
    "class Autoencoder(BaseEstimator, TransformerMixin):\n",
    "    def __init__(self, input_shape=(28, 28, 1), learning_rate=0.01, epochs=50, batch_size=256):\n",
    "        self.input_shape = input_shape\n",
    "        self.learning_rate = learning_rate\n",
    "        self.epochs = epochs\n",
    "        self.batch_size = batch_size\n",
    "        self.autoencoder = self.build_model()\n",
    "    \n",
    "    def build_model(self):\n",
    "        input_img = Input(shape=self.input_shape)\n",
    "        \n",
    "        # Encoder\n",
    "        x = Conv2D(32, (3, 3), activation='relu', padding='same')(input_img)\n",
    "        x = MaxPooling2D((2, 2), padding='same')(x)\n",
    "        x = Conv2D(64, (3, 3), activation='relu', padding='same')(x)\n",
    "        encoded = MaxPooling2D((2, 2), padding='same')(x)\n",
    "        \n",
    "        # Decoder\n",
    "        x = Conv2D(64, (3, 3), activation='relu', padding='same')(encoded)\n",
    "        x = UpSampling2D((2, 2))(x)\n",
    "        x = Conv2D(32, (3, 3), activation='relu', padding='same')(x)\n",
    "        x = UpSampling2D((2, 2))(x)\n",
    "        decoded = Conv2D(1, (3, 3), activation='sigmoid', padding='same')(x)\n",
    "        \n",
    "        autoencoder = Model(input_img, decoded)\n",
    "        optimizer = Adam(learning_rate=self.learning_rate)\n",
    "        autoencoder.compile(optimizer=optimizer, loss='binary_crossentropy')\n",
    "        return autoencoder\n",
    "    \n",
    "    def fit(self, X, y=None):\n",
    "        X_train, X_test, _, _ = X\n",
    "        X_train = X_train / 255.0\n",
    "        X_test = X_test / 255.0\n",
    "        X_train = X_train.reshape(-1, 28, 28, 1)\n",
    "        X_test = X_test.reshape(-1, 28, 28, 1)\n",
    "        self.autoencoder.fit(X_train[:1000], X_train[:1000], epochs=self.epochs, batch_size=self.batch_size, validation_data=(X_test, X_test))\n",
    "        return self\n",
    "    \n",
    "    def transform(self, X):\n",
    "        return self.autoencoder"
   ]
  },
  {
   "cell_type": "code",
   "execution_count": 21,
   "id": "ad9f06c6",
   "metadata": {},
   "outputs": [],
   "source": [
    "class Classifier(BaseEstimator, TransformerMixin):\n",
    "    def __init__(self, input_shape=(28, 28, 1), epochs=50, batch_size=256):\n",
    "        self.input_shape = input_shape\n",
    "        self.epochs = epochs\n",
    "        self.batch_size = batch_size\n",
    "        self.classifier = None\n",
    "        self.autoencoder = None\n",
    "    \n",
    "    def build_model(self):\n",
    "        for layer in self.autoencoder.layers:\n",
    "            layer.trainable = False\n",
    "        \n",
    "        input_img = Input(shape=self.input_shape)\n",
    "        encoded = self.autoencoder.layers[-5].output  # Assuming the encoded layer is the 5th from last\n",
    "        flattened = Flatten()(encoded)\n",
    "        x = Dense(128, activation='relu')(flattened)\n",
    "        predictions = Dense(5, activation='softmax')(x)\n",
    "        \n",
    "        classifier = Model(self.autoencoder.input, predictions)\n",
    "        classifier.compile(optimizer='adam', loss='sparse_categorical_crossentropy', metrics=['accuracy'])\n",
    "        return classifier\n",
    "    \n",
    "    def fit(self, X, y=None):\n",
    "        fashion_train_X, fashion_test_X, fashion_train_y, fashion_test_y = X\n",
    "        self.classifier = self.build_model()\n",
    "        \n",
    "        fashion_train_X = fashion_train_X / 255.0\n",
    "        fashion_test_X = fashion_test_X / 255.0\n",
    "        fashion_train_X = fashion_train_X.reshape(-1, 28, 28, 1)\n",
    "        fashion_test_X = fashion_test_X.reshape(-1, 28, 28, 1)\n",
    "        \n",
    "        self.classifier.fit(fashion_train_X[:500], fashion_train_y[:500], epochs=self.epochs, batch_size=self.batch_size, validation_data=(fashion_test_X, fashion_test_y))\n",
    "        return self\n",
    "    \n",
    "    def transform(self, X):\n",
    "        fashion_test_X = X[1]\n",
    "        fashion_test_X = fashion_test_X / 255.0\n",
    "        fashion_test_X = fashion_test_X.reshape(-1, 28, 28, 1)\n",
    "        return self.classifier.predict(fashion_test_X)\n",
    "    \n",
    "    def set_autoencoder(self, autoencoder):\n",
    "        self.autoencoder = autoencoder"
   ]
  },
  {
   "cell_type": "code",
   "execution_count": 22,
   "id": "1227e3d6",
   "metadata": {},
   "outputs": [],
   "source": [
    "def filter_fashion_data(X):\n",
    "    train_images, test_images, train_labels, test_labels = X\n",
    "    filtered_train_images = train_images[train_labels < 5]\n",
    "    filtered_test_images = test_images[test_labels < 5]\n",
    "    filtered_train_labels = train_labels[train_labels < 5]\n",
    "    filtered_test_labels = test_labels[test_labels < 5]\n",
    "    return filtered_train_images, filtered_test_images, filtered_train_labels, filtered_test_labels"
   ]
  },
  {
   "cell_type": "code",
   "execution_count": 25,
   "id": "f59db837",
   "metadata": {},
   "outputs": [],
   "source": [
    "def set_autoencoder_in_classifier(X):\n",
    "    if X is None:\n",
    "        return None\n",
    "    classifier = X\n",
    "    autoencoder = classifier.named_steps['autoencoder'].transform(None)\n",
    "    classifier.set_autoencoder(autoencoder)\n",
    "    return classifier"
   ]
  },
  {
   "cell_type": "code",
   "execution_count": 24,
   "id": "7ea6b6ed",
   "metadata": {},
   "outputs": [
    {
     "name": "stderr",
     "output_type": "stream",
     "text": [
      "-"
     ]
    },
    {
     "name": "stdout",
     "output_type": "stream",
     "text": [
      "Opening dataset in read-only mode as you don't have write permissions.\n"
     ]
    },
    {
     "name": "stderr",
     "output_type": "stream",
     "text": [
      " \r"
     ]
    },
    {
     "name": "stdout",
     "output_type": "stream",
     "text": [
      "This dataset can be visualized in Jupyter Notebook by ds.visualize() or at https://app.activeloop.ai/activeloop/mnist-train\n",
      "\n"
     ]
    },
    {
     "name": "stderr",
     "output_type": "stream",
     "text": [
      "/"
     ]
    },
    {
     "name": "stdout",
     "output_type": "stream",
     "text": [
      "hub://activeloop/mnist-train loaded successfully.\n",
      "\n"
     ]
    },
    {
     "name": "stderr",
     "output_type": "stream",
     "text": [
      " "
     ]
    },
    {
     "name": "stdout",
     "output_type": "stream",
     "text": [
      "Epoch 1/50\n",
      "4/4 [==============================] - 8s 2s/step - loss: 0.6915 - val_loss: 0.6107\n",
      "Epoch 2/50\n",
      "4/4 [==============================] - 7s 2s/step - loss: 0.5239 - val_loss: 0.4135\n",
      "Epoch 3/50\n",
      "4/4 [==============================] - 7s 2s/step - loss: 0.3719 - val_loss: 0.3123\n",
      "Epoch 4/50\n",
      "4/4 [==============================] - 7s 2s/step - loss: 0.2741 - val_loss: 0.2137\n",
      "Epoch 5/50\n",
      "4/4 [==============================] - 7s 2s/step - loss: 0.1982 - val_loss: 0.1819\n",
      "Epoch 6/50\n",
      "4/4 [==============================] - 6s 2s/step - loss: 0.1780 - val_loss: 0.1602\n",
      "Epoch 7/50\n",
      "4/4 [==============================] - 6s 2s/step - loss: 0.1572 - val_loss: 0.1449\n",
      "Epoch 8/50\n",
      "4/4 [==============================] - 6s 2s/step - loss: 0.1421 - val_loss: 0.1337\n",
      "Epoch 9/50\n",
      "4/4 [==============================] - 6s 2s/step - loss: 0.1320 - val_loss: 0.1253\n",
      "Epoch 10/50\n",
      "4/4 [==============================] - 7s 2s/step - loss: 0.1236 - val_loss: 0.1189\n",
      "Epoch 11/50\n",
      "4/4 [==============================] - 7s 2s/step - loss: 0.1170 - val_loss: 0.1126\n",
      "Epoch 12/50\n",
      "4/4 [==============================] - 7s 2s/step - loss: 0.1114 - val_loss: 0.1097\n",
      "Epoch 13/50\n",
      "4/4 [==============================] - 7s 2s/step - loss: 0.1085 - val_loss: 0.1058\n",
      "Epoch 14/50\n",
      "4/4 [==============================] - 7s 2s/step - loss: 0.1046 - val_loss: 0.1017\n",
      "Epoch 15/50\n",
      "4/4 [==============================] - 8s 2s/step - loss: 0.1016 - val_loss: 0.0986\n",
      "Epoch 16/50\n",
      "4/4 [==============================] - 7s 2s/step - loss: 0.0996 - val_loss: 0.0976\n",
      "Epoch 17/50\n",
      "4/4 [==============================] - 7s 2s/step - loss: 0.0978 - val_loss: 0.0990\n",
      "Epoch 18/50\n",
      "4/4 [==============================] - 6s 2s/step - loss: 0.0986 - val_loss: 0.0952\n",
      "Epoch 19/50\n",
      "4/4 [==============================] - 6s 2s/step - loss: 0.0962 - val_loss: 0.0967\n",
      "Epoch 20/50\n",
      "4/4 [==============================] - 6s 2s/step - loss: 0.0959 - val_loss: 0.0942\n",
      "Epoch 21/50\n",
      "4/4 [==============================] - 6s 2s/step - loss: 0.0943 - val_loss: 0.0915\n",
      "Epoch 22/50\n",
      "4/4 [==============================] - 7s 2s/step - loss: 0.0929 - val_loss: 0.0920\n",
      "Epoch 23/50\n",
      "4/4 [==============================] - 7s 2s/step - loss: 0.0924 - val_loss: 0.0925\n",
      "Epoch 24/50\n",
      "4/4 [==============================] - 7s 2s/step - loss: 0.0923 - val_loss: 0.0897\n",
      "Epoch 25/50\n",
      "4/4 [==============================] - 7s 2s/step - loss: 0.0907 - val_loss: 0.0889\n",
      "Epoch 26/50\n",
      "4/4 [==============================] - 7s 2s/step - loss: 0.0897 - val_loss: 0.0886\n",
      "Epoch 27/50\n",
      "4/4 [==============================] - 7s 2s/step - loss: 0.0890 - val_loss: 0.0884\n",
      "Epoch 28/50\n",
      "4/4 [==============================] - 7s 2s/step - loss: 0.0885 - val_loss: 0.0873\n",
      "Epoch 29/50\n",
      "4/4 [==============================] - 7s 2s/step - loss: 0.0876 - val_loss: 0.0864\n",
      "Epoch 30/50\n",
      "4/4 [==============================] - 7s 2s/step - loss: 0.0871 - val_loss: 0.0860\n",
      "Epoch 31/50\n",
      "4/4 [==============================] - 7s 2s/step - loss: 0.0867 - val_loss: 0.0856\n",
      "Epoch 32/50\n",
      "4/4 [==============================] - 7s 2s/step - loss: 0.0864 - val_loss: 0.0875\n",
      "Epoch 33/50\n",
      "4/4 [==============================] - 7s 2s/step - loss: 0.0918 - val_loss: 0.0853\n",
      "Epoch 34/50\n",
      "4/4 [==============================] - 7s 2s/step - loss: 0.0885 - val_loss: 0.0903\n",
      "Epoch 35/50\n",
      "4/4 [==============================] - 7s 2s/step - loss: 0.0883 - val_loss: 0.0877\n",
      "Epoch 36/50\n",
      "4/4 [==============================] - 7s 2s/step - loss: 0.0869 - val_loss: 0.0852\n",
      "Epoch 37/50\n",
      "4/4 [==============================] - 7s 2s/step - loss: 0.0858 - val_loss: 0.0840\n",
      "Epoch 38/50\n",
      "4/4 [==============================] - 7s 2s/step - loss: 0.0849 - val_loss: 0.0839\n",
      "Epoch 39/50\n",
      "4/4 [==============================] - 7s 2s/step - loss: 0.0842 - val_loss: 0.0835\n",
      "Epoch 40/50\n",
      "4/4 [==============================] - 7s 2s/step - loss: 0.0839 - val_loss: 0.0831\n",
      "Epoch 41/50\n",
      "4/4 [==============================] - 7s 2s/step - loss: 0.0835 - val_loss: 0.0826\n",
      "Epoch 42/50\n",
      "4/4 [==============================] - 7s 2s/step - loss: 0.0832 - val_loss: 0.0823\n",
      "Epoch 43/50\n",
      "4/4 [==============================] - 7s 2s/step - loss: 0.0829 - val_loss: 0.0821\n",
      "Epoch 44/50\n",
      "4/4 [==============================] - 7s 2s/step - loss: 0.0826 - val_loss: 0.0818\n",
      "Epoch 45/50\n",
      "4/4 [==============================] - 7s 2s/step - loss: 0.0823 - val_loss: 0.0817\n",
      "Epoch 46/50\n",
      "4/4 [==============================] - 7s 2s/step - loss: 0.0821 - val_loss: 0.0815\n",
      "Epoch 47/50\n",
      "4/4 [==============================] - 7s 2s/step - loss: 0.0821 - val_loss: 0.0819\n",
      "Epoch 48/50\n",
      "4/4 [==============================] - 7s 2s/step - loss: 0.0837 - val_loss: 0.0840\n",
      "Epoch 49/50\n",
      "4/4 [==============================] - 7s 2s/step - loss: 0.0828 - val_loss: 0.0820\n",
      "Epoch 50/50\n",
      "4/4 [==============================] - 7s 2s/step - loss: 0.0819 - val_loss: 0.0811\n"
     ]
    },
    {
     "name": "stderr",
     "output_type": "stream",
     "text": [
      " \r"
     ]
    },
    {
     "name": "stdout",
     "output_type": "stream",
     "text": [
      "Opening dataset in read-only mode as you don't have write permissions.\n"
     ]
    },
    {
     "name": "stderr",
     "output_type": "stream",
     "text": [
      "|"
     ]
    },
    {
     "name": "stdout",
     "output_type": "stream",
     "text": [
      "This dataset can be visualized in Jupyter Notebook by ds.visualize() or at https://app.activeloop.ai/activeloop/fashion-mnist-train\n",
      "\n"
     ]
    },
    {
     "name": "stderr",
     "output_type": "stream",
     "text": [
      "\\"
     ]
    },
    {
     "name": "stdout",
     "output_type": "stream",
     "text": [
      "hub://activeloop/fashion-mnist-train loaded successfully.\n",
      "\n"
     ]
    },
    {
     "name": "stderr",
     "output_type": "stream",
     "text": [
      " "
     ]
    },
    {
     "ename": "ValueError",
     "evalue": "too many values to unpack (expected 2)",
     "output_type": "error",
     "traceback": [
      "\u001b[1;31m---------------------------------------------------------------------------\u001b[0m",
      "\u001b[1;31mValueError\u001b[0m                                Traceback (most recent call last)",
      "Input \u001b[1;32mIn [24]\u001b[0m, in \u001b[0;36m<cell line: 10>\u001b[1;34m()\u001b[0m\n\u001b[0;32m      1\u001b[0m pipeline \u001b[38;5;241m=\u001b[39m Pipeline([\n\u001b[0;32m      2\u001b[0m     (\u001b[38;5;124m'\u001b[39m\u001b[38;5;124mmnist_loader\u001b[39m\u001b[38;5;124m'\u001b[39m, DataLoader(\u001b[38;5;124m\"\u001b[39m\u001b[38;5;124mhub://activeloop/mnist-train\u001b[39m\u001b[38;5;124m\"\u001b[39m)),\n\u001b[0;32m      3\u001b[0m     (\u001b[38;5;124m'\u001b[39m\u001b[38;5;124mautoencoder\u001b[39m\u001b[38;5;124m'\u001b[39m, Autoencoder()),\n\u001b[1;32m   (...)\u001b[0m\n\u001b[0;32m      7\u001b[0m     (\u001b[38;5;124m'\u001b[39m\u001b[38;5;124mclassifier\u001b[39m\u001b[38;5;124m'\u001b[39m, Classifier())\n\u001b[0;32m      8\u001b[0m ])\n\u001b[1;32m---> 10\u001b[0m \u001b[43mpipeline\u001b[49m\u001b[38;5;241;43m.\u001b[39;49m\u001b[43mfit\u001b[49m\u001b[43m(\u001b[49m\u001b[38;5;28;43;01mNone\u001b[39;49;00m\u001b[43m)\u001b[49m\n",
      "File \u001b[1;32mc:\\Python310\\lib\\site-packages\\sklearn\\base.py:1473\u001b[0m, in \u001b[0;36m_fit_context.<locals>.decorator.<locals>.wrapper\u001b[1;34m(estimator, *args, **kwargs)\u001b[0m\n\u001b[0;32m   1466\u001b[0m     estimator\u001b[38;5;241m.\u001b[39m_validate_params()\n\u001b[0;32m   1468\u001b[0m \u001b[38;5;28;01mwith\u001b[39;00m config_context(\n\u001b[0;32m   1469\u001b[0m     skip_parameter_validation\u001b[38;5;241m=\u001b[39m(\n\u001b[0;32m   1470\u001b[0m         prefer_skip_nested_validation \u001b[38;5;129;01mor\u001b[39;00m global_skip_validation\n\u001b[0;32m   1471\u001b[0m     )\n\u001b[0;32m   1472\u001b[0m ):\n\u001b[1;32m-> 1473\u001b[0m     \u001b[38;5;28;01mreturn\u001b[39;00m fit_method(estimator, \u001b[38;5;241m*\u001b[39margs, \u001b[38;5;241m*\u001b[39m\u001b[38;5;241m*\u001b[39mkwargs)\n",
      "File \u001b[1;32mc:\\Python310\\lib\\site-packages\\sklearn\\pipeline.py:472\u001b[0m, in \u001b[0;36mPipeline.fit\u001b[1;34m(self, X, y, **params)\u001b[0m\n\u001b[0;32m    429\u001b[0m \u001b[38;5;124;03m\"\"\"Fit the model.\u001b[39;00m\n\u001b[0;32m    430\u001b[0m \n\u001b[0;32m    431\u001b[0m \u001b[38;5;124;03mFit all the transformers one after the other and sequentially transform the\u001b[39;00m\n\u001b[1;32m   (...)\u001b[0m\n\u001b[0;32m    469\u001b[0m \u001b[38;5;124;03m    Pipeline with fitted steps.\u001b[39;00m\n\u001b[0;32m    470\u001b[0m \u001b[38;5;124;03m\"\"\"\u001b[39;00m\n\u001b[0;32m    471\u001b[0m routed_params \u001b[38;5;241m=\u001b[39m \u001b[38;5;28mself\u001b[39m\u001b[38;5;241m.\u001b[39m_check_method_params(method\u001b[38;5;241m=\u001b[39m\u001b[38;5;124m\"\u001b[39m\u001b[38;5;124mfit\u001b[39m\u001b[38;5;124m\"\u001b[39m, props\u001b[38;5;241m=\u001b[39mparams)\n\u001b[1;32m--> 472\u001b[0m Xt \u001b[38;5;241m=\u001b[39m \u001b[38;5;28;43mself\u001b[39;49m\u001b[38;5;241;43m.\u001b[39;49m\u001b[43m_fit\u001b[49m\u001b[43m(\u001b[49m\u001b[43mX\u001b[49m\u001b[43m,\u001b[49m\u001b[43m \u001b[49m\u001b[43my\u001b[49m\u001b[43m,\u001b[49m\u001b[43m \u001b[49m\u001b[43mrouted_params\u001b[49m\u001b[43m)\u001b[49m\n\u001b[0;32m    473\u001b[0m \u001b[38;5;28;01mwith\u001b[39;00m _print_elapsed_time(\u001b[38;5;124m\"\u001b[39m\u001b[38;5;124mPipeline\u001b[39m\u001b[38;5;124m\"\u001b[39m, \u001b[38;5;28mself\u001b[39m\u001b[38;5;241m.\u001b[39m_log_message(\u001b[38;5;28mlen\u001b[39m(\u001b[38;5;28mself\u001b[39m\u001b[38;5;241m.\u001b[39msteps) \u001b[38;5;241m-\u001b[39m \u001b[38;5;241m1\u001b[39m)):\n\u001b[0;32m    474\u001b[0m     \u001b[38;5;28;01mif\u001b[39;00m \u001b[38;5;28mself\u001b[39m\u001b[38;5;241m.\u001b[39m_final_estimator \u001b[38;5;241m!=\u001b[39m \u001b[38;5;124m\"\u001b[39m\u001b[38;5;124mpassthrough\u001b[39m\u001b[38;5;124m\"\u001b[39m:\n",
      "File \u001b[1;32mc:\\Python310\\lib\\site-packages\\sklearn\\pipeline.py:409\u001b[0m, in \u001b[0;36mPipeline._fit\u001b[1;34m(self, X, y, routed_params)\u001b[0m\n\u001b[0;32m    407\u001b[0m     cloned_transformer \u001b[38;5;241m=\u001b[39m clone(transformer)\n\u001b[0;32m    408\u001b[0m \u001b[38;5;66;03m# Fit or load from cache the current transformer\u001b[39;00m\n\u001b[1;32m--> 409\u001b[0m X, fitted_transformer \u001b[38;5;241m=\u001b[39m \u001b[43mfit_transform_one_cached\u001b[49m\u001b[43m(\u001b[49m\n\u001b[0;32m    410\u001b[0m \u001b[43m    \u001b[49m\u001b[43mcloned_transformer\u001b[49m\u001b[43m,\u001b[49m\n\u001b[0;32m    411\u001b[0m \u001b[43m    \u001b[49m\u001b[43mX\u001b[49m\u001b[43m,\u001b[49m\n\u001b[0;32m    412\u001b[0m \u001b[43m    \u001b[49m\u001b[43my\u001b[49m\u001b[43m,\u001b[49m\n\u001b[0;32m    413\u001b[0m \u001b[43m    \u001b[49m\u001b[38;5;28;43;01mNone\u001b[39;49;00m\u001b[43m,\u001b[49m\n\u001b[0;32m    414\u001b[0m \u001b[43m    \u001b[49m\u001b[43mmessage_clsname\u001b[49m\u001b[38;5;241;43m=\u001b[39;49m\u001b[38;5;124;43m\"\u001b[39;49m\u001b[38;5;124;43mPipeline\u001b[39;49m\u001b[38;5;124;43m\"\u001b[39;49m\u001b[43m,\u001b[49m\n\u001b[0;32m    415\u001b[0m \u001b[43m    \u001b[49m\u001b[43mmessage\u001b[49m\u001b[38;5;241;43m=\u001b[39;49m\u001b[38;5;28;43mself\u001b[39;49m\u001b[38;5;241;43m.\u001b[39;49m\u001b[43m_log_message\u001b[49m\u001b[43m(\u001b[49m\u001b[43mstep_idx\u001b[49m\u001b[43m)\u001b[49m\u001b[43m,\u001b[49m\n\u001b[0;32m    416\u001b[0m \u001b[43m    \u001b[49m\u001b[43mparams\u001b[49m\u001b[38;5;241;43m=\u001b[39;49m\u001b[43mrouted_params\u001b[49m\u001b[43m[\u001b[49m\u001b[43mname\u001b[49m\u001b[43m]\u001b[49m\u001b[43m,\u001b[49m\n\u001b[0;32m    417\u001b[0m \u001b[43m\u001b[49m\u001b[43m)\u001b[49m\n\u001b[0;32m    418\u001b[0m \u001b[38;5;66;03m# Replace the transformer of the step with the fitted\u001b[39;00m\n\u001b[0;32m    419\u001b[0m \u001b[38;5;66;03m# transformer. This is necessary when loading the transformer\u001b[39;00m\n\u001b[0;32m    420\u001b[0m \u001b[38;5;66;03m# from the cache.\u001b[39;00m\n\u001b[0;32m    421\u001b[0m \u001b[38;5;28mself\u001b[39m\u001b[38;5;241m.\u001b[39msteps[step_idx] \u001b[38;5;241m=\u001b[39m (name, fitted_transformer)\n",
      "File \u001b[1;32mc:\\Python310\\lib\\site-packages\\joblib\\memory.py:349\u001b[0m, in \u001b[0;36mNotMemorizedFunc.__call__\u001b[1;34m(self, *args, **kwargs)\u001b[0m\n\u001b[0;32m    348\u001b[0m \u001b[38;5;28;01mdef\u001b[39;00m \u001b[38;5;21m__call__\u001b[39m(\u001b[38;5;28mself\u001b[39m, \u001b[38;5;241m*\u001b[39margs, \u001b[38;5;241m*\u001b[39m\u001b[38;5;241m*\u001b[39mkwargs):\n\u001b[1;32m--> 349\u001b[0m     \u001b[38;5;28;01mreturn\u001b[39;00m \u001b[38;5;28mself\u001b[39m\u001b[38;5;241m.\u001b[39mfunc(\u001b[38;5;241m*\u001b[39margs, \u001b[38;5;241m*\u001b[39m\u001b[38;5;241m*\u001b[39mkwargs)\n",
      "File \u001b[1;32mc:\\Python310\\lib\\site-packages\\sklearn\\pipeline.py:1329\u001b[0m, in \u001b[0;36m_fit_transform_one\u001b[1;34m(transformer, X, y, weight, columns, message_clsname, message, params)\u001b[0m\n\u001b[0;32m   1327\u001b[0m \u001b[38;5;28;01mwith\u001b[39;00m _print_elapsed_time(message_clsname, message):\n\u001b[0;32m   1328\u001b[0m     \u001b[38;5;28;01mif\u001b[39;00m \u001b[38;5;28mhasattr\u001b[39m(transformer, \u001b[38;5;124m\"\u001b[39m\u001b[38;5;124mfit_transform\u001b[39m\u001b[38;5;124m\"\u001b[39m):\n\u001b[1;32m-> 1329\u001b[0m         res \u001b[38;5;241m=\u001b[39m transformer\u001b[38;5;241m.\u001b[39mfit_transform(X, y, \u001b[38;5;241m*\u001b[39m\u001b[38;5;241m*\u001b[39mparams\u001b[38;5;241m.\u001b[39mget(\u001b[38;5;124m\"\u001b[39m\u001b[38;5;124mfit_transform\u001b[39m\u001b[38;5;124m\"\u001b[39m, {}))\n\u001b[0;32m   1330\u001b[0m     \u001b[38;5;28;01melse\u001b[39;00m:\n\u001b[0;32m   1331\u001b[0m         res \u001b[38;5;241m=\u001b[39m transformer\u001b[38;5;241m.\u001b[39mfit(X, y, \u001b[38;5;241m*\u001b[39m\u001b[38;5;241m*\u001b[39mparams\u001b[38;5;241m.\u001b[39mget(\u001b[38;5;124m\"\u001b[39m\u001b[38;5;124mfit\u001b[39m\u001b[38;5;124m\"\u001b[39m, {}))\u001b[38;5;241m.\u001b[39mtransform(\n\u001b[0;32m   1332\u001b[0m             X, \u001b[38;5;241m*\u001b[39m\u001b[38;5;241m*\u001b[39mparams\u001b[38;5;241m.\u001b[39mget(\u001b[38;5;124m\"\u001b[39m\u001b[38;5;124mtransform\u001b[39m\u001b[38;5;124m\"\u001b[39m, {})\n\u001b[0;32m   1333\u001b[0m         )\n",
      "File \u001b[1;32mc:\\Python310\\lib\\site-packages\\sklearn\\utils\\_set_output.py:313\u001b[0m, in \u001b[0;36m_wrap_method_output.<locals>.wrapped\u001b[1;34m(self, X, *args, **kwargs)\u001b[0m\n\u001b[0;32m    311\u001b[0m \u001b[38;5;129m@wraps\u001b[39m(f)\n\u001b[0;32m    312\u001b[0m \u001b[38;5;28;01mdef\u001b[39;00m \u001b[38;5;21mwrapped\u001b[39m(\u001b[38;5;28mself\u001b[39m, X, \u001b[38;5;241m*\u001b[39margs, \u001b[38;5;241m*\u001b[39m\u001b[38;5;241m*\u001b[39mkwargs):\n\u001b[1;32m--> 313\u001b[0m     data_to_wrap \u001b[38;5;241m=\u001b[39m f(\u001b[38;5;28mself\u001b[39m, X, \u001b[38;5;241m*\u001b[39margs, \u001b[38;5;241m*\u001b[39m\u001b[38;5;241m*\u001b[39mkwargs)\n\u001b[0;32m    314\u001b[0m     \u001b[38;5;28;01mif\u001b[39;00m \u001b[38;5;28misinstance\u001b[39m(data_to_wrap, \u001b[38;5;28mtuple\u001b[39m):\n\u001b[0;32m    315\u001b[0m         \u001b[38;5;66;03m# only wrap the first output for cross decomposition\u001b[39;00m\n\u001b[0;32m    316\u001b[0m         return_tuple \u001b[38;5;241m=\u001b[39m (\n\u001b[0;32m    317\u001b[0m             _wrap_data_with_container(method, data_to_wrap[\u001b[38;5;241m0\u001b[39m], X, \u001b[38;5;28mself\u001b[39m),\n\u001b[0;32m    318\u001b[0m             \u001b[38;5;241m*\u001b[39mdata_to_wrap[\u001b[38;5;241m1\u001b[39m:],\n\u001b[0;32m    319\u001b[0m         )\n",
      "File \u001b[1;32mc:\\Python310\\lib\\site-packages\\sklearn\\base.py:1098\u001b[0m, in \u001b[0;36mTransformerMixin.fit_transform\u001b[1;34m(self, X, y, **fit_params)\u001b[0m\n\u001b[0;32m   1083\u001b[0m         warnings\u001b[38;5;241m.\u001b[39mwarn(\n\u001b[0;32m   1084\u001b[0m             (\n\u001b[0;32m   1085\u001b[0m                 \u001b[38;5;124mf\u001b[39m\u001b[38;5;124m\"\u001b[39m\u001b[38;5;124mThis object (\u001b[39m\u001b[38;5;132;01m{\u001b[39;00m\u001b[38;5;28mself\u001b[39m\u001b[38;5;241m.\u001b[39m\u001b[38;5;18m__class__\u001b[39m\u001b[38;5;241m.\u001b[39m\u001b[38;5;18m__name__\u001b[39m\u001b[38;5;132;01m}\u001b[39;00m\u001b[38;5;124m) has a `transform`\u001b[39m\u001b[38;5;124m\"\u001b[39m\n\u001b[1;32m   (...)\u001b[0m\n\u001b[0;32m   1093\u001b[0m             \u001b[38;5;167;01mUserWarning\u001b[39;00m,\n\u001b[0;32m   1094\u001b[0m         )\n\u001b[0;32m   1096\u001b[0m \u001b[38;5;28;01mif\u001b[39;00m y \u001b[38;5;129;01mis\u001b[39;00m \u001b[38;5;28;01mNone\u001b[39;00m:\n\u001b[0;32m   1097\u001b[0m     \u001b[38;5;66;03m# fit method of arity 1 (unsupervised transformation)\u001b[39;00m\n\u001b[1;32m-> 1098\u001b[0m     \u001b[38;5;28;01mreturn\u001b[39;00m \u001b[38;5;28;43mself\u001b[39;49m\u001b[38;5;241;43m.\u001b[39;49m\u001b[43mfit\u001b[49m\u001b[43m(\u001b[49m\u001b[43mX\u001b[49m\u001b[43m,\u001b[49m\u001b[43m \u001b[49m\u001b[38;5;241;43m*\u001b[39;49m\u001b[38;5;241;43m*\u001b[39;49m\u001b[43mfit_params\u001b[49m\u001b[43m)\u001b[49m\u001b[38;5;241;43m.\u001b[39;49m\u001b[43mtransform\u001b[49m\u001b[43m(\u001b[49m\u001b[43mX\u001b[49m\u001b[43m)\u001b[49m\n\u001b[0;32m   1099\u001b[0m \u001b[38;5;28;01melse\u001b[39;00m:\n\u001b[0;32m   1100\u001b[0m     \u001b[38;5;66;03m# fit method of arity 2 (supervised transformation)\u001b[39;00m\n\u001b[0;32m   1101\u001b[0m     \u001b[38;5;28;01mreturn\u001b[39;00m \u001b[38;5;28mself\u001b[39m\u001b[38;5;241m.\u001b[39mfit(X, y, \u001b[38;5;241m*\u001b[39m\u001b[38;5;241m*\u001b[39mfit_params)\u001b[38;5;241m.\u001b[39mtransform(X)\n",
      "File \u001b[1;32mc:\\Python310\\lib\\site-packages\\sklearn\\utils\\_set_output.py:313\u001b[0m, in \u001b[0;36m_wrap_method_output.<locals>.wrapped\u001b[1;34m(self, X, *args, **kwargs)\u001b[0m\n\u001b[0;32m    311\u001b[0m \u001b[38;5;129m@wraps\u001b[39m(f)\n\u001b[0;32m    312\u001b[0m \u001b[38;5;28;01mdef\u001b[39;00m \u001b[38;5;21mwrapped\u001b[39m(\u001b[38;5;28mself\u001b[39m, X, \u001b[38;5;241m*\u001b[39margs, \u001b[38;5;241m*\u001b[39m\u001b[38;5;241m*\u001b[39mkwargs):\n\u001b[1;32m--> 313\u001b[0m     data_to_wrap \u001b[38;5;241m=\u001b[39m f(\u001b[38;5;28mself\u001b[39m, X, \u001b[38;5;241m*\u001b[39margs, \u001b[38;5;241m*\u001b[39m\u001b[38;5;241m*\u001b[39mkwargs)\n\u001b[0;32m    314\u001b[0m     \u001b[38;5;28;01mif\u001b[39;00m \u001b[38;5;28misinstance\u001b[39m(data_to_wrap, \u001b[38;5;28mtuple\u001b[39m):\n\u001b[0;32m    315\u001b[0m         \u001b[38;5;66;03m# only wrap the first output for cross decomposition\u001b[39;00m\n\u001b[0;32m    316\u001b[0m         return_tuple \u001b[38;5;241m=\u001b[39m (\n\u001b[0;32m    317\u001b[0m             _wrap_data_with_container(method, data_to_wrap[\u001b[38;5;241m0\u001b[39m], X, \u001b[38;5;28mself\u001b[39m),\n\u001b[0;32m    318\u001b[0m             \u001b[38;5;241m*\u001b[39mdata_to_wrap[\u001b[38;5;241m1\u001b[39m:],\n\u001b[0;32m    319\u001b[0m         )\n",
      "File \u001b[1;32mc:\\Python310\\lib\\site-packages\\sklearn\\preprocessing\\_function_transformer.py:252\u001b[0m, in \u001b[0;36mFunctionTransformer.transform\u001b[1;34m(self, X)\u001b[0m\n\u001b[0;32m    238\u001b[0m \u001b[38;5;124;03m\"\"\"Transform X using the forward function.\u001b[39;00m\n\u001b[0;32m    239\u001b[0m \n\u001b[0;32m    240\u001b[0m \u001b[38;5;124;03mParameters\u001b[39;00m\n\u001b[1;32m   (...)\u001b[0m\n\u001b[0;32m    249\u001b[0m \u001b[38;5;124;03m    Transformed input.\u001b[39;00m\n\u001b[0;32m    250\u001b[0m \u001b[38;5;124;03m\"\"\"\u001b[39;00m\n\u001b[0;32m    251\u001b[0m X \u001b[38;5;241m=\u001b[39m \u001b[38;5;28mself\u001b[39m\u001b[38;5;241m.\u001b[39m_check_input(X, reset\u001b[38;5;241m=\u001b[39m\u001b[38;5;28;01mFalse\u001b[39;00m)\n\u001b[1;32m--> 252\u001b[0m out \u001b[38;5;241m=\u001b[39m \u001b[38;5;28;43mself\u001b[39;49m\u001b[38;5;241;43m.\u001b[39;49m\u001b[43m_transform\u001b[49m\u001b[43m(\u001b[49m\u001b[43mX\u001b[49m\u001b[43m,\u001b[49m\u001b[43m \u001b[49m\u001b[43mfunc\u001b[49m\u001b[38;5;241;43m=\u001b[39;49m\u001b[38;5;28;43mself\u001b[39;49m\u001b[38;5;241;43m.\u001b[39;49m\u001b[43mfunc\u001b[49m\u001b[43m,\u001b[49m\u001b[43m \u001b[49m\u001b[43mkw_args\u001b[49m\u001b[38;5;241;43m=\u001b[39;49m\u001b[38;5;28;43mself\u001b[39;49m\u001b[38;5;241;43m.\u001b[39;49m\u001b[43mkw_args\u001b[49m\u001b[43m)\u001b[49m\n\u001b[0;32m    253\u001b[0m output_config \u001b[38;5;241m=\u001b[39m _get_output_config(\u001b[38;5;124m\"\u001b[39m\u001b[38;5;124mtransform\u001b[39m\u001b[38;5;124m\"\u001b[39m, \u001b[38;5;28mself\u001b[39m)[\u001b[38;5;124m\"\u001b[39m\u001b[38;5;124mdense\u001b[39m\u001b[38;5;124m\"\u001b[39m]\n\u001b[0;32m    255\u001b[0m \u001b[38;5;28;01mif\u001b[39;00m \u001b[38;5;28mhasattr\u001b[39m(out, \u001b[38;5;124m\"\u001b[39m\u001b[38;5;124mcolumns\u001b[39m\u001b[38;5;124m\"\u001b[39m) \u001b[38;5;129;01mand\u001b[39;00m \u001b[38;5;28mself\u001b[39m\u001b[38;5;241m.\u001b[39mfeature_names_out \u001b[38;5;129;01mis\u001b[39;00m \u001b[38;5;129;01mnot\u001b[39;00m \u001b[38;5;28;01mNone\u001b[39;00m:\n\u001b[0;32m    256\u001b[0m     \u001b[38;5;66;03m# check the consistency between the column provided by `transform` and\u001b[39;00m\n\u001b[0;32m    257\u001b[0m     \u001b[38;5;66;03m# the the column names provided by `get_feature_names_out`.\u001b[39;00m\n",
      "File \u001b[1;32mc:\\Python310\\lib\\site-packages\\sklearn\\preprocessing\\_function_transformer.py:379\u001b[0m, in \u001b[0;36mFunctionTransformer._transform\u001b[1;34m(self, X, func, kw_args)\u001b[0m\n\u001b[0;32m    376\u001b[0m \u001b[38;5;28;01mif\u001b[39;00m func \u001b[38;5;129;01mis\u001b[39;00m \u001b[38;5;28;01mNone\u001b[39;00m:\n\u001b[0;32m    377\u001b[0m     func \u001b[38;5;241m=\u001b[39m _identity\n\u001b[1;32m--> 379\u001b[0m \u001b[38;5;28;01mreturn\u001b[39;00m func(X, \u001b[38;5;241m*\u001b[39m\u001b[38;5;241m*\u001b[39m(kw_args \u001b[38;5;28;01mif\u001b[39;00m kw_args \u001b[38;5;28;01melse\u001b[39;00m {}))\n",
      "Input \u001b[1;32mIn [23]\u001b[0m, in \u001b[0;36mset_autoencoder_in_classifier\u001b[1;34m(X)\u001b[0m\n\u001b[0;32m      1\u001b[0m \u001b[38;5;28;01mdef\u001b[39;00m \u001b[38;5;21mset_autoencoder_in_classifier\u001b[39m(X):\n\u001b[1;32m----> 2\u001b[0m     autoencoder, classifier \u001b[38;5;241m=\u001b[39m X\n\u001b[0;32m      3\u001b[0m     classifier\u001b[38;5;241m.\u001b[39mset_autoencoder(autoencoder)\n\u001b[0;32m      4\u001b[0m     \u001b[38;5;28;01mreturn\u001b[39;00m classifier\n",
      "\u001b[1;31mValueError\u001b[0m: too many values to unpack (expected 2)"
     ]
    }
   ],
   "source": [
    "pipeline = Pipeline([\n",
    "    ('mnist_loader', DataLoader(\"hub://activeloop/mnist-train\")),\n",
    "    ('autoencoder', Autoencoder()),\n",
    "    ('fashion_loader', DataLoader(\"hub://activeloop/fashion-mnist-train\")),\n",
    "    ('fashion_filter', FunctionTransformer(filter_fashion_data, validate=False)),\n",
    "    ('set_autoencoder', FunctionTransformer(set_autoencoder_in_classifier, validate=False)),\n",
    "    ('classifier', Classifier())\n",
    "])\n",
    "\n",
    "pipeline.fit(None)"
   ]
  },
  {
   "cell_type": "markdown",
   "id": "1a4698e2",
   "metadata": {},
   "source": [
    "## Pipeline"
   ]
  }
 ],
 "metadata": {
  "kernelspec": {
   "display_name": "Python 3",
   "language": "python",
   "name": "python3"
  },
  "language_info": {
   "codemirror_mode": {
    "name": "ipython",
    "version": 3
   },
   "file_extension": ".py",
   "mimetype": "text/x-python",
   "name": "python",
   "nbconvert_exporter": "python",
   "pygments_lexer": "ipython3",
   "version": "3.10.6"
  }
 },
 "nbformat": 4,
 "nbformat_minor": 5
}

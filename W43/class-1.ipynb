{
 "cells": [
  {
   "cell_type": "code",
   "execution_count": 1,
   "metadata": {},
   "outputs": [
    {
     "data": {
      "text/html": [
       "        <script type=\"text/javascript\">\n",
       "        window.PlotlyConfig = {MathJaxConfig: 'local'};\n",
       "        if (window.MathJax && window.MathJax.Hub && window.MathJax.Hub.Config) {window.MathJax.Hub.Config({SVG: {font: \"STIX-Web\"}});}\n",
       "        if (typeof require !== 'undefined') {\n",
       "        require.undef(\"plotly\");\n",
       "        requirejs.config({\n",
       "            paths: {\n",
       "                'plotly': ['https://cdn.plot.ly/plotly-2.34.0.min']\n",
       "            }\n",
       "        });\n",
       "        require(['plotly'], function(Plotly) {\n",
       "            window._Plotly = Plotly;\n",
       "        });\n",
       "        }\n",
       "        </script>\n",
       "        "
      ]
     },
     "metadata": {},
     "output_type": "display_data"
    }
   ],
   "source": [
    "import warnings\n",
    "warnings.filterwarnings(\"ignore\")\n",
    "\n",
    "import numpy as np\n",
    "import pandas as pd\n",
    "from sklearn.preprocessing import MinMaxScaler\n",
    "from tensorflow.keras.models import Sequential\n",
    "from tensorflow.keras.layers import SimpleRNN, Dense\n",
    "from tensorflow.keras.optimizers import Adam\n",
    "import tensorflow as tf\n",
    "from tensorflow.keras.layers import Layer, Dropout, GRU, LSTM\n",
    "import pywt\n",
    "import cufflinks as cf\n",
    "cf.go_offline()"
   ]
  },
  {
   "cell_type": "code",
   "execution_count": 2,
   "metadata": {},
   "outputs": [],
   "source": [
    "class AttentionMechanism(Layer):\n",
    "    def __init__(self, return_sequences=True):\n",
    "        super(AttentionMechanism, self).__init__()\n",
    "        self.return_sequences = return_sequences\n",
    "\n",
    "    def build(self, input_shape):\n",
    "        self.W=self.add_weight(name=\"att_weight\", shape=(input_shape[-1],1),\n",
    "                               initializer=\"normal\")\n",
    "        self.b=self.add_weight(name=\"att_bias\", shape=(input_shape[1],1),\n",
    "                               initializer=\"zeros\")\n",
    "\n",
    "    def call(self, x):\n",
    "        e = tf.nn.tanh(tf.matmul(x,self.W)+self.b)\n",
    "        a = tf.nn.softmax(e, axis=1)\n",
    "        output = x*a\n",
    "\n",
    "        if self.return_sequences:\n",
    "            return output\n",
    "\n",
    "        return tf.reduce_sum(output, axis=1)"
   ]
  },
  {
   "cell_type": "code",
   "execution_count": 3,
   "metadata": {},
   "outputs": [],
   "source": [
    "class PreprocessData:\n",
    "    def __init__(self, file_path, feature_column, look_back=2):\n",
    "        self.file_path = file_path\n",
    "        self.feature_column = feature_column\n",
    "        self.look_back = look_back\n",
    "        self.scaler = MinMaxScaler(feature_range=(0, 1))\n",
    "        self.data_scaled = None\n",
    "        self.X = None\n",
    "        self.y = None\n",
    "\n",
    "    def check_look_back(self):\n",
    "        if self.look_back == 0:\n",
    "            raise ValueError('You can not use number 0')\n",
    "\n",
    "    def load_preprocess_data(self):\n",
    "        df = pd.read_csv(self.file_path, index_col=['date'], parse_dates=True)\n",
    "        df[self.feature_column].fillna(method='ffill', inplace=True)\n",
    "        self.data_scaled = self.scaler.fit_transform(df[[self.feature_column]])\n",
    "\n",
    "    def create_dataset(self):\n",
    "        X, y = [], []\n",
    "        \n",
    "        for i in range(len(self.data_scaled) - self.look_back):\n",
    "            a = self.data_scaled[i:(i + self.look_back), 0]\n",
    "            X.append(a)\n",
    "            y.append(self.data_scaled[i + self.look_back, 0])\n",
    "        \n",
    "        self.X, self.y = np.array(X), np.array(y)\n",
    "\n",
    "        X_dif = self.X[:-1] - self.X[1:]\n",
    "        X_new = np.hstack([self.X[:-1], X_dif])\n",
    "        self.y = self.y[:-1]\n",
    "\n",
    "        self.X = np.reshape(X_new, (X_new.shape[0], X_new.shape[1], 1))\n",
    "\n",
    "    def split_data(self, train_size=0.8):\n",
    "        split_idx = int(len(self.X) * train_size)\n",
    "        X_train, X_test = self.X[:split_idx], self.X[split_idx:]\n",
    "        y_train, y_test = self.y[:split_idx], self.y[split_idx:]\n",
    "        \n",
    "        return X_train, X_test, y_train, y_test"
   ]
  },
  {
   "cell_type": "code",
   "execution_count": 4,
   "metadata": {},
   "outputs": [],
   "source": [
    "class TrainModel:\n",
    "    def __init__(self):\n",
    "        self.model = None\n",
    "\n",
    "    def build_model_simple_rnn(self, input_shape):\n",
    "        self.model = Sequential([\n",
    "            SimpleRNN(50, activation='relu', input_shape=input_shape, return_sequences=True),\n",
    "            SimpleRNN(50, activation='relu', input_shape=input_shape, return_sequences=True),\n",
    "            AttentionMechanism(return_sequences=True),\n",
    "            SimpleRNN(50, activation='relu'),\n",
    "            Dense(1)\n",
    "        ])\n",
    "        self.model.compile(optimizer=Adam(learning_rate=0.01), loss='mse')\n",
    "\n",
    "        return self.model\n",
    "\n",
    "    def train_model(self, X_train, y_train, epochs=100, batch_size=64):\n",
    "        self.model.fit(X_train, y_train, epochs=epochs, batch_size=batch_size, validation_split=0.2)\n",
    "\n",
    "    def evaluate_model(self, X_test, y_test, scaler):\n",
    "        predictions = self.model.predict(X_test)\n",
    "        predictions = scaler.inverse_transform(predictions)\n",
    "        y_test_actual = scaler.inverse_transform(y_test.reshape(-1, 1))\n",
    "        \n",
    "        mape = np.mean(np.abs((y_test_actual - predictions) / y_test_actual)) * 100\n",
    "        mae = np.mean(np.abs(y_test_actual - predictions))\n",
    "        \n",
    "        print(f\"MAPE: {mape}%\")\n",
    "        print(f\"MAE: {mae}\")\n",
    "        \n",
    "        return predictions, y_test_actual\n",
    "\n",
    "    def plot_results(self, predictions, y_test_actual, feature_column):\n",
    "        df = pd.DataFrame({\n",
    "            'Actual': y_test_actual.ravel(),\n",
    "            'Predicted': predictions.ravel()\n",
    "        })\n",
    "        \n",
    "        df.iplot(title=f\"Прогноз vs Реальные значения (Тест) для {feature_column}\",\n",
    "                 xTitle=\"Время\",\n",
    "                 yTitle=\"Значение\",\n",
    "                 theme=\"solar\")"
   ]
  },
  {
   "cell_type": "code",
   "execution_count": 17,
   "metadata": {},
   "outputs": [],
   "source": [
    "class ValidationData:\n",
    "    def __init__(self, feature_column, scaler, look_back=1):\n",
    "        self.feature_column = feature_column\n",
    "        self.look_back = look_back\n",
    "        self.scaler = scaler\n",
    "        self.model = None\n",
    "        self.X_val = None\n",
    "        self.y_val = None\n",
    "        self.predictions_val = None\n",
    "        self.y_val_actual = None\n",
    "\n",
    "    def check_look_back(self):\n",
    "        if self.look_back == 0:\n",
    "            raise ValueError('You can not use number 0')\n",
    "\n",
    "    def load_validation_data(self, file_path, model):\n",
    "        try:\n",
    "            self.scaler = MinMaxScaler()\n",
    "            df = pd.read_csv(file_path, index_col=['date'], parse_dates=True)\n",
    "            df[self.feature_column].fillna(method='ffill', inplace=True)\n",
    "            self.data_scaled = self.scaler.fit_transform(df[[self.feature_column]])\n",
    "\n",
    "            X, y = [], []\n",
    "            \n",
    "            for i in range(len(self.data_scaled) - self.look_back):\n",
    "                a = self.data_scaled[i:(i + self.look_back), 0]\n",
    "                X.append(a)\n",
    "                y.append(self.data_scaled[i + self.look_back, 0])\n",
    "            \n",
    "            self.X, self.y = np.array(X), np.array(y)\n",
    "\n",
    "            X_dif = self.X[:-1] - self.X[1:]\n",
    "            X_new = np.hstack([self.X[:-1], X_dif])\n",
    "            self.y = self.y[:-1]\n",
    "\n",
    "            self.X = np.reshape(X_new, (X_new.shape[0], X_new.shape[1], 1))\n",
    "    \n",
    "            predictions = model.predict(self.X)\n",
    "            predictions = self.scaler.inverse_transform(predictions)\n",
    "            y_actual = self.scaler.inverse_transform(self.y.reshape(-1, 1))\n",
    "\n",
    "            return predictions, y_actual\n",
    "            \n",
    "        except Exception as e:\n",
    "            print(f\"Error in load_validation_data: {str(e)}\")\n",
    "\n",
    "\n",
    "    def plot_val_results(self):\n",
    "        if self.predictions_val is None or self.y_val_actual is None:\n",
    "            print(\"Predictions not generated. Please call generate_predictions first.\")\n",
    "            return\n",
    "\n",
    "        df_val = pd.DataFrame({\n",
    "            'Actual (Validation)': self.y_val_actual.ravel(),\n",
    "            'Predicted (Validation)': self.predictions_val.ravel()\n",
    "        })\n",
    "\n",
    "        df_val.iplot(title=f\"Forecast vs Actual Values (Validation) for {self.feature_column}\",\n",
    "                     xTitle=\"Time\",\n",
    "                     yTitle=\"Value\",\n",
    "                     theme=\"solar\")"
   ]
  },
  {
   "cell_type": "code",
   "execution_count": 12,
   "metadata": {},
   "outputs": [],
   "source": [
    "# Преобразование данных для обучения модели\n",
    "preprocess_meantemp = PreprocessData('DailyDelhiClimateTrain.csv', 'meantemp', look_back=5)\n",
    "preprocess_meantemp.check_look_back()\n",
    "preprocess_meantemp.load_preprocess_data()\n",
    "preprocess_meantemp.create_dataset()\n",
    "X_train_meantemp, X_test_meantemp, y_train_meantemp, y_test_meantemp = preprocess_meantemp.split_data()"
   ]
  },
  {
   "cell_type": "code",
   "execution_count": 13,
   "metadata": {},
   "outputs": [
    {
     "name": "stdout",
     "output_type": "stream",
     "text": [
      "Epoch 1/100\n",
      "15/15 [==============================] - 2s 24ms/step - loss: 0.4788 - val_loss: 0.1928\n",
      "Epoch 2/100\n",
      "15/15 [==============================] - 0s 6ms/step - loss: 0.1366 - val_loss: 0.0455\n",
      "Epoch 3/100\n",
      "15/15 [==============================] - 0s 6ms/step - loss: 0.0524 - val_loss: 0.0410\n",
      "Epoch 4/100\n",
      "15/15 [==============================] - 0s 8ms/step - loss: 0.0464 - val_loss: 0.0160\n",
      "Epoch 5/100\n",
      "15/15 [==============================] - 0s 7ms/step - loss: 0.0095 - val_loss: 0.0040\n",
      "Epoch 6/100\n",
      "15/15 [==============================] - 0s 7ms/step - loss: 0.0040 - val_loss: 0.0019\n",
      "Epoch 7/100\n",
      "15/15 [==============================] - 0s 7ms/step - loss: 0.0029 - val_loss: 0.0017\n",
      "Epoch 8/100\n",
      "15/15 [==============================] - 0s 7ms/step - loss: 0.0024 - val_loss: 0.0016\n",
      "Epoch 9/100\n",
      "15/15 [==============================] - 0s 6ms/step - loss: 0.0022 - val_loss: 0.0020\n",
      "Epoch 10/100\n",
      "15/15 [==============================] - 0s 6ms/step - loss: 0.0023 - val_loss: 0.0018\n",
      "Epoch 11/100\n",
      "15/15 [==============================] - 0s 6ms/step - loss: 0.0019 - val_loss: 8.2162e-04\n",
      "Epoch 12/100\n",
      "15/15 [==============================] - 0s 6ms/step - loss: 0.0015 - val_loss: 6.4247e-04\n",
      "Epoch 13/100\n",
      "15/15 [==============================] - 0s 6ms/step - loss: 8.6943e-04 - val_loss: 3.2511e-04\n",
      "Epoch 14/100\n",
      "15/15 [==============================] - 0s 7ms/step - loss: 4.6459e-04 - val_loss: 1.1919e-04\n",
      "Epoch 15/100\n",
      "15/15 [==============================] - 0s 6ms/step - loss: 2.1216e-04 - val_loss: 1.0177e-04\n",
      "Epoch 16/100\n",
      "15/15 [==============================] - 0s 6ms/step - loss: 1.1265e-04 - val_loss: 4.1184e-05\n",
      "Epoch 17/100\n",
      "15/15 [==============================] - 0s 6ms/step - loss: 7.2736e-05 - val_loss: 6.8256e-05\n",
      "Epoch 18/100\n",
      "15/15 [==============================] - 0s 6ms/step - loss: 6.1950e-05 - val_loss: 2.7274e-05\n",
      "Epoch 19/100\n",
      "15/15 [==============================] - 0s 6ms/step - loss: 7.5744e-05 - val_loss: 5.0006e-05\n",
      "Epoch 20/100\n",
      "15/15 [==============================] - 0s 6ms/step - loss: 6.7356e-05 - val_loss: 9.8219e-05\n",
      "Epoch 21/100\n",
      "15/15 [==============================] - 0s 6ms/step - loss: 5.6847e-05 - val_loss: 1.1210e-04\n",
      "Epoch 22/100\n",
      "15/15 [==============================] - 0s 9ms/step - loss: 4.9151e-05 - val_loss: 9.2940e-05\n",
      "Epoch 23/100\n",
      "15/15 [==============================] - 0s 6ms/step - loss: 7.8874e-05 - val_loss: 4.7961e-05\n",
      "Epoch 24/100\n",
      "15/15 [==============================] - 0s 6ms/step - loss: 7.8964e-05 - val_loss: 4.1112e-05\n",
      "Epoch 25/100\n",
      "15/15 [==============================] - 0s 6ms/step - loss: 6.2599e-05 - val_loss: 4.8958e-05\n",
      "Epoch 26/100\n",
      "15/15 [==============================] - 0s 6ms/step - loss: 4.9910e-05 - val_loss: 2.0304e-05\n",
      "Epoch 27/100\n",
      "15/15 [==============================] - 0s 6ms/step - loss: 3.6346e-05 - val_loss: 2.6962e-05\n",
      "Epoch 28/100\n",
      "15/15 [==============================] - 0s 8ms/step - loss: 5.7257e-05 - val_loss: 9.8784e-05\n",
      "Epoch 29/100\n",
      "15/15 [==============================] - 0s 6ms/step - loss: 1.1233e-04 - val_loss: 3.4049e-04\n",
      "Epoch 30/100\n",
      "15/15 [==============================] - 0s 6ms/step - loss: 6.8645e-05 - val_loss: 2.7560e-05\n",
      "Epoch 31/100\n",
      "15/15 [==============================] - 0s 6ms/step - loss: 3.7025e-05 - val_loss: 1.1573e-04\n",
      "Epoch 32/100\n",
      "15/15 [==============================] - 0s 6ms/step - loss: 1.5747e-04 - val_loss: 3.6588e-05\n",
      "Epoch 33/100\n",
      "15/15 [==============================] - 0s 6ms/step - loss: 7.4385e-05 - val_loss: 3.5246e-05\n",
      "Epoch 34/100\n",
      "15/15 [==============================] - 0s 6ms/step - loss: 8.9281e-05 - val_loss: 1.1376e-04\n",
      "Epoch 35/100\n",
      "15/15 [==============================] - 0s 6ms/step - loss: 5.4036e-05 - val_loss: 2.1829e-05\n",
      "Epoch 36/100\n",
      "15/15 [==============================] - 0s 6ms/step - loss: 4.5786e-05 - val_loss: 3.4947e-05\n",
      "Epoch 37/100\n",
      "15/15 [==============================] - 0s 8ms/step - loss: 3.7865e-05 - val_loss: 8.6548e-05\n",
      "Epoch 38/100\n",
      "15/15 [==============================] - 0s 9ms/step - loss: 5.4738e-05 - val_loss: 1.4471e-05\n",
      "Epoch 39/100\n",
      "15/15 [==============================] - 0s 10ms/step - loss: 7.7732e-05 - val_loss: 3.7357e-05\n",
      "Epoch 40/100\n",
      "15/15 [==============================] - 0s 17ms/step - loss: 3.5432e-05 - val_loss: 4.7244e-05\n",
      "Epoch 41/100\n",
      "15/15 [==============================] - 0s 17ms/step - loss: 6.1792e-05 - val_loss: 4.5372e-05\n",
      "Epoch 42/100\n",
      "15/15 [==============================] - 0s 24ms/step - loss: 3.0396e-05 - val_loss: 1.3991e-05\n",
      "Epoch 43/100\n",
      "15/15 [==============================] - 0s 33ms/step - loss: 4.0336e-05 - val_loss: 5.2428e-05\n",
      "Epoch 44/100\n",
      "15/15 [==============================] - 1s 45ms/step - loss: 7.4158e-05 - val_loss: 6.9874e-05\n",
      "Epoch 45/100\n",
      "15/15 [==============================] - 1s 51ms/step - loss: 3.8154e-05 - val_loss: 1.0045e-05\n",
      "Epoch 46/100\n",
      "15/15 [==============================] - 1s 62ms/step - loss: 4.3904e-05 - val_loss: 1.5366e-05\n",
      "Epoch 47/100\n",
      "15/15 [==============================] - 1s 60ms/step - loss: 1.0055e-04 - val_loss: 7.1031e-05\n",
      "Epoch 48/100\n",
      "15/15 [==============================] - 1s 41ms/step - loss: 1.0378e-04 - val_loss: 1.2084e-04\n",
      "Epoch 49/100\n",
      "15/15 [==============================] - 1s 37ms/step - loss: 1.5651e-04 - val_loss: 1.1093e-04\n",
      "Epoch 50/100\n",
      "15/15 [==============================] - 1s 36ms/step - loss: 5.1325e-05 - val_loss: 7.6474e-05\n",
      "Epoch 51/100\n",
      "15/15 [==============================] - 1s 37ms/step - loss: 5.8010e-05 - val_loss: 1.5622e-05\n",
      "Epoch 52/100\n",
      "15/15 [==============================] - 1s 38ms/step - loss: 6.4989e-05 - val_loss: 6.7764e-05\n",
      "Epoch 53/100\n",
      "15/15 [==============================] - 1s 49ms/step - loss: 9.8311e-05 - val_loss: 1.6568e-05\n",
      "Epoch 54/100\n",
      "15/15 [==============================] - 1s 41ms/step - loss: 7.1911e-05 - val_loss: 3.4593e-05\n",
      "Epoch 55/100\n",
      "15/15 [==============================] - 1s 40ms/step - loss: 5.1507e-05 - val_loss: 5.1322e-05\n",
      "Epoch 56/100\n",
      "15/15 [==============================] - 1s 38ms/step - loss: 4.9396e-05 - val_loss: 1.6979e-05\n",
      "Epoch 57/100\n",
      "15/15 [==============================] - 1s 37ms/step - loss: 9.1803e-05 - val_loss: 5.5250e-05\n",
      "Epoch 58/100\n",
      "15/15 [==============================] - 0s 32ms/step - loss: 1.2652e-04 - val_loss: 8.6638e-05\n",
      "Epoch 59/100\n",
      "15/15 [==============================] - 1s 47ms/step - loss: 4.3528e-05 - val_loss: 7.8858e-05\n",
      "Epoch 60/100\n",
      "15/15 [==============================] - 1s 38ms/step - loss: 2.6736e-04 - val_loss: 1.4348e-04\n",
      "Epoch 61/100\n",
      "15/15 [==============================] - 1s 39ms/step - loss: 1.9484e-04 - val_loss: 1.8594e-04\n",
      "Epoch 62/100\n",
      "15/15 [==============================] - 1s 43ms/step - loss: 2.0953e-04 - val_loss: 7.0568e-05\n",
      "Epoch 63/100\n",
      "15/15 [==============================] - 1s 58ms/step - loss: 1.3782e-04 - val_loss: 8.7663e-05\n",
      "Epoch 64/100\n",
      "15/15 [==============================] - 1s 55ms/step - loss: 7.7264e-05 - val_loss: 1.5355e-05\n",
      "Epoch 65/100\n",
      "15/15 [==============================] - 1s 39ms/step - loss: 4.6905e-05 - val_loss: 6.7440e-05\n",
      "Epoch 66/100\n",
      "15/15 [==============================] - 1s 34ms/step - loss: 5.4725e-05 - val_loss: 1.3575e-05\n",
      "Epoch 67/100\n",
      "15/15 [==============================] - 1s 36ms/step - loss: 2.4557e-05 - val_loss: 2.8640e-05\n",
      "Epoch 68/100\n",
      "15/15 [==============================] - 1s 39ms/step - loss: 3.0109e-05 - val_loss: 1.1514e-05\n",
      "Epoch 69/100\n",
      "15/15 [==============================] - 1s 38ms/step - loss: 1.4726e-05 - val_loss: 2.1860e-05\n",
      "Epoch 70/100\n",
      "15/15 [==============================] - 1s 40ms/step - loss: 3.3575e-05 - val_loss: 8.6673e-05\n",
      "Epoch 71/100\n",
      "15/15 [==============================] - 1s 58ms/step - loss: 9.4917e-05 - val_loss: 1.4216e-05\n",
      "Epoch 72/100\n",
      "15/15 [==============================] - 1s 44ms/step - loss: 7.3981e-05 - val_loss: 1.3059e-05\n",
      "Epoch 73/100\n",
      "15/15 [==============================] - 1s 35ms/step - loss: 4.7125e-05 - val_loss: 1.7877e-05\n",
      "Epoch 74/100\n",
      "15/15 [==============================] - 1s 45ms/step - loss: 3.1639e-05 - val_loss: 4.4214e-05\n",
      "Epoch 75/100\n",
      "15/15 [==============================] - 1s 46ms/step - loss: 1.1284e-04 - val_loss: 1.2028e-05\n",
      "Epoch 76/100\n",
      "15/15 [==============================] - 1s 39ms/step - loss: 6.3257e-05 - val_loss: 1.3276e-05\n",
      "Epoch 77/100\n",
      "15/15 [==============================] - 1s 49ms/step - loss: 7.2595e-05 - val_loss: 4.8961e-05\n",
      "Epoch 78/100\n",
      "15/15 [==============================] - 1s 47ms/step - loss: 2.9787e-05 - val_loss: 2.4749e-05\n",
      "Epoch 79/100\n",
      "15/15 [==============================] - 1s 50ms/step - loss: 3.9890e-05 - val_loss: 1.2370e-05\n",
      "Epoch 80/100\n",
      "15/15 [==============================] - 1s 51ms/step - loss: 2.0724e-05 - val_loss: 4.9022e-05\n",
      "Epoch 81/100\n",
      "15/15 [==============================] - 1s 43ms/step - loss: 5.7343e-05 - val_loss: 2.4653e-05\n",
      "Epoch 82/100\n",
      "15/15 [==============================] - 1s 44ms/step - loss: 7.0263e-05 - val_loss: 4.9487e-05\n",
      "Epoch 83/100\n",
      "15/15 [==============================] - 1s 53ms/step - loss: 5.8829e-05 - val_loss: 2.6378e-05\n",
      "Epoch 84/100\n",
      "15/15 [==============================] - 1s 43ms/step - loss: 2.4085e-05 - val_loss: 1.4036e-05\n",
      "Epoch 85/100\n",
      "15/15 [==============================] - 1s 49ms/step - loss: 2.2748e-05 - val_loss: 3.6294e-05\n",
      "Epoch 86/100\n",
      "15/15 [==============================] - 1s 47ms/step - loss: 4.3865e-05 - val_loss: 6.8064e-05\n",
      "Epoch 87/100\n",
      "15/15 [==============================] - 1s 48ms/step - loss: 3.7890e-05 - val_loss: 2.3414e-05\n",
      "Epoch 88/100\n",
      "15/15 [==============================] - 1s 40ms/step - loss: 2.1286e-04 - val_loss: 1.2708e-04\n",
      "Epoch 89/100\n",
      "15/15 [==============================] - 1s 58ms/step - loss: 3.1080e-04 - val_loss: 3.7721e-04\n",
      "Epoch 90/100\n",
      "15/15 [==============================] - 1s 46ms/step - loss: 7.9047e-04 - val_loss: 1.6709e-04\n",
      "Epoch 91/100\n",
      "15/15 [==============================] - 1s 44ms/step - loss: 6.0359e-04 - val_loss: 6.9335e-04\n",
      "Epoch 92/100\n",
      "15/15 [==============================] - 1s 45ms/step - loss: 2.8350e-04 - val_loss: 2.0431e-04\n",
      "Epoch 93/100\n",
      "15/15 [==============================] - 1s 36ms/step - loss: 9.2651e-05 - val_loss: 2.9283e-05\n",
      "Epoch 94/100\n",
      "15/15 [==============================] - 1s 51ms/step - loss: 3.7492e-05 - val_loss: 2.7436e-05\n",
      "Epoch 95/100\n",
      "15/15 [==============================] - 1s 47ms/step - loss: 2.1606e-05 - val_loss: 1.1284e-05\n",
      "Epoch 96/100\n",
      "15/15 [==============================] - 1s 49ms/step - loss: 4.3164e-05 - val_loss: 5.0075e-05\n",
      "Epoch 97/100\n",
      "15/15 [==============================] - 1s 53ms/step - loss: 2.3946e-05 - val_loss: 1.4132e-05\n",
      "Epoch 98/100\n",
      "15/15 [==============================] - 1s 47ms/step - loss: 1.8445e-05 - val_loss: 1.8908e-05\n",
      "Epoch 99/100\n",
      "15/15 [==============================] - 1s 48ms/step - loss: 4.4602e-05 - val_loss: 8.4135e-05\n",
      "Epoch 100/100\n",
      "15/15 [==============================] - 1s 71ms/step - loss: 4.9166e-05 - val_loss: 3.3503e-05\n"
     ]
    }
   ],
   "source": [
    "# Тренировка модели\n",
    "trainer_meantemp = TrainModel()\n",
    "trainer_meantemp.build_model_simple_rnn(input_shape=(X_train_meantemp.shape[1], 1))\n",
    "trainer_meantemp.train_model(X_train_meantemp, y_train_meantemp)"
   ]
  },
  {
   "cell_type": "code",
   "execution_count": 14,
   "metadata": {},
   "outputs": [
    {
     "name": "stdout",
     "output_type": "stream",
     "text": [
      "10/10 [==============================] - 1s 5ms/step\n",
      "MAPE: 0.7812692376373458%\n",
      "MAE: 0.23804940809448769\n"
     ]
    },
    {
     "data": {
      "application/vnd.plotly.v1+json": {
       "config": {
        "linkText": "Export to plot.ly",
        "plotlyServerURL": "https://plot.ly",
        "showLink": true
       },
       "data": [
        {
         "line": {
          "color": "rgba(255, 153, 51, 1.0)",
          "dash": "solid",
          "shape": "linear",
          "width": 1.3
         },
         "mode": "lines",
         "name": "Actual",
         "text": "",
         "type": "scatter",
         "x": [
          0,
          1,
          2,
          3,
          4,
          5,
          6,
          7,
          8,
          9,
          10,
          11,
          12,
          13,
          14,
          15,
          16,
          17,
          18,
          19,
          20,
          21,
          22,
          23,
          24,
          25,
          26,
          27,
          28,
          29,
          30,
          31,
          32,
          33,
          34,
          35,
          36,
          37,
          38,
          39,
          40,
          41,
          42,
          43,
          44,
          45,
          46,
          47,
          48,
          49,
          50,
          51,
          52,
          53,
          54,
          55,
          56,
          57,
          58,
          59,
          60,
          61,
          62,
          63,
          64,
          65,
          66,
          67,
          68,
          69,
          70,
          71,
          72,
          73,
          74,
          75,
          76,
          77,
          78,
          79,
          80,
          81,
          82,
          83,
          84,
          85,
          86,
          87,
          88,
          89,
          90,
          91,
          92,
          93,
          94,
          95,
          96,
          97,
          98,
          99,
          100,
          101,
          102,
          103,
          104,
          105,
          106,
          107,
          108,
          109,
          110,
          111,
          112,
          113,
          114,
          115,
          116,
          117,
          118,
          119,
          120,
          121,
          122,
          123,
          124,
          125,
          126,
          127,
          128,
          129,
          130,
          131,
          132,
          133,
          134,
          135,
          136,
          137,
          138,
          139,
          140,
          141,
          142,
          143,
          144,
          145,
          146,
          147,
          148,
          149,
          150,
          151,
          152,
          153,
          154,
          155,
          156,
          157,
          158,
          159,
          160,
          161,
          162,
          163,
          164,
          165,
          166,
          167,
          168,
          169,
          170,
          171,
          172,
          173,
          174,
          175,
          176,
          177,
          178,
          179,
          180,
          181,
          182,
          183,
          184,
          185,
          186,
          187,
          188,
          189,
          190,
          191,
          192,
          193,
          194,
          195,
          196,
          197,
          198,
          199,
          200,
          201,
          202,
          203,
          204,
          205,
          206,
          207,
          208,
          209,
          210,
          211,
          212,
          213,
          214,
          215,
          216,
          217,
          218,
          219,
          220,
          221,
          222,
          223,
          224,
          225,
          226,
          227,
          228,
          229,
          230,
          231,
          232,
          233,
          234,
          235,
          236,
          237,
          238,
          239,
          240,
          241,
          242,
          243,
          244,
          245,
          246,
          247,
          248,
          249,
          250,
          251,
          252,
          253,
          254,
          255,
          256,
          257,
          258,
          259,
          260,
          261,
          262,
          263,
          264,
          265,
          266,
          267,
          268,
          269,
          270,
          271,
          272,
          273,
          274,
          275,
          276,
          277,
          278,
          279,
          280,
          281,
          282,
          283,
          284,
          285,
          286,
          287,
          288,
          289,
          290,
          291
         ],
         "y": [
          24.066666666666663,
          23.9375,
          26.3125,
          26.187499999999996,
          26.785714285714285,
          27.133333333333333,
          26.625,
          25.0625,
          26.2,
          28.133333333333333,
          29.875,
          24.666666666666668,
          26.25,
          25.93333333333333,
          27.125,
          29.571428571428573,
          30,
          30.571428571428573,
          32.3125,
          33.3125,
          32.8125,
          32.3125,
          31.375,
          29.933333333333334,
          29.266666666666666,
          30.73333333333333,
          32.25,
          29.8,
          30.2,
          31.75,
          33.125,
          33.625,
          35.6875,
          34.666666666666664,
          34.625,
          34,
          34.0625,
          34,
          33.25,
          31.916666666666668,
          31.3125,
          31.75,
          33.4375,
          33.125,
          34.15384615384615,
          34.07142857142857,
          33.0625,
          34.6875,
          38,
          35.49999999999999,
          33.714285714285715,
          30.6,
          31.4375,
          33.3125,
          35.13333333333333,
          33.53333333333333,
          34,
          32.5,
          35.375,
          37.294117647058826,
          36.5625,
          37.25,
          37.21428571428572,
          37.5,
          37.75,
          37.375,
          37.4,
          36.13333333333333,
          36.8,
          32.214285714285715,
          31.526315789473685,
          33.21739130434783,
          35.26923076923077,
          38.27272727272727,
          36.0625,
          31.5,
          26.8125,
          32.642857142857146,
          36,
          37.5625,
          37.5625,
          38.2,
          36.16666666666666,
          35.42857142857143,
          34.625,
          36.07142857142857,
          35.733333333333334,
          36.13333333333333,
          33.4375,
          35.49999999999999,
          36,
          32.625,
          34.733333333333334,
          33.5,
          34.1875,
          35.857142857142854,
          35.625,
          30.9375,
          32.875,
          33.125,
          33.84615384615385,
          36.4375,
          35.42857142857143,
          34.86666666666667,
          34.3125,
          30.785714285714285,
          35.375,
          35.46666666666667,
          32.125,
          28.4,
          29.5625,
          30.6875,
          33.25,
          33.266666666666666,
          33.5,
          30.8,
          33.25,
          32.5625,
          31.5,
          30.5,
          31.25,
          30.4375,
          31,
          27.125,
          28.125,
          27.666666666666668,
          32.3125,
          34.1875,
          34.13333333333333,
          34.125,
          31.875,
          31.4375,
          31.9375,
          30.3125,
          28.3125,
          29.53333333333333,
          27.375,
          27.33333333333333,
          29.266666666666666,
          29.125,
          30.6875,
          32.5625,
          33.111111111111114,
          33.8,
          30.066666666666663,
          33.11764705882353,
          33.80952380952381,
          31.615384615384617,
          32,
          28.107142857142858,
          29.035714285714285,
          30.321428571428573,
          28.933333333333334,
          31.678571428571427,
          31.33333333333333,
          29.928571428571427,
          29.88888888888889,
          32.07142857142857,
          33.18518518518518,
          31.59259259259259,
          32.18518518518518,
          31.48,
          30.178571428571427,
          31.52,
          31.22222222222222,
          31.785714285714285,
          33.4,
          29.571428571428573,
          30.04,
          27.25925925925926,
          27.96,
          30.73913043478261,
          30.894736842105264,
          31.692307692307693,
          31.07692307692308,
          30.375,
          31.1,
          31.916666666666668,
          30.55555555555556,
          31.23076923076923,
          31,
          31.642857142857142,
          32.53333333333333,
          30.857142857142858,
          31.727272727272727,
          31.4,
          32.30769230769231,
          32.25,
          32.375,
          33.44444444444444,
          33.36,
          30.03703703703704,
          31,
          31.24,
          31.130434782608692,
          31.48,
          32.18518518518518,
          32.44,
          32.22727272727273,
          32.214285714285715,
          32.541666666666664,
          32.81481481481482,
          33.26923076923077,
          30.55555555555556,
          28.83333333333333,
          30.703703703703702,
          30.96,
          30.6,
          30.92,
          29.77777777777778,
          29.666666666666668,
          29.571428571428573,
          29.96296296296296,
          29.75,
          27.74074074074074,
          28.428571428571427,
          28.6,
          28.5,
          28.925925925925927,
          29.07692307692308,
          28.40909090909091,
          29.33333333333333,
          27.5,
          28.5,
          28.04,
          27.57692307692308,
          26.55555555555556,
          25.51851851851852,
          25.814814814814813,
          24.82608695652174,
          24.53846153846154,
          24.384615384615383,
          23.727272727272727,
          25.64,
          24.814814814814813,
          23.115384615384617,
          22.925925925925927,
          24.545454545454547,
          23.73076923076923,
          23,
          23.51851851851852,
          23.92,
          23.53846153846154,
          24.296296296296298,
          23.346153846153847,
          22.24,
          21.769230769230774,
          21.73076923076923,
          21.73076923076923,
          20.666666666666668,
          22.25,
          21.53846153846154,
          22.57894736842105,
          22.82608695652174,
          21.42105263157895,
          23.6,
          24.294117647058822,
          23.63636363636364,
          22.454545454545453,
          21.61111111111111,
          19.869565217391305,
          19.75,
          19.20833333333333,
          21.20833333333333,
          18.9,
          18.63636363636364,
          18.53846153846154,
          18.25,
          16.9,
          19.416666666666668,
          16.444444444444443,
          20.041666666666668,
          19.90909090909091,
          19.05,
          18.55555555555556,
          18.166666666666668,
          15.833333333333334,
          17.5,
          16.083333333333332,
          17.857142857142858,
          19.8,
          18.05,
          17.285714285714285,
          15.550000000000002,
          17.318181818181817,
          14,
          17.142857142857142,
          16.85,
          17.217391304347824,
          15.238095238095237,
          14.095238095238097,
          15.05263157894737
         ]
        },
        {
         "line": {
          "color": "rgba(55, 128, 191, 1.0)",
          "dash": "solid",
          "shape": "linear",
          "width": 1.3
         },
         "mode": "lines",
         "name": "Predicted",
         "text": "",
         "type": "scatter",
         "x": [
          0,
          1,
          2,
          3,
          4,
          5,
          6,
          7,
          8,
          9,
          10,
          11,
          12,
          13,
          14,
          15,
          16,
          17,
          18,
          19,
          20,
          21,
          22,
          23,
          24,
          25,
          26,
          27,
          28,
          29,
          30,
          31,
          32,
          33,
          34,
          35,
          36,
          37,
          38,
          39,
          40,
          41,
          42,
          43,
          44,
          45,
          46,
          47,
          48,
          49,
          50,
          51,
          52,
          53,
          54,
          55,
          56,
          57,
          58,
          59,
          60,
          61,
          62,
          63,
          64,
          65,
          66,
          67,
          68,
          69,
          70,
          71,
          72,
          73,
          74,
          75,
          76,
          77,
          78,
          79,
          80,
          81,
          82,
          83,
          84,
          85,
          86,
          87,
          88,
          89,
          90,
          91,
          92,
          93,
          94,
          95,
          96,
          97,
          98,
          99,
          100,
          101,
          102,
          103,
          104,
          105,
          106,
          107,
          108,
          109,
          110,
          111,
          112,
          113,
          114,
          115,
          116,
          117,
          118,
          119,
          120,
          121,
          122,
          123,
          124,
          125,
          126,
          127,
          128,
          129,
          130,
          131,
          132,
          133,
          134,
          135,
          136,
          137,
          138,
          139,
          140,
          141,
          142,
          143,
          144,
          145,
          146,
          147,
          148,
          149,
          150,
          151,
          152,
          153,
          154,
          155,
          156,
          157,
          158,
          159,
          160,
          161,
          162,
          163,
          164,
          165,
          166,
          167,
          168,
          169,
          170,
          171,
          172,
          173,
          174,
          175,
          176,
          177,
          178,
          179,
          180,
          181,
          182,
          183,
          184,
          185,
          186,
          187,
          188,
          189,
          190,
          191,
          192,
          193,
          194,
          195,
          196,
          197,
          198,
          199,
          200,
          201,
          202,
          203,
          204,
          205,
          206,
          207,
          208,
          209,
          210,
          211,
          212,
          213,
          214,
          215,
          216,
          217,
          218,
          219,
          220,
          221,
          222,
          223,
          224,
          225,
          226,
          227,
          228,
          229,
          230,
          231,
          232,
          233,
          234,
          235,
          236,
          237,
          238,
          239,
          240,
          241,
          242,
          243,
          244,
          245,
          246,
          247,
          248,
          249,
          250,
          251,
          252,
          253,
          254,
          255,
          256,
          257,
          258,
          259,
          260,
          261,
          262,
          263,
          264,
          265,
          266,
          267,
          268,
          269,
          270,
          271,
          272,
          273,
          274,
          275,
          276,
          277,
          278,
          279,
          280,
          281,
          282,
          283,
          284,
          285,
          286,
          287,
          288,
          289,
          290,
          291
         ],
         "y": [
          24.070703506469727,
          24.07302474975586,
          26.243610382080078,
          26.254478454589844,
          26.942873001098633,
          27.173141479492188,
          26.79374885559082,
          25.199565887451172,
          26.272043228149414,
          28.213727951049805,
          29.898767471313477,
          24.902545928955078,
          26.37409782409668,
          25.963802337646484,
          27.28816795349121,
          29.977882385253906,
          30.25235366821289,
          30.792438507080078,
          32.7237434387207,
          33.57657241821289,
          33.06581115722656,
          32.58708953857422,
          31.664583206176758,
          30.244274139404297,
          29.56782341003418,
          30.98240089416504,
          32.558616638183594,
          30.106582641601562,
          30.43645668029785,
          31.966402053833008,
          33.366641998291016,
          33.907649993896484,
          36.103458404541016,
          34.970252990722656,
          35.052127838134766,
          34.361270904541016,
          34.42635726928711,
          34.385704040527344,
          33.62056350708008,
          32.27549362182617,
          31.63218879699707,
          32.04154586791992,
          33.680091857910156,
          33.37791442871094,
          34.48247146606445,
          34.311927795410156,
          33.399539947509766,
          35.06718063354492,
          38.628238677978516,
          35.90745544433594,
          34.043182373046875,
          30.963266372680664,
          31.481332778930664,
          33.57666015625,
          35.47335433959961,
          33.76282501220703,
          34.365142822265625,
          32.80488586425781,
          35.84235763549805,
          37.74762725830078,
          37.1024055480957,
          37.81087875366211,
          37.536006927490234,
          37.83720779418945,
          38.128990173339844,
          37.6854362487793,
          37.75984191894531,
          36.41849136352539,
          37.16004943847656,
          32.59071731567383,
          31.976930618286133,
          33.55738830566406,
          35.59226989746094,
          38.421958923339844,
          36.55958938598633,
          31.604135513305664,
          27.168052673339844,
          32.64777374267578,
          35.97053909301758,
          37.55296325683594,
          37.745765686035156,
          38.13633728027344,
          36.16572952270508,
          35.65072250366211,
          34.970096588134766,
          36.46388244628906,
          36.2215576171875,
          36.64697265625,
          33.91408920288086,
          35.97475814819336,
          36.4293098449707,
          33.139190673828125,
          35.22962188720703,
          33.7717170715332,
          34.65303421020508,
          36.225711822509766,
          35.98989486694336,
          31.34632110595703,
          33.347660064697266,
          33.339054107666016,
          34.192237854003906,
          36.61495590209961,
          35.75974655151367,
          35.31713104248047,
          34.683895111083984,
          31.080808639526367,
          35.94047164916992,
          35.76565170288086,
          32.60213088989258,
          28.709461212158203,
          29.510496139526367,
          30.850156784057617,
          33.61485290527344,
          33.45762634277344,
          33.857479095458984,
          31.027734756469727,
          33.54380416870117,
          32.71907043457031,
          31.912134170532227,
          30.731082916259766,
          31.445690155029297,
          30.730613708496094,
          31.270221710205078,
          27.48445701599121,
          28.376911163330078,
          27.908811569213867,
          32.53868103027344,
          34.538368225097656,
          34.592288970947266,
          34.56192398071289,
          31.938596725463867,
          31.753305435180664,
          32.24385452270508,
          30.623231887817383,
          28.67336654663086,
          29.787500381469727,
          27.746339797973633,
          27.592601776123047,
          29.43885612487793,
          29.376419067382812,
          30.81865119934082,
          32.96957778930664,
          33.397674560546875,
          34.09965896606445,
          30.2618350982666,
          33.39692687988281,
          33.935813903808594,
          32.07682418823242,
          32.27472686767578,
          28.239431381225586,
          29.288057327270508,
          30.529903411865234,
          29.314594268798828,
          32.06000900268555,
          31.560199737548828,
          30.176795959472656,
          30.172405242919922,
          32.27978515625,
          33.38543701171875,
          31.895435333251953,
          32.46229553222656,
          31.6955623626709,
          30.47605323791504,
          31.816164016723633,
          31.448444366455078,
          32.09687042236328,
          33.61249542236328,
          29.80504608154297,
          30.285606384277344,
          27.480085372924805,
          28.34282875061035,
          31.148883819580078,
          31.18697738647461,
          31.830280303955078,
          31.413236618041992,
          30.586397171020508,
          31.35381507873535,
          32.16939926147461,
          30.818708419799805,
          31.50020408630371,
          31.261566162109375,
          31.8841495513916,
          32.71757507324219,
          31.115558624267578,
          31.989627838134766,
          31.648962020874023,
          32.56167221069336,
          32.44231414794922,
          32.65340042114258,
          33.69089889526367,
          33.602725982666016,
          30.30962371826172,
          31.246557235717773,
          31.446622848510742,
          31.45355796813965,
          31.709714889526367,
          32.464805603027344,
          32.66151809692383,
          32.46817398071289,
          32.47074890136719,
          32.80617141723633,
          33.05082702636719,
          33.52924346923828,
          30.839500427246094,
          29.07725715637207,
          30.913253784179688,
          31.184757232666016,
          30.915557861328125,
          31.179967880249023,
          30.063962936401367,
          29.930086135864258,
          29.83980941772461,
          30.219806671142578,
          30.058975219726562,
          28.06782341003418,
          28.70965003967285,
          28.853544235229492,
          28.718482971191406,
          29.124271392822266,
          29.312517166137695,
          28.669429779052734,
          29.559709548950195,
          27.88042449951172,
          28.68281364440918,
          28.306602478027344,
          27.816654205322266,
          26.81138038635254,
          25.75765609741211,
          25.94542694091797,
          25.030242919921875,
          24.574731826782227,
          24.4959716796875,
          23.831289291381836,
          25.59935760498047,
          24.975008010864258,
          23.143190383911133,
          22.985380172729492,
          24.52907943725586,
          23.829463958740234,
          23.019609451293945,
          23.529281616210938,
          24.016761779785156,
          23.61577796936035,
          24.299285888671875,
          23.454299926757812,
          22.29254722595215,
          21.860952377319336,
          21.834932327270508,
          21.843032836914062,
          20.813861846923828,
          22.343610763549805,
          21.66648292541504,
          22.704978942871094,
          22.841176986694336,
          21.541851043701172,
          23.598051071166992,
          24.352888107299805,
          23.691320419311523,
          22.3194580078125,
          21.61571502685547,
          20.05037498474121,
          19.895021438598633,
          19.26133918762207,
          21.14166831970215,
          18.83754539489746,
          18.795804977416992,
          18.61042022705078,
          18.283784866333008,
          16.788549423217773,
          19.324480056762695,
          16.471006393432617,
          19.826629638671875,
          20.072490692138672,
          19.332365036010742,
          18.68732261657715,
          18.182960510253906,
          15.731793403625488,
          17.565073013305664,
          16.118253707885742,
          17.9278621673584,
          19.82088279724121,
          18.157676696777344,
          17.408262252807617,
          15.301460266113281,
          17.49842643737793,
          14.065593719482422,
          17.09395408630371,
          16.946653366088867,
          17.23374366760254,
          15.242718696594238,
          14.201314926147461,
          15.019179344177246
         ]
        }
       ],
       "layout": {
        "legend": {
         "bgcolor": "#151516",
         "font": {
          "color": "#D9D9D9"
         }
        },
        "paper_bgcolor": "#151516",
        "plot_bgcolor": "#151516",
        "template": {
         "data": {
          "bar": [
           {
            "error_x": {
             "color": "#2a3f5f"
            },
            "error_y": {
             "color": "#2a3f5f"
            },
            "marker": {
             "line": {
              "color": "#E5ECF6",
              "width": 0.5
             },
             "pattern": {
              "fillmode": "overlay",
              "size": 10,
              "solidity": 0.2
             }
            },
            "type": "bar"
           }
          ],
          "barpolar": [
           {
            "marker": {
             "line": {
              "color": "#E5ECF6",
              "width": 0.5
             },
             "pattern": {
              "fillmode": "overlay",
              "size": 10,
              "solidity": 0.2
             }
            },
            "type": "barpolar"
           }
          ],
          "carpet": [
           {
            "aaxis": {
             "endlinecolor": "#2a3f5f",
             "gridcolor": "white",
             "linecolor": "white",
             "minorgridcolor": "white",
             "startlinecolor": "#2a3f5f"
            },
            "baxis": {
             "endlinecolor": "#2a3f5f",
             "gridcolor": "white",
             "linecolor": "white",
             "minorgridcolor": "white",
             "startlinecolor": "#2a3f5f"
            },
            "type": "carpet"
           }
          ],
          "choropleth": [
           {
            "colorbar": {
             "outlinewidth": 0,
             "ticks": ""
            },
            "type": "choropleth"
           }
          ],
          "contour": [
           {
            "colorbar": {
             "outlinewidth": 0,
             "ticks": ""
            },
            "colorscale": [
             [
              0,
              "#0d0887"
             ],
             [
              0.1111111111111111,
              "#46039f"
             ],
             [
              0.2222222222222222,
              "#7201a8"
             ],
             [
              0.3333333333333333,
              "#9c179e"
             ],
             [
              0.4444444444444444,
              "#bd3786"
             ],
             [
              0.5555555555555556,
              "#d8576b"
             ],
             [
              0.6666666666666666,
              "#ed7953"
             ],
             [
              0.7777777777777778,
              "#fb9f3a"
             ],
             [
              0.8888888888888888,
              "#fdca26"
             ],
             [
              1,
              "#f0f921"
             ]
            ],
            "type": "contour"
           }
          ],
          "contourcarpet": [
           {
            "colorbar": {
             "outlinewidth": 0,
             "ticks": ""
            },
            "type": "contourcarpet"
           }
          ],
          "heatmap": [
           {
            "colorbar": {
             "outlinewidth": 0,
             "ticks": ""
            },
            "colorscale": [
             [
              0,
              "#0d0887"
             ],
             [
              0.1111111111111111,
              "#46039f"
             ],
             [
              0.2222222222222222,
              "#7201a8"
             ],
             [
              0.3333333333333333,
              "#9c179e"
             ],
             [
              0.4444444444444444,
              "#bd3786"
             ],
             [
              0.5555555555555556,
              "#d8576b"
             ],
             [
              0.6666666666666666,
              "#ed7953"
             ],
             [
              0.7777777777777778,
              "#fb9f3a"
             ],
             [
              0.8888888888888888,
              "#fdca26"
             ],
             [
              1,
              "#f0f921"
             ]
            ],
            "type": "heatmap"
           }
          ],
          "heatmapgl": [
           {
            "colorbar": {
             "outlinewidth": 0,
             "ticks": ""
            },
            "colorscale": [
             [
              0,
              "#0d0887"
             ],
             [
              0.1111111111111111,
              "#46039f"
             ],
             [
              0.2222222222222222,
              "#7201a8"
             ],
             [
              0.3333333333333333,
              "#9c179e"
             ],
             [
              0.4444444444444444,
              "#bd3786"
             ],
             [
              0.5555555555555556,
              "#d8576b"
             ],
             [
              0.6666666666666666,
              "#ed7953"
             ],
             [
              0.7777777777777778,
              "#fb9f3a"
             ],
             [
              0.8888888888888888,
              "#fdca26"
             ],
             [
              1,
              "#f0f921"
             ]
            ],
            "type": "heatmapgl"
           }
          ],
          "histogram": [
           {
            "marker": {
             "pattern": {
              "fillmode": "overlay",
              "size": 10,
              "solidity": 0.2
             }
            },
            "type": "histogram"
           }
          ],
          "histogram2d": [
           {
            "colorbar": {
             "outlinewidth": 0,
             "ticks": ""
            },
            "colorscale": [
             [
              0,
              "#0d0887"
             ],
             [
              0.1111111111111111,
              "#46039f"
             ],
             [
              0.2222222222222222,
              "#7201a8"
             ],
             [
              0.3333333333333333,
              "#9c179e"
             ],
             [
              0.4444444444444444,
              "#bd3786"
             ],
             [
              0.5555555555555556,
              "#d8576b"
             ],
             [
              0.6666666666666666,
              "#ed7953"
             ],
             [
              0.7777777777777778,
              "#fb9f3a"
             ],
             [
              0.8888888888888888,
              "#fdca26"
             ],
             [
              1,
              "#f0f921"
             ]
            ],
            "type": "histogram2d"
           }
          ],
          "histogram2dcontour": [
           {
            "colorbar": {
             "outlinewidth": 0,
             "ticks": ""
            },
            "colorscale": [
             [
              0,
              "#0d0887"
             ],
             [
              0.1111111111111111,
              "#46039f"
             ],
             [
              0.2222222222222222,
              "#7201a8"
             ],
             [
              0.3333333333333333,
              "#9c179e"
             ],
             [
              0.4444444444444444,
              "#bd3786"
             ],
             [
              0.5555555555555556,
              "#d8576b"
             ],
             [
              0.6666666666666666,
              "#ed7953"
             ],
             [
              0.7777777777777778,
              "#fb9f3a"
             ],
             [
              0.8888888888888888,
              "#fdca26"
             ],
             [
              1,
              "#f0f921"
             ]
            ],
            "type": "histogram2dcontour"
           }
          ],
          "mesh3d": [
           {
            "colorbar": {
             "outlinewidth": 0,
             "ticks": ""
            },
            "type": "mesh3d"
           }
          ],
          "parcoords": [
           {
            "line": {
             "colorbar": {
              "outlinewidth": 0,
              "ticks": ""
             }
            },
            "type": "parcoords"
           }
          ],
          "pie": [
           {
            "automargin": true,
            "type": "pie"
           }
          ],
          "scatter": [
           {
            "fillpattern": {
             "fillmode": "overlay",
             "size": 10,
             "solidity": 0.2
            },
            "type": "scatter"
           }
          ],
          "scatter3d": [
           {
            "line": {
             "colorbar": {
              "outlinewidth": 0,
              "ticks": ""
             }
            },
            "marker": {
             "colorbar": {
              "outlinewidth": 0,
              "ticks": ""
             }
            },
            "type": "scatter3d"
           }
          ],
          "scattercarpet": [
           {
            "marker": {
             "colorbar": {
              "outlinewidth": 0,
              "ticks": ""
             }
            },
            "type": "scattercarpet"
           }
          ],
          "scattergeo": [
           {
            "marker": {
             "colorbar": {
              "outlinewidth": 0,
              "ticks": ""
             }
            },
            "type": "scattergeo"
           }
          ],
          "scattergl": [
           {
            "marker": {
             "colorbar": {
              "outlinewidth": 0,
              "ticks": ""
             }
            },
            "type": "scattergl"
           }
          ],
          "scattermapbox": [
           {
            "marker": {
             "colorbar": {
              "outlinewidth": 0,
              "ticks": ""
             }
            },
            "type": "scattermapbox"
           }
          ],
          "scatterpolar": [
           {
            "marker": {
             "colorbar": {
              "outlinewidth": 0,
              "ticks": ""
             }
            },
            "type": "scatterpolar"
           }
          ],
          "scatterpolargl": [
           {
            "marker": {
             "colorbar": {
              "outlinewidth": 0,
              "ticks": ""
             }
            },
            "type": "scatterpolargl"
           }
          ],
          "scatterternary": [
           {
            "marker": {
             "colorbar": {
              "outlinewidth": 0,
              "ticks": ""
             }
            },
            "type": "scatterternary"
           }
          ],
          "surface": [
           {
            "colorbar": {
             "outlinewidth": 0,
             "ticks": ""
            },
            "colorscale": [
             [
              0,
              "#0d0887"
             ],
             [
              0.1111111111111111,
              "#46039f"
             ],
             [
              0.2222222222222222,
              "#7201a8"
             ],
             [
              0.3333333333333333,
              "#9c179e"
             ],
             [
              0.4444444444444444,
              "#bd3786"
             ],
             [
              0.5555555555555556,
              "#d8576b"
             ],
             [
              0.6666666666666666,
              "#ed7953"
             ],
             [
              0.7777777777777778,
              "#fb9f3a"
             ],
             [
              0.8888888888888888,
              "#fdca26"
             ],
             [
              1,
              "#f0f921"
             ]
            ],
            "type": "surface"
           }
          ],
          "table": [
           {
            "cells": {
             "fill": {
              "color": "#EBF0F8"
             },
             "line": {
              "color": "white"
             }
            },
            "header": {
             "fill": {
              "color": "#C8D4E3"
             },
             "line": {
              "color": "white"
             }
            },
            "type": "table"
           }
          ]
         },
         "layout": {
          "annotationdefaults": {
           "arrowcolor": "#2a3f5f",
           "arrowhead": 0,
           "arrowwidth": 1
          },
          "autotypenumbers": "strict",
          "coloraxis": {
           "colorbar": {
            "outlinewidth": 0,
            "ticks": ""
           }
          },
          "colorscale": {
           "diverging": [
            [
             0,
             "#8e0152"
            ],
            [
             0.1,
             "#c51b7d"
            ],
            [
             0.2,
             "#de77ae"
            ],
            [
             0.3,
             "#f1b6da"
            ],
            [
             0.4,
             "#fde0ef"
            ],
            [
             0.5,
             "#f7f7f7"
            ],
            [
             0.6,
             "#e6f5d0"
            ],
            [
             0.7,
             "#b8e186"
            ],
            [
             0.8,
             "#7fbc41"
            ],
            [
             0.9,
             "#4d9221"
            ],
            [
             1,
             "#276419"
            ]
           ],
           "sequential": [
            [
             0,
             "#0d0887"
            ],
            [
             0.1111111111111111,
             "#46039f"
            ],
            [
             0.2222222222222222,
             "#7201a8"
            ],
            [
             0.3333333333333333,
             "#9c179e"
            ],
            [
             0.4444444444444444,
             "#bd3786"
            ],
            [
             0.5555555555555556,
             "#d8576b"
            ],
            [
             0.6666666666666666,
             "#ed7953"
            ],
            [
             0.7777777777777778,
             "#fb9f3a"
            ],
            [
             0.8888888888888888,
             "#fdca26"
            ],
            [
             1,
             "#f0f921"
            ]
           ],
           "sequentialminus": [
            [
             0,
             "#0d0887"
            ],
            [
             0.1111111111111111,
             "#46039f"
            ],
            [
             0.2222222222222222,
             "#7201a8"
            ],
            [
             0.3333333333333333,
             "#9c179e"
            ],
            [
             0.4444444444444444,
             "#bd3786"
            ],
            [
             0.5555555555555556,
             "#d8576b"
            ],
            [
             0.6666666666666666,
             "#ed7953"
            ],
            [
             0.7777777777777778,
             "#fb9f3a"
            ],
            [
             0.8888888888888888,
             "#fdca26"
            ],
            [
             1,
             "#f0f921"
            ]
           ]
          },
          "colorway": [
           "#636efa",
           "#EF553B",
           "#00cc96",
           "#ab63fa",
           "#FFA15A",
           "#19d3f3",
           "#FF6692",
           "#B6E880",
           "#FF97FF",
           "#FECB52"
          ],
          "font": {
           "color": "#2a3f5f"
          },
          "geo": {
           "bgcolor": "white",
           "lakecolor": "white",
           "landcolor": "#E5ECF6",
           "showlakes": true,
           "showland": true,
           "subunitcolor": "white"
          },
          "hoverlabel": {
           "align": "left"
          },
          "hovermode": "closest",
          "mapbox": {
           "style": "light"
          },
          "paper_bgcolor": "white",
          "plot_bgcolor": "#E5ECF6",
          "polar": {
           "angularaxis": {
            "gridcolor": "white",
            "linecolor": "white",
            "ticks": ""
           },
           "bgcolor": "#E5ECF6",
           "radialaxis": {
            "gridcolor": "white",
            "linecolor": "white",
            "ticks": ""
           }
          },
          "scene": {
           "xaxis": {
            "backgroundcolor": "#E5ECF6",
            "gridcolor": "white",
            "gridwidth": 2,
            "linecolor": "white",
            "showbackground": true,
            "ticks": "",
            "zerolinecolor": "white"
           },
           "yaxis": {
            "backgroundcolor": "#E5ECF6",
            "gridcolor": "white",
            "gridwidth": 2,
            "linecolor": "white",
            "showbackground": true,
            "ticks": "",
            "zerolinecolor": "white"
           },
           "zaxis": {
            "backgroundcolor": "#E5ECF6",
            "gridcolor": "white",
            "gridwidth": 2,
            "linecolor": "white",
            "showbackground": true,
            "ticks": "",
            "zerolinecolor": "white"
           }
          },
          "shapedefaults": {
           "line": {
            "color": "#2a3f5f"
           }
          },
          "ternary": {
           "aaxis": {
            "gridcolor": "white",
            "linecolor": "white",
            "ticks": ""
           },
           "baxis": {
            "gridcolor": "white",
            "linecolor": "white",
            "ticks": ""
           },
           "bgcolor": "#E5ECF6",
           "caxis": {
            "gridcolor": "white",
            "linecolor": "white",
            "ticks": ""
           }
          },
          "title": {
           "x": 0.05
          },
          "xaxis": {
           "automargin": true,
           "gridcolor": "white",
           "linecolor": "white",
           "ticks": "",
           "title": {
            "standoff": 15
           },
           "zerolinecolor": "white",
           "zerolinewidth": 2
          },
          "yaxis": {
           "automargin": true,
           "gridcolor": "white",
           "linecolor": "white",
           "ticks": "",
           "title": {
            "standoff": 15
           },
           "zerolinecolor": "white",
           "zerolinewidth": 2
          }
         }
        },
        "title": {
         "font": {
          "color": "#D9D9D9"
         },
         "text": "Прогноз vs Реальные значения (Тест) для meantemp"
        },
        "xaxis": {
         "gridcolor": "#434343",
         "showgrid": true,
         "tickfont": {
          "color": "#C2C2C2"
         },
         "title": {
          "font": {
           "color": "#D9D9D9"
          },
          "text": "Время"
         },
         "zerolinecolor": "#666570"
        },
        "yaxis": {
         "gridcolor": "#434343",
         "showgrid": true,
         "tickfont": {
          "color": "#C2C2C2"
         },
         "title": {
          "font": {
           "color": "#D9D9D9"
          },
          "text": "Значение"
         },
         "zerolinecolor": "#666570"
        }
       }
      },
      "text/html": [
       "<div>                            <div id=\"8f5faa30-215f-447d-8399-51d68a378194\" class=\"plotly-graph-div\" style=\"height:525px; width:100%;\"></div>            <script type=\"text/javascript\">                require([\"plotly\"], function(Plotly) {                    window.PLOTLYENV=window.PLOTLYENV || {};\n",
       "                    window.PLOTLYENV.BASE_URL='https://plot.ly';                                    if (document.getElementById(\"8f5faa30-215f-447d-8399-51d68a378194\")) {                    Plotly.newPlot(                        \"8f5faa30-215f-447d-8399-51d68a378194\",                        [{\"line\":{\"color\":\"rgba(255, 153, 51, 1.0)\",\"dash\":\"solid\",\"shape\":\"linear\",\"width\":1.3},\"mode\":\"lines\",\"name\":\"Actual\",\"text\":\"\",\"x\":[0,1,2,3,4,5,6,7,8,9,10,11,12,13,14,15,16,17,18,19,20,21,22,23,24,25,26,27,28,29,30,31,32,33,34,35,36,37,38,39,40,41,42,43,44,45,46,47,48,49,50,51,52,53,54,55,56,57,58,59,60,61,62,63,64,65,66,67,68,69,70,71,72,73,74,75,76,77,78,79,80,81,82,83,84,85,86,87,88,89,90,91,92,93,94,95,96,97,98,99,100,101,102,103,104,105,106,107,108,109,110,111,112,113,114,115,116,117,118,119,120,121,122,123,124,125,126,127,128,129,130,131,132,133,134,135,136,137,138,139,140,141,142,143,144,145,146,147,148,149,150,151,152,153,154,155,156,157,158,159,160,161,162,163,164,165,166,167,168,169,170,171,172,173,174,175,176,177,178,179,180,181,182,183,184,185,186,187,188,189,190,191,192,193,194,195,196,197,198,199,200,201,202,203,204,205,206,207,208,209,210,211,212,213,214,215,216,217,218,219,220,221,222,223,224,225,226,227,228,229,230,231,232,233,234,235,236,237,238,239,240,241,242,243,244,245,246,247,248,249,250,251,252,253,254,255,256,257,258,259,260,261,262,263,264,265,266,267,268,269,270,271,272,273,274,275,276,277,278,279,280,281,282,283,284,285,286,287,288,289,290,291],\"y\":[24.066666666666663,23.9375,26.3125,26.187499999999996,26.785714285714285,27.133333333333333,26.625,25.0625,26.2,28.133333333333333,29.875,24.666666666666668,26.25,25.93333333333333,27.125,29.571428571428573,30.0,30.571428571428573,32.3125,33.3125,32.8125,32.3125,31.375,29.933333333333334,29.266666666666666,30.73333333333333,32.25,29.8,30.2,31.75,33.125,33.625,35.6875,34.666666666666664,34.625,34.0,34.0625,34.0,33.25,31.916666666666668,31.3125,31.75,33.4375,33.125,34.15384615384615,34.07142857142857,33.0625,34.6875,38.0,35.49999999999999,33.714285714285715,30.6,31.4375,33.3125,35.13333333333333,33.53333333333333,34.0,32.5,35.375,37.294117647058826,36.5625,37.25,37.21428571428572,37.5,37.75,37.375,37.4,36.13333333333333,36.8,32.214285714285715,31.526315789473685,33.21739130434783,35.26923076923077,38.27272727272727,36.0625,31.5,26.8125,32.642857142857146,36.0,37.5625,37.5625,38.2,36.16666666666666,35.42857142857143,34.625,36.07142857142857,35.733333333333334,36.13333333333333,33.4375,35.49999999999999,36.0,32.625,34.733333333333334,33.5,34.1875,35.857142857142854,35.625,30.9375,32.875,33.125,33.84615384615385,36.4375,35.42857142857143,34.86666666666667,34.3125,30.785714285714285,35.375,35.46666666666667,32.125,28.4,29.5625,30.6875,33.25,33.266666666666666,33.5,30.8,33.25,32.5625,31.5,30.5,31.25,30.4375,31.0,27.125,28.125,27.666666666666668,32.3125,34.1875,34.13333333333333,34.125,31.875,31.4375,31.9375,30.3125,28.3125,29.53333333333333,27.375,27.33333333333333,29.266666666666666,29.125,30.6875,32.5625,33.111111111111114,33.8,30.066666666666663,33.11764705882353,33.80952380952381,31.615384615384617,32.0,28.107142857142858,29.035714285714285,30.321428571428573,28.933333333333334,31.678571428571427,31.33333333333333,29.928571428571427,29.88888888888889,32.07142857142857,33.18518518518518,31.59259259259259,32.18518518518518,31.48,30.178571428571427,31.52,31.22222222222222,31.785714285714285,33.4,29.571428571428573,30.04,27.25925925925926,27.96,30.73913043478261,30.894736842105264,31.692307692307693,31.07692307692308,30.375,31.1,31.916666666666668,30.55555555555556,31.23076923076923,31.0,31.642857142857142,32.53333333333333,30.857142857142858,31.727272727272727,31.4,32.30769230769231,32.25,32.375,33.44444444444444,33.36,30.03703703703704,31.0,31.24,31.130434782608692,31.48,32.18518518518518,32.44,32.22727272727273,32.214285714285715,32.541666666666664,32.81481481481482,33.26923076923077,30.55555555555556,28.83333333333333,30.703703703703702,30.96,30.6,30.92,29.77777777777778,29.666666666666668,29.571428571428573,29.96296296296296,29.75,27.74074074074074,28.428571428571427,28.6,28.5,28.925925925925927,29.07692307692308,28.40909090909091,29.33333333333333,27.5,28.5,28.04,27.57692307692308,26.55555555555556,25.51851851851852,25.814814814814813,24.82608695652174,24.53846153846154,24.384615384615383,23.727272727272727,25.64,24.814814814814813,23.115384615384617,22.925925925925927,24.545454545454547,23.73076923076923,23.0,23.51851851851852,23.92,23.53846153846154,24.296296296296298,23.346153846153847,22.24,21.769230769230774,21.73076923076923,21.73076923076923,20.666666666666668,22.25,21.53846153846154,22.57894736842105,22.82608695652174,21.42105263157895,23.6,24.294117647058822,23.63636363636364,22.454545454545453,21.61111111111111,19.869565217391305,19.75,19.20833333333333,21.20833333333333,18.9,18.63636363636364,18.53846153846154,18.25,16.9,19.416666666666668,16.444444444444443,20.041666666666668,19.90909090909091,19.05,18.55555555555556,18.166666666666668,15.833333333333334,17.5,16.083333333333332,17.857142857142858,19.8,18.05,17.285714285714285,15.550000000000002,17.318181818181817,14.0,17.142857142857142,16.85,17.217391304347824,15.238095238095237,14.095238095238097,15.05263157894737],\"type\":\"scatter\"},{\"line\":{\"color\":\"rgba(55, 128, 191, 1.0)\",\"dash\":\"solid\",\"shape\":\"linear\",\"width\":1.3},\"mode\":\"lines\",\"name\":\"Predicted\",\"text\":\"\",\"x\":[0,1,2,3,4,5,6,7,8,9,10,11,12,13,14,15,16,17,18,19,20,21,22,23,24,25,26,27,28,29,30,31,32,33,34,35,36,37,38,39,40,41,42,43,44,45,46,47,48,49,50,51,52,53,54,55,56,57,58,59,60,61,62,63,64,65,66,67,68,69,70,71,72,73,74,75,76,77,78,79,80,81,82,83,84,85,86,87,88,89,90,91,92,93,94,95,96,97,98,99,100,101,102,103,104,105,106,107,108,109,110,111,112,113,114,115,116,117,118,119,120,121,122,123,124,125,126,127,128,129,130,131,132,133,134,135,136,137,138,139,140,141,142,143,144,145,146,147,148,149,150,151,152,153,154,155,156,157,158,159,160,161,162,163,164,165,166,167,168,169,170,171,172,173,174,175,176,177,178,179,180,181,182,183,184,185,186,187,188,189,190,191,192,193,194,195,196,197,198,199,200,201,202,203,204,205,206,207,208,209,210,211,212,213,214,215,216,217,218,219,220,221,222,223,224,225,226,227,228,229,230,231,232,233,234,235,236,237,238,239,240,241,242,243,244,245,246,247,248,249,250,251,252,253,254,255,256,257,258,259,260,261,262,263,264,265,266,267,268,269,270,271,272,273,274,275,276,277,278,279,280,281,282,283,284,285,286,287,288,289,290,291],\"y\":[24.070703506469727,24.07302474975586,26.243610382080078,26.254478454589844,26.942873001098633,27.173141479492188,26.79374885559082,25.199565887451172,26.272043228149414,28.213727951049805,29.898767471313477,24.902545928955078,26.37409782409668,25.963802337646484,27.28816795349121,29.977882385253906,30.25235366821289,30.792438507080078,32.7237434387207,33.57657241821289,33.06581115722656,32.58708953857422,31.664583206176758,30.244274139404297,29.56782341003418,30.98240089416504,32.558616638183594,30.106582641601562,30.43645668029785,31.966402053833008,33.366641998291016,33.907649993896484,36.103458404541016,34.970252990722656,35.052127838134766,34.361270904541016,34.42635726928711,34.385704040527344,33.62056350708008,32.27549362182617,31.63218879699707,32.04154586791992,33.680091857910156,33.37791442871094,34.48247146606445,34.311927795410156,33.399539947509766,35.06718063354492,38.628238677978516,35.90745544433594,34.043182373046875,30.963266372680664,31.481332778930664,33.57666015625,35.47335433959961,33.76282501220703,34.365142822265625,32.80488586425781,35.84235763549805,37.74762725830078,37.1024055480957,37.81087875366211,37.536006927490234,37.83720779418945,38.128990173339844,37.6854362487793,37.75984191894531,36.41849136352539,37.16004943847656,32.59071731567383,31.976930618286133,33.55738830566406,35.59226989746094,38.421958923339844,36.55958938598633,31.604135513305664,27.168052673339844,32.64777374267578,35.97053909301758,37.55296325683594,37.745765686035156,38.13633728027344,36.16572952270508,35.65072250366211,34.970096588134766,36.46388244628906,36.2215576171875,36.64697265625,33.91408920288086,35.97475814819336,36.4293098449707,33.139190673828125,35.22962188720703,33.7717170715332,34.65303421020508,36.225711822509766,35.98989486694336,31.34632110595703,33.347660064697266,33.339054107666016,34.192237854003906,36.61495590209961,35.75974655151367,35.31713104248047,34.683895111083984,31.080808639526367,35.94047164916992,35.76565170288086,32.60213088989258,28.709461212158203,29.510496139526367,30.850156784057617,33.61485290527344,33.45762634277344,33.857479095458984,31.027734756469727,33.54380416870117,32.71907043457031,31.912134170532227,30.731082916259766,31.445690155029297,30.730613708496094,31.270221710205078,27.48445701599121,28.376911163330078,27.908811569213867,32.53868103027344,34.538368225097656,34.592288970947266,34.56192398071289,31.938596725463867,31.753305435180664,32.24385452270508,30.623231887817383,28.67336654663086,29.787500381469727,27.746339797973633,27.592601776123047,29.43885612487793,29.376419067382812,30.81865119934082,32.96957778930664,33.397674560546875,34.09965896606445,30.2618350982666,33.39692687988281,33.935813903808594,32.07682418823242,32.27472686767578,28.239431381225586,29.288057327270508,30.529903411865234,29.314594268798828,32.06000900268555,31.560199737548828,30.176795959472656,30.172405242919922,32.27978515625,33.38543701171875,31.895435333251953,32.46229553222656,31.6955623626709,30.47605323791504,31.816164016723633,31.448444366455078,32.09687042236328,33.61249542236328,29.80504608154297,30.285606384277344,27.480085372924805,28.34282875061035,31.148883819580078,31.18697738647461,31.830280303955078,31.413236618041992,30.586397171020508,31.35381507873535,32.16939926147461,30.818708419799805,31.50020408630371,31.261566162109375,31.8841495513916,32.71757507324219,31.115558624267578,31.989627838134766,31.648962020874023,32.56167221069336,32.44231414794922,32.65340042114258,33.69089889526367,33.602725982666016,30.30962371826172,31.246557235717773,31.446622848510742,31.45355796813965,31.709714889526367,32.464805603027344,32.66151809692383,32.46817398071289,32.47074890136719,32.80617141723633,33.05082702636719,33.52924346923828,30.839500427246094,29.07725715637207,30.913253784179688,31.184757232666016,30.915557861328125,31.179967880249023,30.063962936401367,29.930086135864258,29.83980941772461,30.219806671142578,30.058975219726562,28.06782341003418,28.70965003967285,28.853544235229492,28.718482971191406,29.124271392822266,29.312517166137695,28.669429779052734,29.559709548950195,27.88042449951172,28.68281364440918,28.306602478027344,27.816654205322266,26.81138038635254,25.75765609741211,25.94542694091797,25.030242919921875,24.574731826782227,24.4959716796875,23.831289291381836,25.59935760498047,24.975008010864258,23.143190383911133,22.985380172729492,24.52907943725586,23.829463958740234,23.019609451293945,23.529281616210938,24.016761779785156,23.61577796936035,24.299285888671875,23.454299926757812,22.29254722595215,21.860952377319336,21.834932327270508,21.843032836914062,20.813861846923828,22.343610763549805,21.66648292541504,22.704978942871094,22.841176986694336,21.541851043701172,23.598051071166992,24.352888107299805,23.691320419311523,22.3194580078125,21.61571502685547,20.05037498474121,19.895021438598633,19.26133918762207,21.14166831970215,18.83754539489746,18.795804977416992,18.61042022705078,18.283784866333008,16.788549423217773,19.324480056762695,16.471006393432617,19.826629638671875,20.072490692138672,19.332365036010742,18.68732261657715,18.182960510253906,15.731793403625488,17.565073013305664,16.118253707885742,17.9278621673584,19.82088279724121,18.157676696777344,17.408262252807617,15.301460266113281,17.49842643737793,14.065593719482422,17.09395408630371,16.946653366088867,17.23374366760254,15.242718696594238,14.201314926147461,15.019179344177246],\"type\":\"scatter\"}],                        {\"legend\":{\"bgcolor\":\"#151516\",\"font\":{\"color\":\"#D9D9D9\"}},\"paper_bgcolor\":\"#151516\",\"plot_bgcolor\":\"#151516\",\"template\":{\"data\":{\"barpolar\":[{\"marker\":{\"line\":{\"color\":\"#E5ECF6\",\"width\":0.5},\"pattern\":{\"fillmode\":\"overlay\",\"size\":10,\"solidity\":0.2}},\"type\":\"barpolar\"}],\"bar\":[{\"error_x\":{\"color\":\"#2a3f5f\"},\"error_y\":{\"color\":\"#2a3f5f\"},\"marker\":{\"line\":{\"color\":\"#E5ECF6\",\"width\":0.5},\"pattern\":{\"fillmode\":\"overlay\",\"size\":10,\"solidity\":0.2}},\"type\":\"bar\"}],\"carpet\":[{\"aaxis\":{\"endlinecolor\":\"#2a3f5f\",\"gridcolor\":\"white\",\"linecolor\":\"white\",\"minorgridcolor\":\"white\",\"startlinecolor\":\"#2a3f5f\"},\"baxis\":{\"endlinecolor\":\"#2a3f5f\",\"gridcolor\":\"white\",\"linecolor\":\"white\",\"minorgridcolor\":\"white\",\"startlinecolor\":\"#2a3f5f\"},\"type\":\"carpet\"}],\"choropleth\":[{\"colorbar\":{\"outlinewidth\":0,\"ticks\":\"\"},\"type\":\"choropleth\"}],\"contourcarpet\":[{\"colorbar\":{\"outlinewidth\":0,\"ticks\":\"\"},\"type\":\"contourcarpet\"}],\"contour\":[{\"colorbar\":{\"outlinewidth\":0,\"ticks\":\"\"},\"colorscale\":[[0.0,\"#0d0887\"],[0.1111111111111111,\"#46039f\"],[0.2222222222222222,\"#7201a8\"],[0.3333333333333333,\"#9c179e\"],[0.4444444444444444,\"#bd3786\"],[0.5555555555555556,\"#d8576b\"],[0.6666666666666666,\"#ed7953\"],[0.7777777777777778,\"#fb9f3a\"],[0.8888888888888888,\"#fdca26\"],[1.0,\"#f0f921\"]],\"type\":\"contour\"}],\"heatmapgl\":[{\"colorbar\":{\"outlinewidth\":0,\"ticks\":\"\"},\"colorscale\":[[0.0,\"#0d0887\"],[0.1111111111111111,\"#46039f\"],[0.2222222222222222,\"#7201a8\"],[0.3333333333333333,\"#9c179e\"],[0.4444444444444444,\"#bd3786\"],[0.5555555555555556,\"#d8576b\"],[0.6666666666666666,\"#ed7953\"],[0.7777777777777778,\"#fb9f3a\"],[0.8888888888888888,\"#fdca26\"],[1.0,\"#f0f921\"]],\"type\":\"heatmapgl\"}],\"heatmap\":[{\"colorbar\":{\"outlinewidth\":0,\"ticks\":\"\"},\"colorscale\":[[0.0,\"#0d0887\"],[0.1111111111111111,\"#46039f\"],[0.2222222222222222,\"#7201a8\"],[0.3333333333333333,\"#9c179e\"],[0.4444444444444444,\"#bd3786\"],[0.5555555555555556,\"#d8576b\"],[0.6666666666666666,\"#ed7953\"],[0.7777777777777778,\"#fb9f3a\"],[0.8888888888888888,\"#fdca26\"],[1.0,\"#f0f921\"]],\"type\":\"heatmap\"}],\"histogram2dcontour\":[{\"colorbar\":{\"outlinewidth\":0,\"ticks\":\"\"},\"colorscale\":[[0.0,\"#0d0887\"],[0.1111111111111111,\"#46039f\"],[0.2222222222222222,\"#7201a8\"],[0.3333333333333333,\"#9c179e\"],[0.4444444444444444,\"#bd3786\"],[0.5555555555555556,\"#d8576b\"],[0.6666666666666666,\"#ed7953\"],[0.7777777777777778,\"#fb9f3a\"],[0.8888888888888888,\"#fdca26\"],[1.0,\"#f0f921\"]],\"type\":\"histogram2dcontour\"}],\"histogram2d\":[{\"colorbar\":{\"outlinewidth\":0,\"ticks\":\"\"},\"colorscale\":[[0.0,\"#0d0887\"],[0.1111111111111111,\"#46039f\"],[0.2222222222222222,\"#7201a8\"],[0.3333333333333333,\"#9c179e\"],[0.4444444444444444,\"#bd3786\"],[0.5555555555555556,\"#d8576b\"],[0.6666666666666666,\"#ed7953\"],[0.7777777777777778,\"#fb9f3a\"],[0.8888888888888888,\"#fdca26\"],[1.0,\"#f0f921\"]],\"type\":\"histogram2d\"}],\"histogram\":[{\"marker\":{\"pattern\":{\"fillmode\":\"overlay\",\"size\":10,\"solidity\":0.2}},\"type\":\"histogram\"}],\"mesh3d\":[{\"colorbar\":{\"outlinewidth\":0,\"ticks\":\"\"},\"type\":\"mesh3d\"}],\"parcoords\":[{\"line\":{\"colorbar\":{\"outlinewidth\":0,\"ticks\":\"\"}},\"type\":\"parcoords\"}],\"pie\":[{\"automargin\":true,\"type\":\"pie\"}],\"scatter3d\":[{\"line\":{\"colorbar\":{\"outlinewidth\":0,\"ticks\":\"\"}},\"marker\":{\"colorbar\":{\"outlinewidth\":0,\"ticks\":\"\"}},\"type\":\"scatter3d\"}],\"scattercarpet\":[{\"marker\":{\"colorbar\":{\"outlinewidth\":0,\"ticks\":\"\"}},\"type\":\"scattercarpet\"}],\"scattergeo\":[{\"marker\":{\"colorbar\":{\"outlinewidth\":0,\"ticks\":\"\"}},\"type\":\"scattergeo\"}],\"scattergl\":[{\"marker\":{\"colorbar\":{\"outlinewidth\":0,\"ticks\":\"\"}},\"type\":\"scattergl\"}],\"scattermapbox\":[{\"marker\":{\"colorbar\":{\"outlinewidth\":0,\"ticks\":\"\"}},\"type\":\"scattermapbox\"}],\"scatterpolargl\":[{\"marker\":{\"colorbar\":{\"outlinewidth\":0,\"ticks\":\"\"}},\"type\":\"scatterpolargl\"}],\"scatterpolar\":[{\"marker\":{\"colorbar\":{\"outlinewidth\":0,\"ticks\":\"\"}},\"type\":\"scatterpolar\"}],\"scatter\":[{\"fillpattern\":{\"fillmode\":\"overlay\",\"size\":10,\"solidity\":0.2},\"type\":\"scatter\"}],\"scatterternary\":[{\"marker\":{\"colorbar\":{\"outlinewidth\":0,\"ticks\":\"\"}},\"type\":\"scatterternary\"}],\"surface\":[{\"colorbar\":{\"outlinewidth\":0,\"ticks\":\"\"},\"colorscale\":[[0.0,\"#0d0887\"],[0.1111111111111111,\"#46039f\"],[0.2222222222222222,\"#7201a8\"],[0.3333333333333333,\"#9c179e\"],[0.4444444444444444,\"#bd3786\"],[0.5555555555555556,\"#d8576b\"],[0.6666666666666666,\"#ed7953\"],[0.7777777777777778,\"#fb9f3a\"],[0.8888888888888888,\"#fdca26\"],[1.0,\"#f0f921\"]],\"type\":\"surface\"}],\"table\":[{\"cells\":{\"fill\":{\"color\":\"#EBF0F8\"},\"line\":{\"color\":\"white\"}},\"header\":{\"fill\":{\"color\":\"#C8D4E3\"},\"line\":{\"color\":\"white\"}},\"type\":\"table\"}]},\"layout\":{\"annotationdefaults\":{\"arrowcolor\":\"#2a3f5f\",\"arrowhead\":0,\"arrowwidth\":1},\"autotypenumbers\":\"strict\",\"coloraxis\":{\"colorbar\":{\"outlinewidth\":0,\"ticks\":\"\"}},\"colorscale\":{\"diverging\":[[0,\"#8e0152\"],[0.1,\"#c51b7d\"],[0.2,\"#de77ae\"],[0.3,\"#f1b6da\"],[0.4,\"#fde0ef\"],[0.5,\"#f7f7f7\"],[0.6,\"#e6f5d0\"],[0.7,\"#b8e186\"],[0.8,\"#7fbc41\"],[0.9,\"#4d9221\"],[1,\"#276419\"]],\"sequential\":[[0.0,\"#0d0887\"],[0.1111111111111111,\"#46039f\"],[0.2222222222222222,\"#7201a8\"],[0.3333333333333333,\"#9c179e\"],[0.4444444444444444,\"#bd3786\"],[0.5555555555555556,\"#d8576b\"],[0.6666666666666666,\"#ed7953\"],[0.7777777777777778,\"#fb9f3a\"],[0.8888888888888888,\"#fdca26\"],[1.0,\"#f0f921\"]],\"sequentialminus\":[[0.0,\"#0d0887\"],[0.1111111111111111,\"#46039f\"],[0.2222222222222222,\"#7201a8\"],[0.3333333333333333,\"#9c179e\"],[0.4444444444444444,\"#bd3786\"],[0.5555555555555556,\"#d8576b\"],[0.6666666666666666,\"#ed7953\"],[0.7777777777777778,\"#fb9f3a\"],[0.8888888888888888,\"#fdca26\"],[1.0,\"#f0f921\"]]},\"colorway\":[\"#636efa\",\"#EF553B\",\"#00cc96\",\"#ab63fa\",\"#FFA15A\",\"#19d3f3\",\"#FF6692\",\"#B6E880\",\"#FF97FF\",\"#FECB52\"],\"font\":{\"color\":\"#2a3f5f\"},\"geo\":{\"bgcolor\":\"white\",\"lakecolor\":\"white\",\"landcolor\":\"#E5ECF6\",\"showlakes\":true,\"showland\":true,\"subunitcolor\":\"white\"},\"hoverlabel\":{\"align\":\"left\"},\"hovermode\":\"closest\",\"mapbox\":{\"style\":\"light\"},\"paper_bgcolor\":\"white\",\"plot_bgcolor\":\"#E5ECF6\",\"polar\":{\"angularaxis\":{\"gridcolor\":\"white\",\"linecolor\":\"white\",\"ticks\":\"\"},\"bgcolor\":\"#E5ECF6\",\"radialaxis\":{\"gridcolor\":\"white\",\"linecolor\":\"white\",\"ticks\":\"\"}},\"scene\":{\"xaxis\":{\"backgroundcolor\":\"#E5ECF6\",\"gridcolor\":\"white\",\"gridwidth\":2,\"linecolor\":\"white\",\"showbackground\":true,\"ticks\":\"\",\"zerolinecolor\":\"white\"},\"yaxis\":{\"backgroundcolor\":\"#E5ECF6\",\"gridcolor\":\"white\",\"gridwidth\":2,\"linecolor\":\"white\",\"showbackground\":true,\"ticks\":\"\",\"zerolinecolor\":\"white\"},\"zaxis\":{\"backgroundcolor\":\"#E5ECF6\",\"gridcolor\":\"white\",\"gridwidth\":2,\"linecolor\":\"white\",\"showbackground\":true,\"ticks\":\"\",\"zerolinecolor\":\"white\"}},\"shapedefaults\":{\"line\":{\"color\":\"#2a3f5f\"}},\"ternary\":{\"aaxis\":{\"gridcolor\":\"white\",\"linecolor\":\"white\",\"ticks\":\"\"},\"baxis\":{\"gridcolor\":\"white\",\"linecolor\":\"white\",\"ticks\":\"\"},\"bgcolor\":\"#E5ECF6\",\"caxis\":{\"gridcolor\":\"white\",\"linecolor\":\"white\",\"ticks\":\"\"}},\"title\":{\"x\":0.05},\"xaxis\":{\"automargin\":true,\"gridcolor\":\"white\",\"linecolor\":\"white\",\"ticks\":\"\",\"title\":{\"standoff\":15},\"zerolinecolor\":\"white\",\"zerolinewidth\":2},\"yaxis\":{\"automargin\":true,\"gridcolor\":\"white\",\"linecolor\":\"white\",\"ticks\":\"\",\"title\":{\"standoff\":15},\"zerolinecolor\":\"white\",\"zerolinewidth\":2}}},\"title\":{\"font\":{\"color\":\"#D9D9D9\"},\"text\":\"\\u041f\\u0440\\u043e\\u0433\\u043d\\u043e\\u0437 vs \\u0420\\u0435\\u0430\\u043b\\u044c\\u043d\\u044b\\u0435 \\u0437\\u043d\\u0430\\u0447\\u0435\\u043d\\u0438\\u044f (\\u0422\\u0435\\u0441\\u0442) \\u0434\\u043b\\u044f meantemp\"},\"xaxis\":{\"gridcolor\":\"#434343\",\"showgrid\":true,\"tickfont\":{\"color\":\"#C2C2C2\"},\"title\":{\"font\":{\"color\":\"#D9D9D9\"},\"text\":\"\\u0412\\u0440\\u0435\\u043c\\u044f\"},\"zerolinecolor\":\"#666570\"},\"yaxis\":{\"gridcolor\":\"#434343\",\"showgrid\":true,\"tickfont\":{\"color\":\"#C2C2C2\"},\"title\":{\"font\":{\"color\":\"#D9D9D9\"},\"text\":\"\\u0417\\u043d\\u0430\\u0447\\u0435\\u043d\\u0438\\u0435\"},\"zerolinecolor\":\"#666570\"}},                        {\"showLink\": true, \"linkText\": \"Export to plot.ly\", \"plotlyServerURL\": \"https://plot.ly\", \"responsive\": true}                    ).then(function(){\n",
       "                            \n",
       "var gd = document.getElementById('8f5faa30-215f-447d-8399-51d68a378194');\n",
       "var x = new MutationObserver(function (mutations, observer) {{\n",
       "        var display = window.getComputedStyle(gd).display;\n",
       "        if (!display || display === 'none') {{\n",
       "            console.log([gd, 'removed!']);\n",
       "            Plotly.purge(gd);\n",
       "            observer.disconnect();\n",
       "        }}\n",
       "}});\n",
       "\n",
       "// Listen for the removal of the full notebook cells\n",
       "var notebookContainer = gd.closest('#notebook-container');\n",
       "if (notebookContainer) {{\n",
       "    x.observe(notebookContainer, {childList: true});\n",
       "}}\n",
       "\n",
       "// Listen for the clearing of the current output cell\n",
       "var outputEl = gd.closest('.output');\n",
       "if (outputEl) {{\n",
       "    x.observe(outputEl, {childList: true});\n",
       "}}\n",
       "\n",
       "                        })                };                });            </script>        </div>"
      ]
     },
     "metadata": {},
     "output_type": "display_data"
    }
   ],
   "source": [
    "# Визуализация результатов обучения модели\n",
    "predictions_meantemp, y_test_actual_meantemp = trainer_meantemp.evaluate_model(X_test_meantemp, y_test_meantemp, preprocess_meantemp.scaler)\n",
    "trainer_meantemp.plot_results(predictions_meantemp, y_test_actual_meantemp, preprocess_meantemp.feature_column)"
   ]
  },
  {
   "cell_type": "code",
   "execution_count": 20,
   "metadata": {},
   "outputs": [
    {
     "name": "stdout",
     "output_type": "stream",
     "text": [
      "Error in load_validation_data: unsupported operand type(s) for -: 'int' and 'MinMaxScaler'\n"
     ]
    }
   ],
   "source": [
    "validation_data_meantemo = ValidationData(preprocess_meantemp.feature_column, preprocess_meantemp.look_back, )\n",
    "validation_data_meantemo.load_validation_data('DailyDelhiClimateTest.csv', trainer_meantemp.model)"
   ]
  },
  {
   "cell_type": "code",
   "execution_count": null,
   "metadata": {},
   "outputs": [],
   "source": []
  }
 ],
 "metadata": {
  "kernelspec": {
   "display_name": ".arima",
   "language": "python",
   "name": "python3"
  },
  "language_info": {
   "codemirror_mode": {
    "name": "ipython",
    "version": 3
   },
   "file_extension": ".py",
   "mimetype": "text/x-python",
   "name": "python",
   "nbconvert_exporter": "python",
   "pygments_lexer": "ipython3",
   "version": "3.10.6"
  }
 },
 "nbformat": 4,
 "nbformat_minor": 2
}

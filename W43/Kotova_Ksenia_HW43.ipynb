{
 "cells": [
  {
   "cell_type": "code",
   "execution_count": 2,
   "metadata": {},
   "outputs": [
    {
     "data": {
      "text/html": [
       "        <script type=\"text/javascript\">\n",
       "        window.PlotlyConfig = {MathJaxConfig: 'local'};\n",
       "        if (window.MathJax && window.MathJax.Hub && window.MathJax.Hub.Config) {window.MathJax.Hub.Config({SVG: {font: \"STIX-Web\"}});}\n",
       "        if (typeof require !== 'undefined') {\n",
       "        require.undef(\"plotly\");\n",
       "        requirejs.config({\n",
       "            paths: {\n",
       "                'plotly': ['https://cdn.plot.ly/plotly-2.34.0.min']\n",
       "            }\n",
       "        });\n",
       "        require(['plotly'], function(Plotly) {\n",
       "            window._Plotly = Plotly;\n",
       "        });\n",
       "        }\n",
       "        </script>\n",
       "        "
      ]
     },
     "metadata": {},
     "output_type": "display_data"
    }
   ],
   "source": [
    "import numpy as np\n",
    "import pandas as pd\n",
    "from sklearn.preprocessing import MinMaxScaler\n",
    "from tensorflow.keras.models import Sequential\n",
    "from tensorflow.keras.layers import SimpleRNN, Dense, GRU, LSTM\n",
    "from tensorflow.keras.optimizers import Adam\n",
    "import tensorflow as tf\n",
    "from tensorflow.keras.layers import Layer, Dropout\n",
    "import cufflinks as cf\n",
    "cf.go_offline()\n",
    "import matplotlib.pyplot as plt\n",
    "from sklearn.model_selection import train_test_split\n",
    "from sklearn.metrics import mean_absolute_error\n",
    "import seaborn as sns"
   ]
  },
  {
   "cell_type": "code",
   "execution_count": 3,
   "metadata": {},
   "outputs": [
    {
     "data": {
      "text/html": [
       "<div>\n",
       "<style scoped>\n",
       "    .dataframe tbody tr th:only-of-type {\n",
       "        vertical-align: middle;\n",
       "    }\n",
       "\n",
       "    .dataframe tbody tr th {\n",
       "        vertical-align: top;\n",
       "    }\n",
       "\n",
       "    .dataframe thead th {\n",
       "        text-align: right;\n",
       "    }\n",
       "</style>\n",
       "<table border=\"1\" class=\"dataframe\">\n",
       "  <thead>\n",
       "    <tr style=\"text-align: right;\">\n",
       "      <th></th>\n",
       "      <th>date</th>\n",
       "      <th>meantemp</th>\n",
       "      <th>humidity</th>\n",
       "      <th>wind_speed</th>\n",
       "      <th>meanpressure</th>\n",
       "    </tr>\n",
       "  </thead>\n",
       "  <tbody>\n",
       "    <tr>\n",
       "      <th>0</th>\n",
       "      <td>2013-01-01</td>\n",
       "      <td>10.000000</td>\n",
       "      <td>84.500000</td>\n",
       "      <td>0.000000</td>\n",
       "      <td>1015.666667</td>\n",
       "    </tr>\n",
       "    <tr>\n",
       "      <th>1</th>\n",
       "      <td>2013-01-02</td>\n",
       "      <td>7.400000</td>\n",
       "      <td>92.000000</td>\n",
       "      <td>2.980000</td>\n",
       "      <td>1017.800000</td>\n",
       "    </tr>\n",
       "    <tr>\n",
       "      <th>2</th>\n",
       "      <td>2013-01-03</td>\n",
       "      <td>7.166667</td>\n",
       "      <td>87.000000</td>\n",
       "      <td>4.633333</td>\n",
       "      <td>1018.666667</td>\n",
       "    </tr>\n",
       "    <tr>\n",
       "      <th>3</th>\n",
       "      <td>2013-01-04</td>\n",
       "      <td>8.666667</td>\n",
       "      <td>71.333333</td>\n",
       "      <td>1.233333</td>\n",
       "      <td>1017.166667</td>\n",
       "    </tr>\n",
       "    <tr>\n",
       "      <th>4</th>\n",
       "      <td>2013-01-05</td>\n",
       "      <td>6.000000</td>\n",
       "      <td>86.833333</td>\n",
       "      <td>3.700000</td>\n",
       "      <td>1016.500000</td>\n",
       "    </tr>\n",
       "  </tbody>\n",
       "</table>\n",
       "</div>"
      ],
      "text/plain": [
       "         date   meantemp   humidity  wind_speed  meanpressure\n",
       "0  2013-01-01  10.000000  84.500000    0.000000   1015.666667\n",
       "1  2013-01-02   7.400000  92.000000    2.980000   1017.800000\n",
       "2  2013-01-03   7.166667  87.000000    4.633333   1018.666667\n",
       "3  2013-01-04   8.666667  71.333333    1.233333   1017.166667\n",
       "4  2013-01-05   6.000000  86.833333    3.700000   1016.500000"
      ]
     },
     "execution_count": 3,
     "metadata": {},
     "output_type": "execute_result"
    }
   ],
   "source": [
    "data = pd.read_csv('DailyDelhiClimateTrain.csv', parse_dates=True)\n",
    "data.head()"
   ]
  },
  {
   "cell_type": "code",
   "execution_count": 4,
   "metadata": {},
   "outputs": [
    {
     "data": {
      "text/plain": [
       "(1462, 5)"
      ]
     },
     "execution_count": 4,
     "metadata": {},
     "output_type": "execute_result"
    }
   ],
   "source": [
    "data.shape"
   ]
  },
  {
   "cell_type": "code",
   "execution_count": 3,
   "metadata": {},
   "outputs": [],
   "source": [
    "data = data.set_index('date')"
   ]
  },
  {
   "cell_type": "code",
   "execution_count": 6,
   "metadata": {},
   "outputs": [
    {
     "data": {
      "text/html": [
       "<div>\n",
       "<style scoped>\n",
       "    .dataframe tbody tr th:only-of-type {\n",
       "        vertical-align: middle;\n",
       "    }\n",
       "\n",
       "    .dataframe tbody tr th {\n",
       "        vertical-align: top;\n",
       "    }\n",
       "\n",
       "    .dataframe thead th {\n",
       "        text-align: right;\n",
       "    }\n",
       "</style>\n",
       "<table border=\"1\" class=\"dataframe\">\n",
       "  <thead>\n",
       "    <tr style=\"text-align: right;\">\n",
       "      <th></th>\n",
       "      <th>date</th>\n",
       "      <th>meantemp</th>\n",
       "      <th>humidity</th>\n",
       "      <th>wind_speed</th>\n",
       "      <th>meanpressure</th>\n",
       "    </tr>\n",
       "  </thead>\n",
       "  <tbody>\n",
       "    <tr>\n",
       "      <th>0</th>\n",
       "      <td>2017-01-01</td>\n",
       "      <td>15.913043</td>\n",
       "      <td>85.869565</td>\n",
       "      <td>2.743478</td>\n",
       "      <td>59.000000</td>\n",
       "    </tr>\n",
       "    <tr>\n",
       "      <th>1</th>\n",
       "      <td>2017-01-02</td>\n",
       "      <td>18.500000</td>\n",
       "      <td>77.222222</td>\n",
       "      <td>2.894444</td>\n",
       "      <td>1018.277778</td>\n",
       "    </tr>\n",
       "    <tr>\n",
       "      <th>2</th>\n",
       "      <td>2017-01-03</td>\n",
       "      <td>17.111111</td>\n",
       "      <td>81.888889</td>\n",
       "      <td>4.016667</td>\n",
       "      <td>1018.333333</td>\n",
       "    </tr>\n",
       "    <tr>\n",
       "      <th>3</th>\n",
       "      <td>2017-01-04</td>\n",
       "      <td>18.700000</td>\n",
       "      <td>70.050000</td>\n",
       "      <td>4.545000</td>\n",
       "      <td>1015.700000</td>\n",
       "    </tr>\n",
       "    <tr>\n",
       "      <th>4</th>\n",
       "      <td>2017-01-05</td>\n",
       "      <td>18.388889</td>\n",
       "      <td>74.944444</td>\n",
       "      <td>3.300000</td>\n",
       "      <td>1014.333333</td>\n",
       "    </tr>\n",
       "  </tbody>\n",
       "</table>\n",
       "</div>"
      ],
      "text/plain": [
       "         date   meantemp   humidity  wind_speed  meanpressure\n",
       "0  2017-01-01  15.913043  85.869565    2.743478     59.000000\n",
       "1  2017-01-02  18.500000  77.222222    2.894444   1018.277778\n",
       "2  2017-01-03  17.111111  81.888889    4.016667   1018.333333\n",
       "3  2017-01-04  18.700000  70.050000    4.545000   1015.700000\n",
       "4  2017-01-05  18.388889  74.944444    3.300000   1014.333333"
      ]
     },
     "execution_count": 6,
     "metadata": {},
     "output_type": "execute_result"
    }
   ],
   "source": [
    "data_test =  pd.read_csv('DailyDelhiClimateTest.csv', parse_dates=True)\n",
    "data_test.head()"
   ]
  },
  {
   "cell_type": "code",
   "execution_count": 8,
   "metadata": {},
   "outputs": [
    {
     "data": {
      "text/plain": [
       "meanpressure    59.0\n",
       "dtype: float64"
      ]
     },
     "execution_count": 8,
     "metadata": {},
     "output_type": "execute_result"
    }
   ],
   "source": [
    "data_pr = data_test[['meanpressure']]\n",
    "data_pr.min()"
   ]
  },
  {
   "cell_type": "code",
   "execution_count": 11,
   "metadata": {},
   "outputs": [
    {
     "data": {
      "text/plain": [
       "meanpressure   -3.041667\n",
       "dtype: float64"
      ]
     },
     "execution_count": 11,
     "metadata": {},
     "output_type": "execute_result"
    }
   ],
   "source": [
    "data_pr_1 = data[['meanpressure']]\n",
    "data_pr_1.min()"
   ]
  },
  {
   "cell_type": "code",
   "execution_count": 4,
   "metadata": {},
   "outputs": [],
   "source": [
    "scaler = MinMaxScaler(feature_range=(0, 1))\n",
    "scaled_data = scaler.fit_transform(data[['meantemp']])"
   ]
  },
  {
   "cell_type": "code",
   "execution_count": null,
   "metadata": {},
   "outputs": [],
   "source": []
  },
  {
   "cell_type": "code",
   "execution_count": 5,
   "metadata": {},
   "outputs": [],
   "source": [
    "def create_dataset(dataset, look_back=1):\n",
    "    X, Y = [], []\n",
    "    for i in range(len(dataset) - look_back):\n",
    "        a = dataset[i:(i + look_back), 0]\n",
    "        X.append(a)\n",
    "        Y.append(dataset[i + look_back, 0])\n",
    "    return np.array(X), np.array(Y)\n",
    "\n",
    "look_back = 2  # Например, используем последние 10 значений для прогнозирования следующего\n",
    "x, y = create_dataset(scaled_data, look_back)"
   ]
  },
  {
   "cell_type": "code",
   "execution_count": 6,
   "metadata": {},
   "outputs": [],
   "source": [
    "X_dif = x[:-1] - x[1:]\n",
    "X_new = np.hstack([x[:-1],X_dif])\n",
    "Y = y[:-1]\n",
    "\n",
    "X = np.reshape(X_new, (X_new.shape[0], X_new.shape[1], 1))\n",
    "x_train, x_test, y_train, y_test = train_test_split(X, Y, test_size=0.2, shuffle=False)"
   ]
  },
  {
   "cell_type": "code",
   "execution_count": 7,
   "metadata": {},
   "outputs": [],
   "source": [
    "class AttentionMechanism(Layer):\n",
    "    def __init__(self, return_sequences=True):\n",
    "        super(AttentionMechanism, self).__init__()\n",
    "        self.return_sequences = return_sequences\n",
    "\n",
    "    def build(self, input_shape):\n",
    "        self.W=self.add_weight(name=\"att_weight\", shape=(input_shape[-1],1),\n",
    "                               initializer=\"normal\")\n",
    "        self.b=self.add_weight(name=\"att_bias\", shape=(input_shape[1],1),\n",
    "                               initializer=\"zeros\")\n",
    "\n",
    "    def call(self, x):\n",
    "        e = tf.nn.tanh(tf.matmul(x,self.W)+self.b)\n",
    "        a = tf.nn.softmax(e, axis=1)\n",
    "        output = x*a\n",
    "\n",
    "        if self.return_sequences:\n",
    "            return output\n",
    "\n",
    "        return tf.reduce_sum(output, axis=1)"
   ]
  },
  {
   "cell_type": "code",
   "execution_count": 17,
   "metadata": {},
   "outputs": [
    {
     "name": "stderr",
     "output_type": "stream",
     "text": [
      "[I 2024-08-20 11:20:16,719] A new study created in memory with name: no-name-1d9b3c53-4414-4dcf-a9bc-e492efd8fdc8\n"
     ]
    },
    {
     "name": "stdout",
     "output_type": "stream",
     "text": [
      "10/10 [==============================] - 1s 8ms/step\n"
     ]
    },
    {
     "name": "stderr",
     "output_type": "stream",
     "text": [
      "[I 2024-08-20 11:20:48,046] Trial 0 finished with value: 1.1509176955375366 and parameters: {'n_units_1': 85, 'n_units_2': 58, 'n_units_3': 76, 'batch_size': 128}. Best is trial 0 with value: 1.1509176955375366.\n"
     ]
    },
    {
     "name": "stdout",
     "output_type": "stream",
     "text": [
      "10/10 [==============================] - 2s 14ms/step\n"
     ]
    },
    {
     "name": "stderr",
     "output_type": "stream",
     "text": [
      "[I 2024-08-20 11:21:26,672] Trial 1 finished with value: 1.0544993667051044 and parameters: {'n_units_1': 55, 'n_units_2': 12, 'n_units_3': 33, 'batch_size': 94}. Best is trial 1 with value: 1.0544993667051044.\n"
     ]
    },
    {
     "name": "stdout",
     "output_type": "stream",
     "text": [
      "10/10 [==============================] - 2s 7ms/step\n"
     ]
    },
    {
     "name": "stderr",
     "output_type": "stream",
     "text": [
      "[I 2024-08-20 11:22:28,983] Trial 2 finished with value: 0.2099305500389825 and parameters: {'n_units_1': 87, 'n_units_2': 72, 'n_units_3': 29, 'batch_size': 64}. Best is trial 2 with value: 0.2099305500389825.\n"
     ]
    },
    {
     "name": "stdout",
     "output_type": "stream",
     "text": [
      "10/10 [==============================] - 1s 7ms/step\n"
     ]
    },
    {
     "name": "stderr",
     "output_type": "stream",
     "text": [
      "[I 2024-08-20 11:23:17,932] Trial 3 finished with value: 0.3130795693801163 and parameters: {'n_units_1': 68, 'n_units_2': 58, 'n_units_3': 87, 'batch_size': 126}. Best is trial 2 with value: 0.2099305500389825.\n"
     ]
    },
    {
     "name": "stdout",
     "output_type": "stream",
     "text": [
      "10/10 [==============================] - 1s 7ms/step\n"
     ]
    },
    {
     "name": "stderr",
     "output_type": "stream",
     "text": [
      "[I 2024-08-20 11:23:58,734] Trial 4 finished with value: 0.6925909845241554 and parameters: {'n_units_1': 39, 'n_units_2': 49, 'n_units_3': 16, 'batch_size': 103}. Best is trial 2 with value: 0.2099305500389825.\n"
     ]
    },
    {
     "name": "stdout",
     "output_type": "stream",
     "text": [
      "10/10 [==============================] - 1s 8ms/step\n"
     ]
    },
    {
     "name": "stderr",
     "output_type": "stream",
     "text": [
      "[I 2024-08-20 11:25:27,661] Trial 5 finished with value: 0.2865712914978652 and parameters: {'n_units_1': 95, 'n_units_2': 65, 'n_units_3': 49, 'batch_size': 100}. Best is trial 2 with value: 0.2099305500389825.\n"
     ]
    },
    {
     "name": "stdout",
     "output_type": "stream",
     "text": [
      "10/10 [==============================] - 1s 9ms/step\n"
     ]
    },
    {
     "name": "stderr",
     "output_type": "stream",
     "text": [
      "[I 2024-08-20 11:26:28,815] Trial 6 finished with value: 0.4552082810913774 and parameters: {'n_units_1': 33, 'n_units_2': 27, 'n_units_3': 66, 'batch_size': 23}. Best is trial 2 with value: 0.2099305500389825.\n"
     ]
    },
    {
     "name": "stdout",
     "output_type": "stream",
     "text": [
      "10/10 [==============================] - 1s 13ms/step\n"
     ]
    },
    {
     "name": "stderr",
     "output_type": "stream",
     "text": [
      "[I 2024-08-20 11:27:53,932] Trial 7 finished with value: 0.3431060155019877 and parameters: {'n_units_1': 92, 'n_units_2': 61, 'n_units_3': 35, 'batch_size': 96}. Best is trial 2 with value: 0.2099305500389825.\n"
     ]
    },
    {
     "name": "stdout",
     "output_type": "stream",
     "text": [
      "10/10 [==============================] - 1s 10ms/step\n"
     ]
    },
    {
     "name": "stderr",
     "output_type": "stream",
     "text": [
      "[I 2024-08-20 11:28:31,292] Trial 8 finished with value: 0.38763825514394495 and parameters: {'n_units_1': 55, 'n_units_2': 30, 'n_units_3': 42, 'batch_size': 78}. Best is trial 2 with value: 0.2099305500389825.\n"
     ]
    },
    {
     "name": "stdout",
     "output_type": "stream",
     "text": [
      "10/10 [==============================] - 1s 6ms/step\n"
     ]
    },
    {
     "name": "stderr",
     "output_type": "stream",
     "text": [
      "[I 2024-08-20 11:29:10,072] Trial 9 finished with value: 1.4576173335939226 and parameters: {'n_units_1': 87, 'n_units_2': 46, 'n_units_3': 13, 'batch_size': 125}. Best is trial 2 with value: 0.2099305500389825.\n"
     ]
    },
    {
     "name": "stdout",
     "output_type": "stream",
     "text": [
      "10/10 [==============================] - 1s 18ms/step\n"
     ]
    },
    {
     "name": "stderr",
     "output_type": "stream",
     "text": [
      "[I 2024-08-20 11:30:55,493] Trial 10 finished with value: 0.6117000237025761 and parameters: {'n_units_1': 15, 'n_units_2': 97, 'n_units_3': 99, 'batch_size': 42}. Best is trial 2 with value: 0.2099305500389825.\n"
     ]
    },
    {
     "name": "stdout",
     "output_type": "stream",
     "text": [
      "10/10 [==============================] - 2s 20ms/step\n"
     ]
    },
    {
     "name": "stderr",
     "output_type": "stream",
     "text": [
      "[I 2024-08-20 11:32:35,123] Trial 11 finished with value: 0.41555552422489905 and parameters: {'n_units_1': 100, 'n_units_2': 81, 'n_units_3': 51, 'batch_size': 60}. Best is trial 2 with value: 0.2099305500389825.\n"
     ]
    },
    {
     "name": "stdout",
     "output_type": "stream",
     "text": [
      "10/10 [==============================] - 1s 9ms/step\n"
     ]
    },
    {
     "name": "stderr",
     "output_type": "stream",
     "text": [
      "[I 2024-08-20 11:33:56,210] Trial 12 finished with value: 0.4269734366416736 and parameters: {'n_units_1': 73, 'n_units_2': 76, 'n_units_3': 56, 'batch_size': 68}. Best is trial 2 with value: 0.2099305500389825.\n"
     ]
    },
    {
     "name": "stdout",
     "output_type": "stream",
     "text": [
      "10/10 [==============================] - 1s 9ms/step\n"
     ]
    },
    {
     "name": "stderr",
     "output_type": "stream",
     "text": [
      "[I 2024-08-20 11:36:04,671] Trial 13 finished with value: 0.5627204759561484 and parameters: {'n_units_1': 73, 'n_units_2': 77, 'n_units_3': 26, 'batch_size': 53}. Best is trial 2 with value: 0.2099305500389825.\n"
     ]
    },
    {
     "name": "stdout",
     "output_type": "stream",
     "text": [
      "10/10 [==============================] - 1s 19ms/step\n"
     ]
    },
    {
     "name": "stderr",
     "output_type": "stream",
     "text": [
      "[I 2024-08-20 11:38:32,179] Trial 14 finished with value: 0.18270710079007982 and parameters: {'n_units_1': 98, 'n_units_2': 93, 'n_units_3': 50, 'batch_size': 81}. Best is trial 14 with value: 0.18270710079007982.\n"
     ]
    },
    {
     "name": "stdout",
     "output_type": "stream",
     "text": [
      "10/10 [==============================] - 1s 11ms/step\n"
     ]
    },
    {
     "name": "stderr",
     "output_type": "stream",
     "text": [
      "[I 2024-08-20 11:40:04,890] Trial 15 finished with value: 0.6860167943461978 and parameters: {'n_units_1': 83, 'n_units_2': 97, 'n_units_3': 26, 'batch_size': 80}. Best is trial 14 with value: 0.18270710079007982.\n"
     ]
    },
    {
     "name": "stdout",
     "output_type": "stream",
     "text": [
      "10/10 [==============================] - 1s 12ms/step\n"
     ]
    },
    {
     "name": "stderr",
     "output_type": "stream",
     "text": [
      "[I 2024-08-20 11:41:16,635] Trial 16 finished with value: 0.5447539770939367 and parameters: {'n_units_1': 64, 'n_units_2': 92, 'n_units_3': 64, 'batch_size': 46}. Best is trial 14 with value: 0.18270710079007982.\n"
     ]
    },
    {
     "name": "stdout",
     "output_type": "stream",
     "text": [
      "10/10 [==============================] - 1s 9ms/step\n"
     ]
    },
    {
     "name": "stderr",
     "output_type": "stream",
     "text": [
      "[I 2024-08-20 11:42:11,087] Trial 17 finished with value: 0.4039502357417058 and parameters: {'n_units_1': 81, 'n_units_2': 85, 'n_units_3': 42, 'batch_size': 26}. Best is trial 14 with value: 0.18270710079007982.\n"
     ]
    },
    {
     "name": "stdout",
     "output_type": "stream",
     "text": [
      "10/10 [==============================] - 1s 11ms/step\n"
     ]
    },
    {
     "name": "stderr",
     "output_type": "stream",
     "text": [
      "[I 2024-08-20 11:45:29,074] Trial 18 finished with value: 1.1720408601244787 and parameters: {'n_units_1': 99, 'n_units_2': 72, 'n_units_3': 23, 'batch_size': 66}. Best is trial 14 with value: 0.18270710079007982.\n"
     ]
    },
    {
     "name": "stdout",
     "output_type": "stream",
     "text": [
      "10/10 [==============================] - 1s 10ms/step\n"
     ]
    },
    {
     "name": "stderr",
     "output_type": "stream",
     "text": [
      "[I 2024-08-20 11:48:01,145] Trial 19 finished with value: 0.3968856703867786 and parameters: {'n_units_1': 46, 'n_units_2': 89, 'n_units_3': 62, 'batch_size': 85}. Best is trial 14 with value: 0.18270710079007982.\n"
     ]
    },
    {
     "name": "stdout",
     "output_type": "stream",
     "text": [
      "Best hyperparameters: {'n_units_1': 98, 'n_units_2': 93, 'n_units_3': 50, 'batch_size': 81}\n",
      "Best score: 0.18270710079007982\n"
     ]
    }
   ],
   "source": [
    "import optuna \n",
    "from tensorflow.keras.callbacks import EarlyStopping\n",
    "\n",
    "\n",
    "def create_model(trial):\n",
    "    model = Sequential()\n",
    "\n",
    "    n_units_1 = trial.suggest_int('n_units_1', 10, 100)\n",
    "    n_units_2 = trial.suggest_int('n_units_2', 10, 100)\n",
    "    n_units_3 = trial.suggest_int('n_units_3', 10, 100)\n",
    "    \n",
    "    model.add(GRU(n_units_1, activation='relu', input_shape=(x_train.shape[1], 1), return_sequences=True))\n",
    "    model.add(GRU(n_units_2, activation='relu', return_sequences=True))\n",
    "    model.add(Dropout(0.2)),\n",
    "    model.add(AttentionMechanism(return_sequences=True)),\n",
    "    model.add(GRU(n_units_3, activation='relu'))\n",
    "    model.add(Dense(1))\n",
    "    model.compile(optimizer='adam', loss='mean_absolute_error')\n",
    "    \n",
    "    return model\n",
    "\n",
    "def objective(trial):\n",
    "    # Создание модели\n",
    "    model = create_model(trial)\n",
    "    \n",
    "    # Обучение модели\n",
    "    early_stopping = EarlyStopping(monitor='val_loss', patience=5)\n",
    "    history = model.fit(\n",
    "        x_train, y_train,\n",
    "        epochs=100,\n",
    "        batch_size=trial.suggest_int('batch_size', 16, 128),\n",
    "        validation_data=(x_test, y_test),\n",
    "        callbacks=[early_stopping],\n",
    "        verbose=0\n",
    "    )\n",
    "    \n",
    "    # Оценка модели\n",
    "    Y_pred = model.predict(x_test)\n",
    "    predicted_power = scaler.inverse_transform(Y_pred)\n",
    "    y_test_inv = scaler.inverse_transform(y_test.reshape(-1, 1))\n",
    "    score = mean_absolute_error(y_test_inv, predicted_power)\n",
    "    \n",
    "    return score\n",
    "\n",
    "\n",
    "study = optuna.create_study(direction='minimize')\n",
    "study.optimize(objective, n_trials=20)\n",
    "\n",
    "# Вывод наилучших гиперпараметров\n",
    "print(\"Best hyperparameters:\", study.best_params)\n",
    "print(\"Best score:\", study.best_value)"
   ]
  },
  {
   "cell_type": "code",
   "execution_count": 18,
   "metadata": {},
   "outputs": [
    {
     "name": "stdout",
     "output_type": "stream",
     "text": [
      "Epoch 1/100\n",
      "15/15 [==============================] - 4s 68ms/step - loss: 0.4880 - val_loss: 0.4785\n",
      "Epoch 2/100\n",
      "15/15 [==============================] - 1s 44ms/step - loss: 0.2291 - val_loss: 0.1052\n",
      "Epoch 3/100\n",
      "15/15 [==============================] - 1s 44ms/step - loss: 0.1595 - val_loss: 0.1333\n",
      "Epoch 4/100\n",
      "15/15 [==============================] - 1s 44ms/step - loss: 0.1394 - val_loss: 0.1073\n",
      "Epoch 5/100\n",
      "15/15 [==============================] - 1s 46ms/step - loss: 0.1127 - val_loss: 0.0661\n",
      "Epoch 6/100\n",
      "15/15 [==============================] - 1s 44ms/step - loss: 0.0741 - val_loss: 0.0492\n",
      "Epoch 7/100\n",
      "15/15 [==============================] - 1s 47ms/step - loss: 0.0562 - val_loss: 0.0527\n",
      "Epoch 8/100\n",
      "15/15 [==============================] - 1s 44ms/step - loss: 0.0558 - val_loss: 0.0469\n",
      "Epoch 9/100\n",
      "15/15 [==============================] - 1s 48ms/step - loss: 0.0545 - val_loss: 0.0491\n",
      "Epoch 10/100\n",
      "15/15 [==============================] - 1s 81ms/step - loss: 0.0514 - val_loss: 0.0441\n",
      "Epoch 11/100\n",
      "15/15 [==============================] - 1s 100ms/step - loss: 0.0488 - val_loss: 0.0461\n",
      "Epoch 12/100\n",
      "15/15 [==============================] - 2s 103ms/step - loss: 0.0495 - val_loss: 0.0401\n",
      "Epoch 13/100\n",
      "15/15 [==============================] - 2s 109ms/step - loss: 0.0448 - val_loss: 0.0389\n",
      "Epoch 14/100\n",
      "15/15 [==============================] - 2s 109ms/step - loss: 0.0449 - val_loss: 0.0365\n",
      "Epoch 15/100\n",
      "15/15 [==============================] - 2s 105ms/step - loss: 0.0418 - val_loss: 0.0338\n",
      "Epoch 16/100\n",
      "15/15 [==============================] - 2s 107ms/step - loss: 0.0391 - val_loss: 0.0328\n",
      "Epoch 17/100\n",
      "15/15 [==============================] - 1s 91ms/step - loss: 0.0378 - val_loss: 0.0323\n",
      "Epoch 18/100\n",
      "15/15 [==============================] - 1s 99ms/step - loss: 0.0360 - val_loss: 0.0335\n",
      "Epoch 19/100\n",
      "15/15 [==============================] - 1s 97ms/step - loss: 0.0352 - val_loss: 0.0353\n",
      "Epoch 20/100\n",
      "15/15 [==============================] - 1s 97ms/step - loss: 0.0349 - val_loss: 0.0263\n",
      "Epoch 21/100\n",
      "15/15 [==============================] - 1s 90ms/step - loss: 0.0326 - val_loss: 0.0264\n",
      "Epoch 22/100\n",
      "15/15 [==============================] - 1s 98ms/step - loss: 0.0331 - val_loss: 0.0246\n",
      "Epoch 23/100\n",
      "15/15 [==============================] - 1s 97ms/step - loss: 0.0328 - val_loss: 0.0226\n",
      "Epoch 24/100\n",
      "15/15 [==============================] - 2s 103ms/step - loss: 0.0304 - val_loss: 0.0270\n",
      "Epoch 25/100\n",
      "15/15 [==============================] - 2s 102ms/step - loss: 0.0285 - val_loss: 0.0200\n",
      "Epoch 26/100\n",
      "15/15 [==============================] - 2s 107ms/step - loss: 0.0281 - val_loss: 0.0240\n",
      "Epoch 27/100\n",
      "15/15 [==============================] - 2s 103ms/step - loss: 0.0268 - val_loss: 0.0191\n",
      "Epoch 28/100\n",
      "15/15 [==============================] - 1s 98ms/step - loss: 0.0240 - val_loss: 0.0181\n",
      "Epoch 29/100\n",
      "15/15 [==============================] - 1s 99ms/step - loss: 0.0242 - val_loss: 0.0228\n",
      "Epoch 30/100\n",
      "15/15 [==============================] - 2s 112ms/step - loss: 0.0257 - val_loss: 0.0074\n",
      "Epoch 31/100\n",
      "15/15 [==============================] - 2s 101ms/step - loss: 0.0241 - val_loss: 0.0111\n",
      "Epoch 32/100\n",
      "15/15 [==============================] - 2s 103ms/step - loss: 0.0213 - val_loss: 0.0212\n",
      "Epoch 33/100\n",
      "15/15 [==============================] - 2s 123ms/step - loss: 0.0210 - val_loss: 0.0126\n",
      "Epoch 34/100\n",
      "15/15 [==============================] - 2s 112ms/step - loss: 0.0204 - val_loss: 0.0073\n",
      "Epoch 35/100\n",
      "15/15 [==============================] - 2s 110ms/step - loss: 0.0197 - val_loss: 0.0181\n",
      "Epoch 36/100\n",
      "15/15 [==============================] - 2s 119ms/step - loss: 0.0227 - val_loss: 0.0065\n",
      "Epoch 37/100\n",
      "15/15 [==============================] - 2s 125ms/step - loss: 0.0196 - val_loss: 0.0180\n",
      "Epoch 38/100\n",
      "15/15 [==============================] - 2s 118ms/step - loss: 0.0182 - val_loss: 0.0114\n",
      "Epoch 39/100\n",
      "15/15 [==============================] - 2s 122ms/step - loss: 0.0205 - val_loss: 0.0073\n",
      "Epoch 40/100\n",
      "15/15 [==============================] - 2s 128ms/step - loss: 0.0190 - val_loss: 0.0056\n",
      "Epoch 41/100\n",
      "15/15 [==============================] - 2s 141ms/step - loss: 0.0177 - val_loss: 0.0084\n",
      "Epoch 42/100\n",
      "15/15 [==============================] - 2s 130ms/step - loss: 0.0180 - val_loss: 0.0231\n",
      "Epoch 43/100\n",
      "15/15 [==============================] - 2s 136ms/step - loss: 0.0186 - val_loss: 0.0097\n",
      "Epoch 44/100\n",
      "15/15 [==============================] - 2s 163ms/step - loss: 0.0167 - val_loss: 0.0121\n",
      "Epoch 45/100\n",
      "15/15 [==============================] - 2s 143ms/step - loss: 0.0172 - val_loss: 0.0104\n",
      "Epoch 46/100\n",
      "15/15 [==============================] - 2s 148ms/step - loss: 0.0179 - val_loss: 0.0108\n",
      "Epoch 47/100\n",
      "15/15 [==============================] - 2s 159ms/step - loss: 0.0170 - val_loss: 0.0130\n",
      "Epoch 48/100\n",
      "15/15 [==============================] - 3s 168ms/step - loss: 0.0169 - val_loss: 0.0166\n",
      "Epoch 49/100\n",
      "15/15 [==============================] - 3s 169ms/step - loss: 0.0170 - val_loss: 0.0070\n",
      "Epoch 50/100\n",
      "15/15 [==============================] - 3s 176ms/step - loss: 0.0162 - val_loss: 0.0069\n",
      "Epoch 51/100\n",
      "15/15 [==============================] - 3s 184ms/step - loss: 0.0163 - val_loss: 0.0122\n",
      "Epoch 52/100\n",
      "15/15 [==============================] - 3s 191ms/step - loss: 0.0178 - val_loss: 0.0121\n",
      "Epoch 53/100\n",
      "15/15 [==============================] - 3s 223ms/step - loss: 0.0158 - val_loss: 0.0100\n",
      "Epoch 54/100\n",
      "15/15 [==============================] - 3s 207ms/step - loss: 0.0148 - val_loss: 0.0171\n",
      "Epoch 55/100\n",
      "15/15 [==============================] - 3s 224ms/step - loss: 0.0160 - val_loss: 0.0146\n",
      "Epoch 56/100\n",
      "15/15 [==============================] - 3s 215ms/step - loss: 0.0167 - val_loss: 0.0169\n",
      "Epoch 57/100\n",
      "15/15 [==============================] - 4s 253ms/step - loss: 0.0171 - val_loss: 0.0064\n",
      "Epoch 58/100\n",
      "15/15 [==============================] - 4s 266ms/step - loss: 0.0175 - val_loss: 0.0317\n",
      "Epoch 59/100\n",
      "15/15 [==============================] - 4s 248ms/step - loss: 0.0180 - val_loss: 0.0097\n",
      "Epoch 60/100\n",
      "15/15 [==============================] - 5s 308ms/step - loss: 0.0162 - val_loss: 0.0053\n",
      "Epoch 61/100\n",
      "15/15 [==============================] - 4s 264ms/step - loss: 0.0141 - val_loss: 0.0057\n",
      "Epoch 62/100\n",
      "15/15 [==============================] - 4s 244ms/step - loss: 0.0152 - val_loss: 0.0039\n",
      "Epoch 63/100\n",
      "15/15 [==============================] - 3s 198ms/step - loss: 0.0152 - val_loss: 0.0073\n",
      "Epoch 64/100\n",
      "15/15 [==============================] - 3s 181ms/step - loss: 0.0164 - val_loss: 0.0216\n",
      "Epoch 65/100\n",
      "15/15 [==============================] - 3s 189ms/step - loss: 0.0169 - val_loss: 0.0085\n",
      "Epoch 66/100\n",
      "15/15 [==============================] - 3s 203ms/step - loss: 0.0161 - val_loss: 0.0133\n",
      "Epoch 67/100\n",
      "15/15 [==============================] - 3s 195ms/step - loss: 0.0137 - val_loss: 0.0164\n",
      "Epoch 68/100\n",
      "15/15 [==============================] - 3s 182ms/step - loss: 0.0144 - val_loss: 0.0044\n",
      "Epoch 69/100\n",
      "15/15 [==============================] - 4s 297ms/step - loss: 0.0139 - val_loss: 0.0105\n",
      "Epoch 70/100\n",
      "15/15 [==============================] - 3s 200ms/step - loss: 0.0140 - val_loss: 0.0071\n",
      "Epoch 71/100\n",
      "15/15 [==============================] - 3s 209ms/step - loss: 0.0133 - val_loss: 0.0232\n",
      "Epoch 72/100\n",
      "15/15 [==============================] - 4s 289ms/step - loss: 0.0143 - val_loss: 0.0091\n",
      "Epoch 73/100\n",
      "15/15 [==============================] - 3s 230ms/step - loss: 0.0155 - val_loss: 0.0197\n",
      "Epoch 74/100\n",
      "15/15 [==============================] - 4s 260ms/step - loss: 0.0147 - val_loss: 0.0050\n",
      "Epoch 75/100\n",
      "15/15 [==============================] - 3s 200ms/step - loss: 0.0130 - val_loss: 0.0120\n",
      "Epoch 76/100\n",
      "15/15 [==============================] - 4s 283ms/step - loss: 0.0126 - val_loss: 0.0076\n",
      "Epoch 77/100\n",
      "15/15 [==============================] - 3s 183ms/step - loss: 0.0137 - val_loss: 0.0259\n",
      "Epoch 78/100\n",
      "15/15 [==============================] - 3s 197ms/step - loss: 0.0145 - val_loss: 0.0123\n",
      "Epoch 79/100\n",
      "15/15 [==============================] - 3s 187ms/step - loss: 0.0123 - val_loss: 0.0210\n",
      "Epoch 80/100\n",
      "15/15 [==============================] - 3s 186ms/step - loss: 0.0149 - val_loss: 0.0047\n",
      "Epoch 81/100\n",
      "15/15 [==============================] - 3s 212ms/step - loss: 0.0145 - val_loss: 0.0101\n",
      "Epoch 82/100\n",
      "15/15 [==============================] - 3s 203ms/step - loss: 0.0139 - val_loss: 0.0127\n",
      "Epoch 83/100\n",
      "15/15 [==============================] - 3s 185ms/step - loss: 0.0132 - val_loss: 0.0236\n",
      "Epoch 84/100\n",
      "15/15 [==============================] - 3s 200ms/step - loss: 0.0131 - val_loss: 0.0045\n",
      "Epoch 85/100\n",
      "15/15 [==============================] - 3s 210ms/step - loss: 0.0126 - val_loss: 0.0179\n",
      "Epoch 86/100\n",
      "15/15 [==============================] - 3s 195ms/step - loss: 0.0122 - val_loss: 0.0127\n",
      "Epoch 87/100\n",
      "15/15 [==============================] - 3s 227ms/step - loss: 0.0135 - val_loss: 0.0086\n",
      "Epoch 88/100\n",
      "15/15 [==============================] - 3s 233ms/step - loss: 0.0112 - val_loss: 0.0100\n",
      "Epoch 89/100\n",
      "15/15 [==============================] - 3s 226ms/step - loss: 0.0117 - val_loss: 0.0080\n",
      "Epoch 90/100\n",
      "15/15 [==============================] - 3s 203ms/step - loss: 0.0137 - val_loss: 0.0147\n",
      "Epoch 91/100\n",
      "15/15 [==============================] - 3s 192ms/step - loss: 0.0115 - val_loss: 0.0108\n",
      "Epoch 92/100\n",
      "15/15 [==============================] - 3s 209ms/step - loss: 0.0114 - val_loss: 0.0148\n",
      "Epoch 93/100\n",
      "15/15 [==============================] - 4s 256ms/step - loss: 0.0114 - val_loss: 0.0173\n",
      "Epoch 94/100\n",
      "15/15 [==============================] - 3s 234ms/step - loss: 0.0122 - val_loss: 0.0151\n",
      "Epoch 95/100\n",
      "15/15 [==============================] - 3s 231ms/step - loss: 0.0115 - val_loss: 0.0161\n",
      "Epoch 96/100\n",
      "15/15 [==============================] - 3s 190ms/step - loss: 0.0112 - val_loss: 0.0203\n",
      "Epoch 97/100\n",
      "15/15 [==============================] - 3s 183ms/step - loss: 0.0119 - val_loss: 0.0207\n",
      "Epoch 98/100\n",
      "15/15 [==============================] - 3s 220ms/step - loss: 0.0118 - val_loss: 0.0234\n",
      "Epoch 99/100\n",
      "15/15 [==============================] - 3s 184ms/step - loss: 0.0118 - val_loss: 0.0371\n",
      "Epoch 100/100\n",
      "15/15 [==============================] - 3s 181ms/step - loss: 0.0138 - val_loss: 0.0212\n"
     ]
    },
    {
     "data": {
      "text/plain": [
       "<keras.callbacks.History at 0x24d7e4ea830>"
      ]
     },
     "execution_count": 18,
     "metadata": {},
     "output_type": "execute_result"
    }
   ],
   "source": [
    "model = Sequential()\n",
    "\n",
    "model.add(GRU(98, activation='relu', input_shape=(x_train.shape[1], 1), return_sequences=True))\n",
    "model.add(GRU(93, activation='relu', return_sequences=True))\n",
    "model.add(Dropout(0.2)),\n",
    "model.add(AttentionMechanism(return_sequences=True)),\n",
    "model.add(GRU(50, activation='relu'))\n",
    "model.add(Dense(1))\n",
    "model.compile(optimizer='adam', loss='mean_absolute_error')\n",
    "\n",
    "model.fit(x_train, y_train, epochs=100, batch_size=81, validation_data=(x_test, y_test))"
   ]
  },
  {
   "cell_type": "code",
   "execution_count": 19,
   "metadata": {},
   "outputs": [
    {
     "name": "stdout",
     "output_type": "stream",
     "text": [
      "10/10 [==============================] - 0s 6ms/step\n"
     ]
    },
    {
     "data": {
      "application/vnd.plotly.v1+json": {
       "config": {
        "linkText": "Export to plot.ly",
        "plotlyServerURL": "https://plot.ly",
        "showLink": true
       },
       "data": [
        {
         "line": {
          "color": "rgba(255, 153, 51, 1.0)",
          "dash": "solid",
          "shape": "linear",
          "width": 1.3
         },
         "mode": "lines",
         "name": "Y_test",
         "text": "",
         "type": "scatter",
         "x": [
          0,
          1,
          2,
          3,
          4,
          5,
          6,
          7,
          8,
          9,
          10,
          11,
          12,
          13,
          14,
          15,
          16,
          17,
          18,
          19,
          20,
          21,
          22,
          23,
          24,
          25,
          26,
          27,
          28,
          29,
          30,
          31,
          32,
          33,
          34,
          35,
          36,
          37,
          38,
          39,
          40,
          41,
          42,
          43,
          44,
          45,
          46,
          47,
          48,
          49,
          50,
          51,
          52,
          53,
          54,
          55,
          56,
          57,
          58,
          59,
          60,
          61,
          62,
          63,
          64,
          65,
          66,
          67,
          68,
          69,
          70,
          71,
          72,
          73,
          74,
          75,
          76,
          77,
          78,
          79,
          80,
          81,
          82,
          83,
          84,
          85,
          86,
          87,
          88,
          89,
          90,
          91,
          92,
          93,
          94,
          95,
          96,
          97,
          98,
          99,
          100,
          101,
          102,
          103,
          104,
          105,
          106,
          107,
          108,
          109,
          110,
          111,
          112,
          113,
          114,
          115,
          116,
          117,
          118,
          119,
          120,
          121,
          122,
          123,
          124,
          125,
          126,
          127,
          128,
          129,
          130,
          131,
          132,
          133,
          134,
          135,
          136,
          137,
          138,
          139,
          140,
          141,
          142,
          143,
          144,
          145,
          146,
          147,
          148,
          149,
          150,
          151,
          152,
          153,
          154,
          155,
          156,
          157,
          158,
          159,
          160,
          161,
          162,
          163,
          164,
          165,
          166,
          167,
          168,
          169,
          170,
          171,
          172,
          173,
          174,
          175,
          176,
          177,
          178,
          179,
          180,
          181,
          182,
          183,
          184,
          185,
          186,
          187,
          188,
          189,
          190,
          191,
          192,
          193,
          194,
          195,
          196,
          197,
          198,
          199,
          200,
          201,
          202,
          203,
          204,
          205,
          206,
          207,
          208,
          209,
          210,
          211,
          212,
          213,
          214,
          215,
          216,
          217,
          218,
          219,
          220,
          221,
          222,
          223,
          224,
          225,
          226,
          227,
          228,
          229,
          230,
          231,
          232,
          233,
          234,
          235,
          236,
          237,
          238,
          239,
          240,
          241,
          242,
          243,
          244,
          245,
          246,
          247,
          248,
          249,
          250,
          251,
          252,
          253,
          254,
          255,
          256,
          257,
          258,
          259,
          260,
          261,
          262,
          263,
          264,
          265,
          266,
          267,
          268,
          269,
          270,
          271,
          272,
          273,
          274,
          275,
          276,
          277,
          278,
          279,
          280,
          281,
          282,
          283,
          284,
          285,
          286,
          287,
          288,
          289,
          290,
          291
         ],
         "y": [
          24.066666666666663,
          23.9375,
          26.3125,
          26.187499999999996,
          26.785714285714285,
          27.133333333333333,
          26.625,
          25.0625,
          26.2,
          28.133333333333333,
          29.875,
          24.666666666666668,
          26.25,
          25.93333333333333,
          27.125,
          29.571428571428573,
          30,
          30.571428571428573,
          32.3125,
          33.3125,
          32.8125,
          32.3125,
          31.375,
          29.933333333333334,
          29.266666666666666,
          30.73333333333333,
          32.25,
          29.8,
          30.2,
          31.75,
          33.125,
          33.625,
          35.6875,
          34.666666666666664,
          34.625,
          34,
          34.0625,
          34,
          33.25,
          31.916666666666668,
          31.3125,
          31.75,
          33.4375,
          33.125,
          34.15384615384615,
          34.07142857142857,
          33.0625,
          34.6875,
          38,
          35.49999999999999,
          33.714285714285715,
          30.6,
          31.4375,
          33.3125,
          35.13333333333333,
          33.53333333333333,
          34,
          32.5,
          35.375,
          37.294117647058826,
          36.5625,
          37.25,
          37.21428571428572,
          37.5,
          37.75,
          37.375,
          37.4,
          36.13333333333333,
          36.8,
          32.214285714285715,
          31.526315789473685,
          33.21739130434783,
          35.26923076923077,
          38.27272727272727,
          36.0625,
          31.5,
          26.8125,
          32.642857142857146,
          36,
          37.5625,
          37.5625,
          38.2,
          36.16666666666666,
          35.42857142857143,
          34.625,
          36.07142857142857,
          35.733333333333334,
          36.13333333333333,
          33.4375,
          35.49999999999999,
          36,
          32.625,
          34.733333333333334,
          33.5,
          34.1875,
          35.857142857142854,
          35.625,
          30.9375,
          32.875,
          33.125,
          33.84615384615385,
          36.4375,
          35.42857142857143,
          34.86666666666667,
          34.3125,
          30.785714285714285,
          35.375,
          35.46666666666667,
          32.125,
          28.4,
          29.5625,
          30.6875,
          33.25,
          33.266666666666666,
          33.5,
          30.8,
          33.25,
          32.5625,
          31.5,
          30.5,
          31.25,
          30.4375,
          31,
          27.125,
          28.125,
          27.666666666666668,
          32.3125,
          34.1875,
          34.13333333333333,
          34.125,
          31.875,
          31.4375,
          31.9375,
          30.3125,
          28.3125,
          29.53333333333333,
          27.375,
          27.33333333333333,
          29.266666666666666,
          29.125,
          30.6875,
          32.5625,
          33.111111111111114,
          33.8,
          30.066666666666663,
          33.11764705882353,
          33.80952380952381,
          31.615384615384617,
          32,
          28.107142857142858,
          29.035714285714285,
          30.321428571428573,
          28.933333333333334,
          31.678571428571427,
          31.33333333333333,
          29.928571428571427,
          29.88888888888889,
          32.07142857142857,
          33.18518518518518,
          31.59259259259259,
          32.18518518518518,
          31.48,
          30.178571428571427,
          31.52,
          31.22222222222222,
          31.785714285714285,
          33.4,
          29.571428571428573,
          30.04,
          27.25925925925926,
          27.96,
          30.73913043478261,
          30.894736842105264,
          31.692307692307693,
          31.07692307692308,
          30.375,
          31.1,
          31.916666666666668,
          30.55555555555556,
          31.23076923076923,
          31,
          31.642857142857142,
          32.53333333333333,
          30.857142857142858,
          31.727272727272727,
          31.4,
          32.30769230769231,
          32.25,
          32.375,
          33.44444444444444,
          33.36,
          30.03703703703704,
          31,
          31.24,
          31.130434782608692,
          31.48,
          32.18518518518518,
          32.44,
          32.22727272727273,
          32.214285714285715,
          32.541666666666664,
          32.81481481481482,
          33.26923076923077,
          30.55555555555556,
          28.83333333333333,
          30.703703703703702,
          30.96,
          30.6,
          30.92,
          29.77777777777778,
          29.666666666666668,
          29.571428571428573,
          29.96296296296296,
          29.75,
          27.74074074074074,
          28.428571428571427,
          28.6,
          28.5,
          28.925925925925927,
          29.07692307692308,
          28.40909090909091,
          29.33333333333333,
          27.5,
          28.5,
          28.04,
          27.57692307692308,
          26.55555555555556,
          25.51851851851852,
          25.814814814814813,
          24.82608695652174,
          24.53846153846154,
          24.384615384615383,
          23.727272727272727,
          25.64,
          24.814814814814813,
          23.115384615384617,
          22.925925925925927,
          24.545454545454547,
          23.73076923076923,
          23,
          23.51851851851852,
          23.92,
          23.53846153846154,
          24.296296296296298,
          23.346153846153847,
          22.24,
          21.769230769230774,
          21.73076923076923,
          21.73076923076923,
          20.666666666666668,
          22.25,
          21.53846153846154,
          22.57894736842105,
          22.82608695652174,
          21.42105263157895,
          23.6,
          24.294117647058822,
          23.63636363636364,
          22.454545454545453,
          21.61111111111111,
          19.869565217391305,
          19.75,
          19.20833333333333,
          21.20833333333333,
          18.9,
          18.63636363636364,
          18.53846153846154,
          18.25,
          16.9,
          19.416666666666668,
          16.444444444444443,
          20.041666666666668,
          19.90909090909091,
          19.05,
          18.55555555555556,
          18.166666666666668,
          15.833333333333334,
          17.5,
          16.083333333333332,
          17.857142857142858,
          19.8,
          18.05,
          17.285714285714285,
          15.550000000000002,
          17.318181818181817,
          14,
          17.142857142857142,
          16.85,
          17.217391304347824,
          15.238095238095237,
          14.095238095238097,
          15.05263157894737
         ]
        },
        {
         "line": {
          "color": "rgba(55, 128, 191, 1.0)",
          "dash": "solid",
          "shape": "linear",
          "width": 1.3
         },
         "mode": "lines",
         "name": "Predictions",
         "text": "",
         "type": "scatter",
         "x": [
          0,
          1,
          2,
          3,
          4,
          5,
          6,
          7,
          8,
          9,
          10,
          11,
          12,
          13,
          14,
          15,
          16,
          17,
          18,
          19,
          20,
          21,
          22,
          23,
          24,
          25,
          26,
          27,
          28,
          29,
          30,
          31,
          32,
          33,
          34,
          35,
          36,
          37,
          38,
          39,
          40,
          41,
          42,
          43,
          44,
          45,
          46,
          47,
          48,
          49,
          50,
          51,
          52,
          53,
          54,
          55,
          56,
          57,
          58,
          59,
          60,
          61,
          62,
          63,
          64,
          65,
          66,
          67,
          68,
          69,
          70,
          71,
          72,
          73,
          74,
          75,
          76,
          77,
          78,
          79,
          80,
          81,
          82,
          83,
          84,
          85,
          86,
          87,
          88,
          89,
          90,
          91,
          92,
          93,
          94,
          95,
          96,
          97,
          98,
          99,
          100,
          101,
          102,
          103,
          104,
          105,
          106,
          107,
          108,
          109,
          110,
          111,
          112,
          113,
          114,
          115,
          116,
          117,
          118,
          119,
          120,
          121,
          122,
          123,
          124,
          125,
          126,
          127,
          128,
          129,
          130,
          131,
          132,
          133,
          134,
          135,
          136,
          137,
          138,
          139,
          140,
          141,
          142,
          143,
          144,
          145,
          146,
          147,
          148,
          149,
          150,
          151,
          152,
          153,
          154,
          155,
          156,
          157,
          158,
          159,
          160,
          161,
          162,
          163,
          164,
          165,
          166,
          167,
          168,
          169,
          170,
          171,
          172,
          173,
          174,
          175,
          176,
          177,
          178,
          179,
          180,
          181,
          182,
          183,
          184,
          185,
          186,
          187,
          188,
          189,
          190,
          191,
          192,
          193,
          194,
          195,
          196,
          197,
          198,
          199,
          200,
          201,
          202,
          203,
          204,
          205,
          206,
          207,
          208,
          209,
          210,
          211,
          212,
          213,
          214,
          215,
          216,
          217,
          218,
          219,
          220,
          221,
          222,
          223,
          224,
          225,
          226,
          227,
          228,
          229,
          230,
          231,
          232,
          233,
          234,
          235,
          236,
          237,
          238,
          239,
          240,
          241,
          242,
          243,
          244,
          245,
          246,
          247,
          248,
          249,
          250,
          251,
          252,
          253,
          254,
          255,
          256,
          257,
          258,
          259,
          260,
          261,
          262,
          263,
          264,
          265,
          266,
          267,
          268,
          269,
          270,
          271,
          272,
          273,
          274,
          275,
          276,
          277,
          278,
          279,
          280,
          281,
          282,
          283,
          284,
          285,
          286,
          287,
          288,
          289,
          290,
          291
         ],
         "y": [
          23.65647315979004,
          23.59314727783203,
          25.758344650268555,
          25.69032859802246,
          26.307716369628906,
          26.55393409729004,
          26.14815902709961,
          24.733184814453125,
          25.7401180267334,
          27.433401107788086,
          29.04422950744629,
          24.58958625793457,
          25.740034103393555,
          25.469881057739258,
          26.608354568481445,
          28.74217414855957,
          29.183137893676758,
          29.77982521057129,
          31.366788864135742,
          32.308921813964844,
          31.8956298828125,
          31.453907012939453,
          30.591501235961914,
          29.266210556030273,
          28.608125686645508,
          29.956253051757812,
          31.3054256439209,
          29.126209259033203,
          29.5015869140625,
          30.847896575927734,
          32.13117218017578,
          32.636009216308594,
          34.59321975708008,
          33.69330978393555,
          33.694095611572266,
          33.0357780456543,
          33.13861083984375,
          33.02996826171875,
          32.32438278198242,
          31.12350082397461,
          30.51458168029785,
          30.927289962768555,
          32.4337158203125,
          32.174041748046875,
          33.200927734375,
          33.08635330200195,
          32.16642761230469,
          33.68369674682617,
          36.78186798095703,
          34.65633010864258,
          32.96238708496094,
          29.969770431518555,
          30.660533905029297,
          32.303428649902344,
          34.02753829956055,
          32.64506912231445,
          33.09258270263672,
          31.651874542236328,
          34.26336669921875,
          36.1000862121582,
          35.55521774291992,
          36.309757232666016,
          36.23503875732422,
          36.53020477294922,
          36.78844451904297,
          36.418975830078125,
          36.46674346923828,
          35.182823181152344,
          35.853633880615234,
          31.495649337768555,
          30.83553695678711,
          32.27085876464844,
          34.15770721435547,
          37.079498291015625,
          35.16472244262695,
          30.8863468170166,
          26.763151168823242,
          31.09453773498535,
          34.204620361328125,
          36.34657287597656,
          36.56910705566406,
          37.24446487426758,
          35.28617477416992,
          34.56733703613281,
          33.69939422607422,
          35.06663513183594,
          34.71106719970703,
          35.16500473022461,
          32.627769470214844,
          34.50779342651367,
          34.924949645996094,
          31.824085235595703,
          33.75722122192383,
          32.57622146606445,
          33.24716567993164,
          34.788414001464844,
          34.58805847167969,
          30.262935638427734,
          31.963109970092773,
          32.122291564941406,
          32.86884307861328,
          35.29039764404297,
          34.412445068359375,
          33.941280364990234,
          33.38644790649414,
          30.084259033203125,
          34.03920364379883,
          34.2094841003418,
          31.327604293823242,
          27.946321487426758,
          28.86395835876465,
          29.872875213623047,
          32.1993408203125,
          32.246334075927734,
          32.55655288696289,
          30.050983428955078,
          32.26554489135742,
          31.631811141967773,
          30.71379852294922,
          29.763307571411133,
          30.444154739379883,
          29.6944522857666,
          30.2196102142334,
          26.646793365478516,
          27.515281677246094,
          27.105613708496094,
          31.096166610717773,
          32.82648468017578,
          33.10938262939453,
          33.16358947753906,
          31.108966827392578,
          30.674531936645508,
          31.105327606201172,
          29.603837966918945,
          27.800315856933594,
          28.85175132751465,
          26.862075805664062,
          26.824861526489258,
          28.56298065185547,
          28.430734634399414,
          29.911880493164062,
          31.58074188232422,
          32.113285064697266,
          32.82741165161133,
          29.394718170166016,
          32.06413650512695,
          32.680885314941406,
          30.859899520874023,
          31.196306228637695,
          27.552236557006836,
          28.378679275512695,
          29.53148651123047,
          28.33727264404297,
          30.745609283447266,
          30.456912994384766,
          29.27512550354004,
          29.192136764526367,
          31.14847183227539,
          32.15519332885742,
          30.80922508239746,
          31.346614837646484,
          30.650035858154297,
          29.493587493896484,
          30.68667221069336,
          30.39463996887207,
          30.964282989501953,
          32.40189743041992,
          28.983312606811523,
          29.354211807250977,
          26.72665023803711,
          27.396018981933594,
          29.815662384033203,
          30.023059844970703,
          30.842073440551758,
          30.27667808532715,
          29.641498565673828,
          30.314064025878906,
          31.029451370239258,
          29.8266544342041,
          30.438329696655273,
          30.17655372619629,
          30.829195022583008,
          31.6087589263916,
          30.12462615966797,
          30.908397674560547,
          30.558979034423828,
          31.4483585357666,
          31.34463882446289,
          31.497817993164062,
          32.4845085144043,
          32.396995544433594,
          29.34406852722168,
          30.238597869873047,
          30.396587371826172,
          30.302995681762695,
          30.667783737182617,
          31.288667678833008,
          31.53078269958496,
          31.32451820373535,
          31.35959815979004,
          31.651790618896484,
          31.887521743774414,
          32.31946563720703,
          29.81829261779785,
          28.300994873046875,
          29.90582847595215,
          30.104642868041992,
          29.80539894104004,
          30.156471252441406,
          29.085010528564453,
          28.97649383544922,
          28.896629333496094,
          29.26697540283203,
          29.01363754272461,
          27.249011993408203,
          27.84183692932129,
          27.94403076171875,
          27.894495010375977,
          28.317626953125,
          28.4027099609375,
          27.829612731933594,
          28.680309295654297,
          26.984874725341797,
          27.903003692626953,
          27.4582576751709,
          27.05984115600586,
          26.142759323120117,
          25.14631462097168,
          25.388792037963867,
          24.477733612060547,
          24.164764404296875,
          24.036945343017578,
          23.442535400390625,
          25.1435546875,
          24.43855094909668,
          22.824703216552734,
          22.61235809326172,
          24.142393112182617,
          23.41350555419922,
          22.711669921875,
          23.1811466217041,
          23.52617835998535,
          23.207365036010742,
          23.94013023376465,
          23.02645492553711,
          22.00071907043457,
          21.496944427490234,
          21.47924041748047,
          21.48395347595215,
          20.50345230102539,
          21.941837310791016,
          21.376005172729492,
          22.276269912719727,
          22.499032974243164,
          21.195571899414062,
          23.173494338989258,
          23.885284423828125,
          23.293733596801758,
          22.214380264282227,
          21.36996078491211,
          19.699831008911133,
          19.536901473999023,
          19.127864837646484,
          20.960811614990234,
          18.9378662109375,
          18.42405128479004,
          18.43593978881836,
          18.185867309570312,
          16.971433639526367,
          19.09193992614746,
          16.45400047302246,
          19.415298461914062,
          19.797338485717773,
          18.971370697021484,
          18.439783096313477,
          18.071372985839844,
          16.026378631591797,
          17.151851654052734,
          16.019834518432617,
          17.636337280273438,
          19.507516860961914,
          18.06203269958496,
          17.1739444732666,
          15.628161430358887,
          17.071382522583008,
          14.538372993469238,
          16.710023880004883,
          16.80548667907715,
          17.17194366455078,
          15.396440505981445,
          14.041172981262207,
          15.051712989807129
         ]
        }
       ],
       "layout": {
        "legend": {
         "bgcolor": "#151516",
         "font": {
          "color": "#D9D9D9"
         }
        },
        "paper_bgcolor": "#151516",
        "plot_bgcolor": "#151516",
        "template": {
         "data": {
          "bar": [
           {
            "error_x": {
             "color": "#2a3f5f"
            },
            "error_y": {
             "color": "#2a3f5f"
            },
            "marker": {
             "line": {
              "color": "#E5ECF6",
              "width": 0.5
             },
             "pattern": {
              "fillmode": "overlay",
              "size": 10,
              "solidity": 0.2
             }
            },
            "type": "bar"
           }
          ],
          "barpolar": [
           {
            "marker": {
             "line": {
              "color": "#E5ECF6",
              "width": 0.5
             },
             "pattern": {
              "fillmode": "overlay",
              "size": 10,
              "solidity": 0.2
             }
            },
            "type": "barpolar"
           }
          ],
          "carpet": [
           {
            "aaxis": {
             "endlinecolor": "#2a3f5f",
             "gridcolor": "white",
             "linecolor": "white",
             "minorgridcolor": "white",
             "startlinecolor": "#2a3f5f"
            },
            "baxis": {
             "endlinecolor": "#2a3f5f",
             "gridcolor": "white",
             "linecolor": "white",
             "minorgridcolor": "white",
             "startlinecolor": "#2a3f5f"
            },
            "type": "carpet"
           }
          ],
          "choropleth": [
           {
            "colorbar": {
             "outlinewidth": 0,
             "ticks": ""
            },
            "type": "choropleth"
           }
          ],
          "contour": [
           {
            "colorbar": {
             "outlinewidth": 0,
             "ticks": ""
            },
            "colorscale": [
             [
              0,
              "#0d0887"
             ],
             [
              0.1111111111111111,
              "#46039f"
             ],
             [
              0.2222222222222222,
              "#7201a8"
             ],
             [
              0.3333333333333333,
              "#9c179e"
             ],
             [
              0.4444444444444444,
              "#bd3786"
             ],
             [
              0.5555555555555556,
              "#d8576b"
             ],
             [
              0.6666666666666666,
              "#ed7953"
             ],
             [
              0.7777777777777778,
              "#fb9f3a"
             ],
             [
              0.8888888888888888,
              "#fdca26"
             ],
             [
              1,
              "#f0f921"
             ]
            ],
            "type": "contour"
           }
          ],
          "contourcarpet": [
           {
            "colorbar": {
             "outlinewidth": 0,
             "ticks": ""
            },
            "type": "contourcarpet"
           }
          ],
          "heatmap": [
           {
            "colorbar": {
             "outlinewidth": 0,
             "ticks": ""
            },
            "colorscale": [
             [
              0,
              "#0d0887"
             ],
             [
              0.1111111111111111,
              "#46039f"
             ],
             [
              0.2222222222222222,
              "#7201a8"
             ],
             [
              0.3333333333333333,
              "#9c179e"
             ],
             [
              0.4444444444444444,
              "#bd3786"
             ],
             [
              0.5555555555555556,
              "#d8576b"
             ],
             [
              0.6666666666666666,
              "#ed7953"
             ],
             [
              0.7777777777777778,
              "#fb9f3a"
             ],
             [
              0.8888888888888888,
              "#fdca26"
             ],
             [
              1,
              "#f0f921"
             ]
            ],
            "type": "heatmap"
           }
          ],
          "heatmapgl": [
           {
            "colorbar": {
             "outlinewidth": 0,
             "ticks": ""
            },
            "colorscale": [
             [
              0,
              "#0d0887"
             ],
             [
              0.1111111111111111,
              "#46039f"
             ],
             [
              0.2222222222222222,
              "#7201a8"
             ],
             [
              0.3333333333333333,
              "#9c179e"
             ],
             [
              0.4444444444444444,
              "#bd3786"
             ],
             [
              0.5555555555555556,
              "#d8576b"
             ],
             [
              0.6666666666666666,
              "#ed7953"
             ],
             [
              0.7777777777777778,
              "#fb9f3a"
             ],
             [
              0.8888888888888888,
              "#fdca26"
             ],
             [
              1,
              "#f0f921"
             ]
            ],
            "type": "heatmapgl"
           }
          ],
          "histogram": [
           {
            "marker": {
             "pattern": {
              "fillmode": "overlay",
              "size": 10,
              "solidity": 0.2
             }
            },
            "type": "histogram"
           }
          ],
          "histogram2d": [
           {
            "colorbar": {
             "outlinewidth": 0,
             "ticks": ""
            },
            "colorscale": [
             [
              0,
              "#0d0887"
             ],
             [
              0.1111111111111111,
              "#46039f"
             ],
             [
              0.2222222222222222,
              "#7201a8"
             ],
             [
              0.3333333333333333,
              "#9c179e"
             ],
             [
              0.4444444444444444,
              "#bd3786"
             ],
             [
              0.5555555555555556,
              "#d8576b"
             ],
             [
              0.6666666666666666,
              "#ed7953"
             ],
             [
              0.7777777777777778,
              "#fb9f3a"
             ],
             [
              0.8888888888888888,
              "#fdca26"
             ],
             [
              1,
              "#f0f921"
             ]
            ],
            "type": "histogram2d"
           }
          ],
          "histogram2dcontour": [
           {
            "colorbar": {
             "outlinewidth": 0,
             "ticks": ""
            },
            "colorscale": [
             [
              0,
              "#0d0887"
             ],
             [
              0.1111111111111111,
              "#46039f"
             ],
             [
              0.2222222222222222,
              "#7201a8"
             ],
             [
              0.3333333333333333,
              "#9c179e"
             ],
             [
              0.4444444444444444,
              "#bd3786"
             ],
             [
              0.5555555555555556,
              "#d8576b"
             ],
             [
              0.6666666666666666,
              "#ed7953"
             ],
             [
              0.7777777777777778,
              "#fb9f3a"
             ],
             [
              0.8888888888888888,
              "#fdca26"
             ],
             [
              1,
              "#f0f921"
             ]
            ],
            "type": "histogram2dcontour"
           }
          ],
          "mesh3d": [
           {
            "colorbar": {
             "outlinewidth": 0,
             "ticks": ""
            },
            "type": "mesh3d"
           }
          ],
          "parcoords": [
           {
            "line": {
             "colorbar": {
              "outlinewidth": 0,
              "ticks": ""
             }
            },
            "type": "parcoords"
           }
          ],
          "pie": [
           {
            "automargin": true,
            "type": "pie"
           }
          ],
          "scatter": [
           {
            "fillpattern": {
             "fillmode": "overlay",
             "size": 10,
             "solidity": 0.2
            },
            "type": "scatter"
           }
          ],
          "scatter3d": [
           {
            "line": {
             "colorbar": {
              "outlinewidth": 0,
              "ticks": ""
             }
            },
            "marker": {
             "colorbar": {
              "outlinewidth": 0,
              "ticks": ""
             }
            },
            "type": "scatter3d"
           }
          ],
          "scattercarpet": [
           {
            "marker": {
             "colorbar": {
              "outlinewidth": 0,
              "ticks": ""
             }
            },
            "type": "scattercarpet"
           }
          ],
          "scattergeo": [
           {
            "marker": {
             "colorbar": {
              "outlinewidth": 0,
              "ticks": ""
             }
            },
            "type": "scattergeo"
           }
          ],
          "scattergl": [
           {
            "marker": {
             "colorbar": {
              "outlinewidth": 0,
              "ticks": ""
             }
            },
            "type": "scattergl"
           }
          ],
          "scattermapbox": [
           {
            "marker": {
             "colorbar": {
              "outlinewidth": 0,
              "ticks": ""
             }
            },
            "type": "scattermapbox"
           }
          ],
          "scatterpolar": [
           {
            "marker": {
             "colorbar": {
              "outlinewidth": 0,
              "ticks": ""
             }
            },
            "type": "scatterpolar"
           }
          ],
          "scatterpolargl": [
           {
            "marker": {
             "colorbar": {
              "outlinewidth": 0,
              "ticks": ""
             }
            },
            "type": "scatterpolargl"
           }
          ],
          "scatterternary": [
           {
            "marker": {
             "colorbar": {
              "outlinewidth": 0,
              "ticks": ""
             }
            },
            "type": "scatterternary"
           }
          ],
          "surface": [
           {
            "colorbar": {
             "outlinewidth": 0,
             "ticks": ""
            },
            "colorscale": [
             [
              0,
              "#0d0887"
             ],
             [
              0.1111111111111111,
              "#46039f"
             ],
             [
              0.2222222222222222,
              "#7201a8"
             ],
             [
              0.3333333333333333,
              "#9c179e"
             ],
             [
              0.4444444444444444,
              "#bd3786"
             ],
             [
              0.5555555555555556,
              "#d8576b"
             ],
             [
              0.6666666666666666,
              "#ed7953"
             ],
             [
              0.7777777777777778,
              "#fb9f3a"
             ],
             [
              0.8888888888888888,
              "#fdca26"
             ],
             [
              1,
              "#f0f921"
             ]
            ],
            "type": "surface"
           }
          ],
          "table": [
           {
            "cells": {
             "fill": {
              "color": "#EBF0F8"
             },
             "line": {
              "color": "white"
             }
            },
            "header": {
             "fill": {
              "color": "#C8D4E3"
             },
             "line": {
              "color": "white"
             }
            },
            "type": "table"
           }
          ]
         },
         "layout": {
          "annotationdefaults": {
           "arrowcolor": "#2a3f5f",
           "arrowhead": 0,
           "arrowwidth": 1
          },
          "autotypenumbers": "strict",
          "coloraxis": {
           "colorbar": {
            "outlinewidth": 0,
            "ticks": ""
           }
          },
          "colorscale": {
           "diverging": [
            [
             0,
             "#8e0152"
            ],
            [
             0.1,
             "#c51b7d"
            ],
            [
             0.2,
             "#de77ae"
            ],
            [
             0.3,
             "#f1b6da"
            ],
            [
             0.4,
             "#fde0ef"
            ],
            [
             0.5,
             "#f7f7f7"
            ],
            [
             0.6,
             "#e6f5d0"
            ],
            [
             0.7,
             "#b8e186"
            ],
            [
             0.8,
             "#7fbc41"
            ],
            [
             0.9,
             "#4d9221"
            ],
            [
             1,
             "#276419"
            ]
           ],
           "sequential": [
            [
             0,
             "#0d0887"
            ],
            [
             0.1111111111111111,
             "#46039f"
            ],
            [
             0.2222222222222222,
             "#7201a8"
            ],
            [
             0.3333333333333333,
             "#9c179e"
            ],
            [
             0.4444444444444444,
             "#bd3786"
            ],
            [
             0.5555555555555556,
             "#d8576b"
            ],
            [
             0.6666666666666666,
             "#ed7953"
            ],
            [
             0.7777777777777778,
             "#fb9f3a"
            ],
            [
             0.8888888888888888,
             "#fdca26"
            ],
            [
             1,
             "#f0f921"
            ]
           ],
           "sequentialminus": [
            [
             0,
             "#0d0887"
            ],
            [
             0.1111111111111111,
             "#46039f"
            ],
            [
             0.2222222222222222,
             "#7201a8"
            ],
            [
             0.3333333333333333,
             "#9c179e"
            ],
            [
             0.4444444444444444,
             "#bd3786"
            ],
            [
             0.5555555555555556,
             "#d8576b"
            ],
            [
             0.6666666666666666,
             "#ed7953"
            ],
            [
             0.7777777777777778,
             "#fb9f3a"
            ],
            [
             0.8888888888888888,
             "#fdca26"
            ],
            [
             1,
             "#f0f921"
            ]
           ]
          },
          "colorway": [
           "#636efa",
           "#EF553B",
           "#00cc96",
           "#ab63fa",
           "#FFA15A",
           "#19d3f3",
           "#FF6692",
           "#B6E880",
           "#FF97FF",
           "#FECB52"
          ],
          "font": {
           "color": "#2a3f5f"
          },
          "geo": {
           "bgcolor": "white",
           "lakecolor": "white",
           "landcolor": "#E5ECF6",
           "showlakes": true,
           "showland": true,
           "subunitcolor": "white"
          },
          "hoverlabel": {
           "align": "left"
          },
          "hovermode": "closest",
          "mapbox": {
           "style": "light"
          },
          "paper_bgcolor": "white",
          "plot_bgcolor": "#E5ECF6",
          "polar": {
           "angularaxis": {
            "gridcolor": "white",
            "linecolor": "white",
            "ticks": ""
           },
           "bgcolor": "#E5ECF6",
           "radialaxis": {
            "gridcolor": "white",
            "linecolor": "white",
            "ticks": ""
           }
          },
          "scene": {
           "xaxis": {
            "backgroundcolor": "#E5ECF6",
            "gridcolor": "white",
            "gridwidth": 2,
            "linecolor": "white",
            "showbackground": true,
            "ticks": "",
            "zerolinecolor": "white"
           },
           "yaxis": {
            "backgroundcolor": "#E5ECF6",
            "gridcolor": "white",
            "gridwidth": 2,
            "linecolor": "white",
            "showbackground": true,
            "ticks": "",
            "zerolinecolor": "white"
           },
           "zaxis": {
            "backgroundcolor": "#E5ECF6",
            "gridcolor": "white",
            "gridwidth": 2,
            "linecolor": "white",
            "showbackground": true,
            "ticks": "",
            "zerolinecolor": "white"
           }
          },
          "shapedefaults": {
           "line": {
            "color": "#2a3f5f"
           }
          },
          "ternary": {
           "aaxis": {
            "gridcolor": "white",
            "linecolor": "white",
            "ticks": ""
           },
           "baxis": {
            "gridcolor": "white",
            "linecolor": "white",
            "ticks": ""
           },
           "bgcolor": "#E5ECF6",
           "caxis": {
            "gridcolor": "white",
            "linecolor": "white",
            "ticks": ""
           }
          },
          "title": {
           "x": 0.05
          },
          "xaxis": {
           "automargin": true,
           "gridcolor": "white",
           "linecolor": "white",
           "ticks": "",
           "title": {
            "standoff": 15
           },
           "zerolinecolor": "white",
           "zerolinewidth": 2
          },
          "yaxis": {
           "automargin": true,
           "gridcolor": "white",
           "linecolor": "white",
           "ticks": "",
           "title": {
            "standoff": 15
           },
           "zerolinecolor": "white",
           "zerolinewidth": 2
          }
         }
        },
        "title": {
         "font": {
          "color": "#D9D9D9"
         },
         "text": "Прогноз vs Реальные значения"
        },
        "xaxis": {
         "gridcolor": "#434343",
         "showgrid": true,
         "tickfont": {
          "color": "#C2C2C2"
         },
         "title": {
          "font": {
           "color": "#D9D9D9"
          },
          "text": "Время"
         },
         "zerolinecolor": "#666570"
        },
        "yaxis": {
         "gridcolor": "#434343",
         "showgrid": true,
         "tickfont": {
          "color": "#C2C2C2"
         },
         "title": {
          "font": {
           "color": "#D9D9D9"
          },
          "text": "Значение"
         },
         "zerolinecolor": "#666570"
        }
       }
      },
      "text/html": [
       "<div>                            <div id=\"4b3621dd-137a-472e-888e-dde9e2a72fcf\" class=\"plotly-graph-div\" style=\"height:525px; width:100%;\"></div>            <script type=\"text/javascript\">                require([\"plotly\"], function(Plotly) {                    window.PLOTLYENV=window.PLOTLYENV || {};\n",
       "                    window.PLOTLYENV.BASE_URL='https://plot.ly';                                    if (document.getElementById(\"4b3621dd-137a-472e-888e-dde9e2a72fcf\")) {                    Plotly.newPlot(                        \"4b3621dd-137a-472e-888e-dde9e2a72fcf\",                        [{\"line\":{\"color\":\"rgba(255, 153, 51, 1.0)\",\"dash\":\"solid\",\"shape\":\"linear\",\"width\":1.3},\"mode\":\"lines\",\"name\":\"Y_test\",\"text\":\"\",\"x\":[0,1,2,3,4,5,6,7,8,9,10,11,12,13,14,15,16,17,18,19,20,21,22,23,24,25,26,27,28,29,30,31,32,33,34,35,36,37,38,39,40,41,42,43,44,45,46,47,48,49,50,51,52,53,54,55,56,57,58,59,60,61,62,63,64,65,66,67,68,69,70,71,72,73,74,75,76,77,78,79,80,81,82,83,84,85,86,87,88,89,90,91,92,93,94,95,96,97,98,99,100,101,102,103,104,105,106,107,108,109,110,111,112,113,114,115,116,117,118,119,120,121,122,123,124,125,126,127,128,129,130,131,132,133,134,135,136,137,138,139,140,141,142,143,144,145,146,147,148,149,150,151,152,153,154,155,156,157,158,159,160,161,162,163,164,165,166,167,168,169,170,171,172,173,174,175,176,177,178,179,180,181,182,183,184,185,186,187,188,189,190,191,192,193,194,195,196,197,198,199,200,201,202,203,204,205,206,207,208,209,210,211,212,213,214,215,216,217,218,219,220,221,222,223,224,225,226,227,228,229,230,231,232,233,234,235,236,237,238,239,240,241,242,243,244,245,246,247,248,249,250,251,252,253,254,255,256,257,258,259,260,261,262,263,264,265,266,267,268,269,270,271,272,273,274,275,276,277,278,279,280,281,282,283,284,285,286,287,288,289,290,291],\"y\":[24.066666666666663,23.9375,26.3125,26.187499999999996,26.785714285714285,27.133333333333333,26.625,25.0625,26.2,28.133333333333333,29.875,24.666666666666668,26.25,25.93333333333333,27.125,29.571428571428573,30.0,30.571428571428573,32.3125,33.3125,32.8125,32.3125,31.375,29.933333333333334,29.266666666666666,30.73333333333333,32.25,29.8,30.2,31.75,33.125,33.625,35.6875,34.666666666666664,34.625,34.0,34.0625,34.0,33.25,31.916666666666668,31.3125,31.75,33.4375,33.125,34.15384615384615,34.07142857142857,33.0625,34.6875,38.0,35.49999999999999,33.714285714285715,30.6,31.4375,33.3125,35.13333333333333,33.53333333333333,34.0,32.5,35.375,37.294117647058826,36.5625,37.25,37.21428571428572,37.5,37.75,37.375,37.4,36.13333333333333,36.8,32.214285714285715,31.526315789473685,33.21739130434783,35.26923076923077,38.27272727272727,36.0625,31.5,26.8125,32.642857142857146,36.0,37.5625,37.5625,38.2,36.16666666666666,35.42857142857143,34.625,36.07142857142857,35.733333333333334,36.13333333333333,33.4375,35.49999999999999,36.0,32.625,34.733333333333334,33.5,34.1875,35.857142857142854,35.625,30.9375,32.875,33.125,33.84615384615385,36.4375,35.42857142857143,34.86666666666667,34.3125,30.785714285714285,35.375,35.46666666666667,32.125,28.4,29.5625,30.6875,33.25,33.266666666666666,33.5,30.8,33.25,32.5625,31.5,30.5,31.25,30.4375,31.0,27.125,28.125,27.666666666666668,32.3125,34.1875,34.13333333333333,34.125,31.875,31.4375,31.9375,30.3125,28.3125,29.53333333333333,27.375,27.33333333333333,29.266666666666666,29.125,30.6875,32.5625,33.111111111111114,33.8,30.066666666666663,33.11764705882353,33.80952380952381,31.615384615384617,32.0,28.107142857142858,29.035714285714285,30.321428571428573,28.933333333333334,31.678571428571427,31.33333333333333,29.928571428571427,29.88888888888889,32.07142857142857,33.18518518518518,31.59259259259259,32.18518518518518,31.48,30.178571428571427,31.52,31.22222222222222,31.785714285714285,33.4,29.571428571428573,30.04,27.25925925925926,27.96,30.73913043478261,30.894736842105264,31.692307692307693,31.07692307692308,30.375,31.1,31.916666666666668,30.55555555555556,31.23076923076923,31.0,31.642857142857142,32.53333333333333,30.857142857142858,31.727272727272727,31.4,32.30769230769231,32.25,32.375,33.44444444444444,33.36,30.03703703703704,31.0,31.24,31.130434782608692,31.48,32.18518518518518,32.44,32.22727272727273,32.214285714285715,32.541666666666664,32.81481481481482,33.26923076923077,30.55555555555556,28.83333333333333,30.703703703703702,30.96,30.6,30.92,29.77777777777778,29.666666666666668,29.571428571428573,29.96296296296296,29.75,27.74074074074074,28.428571428571427,28.6,28.5,28.925925925925927,29.07692307692308,28.40909090909091,29.33333333333333,27.5,28.5,28.04,27.57692307692308,26.55555555555556,25.51851851851852,25.814814814814813,24.82608695652174,24.53846153846154,24.384615384615383,23.727272727272727,25.64,24.814814814814813,23.115384615384617,22.925925925925927,24.545454545454547,23.73076923076923,23.0,23.51851851851852,23.92,23.53846153846154,24.296296296296298,23.346153846153847,22.24,21.769230769230774,21.73076923076923,21.73076923076923,20.666666666666668,22.25,21.53846153846154,22.57894736842105,22.82608695652174,21.42105263157895,23.6,24.294117647058822,23.63636363636364,22.454545454545453,21.61111111111111,19.869565217391305,19.75,19.20833333333333,21.20833333333333,18.9,18.63636363636364,18.53846153846154,18.25,16.9,19.416666666666668,16.444444444444443,20.041666666666668,19.90909090909091,19.05,18.55555555555556,18.166666666666668,15.833333333333334,17.5,16.083333333333332,17.857142857142858,19.8,18.05,17.285714285714285,15.550000000000002,17.318181818181817,14.0,17.142857142857142,16.85,17.217391304347824,15.238095238095237,14.095238095238097,15.05263157894737],\"type\":\"scatter\"},{\"line\":{\"color\":\"rgba(55, 128, 191, 1.0)\",\"dash\":\"solid\",\"shape\":\"linear\",\"width\":1.3},\"mode\":\"lines\",\"name\":\"Predictions\",\"text\":\"\",\"x\":[0,1,2,3,4,5,6,7,8,9,10,11,12,13,14,15,16,17,18,19,20,21,22,23,24,25,26,27,28,29,30,31,32,33,34,35,36,37,38,39,40,41,42,43,44,45,46,47,48,49,50,51,52,53,54,55,56,57,58,59,60,61,62,63,64,65,66,67,68,69,70,71,72,73,74,75,76,77,78,79,80,81,82,83,84,85,86,87,88,89,90,91,92,93,94,95,96,97,98,99,100,101,102,103,104,105,106,107,108,109,110,111,112,113,114,115,116,117,118,119,120,121,122,123,124,125,126,127,128,129,130,131,132,133,134,135,136,137,138,139,140,141,142,143,144,145,146,147,148,149,150,151,152,153,154,155,156,157,158,159,160,161,162,163,164,165,166,167,168,169,170,171,172,173,174,175,176,177,178,179,180,181,182,183,184,185,186,187,188,189,190,191,192,193,194,195,196,197,198,199,200,201,202,203,204,205,206,207,208,209,210,211,212,213,214,215,216,217,218,219,220,221,222,223,224,225,226,227,228,229,230,231,232,233,234,235,236,237,238,239,240,241,242,243,244,245,246,247,248,249,250,251,252,253,254,255,256,257,258,259,260,261,262,263,264,265,266,267,268,269,270,271,272,273,274,275,276,277,278,279,280,281,282,283,284,285,286,287,288,289,290,291],\"y\":[23.65647315979004,23.59314727783203,25.758344650268555,25.69032859802246,26.307716369628906,26.55393409729004,26.14815902709961,24.733184814453125,25.7401180267334,27.433401107788086,29.04422950744629,24.58958625793457,25.740034103393555,25.469881057739258,26.608354568481445,28.74217414855957,29.183137893676758,29.77982521057129,31.366788864135742,32.308921813964844,31.8956298828125,31.453907012939453,30.591501235961914,29.266210556030273,28.608125686645508,29.956253051757812,31.3054256439209,29.126209259033203,29.5015869140625,30.847896575927734,32.13117218017578,32.636009216308594,34.59321975708008,33.69330978393555,33.694095611572266,33.0357780456543,33.13861083984375,33.02996826171875,32.32438278198242,31.12350082397461,30.51458168029785,30.927289962768555,32.4337158203125,32.174041748046875,33.200927734375,33.08635330200195,32.16642761230469,33.68369674682617,36.78186798095703,34.65633010864258,32.96238708496094,29.969770431518555,30.660533905029297,32.303428649902344,34.02753829956055,32.64506912231445,33.09258270263672,31.651874542236328,34.26336669921875,36.1000862121582,35.55521774291992,36.309757232666016,36.23503875732422,36.53020477294922,36.78844451904297,36.418975830078125,36.46674346923828,35.182823181152344,35.853633880615234,31.495649337768555,30.83553695678711,32.27085876464844,34.15770721435547,37.079498291015625,35.16472244262695,30.8863468170166,26.763151168823242,31.09453773498535,34.204620361328125,36.34657287597656,36.56910705566406,37.24446487426758,35.28617477416992,34.56733703613281,33.69939422607422,35.06663513183594,34.71106719970703,35.16500473022461,32.627769470214844,34.50779342651367,34.924949645996094,31.824085235595703,33.75722122192383,32.57622146606445,33.24716567993164,34.788414001464844,34.58805847167969,30.262935638427734,31.963109970092773,32.122291564941406,32.86884307861328,35.29039764404297,34.412445068359375,33.941280364990234,33.38644790649414,30.084259033203125,34.03920364379883,34.2094841003418,31.327604293823242,27.946321487426758,28.86395835876465,29.872875213623047,32.1993408203125,32.246334075927734,32.55655288696289,30.050983428955078,32.26554489135742,31.631811141967773,30.71379852294922,29.763307571411133,30.444154739379883,29.6944522857666,30.2196102142334,26.646793365478516,27.515281677246094,27.105613708496094,31.096166610717773,32.82648468017578,33.10938262939453,33.16358947753906,31.108966827392578,30.674531936645508,31.105327606201172,29.603837966918945,27.800315856933594,28.85175132751465,26.862075805664062,26.824861526489258,28.56298065185547,28.430734634399414,29.911880493164062,31.58074188232422,32.113285064697266,32.82741165161133,29.394718170166016,32.06413650512695,32.680885314941406,30.859899520874023,31.196306228637695,27.552236557006836,28.378679275512695,29.53148651123047,28.33727264404297,30.745609283447266,30.456912994384766,29.27512550354004,29.192136764526367,31.14847183227539,32.15519332885742,30.80922508239746,31.346614837646484,30.650035858154297,29.493587493896484,30.68667221069336,30.39463996887207,30.964282989501953,32.40189743041992,28.983312606811523,29.354211807250977,26.72665023803711,27.396018981933594,29.815662384033203,30.023059844970703,30.842073440551758,30.27667808532715,29.641498565673828,30.314064025878906,31.029451370239258,29.8266544342041,30.438329696655273,30.17655372619629,30.829195022583008,31.6087589263916,30.12462615966797,30.908397674560547,30.558979034423828,31.4483585357666,31.34463882446289,31.497817993164062,32.4845085144043,32.396995544433594,29.34406852722168,30.238597869873047,30.396587371826172,30.302995681762695,30.667783737182617,31.288667678833008,31.53078269958496,31.32451820373535,31.35959815979004,31.651790618896484,31.887521743774414,32.31946563720703,29.81829261779785,28.300994873046875,29.90582847595215,30.104642868041992,29.80539894104004,30.156471252441406,29.085010528564453,28.97649383544922,28.896629333496094,29.26697540283203,29.01363754272461,27.249011993408203,27.84183692932129,27.94403076171875,27.894495010375977,28.317626953125,28.4027099609375,27.829612731933594,28.680309295654297,26.984874725341797,27.903003692626953,27.4582576751709,27.05984115600586,26.142759323120117,25.14631462097168,25.388792037963867,24.477733612060547,24.164764404296875,24.036945343017578,23.442535400390625,25.1435546875,24.43855094909668,22.824703216552734,22.61235809326172,24.142393112182617,23.41350555419922,22.711669921875,23.1811466217041,23.52617835998535,23.207365036010742,23.94013023376465,23.02645492553711,22.00071907043457,21.496944427490234,21.47924041748047,21.48395347595215,20.50345230102539,21.941837310791016,21.376005172729492,22.276269912719727,22.499032974243164,21.195571899414062,23.173494338989258,23.885284423828125,23.293733596801758,22.214380264282227,21.36996078491211,19.699831008911133,19.536901473999023,19.127864837646484,20.960811614990234,18.9378662109375,18.42405128479004,18.43593978881836,18.185867309570312,16.971433639526367,19.09193992614746,16.45400047302246,19.415298461914062,19.797338485717773,18.971370697021484,18.439783096313477,18.071372985839844,16.026378631591797,17.151851654052734,16.019834518432617,17.636337280273438,19.507516860961914,18.06203269958496,17.1739444732666,15.628161430358887,17.071382522583008,14.538372993469238,16.710023880004883,16.80548667907715,17.17194366455078,15.396440505981445,14.041172981262207,15.051712989807129],\"type\":\"scatter\"}],                        {\"legend\":{\"bgcolor\":\"#151516\",\"font\":{\"color\":\"#D9D9D9\"}},\"paper_bgcolor\":\"#151516\",\"plot_bgcolor\":\"#151516\",\"template\":{\"data\":{\"barpolar\":[{\"marker\":{\"line\":{\"color\":\"#E5ECF6\",\"width\":0.5},\"pattern\":{\"fillmode\":\"overlay\",\"size\":10,\"solidity\":0.2}},\"type\":\"barpolar\"}],\"bar\":[{\"error_x\":{\"color\":\"#2a3f5f\"},\"error_y\":{\"color\":\"#2a3f5f\"},\"marker\":{\"line\":{\"color\":\"#E5ECF6\",\"width\":0.5},\"pattern\":{\"fillmode\":\"overlay\",\"size\":10,\"solidity\":0.2}},\"type\":\"bar\"}],\"carpet\":[{\"aaxis\":{\"endlinecolor\":\"#2a3f5f\",\"gridcolor\":\"white\",\"linecolor\":\"white\",\"minorgridcolor\":\"white\",\"startlinecolor\":\"#2a3f5f\"},\"baxis\":{\"endlinecolor\":\"#2a3f5f\",\"gridcolor\":\"white\",\"linecolor\":\"white\",\"minorgridcolor\":\"white\",\"startlinecolor\":\"#2a3f5f\"},\"type\":\"carpet\"}],\"choropleth\":[{\"colorbar\":{\"outlinewidth\":0,\"ticks\":\"\"},\"type\":\"choropleth\"}],\"contourcarpet\":[{\"colorbar\":{\"outlinewidth\":0,\"ticks\":\"\"},\"type\":\"contourcarpet\"}],\"contour\":[{\"colorbar\":{\"outlinewidth\":0,\"ticks\":\"\"},\"colorscale\":[[0.0,\"#0d0887\"],[0.1111111111111111,\"#46039f\"],[0.2222222222222222,\"#7201a8\"],[0.3333333333333333,\"#9c179e\"],[0.4444444444444444,\"#bd3786\"],[0.5555555555555556,\"#d8576b\"],[0.6666666666666666,\"#ed7953\"],[0.7777777777777778,\"#fb9f3a\"],[0.8888888888888888,\"#fdca26\"],[1.0,\"#f0f921\"]],\"type\":\"contour\"}],\"heatmapgl\":[{\"colorbar\":{\"outlinewidth\":0,\"ticks\":\"\"},\"colorscale\":[[0.0,\"#0d0887\"],[0.1111111111111111,\"#46039f\"],[0.2222222222222222,\"#7201a8\"],[0.3333333333333333,\"#9c179e\"],[0.4444444444444444,\"#bd3786\"],[0.5555555555555556,\"#d8576b\"],[0.6666666666666666,\"#ed7953\"],[0.7777777777777778,\"#fb9f3a\"],[0.8888888888888888,\"#fdca26\"],[1.0,\"#f0f921\"]],\"type\":\"heatmapgl\"}],\"heatmap\":[{\"colorbar\":{\"outlinewidth\":0,\"ticks\":\"\"},\"colorscale\":[[0.0,\"#0d0887\"],[0.1111111111111111,\"#46039f\"],[0.2222222222222222,\"#7201a8\"],[0.3333333333333333,\"#9c179e\"],[0.4444444444444444,\"#bd3786\"],[0.5555555555555556,\"#d8576b\"],[0.6666666666666666,\"#ed7953\"],[0.7777777777777778,\"#fb9f3a\"],[0.8888888888888888,\"#fdca26\"],[1.0,\"#f0f921\"]],\"type\":\"heatmap\"}],\"histogram2dcontour\":[{\"colorbar\":{\"outlinewidth\":0,\"ticks\":\"\"},\"colorscale\":[[0.0,\"#0d0887\"],[0.1111111111111111,\"#46039f\"],[0.2222222222222222,\"#7201a8\"],[0.3333333333333333,\"#9c179e\"],[0.4444444444444444,\"#bd3786\"],[0.5555555555555556,\"#d8576b\"],[0.6666666666666666,\"#ed7953\"],[0.7777777777777778,\"#fb9f3a\"],[0.8888888888888888,\"#fdca26\"],[1.0,\"#f0f921\"]],\"type\":\"histogram2dcontour\"}],\"histogram2d\":[{\"colorbar\":{\"outlinewidth\":0,\"ticks\":\"\"},\"colorscale\":[[0.0,\"#0d0887\"],[0.1111111111111111,\"#46039f\"],[0.2222222222222222,\"#7201a8\"],[0.3333333333333333,\"#9c179e\"],[0.4444444444444444,\"#bd3786\"],[0.5555555555555556,\"#d8576b\"],[0.6666666666666666,\"#ed7953\"],[0.7777777777777778,\"#fb9f3a\"],[0.8888888888888888,\"#fdca26\"],[1.0,\"#f0f921\"]],\"type\":\"histogram2d\"}],\"histogram\":[{\"marker\":{\"pattern\":{\"fillmode\":\"overlay\",\"size\":10,\"solidity\":0.2}},\"type\":\"histogram\"}],\"mesh3d\":[{\"colorbar\":{\"outlinewidth\":0,\"ticks\":\"\"},\"type\":\"mesh3d\"}],\"parcoords\":[{\"line\":{\"colorbar\":{\"outlinewidth\":0,\"ticks\":\"\"}},\"type\":\"parcoords\"}],\"pie\":[{\"automargin\":true,\"type\":\"pie\"}],\"scatter3d\":[{\"line\":{\"colorbar\":{\"outlinewidth\":0,\"ticks\":\"\"}},\"marker\":{\"colorbar\":{\"outlinewidth\":0,\"ticks\":\"\"}},\"type\":\"scatter3d\"}],\"scattercarpet\":[{\"marker\":{\"colorbar\":{\"outlinewidth\":0,\"ticks\":\"\"}},\"type\":\"scattercarpet\"}],\"scattergeo\":[{\"marker\":{\"colorbar\":{\"outlinewidth\":0,\"ticks\":\"\"}},\"type\":\"scattergeo\"}],\"scattergl\":[{\"marker\":{\"colorbar\":{\"outlinewidth\":0,\"ticks\":\"\"}},\"type\":\"scattergl\"}],\"scattermapbox\":[{\"marker\":{\"colorbar\":{\"outlinewidth\":0,\"ticks\":\"\"}},\"type\":\"scattermapbox\"}],\"scatterpolargl\":[{\"marker\":{\"colorbar\":{\"outlinewidth\":0,\"ticks\":\"\"}},\"type\":\"scatterpolargl\"}],\"scatterpolar\":[{\"marker\":{\"colorbar\":{\"outlinewidth\":0,\"ticks\":\"\"}},\"type\":\"scatterpolar\"}],\"scatter\":[{\"fillpattern\":{\"fillmode\":\"overlay\",\"size\":10,\"solidity\":0.2},\"type\":\"scatter\"}],\"scatterternary\":[{\"marker\":{\"colorbar\":{\"outlinewidth\":0,\"ticks\":\"\"}},\"type\":\"scatterternary\"}],\"surface\":[{\"colorbar\":{\"outlinewidth\":0,\"ticks\":\"\"},\"colorscale\":[[0.0,\"#0d0887\"],[0.1111111111111111,\"#46039f\"],[0.2222222222222222,\"#7201a8\"],[0.3333333333333333,\"#9c179e\"],[0.4444444444444444,\"#bd3786\"],[0.5555555555555556,\"#d8576b\"],[0.6666666666666666,\"#ed7953\"],[0.7777777777777778,\"#fb9f3a\"],[0.8888888888888888,\"#fdca26\"],[1.0,\"#f0f921\"]],\"type\":\"surface\"}],\"table\":[{\"cells\":{\"fill\":{\"color\":\"#EBF0F8\"},\"line\":{\"color\":\"white\"}},\"header\":{\"fill\":{\"color\":\"#C8D4E3\"},\"line\":{\"color\":\"white\"}},\"type\":\"table\"}]},\"layout\":{\"annotationdefaults\":{\"arrowcolor\":\"#2a3f5f\",\"arrowhead\":0,\"arrowwidth\":1},\"autotypenumbers\":\"strict\",\"coloraxis\":{\"colorbar\":{\"outlinewidth\":0,\"ticks\":\"\"}},\"colorscale\":{\"diverging\":[[0,\"#8e0152\"],[0.1,\"#c51b7d\"],[0.2,\"#de77ae\"],[0.3,\"#f1b6da\"],[0.4,\"#fde0ef\"],[0.5,\"#f7f7f7\"],[0.6,\"#e6f5d0\"],[0.7,\"#b8e186\"],[0.8,\"#7fbc41\"],[0.9,\"#4d9221\"],[1,\"#276419\"]],\"sequential\":[[0.0,\"#0d0887\"],[0.1111111111111111,\"#46039f\"],[0.2222222222222222,\"#7201a8\"],[0.3333333333333333,\"#9c179e\"],[0.4444444444444444,\"#bd3786\"],[0.5555555555555556,\"#d8576b\"],[0.6666666666666666,\"#ed7953\"],[0.7777777777777778,\"#fb9f3a\"],[0.8888888888888888,\"#fdca26\"],[1.0,\"#f0f921\"]],\"sequentialminus\":[[0.0,\"#0d0887\"],[0.1111111111111111,\"#46039f\"],[0.2222222222222222,\"#7201a8\"],[0.3333333333333333,\"#9c179e\"],[0.4444444444444444,\"#bd3786\"],[0.5555555555555556,\"#d8576b\"],[0.6666666666666666,\"#ed7953\"],[0.7777777777777778,\"#fb9f3a\"],[0.8888888888888888,\"#fdca26\"],[1.0,\"#f0f921\"]]},\"colorway\":[\"#636efa\",\"#EF553B\",\"#00cc96\",\"#ab63fa\",\"#FFA15A\",\"#19d3f3\",\"#FF6692\",\"#B6E880\",\"#FF97FF\",\"#FECB52\"],\"font\":{\"color\":\"#2a3f5f\"},\"geo\":{\"bgcolor\":\"white\",\"lakecolor\":\"white\",\"landcolor\":\"#E5ECF6\",\"showlakes\":true,\"showland\":true,\"subunitcolor\":\"white\"},\"hoverlabel\":{\"align\":\"left\"},\"hovermode\":\"closest\",\"mapbox\":{\"style\":\"light\"},\"paper_bgcolor\":\"white\",\"plot_bgcolor\":\"#E5ECF6\",\"polar\":{\"angularaxis\":{\"gridcolor\":\"white\",\"linecolor\":\"white\",\"ticks\":\"\"},\"bgcolor\":\"#E5ECF6\",\"radialaxis\":{\"gridcolor\":\"white\",\"linecolor\":\"white\",\"ticks\":\"\"}},\"scene\":{\"xaxis\":{\"backgroundcolor\":\"#E5ECF6\",\"gridcolor\":\"white\",\"gridwidth\":2,\"linecolor\":\"white\",\"showbackground\":true,\"ticks\":\"\",\"zerolinecolor\":\"white\"},\"yaxis\":{\"backgroundcolor\":\"#E5ECF6\",\"gridcolor\":\"white\",\"gridwidth\":2,\"linecolor\":\"white\",\"showbackground\":true,\"ticks\":\"\",\"zerolinecolor\":\"white\"},\"zaxis\":{\"backgroundcolor\":\"#E5ECF6\",\"gridcolor\":\"white\",\"gridwidth\":2,\"linecolor\":\"white\",\"showbackground\":true,\"ticks\":\"\",\"zerolinecolor\":\"white\"}},\"shapedefaults\":{\"line\":{\"color\":\"#2a3f5f\"}},\"ternary\":{\"aaxis\":{\"gridcolor\":\"white\",\"linecolor\":\"white\",\"ticks\":\"\"},\"baxis\":{\"gridcolor\":\"white\",\"linecolor\":\"white\",\"ticks\":\"\"},\"bgcolor\":\"#E5ECF6\",\"caxis\":{\"gridcolor\":\"white\",\"linecolor\":\"white\",\"ticks\":\"\"}},\"title\":{\"x\":0.05},\"xaxis\":{\"automargin\":true,\"gridcolor\":\"white\",\"linecolor\":\"white\",\"ticks\":\"\",\"title\":{\"standoff\":15},\"zerolinecolor\":\"white\",\"zerolinewidth\":2},\"yaxis\":{\"automargin\":true,\"gridcolor\":\"white\",\"linecolor\":\"white\",\"ticks\":\"\",\"title\":{\"standoff\":15},\"zerolinecolor\":\"white\",\"zerolinewidth\":2}}},\"title\":{\"font\":{\"color\":\"#D9D9D9\"},\"text\":\"\\u041f\\u0440\\u043e\\u0433\\u043d\\u043e\\u0437 vs \\u0420\\u0435\\u0430\\u043b\\u044c\\u043d\\u044b\\u0435 \\u0437\\u043d\\u0430\\u0447\\u0435\\u043d\\u0438\\u044f\"},\"xaxis\":{\"gridcolor\":\"#434343\",\"showgrid\":true,\"tickfont\":{\"color\":\"#C2C2C2\"},\"title\":{\"font\":{\"color\":\"#D9D9D9\"},\"text\":\"\\u0412\\u0440\\u0435\\u043c\\u044f\"},\"zerolinecolor\":\"#666570\"},\"yaxis\":{\"gridcolor\":\"#434343\",\"showgrid\":true,\"tickfont\":{\"color\":\"#C2C2C2\"},\"title\":{\"font\":{\"color\":\"#D9D9D9\"},\"text\":\"\\u0417\\u043d\\u0430\\u0447\\u0435\\u043d\\u0438\\u0435\"},\"zerolinecolor\":\"#666570\"}},                        {\"showLink\": true, \"linkText\": \"Export to plot.ly\", \"plotlyServerURL\": \"https://plot.ly\", \"responsive\": true}                    ).then(function(){\n",
       "                            \n",
       "var gd = document.getElementById('4b3621dd-137a-472e-888e-dde9e2a72fcf');\n",
       "var x = new MutationObserver(function (mutations, observer) {{\n",
       "        var display = window.getComputedStyle(gd).display;\n",
       "        if (!display || display === 'none') {{\n",
       "            console.log([gd, 'removed!']);\n",
       "            Plotly.purge(gd);\n",
       "            observer.disconnect();\n",
       "        }}\n",
       "}});\n",
       "\n",
       "// Listen for the removal of the full notebook cells\n",
       "var notebookContainer = gd.closest('#notebook-container');\n",
       "if (notebookContainer) {{\n",
       "    x.observe(notebookContainer, {childList: true});\n",
       "}}\n",
       "\n",
       "// Listen for the clearing of the current output cell\n",
       "var outputEl = gd.closest('.output');\n",
       "if (outputEl) {{\n",
       "    x.observe(outputEl, {childList: true});\n",
       "}}\n",
       "\n",
       "                        })                };                });            </script>        </div>"
      ]
     },
     "metadata": {},
     "output_type": "display_data"
    }
   ],
   "source": [
    "predictions = model.predict(x_test)\n",
    "predicted_power = scaler.inverse_transform(predictions) \n",
    "\n",
    "y_test_inv = scaler.inverse_transform(y_test.reshape(-1, 1))\n",
    "predictions_inv = scaler.inverse_transform(predictions)\n",
    "df_test = pd.DataFrame({\n",
    "    'Y_test': y_test_inv.ravel(),\n",
    "    'Predictions': predictions_inv.ravel()\n",
    "})\n",
    "# Отобразить на графике\n",
    "df_test.iplot(title=\"Прогноз vs Реальные значения\", xTitle=\"Время\", yTitle=\"Значение\", theme=\"solar\")"
   ]
  },
  {
   "cell_type": "code",
   "execution_count": 20,
   "metadata": {},
   "outputs": [
    {
     "name": "stdout",
     "output_type": "stream",
     "text": [
      "MAPE: 2.248411817464157%\n",
      "MAE: 0.6947393462323816\n"
     ]
    }
   ],
   "source": [
    "from sklearn.metrics import mean_absolute_error\n",
    "def mean_absolute_percentage_error(y_true, y_pred):\n",
    "    y_true, y_pred = np.array(y_true), np.array(y_pred)\n",
    "    return np.mean(np.abs((y_true - y_pred+0.001) / (y_true+0.001))) * 100\n",
    "mape = mean_absolute_percentage_error(y_test_inv, predictions_inv)\n",
    "mae = mean_absolute_error(y_test_inv, predictions_inv)\n",
    "print(f\"MAPE: {mape}%\")\n",
    "print(f\"MAE: {mae}\")"
   ]
  },
  {
   "cell_type": "code",
   "execution_count": 13,
   "metadata": {},
   "outputs": [
    {
     "name": "stderr",
     "output_type": "stream",
     "text": [
      "[I 2024-08-20 11:06:54,491] A new study created in memory with name: no-name-7e3945d9-74ad-4da0-a224-2cc28c26687f\n"
     ]
    },
    {
     "name": "stdout",
     "output_type": "stream",
     "text": [
      "10/10 [==============================] - 3s 23ms/step\n"
     ]
    },
    {
     "name": "stderr",
     "output_type": "stream",
     "text": [
      "[I 2024-08-20 11:07:07,542] Trial 0 finished with value: 0.8940414714220432 and parameters: {'n_units_1': 83, 'n_units_2': 91, 'n_units_3': 88, 'batch_size': 121}. Best is trial 0 with value: 0.8940414714220432.\n"
     ]
    },
    {
     "name": "stdout",
     "output_type": "stream",
     "text": [
      "10/10 [==============================] - 1s 4ms/step\n"
     ]
    },
    {
     "name": "stderr",
     "output_type": "stream",
     "text": [
      "[I 2024-08-20 11:07:27,653] Trial 1 finished with value: 0.24400145592006145 and parameters: {'n_units_1': 12, 'n_units_2': 63, 'n_units_3': 18, 'batch_size': 55}. Best is trial 1 with value: 0.24400145592006145.\n"
     ]
    },
    {
     "name": "stdout",
     "output_type": "stream",
     "text": [
      "10/10 [==============================] - 1s 11ms/step\n"
     ]
    },
    {
     "name": "stderr",
     "output_type": "stream",
     "text": [
      "[I 2024-08-20 11:07:39,113] Trial 2 finished with value: 1.0418929432213515 and parameters: {'n_units_1': 10, 'n_units_2': 33, 'n_units_3': 78, 'batch_size': 56}. Best is trial 1 with value: 0.24400145592006145.\n"
     ]
    },
    {
     "name": "stdout",
     "output_type": "stream",
     "text": [
      "10/10 [==============================] - 1s 4ms/step\n"
     ]
    },
    {
     "name": "stderr",
     "output_type": "stream",
     "text": [
      "[I 2024-08-20 11:07:52,930] Trial 3 finished with value: 3.278369262386779 and parameters: {'n_units_1': 10, 'n_units_2': 12, 'n_units_3': 51, 'batch_size': 74}. Best is trial 1 with value: 0.24400145592006145.\n"
     ]
    },
    {
     "name": "stdout",
     "output_type": "stream",
     "text": [
      "10/10 [==============================] - 1s 4ms/step\n"
     ]
    },
    {
     "name": "stderr",
     "output_type": "stream",
     "text": [
      "[I 2024-08-20 11:08:02,514] Trial 4 finished with value: 1.269420218917212 and parameters: {'n_units_1': 27, 'n_units_2': 34, 'n_units_3': 73, 'batch_size': 96}. Best is trial 1 with value: 0.24400145592006145.\n"
     ]
    },
    {
     "name": "stdout",
     "output_type": "stream",
     "text": [
      "10/10 [==============================] - 1s 4ms/step\n"
     ]
    },
    {
     "name": "stderr",
     "output_type": "stream",
     "text": [
      "[I 2024-08-20 11:08:18,788] Trial 5 finished with value: 0.4474724752140662 and parameters: {'n_units_1': 10, 'n_units_2': 47, 'n_units_3': 10, 'batch_size': 112}. Best is trial 1 with value: 0.24400145592006145.\n"
     ]
    },
    {
     "name": "stdout",
     "output_type": "stream",
     "text": [
      "10/10 [==============================] - 1s 5ms/step\n"
     ]
    },
    {
     "name": "stderr",
     "output_type": "stream",
     "text": [
      "[I 2024-08-20 11:08:25,634] Trial 6 finished with value: 2.624346361294299 and parameters: {'n_units_1': 47, 'n_units_2': 29, 'n_units_3': 87, 'batch_size': 104}. Best is trial 1 with value: 0.24400145592006145.\n"
     ]
    },
    {
     "name": "stdout",
     "output_type": "stream",
     "text": [
      "10/10 [==============================] - 1s 7ms/step\n"
     ]
    },
    {
     "name": "stderr",
     "output_type": "stream",
     "text": [
      "[I 2024-08-20 11:08:35,774] Trial 7 finished with value: 1.7943897518515721 and parameters: {'n_units_1': 100, 'n_units_2': 61, 'n_units_3': 49, 'batch_size': 64}. Best is trial 1 with value: 0.24400145592006145.\n"
     ]
    },
    {
     "name": "stdout",
     "output_type": "stream",
     "text": [
      "10/10 [==============================] - 1s 5ms/step\n"
     ]
    },
    {
     "name": "stderr",
     "output_type": "stream",
     "text": [
      "[I 2024-08-20 11:08:53,690] Trial 8 finished with value: 0.46453417312899964 and parameters: {'n_units_1': 54, 'n_units_2': 86, 'n_units_3': 76, 'batch_size': 70}. Best is trial 1 with value: 0.24400145592006145.\n"
     ]
    },
    {
     "name": "stdout",
     "output_type": "stream",
     "text": [
      "10/10 [==============================] - 1s 8ms/step\n"
     ]
    },
    {
     "name": "stderr",
     "output_type": "stream",
     "text": [
      "[I 2024-08-20 11:09:03,795] Trial 9 finished with value: 0.8837844619979344 and parameters: {'n_units_1': 16, 'n_units_2': 92, 'n_units_3': 70, 'batch_size': 111}. Best is trial 1 with value: 0.24400145592006145.\n"
     ]
    },
    {
     "name": "stdout",
     "output_type": "stream",
     "text": [
      "10/10 [==============================] - 1s 7ms/step\n"
     ]
    },
    {
     "name": "stderr",
     "output_type": "stream",
     "text": [
      "[I 2024-08-20 11:09:26,956] Trial 10 finished with value: 0.35717375656903555 and parameters: {'n_units_1': 38, 'n_units_2': 70, 'n_units_3': 12, 'batch_size': 18}. Best is trial 1 with value: 0.24400145592006145.\n"
     ]
    },
    {
     "name": "stdout",
     "output_type": "stream",
     "text": [
      "10/10 [==============================] - 1s 5ms/step\n"
     ]
    },
    {
     "name": "stderr",
     "output_type": "stream",
     "text": [
      "[I 2024-08-20 11:09:55,187] Trial 11 finished with value: 0.2865089395002175 and parameters: {'n_units_1': 39, 'n_units_2': 69, 'n_units_3': 13, 'batch_size': 17}. Best is trial 1 with value: 0.24400145592006145.\n"
     ]
    },
    {
     "name": "stdout",
     "output_type": "stream",
     "text": [
      "10/10 [==============================] - 1s 6ms/step\n"
     ]
    },
    {
     "name": "stderr",
     "output_type": "stream",
     "text": [
      "[I 2024-08-20 11:10:12,706] Trial 12 finished with value: 0.6726594255272522 and parameters: {'n_units_1': 72, 'n_units_2': 69, 'n_units_3': 30, 'batch_size': 28}. Best is trial 1 with value: 0.24400145592006145.\n"
     ]
    },
    {
     "name": "stdout",
     "output_type": "stream",
     "text": [
      "10/10 [==============================] - 2s 7ms/step\n"
     ]
    },
    {
     "name": "stderr",
     "output_type": "stream",
     "text": [
      "[I 2024-08-20 11:10:33,334] Trial 13 finished with value: 0.41089936617900585 and parameters: {'n_units_1': 35, 'n_units_2': 75, 'n_units_3': 30, 'batch_size': 40}. Best is trial 1 with value: 0.24400145592006145.\n"
     ]
    },
    {
     "name": "stdout",
     "output_type": "stream",
     "text": [
      "10/10 [==============================] - 1s 8ms/step\n"
     ]
    },
    {
     "name": "stderr",
     "output_type": "stream",
     "text": [
      "[I 2024-08-20 11:10:43,582] Trial 14 finished with value: 1.4310893342316375 and parameters: {'n_units_1': 68, 'n_units_2': 49, 'n_units_3': 27, 'batch_size': 42}. Best is trial 1 with value: 0.24400145592006145.\n"
     ]
    },
    {
     "name": "stdout",
     "output_type": "stream",
     "text": [
      "10/10 [==============================] - 1s 5ms/step\n"
     ]
    },
    {
     "name": "stderr",
     "output_type": "stream",
     "text": [
      "[I 2024-08-20 11:11:07,511] Trial 15 finished with value: 0.42612068393052155 and parameters: {'n_units_1': 26, 'n_units_2': 59, 'n_units_3': 21, 'batch_size': 85}. Best is trial 1 with value: 0.24400145592006145.\n"
     ]
    },
    {
     "name": "stdout",
     "output_type": "stream",
     "text": [
      "10/10 [==============================] - 1s 6ms/step\n"
     ]
    },
    {
     "name": "stderr",
     "output_type": "stream",
     "text": [
      "[I 2024-08-20 11:11:24,562] Trial 16 finished with value: 0.49416331917189055 and parameters: {'n_units_1': 43, 'n_units_2': 81, 'n_units_3': 42, 'batch_size': 46}. Best is trial 1 with value: 0.24400145592006145.\n"
     ]
    },
    {
     "name": "stdout",
     "output_type": "stream",
     "text": [
      "10/10 [==============================] - 1s 5ms/step\n"
     ]
    },
    {
     "name": "stderr",
     "output_type": "stream",
     "text": [
      "[I 2024-08-20 11:11:54,400] Trial 17 finished with value: 0.09860592999526686 and parameters: {'n_units_1': 29, 'n_units_2': 100, 'n_units_3': 41, 'batch_size': 19}. Best is trial 17 with value: 0.09860592999526686.\n"
     ]
    },
    {
     "name": "stdout",
     "output_type": "stream",
     "text": [
      "10/10 [==============================] - 1s 14ms/step\n"
     ]
    },
    {
     "name": "stderr",
     "output_type": "stream",
     "text": [
      "[I 2024-08-20 11:12:19,301] Trial 18 finished with value: 0.309672516047027 and parameters: {'n_units_1': 23, 'n_units_2': 99, 'n_units_3': 38, 'batch_size': 33}. Best is trial 17 with value: 0.09860592999526686.\n"
     ]
    },
    {
     "name": "stdout",
     "output_type": "stream",
     "text": [
      "10/10 [==============================] - 1s 6ms/step\n"
     ]
    },
    {
     "name": "stderr",
     "output_type": "stream",
     "text": [
      "[I 2024-08-20 11:12:28,594] Trial 19 finished with value: 4.691112352642891 and parameters: {'n_units_1': 22, 'n_units_2': 13, 'n_units_3': 59, 'batch_size': 49}. Best is trial 17 with value: 0.09860592999526686.\n"
     ]
    },
    {
     "name": "stdout",
     "output_type": "stream",
     "text": [
      "Best hyperparameters: {'n_units_1': 29, 'n_units_2': 100, 'n_units_3': 41, 'batch_size': 19}\n",
      "Best score: 0.09860592999526686\n"
     ]
    }
   ],
   "source": [
    "import optuna \n",
    "from tensorflow.keras.callbacks import EarlyStopping\n",
    "\n",
    "\n",
    "def create_model(trial):\n",
    "    model = Sequential()\n",
    "\n",
    "    n_units_1 = trial.suggest_int('n_units_1', 10, 100)\n",
    "    n_units_2 = trial.suggest_int('n_units_2', 10, 100)\n",
    "    n_units_3 = trial.suggest_int('n_units_3', 10, 100)\n",
    "    \n",
    "    model.add(SimpleRNN(n_units_1, activation='relu', input_shape=(x_train.shape[1], 1), return_sequences=True))\n",
    "    model.add(SimpleRNN(n_units_2, activation='relu', return_sequences=True))\n",
    "    model.add(Dropout(0.2)),\n",
    "    model.add(AttentionMechanism(return_sequences=True)),\n",
    "    model.add(SimpleRNN(n_units_3, activation='relu'))\n",
    "    model.add(Dense(1))\n",
    "    model.compile(optimizer='adam', loss='mean_absolute_error')\n",
    "    \n",
    "    return model\n",
    "\n",
    "def objective(trial):\n",
    "    # Создание модели\n",
    "    model = create_model(trial)\n",
    "    \n",
    "    # Обучение модели\n",
    "    early_stopping = EarlyStopping(monitor='val_loss', patience=5)\n",
    "    history = model.fit(\n",
    "        x_train, y_train,\n",
    "        epochs=100,\n",
    "        batch_size=trial.suggest_int('batch_size', 16, 128),\n",
    "        validation_data=(x_test, y_test),\n",
    "        callbacks=[early_stopping],\n",
    "        verbose=0\n",
    "    )\n",
    "    \n",
    "    # Оценка модели\n",
    "    Y_pred = model.predict(x_test)\n",
    "    predicted_power = scaler.inverse_transform(Y_pred)\n",
    "    y_test_inv = scaler.inverse_transform(y_test.reshape(-1, 1))\n",
    "    score = mean_absolute_error(y_test_inv, predicted_power)\n",
    "    \n",
    "    return score\n",
    "\n",
    "\n",
    "study = optuna.create_study(direction='minimize')\n",
    "study.optimize(objective, n_trials=20)\n",
    "\n",
    "# Вывод наилучших гиперпараметров\n",
    "print(\"Best hyperparameters:\", study.best_params)\n",
    "print(\"Best score:\", study.best_value)"
   ]
  },
  {
   "cell_type": "code",
   "execution_count": 14,
   "metadata": {},
   "outputs": [
    {
     "name": "stdout",
     "output_type": "stream",
     "text": [
      "Epoch 1/100\n",
      "62/62 [==============================] - 11s 70ms/step - loss: 0.1276 - val_loss: 0.0397\n",
      "Epoch 2/100\n",
      "62/62 [==============================] - 3s 41ms/step - loss: 0.0463 - val_loss: 0.0393\n",
      "Epoch 3/100\n",
      "62/62 [==============================] - 2s 39ms/step - loss: 0.0371 - val_loss: 0.0164\n",
      "Epoch 4/100\n",
      "62/62 [==============================] - 2s 35ms/step - loss: 0.0301 - val_loss: 0.0072\n",
      "Epoch 5/100\n",
      "62/62 [==============================] - 2s 34ms/step - loss: 0.0252 - val_loss: 0.0303\n",
      "Epoch 6/100\n",
      "62/62 [==============================] - 2s 33ms/step - loss: 0.0252 - val_loss: 0.0073\n",
      "Epoch 7/100\n",
      "62/62 [==============================] - 2s 33ms/step - loss: 0.0215 - val_loss: 0.0201\n",
      "Epoch 8/100\n",
      "62/62 [==============================] - 2s 40ms/step - loss: 0.0201 - val_loss: 0.0053\n",
      "Epoch 9/100\n",
      "62/62 [==============================] - 2s 37ms/step - loss: 0.0210 - val_loss: 0.0116\n",
      "Epoch 10/100\n",
      "62/62 [==============================] - 3s 48ms/step - loss: 0.0231 - val_loss: 0.0310\n",
      "Epoch 11/100\n",
      "62/62 [==============================] - 2s 35ms/step - loss: 0.0190 - val_loss: 0.0080\n",
      "Epoch 12/100\n",
      "62/62 [==============================] - 2s 37ms/step - loss: 0.0228 - val_loss: 0.0112\n",
      "Epoch 13/100\n",
      "62/62 [==============================] - 2s 26ms/step - loss: 0.0170 - val_loss: 0.0067\n",
      "Epoch 14/100\n",
      "62/62 [==============================] - 2s 30ms/step - loss: 0.0172 - val_loss: 0.0044\n",
      "Epoch 15/100\n",
      "62/62 [==============================] - 2s 37ms/step - loss: 0.0200 - val_loss: 0.0103\n",
      "Epoch 16/100\n",
      "62/62 [==============================] - 2s 24ms/step - loss: 0.0159 - val_loss: 0.0037\n",
      "Epoch 17/100\n",
      "62/62 [==============================] - 2s 30ms/step - loss: 0.0170 - val_loss: 0.0360\n",
      "Epoch 18/100\n",
      "62/62 [==============================] - 2s 31ms/step - loss: 0.0162 - val_loss: 0.0222\n",
      "Epoch 19/100\n",
      "62/62 [==============================] - 2s 25ms/step - loss: 0.0164 - val_loss: 0.0108\n",
      "Epoch 20/100\n",
      "62/62 [==============================] - 2s 32ms/step - loss: 0.0147 - val_loss: 0.0239\n",
      "Epoch 21/100\n",
      "62/62 [==============================] - 2s 33ms/step - loss: 0.0162 - val_loss: 0.0059\n",
      "Epoch 22/100\n",
      "62/62 [==============================] - 2s 33ms/step - loss: 0.0164 - val_loss: 0.0123\n",
      "Epoch 23/100\n",
      "62/62 [==============================] - 2s 26ms/step - loss: 0.0159 - val_loss: 0.0104\n",
      "Epoch 24/100\n",
      "62/62 [==============================] - 2s 30ms/step - loss: 0.0146 - val_loss: 0.0166\n",
      "Epoch 25/100\n",
      "62/62 [==============================] - 2s 26ms/step - loss: 0.0167 - val_loss: 0.0049\n",
      "Epoch 26/100\n",
      "62/62 [==============================] - 2s 33ms/step - loss: 0.0133 - val_loss: 0.0072\n",
      "Epoch 27/100\n",
      "62/62 [==============================] - 2s 24ms/step - loss: 0.0150 - val_loss: 0.0080\n",
      "Epoch 28/100\n",
      "62/62 [==============================] - 2s 26ms/step - loss: 0.0143 - val_loss: 0.0348\n",
      "Epoch 29/100\n",
      "62/62 [==============================] - 2s 30ms/step - loss: 0.0138 - val_loss: 0.0193\n",
      "Epoch 30/100\n",
      "62/62 [==============================] - 2s 25ms/step - loss: 0.0146 - val_loss: 0.0161\n",
      "Epoch 31/100\n",
      "62/62 [==============================] - 2s 28ms/step - loss: 0.0136 - val_loss: 0.0038\n",
      "Epoch 32/100\n",
      "62/62 [==============================] - 2s 31ms/step - loss: 0.0134 - val_loss: 0.0107\n",
      "Epoch 33/100\n",
      "62/62 [==============================] - 2s 30ms/step - loss: 0.0129 - val_loss: 0.0068\n",
      "Epoch 34/100\n",
      "62/62 [==============================] - 2s 26ms/step - loss: 0.0127 - val_loss: 0.0064\n",
      "Epoch 35/100\n",
      "62/62 [==============================] - 2s 33ms/step - loss: 0.0124 - val_loss: 0.0091\n",
      "Epoch 36/100\n",
      "62/62 [==============================] - 2s 27ms/step - loss: 0.0119 - val_loss: 0.0042\n",
      "Epoch 37/100\n",
      "62/62 [==============================] - 2s 27ms/step - loss: 0.0120 - val_loss: 0.0084\n",
      "Epoch 38/100\n",
      "62/62 [==============================] - 2s 30ms/step - loss: 0.0129 - val_loss: 0.0136\n",
      "Epoch 39/100\n",
      "62/62 [==============================] - 2s 36ms/step - loss: 0.0151 - val_loss: 0.0055\n",
      "Epoch 40/100\n",
      "62/62 [==============================] - 2s 34ms/step - loss: 0.0142 - val_loss: 0.0256\n",
      "Epoch 41/100\n",
      "62/62 [==============================] - 2s 25ms/step - loss: 0.0121 - val_loss: 0.0146\n",
      "Epoch 42/100\n",
      "62/62 [==============================] - 2s 36ms/step - loss: 0.0140 - val_loss: 0.0050\n",
      "Epoch 43/100\n",
      "62/62 [==============================] - 2s 39ms/step - loss: 0.0128 - val_loss: 0.0056\n",
      "Epoch 44/100\n",
      "62/62 [==============================] - 2s 36ms/step - loss: 0.0111 - val_loss: 0.0172\n",
      "Epoch 45/100\n",
      "62/62 [==============================] - 3s 42ms/step - loss: 0.0133 - val_loss: 0.0129\n",
      "Epoch 46/100\n",
      "62/62 [==============================] - 2s 32ms/step - loss: 0.0114 - val_loss: 0.0034\n",
      "Epoch 47/100\n",
      "62/62 [==============================] - 2s 38ms/step - loss: 0.0129 - val_loss: 0.0225\n",
      "Epoch 48/100\n",
      "62/62 [==============================] - 2s 32ms/step - loss: 0.0128 - val_loss: 0.0214\n",
      "Epoch 49/100\n",
      "62/62 [==============================] - 2s 35ms/step - loss: 0.0115 - val_loss: 0.0090\n",
      "Epoch 50/100\n",
      "62/62 [==============================] - 2s 28ms/step - loss: 0.0110 - val_loss: 0.0050\n",
      "Epoch 51/100\n",
      "62/62 [==============================] - 2s 31ms/step - loss: 0.0115 - val_loss: 0.0065\n",
      "Epoch 52/100\n",
      "62/62 [==============================] - 2s 30ms/step - loss: 0.0106 - val_loss: 0.0188\n",
      "Epoch 53/100\n",
      "62/62 [==============================] - 2s 27ms/step - loss: 0.0124 - val_loss: 0.0142\n",
      "Epoch 54/100\n",
      "62/62 [==============================] - 2s 37ms/step - loss: 0.0111 - val_loss: 0.0043\n",
      "Epoch 55/100\n",
      "62/62 [==============================] - 2s 38ms/step - loss: 0.0114 - val_loss: 0.0178\n",
      "Epoch 56/100\n",
      "62/62 [==============================] - 2s 35ms/step - loss: 0.0124 - val_loss: 0.0091\n",
      "Epoch 57/100\n",
      "62/62 [==============================] - 2s 40ms/step - loss: 0.0121 - val_loss: 0.0075\n",
      "Epoch 58/100\n",
      "62/62 [==============================] - 2s 34ms/step - loss: 0.0114 - val_loss: 0.0049\n",
      "Epoch 59/100\n",
      "62/62 [==============================] - 2s 33ms/step - loss: 0.0115 - val_loss: 0.0174\n",
      "Epoch 60/100\n",
      "62/62 [==============================] - 2s 27ms/step - loss: 0.0119 - val_loss: 0.0260\n",
      "Epoch 61/100\n",
      "62/62 [==============================] - 2s 35ms/step - loss: 0.0117 - val_loss: 0.0129\n",
      "Epoch 62/100\n",
      "62/62 [==============================] - 2s 32ms/step - loss: 0.0101 - val_loss: 0.0118\n",
      "Epoch 63/100\n",
      "62/62 [==============================] - 2s 34ms/step - loss: 0.0102 - val_loss: 0.0035\n",
      "Epoch 64/100\n",
      "62/62 [==============================] - 2s 31ms/step - loss: 0.0104 - val_loss: 0.0052\n",
      "Epoch 65/100\n",
      "62/62 [==============================] - 2s 36ms/step - loss: 0.0110 - val_loss: 0.0193\n",
      "Epoch 66/100\n",
      "62/62 [==============================] - 2s 29ms/step - loss: 0.0131 - val_loss: 0.0056\n",
      "Epoch 67/100\n",
      "62/62 [==============================] - 2s 31ms/step - loss: 0.0120 - val_loss: 0.0067\n",
      "Epoch 68/100\n",
      "62/62 [==============================] - 2s 34ms/step - loss: 0.0105 - val_loss: 0.0268\n",
      "Epoch 69/100\n",
      "62/62 [==============================] - 3s 42ms/step - loss: 0.0102 - val_loss: 0.0155\n",
      "Epoch 70/100\n",
      "62/62 [==============================] - 2s 37ms/step - loss: 0.0104 - val_loss: 0.0030\n",
      "Epoch 71/100\n",
      "62/62 [==============================] - 3s 42ms/step - loss: 0.0101 - val_loss: 0.0221\n",
      "Epoch 72/100\n",
      "62/62 [==============================] - 2s 40ms/step - loss: 0.0117 - val_loss: 0.0138\n",
      "Epoch 73/100\n",
      "62/62 [==============================] - 3s 41ms/step - loss: 0.0103 - val_loss: 0.0038\n",
      "Epoch 74/100\n",
      "62/62 [==============================] - 3s 43ms/step - loss: 0.0109 - val_loss: 0.0035\n",
      "Epoch 75/100\n",
      "62/62 [==============================] - 2s 37ms/step - loss: 0.0109 - val_loss: 0.0155\n",
      "Epoch 76/100\n",
      "62/62 [==============================] - 3s 45ms/step - loss: 0.0117 - val_loss: 0.0041\n",
      "Epoch 77/100\n",
      "62/62 [==============================] - 2s 37ms/step - loss: 0.0107 - val_loss: 0.0192\n",
      "Epoch 78/100\n",
      "62/62 [==============================] - 2s 37ms/step - loss: 0.0092 - val_loss: 0.0063\n",
      "Epoch 79/100\n",
      "62/62 [==============================] - 2s 37ms/step - loss: 0.0105 - val_loss: 0.0234\n",
      "Epoch 80/100\n",
      "62/62 [==============================] - 2s 35ms/step - loss: 0.0110 - val_loss: 0.0097\n",
      "Epoch 81/100\n",
      "62/62 [==============================] - 2s 34ms/step - loss: 0.0095 - val_loss: 0.0077\n",
      "Epoch 82/100\n",
      "62/62 [==============================] - 2s 25ms/step - loss: 0.0099 - val_loss: 0.0088\n",
      "Epoch 83/100\n",
      "62/62 [==============================] - 2s 30ms/step - loss: 0.0093 - val_loss: 0.0080\n",
      "Epoch 84/100\n",
      "62/62 [==============================] - 2s 31ms/step - loss: 0.0120 - val_loss: 0.0030\n",
      "Epoch 85/100\n",
      "62/62 [==============================] - 2s 31ms/step - loss: 0.0116 - val_loss: 0.0162\n",
      "Epoch 86/100\n",
      "62/62 [==============================] - 2s 34ms/step - loss: 0.0124 - val_loss: 0.0038\n",
      "Epoch 87/100\n",
      "62/62 [==============================] - 2s 34ms/step - loss: 0.0096 - val_loss: 0.0081\n",
      "Epoch 88/100\n",
      "62/62 [==============================] - 2s 29ms/step - loss: 0.0098 - val_loss: 0.0076\n",
      "Epoch 89/100\n",
      "62/62 [==============================] - 2s 31ms/step - loss: 0.0089 - val_loss: 0.0061\n",
      "Epoch 90/100\n",
      "62/62 [==============================] - 2s 26ms/step - loss: 0.0100 - val_loss: 0.0028\n",
      "Epoch 91/100\n",
      "62/62 [==============================] - 2s 30ms/step - loss: 0.0094 - val_loss: 0.0189\n",
      "Epoch 92/100\n",
      "62/62 [==============================] - 2s 29ms/step - loss: 0.0114 - val_loss: 0.0064\n",
      "Epoch 93/100\n",
      "62/62 [==============================] - 2s 27ms/step - loss: 0.0091 - val_loss: 0.0032\n",
      "Epoch 94/100\n",
      "62/62 [==============================] - 2s 29ms/step - loss: 0.0101 - val_loss: 0.0134\n",
      "Epoch 95/100\n",
      "62/62 [==============================] - 2s 32ms/step - loss: 0.0101 - val_loss: 0.0099\n",
      "Epoch 96/100\n",
      "62/62 [==============================] - 2s 30ms/step - loss: 0.0090 - val_loss: 0.0040\n",
      "Epoch 97/100\n",
      "62/62 [==============================] - 2s 40ms/step - loss: 0.0096 - val_loss: 0.0158\n",
      "Epoch 98/100\n",
      "62/62 [==============================] - 3s 42ms/step - loss: 0.0096 - val_loss: 0.0123\n",
      "Epoch 99/100\n",
      "62/62 [==============================] - 3s 53ms/step - loss: 0.0092 - val_loss: 0.0217\n",
      "Epoch 100/100\n",
      "62/62 [==============================] - 2s 38ms/step - loss: 0.0091 - val_loss: 0.0186\n"
     ]
    },
    {
     "data": {
      "text/plain": [
       "<keras.callbacks.History at 0x24d448bccd0>"
      ]
     },
     "execution_count": 14,
     "metadata": {},
     "output_type": "execute_result"
    }
   ],
   "source": [
    "model = Sequential()\n",
    "\n",
    "model.add(SimpleRNN(29, activation='relu', input_shape=(x_train.shape[1], 1), return_sequences=True))\n",
    "model.add(SimpleRNN(100, activation='relu', return_sequences=True))\n",
    "model.add(Dropout(0.2)),\n",
    "model.add(AttentionMechanism(return_sequences=True)),\n",
    "model.add(SimpleRNN(41, activation='relu'))\n",
    "model.add(Dense(1))\n",
    "model.compile(optimizer='adam', loss='mean_absolute_error')\n",
    "\n",
    "model.fit(x_train, y_train, epochs=100, batch_size=19, validation_data=(x_test, y_test))"
   ]
  },
  {
   "cell_type": "code",
   "execution_count": 15,
   "metadata": {},
   "outputs": [
    {
     "name": "stdout",
     "output_type": "stream",
     "text": [
      "10/10 [==============================] - 0s 3ms/step\n"
     ]
    },
    {
     "data": {
      "application/vnd.plotly.v1+json": {
       "config": {
        "linkText": "Export to plot.ly",
        "plotlyServerURL": "https://plot.ly",
        "showLink": true
       },
       "data": [
        {
         "line": {
          "color": "rgba(255, 153, 51, 1.0)",
          "dash": "solid",
          "shape": "linear",
          "width": 1.3
         },
         "mode": "lines",
         "name": "Y_test",
         "text": "",
         "type": "scatter",
         "x": [
          0,
          1,
          2,
          3,
          4,
          5,
          6,
          7,
          8,
          9,
          10,
          11,
          12,
          13,
          14,
          15,
          16,
          17,
          18,
          19,
          20,
          21,
          22,
          23,
          24,
          25,
          26,
          27,
          28,
          29,
          30,
          31,
          32,
          33,
          34,
          35,
          36,
          37,
          38,
          39,
          40,
          41,
          42,
          43,
          44,
          45,
          46,
          47,
          48,
          49,
          50,
          51,
          52,
          53,
          54,
          55,
          56,
          57,
          58,
          59,
          60,
          61,
          62,
          63,
          64,
          65,
          66,
          67,
          68,
          69,
          70,
          71,
          72,
          73,
          74,
          75,
          76,
          77,
          78,
          79,
          80,
          81,
          82,
          83,
          84,
          85,
          86,
          87,
          88,
          89,
          90,
          91,
          92,
          93,
          94,
          95,
          96,
          97,
          98,
          99,
          100,
          101,
          102,
          103,
          104,
          105,
          106,
          107,
          108,
          109,
          110,
          111,
          112,
          113,
          114,
          115,
          116,
          117,
          118,
          119,
          120,
          121,
          122,
          123,
          124,
          125,
          126,
          127,
          128,
          129,
          130,
          131,
          132,
          133,
          134,
          135,
          136,
          137,
          138,
          139,
          140,
          141,
          142,
          143,
          144,
          145,
          146,
          147,
          148,
          149,
          150,
          151,
          152,
          153,
          154,
          155,
          156,
          157,
          158,
          159,
          160,
          161,
          162,
          163,
          164,
          165,
          166,
          167,
          168,
          169,
          170,
          171,
          172,
          173,
          174,
          175,
          176,
          177,
          178,
          179,
          180,
          181,
          182,
          183,
          184,
          185,
          186,
          187,
          188,
          189,
          190,
          191,
          192,
          193,
          194,
          195,
          196,
          197,
          198,
          199,
          200,
          201,
          202,
          203,
          204,
          205,
          206,
          207,
          208,
          209,
          210,
          211,
          212,
          213,
          214,
          215,
          216,
          217,
          218,
          219,
          220,
          221,
          222,
          223,
          224,
          225,
          226,
          227,
          228,
          229,
          230,
          231,
          232,
          233,
          234,
          235,
          236,
          237,
          238,
          239,
          240,
          241,
          242,
          243,
          244,
          245,
          246,
          247,
          248,
          249,
          250,
          251,
          252,
          253,
          254,
          255,
          256,
          257,
          258,
          259,
          260,
          261,
          262,
          263,
          264,
          265,
          266,
          267,
          268,
          269,
          270,
          271,
          272,
          273,
          274,
          275,
          276,
          277,
          278,
          279,
          280,
          281,
          282,
          283,
          284,
          285,
          286,
          287,
          288,
          289,
          290,
          291
         ],
         "y": [
          24.066666666666663,
          23.9375,
          26.3125,
          26.187499999999996,
          26.785714285714285,
          27.133333333333333,
          26.625,
          25.0625,
          26.2,
          28.133333333333333,
          29.875,
          24.666666666666668,
          26.25,
          25.93333333333333,
          27.125,
          29.571428571428573,
          30,
          30.571428571428573,
          32.3125,
          33.3125,
          32.8125,
          32.3125,
          31.375,
          29.933333333333334,
          29.266666666666666,
          30.73333333333333,
          32.25,
          29.8,
          30.2,
          31.75,
          33.125,
          33.625,
          35.6875,
          34.666666666666664,
          34.625,
          34,
          34.0625,
          34,
          33.25,
          31.916666666666668,
          31.3125,
          31.75,
          33.4375,
          33.125,
          34.15384615384615,
          34.07142857142857,
          33.0625,
          34.6875,
          38,
          35.49999999999999,
          33.714285714285715,
          30.6,
          31.4375,
          33.3125,
          35.13333333333333,
          33.53333333333333,
          34,
          32.5,
          35.375,
          37.294117647058826,
          36.5625,
          37.25,
          37.21428571428572,
          37.5,
          37.75,
          37.375,
          37.4,
          36.13333333333333,
          36.8,
          32.214285714285715,
          31.526315789473685,
          33.21739130434783,
          35.26923076923077,
          38.27272727272727,
          36.0625,
          31.5,
          26.8125,
          32.642857142857146,
          36,
          37.5625,
          37.5625,
          38.2,
          36.16666666666666,
          35.42857142857143,
          34.625,
          36.07142857142857,
          35.733333333333334,
          36.13333333333333,
          33.4375,
          35.49999999999999,
          36,
          32.625,
          34.733333333333334,
          33.5,
          34.1875,
          35.857142857142854,
          35.625,
          30.9375,
          32.875,
          33.125,
          33.84615384615385,
          36.4375,
          35.42857142857143,
          34.86666666666667,
          34.3125,
          30.785714285714285,
          35.375,
          35.46666666666667,
          32.125,
          28.4,
          29.5625,
          30.6875,
          33.25,
          33.266666666666666,
          33.5,
          30.8,
          33.25,
          32.5625,
          31.5,
          30.5,
          31.25,
          30.4375,
          31,
          27.125,
          28.125,
          27.666666666666668,
          32.3125,
          34.1875,
          34.13333333333333,
          34.125,
          31.875,
          31.4375,
          31.9375,
          30.3125,
          28.3125,
          29.53333333333333,
          27.375,
          27.33333333333333,
          29.266666666666666,
          29.125,
          30.6875,
          32.5625,
          33.111111111111114,
          33.8,
          30.066666666666663,
          33.11764705882353,
          33.80952380952381,
          31.615384615384617,
          32,
          28.107142857142858,
          29.035714285714285,
          30.321428571428573,
          28.933333333333334,
          31.678571428571427,
          31.33333333333333,
          29.928571428571427,
          29.88888888888889,
          32.07142857142857,
          33.18518518518518,
          31.59259259259259,
          32.18518518518518,
          31.48,
          30.178571428571427,
          31.52,
          31.22222222222222,
          31.785714285714285,
          33.4,
          29.571428571428573,
          30.04,
          27.25925925925926,
          27.96,
          30.73913043478261,
          30.894736842105264,
          31.692307692307693,
          31.07692307692308,
          30.375,
          31.1,
          31.916666666666668,
          30.55555555555556,
          31.23076923076923,
          31,
          31.642857142857142,
          32.53333333333333,
          30.857142857142858,
          31.727272727272727,
          31.4,
          32.30769230769231,
          32.25,
          32.375,
          33.44444444444444,
          33.36,
          30.03703703703704,
          31,
          31.24,
          31.130434782608692,
          31.48,
          32.18518518518518,
          32.44,
          32.22727272727273,
          32.214285714285715,
          32.541666666666664,
          32.81481481481482,
          33.26923076923077,
          30.55555555555556,
          28.83333333333333,
          30.703703703703702,
          30.96,
          30.6,
          30.92,
          29.77777777777778,
          29.666666666666668,
          29.571428571428573,
          29.96296296296296,
          29.75,
          27.74074074074074,
          28.428571428571427,
          28.6,
          28.5,
          28.925925925925927,
          29.07692307692308,
          28.40909090909091,
          29.33333333333333,
          27.5,
          28.5,
          28.04,
          27.57692307692308,
          26.55555555555556,
          25.51851851851852,
          25.814814814814813,
          24.82608695652174,
          24.53846153846154,
          24.384615384615383,
          23.727272727272727,
          25.64,
          24.814814814814813,
          23.115384615384617,
          22.925925925925927,
          24.545454545454547,
          23.73076923076923,
          23,
          23.51851851851852,
          23.92,
          23.53846153846154,
          24.296296296296298,
          23.346153846153847,
          22.24,
          21.769230769230774,
          21.73076923076923,
          21.73076923076923,
          20.666666666666668,
          22.25,
          21.53846153846154,
          22.57894736842105,
          22.82608695652174,
          21.42105263157895,
          23.6,
          24.294117647058822,
          23.63636363636364,
          22.454545454545453,
          21.61111111111111,
          19.869565217391305,
          19.75,
          19.20833333333333,
          21.20833333333333,
          18.9,
          18.63636363636364,
          18.53846153846154,
          18.25,
          16.9,
          19.416666666666668,
          16.444444444444443,
          20.041666666666668,
          19.90909090909091,
          19.05,
          18.55555555555556,
          18.166666666666668,
          15.833333333333334,
          17.5,
          16.083333333333332,
          17.857142857142858,
          19.8,
          18.05,
          17.285714285714285,
          15.550000000000002,
          17.318181818181817,
          14,
          17.142857142857142,
          16.85,
          17.217391304347824,
          15.238095238095237,
          14.095238095238097,
          15.05263157894737
         ]
        },
        {
         "line": {
          "color": "rgba(55, 128, 191, 1.0)",
          "dash": "solid",
          "shape": "linear",
          "width": 1.3
         },
         "mode": "lines",
         "name": "Predictions",
         "text": "",
         "type": "scatter",
         "x": [
          0,
          1,
          2,
          3,
          4,
          5,
          6,
          7,
          8,
          9,
          10,
          11,
          12,
          13,
          14,
          15,
          16,
          17,
          18,
          19,
          20,
          21,
          22,
          23,
          24,
          25,
          26,
          27,
          28,
          29,
          30,
          31,
          32,
          33,
          34,
          35,
          36,
          37,
          38,
          39,
          40,
          41,
          42,
          43,
          44,
          45,
          46,
          47,
          48,
          49,
          50,
          51,
          52,
          53,
          54,
          55,
          56,
          57,
          58,
          59,
          60,
          61,
          62,
          63,
          64,
          65,
          66,
          67,
          68,
          69,
          70,
          71,
          72,
          73,
          74,
          75,
          76,
          77,
          78,
          79,
          80,
          81,
          82,
          83,
          84,
          85,
          86,
          87,
          88,
          89,
          90,
          91,
          92,
          93,
          94,
          95,
          96,
          97,
          98,
          99,
          100,
          101,
          102,
          103,
          104,
          105,
          106,
          107,
          108,
          109,
          110,
          111,
          112,
          113,
          114,
          115,
          116,
          117,
          118,
          119,
          120,
          121,
          122,
          123,
          124,
          125,
          126,
          127,
          128,
          129,
          130,
          131,
          132,
          133,
          134,
          135,
          136,
          137,
          138,
          139,
          140,
          141,
          142,
          143,
          144,
          145,
          146,
          147,
          148,
          149,
          150,
          151,
          152,
          153,
          154,
          155,
          156,
          157,
          158,
          159,
          160,
          161,
          162,
          163,
          164,
          165,
          166,
          167,
          168,
          169,
          170,
          171,
          172,
          173,
          174,
          175,
          176,
          177,
          178,
          179,
          180,
          181,
          182,
          183,
          184,
          185,
          186,
          187,
          188,
          189,
          190,
          191,
          192,
          193,
          194,
          195,
          196,
          197,
          198,
          199,
          200,
          201,
          202,
          203,
          204,
          205,
          206,
          207,
          208,
          209,
          210,
          211,
          212,
          213,
          214,
          215,
          216,
          217,
          218,
          219,
          220,
          221,
          222,
          223,
          224,
          225,
          226,
          227,
          228,
          229,
          230,
          231,
          232,
          233,
          234,
          235,
          236,
          237,
          238,
          239,
          240,
          241,
          242,
          243,
          244,
          245,
          246,
          247,
          248,
          249,
          250,
          251,
          252,
          253,
          254,
          255,
          256,
          257,
          258,
          259,
          260,
          261,
          262,
          263,
          264,
          265,
          266,
          267,
          268,
          269,
          270,
          271,
          272,
          273,
          274,
          275,
          276,
          277,
          278,
          279,
          280,
          281,
          282,
          283,
          284,
          285,
          286,
          287,
          288,
          289,
          290,
          291
         ],
         "y": [
          24.267812728881836,
          24.151592254638672,
          26.585102081298828,
          26.51806640625,
          27.375795364379883,
          27.734100341796875,
          27.17669105529785,
          25.565067291259766,
          26.68501853942871,
          28.612218856811523,
          30.443561553955078,
          25.847299575805664,
          26.585052490234375,
          26.279888153076172,
          27.746389389038086,
          30.04156494140625,
          30.702533721923828,
          31.34770965576172,
          33.02388381958008,
          34.080787658691406,
          33.68324661254883,
          33.151363372802734,
          32.18105697631836,
          30.670129776000977,
          30.011259078979492,
          31.47416877746582,
          32.9757194519043,
          30.597612380981445,
          30.961885452270508,
          32.48826217651367,
          33.85657501220703,
          34.44187927246094,
          36.279998779296875,
          35.53427505493164,
          35.41678237915039,
          34.865699768066406,
          34.88014602661133,
          34.83469009399414,
          34.1199836730957,
          32.73949432373047,
          32.10455322265625,
          32.51398468017578,
          34.12565231323242,
          33.969932556152344,
          34.927268981933594,
          34.92453384399414,
          33.93215560913086,
          35.36917495727539,
          38.18686294555664,
          36.367164611816406,
          34.38099670410156,
          31.484609603881836,
          32.213985443115234,
          33.97798538208008,
          35.743160247802734,
          34.457401275634766,
          34.78345489501953,
          33.39811325073242,
          35.81781768798828,
          37.72633361816406,
          37.342647552490234,
          37.90840530395508,
          37.92723846435547,
          38.17295837402344,
          38.40984344482422,
          38.081844329833984,
          38.08926773071289,
          36.92333221435547,
          37.476585388183594,
          33.152591705322266,
          32.127296447753906,
          33.9106330871582,
          35.841007232666016,
          38.48695755004883,
          36.90094757080078,
          32.258522033691406,
          27.614490509033203,
          32.66252136230469,
          35.918514251708984,
          37.98920822143555,
          38.25474548339844,
          38.79979705810547,
          36.965362548828125,
          36.129276275634766,
          35.44599151611328,
          36.73952865600586,
          36.55155563354492,
          36.883636474609375,
          34.306697845458984,
          36.059181213378906,
          36.7470588684082,
          33.498165130615234,
          35.33100128173828,
          34.39495086669922,
          34.964813232421875,
          36.502201080322266,
          36.44255447387695,
          32.04016876220703,
          33.653663635253906,
          33.94294357299805,
          34.65681076049805,
          36.893184661865234,
          36.24448013305664,
          35.66209030151367,
          35.15300750732422,
          31.71870231628418,
          35.534420013427734,
          36.080352783203125,
          32.983028411865234,
          29.307706832885742,
          30.291648864746094,
          31.45758819580078,
          33.80448532104492,
          34.05418014526367,
          34.331871032714844,
          31.6159725189209,
          33.909934997558594,
          33.386234283447266,
          32.31246566772461,
          31.268136978149414,
          32.01023483276367,
          31.263032913208008,
          31.756696701049805,
          28.18302345275879,
          28.84870719909668,
          28.371065139770508,
          32.36268615722656,
          34.56249237060547,
          34.969146728515625,
          34.95657730102539,
          32.714691162109375,
          32.21361541748047,
          32.70873260498047,
          31.104755401611328,
          29.138967514038086,
          30.347841262817383,
          28.062793731689453,
          28.038259506225586,
          29.96169662475586,
          29.879304885864258,
          31.421493530273438,
          33.22938537597656,
          33.914039611816406,
          34.61032485961914,
          31.028919219970703,
          33.74366760253906,
          34.51579666137695,
          32.484642028808594,
          32.78406524658203,
          29.202024459838867,
          29.756765365600586,
          31.081104278564453,
          29.726119995117188,
          32.27717590332031,
          32.08586883544922,
          30.673128128051758,
          30.640167236328125,
          32.7247428894043,
          33.91536331176758,
          32.47810363769531,
          32.97350311279297,
          32.313926696777344,
          30.925792694091797,
          32.26261901855469,
          32.055015563964844,
          32.55860137939453,
          34.100006103515625,
          30.55193328857422,
          30.789457321166992,
          28.07558250427246,
          28.730281829833984,
          31.275907516479492,
          31.60641860961914,
          32.472679138183594,
          31.904483795166016,
          31.14593505859375,
          31.86114501953125,
          32.7075080871582,
          31.388521194458008,
          31.986297607421875,
          31.819076538085938,
          32.414981842041016,
          33.31462478637695,
          31.700212478637695,
          32.51127243041992,
          32.23259353637695,
          33.07445526123047,
          33.07866287231445,
          33.17512893676758,
          34.21131896972656,
          34.204383850097656,
          30.96453285217285,
          31.780794143676758,
          32.044795989990234,
          31.93636703491211,
          32.25529098510742,
          32.97241973876953,
          33.25231170654297,
          33.057640075683594,
          33.02129364013672,
          33.33953857421875,
          33.62956237792969,
          34.088401794433594,
          31.371381759643555,
          29.673402786254883,
          31.461217880249023,
          31.72123146057129,
          31.40107536315918,
          31.69182777404785,
          30.562990188598633,
          30.410011291503906,
          30.34293556213379,
          30.734668731689453,
          30.536653518676758,
          28.454057693481445,
          29.232234954833984,
          29.336570739746094,
          29.260522842407227,
          29.685466766357422,
          29.85206413269043,
          29.18621063232422,
          30.07903480529785,
          28.18290138244629,
          29.303394317626953,
          28.796600341796875,
          28.26902961730957,
          27.08456039428711,
          25.958765029907227,
          26.30471420288086,
          25.229358673095703,
          24.783979415893555,
          24.606979370117188,
          23.954771041870117,
          25.85357093811035,
          25.20464515686035,
          23.36952018737793,
          23.021942138671875,
          24.746599197387695,
          23.974443435668945,
          23.065631866455078,
          23.685012817382812,
          24.10582160949707,
          23.740463256835938,
          24.47530174255371,
          23.536121368408203,
          22.321914672851562,
          21.836294174194336,
          21.81736183166504,
          21.82018280029297,
          20.77450942993164,
          22.328027725219727,
          21.656906127929688,
          22.733102798461914,
          23.007474899291992,
          21.5803279876709,
          23.783294677734375,
          24.440322875976562,
          23.864906311035156,
          22.537477493286133,
          21.71584129333496,
          20.076749801635742,
          19.783323287963867,
          19.345211029052734,
          21.33135986328125,
          19.181324005126953,
          18.856801986694336,
          18.667203903198242,
          18.472997665405273,
          17.18662452697754,
          19.440519332885742,
          16.687267303466797,
          20.014780044555664,
          20.05590057373047,
          19.207496643066406,
          18.812480926513672,
          18.406522750854492,
          15.925495147705078,
          17.675485610961914,
          16.443706512451172,
          18.083690643310547,
          19.97084617614746,
          18.36618423461914,
          17.480806350708008,
          15.798116683959961,
          17.509681701660156,
          13.879566192626953,
          17.2005558013916,
          17.13313102722168,
          17.435842514038086,
          15.420937538146973,
          14.153644561767578,
          15.032303810119629
         ]
        }
       ],
       "layout": {
        "legend": {
         "bgcolor": "#151516",
         "font": {
          "color": "#D9D9D9"
         }
        },
        "paper_bgcolor": "#151516",
        "plot_bgcolor": "#151516",
        "template": {
         "data": {
          "bar": [
           {
            "error_x": {
             "color": "#2a3f5f"
            },
            "error_y": {
             "color": "#2a3f5f"
            },
            "marker": {
             "line": {
              "color": "#E5ECF6",
              "width": 0.5
             },
             "pattern": {
              "fillmode": "overlay",
              "size": 10,
              "solidity": 0.2
             }
            },
            "type": "bar"
           }
          ],
          "barpolar": [
           {
            "marker": {
             "line": {
              "color": "#E5ECF6",
              "width": 0.5
             },
             "pattern": {
              "fillmode": "overlay",
              "size": 10,
              "solidity": 0.2
             }
            },
            "type": "barpolar"
           }
          ],
          "carpet": [
           {
            "aaxis": {
             "endlinecolor": "#2a3f5f",
             "gridcolor": "white",
             "linecolor": "white",
             "minorgridcolor": "white",
             "startlinecolor": "#2a3f5f"
            },
            "baxis": {
             "endlinecolor": "#2a3f5f",
             "gridcolor": "white",
             "linecolor": "white",
             "minorgridcolor": "white",
             "startlinecolor": "#2a3f5f"
            },
            "type": "carpet"
           }
          ],
          "choropleth": [
           {
            "colorbar": {
             "outlinewidth": 0,
             "ticks": ""
            },
            "type": "choropleth"
           }
          ],
          "contour": [
           {
            "colorbar": {
             "outlinewidth": 0,
             "ticks": ""
            },
            "colorscale": [
             [
              0,
              "#0d0887"
             ],
             [
              0.1111111111111111,
              "#46039f"
             ],
             [
              0.2222222222222222,
              "#7201a8"
             ],
             [
              0.3333333333333333,
              "#9c179e"
             ],
             [
              0.4444444444444444,
              "#bd3786"
             ],
             [
              0.5555555555555556,
              "#d8576b"
             ],
             [
              0.6666666666666666,
              "#ed7953"
             ],
             [
              0.7777777777777778,
              "#fb9f3a"
             ],
             [
              0.8888888888888888,
              "#fdca26"
             ],
             [
              1,
              "#f0f921"
             ]
            ],
            "type": "contour"
           }
          ],
          "contourcarpet": [
           {
            "colorbar": {
             "outlinewidth": 0,
             "ticks": ""
            },
            "type": "contourcarpet"
           }
          ],
          "heatmap": [
           {
            "colorbar": {
             "outlinewidth": 0,
             "ticks": ""
            },
            "colorscale": [
             [
              0,
              "#0d0887"
             ],
             [
              0.1111111111111111,
              "#46039f"
             ],
             [
              0.2222222222222222,
              "#7201a8"
             ],
             [
              0.3333333333333333,
              "#9c179e"
             ],
             [
              0.4444444444444444,
              "#bd3786"
             ],
             [
              0.5555555555555556,
              "#d8576b"
             ],
             [
              0.6666666666666666,
              "#ed7953"
             ],
             [
              0.7777777777777778,
              "#fb9f3a"
             ],
             [
              0.8888888888888888,
              "#fdca26"
             ],
             [
              1,
              "#f0f921"
             ]
            ],
            "type": "heatmap"
           }
          ],
          "heatmapgl": [
           {
            "colorbar": {
             "outlinewidth": 0,
             "ticks": ""
            },
            "colorscale": [
             [
              0,
              "#0d0887"
             ],
             [
              0.1111111111111111,
              "#46039f"
             ],
             [
              0.2222222222222222,
              "#7201a8"
             ],
             [
              0.3333333333333333,
              "#9c179e"
             ],
             [
              0.4444444444444444,
              "#bd3786"
             ],
             [
              0.5555555555555556,
              "#d8576b"
             ],
             [
              0.6666666666666666,
              "#ed7953"
             ],
             [
              0.7777777777777778,
              "#fb9f3a"
             ],
             [
              0.8888888888888888,
              "#fdca26"
             ],
             [
              1,
              "#f0f921"
             ]
            ],
            "type": "heatmapgl"
           }
          ],
          "histogram": [
           {
            "marker": {
             "pattern": {
              "fillmode": "overlay",
              "size": 10,
              "solidity": 0.2
             }
            },
            "type": "histogram"
           }
          ],
          "histogram2d": [
           {
            "colorbar": {
             "outlinewidth": 0,
             "ticks": ""
            },
            "colorscale": [
             [
              0,
              "#0d0887"
             ],
             [
              0.1111111111111111,
              "#46039f"
             ],
             [
              0.2222222222222222,
              "#7201a8"
             ],
             [
              0.3333333333333333,
              "#9c179e"
             ],
             [
              0.4444444444444444,
              "#bd3786"
             ],
             [
              0.5555555555555556,
              "#d8576b"
             ],
             [
              0.6666666666666666,
              "#ed7953"
             ],
             [
              0.7777777777777778,
              "#fb9f3a"
             ],
             [
              0.8888888888888888,
              "#fdca26"
             ],
             [
              1,
              "#f0f921"
             ]
            ],
            "type": "histogram2d"
           }
          ],
          "histogram2dcontour": [
           {
            "colorbar": {
             "outlinewidth": 0,
             "ticks": ""
            },
            "colorscale": [
             [
              0,
              "#0d0887"
             ],
             [
              0.1111111111111111,
              "#46039f"
             ],
             [
              0.2222222222222222,
              "#7201a8"
             ],
             [
              0.3333333333333333,
              "#9c179e"
             ],
             [
              0.4444444444444444,
              "#bd3786"
             ],
             [
              0.5555555555555556,
              "#d8576b"
             ],
             [
              0.6666666666666666,
              "#ed7953"
             ],
             [
              0.7777777777777778,
              "#fb9f3a"
             ],
             [
              0.8888888888888888,
              "#fdca26"
             ],
             [
              1,
              "#f0f921"
             ]
            ],
            "type": "histogram2dcontour"
           }
          ],
          "mesh3d": [
           {
            "colorbar": {
             "outlinewidth": 0,
             "ticks": ""
            },
            "type": "mesh3d"
           }
          ],
          "parcoords": [
           {
            "line": {
             "colorbar": {
              "outlinewidth": 0,
              "ticks": ""
             }
            },
            "type": "parcoords"
           }
          ],
          "pie": [
           {
            "automargin": true,
            "type": "pie"
           }
          ],
          "scatter": [
           {
            "fillpattern": {
             "fillmode": "overlay",
             "size": 10,
             "solidity": 0.2
            },
            "type": "scatter"
           }
          ],
          "scatter3d": [
           {
            "line": {
             "colorbar": {
              "outlinewidth": 0,
              "ticks": ""
             }
            },
            "marker": {
             "colorbar": {
              "outlinewidth": 0,
              "ticks": ""
             }
            },
            "type": "scatter3d"
           }
          ],
          "scattercarpet": [
           {
            "marker": {
             "colorbar": {
              "outlinewidth": 0,
              "ticks": ""
             }
            },
            "type": "scattercarpet"
           }
          ],
          "scattergeo": [
           {
            "marker": {
             "colorbar": {
              "outlinewidth": 0,
              "ticks": ""
             }
            },
            "type": "scattergeo"
           }
          ],
          "scattergl": [
           {
            "marker": {
             "colorbar": {
              "outlinewidth": 0,
              "ticks": ""
             }
            },
            "type": "scattergl"
           }
          ],
          "scattermapbox": [
           {
            "marker": {
             "colorbar": {
              "outlinewidth": 0,
              "ticks": ""
             }
            },
            "type": "scattermapbox"
           }
          ],
          "scatterpolar": [
           {
            "marker": {
             "colorbar": {
              "outlinewidth": 0,
              "ticks": ""
             }
            },
            "type": "scatterpolar"
           }
          ],
          "scatterpolargl": [
           {
            "marker": {
             "colorbar": {
              "outlinewidth": 0,
              "ticks": ""
             }
            },
            "type": "scatterpolargl"
           }
          ],
          "scatterternary": [
           {
            "marker": {
             "colorbar": {
              "outlinewidth": 0,
              "ticks": ""
             }
            },
            "type": "scatterternary"
           }
          ],
          "surface": [
           {
            "colorbar": {
             "outlinewidth": 0,
             "ticks": ""
            },
            "colorscale": [
             [
              0,
              "#0d0887"
             ],
             [
              0.1111111111111111,
              "#46039f"
             ],
             [
              0.2222222222222222,
              "#7201a8"
             ],
             [
              0.3333333333333333,
              "#9c179e"
             ],
             [
              0.4444444444444444,
              "#bd3786"
             ],
             [
              0.5555555555555556,
              "#d8576b"
             ],
             [
              0.6666666666666666,
              "#ed7953"
             ],
             [
              0.7777777777777778,
              "#fb9f3a"
             ],
             [
              0.8888888888888888,
              "#fdca26"
             ],
             [
              1,
              "#f0f921"
             ]
            ],
            "type": "surface"
           }
          ],
          "table": [
           {
            "cells": {
             "fill": {
              "color": "#EBF0F8"
             },
             "line": {
              "color": "white"
             }
            },
            "header": {
             "fill": {
              "color": "#C8D4E3"
             },
             "line": {
              "color": "white"
             }
            },
            "type": "table"
           }
          ]
         },
         "layout": {
          "annotationdefaults": {
           "arrowcolor": "#2a3f5f",
           "arrowhead": 0,
           "arrowwidth": 1
          },
          "autotypenumbers": "strict",
          "coloraxis": {
           "colorbar": {
            "outlinewidth": 0,
            "ticks": ""
           }
          },
          "colorscale": {
           "diverging": [
            [
             0,
             "#8e0152"
            ],
            [
             0.1,
             "#c51b7d"
            ],
            [
             0.2,
             "#de77ae"
            ],
            [
             0.3,
             "#f1b6da"
            ],
            [
             0.4,
             "#fde0ef"
            ],
            [
             0.5,
             "#f7f7f7"
            ],
            [
             0.6,
             "#e6f5d0"
            ],
            [
             0.7,
             "#b8e186"
            ],
            [
             0.8,
             "#7fbc41"
            ],
            [
             0.9,
             "#4d9221"
            ],
            [
             1,
             "#276419"
            ]
           ],
           "sequential": [
            [
             0,
             "#0d0887"
            ],
            [
             0.1111111111111111,
             "#46039f"
            ],
            [
             0.2222222222222222,
             "#7201a8"
            ],
            [
             0.3333333333333333,
             "#9c179e"
            ],
            [
             0.4444444444444444,
             "#bd3786"
            ],
            [
             0.5555555555555556,
             "#d8576b"
            ],
            [
             0.6666666666666666,
             "#ed7953"
            ],
            [
             0.7777777777777778,
             "#fb9f3a"
            ],
            [
             0.8888888888888888,
             "#fdca26"
            ],
            [
             1,
             "#f0f921"
            ]
           ],
           "sequentialminus": [
            [
             0,
             "#0d0887"
            ],
            [
             0.1111111111111111,
             "#46039f"
            ],
            [
             0.2222222222222222,
             "#7201a8"
            ],
            [
             0.3333333333333333,
             "#9c179e"
            ],
            [
             0.4444444444444444,
             "#bd3786"
            ],
            [
             0.5555555555555556,
             "#d8576b"
            ],
            [
             0.6666666666666666,
             "#ed7953"
            ],
            [
             0.7777777777777778,
             "#fb9f3a"
            ],
            [
             0.8888888888888888,
             "#fdca26"
            ],
            [
             1,
             "#f0f921"
            ]
           ]
          },
          "colorway": [
           "#636efa",
           "#EF553B",
           "#00cc96",
           "#ab63fa",
           "#FFA15A",
           "#19d3f3",
           "#FF6692",
           "#B6E880",
           "#FF97FF",
           "#FECB52"
          ],
          "font": {
           "color": "#2a3f5f"
          },
          "geo": {
           "bgcolor": "white",
           "lakecolor": "white",
           "landcolor": "#E5ECF6",
           "showlakes": true,
           "showland": true,
           "subunitcolor": "white"
          },
          "hoverlabel": {
           "align": "left"
          },
          "hovermode": "closest",
          "mapbox": {
           "style": "light"
          },
          "paper_bgcolor": "white",
          "plot_bgcolor": "#E5ECF6",
          "polar": {
           "angularaxis": {
            "gridcolor": "white",
            "linecolor": "white",
            "ticks": ""
           },
           "bgcolor": "#E5ECF6",
           "radialaxis": {
            "gridcolor": "white",
            "linecolor": "white",
            "ticks": ""
           }
          },
          "scene": {
           "xaxis": {
            "backgroundcolor": "#E5ECF6",
            "gridcolor": "white",
            "gridwidth": 2,
            "linecolor": "white",
            "showbackground": true,
            "ticks": "",
            "zerolinecolor": "white"
           },
           "yaxis": {
            "backgroundcolor": "#E5ECF6",
            "gridcolor": "white",
            "gridwidth": 2,
            "linecolor": "white",
            "showbackground": true,
            "ticks": "",
            "zerolinecolor": "white"
           },
           "zaxis": {
            "backgroundcolor": "#E5ECF6",
            "gridcolor": "white",
            "gridwidth": 2,
            "linecolor": "white",
            "showbackground": true,
            "ticks": "",
            "zerolinecolor": "white"
           }
          },
          "shapedefaults": {
           "line": {
            "color": "#2a3f5f"
           }
          },
          "ternary": {
           "aaxis": {
            "gridcolor": "white",
            "linecolor": "white",
            "ticks": ""
           },
           "baxis": {
            "gridcolor": "white",
            "linecolor": "white",
            "ticks": ""
           },
           "bgcolor": "#E5ECF6",
           "caxis": {
            "gridcolor": "white",
            "linecolor": "white",
            "ticks": ""
           }
          },
          "title": {
           "x": 0.05
          },
          "xaxis": {
           "automargin": true,
           "gridcolor": "white",
           "linecolor": "white",
           "ticks": "",
           "title": {
            "standoff": 15
           },
           "zerolinecolor": "white",
           "zerolinewidth": 2
          },
          "yaxis": {
           "automargin": true,
           "gridcolor": "white",
           "linecolor": "white",
           "ticks": "",
           "title": {
            "standoff": 15
           },
           "zerolinecolor": "white",
           "zerolinewidth": 2
          }
         }
        },
        "title": {
         "font": {
          "color": "#D9D9D9"
         },
         "text": "Прогноз vs Реальные значения"
        },
        "xaxis": {
         "gridcolor": "#434343",
         "showgrid": true,
         "tickfont": {
          "color": "#C2C2C2"
         },
         "title": {
          "font": {
           "color": "#D9D9D9"
          },
          "text": "Время"
         },
         "zerolinecolor": "#666570"
        },
        "yaxis": {
         "gridcolor": "#434343",
         "showgrid": true,
         "tickfont": {
          "color": "#C2C2C2"
         },
         "title": {
          "font": {
           "color": "#D9D9D9"
          },
          "text": "Значение"
         },
         "zerolinecolor": "#666570"
        }
       }
      },
      "text/html": [
       "<div>                            <div id=\"864c273d-8aab-4b6e-a192-ecf62ac62f45\" class=\"plotly-graph-div\" style=\"height:525px; width:100%;\"></div>            <script type=\"text/javascript\">                require([\"plotly\"], function(Plotly) {                    window.PLOTLYENV=window.PLOTLYENV || {};\n",
       "                    window.PLOTLYENV.BASE_URL='https://plot.ly';                                    if (document.getElementById(\"864c273d-8aab-4b6e-a192-ecf62ac62f45\")) {                    Plotly.newPlot(                        \"864c273d-8aab-4b6e-a192-ecf62ac62f45\",                        [{\"line\":{\"color\":\"rgba(255, 153, 51, 1.0)\",\"dash\":\"solid\",\"shape\":\"linear\",\"width\":1.3},\"mode\":\"lines\",\"name\":\"Y_test\",\"text\":\"\",\"x\":[0,1,2,3,4,5,6,7,8,9,10,11,12,13,14,15,16,17,18,19,20,21,22,23,24,25,26,27,28,29,30,31,32,33,34,35,36,37,38,39,40,41,42,43,44,45,46,47,48,49,50,51,52,53,54,55,56,57,58,59,60,61,62,63,64,65,66,67,68,69,70,71,72,73,74,75,76,77,78,79,80,81,82,83,84,85,86,87,88,89,90,91,92,93,94,95,96,97,98,99,100,101,102,103,104,105,106,107,108,109,110,111,112,113,114,115,116,117,118,119,120,121,122,123,124,125,126,127,128,129,130,131,132,133,134,135,136,137,138,139,140,141,142,143,144,145,146,147,148,149,150,151,152,153,154,155,156,157,158,159,160,161,162,163,164,165,166,167,168,169,170,171,172,173,174,175,176,177,178,179,180,181,182,183,184,185,186,187,188,189,190,191,192,193,194,195,196,197,198,199,200,201,202,203,204,205,206,207,208,209,210,211,212,213,214,215,216,217,218,219,220,221,222,223,224,225,226,227,228,229,230,231,232,233,234,235,236,237,238,239,240,241,242,243,244,245,246,247,248,249,250,251,252,253,254,255,256,257,258,259,260,261,262,263,264,265,266,267,268,269,270,271,272,273,274,275,276,277,278,279,280,281,282,283,284,285,286,287,288,289,290,291],\"y\":[24.066666666666663,23.9375,26.3125,26.187499999999996,26.785714285714285,27.133333333333333,26.625,25.0625,26.2,28.133333333333333,29.875,24.666666666666668,26.25,25.93333333333333,27.125,29.571428571428573,30.0,30.571428571428573,32.3125,33.3125,32.8125,32.3125,31.375,29.933333333333334,29.266666666666666,30.73333333333333,32.25,29.8,30.2,31.75,33.125,33.625,35.6875,34.666666666666664,34.625,34.0,34.0625,34.0,33.25,31.916666666666668,31.3125,31.75,33.4375,33.125,34.15384615384615,34.07142857142857,33.0625,34.6875,38.0,35.49999999999999,33.714285714285715,30.6,31.4375,33.3125,35.13333333333333,33.53333333333333,34.0,32.5,35.375,37.294117647058826,36.5625,37.25,37.21428571428572,37.5,37.75,37.375,37.4,36.13333333333333,36.8,32.214285714285715,31.526315789473685,33.21739130434783,35.26923076923077,38.27272727272727,36.0625,31.5,26.8125,32.642857142857146,36.0,37.5625,37.5625,38.2,36.16666666666666,35.42857142857143,34.625,36.07142857142857,35.733333333333334,36.13333333333333,33.4375,35.49999999999999,36.0,32.625,34.733333333333334,33.5,34.1875,35.857142857142854,35.625,30.9375,32.875,33.125,33.84615384615385,36.4375,35.42857142857143,34.86666666666667,34.3125,30.785714285714285,35.375,35.46666666666667,32.125,28.4,29.5625,30.6875,33.25,33.266666666666666,33.5,30.8,33.25,32.5625,31.5,30.5,31.25,30.4375,31.0,27.125,28.125,27.666666666666668,32.3125,34.1875,34.13333333333333,34.125,31.875,31.4375,31.9375,30.3125,28.3125,29.53333333333333,27.375,27.33333333333333,29.266666666666666,29.125,30.6875,32.5625,33.111111111111114,33.8,30.066666666666663,33.11764705882353,33.80952380952381,31.615384615384617,32.0,28.107142857142858,29.035714285714285,30.321428571428573,28.933333333333334,31.678571428571427,31.33333333333333,29.928571428571427,29.88888888888889,32.07142857142857,33.18518518518518,31.59259259259259,32.18518518518518,31.48,30.178571428571427,31.52,31.22222222222222,31.785714285714285,33.4,29.571428571428573,30.04,27.25925925925926,27.96,30.73913043478261,30.894736842105264,31.692307692307693,31.07692307692308,30.375,31.1,31.916666666666668,30.55555555555556,31.23076923076923,31.0,31.642857142857142,32.53333333333333,30.857142857142858,31.727272727272727,31.4,32.30769230769231,32.25,32.375,33.44444444444444,33.36,30.03703703703704,31.0,31.24,31.130434782608692,31.48,32.18518518518518,32.44,32.22727272727273,32.214285714285715,32.541666666666664,32.81481481481482,33.26923076923077,30.55555555555556,28.83333333333333,30.703703703703702,30.96,30.6,30.92,29.77777777777778,29.666666666666668,29.571428571428573,29.96296296296296,29.75,27.74074074074074,28.428571428571427,28.6,28.5,28.925925925925927,29.07692307692308,28.40909090909091,29.33333333333333,27.5,28.5,28.04,27.57692307692308,26.55555555555556,25.51851851851852,25.814814814814813,24.82608695652174,24.53846153846154,24.384615384615383,23.727272727272727,25.64,24.814814814814813,23.115384615384617,22.925925925925927,24.545454545454547,23.73076923076923,23.0,23.51851851851852,23.92,23.53846153846154,24.296296296296298,23.346153846153847,22.24,21.769230769230774,21.73076923076923,21.73076923076923,20.666666666666668,22.25,21.53846153846154,22.57894736842105,22.82608695652174,21.42105263157895,23.6,24.294117647058822,23.63636363636364,22.454545454545453,21.61111111111111,19.869565217391305,19.75,19.20833333333333,21.20833333333333,18.9,18.63636363636364,18.53846153846154,18.25,16.9,19.416666666666668,16.444444444444443,20.041666666666668,19.90909090909091,19.05,18.55555555555556,18.166666666666668,15.833333333333334,17.5,16.083333333333332,17.857142857142858,19.8,18.05,17.285714285714285,15.550000000000002,17.318181818181817,14.0,17.142857142857142,16.85,17.217391304347824,15.238095238095237,14.095238095238097,15.05263157894737],\"type\":\"scatter\"},{\"line\":{\"color\":\"rgba(55, 128, 191, 1.0)\",\"dash\":\"solid\",\"shape\":\"linear\",\"width\":1.3},\"mode\":\"lines\",\"name\":\"Predictions\",\"text\":\"\",\"x\":[0,1,2,3,4,5,6,7,8,9,10,11,12,13,14,15,16,17,18,19,20,21,22,23,24,25,26,27,28,29,30,31,32,33,34,35,36,37,38,39,40,41,42,43,44,45,46,47,48,49,50,51,52,53,54,55,56,57,58,59,60,61,62,63,64,65,66,67,68,69,70,71,72,73,74,75,76,77,78,79,80,81,82,83,84,85,86,87,88,89,90,91,92,93,94,95,96,97,98,99,100,101,102,103,104,105,106,107,108,109,110,111,112,113,114,115,116,117,118,119,120,121,122,123,124,125,126,127,128,129,130,131,132,133,134,135,136,137,138,139,140,141,142,143,144,145,146,147,148,149,150,151,152,153,154,155,156,157,158,159,160,161,162,163,164,165,166,167,168,169,170,171,172,173,174,175,176,177,178,179,180,181,182,183,184,185,186,187,188,189,190,191,192,193,194,195,196,197,198,199,200,201,202,203,204,205,206,207,208,209,210,211,212,213,214,215,216,217,218,219,220,221,222,223,224,225,226,227,228,229,230,231,232,233,234,235,236,237,238,239,240,241,242,243,244,245,246,247,248,249,250,251,252,253,254,255,256,257,258,259,260,261,262,263,264,265,266,267,268,269,270,271,272,273,274,275,276,277,278,279,280,281,282,283,284,285,286,287,288,289,290,291],\"y\":[24.267812728881836,24.151592254638672,26.585102081298828,26.51806640625,27.375795364379883,27.734100341796875,27.17669105529785,25.565067291259766,26.68501853942871,28.612218856811523,30.443561553955078,25.847299575805664,26.585052490234375,26.279888153076172,27.746389389038086,30.04156494140625,30.702533721923828,31.34770965576172,33.02388381958008,34.080787658691406,33.68324661254883,33.151363372802734,32.18105697631836,30.670129776000977,30.011259078979492,31.47416877746582,32.9757194519043,30.597612380981445,30.961885452270508,32.48826217651367,33.85657501220703,34.44187927246094,36.279998779296875,35.53427505493164,35.41678237915039,34.865699768066406,34.88014602661133,34.83469009399414,34.1199836730957,32.73949432373047,32.10455322265625,32.51398468017578,34.12565231323242,33.969932556152344,34.927268981933594,34.92453384399414,33.93215560913086,35.36917495727539,38.18686294555664,36.367164611816406,34.38099670410156,31.484609603881836,32.213985443115234,33.97798538208008,35.743160247802734,34.457401275634766,34.78345489501953,33.39811325073242,35.81781768798828,37.72633361816406,37.342647552490234,37.90840530395508,37.92723846435547,38.17295837402344,38.40984344482422,38.081844329833984,38.08926773071289,36.92333221435547,37.476585388183594,33.152591705322266,32.127296447753906,33.9106330871582,35.841007232666016,38.48695755004883,36.90094757080078,32.258522033691406,27.614490509033203,32.66252136230469,35.918514251708984,37.98920822143555,38.25474548339844,38.79979705810547,36.965362548828125,36.129276275634766,35.44599151611328,36.73952865600586,36.55155563354492,36.883636474609375,34.306697845458984,36.059181213378906,36.7470588684082,33.498165130615234,35.33100128173828,34.39495086669922,34.964813232421875,36.502201080322266,36.44255447387695,32.04016876220703,33.653663635253906,33.94294357299805,34.65681076049805,36.893184661865234,36.24448013305664,35.66209030151367,35.15300750732422,31.71870231628418,35.534420013427734,36.080352783203125,32.983028411865234,29.307706832885742,30.291648864746094,31.45758819580078,33.80448532104492,34.05418014526367,34.331871032714844,31.6159725189209,33.909934997558594,33.386234283447266,32.31246566772461,31.268136978149414,32.01023483276367,31.263032913208008,31.756696701049805,28.18302345275879,28.84870719909668,28.371065139770508,32.36268615722656,34.56249237060547,34.969146728515625,34.95657730102539,32.714691162109375,32.21361541748047,32.70873260498047,31.104755401611328,29.138967514038086,30.347841262817383,28.062793731689453,28.038259506225586,29.96169662475586,29.879304885864258,31.421493530273438,33.22938537597656,33.914039611816406,34.61032485961914,31.028919219970703,33.74366760253906,34.51579666137695,32.484642028808594,32.78406524658203,29.202024459838867,29.756765365600586,31.081104278564453,29.726119995117188,32.27717590332031,32.08586883544922,30.673128128051758,30.640167236328125,32.7247428894043,33.91536331176758,32.47810363769531,32.97350311279297,32.313926696777344,30.925792694091797,32.26261901855469,32.055015563964844,32.55860137939453,34.100006103515625,30.55193328857422,30.789457321166992,28.07558250427246,28.730281829833984,31.275907516479492,31.60641860961914,32.472679138183594,31.904483795166016,31.14593505859375,31.86114501953125,32.7075080871582,31.388521194458008,31.986297607421875,31.819076538085938,32.414981842041016,33.31462478637695,31.700212478637695,32.51127243041992,32.23259353637695,33.07445526123047,33.07866287231445,33.17512893676758,34.21131896972656,34.204383850097656,30.96453285217285,31.780794143676758,32.044795989990234,31.93636703491211,32.25529098510742,32.97241973876953,33.25231170654297,33.057640075683594,33.02129364013672,33.33953857421875,33.62956237792969,34.088401794433594,31.371381759643555,29.673402786254883,31.461217880249023,31.72123146057129,31.40107536315918,31.69182777404785,30.562990188598633,30.410011291503906,30.34293556213379,30.734668731689453,30.536653518676758,28.454057693481445,29.232234954833984,29.336570739746094,29.260522842407227,29.685466766357422,29.85206413269043,29.18621063232422,30.07903480529785,28.18290138244629,29.303394317626953,28.796600341796875,28.26902961730957,27.08456039428711,25.958765029907227,26.30471420288086,25.229358673095703,24.783979415893555,24.606979370117188,23.954771041870117,25.85357093811035,25.20464515686035,23.36952018737793,23.021942138671875,24.746599197387695,23.974443435668945,23.065631866455078,23.685012817382812,24.10582160949707,23.740463256835938,24.47530174255371,23.536121368408203,22.321914672851562,21.836294174194336,21.81736183166504,21.82018280029297,20.77450942993164,22.328027725219727,21.656906127929688,22.733102798461914,23.007474899291992,21.5803279876709,23.783294677734375,24.440322875976562,23.864906311035156,22.537477493286133,21.71584129333496,20.076749801635742,19.783323287963867,19.345211029052734,21.33135986328125,19.181324005126953,18.856801986694336,18.667203903198242,18.472997665405273,17.18662452697754,19.440519332885742,16.687267303466797,20.014780044555664,20.05590057373047,19.207496643066406,18.812480926513672,18.406522750854492,15.925495147705078,17.675485610961914,16.443706512451172,18.083690643310547,19.97084617614746,18.36618423461914,17.480806350708008,15.798116683959961,17.509681701660156,13.879566192626953,17.2005558013916,17.13313102722168,17.435842514038086,15.420937538146973,14.153644561767578,15.032303810119629],\"type\":\"scatter\"}],                        {\"legend\":{\"bgcolor\":\"#151516\",\"font\":{\"color\":\"#D9D9D9\"}},\"paper_bgcolor\":\"#151516\",\"plot_bgcolor\":\"#151516\",\"template\":{\"data\":{\"barpolar\":[{\"marker\":{\"line\":{\"color\":\"#E5ECF6\",\"width\":0.5},\"pattern\":{\"fillmode\":\"overlay\",\"size\":10,\"solidity\":0.2}},\"type\":\"barpolar\"}],\"bar\":[{\"error_x\":{\"color\":\"#2a3f5f\"},\"error_y\":{\"color\":\"#2a3f5f\"},\"marker\":{\"line\":{\"color\":\"#E5ECF6\",\"width\":0.5},\"pattern\":{\"fillmode\":\"overlay\",\"size\":10,\"solidity\":0.2}},\"type\":\"bar\"}],\"carpet\":[{\"aaxis\":{\"endlinecolor\":\"#2a3f5f\",\"gridcolor\":\"white\",\"linecolor\":\"white\",\"minorgridcolor\":\"white\",\"startlinecolor\":\"#2a3f5f\"},\"baxis\":{\"endlinecolor\":\"#2a3f5f\",\"gridcolor\":\"white\",\"linecolor\":\"white\",\"minorgridcolor\":\"white\",\"startlinecolor\":\"#2a3f5f\"},\"type\":\"carpet\"}],\"choropleth\":[{\"colorbar\":{\"outlinewidth\":0,\"ticks\":\"\"},\"type\":\"choropleth\"}],\"contourcarpet\":[{\"colorbar\":{\"outlinewidth\":0,\"ticks\":\"\"},\"type\":\"contourcarpet\"}],\"contour\":[{\"colorbar\":{\"outlinewidth\":0,\"ticks\":\"\"},\"colorscale\":[[0.0,\"#0d0887\"],[0.1111111111111111,\"#46039f\"],[0.2222222222222222,\"#7201a8\"],[0.3333333333333333,\"#9c179e\"],[0.4444444444444444,\"#bd3786\"],[0.5555555555555556,\"#d8576b\"],[0.6666666666666666,\"#ed7953\"],[0.7777777777777778,\"#fb9f3a\"],[0.8888888888888888,\"#fdca26\"],[1.0,\"#f0f921\"]],\"type\":\"contour\"}],\"heatmapgl\":[{\"colorbar\":{\"outlinewidth\":0,\"ticks\":\"\"},\"colorscale\":[[0.0,\"#0d0887\"],[0.1111111111111111,\"#46039f\"],[0.2222222222222222,\"#7201a8\"],[0.3333333333333333,\"#9c179e\"],[0.4444444444444444,\"#bd3786\"],[0.5555555555555556,\"#d8576b\"],[0.6666666666666666,\"#ed7953\"],[0.7777777777777778,\"#fb9f3a\"],[0.8888888888888888,\"#fdca26\"],[1.0,\"#f0f921\"]],\"type\":\"heatmapgl\"}],\"heatmap\":[{\"colorbar\":{\"outlinewidth\":0,\"ticks\":\"\"},\"colorscale\":[[0.0,\"#0d0887\"],[0.1111111111111111,\"#46039f\"],[0.2222222222222222,\"#7201a8\"],[0.3333333333333333,\"#9c179e\"],[0.4444444444444444,\"#bd3786\"],[0.5555555555555556,\"#d8576b\"],[0.6666666666666666,\"#ed7953\"],[0.7777777777777778,\"#fb9f3a\"],[0.8888888888888888,\"#fdca26\"],[1.0,\"#f0f921\"]],\"type\":\"heatmap\"}],\"histogram2dcontour\":[{\"colorbar\":{\"outlinewidth\":0,\"ticks\":\"\"},\"colorscale\":[[0.0,\"#0d0887\"],[0.1111111111111111,\"#46039f\"],[0.2222222222222222,\"#7201a8\"],[0.3333333333333333,\"#9c179e\"],[0.4444444444444444,\"#bd3786\"],[0.5555555555555556,\"#d8576b\"],[0.6666666666666666,\"#ed7953\"],[0.7777777777777778,\"#fb9f3a\"],[0.8888888888888888,\"#fdca26\"],[1.0,\"#f0f921\"]],\"type\":\"histogram2dcontour\"}],\"histogram2d\":[{\"colorbar\":{\"outlinewidth\":0,\"ticks\":\"\"},\"colorscale\":[[0.0,\"#0d0887\"],[0.1111111111111111,\"#46039f\"],[0.2222222222222222,\"#7201a8\"],[0.3333333333333333,\"#9c179e\"],[0.4444444444444444,\"#bd3786\"],[0.5555555555555556,\"#d8576b\"],[0.6666666666666666,\"#ed7953\"],[0.7777777777777778,\"#fb9f3a\"],[0.8888888888888888,\"#fdca26\"],[1.0,\"#f0f921\"]],\"type\":\"histogram2d\"}],\"histogram\":[{\"marker\":{\"pattern\":{\"fillmode\":\"overlay\",\"size\":10,\"solidity\":0.2}},\"type\":\"histogram\"}],\"mesh3d\":[{\"colorbar\":{\"outlinewidth\":0,\"ticks\":\"\"},\"type\":\"mesh3d\"}],\"parcoords\":[{\"line\":{\"colorbar\":{\"outlinewidth\":0,\"ticks\":\"\"}},\"type\":\"parcoords\"}],\"pie\":[{\"automargin\":true,\"type\":\"pie\"}],\"scatter3d\":[{\"line\":{\"colorbar\":{\"outlinewidth\":0,\"ticks\":\"\"}},\"marker\":{\"colorbar\":{\"outlinewidth\":0,\"ticks\":\"\"}},\"type\":\"scatter3d\"}],\"scattercarpet\":[{\"marker\":{\"colorbar\":{\"outlinewidth\":0,\"ticks\":\"\"}},\"type\":\"scattercarpet\"}],\"scattergeo\":[{\"marker\":{\"colorbar\":{\"outlinewidth\":0,\"ticks\":\"\"}},\"type\":\"scattergeo\"}],\"scattergl\":[{\"marker\":{\"colorbar\":{\"outlinewidth\":0,\"ticks\":\"\"}},\"type\":\"scattergl\"}],\"scattermapbox\":[{\"marker\":{\"colorbar\":{\"outlinewidth\":0,\"ticks\":\"\"}},\"type\":\"scattermapbox\"}],\"scatterpolargl\":[{\"marker\":{\"colorbar\":{\"outlinewidth\":0,\"ticks\":\"\"}},\"type\":\"scatterpolargl\"}],\"scatterpolar\":[{\"marker\":{\"colorbar\":{\"outlinewidth\":0,\"ticks\":\"\"}},\"type\":\"scatterpolar\"}],\"scatter\":[{\"fillpattern\":{\"fillmode\":\"overlay\",\"size\":10,\"solidity\":0.2},\"type\":\"scatter\"}],\"scatterternary\":[{\"marker\":{\"colorbar\":{\"outlinewidth\":0,\"ticks\":\"\"}},\"type\":\"scatterternary\"}],\"surface\":[{\"colorbar\":{\"outlinewidth\":0,\"ticks\":\"\"},\"colorscale\":[[0.0,\"#0d0887\"],[0.1111111111111111,\"#46039f\"],[0.2222222222222222,\"#7201a8\"],[0.3333333333333333,\"#9c179e\"],[0.4444444444444444,\"#bd3786\"],[0.5555555555555556,\"#d8576b\"],[0.6666666666666666,\"#ed7953\"],[0.7777777777777778,\"#fb9f3a\"],[0.8888888888888888,\"#fdca26\"],[1.0,\"#f0f921\"]],\"type\":\"surface\"}],\"table\":[{\"cells\":{\"fill\":{\"color\":\"#EBF0F8\"},\"line\":{\"color\":\"white\"}},\"header\":{\"fill\":{\"color\":\"#C8D4E3\"},\"line\":{\"color\":\"white\"}},\"type\":\"table\"}]},\"layout\":{\"annotationdefaults\":{\"arrowcolor\":\"#2a3f5f\",\"arrowhead\":0,\"arrowwidth\":1},\"autotypenumbers\":\"strict\",\"coloraxis\":{\"colorbar\":{\"outlinewidth\":0,\"ticks\":\"\"}},\"colorscale\":{\"diverging\":[[0,\"#8e0152\"],[0.1,\"#c51b7d\"],[0.2,\"#de77ae\"],[0.3,\"#f1b6da\"],[0.4,\"#fde0ef\"],[0.5,\"#f7f7f7\"],[0.6,\"#e6f5d0\"],[0.7,\"#b8e186\"],[0.8,\"#7fbc41\"],[0.9,\"#4d9221\"],[1,\"#276419\"]],\"sequential\":[[0.0,\"#0d0887\"],[0.1111111111111111,\"#46039f\"],[0.2222222222222222,\"#7201a8\"],[0.3333333333333333,\"#9c179e\"],[0.4444444444444444,\"#bd3786\"],[0.5555555555555556,\"#d8576b\"],[0.6666666666666666,\"#ed7953\"],[0.7777777777777778,\"#fb9f3a\"],[0.8888888888888888,\"#fdca26\"],[1.0,\"#f0f921\"]],\"sequentialminus\":[[0.0,\"#0d0887\"],[0.1111111111111111,\"#46039f\"],[0.2222222222222222,\"#7201a8\"],[0.3333333333333333,\"#9c179e\"],[0.4444444444444444,\"#bd3786\"],[0.5555555555555556,\"#d8576b\"],[0.6666666666666666,\"#ed7953\"],[0.7777777777777778,\"#fb9f3a\"],[0.8888888888888888,\"#fdca26\"],[1.0,\"#f0f921\"]]},\"colorway\":[\"#636efa\",\"#EF553B\",\"#00cc96\",\"#ab63fa\",\"#FFA15A\",\"#19d3f3\",\"#FF6692\",\"#B6E880\",\"#FF97FF\",\"#FECB52\"],\"font\":{\"color\":\"#2a3f5f\"},\"geo\":{\"bgcolor\":\"white\",\"lakecolor\":\"white\",\"landcolor\":\"#E5ECF6\",\"showlakes\":true,\"showland\":true,\"subunitcolor\":\"white\"},\"hoverlabel\":{\"align\":\"left\"},\"hovermode\":\"closest\",\"mapbox\":{\"style\":\"light\"},\"paper_bgcolor\":\"white\",\"plot_bgcolor\":\"#E5ECF6\",\"polar\":{\"angularaxis\":{\"gridcolor\":\"white\",\"linecolor\":\"white\",\"ticks\":\"\"},\"bgcolor\":\"#E5ECF6\",\"radialaxis\":{\"gridcolor\":\"white\",\"linecolor\":\"white\",\"ticks\":\"\"}},\"scene\":{\"xaxis\":{\"backgroundcolor\":\"#E5ECF6\",\"gridcolor\":\"white\",\"gridwidth\":2,\"linecolor\":\"white\",\"showbackground\":true,\"ticks\":\"\",\"zerolinecolor\":\"white\"},\"yaxis\":{\"backgroundcolor\":\"#E5ECF6\",\"gridcolor\":\"white\",\"gridwidth\":2,\"linecolor\":\"white\",\"showbackground\":true,\"ticks\":\"\",\"zerolinecolor\":\"white\"},\"zaxis\":{\"backgroundcolor\":\"#E5ECF6\",\"gridcolor\":\"white\",\"gridwidth\":2,\"linecolor\":\"white\",\"showbackground\":true,\"ticks\":\"\",\"zerolinecolor\":\"white\"}},\"shapedefaults\":{\"line\":{\"color\":\"#2a3f5f\"}},\"ternary\":{\"aaxis\":{\"gridcolor\":\"white\",\"linecolor\":\"white\",\"ticks\":\"\"},\"baxis\":{\"gridcolor\":\"white\",\"linecolor\":\"white\",\"ticks\":\"\"},\"bgcolor\":\"#E5ECF6\",\"caxis\":{\"gridcolor\":\"white\",\"linecolor\":\"white\",\"ticks\":\"\"}},\"title\":{\"x\":0.05},\"xaxis\":{\"automargin\":true,\"gridcolor\":\"white\",\"linecolor\":\"white\",\"ticks\":\"\",\"title\":{\"standoff\":15},\"zerolinecolor\":\"white\",\"zerolinewidth\":2},\"yaxis\":{\"automargin\":true,\"gridcolor\":\"white\",\"linecolor\":\"white\",\"ticks\":\"\",\"title\":{\"standoff\":15},\"zerolinecolor\":\"white\",\"zerolinewidth\":2}}},\"title\":{\"font\":{\"color\":\"#D9D9D9\"},\"text\":\"\\u041f\\u0440\\u043e\\u0433\\u043d\\u043e\\u0437 vs \\u0420\\u0435\\u0430\\u043b\\u044c\\u043d\\u044b\\u0435 \\u0437\\u043d\\u0430\\u0447\\u0435\\u043d\\u0438\\u044f\"},\"xaxis\":{\"gridcolor\":\"#434343\",\"showgrid\":true,\"tickfont\":{\"color\":\"#C2C2C2\"},\"title\":{\"font\":{\"color\":\"#D9D9D9\"},\"text\":\"\\u0412\\u0440\\u0435\\u043c\\u044f\"},\"zerolinecolor\":\"#666570\"},\"yaxis\":{\"gridcolor\":\"#434343\",\"showgrid\":true,\"tickfont\":{\"color\":\"#C2C2C2\"},\"title\":{\"font\":{\"color\":\"#D9D9D9\"},\"text\":\"\\u0417\\u043d\\u0430\\u0447\\u0435\\u043d\\u0438\\u0435\"},\"zerolinecolor\":\"#666570\"}},                        {\"showLink\": true, \"linkText\": \"Export to plot.ly\", \"plotlyServerURL\": \"https://plot.ly\", \"responsive\": true}                    ).then(function(){\n",
       "                            \n",
       "var gd = document.getElementById('864c273d-8aab-4b6e-a192-ecf62ac62f45');\n",
       "var x = new MutationObserver(function (mutations, observer) {{\n",
       "        var display = window.getComputedStyle(gd).display;\n",
       "        if (!display || display === 'none') {{\n",
       "            console.log([gd, 'removed!']);\n",
       "            Plotly.purge(gd);\n",
       "            observer.disconnect();\n",
       "        }}\n",
       "}});\n",
       "\n",
       "// Listen for the removal of the full notebook cells\n",
       "var notebookContainer = gd.closest('#notebook-container');\n",
       "if (notebookContainer) {{\n",
       "    x.observe(notebookContainer, {childList: true});\n",
       "}}\n",
       "\n",
       "// Listen for the clearing of the current output cell\n",
       "var outputEl = gd.closest('.output');\n",
       "if (outputEl) {{\n",
       "    x.observe(outputEl, {childList: true});\n",
       "}}\n",
       "\n",
       "                        })                };                });            </script>        </div>"
      ]
     },
     "metadata": {},
     "output_type": "display_data"
    }
   ],
   "source": [
    "predictions = model.predict(x_test)\n",
    "predicted_power = scaler.inverse_transform(predictions) \n",
    "\n",
    "y_test_inv = scaler.inverse_transform(y_test.reshape(-1, 1))\n",
    "predictions_inv = scaler.inverse_transform(predictions)\n",
    "df_test = pd.DataFrame({\n",
    "    'Y_test': y_test_inv.ravel(),\n",
    "    'Predictions': predictions_inv.ravel()\n",
    "})\n",
    "# Отобразить на графике\n",
    "df_test.iplot(title=\"Прогноз vs Реальные значения\", xTitle=\"Время\", yTitle=\"Значение\", theme=\"solar\")"
   ]
  },
  {
   "cell_type": "code",
   "execution_count": 16,
   "metadata": {},
   "outputs": [
    {
     "name": "stdout",
     "output_type": "stream",
     "text": [
      "MAPE: 1.9947120802288716%\n",
      "MAE: 0.6077570048117699\n"
     ]
    }
   ],
   "source": [
    "from sklearn.metrics import mean_absolute_error\n",
    "def mean_absolute_percentage_error(y_true, y_pred):\n",
    "    y_true, y_pred = np.array(y_true), np.array(y_pred)\n",
    "    return np.mean(np.abs((y_true - y_pred+0.001) / (y_true+0.001))) * 100\n",
    "mape = mean_absolute_percentage_error(y_test_inv, predictions_inv)\n",
    "mae = mean_absolute_error(y_test_inv, predictions_inv)\n",
    "print(f\"MAPE: {mape}%\")\n",
    "print(f\"MAE: {mae}\")"
   ]
  },
  {
   "cell_type": "code",
   "execution_count": null,
   "metadata": {},
   "outputs": [],
   "source": [
    "import optuna \n",
    "from tensorflow.keras.callbacks import EarlyStopping\n",
    "\n",
    "\n",
    "def create_model(trial):\n",
    "    model = Sequential()\n",
    "\n",
    "    n_units_1 = trial.suggest_int('n_units_1', 10, 100)\n",
    "    n_units_2 = trial.suggest_int('n_units_2', 10, 100)\n",
    "    n_units_3 = trial.suggest_int('n_units_3', 10, 100)\n",
    "    \n",
    "    model.add(LSTM(n_units_1, activation='relu', input_shape=(x_train.shape[1], 1), return_sequences=True))\n",
    "    model.add(LSTM(n_units_2, activation='relu', return_sequences=True))\n",
    "    model.add(Dropout(0.2)),\n",
    "    model.add(AttentionMechanism(return_sequences=True)),\n",
    "    model.add(LSTM(n_units_3, activation='relu'))\n",
    "    model.add(Dense(1))\n",
    "    model.compile(optimizer='adam', loss='mean_absolute_error')\n",
    "    \n",
    "    return model\n",
    "\n",
    "def objective(trial):\n",
    "    # Создание модели\n",
    "    model = create_model(trial)\n",
    "    \n",
    "    # Обучение модели\n",
    "    early_stopping = EarlyStopping(monitor='val_loss', patience=5)\n",
    "    history = model.fit(\n",
    "        x_train, y_train,\n",
    "        epochs=100,\n",
    "        batch_size=trial.suggest_int('batch_size', 16, 128),\n",
    "        validation_data=(x_test, y_test),\n",
    "        callbacks=[early_stopping],\n",
    "        verbose=0\n",
    "    )\n",
    "    \n",
    "    # Оценка модели\n",
    "    Y_pred = model.predict(x_test)\n",
    "    predicted_power = scaler.inverse_transform(Y_pred)\n",
    "    y_test_inv = scaler.inverse_transform(y_test.reshape(-1, 1))\n",
    "    score = mean_absolute_error(y_test_inv, predicted_power)\n",
    "    \n",
    "    return score\n",
    "\n",
    "\n",
    "study = optuna.create_study(direction='minimize')\n",
    "study.optimize(objective, n_trials=20)\n",
    "\n",
    "# Вывод наилучших гиперпараметров\n",
    "print(\"Best hyperparameters:\", study.best_params)\n",
    "print(\"Best score:\", study.best_value)"
   ]
  },
  {
   "cell_type": "code",
   "execution_count": 22,
   "metadata": {},
   "outputs": [
    {
     "name": "stdout",
     "output_type": "stream",
     "text": [
      "Epoch 1/100\n",
      "25/25 [==============================] - 9s 164ms/step - loss: 0.5106 - val_loss: 0.5513\n",
      "Epoch 2/100\n",
      "25/25 [==============================] - 5s 192ms/step - loss: 0.2321 - val_loss: 0.1745\n",
      "Epoch 3/100\n",
      "25/25 [==============================] - 6s 229ms/step - loss: 0.1314 - val_loss: 0.0806\n",
      "Epoch 4/100\n",
      "25/25 [==============================] - 5s 196ms/step - loss: 0.0930 - val_loss: 0.0619\n",
      "Epoch 5/100\n",
      "25/25 [==============================] - 6s 227ms/step - loss: 0.0810 - val_loss: 0.1030\n",
      "Epoch 6/100\n",
      "25/25 [==============================] - 5s 214ms/step - loss: 0.0759 - val_loss: 0.0651\n",
      "Epoch 7/100\n",
      "25/25 [==============================] - 6s 223ms/step - loss: 0.0709 - val_loss: 0.0621\n",
      "Epoch 8/100\n",
      "25/25 [==============================] - 7s 266ms/step - loss: 0.0694 - val_loss: 0.0591\n",
      "Epoch 9/100\n",
      "25/25 [==============================] - 5s 194ms/step - loss: 0.0675 - val_loss: 0.0592\n",
      "Epoch 10/100\n",
      "25/25 [==============================] - 3s 137ms/step - loss: 0.0654 - val_loss: 0.0555\n",
      "Epoch 11/100\n",
      "25/25 [==============================] - 7s 278ms/step - loss: 0.0660 - val_loss: 0.0618\n",
      "Epoch 12/100\n",
      "25/25 [==============================] - 4s 166ms/step - loss: 0.0604 - val_loss: 0.0500\n",
      "Epoch 13/100\n",
      "25/25 [==============================] - 6s 232ms/step - loss: 0.0548 - val_loss: 0.0501\n",
      "Epoch 14/100\n",
      "25/25 [==============================] - 4s 180ms/step - loss: 0.0540 - val_loss: 0.0458\n",
      "Epoch 15/100\n",
      "25/25 [==============================] - 6s 250ms/step - loss: 0.0541 - val_loss: 0.0492\n",
      "Epoch 16/100\n",
      "25/25 [==============================] - 5s 215ms/step - loss: 0.0500 - val_loss: 0.0468\n",
      "Epoch 17/100\n",
      "25/25 [==============================] - 6s 228ms/step - loss: 0.0479 - val_loss: 0.0437\n",
      "Epoch 18/100\n",
      "25/25 [==============================] - 5s 188ms/step - loss: 0.0470 - val_loss: 0.0405\n",
      "Epoch 19/100\n",
      "25/25 [==============================] - 3s 131ms/step - loss: 0.0458 - val_loss: 0.0401\n",
      "Epoch 20/100\n",
      "25/25 [==============================] - 5s 214ms/step - loss: 0.0462 - val_loss: 0.0403\n",
      "Epoch 21/100\n",
      "25/25 [==============================] - 4s 170ms/step - loss: 0.0440 - val_loss: 0.0374\n",
      "Epoch 22/100\n",
      "25/25 [==============================] - 5s 189ms/step - loss: 0.0429 - val_loss: 0.0420\n",
      "Epoch 23/100\n",
      "25/25 [==============================] - 5s 204ms/step - loss: 0.0421 - val_loss: 0.0369\n",
      "Epoch 24/100\n",
      "25/25 [==============================] - 4s 153ms/step - loss: 0.0398 - val_loss: 0.0366\n",
      "Epoch 25/100\n",
      "25/25 [==============================] - 3s 132ms/step - loss: 0.0408 - val_loss: 0.0403\n",
      "Epoch 26/100\n",
      "25/25 [==============================] - 4s 152ms/step - loss: 0.0430 - val_loss: 0.0341\n",
      "Epoch 27/100\n",
      "25/25 [==============================] - 4s 153ms/step - loss: 0.0393 - val_loss: 0.0326\n",
      "Epoch 28/100\n",
      "25/25 [==============================] - 5s 194ms/step - loss: 0.0390 - val_loss: 0.0355\n",
      "Epoch 29/100\n",
      "25/25 [==============================] - 5s 207ms/step - loss: 0.0370 - val_loss: 0.0323\n",
      "Epoch 30/100\n",
      "25/25 [==============================] - 5s 199ms/step - loss: 0.0367 - val_loss: 0.0304\n",
      "Epoch 31/100\n",
      "25/25 [==============================] - 6s 232ms/step - loss: 0.0364 - val_loss: 0.0293\n",
      "Epoch 32/100\n",
      "25/25 [==============================] - 3s 133ms/step - loss: 0.0402 - val_loss: 0.0315\n",
      "Epoch 33/100\n",
      "25/25 [==============================] - 4s 153ms/step - loss: 0.0393 - val_loss: 0.0360\n",
      "Epoch 34/100\n",
      "25/25 [==============================] - 4s 144ms/step - loss: 0.0366 - val_loss: 0.0321\n",
      "Epoch 35/100\n",
      "25/25 [==============================] - 4s 160ms/step - loss: 0.0365 - val_loss: 0.0323\n",
      "Epoch 36/100\n",
      "25/25 [==============================] - 4s 167ms/step - loss: 0.0346 - val_loss: 0.0283\n",
      "Epoch 37/100\n",
      "25/25 [==============================] - 6s 233ms/step - loss: 0.0344 - val_loss: 0.0313\n",
      "Epoch 38/100\n",
      "25/25 [==============================] - 5s 202ms/step - loss: 0.0346 - val_loss: 0.0280\n",
      "Epoch 39/100\n",
      "25/25 [==============================] - 5s 217ms/step - loss: 0.0332 - val_loss: 0.0266\n",
      "Epoch 40/100\n",
      "25/25 [==============================] - 3s 136ms/step - loss: 0.0325 - val_loss: 0.0261\n",
      "Epoch 41/100\n",
      "25/25 [==============================] - 4s 149ms/step - loss: 0.0315 - val_loss: 0.0305\n",
      "Epoch 42/100\n",
      "25/25 [==============================] - 3s 138ms/step - loss: 0.0301 - val_loss: 0.0242\n",
      "Epoch 43/100\n",
      "25/25 [==============================] - 4s 169ms/step - loss: 0.0324 - val_loss: 0.0240\n",
      "Epoch 44/100\n",
      "25/25 [==============================] - 4s 165ms/step - loss: 0.0289 - val_loss: 0.0217\n",
      "Epoch 45/100\n",
      "25/25 [==============================] - 5s 216ms/step - loss: 0.0292 - val_loss: 0.0206\n",
      "Epoch 46/100\n",
      "25/25 [==============================] - 3s 128ms/step - loss: 0.0285 - val_loss: 0.0356\n",
      "Epoch 47/100\n",
      "25/25 [==============================] - 4s 150ms/step - loss: 0.0274 - val_loss: 0.0287\n",
      "Epoch 48/100\n",
      "25/25 [==============================] - 3s 126ms/step - loss: 0.0248 - val_loss: 0.0135\n",
      "Epoch 49/100\n",
      "25/25 [==============================] - 4s 147ms/step - loss: 0.0243 - val_loss: 0.0221\n",
      "Epoch 50/100\n",
      "25/25 [==============================] - 4s 149ms/step - loss: 0.0240 - val_loss: 0.0209\n",
      "Epoch 51/100\n",
      "25/25 [==============================] - 4s 172ms/step - loss: 0.0235 - val_loss: 0.0135\n",
      "Epoch 52/100\n",
      "25/25 [==============================] - 5s 202ms/step - loss: 0.0226 - val_loss: 0.0305\n",
      "Epoch 53/100\n",
      "25/25 [==============================] - 5s 219ms/step - loss: 0.0228 - val_loss: 0.0091\n",
      "Epoch 54/100\n",
      "25/25 [==============================] - 5s 216ms/step - loss: 0.0210 - val_loss: 0.0123\n",
      "Epoch 55/100\n",
      "25/25 [==============================] - 5s 189ms/step - loss: 0.0210 - val_loss: 0.0087\n",
      "Epoch 56/100\n",
      "25/25 [==============================] - 3s 126ms/step - loss: 0.0200 - val_loss: 0.0340\n",
      "Epoch 57/100\n",
      "25/25 [==============================] - 4s 144ms/step - loss: 0.0202 - val_loss: 0.0099\n",
      "Epoch 58/100\n",
      "25/25 [==============================] - 4s 141ms/step - loss: 0.0212 - val_loss: 0.0314\n",
      "Epoch 59/100\n",
      "25/25 [==============================] - 4s 160ms/step - loss: 0.0208 - val_loss: 0.0109\n",
      "Epoch 60/100\n",
      "25/25 [==============================] - 3s 132ms/step - loss: 0.0197 - val_loss: 0.0248\n",
      "Epoch 61/100\n",
      "25/25 [==============================] - 4s 158ms/step - loss: 0.0197 - val_loss: 0.0296\n",
      "Epoch 62/100\n",
      "25/25 [==============================] - 3s 133ms/step - loss: 0.0197 - val_loss: 0.0294\n",
      "Epoch 63/100\n",
      "25/25 [==============================] - 5s 195ms/step - loss: 0.0209 - val_loss: 0.0102\n",
      "Epoch 64/100\n",
      "25/25 [==============================] - 4s 157ms/step - loss: 0.0198 - val_loss: 0.0275\n",
      "Epoch 65/100\n",
      "25/25 [==============================] - 5s 199ms/step - loss: 0.0201 - val_loss: 0.0245\n",
      "Epoch 66/100\n",
      "25/25 [==============================] - 6s 224ms/step - loss: 0.0187 - val_loss: 0.0192\n",
      "Epoch 67/100\n",
      "25/25 [==============================] - 6s 236ms/step - loss: 0.0193 - val_loss: 0.0291\n",
      "Epoch 68/100\n",
      "25/25 [==============================] - 5s 187ms/step - loss: 0.0194 - val_loss: 0.0202\n",
      "Epoch 69/100\n",
      "25/25 [==============================] - 3s 131ms/step - loss: 0.0187 - val_loss: 0.0127\n",
      "Epoch 70/100\n",
      "25/25 [==============================] - 4s 146ms/step - loss: 0.0184 - val_loss: 0.0068\n",
      "Epoch 71/100\n",
      "25/25 [==============================] - 5s 205ms/step - loss: 0.0177 - val_loss: 0.0314\n",
      "Epoch 72/100\n",
      "25/25 [==============================] - 5s 179ms/step - loss: 0.0215 - val_loss: 0.0296\n",
      "Epoch 73/100\n",
      "25/25 [==============================] - 5s 215ms/step - loss: 0.0201 - val_loss: 0.0110\n",
      "Epoch 74/100\n",
      "25/25 [==============================] - 5s 217ms/step - loss: 0.0183 - val_loss: 0.0226\n",
      "Epoch 75/100\n",
      "25/25 [==============================] - 5s 185ms/step - loss: 0.0172 - val_loss: 0.0157\n",
      "Epoch 76/100\n",
      "25/25 [==============================] - 5s 220ms/step - loss: 0.0178 - val_loss: 0.0270\n",
      "Epoch 77/100\n",
      "25/25 [==============================] - 4s 147ms/step - loss: 0.0162 - val_loss: 0.0120\n",
      "Epoch 78/100\n",
      "25/25 [==============================] - 3s 126ms/step - loss: 0.0172 - val_loss: 0.0172\n",
      "Epoch 79/100\n",
      "25/25 [==============================] - 3s 119ms/step - loss: 0.0171 - val_loss: 0.0149\n",
      "Epoch 80/100\n",
      "25/25 [==============================] - 3s 133ms/step - loss: 0.0166 - val_loss: 0.0289\n",
      "Epoch 81/100\n",
      "25/25 [==============================] - 3s 132ms/step - loss: 0.0173 - val_loss: 0.0247\n",
      "Epoch 82/100\n",
      "25/25 [==============================] - 4s 165ms/step - loss: 0.0165 - val_loss: 0.0268\n",
      "Epoch 83/100\n",
      "25/25 [==============================] - 3s 133ms/step - loss: 0.0161 - val_loss: 0.0160\n",
      "Epoch 84/100\n",
      "25/25 [==============================] - 3s 133ms/step - loss: 0.0159 - val_loss: 0.0306\n",
      "Epoch 85/100\n",
      "25/25 [==============================] - 3s 129ms/step - loss: 0.0158 - val_loss: 0.0243\n",
      "Epoch 86/100\n",
      "25/25 [==============================] - 3s 131ms/step - loss: 0.0167 - val_loss: 0.0229\n",
      "Epoch 87/100\n",
      "25/25 [==============================] - 3s 117ms/step - loss: 0.0196 - val_loss: 0.0350\n",
      "Epoch 88/100\n",
      "25/25 [==============================] - 4s 154ms/step - loss: 0.0155 - val_loss: 0.0236\n",
      "Epoch 89/100\n",
      "25/25 [==============================] - 3s 138ms/step - loss: 0.0159 - val_loss: 0.0402\n",
      "Epoch 90/100\n",
      "25/25 [==============================] - 4s 167ms/step - loss: 0.0158 - val_loss: 0.0469\n",
      "Epoch 91/100\n",
      "25/25 [==============================] - 4s 161ms/step - loss: 0.0151 - val_loss: 0.0262\n",
      "Epoch 92/100\n",
      "25/25 [==============================] - 5s 197ms/step - loss: 0.0155 - val_loss: 0.0207\n",
      "Epoch 93/100\n",
      "25/25 [==============================] - 4s 179ms/step - loss: 0.0158 - val_loss: 0.0302\n",
      "Epoch 94/100\n",
      "25/25 [==============================] - 5s 207ms/step - loss: 0.0142 - val_loss: 0.0389\n",
      "Epoch 95/100\n",
      "25/25 [==============================] - 4s 173ms/step - loss: 0.0139 - val_loss: 0.0245\n",
      "Epoch 96/100\n",
      "25/25 [==============================] - 5s 194ms/step - loss: 0.0141 - val_loss: 0.0379\n",
      "Epoch 97/100\n",
      "25/25 [==============================] - 3s 135ms/step - loss: 0.0142 - val_loss: 0.0380\n",
      "Epoch 98/100\n",
      "25/25 [==============================] - 3s 135ms/step - loss: 0.0150 - val_loss: 0.0333\n",
      "Epoch 99/100\n",
      "25/25 [==============================] - 4s 149ms/step - loss: 0.0134 - val_loss: 0.0378\n",
      "Epoch 100/100\n",
      "25/25 [==============================] - 4s 147ms/step - loss: 0.0129 - val_loss: 0.0496\n"
     ]
    },
    {
     "data": {
      "text/plain": [
       "<keras.callbacks.History at 0x24d18d27e50>"
      ]
     },
     "execution_count": 22,
     "metadata": {},
     "output_type": "execute_result"
    }
   ],
   "source": [
    "model = Sequential()\n",
    "\n",
    "model.add(LSTM(98, activation='relu', input_shape=(x_train.shape[1], 1), return_sequences=True))\n",
    "model.add(LSTM(79, activation='relu', return_sequences=True))\n",
    "model.add(Dropout(0.2)),\n",
    "model.add(AttentionMechanism(return_sequences=True)),\n",
    "model.add(LSTM(44, activation='relu'))\n",
    "model.add(Dense(1))\n",
    "model.compile(optimizer='adam', loss='mean_absolute_error')\n",
    "\n",
    "model.fit(x_train, y_train, epochs=100, batch_size=47, validation_data=(x_test, y_test))"
   ]
  },
  {
   "cell_type": "code",
   "execution_count": 24,
   "metadata": {},
   "outputs": [
    {
     "name": "stdout",
     "output_type": "stream",
     "text": [
      "10/10 [==============================] - 0s 4ms/step\n"
     ]
    },
    {
     "data": {
      "application/vnd.plotly.v1+json": {
       "config": {
        "linkText": "Export to plot.ly",
        "plotlyServerURL": "https://plot.ly",
        "showLink": true
       },
       "data": [
        {
         "line": {
          "color": "rgba(255, 153, 51, 1.0)",
          "dash": "solid",
          "shape": "linear",
          "width": 1.3
         },
         "mode": "lines",
         "name": "Y_test",
         "text": "",
         "type": "scatter",
         "x": [
          0,
          1,
          2,
          3,
          4,
          5,
          6,
          7,
          8,
          9,
          10,
          11,
          12,
          13,
          14,
          15,
          16,
          17,
          18,
          19,
          20,
          21,
          22,
          23,
          24,
          25,
          26,
          27,
          28,
          29,
          30,
          31,
          32,
          33,
          34,
          35,
          36,
          37,
          38,
          39,
          40,
          41,
          42,
          43,
          44,
          45,
          46,
          47,
          48,
          49,
          50,
          51,
          52,
          53,
          54,
          55,
          56,
          57,
          58,
          59,
          60,
          61,
          62,
          63,
          64,
          65,
          66,
          67,
          68,
          69,
          70,
          71,
          72,
          73,
          74,
          75,
          76,
          77,
          78,
          79,
          80,
          81,
          82,
          83,
          84,
          85,
          86,
          87,
          88,
          89,
          90,
          91,
          92,
          93,
          94,
          95,
          96,
          97,
          98,
          99,
          100,
          101,
          102,
          103,
          104,
          105,
          106,
          107,
          108,
          109,
          110,
          111,
          112,
          113,
          114,
          115,
          116,
          117,
          118,
          119,
          120,
          121,
          122,
          123,
          124,
          125,
          126,
          127,
          128,
          129,
          130,
          131,
          132,
          133,
          134,
          135,
          136,
          137,
          138,
          139,
          140,
          141,
          142,
          143,
          144,
          145,
          146,
          147,
          148,
          149,
          150,
          151,
          152,
          153,
          154,
          155,
          156,
          157,
          158,
          159,
          160,
          161,
          162,
          163,
          164,
          165,
          166,
          167,
          168,
          169,
          170,
          171,
          172,
          173,
          174,
          175,
          176,
          177,
          178,
          179,
          180,
          181,
          182,
          183,
          184,
          185,
          186,
          187,
          188,
          189,
          190,
          191,
          192,
          193,
          194,
          195,
          196,
          197,
          198,
          199,
          200,
          201,
          202,
          203,
          204,
          205,
          206,
          207,
          208,
          209,
          210,
          211,
          212,
          213,
          214,
          215,
          216,
          217,
          218,
          219,
          220,
          221,
          222,
          223,
          224,
          225,
          226,
          227,
          228,
          229,
          230,
          231,
          232,
          233,
          234,
          235,
          236,
          237,
          238,
          239,
          240,
          241,
          242,
          243,
          244,
          245,
          246,
          247,
          248,
          249,
          250,
          251,
          252,
          253,
          254,
          255,
          256,
          257,
          258,
          259,
          260,
          261,
          262,
          263,
          264,
          265,
          266,
          267,
          268,
          269,
          270,
          271,
          272,
          273,
          274,
          275,
          276,
          277,
          278,
          279,
          280,
          281,
          282,
          283,
          284,
          285,
          286,
          287,
          288,
          289,
          290,
          291
         ],
         "y": [
          24.066666666666663,
          23.9375,
          26.3125,
          26.187499999999996,
          26.785714285714285,
          27.133333333333333,
          26.625,
          25.0625,
          26.2,
          28.133333333333333,
          29.875,
          24.666666666666668,
          26.25,
          25.93333333333333,
          27.125,
          29.571428571428573,
          30,
          30.571428571428573,
          32.3125,
          33.3125,
          32.8125,
          32.3125,
          31.375,
          29.933333333333334,
          29.266666666666666,
          30.73333333333333,
          32.25,
          29.8,
          30.2,
          31.75,
          33.125,
          33.625,
          35.6875,
          34.666666666666664,
          34.625,
          34,
          34.0625,
          34,
          33.25,
          31.916666666666668,
          31.3125,
          31.75,
          33.4375,
          33.125,
          34.15384615384615,
          34.07142857142857,
          33.0625,
          34.6875,
          38,
          35.49999999999999,
          33.714285714285715,
          30.6,
          31.4375,
          33.3125,
          35.13333333333333,
          33.53333333333333,
          34,
          32.5,
          35.375,
          37.294117647058826,
          36.5625,
          37.25,
          37.21428571428572,
          37.5,
          37.75,
          37.375,
          37.4,
          36.13333333333333,
          36.8,
          32.214285714285715,
          31.526315789473685,
          33.21739130434783,
          35.26923076923077,
          38.27272727272727,
          36.0625,
          31.5,
          26.8125,
          32.642857142857146,
          36,
          37.5625,
          37.5625,
          38.2,
          36.16666666666666,
          35.42857142857143,
          34.625,
          36.07142857142857,
          35.733333333333334,
          36.13333333333333,
          33.4375,
          35.49999999999999,
          36,
          32.625,
          34.733333333333334,
          33.5,
          34.1875,
          35.857142857142854,
          35.625,
          30.9375,
          32.875,
          33.125,
          33.84615384615385,
          36.4375,
          35.42857142857143,
          34.86666666666667,
          34.3125,
          30.785714285714285,
          35.375,
          35.46666666666667,
          32.125,
          28.4,
          29.5625,
          30.6875,
          33.25,
          33.266666666666666,
          33.5,
          30.8,
          33.25,
          32.5625,
          31.5,
          30.5,
          31.25,
          30.4375,
          31,
          27.125,
          28.125,
          27.666666666666668,
          32.3125,
          34.1875,
          34.13333333333333,
          34.125,
          31.875,
          31.4375,
          31.9375,
          30.3125,
          28.3125,
          29.53333333333333,
          27.375,
          27.33333333333333,
          29.266666666666666,
          29.125,
          30.6875,
          32.5625,
          33.111111111111114,
          33.8,
          30.066666666666663,
          33.11764705882353,
          33.80952380952381,
          31.615384615384617,
          32,
          28.107142857142858,
          29.035714285714285,
          30.321428571428573,
          28.933333333333334,
          31.678571428571427,
          31.33333333333333,
          29.928571428571427,
          29.88888888888889,
          32.07142857142857,
          33.18518518518518,
          31.59259259259259,
          32.18518518518518,
          31.48,
          30.178571428571427,
          31.52,
          31.22222222222222,
          31.785714285714285,
          33.4,
          29.571428571428573,
          30.04,
          27.25925925925926,
          27.96,
          30.73913043478261,
          30.894736842105264,
          31.692307692307693,
          31.07692307692308,
          30.375,
          31.1,
          31.916666666666668,
          30.55555555555556,
          31.23076923076923,
          31,
          31.642857142857142,
          32.53333333333333,
          30.857142857142858,
          31.727272727272727,
          31.4,
          32.30769230769231,
          32.25,
          32.375,
          33.44444444444444,
          33.36,
          30.03703703703704,
          31,
          31.24,
          31.130434782608692,
          31.48,
          32.18518518518518,
          32.44,
          32.22727272727273,
          32.214285714285715,
          32.541666666666664,
          32.81481481481482,
          33.26923076923077,
          30.55555555555556,
          28.83333333333333,
          30.703703703703702,
          30.96,
          30.6,
          30.92,
          29.77777777777778,
          29.666666666666668,
          29.571428571428573,
          29.96296296296296,
          29.75,
          27.74074074074074,
          28.428571428571427,
          28.6,
          28.5,
          28.925925925925927,
          29.07692307692308,
          28.40909090909091,
          29.33333333333333,
          27.5,
          28.5,
          28.04,
          27.57692307692308,
          26.55555555555556,
          25.51851851851852,
          25.814814814814813,
          24.82608695652174,
          24.53846153846154,
          24.384615384615383,
          23.727272727272727,
          25.64,
          24.814814814814813,
          23.115384615384617,
          22.925925925925927,
          24.545454545454547,
          23.73076923076923,
          23,
          23.51851851851852,
          23.92,
          23.53846153846154,
          24.296296296296298,
          23.346153846153847,
          22.24,
          21.769230769230774,
          21.73076923076923,
          21.73076923076923,
          20.666666666666668,
          22.25,
          21.53846153846154,
          22.57894736842105,
          22.82608695652174,
          21.42105263157895,
          23.6,
          24.294117647058822,
          23.63636363636364,
          22.454545454545453,
          21.61111111111111,
          19.869565217391305,
          19.75,
          19.20833333333333,
          21.20833333333333,
          18.9,
          18.63636363636364,
          18.53846153846154,
          18.25,
          16.9,
          19.416666666666668,
          16.444444444444443,
          20.041666666666668,
          19.90909090909091,
          19.05,
          18.55555555555556,
          18.166666666666668,
          15.833333333333334,
          17.5,
          16.083333333333332,
          17.857142857142858,
          19.8,
          18.05,
          17.285714285714285,
          15.550000000000002,
          17.318181818181817,
          14,
          17.142857142857142,
          16.85,
          17.217391304347824,
          15.238095238095237,
          14.095238095238097,
          15.05263157894737
         ]
        },
        {
         "line": {
          "color": "rgba(55, 128, 191, 1.0)",
          "dash": "solid",
          "shape": "linear",
          "width": 1.3
         },
         "mode": "lines",
         "name": "Predictions",
         "text": "",
         "type": "scatter",
         "x": [
          0,
          1,
          2,
          3,
          4,
          5,
          6,
          7,
          8,
          9,
          10,
          11,
          12,
          13,
          14,
          15,
          16,
          17,
          18,
          19,
          20,
          21,
          22,
          23,
          24,
          25,
          26,
          27,
          28,
          29,
          30,
          31,
          32,
          33,
          34,
          35,
          36,
          37,
          38,
          39,
          40,
          41,
          42,
          43,
          44,
          45,
          46,
          47,
          48,
          49,
          50,
          51,
          52,
          53,
          54,
          55,
          56,
          57,
          58,
          59,
          60,
          61,
          62,
          63,
          64,
          65,
          66,
          67,
          68,
          69,
          70,
          71,
          72,
          73,
          74,
          75,
          76,
          77,
          78,
          79,
          80,
          81,
          82,
          83,
          84,
          85,
          86,
          87,
          88,
          89,
          90,
          91,
          92,
          93,
          94,
          95,
          96,
          97,
          98,
          99,
          100,
          101,
          102,
          103,
          104,
          105,
          106,
          107,
          108,
          109,
          110,
          111,
          112,
          113,
          114,
          115,
          116,
          117,
          118,
          119,
          120,
          121,
          122,
          123,
          124,
          125,
          126,
          127,
          128,
          129,
          130,
          131,
          132,
          133,
          134,
          135,
          136,
          137,
          138,
          139,
          140,
          141,
          142,
          143,
          144,
          145,
          146,
          147,
          148,
          149,
          150,
          151,
          152,
          153,
          154,
          155,
          156,
          157,
          158,
          159,
          160,
          161,
          162,
          163,
          164,
          165,
          166,
          167,
          168,
          169,
          170,
          171,
          172,
          173,
          174,
          175,
          176,
          177,
          178,
          179,
          180,
          181,
          182,
          183,
          184,
          185,
          186,
          187,
          188,
          189,
          190,
          191,
          192,
          193,
          194,
          195,
          196,
          197,
          198,
          199,
          200,
          201,
          202,
          203,
          204,
          205,
          206,
          207,
          208,
          209,
          210,
          211,
          212,
          213,
          214,
          215,
          216,
          217,
          218,
          219,
          220,
          221,
          222,
          223,
          224,
          225,
          226,
          227,
          228,
          229,
          230,
          231,
          232,
          233,
          234,
          235,
          236,
          237,
          238,
          239,
          240,
          241,
          242,
          243,
          244,
          245,
          246,
          247,
          248,
          249,
          250,
          251,
          252,
          253,
          254,
          255,
          256,
          257,
          258,
          259,
          260,
          261,
          262,
          263,
          264,
          265,
          266,
          267,
          268,
          269,
          270,
          271,
          272,
          273,
          274,
          275,
          276,
          277,
          278,
          279,
          280,
          281,
          282,
          283,
          284,
          285,
          286,
          287,
          288,
          289,
          290,
          291
         ],
         "y": [
          23.33179473876953,
          23.160755157470703,
          25.449058532714844,
          25.21097755432129,
          25.661758422851562,
          25.989299774169922,
          25.475849151611328,
          23.991174697875977,
          25.15630531311035,
          26.986751556396484,
          28.465499877929688,
          23.717777252197266,
          25.12107276916504,
          24.922029495239258,
          26.003643035888672,
          28.221099853515625,
          28.552339553833008,
          28.917449951171875,
          30.356626510620117,
          31.22787857055664,
          30.811830520629883,
          30.25860595703125,
          29.495784759521484,
          28.299861907958984,
          27.71792984008789,
          28.997642517089844,
          30.36088752746582,
          28.41722869873047,
          28.549358367919922,
          29.893386840820312,
          31.061031341552734,
          31.45884132385254,
          32.91663360595703,
          32.35637664794922,
          32.02567672729492,
          31.665733337402344,
          31.622325897216797,
          31.655916213989258,
          31.068885803222656,
          29.93694305419922,
          29.399263381958008,
          29.793132781982422,
          31.21812629699707,
          31.09423828125,
          31.69831085205078,
          31.805173873901367,
          30.923351287841797,
          32.02771759033203,
          34.68666076660156,
          33.1687126159668,
          31.35317611694336,
          28.96761703491211,
          29.52336311340332,
          31.159217834472656,
          32.62491226196289,
          31.473506927490234,
          31.49720573425293,
          30.536596298217773,
          32.525272369384766,
          34.31608581542969,
          33.81596374511719,
          34.0659065246582,
          34.21360778808594,
          34.360015869140625,
          34.5881233215332,
          34.32998275756836,
          34.26740646362305,
          33.3968391418457,
          33.67124557495117,
          30.756349563598633,
          29.497867584228516,
          30.94388771057129,
          32.7034912109375,
          34.93341064453125,
          33.58343505859375,
          29.948978424072266,
          25.86410903930664,
          30.593786239624023,
          33.67396926879883,
          34.566162109375,
          34.524837493896484,
          34.898040771484375,
          33.54499053955078,
          32.633602142333984,
          32.08978271484375,
          33.10171127319336,
          33.13243865966797,
          33.23818588256836,
          31.427845001220703,
          32.619564056396484,
          33.3387565612793,
          30.93218421936035,
          32.03114318847656,
          31.433862686157227,
          31.652286529541016,
          33.07582092285156,
          33.05613327026367,
          29.697223663330078,
          30.54372787475586,
          31.099742889404297,
          31.533153533935547,
          33.491825103759766,
          32.93902587890625,
          32.24068832397461,
          31.849245071411133,
          29.266836166381836,
          32.546653747558594,
          33.009822845458984,
          30.447534561157227,
          27.143295288085938,
          27.981170654296875,
          29.06895637512207,
          31.124069213867188,
          31.255306243896484,
          31.250102996826172,
          29.2382755279541,
          30.984657287597656,
          30.669450759887695,
          29.588590621948242,
          28.752260208129883,
          29.37653923034668,
          28.82647132873535,
          29.175018310546875,
          26.123720169067383,
          26.74796485900879,
          26.43581771850586,
          30.4051456451416,
          32.1431999206543,
          31.9046688079834,
          31.73818588256836,
          30.042390823364258,
          29.503999710083008,
          29.95781898498535,
          28.731029510498047,
          26.916439056396484,
          28.033828735351562,
          26.246665954589844,
          26.114215850830078,
          27.878135681152344,
          27.757953643798828,
          28.99835968017578,
          30.616535186767578,
          31.081716537475586,
          31.531747817993164,
          28.798559188842773,
          30.84581756591797,
          31.71782875061035,
          29.912799835205078,
          29.951824188232422,
          27.051870346069336,
          27.52401351928711,
          28.76520347595215,
          27.56121826171875,
          29.793291091918945,
          29.671083450317383,
          28.321107864379883,
          28.23581314086914,
          30.122142791748047,
          31.157550811767578,
          29.851829528808594,
          30.10147476196289,
          29.68665313720703,
          28.50832176208496,
          29.60466957092285,
          29.510408401489258,
          29.84770393371582,
          31.20319366455078,
          28.274187088012695,
          28.363773345947266,
          26.15249252319336,
          26.669292449951172,
          29.168947219848633,
          29.326255798339844,
          29.817241668701172,
          29.3663272857666,
          28.649747848510742,
          29.264629364013672,
          30.052127838134766,
          28.95075225830078,
          29.35391616821289,
          29.289947509765625,
          29.738754272460938,
          30.538188934326172,
          29.230133056640625,
          29.752079010009766,
          29.63825225830078,
          30.264373779296875,
          30.339200973510742,
          30.34993553161621,
          31.202896118164062,
          31.24631118774414,
          28.646224975585938,
          29.168861389160156,
          29.50798797607422,
          29.35810089111328,
          29.615520477294922,
          30.230960845947266,
          30.476978302001953,
          30.26551628112793,
          30.205142974853516,
          30.48638916015625,
          30.739521026611328,
          31.091567993164062,
          29.063678741455078,
          27.42505645751953,
          28.998987197875977,
          29.32000732421875,
          28.913217544555664,
          29.13282585144043,
          28.23128890991211,
          28.046138763427734,
          28.011865615844727,
          28.36055564880371,
          28.203948974609375,
          26.43229866027832,
          27.084306716918945,
          27.255720138549805,
          27.115060806274414,
          27.48481559753418,
          27.641130447387695,
          27.023788452148438,
          27.82464599609375,
          26.305097579956055,
          27.158287048339844,
          26.76364517211914,
          26.26279640197754,
          25.349931716918945,
          24.428625106811523,
          24.75701141357422,
          23.850269317626953,
          23.56979751586914,
          23.467079162597656,
          22.850770950317383,
          24.767160415649414,
          23.909160614013672,
          22.209400177001953,
          22.11033058166504,
          23.790809631347656,
          22.923124313354492,
          22.136869430541992,
          22.705759048461914,
          23.17441177368164,
          22.749853134155273,
          23.451377868652344,
          22.552549362182617,
          21.41182518005371,
          21.027103424072266,
          21.045635223388672,
          21.08365249633789,
          20.041677474975586,
          21.668987274169922,
          20.97209358215332,
          21.914011001586914,
          22.19626235961914,
          20.748998641967773,
          22.97616958618164,
          23.57376480102539,
          22.83411407470703,
          21.61442756652832,
          20.852031707763672,
          19.256336212158203,
          19.201889038085938,
          18.708288192749023,
          20.749616622924805,
          18.389232635498047,
          18.124799728393555,
          18.0976505279541,
          17.838533401489258,
          16.586687088012695,
          19.037418365478516,
          16.243738174438477,
          19.6535587310791,
          19.532846450805664,
          18.54887580871582,
          18.058351516723633,
          17.720659255981445,
          15.677841186523438,
          17.0219783782959,
          15.803956985473633,
          17.4260311126709,
          19.54108238220215,
          17.61125946044922,
          16.865562438964844,
          15.405054092407227,
          16.85916519165039,
          14.370356559753418,
          16.995441436767578,
          16.792648315429688,
          16.903350830078125,
          15.05986499786377,
          13.880314826965332,
          14.738784790039062
         ]
        }
       ],
       "layout": {
        "legend": {
         "bgcolor": "#151516",
         "font": {
          "color": "#D9D9D9"
         }
        },
        "paper_bgcolor": "#151516",
        "plot_bgcolor": "#151516",
        "template": {
         "data": {
          "bar": [
           {
            "error_x": {
             "color": "#2a3f5f"
            },
            "error_y": {
             "color": "#2a3f5f"
            },
            "marker": {
             "line": {
              "color": "#E5ECF6",
              "width": 0.5
             },
             "pattern": {
              "fillmode": "overlay",
              "size": 10,
              "solidity": 0.2
             }
            },
            "type": "bar"
           }
          ],
          "barpolar": [
           {
            "marker": {
             "line": {
              "color": "#E5ECF6",
              "width": 0.5
             },
             "pattern": {
              "fillmode": "overlay",
              "size": 10,
              "solidity": 0.2
             }
            },
            "type": "barpolar"
           }
          ],
          "carpet": [
           {
            "aaxis": {
             "endlinecolor": "#2a3f5f",
             "gridcolor": "white",
             "linecolor": "white",
             "minorgridcolor": "white",
             "startlinecolor": "#2a3f5f"
            },
            "baxis": {
             "endlinecolor": "#2a3f5f",
             "gridcolor": "white",
             "linecolor": "white",
             "minorgridcolor": "white",
             "startlinecolor": "#2a3f5f"
            },
            "type": "carpet"
           }
          ],
          "choropleth": [
           {
            "colorbar": {
             "outlinewidth": 0,
             "ticks": ""
            },
            "type": "choropleth"
           }
          ],
          "contour": [
           {
            "colorbar": {
             "outlinewidth": 0,
             "ticks": ""
            },
            "colorscale": [
             [
              0,
              "#0d0887"
             ],
             [
              0.1111111111111111,
              "#46039f"
             ],
             [
              0.2222222222222222,
              "#7201a8"
             ],
             [
              0.3333333333333333,
              "#9c179e"
             ],
             [
              0.4444444444444444,
              "#bd3786"
             ],
             [
              0.5555555555555556,
              "#d8576b"
             ],
             [
              0.6666666666666666,
              "#ed7953"
             ],
             [
              0.7777777777777778,
              "#fb9f3a"
             ],
             [
              0.8888888888888888,
              "#fdca26"
             ],
             [
              1,
              "#f0f921"
             ]
            ],
            "type": "contour"
           }
          ],
          "contourcarpet": [
           {
            "colorbar": {
             "outlinewidth": 0,
             "ticks": ""
            },
            "type": "contourcarpet"
           }
          ],
          "heatmap": [
           {
            "colorbar": {
             "outlinewidth": 0,
             "ticks": ""
            },
            "colorscale": [
             [
              0,
              "#0d0887"
             ],
             [
              0.1111111111111111,
              "#46039f"
             ],
             [
              0.2222222222222222,
              "#7201a8"
             ],
             [
              0.3333333333333333,
              "#9c179e"
             ],
             [
              0.4444444444444444,
              "#bd3786"
             ],
             [
              0.5555555555555556,
              "#d8576b"
             ],
             [
              0.6666666666666666,
              "#ed7953"
             ],
             [
              0.7777777777777778,
              "#fb9f3a"
             ],
             [
              0.8888888888888888,
              "#fdca26"
             ],
             [
              1,
              "#f0f921"
             ]
            ],
            "type": "heatmap"
           }
          ],
          "heatmapgl": [
           {
            "colorbar": {
             "outlinewidth": 0,
             "ticks": ""
            },
            "colorscale": [
             [
              0,
              "#0d0887"
             ],
             [
              0.1111111111111111,
              "#46039f"
             ],
             [
              0.2222222222222222,
              "#7201a8"
             ],
             [
              0.3333333333333333,
              "#9c179e"
             ],
             [
              0.4444444444444444,
              "#bd3786"
             ],
             [
              0.5555555555555556,
              "#d8576b"
             ],
             [
              0.6666666666666666,
              "#ed7953"
             ],
             [
              0.7777777777777778,
              "#fb9f3a"
             ],
             [
              0.8888888888888888,
              "#fdca26"
             ],
             [
              1,
              "#f0f921"
             ]
            ],
            "type": "heatmapgl"
           }
          ],
          "histogram": [
           {
            "marker": {
             "pattern": {
              "fillmode": "overlay",
              "size": 10,
              "solidity": 0.2
             }
            },
            "type": "histogram"
           }
          ],
          "histogram2d": [
           {
            "colorbar": {
             "outlinewidth": 0,
             "ticks": ""
            },
            "colorscale": [
             [
              0,
              "#0d0887"
             ],
             [
              0.1111111111111111,
              "#46039f"
             ],
             [
              0.2222222222222222,
              "#7201a8"
             ],
             [
              0.3333333333333333,
              "#9c179e"
             ],
             [
              0.4444444444444444,
              "#bd3786"
             ],
             [
              0.5555555555555556,
              "#d8576b"
             ],
             [
              0.6666666666666666,
              "#ed7953"
             ],
             [
              0.7777777777777778,
              "#fb9f3a"
             ],
             [
              0.8888888888888888,
              "#fdca26"
             ],
             [
              1,
              "#f0f921"
             ]
            ],
            "type": "histogram2d"
           }
          ],
          "histogram2dcontour": [
           {
            "colorbar": {
             "outlinewidth": 0,
             "ticks": ""
            },
            "colorscale": [
             [
              0,
              "#0d0887"
             ],
             [
              0.1111111111111111,
              "#46039f"
             ],
             [
              0.2222222222222222,
              "#7201a8"
             ],
             [
              0.3333333333333333,
              "#9c179e"
             ],
             [
              0.4444444444444444,
              "#bd3786"
             ],
             [
              0.5555555555555556,
              "#d8576b"
             ],
             [
              0.6666666666666666,
              "#ed7953"
             ],
             [
              0.7777777777777778,
              "#fb9f3a"
             ],
             [
              0.8888888888888888,
              "#fdca26"
             ],
             [
              1,
              "#f0f921"
             ]
            ],
            "type": "histogram2dcontour"
           }
          ],
          "mesh3d": [
           {
            "colorbar": {
             "outlinewidth": 0,
             "ticks": ""
            },
            "type": "mesh3d"
           }
          ],
          "parcoords": [
           {
            "line": {
             "colorbar": {
              "outlinewidth": 0,
              "ticks": ""
             }
            },
            "type": "parcoords"
           }
          ],
          "pie": [
           {
            "automargin": true,
            "type": "pie"
           }
          ],
          "scatter": [
           {
            "fillpattern": {
             "fillmode": "overlay",
             "size": 10,
             "solidity": 0.2
            },
            "type": "scatter"
           }
          ],
          "scatter3d": [
           {
            "line": {
             "colorbar": {
              "outlinewidth": 0,
              "ticks": ""
             }
            },
            "marker": {
             "colorbar": {
              "outlinewidth": 0,
              "ticks": ""
             }
            },
            "type": "scatter3d"
           }
          ],
          "scattercarpet": [
           {
            "marker": {
             "colorbar": {
              "outlinewidth": 0,
              "ticks": ""
             }
            },
            "type": "scattercarpet"
           }
          ],
          "scattergeo": [
           {
            "marker": {
             "colorbar": {
              "outlinewidth": 0,
              "ticks": ""
             }
            },
            "type": "scattergeo"
           }
          ],
          "scattergl": [
           {
            "marker": {
             "colorbar": {
              "outlinewidth": 0,
              "ticks": ""
             }
            },
            "type": "scattergl"
           }
          ],
          "scattermapbox": [
           {
            "marker": {
             "colorbar": {
              "outlinewidth": 0,
              "ticks": ""
             }
            },
            "type": "scattermapbox"
           }
          ],
          "scatterpolar": [
           {
            "marker": {
             "colorbar": {
              "outlinewidth": 0,
              "ticks": ""
             }
            },
            "type": "scatterpolar"
           }
          ],
          "scatterpolargl": [
           {
            "marker": {
             "colorbar": {
              "outlinewidth": 0,
              "ticks": ""
             }
            },
            "type": "scatterpolargl"
           }
          ],
          "scatterternary": [
           {
            "marker": {
             "colorbar": {
              "outlinewidth": 0,
              "ticks": ""
             }
            },
            "type": "scatterternary"
           }
          ],
          "surface": [
           {
            "colorbar": {
             "outlinewidth": 0,
             "ticks": ""
            },
            "colorscale": [
             [
              0,
              "#0d0887"
             ],
             [
              0.1111111111111111,
              "#46039f"
             ],
             [
              0.2222222222222222,
              "#7201a8"
             ],
             [
              0.3333333333333333,
              "#9c179e"
             ],
             [
              0.4444444444444444,
              "#bd3786"
             ],
             [
              0.5555555555555556,
              "#d8576b"
             ],
             [
              0.6666666666666666,
              "#ed7953"
             ],
             [
              0.7777777777777778,
              "#fb9f3a"
             ],
             [
              0.8888888888888888,
              "#fdca26"
             ],
             [
              1,
              "#f0f921"
             ]
            ],
            "type": "surface"
           }
          ],
          "table": [
           {
            "cells": {
             "fill": {
              "color": "#EBF0F8"
             },
             "line": {
              "color": "white"
             }
            },
            "header": {
             "fill": {
              "color": "#C8D4E3"
             },
             "line": {
              "color": "white"
             }
            },
            "type": "table"
           }
          ]
         },
         "layout": {
          "annotationdefaults": {
           "arrowcolor": "#2a3f5f",
           "arrowhead": 0,
           "arrowwidth": 1
          },
          "autotypenumbers": "strict",
          "coloraxis": {
           "colorbar": {
            "outlinewidth": 0,
            "ticks": ""
           }
          },
          "colorscale": {
           "diverging": [
            [
             0,
             "#8e0152"
            ],
            [
             0.1,
             "#c51b7d"
            ],
            [
             0.2,
             "#de77ae"
            ],
            [
             0.3,
             "#f1b6da"
            ],
            [
             0.4,
             "#fde0ef"
            ],
            [
             0.5,
             "#f7f7f7"
            ],
            [
             0.6,
             "#e6f5d0"
            ],
            [
             0.7,
             "#b8e186"
            ],
            [
             0.8,
             "#7fbc41"
            ],
            [
             0.9,
             "#4d9221"
            ],
            [
             1,
             "#276419"
            ]
           ],
           "sequential": [
            [
             0,
             "#0d0887"
            ],
            [
             0.1111111111111111,
             "#46039f"
            ],
            [
             0.2222222222222222,
             "#7201a8"
            ],
            [
             0.3333333333333333,
             "#9c179e"
            ],
            [
             0.4444444444444444,
             "#bd3786"
            ],
            [
             0.5555555555555556,
             "#d8576b"
            ],
            [
             0.6666666666666666,
             "#ed7953"
            ],
            [
             0.7777777777777778,
             "#fb9f3a"
            ],
            [
             0.8888888888888888,
             "#fdca26"
            ],
            [
             1,
             "#f0f921"
            ]
           ],
           "sequentialminus": [
            [
             0,
             "#0d0887"
            ],
            [
             0.1111111111111111,
             "#46039f"
            ],
            [
             0.2222222222222222,
             "#7201a8"
            ],
            [
             0.3333333333333333,
             "#9c179e"
            ],
            [
             0.4444444444444444,
             "#bd3786"
            ],
            [
             0.5555555555555556,
             "#d8576b"
            ],
            [
             0.6666666666666666,
             "#ed7953"
            ],
            [
             0.7777777777777778,
             "#fb9f3a"
            ],
            [
             0.8888888888888888,
             "#fdca26"
            ],
            [
             1,
             "#f0f921"
            ]
           ]
          },
          "colorway": [
           "#636efa",
           "#EF553B",
           "#00cc96",
           "#ab63fa",
           "#FFA15A",
           "#19d3f3",
           "#FF6692",
           "#B6E880",
           "#FF97FF",
           "#FECB52"
          ],
          "font": {
           "color": "#2a3f5f"
          },
          "geo": {
           "bgcolor": "white",
           "lakecolor": "white",
           "landcolor": "#E5ECF6",
           "showlakes": true,
           "showland": true,
           "subunitcolor": "white"
          },
          "hoverlabel": {
           "align": "left"
          },
          "hovermode": "closest",
          "mapbox": {
           "style": "light"
          },
          "paper_bgcolor": "white",
          "plot_bgcolor": "#E5ECF6",
          "polar": {
           "angularaxis": {
            "gridcolor": "white",
            "linecolor": "white",
            "ticks": ""
           },
           "bgcolor": "#E5ECF6",
           "radialaxis": {
            "gridcolor": "white",
            "linecolor": "white",
            "ticks": ""
           }
          },
          "scene": {
           "xaxis": {
            "backgroundcolor": "#E5ECF6",
            "gridcolor": "white",
            "gridwidth": 2,
            "linecolor": "white",
            "showbackground": true,
            "ticks": "",
            "zerolinecolor": "white"
           },
           "yaxis": {
            "backgroundcolor": "#E5ECF6",
            "gridcolor": "white",
            "gridwidth": 2,
            "linecolor": "white",
            "showbackground": true,
            "ticks": "",
            "zerolinecolor": "white"
           },
           "zaxis": {
            "backgroundcolor": "#E5ECF6",
            "gridcolor": "white",
            "gridwidth": 2,
            "linecolor": "white",
            "showbackground": true,
            "ticks": "",
            "zerolinecolor": "white"
           }
          },
          "shapedefaults": {
           "line": {
            "color": "#2a3f5f"
           }
          },
          "ternary": {
           "aaxis": {
            "gridcolor": "white",
            "linecolor": "white",
            "ticks": ""
           },
           "baxis": {
            "gridcolor": "white",
            "linecolor": "white",
            "ticks": ""
           },
           "bgcolor": "#E5ECF6",
           "caxis": {
            "gridcolor": "white",
            "linecolor": "white",
            "ticks": ""
           }
          },
          "title": {
           "x": 0.05
          },
          "xaxis": {
           "automargin": true,
           "gridcolor": "white",
           "linecolor": "white",
           "ticks": "",
           "title": {
            "standoff": 15
           },
           "zerolinecolor": "white",
           "zerolinewidth": 2
          },
          "yaxis": {
           "automargin": true,
           "gridcolor": "white",
           "linecolor": "white",
           "ticks": "",
           "title": {
            "standoff": 15
           },
           "zerolinecolor": "white",
           "zerolinewidth": 2
          }
         }
        },
        "title": {
         "font": {
          "color": "#D9D9D9"
         },
         "text": "Прогноз vs Реальные значения"
        },
        "xaxis": {
         "gridcolor": "#434343",
         "showgrid": true,
         "tickfont": {
          "color": "#C2C2C2"
         },
         "title": {
          "font": {
           "color": "#D9D9D9"
          },
          "text": "Время"
         },
         "zerolinecolor": "#666570"
        },
        "yaxis": {
         "gridcolor": "#434343",
         "showgrid": true,
         "tickfont": {
          "color": "#C2C2C2"
         },
         "title": {
          "font": {
           "color": "#D9D9D9"
          },
          "text": "Значение"
         },
         "zerolinecolor": "#666570"
        }
       }
      },
      "text/html": [
       "<div>                            <div id=\"4759e7e9-42f1-4bc3-835b-75dc36c112c7\" class=\"plotly-graph-div\" style=\"height:525px; width:100%;\"></div>            <script type=\"text/javascript\">                require([\"plotly\"], function(Plotly) {                    window.PLOTLYENV=window.PLOTLYENV || {};\n",
       "                    window.PLOTLYENV.BASE_URL='https://plot.ly';                                    if (document.getElementById(\"4759e7e9-42f1-4bc3-835b-75dc36c112c7\")) {                    Plotly.newPlot(                        \"4759e7e9-42f1-4bc3-835b-75dc36c112c7\",                        [{\"line\":{\"color\":\"rgba(255, 153, 51, 1.0)\",\"dash\":\"solid\",\"shape\":\"linear\",\"width\":1.3},\"mode\":\"lines\",\"name\":\"Y_test\",\"text\":\"\",\"x\":[0,1,2,3,4,5,6,7,8,9,10,11,12,13,14,15,16,17,18,19,20,21,22,23,24,25,26,27,28,29,30,31,32,33,34,35,36,37,38,39,40,41,42,43,44,45,46,47,48,49,50,51,52,53,54,55,56,57,58,59,60,61,62,63,64,65,66,67,68,69,70,71,72,73,74,75,76,77,78,79,80,81,82,83,84,85,86,87,88,89,90,91,92,93,94,95,96,97,98,99,100,101,102,103,104,105,106,107,108,109,110,111,112,113,114,115,116,117,118,119,120,121,122,123,124,125,126,127,128,129,130,131,132,133,134,135,136,137,138,139,140,141,142,143,144,145,146,147,148,149,150,151,152,153,154,155,156,157,158,159,160,161,162,163,164,165,166,167,168,169,170,171,172,173,174,175,176,177,178,179,180,181,182,183,184,185,186,187,188,189,190,191,192,193,194,195,196,197,198,199,200,201,202,203,204,205,206,207,208,209,210,211,212,213,214,215,216,217,218,219,220,221,222,223,224,225,226,227,228,229,230,231,232,233,234,235,236,237,238,239,240,241,242,243,244,245,246,247,248,249,250,251,252,253,254,255,256,257,258,259,260,261,262,263,264,265,266,267,268,269,270,271,272,273,274,275,276,277,278,279,280,281,282,283,284,285,286,287,288,289,290,291],\"y\":[24.066666666666663,23.9375,26.3125,26.187499999999996,26.785714285714285,27.133333333333333,26.625,25.0625,26.2,28.133333333333333,29.875,24.666666666666668,26.25,25.93333333333333,27.125,29.571428571428573,30.0,30.571428571428573,32.3125,33.3125,32.8125,32.3125,31.375,29.933333333333334,29.266666666666666,30.73333333333333,32.25,29.8,30.2,31.75,33.125,33.625,35.6875,34.666666666666664,34.625,34.0,34.0625,34.0,33.25,31.916666666666668,31.3125,31.75,33.4375,33.125,34.15384615384615,34.07142857142857,33.0625,34.6875,38.0,35.49999999999999,33.714285714285715,30.6,31.4375,33.3125,35.13333333333333,33.53333333333333,34.0,32.5,35.375,37.294117647058826,36.5625,37.25,37.21428571428572,37.5,37.75,37.375,37.4,36.13333333333333,36.8,32.214285714285715,31.526315789473685,33.21739130434783,35.26923076923077,38.27272727272727,36.0625,31.5,26.8125,32.642857142857146,36.0,37.5625,37.5625,38.2,36.16666666666666,35.42857142857143,34.625,36.07142857142857,35.733333333333334,36.13333333333333,33.4375,35.49999999999999,36.0,32.625,34.733333333333334,33.5,34.1875,35.857142857142854,35.625,30.9375,32.875,33.125,33.84615384615385,36.4375,35.42857142857143,34.86666666666667,34.3125,30.785714285714285,35.375,35.46666666666667,32.125,28.4,29.5625,30.6875,33.25,33.266666666666666,33.5,30.8,33.25,32.5625,31.5,30.5,31.25,30.4375,31.0,27.125,28.125,27.666666666666668,32.3125,34.1875,34.13333333333333,34.125,31.875,31.4375,31.9375,30.3125,28.3125,29.53333333333333,27.375,27.33333333333333,29.266666666666666,29.125,30.6875,32.5625,33.111111111111114,33.8,30.066666666666663,33.11764705882353,33.80952380952381,31.615384615384617,32.0,28.107142857142858,29.035714285714285,30.321428571428573,28.933333333333334,31.678571428571427,31.33333333333333,29.928571428571427,29.88888888888889,32.07142857142857,33.18518518518518,31.59259259259259,32.18518518518518,31.48,30.178571428571427,31.52,31.22222222222222,31.785714285714285,33.4,29.571428571428573,30.04,27.25925925925926,27.96,30.73913043478261,30.894736842105264,31.692307692307693,31.07692307692308,30.375,31.1,31.916666666666668,30.55555555555556,31.23076923076923,31.0,31.642857142857142,32.53333333333333,30.857142857142858,31.727272727272727,31.4,32.30769230769231,32.25,32.375,33.44444444444444,33.36,30.03703703703704,31.0,31.24,31.130434782608692,31.48,32.18518518518518,32.44,32.22727272727273,32.214285714285715,32.541666666666664,32.81481481481482,33.26923076923077,30.55555555555556,28.83333333333333,30.703703703703702,30.96,30.6,30.92,29.77777777777778,29.666666666666668,29.571428571428573,29.96296296296296,29.75,27.74074074074074,28.428571428571427,28.6,28.5,28.925925925925927,29.07692307692308,28.40909090909091,29.33333333333333,27.5,28.5,28.04,27.57692307692308,26.55555555555556,25.51851851851852,25.814814814814813,24.82608695652174,24.53846153846154,24.384615384615383,23.727272727272727,25.64,24.814814814814813,23.115384615384617,22.925925925925927,24.545454545454547,23.73076923076923,23.0,23.51851851851852,23.92,23.53846153846154,24.296296296296298,23.346153846153847,22.24,21.769230769230774,21.73076923076923,21.73076923076923,20.666666666666668,22.25,21.53846153846154,22.57894736842105,22.82608695652174,21.42105263157895,23.6,24.294117647058822,23.63636363636364,22.454545454545453,21.61111111111111,19.869565217391305,19.75,19.20833333333333,21.20833333333333,18.9,18.63636363636364,18.53846153846154,18.25,16.9,19.416666666666668,16.444444444444443,20.041666666666668,19.90909090909091,19.05,18.55555555555556,18.166666666666668,15.833333333333334,17.5,16.083333333333332,17.857142857142858,19.8,18.05,17.285714285714285,15.550000000000002,17.318181818181817,14.0,17.142857142857142,16.85,17.217391304347824,15.238095238095237,14.095238095238097,15.05263157894737],\"type\":\"scatter\"},{\"line\":{\"color\":\"rgba(55, 128, 191, 1.0)\",\"dash\":\"solid\",\"shape\":\"linear\",\"width\":1.3},\"mode\":\"lines\",\"name\":\"Predictions\",\"text\":\"\",\"x\":[0,1,2,3,4,5,6,7,8,9,10,11,12,13,14,15,16,17,18,19,20,21,22,23,24,25,26,27,28,29,30,31,32,33,34,35,36,37,38,39,40,41,42,43,44,45,46,47,48,49,50,51,52,53,54,55,56,57,58,59,60,61,62,63,64,65,66,67,68,69,70,71,72,73,74,75,76,77,78,79,80,81,82,83,84,85,86,87,88,89,90,91,92,93,94,95,96,97,98,99,100,101,102,103,104,105,106,107,108,109,110,111,112,113,114,115,116,117,118,119,120,121,122,123,124,125,126,127,128,129,130,131,132,133,134,135,136,137,138,139,140,141,142,143,144,145,146,147,148,149,150,151,152,153,154,155,156,157,158,159,160,161,162,163,164,165,166,167,168,169,170,171,172,173,174,175,176,177,178,179,180,181,182,183,184,185,186,187,188,189,190,191,192,193,194,195,196,197,198,199,200,201,202,203,204,205,206,207,208,209,210,211,212,213,214,215,216,217,218,219,220,221,222,223,224,225,226,227,228,229,230,231,232,233,234,235,236,237,238,239,240,241,242,243,244,245,246,247,248,249,250,251,252,253,254,255,256,257,258,259,260,261,262,263,264,265,266,267,268,269,270,271,272,273,274,275,276,277,278,279,280,281,282,283,284,285,286,287,288,289,290,291],\"y\":[23.33179473876953,23.160755157470703,25.449058532714844,25.21097755432129,25.661758422851562,25.989299774169922,25.475849151611328,23.991174697875977,25.15630531311035,26.986751556396484,28.465499877929688,23.717777252197266,25.12107276916504,24.922029495239258,26.003643035888672,28.221099853515625,28.552339553833008,28.917449951171875,30.356626510620117,31.22787857055664,30.811830520629883,30.25860595703125,29.495784759521484,28.299861907958984,27.71792984008789,28.997642517089844,30.36088752746582,28.41722869873047,28.549358367919922,29.893386840820312,31.061031341552734,31.45884132385254,32.91663360595703,32.35637664794922,32.02567672729492,31.665733337402344,31.622325897216797,31.655916213989258,31.068885803222656,29.93694305419922,29.399263381958008,29.793132781982422,31.21812629699707,31.09423828125,31.69831085205078,31.805173873901367,30.923351287841797,32.02771759033203,34.68666076660156,33.1687126159668,31.35317611694336,28.96761703491211,29.52336311340332,31.159217834472656,32.62491226196289,31.473506927490234,31.49720573425293,30.536596298217773,32.525272369384766,34.31608581542969,33.81596374511719,34.0659065246582,34.21360778808594,34.360015869140625,34.5881233215332,34.32998275756836,34.26740646362305,33.3968391418457,33.67124557495117,30.756349563598633,29.497867584228516,30.94388771057129,32.7034912109375,34.93341064453125,33.58343505859375,29.948978424072266,25.86410903930664,30.593786239624023,33.67396926879883,34.566162109375,34.524837493896484,34.898040771484375,33.54499053955078,32.633602142333984,32.08978271484375,33.10171127319336,33.13243865966797,33.23818588256836,31.427845001220703,32.619564056396484,33.3387565612793,30.93218421936035,32.03114318847656,31.433862686157227,31.652286529541016,33.07582092285156,33.05613327026367,29.697223663330078,30.54372787475586,31.099742889404297,31.533153533935547,33.491825103759766,32.93902587890625,32.24068832397461,31.849245071411133,29.266836166381836,32.546653747558594,33.009822845458984,30.447534561157227,27.143295288085938,27.981170654296875,29.06895637512207,31.124069213867188,31.255306243896484,31.250102996826172,29.2382755279541,30.984657287597656,30.669450759887695,29.588590621948242,28.752260208129883,29.37653923034668,28.82647132873535,29.175018310546875,26.123720169067383,26.74796485900879,26.43581771850586,30.4051456451416,32.1431999206543,31.9046688079834,31.73818588256836,30.042390823364258,29.503999710083008,29.95781898498535,28.731029510498047,26.916439056396484,28.033828735351562,26.246665954589844,26.114215850830078,27.878135681152344,27.757953643798828,28.99835968017578,30.616535186767578,31.081716537475586,31.531747817993164,28.798559188842773,30.84581756591797,31.71782875061035,29.912799835205078,29.951824188232422,27.051870346069336,27.52401351928711,28.76520347595215,27.56121826171875,29.793291091918945,29.671083450317383,28.321107864379883,28.23581314086914,30.122142791748047,31.157550811767578,29.851829528808594,30.10147476196289,29.68665313720703,28.50832176208496,29.60466957092285,29.510408401489258,29.84770393371582,31.20319366455078,28.274187088012695,28.363773345947266,26.15249252319336,26.669292449951172,29.168947219848633,29.326255798339844,29.817241668701172,29.3663272857666,28.649747848510742,29.264629364013672,30.052127838134766,28.95075225830078,29.35391616821289,29.289947509765625,29.738754272460938,30.538188934326172,29.230133056640625,29.752079010009766,29.63825225830078,30.264373779296875,30.339200973510742,30.34993553161621,31.202896118164062,31.24631118774414,28.646224975585938,29.168861389160156,29.50798797607422,29.35810089111328,29.615520477294922,30.230960845947266,30.476978302001953,30.26551628112793,30.205142974853516,30.48638916015625,30.739521026611328,31.091567993164062,29.063678741455078,27.42505645751953,28.998987197875977,29.32000732421875,28.913217544555664,29.13282585144043,28.23128890991211,28.046138763427734,28.011865615844727,28.36055564880371,28.203948974609375,26.43229866027832,27.084306716918945,27.255720138549805,27.115060806274414,27.48481559753418,27.641130447387695,27.023788452148438,27.82464599609375,26.305097579956055,27.158287048339844,26.76364517211914,26.26279640197754,25.349931716918945,24.428625106811523,24.75701141357422,23.850269317626953,23.56979751586914,23.467079162597656,22.850770950317383,24.767160415649414,23.909160614013672,22.209400177001953,22.11033058166504,23.790809631347656,22.923124313354492,22.136869430541992,22.705759048461914,23.17441177368164,22.749853134155273,23.451377868652344,22.552549362182617,21.41182518005371,21.027103424072266,21.045635223388672,21.08365249633789,20.041677474975586,21.668987274169922,20.97209358215332,21.914011001586914,22.19626235961914,20.748998641967773,22.97616958618164,23.57376480102539,22.83411407470703,21.61442756652832,20.852031707763672,19.256336212158203,19.201889038085938,18.708288192749023,20.749616622924805,18.389232635498047,18.124799728393555,18.0976505279541,17.838533401489258,16.586687088012695,19.037418365478516,16.243738174438477,19.6535587310791,19.532846450805664,18.54887580871582,18.058351516723633,17.720659255981445,15.677841186523438,17.0219783782959,15.803956985473633,17.4260311126709,19.54108238220215,17.61125946044922,16.865562438964844,15.405054092407227,16.85916519165039,14.370356559753418,16.995441436767578,16.792648315429688,16.903350830078125,15.05986499786377,13.880314826965332,14.738784790039062],\"type\":\"scatter\"}],                        {\"legend\":{\"bgcolor\":\"#151516\",\"font\":{\"color\":\"#D9D9D9\"}},\"paper_bgcolor\":\"#151516\",\"plot_bgcolor\":\"#151516\",\"template\":{\"data\":{\"barpolar\":[{\"marker\":{\"line\":{\"color\":\"#E5ECF6\",\"width\":0.5},\"pattern\":{\"fillmode\":\"overlay\",\"size\":10,\"solidity\":0.2}},\"type\":\"barpolar\"}],\"bar\":[{\"error_x\":{\"color\":\"#2a3f5f\"},\"error_y\":{\"color\":\"#2a3f5f\"},\"marker\":{\"line\":{\"color\":\"#E5ECF6\",\"width\":0.5},\"pattern\":{\"fillmode\":\"overlay\",\"size\":10,\"solidity\":0.2}},\"type\":\"bar\"}],\"carpet\":[{\"aaxis\":{\"endlinecolor\":\"#2a3f5f\",\"gridcolor\":\"white\",\"linecolor\":\"white\",\"minorgridcolor\":\"white\",\"startlinecolor\":\"#2a3f5f\"},\"baxis\":{\"endlinecolor\":\"#2a3f5f\",\"gridcolor\":\"white\",\"linecolor\":\"white\",\"minorgridcolor\":\"white\",\"startlinecolor\":\"#2a3f5f\"},\"type\":\"carpet\"}],\"choropleth\":[{\"colorbar\":{\"outlinewidth\":0,\"ticks\":\"\"},\"type\":\"choropleth\"}],\"contourcarpet\":[{\"colorbar\":{\"outlinewidth\":0,\"ticks\":\"\"},\"type\":\"contourcarpet\"}],\"contour\":[{\"colorbar\":{\"outlinewidth\":0,\"ticks\":\"\"},\"colorscale\":[[0.0,\"#0d0887\"],[0.1111111111111111,\"#46039f\"],[0.2222222222222222,\"#7201a8\"],[0.3333333333333333,\"#9c179e\"],[0.4444444444444444,\"#bd3786\"],[0.5555555555555556,\"#d8576b\"],[0.6666666666666666,\"#ed7953\"],[0.7777777777777778,\"#fb9f3a\"],[0.8888888888888888,\"#fdca26\"],[1.0,\"#f0f921\"]],\"type\":\"contour\"}],\"heatmapgl\":[{\"colorbar\":{\"outlinewidth\":0,\"ticks\":\"\"},\"colorscale\":[[0.0,\"#0d0887\"],[0.1111111111111111,\"#46039f\"],[0.2222222222222222,\"#7201a8\"],[0.3333333333333333,\"#9c179e\"],[0.4444444444444444,\"#bd3786\"],[0.5555555555555556,\"#d8576b\"],[0.6666666666666666,\"#ed7953\"],[0.7777777777777778,\"#fb9f3a\"],[0.8888888888888888,\"#fdca26\"],[1.0,\"#f0f921\"]],\"type\":\"heatmapgl\"}],\"heatmap\":[{\"colorbar\":{\"outlinewidth\":0,\"ticks\":\"\"},\"colorscale\":[[0.0,\"#0d0887\"],[0.1111111111111111,\"#46039f\"],[0.2222222222222222,\"#7201a8\"],[0.3333333333333333,\"#9c179e\"],[0.4444444444444444,\"#bd3786\"],[0.5555555555555556,\"#d8576b\"],[0.6666666666666666,\"#ed7953\"],[0.7777777777777778,\"#fb9f3a\"],[0.8888888888888888,\"#fdca26\"],[1.0,\"#f0f921\"]],\"type\":\"heatmap\"}],\"histogram2dcontour\":[{\"colorbar\":{\"outlinewidth\":0,\"ticks\":\"\"},\"colorscale\":[[0.0,\"#0d0887\"],[0.1111111111111111,\"#46039f\"],[0.2222222222222222,\"#7201a8\"],[0.3333333333333333,\"#9c179e\"],[0.4444444444444444,\"#bd3786\"],[0.5555555555555556,\"#d8576b\"],[0.6666666666666666,\"#ed7953\"],[0.7777777777777778,\"#fb9f3a\"],[0.8888888888888888,\"#fdca26\"],[1.0,\"#f0f921\"]],\"type\":\"histogram2dcontour\"}],\"histogram2d\":[{\"colorbar\":{\"outlinewidth\":0,\"ticks\":\"\"},\"colorscale\":[[0.0,\"#0d0887\"],[0.1111111111111111,\"#46039f\"],[0.2222222222222222,\"#7201a8\"],[0.3333333333333333,\"#9c179e\"],[0.4444444444444444,\"#bd3786\"],[0.5555555555555556,\"#d8576b\"],[0.6666666666666666,\"#ed7953\"],[0.7777777777777778,\"#fb9f3a\"],[0.8888888888888888,\"#fdca26\"],[1.0,\"#f0f921\"]],\"type\":\"histogram2d\"}],\"histogram\":[{\"marker\":{\"pattern\":{\"fillmode\":\"overlay\",\"size\":10,\"solidity\":0.2}},\"type\":\"histogram\"}],\"mesh3d\":[{\"colorbar\":{\"outlinewidth\":0,\"ticks\":\"\"},\"type\":\"mesh3d\"}],\"parcoords\":[{\"line\":{\"colorbar\":{\"outlinewidth\":0,\"ticks\":\"\"}},\"type\":\"parcoords\"}],\"pie\":[{\"automargin\":true,\"type\":\"pie\"}],\"scatter3d\":[{\"line\":{\"colorbar\":{\"outlinewidth\":0,\"ticks\":\"\"}},\"marker\":{\"colorbar\":{\"outlinewidth\":0,\"ticks\":\"\"}},\"type\":\"scatter3d\"}],\"scattercarpet\":[{\"marker\":{\"colorbar\":{\"outlinewidth\":0,\"ticks\":\"\"}},\"type\":\"scattercarpet\"}],\"scattergeo\":[{\"marker\":{\"colorbar\":{\"outlinewidth\":0,\"ticks\":\"\"}},\"type\":\"scattergeo\"}],\"scattergl\":[{\"marker\":{\"colorbar\":{\"outlinewidth\":0,\"ticks\":\"\"}},\"type\":\"scattergl\"}],\"scattermapbox\":[{\"marker\":{\"colorbar\":{\"outlinewidth\":0,\"ticks\":\"\"}},\"type\":\"scattermapbox\"}],\"scatterpolargl\":[{\"marker\":{\"colorbar\":{\"outlinewidth\":0,\"ticks\":\"\"}},\"type\":\"scatterpolargl\"}],\"scatterpolar\":[{\"marker\":{\"colorbar\":{\"outlinewidth\":0,\"ticks\":\"\"}},\"type\":\"scatterpolar\"}],\"scatter\":[{\"fillpattern\":{\"fillmode\":\"overlay\",\"size\":10,\"solidity\":0.2},\"type\":\"scatter\"}],\"scatterternary\":[{\"marker\":{\"colorbar\":{\"outlinewidth\":0,\"ticks\":\"\"}},\"type\":\"scatterternary\"}],\"surface\":[{\"colorbar\":{\"outlinewidth\":0,\"ticks\":\"\"},\"colorscale\":[[0.0,\"#0d0887\"],[0.1111111111111111,\"#46039f\"],[0.2222222222222222,\"#7201a8\"],[0.3333333333333333,\"#9c179e\"],[0.4444444444444444,\"#bd3786\"],[0.5555555555555556,\"#d8576b\"],[0.6666666666666666,\"#ed7953\"],[0.7777777777777778,\"#fb9f3a\"],[0.8888888888888888,\"#fdca26\"],[1.0,\"#f0f921\"]],\"type\":\"surface\"}],\"table\":[{\"cells\":{\"fill\":{\"color\":\"#EBF0F8\"},\"line\":{\"color\":\"white\"}},\"header\":{\"fill\":{\"color\":\"#C8D4E3\"},\"line\":{\"color\":\"white\"}},\"type\":\"table\"}]},\"layout\":{\"annotationdefaults\":{\"arrowcolor\":\"#2a3f5f\",\"arrowhead\":0,\"arrowwidth\":1},\"autotypenumbers\":\"strict\",\"coloraxis\":{\"colorbar\":{\"outlinewidth\":0,\"ticks\":\"\"}},\"colorscale\":{\"diverging\":[[0,\"#8e0152\"],[0.1,\"#c51b7d\"],[0.2,\"#de77ae\"],[0.3,\"#f1b6da\"],[0.4,\"#fde0ef\"],[0.5,\"#f7f7f7\"],[0.6,\"#e6f5d0\"],[0.7,\"#b8e186\"],[0.8,\"#7fbc41\"],[0.9,\"#4d9221\"],[1,\"#276419\"]],\"sequential\":[[0.0,\"#0d0887\"],[0.1111111111111111,\"#46039f\"],[0.2222222222222222,\"#7201a8\"],[0.3333333333333333,\"#9c179e\"],[0.4444444444444444,\"#bd3786\"],[0.5555555555555556,\"#d8576b\"],[0.6666666666666666,\"#ed7953\"],[0.7777777777777778,\"#fb9f3a\"],[0.8888888888888888,\"#fdca26\"],[1.0,\"#f0f921\"]],\"sequentialminus\":[[0.0,\"#0d0887\"],[0.1111111111111111,\"#46039f\"],[0.2222222222222222,\"#7201a8\"],[0.3333333333333333,\"#9c179e\"],[0.4444444444444444,\"#bd3786\"],[0.5555555555555556,\"#d8576b\"],[0.6666666666666666,\"#ed7953\"],[0.7777777777777778,\"#fb9f3a\"],[0.8888888888888888,\"#fdca26\"],[1.0,\"#f0f921\"]]},\"colorway\":[\"#636efa\",\"#EF553B\",\"#00cc96\",\"#ab63fa\",\"#FFA15A\",\"#19d3f3\",\"#FF6692\",\"#B6E880\",\"#FF97FF\",\"#FECB52\"],\"font\":{\"color\":\"#2a3f5f\"},\"geo\":{\"bgcolor\":\"white\",\"lakecolor\":\"white\",\"landcolor\":\"#E5ECF6\",\"showlakes\":true,\"showland\":true,\"subunitcolor\":\"white\"},\"hoverlabel\":{\"align\":\"left\"},\"hovermode\":\"closest\",\"mapbox\":{\"style\":\"light\"},\"paper_bgcolor\":\"white\",\"plot_bgcolor\":\"#E5ECF6\",\"polar\":{\"angularaxis\":{\"gridcolor\":\"white\",\"linecolor\":\"white\",\"ticks\":\"\"},\"bgcolor\":\"#E5ECF6\",\"radialaxis\":{\"gridcolor\":\"white\",\"linecolor\":\"white\",\"ticks\":\"\"}},\"scene\":{\"xaxis\":{\"backgroundcolor\":\"#E5ECF6\",\"gridcolor\":\"white\",\"gridwidth\":2,\"linecolor\":\"white\",\"showbackground\":true,\"ticks\":\"\",\"zerolinecolor\":\"white\"},\"yaxis\":{\"backgroundcolor\":\"#E5ECF6\",\"gridcolor\":\"white\",\"gridwidth\":2,\"linecolor\":\"white\",\"showbackground\":true,\"ticks\":\"\",\"zerolinecolor\":\"white\"},\"zaxis\":{\"backgroundcolor\":\"#E5ECF6\",\"gridcolor\":\"white\",\"gridwidth\":2,\"linecolor\":\"white\",\"showbackground\":true,\"ticks\":\"\",\"zerolinecolor\":\"white\"}},\"shapedefaults\":{\"line\":{\"color\":\"#2a3f5f\"}},\"ternary\":{\"aaxis\":{\"gridcolor\":\"white\",\"linecolor\":\"white\",\"ticks\":\"\"},\"baxis\":{\"gridcolor\":\"white\",\"linecolor\":\"white\",\"ticks\":\"\"},\"bgcolor\":\"#E5ECF6\",\"caxis\":{\"gridcolor\":\"white\",\"linecolor\":\"white\",\"ticks\":\"\"}},\"title\":{\"x\":0.05},\"xaxis\":{\"automargin\":true,\"gridcolor\":\"white\",\"linecolor\":\"white\",\"ticks\":\"\",\"title\":{\"standoff\":15},\"zerolinecolor\":\"white\",\"zerolinewidth\":2},\"yaxis\":{\"automargin\":true,\"gridcolor\":\"white\",\"linecolor\":\"white\",\"ticks\":\"\",\"title\":{\"standoff\":15},\"zerolinecolor\":\"white\",\"zerolinewidth\":2}}},\"title\":{\"font\":{\"color\":\"#D9D9D9\"},\"text\":\"\\u041f\\u0440\\u043e\\u0433\\u043d\\u043e\\u0437 vs \\u0420\\u0435\\u0430\\u043b\\u044c\\u043d\\u044b\\u0435 \\u0437\\u043d\\u0430\\u0447\\u0435\\u043d\\u0438\\u044f\"},\"xaxis\":{\"gridcolor\":\"#434343\",\"showgrid\":true,\"tickfont\":{\"color\":\"#C2C2C2\"},\"title\":{\"font\":{\"color\":\"#D9D9D9\"},\"text\":\"\\u0412\\u0440\\u0435\\u043c\\u044f\"},\"zerolinecolor\":\"#666570\"},\"yaxis\":{\"gridcolor\":\"#434343\",\"showgrid\":true,\"tickfont\":{\"color\":\"#C2C2C2\"},\"title\":{\"font\":{\"color\":\"#D9D9D9\"},\"text\":\"\\u0417\\u043d\\u0430\\u0447\\u0435\\u043d\\u0438\\u0435\"},\"zerolinecolor\":\"#666570\"}},                        {\"showLink\": true, \"linkText\": \"Export to plot.ly\", \"plotlyServerURL\": \"https://plot.ly\", \"responsive\": true}                    ).then(function(){\n",
       "                            \n",
       "var gd = document.getElementById('4759e7e9-42f1-4bc3-835b-75dc36c112c7');\n",
       "var x = new MutationObserver(function (mutations, observer) {{\n",
       "        var display = window.getComputedStyle(gd).display;\n",
       "        if (!display || display === 'none') {{\n",
       "            console.log([gd, 'removed!']);\n",
       "            Plotly.purge(gd);\n",
       "            observer.disconnect();\n",
       "        }}\n",
       "}});\n",
       "\n",
       "// Listen for the removal of the full notebook cells\n",
       "var notebookContainer = gd.closest('#notebook-container');\n",
       "if (notebookContainer) {{\n",
       "    x.observe(notebookContainer, {childList: true});\n",
       "}}\n",
       "\n",
       "// Listen for the clearing of the current output cell\n",
       "var outputEl = gd.closest('.output');\n",
       "if (outputEl) {{\n",
       "    x.observe(outputEl, {childList: true});\n",
       "}}\n",
       "\n",
       "                        })                };                });            </script>        </div>"
      ]
     },
     "metadata": {},
     "output_type": "display_data"
    }
   ],
   "source": [
    "predictions = model.predict(x_test)\n",
    "y_test_inv = scaler.inverse_transform(y_test.reshape(-1, 1))\n",
    "predictions_inv = scaler.inverse_transform(predictions)\n",
    "df_test = pd.DataFrame({\n",
    "    'Y_test': y_test_inv.ravel(),\n",
    "    'Predictions': predictions_inv.ravel()\n",
    "})\n",
    "# Отобразить на графике\n",
    "df_test.iplot(title=\"Прогноз vs Реальные значения\", xTitle=\"Время\", yTitle=\"Значение\", theme=\"solar\")"
   ]
  },
  {
   "cell_type": "code",
   "execution_count": 25,
   "metadata": {},
   "outputs": [
    {
     "name": "stdout",
     "output_type": "stream",
     "text": [
      "MAPE: 5.222672811452879%\n",
      "MAE: 1.6227180249193076\n"
     ]
    }
   ],
   "source": [
    "from sklearn.metrics import mean_absolute_error\n",
    "def mean_absolute_percentage_error(y_true, y_pred):\n",
    "    y_true, y_pred = np.array(y_true), np.array(y_pred)\n",
    "    return np.mean(np.abs((y_true - y_pred+0.001) / (y_true+0.001))) * 100\n",
    "mape = mean_absolute_percentage_error(y_test_inv, predictions_inv)\n",
    "mae = mean_absolute_error(y_test_inv, predictions_inv)\n",
    "print(f\"MAPE: {mape}%\")\n",
    "print(f\"MAE: {mae}\")"
   ]
  },
  {
   "cell_type": "code",
   "execution_count": 26,
   "metadata": {},
   "outputs": [
    {
     "data": {
      "text/html": [
       "<div>\n",
       "<style scoped>\n",
       "    .dataframe tbody tr th:only-of-type {\n",
       "        vertical-align: middle;\n",
       "    }\n",
       "\n",
       "    .dataframe tbody tr th {\n",
       "        vertical-align: top;\n",
       "    }\n",
       "\n",
       "    .dataframe thead th {\n",
       "        text-align: right;\n",
       "    }\n",
       "</style>\n",
       "<table border=\"1\" class=\"dataframe\">\n",
       "  <thead>\n",
       "    <tr style=\"text-align: right;\">\n",
       "      <th></th>\n",
       "      <th>meantemp</th>\n",
       "      <th>humidity</th>\n",
       "      <th>wind_speed</th>\n",
       "    </tr>\n",
       "    <tr>\n",
       "      <th>date</th>\n",
       "      <th></th>\n",
       "      <th></th>\n",
       "      <th></th>\n",
       "    </tr>\n",
       "  </thead>\n",
       "  <tbody>\n",
       "    <tr>\n",
       "      <th>2013-01-01</th>\n",
       "      <td>10.000000</td>\n",
       "      <td>84.500000</td>\n",
       "      <td>0.000000</td>\n",
       "    </tr>\n",
       "    <tr>\n",
       "      <th>2013-01-02</th>\n",
       "      <td>7.400000</td>\n",
       "      <td>92.000000</td>\n",
       "      <td>2.980000</td>\n",
       "    </tr>\n",
       "    <tr>\n",
       "      <th>2013-01-03</th>\n",
       "      <td>7.166667</td>\n",
       "      <td>87.000000</td>\n",
       "      <td>4.633333</td>\n",
       "    </tr>\n",
       "    <tr>\n",
       "      <th>2013-01-04</th>\n",
       "      <td>8.666667</td>\n",
       "      <td>71.333333</td>\n",
       "      <td>1.233333</td>\n",
       "    </tr>\n",
       "    <tr>\n",
       "      <th>2013-01-05</th>\n",
       "      <td>6.000000</td>\n",
       "      <td>86.833333</td>\n",
       "      <td>3.700000</td>\n",
       "    </tr>\n",
       "  </tbody>\n",
       "</table>\n",
       "</div>"
      ],
      "text/plain": [
       "             meantemp   humidity  wind_speed\n",
       "date                                        \n",
       "2013-01-01  10.000000  84.500000    0.000000\n",
       "2013-01-02   7.400000  92.000000    2.980000\n",
       "2013-01-03   7.166667  87.000000    4.633333\n",
       "2013-01-04   8.666667  71.333333    1.233333\n",
       "2013-01-05   6.000000  86.833333    3.700000"
      ]
     },
     "execution_count": 26,
     "metadata": {},
     "output_type": "execute_result"
    }
   ],
   "source": [
    "df = data[['meantemp', 'humidity', 'wind_speed']]\n",
    "df.head()"
   ]
  },
  {
   "cell_type": "code",
   "execution_count": 27,
   "metadata": {},
   "outputs": [
    {
     "name": "stdout",
     "output_type": "stream",
     "text": [
      "1169 293\n"
     ]
    }
   ],
   "source": [
    "train_size = int(len(df) * 0.8)\n",
    "dl_train, dl_test = df.iloc[:train_size], df.iloc[train_size:]\n",
    "print(len(dl_train), len(dl_test))\n",
    "\n",
    "scaler = MinMaxScaler(feature_range=(0, 1))\n",
    "scaled_data = scaler.fit_transform(data[['meantemp']])\n",
    "\n"
   ]
  },
  {
   "cell_type": "code",
   "execution_count": 21,
   "metadata": {},
   "outputs": [],
   "source": [
    "from sklearn.preprocessing import RobustScaler, MinMaxScaler\n",
    "\n",
    "robust_scaler = RobustScaler() \n",
    "minmax_scaler = MinMaxScaler()  \n",
    "target_transformer = MinMaxScaler() "
   ]
  },
  {
   "cell_type": "code",
   "execution_count": 22,
   "metadata": {},
   "outputs": [],
   "source": [
    "dl_train['wind_speed'] = robust_scaler.fit_transform(dl_train[['wind_speed']])\n",
    "dl_train['humidity'] = minmax_scaler.fit_transform(dl_train[['humidity']])\n",
    "dl_train['meantemp'] = target_transformer.fit_transform(dl_train[['meantemp']])\n",
    "\n",
    "dl_test['wind_speed'] = robust_scaler.transform(dl_test[['wind_speed']])\n",
    "dl_test['humidity'] = minmax_scaler.transform(dl_test[['humidity']])\n",
    "dl_test['meantemp'] = target_transformer.transform(dl_test[['meantemp']])"
   ]
  },
  {
   "cell_type": "code",
   "execution_count": 40,
   "metadata": {},
   "outputs": [],
   "source": [
    "def create_dataset(X, y, time_steps=1):  \n",
    "    Xs, ys = [], []   \n",
    "    for i in range(len(X) - time_steps):   \n",
    "        v = X.iloc[i:(i + time_steps)].values \n",
    "        Xs.append(v)      \n",
    "        ys.append(y.iloc[i + time_steps])\n",
    "    return np.array(Xs), np.array(ys)  "
   ]
  },
  {
   "cell_type": "code",
   "execution_count": 41,
   "metadata": {},
   "outputs": [],
   "source": [
    "look_back = 10 \n",
    "X_train, y_train = create_dataset(dl_train, dl_train['meantemp'], look_back)\n",
    "X_test, y_test = create_dataset(dl_test, dl_test['meantemp'], look_back)\n",
    "\n",
    "\n",
    "X_dif = x[:-1] - x[1:]\n",
    "X_new = np.hstack([x[:-1],X_dif])\n",
    "Y = y[:-1]\n",
    "\n",
    "X = np.reshape(X_new, (X_new.shape[0], X_new.shape[1], 1))\n",
    "x_train, x_test, y_train, y_test = train_test_split(X, Y, test_size=0.2, shuffle=False)"
   ]
  },
  {
   "cell_type": "code",
   "execution_count": 42,
   "metadata": {},
   "outputs": [
    {
     "name": "stdout",
     "output_type": "stream",
     "text": [
      "Epoch 1/30\n",
      "1159/1159 [==============================] - 3s 2ms/step - loss: 0.0801 - val_loss: 0.0542\n",
      "Epoch 2/30\n",
      "1159/1159 [==============================] - 2s 2ms/step - loss: 0.0550 - val_loss: 0.0538\n",
      "Epoch 3/30\n",
      "1159/1159 [==============================] - 2s 2ms/step - loss: 0.0518 - val_loss: 0.0531\n",
      "Epoch 4/30\n",
      "1159/1159 [==============================] - 2s 2ms/step - loss: 0.0470 - val_loss: 0.0606\n",
      "Epoch 5/30\n",
      "1159/1159 [==============================] - 2s 2ms/step - loss: 0.0461 - val_loss: 0.0413\n",
      "Epoch 6/30\n",
      "1159/1159 [==============================] - 3s 2ms/step - loss: 0.0443 - val_loss: 0.0400\n",
      "Epoch 7/30\n",
      "1159/1159 [==============================] - 2s 2ms/step - loss: 0.0432 - val_loss: 0.0424\n",
      "Epoch 8/30\n",
      "1159/1159 [==============================] - 2s 2ms/step - loss: 0.0425 - val_loss: 0.0428\n",
      "Epoch 9/30\n",
      "1159/1159 [==============================] - 3s 3ms/step - loss: 0.0419 - val_loss: 0.0463\n",
      "Epoch 10/30\n",
      "1159/1159 [==============================] - 4s 3ms/step - loss: 0.0426 - val_loss: 0.0490\n",
      "Epoch 11/30\n",
      "1159/1159 [==============================] - 5s 4ms/step - loss: 0.0415 - val_loss: 0.0396\n",
      "Epoch 12/30\n",
      "1159/1159 [==============================] - 4s 3ms/step - loss: 0.0403 - val_loss: 0.0391\n",
      "Epoch 13/30\n",
      "1159/1159 [==============================] - 4s 3ms/step - loss: 0.0403 - val_loss: 0.0384\n",
      "Epoch 14/30\n",
      "1159/1159 [==============================] - 4s 3ms/step - loss: 0.0406 - val_loss: 0.0433\n",
      "Epoch 15/30\n",
      "1159/1159 [==============================] - 4s 3ms/step - loss: 0.0411 - val_loss: 0.0403\n",
      "Epoch 16/30\n",
      "1159/1159 [==============================] - 4s 3ms/step - loss: 0.0404 - val_loss: 0.0502\n",
      "Epoch 17/30\n",
      "1159/1159 [==============================] - 4s 4ms/step - loss: 0.0401 - val_loss: 0.0383\n",
      "Epoch 18/30\n",
      "1159/1159 [==============================] - 4s 4ms/step - loss: 0.0410 - val_loss: 0.0401\n",
      "Epoch 19/30\n",
      "1159/1159 [==============================] - 5s 4ms/step - loss: 0.0408 - val_loss: 0.0595\n",
      "Epoch 20/30\n",
      "1159/1159 [==============================] - 5s 4ms/step - loss: 0.0401 - val_loss: 0.0401\n",
      "Epoch 21/30\n",
      "1159/1159 [==============================] - 6s 5ms/step - loss: 0.0394 - val_loss: 0.0390\n",
      "Epoch 22/30\n",
      "1159/1159 [==============================] - 6s 5ms/step - loss: 0.0393 - val_loss: 0.0477\n",
      "Epoch 23/30\n",
      "1159/1159 [==============================] - 8s 7ms/step - loss: 0.0402 - val_loss: 0.0395\n",
      "Epoch 24/30\n",
      "1159/1159 [==============================] - 10s 9ms/step - loss: 0.0387 - val_loss: 0.0405\n",
      "Epoch 25/30\n",
      "1159/1159 [==============================] - 12s 10ms/step - loss: 0.0390 - val_loss: 0.0394\n",
      "Epoch 26/30\n",
      "1159/1159 [==============================] - 16s 14ms/step - loss: 0.0393 - val_loss: 0.0402\n",
      "Epoch 27/30\n",
      "1159/1159 [==============================] - 12s 10ms/step - loss: 0.0394 - val_loss: 0.0415\n",
      "9/9 [==============================] - 0s 5ms/step - loss: 0.0383\n",
      "Validation Loss: 0.03833860158920288\n"
     ]
    }
   ],
   "source": [
    "rnn_model = Sequential()\n",
    "rnn_model.add(SimpleRNN(100, activation='relu', input_shape=(look_back, X_train.shape[2])))\n",
    "rnn_model.add(Dense(1))\n",
    "rnn_model.compile(optimizer='adam', loss='mae')\n",
    "\n",
    "early_stopping = EarlyStopping(monitor='val_loss', patience=10, restore_best_weights=True)\n",
    "history = rnn_model.fit(X_train, y_train, epochs=30, validation_data=(X_test, y_test), batch_size=1, callbacks=[early_stopping])\n",
    "\n",
    "loss = rnn_model.evaluate(X_test, y_test)\n",
    "print(f'Validation Loss: {loss}')"
   ]
  },
  {
   "cell_type": "code",
   "execution_count": 43,
   "metadata": {},
   "outputs": [
    {
     "name": "stdout",
     "output_type": "stream",
     "text": [
      "9/9 [==============================] - 0s 2ms/step\n"
     ]
    }
   ],
   "source": [
    "rnn_pred = rnn_model.predict(X_test)\n",
    "rnn_pred = target_transformer.inverse_transform(rnn_pred)\n",
    "\n",
    "y_test = y_test.reshape(-1, 1)\n",
    "y_test = target_transformer.inverse_transform(y_test)"
   ]
  },
  {
   "cell_type": "code",
   "execution_count": 56,
   "metadata": {},
   "outputs": [
    {
     "name": "stdout",
     "output_type": "stream",
     "text": [
      "MAPE: 4.641916970646035 %\n",
      "MAE: 1.2542197165289939\n"
     ]
    }
   ],
   "source": [
    "rnn_mape = mean_absolute_percentage_error(y_test, rnn_pred)\n",
    "rnn_mae = mean_absolute_error(y_test, rnn_pred)\n",
    "print(f\"MAPE: {rnn_mape} %\")\n",
    "print(f\"MAE: {rnn_mae}\")"
   ]
  },
  {
   "cell_type": "code",
   "execution_count": 45,
   "metadata": {},
   "outputs": [
    {
     "data": {
      "application/vnd.plotly.v1+json": {
       "config": {
        "linkText": "Export to plot.ly",
        "plotlyServerURL": "https://plot.ly",
        "showLink": true
       },
       "data": [
        {
         "line": {
          "color": "rgba(255, 153, 51, 1.0)",
          "dash": "solid",
          "shape": "linear",
          "width": 1.3
         },
         "mode": "lines",
         "name": "Y_test",
         "text": "",
         "type": "scatter",
         "x": [
          0,
          1,
          2,
          3,
          4,
          5,
          6,
          7,
          8,
          9,
          10,
          11,
          12,
          13,
          14,
          15,
          16,
          17,
          18,
          19,
          20,
          21,
          22,
          23,
          24,
          25,
          26,
          27,
          28,
          29,
          30,
          31,
          32,
          33,
          34,
          35,
          36,
          37,
          38,
          39,
          40,
          41,
          42,
          43,
          44,
          45,
          46,
          47,
          48,
          49,
          50,
          51,
          52,
          53,
          54,
          55,
          56,
          57,
          58,
          59,
          60,
          61,
          62,
          63,
          64,
          65,
          66,
          67,
          68,
          69,
          70,
          71,
          72,
          73,
          74,
          75,
          76,
          77,
          78,
          79,
          80,
          81,
          82,
          83,
          84,
          85,
          86,
          87,
          88,
          89,
          90,
          91,
          92,
          93,
          94,
          95,
          96,
          97,
          98,
          99,
          100,
          101,
          102,
          103,
          104,
          105,
          106,
          107,
          108,
          109,
          110,
          111,
          112,
          113,
          114,
          115,
          116,
          117,
          118,
          119,
          120,
          121,
          122,
          123,
          124,
          125,
          126,
          127,
          128,
          129,
          130,
          131,
          132,
          133,
          134,
          135,
          136,
          137,
          138,
          139,
          140,
          141,
          142,
          143,
          144,
          145,
          146,
          147,
          148,
          149,
          150,
          151,
          152,
          153,
          154,
          155,
          156,
          157,
          158,
          159,
          160,
          161,
          162,
          163,
          164,
          165,
          166,
          167,
          168,
          169,
          170,
          171,
          172,
          173,
          174,
          175,
          176,
          177,
          178,
          179,
          180,
          181,
          182,
          183,
          184,
          185,
          186,
          187,
          188,
          189,
          190,
          191,
          192,
          193,
          194,
          195,
          196,
          197,
          198,
          199,
          200,
          201,
          202,
          203,
          204,
          205,
          206,
          207,
          208,
          209,
          210,
          211,
          212,
          213,
          214,
          215,
          216,
          217,
          218,
          219,
          220,
          221,
          222,
          223,
          224,
          225,
          226,
          227,
          228,
          229,
          230,
          231,
          232,
          233,
          234,
          235,
          236,
          237,
          238,
          239,
          240,
          241,
          242,
          243,
          244,
          245,
          246,
          247,
          248,
          249,
          250,
          251,
          252,
          253,
          254,
          255,
          256,
          257,
          258,
          259,
          260,
          261,
          262,
          263,
          264,
          265,
          266,
          267,
          268,
          269,
          270,
          271,
          272,
          273,
          274,
          275,
          276,
          277,
          278,
          279,
          280,
          281,
          282
         ],
         "y": [
          29.875,
          24.666666666666668,
          26.25,
          25.93333333333333,
          27.125,
          29.571428571428573,
          30,
          30.571428571428573,
          32.3125,
          33.3125,
          32.8125,
          32.3125,
          31.375,
          29.933333333333334,
          29.266666666666666,
          30.73333333333333,
          32.25,
          29.8,
          30.2,
          31.75,
          33.125,
          33.625,
          35.6875,
          34.666666666666664,
          34.625,
          34,
          34.0625,
          34,
          33.25,
          31.916666666666668,
          31.3125,
          31.75,
          33.4375,
          33.125,
          34.15384615384615,
          34.07142857142857,
          33.0625,
          34.6875,
          38,
          35.49999999999999,
          33.714285714285715,
          30.6,
          31.4375,
          33.3125,
          35.13333333333333,
          33.53333333333333,
          34,
          32.5,
          35.375,
          37.294117647058826,
          36.5625,
          37.25,
          37.21428571428572,
          37.5,
          37.75,
          37.375,
          37.4,
          36.13333333333333,
          36.8,
          32.214285714285715,
          31.526315789473685,
          33.21739130434783,
          35.26923076923077,
          38.27272727272727,
          36.0625,
          31.5,
          26.8125,
          32.642857142857146,
          36,
          37.5625,
          37.5625,
          38.2,
          36.16666666666666,
          35.42857142857143,
          34.625,
          36.07142857142857,
          35.733333333333334,
          36.13333333333333,
          33.4375,
          35.49999999999999,
          36,
          32.625,
          34.733333333333334,
          33.5,
          34.1875,
          35.857142857142854,
          35.625,
          30.9375,
          32.875,
          33.125,
          33.84615384615385,
          36.4375,
          35.42857142857143,
          34.86666666666667,
          34.3125,
          30.785714285714285,
          35.375,
          35.46666666666667,
          32.125,
          28.4,
          29.5625,
          30.6875,
          33.25,
          33.266666666666666,
          33.5,
          30.8,
          33.25,
          32.5625,
          31.5,
          30.5,
          31.25,
          30.4375,
          31,
          27.125,
          28.125,
          27.666666666666668,
          32.3125,
          34.1875,
          34.13333333333333,
          34.125,
          31.875,
          31.4375,
          31.9375,
          30.3125,
          28.3125,
          29.53333333333333,
          27.375,
          27.33333333333333,
          29.266666666666666,
          29.125,
          30.6875,
          32.5625,
          33.111111111111114,
          33.8,
          30.066666666666663,
          33.11764705882353,
          33.80952380952381,
          31.615384615384617,
          32,
          28.107142857142858,
          29.035714285714285,
          30.321428571428573,
          28.933333333333334,
          31.678571428571427,
          31.33333333333333,
          29.928571428571427,
          29.88888888888889,
          32.07142857142857,
          33.18518518518518,
          31.59259259259259,
          32.18518518518518,
          31.48,
          30.178571428571427,
          31.52,
          31.22222222222222,
          31.785714285714285,
          33.4,
          29.571428571428573,
          30.04,
          27.25925925925926,
          27.96,
          30.73913043478261,
          30.894736842105264,
          31.692307692307693,
          31.07692307692308,
          30.375,
          31.1,
          31.916666666666668,
          30.55555555555556,
          31.23076923076923,
          31,
          31.642857142857142,
          32.53333333333333,
          30.857142857142858,
          31.727272727272727,
          31.4,
          32.30769230769231,
          32.25,
          32.375,
          33.44444444444444,
          33.36,
          30.03703703703704,
          31,
          31.24,
          31.130434782608692,
          31.48,
          32.18518518518518,
          32.44,
          32.22727272727273,
          32.214285714285715,
          32.541666666666664,
          32.81481481481482,
          33.26923076923077,
          30.55555555555556,
          28.83333333333333,
          30.703703703703702,
          30.96,
          30.6,
          30.92,
          29.77777777777778,
          29.666666666666668,
          29.571428571428573,
          29.96296296296296,
          29.75,
          27.74074074074074,
          28.428571428571427,
          28.6,
          28.5,
          28.925925925925927,
          29.07692307692308,
          28.40909090909091,
          29.33333333333333,
          27.5,
          28.5,
          28.04,
          27.57692307692308,
          26.55555555555556,
          25.51851851851852,
          25.814814814814813,
          24.82608695652174,
          24.53846153846154,
          24.384615384615383,
          23.727272727272727,
          25.64,
          24.814814814814813,
          23.115384615384617,
          22.925925925925927,
          24.545454545454547,
          23.73076923076923,
          23,
          23.51851851851852,
          23.92,
          23.53846153846154,
          24.296296296296298,
          23.346153846153847,
          22.24,
          21.769230769230774,
          21.73076923076923,
          21.73076923076923,
          20.666666666666668,
          22.25,
          21.53846153846154,
          22.57894736842105,
          22.82608695652174,
          21.42105263157895,
          23.6,
          24.294117647058822,
          23.63636363636364,
          22.454545454545453,
          21.61111111111111,
          19.869565217391305,
          19.75,
          19.20833333333333,
          21.20833333333333,
          18.9,
          18.63636363636364,
          18.53846153846154,
          18.25,
          16.9,
          19.416666666666668,
          16.444444444444443,
          20.041666666666668,
          19.90909090909091,
          19.05,
          18.55555555555556,
          18.166666666666668,
          15.833333333333334,
          17.5,
          16.083333333333332,
          17.857142857142858,
          19.8,
          18.05,
          17.285714285714285,
          15.550000000000002,
          17.318181818181817,
          14,
          17.142857142857142,
          16.85,
          17.217391304347824,
          15.238095238095237,
          14.095238095238097,
          15.05263157894737,
          10
         ]
        },
        {
         "line": {
          "color": "rgba(55, 128, 191, 1.0)",
          "dash": "solid",
          "shape": "linear",
          "width": 1.3
         },
         "mode": "lines",
         "name": "Predictions",
         "text": "",
         "type": "scatter",
         "x": [
          0,
          1,
          2,
          3,
          4,
          5,
          6,
          7,
          8,
          9,
          10,
          11,
          12,
          13,
          14,
          15,
          16,
          17,
          18,
          19,
          20,
          21,
          22,
          23,
          24,
          25,
          26,
          27,
          28,
          29,
          30,
          31,
          32,
          33,
          34,
          35,
          36,
          37,
          38,
          39,
          40,
          41,
          42,
          43,
          44,
          45,
          46,
          47,
          48,
          49,
          50,
          51,
          52,
          53,
          54,
          55,
          56,
          57,
          58,
          59,
          60,
          61,
          62,
          63,
          64,
          65,
          66,
          67,
          68,
          69,
          70,
          71,
          72,
          73,
          74,
          75,
          76,
          77,
          78,
          79,
          80,
          81,
          82,
          83,
          84,
          85,
          86,
          87,
          88,
          89,
          90,
          91,
          92,
          93,
          94,
          95,
          96,
          97,
          98,
          99,
          100,
          101,
          102,
          103,
          104,
          105,
          106,
          107,
          108,
          109,
          110,
          111,
          112,
          113,
          114,
          115,
          116,
          117,
          118,
          119,
          120,
          121,
          122,
          123,
          124,
          125,
          126,
          127,
          128,
          129,
          130,
          131,
          132,
          133,
          134,
          135,
          136,
          137,
          138,
          139,
          140,
          141,
          142,
          143,
          144,
          145,
          146,
          147,
          148,
          149,
          150,
          151,
          152,
          153,
          154,
          155,
          156,
          157,
          158,
          159,
          160,
          161,
          162,
          163,
          164,
          165,
          166,
          167,
          168,
          169,
          170,
          171,
          172,
          173,
          174,
          175,
          176,
          177,
          178,
          179,
          180,
          181,
          182,
          183,
          184,
          185,
          186,
          187,
          188,
          189,
          190,
          191,
          192,
          193,
          194,
          195,
          196,
          197,
          198,
          199,
          200,
          201,
          202,
          203,
          204,
          205,
          206,
          207,
          208,
          209,
          210,
          211,
          212,
          213,
          214,
          215,
          216,
          217,
          218,
          219,
          220,
          221,
          222,
          223,
          224,
          225,
          226,
          227,
          228,
          229,
          230,
          231,
          232,
          233,
          234,
          235,
          236,
          237,
          238,
          239,
          240,
          241,
          242,
          243,
          244,
          245,
          246,
          247,
          248,
          249,
          250,
          251,
          252,
          253,
          254,
          255,
          256,
          257,
          258,
          259,
          260,
          261,
          262,
          263,
          264,
          265,
          266,
          267,
          268,
          269,
          270,
          271,
          272,
          273,
          274,
          275,
          276,
          277,
          278,
          279,
          280,
          281,
          282
         ],
         "y": [
          29.069936752319336,
          30.068653106689453,
          24.623687744140625,
          26.715869903564453,
          26.352706909179688,
          27.172704696655273,
          29.589139938354492,
          30.045440673828125,
          29.991188049316406,
          32.754634857177734,
          33.336021423339844,
          32.219669342041016,
          32.130958557128906,
          31.76805877685547,
          29.561248779296875,
          29.92245101928711,
          30.098901748657227,
          32.679100036621094,
          28.768295288085938,
          29.61457061767578,
          31.218149185180664,
          33.64093780517578,
          33.66218948364258,
          35.492401123046875,
          34.51876449584961,
          34.73051452636719,
          34.18021774291992,
          33.024662017822266,
          33.470909118652344,
          33.62397384643555,
          30.588726043701172,
          32.061100006103516,
          32.00361251831055,
          33.773719787597656,
          32.84348678588867,
          33.471675872802734,
          34.066307067871094,
          33.160133361816406,
          34.34291458129883,
          37.5224609375,
          35.425018310546875,
          33.43427276611328,
          30.950111389160156,
          31.758214950561523,
          33.5311393737793,
          34.69234085083008,
          32.29790115356445,
          34.51650619506836,
          32.860107421875,
          35.54947280883789,
          36.58011245727539,
          36.50859832763672,
          36.89815902709961,
          36.580787658691406,
          37.17008590698242,
          37.54714584350586,
          37.25038528442383,
          37.39738464355469,
          35.881805419921875,
          37.037471771240234,
          31.582666397094727,
          32.42630386352539,
          33.12797546386719,
          34.734580993652344,
          37.46318054199219,
          35.807857513427734,
          32.202632904052734,
          27.961183547973633,
          32.9510383605957,
          35.4611701965332,
          36.780250549316406,
          37.95476150512695,
          37.8688850402832,
          35.86709976196289,
          35.17198944091797,
          33.64666748046875,
          36.74651336669922,
          35.526390075683594,
          36.147178649902344,
          33.57978057861328,
          35.3502082824707,
          35.676883697509766,
          32.836368560791016,
          34.91277313232422,
          33.48509216308594,
          34.491512298583984,
          35.555912017822266,
          35.634765625,
          31.481735229492188,
          33.037445068359375,
          33.30217742919922,
          33.73235321044922,
          36.11798095703125,
          35.20252990722656,
          35.00733947753906,
          34.41615676879883,
          31.393009185791016,
          35.15220260620117,
          35.43599319458008,
          32.161319732666016,
          29.286968231201172,
          30.165485382080078,
          30.667184829711914,
          32.933250427246094,
          32.83027648925781,
          33.649452209472656,
          31.155961990356445,
          33.2788200378418,
          32.732139587402344,
          31.43745994567871,
          31.150711059570312,
          31.33979606628418,
          30.860055923461914,
          31.05109977722168,
          27.962039947509766,
          28.40508270263672,
          28.133298873901367,
          31.731977462768555,
          33.97161865234375,
          33.967220306396484,
          34.364742279052734,
          32.20578384399414,
          32.204978942871094,
          32.05558776855469,
          30.44399070739746,
          28.961074829101562,
          29.772502899169922,
          27.967090606689453,
          27.517545700073242,
          29.037382125854492,
          29.062824249267578,
          30.60297203063965,
          32.50688171386719,
          32.84217071533203,
          34.005149841308594,
          30.207355499267578,
          33.22749710083008,
          33.61753845214844,
          31.75316619873047,
          32.270164489746094,
          28.90639305114746,
          29.78506851196289,
          30.554800033569336,
          28.96233367919922,
          31.26382064819336,
          31.21816062927246,
          30.729406356811523,
          30.607505798339844,
          31.976930618286133,
          32.40436935424805,
          31.618656158447266,
          32.379817962646484,
          31.86897850036621,
          30.41139030456543,
          31.90035629272461,
          31.474437713623047,
          31.70235824584961,
          33.42460250854492,
          30.006799697875977,
          30.19786262512207,
          28.068330764770508,
          28.556804656982422,
          30.280029296875,
          30.764564514160156,
          31.803730010986328,
          31.050416946411133,
          30.568227767944336,
          31.625858306884766,
          31.911848068237305,
          30.65765380859375,
          31.41316032409668,
          31.400672912597656,
          31.537763595581055,
          32.83211135864258,
          31.40766716003418,
          31.30067253112793,
          32.11659622192383,
          32.30413818359375,
          31.31864356994629,
          33.445152282714844,
          33.2641716003418,
          33.32619094848633,
          30.134939193725586,
          31.612720489501953,
          31.248706817626953,
          31.35428810119629,
          31.53726577758789,
          32.17424774169922,
          32.173404693603516,
          32.116058349609375,
          32.269500732421875,
          32.517486572265625,
          32.76444625854492,
          33.2290153503418,
          30.6767520904541,
          29.395526885986328,
          30.86283302307129,
          30.20136833190918,
          31.07884979248047,
          31.365272521972656,
          29.760412216186523,
          29.582395553588867,
          29.503284454345703,
          29.887296676635742,
          30.202102661132812,
          28.20512580871582,
          28.696929931640625,
          28.775421142578125,
          28.57245635986328,
          29.186250686645508,
          28.98666763305664,
          28.521076202392578,
          29.32331085205078,
          27.929550170898438,
          28.75908088684082,
          28.280147552490234,
          28.318401336669922,
          26.910045623779297,
          25.874576568603516,
          26.50386619567871,
          24.922027587890625,
          24.430978775024414,
          23.94141960144043,
          23.58776092529297,
          25.14442253112793,
          24.35065269470215,
          23.174161911010742,
          23.374858856201172,
          24.076452255249023,
          23.61969566345215,
          23.662010192871094,
          24.099063873291016,
          24.153165817260742,
          23.602144241333008,
          24.12945556640625,
          23.50282096862793,
          21.984861373901367,
          21.724027633666992,
          21.705425262451172,
          22.417701721191406,
          21.42216682434082,
          22.451431274414062,
          21.443880081176758,
          22.04160499572754,
          23.091772079467773,
          21.574403762817383,
          23.195127487182617,
          24.215538024902344,
          23.977401733398438,
          23.213237762451172,
          22.718395233154297,
          20.363386154174805,
          20.263357162475586,
          19.119829177856445,
          21.033615112304688,
          19.138704299926758,
          19.115402221679688,
          19.152347564697266,
          18.354795455932617,
          16.69809913635254,
          19.100866317749023,
          16.192707061767578,
          20.007333755493164,
          19.896167755126953,
          19.015897750854492,
          18.484750747680664,
          18.129005432128906,
          16.57042694091797,
          17.68283462524414,
          16.34018325805664,
          17.43528938293457,
          19.314414978027344,
          18.052570343017578,
          17.60915184020996,
          16.472911834716797,
          16.716224670410156,
          13.92397689819336,
          16.364147186279297,
          16.401683807373047,
          17.63649559020996,
          15.311182975769043,
          13.725916862487793,
          14.60951042175293
         ]
        }
       ],
       "layout": {
        "legend": {
         "bgcolor": "#151516",
         "font": {
          "color": "#D9D9D9"
         }
        },
        "paper_bgcolor": "#151516",
        "plot_bgcolor": "#151516",
        "template": {
         "data": {
          "bar": [
           {
            "error_x": {
             "color": "#2a3f5f"
            },
            "error_y": {
             "color": "#2a3f5f"
            },
            "marker": {
             "line": {
              "color": "#E5ECF6",
              "width": 0.5
             },
             "pattern": {
              "fillmode": "overlay",
              "size": 10,
              "solidity": 0.2
             }
            },
            "type": "bar"
           }
          ],
          "barpolar": [
           {
            "marker": {
             "line": {
              "color": "#E5ECF6",
              "width": 0.5
             },
             "pattern": {
              "fillmode": "overlay",
              "size": 10,
              "solidity": 0.2
             }
            },
            "type": "barpolar"
           }
          ],
          "carpet": [
           {
            "aaxis": {
             "endlinecolor": "#2a3f5f",
             "gridcolor": "white",
             "linecolor": "white",
             "minorgridcolor": "white",
             "startlinecolor": "#2a3f5f"
            },
            "baxis": {
             "endlinecolor": "#2a3f5f",
             "gridcolor": "white",
             "linecolor": "white",
             "minorgridcolor": "white",
             "startlinecolor": "#2a3f5f"
            },
            "type": "carpet"
           }
          ],
          "choropleth": [
           {
            "colorbar": {
             "outlinewidth": 0,
             "ticks": ""
            },
            "type": "choropleth"
           }
          ],
          "contour": [
           {
            "colorbar": {
             "outlinewidth": 0,
             "ticks": ""
            },
            "colorscale": [
             [
              0,
              "#0d0887"
             ],
             [
              0.1111111111111111,
              "#46039f"
             ],
             [
              0.2222222222222222,
              "#7201a8"
             ],
             [
              0.3333333333333333,
              "#9c179e"
             ],
             [
              0.4444444444444444,
              "#bd3786"
             ],
             [
              0.5555555555555556,
              "#d8576b"
             ],
             [
              0.6666666666666666,
              "#ed7953"
             ],
             [
              0.7777777777777778,
              "#fb9f3a"
             ],
             [
              0.8888888888888888,
              "#fdca26"
             ],
             [
              1,
              "#f0f921"
             ]
            ],
            "type": "contour"
           }
          ],
          "contourcarpet": [
           {
            "colorbar": {
             "outlinewidth": 0,
             "ticks": ""
            },
            "type": "contourcarpet"
           }
          ],
          "heatmap": [
           {
            "colorbar": {
             "outlinewidth": 0,
             "ticks": ""
            },
            "colorscale": [
             [
              0,
              "#0d0887"
             ],
             [
              0.1111111111111111,
              "#46039f"
             ],
             [
              0.2222222222222222,
              "#7201a8"
             ],
             [
              0.3333333333333333,
              "#9c179e"
             ],
             [
              0.4444444444444444,
              "#bd3786"
             ],
             [
              0.5555555555555556,
              "#d8576b"
             ],
             [
              0.6666666666666666,
              "#ed7953"
             ],
             [
              0.7777777777777778,
              "#fb9f3a"
             ],
             [
              0.8888888888888888,
              "#fdca26"
             ],
             [
              1,
              "#f0f921"
             ]
            ],
            "type": "heatmap"
           }
          ],
          "heatmapgl": [
           {
            "colorbar": {
             "outlinewidth": 0,
             "ticks": ""
            },
            "colorscale": [
             [
              0,
              "#0d0887"
             ],
             [
              0.1111111111111111,
              "#46039f"
             ],
             [
              0.2222222222222222,
              "#7201a8"
             ],
             [
              0.3333333333333333,
              "#9c179e"
             ],
             [
              0.4444444444444444,
              "#bd3786"
             ],
             [
              0.5555555555555556,
              "#d8576b"
             ],
             [
              0.6666666666666666,
              "#ed7953"
             ],
             [
              0.7777777777777778,
              "#fb9f3a"
             ],
             [
              0.8888888888888888,
              "#fdca26"
             ],
             [
              1,
              "#f0f921"
             ]
            ],
            "type": "heatmapgl"
           }
          ],
          "histogram": [
           {
            "marker": {
             "pattern": {
              "fillmode": "overlay",
              "size": 10,
              "solidity": 0.2
             }
            },
            "type": "histogram"
           }
          ],
          "histogram2d": [
           {
            "colorbar": {
             "outlinewidth": 0,
             "ticks": ""
            },
            "colorscale": [
             [
              0,
              "#0d0887"
             ],
             [
              0.1111111111111111,
              "#46039f"
             ],
             [
              0.2222222222222222,
              "#7201a8"
             ],
             [
              0.3333333333333333,
              "#9c179e"
             ],
             [
              0.4444444444444444,
              "#bd3786"
             ],
             [
              0.5555555555555556,
              "#d8576b"
             ],
             [
              0.6666666666666666,
              "#ed7953"
             ],
             [
              0.7777777777777778,
              "#fb9f3a"
             ],
             [
              0.8888888888888888,
              "#fdca26"
             ],
             [
              1,
              "#f0f921"
             ]
            ],
            "type": "histogram2d"
           }
          ],
          "histogram2dcontour": [
           {
            "colorbar": {
             "outlinewidth": 0,
             "ticks": ""
            },
            "colorscale": [
             [
              0,
              "#0d0887"
             ],
             [
              0.1111111111111111,
              "#46039f"
             ],
             [
              0.2222222222222222,
              "#7201a8"
             ],
             [
              0.3333333333333333,
              "#9c179e"
             ],
             [
              0.4444444444444444,
              "#bd3786"
             ],
             [
              0.5555555555555556,
              "#d8576b"
             ],
             [
              0.6666666666666666,
              "#ed7953"
             ],
             [
              0.7777777777777778,
              "#fb9f3a"
             ],
             [
              0.8888888888888888,
              "#fdca26"
             ],
             [
              1,
              "#f0f921"
             ]
            ],
            "type": "histogram2dcontour"
           }
          ],
          "mesh3d": [
           {
            "colorbar": {
             "outlinewidth": 0,
             "ticks": ""
            },
            "type": "mesh3d"
           }
          ],
          "parcoords": [
           {
            "line": {
             "colorbar": {
              "outlinewidth": 0,
              "ticks": ""
             }
            },
            "type": "parcoords"
           }
          ],
          "pie": [
           {
            "automargin": true,
            "type": "pie"
           }
          ],
          "scatter": [
           {
            "fillpattern": {
             "fillmode": "overlay",
             "size": 10,
             "solidity": 0.2
            },
            "type": "scatter"
           }
          ],
          "scatter3d": [
           {
            "line": {
             "colorbar": {
              "outlinewidth": 0,
              "ticks": ""
             }
            },
            "marker": {
             "colorbar": {
              "outlinewidth": 0,
              "ticks": ""
             }
            },
            "type": "scatter3d"
           }
          ],
          "scattercarpet": [
           {
            "marker": {
             "colorbar": {
              "outlinewidth": 0,
              "ticks": ""
             }
            },
            "type": "scattercarpet"
           }
          ],
          "scattergeo": [
           {
            "marker": {
             "colorbar": {
              "outlinewidth": 0,
              "ticks": ""
             }
            },
            "type": "scattergeo"
           }
          ],
          "scattergl": [
           {
            "marker": {
             "colorbar": {
              "outlinewidth": 0,
              "ticks": ""
             }
            },
            "type": "scattergl"
           }
          ],
          "scattermapbox": [
           {
            "marker": {
             "colorbar": {
              "outlinewidth": 0,
              "ticks": ""
             }
            },
            "type": "scattermapbox"
           }
          ],
          "scatterpolar": [
           {
            "marker": {
             "colorbar": {
              "outlinewidth": 0,
              "ticks": ""
             }
            },
            "type": "scatterpolar"
           }
          ],
          "scatterpolargl": [
           {
            "marker": {
             "colorbar": {
              "outlinewidth": 0,
              "ticks": ""
             }
            },
            "type": "scatterpolargl"
           }
          ],
          "scatterternary": [
           {
            "marker": {
             "colorbar": {
              "outlinewidth": 0,
              "ticks": ""
             }
            },
            "type": "scatterternary"
           }
          ],
          "surface": [
           {
            "colorbar": {
             "outlinewidth": 0,
             "ticks": ""
            },
            "colorscale": [
             [
              0,
              "#0d0887"
             ],
             [
              0.1111111111111111,
              "#46039f"
             ],
             [
              0.2222222222222222,
              "#7201a8"
             ],
             [
              0.3333333333333333,
              "#9c179e"
             ],
             [
              0.4444444444444444,
              "#bd3786"
             ],
             [
              0.5555555555555556,
              "#d8576b"
             ],
             [
              0.6666666666666666,
              "#ed7953"
             ],
             [
              0.7777777777777778,
              "#fb9f3a"
             ],
             [
              0.8888888888888888,
              "#fdca26"
             ],
             [
              1,
              "#f0f921"
             ]
            ],
            "type": "surface"
           }
          ],
          "table": [
           {
            "cells": {
             "fill": {
              "color": "#EBF0F8"
             },
             "line": {
              "color": "white"
             }
            },
            "header": {
             "fill": {
              "color": "#C8D4E3"
             },
             "line": {
              "color": "white"
             }
            },
            "type": "table"
           }
          ]
         },
         "layout": {
          "annotationdefaults": {
           "arrowcolor": "#2a3f5f",
           "arrowhead": 0,
           "arrowwidth": 1
          },
          "autotypenumbers": "strict",
          "coloraxis": {
           "colorbar": {
            "outlinewidth": 0,
            "ticks": ""
           }
          },
          "colorscale": {
           "diverging": [
            [
             0,
             "#8e0152"
            ],
            [
             0.1,
             "#c51b7d"
            ],
            [
             0.2,
             "#de77ae"
            ],
            [
             0.3,
             "#f1b6da"
            ],
            [
             0.4,
             "#fde0ef"
            ],
            [
             0.5,
             "#f7f7f7"
            ],
            [
             0.6,
             "#e6f5d0"
            ],
            [
             0.7,
             "#b8e186"
            ],
            [
             0.8,
             "#7fbc41"
            ],
            [
             0.9,
             "#4d9221"
            ],
            [
             1,
             "#276419"
            ]
           ],
           "sequential": [
            [
             0,
             "#0d0887"
            ],
            [
             0.1111111111111111,
             "#46039f"
            ],
            [
             0.2222222222222222,
             "#7201a8"
            ],
            [
             0.3333333333333333,
             "#9c179e"
            ],
            [
             0.4444444444444444,
             "#bd3786"
            ],
            [
             0.5555555555555556,
             "#d8576b"
            ],
            [
             0.6666666666666666,
             "#ed7953"
            ],
            [
             0.7777777777777778,
             "#fb9f3a"
            ],
            [
             0.8888888888888888,
             "#fdca26"
            ],
            [
             1,
             "#f0f921"
            ]
           ],
           "sequentialminus": [
            [
             0,
             "#0d0887"
            ],
            [
             0.1111111111111111,
             "#46039f"
            ],
            [
             0.2222222222222222,
             "#7201a8"
            ],
            [
             0.3333333333333333,
             "#9c179e"
            ],
            [
             0.4444444444444444,
             "#bd3786"
            ],
            [
             0.5555555555555556,
             "#d8576b"
            ],
            [
             0.6666666666666666,
             "#ed7953"
            ],
            [
             0.7777777777777778,
             "#fb9f3a"
            ],
            [
             0.8888888888888888,
             "#fdca26"
            ],
            [
             1,
             "#f0f921"
            ]
           ]
          },
          "colorway": [
           "#636efa",
           "#EF553B",
           "#00cc96",
           "#ab63fa",
           "#FFA15A",
           "#19d3f3",
           "#FF6692",
           "#B6E880",
           "#FF97FF",
           "#FECB52"
          ],
          "font": {
           "color": "#2a3f5f"
          },
          "geo": {
           "bgcolor": "white",
           "lakecolor": "white",
           "landcolor": "#E5ECF6",
           "showlakes": true,
           "showland": true,
           "subunitcolor": "white"
          },
          "hoverlabel": {
           "align": "left"
          },
          "hovermode": "closest",
          "mapbox": {
           "style": "light"
          },
          "paper_bgcolor": "white",
          "plot_bgcolor": "#E5ECF6",
          "polar": {
           "angularaxis": {
            "gridcolor": "white",
            "linecolor": "white",
            "ticks": ""
           },
           "bgcolor": "#E5ECF6",
           "radialaxis": {
            "gridcolor": "white",
            "linecolor": "white",
            "ticks": ""
           }
          },
          "scene": {
           "xaxis": {
            "backgroundcolor": "#E5ECF6",
            "gridcolor": "white",
            "gridwidth": 2,
            "linecolor": "white",
            "showbackground": true,
            "ticks": "",
            "zerolinecolor": "white"
           },
           "yaxis": {
            "backgroundcolor": "#E5ECF6",
            "gridcolor": "white",
            "gridwidth": 2,
            "linecolor": "white",
            "showbackground": true,
            "ticks": "",
            "zerolinecolor": "white"
           },
           "zaxis": {
            "backgroundcolor": "#E5ECF6",
            "gridcolor": "white",
            "gridwidth": 2,
            "linecolor": "white",
            "showbackground": true,
            "ticks": "",
            "zerolinecolor": "white"
           }
          },
          "shapedefaults": {
           "line": {
            "color": "#2a3f5f"
           }
          },
          "ternary": {
           "aaxis": {
            "gridcolor": "white",
            "linecolor": "white",
            "ticks": ""
           },
           "baxis": {
            "gridcolor": "white",
            "linecolor": "white",
            "ticks": ""
           },
           "bgcolor": "#E5ECF6",
           "caxis": {
            "gridcolor": "white",
            "linecolor": "white",
            "ticks": ""
           }
          },
          "title": {
           "x": 0.05
          },
          "xaxis": {
           "automargin": true,
           "gridcolor": "white",
           "linecolor": "white",
           "ticks": "",
           "title": {
            "standoff": 15
           },
           "zerolinecolor": "white",
           "zerolinewidth": 2
          },
          "yaxis": {
           "automargin": true,
           "gridcolor": "white",
           "linecolor": "white",
           "ticks": "",
           "title": {
            "standoff": 15
           },
           "zerolinecolor": "white",
           "zerolinewidth": 2
          }
         }
        },
        "title": {
         "font": {
          "color": "#D9D9D9"
         },
         "text": "Прогноз vs Реальные значения"
        },
        "xaxis": {
         "gridcolor": "#434343",
         "showgrid": true,
         "tickfont": {
          "color": "#C2C2C2"
         },
         "title": {
          "font": {
           "color": "#D9D9D9"
          },
          "text": "Время"
         },
         "zerolinecolor": "#666570"
        },
        "yaxis": {
         "gridcolor": "#434343",
         "showgrid": true,
         "tickfont": {
          "color": "#C2C2C2"
         },
         "title": {
          "font": {
           "color": "#D9D9D9"
          },
          "text": "Значение"
         },
         "zerolinecolor": "#666570"
        }
       }
      },
      "text/html": [
       "<div>                            <div id=\"3f705a9c-882f-4a12-a81c-bff9c96a52e3\" class=\"plotly-graph-div\" style=\"height:525px; width:100%;\"></div>            <script type=\"text/javascript\">                require([\"plotly\"], function(Plotly) {                    window.PLOTLYENV=window.PLOTLYENV || {};\n",
       "                    window.PLOTLYENV.BASE_URL='https://plot.ly';                                    if (document.getElementById(\"3f705a9c-882f-4a12-a81c-bff9c96a52e3\")) {                    Plotly.newPlot(                        \"3f705a9c-882f-4a12-a81c-bff9c96a52e3\",                        [{\"line\":{\"color\":\"rgba(255, 153, 51, 1.0)\",\"dash\":\"solid\",\"shape\":\"linear\",\"width\":1.3},\"mode\":\"lines\",\"name\":\"Y_test\",\"text\":\"\",\"x\":[0,1,2,3,4,5,6,7,8,9,10,11,12,13,14,15,16,17,18,19,20,21,22,23,24,25,26,27,28,29,30,31,32,33,34,35,36,37,38,39,40,41,42,43,44,45,46,47,48,49,50,51,52,53,54,55,56,57,58,59,60,61,62,63,64,65,66,67,68,69,70,71,72,73,74,75,76,77,78,79,80,81,82,83,84,85,86,87,88,89,90,91,92,93,94,95,96,97,98,99,100,101,102,103,104,105,106,107,108,109,110,111,112,113,114,115,116,117,118,119,120,121,122,123,124,125,126,127,128,129,130,131,132,133,134,135,136,137,138,139,140,141,142,143,144,145,146,147,148,149,150,151,152,153,154,155,156,157,158,159,160,161,162,163,164,165,166,167,168,169,170,171,172,173,174,175,176,177,178,179,180,181,182,183,184,185,186,187,188,189,190,191,192,193,194,195,196,197,198,199,200,201,202,203,204,205,206,207,208,209,210,211,212,213,214,215,216,217,218,219,220,221,222,223,224,225,226,227,228,229,230,231,232,233,234,235,236,237,238,239,240,241,242,243,244,245,246,247,248,249,250,251,252,253,254,255,256,257,258,259,260,261,262,263,264,265,266,267,268,269,270,271,272,273,274,275,276,277,278,279,280,281,282],\"y\":[29.875,24.666666666666668,26.25,25.93333333333333,27.125,29.571428571428573,30.0,30.571428571428573,32.3125,33.3125,32.8125,32.3125,31.375,29.933333333333334,29.266666666666666,30.73333333333333,32.25,29.8,30.2,31.75,33.125,33.625,35.6875,34.666666666666664,34.625,34.0,34.0625,34.0,33.25,31.916666666666668,31.3125,31.75,33.4375,33.125,34.15384615384615,34.07142857142857,33.0625,34.6875,38.0,35.49999999999999,33.714285714285715,30.6,31.4375,33.3125,35.13333333333333,33.53333333333333,34.0,32.5,35.375,37.294117647058826,36.5625,37.25,37.21428571428572,37.5,37.75,37.375,37.4,36.13333333333333,36.8,32.214285714285715,31.526315789473685,33.21739130434783,35.26923076923077,38.27272727272727,36.0625,31.5,26.8125,32.642857142857146,36.0,37.5625,37.5625,38.2,36.16666666666666,35.42857142857143,34.625,36.07142857142857,35.733333333333334,36.13333333333333,33.4375,35.49999999999999,36.0,32.625,34.733333333333334,33.5,34.1875,35.857142857142854,35.625,30.9375,32.875,33.125,33.84615384615385,36.4375,35.42857142857143,34.86666666666667,34.3125,30.785714285714285,35.375,35.46666666666667,32.125,28.4,29.5625,30.6875,33.25,33.266666666666666,33.5,30.8,33.25,32.5625,31.5,30.5,31.25,30.4375,31.0,27.125,28.125,27.666666666666668,32.3125,34.1875,34.13333333333333,34.125,31.875,31.4375,31.9375,30.3125,28.3125,29.53333333333333,27.375,27.33333333333333,29.266666666666666,29.125,30.6875,32.5625,33.111111111111114,33.8,30.066666666666663,33.11764705882353,33.80952380952381,31.615384615384617,32.0,28.107142857142858,29.035714285714285,30.321428571428573,28.933333333333334,31.678571428571427,31.33333333333333,29.928571428571427,29.88888888888889,32.07142857142857,33.18518518518518,31.59259259259259,32.18518518518518,31.48,30.178571428571427,31.52,31.22222222222222,31.785714285714285,33.4,29.571428571428573,30.04,27.25925925925926,27.96,30.73913043478261,30.894736842105264,31.692307692307693,31.07692307692308,30.375,31.1,31.916666666666668,30.55555555555556,31.23076923076923,31.0,31.642857142857142,32.53333333333333,30.857142857142858,31.727272727272727,31.4,32.30769230769231,32.25,32.375,33.44444444444444,33.36,30.03703703703704,31.0,31.24,31.130434782608692,31.48,32.18518518518518,32.44,32.22727272727273,32.214285714285715,32.541666666666664,32.81481481481482,33.26923076923077,30.55555555555556,28.83333333333333,30.703703703703702,30.96,30.6,30.92,29.77777777777778,29.666666666666668,29.571428571428573,29.96296296296296,29.75,27.74074074074074,28.428571428571427,28.6,28.5,28.925925925925927,29.07692307692308,28.40909090909091,29.33333333333333,27.5,28.5,28.04,27.57692307692308,26.55555555555556,25.51851851851852,25.814814814814813,24.82608695652174,24.53846153846154,24.384615384615383,23.727272727272727,25.64,24.814814814814813,23.115384615384617,22.925925925925927,24.545454545454547,23.73076923076923,23.0,23.51851851851852,23.92,23.53846153846154,24.296296296296298,23.346153846153847,22.24,21.769230769230774,21.73076923076923,21.73076923076923,20.666666666666668,22.25,21.53846153846154,22.57894736842105,22.82608695652174,21.42105263157895,23.6,24.294117647058822,23.63636363636364,22.454545454545453,21.61111111111111,19.869565217391305,19.75,19.20833333333333,21.20833333333333,18.9,18.63636363636364,18.53846153846154,18.25,16.9,19.416666666666668,16.444444444444443,20.041666666666668,19.90909090909091,19.05,18.55555555555556,18.166666666666668,15.833333333333334,17.5,16.083333333333332,17.857142857142858,19.8,18.05,17.285714285714285,15.550000000000002,17.318181818181817,14.0,17.142857142857142,16.85,17.217391304347824,15.238095238095237,14.095238095238097,15.05263157894737,10.0],\"type\":\"scatter\"},{\"line\":{\"color\":\"rgba(55, 128, 191, 1.0)\",\"dash\":\"solid\",\"shape\":\"linear\",\"width\":1.3},\"mode\":\"lines\",\"name\":\"Predictions\",\"text\":\"\",\"x\":[0,1,2,3,4,5,6,7,8,9,10,11,12,13,14,15,16,17,18,19,20,21,22,23,24,25,26,27,28,29,30,31,32,33,34,35,36,37,38,39,40,41,42,43,44,45,46,47,48,49,50,51,52,53,54,55,56,57,58,59,60,61,62,63,64,65,66,67,68,69,70,71,72,73,74,75,76,77,78,79,80,81,82,83,84,85,86,87,88,89,90,91,92,93,94,95,96,97,98,99,100,101,102,103,104,105,106,107,108,109,110,111,112,113,114,115,116,117,118,119,120,121,122,123,124,125,126,127,128,129,130,131,132,133,134,135,136,137,138,139,140,141,142,143,144,145,146,147,148,149,150,151,152,153,154,155,156,157,158,159,160,161,162,163,164,165,166,167,168,169,170,171,172,173,174,175,176,177,178,179,180,181,182,183,184,185,186,187,188,189,190,191,192,193,194,195,196,197,198,199,200,201,202,203,204,205,206,207,208,209,210,211,212,213,214,215,216,217,218,219,220,221,222,223,224,225,226,227,228,229,230,231,232,233,234,235,236,237,238,239,240,241,242,243,244,245,246,247,248,249,250,251,252,253,254,255,256,257,258,259,260,261,262,263,264,265,266,267,268,269,270,271,272,273,274,275,276,277,278,279,280,281,282],\"y\":[29.069936752319336,30.068653106689453,24.623687744140625,26.715869903564453,26.352706909179688,27.172704696655273,29.589139938354492,30.045440673828125,29.991188049316406,32.754634857177734,33.336021423339844,32.219669342041016,32.130958557128906,31.76805877685547,29.561248779296875,29.92245101928711,30.098901748657227,32.679100036621094,28.768295288085938,29.61457061767578,31.218149185180664,33.64093780517578,33.66218948364258,35.492401123046875,34.51876449584961,34.73051452636719,34.18021774291992,33.024662017822266,33.470909118652344,33.62397384643555,30.588726043701172,32.061100006103516,32.00361251831055,33.773719787597656,32.84348678588867,33.471675872802734,34.066307067871094,33.160133361816406,34.34291458129883,37.5224609375,35.425018310546875,33.43427276611328,30.950111389160156,31.758214950561523,33.5311393737793,34.69234085083008,32.29790115356445,34.51650619506836,32.860107421875,35.54947280883789,36.58011245727539,36.50859832763672,36.89815902709961,36.580787658691406,37.17008590698242,37.54714584350586,37.25038528442383,37.39738464355469,35.881805419921875,37.037471771240234,31.582666397094727,32.42630386352539,33.12797546386719,34.734580993652344,37.46318054199219,35.807857513427734,32.202632904052734,27.961183547973633,32.9510383605957,35.4611701965332,36.780250549316406,37.95476150512695,37.8688850402832,35.86709976196289,35.17198944091797,33.64666748046875,36.74651336669922,35.526390075683594,36.147178649902344,33.57978057861328,35.3502082824707,35.676883697509766,32.836368560791016,34.91277313232422,33.48509216308594,34.491512298583984,35.555912017822266,35.634765625,31.481735229492188,33.037445068359375,33.30217742919922,33.73235321044922,36.11798095703125,35.20252990722656,35.00733947753906,34.41615676879883,31.393009185791016,35.15220260620117,35.43599319458008,32.161319732666016,29.286968231201172,30.165485382080078,30.667184829711914,32.933250427246094,32.83027648925781,33.649452209472656,31.155961990356445,33.2788200378418,32.732139587402344,31.43745994567871,31.150711059570312,31.33979606628418,30.860055923461914,31.05109977722168,27.962039947509766,28.40508270263672,28.133298873901367,31.731977462768555,33.97161865234375,33.967220306396484,34.364742279052734,32.20578384399414,32.204978942871094,32.05558776855469,30.44399070739746,28.961074829101562,29.772502899169922,27.967090606689453,27.517545700073242,29.037382125854492,29.062824249267578,30.60297203063965,32.50688171386719,32.84217071533203,34.005149841308594,30.207355499267578,33.22749710083008,33.61753845214844,31.75316619873047,32.270164489746094,28.90639305114746,29.78506851196289,30.554800033569336,28.96233367919922,31.26382064819336,31.21816062927246,30.729406356811523,30.607505798339844,31.976930618286133,32.40436935424805,31.618656158447266,32.379817962646484,31.86897850036621,30.41139030456543,31.90035629272461,31.474437713623047,31.70235824584961,33.42460250854492,30.006799697875977,30.19786262512207,28.068330764770508,28.556804656982422,30.280029296875,30.764564514160156,31.803730010986328,31.050416946411133,30.568227767944336,31.625858306884766,31.911848068237305,30.65765380859375,31.41316032409668,31.400672912597656,31.537763595581055,32.83211135864258,31.40766716003418,31.30067253112793,32.11659622192383,32.30413818359375,31.31864356994629,33.445152282714844,33.2641716003418,33.32619094848633,30.134939193725586,31.612720489501953,31.248706817626953,31.35428810119629,31.53726577758789,32.17424774169922,32.173404693603516,32.116058349609375,32.269500732421875,32.517486572265625,32.76444625854492,33.2290153503418,30.6767520904541,29.395526885986328,30.86283302307129,30.20136833190918,31.07884979248047,31.365272521972656,29.760412216186523,29.582395553588867,29.503284454345703,29.887296676635742,30.202102661132812,28.20512580871582,28.696929931640625,28.775421142578125,28.57245635986328,29.186250686645508,28.98666763305664,28.521076202392578,29.32331085205078,27.929550170898438,28.75908088684082,28.280147552490234,28.318401336669922,26.910045623779297,25.874576568603516,26.50386619567871,24.922027587890625,24.430978775024414,23.94141960144043,23.58776092529297,25.14442253112793,24.35065269470215,23.174161911010742,23.374858856201172,24.076452255249023,23.61969566345215,23.662010192871094,24.099063873291016,24.153165817260742,23.602144241333008,24.12945556640625,23.50282096862793,21.984861373901367,21.724027633666992,21.705425262451172,22.417701721191406,21.42216682434082,22.451431274414062,21.443880081176758,22.04160499572754,23.091772079467773,21.574403762817383,23.195127487182617,24.215538024902344,23.977401733398438,23.213237762451172,22.718395233154297,20.363386154174805,20.263357162475586,19.119829177856445,21.033615112304688,19.138704299926758,19.115402221679688,19.152347564697266,18.354795455932617,16.69809913635254,19.100866317749023,16.192707061767578,20.007333755493164,19.896167755126953,19.015897750854492,18.484750747680664,18.129005432128906,16.57042694091797,17.68283462524414,16.34018325805664,17.43528938293457,19.314414978027344,18.052570343017578,17.60915184020996,16.472911834716797,16.716224670410156,13.92397689819336,16.364147186279297,16.401683807373047,17.63649559020996,15.311182975769043,13.725916862487793,14.60951042175293],\"type\":\"scatter\"}],                        {\"legend\":{\"bgcolor\":\"#151516\",\"font\":{\"color\":\"#D9D9D9\"}},\"paper_bgcolor\":\"#151516\",\"plot_bgcolor\":\"#151516\",\"template\":{\"data\":{\"barpolar\":[{\"marker\":{\"line\":{\"color\":\"#E5ECF6\",\"width\":0.5},\"pattern\":{\"fillmode\":\"overlay\",\"size\":10,\"solidity\":0.2}},\"type\":\"barpolar\"}],\"bar\":[{\"error_x\":{\"color\":\"#2a3f5f\"},\"error_y\":{\"color\":\"#2a3f5f\"},\"marker\":{\"line\":{\"color\":\"#E5ECF6\",\"width\":0.5},\"pattern\":{\"fillmode\":\"overlay\",\"size\":10,\"solidity\":0.2}},\"type\":\"bar\"}],\"carpet\":[{\"aaxis\":{\"endlinecolor\":\"#2a3f5f\",\"gridcolor\":\"white\",\"linecolor\":\"white\",\"minorgridcolor\":\"white\",\"startlinecolor\":\"#2a3f5f\"},\"baxis\":{\"endlinecolor\":\"#2a3f5f\",\"gridcolor\":\"white\",\"linecolor\":\"white\",\"minorgridcolor\":\"white\",\"startlinecolor\":\"#2a3f5f\"},\"type\":\"carpet\"}],\"choropleth\":[{\"colorbar\":{\"outlinewidth\":0,\"ticks\":\"\"},\"type\":\"choropleth\"}],\"contourcarpet\":[{\"colorbar\":{\"outlinewidth\":0,\"ticks\":\"\"},\"type\":\"contourcarpet\"}],\"contour\":[{\"colorbar\":{\"outlinewidth\":0,\"ticks\":\"\"},\"colorscale\":[[0.0,\"#0d0887\"],[0.1111111111111111,\"#46039f\"],[0.2222222222222222,\"#7201a8\"],[0.3333333333333333,\"#9c179e\"],[0.4444444444444444,\"#bd3786\"],[0.5555555555555556,\"#d8576b\"],[0.6666666666666666,\"#ed7953\"],[0.7777777777777778,\"#fb9f3a\"],[0.8888888888888888,\"#fdca26\"],[1.0,\"#f0f921\"]],\"type\":\"contour\"}],\"heatmapgl\":[{\"colorbar\":{\"outlinewidth\":0,\"ticks\":\"\"},\"colorscale\":[[0.0,\"#0d0887\"],[0.1111111111111111,\"#46039f\"],[0.2222222222222222,\"#7201a8\"],[0.3333333333333333,\"#9c179e\"],[0.4444444444444444,\"#bd3786\"],[0.5555555555555556,\"#d8576b\"],[0.6666666666666666,\"#ed7953\"],[0.7777777777777778,\"#fb9f3a\"],[0.8888888888888888,\"#fdca26\"],[1.0,\"#f0f921\"]],\"type\":\"heatmapgl\"}],\"heatmap\":[{\"colorbar\":{\"outlinewidth\":0,\"ticks\":\"\"},\"colorscale\":[[0.0,\"#0d0887\"],[0.1111111111111111,\"#46039f\"],[0.2222222222222222,\"#7201a8\"],[0.3333333333333333,\"#9c179e\"],[0.4444444444444444,\"#bd3786\"],[0.5555555555555556,\"#d8576b\"],[0.6666666666666666,\"#ed7953\"],[0.7777777777777778,\"#fb9f3a\"],[0.8888888888888888,\"#fdca26\"],[1.0,\"#f0f921\"]],\"type\":\"heatmap\"}],\"histogram2dcontour\":[{\"colorbar\":{\"outlinewidth\":0,\"ticks\":\"\"},\"colorscale\":[[0.0,\"#0d0887\"],[0.1111111111111111,\"#46039f\"],[0.2222222222222222,\"#7201a8\"],[0.3333333333333333,\"#9c179e\"],[0.4444444444444444,\"#bd3786\"],[0.5555555555555556,\"#d8576b\"],[0.6666666666666666,\"#ed7953\"],[0.7777777777777778,\"#fb9f3a\"],[0.8888888888888888,\"#fdca26\"],[1.0,\"#f0f921\"]],\"type\":\"histogram2dcontour\"}],\"histogram2d\":[{\"colorbar\":{\"outlinewidth\":0,\"ticks\":\"\"},\"colorscale\":[[0.0,\"#0d0887\"],[0.1111111111111111,\"#46039f\"],[0.2222222222222222,\"#7201a8\"],[0.3333333333333333,\"#9c179e\"],[0.4444444444444444,\"#bd3786\"],[0.5555555555555556,\"#d8576b\"],[0.6666666666666666,\"#ed7953\"],[0.7777777777777778,\"#fb9f3a\"],[0.8888888888888888,\"#fdca26\"],[1.0,\"#f0f921\"]],\"type\":\"histogram2d\"}],\"histogram\":[{\"marker\":{\"pattern\":{\"fillmode\":\"overlay\",\"size\":10,\"solidity\":0.2}},\"type\":\"histogram\"}],\"mesh3d\":[{\"colorbar\":{\"outlinewidth\":0,\"ticks\":\"\"},\"type\":\"mesh3d\"}],\"parcoords\":[{\"line\":{\"colorbar\":{\"outlinewidth\":0,\"ticks\":\"\"}},\"type\":\"parcoords\"}],\"pie\":[{\"automargin\":true,\"type\":\"pie\"}],\"scatter3d\":[{\"line\":{\"colorbar\":{\"outlinewidth\":0,\"ticks\":\"\"}},\"marker\":{\"colorbar\":{\"outlinewidth\":0,\"ticks\":\"\"}},\"type\":\"scatter3d\"}],\"scattercarpet\":[{\"marker\":{\"colorbar\":{\"outlinewidth\":0,\"ticks\":\"\"}},\"type\":\"scattercarpet\"}],\"scattergeo\":[{\"marker\":{\"colorbar\":{\"outlinewidth\":0,\"ticks\":\"\"}},\"type\":\"scattergeo\"}],\"scattergl\":[{\"marker\":{\"colorbar\":{\"outlinewidth\":0,\"ticks\":\"\"}},\"type\":\"scattergl\"}],\"scattermapbox\":[{\"marker\":{\"colorbar\":{\"outlinewidth\":0,\"ticks\":\"\"}},\"type\":\"scattermapbox\"}],\"scatterpolargl\":[{\"marker\":{\"colorbar\":{\"outlinewidth\":0,\"ticks\":\"\"}},\"type\":\"scatterpolargl\"}],\"scatterpolar\":[{\"marker\":{\"colorbar\":{\"outlinewidth\":0,\"ticks\":\"\"}},\"type\":\"scatterpolar\"}],\"scatter\":[{\"fillpattern\":{\"fillmode\":\"overlay\",\"size\":10,\"solidity\":0.2},\"type\":\"scatter\"}],\"scatterternary\":[{\"marker\":{\"colorbar\":{\"outlinewidth\":0,\"ticks\":\"\"}},\"type\":\"scatterternary\"}],\"surface\":[{\"colorbar\":{\"outlinewidth\":0,\"ticks\":\"\"},\"colorscale\":[[0.0,\"#0d0887\"],[0.1111111111111111,\"#46039f\"],[0.2222222222222222,\"#7201a8\"],[0.3333333333333333,\"#9c179e\"],[0.4444444444444444,\"#bd3786\"],[0.5555555555555556,\"#d8576b\"],[0.6666666666666666,\"#ed7953\"],[0.7777777777777778,\"#fb9f3a\"],[0.8888888888888888,\"#fdca26\"],[1.0,\"#f0f921\"]],\"type\":\"surface\"}],\"table\":[{\"cells\":{\"fill\":{\"color\":\"#EBF0F8\"},\"line\":{\"color\":\"white\"}},\"header\":{\"fill\":{\"color\":\"#C8D4E3\"},\"line\":{\"color\":\"white\"}},\"type\":\"table\"}]},\"layout\":{\"annotationdefaults\":{\"arrowcolor\":\"#2a3f5f\",\"arrowhead\":0,\"arrowwidth\":1},\"autotypenumbers\":\"strict\",\"coloraxis\":{\"colorbar\":{\"outlinewidth\":0,\"ticks\":\"\"}},\"colorscale\":{\"diverging\":[[0,\"#8e0152\"],[0.1,\"#c51b7d\"],[0.2,\"#de77ae\"],[0.3,\"#f1b6da\"],[0.4,\"#fde0ef\"],[0.5,\"#f7f7f7\"],[0.6,\"#e6f5d0\"],[0.7,\"#b8e186\"],[0.8,\"#7fbc41\"],[0.9,\"#4d9221\"],[1,\"#276419\"]],\"sequential\":[[0.0,\"#0d0887\"],[0.1111111111111111,\"#46039f\"],[0.2222222222222222,\"#7201a8\"],[0.3333333333333333,\"#9c179e\"],[0.4444444444444444,\"#bd3786\"],[0.5555555555555556,\"#d8576b\"],[0.6666666666666666,\"#ed7953\"],[0.7777777777777778,\"#fb9f3a\"],[0.8888888888888888,\"#fdca26\"],[1.0,\"#f0f921\"]],\"sequentialminus\":[[0.0,\"#0d0887\"],[0.1111111111111111,\"#46039f\"],[0.2222222222222222,\"#7201a8\"],[0.3333333333333333,\"#9c179e\"],[0.4444444444444444,\"#bd3786\"],[0.5555555555555556,\"#d8576b\"],[0.6666666666666666,\"#ed7953\"],[0.7777777777777778,\"#fb9f3a\"],[0.8888888888888888,\"#fdca26\"],[1.0,\"#f0f921\"]]},\"colorway\":[\"#636efa\",\"#EF553B\",\"#00cc96\",\"#ab63fa\",\"#FFA15A\",\"#19d3f3\",\"#FF6692\",\"#B6E880\",\"#FF97FF\",\"#FECB52\"],\"font\":{\"color\":\"#2a3f5f\"},\"geo\":{\"bgcolor\":\"white\",\"lakecolor\":\"white\",\"landcolor\":\"#E5ECF6\",\"showlakes\":true,\"showland\":true,\"subunitcolor\":\"white\"},\"hoverlabel\":{\"align\":\"left\"},\"hovermode\":\"closest\",\"mapbox\":{\"style\":\"light\"},\"paper_bgcolor\":\"white\",\"plot_bgcolor\":\"#E5ECF6\",\"polar\":{\"angularaxis\":{\"gridcolor\":\"white\",\"linecolor\":\"white\",\"ticks\":\"\"},\"bgcolor\":\"#E5ECF6\",\"radialaxis\":{\"gridcolor\":\"white\",\"linecolor\":\"white\",\"ticks\":\"\"}},\"scene\":{\"xaxis\":{\"backgroundcolor\":\"#E5ECF6\",\"gridcolor\":\"white\",\"gridwidth\":2,\"linecolor\":\"white\",\"showbackground\":true,\"ticks\":\"\",\"zerolinecolor\":\"white\"},\"yaxis\":{\"backgroundcolor\":\"#E5ECF6\",\"gridcolor\":\"white\",\"gridwidth\":2,\"linecolor\":\"white\",\"showbackground\":true,\"ticks\":\"\",\"zerolinecolor\":\"white\"},\"zaxis\":{\"backgroundcolor\":\"#E5ECF6\",\"gridcolor\":\"white\",\"gridwidth\":2,\"linecolor\":\"white\",\"showbackground\":true,\"ticks\":\"\",\"zerolinecolor\":\"white\"}},\"shapedefaults\":{\"line\":{\"color\":\"#2a3f5f\"}},\"ternary\":{\"aaxis\":{\"gridcolor\":\"white\",\"linecolor\":\"white\",\"ticks\":\"\"},\"baxis\":{\"gridcolor\":\"white\",\"linecolor\":\"white\",\"ticks\":\"\"},\"bgcolor\":\"#E5ECF6\",\"caxis\":{\"gridcolor\":\"white\",\"linecolor\":\"white\",\"ticks\":\"\"}},\"title\":{\"x\":0.05},\"xaxis\":{\"automargin\":true,\"gridcolor\":\"white\",\"linecolor\":\"white\",\"ticks\":\"\",\"title\":{\"standoff\":15},\"zerolinecolor\":\"white\",\"zerolinewidth\":2},\"yaxis\":{\"automargin\":true,\"gridcolor\":\"white\",\"linecolor\":\"white\",\"ticks\":\"\",\"title\":{\"standoff\":15},\"zerolinecolor\":\"white\",\"zerolinewidth\":2}}},\"title\":{\"font\":{\"color\":\"#D9D9D9\"},\"text\":\"\\u041f\\u0440\\u043e\\u0433\\u043d\\u043e\\u0437 vs \\u0420\\u0435\\u0430\\u043b\\u044c\\u043d\\u044b\\u0435 \\u0437\\u043d\\u0430\\u0447\\u0435\\u043d\\u0438\\u044f\"},\"xaxis\":{\"gridcolor\":\"#434343\",\"showgrid\":true,\"tickfont\":{\"color\":\"#C2C2C2\"},\"title\":{\"font\":{\"color\":\"#D9D9D9\"},\"text\":\"\\u0412\\u0440\\u0435\\u043c\\u044f\"},\"zerolinecolor\":\"#666570\"},\"yaxis\":{\"gridcolor\":\"#434343\",\"showgrid\":true,\"tickfont\":{\"color\":\"#C2C2C2\"},\"title\":{\"font\":{\"color\":\"#D9D9D9\"},\"text\":\"\\u0417\\u043d\\u0430\\u0447\\u0435\\u043d\\u0438\\u0435\"},\"zerolinecolor\":\"#666570\"}},                        {\"showLink\": true, \"linkText\": \"Export to plot.ly\", \"plotlyServerURL\": \"https://plot.ly\", \"responsive\": true}                    ).then(function(){\n",
       "                            \n",
       "var gd = document.getElementById('3f705a9c-882f-4a12-a81c-bff9c96a52e3');\n",
       "var x = new MutationObserver(function (mutations, observer) {{\n",
       "        var display = window.getComputedStyle(gd).display;\n",
       "        if (!display || display === 'none') {{\n",
       "            console.log([gd, 'removed!']);\n",
       "            Plotly.purge(gd);\n",
       "            observer.disconnect();\n",
       "        }}\n",
       "}});\n",
       "\n",
       "// Listen for the removal of the full notebook cells\n",
       "var notebookContainer = gd.closest('#notebook-container');\n",
       "if (notebookContainer) {{\n",
       "    x.observe(notebookContainer, {childList: true});\n",
       "}}\n",
       "\n",
       "// Listen for the clearing of the current output cell\n",
       "var outputEl = gd.closest('.output');\n",
       "if (outputEl) {{\n",
       "    x.observe(outputEl, {childList: true});\n",
       "}}\n",
       "\n",
       "                        })                };                });            </script>        </div>"
      ]
     },
     "metadata": {},
     "output_type": "display_data"
    }
   ],
   "source": [
    "df_test = pd.DataFrame({\n",
    "    'Y_test': y_test.ravel(),\n",
    "    'Predictions': rnn_pred.ravel()\n",
    "})\n",
    "# Отобразить на графике\n",
    "df_test.iplot(title=\"Прогноз vs Реальные значения\", xTitle=\"Время\", yTitle=\"Значение\", theme=\"solar\")"
   ]
  },
  {
   "cell_type": "code",
   "execution_count": 47,
   "metadata": {},
   "outputs": [],
   "source": [
    "look_back = 10 \n",
    "X_train, y_train = create_dataset(dl_train, dl_train['meantemp'], look_back)\n",
    "X_test, y_test = create_dataset(dl_test, dl_test['meantemp'], look_back)"
   ]
  },
  {
   "cell_type": "code",
   "execution_count": 48,
   "metadata": {},
   "outputs": [
    {
     "name": "stdout",
     "output_type": "stream",
     "text": [
      "Epoch 1/30\n",
      "1159/1159 [==============================] - 4s 3ms/step - loss: 0.0807 - val_loss: 0.0543\n",
      "Epoch 2/30\n",
      "1159/1159 [==============================] - 24s 21ms/step - loss: 0.0530 - val_loss: 0.0496\n",
      "Epoch 3/30\n",
      "1159/1159 [==============================] - 19s 16ms/step - loss: 0.0503 - val_loss: 0.0446\n",
      "Epoch 4/30\n",
      "1159/1159 [==============================] - 12s 10ms/step - loss: 0.0482 - val_loss: 0.0438\n",
      "Epoch 5/30\n",
      "1159/1159 [==============================] - 12s 10ms/step - loss: 0.0452 - val_loss: 0.0398\n",
      "Epoch 6/30\n",
      "1159/1159 [==============================] - 16s 13ms/step - loss: 0.0442 - val_loss: 0.0443\n",
      "Epoch 7/30\n",
      "1159/1159 [==============================] - 16s 14ms/step - loss: 0.0432 - val_loss: 0.0434\n",
      "Epoch 8/30\n",
      "1159/1159 [==============================] - 17s 15ms/step - loss: 0.0416 - val_loss: 0.0391\n",
      "Epoch 9/30\n",
      "1159/1159 [==============================] - 14s 12ms/step - loss: 0.0423 - val_loss: 0.0407\n",
      "Epoch 10/30\n",
      "1159/1159 [==============================] - 16s 13ms/step - loss: 0.0408 - val_loss: 0.0388\n",
      "Epoch 11/30\n",
      "1159/1159 [==============================] - 16s 14ms/step - loss: 0.0408 - val_loss: 0.0390\n",
      "Epoch 12/30\n",
      "1159/1159 [==============================] - 14s 12ms/step - loss: 0.0408 - val_loss: 0.0397\n",
      "Epoch 13/30\n",
      "1159/1159 [==============================] - 15s 13ms/step - loss: 0.0402 - val_loss: 0.0484\n",
      "Epoch 14/30\n",
      "1159/1159 [==============================] - 15s 13ms/step - loss: 0.0414 - val_loss: 0.0418\n",
      "Epoch 15/30\n",
      "1159/1159 [==============================] - 21s 18ms/step - loss: 0.0409 - val_loss: 0.0409\n",
      "Epoch 16/30\n",
      "1159/1159 [==============================] - 18s 16ms/step - loss: 0.0399 - val_loss: 0.0386\n",
      "Epoch 17/30\n",
      "1159/1159 [==============================] - 16s 14ms/step - loss: 0.0393 - val_loss: 0.0414\n",
      "Epoch 18/30\n",
      "1159/1159 [==============================] - 16s 14ms/step - loss: 0.0401 - val_loss: 0.0383\n",
      "Epoch 19/30\n",
      "1159/1159 [==============================] - 14s 12ms/step - loss: 0.0397 - val_loss: 0.0394\n",
      "Epoch 20/30\n",
      "1159/1159 [==============================] - 15s 13ms/step - loss: 0.0387 - val_loss: 0.0420\n",
      "Epoch 21/30\n",
      "1159/1159 [==============================] - 15s 13ms/step - loss: 0.0389 - val_loss: 0.0739\n",
      "Epoch 22/30\n",
      "1159/1159 [==============================] - 14s 12ms/step - loss: 0.0391 - val_loss: 0.0389\n",
      "Epoch 23/30\n",
      "1159/1159 [==============================] - 17s 15ms/step - loss: 0.0387 - val_loss: 0.0381\n",
      "Epoch 24/30\n",
      "1159/1159 [==============================] - 13s 11ms/step - loss: 0.0384 - val_loss: 0.0402\n",
      "Epoch 25/30\n",
      "1159/1159 [==============================] - 14s 12ms/step - loss: 0.0386 - val_loss: 0.0385\n",
      "Epoch 26/30\n",
      "1159/1159 [==============================] - 14s 12ms/step - loss: 0.0377 - val_loss: 0.0467\n",
      "Epoch 27/30\n",
      "1159/1159 [==============================] - 15s 13ms/step - loss: 0.0380 - val_loss: 0.0396\n",
      "Epoch 28/30\n",
      "1159/1159 [==============================] - 13s 11ms/step - loss: 0.0378 - val_loss: 0.0403\n",
      "Epoch 29/30\n",
      "1159/1159 [==============================] - 15s 13ms/step - loss: 0.0378 - val_loss: 0.0386\n",
      "Epoch 30/30\n",
      "1159/1159 [==============================] - 14s 12ms/step - loss: 0.0380 - val_loss: 0.0391\n",
      "9/9 [==============================] - 0s 7ms/step - loss: 0.0391\n",
      "Validation Loss: 0.039124745875597\n"
     ]
    }
   ],
   "source": [
    "lstm_model = Sequential()\n",
    "lstm_model.add(LSTM(100, activation='relu', input_shape=(look_back, X_train.shape[2])))\n",
    "lstm_model.add(Dense(1))\n",
    "lstm_model.compile(optimizer='adam', loss='mae')\n",
    "\n",
    "early_stopping = EarlyStopping(monitor='val_loss', patience=10, restore_best_weights=True)\n",
    "history = lstm_model.fit(X_train, y_train, epochs=30, validation_data=(X_test, y_test), batch_size=1, callbacks=[early_stopping])\n",
    "\n",
    "\n",
    "loss = lstm_model.evaluate(X_test, y_test)\n",
    "print(f'Validation Loss: {loss}')"
   ]
  },
  {
   "cell_type": "code",
   "execution_count": 49,
   "metadata": {},
   "outputs": [
    {
     "name": "stdout",
     "output_type": "stream",
     "text": [
      "9/9 [==============================] - 0s 2ms/step\n"
     ]
    }
   ],
   "source": [
    "lstm_pred = lstm_model.predict(X_test)\n",
    "lstm_pred = target_transformer.inverse_transform(lstm_pred)\n",
    "\n",
    "y_test = y_test.reshape(-1, 1)\n",
    "y_test = target_transformer.inverse_transform(y_test)"
   ]
  },
  {
   "cell_type": "code",
   "execution_count": 57,
   "metadata": {},
   "outputs": [
    {
     "name": "stdout",
     "output_type": "stream",
     "text": [
      "MAPE: 4.783140829793508 %\n",
      "MAE: 1.2799382625371212\n"
     ]
    },
    {
     "data": {
      "application/vnd.plotly.v1+json": {
       "config": {
        "linkText": "Export to plot.ly",
        "plotlyServerURL": "https://plot.ly",
        "showLink": true
       },
       "data": [
        {
         "line": {
          "color": "rgba(255, 153, 51, 1.0)",
          "dash": "solid",
          "shape": "linear",
          "width": 1.3
         },
         "mode": "lines",
         "name": "Y_test",
         "text": "",
         "type": "scatter",
         "x": [
          0,
          1,
          2,
          3,
          4,
          5,
          6,
          7,
          8,
          9,
          10,
          11,
          12,
          13,
          14,
          15,
          16,
          17,
          18,
          19,
          20,
          21,
          22,
          23,
          24,
          25,
          26,
          27,
          28,
          29,
          30,
          31,
          32,
          33,
          34,
          35,
          36,
          37,
          38,
          39,
          40,
          41,
          42,
          43,
          44,
          45,
          46,
          47,
          48,
          49,
          50,
          51,
          52,
          53,
          54,
          55,
          56,
          57,
          58,
          59,
          60,
          61,
          62,
          63,
          64,
          65,
          66,
          67,
          68,
          69,
          70,
          71,
          72,
          73,
          74,
          75,
          76,
          77,
          78,
          79,
          80,
          81,
          82,
          83,
          84,
          85,
          86,
          87,
          88,
          89,
          90,
          91,
          92,
          93,
          94,
          95,
          96,
          97,
          98,
          99,
          100,
          101,
          102,
          103,
          104,
          105,
          106,
          107,
          108,
          109,
          110,
          111,
          112,
          113,
          114,
          115,
          116,
          117,
          118,
          119,
          120,
          121,
          122,
          123,
          124,
          125,
          126,
          127,
          128,
          129,
          130,
          131,
          132,
          133,
          134,
          135,
          136,
          137,
          138,
          139,
          140,
          141,
          142,
          143,
          144,
          145,
          146,
          147,
          148,
          149,
          150,
          151,
          152,
          153,
          154,
          155,
          156,
          157,
          158,
          159,
          160,
          161,
          162,
          163,
          164,
          165,
          166,
          167,
          168,
          169,
          170,
          171,
          172,
          173,
          174,
          175,
          176,
          177,
          178,
          179,
          180,
          181,
          182,
          183,
          184,
          185,
          186,
          187,
          188,
          189,
          190,
          191,
          192,
          193,
          194,
          195,
          196,
          197,
          198,
          199,
          200,
          201,
          202,
          203,
          204,
          205,
          206,
          207,
          208,
          209,
          210,
          211,
          212,
          213,
          214,
          215,
          216,
          217,
          218,
          219,
          220,
          221,
          222,
          223,
          224,
          225,
          226,
          227,
          228,
          229,
          230,
          231,
          232,
          233,
          234,
          235,
          236,
          237,
          238,
          239,
          240,
          241,
          242,
          243,
          244,
          245,
          246,
          247,
          248,
          249,
          250,
          251,
          252,
          253,
          254,
          255,
          256,
          257,
          258,
          259,
          260,
          261,
          262,
          263,
          264,
          265,
          266,
          267,
          268,
          269,
          270,
          271,
          272,
          273,
          274,
          275,
          276,
          277,
          278,
          279,
          280,
          281,
          282
         ],
         "y": [
          29.875,
          24.666666666666668,
          26.25,
          25.93333333333333,
          27.125,
          29.571428571428573,
          30,
          30.571428571428573,
          32.3125,
          33.3125,
          32.8125,
          32.3125,
          31.375,
          29.933333333333334,
          29.266666666666666,
          30.73333333333333,
          32.25,
          29.8,
          30.2,
          31.75,
          33.125,
          33.625,
          35.6875,
          34.666666666666664,
          34.625,
          34,
          34.0625,
          34,
          33.25,
          31.916666666666668,
          31.3125,
          31.75,
          33.4375,
          33.125,
          34.15384615384615,
          34.07142857142857,
          33.0625,
          34.6875,
          38,
          35.49999999999999,
          33.714285714285715,
          30.6,
          31.4375,
          33.3125,
          35.13333333333333,
          33.53333333333333,
          34,
          32.5,
          35.375,
          37.294117647058826,
          36.5625,
          37.25,
          37.21428571428572,
          37.5,
          37.75,
          37.375,
          37.4,
          36.13333333333333,
          36.8,
          32.214285714285715,
          31.526315789473685,
          33.21739130434783,
          35.26923076923077,
          38.27272727272727,
          36.0625,
          31.5,
          26.8125,
          32.642857142857146,
          36,
          37.5625,
          37.5625,
          38.2,
          36.16666666666666,
          35.42857142857143,
          34.625,
          36.07142857142857,
          35.733333333333334,
          36.13333333333333,
          33.4375,
          35.49999999999999,
          36,
          32.625,
          34.733333333333334,
          33.5,
          34.1875,
          35.857142857142854,
          35.625,
          30.9375,
          32.875,
          33.125,
          33.84615384615385,
          36.4375,
          35.42857142857143,
          34.86666666666667,
          34.3125,
          30.785714285714285,
          35.375,
          35.46666666666667,
          32.125,
          28.4,
          29.5625,
          30.6875,
          33.25,
          33.266666666666666,
          33.5,
          30.8,
          33.25,
          32.5625,
          31.5,
          30.5,
          31.25,
          30.4375,
          31,
          27.125,
          28.125,
          27.666666666666668,
          32.3125,
          34.1875,
          34.13333333333333,
          34.125,
          31.875,
          31.4375,
          31.9375,
          30.3125,
          28.3125,
          29.53333333333333,
          27.375,
          27.33333333333333,
          29.266666666666666,
          29.125,
          30.6875,
          32.5625,
          33.111111111111114,
          33.8,
          30.066666666666663,
          33.11764705882353,
          33.80952380952381,
          31.615384615384617,
          32,
          28.107142857142858,
          29.035714285714285,
          30.321428571428573,
          28.933333333333334,
          31.678571428571427,
          31.33333333333333,
          29.928571428571427,
          29.88888888888889,
          32.07142857142857,
          33.18518518518518,
          31.59259259259259,
          32.18518518518518,
          31.48,
          30.178571428571427,
          31.52,
          31.22222222222222,
          31.785714285714285,
          33.4,
          29.571428571428573,
          30.04,
          27.25925925925926,
          27.96,
          30.73913043478261,
          30.894736842105264,
          31.692307692307693,
          31.07692307692308,
          30.375,
          31.1,
          31.916666666666668,
          30.55555555555556,
          31.23076923076923,
          31,
          31.642857142857142,
          32.53333333333333,
          30.857142857142858,
          31.727272727272727,
          31.4,
          32.30769230769231,
          32.25,
          32.375,
          33.44444444444444,
          33.36,
          30.03703703703704,
          31,
          31.24,
          31.130434782608692,
          31.48,
          32.18518518518518,
          32.44,
          32.22727272727273,
          32.214285714285715,
          32.541666666666664,
          32.81481481481482,
          33.26923076923077,
          30.55555555555556,
          28.83333333333333,
          30.703703703703702,
          30.96,
          30.6,
          30.92,
          29.77777777777778,
          29.666666666666668,
          29.571428571428573,
          29.96296296296296,
          29.75,
          27.74074074074074,
          28.428571428571427,
          28.6,
          28.5,
          28.925925925925927,
          29.07692307692308,
          28.40909090909091,
          29.33333333333333,
          27.5,
          28.5,
          28.04,
          27.57692307692308,
          26.55555555555556,
          25.51851851851852,
          25.814814814814813,
          24.82608695652174,
          24.53846153846154,
          24.384615384615383,
          23.727272727272727,
          25.64,
          24.814814814814813,
          23.115384615384617,
          22.925925925925927,
          24.545454545454547,
          23.73076923076923,
          23,
          23.51851851851852,
          23.92,
          23.53846153846154,
          24.296296296296298,
          23.346153846153847,
          22.24,
          21.769230769230774,
          21.73076923076923,
          21.73076923076923,
          20.666666666666668,
          22.25,
          21.53846153846154,
          22.57894736842105,
          22.82608695652174,
          21.42105263157895,
          23.6,
          24.294117647058822,
          23.63636363636364,
          22.454545454545453,
          21.61111111111111,
          19.869565217391305,
          19.75,
          19.20833333333333,
          21.20833333333333,
          18.9,
          18.63636363636364,
          18.53846153846154,
          18.25,
          16.9,
          19.416666666666668,
          16.444444444444443,
          20.041666666666668,
          19.90909090909091,
          19.05,
          18.55555555555556,
          18.166666666666668,
          15.833333333333334,
          17.5,
          16.083333333333332,
          17.857142857142858,
          19.8,
          18.05,
          17.285714285714285,
          15.550000000000002,
          17.318181818181817,
          14,
          17.142857142857142,
          16.85,
          17.217391304347824,
          15.238095238095237,
          14.095238095238097,
          15.05263157894737,
          10
         ]
        },
        {
         "line": {
          "color": "rgba(55, 128, 191, 1.0)",
          "dash": "solid",
          "shape": "linear",
          "width": 1.3
         },
         "mode": "lines",
         "name": "Predictions",
         "text": "",
         "type": "scatter",
         "x": [
          0,
          1,
          2,
          3,
          4,
          5,
          6,
          7,
          8,
          9,
          10,
          11,
          12,
          13,
          14,
          15,
          16,
          17,
          18,
          19,
          20,
          21,
          22,
          23,
          24,
          25,
          26,
          27,
          28,
          29,
          30,
          31,
          32,
          33,
          34,
          35,
          36,
          37,
          38,
          39,
          40,
          41,
          42,
          43,
          44,
          45,
          46,
          47,
          48,
          49,
          50,
          51,
          52,
          53,
          54,
          55,
          56,
          57,
          58,
          59,
          60,
          61,
          62,
          63,
          64,
          65,
          66,
          67,
          68,
          69,
          70,
          71,
          72,
          73,
          74,
          75,
          76,
          77,
          78,
          79,
          80,
          81,
          82,
          83,
          84,
          85,
          86,
          87,
          88,
          89,
          90,
          91,
          92,
          93,
          94,
          95,
          96,
          97,
          98,
          99,
          100,
          101,
          102,
          103,
          104,
          105,
          106,
          107,
          108,
          109,
          110,
          111,
          112,
          113,
          114,
          115,
          116,
          117,
          118,
          119,
          120,
          121,
          122,
          123,
          124,
          125,
          126,
          127,
          128,
          129,
          130,
          131,
          132,
          133,
          134,
          135,
          136,
          137,
          138,
          139,
          140,
          141,
          142,
          143,
          144,
          145,
          146,
          147,
          148,
          149,
          150,
          151,
          152,
          153,
          154,
          155,
          156,
          157,
          158,
          159,
          160,
          161,
          162,
          163,
          164,
          165,
          166,
          167,
          168,
          169,
          170,
          171,
          172,
          173,
          174,
          175,
          176,
          177,
          178,
          179,
          180,
          181,
          182,
          183,
          184,
          185,
          186,
          187,
          188,
          189,
          190,
          191,
          192,
          193,
          194,
          195,
          196,
          197,
          198,
          199,
          200,
          201,
          202,
          203,
          204,
          205,
          206,
          207,
          208,
          209,
          210,
          211,
          212,
          213,
          214,
          215,
          216,
          217,
          218,
          219,
          220,
          221,
          222,
          223,
          224,
          225,
          226,
          227,
          228,
          229,
          230,
          231,
          232,
          233,
          234,
          235,
          236,
          237,
          238,
          239,
          240,
          241,
          242,
          243,
          244,
          245,
          246,
          247,
          248,
          249,
          250,
          251,
          252,
          253,
          254,
          255,
          256,
          257,
          258,
          259,
          260,
          261,
          262,
          263,
          264,
          265,
          266,
          267,
          268,
          269,
          270,
          271,
          272,
          273,
          274,
          275,
          276,
          277,
          278,
          279,
          280,
          281,
          282
         ],
         "y": [
          28.861705780029297,
          29.645172119140625,
          24.8579158782959,
          26.849943161010742,
          26.662382125854492,
          27.56057357788086,
          29.599365234375,
          30.102588653564453,
          29.721364974975586,
          32.34950256347656,
          32.89533996582031,
          31.646041870117188,
          31.84076690673828,
          31.731521606445312,
          29.479598999023438,
          30.226234436035156,
          30.324132919311523,
          32.75107192993164,
          29.039308547973633,
          29.879283905029297,
          31.278425216674805,
          33.67243576049805,
          33.51091003417969,
          34.865238189697266,
          34.24819564819336,
          34.56014633178711,
          34.298255920410156,
          32.79175567626953,
          33.14460372924805,
          33.8519287109375,
          31.11408042907715,
          32.622108459472656,
          32.776763916015625,
          34.168556213378906,
          33.11371612548828,
          33.383052825927734,
          34.0329475402832,
          33.47663116455078,
          34.322044372558594,
          36.77263259887695,
          34.878726959228516,
          33.31925964355469,
          31.16221809387207,
          32.39820098876953,
          33.935184478759766,
          34.61642074584961,
          32.05071258544922,
          34.516845703125,
          32.993736267089844,
          35.58404541015625,
          36.11134338378906,
          36.07058334350586,
          36.466976165771484,
          36.070438385009766,
          36.672733306884766,
          36.81047821044922,
          36.24900436401367,
          36.46750259399414,
          35.15293502807617,
          36.90983200073242,
          31.62494659423828,
          33.071231842041016,
          33.61957931518555,
          34.49967575073242,
          37.06846237182617,
          34.838260650634766,
          31.85513687133789,
          28.455251693725586,
          33.4373664855957,
          34.832916259765625,
          35.82398223876953,
          37.41386413574219,
          37.026119232177734,
          35.098758697509766,
          34.79600143432617,
          32.66709518432617,
          36.2686653137207,
          34.808990478515625,
          35.69429397583008,
          33.51398468017578,
          35.53178024291992,
          35.02034378051758,
          32.38555145263672,
          34.67939758300781,
          32.898216247558594,
          34.4828987121582,
          34.87579345703125,
          35.04945373535156,
          31.13755226135254,
          33.371971130371094,
          33.22193908691406,
          33.734214782714844,
          35.52561950683594,
          34.19315719604492,
          34.507591247558594,
          33.85670471191406,
          31.363710403442383,
          34.83771514892578,
          34.66141891479492,
          31.834266662597656,
          29.792299270629883,
          31.08721351623535,
          30.803613662719727,
          32.657562255859375,
          32.095184326171875,
          33.11210250854492,
          30.763582229614258,
          33.04494094848633,
          32.39201736450195,
          31.24060821533203,
          31.07933807373047,
          31.48565673828125,
          31.01517105102539,
          31.182037353515625,
          28.36210823059082,
          29.073837280273438,
          28.531919479370117,
          31.483469009399414,
          32.978126525878906,
          33.11798095703125,
          33.6192741394043,
          31.71833038330078,
          32.27621841430664,
          31.875152587890625,
          30.176433563232422,
          29.269086837768555,
          30.154796600341797,
          28.440153121948242,
          28.18451690673828,
          29.199604034423828,
          29.036161422729492,
          30.326126098632812,
          31.88900375366211,
          32.01493835449219,
          33.274940490722656,
          29.7171630859375,
          32.85842514038086,
          32.823204040527344,
          31.3935546875,
          31.959409713745117,
          29.07585906982422,
          30.574254989624023,
          30.905357360839844,
          29.145387649536133,
          31.018077850341797,
          30.494548797607422,
          30.72937774658203,
          30.81576156616211,
          31.849306106567383,
          31.447267532348633,
          30.795310974121094,
          31.793550491333008,
          31.37967300415039,
          30.158130645751953,
          31.81412696838379,
          31.389678955078125,
          31.491668701171875,
          33.00786590576172,
          29.93328094482422,
          30.457670211791992,
          28.48007583618164,
          29.42704963684082,
          30.07203483581543,
          30.49254608154297,
          31.438825607299805,
          30.445133209228516,
          30.343366622924805,
          31.45824432373047,
          31.535730361938477,
          30.437524795532227,
          31.144718170166016,
          31.34914779663086,
          31.326345443725586,
          32.46808624267578,
          31.33595848083496,
          31.085670471191406,
          32.13815689086914,
          32.22386932373047,
          30.31537628173828,
          33.214866638183594,
          32.63569259643555,
          32.4174919128418,
          29.794958114624023,
          31.541440963745117,
          31.01366424560547,
          31.25040054321289,
          31.19162368774414,
          31.831071853637695,
          31.411468505859375,
          31.34676170349121,
          31.602807998657227,
          31.651987075805664,
          31.87160301208496,
          32.45748519897461,
          30.10439682006836,
          29.41455841064453,
          30.666810989379883,
          29.482561111450195,
          30.703292846679688,
          31.210657119750977,
          29.67624282836914,
          29.569581985473633,
          29.475296020507812,
          29.813926696777344,
          30.147811889648438,
          28.556289672851562,
          29.15024757385254,
          29.082738876342773,
          28.877023696899414,
          29.407867431640625,
          29.128389358520508,
          28.624746322631836,
          29.260601043701172,
          28.049549102783203,
          28.957883834838867,
          28.312345504760742,
          28.801456451416016,
          27.477575302124023,
          26.576276779174805,
          27.179847717285156,
          25.439512252807617,
          25.00692367553711,
          24.35824203491211,
          23.89981460571289,
          25.076135635375977,
          24.123687744140625,
          23.071401596069336,
          23.062326431274414,
          23.93236541748047,
          23.146947860717773,
          23.066007614135742,
          23.951982498168945,
          23.930252075195312,
          23.647525787353516,
          24.122732162475586,
          23.67568016052246,
          22.046520233154297,
          21.886083602905273,
          21.88064956665039,
          22.155412673950195,
          21.49152946472168,
          22.478904724121094,
          21.59998321533203,
          22.19547462463379,
          22.623458862304688,
          21.808870315551758,
          23.410490036010742,
          24.183116912841797,
          24.063169479370117,
          23.466028213500977,
          23.263336181640625,
          20.996973037719727,
          21.052831649780273,
          20.12793731689453,
          21.57760238647461,
          19.920167922973633,
          19.67338752746582,
          19.537094116210938,
          18.92888641357422,
          17.29444694519043,
          19.165557861328125,
          16.86602020263672,
          19.596006393432617,
          19.686357498168945,
          18.98683738708496,
          18.52643394470215,
          18.0870418548584,
          16.12006950378418,
          17.828493118286133,
          16.95073890686035,
          18.49224281311035,
          19.798871994018555,
          18.93138313293457,
          18.67253303527832,
          17.011520385742188,
          17.861000061035156,
          15.219772338867188,
          17.791704177856445,
          17.593828201293945,
          18.26822853088379,
          16.104907989501953,
          15.15914535522461,
          15.843033790588379
         ]
        }
       ],
       "layout": {
        "legend": {
         "bgcolor": "#151516",
         "font": {
          "color": "#D9D9D9"
         }
        },
        "paper_bgcolor": "#151516",
        "plot_bgcolor": "#151516",
        "template": {
         "data": {
          "bar": [
           {
            "error_x": {
             "color": "#2a3f5f"
            },
            "error_y": {
             "color": "#2a3f5f"
            },
            "marker": {
             "line": {
              "color": "#E5ECF6",
              "width": 0.5
             },
             "pattern": {
              "fillmode": "overlay",
              "size": 10,
              "solidity": 0.2
             }
            },
            "type": "bar"
           }
          ],
          "barpolar": [
           {
            "marker": {
             "line": {
              "color": "#E5ECF6",
              "width": 0.5
             },
             "pattern": {
              "fillmode": "overlay",
              "size": 10,
              "solidity": 0.2
             }
            },
            "type": "barpolar"
           }
          ],
          "carpet": [
           {
            "aaxis": {
             "endlinecolor": "#2a3f5f",
             "gridcolor": "white",
             "linecolor": "white",
             "minorgridcolor": "white",
             "startlinecolor": "#2a3f5f"
            },
            "baxis": {
             "endlinecolor": "#2a3f5f",
             "gridcolor": "white",
             "linecolor": "white",
             "minorgridcolor": "white",
             "startlinecolor": "#2a3f5f"
            },
            "type": "carpet"
           }
          ],
          "choropleth": [
           {
            "colorbar": {
             "outlinewidth": 0,
             "ticks": ""
            },
            "type": "choropleth"
           }
          ],
          "contour": [
           {
            "colorbar": {
             "outlinewidth": 0,
             "ticks": ""
            },
            "colorscale": [
             [
              0,
              "#0d0887"
             ],
             [
              0.1111111111111111,
              "#46039f"
             ],
             [
              0.2222222222222222,
              "#7201a8"
             ],
             [
              0.3333333333333333,
              "#9c179e"
             ],
             [
              0.4444444444444444,
              "#bd3786"
             ],
             [
              0.5555555555555556,
              "#d8576b"
             ],
             [
              0.6666666666666666,
              "#ed7953"
             ],
             [
              0.7777777777777778,
              "#fb9f3a"
             ],
             [
              0.8888888888888888,
              "#fdca26"
             ],
             [
              1,
              "#f0f921"
             ]
            ],
            "type": "contour"
           }
          ],
          "contourcarpet": [
           {
            "colorbar": {
             "outlinewidth": 0,
             "ticks": ""
            },
            "type": "contourcarpet"
           }
          ],
          "heatmap": [
           {
            "colorbar": {
             "outlinewidth": 0,
             "ticks": ""
            },
            "colorscale": [
             [
              0,
              "#0d0887"
             ],
             [
              0.1111111111111111,
              "#46039f"
             ],
             [
              0.2222222222222222,
              "#7201a8"
             ],
             [
              0.3333333333333333,
              "#9c179e"
             ],
             [
              0.4444444444444444,
              "#bd3786"
             ],
             [
              0.5555555555555556,
              "#d8576b"
             ],
             [
              0.6666666666666666,
              "#ed7953"
             ],
             [
              0.7777777777777778,
              "#fb9f3a"
             ],
             [
              0.8888888888888888,
              "#fdca26"
             ],
             [
              1,
              "#f0f921"
             ]
            ],
            "type": "heatmap"
           }
          ],
          "heatmapgl": [
           {
            "colorbar": {
             "outlinewidth": 0,
             "ticks": ""
            },
            "colorscale": [
             [
              0,
              "#0d0887"
             ],
             [
              0.1111111111111111,
              "#46039f"
             ],
             [
              0.2222222222222222,
              "#7201a8"
             ],
             [
              0.3333333333333333,
              "#9c179e"
             ],
             [
              0.4444444444444444,
              "#bd3786"
             ],
             [
              0.5555555555555556,
              "#d8576b"
             ],
             [
              0.6666666666666666,
              "#ed7953"
             ],
             [
              0.7777777777777778,
              "#fb9f3a"
             ],
             [
              0.8888888888888888,
              "#fdca26"
             ],
             [
              1,
              "#f0f921"
             ]
            ],
            "type": "heatmapgl"
           }
          ],
          "histogram": [
           {
            "marker": {
             "pattern": {
              "fillmode": "overlay",
              "size": 10,
              "solidity": 0.2
             }
            },
            "type": "histogram"
           }
          ],
          "histogram2d": [
           {
            "colorbar": {
             "outlinewidth": 0,
             "ticks": ""
            },
            "colorscale": [
             [
              0,
              "#0d0887"
             ],
             [
              0.1111111111111111,
              "#46039f"
             ],
             [
              0.2222222222222222,
              "#7201a8"
             ],
             [
              0.3333333333333333,
              "#9c179e"
             ],
             [
              0.4444444444444444,
              "#bd3786"
             ],
             [
              0.5555555555555556,
              "#d8576b"
             ],
             [
              0.6666666666666666,
              "#ed7953"
             ],
             [
              0.7777777777777778,
              "#fb9f3a"
             ],
             [
              0.8888888888888888,
              "#fdca26"
             ],
             [
              1,
              "#f0f921"
             ]
            ],
            "type": "histogram2d"
           }
          ],
          "histogram2dcontour": [
           {
            "colorbar": {
             "outlinewidth": 0,
             "ticks": ""
            },
            "colorscale": [
             [
              0,
              "#0d0887"
             ],
             [
              0.1111111111111111,
              "#46039f"
             ],
             [
              0.2222222222222222,
              "#7201a8"
             ],
             [
              0.3333333333333333,
              "#9c179e"
             ],
             [
              0.4444444444444444,
              "#bd3786"
             ],
             [
              0.5555555555555556,
              "#d8576b"
             ],
             [
              0.6666666666666666,
              "#ed7953"
             ],
             [
              0.7777777777777778,
              "#fb9f3a"
             ],
             [
              0.8888888888888888,
              "#fdca26"
             ],
             [
              1,
              "#f0f921"
             ]
            ],
            "type": "histogram2dcontour"
           }
          ],
          "mesh3d": [
           {
            "colorbar": {
             "outlinewidth": 0,
             "ticks": ""
            },
            "type": "mesh3d"
           }
          ],
          "parcoords": [
           {
            "line": {
             "colorbar": {
              "outlinewidth": 0,
              "ticks": ""
             }
            },
            "type": "parcoords"
           }
          ],
          "pie": [
           {
            "automargin": true,
            "type": "pie"
           }
          ],
          "scatter": [
           {
            "fillpattern": {
             "fillmode": "overlay",
             "size": 10,
             "solidity": 0.2
            },
            "type": "scatter"
           }
          ],
          "scatter3d": [
           {
            "line": {
             "colorbar": {
              "outlinewidth": 0,
              "ticks": ""
             }
            },
            "marker": {
             "colorbar": {
              "outlinewidth": 0,
              "ticks": ""
             }
            },
            "type": "scatter3d"
           }
          ],
          "scattercarpet": [
           {
            "marker": {
             "colorbar": {
              "outlinewidth": 0,
              "ticks": ""
             }
            },
            "type": "scattercarpet"
           }
          ],
          "scattergeo": [
           {
            "marker": {
             "colorbar": {
              "outlinewidth": 0,
              "ticks": ""
             }
            },
            "type": "scattergeo"
           }
          ],
          "scattergl": [
           {
            "marker": {
             "colorbar": {
              "outlinewidth": 0,
              "ticks": ""
             }
            },
            "type": "scattergl"
           }
          ],
          "scattermapbox": [
           {
            "marker": {
             "colorbar": {
              "outlinewidth": 0,
              "ticks": ""
             }
            },
            "type": "scattermapbox"
           }
          ],
          "scatterpolar": [
           {
            "marker": {
             "colorbar": {
              "outlinewidth": 0,
              "ticks": ""
             }
            },
            "type": "scatterpolar"
           }
          ],
          "scatterpolargl": [
           {
            "marker": {
             "colorbar": {
              "outlinewidth": 0,
              "ticks": ""
             }
            },
            "type": "scatterpolargl"
           }
          ],
          "scatterternary": [
           {
            "marker": {
             "colorbar": {
              "outlinewidth": 0,
              "ticks": ""
             }
            },
            "type": "scatterternary"
           }
          ],
          "surface": [
           {
            "colorbar": {
             "outlinewidth": 0,
             "ticks": ""
            },
            "colorscale": [
             [
              0,
              "#0d0887"
             ],
             [
              0.1111111111111111,
              "#46039f"
             ],
             [
              0.2222222222222222,
              "#7201a8"
             ],
             [
              0.3333333333333333,
              "#9c179e"
             ],
             [
              0.4444444444444444,
              "#bd3786"
             ],
             [
              0.5555555555555556,
              "#d8576b"
             ],
             [
              0.6666666666666666,
              "#ed7953"
             ],
             [
              0.7777777777777778,
              "#fb9f3a"
             ],
             [
              0.8888888888888888,
              "#fdca26"
             ],
             [
              1,
              "#f0f921"
             ]
            ],
            "type": "surface"
           }
          ],
          "table": [
           {
            "cells": {
             "fill": {
              "color": "#EBF0F8"
             },
             "line": {
              "color": "white"
             }
            },
            "header": {
             "fill": {
              "color": "#C8D4E3"
             },
             "line": {
              "color": "white"
             }
            },
            "type": "table"
           }
          ]
         },
         "layout": {
          "annotationdefaults": {
           "arrowcolor": "#2a3f5f",
           "arrowhead": 0,
           "arrowwidth": 1
          },
          "autotypenumbers": "strict",
          "coloraxis": {
           "colorbar": {
            "outlinewidth": 0,
            "ticks": ""
           }
          },
          "colorscale": {
           "diverging": [
            [
             0,
             "#8e0152"
            ],
            [
             0.1,
             "#c51b7d"
            ],
            [
             0.2,
             "#de77ae"
            ],
            [
             0.3,
             "#f1b6da"
            ],
            [
             0.4,
             "#fde0ef"
            ],
            [
             0.5,
             "#f7f7f7"
            ],
            [
             0.6,
             "#e6f5d0"
            ],
            [
             0.7,
             "#b8e186"
            ],
            [
             0.8,
             "#7fbc41"
            ],
            [
             0.9,
             "#4d9221"
            ],
            [
             1,
             "#276419"
            ]
           ],
           "sequential": [
            [
             0,
             "#0d0887"
            ],
            [
             0.1111111111111111,
             "#46039f"
            ],
            [
             0.2222222222222222,
             "#7201a8"
            ],
            [
             0.3333333333333333,
             "#9c179e"
            ],
            [
             0.4444444444444444,
             "#bd3786"
            ],
            [
             0.5555555555555556,
             "#d8576b"
            ],
            [
             0.6666666666666666,
             "#ed7953"
            ],
            [
             0.7777777777777778,
             "#fb9f3a"
            ],
            [
             0.8888888888888888,
             "#fdca26"
            ],
            [
             1,
             "#f0f921"
            ]
           ],
           "sequentialminus": [
            [
             0,
             "#0d0887"
            ],
            [
             0.1111111111111111,
             "#46039f"
            ],
            [
             0.2222222222222222,
             "#7201a8"
            ],
            [
             0.3333333333333333,
             "#9c179e"
            ],
            [
             0.4444444444444444,
             "#bd3786"
            ],
            [
             0.5555555555555556,
             "#d8576b"
            ],
            [
             0.6666666666666666,
             "#ed7953"
            ],
            [
             0.7777777777777778,
             "#fb9f3a"
            ],
            [
             0.8888888888888888,
             "#fdca26"
            ],
            [
             1,
             "#f0f921"
            ]
           ]
          },
          "colorway": [
           "#636efa",
           "#EF553B",
           "#00cc96",
           "#ab63fa",
           "#FFA15A",
           "#19d3f3",
           "#FF6692",
           "#B6E880",
           "#FF97FF",
           "#FECB52"
          ],
          "font": {
           "color": "#2a3f5f"
          },
          "geo": {
           "bgcolor": "white",
           "lakecolor": "white",
           "landcolor": "#E5ECF6",
           "showlakes": true,
           "showland": true,
           "subunitcolor": "white"
          },
          "hoverlabel": {
           "align": "left"
          },
          "hovermode": "closest",
          "mapbox": {
           "style": "light"
          },
          "paper_bgcolor": "white",
          "plot_bgcolor": "#E5ECF6",
          "polar": {
           "angularaxis": {
            "gridcolor": "white",
            "linecolor": "white",
            "ticks": ""
           },
           "bgcolor": "#E5ECF6",
           "radialaxis": {
            "gridcolor": "white",
            "linecolor": "white",
            "ticks": ""
           }
          },
          "scene": {
           "xaxis": {
            "backgroundcolor": "#E5ECF6",
            "gridcolor": "white",
            "gridwidth": 2,
            "linecolor": "white",
            "showbackground": true,
            "ticks": "",
            "zerolinecolor": "white"
           },
           "yaxis": {
            "backgroundcolor": "#E5ECF6",
            "gridcolor": "white",
            "gridwidth": 2,
            "linecolor": "white",
            "showbackground": true,
            "ticks": "",
            "zerolinecolor": "white"
           },
           "zaxis": {
            "backgroundcolor": "#E5ECF6",
            "gridcolor": "white",
            "gridwidth": 2,
            "linecolor": "white",
            "showbackground": true,
            "ticks": "",
            "zerolinecolor": "white"
           }
          },
          "shapedefaults": {
           "line": {
            "color": "#2a3f5f"
           }
          },
          "ternary": {
           "aaxis": {
            "gridcolor": "white",
            "linecolor": "white",
            "ticks": ""
           },
           "baxis": {
            "gridcolor": "white",
            "linecolor": "white",
            "ticks": ""
           },
           "bgcolor": "#E5ECF6",
           "caxis": {
            "gridcolor": "white",
            "linecolor": "white",
            "ticks": ""
           }
          },
          "title": {
           "x": 0.05
          },
          "xaxis": {
           "automargin": true,
           "gridcolor": "white",
           "linecolor": "white",
           "ticks": "",
           "title": {
            "standoff": 15
           },
           "zerolinecolor": "white",
           "zerolinewidth": 2
          },
          "yaxis": {
           "automargin": true,
           "gridcolor": "white",
           "linecolor": "white",
           "ticks": "",
           "title": {
            "standoff": 15
           },
           "zerolinecolor": "white",
           "zerolinewidth": 2
          }
         }
        },
        "title": {
         "font": {
          "color": "#D9D9D9"
         },
         "text": "Прогноз vs Реальные значения"
        },
        "xaxis": {
         "gridcolor": "#434343",
         "showgrid": true,
         "tickfont": {
          "color": "#C2C2C2"
         },
         "title": {
          "font": {
           "color": "#D9D9D9"
          },
          "text": "Время"
         },
         "zerolinecolor": "#666570"
        },
        "yaxis": {
         "gridcolor": "#434343",
         "showgrid": true,
         "tickfont": {
          "color": "#C2C2C2"
         },
         "title": {
          "font": {
           "color": "#D9D9D9"
          },
          "text": "Значение"
         },
         "zerolinecolor": "#666570"
        }
       }
      },
      "text/html": [
       "<div>                            <div id=\"759613ac-0856-414d-9b28-a99b8fb44c85\" class=\"plotly-graph-div\" style=\"height:525px; width:100%;\"></div>            <script type=\"text/javascript\">                require([\"plotly\"], function(Plotly) {                    window.PLOTLYENV=window.PLOTLYENV || {};\n",
       "                    window.PLOTLYENV.BASE_URL='https://plot.ly';                                    if (document.getElementById(\"759613ac-0856-414d-9b28-a99b8fb44c85\")) {                    Plotly.newPlot(                        \"759613ac-0856-414d-9b28-a99b8fb44c85\",                        [{\"line\":{\"color\":\"rgba(255, 153, 51, 1.0)\",\"dash\":\"solid\",\"shape\":\"linear\",\"width\":1.3},\"mode\":\"lines\",\"name\":\"Y_test\",\"text\":\"\",\"x\":[0,1,2,3,4,5,6,7,8,9,10,11,12,13,14,15,16,17,18,19,20,21,22,23,24,25,26,27,28,29,30,31,32,33,34,35,36,37,38,39,40,41,42,43,44,45,46,47,48,49,50,51,52,53,54,55,56,57,58,59,60,61,62,63,64,65,66,67,68,69,70,71,72,73,74,75,76,77,78,79,80,81,82,83,84,85,86,87,88,89,90,91,92,93,94,95,96,97,98,99,100,101,102,103,104,105,106,107,108,109,110,111,112,113,114,115,116,117,118,119,120,121,122,123,124,125,126,127,128,129,130,131,132,133,134,135,136,137,138,139,140,141,142,143,144,145,146,147,148,149,150,151,152,153,154,155,156,157,158,159,160,161,162,163,164,165,166,167,168,169,170,171,172,173,174,175,176,177,178,179,180,181,182,183,184,185,186,187,188,189,190,191,192,193,194,195,196,197,198,199,200,201,202,203,204,205,206,207,208,209,210,211,212,213,214,215,216,217,218,219,220,221,222,223,224,225,226,227,228,229,230,231,232,233,234,235,236,237,238,239,240,241,242,243,244,245,246,247,248,249,250,251,252,253,254,255,256,257,258,259,260,261,262,263,264,265,266,267,268,269,270,271,272,273,274,275,276,277,278,279,280,281,282],\"y\":[29.875,24.666666666666668,26.25,25.93333333333333,27.125,29.571428571428573,30.0,30.571428571428573,32.3125,33.3125,32.8125,32.3125,31.375,29.933333333333334,29.266666666666666,30.73333333333333,32.25,29.8,30.2,31.75,33.125,33.625,35.6875,34.666666666666664,34.625,34.0,34.0625,34.0,33.25,31.916666666666668,31.3125,31.75,33.4375,33.125,34.15384615384615,34.07142857142857,33.0625,34.6875,38.0,35.49999999999999,33.714285714285715,30.6,31.4375,33.3125,35.13333333333333,33.53333333333333,34.0,32.5,35.375,37.294117647058826,36.5625,37.25,37.21428571428572,37.5,37.75,37.375,37.4,36.13333333333333,36.8,32.214285714285715,31.526315789473685,33.21739130434783,35.26923076923077,38.27272727272727,36.0625,31.5,26.8125,32.642857142857146,36.0,37.5625,37.5625,38.2,36.16666666666666,35.42857142857143,34.625,36.07142857142857,35.733333333333334,36.13333333333333,33.4375,35.49999999999999,36.0,32.625,34.733333333333334,33.5,34.1875,35.857142857142854,35.625,30.9375,32.875,33.125,33.84615384615385,36.4375,35.42857142857143,34.86666666666667,34.3125,30.785714285714285,35.375,35.46666666666667,32.125,28.4,29.5625,30.6875,33.25,33.266666666666666,33.5,30.8,33.25,32.5625,31.5,30.5,31.25,30.4375,31.0,27.125,28.125,27.666666666666668,32.3125,34.1875,34.13333333333333,34.125,31.875,31.4375,31.9375,30.3125,28.3125,29.53333333333333,27.375,27.33333333333333,29.266666666666666,29.125,30.6875,32.5625,33.111111111111114,33.8,30.066666666666663,33.11764705882353,33.80952380952381,31.615384615384617,32.0,28.107142857142858,29.035714285714285,30.321428571428573,28.933333333333334,31.678571428571427,31.33333333333333,29.928571428571427,29.88888888888889,32.07142857142857,33.18518518518518,31.59259259259259,32.18518518518518,31.48,30.178571428571427,31.52,31.22222222222222,31.785714285714285,33.4,29.571428571428573,30.04,27.25925925925926,27.96,30.73913043478261,30.894736842105264,31.692307692307693,31.07692307692308,30.375,31.1,31.916666666666668,30.55555555555556,31.23076923076923,31.0,31.642857142857142,32.53333333333333,30.857142857142858,31.727272727272727,31.4,32.30769230769231,32.25,32.375,33.44444444444444,33.36,30.03703703703704,31.0,31.24,31.130434782608692,31.48,32.18518518518518,32.44,32.22727272727273,32.214285714285715,32.541666666666664,32.81481481481482,33.26923076923077,30.55555555555556,28.83333333333333,30.703703703703702,30.96,30.6,30.92,29.77777777777778,29.666666666666668,29.571428571428573,29.96296296296296,29.75,27.74074074074074,28.428571428571427,28.6,28.5,28.925925925925927,29.07692307692308,28.40909090909091,29.33333333333333,27.5,28.5,28.04,27.57692307692308,26.55555555555556,25.51851851851852,25.814814814814813,24.82608695652174,24.53846153846154,24.384615384615383,23.727272727272727,25.64,24.814814814814813,23.115384615384617,22.925925925925927,24.545454545454547,23.73076923076923,23.0,23.51851851851852,23.92,23.53846153846154,24.296296296296298,23.346153846153847,22.24,21.769230769230774,21.73076923076923,21.73076923076923,20.666666666666668,22.25,21.53846153846154,22.57894736842105,22.82608695652174,21.42105263157895,23.6,24.294117647058822,23.63636363636364,22.454545454545453,21.61111111111111,19.869565217391305,19.75,19.20833333333333,21.20833333333333,18.9,18.63636363636364,18.53846153846154,18.25,16.9,19.416666666666668,16.444444444444443,20.041666666666668,19.90909090909091,19.05,18.55555555555556,18.166666666666668,15.833333333333334,17.5,16.083333333333332,17.857142857142858,19.8,18.05,17.285714285714285,15.550000000000002,17.318181818181817,14.0,17.142857142857142,16.85,17.217391304347824,15.238095238095237,14.095238095238097,15.05263157894737,10.0],\"type\":\"scatter\"},{\"line\":{\"color\":\"rgba(55, 128, 191, 1.0)\",\"dash\":\"solid\",\"shape\":\"linear\",\"width\":1.3},\"mode\":\"lines\",\"name\":\"Predictions\",\"text\":\"\",\"x\":[0,1,2,3,4,5,6,7,8,9,10,11,12,13,14,15,16,17,18,19,20,21,22,23,24,25,26,27,28,29,30,31,32,33,34,35,36,37,38,39,40,41,42,43,44,45,46,47,48,49,50,51,52,53,54,55,56,57,58,59,60,61,62,63,64,65,66,67,68,69,70,71,72,73,74,75,76,77,78,79,80,81,82,83,84,85,86,87,88,89,90,91,92,93,94,95,96,97,98,99,100,101,102,103,104,105,106,107,108,109,110,111,112,113,114,115,116,117,118,119,120,121,122,123,124,125,126,127,128,129,130,131,132,133,134,135,136,137,138,139,140,141,142,143,144,145,146,147,148,149,150,151,152,153,154,155,156,157,158,159,160,161,162,163,164,165,166,167,168,169,170,171,172,173,174,175,176,177,178,179,180,181,182,183,184,185,186,187,188,189,190,191,192,193,194,195,196,197,198,199,200,201,202,203,204,205,206,207,208,209,210,211,212,213,214,215,216,217,218,219,220,221,222,223,224,225,226,227,228,229,230,231,232,233,234,235,236,237,238,239,240,241,242,243,244,245,246,247,248,249,250,251,252,253,254,255,256,257,258,259,260,261,262,263,264,265,266,267,268,269,270,271,272,273,274,275,276,277,278,279,280,281,282],\"y\":[28.861705780029297,29.645172119140625,24.8579158782959,26.849943161010742,26.662382125854492,27.56057357788086,29.599365234375,30.102588653564453,29.721364974975586,32.34950256347656,32.89533996582031,31.646041870117188,31.84076690673828,31.731521606445312,29.479598999023438,30.226234436035156,30.324132919311523,32.75107192993164,29.039308547973633,29.879283905029297,31.278425216674805,33.67243576049805,33.51091003417969,34.865238189697266,34.24819564819336,34.56014633178711,34.298255920410156,32.79175567626953,33.14460372924805,33.8519287109375,31.11408042907715,32.622108459472656,32.776763916015625,34.168556213378906,33.11371612548828,33.383052825927734,34.0329475402832,33.47663116455078,34.322044372558594,36.77263259887695,34.878726959228516,33.31925964355469,31.16221809387207,32.39820098876953,33.935184478759766,34.61642074584961,32.05071258544922,34.516845703125,32.993736267089844,35.58404541015625,36.11134338378906,36.07058334350586,36.466976165771484,36.070438385009766,36.672733306884766,36.81047821044922,36.24900436401367,36.46750259399414,35.15293502807617,36.90983200073242,31.62494659423828,33.071231842041016,33.61957931518555,34.49967575073242,37.06846237182617,34.838260650634766,31.85513687133789,28.455251693725586,33.4373664855957,34.832916259765625,35.82398223876953,37.41386413574219,37.026119232177734,35.098758697509766,34.79600143432617,32.66709518432617,36.2686653137207,34.808990478515625,35.69429397583008,33.51398468017578,35.53178024291992,35.02034378051758,32.38555145263672,34.67939758300781,32.898216247558594,34.4828987121582,34.87579345703125,35.04945373535156,31.13755226135254,33.371971130371094,33.22193908691406,33.734214782714844,35.52561950683594,34.19315719604492,34.507591247558594,33.85670471191406,31.363710403442383,34.83771514892578,34.66141891479492,31.834266662597656,29.792299270629883,31.08721351623535,30.803613662719727,32.657562255859375,32.095184326171875,33.11210250854492,30.763582229614258,33.04494094848633,32.39201736450195,31.24060821533203,31.07933807373047,31.48565673828125,31.01517105102539,31.182037353515625,28.36210823059082,29.073837280273438,28.531919479370117,31.483469009399414,32.978126525878906,33.11798095703125,33.6192741394043,31.71833038330078,32.27621841430664,31.875152587890625,30.176433563232422,29.269086837768555,30.154796600341797,28.440153121948242,28.18451690673828,29.199604034423828,29.036161422729492,30.326126098632812,31.88900375366211,32.01493835449219,33.274940490722656,29.7171630859375,32.85842514038086,32.823204040527344,31.3935546875,31.959409713745117,29.07585906982422,30.574254989624023,30.905357360839844,29.145387649536133,31.018077850341797,30.494548797607422,30.72937774658203,30.81576156616211,31.849306106567383,31.447267532348633,30.795310974121094,31.793550491333008,31.37967300415039,30.158130645751953,31.81412696838379,31.389678955078125,31.491668701171875,33.00786590576172,29.93328094482422,30.457670211791992,28.48007583618164,29.42704963684082,30.07203483581543,30.49254608154297,31.438825607299805,30.445133209228516,30.343366622924805,31.45824432373047,31.535730361938477,30.437524795532227,31.144718170166016,31.34914779663086,31.326345443725586,32.46808624267578,31.33595848083496,31.085670471191406,32.13815689086914,32.22386932373047,30.31537628173828,33.214866638183594,32.63569259643555,32.4174919128418,29.794958114624023,31.541440963745117,31.01366424560547,31.25040054321289,31.19162368774414,31.831071853637695,31.411468505859375,31.34676170349121,31.602807998657227,31.651987075805664,31.87160301208496,32.45748519897461,30.10439682006836,29.41455841064453,30.666810989379883,29.482561111450195,30.703292846679688,31.210657119750977,29.67624282836914,29.569581985473633,29.475296020507812,29.813926696777344,30.147811889648438,28.556289672851562,29.15024757385254,29.082738876342773,28.877023696899414,29.407867431640625,29.128389358520508,28.624746322631836,29.260601043701172,28.049549102783203,28.957883834838867,28.312345504760742,28.801456451416016,27.477575302124023,26.576276779174805,27.179847717285156,25.439512252807617,25.00692367553711,24.35824203491211,23.89981460571289,25.076135635375977,24.123687744140625,23.071401596069336,23.062326431274414,23.93236541748047,23.146947860717773,23.066007614135742,23.951982498168945,23.930252075195312,23.647525787353516,24.122732162475586,23.67568016052246,22.046520233154297,21.886083602905273,21.88064956665039,22.155412673950195,21.49152946472168,22.478904724121094,21.59998321533203,22.19547462463379,22.623458862304688,21.808870315551758,23.410490036010742,24.183116912841797,24.063169479370117,23.466028213500977,23.263336181640625,20.996973037719727,21.052831649780273,20.12793731689453,21.57760238647461,19.920167922973633,19.67338752746582,19.537094116210938,18.92888641357422,17.29444694519043,19.165557861328125,16.86602020263672,19.596006393432617,19.686357498168945,18.98683738708496,18.52643394470215,18.0870418548584,16.12006950378418,17.828493118286133,16.95073890686035,18.49224281311035,19.798871994018555,18.93138313293457,18.67253303527832,17.011520385742188,17.861000061035156,15.219772338867188,17.791704177856445,17.593828201293945,18.26822853088379,16.104907989501953,15.15914535522461,15.843033790588379],\"type\":\"scatter\"}],                        {\"legend\":{\"bgcolor\":\"#151516\",\"font\":{\"color\":\"#D9D9D9\"}},\"paper_bgcolor\":\"#151516\",\"plot_bgcolor\":\"#151516\",\"template\":{\"data\":{\"barpolar\":[{\"marker\":{\"line\":{\"color\":\"#E5ECF6\",\"width\":0.5},\"pattern\":{\"fillmode\":\"overlay\",\"size\":10,\"solidity\":0.2}},\"type\":\"barpolar\"}],\"bar\":[{\"error_x\":{\"color\":\"#2a3f5f\"},\"error_y\":{\"color\":\"#2a3f5f\"},\"marker\":{\"line\":{\"color\":\"#E5ECF6\",\"width\":0.5},\"pattern\":{\"fillmode\":\"overlay\",\"size\":10,\"solidity\":0.2}},\"type\":\"bar\"}],\"carpet\":[{\"aaxis\":{\"endlinecolor\":\"#2a3f5f\",\"gridcolor\":\"white\",\"linecolor\":\"white\",\"minorgridcolor\":\"white\",\"startlinecolor\":\"#2a3f5f\"},\"baxis\":{\"endlinecolor\":\"#2a3f5f\",\"gridcolor\":\"white\",\"linecolor\":\"white\",\"minorgridcolor\":\"white\",\"startlinecolor\":\"#2a3f5f\"},\"type\":\"carpet\"}],\"choropleth\":[{\"colorbar\":{\"outlinewidth\":0,\"ticks\":\"\"},\"type\":\"choropleth\"}],\"contourcarpet\":[{\"colorbar\":{\"outlinewidth\":0,\"ticks\":\"\"},\"type\":\"contourcarpet\"}],\"contour\":[{\"colorbar\":{\"outlinewidth\":0,\"ticks\":\"\"},\"colorscale\":[[0.0,\"#0d0887\"],[0.1111111111111111,\"#46039f\"],[0.2222222222222222,\"#7201a8\"],[0.3333333333333333,\"#9c179e\"],[0.4444444444444444,\"#bd3786\"],[0.5555555555555556,\"#d8576b\"],[0.6666666666666666,\"#ed7953\"],[0.7777777777777778,\"#fb9f3a\"],[0.8888888888888888,\"#fdca26\"],[1.0,\"#f0f921\"]],\"type\":\"contour\"}],\"heatmapgl\":[{\"colorbar\":{\"outlinewidth\":0,\"ticks\":\"\"},\"colorscale\":[[0.0,\"#0d0887\"],[0.1111111111111111,\"#46039f\"],[0.2222222222222222,\"#7201a8\"],[0.3333333333333333,\"#9c179e\"],[0.4444444444444444,\"#bd3786\"],[0.5555555555555556,\"#d8576b\"],[0.6666666666666666,\"#ed7953\"],[0.7777777777777778,\"#fb9f3a\"],[0.8888888888888888,\"#fdca26\"],[1.0,\"#f0f921\"]],\"type\":\"heatmapgl\"}],\"heatmap\":[{\"colorbar\":{\"outlinewidth\":0,\"ticks\":\"\"},\"colorscale\":[[0.0,\"#0d0887\"],[0.1111111111111111,\"#46039f\"],[0.2222222222222222,\"#7201a8\"],[0.3333333333333333,\"#9c179e\"],[0.4444444444444444,\"#bd3786\"],[0.5555555555555556,\"#d8576b\"],[0.6666666666666666,\"#ed7953\"],[0.7777777777777778,\"#fb9f3a\"],[0.8888888888888888,\"#fdca26\"],[1.0,\"#f0f921\"]],\"type\":\"heatmap\"}],\"histogram2dcontour\":[{\"colorbar\":{\"outlinewidth\":0,\"ticks\":\"\"},\"colorscale\":[[0.0,\"#0d0887\"],[0.1111111111111111,\"#46039f\"],[0.2222222222222222,\"#7201a8\"],[0.3333333333333333,\"#9c179e\"],[0.4444444444444444,\"#bd3786\"],[0.5555555555555556,\"#d8576b\"],[0.6666666666666666,\"#ed7953\"],[0.7777777777777778,\"#fb9f3a\"],[0.8888888888888888,\"#fdca26\"],[1.0,\"#f0f921\"]],\"type\":\"histogram2dcontour\"}],\"histogram2d\":[{\"colorbar\":{\"outlinewidth\":0,\"ticks\":\"\"},\"colorscale\":[[0.0,\"#0d0887\"],[0.1111111111111111,\"#46039f\"],[0.2222222222222222,\"#7201a8\"],[0.3333333333333333,\"#9c179e\"],[0.4444444444444444,\"#bd3786\"],[0.5555555555555556,\"#d8576b\"],[0.6666666666666666,\"#ed7953\"],[0.7777777777777778,\"#fb9f3a\"],[0.8888888888888888,\"#fdca26\"],[1.0,\"#f0f921\"]],\"type\":\"histogram2d\"}],\"histogram\":[{\"marker\":{\"pattern\":{\"fillmode\":\"overlay\",\"size\":10,\"solidity\":0.2}},\"type\":\"histogram\"}],\"mesh3d\":[{\"colorbar\":{\"outlinewidth\":0,\"ticks\":\"\"},\"type\":\"mesh3d\"}],\"parcoords\":[{\"line\":{\"colorbar\":{\"outlinewidth\":0,\"ticks\":\"\"}},\"type\":\"parcoords\"}],\"pie\":[{\"automargin\":true,\"type\":\"pie\"}],\"scatter3d\":[{\"line\":{\"colorbar\":{\"outlinewidth\":0,\"ticks\":\"\"}},\"marker\":{\"colorbar\":{\"outlinewidth\":0,\"ticks\":\"\"}},\"type\":\"scatter3d\"}],\"scattercarpet\":[{\"marker\":{\"colorbar\":{\"outlinewidth\":0,\"ticks\":\"\"}},\"type\":\"scattercarpet\"}],\"scattergeo\":[{\"marker\":{\"colorbar\":{\"outlinewidth\":0,\"ticks\":\"\"}},\"type\":\"scattergeo\"}],\"scattergl\":[{\"marker\":{\"colorbar\":{\"outlinewidth\":0,\"ticks\":\"\"}},\"type\":\"scattergl\"}],\"scattermapbox\":[{\"marker\":{\"colorbar\":{\"outlinewidth\":0,\"ticks\":\"\"}},\"type\":\"scattermapbox\"}],\"scatterpolargl\":[{\"marker\":{\"colorbar\":{\"outlinewidth\":0,\"ticks\":\"\"}},\"type\":\"scatterpolargl\"}],\"scatterpolar\":[{\"marker\":{\"colorbar\":{\"outlinewidth\":0,\"ticks\":\"\"}},\"type\":\"scatterpolar\"}],\"scatter\":[{\"fillpattern\":{\"fillmode\":\"overlay\",\"size\":10,\"solidity\":0.2},\"type\":\"scatter\"}],\"scatterternary\":[{\"marker\":{\"colorbar\":{\"outlinewidth\":0,\"ticks\":\"\"}},\"type\":\"scatterternary\"}],\"surface\":[{\"colorbar\":{\"outlinewidth\":0,\"ticks\":\"\"},\"colorscale\":[[0.0,\"#0d0887\"],[0.1111111111111111,\"#46039f\"],[0.2222222222222222,\"#7201a8\"],[0.3333333333333333,\"#9c179e\"],[0.4444444444444444,\"#bd3786\"],[0.5555555555555556,\"#d8576b\"],[0.6666666666666666,\"#ed7953\"],[0.7777777777777778,\"#fb9f3a\"],[0.8888888888888888,\"#fdca26\"],[1.0,\"#f0f921\"]],\"type\":\"surface\"}],\"table\":[{\"cells\":{\"fill\":{\"color\":\"#EBF0F8\"},\"line\":{\"color\":\"white\"}},\"header\":{\"fill\":{\"color\":\"#C8D4E3\"},\"line\":{\"color\":\"white\"}},\"type\":\"table\"}]},\"layout\":{\"annotationdefaults\":{\"arrowcolor\":\"#2a3f5f\",\"arrowhead\":0,\"arrowwidth\":1},\"autotypenumbers\":\"strict\",\"coloraxis\":{\"colorbar\":{\"outlinewidth\":0,\"ticks\":\"\"}},\"colorscale\":{\"diverging\":[[0,\"#8e0152\"],[0.1,\"#c51b7d\"],[0.2,\"#de77ae\"],[0.3,\"#f1b6da\"],[0.4,\"#fde0ef\"],[0.5,\"#f7f7f7\"],[0.6,\"#e6f5d0\"],[0.7,\"#b8e186\"],[0.8,\"#7fbc41\"],[0.9,\"#4d9221\"],[1,\"#276419\"]],\"sequential\":[[0.0,\"#0d0887\"],[0.1111111111111111,\"#46039f\"],[0.2222222222222222,\"#7201a8\"],[0.3333333333333333,\"#9c179e\"],[0.4444444444444444,\"#bd3786\"],[0.5555555555555556,\"#d8576b\"],[0.6666666666666666,\"#ed7953\"],[0.7777777777777778,\"#fb9f3a\"],[0.8888888888888888,\"#fdca26\"],[1.0,\"#f0f921\"]],\"sequentialminus\":[[0.0,\"#0d0887\"],[0.1111111111111111,\"#46039f\"],[0.2222222222222222,\"#7201a8\"],[0.3333333333333333,\"#9c179e\"],[0.4444444444444444,\"#bd3786\"],[0.5555555555555556,\"#d8576b\"],[0.6666666666666666,\"#ed7953\"],[0.7777777777777778,\"#fb9f3a\"],[0.8888888888888888,\"#fdca26\"],[1.0,\"#f0f921\"]]},\"colorway\":[\"#636efa\",\"#EF553B\",\"#00cc96\",\"#ab63fa\",\"#FFA15A\",\"#19d3f3\",\"#FF6692\",\"#B6E880\",\"#FF97FF\",\"#FECB52\"],\"font\":{\"color\":\"#2a3f5f\"},\"geo\":{\"bgcolor\":\"white\",\"lakecolor\":\"white\",\"landcolor\":\"#E5ECF6\",\"showlakes\":true,\"showland\":true,\"subunitcolor\":\"white\"},\"hoverlabel\":{\"align\":\"left\"},\"hovermode\":\"closest\",\"mapbox\":{\"style\":\"light\"},\"paper_bgcolor\":\"white\",\"plot_bgcolor\":\"#E5ECF6\",\"polar\":{\"angularaxis\":{\"gridcolor\":\"white\",\"linecolor\":\"white\",\"ticks\":\"\"},\"bgcolor\":\"#E5ECF6\",\"radialaxis\":{\"gridcolor\":\"white\",\"linecolor\":\"white\",\"ticks\":\"\"}},\"scene\":{\"xaxis\":{\"backgroundcolor\":\"#E5ECF6\",\"gridcolor\":\"white\",\"gridwidth\":2,\"linecolor\":\"white\",\"showbackground\":true,\"ticks\":\"\",\"zerolinecolor\":\"white\"},\"yaxis\":{\"backgroundcolor\":\"#E5ECF6\",\"gridcolor\":\"white\",\"gridwidth\":2,\"linecolor\":\"white\",\"showbackground\":true,\"ticks\":\"\",\"zerolinecolor\":\"white\"},\"zaxis\":{\"backgroundcolor\":\"#E5ECF6\",\"gridcolor\":\"white\",\"gridwidth\":2,\"linecolor\":\"white\",\"showbackground\":true,\"ticks\":\"\",\"zerolinecolor\":\"white\"}},\"shapedefaults\":{\"line\":{\"color\":\"#2a3f5f\"}},\"ternary\":{\"aaxis\":{\"gridcolor\":\"white\",\"linecolor\":\"white\",\"ticks\":\"\"},\"baxis\":{\"gridcolor\":\"white\",\"linecolor\":\"white\",\"ticks\":\"\"},\"bgcolor\":\"#E5ECF6\",\"caxis\":{\"gridcolor\":\"white\",\"linecolor\":\"white\",\"ticks\":\"\"}},\"title\":{\"x\":0.05},\"xaxis\":{\"automargin\":true,\"gridcolor\":\"white\",\"linecolor\":\"white\",\"ticks\":\"\",\"title\":{\"standoff\":15},\"zerolinecolor\":\"white\",\"zerolinewidth\":2},\"yaxis\":{\"automargin\":true,\"gridcolor\":\"white\",\"linecolor\":\"white\",\"ticks\":\"\",\"title\":{\"standoff\":15},\"zerolinecolor\":\"white\",\"zerolinewidth\":2}}},\"title\":{\"font\":{\"color\":\"#D9D9D9\"},\"text\":\"\\u041f\\u0440\\u043e\\u0433\\u043d\\u043e\\u0437 vs \\u0420\\u0435\\u0430\\u043b\\u044c\\u043d\\u044b\\u0435 \\u0437\\u043d\\u0430\\u0447\\u0435\\u043d\\u0438\\u044f\"},\"xaxis\":{\"gridcolor\":\"#434343\",\"showgrid\":true,\"tickfont\":{\"color\":\"#C2C2C2\"},\"title\":{\"font\":{\"color\":\"#D9D9D9\"},\"text\":\"\\u0412\\u0440\\u0435\\u043c\\u044f\"},\"zerolinecolor\":\"#666570\"},\"yaxis\":{\"gridcolor\":\"#434343\",\"showgrid\":true,\"tickfont\":{\"color\":\"#C2C2C2\"},\"title\":{\"font\":{\"color\":\"#D9D9D9\"},\"text\":\"\\u0417\\u043d\\u0430\\u0447\\u0435\\u043d\\u0438\\u0435\"},\"zerolinecolor\":\"#666570\"}},                        {\"showLink\": true, \"linkText\": \"Export to plot.ly\", \"plotlyServerURL\": \"https://plot.ly\", \"responsive\": true}                    ).then(function(){\n",
       "                            \n",
       "var gd = document.getElementById('759613ac-0856-414d-9b28-a99b8fb44c85');\n",
       "var x = new MutationObserver(function (mutations, observer) {{\n",
       "        var display = window.getComputedStyle(gd).display;\n",
       "        if (!display || display === 'none') {{\n",
       "            console.log([gd, 'removed!']);\n",
       "            Plotly.purge(gd);\n",
       "            observer.disconnect();\n",
       "        }}\n",
       "}});\n",
       "\n",
       "// Listen for the removal of the full notebook cells\n",
       "var notebookContainer = gd.closest('#notebook-container');\n",
       "if (notebookContainer) {{\n",
       "    x.observe(notebookContainer, {childList: true});\n",
       "}}\n",
       "\n",
       "// Listen for the clearing of the current output cell\n",
       "var outputEl = gd.closest('.output');\n",
       "if (outputEl) {{\n",
       "    x.observe(outputEl, {childList: true});\n",
       "}}\n",
       "\n",
       "                        })                };                });            </script>        </div>"
      ]
     },
     "metadata": {},
     "output_type": "display_data"
    }
   ],
   "source": [
    "lstm_mape = mean_absolute_percentage_error(y_test, lstm_pred)\n",
    "lstm_mae = mean_absolute_error(y_test, lstm_pred)\n",
    "print(f\"MAPE: {lstm_mape} %\")\n",
    "print(f\"MAE: {lstm_mae}\")\n",
    "\n",
    "df_test = pd.DataFrame({\n",
    "    'Y_test': y_test.ravel(),\n",
    "    'Predictions': lstm_pred.ravel()\n",
    "})\n",
    "# Отобразить на графике\n",
    "df_test.iplot(title=\"Прогноз vs Реальные значения\", xTitle=\"Время\", yTitle=\"Значение\", theme=\"solar\")\n"
   ]
  },
  {
   "cell_type": "code",
   "execution_count": 60,
   "metadata": {},
   "outputs": [],
   "source": [
    "look_back = 10 \n",
    "X_train, y_train = create_dataset(dl_train, dl_train['meantemp'], look_back)\n",
    "X_test, y_test = create_dataset(dl_test, dl_test['meantemp'], look_back)"
   ]
  },
  {
   "cell_type": "code",
   "execution_count": 61,
   "metadata": {},
   "outputs": [
    {
     "name": "stdout",
     "output_type": "stream",
     "text": [
      "Epoch 1/30\n",
      "1159/1159 [==============================] - 4s 3ms/step - loss: 0.0725 - val_loss: 0.0483\n",
      "Epoch 2/30\n",
      "1159/1159 [==============================] - 7s 6ms/step - loss: 0.0483 - val_loss: 0.0449\n",
      "Epoch 3/30\n",
      "1159/1159 [==============================] - 14s 12ms/step - loss: 0.0469 - val_loss: 0.0411\n",
      "Epoch 4/30\n",
      "1159/1159 [==============================] - 13s 12ms/step - loss: 0.0441 - val_loss: 0.0449\n",
      "Epoch 5/30\n",
      "1159/1159 [==============================] - 11s 9ms/step - loss: 0.0436 - val_loss: 0.0627\n",
      "Epoch 6/30\n",
      "1159/1159 [==============================] - 11s 9ms/step - loss: 0.0426 - val_loss: 0.0459\n",
      "Epoch 7/30\n",
      "1159/1159 [==============================] - 11s 9ms/step - loss: 0.0418 - val_loss: 0.0414\n",
      "Epoch 8/30\n",
      "1159/1159 [==============================] - 10s 9ms/step - loss: 0.0413 - val_loss: 0.0389\n",
      "Epoch 9/30\n",
      "1159/1159 [==============================] - 10s 9ms/step - loss: 0.0404 - val_loss: 0.0430\n",
      "Epoch 10/30\n",
      "1159/1159 [==============================] - 11s 9ms/step - loss: 0.0400 - val_loss: 0.0398\n",
      "Epoch 11/30\n",
      "1159/1159 [==============================] - 14s 12ms/step - loss: 0.0403 - val_loss: 0.0385\n",
      "Epoch 12/30\n",
      "1159/1159 [==============================] - 15s 13ms/step - loss: 0.0397 - val_loss: 0.0454\n",
      "Epoch 13/30\n",
      "1159/1159 [==============================] - 14s 12ms/step - loss: 0.0392 - val_loss: 0.0436\n",
      "Epoch 14/30\n",
      "1159/1159 [==============================] - 15s 13ms/step - loss: 0.0411 - val_loss: 0.0555\n",
      "Epoch 15/30\n",
      "1159/1159 [==============================] - 15s 13ms/step - loss: 0.0404 - val_loss: 0.0391\n",
      "Epoch 16/30\n",
      "1159/1159 [==============================] - 16s 14ms/step - loss: 0.0398 - val_loss: 0.0386\n",
      "Epoch 17/30\n",
      "1159/1159 [==============================] - 14s 12ms/step - loss: 0.0394 - val_loss: 0.0384\n",
      "Epoch 18/30\n",
      "1159/1159 [==============================] - 16s 14ms/step - loss: 0.0400 - val_loss: 0.0480\n",
      "Epoch 19/30\n",
      "1159/1159 [==============================] - 14s 12ms/step - loss: 0.0397 - val_loss: 0.0385\n",
      "Epoch 20/30\n",
      "1159/1159 [==============================] - 17s 15ms/step - loss: 0.0395 - val_loss: 0.0378\n",
      "Epoch 21/30\n",
      "1159/1159 [==============================] - 15s 13ms/step - loss: 0.0391 - val_loss: 0.0402\n",
      "Epoch 22/30\n",
      "1159/1159 [==============================] - 14s 12ms/step - loss: 0.0394 - val_loss: 0.0393\n",
      "Epoch 23/30\n",
      "1159/1159 [==============================] - 18s 16ms/step - loss: 0.0391 - val_loss: 0.0476\n",
      "Epoch 24/30\n",
      "1159/1159 [==============================] - 14s 12ms/step - loss: 0.0381 - val_loss: 0.0399\n",
      "Epoch 25/30\n",
      "1159/1159 [==============================] - 15s 13ms/step - loss: 0.0385 - val_loss: 0.0382\n",
      "Epoch 26/30\n",
      "1159/1159 [==============================] - 16s 14ms/step - loss: 0.0385 - val_loss: 0.0401\n",
      "Epoch 27/30\n",
      "1159/1159 [==============================] - 16s 14ms/step - loss: 0.0391 - val_loss: 0.0388\n",
      "Epoch 28/30\n",
      "1159/1159 [==============================] - 15s 13ms/step - loss: 0.0385 - val_loss: 0.0390\n",
      "Epoch 29/30\n",
      "1159/1159 [==============================] - 18s 16ms/step - loss: 0.0384 - val_loss: 0.0417\n",
      "Epoch 30/30\n",
      "1159/1159 [==============================] - 14s 12ms/step - loss: 0.0378 - val_loss: 0.0420\n",
      "9/9 [==============================] - 1s 11ms/step - loss: 0.0378\n",
      "Validation Loss: 0.03781057149171829\n"
     ]
    }
   ],
   "source": [
    "gru_model = Sequential()\n",
    "gru_model.add(GRU(100, activation='relu', input_shape=(look_back, X_train.shape[2])))\n",
    "gru_model.add(Dense(1))\n",
    "gru_model.compile(optimizer='adam', loss='mae')\n",
    "\n",
    "early_stopping = EarlyStopping(monitor='val_loss', patience=10, restore_best_weights=True)\n",
    "history = gru_model.fit(X_train, y_train, epochs=30, validation_data=(X_test, y_test), batch_size=1, callbacks=[early_stopping])\n",
    "\n",
    "\n",
    "loss = gru_model.evaluate(X_test, y_test)\n",
    "print(f'Validation Loss: {loss}')"
   ]
  },
  {
   "cell_type": "code",
   "execution_count": 62,
   "metadata": {},
   "outputs": [
    {
     "name": "stdout",
     "output_type": "stream",
     "text": [
      "9/9 [==============================] - 0s 5ms/step\n",
      "MAPE: 4.584657950797873 %\n",
      "MAE: 1.2369458593343154\n"
     ]
    },
    {
     "data": {
      "application/vnd.plotly.v1+json": {
       "config": {
        "linkText": "Export to plot.ly",
        "plotlyServerURL": "https://plot.ly",
        "showLink": true
       },
       "data": [
        {
         "line": {
          "color": "rgba(255, 153, 51, 1.0)",
          "dash": "solid",
          "shape": "linear",
          "width": 1.3
         },
         "mode": "lines",
         "name": "Y_test",
         "text": "",
         "type": "scatter",
         "x": [
          0,
          1,
          2,
          3,
          4,
          5,
          6,
          7,
          8,
          9,
          10,
          11,
          12,
          13,
          14,
          15,
          16,
          17,
          18,
          19,
          20,
          21,
          22,
          23,
          24,
          25,
          26,
          27,
          28,
          29,
          30,
          31,
          32,
          33,
          34,
          35,
          36,
          37,
          38,
          39,
          40,
          41,
          42,
          43,
          44,
          45,
          46,
          47,
          48,
          49,
          50,
          51,
          52,
          53,
          54,
          55,
          56,
          57,
          58,
          59,
          60,
          61,
          62,
          63,
          64,
          65,
          66,
          67,
          68,
          69,
          70,
          71,
          72,
          73,
          74,
          75,
          76,
          77,
          78,
          79,
          80,
          81,
          82,
          83,
          84,
          85,
          86,
          87,
          88,
          89,
          90,
          91,
          92,
          93,
          94,
          95,
          96,
          97,
          98,
          99,
          100,
          101,
          102,
          103,
          104,
          105,
          106,
          107,
          108,
          109,
          110,
          111,
          112,
          113,
          114,
          115,
          116,
          117,
          118,
          119,
          120,
          121,
          122,
          123,
          124,
          125,
          126,
          127,
          128,
          129,
          130,
          131,
          132,
          133,
          134,
          135,
          136,
          137,
          138,
          139,
          140,
          141,
          142,
          143,
          144,
          145,
          146,
          147,
          148,
          149,
          150,
          151,
          152,
          153,
          154,
          155,
          156,
          157,
          158,
          159,
          160,
          161,
          162,
          163,
          164,
          165,
          166,
          167,
          168,
          169,
          170,
          171,
          172,
          173,
          174,
          175,
          176,
          177,
          178,
          179,
          180,
          181,
          182,
          183,
          184,
          185,
          186,
          187,
          188,
          189,
          190,
          191,
          192,
          193,
          194,
          195,
          196,
          197,
          198,
          199,
          200,
          201,
          202,
          203,
          204,
          205,
          206,
          207,
          208,
          209,
          210,
          211,
          212,
          213,
          214,
          215,
          216,
          217,
          218,
          219,
          220,
          221,
          222,
          223,
          224,
          225,
          226,
          227,
          228,
          229,
          230,
          231,
          232,
          233,
          234,
          235,
          236,
          237,
          238,
          239,
          240,
          241,
          242,
          243,
          244,
          245,
          246,
          247,
          248,
          249,
          250,
          251,
          252,
          253,
          254,
          255,
          256,
          257,
          258,
          259,
          260,
          261,
          262,
          263,
          264,
          265,
          266,
          267,
          268,
          269,
          270,
          271,
          272,
          273,
          274,
          275,
          276,
          277,
          278,
          279,
          280,
          281,
          282
         ],
         "y": [
          29.875,
          24.666666666666668,
          26.25,
          25.93333333333333,
          27.125,
          29.571428571428573,
          30,
          30.571428571428573,
          32.3125,
          33.3125,
          32.8125,
          32.3125,
          31.375,
          29.933333333333334,
          29.266666666666666,
          30.73333333333333,
          32.25,
          29.8,
          30.2,
          31.75,
          33.125,
          33.625,
          35.6875,
          34.666666666666664,
          34.625,
          34,
          34.0625,
          34,
          33.25,
          31.916666666666668,
          31.3125,
          31.75,
          33.4375,
          33.125,
          34.15384615384615,
          34.07142857142857,
          33.0625,
          34.6875,
          38,
          35.49999999999999,
          33.714285714285715,
          30.6,
          31.4375,
          33.3125,
          35.13333333333333,
          33.53333333333333,
          34,
          32.5,
          35.375,
          37.294117647058826,
          36.5625,
          37.25,
          37.21428571428572,
          37.5,
          37.75,
          37.375,
          37.4,
          36.13333333333333,
          36.8,
          32.214285714285715,
          31.526315789473685,
          33.21739130434783,
          35.26923076923077,
          38.27272727272727,
          36.0625,
          31.5,
          26.8125,
          32.642857142857146,
          36,
          37.5625,
          37.5625,
          38.2,
          36.16666666666666,
          35.42857142857143,
          34.625,
          36.07142857142857,
          35.733333333333334,
          36.13333333333333,
          33.4375,
          35.49999999999999,
          36,
          32.625,
          34.733333333333334,
          33.5,
          34.1875,
          35.857142857142854,
          35.625,
          30.9375,
          32.875,
          33.125,
          33.84615384615385,
          36.4375,
          35.42857142857143,
          34.86666666666667,
          34.3125,
          30.785714285714285,
          35.375,
          35.46666666666667,
          32.125,
          28.4,
          29.5625,
          30.6875,
          33.25,
          33.266666666666666,
          33.5,
          30.8,
          33.25,
          32.5625,
          31.5,
          30.5,
          31.25,
          30.4375,
          31,
          27.125,
          28.125,
          27.666666666666668,
          32.3125,
          34.1875,
          34.13333333333333,
          34.125,
          31.875,
          31.4375,
          31.9375,
          30.3125,
          28.3125,
          29.53333333333333,
          27.375,
          27.33333333333333,
          29.266666666666666,
          29.125,
          30.6875,
          32.5625,
          33.111111111111114,
          33.8,
          30.066666666666663,
          33.11764705882353,
          33.80952380952381,
          31.615384615384617,
          32,
          28.107142857142858,
          29.035714285714285,
          30.321428571428573,
          28.933333333333334,
          31.678571428571427,
          31.33333333333333,
          29.928571428571427,
          29.88888888888889,
          32.07142857142857,
          33.18518518518518,
          31.59259259259259,
          32.18518518518518,
          31.48,
          30.178571428571427,
          31.52,
          31.22222222222222,
          31.785714285714285,
          33.4,
          29.571428571428573,
          30.04,
          27.25925925925926,
          27.96,
          30.73913043478261,
          30.894736842105264,
          31.692307692307693,
          31.07692307692308,
          30.375,
          31.1,
          31.916666666666668,
          30.55555555555556,
          31.23076923076923,
          31,
          31.642857142857142,
          32.53333333333333,
          30.857142857142858,
          31.727272727272727,
          31.4,
          32.30769230769231,
          32.25,
          32.375,
          33.44444444444444,
          33.36,
          30.03703703703704,
          31,
          31.24,
          31.130434782608692,
          31.48,
          32.18518518518518,
          32.44,
          32.22727272727273,
          32.214285714285715,
          32.541666666666664,
          32.81481481481482,
          33.26923076923077,
          30.55555555555556,
          28.83333333333333,
          30.703703703703702,
          30.96,
          30.6,
          30.92,
          29.77777777777778,
          29.666666666666668,
          29.571428571428573,
          29.96296296296296,
          29.75,
          27.74074074074074,
          28.428571428571427,
          28.6,
          28.5,
          28.925925925925927,
          29.07692307692308,
          28.40909090909091,
          29.33333333333333,
          27.5,
          28.5,
          28.04,
          27.57692307692308,
          26.55555555555556,
          25.51851851851852,
          25.814814814814813,
          24.82608695652174,
          24.53846153846154,
          24.384615384615383,
          23.727272727272727,
          25.64,
          24.814814814814813,
          23.115384615384617,
          22.925925925925927,
          24.545454545454547,
          23.73076923076923,
          23,
          23.51851851851852,
          23.92,
          23.53846153846154,
          24.296296296296298,
          23.346153846153847,
          22.24,
          21.769230769230774,
          21.73076923076923,
          21.73076923076923,
          20.666666666666668,
          22.25,
          21.53846153846154,
          22.57894736842105,
          22.82608695652174,
          21.42105263157895,
          23.6,
          24.294117647058822,
          23.63636363636364,
          22.454545454545453,
          21.61111111111111,
          19.869565217391305,
          19.75,
          19.20833333333333,
          21.20833333333333,
          18.9,
          18.63636363636364,
          18.53846153846154,
          18.25,
          16.9,
          19.416666666666668,
          16.444444444444443,
          20.041666666666668,
          19.90909090909091,
          19.05,
          18.55555555555556,
          18.166666666666668,
          15.833333333333334,
          17.5,
          16.083333333333332,
          17.857142857142858,
          19.8,
          18.05,
          17.285714285714285,
          15.550000000000002,
          17.318181818181817,
          14,
          17.142857142857142,
          16.85,
          17.217391304347824,
          15.238095238095237,
          14.095238095238097,
          15.05263157894737,
          10
         ]
        },
        {
         "line": {
          "color": "rgba(55, 128, 191, 1.0)",
          "dash": "solid",
          "shape": "linear",
          "width": 1.3
         },
         "mode": "lines",
         "name": "Predictions",
         "text": "",
         "type": "scatter",
         "x": [
          0,
          1,
          2,
          3,
          4,
          5,
          6,
          7,
          8,
          9,
          10,
          11,
          12,
          13,
          14,
          15,
          16,
          17,
          18,
          19,
          20,
          21,
          22,
          23,
          24,
          25,
          26,
          27,
          28,
          29,
          30,
          31,
          32,
          33,
          34,
          35,
          36,
          37,
          38,
          39,
          40,
          41,
          42,
          43,
          44,
          45,
          46,
          47,
          48,
          49,
          50,
          51,
          52,
          53,
          54,
          55,
          56,
          57,
          58,
          59,
          60,
          61,
          62,
          63,
          64,
          65,
          66,
          67,
          68,
          69,
          70,
          71,
          72,
          73,
          74,
          75,
          76,
          77,
          78,
          79,
          80,
          81,
          82,
          83,
          84,
          85,
          86,
          87,
          88,
          89,
          90,
          91,
          92,
          93,
          94,
          95,
          96,
          97,
          98,
          99,
          100,
          101,
          102,
          103,
          104,
          105,
          106,
          107,
          108,
          109,
          110,
          111,
          112,
          113,
          114,
          115,
          116,
          117,
          118,
          119,
          120,
          121,
          122,
          123,
          124,
          125,
          126,
          127,
          128,
          129,
          130,
          131,
          132,
          133,
          134,
          135,
          136,
          137,
          138,
          139,
          140,
          141,
          142,
          143,
          144,
          145,
          146,
          147,
          148,
          149,
          150,
          151,
          152,
          153,
          154,
          155,
          156,
          157,
          158,
          159,
          160,
          161,
          162,
          163,
          164,
          165,
          166,
          167,
          168,
          169,
          170,
          171,
          172,
          173,
          174,
          175,
          176,
          177,
          178,
          179,
          180,
          181,
          182,
          183,
          184,
          185,
          186,
          187,
          188,
          189,
          190,
          191,
          192,
          193,
          194,
          195,
          196,
          197,
          198,
          199,
          200,
          201,
          202,
          203,
          204,
          205,
          206,
          207,
          208,
          209,
          210,
          211,
          212,
          213,
          214,
          215,
          216,
          217,
          218,
          219,
          220,
          221,
          222,
          223,
          224,
          225,
          226,
          227,
          228,
          229,
          230,
          231,
          232,
          233,
          234,
          235,
          236,
          237,
          238,
          239,
          240,
          241,
          242,
          243,
          244,
          245,
          246,
          247,
          248,
          249,
          250,
          251,
          252,
          253,
          254,
          255,
          256,
          257,
          258,
          259,
          260,
          261,
          262,
          263,
          264,
          265,
          266,
          267,
          268,
          269,
          270,
          271,
          272,
          273,
          274,
          275,
          276,
          277,
          278,
          279,
          280,
          281,
          282
         ],
         "y": [
          28.175125122070312,
          29.525575637817383,
          25.512754440307617,
          26.61331558227539,
          26.46162223815918,
          27.364479064941406,
          29.394193649291992,
          29.89051628112793,
          30.256290435791016,
          31.888113021850586,
          32.772281646728516,
          32.41999435424805,
          32.126651763916016,
          31.45899200439453,
          30.14165496826172,
          29.718494415283203,
          30.632991790771484,
          32.10334777832031,
          30.104692459106445,
          30.2716121673584,
          31.631229400634766,
          33.06440734863281,
          33.456783294677734,
          35.085533142089844,
          34.47023391723633,
          34.45121383666992,
          33.950965881347656,
          33.816078186035156,
          33.88076400756836,
          33.509281158447266,
          32.31675338745117,
          31.939653396606445,
          32.13091278076172,
          33.31597900390625,
          32.994300842285156,
          33.73051834106445,
          33.89761734008789,
          33.159095764160156,
          34.25703430175781,
          36.9554328918457,
          35.23796844482422,
          33.73003387451172,
          31.256324768066406,
          31.82896614074707,
          33.274410247802734,
          34.630897521972656,
          33.41489791870117,
          34.0111198425293,
          32.8203010559082,
          34.95598602294922,
          36.47995376586914,
          36.04410171508789,
          36.531829833984375,
          36.513858795166016,
          36.822914123535156,
          37.08418655395508,
          36.77256774902344,
          36.83866500854492,
          35.87371826171875,
          36.48828125,
          32.751304626464844,
          32.18061828613281,
          33.33015441894531,
          34.859283447265625,
          37.4154167175293,
          35.79995346069336,
          32.184600830078125,
          28.233755111694336,
          32.548851013183594,
          35.26691818237305,
          36.648475646972656,
          36.9681510925293,
          37.3739013671875,
          35.74212646484375,
          35.15217590332031,
          34.15119934082031,
          35.713768005371094,
          35.44758987426758,
          35.757537841796875,
          33.677127838134766,
          35.159175872802734,
          35.509639739990234,
          32.950416564941406,
          34.51100540161133,
          33.53800582885742,
          34.14291763305664,
          35.35074996948242,
          35.30569839477539,
          31.589126586914062,
          32.94563674926758,
          33.16178894042969,
          33.704288482666016,
          35.69048309326172,
          34.974544525146484,
          34.61331558227539,
          34.14670944213867,
          31.345962524414062,
          34.68359375,
          35.001556396484375,
          32.36524963378906,
          29.387861251831055,
          29.996925354003906,
          30.68824577331543,
          32.68327713012695,
          32.799068450927734,
          33.080501556396484,
          30.990398406982422,
          32.78669357299805,
          32.342803955078125,
          31.384206771850586,
          30.64818572998047,
          31.234725952148438,
          30.668710708618164,
          31.040653228759766,
          27.999603271484375,
          28.52065086364746,
          28.157930374145508,
          31.668642044067383,
          33.48733901977539,
          33.635372161865234,
          33.735965728759766,
          31.94510841369629,
          31.539798736572266,
          31.754470825195312,
          30.424209594726562,
          28.867137908935547,
          29.73577308654785,
          27.99714469909668,
          27.70292854309082,
          29.079343795776367,
          29.0047664642334,
          30.2706298828125,
          31.882930755615234,
          32.38972091674805,
          33.10067367553711,
          30.167861938476562,
          32.465885162353516,
          33.20804214477539,
          31.685935974121094,
          31.956939697265625,
          28.96355628967285,
          29.544458389282227,
          30.443191528320312,
          29.264198303222656,
          31.31272315979004,
          31.13027000427246,
          30.295085906982422,
          30.070646286010742,
          31.633182525634766,
          32.41011047363281,
          31.4005126953125,
          31.932214736938477,
          31.43050193786621,
          30.357873916625977,
          31.41557502746582,
          31.172163009643555,
          31.538692474365234,
          32.96743392944336,
          30.09235954284668,
          30.268489837646484,
          28.09657096862793,
          28.460433959960938,
          30.429473876953125,
          30.775304794311523,
          31.546594619750977,
          31.066179275512695,
          30.582801818847656,
          31.15337371826172,
          31.779855728149414,
          30.777585983276367,
          31.281082153320312,
          31.273452758789062,
          31.68039894104004,
          32.45515060424805,
          31.19033432006836,
          31.685850143432617,
          31.617481231689453,
          32.15734100341797,
          31.889753341674805,
          32.3826789855957,
          33.03178024291992,
          32.901729583740234,
          30.327924728393555,
          30.990158081054688,
          31.137353897094727,
          31.054838180541992,
          31.261659622192383,
          31.797523498535156,
          31.93509292602539,
          31.77749252319336,
          31.814910888671875,
          32.012298583984375,
          32.25332260131836,
          32.689762115478516,
          30.571165084838867,
          29.16350555419922,
          30.483814239501953,
          30.62445068359375,
          30.63999366760254,
          30.903255462646484,
          29.93210792541504,
          29.712100982666016,
          29.673009872436523,
          30.006120681762695,
          29.960901260375977,
          28.413389205932617,
          28.824342727661133,
          28.914976119995117,
          28.818939208984375,
          29.16668701171875,
          29.280866622924805,
          28.800086975097656,
          29.50497817993164,
          28.174348831176758,
          28.884788513183594,
          28.53548812866211,
          28.279090881347656,
          27.328439712524414,
          26.389081954956055,
          26.42110824584961,
          25.361604690551758,
          24.887725830078125,
          24.550260543823242,
          23.807018280029297,
          25.11979103088379,
          24.527774810791016,
          23.19418716430664,
          22.92896842956543,
          24.104076385498047,
          23.53683090209961,
          23.274112701416016,
          23.670185089111328,
          23.875896453857422,
          23.604827880859375,
          24.200979232788086,
          23.41669273376465,
          22.436403274536133,
          22.08704376220703,
          21.902233123779297,
          22.046205520629883,
          21.19516372680664,
          22.202091217041016,
          21.646045684814453,
          22.479448318481445,
          22.82042694091797,
          21.935405731201172,
          23.520471572875977,
          24.210996627807617,
          23.91316795349121,
          23.189273834228516,
          22.376113891601562,
          20.778156280517578,
          20.56016731262207,
          19.961875915527344,
          21.464855194091797,
          19.76495361328125,
          19.284099578857422,
          18.908769607543945,
          18.413434982299805,
          17.13974380493164,
          18.858776092529297,
          16.50935173034668,
          19.360519409179688,
          19.589765548706055,
          18.92279624938965,
          18.43342399597168,
          18.038877487182617,
          16.314390182495117,
          17.457592010498047,
          16.51778793334961,
          17.84629249572754,
          19.566186904907227,
          18.784523010253906,
          17.976085662841797,
          16.62403106689453,
          17.64208221435547,
          15.175070762634277,
          17.111230850219727,
          17.14812660217285,
          17.633024215698242,
          15.858960151672363,
          14.690349578857422,
          15.167208671569824
         ]
        }
       ],
       "layout": {
        "legend": {
         "bgcolor": "#151516",
         "font": {
          "color": "#D9D9D9"
         }
        },
        "paper_bgcolor": "#151516",
        "plot_bgcolor": "#151516",
        "template": {
         "data": {
          "bar": [
           {
            "error_x": {
             "color": "#2a3f5f"
            },
            "error_y": {
             "color": "#2a3f5f"
            },
            "marker": {
             "line": {
              "color": "#E5ECF6",
              "width": 0.5
             },
             "pattern": {
              "fillmode": "overlay",
              "size": 10,
              "solidity": 0.2
             }
            },
            "type": "bar"
           }
          ],
          "barpolar": [
           {
            "marker": {
             "line": {
              "color": "#E5ECF6",
              "width": 0.5
             },
             "pattern": {
              "fillmode": "overlay",
              "size": 10,
              "solidity": 0.2
             }
            },
            "type": "barpolar"
           }
          ],
          "carpet": [
           {
            "aaxis": {
             "endlinecolor": "#2a3f5f",
             "gridcolor": "white",
             "linecolor": "white",
             "minorgridcolor": "white",
             "startlinecolor": "#2a3f5f"
            },
            "baxis": {
             "endlinecolor": "#2a3f5f",
             "gridcolor": "white",
             "linecolor": "white",
             "minorgridcolor": "white",
             "startlinecolor": "#2a3f5f"
            },
            "type": "carpet"
           }
          ],
          "choropleth": [
           {
            "colorbar": {
             "outlinewidth": 0,
             "ticks": ""
            },
            "type": "choropleth"
           }
          ],
          "contour": [
           {
            "colorbar": {
             "outlinewidth": 0,
             "ticks": ""
            },
            "colorscale": [
             [
              0,
              "#0d0887"
             ],
             [
              0.1111111111111111,
              "#46039f"
             ],
             [
              0.2222222222222222,
              "#7201a8"
             ],
             [
              0.3333333333333333,
              "#9c179e"
             ],
             [
              0.4444444444444444,
              "#bd3786"
             ],
             [
              0.5555555555555556,
              "#d8576b"
             ],
             [
              0.6666666666666666,
              "#ed7953"
             ],
             [
              0.7777777777777778,
              "#fb9f3a"
             ],
             [
              0.8888888888888888,
              "#fdca26"
             ],
             [
              1,
              "#f0f921"
             ]
            ],
            "type": "contour"
           }
          ],
          "contourcarpet": [
           {
            "colorbar": {
             "outlinewidth": 0,
             "ticks": ""
            },
            "type": "contourcarpet"
           }
          ],
          "heatmap": [
           {
            "colorbar": {
             "outlinewidth": 0,
             "ticks": ""
            },
            "colorscale": [
             [
              0,
              "#0d0887"
             ],
             [
              0.1111111111111111,
              "#46039f"
             ],
             [
              0.2222222222222222,
              "#7201a8"
             ],
             [
              0.3333333333333333,
              "#9c179e"
             ],
             [
              0.4444444444444444,
              "#bd3786"
             ],
             [
              0.5555555555555556,
              "#d8576b"
             ],
             [
              0.6666666666666666,
              "#ed7953"
             ],
             [
              0.7777777777777778,
              "#fb9f3a"
             ],
             [
              0.8888888888888888,
              "#fdca26"
             ],
             [
              1,
              "#f0f921"
             ]
            ],
            "type": "heatmap"
           }
          ],
          "heatmapgl": [
           {
            "colorbar": {
             "outlinewidth": 0,
             "ticks": ""
            },
            "colorscale": [
             [
              0,
              "#0d0887"
             ],
             [
              0.1111111111111111,
              "#46039f"
             ],
             [
              0.2222222222222222,
              "#7201a8"
             ],
             [
              0.3333333333333333,
              "#9c179e"
             ],
             [
              0.4444444444444444,
              "#bd3786"
             ],
             [
              0.5555555555555556,
              "#d8576b"
             ],
             [
              0.6666666666666666,
              "#ed7953"
             ],
             [
              0.7777777777777778,
              "#fb9f3a"
             ],
             [
              0.8888888888888888,
              "#fdca26"
             ],
             [
              1,
              "#f0f921"
             ]
            ],
            "type": "heatmapgl"
           }
          ],
          "histogram": [
           {
            "marker": {
             "pattern": {
              "fillmode": "overlay",
              "size": 10,
              "solidity": 0.2
             }
            },
            "type": "histogram"
           }
          ],
          "histogram2d": [
           {
            "colorbar": {
             "outlinewidth": 0,
             "ticks": ""
            },
            "colorscale": [
             [
              0,
              "#0d0887"
             ],
             [
              0.1111111111111111,
              "#46039f"
             ],
             [
              0.2222222222222222,
              "#7201a8"
             ],
             [
              0.3333333333333333,
              "#9c179e"
             ],
             [
              0.4444444444444444,
              "#bd3786"
             ],
             [
              0.5555555555555556,
              "#d8576b"
             ],
             [
              0.6666666666666666,
              "#ed7953"
             ],
             [
              0.7777777777777778,
              "#fb9f3a"
             ],
             [
              0.8888888888888888,
              "#fdca26"
             ],
             [
              1,
              "#f0f921"
             ]
            ],
            "type": "histogram2d"
           }
          ],
          "histogram2dcontour": [
           {
            "colorbar": {
             "outlinewidth": 0,
             "ticks": ""
            },
            "colorscale": [
             [
              0,
              "#0d0887"
             ],
             [
              0.1111111111111111,
              "#46039f"
             ],
             [
              0.2222222222222222,
              "#7201a8"
             ],
             [
              0.3333333333333333,
              "#9c179e"
             ],
             [
              0.4444444444444444,
              "#bd3786"
             ],
             [
              0.5555555555555556,
              "#d8576b"
             ],
             [
              0.6666666666666666,
              "#ed7953"
             ],
             [
              0.7777777777777778,
              "#fb9f3a"
             ],
             [
              0.8888888888888888,
              "#fdca26"
             ],
             [
              1,
              "#f0f921"
             ]
            ],
            "type": "histogram2dcontour"
           }
          ],
          "mesh3d": [
           {
            "colorbar": {
             "outlinewidth": 0,
             "ticks": ""
            },
            "type": "mesh3d"
           }
          ],
          "parcoords": [
           {
            "line": {
             "colorbar": {
              "outlinewidth": 0,
              "ticks": ""
             }
            },
            "type": "parcoords"
           }
          ],
          "pie": [
           {
            "automargin": true,
            "type": "pie"
           }
          ],
          "scatter": [
           {
            "fillpattern": {
             "fillmode": "overlay",
             "size": 10,
             "solidity": 0.2
            },
            "type": "scatter"
           }
          ],
          "scatter3d": [
           {
            "line": {
             "colorbar": {
              "outlinewidth": 0,
              "ticks": ""
             }
            },
            "marker": {
             "colorbar": {
              "outlinewidth": 0,
              "ticks": ""
             }
            },
            "type": "scatter3d"
           }
          ],
          "scattercarpet": [
           {
            "marker": {
             "colorbar": {
              "outlinewidth": 0,
              "ticks": ""
             }
            },
            "type": "scattercarpet"
           }
          ],
          "scattergeo": [
           {
            "marker": {
             "colorbar": {
              "outlinewidth": 0,
              "ticks": ""
             }
            },
            "type": "scattergeo"
           }
          ],
          "scattergl": [
           {
            "marker": {
             "colorbar": {
              "outlinewidth": 0,
              "ticks": ""
             }
            },
            "type": "scattergl"
           }
          ],
          "scattermapbox": [
           {
            "marker": {
             "colorbar": {
              "outlinewidth": 0,
              "ticks": ""
             }
            },
            "type": "scattermapbox"
           }
          ],
          "scatterpolar": [
           {
            "marker": {
             "colorbar": {
              "outlinewidth": 0,
              "ticks": ""
             }
            },
            "type": "scatterpolar"
           }
          ],
          "scatterpolargl": [
           {
            "marker": {
             "colorbar": {
              "outlinewidth": 0,
              "ticks": ""
             }
            },
            "type": "scatterpolargl"
           }
          ],
          "scatterternary": [
           {
            "marker": {
             "colorbar": {
              "outlinewidth": 0,
              "ticks": ""
             }
            },
            "type": "scatterternary"
           }
          ],
          "surface": [
           {
            "colorbar": {
             "outlinewidth": 0,
             "ticks": ""
            },
            "colorscale": [
             [
              0,
              "#0d0887"
             ],
             [
              0.1111111111111111,
              "#46039f"
             ],
             [
              0.2222222222222222,
              "#7201a8"
             ],
             [
              0.3333333333333333,
              "#9c179e"
             ],
             [
              0.4444444444444444,
              "#bd3786"
             ],
             [
              0.5555555555555556,
              "#d8576b"
             ],
             [
              0.6666666666666666,
              "#ed7953"
             ],
             [
              0.7777777777777778,
              "#fb9f3a"
             ],
             [
              0.8888888888888888,
              "#fdca26"
             ],
             [
              1,
              "#f0f921"
             ]
            ],
            "type": "surface"
           }
          ],
          "table": [
           {
            "cells": {
             "fill": {
              "color": "#EBF0F8"
             },
             "line": {
              "color": "white"
             }
            },
            "header": {
             "fill": {
              "color": "#C8D4E3"
             },
             "line": {
              "color": "white"
             }
            },
            "type": "table"
           }
          ]
         },
         "layout": {
          "annotationdefaults": {
           "arrowcolor": "#2a3f5f",
           "arrowhead": 0,
           "arrowwidth": 1
          },
          "autotypenumbers": "strict",
          "coloraxis": {
           "colorbar": {
            "outlinewidth": 0,
            "ticks": ""
           }
          },
          "colorscale": {
           "diverging": [
            [
             0,
             "#8e0152"
            ],
            [
             0.1,
             "#c51b7d"
            ],
            [
             0.2,
             "#de77ae"
            ],
            [
             0.3,
             "#f1b6da"
            ],
            [
             0.4,
             "#fde0ef"
            ],
            [
             0.5,
             "#f7f7f7"
            ],
            [
             0.6,
             "#e6f5d0"
            ],
            [
             0.7,
             "#b8e186"
            ],
            [
             0.8,
             "#7fbc41"
            ],
            [
             0.9,
             "#4d9221"
            ],
            [
             1,
             "#276419"
            ]
           ],
           "sequential": [
            [
             0,
             "#0d0887"
            ],
            [
             0.1111111111111111,
             "#46039f"
            ],
            [
             0.2222222222222222,
             "#7201a8"
            ],
            [
             0.3333333333333333,
             "#9c179e"
            ],
            [
             0.4444444444444444,
             "#bd3786"
            ],
            [
             0.5555555555555556,
             "#d8576b"
            ],
            [
             0.6666666666666666,
             "#ed7953"
            ],
            [
             0.7777777777777778,
             "#fb9f3a"
            ],
            [
             0.8888888888888888,
             "#fdca26"
            ],
            [
             1,
             "#f0f921"
            ]
           ],
           "sequentialminus": [
            [
             0,
             "#0d0887"
            ],
            [
             0.1111111111111111,
             "#46039f"
            ],
            [
             0.2222222222222222,
             "#7201a8"
            ],
            [
             0.3333333333333333,
             "#9c179e"
            ],
            [
             0.4444444444444444,
             "#bd3786"
            ],
            [
             0.5555555555555556,
             "#d8576b"
            ],
            [
             0.6666666666666666,
             "#ed7953"
            ],
            [
             0.7777777777777778,
             "#fb9f3a"
            ],
            [
             0.8888888888888888,
             "#fdca26"
            ],
            [
             1,
             "#f0f921"
            ]
           ]
          },
          "colorway": [
           "#636efa",
           "#EF553B",
           "#00cc96",
           "#ab63fa",
           "#FFA15A",
           "#19d3f3",
           "#FF6692",
           "#B6E880",
           "#FF97FF",
           "#FECB52"
          ],
          "font": {
           "color": "#2a3f5f"
          },
          "geo": {
           "bgcolor": "white",
           "lakecolor": "white",
           "landcolor": "#E5ECF6",
           "showlakes": true,
           "showland": true,
           "subunitcolor": "white"
          },
          "hoverlabel": {
           "align": "left"
          },
          "hovermode": "closest",
          "mapbox": {
           "style": "light"
          },
          "paper_bgcolor": "white",
          "plot_bgcolor": "#E5ECF6",
          "polar": {
           "angularaxis": {
            "gridcolor": "white",
            "linecolor": "white",
            "ticks": ""
           },
           "bgcolor": "#E5ECF6",
           "radialaxis": {
            "gridcolor": "white",
            "linecolor": "white",
            "ticks": ""
           }
          },
          "scene": {
           "xaxis": {
            "backgroundcolor": "#E5ECF6",
            "gridcolor": "white",
            "gridwidth": 2,
            "linecolor": "white",
            "showbackground": true,
            "ticks": "",
            "zerolinecolor": "white"
           },
           "yaxis": {
            "backgroundcolor": "#E5ECF6",
            "gridcolor": "white",
            "gridwidth": 2,
            "linecolor": "white",
            "showbackground": true,
            "ticks": "",
            "zerolinecolor": "white"
           },
           "zaxis": {
            "backgroundcolor": "#E5ECF6",
            "gridcolor": "white",
            "gridwidth": 2,
            "linecolor": "white",
            "showbackground": true,
            "ticks": "",
            "zerolinecolor": "white"
           }
          },
          "shapedefaults": {
           "line": {
            "color": "#2a3f5f"
           }
          },
          "ternary": {
           "aaxis": {
            "gridcolor": "white",
            "linecolor": "white",
            "ticks": ""
           },
           "baxis": {
            "gridcolor": "white",
            "linecolor": "white",
            "ticks": ""
           },
           "bgcolor": "#E5ECF6",
           "caxis": {
            "gridcolor": "white",
            "linecolor": "white",
            "ticks": ""
           }
          },
          "title": {
           "x": 0.05
          },
          "xaxis": {
           "automargin": true,
           "gridcolor": "white",
           "linecolor": "white",
           "ticks": "",
           "title": {
            "standoff": 15
           },
           "zerolinecolor": "white",
           "zerolinewidth": 2
          },
          "yaxis": {
           "automargin": true,
           "gridcolor": "white",
           "linecolor": "white",
           "ticks": "",
           "title": {
            "standoff": 15
           },
           "zerolinecolor": "white",
           "zerolinewidth": 2
          }
         }
        },
        "title": {
         "font": {
          "color": "#D9D9D9"
         },
         "text": "Прогноз vs Реальные значения"
        },
        "xaxis": {
         "gridcolor": "#434343",
         "showgrid": true,
         "tickfont": {
          "color": "#C2C2C2"
         },
         "title": {
          "font": {
           "color": "#D9D9D9"
          },
          "text": "Время"
         },
         "zerolinecolor": "#666570"
        },
        "yaxis": {
         "gridcolor": "#434343",
         "showgrid": true,
         "tickfont": {
          "color": "#C2C2C2"
         },
         "title": {
          "font": {
           "color": "#D9D9D9"
          },
          "text": "Значение"
         },
         "zerolinecolor": "#666570"
        }
       }
      },
      "text/html": [
       "<div>                            <div id=\"331547fd-537d-4872-9892-c15e554c96e7\" class=\"plotly-graph-div\" style=\"height:525px; width:100%;\"></div>            <script type=\"text/javascript\">                require([\"plotly\"], function(Plotly) {                    window.PLOTLYENV=window.PLOTLYENV || {};\n",
       "                    window.PLOTLYENV.BASE_URL='https://plot.ly';                                    if (document.getElementById(\"331547fd-537d-4872-9892-c15e554c96e7\")) {                    Plotly.newPlot(                        \"331547fd-537d-4872-9892-c15e554c96e7\",                        [{\"line\":{\"color\":\"rgba(255, 153, 51, 1.0)\",\"dash\":\"solid\",\"shape\":\"linear\",\"width\":1.3},\"mode\":\"lines\",\"name\":\"Y_test\",\"text\":\"\",\"x\":[0,1,2,3,4,5,6,7,8,9,10,11,12,13,14,15,16,17,18,19,20,21,22,23,24,25,26,27,28,29,30,31,32,33,34,35,36,37,38,39,40,41,42,43,44,45,46,47,48,49,50,51,52,53,54,55,56,57,58,59,60,61,62,63,64,65,66,67,68,69,70,71,72,73,74,75,76,77,78,79,80,81,82,83,84,85,86,87,88,89,90,91,92,93,94,95,96,97,98,99,100,101,102,103,104,105,106,107,108,109,110,111,112,113,114,115,116,117,118,119,120,121,122,123,124,125,126,127,128,129,130,131,132,133,134,135,136,137,138,139,140,141,142,143,144,145,146,147,148,149,150,151,152,153,154,155,156,157,158,159,160,161,162,163,164,165,166,167,168,169,170,171,172,173,174,175,176,177,178,179,180,181,182,183,184,185,186,187,188,189,190,191,192,193,194,195,196,197,198,199,200,201,202,203,204,205,206,207,208,209,210,211,212,213,214,215,216,217,218,219,220,221,222,223,224,225,226,227,228,229,230,231,232,233,234,235,236,237,238,239,240,241,242,243,244,245,246,247,248,249,250,251,252,253,254,255,256,257,258,259,260,261,262,263,264,265,266,267,268,269,270,271,272,273,274,275,276,277,278,279,280,281,282],\"y\":[29.875,24.666666666666668,26.25,25.93333333333333,27.125,29.571428571428573,30.0,30.571428571428573,32.3125,33.3125,32.8125,32.3125,31.375,29.933333333333334,29.266666666666666,30.73333333333333,32.25,29.8,30.2,31.75,33.125,33.625,35.6875,34.666666666666664,34.625,34.0,34.0625,34.0,33.25,31.916666666666668,31.3125,31.75,33.4375,33.125,34.15384615384615,34.07142857142857,33.0625,34.6875,38.0,35.49999999999999,33.714285714285715,30.6,31.4375,33.3125,35.13333333333333,33.53333333333333,34.0,32.5,35.375,37.294117647058826,36.5625,37.25,37.21428571428572,37.5,37.75,37.375,37.4,36.13333333333333,36.8,32.214285714285715,31.526315789473685,33.21739130434783,35.26923076923077,38.27272727272727,36.0625,31.5,26.8125,32.642857142857146,36.0,37.5625,37.5625,38.2,36.16666666666666,35.42857142857143,34.625,36.07142857142857,35.733333333333334,36.13333333333333,33.4375,35.49999999999999,36.0,32.625,34.733333333333334,33.5,34.1875,35.857142857142854,35.625,30.9375,32.875,33.125,33.84615384615385,36.4375,35.42857142857143,34.86666666666667,34.3125,30.785714285714285,35.375,35.46666666666667,32.125,28.4,29.5625,30.6875,33.25,33.266666666666666,33.5,30.8,33.25,32.5625,31.5,30.5,31.25,30.4375,31.0,27.125,28.125,27.666666666666668,32.3125,34.1875,34.13333333333333,34.125,31.875,31.4375,31.9375,30.3125,28.3125,29.53333333333333,27.375,27.33333333333333,29.266666666666666,29.125,30.6875,32.5625,33.111111111111114,33.8,30.066666666666663,33.11764705882353,33.80952380952381,31.615384615384617,32.0,28.107142857142858,29.035714285714285,30.321428571428573,28.933333333333334,31.678571428571427,31.33333333333333,29.928571428571427,29.88888888888889,32.07142857142857,33.18518518518518,31.59259259259259,32.18518518518518,31.48,30.178571428571427,31.52,31.22222222222222,31.785714285714285,33.4,29.571428571428573,30.04,27.25925925925926,27.96,30.73913043478261,30.894736842105264,31.692307692307693,31.07692307692308,30.375,31.1,31.916666666666668,30.55555555555556,31.23076923076923,31.0,31.642857142857142,32.53333333333333,30.857142857142858,31.727272727272727,31.4,32.30769230769231,32.25,32.375,33.44444444444444,33.36,30.03703703703704,31.0,31.24,31.130434782608692,31.48,32.18518518518518,32.44,32.22727272727273,32.214285714285715,32.541666666666664,32.81481481481482,33.26923076923077,30.55555555555556,28.83333333333333,30.703703703703702,30.96,30.6,30.92,29.77777777777778,29.666666666666668,29.571428571428573,29.96296296296296,29.75,27.74074074074074,28.428571428571427,28.6,28.5,28.925925925925927,29.07692307692308,28.40909090909091,29.33333333333333,27.5,28.5,28.04,27.57692307692308,26.55555555555556,25.51851851851852,25.814814814814813,24.82608695652174,24.53846153846154,24.384615384615383,23.727272727272727,25.64,24.814814814814813,23.115384615384617,22.925925925925927,24.545454545454547,23.73076923076923,23.0,23.51851851851852,23.92,23.53846153846154,24.296296296296298,23.346153846153847,22.24,21.769230769230774,21.73076923076923,21.73076923076923,20.666666666666668,22.25,21.53846153846154,22.57894736842105,22.82608695652174,21.42105263157895,23.6,24.294117647058822,23.63636363636364,22.454545454545453,21.61111111111111,19.869565217391305,19.75,19.20833333333333,21.20833333333333,18.9,18.63636363636364,18.53846153846154,18.25,16.9,19.416666666666668,16.444444444444443,20.041666666666668,19.90909090909091,19.05,18.55555555555556,18.166666666666668,15.833333333333334,17.5,16.083333333333332,17.857142857142858,19.8,18.05,17.285714285714285,15.550000000000002,17.318181818181817,14.0,17.142857142857142,16.85,17.217391304347824,15.238095238095237,14.095238095238097,15.05263157894737,10.0],\"type\":\"scatter\"},{\"line\":{\"color\":\"rgba(55, 128, 191, 1.0)\",\"dash\":\"solid\",\"shape\":\"linear\",\"width\":1.3},\"mode\":\"lines\",\"name\":\"Predictions\",\"text\":\"\",\"x\":[0,1,2,3,4,5,6,7,8,9,10,11,12,13,14,15,16,17,18,19,20,21,22,23,24,25,26,27,28,29,30,31,32,33,34,35,36,37,38,39,40,41,42,43,44,45,46,47,48,49,50,51,52,53,54,55,56,57,58,59,60,61,62,63,64,65,66,67,68,69,70,71,72,73,74,75,76,77,78,79,80,81,82,83,84,85,86,87,88,89,90,91,92,93,94,95,96,97,98,99,100,101,102,103,104,105,106,107,108,109,110,111,112,113,114,115,116,117,118,119,120,121,122,123,124,125,126,127,128,129,130,131,132,133,134,135,136,137,138,139,140,141,142,143,144,145,146,147,148,149,150,151,152,153,154,155,156,157,158,159,160,161,162,163,164,165,166,167,168,169,170,171,172,173,174,175,176,177,178,179,180,181,182,183,184,185,186,187,188,189,190,191,192,193,194,195,196,197,198,199,200,201,202,203,204,205,206,207,208,209,210,211,212,213,214,215,216,217,218,219,220,221,222,223,224,225,226,227,228,229,230,231,232,233,234,235,236,237,238,239,240,241,242,243,244,245,246,247,248,249,250,251,252,253,254,255,256,257,258,259,260,261,262,263,264,265,266,267,268,269,270,271,272,273,274,275,276,277,278,279,280,281,282],\"y\":[28.175125122070312,29.525575637817383,25.512754440307617,26.61331558227539,26.46162223815918,27.364479064941406,29.394193649291992,29.89051628112793,30.256290435791016,31.888113021850586,32.772281646728516,32.41999435424805,32.126651763916016,31.45899200439453,30.14165496826172,29.718494415283203,30.632991790771484,32.10334777832031,30.104692459106445,30.2716121673584,31.631229400634766,33.06440734863281,33.456783294677734,35.085533142089844,34.47023391723633,34.45121383666992,33.950965881347656,33.816078186035156,33.88076400756836,33.509281158447266,32.31675338745117,31.939653396606445,32.13091278076172,33.31597900390625,32.994300842285156,33.73051834106445,33.89761734008789,33.159095764160156,34.25703430175781,36.9554328918457,35.23796844482422,33.73003387451172,31.256324768066406,31.82896614074707,33.274410247802734,34.630897521972656,33.41489791870117,34.0111198425293,32.8203010559082,34.95598602294922,36.47995376586914,36.04410171508789,36.531829833984375,36.513858795166016,36.822914123535156,37.08418655395508,36.77256774902344,36.83866500854492,35.87371826171875,36.48828125,32.751304626464844,32.18061828613281,33.33015441894531,34.859283447265625,37.4154167175293,35.79995346069336,32.184600830078125,28.233755111694336,32.548851013183594,35.26691818237305,36.648475646972656,36.9681510925293,37.3739013671875,35.74212646484375,35.15217590332031,34.15119934082031,35.713768005371094,35.44758987426758,35.757537841796875,33.677127838134766,35.159175872802734,35.509639739990234,32.950416564941406,34.51100540161133,33.53800582885742,34.14291763305664,35.35074996948242,35.30569839477539,31.589126586914062,32.94563674926758,33.16178894042969,33.704288482666016,35.69048309326172,34.974544525146484,34.61331558227539,34.14670944213867,31.345962524414062,34.68359375,35.001556396484375,32.36524963378906,29.387861251831055,29.996925354003906,30.68824577331543,32.68327713012695,32.799068450927734,33.080501556396484,30.990398406982422,32.78669357299805,32.342803955078125,31.384206771850586,30.64818572998047,31.234725952148438,30.668710708618164,31.040653228759766,27.999603271484375,28.52065086364746,28.157930374145508,31.668642044067383,33.48733901977539,33.635372161865234,33.735965728759766,31.94510841369629,31.539798736572266,31.754470825195312,30.424209594726562,28.867137908935547,29.73577308654785,27.99714469909668,27.70292854309082,29.079343795776367,29.0047664642334,30.2706298828125,31.882930755615234,32.38972091674805,33.10067367553711,30.167861938476562,32.465885162353516,33.20804214477539,31.685935974121094,31.956939697265625,28.96355628967285,29.544458389282227,30.443191528320312,29.264198303222656,31.31272315979004,31.13027000427246,30.295085906982422,30.070646286010742,31.633182525634766,32.41011047363281,31.4005126953125,31.932214736938477,31.43050193786621,30.357873916625977,31.41557502746582,31.172163009643555,31.538692474365234,32.96743392944336,30.09235954284668,30.268489837646484,28.09657096862793,28.460433959960938,30.429473876953125,30.775304794311523,31.546594619750977,31.066179275512695,30.582801818847656,31.15337371826172,31.779855728149414,30.777585983276367,31.281082153320312,31.273452758789062,31.68039894104004,32.45515060424805,31.19033432006836,31.685850143432617,31.617481231689453,32.15734100341797,31.889753341674805,32.3826789855957,33.03178024291992,32.901729583740234,30.327924728393555,30.990158081054688,31.137353897094727,31.054838180541992,31.261659622192383,31.797523498535156,31.93509292602539,31.77749252319336,31.814910888671875,32.012298583984375,32.25332260131836,32.689762115478516,30.571165084838867,29.16350555419922,30.483814239501953,30.62445068359375,30.63999366760254,30.903255462646484,29.93210792541504,29.712100982666016,29.673009872436523,30.006120681762695,29.960901260375977,28.413389205932617,28.824342727661133,28.914976119995117,28.818939208984375,29.16668701171875,29.280866622924805,28.800086975097656,29.50497817993164,28.174348831176758,28.884788513183594,28.53548812866211,28.279090881347656,27.328439712524414,26.389081954956055,26.42110824584961,25.361604690551758,24.887725830078125,24.550260543823242,23.807018280029297,25.11979103088379,24.527774810791016,23.19418716430664,22.92896842956543,24.104076385498047,23.53683090209961,23.274112701416016,23.670185089111328,23.875896453857422,23.604827880859375,24.200979232788086,23.41669273376465,22.436403274536133,22.08704376220703,21.902233123779297,22.046205520629883,21.19516372680664,22.202091217041016,21.646045684814453,22.479448318481445,22.82042694091797,21.935405731201172,23.520471572875977,24.210996627807617,23.91316795349121,23.189273834228516,22.376113891601562,20.778156280517578,20.56016731262207,19.961875915527344,21.464855194091797,19.76495361328125,19.284099578857422,18.908769607543945,18.413434982299805,17.13974380493164,18.858776092529297,16.50935173034668,19.360519409179688,19.589765548706055,18.92279624938965,18.43342399597168,18.038877487182617,16.314390182495117,17.457592010498047,16.51778793334961,17.84629249572754,19.566186904907227,18.784523010253906,17.976085662841797,16.62403106689453,17.64208221435547,15.175070762634277,17.111230850219727,17.14812660217285,17.633024215698242,15.858960151672363,14.690349578857422,15.167208671569824],\"type\":\"scatter\"}],                        {\"legend\":{\"bgcolor\":\"#151516\",\"font\":{\"color\":\"#D9D9D9\"}},\"paper_bgcolor\":\"#151516\",\"plot_bgcolor\":\"#151516\",\"template\":{\"data\":{\"barpolar\":[{\"marker\":{\"line\":{\"color\":\"#E5ECF6\",\"width\":0.5},\"pattern\":{\"fillmode\":\"overlay\",\"size\":10,\"solidity\":0.2}},\"type\":\"barpolar\"}],\"bar\":[{\"error_x\":{\"color\":\"#2a3f5f\"},\"error_y\":{\"color\":\"#2a3f5f\"},\"marker\":{\"line\":{\"color\":\"#E5ECF6\",\"width\":0.5},\"pattern\":{\"fillmode\":\"overlay\",\"size\":10,\"solidity\":0.2}},\"type\":\"bar\"}],\"carpet\":[{\"aaxis\":{\"endlinecolor\":\"#2a3f5f\",\"gridcolor\":\"white\",\"linecolor\":\"white\",\"minorgridcolor\":\"white\",\"startlinecolor\":\"#2a3f5f\"},\"baxis\":{\"endlinecolor\":\"#2a3f5f\",\"gridcolor\":\"white\",\"linecolor\":\"white\",\"minorgridcolor\":\"white\",\"startlinecolor\":\"#2a3f5f\"},\"type\":\"carpet\"}],\"choropleth\":[{\"colorbar\":{\"outlinewidth\":0,\"ticks\":\"\"},\"type\":\"choropleth\"}],\"contourcarpet\":[{\"colorbar\":{\"outlinewidth\":0,\"ticks\":\"\"},\"type\":\"contourcarpet\"}],\"contour\":[{\"colorbar\":{\"outlinewidth\":0,\"ticks\":\"\"},\"colorscale\":[[0.0,\"#0d0887\"],[0.1111111111111111,\"#46039f\"],[0.2222222222222222,\"#7201a8\"],[0.3333333333333333,\"#9c179e\"],[0.4444444444444444,\"#bd3786\"],[0.5555555555555556,\"#d8576b\"],[0.6666666666666666,\"#ed7953\"],[0.7777777777777778,\"#fb9f3a\"],[0.8888888888888888,\"#fdca26\"],[1.0,\"#f0f921\"]],\"type\":\"contour\"}],\"heatmapgl\":[{\"colorbar\":{\"outlinewidth\":0,\"ticks\":\"\"},\"colorscale\":[[0.0,\"#0d0887\"],[0.1111111111111111,\"#46039f\"],[0.2222222222222222,\"#7201a8\"],[0.3333333333333333,\"#9c179e\"],[0.4444444444444444,\"#bd3786\"],[0.5555555555555556,\"#d8576b\"],[0.6666666666666666,\"#ed7953\"],[0.7777777777777778,\"#fb9f3a\"],[0.8888888888888888,\"#fdca26\"],[1.0,\"#f0f921\"]],\"type\":\"heatmapgl\"}],\"heatmap\":[{\"colorbar\":{\"outlinewidth\":0,\"ticks\":\"\"},\"colorscale\":[[0.0,\"#0d0887\"],[0.1111111111111111,\"#46039f\"],[0.2222222222222222,\"#7201a8\"],[0.3333333333333333,\"#9c179e\"],[0.4444444444444444,\"#bd3786\"],[0.5555555555555556,\"#d8576b\"],[0.6666666666666666,\"#ed7953\"],[0.7777777777777778,\"#fb9f3a\"],[0.8888888888888888,\"#fdca26\"],[1.0,\"#f0f921\"]],\"type\":\"heatmap\"}],\"histogram2dcontour\":[{\"colorbar\":{\"outlinewidth\":0,\"ticks\":\"\"},\"colorscale\":[[0.0,\"#0d0887\"],[0.1111111111111111,\"#46039f\"],[0.2222222222222222,\"#7201a8\"],[0.3333333333333333,\"#9c179e\"],[0.4444444444444444,\"#bd3786\"],[0.5555555555555556,\"#d8576b\"],[0.6666666666666666,\"#ed7953\"],[0.7777777777777778,\"#fb9f3a\"],[0.8888888888888888,\"#fdca26\"],[1.0,\"#f0f921\"]],\"type\":\"histogram2dcontour\"}],\"histogram2d\":[{\"colorbar\":{\"outlinewidth\":0,\"ticks\":\"\"},\"colorscale\":[[0.0,\"#0d0887\"],[0.1111111111111111,\"#46039f\"],[0.2222222222222222,\"#7201a8\"],[0.3333333333333333,\"#9c179e\"],[0.4444444444444444,\"#bd3786\"],[0.5555555555555556,\"#d8576b\"],[0.6666666666666666,\"#ed7953\"],[0.7777777777777778,\"#fb9f3a\"],[0.8888888888888888,\"#fdca26\"],[1.0,\"#f0f921\"]],\"type\":\"histogram2d\"}],\"histogram\":[{\"marker\":{\"pattern\":{\"fillmode\":\"overlay\",\"size\":10,\"solidity\":0.2}},\"type\":\"histogram\"}],\"mesh3d\":[{\"colorbar\":{\"outlinewidth\":0,\"ticks\":\"\"},\"type\":\"mesh3d\"}],\"parcoords\":[{\"line\":{\"colorbar\":{\"outlinewidth\":0,\"ticks\":\"\"}},\"type\":\"parcoords\"}],\"pie\":[{\"automargin\":true,\"type\":\"pie\"}],\"scatter3d\":[{\"line\":{\"colorbar\":{\"outlinewidth\":0,\"ticks\":\"\"}},\"marker\":{\"colorbar\":{\"outlinewidth\":0,\"ticks\":\"\"}},\"type\":\"scatter3d\"}],\"scattercarpet\":[{\"marker\":{\"colorbar\":{\"outlinewidth\":0,\"ticks\":\"\"}},\"type\":\"scattercarpet\"}],\"scattergeo\":[{\"marker\":{\"colorbar\":{\"outlinewidth\":0,\"ticks\":\"\"}},\"type\":\"scattergeo\"}],\"scattergl\":[{\"marker\":{\"colorbar\":{\"outlinewidth\":0,\"ticks\":\"\"}},\"type\":\"scattergl\"}],\"scattermapbox\":[{\"marker\":{\"colorbar\":{\"outlinewidth\":0,\"ticks\":\"\"}},\"type\":\"scattermapbox\"}],\"scatterpolargl\":[{\"marker\":{\"colorbar\":{\"outlinewidth\":0,\"ticks\":\"\"}},\"type\":\"scatterpolargl\"}],\"scatterpolar\":[{\"marker\":{\"colorbar\":{\"outlinewidth\":0,\"ticks\":\"\"}},\"type\":\"scatterpolar\"}],\"scatter\":[{\"fillpattern\":{\"fillmode\":\"overlay\",\"size\":10,\"solidity\":0.2},\"type\":\"scatter\"}],\"scatterternary\":[{\"marker\":{\"colorbar\":{\"outlinewidth\":0,\"ticks\":\"\"}},\"type\":\"scatterternary\"}],\"surface\":[{\"colorbar\":{\"outlinewidth\":0,\"ticks\":\"\"},\"colorscale\":[[0.0,\"#0d0887\"],[0.1111111111111111,\"#46039f\"],[0.2222222222222222,\"#7201a8\"],[0.3333333333333333,\"#9c179e\"],[0.4444444444444444,\"#bd3786\"],[0.5555555555555556,\"#d8576b\"],[0.6666666666666666,\"#ed7953\"],[0.7777777777777778,\"#fb9f3a\"],[0.8888888888888888,\"#fdca26\"],[1.0,\"#f0f921\"]],\"type\":\"surface\"}],\"table\":[{\"cells\":{\"fill\":{\"color\":\"#EBF0F8\"},\"line\":{\"color\":\"white\"}},\"header\":{\"fill\":{\"color\":\"#C8D4E3\"},\"line\":{\"color\":\"white\"}},\"type\":\"table\"}]},\"layout\":{\"annotationdefaults\":{\"arrowcolor\":\"#2a3f5f\",\"arrowhead\":0,\"arrowwidth\":1},\"autotypenumbers\":\"strict\",\"coloraxis\":{\"colorbar\":{\"outlinewidth\":0,\"ticks\":\"\"}},\"colorscale\":{\"diverging\":[[0,\"#8e0152\"],[0.1,\"#c51b7d\"],[0.2,\"#de77ae\"],[0.3,\"#f1b6da\"],[0.4,\"#fde0ef\"],[0.5,\"#f7f7f7\"],[0.6,\"#e6f5d0\"],[0.7,\"#b8e186\"],[0.8,\"#7fbc41\"],[0.9,\"#4d9221\"],[1,\"#276419\"]],\"sequential\":[[0.0,\"#0d0887\"],[0.1111111111111111,\"#46039f\"],[0.2222222222222222,\"#7201a8\"],[0.3333333333333333,\"#9c179e\"],[0.4444444444444444,\"#bd3786\"],[0.5555555555555556,\"#d8576b\"],[0.6666666666666666,\"#ed7953\"],[0.7777777777777778,\"#fb9f3a\"],[0.8888888888888888,\"#fdca26\"],[1.0,\"#f0f921\"]],\"sequentialminus\":[[0.0,\"#0d0887\"],[0.1111111111111111,\"#46039f\"],[0.2222222222222222,\"#7201a8\"],[0.3333333333333333,\"#9c179e\"],[0.4444444444444444,\"#bd3786\"],[0.5555555555555556,\"#d8576b\"],[0.6666666666666666,\"#ed7953\"],[0.7777777777777778,\"#fb9f3a\"],[0.8888888888888888,\"#fdca26\"],[1.0,\"#f0f921\"]]},\"colorway\":[\"#636efa\",\"#EF553B\",\"#00cc96\",\"#ab63fa\",\"#FFA15A\",\"#19d3f3\",\"#FF6692\",\"#B6E880\",\"#FF97FF\",\"#FECB52\"],\"font\":{\"color\":\"#2a3f5f\"},\"geo\":{\"bgcolor\":\"white\",\"lakecolor\":\"white\",\"landcolor\":\"#E5ECF6\",\"showlakes\":true,\"showland\":true,\"subunitcolor\":\"white\"},\"hoverlabel\":{\"align\":\"left\"},\"hovermode\":\"closest\",\"mapbox\":{\"style\":\"light\"},\"paper_bgcolor\":\"white\",\"plot_bgcolor\":\"#E5ECF6\",\"polar\":{\"angularaxis\":{\"gridcolor\":\"white\",\"linecolor\":\"white\",\"ticks\":\"\"},\"bgcolor\":\"#E5ECF6\",\"radialaxis\":{\"gridcolor\":\"white\",\"linecolor\":\"white\",\"ticks\":\"\"}},\"scene\":{\"xaxis\":{\"backgroundcolor\":\"#E5ECF6\",\"gridcolor\":\"white\",\"gridwidth\":2,\"linecolor\":\"white\",\"showbackground\":true,\"ticks\":\"\",\"zerolinecolor\":\"white\"},\"yaxis\":{\"backgroundcolor\":\"#E5ECF6\",\"gridcolor\":\"white\",\"gridwidth\":2,\"linecolor\":\"white\",\"showbackground\":true,\"ticks\":\"\",\"zerolinecolor\":\"white\"},\"zaxis\":{\"backgroundcolor\":\"#E5ECF6\",\"gridcolor\":\"white\",\"gridwidth\":2,\"linecolor\":\"white\",\"showbackground\":true,\"ticks\":\"\",\"zerolinecolor\":\"white\"}},\"shapedefaults\":{\"line\":{\"color\":\"#2a3f5f\"}},\"ternary\":{\"aaxis\":{\"gridcolor\":\"white\",\"linecolor\":\"white\",\"ticks\":\"\"},\"baxis\":{\"gridcolor\":\"white\",\"linecolor\":\"white\",\"ticks\":\"\"},\"bgcolor\":\"#E5ECF6\",\"caxis\":{\"gridcolor\":\"white\",\"linecolor\":\"white\",\"ticks\":\"\"}},\"title\":{\"x\":0.05},\"xaxis\":{\"automargin\":true,\"gridcolor\":\"white\",\"linecolor\":\"white\",\"ticks\":\"\",\"title\":{\"standoff\":15},\"zerolinecolor\":\"white\",\"zerolinewidth\":2},\"yaxis\":{\"automargin\":true,\"gridcolor\":\"white\",\"linecolor\":\"white\",\"ticks\":\"\",\"title\":{\"standoff\":15},\"zerolinecolor\":\"white\",\"zerolinewidth\":2}}},\"title\":{\"font\":{\"color\":\"#D9D9D9\"},\"text\":\"\\u041f\\u0440\\u043e\\u0433\\u043d\\u043e\\u0437 vs \\u0420\\u0435\\u0430\\u043b\\u044c\\u043d\\u044b\\u0435 \\u0437\\u043d\\u0430\\u0447\\u0435\\u043d\\u0438\\u044f\"},\"xaxis\":{\"gridcolor\":\"#434343\",\"showgrid\":true,\"tickfont\":{\"color\":\"#C2C2C2\"},\"title\":{\"font\":{\"color\":\"#D9D9D9\"},\"text\":\"\\u0412\\u0440\\u0435\\u043c\\u044f\"},\"zerolinecolor\":\"#666570\"},\"yaxis\":{\"gridcolor\":\"#434343\",\"showgrid\":true,\"tickfont\":{\"color\":\"#C2C2C2\"},\"title\":{\"font\":{\"color\":\"#D9D9D9\"},\"text\":\"\\u0417\\u043d\\u0430\\u0447\\u0435\\u043d\\u0438\\u0435\"},\"zerolinecolor\":\"#666570\"}},                        {\"showLink\": true, \"linkText\": \"Export to plot.ly\", \"plotlyServerURL\": \"https://plot.ly\", \"responsive\": true}                    ).then(function(){\n",
       "                            \n",
       "var gd = document.getElementById('331547fd-537d-4872-9892-c15e554c96e7');\n",
       "var x = new MutationObserver(function (mutations, observer) {{\n",
       "        var display = window.getComputedStyle(gd).display;\n",
       "        if (!display || display === 'none') {{\n",
       "            console.log([gd, 'removed!']);\n",
       "            Plotly.purge(gd);\n",
       "            observer.disconnect();\n",
       "        }}\n",
       "}});\n",
       "\n",
       "// Listen for the removal of the full notebook cells\n",
       "var notebookContainer = gd.closest('#notebook-container');\n",
       "if (notebookContainer) {{\n",
       "    x.observe(notebookContainer, {childList: true});\n",
       "}}\n",
       "\n",
       "// Listen for the clearing of the current output cell\n",
       "var outputEl = gd.closest('.output');\n",
       "if (outputEl) {{\n",
       "    x.observe(outputEl, {childList: true});\n",
       "}}\n",
       "\n",
       "                        })                };                });            </script>        </div>"
      ]
     },
     "metadata": {},
     "output_type": "display_data"
    }
   ],
   "source": [
    "gru_pred = gru_model.predict(X_test)\n",
    "gru_pred = target_transformer.inverse_transform(gru_pred)\n",
    "\n",
    "y_test = y_test.reshape(-1, 1)\n",
    "y_test = target_transformer.inverse_transform(y_test)\n",
    "\n",
    "\n",
    "gru_mape = mean_absolute_percentage_error(y_test, gru_pred)\n",
    "gru_mae = mean_absolute_error(y_test, gru_pred)\n",
    "print(f\"MAPE: {gru_mape} %\")\n",
    "print(f\"MAE: {gru_mae}\")\n",
    "\n",
    "df_test = pd.DataFrame({\n",
    "    'Y_test': y_test.ravel(),\n",
    "    'Predictions': gru_pred.ravel()\n",
    "})\n",
    "# Отобразить на графике\n",
    "df_test.iplot(title=\"Прогноз vs Реальные значения\", xTitle=\"Время\", yTitle=\"Значение\", theme=\"solar\")"
   ]
  },
  {
   "cell_type": "code",
   "execution_count": 63,
   "metadata": {},
   "outputs": [
    {
     "data": {
      "text/html": [
       "<div>\n",
       "<style scoped>\n",
       "    .dataframe tbody tr th:only-of-type {\n",
       "        vertical-align: middle;\n",
       "    }\n",
       "\n",
       "    .dataframe tbody tr th {\n",
       "        vertical-align: top;\n",
       "    }\n",
       "\n",
       "    .dataframe thead th {\n",
       "        text-align: right;\n",
       "    }\n",
       "</style>\n",
       "<table border=\"1\" class=\"dataframe\">\n",
       "  <thead>\n",
       "    <tr style=\"text-align: right;\">\n",
       "      <th></th>\n",
       "      <th>SimpleRNN</th>\n",
       "      <th>LSTM</th>\n",
       "      <th>GRU</th>\n",
       "    </tr>\n",
       "  </thead>\n",
       "  <tbody>\n",
       "    <tr>\n",
       "      <th>MAPE</th>\n",
       "      <td>4.641917</td>\n",
       "      <td>4.783141</td>\n",
       "      <td>4.584658</td>\n",
       "    </tr>\n",
       "    <tr>\n",
       "      <th>MAE</th>\n",
       "      <td>1.254220</td>\n",
       "      <td>1.279938</td>\n",
       "      <td>1.236946</td>\n",
       "    </tr>\n",
       "  </tbody>\n",
       "</table>\n",
       "</div>"
      ],
      "text/plain": [
       "      SimpleRNN      LSTM      GRU \n",
       "MAPE   4.641917  4.783141  4.584658\n",
       "MAE    1.254220  1.279938  1.236946"
      ]
     },
     "execution_count": 63,
     "metadata": {},
     "output_type": "execute_result"
    }
   ],
   "source": [
    "dl_compare_without_mech = {\n",
    "        'SimpleRNN': [rnn_mape, rnn_mae], \n",
    "        'LSTM': [lstm_mape, lstm_mae],\n",
    "        'GRU ': [gru_mape,gru_mae]\n",
    "            }\n",
    "dl_compare_without_mech = pd.DataFrame(dl_compare_without_mech,index=['MAPE','MAE'])\n",
    "dl_compare_without_mech.head()"
   ]
  },
  {
   "cell_type": "markdown",
   "metadata": {},
   "source": [
    "## Вариант с исходной моделью и механизмом внимания"
   ]
  },
  {
   "cell_type": "code",
   "execution_count": 64,
   "metadata": {},
   "outputs": [
    {
     "name": "stdout",
     "output_type": "stream",
     "text": [
      "Epoch 1/100\n",
      "116/116 [==============================] - 14s 79ms/step - loss: 0.2004 - val_loss: 0.0798\n",
      "Epoch 2/100\n",
      "116/116 [==============================] - 10s 84ms/step - loss: 0.0704 - val_loss: 0.0598\n",
      "Epoch 3/100\n",
      "116/116 [==============================] - 9s 81ms/step - loss: 0.0645 - val_loss: 0.0758\n",
      "Epoch 4/100\n",
      "116/116 [==============================] - 7s 60ms/step - loss: 0.0659 - val_loss: 0.0593\n",
      "Epoch 5/100\n",
      "116/116 [==============================] - 8s 70ms/step - loss: 0.0606 - val_loss: 0.0603\n",
      "Epoch 6/100\n",
      "116/116 [==============================] - 8s 69ms/step - loss: 0.0585 - val_loss: 0.0581\n",
      "Epoch 7/100\n",
      "116/116 [==============================] - 8s 68ms/step - loss: 0.0567 - val_loss: 0.0606\n",
      "Epoch 8/100\n",
      "116/116 [==============================] - 7s 64ms/step - loss: 0.0558 - val_loss: 0.0596\n",
      "Epoch 9/100\n",
      "116/116 [==============================] - 8s 73ms/step - loss: 0.0583 - val_loss: 0.0545\n",
      "Epoch 10/100\n",
      "116/116 [==============================] - 7s 63ms/step - loss: 0.0558 - val_loss: 0.0532\n",
      "Epoch 11/100\n",
      "116/116 [==============================] - 8s 66ms/step - loss: 0.0550 - val_loss: 0.1003\n",
      "Epoch 12/100\n",
      "116/116 [==============================] - 9s 74ms/step - loss: 0.0557 - val_loss: 0.0513\n",
      "Epoch 13/100\n",
      "116/116 [==============================] - 10s 87ms/step - loss: 0.0517 - val_loss: 0.0668\n",
      "Epoch 14/100\n",
      "116/116 [==============================] - 8s 68ms/step - loss: 0.0545 - val_loss: 0.0522\n",
      "Epoch 15/100\n",
      "116/116 [==============================] - 7s 62ms/step - loss: 0.0513 - val_loss: 0.0530\n",
      "Epoch 16/100\n",
      "116/116 [==============================] - 9s 74ms/step - loss: 0.0501 - val_loss: 0.0505\n",
      "Epoch 17/100\n",
      "116/116 [==============================] - 10s 85ms/step - loss: 0.0487 - val_loss: 0.0514\n",
      "Epoch 18/100\n",
      "116/116 [==============================] - 10s 86ms/step - loss: 0.0492 - val_loss: 0.0511\n",
      "Epoch 19/100\n",
      "116/116 [==============================] - 8s 65ms/step - loss: 0.0505 - val_loss: 0.0490\n",
      "Epoch 20/100\n",
      "116/116 [==============================] - 8s 65ms/step - loss: 0.0498 - val_loss: 0.0472\n",
      "Epoch 21/100\n",
      "116/116 [==============================] - 9s 79ms/step - loss: 0.0484 - val_loss: 0.0501\n",
      "Epoch 22/100\n",
      "116/116 [==============================] - 9s 77ms/step - loss: 0.0470 - val_loss: 0.0531\n",
      "Epoch 23/100\n",
      "116/116 [==============================] - 7s 63ms/step - loss: 0.0470 - val_loss: 0.0448\n",
      "Epoch 24/100\n",
      "116/116 [==============================] - 8s 68ms/step - loss: 0.0471 - val_loss: 0.0481\n",
      "Epoch 25/100\n",
      "116/116 [==============================] - 8s 68ms/step - loss: 0.0459 - val_loss: 0.0445\n",
      "Epoch 26/100\n",
      "116/116 [==============================] - 9s 80ms/step - loss: 0.0446 - val_loss: 0.0500\n",
      "Epoch 27/100\n",
      "116/116 [==============================] - 10s 85ms/step - loss: 0.0463 - val_loss: 0.0485\n",
      "Epoch 28/100\n",
      "116/116 [==============================] - 7s 64ms/step - loss: 0.0437 - val_loss: 0.0448\n",
      "Epoch 29/100\n",
      "116/116 [==============================] - 9s 80ms/step - loss: 0.0430 - val_loss: 0.0446\n",
      "Epoch 30/100\n",
      "116/116 [==============================] - 10s 83ms/step - loss: 0.0427 - val_loss: 0.0449\n",
      "Epoch 31/100\n",
      "116/116 [==============================] - 8s 66ms/step - loss: 0.0440 - val_loss: 0.0472\n",
      "Epoch 32/100\n",
      "116/116 [==============================] - 9s 77ms/step - loss: 0.0440 - val_loss: 0.0433\n",
      "Epoch 33/100\n",
      "116/116 [==============================] - 10s 85ms/step - loss: 0.0436 - val_loss: 0.0425\n",
      "Epoch 34/100\n",
      "116/116 [==============================] - 9s 75ms/step - loss: 0.0429 - val_loss: 0.0441\n",
      "Epoch 35/100\n",
      "116/116 [==============================] - 8s 67ms/step - loss: 0.0417 - val_loss: 0.0431\n",
      "Epoch 36/100\n",
      "116/116 [==============================] - 9s 78ms/step - loss: 0.0420 - val_loss: 0.0421\n",
      "Epoch 37/100\n",
      "116/116 [==============================] - 8s 69ms/step - loss: 0.0405 - val_loss: 0.0437\n",
      "Epoch 38/100\n",
      "116/116 [==============================] - 9s 75ms/step - loss: 0.0417 - val_loss: 0.0407\n",
      "Epoch 39/100\n",
      "116/116 [==============================] - 10s 86ms/step - loss: 0.0408 - val_loss: 0.0461\n",
      "Epoch 40/100\n",
      "116/116 [==============================] - 8s 65ms/step - loss: 0.0418 - val_loss: 0.0432\n",
      "Epoch 41/100\n",
      "116/116 [==============================] - 7s 64ms/step - loss: 0.0410 - val_loss: 0.0439\n",
      "Epoch 42/100\n",
      "116/116 [==============================] - 9s 79ms/step - loss: 0.0396 - val_loss: 0.0419\n",
      "Epoch 43/100\n",
      "116/116 [==============================] - 9s 76ms/step - loss: 0.0405 - val_loss: 0.0445\n",
      "Epoch 44/100\n",
      "116/116 [==============================] - 7s 62ms/step - loss: 0.0425 - val_loss: 0.0447\n",
      "Epoch 45/100\n",
      "116/116 [==============================] - 9s 77ms/step - loss: 0.0394 - val_loss: 0.0399\n",
      "Epoch 46/100\n",
      "116/116 [==============================] - 8s 67ms/step - loss: 0.0389 - val_loss: 0.0395\n",
      "Epoch 47/100\n",
      "116/116 [==============================] - 9s 81ms/step - loss: 0.0405 - val_loss: 0.0494\n",
      "Epoch 48/100\n",
      "116/116 [==============================] - 11s 96ms/step - loss: 0.0405 - val_loss: 0.0415\n",
      "Epoch 49/100\n",
      "116/116 [==============================] - 10s 84ms/step - loss: 0.0391 - val_loss: 0.0422\n",
      "Epoch 50/100\n",
      "116/116 [==============================] - 8s 65ms/step - loss: 0.0382 - val_loss: 0.0412\n",
      "Epoch 51/100\n",
      "116/116 [==============================] - 8s 67ms/step - loss: 0.0415 - val_loss: 0.0423\n",
      "Epoch 52/100\n",
      "116/116 [==============================] - 9s 75ms/step - loss: 0.0401 - val_loss: 0.0397\n",
      "Epoch 53/100\n",
      "116/116 [==============================] - 10s 88ms/step - loss: 0.0393 - val_loss: 0.0409\n",
      "Epoch 54/100\n",
      "116/116 [==============================] - 13s 110ms/step - loss: 0.0385 - val_loss: 0.0466\n",
      "Epoch 55/100\n",
      "116/116 [==============================] - 11s 95ms/step - loss: 0.0386 - val_loss: 0.0394\n",
      "Epoch 56/100\n",
      "116/116 [==============================] - 9s 80ms/step - loss: 0.0401 - val_loss: 0.0395\n",
      "Epoch 57/100\n",
      "116/116 [==============================] - 10s 87ms/step - loss: 0.0398 - val_loss: 0.0431\n",
      "Epoch 58/100\n",
      "116/116 [==============================] - 10s 87ms/step - loss: 0.0385 - val_loss: 0.0403\n",
      "Epoch 59/100\n",
      "116/116 [==============================] - 7s 62ms/step - loss: 0.0384 - val_loss: 0.0400\n",
      "Epoch 60/100\n",
      "116/116 [==============================] - 7s 63ms/step - loss: 0.0381 - val_loss: 0.0420\n",
      "Epoch 61/100\n",
      "116/116 [==============================] - 8s 70ms/step - loss: 0.0387 - val_loss: 0.0392\n",
      "Epoch 62/100\n",
      "116/116 [==============================] - 10s 83ms/step - loss: 0.0384 - val_loss: 0.0458\n",
      "Epoch 63/100\n",
      "116/116 [==============================] - 10s 88ms/step - loss: 0.0393 - val_loss: 0.0400\n",
      "Epoch 64/100\n",
      "116/116 [==============================] - 10s 88ms/step - loss: 0.0378 - val_loss: 0.0406\n",
      "Epoch 65/100\n",
      "116/116 [==============================] - 10s 86ms/step - loss: 0.0378 - val_loss: 0.0403\n",
      "Epoch 66/100\n",
      "116/116 [==============================] - 8s 70ms/step - loss: 0.0389 - val_loss: 0.0402\n",
      "Epoch 67/100\n",
      "116/116 [==============================] - 8s 73ms/step - loss: 0.0378 - val_loss: 0.0406\n",
      "Epoch 68/100\n",
      "116/116 [==============================] - 8s 66ms/step - loss: 0.0375 - val_loss: 0.0594\n",
      "Epoch 69/100\n",
      "116/116 [==============================] - 8s 67ms/step - loss: 0.0391 - val_loss: 0.0419\n",
      "Epoch 70/100\n",
      "116/116 [==============================] - 7s 59ms/step - loss: 0.0370 - val_loss: 0.0395\n",
      "Epoch 71/100\n",
      "116/116 [==============================] - 8s 71ms/step - loss: 0.0371 - val_loss: 0.0468\n",
      "9/9 [==============================] - 0s 23ms/step - loss: 0.0392\n",
      "Validation Loss: 0.03918185085058212\n"
     ]
    }
   ],
   "source": [
    "look_back = 10 \n",
    "X_train, y_train = create_dataset(dl_train, dl_train['meantemp'], look_back)\n",
    "X_test, y_test = create_dataset(dl_test, dl_test['meantemp'], look_back)\n",
    "\n",
    "gru_model_a = Sequential()\n",
    "\n",
    "gru_model_a.add(GRU(94, activation='relu', input_shape=(look_back, X_train.shape[2]), return_sequences=True))\n",
    "gru_model_a.add(GRU(100, activation='relu', return_sequences=True))\n",
    "gru_model_a.add(Dropout(0.2)),\n",
    "gru_model_a.add(AttentionMechanism(return_sequences=True)),\n",
    "gru_model_a.add(GRU(14, activation='relu'))\n",
    "gru_model_a.add(Dense(1))\n",
    "gru_model_a.compile(optimizer='adam', loss='mean_absolute_error')\n",
    "\n",
    "early_stopping = EarlyStopping(monitor='val_loss', patience=10, restore_best_weights=True)\n",
    "history = gru_model_a.fit(X_train, y_train, epochs=100, validation_data=(X_test, y_test), batch_size=10, callbacks=[early_stopping])\n",
    "\n",
    "loss = gru_model_a.evaluate(X_test, y_test)\n",
    "print(f'Validation Loss: {loss}')"
   ]
  },
  {
   "cell_type": "code",
   "execution_count": 65,
   "metadata": {},
   "outputs": [
    {
     "name": "stdout",
     "output_type": "stream",
     "text": [
      "9/9 [==============================] - 0s 9ms/step\n",
      "MAPE: 4.686335126252312 %\n",
      "MAE: 1.281806391977061\n"
     ]
    },
    {
     "data": {
      "application/vnd.plotly.v1+json": {
       "config": {
        "linkText": "Export to plot.ly",
        "plotlyServerURL": "https://plot.ly",
        "showLink": true
       },
       "data": [
        {
         "line": {
          "color": "rgba(255, 153, 51, 1.0)",
          "dash": "solid",
          "shape": "linear",
          "width": 1.3
         },
         "mode": "lines",
         "name": "Y_test",
         "text": "",
         "type": "scatter",
         "x": [
          0,
          1,
          2,
          3,
          4,
          5,
          6,
          7,
          8,
          9,
          10,
          11,
          12,
          13,
          14,
          15,
          16,
          17,
          18,
          19,
          20,
          21,
          22,
          23,
          24,
          25,
          26,
          27,
          28,
          29,
          30,
          31,
          32,
          33,
          34,
          35,
          36,
          37,
          38,
          39,
          40,
          41,
          42,
          43,
          44,
          45,
          46,
          47,
          48,
          49,
          50,
          51,
          52,
          53,
          54,
          55,
          56,
          57,
          58,
          59,
          60,
          61,
          62,
          63,
          64,
          65,
          66,
          67,
          68,
          69,
          70,
          71,
          72,
          73,
          74,
          75,
          76,
          77,
          78,
          79,
          80,
          81,
          82,
          83,
          84,
          85,
          86,
          87,
          88,
          89,
          90,
          91,
          92,
          93,
          94,
          95,
          96,
          97,
          98,
          99,
          100,
          101,
          102,
          103,
          104,
          105,
          106,
          107,
          108,
          109,
          110,
          111,
          112,
          113,
          114,
          115,
          116,
          117,
          118,
          119,
          120,
          121,
          122,
          123,
          124,
          125,
          126,
          127,
          128,
          129,
          130,
          131,
          132,
          133,
          134,
          135,
          136,
          137,
          138,
          139,
          140,
          141,
          142,
          143,
          144,
          145,
          146,
          147,
          148,
          149,
          150,
          151,
          152,
          153,
          154,
          155,
          156,
          157,
          158,
          159,
          160,
          161,
          162,
          163,
          164,
          165,
          166,
          167,
          168,
          169,
          170,
          171,
          172,
          173,
          174,
          175,
          176,
          177,
          178,
          179,
          180,
          181,
          182,
          183,
          184,
          185,
          186,
          187,
          188,
          189,
          190,
          191,
          192,
          193,
          194,
          195,
          196,
          197,
          198,
          199,
          200,
          201,
          202,
          203,
          204,
          205,
          206,
          207,
          208,
          209,
          210,
          211,
          212,
          213,
          214,
          215,
          216,
          217,
          218,
          219,
          220,
          221,
          222,
          223,
          224,
          225,
          226,
          227,
          228,
          229,
          230,
          231,
          232,
          233,
          234,
          235,
          236,
          237,
          238,
          239,
          240,
          241,
          242,
          243,
          244,
          245,
          246,
          247,
          248,
          249,
          250,
          251,
          252,
          253,
          254,
          255,
          256,
          257,
          258,
          259,
          260,
          261,
          262,
          263,
          264,
          265,
          266,
          267,
          268,
          269,
          270,
          271,
          272,
          273,
          274,
          275,
          276,
          277,
          278,
          279,
          280,
          281,
          282
         ],
         "y": [
          29.875,
          24.666666666666668,
          26.25,
          25.93333333333333,
          27.125,
          29.571428571428573,
          30,
          30.571428571428573,
          32.3125,
          33.3125,
          32.8125,
          32.3125,
          31.375,
          29.933333333333334,
          29.266666666666666,
          30.73333333333333,
          32.25,
          29.8,
          30.2,
          31.75,
          33.125,
          33.625,
          35.6875,
          34.666666666666664,
          34.625,
          34,
          34.0625,
          34,
          33.25,
          31.916666666666668,
          31.3125,
          31.75,
          33.4375,
          33.125,
          34.15384615384615,
          34.07142857142857,
          33.0625,
          34.6875,
          38,
          35.49999999999999,
          33.714285714285715,
          30.6,
          31.4375,
          33.3125,
          35.13333333333333,
          33.53333333333333,
          34,
          32.5,
          35.375,
          37.294117647058826,
          36.5625,
          37.25,
          37.21428571428572,
          37.5,
          37.75,
          37.375,
          37.4,
          36.13333333333333,
          36.8,
          32.214285714285715,
          31.526315789473685,
          33.21739130434783,
          35.26923076923077,
          38.27272727272727,
          36.0625,
          31.5,
          26.8125,
          32.642857142857146,
          36,
          37.5625,
          37.5625,
          38.2,
          36.16666666666666,
          35.42857142857143,
          34.625,
          36.07142857142857,
          35.733333333333334,
          36.13333333333333,
          33.4375,
          35.49999999999999,
          36,
          32.625,
          34.733333333333334,
          33.5,
          34.1875,
          35.857142857142854,
          35.625,
          30.9375,
          32.875,
          33.125,
          33.84615384615385,
          36.4375,
          35.42857142857143,
          34.86666666666667,
          34.3125,
          30.785714285714285,
          35.375,
          35.46666666666667,
          32.125,
          28.4,
          29.5625,
          30.6875,
          33.25,
          33.266666666666666,
          33.5,
          30.8,
          33.25,
          32.5625,
          31.5,
          30.5,
          31.25,
          30.4375,
          31,
          27.125,
          28.125,
          27.666666666666668,
          32.3125,
          34.1875,
          34.13333333333333,
          34.125,
          31.875,
          31.4375,
          31.9375,
          30.3125,
          28.3125,
          29.53333333333333,
          27.375,
          27.33333333333333,
          29.266666666666666,
          29.125,
          30.6875,
          32.5625,
          33.111111111111114,
          33.8,
          30.066666666666663,
          33.11764705882353,
          33.80952380952381,
          31.615384615384617,
          32,
          28.107142857142858,
          29.035714285714285,
          30.321428571428573,
          28.933333333333334,
          31.678571428571427,
          31.33333333333333,
          29.928571428571427,
          29.88888888888889,
          32.07142857142857,
          33.18518518518518,
          31.59259259259259,
          32.18518518518518,
          31.48,
          30.178571428571427,
          31.52,
          31.22222222222222,
          31.785714285714285,
          33.4,
          29.571428571428573,
          30.04,
          27.25925925925926,
          27.96,
          30.73913043478261,
          30.894736842105264,
          31.692307692307693,
          31.07692307692308,
          30.375,
          31.1,
          31.916666666666668,
          30.55555555555556,
          31.23076923076923,
          31,
          31.642857142857142,
          32.53333333333333,
          30.857142857142858,
          31.727272727272727,
          31.4,
          32.30769230769231,
          32.25,
          32.375,
          33.44444444444444,
          33.36,
          30.03703703703704,
          31,
          31.24,
          31.130434782608692,
          31.48,
          32.18518518518518,
          32.44,
          32.22727272727273,
          32.214285714285715,
          32.541666666666664,
          32.81481481481482,
          33.26923076923077,
          30.55555555555556,
          28.83333333333333,
          30.703703703703702,
          30.96,
          30.6,
          30.92,
          29.77777777777778,
          29.666666666666668,
          29.571428571428573,
          29.96296296296296,
          29.75,
          27.74074074074074,
          28.428571428571427,
          28.6,
          28.5,
          28.925925925925927,
          29.07692307692308,
          28.40909090909091,
          29.33333333333333,
          27.5,
          28.5,
          28.04,
          27.57692307692308,
          26.55555555555556,
          25.51851851851852,
          25.814814814814813,
          24.82608695652174,
          24.53846153846154,
          24.384615384615383,
          23.727272727272727,
          25.64,
          24.814814814814813,
          23.115384615384617,
          22.925925925925927,
          24.545454545454547,
          23.73076923076923,
          23,
          23.51851851851852,
          23.92,
          23.53846153846154,
          24.296296296296298,
          23.346153846153847,
          22.24,
          21.769230769230774,
          21.73076923076923,
          21.73076923076923,
          20.666666666666668,
          22.25,
          21.53846153846154,
          22.57894736842105,
          22.82608695652174,
          21.42105263157895,
          23.6,
          24.294117647058822,
          23.63636363636364,
          22.454545454545453,
          21.61111111111111,
          19.869565217391305,
          19.75,
          19.20833333333333,
          21.20833333333333,
          18.9,
          18.63636363636364,
          18.53846153846154,
          18.25,
          16.9,
          19.416666666666668,
          16.444444444444443,
          20.041666666666668,
          19.90909090909091,
          19.05,
          18.55555555555556,
          18.166666666666668,
          15.833333333333334,
          17.5,
          16.083333333333332,
          17.857142857142858,
          19.8,
          18.05,
          17.285714285714285,
          15.550000000000002,
          17.318181818181817,
          14,
          17.142857142857142,
          16.85,
          17.217391304347824,
          15.238095238095237,
          14.095238095238097,
          15.05263157894737,
          10
         ]
        },
        {
         "line": {
          "color": "rgba(55, 128, 191, 1.0)",
          "dash": "solid",
          "shape": "linear",
          "width": 1.3
         },
         "mode": "lines",
         "name": "Predictions",
         "text": "",
         "type": "scatter",
         "x": [
          0,
          1,
          2,
          3,
          4,
          5,
          6,
          7,
          8,
          9,
          10,
          11,
          12,
          13,
          14,
          15,
          16,
          17,
          18,
          19,
          20,
          21,
          22,
          23,
          24,
          25,
          26,
          27,
          28,
          29,
          30,
          31,
          32,
          33,
          34,
          35,
          36,
          37,
          38,
          39,
          40,
          41,
          42,
          43,
          44,
          45,
          46,
          47,
          48,
          49,
          50,
          51,
          52,
          53,
          54,
          55,
          56,
          57,
          58,
          59,
          60,
          61,
          62,
          63,
          64,
          65,
          66,
          67,
          68,
          69,
          70,
          71,
          72,
          73,
          74,
          75,
          76,
          77,
          78,
          79,
          80,
          81,
          82,
          83,
          84,
          85,
          86,
          87,
          88,
          89,
          90,
          91,
          92,
          93,
          94,
          95,
          96,
          97,
          98,
          99,
          100,
          101,
          102,
          103,
          104,
          105,
          106,
          107,
          108,
          109,
          110,
          111,
          112,
          113,
          114,
          115,
          116,
          117,
          118,
          119,
          120,
          121,
          122,
          123,
          124,
          125,
          126,
          127,
          128,
          129,
          130,
          131,
          132,
          133,
          134,
          135,
          136,
          137,
          138,
          139,
          140,
          141,
          142,
          143,
          144,
          145,
          146,
          147,
          148,
          149,
          150,
          151,
          152,
          153,
          154,
          155,
          156,
          157,
          158,
          159,
          160,
          161,
          162,
          163,
          164,
          165,
          166,
          167,
          168,
          169,
          170,
          171,
          172,
          173,
          174,
          175,
          176,
          177,
          178,
          179,
          180,
          181,
          182,
          183,
          184,
          185,
          186,
          187,
          188,
          189,
          190,
          191,
          192,
          193,
          194,
          195,
          196,
          197,
          198,
          199,
          200,
          201,
          202,
          203,
          204,
          205,
          206,
          207,
          208,
          209,
          210,
          211,
          212,
          213,
          214,
          215,
          216,
          217,
          218,
          219,
          220,
          221,
          222,
          223,
          224,
          225,
          226,
          227,
          228,
          229,
          230,
          231,
          232,
          233,
          234,
          235,
          236,
          237,
          238,
          239,
          240,
          241,
          242,
          243,
          244,
          245,
          246,
          247,
          248,
          249,
          250,
          251,
          252,
          253,
          254,
          255,
          256,
          257,
          258,
          259,
          260,
          261,
          262,
          263,
          264,
          265,
          266,
          267,
          268,
          269,
          270,
          271,
          272,
          273,
          274,
          275,
          276,
          277,
          278,
          279,
          280,
          281,
          282
         ],
         "y": [
          27.82303237915039,
          28.876590728759766,
          25.75647735595703,
          27.052453994750977,
          26.88519859313965,
          27.495494842529297,
          29.06447982788086,
          29.59136390686035,
          29.918039321899414,
          31.307029724121094,
          31.785091400146484,
          31.97382354736328,
          32.29708480834961,
          31.76882553100586,
          30.576290130615234,
          30.76142120361328,
          31.128934860229492,
          32.493202209472656,
          30.85562515258789,
          30.912059783935547,
          31.985645294189453,
          33.50952911376953,
          33.64253616333008,
          34.68791580200195,
          34.53091049194336,
          34.3312873840332,
          33.81391525268555,
          33.99033737182617,
          34.50761795043945,
          34.42576599121094,
          32.81140899658203,
          33.27158737182617,
          33.32083511352539,
          33.76079177856445,
          33.29302215576172,
          33.975059509277344,
          34.620758056640625,
          33.85908126831055,
          34.22426223754883,
          36.01470184326172,
          35.0392951965332,
          33.83373260498047,
          32.15282440185547,
          32.59912872314453,
          33.44212341308594,
          34.16546630859375,
          33.11589813232422,
          34.23778533935547,
          33.02633285522461,
          34.294281005859375,
          35.63376235961914,
          35.49930191040039,
          35.772560119628906,
          36.09416580200195,
          36.49725341796875,
          36.64931869506836,
          35.86000442504883,
          35.69794464111328,
          35.11570358276367,
          35.801002502441406,
          33.10382843017578,
          32.93645477294922,
          33.45059585571289,
          34.2250862121582,
          36.25696563720703,
          35.176055908203125,
          32.032745361328125,
          28.92642593383789,
          32.3821907043457,
          34.567710876464844,
          35.5973014831543,
          35.87272262573242,
          35.95256805419922,
          34.875667572021484,
          34.8328857421875,
          33.07107925415039,
          34.75905227661133,
          34.808448791503906,
          35.21033477783203,
          33.798744201660156,
          34.880226135253906,
          34.87334442138672,
          32.840614318847656,
          33.86296844482422,
          33.1190299987793,
          33.589107513427734,
          34.24522399902344,
          34.368465423583984,
          31.22044563293457,
          32.62015151977539,
          33.03396224975586,
          33.52058410644531,
          34.712860107421875,
          34.0326042175293,
          33.82204055786133,
          33.46645736694336,
          31.431961059570312,
          33.428253173828125,
          34.201438903808594,
          31.963220596313477,
          30.152557373046875,
          30.95771598815918,
          31.14771842956543,
          32.24715805053711,
          32.35224914550781,
          32.49369812011719,
          30.940567016601562,
          32.280029296875,
          32.202423095703125,
          31.146453857421875,
          30.72161865234375,
          31.28354835510254,
          30.99611473083496,
          31.19012451171875,
          28.961532592773438,
          29.313169479370117,
          28.9262638092041,
          31.03938865661621,
          32.25526428222656,
          32.252662658691406,
          32.47218704223633,
          31.13836097717285,
          31.185787200927734,
          31.497217178344727,
          30.28509521484375,
          29.427120208740234,
          30.339920043945312,
          29.03762435913086,
          28.76816177368164,
          29.520214080810547,
          29.18398666381836,
          30.05898666381836,
          31.213563919067383,
          31.495716094970703,
          32.142696380615234,
          29.995838165283203,
          31.65254020690918,
          32.522193908691406,
          31.23984718322754,
          31.223758697509766,
          28.942096710205078,
          30.14647674560547,
          30.941646575927734,
          29.675189971923828,
          30.939876556396484,
          30.940279006958008,
          30.220563888549805,
          29.925077438354492,
          31.142562866210938,
          31.51412010192871,
          31.008033752441406,
          31.394485473632812,
          30.97552490234375,
          30.186843872070312,
          31.299999237060547,
          31.129911422729492,
          31.305269241333008,
          32.3682746887207,
          30.267900466918945,
          30.474897384643555,
          28.937620162963867,
          29.42986297607422,
          30.472705841064453,
          30.76202392578125,
          30.91775131225586,
          30.28226661682129,
          30.240079879760742,
          30.482933044433594,
          30.864776611328125,
          30.205059051513672,
          30.338905334472656,
          30.772626876831055,
          31.016542434692383,
          31.6673641204834,
          30.69264030456543,
          31.25444793701172,
          31.775606155395508,
          32.00230026245117,
          31.716007232666016,
          32.74203872680664,
          32.86350631713867,
          32.50726318359375,
          30.62034034729004,
          31.101505279541016,
          31.232189178466797,
          31.23601722717285,
          31.232603073120117,
          31.5689697265625,
          31.53040885925293,
          31.26938819885254,
          31.38336753845215,
          31.283788681030273,
          31.4754695892334,
          31.909807205200195,
          30.40117073059082,
          29.615196228027344,
          30.425893783569336,
          30.755109786987305,
          31.259687423706055,
          30.873136520385742,
          30.325838088989258,
          30.051372528076172,
          30.205472946166992,
          30.366201400756836,
          30.117650985717773,
          28.711706161499023,
          29.196483612060547,
          29.182567596435547,
          29.06279182434082,
          29.23801040649414,
          29.224899291992188,
          28.860443115234375,
          29.23103141784668,
          28.11762809753418,
          28.448328018188477,
          27.992610931396484,
          28.114036560058594,
          27.575092315673828,
          27.041799545288086,
          27.032733917236328,
          25.723655700683594,
          25.452699661254883,
          24.971540451049805,
          24.051679611206055,
          24.736997604370117,
          24.106056213378906,
          22.730579376220703,
          22.833398818969727,
          23.620851516723633,
          23.29671859741211,
          23.167125701904297,
          23.30318832397461,
          23.20341682434082,
          22.972209930419922,
          23.497791290283203,
          22.98333740234375,
          22.056060791015625,
          21.748870849609375,
          21.692461013793945,
          21.517690658569336,
          20.766952514648438,
          21.379154205322266,
          21.09018325805664,
          21.892953872680664,
          22.35224151611328,
          21.403352737426758,
          22.950895309448242,
          24.18327522277832,
          24.363239288330078,
          23.70503044128418,
          22.57345199584961,
          20.478397369384766,
          20.799724578857422,
          20.55943489074707,
          21.73431396484375,
          19.98154067993164,
          19.281641006469727,
          18.893856048583984,
          18.741722106933594,
          17.982568740844727,
          19.188011169433594,
          17.092924118041992,
          19.80675506591797,
          20.494632720947266,
          19.30927276611328,
          18.658388137817383,
          18.382543563842773,
          16.850969314575195,
          17.242273330688477,
          17.079008102416992,
          18.124988555908203,
          18.844623565673828,
          17.930805206298828,
          17.044591903686523,
          16.29535675048828,
          16.73091697692871,
          15.0208101272583,
          17.100038528442383,
          17.35004997253418,
          17.564529418945312,
          15.928496360778809,
          14.953309059143066,
          15.879560470581055
         ]
        }
       ],
       "layout": {
        "legend": {
         "bgcolor": "#151516",
         "font": {
          "color": "#D9D9D9"
         }
        },
        "paper_bgcolor": "#151516",
        "plot_bgcolor": "#151516",
        "template": {
         "data": {
          "bar": [
           {
            "error_x": {
             "color": "#2a3f5f"
            },
            "error_y": {
             "color": "#2a3f5f"
            },
            "marker": {
             "line": {
              "color": "#E5ECF6",
              "width": 0.5
             },
             "pattern": {
              "fillmode": "overlay",
              "size": 10,
              "solidity": 0.2
             }
            },
            "type": "bar"
           }
          ],
          "barpolar": [
           {
            "marker": {
             "line": {
              "color": "#E5ECF6",
              "width": 0.5
             },
             "pattern": {
              "fillmode": "overlay",
              "size": 10,
              "solidity": 0.2
             }
            },
            "type": "barpolar"
           }
          ],
          "carpet": [
           {
            "aaxis": {
             "endlinecolor": "#2a3f5f",
             "gridcolor": "white",
             "linecolor": "white",
             "minorgridcolor": "white",
             "startlinecolor": "#2a3f5f"
            },
            "baxis": {
             "endlinecolor": "#2a3f5f",
             "gridcolor": "white",
             "linecolor": "white",
             "minorgridcolor": "white",
             "startlinecolor": "#2a3f5f"
            },
            "type": "carpet"
           }
          ],
          "choropleth": [
           {
            "colorbar": {
             "outlinewidth": 0,
             "ticks": ""
            },
            "type": "choropleth"
           }
          ],
          "contour": [
           {
            "colorbar": {
             "outlinewidth": 0,
             "ticks": ""
            },
            "colorscale": [
             [
              0,
              "#0d0887"
             ],
             [
              0.1111111111111111,
              "#46039f"
             ],
             [
              0.2222222222222222,
              "#7201a8"
             ],
             [
              0.3333333333333333,
              "#9c179e"
             ],
             [
              0.4444444444444444,
              "#bd3786"
             ],
             [
              0.5555555555555556,
              "#d8576b"
             ],
             [
              0.6666666666666666,
              "#ed7953"
             ],
             [
              0.7777777777777778,
              "#fb9f3a"
             ],
             [
              0.8888888888888888,
              "#fdca26"
             ],
             [
              1,
              "#f0f921"
             ]
            ],
            "type": "contour"
           }
          ],
          "contourcarpet": [
           {
            "colorbar": {
             "outlinewidth": 0,
             "ticks": ""
            },
            "type": "contourcarpet"
           }
          ],
          "heatmap": [
           {
            "colorbar": {
             "outlinewidth": 0,
             "ticks": ""
            },
            "colorscale": [
             [
              0,
              "#0d0887"
             ],
             [
              0.1111111111111111,
              "#46039f"
             ],
             [
              0.2222222222222222,
              "#7201a8"
             ],
             [
              0.3333333333333333,
              "#9c179e"
             ],
             [
              0.4444444444444444,
              "#bd3786"
             ],
             [
              0.5555555555555556,
              "#d8576b"
             ],
             [
              0.6666666666666666,
              "#ed7953"
             ],
             [
              0.7777777777777778,
              "#fb9f3a"
             ],
             [
              0.8888888888888888,
              "#fdca26"
             ],
             [
              1,
              "#f0f921"
             ]
            ],
            "type": "heatmap"
           }
          ],
          "heatmapgl": [
           {
            "colorbar": {
             "outlinewidth": 0,
             "ticks": ""
            },
            "colorscale": [
             [
              0,
              "#0d0887"
             ],
             [
              0.1111111111111111,
              "#46039f"
             ],
             [
              0.2222222222222222,
              "#7201a8"
             ],
             [
              0.3333333333333333,
              "#9c179e"
             ],
             [
              0.4444444444444444,
              "#bd3786"
             ],
             [
              0.5555555555555556,
              "#d8576b"
             ],
             [
              0.6666666666666666,
              "#ed7953"
             ],
             [
              0.7777777777777778,
              "#fb9f3a"
             ],
             [
              0.8888888888888888,
              "#fdca26"
             ],
             [
              1,
              "#f0f921"
             ]
            ],
            "type": "heatmapgl"
           }
          ],
          "histogram": [
           {
            "marker": {
             "pattern": {
              "fillmode": "overlay",
              "size": 10,
              "solidity": 0.2
             }
            },
            "type": "histogram"
           }
          ],
          "histogram2d": [
           {
            "colorbar": {
             "outlinewidth": 0,
             "ticks": ""
            },
            "colorscale": [
             [
              0,
              "#0d0887"
             ],
             [
              0.1111111111111111,
              "#46039f"
             ],
             [
              0.2222222222222222,
              "#7201a8"
             ],
             [
              0.3333333333333333,
              "#9c179e"
             ],
             [
              0.4444444444444444,
              "#bd3786"
             ],
             [
              0.5555555555555556,
              "#d8576b"
             ],
             [
              0.6666666666666666,
              "#ed7953"
             ],
             [
              0.7777777777777778,
              "#fb9f3a"
             ],
             [
              0.8888888888888888,
              "#fdca26"
             ],
             [
              1,
              "#f0f921"
             ]
            ],
            "type": "histogram2d"
           }
          ],
          "histogram2dcontour": [
           {
            "colorbar": {
             "outlinewidth": 0,
             "ticks": ""
            },
            "colorscale": [
             [
              0,
              "#0d0887"
             ],
             [
              0.1111111111111111,
              "#46039f"
             ],
             [
              0.2222222222222222,
              "#7201a8"
             ],
             [
              0.3333333333333333,
              "#9c179e"
             ],
             [
              0.4444444444444444,
              "#bd3786"
             ],
             [
              0.5555555555555556,
              "#d8576b"
             ],
             [
              0.6666666666666666,
              "#ed7953"
             ],
             [
              0.7777777777777778,
              "#fb9f3a"
             ],
             [
              0.8888888888888888,
              "#fdca26"
             ],
             [
              1,
              "#f0f921"
             ]
            ],
            "type": "histogram2dcontour"
           }
          ],
          "mesh3d": [
           {
            "colorbar": {
             "outlinewidth": 0,
             "ticks": ""
            },
            "type": "mesh3d"
           }
          ],
          "parcoords": [
           {
            "line": {
             "colorbar": {
              "outlinewidth": 0,
              "ticks": ""
             }
            },
            "type": "parcoords"
           }
          ],
          "pie": [
           {
            "automargin": true,
            "type": "pie"
           }
          ],
          "scatter": [
           {
            "fillpattern": {
             "fillmode": "overlay",
             "size": 10,
             "solidity": 0.2
            },
            "type": "scatter"
           }
          ],
          "scatter3d": [
           {
            "line": {
             "colorbar": {
              "outlinewidth": 0,
              "ticks": ""
             }
            },
            "marker": {
             "colorbar": {
              "outlinewidth": 0,
              "ticks": ""
             }
            },
            "type": "scatter3d"
           }
          ],
          "scattercarpet": [
           {
            "marker": {
             "colorbar": {
              "outlinewidth": 0,
              "ticks": ""
             }
            },
            "type": "scattercarpet"
           }
          ],
          "scattergeo": [
           {
            "marker": {
             "colorbar": {
              "outlinewidth": 0,
              "ticks": ""
             }
            },
            "type": "scattergeo"
           }
          ],
          "scattergl": [
           {
            "marker": {
             "colorbar": {
              "outlinewidth": 0,
              "ticks": ""
             }
            },
            "type": "scattergl"
           }
          ],
          "scattermapbox": [
           {
            "marker": {
             "colorbar": {
              "outlinewidth": 0,
              "ticks": ""
             }
            },
            "type": "scattermapbox"
           }
          ],
          "scatterpolar": [
           {
            "marker": {
             "colorbar": {
              "outlinewidth": 0,
              "ticks": ""
             }
            },
            "type": "scatterpolar"
           }
          ],
          "scatterpolargl": [
           {
            "marker": {
             "colorbar": {
              "outlinewidth": 0,
              "ticks": ""
             }
            },
            "type": "scatterpolargl"
           }
          ],
          "scatterternary": [
           {
            "marker": {
             "colorbar": {
              "outlinewidth": 0,
              "ticks": ""
             }
            },
            "type": "scatterternary"
           }
          ],
          "surface": [
           {
            "colorbar": {
             "outlinewidth": 0,
             "ticks": ""
            },
            "colorscale": [
             [
              0,
              "#0d0887"
             ],
             [
              0.1111111111111111,
              "#46039f"
             ],
             [
              0.2222222222222222,
              "#7201a8"
             ],
             [
              0.3333333333333333,
              "#9c179e"
             ],
             [
              0.4444444444444444,
              "#bd3786"
             ],
             [
              0.5555555555555556,
              "#d8576b"
             ],
             [
              0.6666666666666666,
              "#ed7953"
             ],
             [
              0.7777777777777778,
              "#fb9f3a"
             ],
             [
              0.8888888888888888,
              "#fdca26"
             ],
             [
              1,
              "#f0f921"
             ]
            ],
            "type": "surface"
           }
          ],
          "table": [
           {
            "cells": {
             "fill": {
              "color": "#EBF0F8"
             },
             "line": {
              "color": "white"
             }
            },
            "header": {
             "fill": {
              "color": "#C8D4E3"
             },
             "line": {
              "color": "white"
             }
            },
            "type": "table"
           }
          ]
         },
         "layout": {
          "annotationdefaults": {
           "arrowcolor": "#2a3f5f",
           "arrowhead": 0,
           "arrowwidth": 1
          },
          "autotypenumbers": "strict",
          "coloraxis": {
           "colorbar": {
            "outlinewidth": 0,
            "ticks": ""
           }
          },
          "colorscale": {
           "diverging": [
            [
             0,
             "#8e0152"
            ],
            [
             0.1,
             "#c51b7d"
            ],
            [
             0.2,
             "#de77ae"
            ],
            [
             0.3,
             "#f1b6da"
            ],
            [
             0.4,
             "#fde0ef"
            ],
            [
             0.5,
             "#f7f7f7"
            ],
            [
             0.6,
             "#e6f5d0"
            ],
            [
             0.7,
             "#b8e186"
            ],
            [
             0.8,
             "#7fbc41"
            ],
            [
             0.9,
             "#4d9221"
            ],
            [
             1,
             "#276419"
            ]
           ],
           "sequential": [
            [
             0,
             "#0d0887"
            ],
            [
             0.1111111111111111,
             "#46039f"
            ],
            [
             0.2222222222222222,
             "#7201a8"
            ],
            [
             0.3333333333333333,
             "#9c179e"
            ],
            [
             0.4444444444444444,
             "#bd3786"
            ],
            [
             0.5555555555555556,
             "#d8576b"
            ],
            [
             0.6666666666666666,
             "#ed7953"
            ],
            [
             0.7777777777777778,
             "#fb9f3a"
            ],
            [
             0.8888888888888888,
             "#fdca26"
            ],
            [
             1,
             "#f0f921"
            ]
           ],
           "sequentialminus": [
            [
             0,
             "#0d0887"
            ],
            [
             0.1111111111111111,
             "#46039f"
            ],
            [
             0.2222222222222222,
             "#7201a8"
            ],
            [
             0.3333333333333333,
             "#9c179e"
            ],
            [
             0.4444444444444444,
             "#bd3786"
            ],
            [
             0.5555555555555556,
             "#d8576b"
            ],
            [
             0.6666666666666666,
             "#ed7953"
            ],
            [
             0.7777777777777778,
             "#fb9f3a"
            ],
            [
             0.8888888888888888,
             "#fdca26"
            ],
            [
             1,
             "#f0f921"
            ]
           ]
          },
          "colorway": [
           "#636efa",
           "#EF553B",
           "#00cc96",
           "#ab63fa",
           "#FFA15A",
           "#19d3f3",
           "#FF6692",
           "#B6E880",
           "#FF97FF",
           "#FECB52"
          ],
          "font": {
           "color": "#2a3f5f"
          },
          "geo": {
           "bgcolor": "white",
           "lakecolor": "white",
           "landcolor": "#E5ECF6",
           "showlakes": true,
           "showland": true,
           "subunitcolor": "white"
          },
          "hoverlabel": {
           "align": "left"
          },
          "hovermode": "closest",
          "mapbox": {
           "style": "light"
          },
          "paper_bgcolor": "white",
          "plot_bgcolor": "#E5ECF6",
          "polar": {
           "angularaxis": {
            "gridcolor": "white",
            "linecolor": "white",
            "ticks": ""
           },
           "bgcolor": "#E5ECF6",
           "radialaxis": {
            "gridcolor": "white",
            "linecolor": "white",
            "ticks": ""
           }
          },
          "scene": {
           "xaxis": {
            "backgroundcolor": "#E5ECF6",
            "gridcolor": "white",
            "gridwidth": 2,
            "linecolor": "white",
            "showbackground": true,
            "ticks": "",
            "zerolinecolor": "white"
           },
           "yaxis": {
            "backgroundcolor": "#E5ECF6",
            "gridcolor": "white",
            "gridwidth": 2,
            "linecolor": "white",
            "showbackground": true,
            "ticks": "",
            "zerolinecolor": "white"
           },
           "zaxis": {
            "backgroundcolor": "#E5ECF6",
            "gridcolor": "white",
            "gridwidth": 2,
            "linecolor": "white",
            "showbackground": true,
            "ticks": "",
            "zerolinecolor": "white"
           }
          },
          "shapedefaults": {
           "line": {
            "color": "#2a3f5f"
           }
          },
          "ternary": {
           "aaxis": {
            "gridcolor": "white",
            "linecolor": "white",
            "ticks": ""
           },
           "baxis": {
            "gridcolor": "white",
            "linecolor": "white",
            "ticks": ""
           },
           "bgcolor": "#E5ECF6",
           "caxis": {
            "gridcolor": "white",
            "linecolor": "white",
            "ticks": ""
           }
          },
          "title": {
           "x": 0.05
          },
          "xaxis": {
           "automargin": true,
           "gridcolor": "white",
           "linecolor": "white",
           "ticks": "",
           "title": {
            "standoff": 15
           },
           "zerolinecolor": "white",
           "zerolinewidth": 2
          },
          "yaxis": {
           "automargin": true,
           "gridcolor": "white",
           "linecolor": "white",
           "ticks": "",
           "title": {
            "standoff": 15
           },
           "zerolinecolor": "white",
           "zerolinewidth": 2
          }
         }
        },
        "title": {
         "font": {
          "color": "#D9D9D9"
         },
         "text": "Прогноз vs Реальные значения"
        },
        "xaxis": {
         "gridcolor": "#434343",
         "showgrid": true,
         "tickfont": {
          "color": "#C2C2C2"
         },
         "title": {
          "font": {
           "color": "#D9D9D9"
          },
          "text": "Время"
         },
         "zerolinecolor": "#666570"
        },
        "yaxis": {
         "gridcolor": "#434343",
         "showgrid": true,
         "tickfont": {
          "color": "#C2C2C2"
         },
         "title": {
          "font": {
           "color": "#D9D9D9"
          },
          "text": "Значение"
         },
         "zerolinecolor": "#666570"
        }
       }
      },
      "text/html": [
       "<div>                            <div id=\"5919f119-5c87-4eed-aa99-49f4fc2c6e4f\" class=\"plotly-graph-div\" style=\"height:525px; width:100%;\"></div>            <script type=\"text/javascript\">                require([\"plotly\"], function(Plotly) {                    window.PLOTLYENV=window.PLOTLYENV || {};\n",
       "                    window.PLOTLYENV.BASE_URL='https://plot.ly';                                    if (document.getElementById(\"5919f119-5c87-4eed-aa99-49f4fc2c6e4f\")) {                    Plotly.newPlot(                        \"5919f119-5c87-4eed-aa99-49f4fc2c6e4f\",                        [{\"line\":{\"color\":\"rgba(255, 153, 51, 1.0)\",\"dash\":\"solid\",\"shape\":\"linear\",\"width\":1.3},\"mode\":\"lines\",\"name\":\"Y_test\",\"text\":\"\",\"x\":[0,1,2,3,4,5,6,7,8,9,10,11,12,13,14,15,16,17,18,19,20,21,22,23,24,25,26,27,28,29,30,31,32,33,34,35,36,37,38,39,40,41,42,43,44,45,46,47,48,49,50,51,52,53,54,55,56,57,58,59,60,61,62,63,64,65,66,67,68,69,70,71,72,73,74,75,76,77,78,79,80,81,82,83,84,85,86,87,88,89,90,91,92,93,94,95,96,97,98,99,100,101,102,103,104,105,106,107,108,109,110,111,112,113,114,115,116,117,118,119,120,121,122,123,124,125,126,127,128,129,130,131,132,133,134,135,136,137,138,139,140,141,142,143,144,145,146,147,148,149,150,151,152,153,154,155,156,157,158,159,160,161,162,163,164,165,166,167,168,169,170,171,172,173,174,175,176,177,178,179,180,181,182,183,184,185,186,187,188,189,190,191,192,193,194,195,196,197,198,199,200,201,202,203,204,205,206,207,208,209,210,211,212,213,214,215,216,217,218,219,220,221,222,223,224,225,226,227,228,229,230,231,232,233,234,235,236,237,238,239,240,241,242,243,244,245,246,247,248,249,250,251,252,253,254,255,256,257,258,259,260,261,262,263,264,265,266,267,268,269,270,271,272,273,274,275,276,277,278,279,280,281,282],\"y\":[29.875,24.666666666666668,26.25,25.93333333333333,27.125,29.571428571428573,30.0,30.571428571428573,32.3125,33.3125,32.8125,32.3125,31.375,29.933333333333334,29.266666666666666,30.73333333333333,32.25,29.8,30.2,31.75,33.125,33.625,35.6875,34.666666666666664,34.625,34.0,34.0625,34.0,33.25,31.916666666666668,31.3125,31.75,33.4375,33.125,34.15384615384615,34.07142857142857,33.0625,34.6875,38.0,35.49999999999999,33.714285714285715,30.6,31.4375,33.3125,35.13333333333333,33.53333333333333,34.0,32.5,35.375,37.294117647058826,36.5625,37.25,37.21428571428572,37.5,37.75,37.375,37.4,36.13333333333333,36.8,32.214285714285715,31.526315789473685,33.21739130434783,35.26923076923077,38.27272727272727,36.0625,31.5,26.8125,32.642857142857146,36.0,37.5625,37.5625,38.2,36.16666666666666,35.42857142857143,34.625,36.07142857142857,35.733333333333334,36.13333333333333,33.4375,35.49999999999999,36.0,32.625,34.733333333333334,33.5,34.1875,35.857142857142854,35.625,30.9375,32.875,33.125,33.84615384615385,36.4375,35.42857142857143,34.86666666666667,34.3125,30.785714285714285,35.375,35.46666666666667,32.125,28.4,29.5625,30.6875,33.25,33.266666666666666,33.5,30.8,33.25,32.5625,31.5,30.5,31.25,30.4375,31.0,27.125,28.125,27.666666666666668,32.3125,34.1875,34.13333333333333,34.125,31.875,31.4375,31.9375,30.3125,28.3125,29.53333333333333,27.375,27.33333333333333,29.266666666666666,29.125,30.6875,32.5625,33.111111111111114,33.8,30.066666666666663,33.11764705882353,33.80952380952381,31.615384615384617,32.0,28.107142857142858,29.035714285714285,30.321428571428573,28.933333333333334,31.678571428571427,31.33333333333333,29.928571428571427,29.88888888888889,32.07142857142857,33.18518518518518,31.59259259259259,32.18518518518518,31.48,30.178571428571427,31.52,31.22222222222222,31.785714285714285,33.4,29.571428571428573,30.04,27.25925925925926,27.96,30.73913043478261,30.894736842105264,31.692307692307693,31.07692307692308,30.375,31.1,31.916666666666668,30.55555555555556,31.23076923076923,31.0,31.642857142857142,32.53333333333333,30.857142857142858,31.727272727272727,31.4,32.30769230769231,32.25,32.375,33.44444444444444,33.36,30.03703703703704,31.0,31.24,31.130434782608692,31.48,32.18518518518518,32.44,32.22727272727273,32.214285714285715,32.541666666666664,32.81481481481482,33.26923076923077,30.55555555555556,28.83333333333333,30.703703703703702,30.96,30.6,30.92,29.77777777777778,29.666666666666668,29.571428571428573,29.96296296296296,29.75,27.74074074074074,28.428571428571427,28.6,28.5,28.925925925925927,29.07692307692308,28.40909090909091,29.33333333333333,27.5,28.5,28.04,27.57692307692308,26.55555555555556,25.51851851851852,25.814814814814813,24.82608695652174,24.53846153846154,24.384615384615383,23.727272727272727,25.64,24.814814814814813,23.115384615384617,22.925925925925927,24.545454545454547,23.73076923076923,23.0,23.51851851851852,23.92,23.53846153846154,24.296296296296298,23.346153846153847,22.24,21.769230769230774,21.73076923076923,21.73076923076923,20.666666666666668,22.25,21.53846153846154,22.57894736842105,22.82608695652174,21.42105263157895,23.6,24.294117647058822,23.63636363636364,22.454545454545453,21.61111111111111,19.869565217391305,19.75,19.20833333333333,21.20833333333333,18.9,18.63636363636364,18.53846153846154,18.25,16.9,19.416666666666668,16.444444444444443,20.041666666666668,19.90909090909091,19.05,18.55555555555556,18.166666666666668,15.833333333333334,17.5,16.083333333333332,17.857142857142858,19.8,18.05,17.285714285714285,15.550000000000002,17.318181818181817,14.0,17.142857142857142,16.85,17.217391304347824,15.238095238095237,14.095238095238097,15.05263157894737,10.0],\"type\":\"scatter\"},{\"line\":{\"color\":\"rgba(55, 128, 191, 1.0)\",\"dash\":\"solid\",\"shape\":\"linear\",\"width\":1.3},\"mode\":\"lines\",\"name\":\"Predictions\",\"text\":\"\",\"x\":[0,1,2,3,4,5,6,7,8,9,10,11,12,13,14,15,16,17,18,19,20,21,22,23,24,25,26,27,28,29,30,31,32,33,34,35,36,37,38,39,40,41,42,43,44,45,46,47,48,49,50,51,52,53,54,55,56,57,58,59,60,61,62,63,64,65,66,67,68,69,70,71,72,73,74,75,76,77,78,79,80,81,82,83,84,85,86,87,88,89,90,91,92,93,94,95,96,97,98,99,100,101,102,103,104,105,106,107,108,109,110,111,112,113,114,115,116,117,118,119,120,121,122,123,124,125,126,127,128,129,130,131,132,133,134,135,136,137,138,139,140,141,142,143,144,145,146,147,148,149,150,151,152,153,154,155,156,157,158,159,160,161,162,163,164,165,166,167,168,169,170,171,172,173,174,175,176,177,178,179,180,181,182,183,184,185,186,187,188,189,190,191,192,193,194,195,196,197,198,199,200,201,202,203,204,205,206,207,208,209,210,211,212,213,214,215,216,217,218,219,220,221,222,223,224,225,226,227,228,229,230,231,232,233,234,235,236,237,238,239,240,241,242,243,244,245,246,247,248,249,250,251,252,253,254,255,256,257,258,259,260,261,262,263,264,265,266,267,268,269,270,271,272,273,274,275,276,277,278,279,280,281,282],\"y\":[27.82303237915039,28.876590728759766,25.75647735595703,27.052453994750977,26.88519859313965,27.495494842529297,29.06447982788086,29.59136390686035,29.918039321899414,31.307029724121094,31.785091400146484,31.97382354736328,32.29708480834961,31.76882553100586,30.576290130615234,30.76142120361328,31.128934860229492,32.493202209472656,30.85562515258789,30.912059783935547,31.985645294189453,33.50952911376953,33.64253616333008,34.68791580200195,34.53091049194336,34.3312873840332,33.81391525268555,33.99033737182617,34.50761795043945,34.42576599121094,32.81140899658203,33.27158737182617,33.32083511352539,33.76079177856445,33.29302215576172,33.975059509277344,34.620758056640625,33.85908126831055,34.22426223754883,36.01470184326172,35.0392951965332,33.83373260498047,32.15282440185547,32.59912872314453,33.44212341308594,34.16546630859375,33.11589813232422,34.23778533935547,33.02633285522461,34.294281005859375,35.63376235961914,35.49930191040039,35.772560119628906,36.09416580200195,36.49725341796875,36.64931869506836,35.86000442504883,35.69794464111328,35.11570358276367,35.801002502441406,33.10382843017578,32.93645477294922,33.45059585571289,34.2250862121582,36.25696563720703,35.176055908203125,32.032745361328125,28.92642593383789,32.3821907043457,34.567710876464844,35.5973014831543,35.87272262573242,35.95256805419922,34.875667572021484,34.8328857421875,33.07107925415039,34.75905227661133,34.808448791503906,35.21033477783203,33.798744201660156,34.880226135253906,34.87334442138672,32.840614318847656,33.86296844482422,33.1190299987793,33.589107513427734,34.24522399902344,34.368465423583984,31.22044563293457,32.62015151977539,33.03396224975586,33.52058410644531,34.712860107421875,34.0326042175293,33.82204055786133,33.46645736694336,31.431961059570312,33.428253173828125,34.201438903808594,31.963220596313477,30.152557373046875,30.95771598815918,31.14771842956543,32.24715805053711,32.35224914550781,32.49369812011719,30.940567016601562,32.280029296875,32.202423095703125,31.146453857421875,30.72161865234375,31.28354835510254,30.99611473083496,31.19012451171875,28.961532592773438,29.313169479370117,28.9262638092041,31.03938865661621,32.25526428222656,32.252662658691406,32.47218704223633,31.13836097717285,31.185787200927734,31.497217178344727,30.28509521484375,29.427120208740234,30.339920043945312,29.03762435913086,28.76816177368164,29.520214080810547,29.18398666381836,30.05898666381836,31.213563919067383,31.495716094970703,32.142696380615234,29.995838165283203,31.65254020690918,32.522193908691406,31.23984718322754,31.223758697509766,28.942096710205078,30.14647674560547,30.941646575927734,29.675189971923828,30.939876556396484,30.940279006958008,30.220563888549805,29.925077438354492,31.142562866210938,31.51412010192871,31.008033752441406,31.394485473632812,30.97552490234375,30.186843872070312,31.299999237060547,31.129911422729492,31.305269241333008,32.3682746887207,30.267900466918945,30.474897384643555,28.937620162963867,29.42986297607422,30.472705841064453,30.76202392578125,30.91775131225586,30.28226661682129,30.240079879760742,30.482933044433594,30.864776611328125,30.205059051513672,30.338905334472656,30.772626876831055,31.016542434692383,31.6673641204834,30.69264030456543,31.25444793701172,31.775606155395508,32.00230026245117,31.716007232666016,32.74203872680664,32.86350631713867,32.50726318359375,30.62034034729004,31.101505279541016,31.232189178466797,31.23601722717285,31.232603073120117,31.5689697265625,31.53040885925293,31.26938819885254,31.38336753845215,31.283788681030273,31.4754695892334,31.909807205200195,30.40117073059082,29.615196228027344,30.425893783569336,30.755109786987305,31.259687423706055,30.873136520385742,30.325838088989258,30.051372528076172,30.205472946166992,30.366201400756836,30.117650985717773,28.711706161499023,29.196483612060547,29.182567596435547,29.06279182434082,29.23801040649414,29.224899291992188,28.860443115234375,29.23103141784668,28.11762809753418,28.448328018188477,27.992610931396484,28.114036560058594,27.575092315673828,27.041799545288086,27.032733917236328,25.723655700683594,25.452699661254883,24.971540451049805,24.051679611206055,24.736997604370117,24.106056213378906,22.730579376220703,22.833398818969727,23.620851516723633,23.29671859741211,23.167125701904297,23.30318832397461,23.20341682434082,22.972209930419922,23.497791290283203,22.98333740234375,22.056060791015625,21.748870849609375,21.692461013793945,21.517690658569336,20.766952514648438,21.379154205322266,21.09018325805664,21.892953872680664,22.35224151611328,21.403352737426758,22.950895309448242,24.18327522277832,24.363239288330078,23.70503044128418,22.57345199584961,20.478397369384766,20.799724578857422,20.55943489074707,21.73431396484375,19.98154067993164,19.281641006469727,18.893856048583984,18.741722106933594,17.982568740844727,19.188011169433594,17.092924118041992,19.80675506591797,20.494632720947266,19.30927276611328,18.658388137817383,18.382543563842773,16.850969314575195,17.242273330688477,17.079008102416992,18.124988555908203,18.844623565673828,17.930805206298828,17.044591903686523,16.29535675048828,16.73091697692871,15.0208101272583,17.100038528442383,17.35004997253418,17.564529418945312,15.928496360778809,14.953309059143066,15.879560470581055],\"type\":\"scatter\"}],                        {\"legend\":{\"bgcolor\":\"#151516\",\"font\":{\"color\":\"#D9D9D9\"}},\"paper_bgcolor\":\"#151516\",\"plot_bgcolor\":\"#151516\",\"template\":{\"data\":{\"barpolar\":[{\"marker\":{\"line\":{\"color\":\"#E5ECF6\",\"width\":0.5},\"pattern\":{\"fillmode\":\"overlay\",\"size\":10,\"solidity\":0.2}},\"type\":\"barpolar\"}],\"bar\":[{\"error_x\":{\"color\":\"#2a3f5f\"},\"error_y\":{\"color\":\"#2a3f5f\"},\"marker\":{\"line\":{\"color\":\"#E5ECF6\",\"width\":0.5},\"pattern\":{\"fillmode\":\"overlay\",\"size\":10,\"solidity\":0.2}},\"type\":\"bar\"}],\"carpet\":[{\"aaxis\":{\"endlinecolor\":\"#2a3f5f\",\"gridcolor\":\"white\",\"linecolor\":\"white\",\"minorgridcolor\":\"white\",\"startlinecolor\":\"#2a3f5f\"},\"baxis\":{\"endlinecolor\":\"#2a3f5f\",\"gridcolor\":\"white\",\"linecolor\":\"white\",\"minorgridcolor\":\"white\",\"startlinecolor\":\"#2a3f5f\"},\"type\":\"carpet\"}],\"choropleth\":[{\"colorbar\":{\"outlinewidth\":0,\"ticks\":\"\"},\"type\":\"choropleth\"}],\"contourcarpet\":[{\"colorbar\":{\"outlinewidth\":0,\"ticks\":\"\"},\"type\":\"contourcarpet\"}],\"contour\":[{\"colorbar\":{\"outlinewidth\":0,\"ticks\":\"\"},\"colorscale\":[[0.0,\"#0d0887\"],[0.1111111111111111,\"#46039f\"],[0.2222222222222222,\"#7201a8\"],[0.3333333333333333,\"#9c179e\"],[0.4444444444444444,\"#bd3786\"],[0.5555555555555556,\"#d8576b\"],[0.6666666666666666,\"#ed7953\"],[0.7777777777777778,\"#fb9f3a\"],[0.8888888888888888,\"#fdca26\"],[1.0,\"#f0f921\"]],\"type\":\"contour\"}],\"heatmapgl\":[{\"colorbar\":{\"outlinewidth\":0,\"ticks\":\"\"},\"colorscale\":[[0.0,\"#0d0887\"],[0.1111111111111111,\"#46039f\"],[0.2222222222222222,\"#7201a8\"],[0.3333333333333333,\"#9c179e\"],[0.4444444444444444,\"#bd3786\"],[0.5555555555555556,\"#d8576b\"],[0.6666666666666666,\"#ed7953\"],[0.7777777777777778,\"#fb9f3a\"],[0.8888888888888888,\"#fdca26\"],[1.0,\"#f0f921\"]],\"type\":\"heatmapgl\"}],\"heatmap\":[{\"colorbar\":{\"outlinewidth\":0,\"ticks\":\"\"},\"colorscale\":[[0.0,\"#0d0887\"],[0.1111111111111111,\"#46039f\"],[0.2222222222222222,\"#7201a8\"],[0.3333333333333333,\"#9c179e\"],[0.4444444444444444,\"#bd3786\"],[0.5555555555555556,\"#d8576b\"],[0.6666666666666666,\"#ed7953\"],[0.7777777777777778,\"#fb9f3a\"],[0.8888888888888888,\"#fdca26\"],[1.0,\"#f0f921\"]],\"type\":\"heatmap\"}],\"histogram2dcontour\":[{\"colorbar\":{\"outlinewidth\":0,\"ticks\":\"\"},\"colorscale\":[[0.0,\"#0d0887\"],[0.1111111111111111,\"#46039f\"],[0.2222222222222222,\"#7201a8\"],[0.3333333333333333,\"#9c179e\"],[0.4444444444444444,\"#bd3786\"],[0.5555555555555556,\"#d8576b\"],[0.6666666666666666,\"#ed7953\"],[0.7777777777777778,\"#fb9f3a\"],[0.8888888888888888,\"#fdca26\"],[1.0,\"#f0f921\"]],\"type\":\"histogram2dcontour\"}],\"histogram2d\":[{\"colorbar\":{\"outlinewidth\":0,\"ticks\":\"\"},\"colorscale\":[[0.0,\"#0d0887\"],[0.1111111111111111,\"#46039f\"],[0.2222222222222222,\"#7201a8\"],[0.3333333333333333,\"#9c179e\"],[0.4444444444444444,\"#bd3786\"],[0.5555555555555556,\"#d8576b\"],[0.6666666666666666,\"#ed7953\"],[0.7777777777777778,\"#fb9f3a\"],[0.8888888888888888,\"#fdca26\"],[1.0,\"#f0f921\"]],\"type\":\"histogram2d\"}],\"histogram\":[{\"marker\":{\"pattern\":{\"fillmode\":\"overlay\",\"size\":10,\"solidity\":0.2}},\"type\":\"histogram\"}],\"mesh3d\":[{\"colorbar\":{\"outlinewidth\":0,\"ticks\":\"\"},\"type\":\"mesh3d\"}],\"parcoords\":[{\"line\":{\"colorbar\":{\"outlinewidth\":0,\"ticks\":\"\"}},\"type\":\"parcoords\"}],\"pie\":[{\"automargin\":true,\"type\":\"pie\"}],\"scatter3d\":[{\"line\":{\"colorbar\":{\"outlinewidth\":0,\"ticks\":\"\"}},\"marker\":{\"colorbar\":{\"outlinewidth\":0,\"ticks\":\"\"}},\"type\":\"scatter3d\"}],\"scattercarpet\":[{\"marker\":{\"colorbar\":{\"outlinewidth\":0,\"ticks\":\"\"}},\"type\":\"scattercarpet\"}],\"scattergeo\":[{\"marker\":{\"colorbar\":{\"outlinewidth\":0,\"ticks\":\"\"}},\"type\":\"scattergeo\"}],\"scattergl\":[{\"marker\":{\"colorbar\":{\"outlinewidth\":0,\"ticks\":\"\"}},\"type\":\"scattergl\"}],\"scattermapbox\":[{\"marker\":{\"colorbar\":{\"outlinewidth\":0,\"ticks\":\"\"}},\"type\":\"scattermapbox\"}],\"scatterpolargl\":[{\"marker\":{\"colorbar\":{\"outlinewidth\":0,\"ticks\":\"\"}},\"type\":\"scatterpolargl\"}],\"scatterpolar\":[{\"marker\":{\"colorbar\":{\"outlinewidth\":0,\"ticks\":\"\"}},\"type\":\"scatterpolar\"}],\"scatter\":[{\"fillpattern\":{\"fillmode\":\"overlay\",\"size\":10,\"solidity\":0.2},\"type\":\"scatter\"}],\"scatterternary\":[{\"marker\":{\"colorbar\":{\"outlinewidth\":0,\"ticks\":\"\"}},\"type\":\"scatterternary\"}],\"surface\":[{\"colorbar\":{\"outlinewidth\":0,\"ticks\":\"\"},\"colorscale\":[[0.0,\"#0d0887\"],[0.1111111111111111,\"#46039f\"],[0.2222222222222222,\"#7201a8\"],[0.3333333333333333,\"#9c179e\"],[0.4444444444444444,\"#bd3786\"],[0.5555555555555556,\"#d8576b\"],[0.6666666666666666,\"#ed7953\"],[0.7777777777777778,\"#fb9f3a\"],[0.8888888888888888,\"#fdca26\"],[1.0,\"#f0f921\"]],\"type\":\"surface\"}],\"table\":[{\"cells\":{\"fill\":{\"color\":\"#EBF0F8\"},\"line\":{\"color\":\"white\"}},\"header\":{\"fill\":{\"color\":\"#C8D4E3\"},\"line\":{\"color\":\"white\"}},\"type\":\"table\"}]},\"layout\":{\"annotationdefaults\":{\"arrowcolor\":\"#2a3f5f\",\"arrowhead\":0,\"arrowwidth\":1},\"autotypenumbers\":\"strict\",\"coloraxis\":{\"colorbar\":{\"outlinewidth\":0,\"ticks\":\"\"}},\"colorscale\":{\"diverging\":[[0,\"#8e0152\"],[0.1,\"#c51b7d\"],[0.2,\"#de77ae\"],[0.3,\"#f1b6da\"],[0.4,\"#fde0ef\"],[0.5,\"#f7f7f7\"],[0.6,\"#e6f5d0\"],[0.7,\"#b8e186\"],[0.8,\"#7fbc41\"],[0.9,\"#4d9221\"],[1,\"#276419\"]],\"sequential\":[[0.0,\"#0d0887\"],[0.1111111111111111,\"#46039f\"],[0.2222222222222222,\"#7201a8\"],[0.3333333333333333,\"#9c179e\"],[0.4444444444444444,\"#bd3786\"],[0.5555555555555556,\"#d8576b\"],[0.6666666666666666,\"#ed7953\"],[0.7777777777777778,\"#fb9f3a\"],[0.8888888888888888,\"#fdca26\"],[1.0,\"#f0f921\"]],\"sequentialminus\":[[0.0,\"#0d0887\"],[0.1111111111111111,\"#46039f\"],[0.2222222222222222,\"#7201a8\"],[0.3333333333333333,\"#9c179e\"],[0.4444444444444444,\"#bd3786\"],[0.5555555555555556,\"#d8576b\"],[0.6666666666666666,\"#ed7953\"],[0.7777777777777778,\"#fb9f3a\"],[0.8888888888888888,\"#fdca26\"],[1.0,\"#f0f921\"]]},\"colorway\":[\"#636efa\",\"#EF553B\",\"#00cc96\",\"#ab63fa\",\"#FFA15A\",\"#19d3f3\",\"#FF6692\",\"#B6E880\",\"#FF97FF\",\"#FECB52\"],\"font\":{\"color\":\"#2a3f5f\"},\"geo\":{\"bgcolor\":\"white\",\"lakecolor\":\"white\",\"landcolor\":\"#E5ECF6\",\"showlakes\":true,\"showland\":true,\"subunitcolor\":\"white\"},\"hoverlabel\":{\"align\":\"left\"},\"hovermode\":\"closest\",\"mapbox\":{\"style\":\"light\"},\"paper_bgcolor\":\"white\",\"plot_bgcolor\":\"#E5ECF6\",\"polar\":{\"angularaxis\":{\"gridcolor\":\"white\",\"linecolor\":\"white\",\"ticks\":\"\"},\"bgcolor\":\"#E5ECF6\",\"radialaxis\":{\"gridcolor\":\"white\",\"linecolor\":\"white\",\"ticks\":\"\"}},\"scene\":{\"xaxis\":{\"backgroundcolor\":\"#E5ECF6\",\"gridcolor\":\"white\",\"gridwidth\":2,\"linecolor\":\"white\",\"showbackground\":true,\"ticks\":\"\",\"zerolinecolor\":\"white\"},\"yaxis\":{\"backgroundcolor\":\"#E5ECF6\",\"gridcolor\":\"white\",\"gridwidth\":2,\"linecolor\":\"white\",\"showbackground\":true,\"ticks\":\"\",\"zerolinecolor\":\"white\"},\"zaxis\":{\"backgroundcolor\":\"#E5ECF6\",\"gridcolor\":\"white\",\"gridwidth\":2,\"linecolor\":\"white\",\"showbackground\":true,\"ticks\":\"\",\"zerolinecolor\":\"white\"}},\"shapedefaults\":{\"line\":{\"color\":\"#2a3f5f\"}},\"ternary\":{\"aaxis\":{\"gridcolor\":\"white\",\"linecolor\":\"white\",\"ticks\":\"\"},\"baxis\":{\"gridcolor\":\"white\",\"linecolor\":\"white\",\"ticks\":\"\"},\"bgcolor\":\"#E5ECF6\",\"caxis\":{\"gridcolor\":\"white\",\"linecolor\":\"white\",\"ticks\":\"\"}},\"title\":{\"x\":0.05},\"xaxis\":{\"automargin\":true,\"gridcolor\":\"white\",\"linecolor\":\"white\",\"ticks\":\"\",\"title\":{\"standoff\":15},\"zerolinecolor\":\"white\",\"zerolinewidth\":2},\"yaxis\":{\"automargin\":true,\"gridcolor\":\"white\",\"linecolor\":\"white\",\"ticks\":\"\",\"title\":{\"standoff\":15},\"zerolinecolor\":\"white\",\"zerolinewidth\":2}}},\"title\":{\"font\":{\"color\":\"#D9D9D9\"},\"text\":\"\\u041f\\u0440\\u043e\\u0433\\u043d\\u043e\\u0437 vs \\u0420\\u0435\\u0430\\u043b\\u044c\\u043d\\u044b\\u0435 \\u0437\\u043d\\u0430\\u0447\\u0435\\u043d\\u0438\\u044f\"},\"xaxis\":{\"gridcolor\":\"#434343\",\"showgrid\":true,\"tickfont\":{\"color\":\"#C2C2C2\"},\"title\":{\"font\":{\"color\":\"#D9D9D9\"},\"text\":\"\\u0412\\u0440\\u0435\\u043c\\u044f\"},\"zerolinecolor\":\"#666570\"},\"yaxis\":{\"gridcolor\":\"#434343\",\"showgrid\":true,\"tickfont\":{\"color\":\"#C2C2C2\"},\"title\":{\"font\":{\"color\":\"#D9D9D9\"},\"text\":\"\\u0417\\u043d\\u0430\\u0447\\u0435\\u043d\\u0438\\u0435\"},\"zerolinecolor\":\"#666570\"}},                        {\"showLink\": true, \"linkText\": \"Export to plot.ly\", \"plotlyServerURL\": \"https://plot.ly\", \"responsive\": true}                    ).then(function(){\n",
       "                            \n",
       "var gd = document.getElementById('5919f119-5c87-4eed-aa99-49f4fc2c6e4f');\n",
       "var x = new MutationObserver(function (mutations, observer) {{\n",
       "        var display = window.getComputedStyle(gd).display;\n",
       "        if (!display || display === 'none') {{\n",
       "            console.log([gd, 'removed!']);\n",
       "            Plotly.purge(gd);\n",
       "            observer.disconnect();\n",
       "        }}\n",
       "}});\n",
       "\n",
       "// Listen for the removal of the full notebook cells\n",
       "var notebookContainer = gd.closest('#notebook-container');\n",
       "if (notebookContainer) {{\n",
       "    x.observe(notebookContainer, {childList: true});\n",
       "}}\n",
       "\n",
       "// Listen for the clearing of the current output cell\n",
       "var outputEl = gd.closest('.output');\n",
       "if (outputEl) {{\n",
       "    x.observe(outputEl, {childList: true});\n",
       "}}\n",
       "\n",
       "                        })                };                });            </script>        </div>"
      ]
     },
     "metadata": {},
     "output_type": "display_data"
    }
   ],
   "source": [
    "gru_pred_a = gru_model_a.predict(X_test)\n",
    "gru_pred_a = target_transformer.inverse_transform(gru_pred_a)\n",
    "\n",
    "y_test = y_test.reshape(-1, 1)\n",
    "y_test = target_transformer.inverse_transform(y_test)\n",
    "\n",
    "\n",
    "gru_mape_a = mean_absolute_percentage_error(y_test, gru_pred_a)\n",
    "gru_mae_a = mean_absolute_error(y_test, gru_pred_a)\n",
    "print(f\"MAPE: {gru_mape_a} %\")\n",
    "print(f\"MAE: {gru_mae_a}\")\n",
    "\n",
    "df_test = pd.DataFrame({\n",
    "    'Y_test': y_test.ravel(),\n",
    "    'Predictions': gru_pred_a.ravel()\n",
    "})\n",
    "# Отобразить на графике\n",
    "df_test.iplot(title=\"Прогноз vs Реальные значения\", xTitle=\"Время\", yTitle=\"Значение\", theme=\"solar\")"
   ]
  },
  {
   "cell_type": "code",
   "execution_count": 67,
   "metadata": {},
   "outputs": [
    {
     "name": "stdout",
     "output_type": "stream",
     "text": [
      "Epoch 1/100\n",
      "25/25 [==============================] - 5s 78ms/step - loss: 0.3584 - val_loss: 0.1246\n",
      "Epoch 2/100\n",
      "25/25 [==============================] - 1s 30ms/step - loss: 0.1278 - val_loss: 0.0738\n",
      "Epoch 3/100\n",
      "25/25 [==============================] - 1s 29ms/step - loss: 0.0821 - val_loss: 0.0665\n",
      "Epoch 4/100\n",
      "25/25 [==============================] - 1s 30ms/step - loss: 0.0719 - val_loss: 0.0640\n",
      "Epoch 5/100\n",
      "25/25 [==============================] - 1s 39ms/step - loss: 0.0685 - val_loss: 0.0635\n",
      "Epoch 6/100\n",
      "25/25 [==============================] - 1s 56ms/step - loss: 0.0648 - val_loss: 0.0637\n",
      "Epoch 7/100\n",
      "25/25 [==============================] - 1s 52ms/step - loss: 0.0616 - val_loss: 0.0676\n",
      "Epoch 8/100\n",
      "25/25 [==============================] - 1s 48ms/step - loss: 0.0581 - val_loss: 0.0597\n",
      "Epoch 9/100\n",
      "25/25 [==============================] - 1s 59ms/step - loss: 0.0588 - val_loss: 0.0573\n",
      "Epoch 10/100\n",
      "25/25 [==============================] - 1s 55ms/step - loss: 0.0593 - val_loss: 0.0663\n",
      "Epoch 11/100\n",
      "25/25 [==============================] - 1s 42ms/step - loss: 0.0592 - val_loss: 0.0564\n",
      "Epoch 12/100\n",
      "25/25 [==============================] - 1s 47ms/step - loss: 0.0549 - val_loss: 0.0560\n",
      "Epoch 13/100\n",
      "25/25 [==============================] - 2s 64ms/step - loss: 0.0540 - val_loss: 0.0632\n",
      "Epoch 14/100\n",
      "25/25 [==============================] - 1s 47ms/step - loss: 0.0552 - val_loss: 0.0555\n",
      "Epoch 15/100\n",
      "25/25 [==============================] - 2s 77ms/step - loss: 0.0541 - val_loss: 0.0544\n",
      "Epoch 16/100\n",
      "25/25 [==============================] - 2s 66ms/step - loss: 0.0526 - val_loss: 0.0640\n",
      "Epoch 17/100\n",
      "25/25 [==============================] - 2s 61ms/step - loss: 0.0544 - val_loss: 0.0549\n",
      "Epoch 18/100\n",
      "25/25 [==============================] - 2s 64ms/step - loss: 0.0521 - val_loss: 0.0598\n",
      "Epoch 19/100\n",
      "25/25 [==============================] - 2s 79ms/step - loss: 0.0504 - val_loss: 0.0548\n",
      "Epoch 20/100\n",
      "25/25 [==============================] - 2s 69ms/step - loss: 0.0499 - val_loss: 0.0541\n",
      "Epoch 21/100\n",
      "25/25 [==============================] - 1s 52ms/step - loss: 0.0507 - val_loss: 0.0543\n",
      "Epoch 22/100\n",
      "25/25 [==============================] - 1s 51ms/step - loss: 0.0505 - val_loss: 0.0595\n",
      "Epoch 23/100\n",
      "25/25 [==============================] - 1s 52ms/step - loss: 0.0506 - val_loss: 0.0547\n",
      "Epoch 24/100\n",
      "25/25 [==============================] - 1s 49ms/step - loss: 0.0517 - val_loss: 0.0562\n",
      "Epoch 25/100\n",
      "25/25 [==============================] - 1s 52ms/step - loss: 0.0482 - val_loss: 0.0558\n",
      "Epoch 26/100\n",
      "25/25 [==============================] - 1s 61ms/step - loss: 0.0496 - val_loss: 0.0541\n",
      "Epoch 27/100\n",
      "25/25 [==============================] - 1s 50ms/step - loss: 0.0484 - val_loss: 0.0566\n",
      "Epoch 28/100\n",
      "25/25 [==============================] - 1s 58ms/step - loss: 0.0491 - val_loss: 0.0570\n",
      "Epoch 29/100\n",
      "25/25 [==============================] - 2s 68ms/step - loss: 0.0475 - val_loss: 0.0526\n",
      "Epoch 30/100\n",
      "25/25 [==============================] - 1s 61ms/step - loss: 0.0484 - val_loss: 0.0528\n",
      "Epoch 31/100\n",
      "25/25 [==============================] - 2s 63ms/step - loss: 0.0471 - val_loss: 0.0552\n",
      "Epoch 32/100\n",
      "25/25 [==============================] - 1s 55ms/step - loss: 0.0477 - val_loss: 0.0529\n",
      "Epoch 33/100\n",
      "25/25 [==============================] - 2s 80ms/step - loss: 0.0454 - val_loss: 0.0584\n",
      "Epoch 34/100\n",
      "25/25 [==============================] - 1s 51ms/step - loss: 0.0474 - val_loss: 0.0530\n",
      "Epoch 35/100\n",
      "25/25 [==============================] - 1s 52ms/step - loss: 0.0462 - val_loss: 0.0515\n",
      "Epoch 36/100\n",
      "25/25 [==============================] - 1s 55ms/step - loss: 0.0449 - val_loss: 0.0539\n",
      "Epoch 37/100\n",
      "25/25 [==============================] - 1s 54ms/step - loss: 0.0457 - val_loss: 0.0597\n",
      "Epoch 38/100\n",
      "25/25 [==============================] - 1s 55ms/step - loss: 0.0461 - val_loss: 0.0530\n",
      "Epoch 39/100\n",
      "25/25 [==============================] - 2s 61ms/step - loss: 0.0464 - val_loss: 0.0547\n",
      "Epoch 40/100\n",
      "25/25 [==============================] - 1s 51ms/step - loss: 0.0444 - val_loss: 0.0503\n",
      "Epoch 41/100\n",
      "25/25 [==============================] - 1s 51ms/step - loss: 0.0443 - val_loss: 0.0496\n",
      "Epoch 42/100\n",
      "25/25 [==============================] - 1s 55ms/step - loss: 0.0444 - val_loss: 0.0505\n",
      "Epoch 43/100\n",
      "25/25 [==============================] - 1s 46ms/step - loss: 0.0454 - val_loss: 0.0507\n",
      "Epoch 44/100\n",
      "25/25 [==============================] - 1s 45ms/step - loss: 0.0456 - val_loss: 0.0515\n",
      "Epoch 45/100\n",
      "25/25 [==============================] - 1s 47ms/step - loss: 0.0428 - val_loss: 0.0577\n",
      "Epoch 46/100\n",
      "25/25 [==============================] - 1s 38ms/step - loss: 0.0432 - val_loss: 0.0505\n",
      "Epoch 47/100\n",
      "25/25 [==============================] - 1s 45ms/step - loss: 0.0421 - val_loss: 0.0557\n",
      "Epoch 48/100\n",
      "25/25 [==============================] - 1s 28ms/step - loss: 0.0442 - val_loss: 0.0525\n",
      "Epoch 49/100\n",
      "25/25 [==============================] - 1s 30ms/step - loss: 0.0406 - val_loss: 0.0504\n",
      "Epoch 50/100\n",
      "25/25 [==============================] - 1s 29ms/step - loss: 0.0427 - val_loss: 0.0543\n",
      "Epoch 51/100\n",
      "25/25 [==============================] - 1s 30ms/step - loss: 0.0426 - val_loss: 0.0566\n",
      "9/9 [==============================] - 0s 7ms/step - loss: 0.0496\n",
      "Validation Loss: 0.049556367099285126\n"
     ]
    }
   ],
   "source": [
    "look_back = 10 \n",
    "X_train, y_train = create_dataset(dl_train, dl_train['meantemp'], look_back)\n",
    "X_test, y_test = create_dataset(dl_test, dl_test['meantemp'], look_back)\n",
    "\n",
    "rnn_model_a = Sequential()\n",
    "\n",
    "rnn_model_a.add(SimpleRNN(62, activation='relu', input_shape=(look_back, X_train.shape[2]), return_sequences=True))\n",
    "rnn_model_a.add(SimpleRNN(29, activation='relu', return_sequences=True))\n",
    "rnn_model_a.add(Dropout(0.2)),\n",
    "rnn_model_a.add(AttentionMechanism(return_sequences=True)),\n",
    "rnn_model_a.add(SimpleRNN(15, activation='relu'))\n",
    "rnn_model_a.add(Dense(1))\n",
    "rnn_model_a.compile(optimizer='adam', loss='mean_absolute_error')\n",
    "\n",
    "early_stopping = EarlyStopping(monitor='val_loss', patience=10, restore_best_weights=True)\n",
    "history = rnn_model_a.fit(X_train, y_train, epochs=100, validation_data=(X_test, y_test), batch_size=47, callbacks=[early_stopping])\n",
    "\n",
    "loss = rnn_model_a.evaluate(X_test, y_test)\n",
    "print(f'Validation Loss: {loss}')"
   ]
  },
  {
   "cell_type": "code",
   "execution_count": 68,
   "metadata": {},
   "outputs": [
    {
     "name": "stdout",
     "output_type": "stream",
     "text": [
      "9/9 [==============================] - 0s 3ms/step\n",
      "MAPE: 5.957408406289591 %\n",
      "MAE: 1.6212015979999124\n"
     ]
    },
    {
     "data": {
      "application/vnd.plotly.v1+json": {
       "config": {
        "linkText": "Export to plot.ly",
        "plotlyServerURL": "https://plot.ly",
        "showLink": true
       },
       "data": [
        {
         "line": {
          "color": "rgba(255, 153, 51, 1.0)",
          "dash": "solid",
          "shape": "linear",
          "width": 1.3
         },
         "mode": "lines",
         "name": "Y_test",
         "text": "",
         "type": "scatter",
         "x": [
          0,
          1,
          2,
          3,
          4,
          5,
          6,
          7,
          8,
          9,
          10,
          11,
          12,
          13,
          14,
          15,
          16,
          17,
          18,
          19,
          20,
          21,
          22,
          23,
          24,
          25,
          26,
          27,
          28,
          29,
          30,
          31,
          32,
          33,
          34,
          35,
          36,
          37,
          38,
          39,
          40,
          41,
          42,
          43,
          44,
          45,
          46,
          47,
          48,
          49,
          50,
          51,
          52,
          53,
          54,
          55,
          56,
          57,
          58,
          59,
          60,
          61,
          62,
          63,
          64,
          65,
          66,
          67,
          68,
          69,
          70,
          71,
          72,
          73,
          74,
          75,
          76,
          77,
          78,
          79,
          80,
          81,
          82,
          83,
          84,
          85,
          86,
          87,
          88,
          89,
          90,
          91,
          92,
          93,
          94,
          95,
          96,
          97,
          98,
          99,
          100,
          101,
          102,
          103,
          104,
          105,
          106,
          107,
          108,
          109,
          110,
          111,
          112,
          113,
          114,
          115,
          116,
          117,
          118,
          119,
          120,
          121,
          122,
          123,
          124,
          125,
          126,
          127,
          128,
          129,
          130,
          131,
          132,
          133,
          134,
          135,
          136,
          137,
          138,
          139,
          140,
          141,
          142,
          143,
          144,
          145,
          146,
          147,
          148,
          149,
          150,
          151,
          152,
          153,
          154,
          155,
          156,
          157,
          158,
          159,
          160,
          161,
          162,
          163,
          164,
          165,
          166,
          167,
          168,
          169,
          170,
          171,
          172,
          173,
          174,
          175,
          176,
          177,
          178,
          179,
          180,
          181,
          182,
          183,
          184,
          185,
          186,
          187,
          188,
          189,
          190,
          191,
          192,
          193,
          194,
          195,
          196,
          197,
          198,
          199,
          200,
          201,
          202,
          203,
          204,
          205,
          206,
          207,
          208,
          209,
          210,
          211,
          212,
          213,
          214,
          215,
          216,
          217,
          218,
          219,
          220,
          221,
          222,
          223,
          224,
          225,
          226,
          227,
          228,
          229,
          230,
          231,
          232,
          233,
          234,
          235,
          236,
          237,
          238,
          239,
          240,
          241,
          242,
          243,
          244,
          245,
          246,
          247,
          248,
          249,
          250,
          251,
          252,
          253,
          254,
          255,
          256,
          257,
          258,
          259,
          260,
          261,
          262,
          263,
          264,
          265,
          266,
          267,
          268,
          269,
          270,
          271,
          272,
          273,
          274,
          275,
          276,
          277,
          278,
          279,
          280,
          281,
          282
         ],
         "y": [
          29.875,
          24.666666666666668,
          26.25,
          25.93333333333333,
          27.125,
          29.571428571428573,
          30,
          30.571428571428573,
          32.3125,
          33.3125,
          32.8125,
          32.3125,
          31.375,
          29.933333333333334,
          29.266666666666666,
          30.73333333333333,
          32.25,
          29.8,
          30.2,
          31.75,
          33.125,
          33.625,
          35.6875,
          34.666666666666664,
          34.625,
          34,
          34.0625,
          34,
          33.25,
          31.916666666666668,
          31.3125,
          31.75,
          33.4375,
          33.125,
          34.15384615384615,
          34.07142857142857,
          33.0625,
          34.6875,
          38,
          35.49999999999999,
          33.714285714285715,
          30.6,
          31.4375,
          33.3125,
          35.13333333333333,
          33.53333333333333,
          34,
          32.5,
          35.375,
          37.294117647058826,
          36.5625,
          37.25,
          37.21428571428572,
          37.5,
          37.75,
          37.375,
          37.4,
          36.13333333333333,
          36.8,
          32.214285714285715,
          31.526315789473685,
          33.21739130434783,
          35.26923076923077,
          38.27272727272727,
          36.0625,
          31.5,
          26.8125,
          32.642857142857146,
          36,
          37.5625,
          37.5625,
          38.2,
          36.16666666666666,
          35.42857142857143,
          34.625,
          36.07142857142857,
          35.733333333333334,
          36.13333333333333,
          33.4375,
          35.49999999999999,
          36,
          32.625,
          34.733333333333334,
          33.5,
          34.1875,
          35.857142857142854,
          35.625,
          30.9375,
          32.875,
          33.125,
          33.84615384615385,
          36.4375,
          35.42857142857143,
          34.86666666666667,
          34.3125,
          30.785714285714285,
          35.375,
          35.46666666666667,
          32.125,
          28.4,
          29.5625,
          30.6875,
          33.25,
          33.266666666666666,
          33.5,
          30.8,
          33.25,
          32.5625,
          31.5,
          30.5,
          31.25,
          30.4375,
          31,
          27.125,
          28.125,
          27.666666666666668,
          32.3125,
          34.1875,
          34.13333333333333,
          34.125,
          31.875,
          31.4375,
          31.9375,
          30.3125,
          28.3125,
          29.53333333333333,
          27.375,
          27.33333333333333,
          29.266666666666666,
          29.125,
          30.6875,
          32.5625,
          33.111111111111114,
          33.8,
          30.066666666666663,
          33.11764705882353,
          33.80952380952381,
          31.615384615384617,
          32,
          28.107142857142858,
          29.035714285714285,
          30.321428571428573,
          28.933333333333334,
          31.678571428571427,
          31.33333333333333,
          29.928571428571427,
          29.88888888888889,
          32.07142857142857,
          33.18518518518518,
          31.59259259259259,
          32.18518518518518,
          31.48,
          30.178571428571427,
          31.52,
          31.22222222222222,
          31.785714285714285,
          33.4,
          29.571428571428573,
          30.04,
          27.25925925925926,
          27.96,
          30.73913043478261,
          30.894736842105264,
          31.692307692307693,
          31.07692307692308,
          30.375,
          31.1,
          31.916666666666668,
          30.55555555555556,
          31.23076923076923,
          31,
          31.642857142857142,
          32.53333333333333,
          30.857142857142858,
          31.727272727272727,
          31.4,
          32.30769230769231,
          32.25,
          32.375,
          33.44444444444444,
          33.36,
          30.03703703703704,
          31,
          31.24,
          31.130434782608692,
          31.48,
          32.18518518518518,
          32.44,
          32.22727272727273,
          32.214285714285715,
          32.541666666666664,
          32.81481481481482,
          33.26923076923077,
          30.55555555555556,
          28.83333333333333,
          30.703703703703702,
          30.96,
          30.6,
          30.92,
          29.77777777777778,
          29.666666666666668,
          29.571428571428573,
          29.96296296296296,
          29.75,
          27.74074074074074,
          28.428571428571427,
          28.6,
          28.5,
          28.925925925925927,
          29.07692307692308,
          28.40909090909091,
          29.33333333333333,
          27.5,
          28.5,
          28.04,
          27.57692307692308,
          26.55555555555556,
          25.51851851851852,
          25.814814814814813,
          24.82608695652174,
          24.53846153846154,
          24.384615384615383,
          23.727272727272727,
          25.64,
          24.814814814814813,
          23.115384615384617,
          22.925925925925927,
          24.545454545454547,
          23.73076923076923,
          23,
          23.51851851851852,
          23.92,
          23.53846153846154,
          24.296296296296298,
          23.346153846153847,
          22.24,
          21.769230769230774,
          21.73076923076923,
          21.73076923076923,
          20.666666666666668,
          22.25,
          21.53846153846154,
          22.57894736842105,
          22.82608695652174,
          21.42105263157895,
          23.6,
          24.294117647058822,
          23.63636363636364,
          22.454545454545453,
          21.61111111111111,
          19.869565217391305,
          19.75,
          19.20833333333333,
          21.20833333333333,
          18.9,
          18.63636363636364,
          18.53846153846154,
          18.25,
          16.9,
          19.416666666666668,
          16.444444444444443,
          20.041666666666668,
          19.90909090909091,
          19.05,
          18.55555555555556,
          18.166666666666668,
          15.833333333333334,
          17.5,
          16.083333333333332,
          17.857142857142858,
          19.8,
          18.05,
          17.285714285714285,
          15.550000000000002,
          17.318181818181817,
          14,
          17.142857142857142,
          16.85,
          17.217391304347824,
          15.238095238095237,
          14.095238095238097,
          15.05263157894737,
          10
         ]
        },
        {
         "line": {
          "color": "rgba(55, 128, 191, 1.0)",
          "dash": "solid",
          "shape": "linear",
          "width": 1.3
         },
         "mode": "lines",
         "name": "Predictions",
         "text": "",
         "type": "scatter",
         "x": [
          0,
          1,
          2,
          3,
          4,
          5,
          6,
          7,
          8,
          9,
          10,
          11,
          12,
          13,
          14,
          15,
          16,
          17,
          18,
          19,
          20,
          21,
          22,
          23,
          24,
          25,
          26,
          27,
          28,
          29,
          30,
          31,
          32,
          33,
          34,
          35,
          36,
          37,
          38,
          39,
          40,
          41,
          42,
          43,
          44,
          45,
          46,
          47,
          48,
          49,
          50,
          51,
          52,
          53,
          54,
          55,
          56,
          57,
          58,
          59,
          60,
          61,
          62,
          63,
          64,
          65,
          66,
          67,
          68,
          69,
          70,
          71,
          72,
          73,
          74,
          75,
          76,
          77,
          78,
          79,
          80,
          81,
          82,
          83,
          84,
          85,
          86,
          87,
          88,
          89,
          90,
          91,
          92,
          93,
          94,
          95,
          96,
          97,
          98,
          99,
          100,
          101,
          102,
          103,
          104,
          105,
          106,
          107,
          108,
          109,
          110,
          111,
          112,
          113,
          114,
          115,
          116,
          117,
          118,
          119,
          120,
          121,
          122,
          123,
          124,
          125,
          126,
          127,
          128,
          129,
          130,
          131,
          132,
          133,
          134,
          135,
          136,
          137,
          138,
          139,
          140,
          141,
          142,
          143,
          144,
          145,
          146,
          147,
          148,
          149,
          150,
          151,
          152,
          153,
          154,
          155,
          156,
          157,
          158,
          159,
          160,
          161,
          162,
          163,
          164,
          165,
          166,
          167,
          168,
          169,
          170,
          171,
          172,
          173,
          174,
          175,
          176,
          177,
          178,
          179,
          180,
          181,
          182,
          183,
          184,
          185,
          186,
          187,
          188,
          189,
          190,
          191,
          192,
          193,
          194,
          195,
          196,
          197,
          198,
          199,
          200,
          201,
          202,
          203,
          204,
          205,
          206,
          207,
          208,
          209,
          210,
          211,
          212,
          213,
          214,
          215,
          216,
          217,
          218,
          219,
          220,
          221,
          222,
          223,
          224,
          225,
          226,
          227,
          228,
          229,
          230,
          231,
          232,
          233,
          234,
          235,
          236,
          237,
          238,
          239,
          240,
          241,
          242,
          243,
          244,
          245,
          246,
          247,
          248,
          249,
          250,
          251,
          252,
          253,
          254,
          255,
          256,
          257,
          258,
          259,
          260,
          261,
          262,
          263,
          264,
          265,
          266,
          267,
          268,
          269,
          270,
          271,
          272,
          273,
          274,
          275,
          276,
          277,
          278,
          279,
          280,
          281,
          282
         ],
         "y": [
          28.33854866027832,
          29.417320251464844,
          27.659624099731445,
          28.01297950744629,
          28.4363956451416,
          28.560895919799805,
          29.151601791381836,
          29.986953735351562,
          29.901803970336914,
          30.42522430419922,
          31.038414001464844,
          31.19420623779297,
          31.657682418823242,
          32.18567657470703,
          31.76883888244629,
          30.91957664489746,
          31.49505043029785,
          32.70440673828125,
          32.28550720214844,
          32.65286636352539,
          32.523155212402344,
          33.6199836730957,
          33.32602310180664,
          33.426185607910156,
          34.10797119140625,
          33.6807746887207,
          33.43395233154297,
          33.1784553527832,
          33.28420639038086,
          34.649906158447266,
          34.37295150756836,
          34.728187561035156,
          34.529563903808594,
          34.65102005004883,
          34.07004165649414,
          34.53963088989258,
          34.72738265991211,
          34.4993782043457,
          34.173702239990234,
          34.2861328125,
          33.86330795288086,
          34.314517974853516,
          33.03608703613281,
          33.19609451293945,
          33.50837707519531,
          33.857547760009766,
          32.71866989135742,
          33.46181869506836,
          33.35759353637695,
          33.16527557373047,
          33.474212646484375,
          34.0981559753418,
          34.97079849243164,
          34.83310317993164,
          35.124916076660156,
          35.726280212402344,
          35.6607780456543,
          35.43059158325195,
          35.306243896484375,
          35.49345016479492,
          34.801025390625,
          34.385101318359375,
          34.501590728759766,
          35.025875091552734,
          34.70363235473633,
          34.19183349609375,
          33.22315216064453,
          31.776859283447266,
          31.671890258789062,
          32.895347595214844,
          33.40220642089844,
          34.176082611083984,
          34.72006607055664,
          33.81455993652344,
          33.62383270263672,
          32.84817123413086,
          33.68608474731445,
          34.50391387939453,
          35.02235412597656,
          34.62334060668945,
          34.868408203125,
          34.62733459472656,
          33.162349700927734,
          33.36874771118164,
          34.082401275634766,
          33.19502639770508,
          33.26041793823242,
          33.59052658081055,
          32.593814849853516,
          32.39244079589844,
          32.5781364440918,
          32.72707748413086,
          33.270240783691406,
          33.5782356262207,
          33.58857345581055,
          33.68693161010742,
          32.566383361816406,
          32.86960220336914,
          33.8424186706543,
          33.57142639160156,
          31.63745880126953,
          31.411043167114258,
          32.314762115478516,
          32.05612564086914,
          32.97458267211914,
          32.7408447265625,
          31.461353302001953,
          30.69538116455078,
          31.395952224731445,
          31.915924072265625,
          31.8281192779541,
          32.5394172668457,
          32.60569381713867,
          32.400665283203125,
          31.969877243041992,
          31.047775268554688,
          31.06809425354004,
          31.18832015991211,
          32.157615661621094,
          31.584522247314453,
          31.360092163085938,
          31.045459747314453,
          30.8233585357666,
          31.29873275756836,
          31.43663787841797,
          30.85034942626953,
          31.08153533935547,
          30.41425132751465,
          29.68692970275879,
          29.530405044555664,
          28.95647621154785,
          29.047164916992188,
          29.39907455444336,
          30.277477264404297,
          30.471017837524414,
          30.588947296142578,
          31.02329444885254,
          32.567874908447266,
          32.95501708984375,
          31.888364791870117,
          30.56230354309082,
          30.321256637573242,
          30.976194381713867,
          30.41715431213379,
          30.774494171142578,
          31.416671752929688,
          30.22433853149414,
          29.539226531982422,
          30.467859268188477,
          30.774009704589844,
          31.619653701782227,
          32.257408142089844,
          30.556699752807617,
          30.07733726501465,
          31.10553741455078,
          31.125289916992188,
          31.461196899414062,
          32.06623077392578,
          31.846466064453125,
          31.271381378173828,
          30.39841651916504,
          30.56409454345703,
          30.8536319732666,
          31.79644775390625,
          31.289491653442383,
          30.273298263549805,
          30.209012985229492,
          29.98153305053711,
          30.350805282592773,
          30.597536087036133,
          30.525455474853516,
          30.33451271057129,
          30.858814239501953,
          30.979272842407227,
          30.776365280151367,
          31.217798233032227,
          31.476184844970703,
          31.75652313232422,
          32.25532913208008,
          32.65616226196289,
          33.11581802368164,
          31.87883186340332,
          29.138343811035156,
          30.35502815246582,
          30.790159225463867,
          31.27989387512207,
          32.13827896118164,
          32.10841751098633,
          31.895126342773438,
          31.848587036132812,
          31.469863891601562,
          31.451908111572266,
          30.861581802368164,
          31.148412704467773,
          30.60146141052246,
          30.335920333862305,
          30.481664657592773,
          30.425472259521484,
          31.19832420349121,
          31.51116943359375,
          30.390182495117188,
          29.857664108276367,
          30.331207275390625,
          31.293048858642578,
          31.357582092285156,
          31.227989196777344,
          30.74352264404297,
          30.0141658782959,
          30.39617156982422,
          30.642860412597656,
          30.360631942749023,
          30.171110153198242,
          30.048707962036133,
          29.443317413330078,
          29.350933074951172,
          29.26963996887207,
          28.9483585357666,
          28.813745498657227,
          28.445741653442383,
          27.621946334838867,
          27.141983032226562,
          26.662437438964844,
          25.880765914916992,
          25.11687660217285,
          24.96561050415039,
          24.2989501953125,
          23.47517967224121,
          23.123056411743164,
          22.75400161743164,
          22.620670318603516,
          22.334514617919922,
          22.547365188598633,
          23.354671478271484,
          23.51075553894043,
          25.00109100341797,
          25.419281005859375,
          24.690073013305664,
          23.78915023803711,
          22.359516143798828,
          20.962202072143555,
          20.40233039855957,
          21.010623931884766,
          21.072885513305664,
          21.842132568359375,
          22.64469337463379,
          22.881654739379883,
          22.98870277404785,
          23.404552459716797,
          23.859060287475586,
          24.264148712158203,
          25.176176071166992,
          24.753538131713867,
          23.68682098388672,
          22.358165740966797,
          22.03274917602539,
          21.836870193481445,
          20.670101165771484,
          19.71733856201172,
          19.574264526367188,
          18.976383209228516,
          19.876914978027344,
          19.086772918701172,
          18.7476863861084,
          18.997299194335938,
          18.71766471862793,
          18.55860710144043,
          18.299970626831055,
          18.07118034362793,
          17.242534637451172,
          16.781221389770508,
          16.543441772460938,
          16.91781234741211,
          17.413814544677734,
          17.528839111328125,
          17.790029525756836,
          17.589269638061523,
          17.228607177734375,
          17.358287811279297,
          17.091876983642578,
          16.94968605041504,
          16.24825668334961,
          15.94963264465332,
          16.225046157836914
         ]
        }
       ],
       "layout": {
        "legend": {
         "bgcolor": "#151516",
         "font": {
          "color": "#D9D9D9"
         }
        },
        "paper_bgcolor": "#151516",
        "plot_bgcolor": "#151516",
        "template": {
         "data": {
          "bar": [
           {
            "error_x": {
             "color": "#2a3f5f"
            },
            "error_y": {
             "color": "#2a3f5f"
            },
            "marker": {
             "line": {
              "color": "#E5ECF6",
              "width": 0.5
             },
             "pattern": {
              "fillmode": "overlay",
              "size": 10,
              "solidity": 0.2
             }
            },
            "type": "bar"
           }
          ],
          "barpolar": [
           {
            "marker": {
             "line": {
              "color": "#E5ECF6",
              "width": 0.5
             },
             "pattern": {
              "fillmode": "overlay",
              "size": 10,
              "solidity": 0.2
             }
            },
            "type": "barpolar"
           }
          ],
          "carpet": [
           {
            "aaxis": {
             "endlinecolor": "#2a3f5f",
             "gridcolor": "white",
             "linecolor": "white",
             "minorgridcolor": "white",
             "startlinecolor": "#2a3f5f"
            },
            "baxis": {
             "endlinecolor": "#2a3f5f",
             "gridcolor": "white",
             "linecolor": "white",
             "minorgridcolor": "white",
             "startlinecolor": "#2a3f5f"
            },
            "type": "carpet"
           }
          ],
          "choropleth": [
           {
            "colorbar": {
             "outlinewidth": 0,
             "ticks": ""
            },
            "type": "choropleth"
           }
          ],
          "contour": [
           {
            "colorbar": {
             "outlinewidth": 0,
             "ticks": ""
            },
            "colorscale": [
             [
              0,
              "#0d0887"
             ],
             [
              0.1111111111111111,
              "#46039f"
             ],
             [
              0.2222222222222222,
              "#7201a8"
             ],
             [
              0.3333333333333333,
              "#9c179e"
             ],
             [
              0.4444444444444444,
              "#bd3786"
             ],
             [
              0.5555555555555556,
              "#d8576b"
             ],
             [
              0.6666666666666666,
              "#ed7953"
             ],
             [
              0.7777777777777778,
              "#fb9f3a"
             ],
             [
              0.8888888888888888,
              "#fdca26"
             ],
             [
              1,
              "#f0f921"
             ]
            ],
            "type": "contour"
           }
          ],
          "contourcarpet": [
           {
            "colorbar": {
             "outlinewidth": 0,
             "ticks": ""
            },
            "type": "contourcarpet"
           }
          ],
          "heatmap": [
           {
            "colorbar": {
             "outlinewidth": 0,
             "ticks": ""
            },
            "colorscale": [
             [
              0,
              "#0d0887"
             ],
             [
              0.1111111111111111,
              "#46039f"
             ],
             [
              0.2222222222222222,
              "#7201a8"
             ],
             [
              0.3333333333333333,
              "#9c179e"
             ],
             [
              0.4444444444444444,
              "#bd3786"
             ],
             [
              0.5555555555555556,
              "#d8576b"
             ],
             [
              0.6666666666666666,
              "#ed7953"
             ],
             [
              0.7777777777777778,
              "#fb9f3a"
             ],
             [
              0.8888888888888888,
              "#fdca26"
             ],
             [
              1,
              "#f0f921"
             ]
            ],
            "type": "heatmap"
           }
          ],
          "heatmapgl": [
           {
            "colorbar": {
             "outlinewidth": 0,
             "ticks": ""
            },
            "colorscale": [
             [
              0,
              "#0d0887"
             ],
             [
              0.1111111111111111,
              "#46039f"
             ],
             [
              0.2222222222222222,
              "#7201a8"
             ],
             [
              0.3333333333333333,
              "#9c179e"
             ],
             [
              0.4444444444444444,
              "#bd3786"
             ],
             [
              0.5555555555555556,
              "#d8576b"
             ],
             [
              0.6666666666666666,
              "#ed7953"
             ],
             [
              0.7777777777777778,
              "#fb9f3a"
             ],
             [
              0.8888888888888888,
              "#fdca26"
             ],
             [
              1,
              "#f0f921"
             ]
            ],
            "type": "heatmapgl"
           }
          ],
          "histogram": [
           {
            "marker": {
             "pattern": {
              "fillmode": "overlay",
              "size": 10,
              "solidity": 0.2
             }
            },
            "type": "histogram"
           }
          ],
          "histogram2d": [
           {
            "colorbar": {
             "outlinewidth": 0,
             "ticks": ""
            },
            "colorscale": [
             [
              0,
              "#0d0887"
             ],
             [
              0.1111111111111111,
              "#46039f"
             ],
             [
              0.2222222222222222,
              "#7201a8"
             ],
             [
              0.3333333333333333,
              "#9c179e"
             ],
             [
              0.4444444444444444,
              "#bd3786"
             ],
             [
              0.5555555555555556,
              "#d8576b"
             ],
             [
              0.6666666666666666,
              "#ed7953"
             ],
             [
              0.7777777777777778,
              "#fb9f3a"
             ],
             [
              0.8888888888888888,
              "#fdca26"
             ],
             [
              1,
              "#f0f921"
             ]
            ],
            "type": "histogram2d"
           }
          ],
          "histogram2dcontour": [
           {
            "colorbar": {
             "outlinewidth": 0,
             "ticks": ""
            },
            "colorscale": [
             [
              0,
              "#0d0887"
             ],
             [
              0.1111111111111111,
              "#46039f"
             ],
             [
              0.2222222222222222,
              "#7201a8"
             ],
             [
              0.3333333333333333,
              "#9c179e"
             ],
             [
              0.4444444444444444,
              "#bd3786"
             ],
             [
              0.5555555555555556,
              "#d8576b"
             ],
             [
              0.6666666666666666,
              "#ed7953"
             ],
             [
              0.7777777777777778,
              "#fb9f3a"
             ],
             [
              0.8888888888888888,
              "#fdca26"
             ],
             [
              1,
              "#f0f921"
             ]
            ],
            "type": "histogram2dcontour"
           }
          ],
          "mesh3d": [
           {
            "colorbar": {
             "outlinewidth": 0,
             "ticks": ""
            },
            "type": "mesh3d"
           }
          ],
          "parcoords": [
           {
            "line": {
             "colorbar": {
              "outlinewidth": 0,
              "ticks": ""
             }
            },
            "type": "parcoords"
           }
          ],
          "pie": [
           {
            "automargin": true,
            "type": "pie"
           }
          ],
          "scatter": [
           {
            "fillpattern": {
             "fillmode": "overlay",
             "size": 10,
             "solidity": 0.2
            },
            "type": "scatter"
           }
          ],
          "scatter3d": [
           {
            "line": {
             "colorbar": {
              "outlinewidth": 0,
              "ticks": ""
             }
            },
            "marker": {
             "colorbar": {
              "outlinewidth": 0,
              "ticks": ""
             }
            },
            "type": "scatter3d"
           }
          ],
          "scattercarpet": [
           {
            "marker": {
             "colorbar": {
              "outlinewidth": 0,
              "ticks": ""
             }
            },
            "type": "scattercarpet"
           }
          ],
          "scattergeo": [
           {
            "marker": {
             "colorbar": {
              "outlinewidth": 0,
              "ticks": ""
             }
            },
            "type": "scattergeo"
           }
          ],
          "scattergl": [
           {
            "marker": {
             "colorbar": {
              "outlinewidth": 0,
              "ticks": ""
             }
            },
            "type": "scattergl"
           }
          ],
          "scattermapbox": [
           {
            "marker": {
             "colorbar": {
              "outlinewidth": 0,
              "ticks": ""
             }
            },
            "type": "scattermapbox"
           }
          ],
          "scatterpolar": [
           {
            "marker": {
             "colorbar": {
              "outlinewidth": 0,
              "ticks": ""
             }
            },
            "type": "scatterpolar"
           }
          ],
          "scatterpolargl": [
           {
            "marker": {
             "colorbar": {
              "outlinewidth": 0,
              "ticks": ""
             }
            },
            "type": "scatterpolargl"
           }
          ],
          "scatterternary": [
           {
            "marker": {
             "colorbar": {
              "outlinewidth": 0,
              "ticks": ""
             }
            },
            "type": "scatterternary"
           }
          ],
          "surface": [
           {
            "colorbar": {
             "outlinewidth": 0,
             "ticks": ""
            },
            "colorscale": [
             [
              0,
              "#0d0887"
             ],
             [
              0.1111111111111111,
              "#46039f"
             ],
             [
              0.2222222222222222,
              "#7201a8"
             ],
             [
              0.3333333333333333,
              "#9c179e"
             ],
             [
              0.4444444444444444,
              "#bd3786"
             ],
             [
              0.5555555555555556,
              "#d8576b"
             ],
             [
              0.6666666666666666,
              "#ed7953"
             ],
             [
              0.7777777777777778,
              "#fb9f3a"
             ],
             [
              0.8888888888888888,
              "#fdca26"
             ],
             [
              1,
              "#f0f921"
             ]
            ],
            "type": "surface"
           }
          ],
          "table": [
           {
            "cells": {
             "fill": {
              "color": "#EBF0F8"
             },
             "line": {
              "color": "white"
             }
            },
            "header": {
             "fill": {
              "color": "#C8D4E3"
             },
             "line": {
              "color": "white"
             }
            },
            "type": "table"
           }
          ]
         },
         "layout": {
          "annotationdefaults": {
           "arrowcolor": "#2a3f5f",
           "arrowhead": 0,
           "arrowwidth": 1
          },
          "autotypenumbers": "strict",
          "coloraxis": {
           "colorbar": {
            "outlinewidth": 0,
            "ticks": ""
           }
          },
          "colorscale": {
           "diverging": [
            [
             0,
             "#8e0152"
            ],
            [
             0.1,
             "#c51b7d"
            ],
            [
             0.2,
             "#de77ae"
            ],
            [
             0.3,
             "#f1b6da"
            ],
            [
             0.4,
             "#fde0ef"
            ],
            [
             0.5,
             "#f7f7f7"
            ],
            [
             0.6,
             "#e6f5d0"
            ],
            [
             0.7,
             "#b8e186"
            ],
            [
             0.8,
             "#7fbc41"
            ],
            [
             0.9,
             "#4d9221"
            ],
            [
             1,
             "#276419"
            ]
           ],
           "sequential": [
            [
             0,
             "#0d0887"
            ],
            [
             0.1111111111111111,
             "#46039f"
            ],
            [
             0.2222222222222222,
             "#7201a8"
            ],
            [
             0.3333333333333333,
             "#9c179e"
            ],
            [
             0.4444444444444444,
             "#bd3786"
            ],
            [
             0.5555555555555556,
             "#d8576b"
            ],
            [
             0.6666666666666666,
             "#ed7953"
            ],
            [
             0.7777777777777778,
             "#fb9f3a"
            ],
            [
             0.8888888888888888,
             "#fdca26"
            ],
            [
             1,
             "#f0f921"
            ]
           ],
           "sequentialminus": [
            [
             0,
             "#0d0887"
            ],
            [
             0.1111111111111111,
             "#46039f"
            ],
            [
             0.2222222222222222,
             "#7201a8"
            ],
            [
             0.3333333333333333,
             "#9c179e"
            ],
            [
             0.4444444444444444,
             "#bd3786"
            ],
            [
             0.5555555555555556,
             "#d8576b"
            ],
            [
             0.6666666666666666,
             "#ed7953"
            ],
            [
             0.7777777777777778,
             "#fb9f3a"
            ],
            [
             0.8888888888888888,
             "#fdca26"
            ],
            [
             1,
             "#f0f921"
            ]
           ]
          },
          "colorway": [
           "#636efa",
           "#EF553B",
           "#00cc96",
           "#ab63fa",
           "#FFA15A",
           "#19d3f3",
           "#FF6692",
           "#B6E880",
           "#FF97FF",
           "#FECB52"
          ],
          "font": {
           "color": "#2a3f5f"
          },
          "geo": {
           "bgcolor": "white",
           "lakecolor": "white",
           "landcolor": "#E5ECF6",
           "showlakes": true,
           "showland": true,
           "subunitcolor": "white"
          },
          "hoverlabel": {
           "align": "left"
          },
          "hovermode": "closest",
          "mapbox": {
           "style": "light"
          },
          "paper_bgcolor": "white",
          "plot_bgcolor": "#E5ECF6",
          "polar": {
           "angularaxis": {
            "gridcolor": "white",
            "linecolor": "white",
            "ticks": ""
           },
           "bgcolor": "#E5ECF6",
           "radialaxis": {
            "gridcolor": "white",
            "linecolor": "white",
            "ticks": ""
           }
          },
          "scene": {
           "xaxis": {
            "backgroundcolor": "#E5ECF6",
            "gridcolor": "white",
            "gridwidth": 2,
            "linecolor": "white",
            "showbackground": true,
            "ticks": "",
            "zerolinecolor": "white"
           },
           "yaxis": {
            "backgroundcolor": "#E5ECF6",
            "gridcolor": "white",
            "gridwidth": 2,
            "linecolor": "white",
            "showbackground": true,
            "ticks": "",
            "zerolinecolor": "white"
           },
           "zaxis": {
            "backgroundcolor": "#E5ECF6",
            "gridcolor": "white",
            "gridwidth": 2,
            "linecolor": "white",
            "showbackground": true,
            "ticks": "",
            "zerolinecolor": "white"
           }
          },
          "shapedefaults": {
           "line": {
            "color": "#2a3f5f"
           }
          },
          "ternary": {
           "aaxis": {
            "gridcolor": "white",
            "linecolor": "white",
            "ticks": ""
           },
           "baxis": {
            "gridcolor": "white",
            "linecolor": "white",
            "ticks": ""
           },
           "bgcolor": "#E5ECF6",
           "caxis": {
            "gridcolor": "white",
            "linecolor": "white",
            "ticks": ""
           }
          },
          "title": {
           "x": 0.05
          },
          "xaxis": {
           "automargin": true,
           "gridcolor": "white",
           "linecolor": "white",
           "ticks": "",
           "title": {
            "standoff": 15
           },
           "zerolinecolor": "white",
           "zerolinewidth": 2
          },
          "yaxis": {
           "automargin": true,
           "gridcolor": "white",
           "linecolor": "white",
           "ticks": "",
           "title": {
            "standoff": 15
           },
           "zerolinecolor": "white",
           "zerolinewidth": 2
          }
         }
        },
        "title": {
         "font": {
          "color": "#D9D9D9"
         },
         "text": "Прогноз vs Реальные значения"
        },
        "xaxis": {
         "gridcolor": "#434343",
         "showgrid": true,
         "tickfont": {
          "color": "#C2C2C2"
         },
         "title": {
          "font": {
           "color": "#D9D9D9"
          },
          "text": "Время"
         },
         "zerolinecolor": "#666570"
        },
        "yaxis": {
         "gridcolor": "#434343",
         "showgrid": true,
         "tickfont": {
          "color": "#C2C2C2"
         },
         "title": {
          "font": {
           "color": "#D9D9D9"
          },
          "text": "Значение"
         },
         "zerolinecolor": "#666570"
        }
       }
      },
      "text/html": [
       "<div>                            <div id=\"152189f9-f13f-4df6-9b70-1b50bbb2f586\" class=\"plotly-graph-div\" style=\"height:525px; width:100%;\"></div>            <script type=\"text/javascript\">                require([\"plotly\"], function(Plotly) {                    window.PLOTLYENV=window.PLOTLYENV || {};\n",
       "                    window.PLOTLYENV.BASE_URL='https://plot.ly';                                    if (document.getElementById(\"152189f9-f13f-4df6-9b70-1b50bbb2f586\")) {                    Plotly.newPlot(                        \"152189f9-f13f-4df6-9b70-1b50bbb2f586\",                        [{\"line\":{\"color\":\"rgba(255, 153, 51, 1.0)\",\"dash\":\"solid\",\"shape\":\"linear\",\"width\":1.3},\"mode\":\"lines\",\"name\":\"Y_test\",\"text\":\"\",\"x\":[0,1,2,3,4,5,6,7,8,9,10,11,12,13,14,15,16,17,18,19,20,21,22,23,24,25,26,27,28,29,30,31,32,33,34,35,36,37,38,39,40,41,42,43,44,45,46,47,48,49,50,51,52,53,54,55,56,57,58,59,60,61,62,63,64,65,66,67,68,69,70,71,72,73,74,75,76,77,78,79,80,81,82,83,84,85,86,87,88,89,90,91,92,93,94,95,96,97,98,99,100,101,102,103,104,105,106,107,108,109,110,111,112,113,114,115,116,117,118,119,120,121,122,123,124,125,126,127,128,129,130,131,132,133,134,135,136,137,138,139,140,141,142,143,144,145,146,147,148,149,150,151,152,153,154,155,156,157,158,159,160,161,162,163,164,165,166,167,168,169,170,171,172,173,174,175,176,177,178,179,180,181,182,183,184,185,186,187,188,189,190,191,192,193,194,195,196,197,198,199,200,201,202,203,204,205,206,207,208,209,210,211,212,213,214,215,216,217,218,219,220,221,222,223,224,225,226,227,228,229,230,231,232,233,234,235,236,237,238,239,240,241,242,243,244,245,246,247,248,249,250,251,252,253,254,255,256,257,258,259,260,261,262,263,264,265,266,267,268,269,270,271,272,273,274,275,276,277,278,279,280,281,282],\"y\":[29.875,24.666666666666668,26.25,25.93333333333333,27.125,29.571428571428573,30.0,30.571428571428573,32.3125,33.3125,32.8125,32.3125,31.375,29.933333333333334,29.266666666666666,30.73333333333333,32.25,29.8,30.2,31.75,33.125,33.625,35.6875,34.666666666666664,34.625,34.0,34.0625,34.0,33.25,31.916666666666668,31.3125,31.75,33.4375,33.125,34.15384615384615,34.07142857142857,33.0625,34.6875,38.0,35.49999999999999,33.714285714285715,30.6,31.4375,33.3125,35.13333333333333,33.53333333333333,34.0,32.5,35.375,37.294117647058826,36.5625,37.25,37.21428571428572,37.5,37.75,37.375,37.4,36.13333333333333,36.8,32.214285714285715,31.526315789473685,33.21739130434783,35.26923076923077,38.27272727272727,36.0625,31.5,26.8125,32.642857142857146,36.0,37.5625,37.5625,38.2,36.16666666666666,35.42857142857143,34.625,36.07142857142857,35.733333333333334,36.13333333333333,33.4375,35.49999999999999,36.0,32.625,34.733333333333334,33.5,34.1875,35.857142857142854,35.625,30.9375,32.875,33.125,33.84615384615385,36.4375,35.42857142857143,34.86666666666667,34.3125,30.785714285714285,35.375,35.46666666666667,32.125,28.4,29.5625,30.6875,33.25,33.266666666666666,33.5,30.8,33.25,32.5625,31.5,30.5,31.25,30.4375,31.0,27.125,28.125,27.666666666666668,32.3125,34.1875,34.13333333333333,34.125,31.875,31.4375,31.9375,30.3125,28.3125,29.53333333333333,27.375,27.33333333333333,29.266666666666666,29.125,30.6875,32.5625,33.111111111111114,33.8,30.066666666666663,33.11764705882353,33.80952380952381,31.615384615384617,32.0,28.107142857142858,29.035714285714285,30.321428571428573,28.933333333333334,31.678571428571427,31.33333333333333,29.928571428571427,29.88888888888889,32.07142857142857,33.18518518518518,31.59259259259259,32.18518518518518,31.48,30.178571428571427,31.52,31.22222222222222,31.785714285714285,33.4,29.571428571428573,30.04,27.25925925925926,27.96,30.73913043478261,30.894736842105264,31.692307692307693,31.07692307692308,30.375,31.1,31.916666666666668,30.55555555555556,31.23076923076923,31.0,31.642857142857142,32.53333333333333,30.857142857142858,31.727272727272727,31.4,32.30769230769231,32.25,32.375,33.44444444444444,33.36,30.03703703703704,31.0,31.24,31.130434782608692,31.48,32.18518518518518,32.44,32.22727272727273,32.214285714285715,32.541666666666664,32.81481481481482,33.26923076923077,30.55555555555556,28.83333333333333,30.703703703703702,30.96,30.6,30.92,29.77777777777778,29.666666666666668,29.571428571428573,29.96296296296296,29.75,27.74074074074074,28.428571428571427,28.6,28.5,28.925925925925927,29.07692307692308,28.40909090909091,29.33333333333333,27.5,28.5,28.04,27.57692307692308,26.55555555555556,25.51851851851852,25.814814814814813,24.82608695652174,24.53846153846154,24.384615384615383,23.727272727272727,25.64,24.814814814814813,23.115384615384617,22.925925925925927,24.545454545454547,23.73076923076923,23.0,23.51851851851852,23.92,23.53846153846154,24.296296296296298,23.346153846153847,22.24,21.769230769230774,21.73076923076923,21.73076923076923,20.666666666666668,22.25,21.53846153846154,22.57894736842105,22.82608695652174,21.42105263157895,23.6,24.294117647058822,23.63636363636364,22.454545454545453,21.61111111111111,19.869565217391305,19.75,19.20833333333333,21.20833333333333,18.9,18.63636363636364,18.53846153846154,18.25,16.9,19.416666666666668,16.444444444444443,20.041666666666668,19.90909090909091,19.05,18.55555555555556,18.166666666666668,15.833333333333334,17.5,16.083333333333332,17.857142857142858,19.8,18.05,17.285714285714285,15.550000000000002,17.318181818181817,14.0,17.142857142857142,16.85,17.217391304347824,15.238095238095237,14.095238095238097,15.05263157894737,10.0],\"type\":\"scatter\"},{\"line\":{\"color\":\"rgba(55, 128, 191, 1.0)\",\"dash\":\"solid\",\"shape\":\"linear\",\"width\":1.3},\"mode\":\"lines\",\"name\":\"Predictions\",\"text\":\"\",\"x\":[0,1,2,3,4,5,6,7,8,9,10,11,12,13,14,15,16,17,18,19,20,21,22,23,24,25,26,27,28,29,30,31,32,33,34,35,36,37,38,39,40,41,42,43,44,45,46,47,48,49,50,51,52,53,54,55,56,57,58,59,60,61,62,63,64,65,66,67,68,69,70,71,72,73,74,75,76,77,78,79,80,81,82,83,84,85,86,87,88,89,90,91,92,93,94,95,96,97,98,99,100,101,102,103,104,105,106,107,108,109,110,111,112,113,114,115,116,117,118,119,120,121,122,123,124,125,126,127,128,129,130,131,132,133,134,135,136,137,138,139,140,141,142,143,144,145,146,147,148,149,150,151,152,153,154,155,156,157,158,159,160,161,162,163,164,165,166,167,168,169,170,171,172,173,174,175,176,177,178,179,180,181,182,183,184,185,186,187,188,189,190,191,192,193,194,195,196,197,198,199,200,201,202,203,204,205,206,207,208,209,210,211,212,213,214,215,216,217,218,219,220,221,222,223,224,225,226,227,228,229,230,231,232,233,234,235,236,237,238,239,240,241,242,243,244,245,246,247,248,249,250,251,252,253,254,255,256,257,258,259,260,261,262,263,264,265,266,267,268,269,270,271,272,273,274,275,276,277,278,279,280,281,282],\"y\":[28.33854866027832,29.417320251464844,27.659624099731445,28.01297950744629,28.4363956451416,28.560895919799805,29.151601791381836,29.986953735351562,29.901803970336914,30.42522430419922,31.038414001464844,31.19420623779297,31.657682418823242,32.18567657470703,31.76883888244629,30.91957664489746,31.49505043029785,32.70440673828125,32.28550720214844,32.65286636352539,32.523155212402344,33.6199836730957,33.32602310180664,33.426185607910156,34.10797119140625,33.6807746887207,33.43395233154297,33.1784553527832,33.28420639038086,34.649906158447266,34.37295150756836,34.728187561035156,34.529563903808594,34.65102005004883,34.07004165649414,34.53963088989258,34.72738265991211,34.4993782043457,34.173702239990234,34.2861328125,33.86330795288086,34.314517974853516,33.03608703613281,33.19609451293945,33.50837707519531,33.857547760009766,32.71866989135742,33.46181869506836,33.35759353637695,33.16527557373047,33.474212646484375,34.0981559753418,34.97079849243164,34.83310317993164,35.124916076660156,35.726280212402344,35.6607780456543,35.43059158325195,35.306243896484375,35.49345016479492,34.801025390625,34.385101318359375,34.501590728759766,35.025875091552734,34.70363235473633,34.19183349609375,33.22315216064453,31.776859283447266,31.671890258789062,32.895347595214844,33.40220642089844,34.176082611083984,34.72006607055664,33.81455993652344,33.62383270263672,32.84817123413086,33.68608474731445,34.50391387939453,35.02235412597656,34.62334060668945,34.868408203125,34.62733459472656,33.162349700927734,33.36874771118164,34.082401275634766,33.19502639770508,33.26041793823242,33.59052658081055,32.593814849853516,32.39244079589844,32.5781364440918,32.72707748413086,33.270240783691406,33.5782356262207,33.58857345581055,33.68693161010742,32.566383361816406,32.86960220336914,33.8424186706543,33.57142639160156,31.63745880126953,31.411043167114258,32.314762115478516,32.05612564086914,32.97458267211914,32.7408447265625,31.461353302001953,30.69538116455078,31.395952224731445,31.915924072265625,31.8281192779541,32.5394172668457,32.60569381713867,32.400665283203125,31.969877243041992,31.047775268554688,31.06809425354004,31.18832015991211,32.157615661621094,31.584522247314453,31.360092163085938,31.045459747314453,30.8233585357666,31.29873275756836,31.43663787841797,30.85034942626953,31.08153533935547,30.41425132751465,29.68692970275879,29.530405044555664,28.95647621154785,29.047164916992188,29.39907455444336,30.277477264404297,30.471017837524414,30.588947296142578,31.02329444885254,32.567874908447266,32.95501708984375,31.888364791870117,30.56230354309082,30.321256637573242,30.976194381713867,30.41715431213379,30.774494171142578,31.416671752929688,30.22433853149414,29.539226531982422,30.467859268188477,30.774009704589844,31.619653701782227,32.257408142089844,30.556699752807617,30.07733726501465,31.10553741455078,31.125289916992188,31.461196899414062,32.06623077392578,31.846466064453125,31.271381378173828,30.39841651916504,30.56409454345703,30.8536319732666,31.79644775390625,31.289491653442383,30.273298263549805,30.209012985229492,29.98153305053711,30.350805282592773,30.597536087036133,30.525455474853516,30.33451271057129,30.858814239501953,30.979272842407227,30.776365280151367,31.217798233032227,31.476184844970703,31.75652313232422,32.25532913208008,32.65616226196289,33.11581802368164,31.87883186340332,29.138343811035156,30.35502815246582,30.790159225463867,31.27989387512207,32.13827896118164,32.10841751098633,31.895126342773438,31.848587036132812,31.469863891601562,31.451908111572266,30.861581802368164,31.148412704467773,30.60146141052246,30.335920333862305,30.481664657592773,30.425472259521484,31.19832420349121,31.51116943359375,30.390182495117188,29.857664108276367,30.331207275390625,31.293048858642578,31.357582092285156,31.227989196777344,30.74352264404297,30.0141658782959,30.39617156982422,30.642860412597656,30.360631942749023,30.171110153198242,30.048707962036133,29.443317413330078,29.350933074951172,29.26963996887207,28.9483585357666,28.813745498657227,28.445741653442383,27.621946334838867,27.141983032226562,26.662437438964844,25.880765914916992,25.11687660217285,24.96561050415039,24.2989501953125,23.47517967224121,23.123056411743164,22.75400161743164,22.620670318603516,22.334514617919922,22.547365188598633,23.354671478271484,23.51075553894043,25.00109100341797,25.419281005859375,24.690073013305664,23.78915023803711,22.359516143798828,20.962202072143555,20.40233039855957,21.010623931884766,21.072885513305664,21.842132568359375,22.64469337463379,22.881654739379883,22.98870277404785,23.404552459716797,23.859060287475586,24.264148712158203,25.176176071166992,24.753538131713867,23.68682098388672,22.358165740966797,22.03274917602539,21.836870193481445,20.670101165771484,19.71733856201172,19.574264526367188,18.976383209228516,19.876914978027344,19.086772918701172,18.7476863861084,18.997299194335938,18.71766471862793,18.55860710144043,18.299970626831055,18.07118034362793,17.242534637451172,16.781221389770508,16.543441772460938,16.91781234741211,17.413814544677734,17.528839111328125,17.790029525756836,17.589269638061523,17.228607177734375,17.358287811279297,17.091876983642578,16.94968605041504,16.24825668334961,15.94963264465332,16.225046157836914],\"type\":\"scatter\"}],                        {\"legend\":{\"bgcolor\":\"#151516\",\"font\":{\"color\":\"#D9D9D9\"}},\"paper_bgcolor\":\"#151516\",\"plot_bgcolor\":\"#151516\",\"template\":{\"data\":{\"barpolar\":[{\"marker\":{\"line\":{\"color\":\"#E5ECF6\",\"width\":0.5},\"pattern\":{\"fillmode\":\"overlay\",\"size\":10,\"solidity\":0.2}},\"type\":\"barpolar\"}],\"bar\":[{\"error_x\":{\"color\":\"#2a3f5f\"},\"error_y\":{\"color\":\"#2a3f5f\"},\"marker\":{\"line\":{\"color\":\"#E5ECF6\",\"width\":0.5},\"pattern\":{\"fillmode\":\"overlay\",\"size\":10,\"solidity\":0.2}},\"type\":\"bar\"}],\"carpet\":[{\"aaxis\":{\"endlinecolor\":\"#2a3f5f\",\"gridcolor\":\"white\",\"linecolor\":\"white\",\"minorgridcolor\":\"white\",\"startlinecolor\":\"#2a3f5f\"},\"baxis\":{\"endlinecolor\":\"#2a3f5f\",\"gridcolor\":\"white\",\"linecolor\":\"white\",\"minorgridcolor\":\"white\",\"startlinecolor\":\"#2a3f5f\"},\"type\":\"carpet\"}],\"choropleth\":[{\"colorbar\":{\"outlinewidth\":0,\"ticks\":\"\"},\"type\":\"choropleth\"}],\"contourcarpet\":[{\"colorbar\":{\"outlinewidth\":0,\"ticks\":\"\"},\"type\":\"contourcarpet\"}],\"contour\":[{\"colorbar\":{\"outlinewidth\":0,\"ticks\":\"\"},\"colorscale\":[[0.0,\"#0d0887\"],[0.1111111111111111,\"#46039f\"],[0.2222222222222222,\"#7201a8\"],[0.3333333333333333,\"#9c179e\"],[0.4444444444444444,\"#bd3786\"],[0.5555555555555556,\"#d8576b\"],[0.6666666666666666,\"#ed7953\"],[0.7777777777777778,\"#fb9f3a\"],[0.8888888888888888,\"#fdca26\"],[1.0,\"#f0f921\"]],\"type\":\"contour\"}],\"heatmapgl\":[{\"colorbar\":{\"outlinewidth\":0,\"ticks\":\"\"},\"colorscale\":[[0.0,\"#0d0887\"],[0.1111111111111111,\"#46039f\"],[0.2222222222222222,\"#7201a8\"],[0.3333333333333333,\"#9c179e\"],[0.4444444444444444,\"#bd3786\"],[0.5555555555555556,\"#d8576b\"],[0.6666666666666666,\"#ed7953\"],[0.7777777777777778,\"#fb9f3a\"],[0.8888888888888888,\"#fdca26\"],[1.0,\"#f0f921\"]],\"type\":\"heatmapgl\"}],\"heatmap\":[{\"colorbar\":{\"outlinewidth\":0,\"ticks\":\"\"},\"colorscale\":[[0.0,\"#0d0887\"],[0.1111111111111111,\"#46039f\"],[0.2222222222222222,\"#7201a8\"],[0.3333333333333333,\"#9c179e\"],[0.4444444444444444,\"#bd3786\"],[0.5555555555555556,\"#d8576b\"],[0.6666666666666666,\"#ed7953\"],[0.7777777777777778,\"#fb9f3a\"],[0.8888888888888888,\"#fdca26\"],[1.0,\"#f0f921\"]],\"type\":\"heatmap\"}],\"histogram2dcontour\":[{\"colorbar\":{\"outlinewidth\":0,\"ticks\":\"\"},\"colorscale\":[[0.0,\"#0d0887\"],[0.1111111111111111,\"#46039f\"],[0.2222222222222222,\"#7201a8\"],[0.3333333333333333,\"#9c179e\"],[0.4444444444444444,\"#bd3786\"],[0.5555555555555556,\"#d8576b\"],[0.6666666666666666,\"#ed7953\"],[0.7777777777777778,\"#fb9f3a\"],[0.8888888888888888,\"#fdca26\"],[1.0,\"#f0f921\"]],\"type\":\"histogram2dcontour\"}],\"histogram2d\":[{\"colorbar\":{\"outlinewidth\":0,\"ticks\":\"\"},\"colorscale\":[[0.0,\"#0d0887\"],[0.1111111111111111,\"#46039f\"],[0.2222222222222222,\"#7201a8\"],[0.3333333333333333,\"#9c179e\"],[0.4444444444444444,\"#bd3786\"],[0.5555555555555556,\"#d8576b\"],[0.6666666666666666,\"#ed7953\"],[0.7777777777777778,\"#fb9f3a\"],[0.8888888888888888,\"#fdca26\"],[1.0,\"#f0f921\"]],\"type\":\"histogram2d\"}],\"histogram\":[{\"marker\":{\"pattern\":{\"fillmode\":\"overlay\",\"size\":10,\"solidity\":0.2}},\"type\":\"histogram\"}],\"mesh3d\":[{\"colorbar\":{\"outlinewidth\":0,\"ticks\":\"\"},\"type\":\"mesh3d\"}],\"parcoords\":[{\"line\":{\"colorbar\":{\"outlinewidth\":0,\"ticks\":\"\"}},\"type\":\"parcoords\"}],\"pie\":[{\"automargin\":true,\"type\":\"pie\"}],\"scatter3d\":[{\"line\":{\"colorbar\":{\"outlinewidth\":0,\"ticks\":\"\"}},\"marker\":{\"colorbar\":{\"outlinewidth\":0,\"ticks\":\"\"}},\"type\":\"scatter3d\"}],\"scattercarpet\":[{\"marker\":{\"colorbar\":{\"outlinewidth\":0,\"ticks\":\"\"}},\"type\":\"scattercarpet\"}],\"scattergeo\":[{\"marker\":{\"colorbar\":{\"outlinewidth\":0,\"ticks\":\"\"}},\"type\":\"scattergeo\"}],\"scattergl\":[{\"marker\":{\"colorbar\":{\"outlinewidth\":0,\"ticks\":\"\"}},\"type\":\"scattergl\"}],\"scattermapbox\":[{\"marker\":{\"colorbar\":{\"outlinewidth\":0,\"ticks\":\"\"}},\"type\":\"scattermapbox\"}],\"scatterpolargl\":[{\"marker\":{\"colorbar\":{\"outlinewidth\":0,\"ticks\":\"\"}},\"type\":\"scatterpolargl\"}],\"scatterpolar\":[{\"marker\":{\"colorbar\":{\"outlinewidth\":0,\"ticks\":\"\"}},\"type\":\"scatterpolar\"}],\"scatter\":[{\"fillpattern\":{\"fillmode\":\"overlay\",\"size\":10,\"solidity\":0.2},\"type\":\"scatter\"}],\"scatterternary\":[{\"marker\":{\"colorbar\":{\"outlinewidth\":0,\"ticks\":\"\"}},\"type\":\"scatterternary\"}],\"surface\":[{\"colorbar\":{\"outlinewidth\":0,\"ticks\":\"\"},\"colorscale\":[[0.0,\"#0d0887\"],[0.1111111111111111,\"#46039f\"],[0.2222222222222222,\"#7201a8\"],[0.3333333333333333,\"#9c179e\"],[0.4444444444444444,\"#bd3786\"],[0.5555555555555556,\"#d8576b\"],[0.6666666666666666,\"#ed7953\"],[0.7777777777777778,\"#fb9f3a\"],[0.8888888888888888,\"#fdca26\"],[1.0,\"#f0f921\"]],\"type\":\"surface\"}],\"table\":[{\"cells\":{\"fill\":{\"color\":\"#EBF0F8\"},\"line\":{\"color\":\"white\"}},\"header\":{\"fill\":{\"color\":\"#C8D4E3\"},\"line\":{\"color\":\"white\"}},\"type\":\"table\"}]},\"layout\":{\"annotationdefaults\":{\"arrowcolor\":\"#2a3f5f\",\"arrowhead\":0,\"arrowwidth\":1},\"autotypenumbers\":\"strict\",\"coloraxis\":{\"colorbar\":{\"outlinewidth\":0,\"ticks\":\"\"}},\"colorscale\":{\"diverging\":[[0,\"#8e0152\"],[0.1,\"#c51b7d\"],[0.2,\"#de77ae\"],[0.3,\"#f1b6da\"],[0.4,\"#fde0ef\"],[0.5,\"#f7f7f7\"],[0.6,\"#e6f5d0\"],[0.7,\"#b8e186\"],[0.8,\"#7fbc41\"],[0.9,\"#4d9221\"],[1,\"#276419\"]],\"sequential\":[[0.0,\"#0d0887\"],[0.1111111111111111,\"#46039f\"],[0.2222222222222222,\"#7201a8\"],[0.3333333333333333,\"#9c179e\"],[0.4444444444444444,\"#bd3786\"],[0.5555555555555556,\"#d8576b\"],[0.6666666666666666,\"#ed7953\"],[0.7777777777777778,\"#fb9f3a\"],[0.8888888888888888,\"#fdca26\"],[1.0,\"#f0f921\"]],\"sequentialminus\":[[0.0,\"#0d0887\"],[0.1111111111111111,\"#46039f\"],[0.2222222222222222,\"#7201a8\"],[0.3333333333333333,\"#9c179e\"],[0.4444444444444444,\"#bd3786\"],[0.5555555555555556,\"#d8576b\"],[0.6666666666666666,\"#ed7953\"],[0.7777777777777778,\"#fb9f3a\"],[0.8888888888888888,\"#fdca26\"],[1.0,\"#f0f921\"]]},\"colorway\":[\"#636efa\",\"#EF553B\",\"#00cc96\",\"#ab63fa\",\"#FFA15A\",\"#19d3f3\",\"#FF6692\",\"#B6E880\",\"#FF97FF\",\"#FECB52\"],\"font\":{\"color\":\"#2a3f5f\"},\"geo\":{\"bgcolor\":\"white\",\"lakecolor\":\"white\",\"landcolor\":\"#E5ECF6\",\"showlakes\":true,\"showland\":true,\"subunitcolor\":\"white\"},\"hoverlabel\":{\"align\":\"left\"},\"hovermode\":\"closest\",\"mapbox\":{\"style\":\"light\"},\"paper_bgcolor\":\"white\",\"plot_bgcolor\":\"#E5ECF6\",\"polar\":{\"angularaxis\":{\"gridcolor\":\"white\",\"linecolor\":\"white\",\"ticks\":\"\"},\"bgcolor\":\"#E5ECF6\",\"radialaxis\":{\"gridcolor\":\"white\",\"linecolor\":\"white\",\"ticks\":\"\"}},\"scene\":{\"xaxis\":{\"backgroundcolor\":\"#E5ECF6\",\"gridcolor\":\"white\",\"gridwidth\":2,\"linecolor\":\"white\",\"showbackground\":true,\"ticks\":\"\",\"zerolinecolor\":\"white\"},\"yaxis\":{\"backgroundcolor\":\"#E5ECF6\",\"gridcolor\":\"white\",\"gridwidth\":2,\"linecolor\":\"white\",\"showbackground\":true,\"ticks\":\"\",\"zerolinecolor\":\"white\"},\"zaxis\":{\"backgroundcolor\":\"#E5ECF6\",\"gridcolor\":\"white\",\"gridwidth\":2,\"linecolor\":\"white\",\"showbackground\":true,\"ticks\":\"\",\"zerolinecolor\":\"white\"}},\"shapedefaults\":{\"line\":{\"color\":\"#2a3f5f\"}},\"ternary\":{\"aaxis\":{\"gridcolor\":\"white\",\"linecolor\":\"white\",\"ticks\":\"\"},\"baxis\":{\"gridcolor\":\"white\",\"linecolor\":\"white\",\"ticks\":\"\"},\"bgcolor\":\"#E5ECF6\",\"caxis\":{\"gridcolor\":\"white\",\"linecolor\":\"white\",\"ticks\":\"\"}},\"title\":{\"x\":0.05},\"xaxis\":{\"automargin\":true,\"gridcolor\":\"white\",\"linecolor\":\"white\",\"ticks\":\"\",\"title\":{\"standoff\":15},\"zerolinecolor\":\"white\",\"zerolinewidth\":2},\"yaxis\":{\"automargin\":true,\"gridcolor\":\"white\",\"linecolor\":\"white\",\"ticks\":\"\",\"title\":{\"standoff\":15},\"zerolinecolor\":\"white\",\"zerolinewidth\":2}}},\"title\":{\"font\":{\"color\":\"#D9D9D9\"},\"text\":\"\\u041f\\u0440\\u043e\\u0433\\u043d\\u043e\\u0437 vs \\u0420\\u0435\\u0430\\u043b\\u044c\\u043d\\u044b\\u0435 \\u0437\\u043d\\u0430\\u0447\\u0435\\u043d\\u0438\\u044f\"},\"xaxis\":{\"gridcolor\":\"#434343\",\"showgrid\":true,\"tickfont\":{\"color\":\"#C2C2C2\"},\"title\":{\"font\":{\"color\":\"#D9D9D9\"},\"text\":\"\\u0412\\u0440\\u0435\\u043c\\u044f\"},\"zerolinecolor\":\"#666570\"},\"yaxis\":{\"gridcolor\":\"#434343\",\"showgrid\":true,\"tickfont\":{\"color\":\"#C2C2C2\"},\"title\":{\"font\":{\"color\":\"#D9D9D9\"},\"text\":\"\\u0417\\u043d\\u0430\\u0447\\u0435\\u043d\\u0438\\u0435\"},\"zerolinecolor\":\"#666570\"}},                        {\"showLink\": true, \"linkText\": \"Export to plot.ly\", \"plotlyServerURL\": \"https://plot.ly\", \"responsive\": true}                    ).then(function(){\n",
       "                            \n",
       "var gd = document.getElementById('152189f9-f13f-4df6-9b70-1b50bbb2f586');\n",
       "var x = new MutationObserver(function (mutations, observer) {{\n",
       "        var display = window.getComputedStyle(gd).display;\n",
       "        if (!display || display === 'none') {{\n",
       "            console.log([gd, 'removed!']);\n",
       "            Plotly.purge(gd);\n",
       "            observer.disconnect();\n",
       "        }}\n",
       "}});\n",
       "\n",
       "// Listen for the removal of the full notebook cells\n",
       "var notebookContainer = gd.closest('#notebook-container');\n",
       "if (notebookContainer) {{\n",
       "    x.observe(notebookContainer, {childList: true});\n",
       "}}\n",
       "\n",
       "// Listen for the clearing of the current output cell\n",
       "var outputEl = gd.closest('.output');\n",
       "if (outputEl) {{\n",
       "    x.observe(outputEl, {childList: true});\n",
       "}}\n",
       "\n",
       "                        })                };                });            </script>        </div>"
      ]
     },
     "metadata": {},
     "output_type": "display_data"
    }
   ],
   "source": [
    "rnn_pred_a = rnn_model_a.predict(X_test)\n",
    "rnn_pred_a = target_transformer.inverse_transform(rnn_pred_a)\n",
    "\n",
    "y_test = y_test.reshape(-1, 1)\n",
    "y_test = target_transformer.inverse_transform(y_test)\n",
    "\n",
    "\n",
    "rnn_mape_a = mean_absolute_percentage_error(y_test, rnn_pred_a)\n",
    "rnn_mae_a = mean_absolute_error(y_test, rnn_pred_a)\n",
    "print(f\"MAPE: {rnn_mape_a} %\")\n",
    "print(f\"MAE: {rnn_mae_a}\")\n",
    "\n",
    "df_test = pd.DataFrame({\n",
    "    'Y_test': y_test.ravel(),\n",
    "    'Predictions': rnn_pred_a.ravel()\n",
    "})\n",
    "# Отобразить на графике\n",
    "df_test.iplot(title=\"Прогноз vs Реальные значения\", xTitle=\"Время\", yTitle=\"Значение\", theme=\"solar\")"
   ]
  },
  {
   "cell_type": "code",
   "execution_count": 69,
   "metadata": {},
   "outputs": [
    {
     "name": "stdout",
     "output_type": "stream",
     "text": [
      "Epoch 1/100\n",
      "34/34 [==============================] - 20s 242ms/step - loss: 0.4524 - val_loss: 0.1895\n",
      "Epoch 2/100\n",
      "34/34 [==============================] - 5s 141ms/step - loss: 0.1179 - val_loss: 0.0639\n",
      "Epoch 3/100\n",
      "34/34 [==============================] - 5s 161ms/step - loss: 0.0799 - val_loss: 0.0719\n",
      "Epoch 4/100\n",
      "34/34 [==============================] - 5s 156ms/step - loss: 0.0714 - val_loss: 0.0597\n",
      "Epoch 5/100\n",
      "34/34 [==============================] - 6s 172ms/step - loss: 0.0646 - val_loss: 0.0627\n",
      "Epoch 6/100\n",
      "34/34 [==============================] - 6s 177ms/step - loss: 0.0644 - val_loss: 0.0651\n",
      "Epoch 7/100\n",
      "34/34 [==============================] - 5s 149ms/step - loss: 0.0640 - val_loss: 0.0600\n",
      "Epoch 8/100\n",
      "34/34 [==============================] - 5s 156ms/step - loss: 0.0631 - val_loss: 0.0622\n",
      "Epoch 9/100\n",
      "34/34 [==============================] - 5s 137ms/step - loss: 0.0632 - val_loss: 0.0586\n",
      "Epoch 10/100\n",
      "34/34 [==============================] - 5s 139ms/step - loss: 0.0643 - val_loss: 0.0685\n",
      "Epoch 11/100\n",
      "34/34 [==============================] - 4s 106ms/step - loss: 0.0654 - val_loss: 0.0681\n",
      "Epoch 12/100\n",
      "34/34 [==============================] - 4s 125ms/step - loss: 0.0677 - val_loss: 0.0652\n",
      "Epoch 13/100\n",
      "34/34 [==============================] - 5s 144ms/step - loss: 0.0604 - val_loss: 0.0596\n",
      "Epoch 14/100\n",
      "34/34 [==============================] - 4s 122ms/step - loss: 0.0576 - val_loss: 0.0639\n",
      "Epoch 15/100\n",
      "34/34 [==============================] - 4s 116ms/step - loss: 0.0610 - val_loss: 0.0666\n",
      "Epoch 16/100\n",
      "34/34 [==============================] - 5s 139ms/step - loss: 0.0593 - val_loss: 0.0591\n",
      "Epoch 17/100\n",
      "34/34 [==============================] - 5s 159ms/step - loss: 0.0580 - val_loss: 0.0576\n",
      "Epoch 18/100\n",
      "34/34 [==============================] - 5s 144ms/step - loss: 0.0590 - val_loss: 0.0699\n",
      "Epoch 19/100\n",
      "34/34 [==============================] - 5s 146ms/step - loss: 0.0592 - val_loss: 0.0619\n",
      "Epoch 20/100\n",
      "34/34 [==============================] - 5s 135ms/step - loss: 0.0602 - val_loss: 0.0616\n",
      "Epoch 21/100\n",
      "34/34 [==============================] - 4s 130ms/step - loss: 0.0604 - val_loss: 0.0664\n",
      "Epoch 22/100\n",
      "34/34 [==============================] - 5s 135ms/step - loss: 0.0582 - val_loss: 0.0591\n",
      "Epoch 23/100\n",
      "34/34 [==============================] - 5s 155ms/step - loss: 0.0581 - val_loss: 0.0591\n",
      "Epoch 24/100\n",
      "34/34 [==============================] - 6s 164ms/step - loss: 0.0576 - val_loss: 0.0623\n",
      "Epoch 25/100\n",
      "34/34 [==============================] - 6s 167ms/step - loss: 0.0568 - val_loss: 0.0627\n",
      "Epoch 26/100\n",
      "34/34 [==============================] - 4s 129ms/step - loss: 0.0560 - val_loss: 0.0579\n",
      "Epoch 27/100\n",
      "34/34 [==============================] - 5s 136ms/step - loss: 0.0570 - val_loss: 0.0620\n",
      "9/9 [==============================] - 0s 27ms/step - loss: 0.0576\n",
      "Validation Loss: 0.05756360664963722\n"
     ]
    }
   ],
   "source": [
    "look_back = 10 \n",
    "X_train, y_train = create_dataset(dl_train, dl_train['meantemp'], look_back)\n",
    "X_test, y_test = create_dataset(dl_test, dl_test['meantemp'], look_back)\n",
    "\n",
    "lstm_model_a = Sequential()\n",
    "\n",
    "lstm_model_a.add(LSTM(90, activation='relu', input_shape=(look_back, X_train.shape[2]), return_sequences=True))\n",
    "lstm_model_a.add(LSTM(79, activation='relu', return_sequences=True))\n",
    "lstm_model_a.add(Dropout(0.2)),\n",
    "lstm_model_a.add(AttentionMechanism(return_sequences=True)),\n",
    "lstm_model_a.add(LSTM(30, activation='relu'))\n",
    "lstm_model_a.add(Dense(1))\n",
    "lstm_model_a.compile(optimizer='adam', loss='mean_absolute_error')\n",
    "\n",
    "early_stopping = EarlyStopping(monitor='val_loss', patience=10, restore_best_weights=True)\n",
    "history = lstm_model_a.fit(X_train, y_train, epochs=100, validation_data=(X_test, y_test), batch_size=35, callbacks=[early_stopping])\n",
    "\n",
    "loss = lstm_model_a.evaluate(X_test, y_test)\n",
    "print(f'Validation Loss: {loss}') "
   ]
  },
  {
   "cell_type": "code",
   "execution_count": 70,
   "metadata": {},
   "outputs": [
    {
     "name": "stdout",
     "output_type": "stream",
     "text": [
      "9/9 [==============================] - 0s 9ms/step\n",
      "MAPE: 6.805334727647154 %\n",
      "MAE: 1.8831524487066187\n"
     ]
    },
    {
     "data": {
      "application/vnd.plotly.v1+json": {
       "config": {
        "linkText": "Export to plot.ly",
        "plotlyServerURL": "https://plot.ly",
        "showLink": true
       },
       "data": [
        {
         "line": {
          "color": "rgba(255, 153, 51, 1.0)",
          "dash": "solid",
          "shape": "linear",
          "width": 1.3
         },
         "mode": "lines",
         "name": "Y_test",
         "text": "",
         "type": "scatter",
         "x": [
          0,
          1,
          2,
          3,
          4,
          5,
          6,
          7,
          8,
          9,
          10,
          11,
          12,
          13,
          14,
          15,
          16,
          17,
          18,
          19,
          20,
          21,
          22,
          23,
          24,
          25,
          26,
          27,
          28,
          29,
          30,
          31,
          32,
          33,
          34,
          35,
          36,
          37,
          38,
          39,
          40,
          41,
          42,
          43,
          44,
          45,
          46,
          47,
          48,
          49,
          50,
          51,
          52,
          53,
          54,
          55,
          56,
          57,
          58,
          59,
          60,
          61,
          62,
          63,
          64,
          65,
          66,
          67,
          68,
          69,
          70,
          71,
          72,
          73,
          74,
          75,
          76,
          77,
          78,
          79,
          80,
          81,
          82,
          83,
          84,
          85,
          86,
          87,
          88,
          89,
          90,
          91,
          92,
          93,
          94,
          95,
          96,
          97,
          98,
          99,
          100,
          101,
          102,
          103,
          104,
          105,
          106,
          107,
          108,
          109,
          110,
          111,
          112,
          113,
          114,
          115,
          116,
          117,
          118,
          119,
          120,
          121,
          122,
          123,
          124,
          125,
          126,
          127,
          128,
          129,
          130,
          131,
          132,
          133,
          134,
          135,
          136,
          137,
          138,
          139,
          140,
          141,
          142,
          143,
          144,
          145,
          146,
          147,
          148,
          149,
          150,
          151,
          152,
          153,
          154,
          155,
          156,
          157,
          158,
          159,
          160,
          161,
          162,
          163,
          164,
          165,
          166,
          167,
          168,
          169,
          170,
          171,
          172,
          173,
          174,
          175,
          176,
          177,
          178,
          179,
          180,
          181,
          182,
          183,
          184,
          185,
          186,
          187,
          188,
          189,
          190,
          191,
          192,
          193,
          194,
          195,
          196,
          197,
          198,
          199,
          200,
          201,
          202,
          203,
          204,
          205,
          206,
          207,
          208,
          209,
          210,
          211,
          212,
          213,
          214,
          215,
          216,
          217,
          218,
          219,
          220,
          221,
          222,
          223,
          224,
          225,
          226,
          227,
          228,
          229,
          230,
          231,
          232,
          233,
          234,
          235,
          236,
          237,
          238,
          239,
          240,
          241,
          242,
          243,
          244,
          245,
          246,
          247,
          248,
          249,
          250,
          251,
          252,
          253,
          254,
          255,
          256,
          257,
          258,
          259,
          260,
          261,
          262,
          263,
          264,
          265,
          266,
          267,
          268,
          269,
          270,
          271,
          272,
          273,
          274,
          275,
          276,
          277,
          278,
          279,
          280,
          281,
          282
         ],
         "y": [
          29.875,
          24.666666666666668,
          26.25,
          25.93333333333333,
          27.125,
          29.571428571428573,
          30,
          30.571428571428573,
          32.3125,
          33.3125,
          32.8125,
          32.3125,
          31.375,
          29.933333333333334,
          29.266666666666666,
          30.73333333333333,
          32.25,
          29.8,
          30.2,
          31.75,
          33.125,
          33.625,
          35.6875,
          34.666666666666664,
          34.625,
          34,
          34.0625,
          34,
          33.25,
          31.916666666666668,
          31.3125,
          31.75,
          33.4375,
          33.125,
          34.15384615384615,
          34.07142857142857,
          33.0625,
          34.6875,
          38,
          35.49999999999999,
          33.714285714285715,
          30.6,
          31.4375,
          33.3125,
          35.13333333333333,
          33.53333333333333,
          34,
          32.5,
          35.375,
          37.294117647058826,
          36.5625,
          37.25,
          37.21428571428572,
          37.5,
          37.75,
          37.375,
          37.4,
          36.13333333333333,
          36.8,
          32.214285714285715,
          31.526315789473685,
          33.21739130434783,
          35.26923076923077,
          38.27272727272727,
          36.0625,
          31.5,
          26.8125,
          32.642857142857146,
          36,
          37.5625,
          37.5625,
          38.2,
          36.16666666666666,
          35.42857142857143,
          34.625,
          36.07142857142857,
          35.733333333333334,
          36.13333333333333,
          33.4375,
          35.49999999999999,
          36,
          32.625,
          34.733333333333334,
          33.5,
          34.1875,
          35.857142857142854,
          35.625,
          30.9375,
          32.875,
          33.125,
          33.84615384615385,
          36.4375,
          35.42857142857143,
          34.86666666666667,
          34.3125,
          30.785714285714285,
          35.375,
          35.46666666666667,
          32.125,
          28.4,
          29.5625,
          30.6875,
          33.25,
          33.266666666666666,
          33.5,
          30.8,
          33.25,
          32.5625,
          31.5,
          30.5,
          31.25,
          30.4375,
          31,
          27.125,
          28.125,
          27.666666666666668,
          32.3125,
          34.1875,
          34.13333333333333,
          34.125,
          31.875,
          31.4375,
          31.9375,
          30.3125,
          28.3125,
          29.53333333333333,
          27.375,
          27.33333333333333,
          29.266666666666666,
          29.125,
          30.6875,
          32.5625,
          33.111111111111114,
          33.8,
          30.066666666666663,
          33.11764705882353,
          33.80952380952381,
          31.615384615384617,
          32,
          28.107142857142858,
          29.035714285714285,
          30.321428571428573,
          28.933333333333334,
          31.678571428571427,
          31.33333333333333,
          29.928571428571427,
          29.88888888888889,
          32.07142857142857,
          33.18518518518518,
          31.59259259259259,
          32.18518518518518,
          31.48,
          30.178571428571427,
          31.52,
          31.22222222222222,
          31.785714285714285,
          33.4,
          29.571428571428573,
          30.04,
          27.25925925925926,
          27.96,
          30.73913043478261,
          30.894736842105264,
          31.692307692307693,
          31.07692307692308,
          30.375,
          31.1,
          31.916666666666668,
          30.55555555555556,
          31.23076923076923,
          31,
          31.642857142857142,
          32.53333333333333,
          30.857142857142858,
          31.727272727272727,
          31.4,
          32.30769230769231,
          32.25,
          32.375,
          33.44444444444444,
          33.36,
          30.03703703703704,
          31,
          31.24,
          31.130434782608692,
          31.48,
          32.18518518518518,
          32.44,
          32.22727272727273,
          32.214285714285715,
          32.541666666666664,
          32.81481481481482,
          33.26923076923077,
          30.55555555555556,
          28.83333333333333,
          30.703703703703702,
          30.96,
          30.6,
          30.92,
          29.77777777777778,
          29.666666666666668,
          29.571428571428573,
          29.96296296296296,
          29.75,
          27.74074074074074,
          28.428571428571427,
          28.6,
          28.5,
          28.925925925925927,
          29.07692307692308,
          28.40909090909091,
          29.33333333333333,
          27.5,
          28.5,
          28.04,
          27.57692307692308,
          26.55555555555556,
          25.51851851851852,
          25.814814814814813,
          24.82608695652174,
          24.53846153846154,
          24.384615384615383,
          23.727272727272727,
          25.64,
          24.814814814814813,
          23.115384615384617,
          22.925925925925927,
          24.545454545454547,
          23.73076923076923,
          23,
          23.51851851851852,
          23.92,
          23.53846153846154,
          24.296296296296298,
          23.346153846153847,
          22.24,
          21.769230769230774,
          21.73076923076923,
          21.73076923076923,
          20.666666666666668,
          22.25,
          21.53846153846154,
          22.57894736842105,
          22.82608695652174,
          21.42105263157895,
          23.6,
          24.294117647058822,
          23.63636363636364,
          22.454545454545453,
          21.61111111111111,
          19.869565217391305,
          19.75,
          19.20833333333333,
          21.20833333333333,
          18.9,
          18.63636363636364,
          18.53846153846154,
          18.25,
          16.9,
          19.416666666666668,
          16.444444444444443,
          20.041666666666668,
          19.90909090909091,
          19.05,
          18.55555555555556,
          18.166666666666668,
          15.833333333333334,
          17.5,
          16.083333333333332,
          17.857142857142858,
          19.8,
          18.05,
          17.285714285714285,
          15.550000000000002,
          17.318181818181817,
          14,
          17.142857142857142,
          16.85,
          17.217391304347824,
          15.238095238095237,
          14.095238095238097,
          15.05263157894737,
          10
         ]
        },
        {
         "line": {
          "color": "rgba(55, 128, 191, 1.0)",
          "dash": "solid",
          "shape": "linear",
          "width": 1.3
         },
         "mode": "lines",
         "name": "Predictions",
         "text": "",
         "type": "scatter",
         "x": [
          0,
          1,
          2,
          3,
          4,
          5,
          6,
          7,
          8,
          9,
          10,
          11,
          12,
          13,
          14,
          15,
          16,
          17,
          18,
          19,
          20,
          21,
          22,
          23,
          24,
          25,
          26,
          27,
          28,
          29,
          30,
          31,
          32,
          33,
          34,
          35,
          36,
          37,
          38,
          39,
          40,
          41,
          42,
          43,
          44,
          45,
          46,
          47,
          48,
          49,
          50,
          51,
          52,
          53,
          54,
          55,
          56,
          57,
          58,
          59,
          60,
          61,
          62,
          63,
          64,
          65,
          66,
          67,
          68,
          69,
          70,
          71,
          72,
          73,
          74,
          75,
          76,
          77,
          78,
          79,
          80,
          81,
          82,
          83,
          84,
          85,
          86,
          87,
          88,
          89,
          90,
          91,
          92,
          93,
          94,
          95,
          96,
          97,
          98,
          99,
          100,
          101,
          102,
          103,
          104,
          105,
          106,
          107,
          108,
          109,
          110,
          111,
          112,
          113,
          114,
          115,
          116,
          117,
          118,
          119,
          120,
          121,
          122,
          123,
          124,
          125,
          126,
          127,
          128,
          129,
          130,
          131,
          132,
          133,
          134,
          135,
          136,
          137,
          138,
          139,
          140,
          141,
          142,
          143,
          144,
          145,
          146,
          147,
          148,
          149,
          150,
          151,
          152,
          153,
          154,
          155,
          156,
          157,
          158,
          159,
          160,
          161,
          162,
          163,
          164,
          165,
          166,
          167,
          168,
          169,
          170,
          171,
          172,
          173,
          174,
          175,
          176,
          177,
          178,
          179,
          180,
          181,
          182,
          183,
          184,
          185,
          186,
          187,
          188,
          189,
          190,
          191,
          192,
          193,
          194,
          195,
          196,
          197,
          198,
          199,
          200,
          201,
          202,
          203,
          204,
          205,
          206,
          207,
          208,
          209,
          210,
          211,
          212,
          213,
          214,
          215,
          216,
          217,
          218,
          219,
          220,
          221,
          222,
          223,
          224,
          225,
          226,
          227,
          228,
          229,
          230,
          231,
          232,
          233,
          234,
          235,
          236,
          237,
          238,
          239,
          240,
          241,
          242,
          243,
          244,
          245,
          246,
          247,
          248,
          249,
          250,
          251,
          252,
          253,
          254,
          255,
          256,
          257,
          258,
          259,
          260,
          261,
          262,
          263,
          264,
          265,
          266,
          267,
          268,
          269,
          270,
          271,
          272,
          273,
          274,
          275,
          276,
          277,
          278,
          279,
          280,
          281,
          282
         ],
         "y": [
          26.51676368713379,
          26.808433532714844,
          27.044612884521484,
          27.14904022216797,
          27.345029830932617,
          27.73503875732422,
          28.340492248535156,
          28.32109832763672,
          27.958656311035156,
          28.158126831054688,
          28.512311935424805,
          28.77537727355957,
          29.460660934448242,
          29.949413299560547,
          30.590259552001953,
          30.98734474182129,
          31.177480697631836,
          31.42856216430664,
          31.341320037841797,
          31.32195281982422,
          31.402559280395508,
          31.32652473449707,
          31.33279800415039,
          31.80845832824707,
          32.16957092285156,
          32.79916763305664,
          33.014015197753906,
          33.411956787109375,
          33.5054931640625,
          33.370418548583984,
          33.214969635009766,
          33.22175598144531,
          33.199893951416016,
          33.00493621826172,
          32.900489807128906,
          32.88542175292969,
          33.025360107421875,
          32.873992919921875,
          32.638771057128906,
          32.751686096191406,
          32.438018798828125,
          32.618892669677734,
          32.818885803222656,
          32.9763069152832,
          33.07950973510742,
          32.96421813964844,
          32.92536544799805,
          33.0023193359375,
          32.899200439453125,
          32.57891082763672,
          32.57014083862305,
          32.58843231201172,
          32.8109130859375,
          33.10535430908203,
          33.40261459350586,
          33.548973083496094,
          33.427913665771484,
          33.52838134765625,
          33.70911407470703,
          33.788246154785156,
          33.77891159057617,
          33.778526306152344,
          33.76148223876953,
          33.71742248535156,
          33.67055892944336,
          33.60268020629883,
          33.47659683227539,
          33.31419372558594,
          33.185768127441406,
          33.17224884033203,
          33.16927719116211,
          33.33948516845703,
          33.413700103759766,
          33.2562141418457,
          32.95193099975586,
          32.83456802368164,
          33.03927230834961,
          33.47530746459961,
          33.65784454345703,
          33.67362594604492,
          33.58328628540039,
          33.689002990722656,
          33.73222351074219,
          33.761741638183594,
          33.75188446044922,
          33.413917541503906,
          33.37022018432617,
          33.33439254760742,
          33.195770263671875,
          33.2219352722168,
          33.13956069946289,
          32.9289665222168,
          32.945072174072266,
          32.89582061767578,
          32.85267639160156,
          32.87397766113281,
          32.67418670654297,
          32.55982208251953,
          32.76675796508789,
          32.79936218261719,
          32.76472473144531,
          32.65740966796875,
          32.27960968017578,
          31.869840621948242,
          31.510595321655273,
          31.149105072021484,
          31.20128059387207,
          30.78575897216797,
          30.45427894592285,
          30.464872360229492,
          30.910846710205078,
          31.39691925048828,
          31.548946380615234,
          31.42458152770996,
          31.08572006225586,
          30.754613876342773,
          30.624847412109375,
          30.24332618713379,
          30.087600708007812,
          29.99134635925293,
          30.194339752197266,
          30.32821273803711,
          30.60831642150879,
          30.764684677124023,
          31.343732833862305,
          31.635847091674805,
          31.890039443969727,
          31.405969619750977,
          30.662473678588867,
          29.878684997558594,
          29.087297439575195,
          28.529062271118164,
          28.327625274658203,
          28.17302894592285,
          28.238449096679688,
          28.69814682006836,
          29.052303314208984,
          29.971046447753906,
          30.917251586914062,
          31.327150344848633,
          31.611169815063477,
          31.649208068847656,
          31.501508712768555,
          31.162477493286133,
          30.9123592376709,
          30.945558547973633,
          30.5751895904541,
          30.035682678222656,
          29.72757339477539,
          29.432756423950195,
          29.72954750061035,
          30.038793563842773,
          30.27828025817871,
          30.700565338134766,
          30.589496612548828,
          30.433317184448242,
          30.673416137695312,
          31.22248649597168,
          31.4191951751709,
          31.15276336669922,
          30.98097801208496,
          30.69611930847168,
          30.573123931884766,
          30.481473922729492,
          30.38706398010254,
          30.41688346862793,
          30.338672637939453,
          30.099824905395508,
          30.455894470214844,
          30.672340393066406,
          31.31840705871582,
          31.932193756103516,
          31.91875457763672,
          31.867168426513672,
          31.85028076171875,
          31.732830047607422,
          31.551593780517578,
          31.504274368286133,
          31.391260147094727,
          31.271944046020508,
          31.021818161010742,
          30.984088897705078,
          30.799579620361328,
          30.61272430419922,
          30.836238861083984,
          30.691715240478516,
          30.86591911315918,
          31.00818634033203,
          30.50954246520996,
          30.505844116210938,
          30.342496871948242,
          30.0344181060791,
          30.054866790771484,
          30.156909942626953,
          30.179428100585938,
          30.308094024658203,
          30.41802978515625,
          30.58161735534668,
          30.570966720581055,
          30.42568588256836,
          30.386913299560547,
          30.263580322265625,
          30.126434326171875,
          30.00615692138672,
          30.124813079833984,
          30.575214385986328,
          30.806949615478516,
          30.301218032836914,
          30.14666748046875,
          30.148624420166016,
          30.198476791381836,
          30.139001846313477,
          30.010705947875977,
          29.632553100585938,
          29.49689292907715,
          29.680240631103516,
          29.71137809753418,
          29.669626235961914,
          29.569753646850586,
          29.378143310546875,
          29.041240692138672,
          28.583406448364258,
          27.58448600769043,
          26.778146743774414,
          25.796560287475586,
          24.688610076904297,
          23.898508071899414,
          23.262662887573242,
          22.834983825683594,
          22.83842658996582,
          22.990928649902344,
          23.282569885253906,
          23.38323974609375,
          23.81819725036621,
          23.780517578125,
          23.53404998779297,
          23.37718391418457,
          23.731937408447266,
          23.308000564575195,
          22.83765411376953,
          22.591259002685547,
          22.49726676940918,
          22.323028564453125,
          22.227149963378906,
          21.8100528717041,
          22.07308578491211,
          22.13568687438965,
          22.20475959777832,
          22.279186248779297,
          22.531099319458008,
          23.320903778076172,
          23.8260440826416,
          24.28141975402832,
          23.856828689575195,
          23.447355270385742,
          23.115833282470703,
          21.95203399658203,
          20.832763671875,
          19.945985794067383,
          19.307212829589844,
          19.334365844726562,
          19.038555145263672,
          18.890350341796875,
          18.488737106323242,
          17.754037857055664,
          17.32022476196289,
          17.092756271362305,
          17.270132064819336,
          17.769195556640625,
          18.358139038085938,
          18.645469665527344,
          18.88399314880371,
          18.679384231567383,
          18.712553024291992,
          18.826648712158203,
          18.498065948486328,
          18.090286254882812,
          18.252368927001953,
          17.825389862060547,
          17.595674514770508,
          17.086475372314453,
          16.486770629882812,
          16.31779670715332
         ]
        }
       ],
       "layout": {
        "legend": {
         "bgcolor": "#151516",
         "font": {
          "color": "#D9D9D9"
         }
        },
        "paper_bgcolor": "#151516",
        "plot_bgcolor": "#151516",
        "template": {
         "data": {
          "bar": [
           {
            "error_x": {
             "color": "#2a3f5f"
            },
            "error_y": {
             "color": "#2a3f5f"
            },
            "marker": {
             "line": {
              "color": "#E5ECF6",
              "width": 0.5
             },
             "pattern": {
              "fillmode": "overlay",
              "size": 10,
              "solidity": 0.2
             }
            },
            "type": "bar"
           }
          ],
          "barpolar": [
           {
            "marker": {
             "line": {
              "color": "#E5ECF6",
              "width": 0.5
             },
             "pattern": {
              "fillmode": "overlay",
              "size": 10,
              "solidity": 0.2
             }
            },
            "type": "barpolar"
           }
          ],
          "carpet": [
           {
            "aaxis": {
             "endlinecolor": "#2a3f5f",
             "gridcolor": "white",
             "linecolor": "white",
             "minorgridcolor": "white",
             "startlinecolor": "#2a3f5f"
            },
            "baxis": {
             "endlinecolor": "#2a3f5f",
             "gridcolor": "white",
             "linecolor": "white",
             "minorgridcolor": "white",
             "startlinecolor": "#2a3f5f"
            },
            "type": "carpet"
           }
          ],
          "choropleth": [
           {
            "colorbar": {
             "outlinewidth": 0,
             "ticks": ""
            },
            "type": "choropleth"
           }
          ],
          "contour": [
           {
            "colorbar": {
             "outlinewidth": 0,
             "ticks": ""
            },
            "colorscale": [
             [
              0,
              "#0d0887"
             ],
             [
              0.1111111111111111,
              "#46039f"
             ],
             [
              0.2222222222222222,
              "#7201a8"
             ],
             [
              0.3333333333333333,
              "#9c179e"
             ],
             [
              0.4444444444444444,
              "#bd3786"
             ],
             [
              0.5555555555555556,
              "#d8576b"
             ],
             [
              0.6666666666666666,
              "#ed7953"
             ],
             [
              0.7777777777777778,
              "#fb9f3a"
             ],
             [
              0.8888888888888888,
              "#fdca26"
             ],
             [
              1,
              "#f0f921"
             ]
            ],
            "type": "contour"
           }
          ],
          "contourcarpet": [
           {
            "colorbar": {
             "outlinewidth": 0,
             "ticks": ""
            },
            "type": "contourcarpet"
           }
          ],
          "heatmap": [
           {
            "colorbar": {
             "outlinewidth": 0,
             "ticks": ""
            },
            "colorscale": [
             [
              0,
              "#0d0887"
             ],
             [
              0.1111111111111111,
              "#46039f"
             ],
             [
              0.2222222222222222,
              "#7201a8"
             ],
             [
              0.3333333333333333,
              "#9c179e"
             ],
             [
              0.4444444444444444,
              "#bd3786"
             ],
             [
              0.5555555555555556,
              "#d8576b"
             ],
             [
              0.6666666666666666,
              "#ed7953"
             ],
             [
              0.7777777777777778,
              "#fb9f3a"
             ],
             [
              0.8888888888888888,
              "#fdca26"
             ],
             [
              1,
              "#f0f921"
             ]
            ],
            "type": "heatmap"
           }
          ],
          "heatmapgl": [
           {
            "colorbar": {
             "outlinewidth": 0,
             "ticks": ""
            },
            "colorscale": [
             [
              0,
              "#0d0887"
             ],
             [
              0.1111111111111111,
              "#46039f"
             ],
             [
              0.2222222222222222,
              "#7201a8"
             ],
             [
              0.3333333333333333,
              "#9c179e"
             ],
             [
              0.4444444444444444,
              "#bd3786"
             ],
             [
              0.5555555555555556,
              "#d8576b"
             ],
             [
              0.6666666666666666,
              "#ed7953"
             ],
             [
              0.7777777777777778,
              "#fb9f3a"
             ],
             [
              0.8888888888888888,
              "#fdca26"
             ],
             [
              1,
              "#f0f921"
             ]
            ],
            "type": "heatmapgl"
           }
          ],
          "histogram": [
           {
            "marker": {
             "pattern": {
              "fillmode": "overlay",
              "size": 10,
              "solidity": 0.2
             }
            },
            "type": "histogram"
           }
          ],
          "histogram2d": [
           {
            "colorbar": {
             "outlinewidth": 0,
             "ticks": ""
            },
            "colorscale": [
             [
              0,
              "#0d0887"
             ],
             [
              0.1111111111111111,
              "#46039f"
             ],
             [
              0.2222222222222222,
              "#7201a8"
             ],
             [
              0.3333333333333333,
              "#9c179e"
             ],
             [
              0.4444444444444444,
              "#bd3786"
             ],
             [
              0.5555555555555556,
              "#d8576b"
             ],
             [
              0.6666666666666666,
              "#ed7953"
             ],
             [
              0.7777777777777778,
              "#fb9f3a"
             ],
             [
              0.8888888888888888,
              "#fdca26"
             ],
             [
              1,
              "#f0f921"
             ]
            ],
            "type": "histogram2d"
           }
          ],
          "histogram2dcontour": [
           {
            "colorbar": {
             "outlinewidth": 0,
             "ticks": ""
            },
            "colorscale": [
             [
              0,
              "#0d0887"
             ],
             [
              0.1111111111111111,
              "#46039f"
             ],
             [
              0.2222222222222222,
              "#7201a8"
             ],
             [
              0.3333333333333333,
              "#9c179e"
             ],
             [
              0.4444444444444444,
              "#bd3786"
             ],
             [
              0.5555555555555556,
              "#d8576b"
             ],
             [
              0.6666666666666666,
              "#ed7953"
             ],
             [
              0.7777777777777778,
              "#fb9f3a"
             ],
             [
              0.8888888888888888,
              "#fdca26"
             ],
             [
              1,
              "#f0f921"
             ]
            ],
            "type": "histogram2dcontour"
           }
          ],
          "mesh3d": [
           {
            "colorbar": {
             "outlinewidth": 0,
             "ticks": ""
            },
            "type": "mesh3d"
           }
          ],
          "parcoords": [
           {
            "line": {
             "colorbar": {
              "outlinewidth": 0,
              "ticks": ""
             }
            },
            "type": "parcoords"
           }
          ],
          "pie": [
           {
            "automargin": true,
            "type": "pie"
           }
          ],
          "scatter": [
           {
            "fillpattern": {
             "fillmode": "overlay",
             "size": 10,
             "solidity": 0.2
            },
            "type": "scatter"
           }
          ],
          "scatter3d": [
           {
            "line": {
             "colorbar": {
              "outlinewidth": 0,
              "ticks": ""
             }
            },
            "marker": {
             "colorbar": {
              "outlinewidth": 0,
              "ticks": ""
             }
            },
            "type": "scatter3d"
           }
          ],
          "scattercarpet": [
           {
            "marker": {
             "colorbar": {
              "outlinewidth": 0,
              "ticks": ""
             }
            },
            "type": "scattercarpet"
           }
          ],
          "scattergeo": [
           {
            "marker": {
             "colorbar": {
              "outlinewidth": 0,
              "ticks": ""
             }
            },
            "type": "scattergeo"
           }
          ],
          "scattergl": [
           {
            "marker": {
             "colorbar": {
              "outlinewidth": 0,
              "ticks": ""
             }
            },
            "type": "scattergl"
           }
          ],
          "scattermapbox": [
           {
            "marker": {
             "colorbar": {
              "outlinewidth": 0,
              "ticks": ""
             }
            },
            "type": "scattermapbox"
           }
          ],
          "scatterpolar": [
           {
            "marker": {
             "colorbar": {
              "outlinewidth": 0,
              "ticks": ""
             }
            },
            "type": "scatterpolar"
           }
          ],
          "scatterpolargl": [
           {
            "marker": {
             "colorbar": {
              "outlinewidth": 0,
              "ticks": ""
             }
            },
            "type": "scatterpolargl"
           }
          ],
          "scatterternary": [
           {
            "marker": {
             "colorbar": {
              "outlinewidth": 0,
              "ticks": ""
             }
            },
            "type": "scatterternary"
           }
          ],
          "surface": [
           {
            "colorbar": {
             "outlinewidth": 0,
             "ticks": ""
            },
            "colorscale": [
             [
              0,
              "#0d0887"
             ],
             [
              0.1111111111111111,
              "#46039f"
             ],
             [
              0.2222222222222222,
              "#7201a8"
             ],
             [
              0.3333333333333333,
              "#9c179e"
             ],
             [
              0.4444444444444444,
              "#bd3786"
             ],
             [
              0.5555555555555556,
              "#d8576b"
             ],
             [
              0.6666666666666666,
              "#ed7953"
             ],
             [
              0.7777777777777778,
              "#fb9f3a"
             ],
             [
              0.8888888888888888,
              "#fdca26"
             ],
             [
              1,
              "#f0f921"
             ]
            ],
            "type": "surface"
           }
          ],
          "table": [
           {
            "cells": {
             "fill": {
              "color": "#EBF0F8"
             },
             "line": {
              "color": "white"
             }
            },
            "header": {
             "fill": {
              "color": "#C8D4E3"
             },
             "line": {
              "color": "white"
             }
            },
            "type": "table"
           }
          ]
         },
         "layout": {
          "annotationdefaults": {
           "arrowcolor": "#2a3f5f",
           "arrowhead": 0,
           "arrowwidth": 1
          },
          "autotypenumbers": "strict",
          "coloraxis": {
           "colorbar": {
            "outlinewidth": 0,
            "ticks": ""
           }
          },
          "colorscale": {
           "diverging": [
            [
             0,
             "#8e0152"
            ],
            [
             0.1,
             "#c51b7d"
            ],
            [
             0.2,
             "#de77ae"
            ],
            [
             0.3,
             "#f1b6da"
            ],
            [
             0.4,
             "#fde0ef"
            ],
            [
             0.5,
             "#f7f7f7"
            ],
            [
             0.6,
             "#e6f5d0"
            ],
            [
             0.7,
             "#b8e186"
            ],
            [
             0.8,
             "#7fbc41"
            ],
            [
             0.9,
             "#4d9221"
            ],
            [
             1,
             "#276419"
            ]
           ],
           "sequential": [
            [
             0,
             "#0d0887"
            ],
            [
             0.1111111111111111,
             "#46039f"
            ],
            [
             0.2222222222222222,
             "#7201a8"
            ],
            [
             0.3333333333333333,
             "#9c179e"
            ],
            [
             0.4444444444444444,
             "#bd3786"
            ],
            [
             0.5555555555555556,
             "#d8576b"
            ],
            [
             0.6666666666666666,
             "#ed7953"
            ],
            [
             0.7777777777777778,
             "#fb9f3a"
            ],
            [
             0.8888888888888888,
             "#fdca26"
            ],
            [
             1,
             "#f0f921"
            ]
           ],
           "sequentialminus": [
            [
             0,
             "#0d0887"
            ],
            [
             0.1111111111111111,
             "#46039f"
            ],
            [
             0.2222222222222222,
             "#7201a8"
            ],
            [
             0.3333333333333333,
             "#9c179e"
            ],
            [
             0.4444444444444444,
             "#bd3786"
            ],
            [
             0.5555555555555556,
             "#d8576b"
            ],
            [
             0.6666666666666666,
             "#ed7953"
            ],
            [
             0.7777777777777778,
             "#fb9f3a"
            ],
            [
             0.8888888888888888,
             "#fdca26"
            ],
            [
             1,
             "#f0f921"
            ]
           ]
          },
          "colorway": [
           "#636efa",
           "#EF553B",
           "#00cc96",
           "#ab63fa",
           "#FFA15A",
           "#19d3f3",
           "#FF6692",
           "#B6E880",
           "#FF97FF",
           "#FECB52"
          ],
          "font": {
           "color": "#2a3f5f"
          },
          "geo": {
           "bgcolor": "white",
           "lakecolor": "white",
           "landcolor": "#E5ECF6",
           "showlakes": true,
           "showland": true,
           "subunitcolor": "white"
          },
          "hoverlabel": {
           "align": "left"
          },
          "hovermode": "closest",
          "mapbox": {
           "style": "light"
          },
          "paper_bgcolor": "white",
          "plot_bgcolor": "#E5ECF6",
          "polar": {
           "angularaxis": {
            "gridcolor": "white",
            "linecolor": "white",
            "ticks": ""
           },
           "bgcolor": "#E5ECF6",
           "radialaxis": {
            "gridcolor": "white",
            "linecolor": "white",
            "ticks": ""
           }
          },
          "scene": {
           "xaxis": {
            "backgroundcolor": "#E5ECF6",
            "gridcolor": "white",
            "gridwidth": 2,
            "linecolor": "white",
            "showbackground": true,
            "ticks": "",
            "zerolinecolor": "white"
           },
           "yaxis": {
            "backgroundcolor": "#E5ECF6",
            "gridcolor": "white",
            "gridwidth": 2,
            "linecolor": "white",
            "showbackground": true,
            "ticks": "",
            "zerolinecolor": "white"
           },
           "zaxis": {
            "backgroundcolor": "#E5ECF6",
            "gridcolor": "white",
            "gridwidth": 2,
            "linecolor": "white",
            "showbackground": true,
            "ticks": "",
            "zerolinecolor": "white"
           }
          },
          "shapedefaults": {
           "line": {
            "color": "#2a3f5f"
           }
          },
          "ternary": {
           "aaxis": {
            "gridcolor": "white",
            "linecolor": "white",
            "ticks": ""
           },
           "baxis": {
            "gridcolor": "white",
            "linecolor": "white",
            "ticks": ""
           },
           "bgcolor": "#E5ECF6",
           "caxis": {
            "gridcolor": "white",
            "linecolor": "white",
            "ticks": ""
           }
          },
          "title": {
           "x": 0.05
          },
          "xaxis": {
           "automargin": true,
           "gridcolor": "white",
           "linecolor": "white",
           "ticks": "",
           "title": {
            "standoff": 15
           },
           "zerolinecolor": "white",
           "zerolinewidth": 2
          },
          "yaxis": {
           "automargin": true,
           "gridcolor": "white",
           "linecolor": "white",
           "ticks": "",
           "title": {
            "standoff": 15
           },
           "zerolinecolor": "white",
           "zerolinewidth": 2
          }
         }
        },
        "title": {
         "font": {
          "color": "#D9D9D9"
         },
         "text": "Прогноз vs Реальные значения"
        },
        "xaxis": {
         "gridcolor": "#434343",
         "showgrid": true,
         "tickfont": {
          "color": "#C2C2C2"
         },
         "title": {
          "font": {
           "color": "#D9D9D9"
          },
          "text": "Время"
         },
         "zerolinecolor": "#666570"
        },
        "yaxis": {
         "gridcolor": "#434343",
         "showgrid": true,
         "tickfont": {
          "color": "#C2C2C2"
         },
         "title": {
          "font": {
           "color": "#D9D9D9"
          },
          "text": "Значение"
         },
         "zerolinecolor": "#666570"
        }
       }
      },
      "text/html": [
       "<div>                            <div id=\"9618e727-991c-4c7b-8c46-609e96ff3bcf\" class=\"plotly-graph-div\" style=\"height:525px; width:100%;\"></div>            <script type=\"text/javascript\">                require([\"plotly\"], function(Plotly) {                    window.PLOTLYENV=window.PLOTLYENV || {};\n",
       "                    window.PLOTLYENV.BASE_URL='https://plot.ly';                                    if (document.getElementById(\"9618e727-991c-4c7b-8c46-609e96ff3bcf\")) {                    Plotly.newPlot(                        \"9618e727-991c-4c7b-8c46-609e96ff3bcf\",                        [{\"line\":{\"color\":\"rgba(255, 153, 51, 1.0)\",\"dash\":\"solid\",\"shape\":\"linear\",\"width\":1.3},\"mode\":\"lines\",\"name\":\"Y_test\",\"text\":\"\",\"x\":[0,1,2,3,4,5,6,7,8,9,10,11,12,13,14,15,16,17,18,19,20,21,22,23,24,25,26,27,28,29,30,31,32,33,34,35,36,37,38,39,40,41,42,43,44,45,46,47,48,49,50,51,52,53,54,55,56,57,58,59,60,61,62,63,64,65,66,67,68,69,70,71,72,73,74,75,76,77,78,79,80,81,82,83,84,85,86,87,88,89,90,91,92,93,94,95,96,97,98,99,100,101,102,103,104,105,106,107,108,109,110,111,112,113,114,115,116,117,118,119,120,121,122,123,124,125,126,127,128,129,130,131,132,133,134,135,136,137,138,139,140,141,142,143,144,145,146,147,148,149,150,151,152,153,154,155,156,157,158,159,160,161,162,163,164,165,166,167,168,169,170,171,172,173,174,175,176,177,178,179,180,181,182,183,184,185,186,187,188,189,190,191,192,193,194,195,196,197,198,199,200,201,202,203,204,205,206,207,208,209,210,211,212,213,214,215,216,217,218,219,220,221,222,223,224,225,226,227,228,229,230,231,232,233,234,235,236,237,238,239,240,241,242,243,244,245,246,247,248,249,250,251,252,253,254,255,256,257,258,259,260,261,262,263,264,265,266,267,268,269,270,271,272,273,274,275,276,277,278,279,280,281,282],\"y\":[29.875,24.666666666666668,26.25,25.93333333333333,27.125,29.571428571428573,30.0,30.571428571428573,32.3125,33.3125,32.8125,32.3125,31.375,29.933333333333334,29.266666666666666,30.73333333333333,32.25,29.8,30.2,31.75,33.125,33.625,35.6875,34.666666666666664,34.625,34.0,34.0625,34.0,33.25,31.916666666666668,31.3125,31.75,33.4375,33.125,34.15384615384615,34.07142857142857,33.0625,34.6875,38.0,35.49999999999999,33.714285714285715,30.6,31.4375,33.3125,35.13333333333333,33.53333333333333,34.0,32.5,35.375,37.294117647058826,36.5625,37.25,37.21428571428572,37.5,37.75,37.375,37.4,36.13333333333333,36.8,32.214285714285715,31.526315789473685,33.21739130434783,35.26923076923077,38.27272727272727,36.0625,31.5,26.8125,32.642857142857146,36.0,37.5625,37.5625,38.2,36.16666666666666,35.42857142857143,34.625,36.07142857142857,35.733333333333334,36.13333333333333,33.4375,35.49999999999999,36.0,32.625,34.733333333333334,33.5,34.1875,35.857142857142854,35.625,30.9375,32.875,33.125,33.84615384615385,36.4375,35.42857142857143,34.86666666666667,34.3125,30.785714285714285,35.375,35.46666666666667,32.125,28.4,29.5625,30.6875,33.25,33.266666666666666,33.5,30.8,33.25,32.5625,31.5,30.5,31.25,30.4375,31.0,27.125,28.125,27.666666666666668,32.3125,34.1875,34.13333333333333,34.125,31.875,31.4375,31.9375,30.3125,28.3125,29.53333333333333,27.375,27.33333333333333,29.266666666666666,29.125,30.6875,32.5625,33.111111111111114,33.8,30.066666666666663,33.11764705882353,33.80952380952381,31.615384615384617,32.0,28.107142857142858,29.035714285714285,30.321428571428573,28.933333333333334,31.678571428571427,31.33333333333333,29.928571428571427,29.88888888888889,32.07142857142857,33.18518518518518,31.59259259259259,32.18518518518518,31.48,30.178571428571427,31.52,31.22222222222222,31.785714285714285,33.4,29.571428571428573,30.04,27.25925925925926,27.96,30.73913043478261,30.894736842105264,31.692307692307693,31.07692307692308,30.375,31.1,31.916666666666668,30.55555555555556,31.23076923076923,31.0,31.642857142857142,32.53333333333333,30.857142857142858,31.727272727272727,31.4,32.30769230769231,32.25,32.375,33.44444444444444,33.36,30.03703703703704,31.0,31.24,31.130434782608692,31.48,32.18518518518518,32.44,32.22727272727273,32.214285714285715,32.541666666666664,32.81481481481482,33.26923076923077,30.55555555555556,28.83333333333333,30.703703703703702,30.96,30.6,30.92,29.77777777777778,29.666666666666668,29.571428571428573,29.96296296296296,29.75,27.74074074074074,28.428571428571427,28.6,28.5,28.925925925925927,29.07692307692308,28.40909090909091,29.33333333333333,27.5,28.5,28.04,27.57692307692308,26.55555555555556,25.51851851851852,25.814814814814813,24.82608695652174,24.53846153846154,24.384615384615383,23.727272727272727,25.64,24.814814814814813,23.115384615384617,22.925925925925927,24.545454545454547,23.73076923076923,23.0,23.51851851851852,23.92,23.53846153846154,24.296296296296298,23.346153846153847,22.24,21.769230769230774,21.73076923076923,21.73076923076923,20.666666666666668,22.25,21.53846153846154,22.57894736842105,22.82608695652174,21.42105263157895,23.6,24.294117647058822,23.63636363636364,22.454545454545453,21.61111111111111,19.869565217391305,19.75,19.20833333333333,21.20833333333333,18.9,18.63636363636364,18.53846153846154,18.25,16.9,19.416666666666668,16.444444444444443,20.041666666666668,19.90909090909091,19.05,18.55555555555556,18.166666666666668,15.833333333333334,17.5,16.083333333333332,17.857142857142858,19.8,18.05,17.285714285714285,15.550000000000002,17.318181818181817,14.0,17.142857142857142,16.85,17.217391304347824,15.238095238095237,14.095238095238097,15.05263157894737,10.0],\"type\":\"scatter\"},{\"line\":{\"color\":\"rgba(55, 128, 191, 1.0)\",\"dash\":\"solid\",\"shape\":\"linear\",\"width\":1.3},\"mode\":\"lines\",\"name\":\"Predictions\",\"text\":\"\",\"x\":[0,1,2,3,4,5,6,7,8,9,10,11,12,13,14,15,16,17,18,19,20,21,22,23,24,25,26,27,28,29,30,31,32,33,34,35,36,37,38,39,40,41,42,43,44,45,46,47,48,49,50,51,52,53,54,55,56,57,58,59,60,61,62,63,64,65,66,67,68,69,70,71,72,73,74,75,76,77,78,79,80,81,82,83,84,85,86,87,88,89,90,91,92,93,94,95,96,97,98,99,100,101,102,103,104,105,106,107,108,109,110,111,112,113,114,115,116,117,118,119,120,121,122,123,124,125,126,127,128,129,130,131,132,133,134,135,136,137,138,139,140,141,142,143,144,145,146,147,148,149,150,151,152,153,154,155,156,157,158,159,160,161,162,163,164,165,166,167,168,169,170,171,172,173,174,175,176,177,178,179,180,181,182,183,184,185,186,187,188,189,190,191,192,193,194,195,196,197,198,199,200,201,202,203,204,205,206,207,208,209,210,211,212,213,214,215,216,217,218,219,220,221,222,223,224,225,226,227,228,229,230,231,232,233,234,235,236,237,238,239,240,241,242,243,244,245,246,247,248,249,250,251,252,253,254,255,256,257,258,259,260,261,262,263,264,265,266,267,268,269,270,271,272,273,274,275,276,277,278,279,280,281,282],\"y\":[26.51676368713379,26.808433532714844,27.044612884521484,27.14904022216797,27.345029830932617,27.73503875732422,28.340492248535156,28.32109832763672,27.958656311035156,28.158126831054688,28.512311935424805,28.77537727355957,29.460660934448242,29.949413299560547,30.590259552001953,30.98734474182129,31.177480697631836,31.42856216430664,31.341320037841797,31.32195281982422,31.402559280395508,31.32652473449707,31.33279800415039,31.80845832824707,32.16957092285156,32.79916763305664,33.014015197753906,33.411956787109375,33.5054931640625,33.370418548583984,33.214969635009766,33.22175598144531,33.199893951416016,33.00493621826172,32.900489807128906,32.88542175292969,33.025360107421875,32.873992919921875,32.638771057128906,32.751686096191406,32.438018798828125,32.618892669677734,32.818885803222656,32.9763069152832,33.07950973510742,32.96421813964844,32.92536544799805,33.0023193359375,32.899200439453125,32.57891082763672,32.57014083862305,32.58843231201172,32.8109130859375,33.10535430908203,33.40261459350586,33.548973083496094,33.427913665771484,33.52838134765625,33.70911407470703,33.788246154785156,33.77891159057617,33.778526306152344,33.76148223876953,33.71742248535156,33.67055892944336,33.60268020629883,33.47659683227539,33.31419372558594,33.185768127441406,33.17224884033203,33.16927719116211,33.33948516845703,33.413700103759766,33.2562141418457,32.95193099975586,32.83456802368164,33.03927230834961,33.47530746459961,33.65784454345703,33.67362594604492,33.58328628540039,33.689002990722656,33.73222351074219,33.761741638183594,33.75188446044922,33.413917541503906,33.37022018432617,33.33439254760742,33.195770263671875,33.2219352722168,33.13956069946289,32.9289665222168,32.945072174072266,32.89582061767578,32.85267639160156,32.87397766113281,32.67418670654297,32.55982208251953,32.76675796508789,32.79936218261719,32.76472473144531,32.65740966796875,32.27960968017578,31.869840621948242,31.510595321655273,31.149105072021484,31.20128059387207,30.78575897216797,30.45427894592285,30.464872360229492,30.910846710205078,31.39691925048828,31.548946380615234,31.42458152770996,31.08572006225586,30.754613876342773,30.624847412109375,30.24332618713379,30.087600708007812,29.99134635925293,30.194339752197266,30.32821273803711,30.60831642150879,30.764684677124023,31.343732833862305,31.635847091674805,31.890039443969727,31.405969619750977,30.662473678588867,29.878684997558594,29.087297439575195,28.529062271118164,28.327625274658203,28.17302894592285,28.238449096679688,28.69814682006836,29.052303314208984,29.971046447753906,30.917251586914062,31.327150344848633,31.611169815063477,31.649208068847656,31.501508712768555,31.162477493286133,30.9123592376709,30.945558547973633,30.5751895904541,30.035682678222656,29.72757339477539,29.432756423950195,29.72954750061035,30.038793563842773,30.27828025817871,30.700565338134766,30.589496612548828,30.433317184448242,30.673416137695312,31.22248649597168,31.4191951751709,31.15276336669922,30.98097801208496,30.69611930847168,30.573123931884766,30.481473922729492,30.38706398010254,30.41688346862793,30.338672637939453,30.099824905395508,30.455894470214844,30.672340393066406,31.31840705871582,31.932193756103516,31.91875457763672,31.867168426513672,31.85028076171875,31.732830047607422,31.551593780517578,31.504274368286133,31.391260147094727,31.271944046020508,31.021818161010742,30.984088897705078,30.799579620361328,30.61272430419922,30.836238861083984,30.691715240478516,30.86591911315918,31.00818634033203,30.50954246520996,30.505844116210938,30.342496871948242,30.0344181060791,30.054866790771484,30.156909942626953,30.179428100585938,30.308094024658203,30.41802978515625,30.58161735534668,30.570966720581055,30.42568588256836,30.386913299560547,30.263580322265625,30.126434326171875,30.00615692138672,30.124813079833984,30.575214385986328,30.806949615478516,30.301218032836914,30.14666748046875,30.148624420166016,30.198476791381836,30.139001846313477,30.010705947875977,29.632553100585938,29.49689292907715,29.680240631103516,29.71137809753418,29.669626235961914,29.569753646850586,29.378143310546875,29.041240692138672,28.583406448364258,27.58448600769043,26.778146743774414,25.796560287475586,24.688610076904297,23.898508071899414,23.262662887573242,22.834983825683594,22.83842658996582,22.990928649902344,23.282569885253906,23.38323974609375,23.81819725036621,23.780517578125,23.53404998779297,23.37718391418457,23.731937408447266,23.308000564575195,22.83765411376953,22.591259002685547,22.49726676940918,22.323028564453125,22.227149963378906,21.8100528717041,22.07308578491211,22.13568687438965,22.20475959777832,22.279186248779297,22.531099319458008,23.320903778076172,23.8260440826416,24.28141975402832,23.856828689575195,23.447355270385742,23.115833282470703,21.95203399658203,20.832763671875,19.945985794067383,19.307212829589844,19.334365844726562,19.038555145263672,18.890350341796875,18.488737106323242,17.754037857055664,17.32022476196289,17.092756271362305,17.270132064819336,17.769195556640625,18.358139038085938,18.645469665527344,18.88399314880371,18.679384231567383,18.712553024291992,18.826648712158203,18.498065948486328,18.090286254882812,18.252368927001953,17.825389862060547,17.595674514770508,17.086475372314453,16.486770629882812,16.31779670715332],\"type\":\"scatter\"}],                        {\"legend\":{\"bgcolor\":\"#151516\",\"font\":{\"color\":\"#D9D9D9\"}},\"paper_bgcolor\":\"#151516\",\"plot_bgcolor\":\"#151516\",\"template\":{\"data\":{\"barpolar\":[{\"marker\":{\"line\":{\"color\":\"#E5ECF6\",\"width\":0.5},\"pattern\":{\"fillmode\":\"overlay\",\"size\":10,\"solidity\":0.2}},\"type\":\"barpolar\"}],\"bar\":[{\"error_x\":{\"color\":\"#2a3f5f\"},\"error_y\":{\"color\":\"#2a3f5f\"},\"marker\":{\"line\":{\"color\":\"#E5ECF6\",\"width\":0.5},\"pattern\":{\"fillmode\":\"overlay\",\"size\":10,\"solidity\":0.2}},\"type\":\"bar\"}],\"carpet\":[{\"aaxis\":{\"endlinecolor\":\"#2a3f5f\",\"gridcolor\":\"white\",\"linecolor\":\"white\",\"minorgridcolor\":\"white\",\"startlinecolor\":\"#2a3f5f\"},\"baxis\":{\"endlinecolor\":\"#2a3f5f\",\"gridcolor\":\"white\",\"linecolor\":\"white\",\"minorgridcolor\":\"white\",\"startlinecolor\":\"#2a3f5f\"},\"type\":\"carpet\"}],\"choropleth\":[{\"colorbar\":{\"outlinewidth\":0,\"ticks\":\"\"},\"type\":\"choropleth\"}],\"contourcarpet\":[{\"colorbar\":{\"outlinewidth\":0,\"ticks\":\"\"},\"type\":\"contourcarpet\"}],\"contour\":[{\"colorbar\":{\"outlinewidth\":0,\"ticks\":\"\"},\"colorscale\":[[0.0,\"#0d0887\"],[0.1111111111111111,\"#46039f\"],[0.2222222222222222,\"#7201a8\"],[0.3333333333333333,\"#9c179e\"],[0.4444444444444444,\"#bd3786\"],[0.5555555555555556,\"#d8576b\"],[0.6666666666666666,\"#ed7953\"],[0.7777777777777778,\"#fb9f3a\"],[0.8888888888888888,\"#fdca26\"],[1.0,\"#f0f921\"]],\"type\":\"contour\"}],\"heatmapgl\":[{\"colorbar\":{\"outlinewidth\":0,\"ticks\":\"\"},\"colorscale\":[[0.0,\"#0d0887\"],[0.1111111111111111,\"#46039f\"],[0.2222222222222222,\"#7201a8\"],[0.3333333333333333,\"#9c179e\"],[0.4444444444444444,\"#bd3786\"],[0.5555555555555556,\"#d8576b\"],[0.6666666666666666,\"#ed7953\"],[0.7777777777777778,\"#fb9f3a\"],[0.8888888888888888,\"#fdca26\"],[1.0,\"#f0f921\"]],\"type\":\"heatmapgl\"}],\"heatmap\":[{\"colorbar\":{\"outlinewidth\":0,\"ticks\":\"\"},\"colorscale\":[[0.0,\"#0d0887\"],[0.1111111111111111,\"#46039f\"],[0.2222222222222222,\"#7201a8\"],[0.3333333333333333,\"#9c179e\"],[0.4444444444444444,\"#bd3786\"],[0.5555555555555556,\"#d8576b\"],[0.6666666666666666,\"#ed7953\"],[0.7777777777777778,\"#fb9f3a\"],[0.8888888888888888,\"#fdca26\"],[1.0,\"#f0f921\"]],\"type\":\"heatmap\"}],\"histogram2dcontour\":[{\"colorbar\":{\"outlinewidth\":0,\"ticks\":\"\"},\"colorscale\":[[0.0,\"#0d0887\"],[0.1111111111111111,\"#46039f\"],[0.2222222222222222,\"#7201a8\"],[0.3333333333333333,\"#9c179e\"],[0.4444444444444444,\"#bd3786\"],[0.5555555555555556,\"#d8576b\"],[0.6666666666666666,\"#ed7953\"],[0.7777777777777778,\"#fb9f3a\"],[0.8888888888888888,\"#fdca26\"],[1.0,\"#f0f921\"]],\"type\":\"histogram2dcontour\"}],\"histogram2d\":[{\"colorbar\":{\"outlinewidth\":0,\"ticks\":\"\"},\"colorscale\":[[0.0,\"#0d0887\"],[0.1111111111111111,\"#46039f\"],[0.2222222222222222,\"#7201a8\"],[0.3333333333333333,\"#9c179e\"],[0.4444444444444444,\"#bd3786\"],[0.5555555555555556,\"#d8576b\"],[0.6666666666666666,\"#ed7953\"],[0.7777777777777778,\"#fb9f3a\"],[0.8888888888888888,\"#fdca26\"],[1.0,\"#f0f921\"]],\"type\":\"histogram2d\"}],\"histogram\":[{\"marker\":{\"pattern\":{\"fillmode\":\"overlay\",\"size\":10,\"solidity\":0.2}},\"type\":\"histogram\"}],\"mesh3d\":[{\"colorbar\":{\"outlinewidth\":0,\"ticks\":\"\"},\"type\":\"mesh3d\"}],\"parcoords\":[{\"line\":{\"colorbar\":{\"outlinewidth\":0,\"ticks\":\"\"}},\"type\":\"parcoords\"}],\"pie\":[{\"automargin\":true,\"type\":\"pie\"}],\"scatter3d\":[{\"line\":{\"colorbar\":{\"outlinewidth\":0,\"ticks\":\"\"}},\"marker\":{\"colorbar\":{\"outlinewidth\":0,\"ticks\":\"\"}},\"type\":\"scatter3d\"}],\"scattercarpet\":[{\"marker\":{\"colorbar\":{\"outlinewidth\":0,\"ticks\":\"\"}},\"type\":\"scattercarpet\"}],\"scattergeo\":[{\"marker\":{\"colorbar\":{\"outlinewidth\":0,\"ticks\":\"\"}},\"type\":\"scattergeo\"}],\"scattergl\":[{\"marker\":{\"colorbar\":{\"outlinewidth\":0,\"ticks\":\"\"}},\"type\":\"scattergl\"}],\"scattermapbox\":[{\"marker\":{\"colorbar\":{\"outlinewidth\":0,\"ticks\":\"\"}},\"type\":\"scattermapbox\"}],\"scatterpolargl\":[{\"marker\":{\"colorbar\":{\"outlinewidth\":0,\"ticks\":\"\"}},\"type\":\"scatterpolargl\"}],\"scatterpolar\":[{\"marker\":{\"colorbar\":{\"outlinewidth\":0,\"ticks\":\"\"}},\"type\":\"scatterpolar\"}],\"scatter\":[{\"fillpattern\":{\"fillmode\":\"overlay\",\"size\":10,\"solidity\":0.2},\"type\":\"scatter\"}],\"scatterternary\":[{\"marker\":{\"colorbar\":{\"outlinewidth\":0,\"ticks\":\"\"}},\"type\":\"scatterternary\"}],\"surface\":[{\"colorbar\":{\"outlinewidth\":0,\"ticks\":\"\"},\"colorscale\":[[0.0,\"#0d0887\"],[0.1111111111111111,\"#46039f\"],[0.2222222222222222,\"#7201a8\"],[0.3333333333333333,\"#9c179e\"],[0.4444444444444444,\"#bd3786\"],[0.5555555555555556,\"#d8576b\"],[0.6666666666666666,\"#ed7953\"],[0.7777777777777778,\"#fb9f3a\"],[0.8888888888888888,\"#fdca26\"],[1.0,\"#f0f921\"]],\"type\":\"surface\"}],\"table\":[{\"cells\":{\"fill\":{\"color\":\"#EBF0F8\"},\"line\":{\"color\":\"white\"}},\"header\":{\"fill\":{\"color\":\"#C8D4E3\"},\"line\":{\"color\":\"white\"}},\"type\":\"table\"}]},\"layout\":{\"annotationdefaults\":{\"arrowcolor\":\"#2a3f5f\",\"arrowhead\":0,\"arrowwidth\":1},\"autotypenumbers\":\"strict\",\"coloraxis\":{\"colorbar\":{\"outlinewidth\":0,\"ticks\":\"\"}},\"colorscale\":{\"diverging\":[[0,\"#8e0152\"],[0.1,\"#c51b7d\"],[0.2,\"#de77ae\"],[0.3,\"#f1b6da\"],[0.4,\"#fde0ef\"],[0.5,\"#f7f7f7\"],[0.6,\"#e6f5d0\"],[0.7,\"#b8e186\"],[0.8,\"#7fbc41\"],[0.9,\"#4d9221\"],[1,\"#276419\"]],\"sequential\":[[0.0,\"#0d0887\"],[0.1111111111111111,\"#46039f\"],[0.2222222222222222,\"#7201a8\"],[0.3333333333333333,\"#9c179e\"],[0.4444444444444444,\"#bd3786\"],[0.5555555555555556,\"#d8576b\"],[0.6666666666666666,\"#ed7953\"],[0.7777777777777778,\"#fb9f3a\"],[0.8888888888888888,\"#fdca26\"],[1.0,\"#f0f921\"]],\"sequentialminus\":[[0.0,\"#0d0887\"],[0.1111111111111111,\"#46039f\"],[0.2222222222222222,\"#7201a8\"],[0.3333333333333333,\"#9c179e\"],[0.4444444444444444,\"#bd3786\"],[0.5555555555555556,\"#d8576b\"],[0.6666666666666666,\"#ed7953\"],[0.7777777777777778,\"#fb9f3a\"],[0.8888888888888888,\"#fdca26\"],[1.0,\"#f0f921\"]]},\"colorway\":[\"#636efa\",\"#EF553B\",\"#00cc96\",\"#ab63fa\",\"#FFA15A\",\"#19d3f3\",\"#FF6692\",\"#B6E880\",\"#FF97FF\",\"#FECB52\"],\"font\":{\"color\":\"#2a3f5f\"},\"geo\":{\"bgcolor\":\"white\",\"lakecolor\":\"white\",\"landcolor\":\"#E5ECF6\",\"showlakes\":true,\"showland\":true,\"subunitcolor\":\"white\"},\"hoverlabel\":{\"align\":\"left\"},\"hovermode\":\"closest\",\"mapbox\":{\"style\":\"light\"},\"paper_bgcolor\":\"white\",\"plot_bgcolor\":\"#E5ECF6\",\"polar\":{\"angularaxis\":{\"gridcolor\":\"white\",\"linecolor\":\"white\",\"ticks\":\"\"},\"bgcolor\":\"#E5ECF6\",\"radialaxis\":{\"gridcolor\":\"white\",\"linecolor\":\"white\",\"ticks\":\"\"}},\"scene\":{\"xaxis\":{\"backgroundcolor\":\"#E5ECF6\",\"gridcolor\":\"white\",\"gridwidth\":2,\"linecolor\":\"white\",\"showbackground\":true,\"ticks\":\"\",\"zerolinecolor\":\"white\"},\"yaxis\":{\"backgroundcolor\":\"#E5ECF6\",\"gridcolor\":\"white\",\"gridwidth\":2,\"linecolor\":\"white\",\"showbackground\":true,\"ticks\":\"\",\"zerolinecolor\":\"white\"},\"zaxis\":{\"backgroundcolor\":\"#E5ECF6\",\"gridcolor\":\"white\",\"gridwidth\":2,\"linecolor\":\"white\",\"showbackground\":true,\"ticks\":\"\",\"zerolinecolor\":\"white\"}},\"shapedefaults\":{\"line\":{\"color\":\"#2a3f5f\"}},\"ternary\":{\"aaxis\":{\"gridcolor\":\"white\",\"linecolor\":\"white\",\"ticks\":\"\"},\"baxis\":{\"gridcolor\":\"white\",\"linecolor\":\"white\",\"ticks\":\"\"},\"bgcolor\":\"#E5ECF6\",\"caxis\":{\"gridcolor\":\"white\",\"linecolor\":\"white\",\"ticks\":\"\"}},\"title\":{\"x\":0.05},\"xaxis\":{\"automargin\":true,\"gridcolor\":\"white\",\"linecolor\":\"white\",\"ticks\":\"\",\"title\":{\"standoff\":15},\"zerolinecolor\":\"white\",\"zerolinewidth\":2},\"yaxis\":{\"automargin\":true,\"gridcolor\":\"white\",\"linecolor\":\"white\",\"ticks\":\"\",\"title\":{\"standoff\":15},\"zerolinecolor\":\"white\",\"zerolinewidth\":2}}},\"title\":{\"font\":{\"color\":\"#D9D9D9\"},\"text\":\"\\u041f\\u0440\\u043e\\u0433\\u043d\\u043e\\u0437 vs \\u0420\\u0435\\u0430\\u043b\\u044c\\u043d\\u044b\\u0435 \\u0437\\u043d\\u0430\\u0447\\u0435\\u043d\\u0438\\u044f\"},\"xaxis\":{\"gridcolor\":\"#434343\",\"showgrid\":true,\"tickfont\":{\"color\":\"#C2C2C2\"},\"title\":{\"font\":{\"color\":\"#D9D9D9\"},\"text\":\"\\u0412\\u0440\\u0435\\u043c\\u044f\"},\"zerolinecolor\":\"#666570\"},\"yaxis\":{\"gridcolor\":\"#434343\",\"showgrid\":true,\"tickfont\":{\"color\":\"#C2C2C2\"},\"title\":{\"font\":{\"color\":\"#D9D9D9\"},\"text\":\"\\u0417\\u043d\\u0430\\u0447\\u0435\\u043d\\u0438\\u0435\"},\"zerolinecolor\":\"#666570\"}},                        {\"showLink\": true, \"linkText\": \"Export to plot.ly\", \"plotlyServerURL\": \"https://plot.ly\", \"responsive\": true}                    ).then(function(){\n",
       "                            \n",
       "var gd = document.getElementById('9618e727-991c-4c7b-8c46-609e96ff3bcf');\n",
       "var x = new MutationObserver(function (mutations, observer) {{\n",
       "        var display = window.getComputedStyle(gd).display;\n",
       "        if (!display || display === 'none') {{\n",
       "            console.log([gd, 'removed!']);\n",
       "            Plotly.purge(gd);\n",
       "            observer.disconnect();\n",
       "        }}\n",
       "}});\n",
       "\n",
       "// Listen for the removal of the full notebook cells\n",
       "var notebookContainer = gd.closest('#notebook-container');\n",
       "if (notebookContainer) {{\n",
       "    x.observe(notebookContainer, {childList: true});\n",
       "}}\n",
       "\n",
       "// Listen for the clearing of the current output cell\n",
       "var outputEl = gd.closest('.output');\n",
       "if (outputEl) {{\n",
       "    x.observe(outputEl, {childList: true});\n",
       "}}\n",
       "\n",
       "                        })                };                });            </script>        </div>"
      ]
     },
     "metadata": {},
     "output_type": "display_data"
    }
   ],
   "source": [
    "lstm_pred_a = lstm_model_a.predict(X_test)\n",
    "lstm_pred_a = target_transformer.inverse_transform(lstm_pred_a)\n",
    "\n",
    "y_test = y_test.reshape(-1, 1)\n",
    "y_test = target_transformer.inverse_transform(y_test)\n",
    "\n",
    "\n",
    "lstm_mape_a = mean_absolute_percentage_error(y_test, lstm_pred_a)\n",
    "lstm_mae_a = mean_absolute_error(y_test, lstm_pred_a)\n",
    "print(f\"MAPE: {lstm_mape_a} %\")\n",
    "print(f\"MAE: {lstm_mae_a}\")\n",
    "\n",
    "df_test = pd.DataFrame({\n",
    "    'Y_test': y_test.ravel(),\n",
    "    'Predictions': lstm_pred_a.ravel()\n",
    "})\n",
    "# Отобразить на графике\n",
    "df_test.iplot(title=\"Прогноз vs Реальные значения\", xTitle=\"Время\", yTitle=\"Значение\", theme=\"solar\")"
   ]
  },
  {
   "cell_type": "code",
   "execution_count": 71,
   "metadata": {},
   "outputs": [
    {
     "data": {
      "text/html": [
       "<div>\n",
       "<style scoped>\n",
       "    .dataframe tbody tr th:only-of-type {\n",
       "        vertical-align: middle;\n",
       "    }\n",
       "\n",
       "    .dataframe tbody tr th {\n",
       "        vertical-align: top;\n",
       "    }\n",
       "\n",
       "    .dataframe thead th {\n",
       "        text-align: right;\n",
       "    }\n",
       "</style>\n",
       "<table border=\"1\" class=\"dataframe\">\n",
       "  <thead>\n",
       "    <tr style=\"text-align: right;\">\n",
       "      <th></th>\n",
       "      <th>SimpleRNN_A</th>\n",
       "      <th>LSTM_A</th>\n",
       "      <th>GRU_A</th>\n",
       "    </tr>\n",
       "  </thead>\n",
       "  <tbody>\n",
       "    <tr>\n",
       "      <th>MAPE</th>\n",
       "      <td>5.957408</td>\n",
       "      <td>6.805335</td>\n",
       "      <td>4.686335</td>\n",
       "    </tr>\n",
       "    <tr>\n",
       "      <th>MAE</th>\n",
       "      <td>1.621202</td>\n",
       "      <td>1.883152</td>\n",
       "      <td>1.281806</td>\n",
       "    </tr>\n",
       "  </tbody>\n",
       "</table>\n",
       "</div>"
      ],
      "text/plain": [
       "      SimpleRNN_A    LSTM_A     GRU_A\n",
       "MAPE     5.957408  6.805335  4.686335\n",
       "MAE      1.621202  1.883152  1.281806"
      ]
     },
     "execution_count": 71,
     "metadata": {},
     "output_type": "execute_result"
    }
   ],
   "source": [
    "dl_compare_with_mech = {\n",
    "        'SimpleRNN_A': [rnn_mape_a, rnn_mae_a], \n",
    "        'LSTM_A': [lstm_mape_a, lstm_mae_a],\n",
    "        'GRU_A': [gru_mape_a, gru_mae_a]\n",
    "            }\n",
    "dl_compare_with_mech = pd.DataFrame(dl_compare_with_mech,index=['MAPE','MAE'])\n",
    "dl_compare_with_mech.head()"
   ]
  },
  {
   "cell_type": "code",
   "execution_count": 72,
   "metadata": {},
   "outputs": [
    {
     "data": {
      "text/html": [
       "<div>\n",
       "<style scoped>\n",
       "    .dataframe tbody tr th:only-of-type {\n",
       "        vertical-align: middle;\n",
       "    }\n",
       "\n",
       "    .dataframe tbody tr th {\n",
       "        vertical-align: top;\n",
       "    }\n",
       "\n",
       "    .dataframe thead th {\n",
       "        text-align: right;\n",
       "    }\n",
       "</style>\n",
       "<table border=\"1\" class=\"dataframe\">\n",
       "  <thead>\n",
       "    <tr style=\"text-align: right;\">\n",
       "      <th></th>\n",
       "      <th>SimpleRNN</th>\n",
       "      <th>LSTM</th>\n",
       "      <th>GRU</th>\n",
       "      <th>SimpleRNN_A</th>\n",
       "      <th>LSTM_A</th>\n",
       "      <th>GRU_A</th>\n",
       "    </tr>\n",
       "  </thead>\n",
       "  <tbody>\n",
       "    <tr>\n",
       "      <th>MAPE</th>\n",
       "      <td>4.641917</td>\n",
       "      <td>4.783141</td>\n",
       "      <td>4.584658</td>\n",
       "      <td>5.957408</td>\n",
       "      <td>6.805335</td>\n",
       "      <td>4.686335</td>\n",
       "    </tr>\n",
       "    <tr>\n",
       "      <th>MAE</th>\n",
       "      <td>1.254220</td>\n",
       "      <td>1.279938</td>\n",
       "      <td>1.236946</td>\n",
       "      <td>1.621202</td>\n",
       "      <td>1.883152</td>\n",
       "      <td>1.281806</td>\n",
       "    </tr>\n",
       "  </tbody>\n",
       "</table>\n",
       "</div>"
      ],
      "text/plain": [
       "      SimpleRNN      LSTM      GRU   SimpleRNN_A    LSTM_A     GRU_A\n",
       "MAPE   4.641917  4.783141  4.584658     5.957408  6.805335  4.686335\n",
       "MAE    1.254220  1.279938  1.236946     1.621202  1.883152  1.281806"
      ]
     },
     "execution_count": 72,
     "metadata": {},
     "output_type": "execute_result"
    }
   ],
   "source": [
    "compare_models_df = pd.concat([dl_compare_without_mech, dl_compare_with_mech], axis=1)\n",
    "compare_models_df.head()"
   ]
  },
  {
   "cell_type": "markdown",
   "metadata": {},
   "source": [
    "### При наличии трех признаков (wind_speed, humidity, meantemp) и таргета - meantemp лучше всего себя показала модель GRU без использования механизма внимания. Выводы основаны на ошибке MAE, которая равна 1.236946."
   ]
  }
 ],
 "metadata": {
  "kernelspec": {
   "display_name": "Python 3",
   "language": "python",
   "name": "python3"
  },
  "language_info": {
   "codemirror_mode": {
    "name": "ipython",
    "version": 3
   },
   "file_extension": ".py",
   "mimetype": "text/x-python",
   "name": "python",
   "nbconvert_exporter": "python",
   "pygments_lexer": "ipython3",
   "version": "3.10.6"
  }
 },
 "nbformat": 4,
 "nbformat_minor": 2
}

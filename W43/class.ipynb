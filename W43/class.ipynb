{
 "cells": [
  {
   "cell_type": "code",
   "execution_count": 17,
   "metadata": {},
   "outputs": [
    {
     "data": {
      "text/html": [
       "        <script type=\"text/javascript\">\n",
       "        window.PlotlyConfig = {MathJaxConfig: 'local'};\n",
       "        if (window.MathJax && window.MathJax.Hub && window.MathJax.Hub.Config) {window.MathJax.Hub.Config({SVG: {font: \"STIX-Web\"}});}\n",
       "        if (typeof require !== 'undefined') {\n",
       "        require.undef(\"plotly\");\n",
       "        requirejs.config({\n",
       "            paths: {\n",
       "                'plotly': ['https://cdn.plot.ly/plotly-2.34.0.min']\n",
       "            }\n",
       "        });\n",
       "        require(['plotly'], function(Plotly) {\n",
       "            window._Plotly = Plotly;\n",
       "        });\n",
       "        }\n",
       "        </script>\n",
       "        "
      ]
     },
     "metadata": {},
     "output_type": "display_data"
    }
   ],
   "source": [
    "import warnings\n",
    "warnings.filterwarnings(\"ignore\")\n",
    "\n",
    "import numpy as np\n",
    "import pandas as pd\n",
    "from sklearn.preprocessing import MinMaxScaler, StandardScaler\n",
    "from tensorflow.keras.models import Sequential\n",
    "from tensorflow.keras.layers import SimpleRNN, Dense\n",
    "from tensorflow.keras.optimizers import Adam\n",
    "import tensorflow as tf\n",
    "from tensorflow.keras.layers import Layer, Dropout, GRU, LSTM\n",
    "import pywt\n",
    "import cufflinks as cf\n",
    "cf.go_offline()"
   ]
  },
  {
   "cell_type": "code",
   "execution_count": 2,
   "metadata": {},
   "outputs": [],
   "source": [
    "class AttentionMechanism(Layer):\n",
    "    def __init__(self, return_sequences=True):\n",
    "        super(AttentionMechanism, self).__init__()\n",
    "        self.return_sequences = return_sequences\n",
    "\n",
    "    def build(self, input_shape):\n",
    "        self.W=self.add_weight(name=\"att_weight\", shape=(input_shape[-1],1),\n",
    "                               initializer=\"normal\")\n",
    "        self.b=self.add_weight(name=\"att_bias\", shape=(input_shape[1],1),\n",
    "                               initializer=\"zeros\")\n",
    "\n",
    "    def call(self, x):\n",
    "        e = tf.nn.tanh(tf.matmul(x,self.W)+self.b)\n",
    "        a = tf.nn.softmax(e, axis=1)\n",
    "        output = x*a\n",
    "\n",
    "        if self.return_sequences:\n",
    "            return output\n",
    "\n",
    "        return tf.reduce_sum(output, axis=1)"
   ]
  },
  {
   "cell_type": "code",
   "execution_count": 3,
   "metadata": {},
   "outputs": [],
   "source": [
    "class PreprocessData:\n",
    "    def __init__(self, file_path, feature_column, look_back=2):\n",
    "        self.file_path = file_path\n",
    "        self.feature_column = feature_column\n",
    "        self.look_back = look_back\n",
    "        self.scaler = MinMaxScaler(feature_range=(0, 1))\n",
    "        self.data_scaled = None\n",
    "        self.X = None\n",
    "        self.y = None\n",
    "\n",
    "    def check_look_back(self):\n",
    "        if self.look_back == 0:\n",
    "            raise ValueError('You can not use number 0')\n",
    "\n",
    "    def load_preprocess_data(self):\n",
    "        df = pd.read_csv(self.file_path, index_col=['date'], parse_dates=True)\n",
    "        df[self.feature_column].fillna(method='ffill', inplace=True)\n",
    "        self.data_scaled = self.scaler.fit_transform(df[[self.feature_column]])\n",
    "\n",
    "    def create_dataset(self):\n",
    "        X, y = [], []\n",
    "        \n",
    "        for i in range(len(self.data_scaled) - self.look_back):\n",
    "            a = self.data_scaled[i:(i + self.look_back), 0]\n",
    "            X.append(a)\n",
    "            y.append(self.data_scaled[i + self.look_back, 0])\n",
    "        \n",
    "        self.X, self.y = np.array(X), np.array(y)\n",
    "\n",
    "        X_dif = self.X[:-1] - self.X[1:]\n",
    "        X_new = np.hstack([self.X[:-1], X_dif])\n",
    "        self.y = self.y[:-1]\n",
    "\n",
    "        self.X = np.reshape(X_new, (X_new.shape[0], X_new.shape[1], 1))\n",
    "\n",
    "    def split_data(self, train_size=0.8):\n",
    "        split_idx = int(len(self.X) * train_size)\n",
    "        X_train, X_test = self.X[:split_idx], self.X[split_idx:]\n",
    "        y_train, y_test = self.y[:split_idx], self.y[split_idx:]\n",
    "        \n",
    "        return X_train, X_test, y_train, y_test"
   ]
  },
  {
   "cell_type": "code",
   "execution_count": 4,
   "metadata": {},
   "outputs": [],
   "source": [
    "class TrainModel:\n",
    "    def __init__(self):\n",
    "        self.model = None\n",
    "\n",
    "    def build_model_simple_rnn(self, input_shape):\n",
    "        self.model = Sequential([\n",
    "            SimpleRNN(62, activation='relu', input_shape=input_shape, return_sequences=True),\n",
    "            SimpleRNN(29, activation='relu', input_shape=input_shape, return_sequences=True),\n",
    "            AttentionMechanism(return_sequences=True),\n",
    "            SimpleRNN(15, activation='relu'),\n",
    "            Dense(1)\n",
    "        ])\n",
    "        self.model.compile(optimizer=Adam(learning_rate=0.01), loss='mse')\n",
    "\n",
    "        return self.model\n",
    "    \n",
    "    def build_model_gru(self, input_shape):\n",
    "        self.model = Sequential([\n",
    "            GRU(94, activation='relu', input_shape=input_shape, return_sequences=True),\n",
    "            GRU(100, activation='relu', return_sequences=True),\n",
    "            Dropout(0.2),\n",
    "            AttentionMechanism(return_sequences=True),\n",
    "            GRU(14, activation='relu'),\n",
    "            Dense(1)\n",
    "        ])\n",
    "        self.model.compile(optimizer=Adam(learning_rate=0.01), loss='mse')\n",
    "\n",
    "        return self.model\n",
    "    \n",
    "    def build_model_lstm(self, input_shape):\n",
    "        self.model = Sequential([\n",
    "            LSTM(90, activation='relu', input_shape=input_shape, return_sequences=True),\n",
    "            LSTM(79, activation='relu', return_sequences=True),\n",
    "            Dropout(0.2),\n",
    "            AttentionMechanism(return_sequences=True),\n",
    "            LSTM(30, activation='relu'),\n",
    "            Dense(1)\n",
    "        ])\n",
    "        self.model.compile(optimizer=Adam(learning_rate=0.01), loss='mse')\n",
    "\n",
    "        return self.model\n",
    "\n",
    "    def train_model(self, X_train, y_train, epochs=100, batch_size=64):\n",
    "        self.model.fit(X_train, y_train, epochs=epochs, batch_size=batch_size, validation_split=0.2)\n",
    "\n",
    "    def evaluate_model(self, X_test, y_test, scaler):\n",
    "        predictions = self.model.predict(X_test)\n",
    "        predictions = scaler.inverse_transform(predictions)\n",
    "        y_test_actual = scaler.inverse_transform(y_test.reshape(-1, 1))\n",
    "        \n",
    "        mape = np.mean(np.abs((y_test_actual - predictions) / y_test_actual)) * 100\n",
    "        mae = np.mean(np.abs(y_test_actual - predictions))\n",
    "        \n",
    "        print(f\"MAPE: {mape}%\")\n",
    "        print(f\"MAE: {mae}\")\n",
    "        \n",
    "        return predictions, y_test_actual\n",
    "\n",
    "    def plot_results(self, predictions, y_test_actual, feature_column):\n",
    "        df = pd.DataFrame({\n",
    "            'Actual': y_test_actual.ravel(),\n",
    "            'Predicted': predictions.ravel()\n",
    "        })\n",
    "        \n",
    "        df.iplot(title=f\"Прогноз vs Реальные значения (Тест) для {feature_column}\",\n",
    "                 xTitle=\"Время\",\n",
    "                 yTitle=\"Значение\",\n",
    "                 theme=\"solar\")"
   ]
  },
  {
   "cell_type": "code",
   "execution_count": 6,
   "metadata": {},
   "outputs": [],
   "source": [
    "class ValidationData:\n",
    "    def __init__(self, feature_column, look_back=1):\n",
    "        self.feature_column = feature_column\n",
    "        self.look_back = look_back\n",
    "        self.scaler = MinMaxScaler(feature_range=(0, 1))\n",
    "        self.model = None\n",
    "        self.X_val = None\n",
    "        self.y_val = None\n",
    "        self.predictions_val = None\n",
    "        self.y_val_actual = None\n",
    "        self.model = TrainModel()\n",
    "\n",
    "    def check_look_back(self):\n",
    "        if self.look_back == 0:\n",
    "            raise ValueError('You can not use number 0')\n",
    "\n",
    "    def load_validation_data(self, file_path, model):\n",
    "        try:\n",
    "            df = pd.read_csv(file_path, index_col=['date'], parse_dates=True)\n",
    "            df[self.feature_column].fillna(method='ffill', inplace=True)\n",
    "            self.data_scaled = self.scaler.fit_transform(df[[self.feature_column]])\n",
    "\n",
    "            X, y = [], []\n",
    "            \n",
    "            for i in range(len(self.data_scaled) - self.look_back):\n",
    "                a = self.data_scaled[i:(i + self.look_back), 0]\n",
    "                X.append(a)\n",
    "                y.append(self.data_scaled[i + self.look_back, 0])\n",
    "            \n",
    "            self.X, self.y = np.array(X), np.array(y)\n",
    "\n",
    "            X_dif = self.X[:-1] - self.X[1:]\n",
    "            X_new = np.hstack([self.X[:-1], X_dif])\n",
    "            self.y = self.y[:-1]\n",
    "\n",
    "            self.X = np.reshape(X_new, (X_new.shape[0], X_new.shape[1], 1))\n",
    "    \n",
    "            predictions = model.predict(self.X)\n",
    "            predictions = self.scaler.inverse_transform(predictions)\n",
    "            y_actual = self.scaler.inverse_transform(self.y.reshape(-1, 1))\n",
    "\n",
    "            return predictions, y_actual\n",
    "            \n",
    "        except Exception as e:\n",
    "            print(f\"Error in load_validation_data: {str(e)}\")\n",
    "\n",
    "    def plot_val_results(self, predictions, y_actual):\n",
    "        if predictions is not None and y_actual is not None:\n",
    "            df_val = pd.DataFrame({\n",
    "                'Actual (Validation)': y_actual.ravel(),\n",
    "                'Predicted (Validation)': predictions.ravel()\n",
    "            })\n",
    "            df_val.iplot(title=f\"Прогноз vs Реальные значения (Валидация) для {self.feature_column}\",\n",
    "                         xTitle=\"Время\",\n",
    "                         yTitle=\"Значение\",\n",
    "                         theme=\"solar\")\n",
    "        else:\n",
    "            print('Валидационные данные не введены.')"
   ]
  },
  {
   "cell_type": "code",
   "execution_count": 6,
   "metadata": {},
   "outputs": [],
   "source": [
    "# Преобразование данных для обучения модели\n",
    "preprocess_meantemp = PreprocessData('DailyDelhiClimateTrain.csv', 'meantemp', look_back=5)\n",
    "preprocess_meantemp.check_look_back()\n",
    "preprocess_meantemp.load_preprocess_data()\n",
    "preprocess_meantemp.create_dataset()\n",
    "X_train_meantemp, X_test_meantemp, y_train_meantemp, y_test_meantemp = preprocess_meantemp.split_data()\n",
    "\n",
    "preprocess_humidity = PreprocessData('DailyDelhiClimateTrain.csv', 'humidity', look_back=5)\n",
    "preprocess_humidity.check_look_back()\n",
    "preprocess_humidity.load_preprocess_data()\n",
    "preprocess_humidity.create_dataset()\n",
    "X_train_humidity, X_test_humidity, y_train_humidity, y_test_humidity = preprocess_humidity.split_data()\n",
    "\n",
    "preprocess_wind_speed = PreprocessData('DailyDelhiClimateTrain.csv', 'wind_speed', look_back=5)\n",
    "preprocess_wind_speed.check_look_back()\n",
    "preprocess_wind_speed.load_preprocess_data()\n",
    "preprocess_wind_speed.create_dataset()\n",
    "X_train_wind_speed, X_test_wind_speed, y_train_wind_speed, y_test_wind_speed = preprocess_wind_speed.split_data()\n",
    "\n",
    "preprocess_meanpressure = PreprocessData('DailyDelhiClimateTrain.csv', 'meanpressure', look_back=4)\n",
    "preprocess_meanpressure.check_look_back()\n",
    "preprocess_meanpressure.load_preprocess_data()\n",
    "preprocess_meanpressure.create_dataset()\n",
    "X_train_meanpressure, X_test_meanpressure, y_train_meanpressure, y_test_meanpressure = preprocess_meanpressure.split_data()"
   ]
  },
  {
   "cell_type": "code",
   "execution_count": 7,
   "metadata": {},
   "outputs": [
    {
     "name": "stdout",
     "output_type": "stream",
     "text": [
      "Epoch 1/100\n",
      "\u001b[1m15/15\u001b[0m \u001b[32m━━━━━━━━━━━━━━━━━━━━\u001b[0m\u001b[37m\u001b[0m \u001b[1m2s\u001b[0m 22ms/step - loss: 0.1627 - val_loss: 0.0150\n",
      "Epoch 2/100\n",
      "\u001b[1m15/15\u001b[0m \u001b[32m━━━━━━━━━━━━━━━━━━━━\u001b[0m\u001b[37m\u001b[0m \u001b[1m0s\u001b[0m 5ms/step - loss: 0.0143 - val_loss: 0.0036\n",
      "Epoch 3/100\n",
      "\u001b[1m15/15\u001b[0m \u001b[32m━━━━━━━━━━━━━━━━━━━━\u001b[0m\u001b[37m\u001b[0m \u001b[1m0s\u001b[0m 5ms/step - loss: 0.0047 - val_loss: 0.0024\n",
      "Epoch 4/100\n",
      "\u001b[1m15/15\u001b[0m \u001b[32m━━━━━━━━━━━━━━━━━━━━\u001b[0m\u001b[37m\u001b[0m \u001b[1m0s\u001b[0m 5ms/step - loss: 0.0046 - val_loss: 0.0104\n",
      "Epoch 5/100\n",
      "\u001b[1m15/15\u001b[0m \u001b[32m━━━━━━━━━━━━━━━━━━━━\u001b[0m\u001b[37m\u001b[0m \u001b[1m0s\u001b[0m 7ms/step - loss: 0.0077 - val_loss: 0.0020\n",
      "Epoch 6/100\n",
      "\u001b[1m15/15\u001b[0m \u001b[32m━━━━━━━━━━━━━━━━━━━━\u001b[0m\u001b[37m\u001b[0m \u001b[1m0s\u001b[0m 5ms/step - loss: 0.0043 - val_loss: 0.0021\n",
      "Epoch 7/100\n",
      "\u001b[1m15/15\u001b[0m \u001b[32m━━━━━━━━━━━━━━━━━━━━\u001b[0m\u001b[37m\u001b[0m \u001b[1m0s\u001b[0m 5ms/step - loss: 0.0029 - val_loss: 0.0011\n",
      "Epoch 8/100\n",
      "\u001b[1m15/15\u001b[0m \u001b[32m━━━━━━━━━━━━━━━━━━━━\u001b[0m\u001b[37m\u001b[0m \u001b[1m0s\u001b[0m 5ms/step - loss: 0.0021 - val_loss: 8.0740e-04\n",
      "Epoch 9/100\n",
      "\u001b[1m15/15\u001b[0m \u001b[32m━━━━━━━━━━━━━━━━━━━━\u001b[0m\u001b[37m\u001b[0m \u001b[1m0s\u001b[0m 5ms/step - loss: 0.0011 - val_loss: 0.0011\n",
      "Epoch 10/100\n",
      "\u001b[1m15/15\u001b[0m \u001b[32m━━━━━━━━━━━━━━━━━━━━\u001b[0m\u001b[37m\u001b[0m \u001b[1m0s\u001b[0m 5ms/step - loss: 7.3577e-04 - val_loss: 3.0779e-04\n",
      "Epoch 11/100\n",
      "\u001b[1m15/15\u001b[0m \u001b[32m━━━━━━━━━━━━━━━━━━━━\u001b[0m\u001b[37m\u001b[0m \u001b[1m0s\u001b[0m 5ms/step - loss: 5.5677e-04 - val_loss: 2.0469e-04\n",
      "Epoch 12/100\n",
      "\u001b[1m15/15\u001b[0m \u001b[32m━━━━━━━━━━━━━━━━━━━━\u001b[0m\u001b[37m\u001b[0m \u001b[1m0s\u001b[0m 6ms/step - loss: 1.8752e-04 - val_loss: 1.2727e-04\n",
      "Epoch 13/100\n",
      "\u001b[1m15/15\u001b[0m \u001b[32m━━━━━━━━━━━━━━━━━━━━\u001b[0m\u001b[37m\u001b[0m \u001b[1m0s\u001b[0m 5ms/step - loss: 1.0021e-04 - val_loss: 1.0121e-04\n",
      "Epoch 14/100\n",
      "\u001b[1m15/15\u001b[0m \u001b[32m━━━━━━━━━━━━━━━━━━━━\u001b[0m\u001b[37m\u001b[0m \u001b[1m0s\u001b[0m 5ms/step - loss: 1.1515e-04 - val_loss: 1.4490e-04\n",
      "Epoch 15/100\n",
      "\u001b[1m15/15\u001b[0m \u001b[32m━━━━━━━━━━━━━━━━━━━━\u001b[0m\u001b[37m\u001b[0m \u001b[1m0s\u001b[0m 5ms/step - loss: 1.8133e-04 - val_loss: 1.2127e-04\n",
      "Epoch 16/100\n",
      "\u001b[1m15/15\u001b[0m \u001b[32m━━━━━━━━━━━━━━━━━━━━\u001b[0m\u001b[37m\u001b[0m \u001b[1m0s\u001b[0m 5ms/step - loss: 1.0291e-04 - val_loss: 5.4345e-05\n",
      "Epoch 17/100\n",
      "\u001b[1m15/15\u001b[0m \u001b[32m━━━━━━━━━━━━━━━━━━━━\u001b[0m\u001b[37m\u001b[0m \u001b[1m0s\u001b[0m 5ms/step - loss: 5.7080e-05 - val_loss: 5.1252e-05\n",
      "Epoch 18/100\n",
      "\u001b[1m15/15\u001b[0m \u001b[32m━━━━━━━━━━━━━━━━━━━━\u001b[0m\u001b[37m\u001b[0m \u001b[1m0s\u001b[0m 5ms/step - loss: 3.9879e-05 - val_loss: 1.0270e-04\n",
      "Epoch 19/100\n",
      "\u001b[1m15/15\u001b[0m \u001b[32m━━━━━━━━━━━━━━━━━━━━\u001b[0m\u001b[37m\u001b[0m \u001b[1m0s\u001b[0m 6ms/step - loss: 5.7283e-05 - val_loss: 9.9042e-05\n",
      "Epoch 20/100\n",
      "\u001b[1m15/15\u001b[0m \u001b[32m━━━━━━━━━━━━━━━━━━━━\u001b[0m\u001b[37m\u001b[0m \u001b[1m0s\u001b[0m 5ms/step - loss: 1.2455e-04 - val_loss: 7.0908e-05\n",
      "Epoch 21/100\n",
      "\u001b[1m15/15\u001b[0m \u001b[32m━━━━━━━━━━━━━━━━━━━━\u001b[0m\u001b[37m\u001b[0m \u001b[1m0s\u001b[0m 6ms/step - loss: 1.3836e-04 - val_loss: 4.3183e-05\n",
      "Epoch 22/100\n",
      "\u001b[1m15/15\u001b[0m \u001b[32m━━━━━━━━━━━━━━━━━━━━\u001b[0m\u001b[37m\u001b[0m \u001b[1m0s\u001b[0m 5ms/step - loss: 3.7083e-05 - val_loss: 7.8141e-05\n",
      "Epoch 23/100\n",
      "\u001b[1m15/15\u001b[0m \u001b[32m━━━━━━━━━━━━━━━━━━━━\u001b[0m\u001b[37m\u001b[0m \u001b[1m0s\u001b[0m 5ms/step - loss: 4.7622e-05 - val_loss: 1.2559e-04\n",
      "Epoch 24/100\n",
      "\u001b[1m15/15\u001b[0m \u001b[32m━━━━━━━━━━━━━━━━━━━━\u001b[0m\u001b[37m\u001b[0m \u001b[1m0s\u001b[0m 5ms/step - loss: 1.1201e-04 - val_loss: 5.5949e-05\n",
      "Epoch 25/100\n",
      "\u001b[1m15/15\u001b[0m \u001b[32m━━━━━━━━━━━━━━━━━━━━\u001b[0m\u001b[37m\u001b[0m \u001b[1m0s\u001b[0m 5ms/step - loss: 8.4663e-05 - val_loss: 3.4439e-05\n",
      "Epoch 26/100\n",
      "\u001b[1m15/15\u001b[0m \u001b[32m━━━━━━━━━━━━━━━━━━━━\u001b[0m\u001b[37m\u001b[0m \u001b[1m0s\u001b[0m 5ms/step - loss: 1.3472e-04 - val_loss: 1.0995e-04\n",
      "Epoch 27/100\n",
      "\u001b[1m15/15\u001b[0m \u001b[32m━━━━━━━━━━━━━━━━━━━━\u001b[0m\u001b[37m\u001b[0m \u001b[1m0s\u001b[0m 5ms/step - loss: 1.7062e-04 - val_loss: 2.1618e-04\n",
      "Epoch 28/100\n",
      "\u001b[1m15/15\u001b[0m \u001b[32m━━━━━━━━━━━━━━━━━━━━\u001b[0m\u001b[37m\u001b[0m \u001b[1m0s\u001b[0m 5ms/step - loss: 1.9611e-04 - val_loss: 1.4892e-04\n",
      "Epoch 29/100\n",
      "\u001b[1m15/15\u001b[0m \u001b[32m━━━━━━━━━━━━━━━━━━━━\u001b[0m\u001b[37m\u001b[0m \u001b[1m0s\u001b[0m 5ms/step - loss: 1.3506e-04 - val_loss: 5.0468e-05\n",
      "Epoch 30/100\n",
      "\u001b[1m15/15\u001b[0m \u001b[32m━━━━━━━━━━━━━━━━━━━━\u001b[0m\u001b[37m\u001b[0m \u001b[1m0s\u001b[0m 6ms/step - loss: 9.1168e-05 - val_loss: 4.5610e-05\n",
      "Epoch 31/100\n",
      "\u001b[1m15/15\u001b[0m \u001b[32m━━━━━━━━━━━━━━━━━━━━\u001b[0m\u001b[37m\u001b[0m \u001b[1m0s\u001b[0m 5ms/step - loss: 4.9088e-05 - val_loss: 3.2291e-05\n",
      "Epoch 32/100\n",
      "\u001b[1m15/15\u001b[0m \u001b[32m━━━━━━━━━━━━━━━━━━━━\u001b[0m\u001b[37m\u001b[0m \u001b[1m0s\u001b[0m 5ms/step - loss: 1.9709e-05 - val_loss: 3.2167e-05\n",
      "Epoch 33/100\n",
      "\u001b[1m15/15\u001b[0m \u001b[32m━━━━━━━━━━━━━━━━━━━━\u001b[0m\u001b[37m\u001b[0m \u001b[1m0s\u001b[0m 5ms/step - loss: 2.1559e-05 - val_loss: 6.3836e-05\n",
      "Epoch 34/100\n",
      "\u001b[1m15/15\u001b[0m \u001b[32m━━━━━━━━━━━━━━━━━━━━\u001b[0m\u001b[37m\u001b[0m \u001b[1m0s\u001b[0m 6ms/step - loss: 3.5491e-05 - val_loss: 2.5465e-05\n",
      "Epoch 35/100\n",
      "\u001b[1m15/15\u001b[0m \u001b[32m━━━━━━━━━━━━━━━━━━━━\u001b[0m\u001b[37m\u001b[0m \u001b[1m0s\u001b[0m 5ms/step - loss: 2.2544e-05 - val_loss: 2.5123e-05\n",
      "Epoch 36/100\n",
      "\u001b[1m15/15\u001b[0m \u001b[32m━━━━━━━━━━━━━━━━━━━━\u001b[0m\u001b[37m\u001b[0m \u001b[1m0s\u001b[0m 5ms/step - loss: 1.8504e-05 - val_loss: 3.4640e-05\n",
      "Epoch 37/100\n",
      "\u001b[1m15/15\u001b[0m \u001b[32m━━━━━━━━━━━━━━━━━━━━\u001b[0m\u001b[37m\u001b[0m \u001b[1m0s\u001b[0m 6ms/step - loss: 2.1988e-05 - val_loss: 2.9269e-05\n",
      "Epoch 38/100\n",
      "\u001b[1m15/15\u001b[0m \u001b[32m━━━━━━━━━━━━━━━━━━━━\u001b[0m\u001b[37m\u001b[0m \u001b[1m0s\u001b[0m 6ms/step - loss: 2.8369e-05 - val_loss: 2.9129e-05\n",
      "Epoch 39/100\n",
      "\u001b[1m15/15\u001b[0m \u001b[32m━━━━━━━━━━━━━━━━━━━━\u001b[0m\u001b[37m\u001b[0m \u001b[1m0s\u001b[0m 5ms/step - loss: 3.0814e-05 - val_loss: 2.5217e-05\n",
      "Epoch 40/100\n",
      "\u001b[1m15/15\u001b[0m \u001b[32m━━━━━━━━━━━━━━━━━━━━\u001b[0m\u001b[37m\u001b[0m \u001b[1m0s\u001b[0m 5ms/step - loss: 7.5175e-05 - val_loss: 9.0730e-05\n",
      "Epoch 41/100\n",
      "\u001b[1m15/15\u001b[0m \u001b[32m━━━━━━━━━━━━━━━━━━━━\u001b[0m\u001b[37m\u001b[0m \u001b[1m0s\u001b[0m 5ms/step - loss: 7.5776e-05 - val_loss: 1.3117e-04\n",
      "Epoch 42/100\n",
      "\u001b[1m15/15\u001b[0m \u001b[32m━━━━━━━━━━━━━━━━━━━━\u001b[0m\u001b[37m\u001b[0m \u001b[1m0s\u001b[0m 6ms/step - loss: 1.4982e-04 - val_loss: 3.1710e-04\n",
      "Epoch 43/100\n",
      "\u001b[1m15/15\u001b[0m \u001b[32m━━━━━━━━━━━━━━━━━━━━\u001b[0m\u001b[37m\u001b[0m \u001b[1m0s\u001b[0m 5ms/step - loss: 2.8531e-04 - val_loss: 8.7975e-05\n",
      "Epoch 44/100\n",
      "\u001b[1m15/15\u001b[0m \u001b[32m━━━━━━━━━━━━━━━━━━━━\u001b[0m\u001b[37m\u001b[0m \u001b[1m0s\u001b[0m 7ms/step - loss: 5.1209e-04 - val_loss: 0.0025\n",
      "Epoch 45/100\n",
      "\u001b[1m15/15\u001b[0m \u001b[32m━━━━━━━━━━━━━━━━━━━━\u001b[0m\u001b[37m\u001b[0m \u001b[1m0s\u001b[0m 6ms/step - loss: 0.0027 - val_loss: 2.1814e-04\n",
      "Epoch 46/100\n",
      "\u001b[1m15/15\u001b[0m \u001b[32m━━━━━━━━━━━━━━━━━━━━\u001b[0m\u001b[37m\u001b[0m \u001b[1m0s\u001b[0m 5ms/step - loss: 4.9765e-04 - val_loss: 1.0780e-04\n",
      "Epoch 47/100\n",
      "\u001b[1m15/15\u001b[0m \u001b[32m━━━━━━━━━━━━━━━━━━━━\u001b[0m\u001b[37m\u001b[0m \u001b[1m0s\u001b[0m 5ms/step - loss: 1.8710e-04 - val_loss: 9.7928e-05\n",
      "Epoch 48/100\n",
      "\u001b[1m15/15\u001b[0m \u001b[32m━━━━━━━━━━━━━━━━━━━━\u001b[0m\u001b[37m\u001b[0m \u001b[1m0s\u001b[0m 5ms/step - loss: 1.2676e-04 - val_loss: 4.2721e-05\n",
      "Epoch 49/100\n",
      "\u001b[1m15/15\u001b[0m \u001b[32m━━━━━━━━━━━━━━━━━━━━\u001b[0m\u001b[37m\u001b[0m \u001b[1m0s\u001b[0m 5ms/step - loss: 5.4951e-05 - val_loss: 4.1250e-05\n",
      "Epoch 50/100\n",
      "\u001b[1m15/15\u001b[0m \u001b[32m━━━━━━━━━━━━━━━━━━━━\u001b[0m\u001b[37m\u001b[0m \u001b[1m0s\u001b[0m 5ms/step - loss: 3.9370e-05 - val_loss: 2.6565e-05\n",
      "Epoch 51/100\n",
      "\u001b[1m15/15\u001b[0m \u001b[32m━━━━━━━━━━━━━━━━━━━━\u001b[0m\u001b[37m\u001b[0m \u001b[1m0s\u001b[0m 5ms/step - loss: 3.1538e-05 - val_loss: 2.0204e-05\n",
      "Epoch 52/100\n",
      "\u001b[1m15/15\u001b[0m \u001b[32m━━━━━━━━━━━━━━━━━━━━\u001b[0m\u001b[37m\u001b[0m \u001b[1m0s\u001b[0m 5ms/step - loss: 2.2975e-05 - val_loss: 2.1896e-05\n",
      "Epoch 53/100\n",
      "\u001b[1m15/15\u001b[0m \u001b[32m━━━━━━━━━━━━━━━━━━━━\u001b[0m\u001b[37m\u001b[0m \u001b[1m0s\u001b[0m 5ms/step - loss: 2.2909e-05 - val_loss: 2.1696e-05\n",
      "Epoch 54/100\n",
      "\u001b[1m15/15\u001b[0m \u001b[32m━━━━━━━━━━━━━━━━━━━━\u001b[0m\u001b[37m\u001b[0m \u001b[1m0s\u001b[0m 5ms/step - loss: 4.8304e-05 - val_loss: 3.4880e-05\n",
      "Epoch 55/100\n",
      "\u001b[1m15/15\u001b[0m \u001b[32m━━━━━━━━━━━━━━━━━━━━\u001b[0m\u001b[37m\u001b[0m \u001b[1m0s\u001b[0m 6ms/step - loss: 3.7184e-05 - val_loss: 2.7000e-05\n",
      "Epoch 56/100\n",
      "\u001b[1m15/15\u001b[0m \u001b[32m━━━━━━━━━━━━━━━━━━━━\u001b[0m\u001b[37m\u001b[0m \u001b[1m0s\u001b[0m 5ms/step - loss: 2.3597e-05 - val_loss: 2.1837e-05\n",
      "Epoch 57/100\n",
      "\u001b[1m15/15\u001b[0m \u001b[32m━━━━━━━━━━━━━━━━━━━━\u001b[0m\u001b[37m\u001b[0m \u001b[1m0s\u001b[0m 5ms/step - loss: 1.8898e-05 - val_loss: 1.3501e-05\n",
      "Epoch 58/100\n",
      "\u001b[1m15/15\u001b[0m \u001b[32m━━━━━━━━━━━━━━━━━━━━\u001b[0m\u001b[37m\u001b[0m \u001b[1m0s\u001b[0m 5ms/step - loss: 1.6313e-05 - val_loss: 1.9317e-05\n",
      "Epoch 59/100\n",
      "\u001b[1m15/15\u001b[0m \u001b[32m━━━━━━━━━━━━━━━━━━━━\u001b[0m\u001b[37m\u001b[0m \u001b[1m0s\u001b[0m 5ms/step - loss: 2.0964e-05 - val_loss: 1.5200e-05\n",
      "Epoch 60/100\n",
      "\u001b[1m15/15\u001b[0m \u001b[32m━━━━━━━━━━━━━━━━━━━━\u001b[0m\u001b[37m\u001b[0m \u001b[1m0s\u001b[0m 5ms/step - loss: 1.6508e-05 - val_loss: 2.3184e-05\n",
      "Epoch 61/100\n",
      "\u001b[1m15/15\u001b[0m \u001b[32m━━━━━━━━━━━━━━━━━━━━\u001b[0m\u001b[37m\u001b[0m \u001b[1m0s\u001b[0m 5ms/step - loss: 2.1438e-05 - val_loss: 1.5184e-05\n",
      "Epoch 62/100\n",
      "\u001b[1m15/15\u001b[0m \u001b[32m━━━━━━━━━━━━━━━━━━━━\u001b[0m\u001b[37m\u001b[0m \u001b[1m0s\u001b[0m 5ms/step - loss: 1.4318e-05 - val_loss: 1.2886e-05\n",
      "Epoch 63/100\n",
      "\u001b[1m15/15\u001b[0m \u001b[32m━━━━━━━━━━━━━━━━━━━━\u001b[0m\u001b[37m\u001b[0m \u001b[1m0s\u001b[0m 5ms/step - loss: 1.7872e-05 - val_loss: 1.6790e-05\n",
      "Epoch 64/100\n",
      "\u001b[1m15/15\u001b[0m \u001b[32m━━━━━━━━━━━━━━━━━━━━\u001b[0m\u001b[37m\u001b[0m \u001b[1m0s\u001b[0m 5ms/step - loss: 1.2854e-05 - val_loss: 1.3923e-05\n",
      "Epoch 65/100\n",
      "\u001b[1m15/15\u001b[0m \u001b[32m━━━━━━━━━━━━━━━━━━━━\u001b[0m\u001b[37m\u001b[0m \u001b[1m0s\u001b[0m 5ms/step - loss: 1.9525e-05 - val_loss: 2.9772e-05\n",
      "Epoch 66/100\n",
      "\u001b[1m15/15\u001b[0m \u001b[32m━━━━━━━━━━━━━━━━━━━━\u001b[0m\u001b[37m\u001b[0m \u001b[1m0s\u001b[0m 5ms/step - loss: 3.6754e-05 - val_loss: 4.5109e-05\n",
      "Epoch 67/100\n",
      "\u001b[1m15/15\u001b[0m \u001b[32m━━━━━━━━━━━━━━━━━━━━\u001b[0m\u001b[37m\u001b[0m \u001b[1m0s\u001b[0m 5ms/step - loss: 2.5678e-05 - val_loss: 1.4762e-05\n",
      "Epoch 68/100\n",
      "\u001b[1m15/15\u001b[0m \u001b[32m━━━━━━━━━━━━━━━━━━━━\u001b[0m\u001b[37m\u001b[0m \u001b[1m0s\u001b[0m 5ms/step - loss: 1.7550e-05 - val_loss: 2.3854e-05\n",
      "Epoch 69/100\n",
      "\u001b[1m15/15\u001b[0m \u001b[32m━━━━━━━━━━━━━━━━━━━━\u001b[0m\u001b[37m\u001b[0m \u001b[1m0s\u001b[0m 7ms/step - loss: 2.2520e-05 - val_loss: 3.1790e-05\n",
      "Epoch 70/100\n",
      "\u001b[1m15/15\u001b[0m \u001b[32m━━━━━━━━━━━━━━━━━━━━\u001b[0m\u001b[37m\u001b[0m \u001b[1m0s\u001b[0m 5ms/step - loss: 4.2734e-05 - val_loss: 1.6755e-05\n",
      "Epoch 71/100\n",
      "\u001b[1m15/15\u001b[0m \u001b[32m━━━━━━━━━━━━━━━━━━━━\u001b[0m\u001b[37m\u001b[0m \u001b[1m0s\u001b[0m 5ms/step - loss: 1.1164e-04 - val_loss: 2.3312e-05\n",
      "Epoch 72/100\n",
      "\u001b[1m15/15\u001b[0m \u001b[32m━━━━━━━━━━━━━━━━━━━━\u001b[0m\u001b[37m\u001b[0m \u001b[1m0s\u001b[0m 5ms/step - loss: 4.0873e-05 - val_loss: 7.6828e-05\n",
      "Epoch 73/100\n",
      "\u001b[1m15/15\u001b[0m \u001b[32m━━━━━━━━━━━━━━━━━━━━\u001b[0m\u001b[37m\u001b[0m \u001b[1m0s\u001b[0m 5ms/step - loss: 9.4903e-05 - val_loss: 2.8770e-04\n",
      "Epoch 74/100\n",
      "\u001b[1m15/15\u001b[0m \u001b[32m━━━━━━━━━━━━━━━━━━━━\u001b[0m\u001b[37m\u001b[0m \u001b[1m0s\u001b[0m 5ms/step - loss: 1.3710e-04 - val_loss: 1.9205e-05\n",
      "Epoch 75/100\n",
      "\u001b[1m15/15\u001b[0m \u001b[32m━━━━━━━━━━━━━━━━━━━━\u001b[0m\u001b[37m\u001b[0m \u001b[1m0s\u001b[0m 5ms/step - loss: 2.4926e-05 - val_loss: 1.9543e-05\n",
      "Epoch 76/100\n",
      "\u001b[1m15/15\u001b[0m \u001b[32m━━━━━━━━━━━━━━━━━━━━\u001b[0m\u001b[37m\u001b[0m \u001b[1m0s\u001b[0m 5ms/step - loss: 2.0921e-05 - val_loss: 2.1360e-05\n",
      "Epoch 77/100\n",
      "\u001b[1m15/15\u001b[0m \u001b[32m━━━━━━━━━━━━━━━━━━━━\u001b[0m\u001b[37m\u001b[0m \u001b[1m0s\u001b[0m 5ms/step - loss: 1.5986e-05 - val_loss: 2.5958e-05\n",
      "Epoch 78/100\n",
      "\u001b[1m15/15\u001b[0m \u001b[32m━━━━━━━━━━━━━━━━━━━━\u001b[0m\u001b[37m\u001b[0m \u001b[1m0s\u001b[0m 5ms/step - loss: 3.5762e-05 - val_loss: 3.7402e-05\n",
      "Epoch 79/100\n",
      "\u001b[1m15/15\u001b[0m \u001b[32m━━━━━━━━━━━━━━━━━━━━\u001b[0m\u001b[37m\u001b[0m \u001b[1m0s\u001b[0m 5ms/step - loss: 3.3349e-05 - val_loss: 1.1616e-05\n",
      "Epoch 80/100\n",
      "\u001b[1m15/15\u001b[0m \u001b[32m━━━━━━━━━━━━━━━━━━━━\u001b[0m\u001b[37m\u001b[0m \u001b[1m0s\u001b[0m 5ms/step - loss: 2.5196e-05 - val_loss: 1.1382e-05\n",
      "Epoch 81/100\n",
      "\u001b[1m15/15\u001b[0m \u001b[32m━━━━━━━━━━━━━━━━━━━━\u001b[0m\u001b[37m\u001b[0m \u001b[1m0s\u001b[0m 5ms/step - loss: 3.3401e-05 - val_loss: 4.5658e-05\n",
      "Epoch 82/100\n",
      "\u001b[1m15/15\u001b[0m \u001b[32m━━━━━━━━━━━━━━━━━━━━\u001b[0m\u001b[37m\u001b[0m \u001b[1m0s\u001b[0m 6ms/step - loss: 1.1575e-04 - val_loss: 5.5237e-05\n",
      "Epoch 83/100\n",
      "\u001b[1m15/15\u001b[0m \u001b[32m━━━━━━━━━━━━━━━━━━━━\u001b[0m\u001b[37m\u001b[0m \u001b[1m0s\u001b[0m 5ms/step - loss: 8.7397e-05 - val_loss: 1.6502e-05\n",
      "Epoch 84/100\n",
      "\u001b[1m15/15\u001b[0m \u001b[32m━━━━━━━━━━━━━━━━━━━━\u001b[0m\u001b[37m\u001b[0m \u001b[1m0s\u001b[0m 5ms/step - loss: 2.0502e-05 - val_loss: 3.4259e-05\n",
      "Epoch 85/100\n",
      "\u001b[1m15/15\u001b[0m \u001b[32m━━━━━━━━━━━━━━━━━━━━\u001b[0m\u001b[37m\u001b[0m \u001b[1m0s\u001b[0m 5ms/step - loss: 5.4058e-05 - val_loss: 2.1400e-05\n",
      "Epoch 86/100\n",
      "\u001b[1m15/15\u001b[0m \u001b[32m━━━━━━━━━━━━━━━━━━━━\u001b[0m\u001b[37m\u001b[0m \u001b[1m0s\u001b[0m 5ms/step - loss: 1.0946e-04 - val_loss: 3.1423e-04\n",
      "Epoch 87/100\n",
      "\u001b[1m15/15\u001b[0m \u001b[32m━━━━━━━━━━━━━━━━━━━━\u001b[0m\u001b[37m\u001b[0m \u001b[1m0s\u001b[0m 5ms/step - loss: 3.9008e-04 - val_loss: 4.2903e-04\n",
      "Epoch 88/100\n",
      "\u001b[1m15/15\u001b[0m \u001b[32m━━━━━━━━━━━━━━━━━━━━\u001b[0m\u001b[37m\u001b[0m \u001b[1m0s\u001b[0m 5ms/step - loss: 2.7923e-04 - val_loss: 4.1807e-05\n",
      "Epoch 89/100\n",
      "\u001b[1m15/15\u001b[0m \u001b[32m━━━━━━━━━━━━━━━━━━━━\u001b[0m\u001b[37m\u001b[0m \u001b[1m0s\u001b[0m 5ms/step - loss: 4.8048e-05 - val_loss: 4.7648e-05\n",
      "Epoch 90/100\n",
      "\u001b[1m15/15\u001b[0m \u001b[32m━━━━━━━━━━━━━━━━━━━━\u001b[0m\u001b[37m\u001b[0m \u001b[1m0s\u001b[0m 5ms/step - loss: 1.2386e-04 - val_loss: 8.5433e-05\n",
      "Epoch 91/100\n",
      "\u001b[1m15/15\u001b[0m \u001b[32m━━━━━━━━━━━━━━━━━━━━\u001b[0m\u001b[37m\u001b[0m \u001b[1m0s\u001b[0m 5ms/step - loss: 8.4855e-05 - val_loss: 2.2674e-05\n",
      "Epoch 92/100\n",
      "\u001b[1m15/15\u001b[0m \u001b[32m━━━━━━━━━━━━━━━━━━━━\u001b[0m\u001b[37m\u001b[0m \u001b[1m0s\u001b[0m 5ms/step - loss: 2.2781e-05 - val_loss: 1.8373e-05\n",
      "Epoch 93/100\n",
      "\u001b[1m15/15\u001b[0m \u001b[32m━━━━━━━━━━━━━━━━━━━━\u001b[0m\u001b[37m\u001b[0m \u001b[1m0s\u001b[0m 5ms/step - loss: 2.8736e-05 - val_loss: 1.5797e-05\n",
      "Epoch 94/100\n",
      "\u001b[1m15/15\u001b[0m \u001b[32m━━━━━━━━━━━━━━━━━━━━\u001b[0m\u001b[37m\u001b[0m \u001b[1m0s\u001b[0m 5ms/step - loss: 1.1837e-05 - val_loss: 2.4695e-05\n",
      "Epoch 95/100\n",
      "\u001b[1m15/15\u001b[0m \u001b[32m━━━━━━━━━━━━━━━━━━━━\u001b[0m\u001b[37m\u001b[0m \u001b[1m0s\u001b[0m 5ms/step - loss: 2.4419e-05 - val_loss: 2.9721e-05\n",
      "Epoch 96/100\n",
      "\u001b[1m15/15\u001b[0m \u001b[32m━━━━━━━━━━━━━━━━━━━━\u001b[0m\u001b[37m\u001b[0m \u001b[1m0s\u001b[0m 5ms/step - loss: 8.3207e-05 - val_loss: 1.6395e-04\n",
      "Epoch 97/100\n",
      "\u001b[1m15/15\u001b[0m \u001b[32m━━━━━━━━━━━━━━━━━━━━\u001b[0m\u001b[37m\u001b[0m \u001b[1m0s\u001b[0m 5ms/step - loss: 1.3591e-04 - val_loss: 3.6007e-04\n",
      "Epoch 98/100\n",
      "\u001b[1m15/15\u001b[0m \u001b[32m━━━━━━━━━━━━━━━━━━━━\u001b[0m\u001b[37m\u001b[0m \u001b[1m0s\u001b[0m 5ms/step - loss: 3.5603e-04 - val_loss: 6.9177e-04\n",
      "Epoch 99/100\n",
      "\u001b[1m15/15\u001b[0m \u001b[32m━━━━━━━━━━━━━━━━━━━━\u001b[0m\u001b[37m\u001b[0m \u001b[1m0s\u001b[0m 6ms/step - loss: 3.9276e-04 - val_loss: 6.9758e-05\n",
      "Epoch 100/100\n",
      "\u001b[1m15/15\u001b[0m \u001b[32m━━━━━━━━━━━━━━━━━━━━\u001b[0m\u001b[37m\u001b[0m \u001b[1m0s\u001b[0m 5ms/step - loss: 7.3180e-05 - val_loss: 1.9227e-05\n",
      "Epoch 1/100\n",
      "\u001b[1m15/15\u001b[0m \u001b[32m━━━━━━━━━━━━━━━━━━━━\u001b[0m\u001b[37m\u001b[0m \u001b[1m2s\u001b[0m 21ms/step - loss: 0.3177 - val_loss: 0.1546\n",
      "Epoch 2/100\n",
      "\u001b[1m15/15\u001b[0m \u001b[32m━━━━━━━━━━━━━━━━━━━━\u001b[0m\u001b[37m\u001b[0m \u001b[1m0s\u001b[0m 5ms/step - loss: 0.0907 - val_loss: 0.0194\n",
      "Epoch 3/100\n",
      "\u001b[1m15/15\u001b[0m \u001b[32m━━━━━━━━━━━━━━━━━━━━\u001b[0m\u001b[37m\u001b[0m \u001b[1m0s\u001b[0m 5ms/step - loss: 0.0372 - val_loss: 0.0116\n",
      "Epoch 4/100\n",
      "\u001b[1m15/15\u001b[0m \u001b[32m━━━━━━━━━━━━━━━━━━━━\u001b[0m\u001b[37m\u001b[0m \u001b[1m0s\u001b[0m 6ms/step - loss: 0.0305 - val_loss: 0.0073\n",
      "Epoch 5/100\n",
      "\u001b[1m15/15\u001b[0m \u001b[32m━━━━━━━━━━━━━━━━━━━━\u001b[0m\u001b[37m\u001b[0m \u001b[1m0s\u001b[0m 5ms/step - loss: 0.0163 - val_loss: 0.0069\n",
      "Epoch 6/100\n",
      "\u001b[1m15/15\u001b[0m \u001b[32m━━━━━━━━━━━━━━━━━━━━\u001b[0m\u001b[37m\u001b[0m \u001b[1m0s\u001b[0m 5ms/step - loss: 0.0127 - val_loss: 0.0061\n",
      "Epoch 7/100\n",
      "\u001b[1m15/15\u001b[0m \u001b[32m━━━━━━━━━━━━━━━━━━━━\u001b[0m\u001b[37m\u001b[0m \u001b[1m0s\u001b[0m 5ms/step - loss: 0.0108 - val_loss: 0.0056\n",
      "Epoch 8/100\n",
      "\u001b[1m15/15\u001b[0m \u001b[32m━━━━━━━━━━━━━━━━━━━━\u001b[0m\u001b[37m\u001b[0m \u001b[1m0s\u001b[0m 5ms/step - loss: 0.0085 - val_loss: 0.0023\n",
      "Epoch 9/100\n",
      "\u001b[1m15/15\u001b[0m \u001b[32m━━━━━━━━━━━━━━━━━━━━\u001b[0m\u001b[37m\u001b[0m \u001b[1m0s\u001b[0m 5ms/step - loss: 0.0035 - val_loss: 0.0013\n",
      "Epoch 10/100\n",
      "\u001b[1m15/15\u001b[0m \u001b[32m━━━━━━━━━━━━━━━━━━━━\u001b[0m\u001b[37m\u001b[0m \u001b[1m0s\u001b[0m 5ms/step - loss: 0.0016 - val_loss: 1.5040e-04\n",
      "Epoch 11/100\n",
      "\u001b[1m15/15\u001b[0m \u001b[32m━━━━━━━━━━━━━━━━━━━━\u001b[0m\u001b[37m\u001b[0m \u001b[1m0s\u001b[0m 5ms/step - loss: 0.0011 - val_loss: 5.8667e-04\n",
      "Epoch 12/100\n",
      "\u001b[1m15/15\u001b[0m \u001b[32m━━━━━━━━━━━━━━━━━━━━\u001b[0m\u001b[37m\u001b[0m \u001b[1m0s\u001b[0m 5ms/step - loss: 8.4213e-04 - val_loss: 5.8493e-04\n",
      "Epoch 13/100\n",
      "\u001b[1m15/15\u001b[0m \u001b[32m━━━━━━━━━━━━━━━━━━━━\u001b[0m\u001b[37m\u001b[0m \u001b[1m0s\u001b[0m 5ms/step - loss: 5.7465e-04 - val_loss: 1.4134e-04\n",
      "Epoch 14/100\n",
      "\u001b[1m15/15\u001b[0m \u001b[32m━━━━━━━━━━━━━━━━━━━━\u001b[0m\u001b[37m\u001b[0m \u001b[1m0s\u001b[0m 5ms/step - loss: 6.7228e-04 - val_loss: 8.2520e-05\n",
      "Epoch 15/100\n",
      "\u001b[1m15/15\u001b[0m \u001b[32m━━━━━━━━━━━━━━━━━━━━\u001b[0m\u001b[37m\u001b[0m \u001b[1m0s\u001b[0m 5ms/step - loss: 6.5150e-04 - val_loss: 3.2683e-04\n",
      "Epoch 16/100\n",
      "\u001b[1m15/15\u001b[0m \u001b[32m━━━━━━━━━━━━━━━━━━━━\u001b[0m\u001b[37m\u001b[0m \u001b[1m0s\u001b[0m 5ms/step - loss: 4.0171e-04 - val_loss: 2.8986e-04\n",
      "Epoch 17/100\n",
      "\u001b[1m15/15\u001b[0m \u001b[32m━━━━━━━━━━━━━━━━━━━━\u001b[0m\u001b[37m\u001b[0m \u001b[1m0s\u001b[0m 5ms/step - loss: 8.7424e-04 - val_loss: 8.5565e-04\n",
      "Epoch 18/100\n",
      "\u001b[1m15/15\u001b[0m \u001b[32m━━━━━━━━━━━━━━━━━━━━\u001b[0m\u001b[37m\u001b[0m \u001b[1m0s\u001b[0m 5ms/step - loss: 9.9934e-04 - val_loss: 1.0948e-04\n",
      "Epoch 19/100\n",
      "\u001b[1m15/15\u001b[0m \u001b[32m━━━━━━━━━━━━━━━━━━━━\u001b[0m\u001b[37m\u001b[0m \u001b[1m0s\u001b[0m 5ms/step - loss: 4.4938e-04 - val_loss: 7.4773e-05\n",
      "Epoch 20/100\n",
      "\u001b[1m15/15\u001b[0m \u001b[32m━━━━━━━━━━━━━━━━━━━━\u001b[0m\u001b[37m\u001b[0m \u001b[1m0s\u001b[0m 5ms/step - loss: 2.8377e-04 - val_loss: 1.2683e-04\n",
      "Epoch 21/100\n",
      "\u001b[1m15/15\u001b[0m \u001b[32m━━━━━━━━━━━━━━━━━━━━\u001b[0m\u001b[37m\u001b[0m \u001b[1m0s\u001b[0m 5ms/step - loss: 2.3266e-04 - val_loss: 3.4538e-05\n",
      "Epoch 22/100\n",
      "\u001b[1m15/15\u001b[0m \u001b[32m━━━━━━━━━━━━━━━━━━━━\u001b[0m\u001b[37m\u001b[0m \u001b[1m0s\u001b[0m 6ms/step - loss: 1.6894e-04 - val_loss: 1.9990e-04\n",
      "Epoch 23/100\n",
      "\u001b[1m15/15\u001b[0m \u001b[32m━━━━━━━━━━━━━━━━━━━━\u001b[0m\u001b[37m\u001b[0m \u001b[1m0s\u001b[0m 5ms/step - loss: 2.4199e-04 - val_loss: 7.2808e-04\n",
      "Epoch 24/100\n",
      "\u001b[1m15/15\u001b[0m \u001b[32m━━━━━━━━━━━━━━━━━━━━\u001b[0m\u001b[37m\u001b[0m \u001b[1m0s\u001b[0m 5ms/step - loss: 4.1024e-04 - val_loss: 3.7947e-05\n",
      "Epoch 25/100\n",
      "\u001b[1m15/15\u001b[0m \u001b[32m━━━━━━━━━━━━━━━━━━━━\u001b[0m\u001b[37m\u001b[0m \u001b[1m0s\u001b[0m 5ms/step - loss: 3.9189e-04 - val_loss: 1.2299e-04\n",
      "Epoch 26/100\n",
      "\u001b[1m15/15\u001b[0m \u001b[32m━━━━━━━━━━━━━━━━━━━━\u001b[0m\u001b[37m\u001b[0m \u001b[1m0s\u001b[0m 5ms/step - loss: 3.7759e-04 - val_loss: 1.7649e-04\n",
      "Epoch 27/100\n",
      "\u001b[1m15/15\u001b[0m \u001b[32m━━━━━━━━━━━━━━━━━━━━\u001b[0m\u001b[37m\u001b[0m \u001b[1m0s\u001b[0m 5ms/step - loss: 2.2473e-04 - val_loss: 5.6361e-05\n",
      "Epoch 28/100\n",
      "\u001b[1m15/15\u001b[0m \u001b[32m━━━━━━━━━━━━━━━━━━━━\u001b[0m\u001b[37m\u001b[0m \u001b[1m0s\u001b[0m 5ms/step - loss: 1.1864e-04 - val_loss: 3.6297e-05\n",
      "Epoch 29/100\n",
      "\u001b[1m15/15\u001b[0m \u001b[32m━━━━━━━━━━━━━━━━━━━━\u001b[0m\u001b[37m\u001b[0m \u001b[1m0s\u001b[0m 5ms/step - loss: 1.0620e-04 - val_loss: 2.1703e-04\n",
      "Epoch 30/100\n",
      "\u001b[1m15/15\u001b[0m \u001b[32m━━━━━━━━━━━━━━━━━━━━\u001b[0m\u001b[37m\u001b[0m \u001b[1m0s\u001b[0m 5ms/step - loss: 1.8325e-04 - val_loss: 3.8869e-05\n",
      "Epoch 31/100\n",
      "\u001b[1m15/15\u001b[0m \u001b[32m━━━━━━━━━━━━━━━━━━━━\u001b[0m\u001b[37m\u001b[0m \u001b[1m0s\u001b[0m 5ms/step - loss: 8.7340e-05 - val_loss: 1.5728e-04\n",
      "Epoch 32/100\n",
      "\u001b[1m15/15\u001b[0m \u001b[32m━━━━━━━━━━━━━━━━━━━━\u001b[0m\u001b[37m\u001b[0m \u001b[1m0s\u001b[0m 5ms/step - loss: 1.3080e-04 - val_loss: 2.8489e-05\n",
      "Epoch 33/100\n",
      "\u001b[1m15/15\u001b[0m \u001b[32m━━━━━━━━━━━━━━━━━━━━\u001b[0m\u001b[37m\u001b[0m \u001b[1m0s\u001b[0m 6ms/step - loss: 9.6589e-05 - val_loss: 3.8853e-05\n",
      "Epoch 34/100\n",
      "\u001b[1m15/15\u001b[0m \u001b[32m━━━━━━━━━━━━━━━━━━━━\u001b[0m\u001b[37m\u001b[0m \u001b[1m0s\u001b[0m 5ms/step - loss: 9.9263e-05 - val_loss: 2.4052e-05\n",
      "Epoch 35/100\n",
      "\u001b[1m15/15\u001b[0m \u001b[32m━━━━━━━━━━━━━━━━━━━━\u001b[0m\u001b[37m\u001b[0m \u001b[1m0s\u001b[0m 5ms/step - loss: 8.4372e-05 - val_loss: 2.9332e-05\n",
      "Epoch 36/100\n",
      "\u001b[1m15/15\u001b[0m \u001b[32m━━━━━━━━━━━━━━━━━━━━\u001b[0m\u001b[37m\u001b[0m \u001b[1m0s\u001b[0m 5ms/step - loss: 8.0170e-05 - val_loss: 3.6287e-05\n",
      "Epoch 37/100\n",
      "\u001b[1m15/15\u001b[0m \u001b[32m━━━━━━━━━━━━━━━━━━━━\u001b[0m\u001b[37m\u001b[0m \u001b[1m0s\u001b[0m 5ms/step - loss: 8.3627e-05 - val_loss: 1.3069e-04\n",
      "Epoch 38/100\n",
      "\u001b[1m15/15\u001b[0m \u001b[32m━━━━━━━━━━━━━━━━━━━━\u001b[0m\u001b[37m\u001b[0m \u001b[1m0s\u001b[0m 5ms/step - loss: 2.0145e-04 - val_loss: 3.4549e-05\n",
      "Epoch 39/100\n",
      "\u001b[1m15/15\u001b[0m \u001b[32m━━━━━━━━━━━━━━━━━━━━\u001b[0m\u001b[37m\u001b[0m \u001b[1m0s\u001b[0m 5ms/step - loss: 9.4518e-05 - val_loss: 2.2822e-05\n",
      "Epoch 40/100\n",
      "\u001b[1m15/15\u001b[0m \u001b[32m━━━━━━━━━━━━━━━━━━━━\u001b[0m\u001b[37m\u001b[0m \u001b[1m0s\u001b[0m 5ms/step - loss: 8.3404e-05 - val_loss: 3.3797e-05\n",
      "Epoch 41/100\n",
      "\u001b[1m15/15\u001b[0m \u001b[32m━━━━━━━━━━━━━━━━━━━━\u001b[0m\u001b[37m\u001b[0m \u001b[1m0s\u001b[0m 5ms/step - loss: 8.7555e-05 - val_loss: 5.8478e-04\n",
      "Epoch 42/100\n",
      "\u001b[1m15/15\u001b[0m \u001b[32m━━━━━━━━━━━━━━━━━━━━\u001b[0m\u001b[37m\u001b[0m \u001b[1m0s\u001b[0m 5ms/step - loss: 5.5883e-04 - val_loss: 0.0011\n",
      "Epoch 43/100\n",
      "\u001b[1m15/15\u001b[0m \u001b[32m━━━━━━━━━━━━━━━━━━━━\u001b[0m\u001b[37m\u001b[0m \u001b[1m0s\u001b[0m 5ms/step - loss: 6.6286e-04 - val_loss: 6.7839e-04\n",
      "Epoch 44/100\n",
      "\u001b[1m15/15\u001b[0m \u001b[32m━━━━━━━━━━━━━━━━━━━━\u001b[0m\u001b[37m\u001b[0m \u001b[1m0s\u001b[0m 5ms/step - loss: 3.6214e-04 - val_loss: 2.2022e-04\n",
      "Epoch 45/100\n",
      "\u001b[1m15/15\u001b[0m \u001b[32m━━━━━━━━━━━━━━━━━━━━\u001b[0m\u001b[37m\u001b[0m \u001b[1m0s\u001b[0m 5ms/step - loss: 1.5393e-04 - val_loss: 4.8594e-04\n",
      "Epoch 46/100\n",
      "\u001b[1m15/15\u001b[0m \u001b[32m━━━━━━━━━━━━━━━━━━━━\u001b[0m\u001b[37m\u001b[0m \u001b[1m0s\u001b[0m 6ms/step - loss: 2.6008e-04 - val_loss: 2.0538e-04\n",
      "Epoch 47/100\n",
      "\u001b[1m15/15\u001b[0m \u001b[32m━━━━━━━━━━━━━━━━━━━━\u001b[0m\u001b[37m\u001b[0m \u001b[1m0s\u001b[0m 5ms/step - loss: 1.4933e-04 - val_loss: 3.9161e-05\n",
      "Epoch 48/100\n",
      "\u001b[1m15/15\u001b[0m \u001b[32m━━━━━━━━━━━━━━━━━━━━\u001b[0m\u001b[37m\u001b[0m \u001b[1m0s\u001b[0m 5ms/step - loss: 2.4682e-04 - val_loss: 1.5945e-04\n",
      "Epoch 49/100\n",
      "\u001b[1m15/15\u001b[0m \u001b[32m━━━━━━━━━━━━━━━━━━━━\u001b[0m\u001b[37m\u001b[0m \u001b[1m0s\u001b[0m 5ms/step - loss: 3.2884e-04 - val_loss: 0.0012\n",
      "Epoch 50/100\n",
      "\u001b[1m15/15\u001b[0m \u001b[32m━━━━━━━━━━━━━━━━━━━━\u001b[0m\u001b[37m\u001b[0m \u001b[1m0s\u001b[0m 5ms/step - loss: 5.3093e-04 - val_loss: 2.4658e-05\n",
      "Epoch 51/100\n",
      "\u001b[1m15/15\u001b[0m \u001b[32m━━━━━━━━━━━━━━━━━━━━\u001b[0m\u001b[37m\u001b[0m \u001b[1m0s\u001b[0m 5ms/step - loss: 6.4787e-05 - val_loss: 2.3040e-05\n",
      "Epoch 52/100\n",
      "\u001b[1m15/15\u001b[0m \u001b[32m━━━━━━━━━━━━━━━━━━━━\u001b[0m\u001b[37m\u001b[0m \u001b[1m0s\u001b[0m 5ms/step - loss: 6.8412e-05 - val_loss: 3.2648e-05\n",
      "Epoch 53/100\n",
      "\u001b[1m15/15\u001b[0m \u001b[32m━━━━━━━━━━━━━━━━━━━━\u001b[0m\u001b[37m\u001b[0m \u001b[1m0s\u001b[0m 5ms/step - loss: 9.1242e-05 - val_loss: 3.1609e-04\n",
      "Epoch 54/100\n",
      "\u001b[1m15/15\u001b[0m \u001b[32m━━━━━━━━━━━━━━━━━━━━\u001b[0m\u001b[37m\u001b[0m \u001b[1m0s\u001b[0m 5ms/step - loss: 1.5534e-04 - val_loss: 1.8873e-04\n",
      "Epoch 55/100\n",
      "\u001b[1m15/15\u001b[0m \u001b[32m━━━━━━━━━━━━━━━━━━━━\u001b[0m\u001b[37m\u001b[0m \u001b[1m0s\u001b[0m 5ms/step - loss: 1.8468e-04 - val_loss: 6.7492e-04\n",
      "Epoch 56/100\n",
      "\u001b[1m15/15\u001b[0m \u001b[32m━━━━━━━━━━━━━━━━━━━━\u001b[0m\u001b[37m\u001b[0m \u001b[1m0s\u001b[0m 5ms/step - loss: 0.0011 - val_loss: 0.0011\n",
      "Epoch 57/100\n",
      "\u001b[1m15/15\u001b[0m \u001b[32m━━━━━━━━━━━━━━━━━━━━\u001b[0m\u001b[37m\u001b[0m \u001b[1m0s\u001b[0m 5ms/step - loss: 5.3947e-04 - val_loss: 5.8651e-05\n",
      "Epoch 58/100\n",
      "\u001b[1m15/15\u001b[0m \u001b[32m━━━━━━━━━━━━━━━━━━━━\u001b[0m\u001b[37m\u001b[0m \u001b[1m0s\u001b[0m 5ms/step - loss: 1.6387e-04 - val_loss: 1.0418e-04\n",
      "Epoch 59/100\n",
      "\u001b[1m15/15\u001b[0m \u001b[32m━━━━━━━━━━━━━━━━━━━━\u001b[0m\u001b[37m\u001b[0m \u001b[1m0s\u001b[0m 5ms/step - loss: 1.1039e-04 - val_loss: 2.5987e-05\n",
      "Epoch 60/100\n",
      "\u001b[1m15/15\u001b[0m \u001b[32m━━━━━━━━━━━━━━━━━━━━\u001b[0m\u001b[37m\u001b[0m \u001b[1m0s\u001b[0m 5ms/step - loss: 5.7644e-05 - val_loss: 3.4306e-05\n",
      "Epoch 61/100\n",
      "\u001b[1m15/15\u001b[0m \u001b[32m━━━━━━━━━━━━━━━━━━━━\u001b[0m\u001b[37m\u001b[0m \u001b[1m0s\u001b[0m 5ms/step - loss: 5.0104e-05 - val_loss: 5.1158e-05\n",
      "Epoch 62/100\n",
      "\u001b[1m15/15\u001b[0m \u001b[32m━━━━━━━━━━━━━━━━━━━━\u001b[0m\u001b[37m\u001b[0m \u001b[1m0s\u001b[0m 5ms/step - loss: 7.9796e-05 - val_loss: 1.8504e-05\n",
      "Epoch 63/100\n",
      "\u001b[1m15/15\u001b[0m \u001b[32m━━━━━━━━━━━━━━━━━━━━\u001b[0m\u001b[37m\u001b[0m \u001b[1m0s\u001b[0m 5ms/step - loss: 5.6719e-05 - val_loss: 3.4748e-05\n",
      "Epoch 64/100\n",
      "\u001b[1m15/15\u001b[0m \u001b[32m━━━━━━━━━━━━━━━━━━━━\u001b[0m\u001b[37m\u001b[0m \u001b[1m0s\u001b[0m 5ms/step - loss: 4.4396e-05 - val_loss: 6.6423e-05\n",
      "Epoch 65/100\n",
      "\u001b[1m15/15\u001b[0m \u001b[32m━━━━━━━━━━━━━━━━━━━━\u001b[0m\u001b[37m\u001b[0m \u001b[1m0s\u001b[0m 5ms/step - loss: 7.1260e-05 - val_loss: 2.7909e-05\n",
      "Epoch 66/100\n",
      "\u001b[1m15/15\u001b[0m \u001b[32m━━━━━━━━━━━━━━━━━━━━\u001b[0m\u001b[37m\u001b[0m \u001b[1m0s\u001b[0m 6ms/step - loss: 1.1171e-04 - val_loss: 4.7380e-05\n",
      "Epoch 67/100\n",
      "\u001b[1m15/15\u001b[0m \u001b[32m━━━━━━━━━━━━━━━━━━━━\u001b[0m\u001b[37m\u001b[0m \u001b[1m0s\u001b[0m 5ms/step - loss: 7.8780e-05 - val_loss: 2.0391e-05\n",
      "Epoch 68/100\n",
      "\u001b[1m15/15\u001b[0m \u001b[32m━━━━━━━━━━━━━━━━━━━━\u001b[0m\u001b[37m\u001b[0m \u001b[1m0s\u001b[0m 5ms/step - loss: 4.8453e-05 - val_loss: 1.7957e-05\n",
      "Epoch 69/100\n",
      "\u001b[1m15/15\u001b[0m \u001b[32m━━━━━━━━━━━━━━━━━━━━\u001b[0m\u001b[37m\u001b[0m \u001b[1m0s\u001b[0m 5ms/step - loss: 4.4518e-05 - val_loss: 2.7605e-05\n",
      "Epoch 70/100\n",
      "\u001b[1m15/15\u001b[0m \u001b[32m━━━━━━━━━━━━━━━━━━━━\u001b[0m\u001b[37m\u001b[0m \u001b[1m0s\u001b[0m 5ms/step - loss: 3.3805e-05 - val_loss: 6.4276e-05\n",
      "Epoch 71/100\n",
      "\u001b[1m15/15\u001b[0m \u001b[32m━━━━━━━━━━━━━━━━━━━━\u001b[0m\u001b[37m\u001b[0m \u001b[1m0s\u001b[0m 5ms/step - loss: 7.2312e-05 - val_loss: 2.2430e-05\n",
      "Epoch 72/100\n",
      "\u001b[1m15/15\u001b[0m \u001b[32m━━━━━━━━━━━━━━━━━━━━\u001b[0m\u001b[37m\u001b[0m \u001b[1m0s\u001b[0m 5ms/step - loss: 3.5522e-05 - val_loss: 1.8903e-05\n",
      "Epoch 73/100\n",
      "\u001b[1m15/15\u001b[0m \u001b[32m━━━━━━━━━━━━━━━━━━━━\u001b[0m\u001b[37m\u001b[0m \u001b[1m0s\u001b[0m 5ms/step - loss: 3.6885e-05 - val_loss: 7.5760e-05\n",
      "Epoch 74/100\n",
      "\u001b[1m15/15\u001b[0m \u001b[32m━━━━━━━━━━━━━━━━━━━━\u001b[0m\u001b[37m\u001b[0m \u001b[1m0s\u001b[0m 5ms/step - loss: 7.0074e-05 - val_loss: 2.2608e-05\n",
      "Epoch 75/100\n",
      "\u001b[1m15/15\u001b[0m \u001b[32m━━━━━━━━━━━━━━━━━━━━\u001b[0m\u001b[37m\u001b[0m \u001b[1m0s\u001b[0m 5ms/step - loss: 5.2174e-05 - val_loss: 8.3555e-05\n",
      "Epoch 76/100\n",
      "\u001b[1m15/15\u001b[0m \u001b[32m━━━━━━━━━━━━━━━━━━━━\u001b[0m\u001b[37m\u001b[0m \u001b[1m0s\u001b[0m 5ms/step - loss: 6.5495e-05 - val_loss: 1.0537e-04\n",
      "Epoch 77/100\n",
      "\u001b[1m15/15\u001b[0m \u001b[32m━━━━━━━━━━━━━━━━━━━━\u001b[0m\u001b[37m\u001b[0m \u001b[1m0s\u001b[0m 5ms/step - loss: 1.6151e-04 - val_loss: 3.8713e-04\n",
      "Epoch 78/100\n",
      "\u001b[1m15/15\u001b[0m \u001b[32m━━━━━━━━━━━━━━━━━━━━\u001b[0m\u001b[37m\u001b[0m \u001b[1m0s\u001b[0m 5ms/step - loss: 1.9428e-04 - val_loss: 2.6038e-05\n",
      "Epoch 79/100\n",
      "\u001b[1m15/15\u001b[0m \u001b[32m━━━━━━━━━━━━━━━━━━━━\u001b[0m\u001b[37m\u001b[0m \u001b[1m0s\u001b[0m 5ms/step - loss: 7.7492e-05 - val_loss: 2.4731e-05\n",
      "Epoch 80/100\n",
      "\u001b[1m15/15\u001b[0m \u001b[32m━━━━━━━━━━━━━━━━━━━━\u001b[0m\u001b[37m\u001b[0m \u001b[1m0s\u001b[0m 5ms/step - loss: 5.6415e-05 - val_loss: 1.5732e-05\n",
      "Epoch 81/100\n",
      "\u001b[1m15/15\u001b[0m \u001b[32m━━━━━━━━━━━━━━━━━━━━\u001b[0m\u001b[37m\u001b[0m \u001b[1m0s\u001b[0m 5ms/step - loss: 3.8233e-05 - val_loss: 4.5139e-05\n",
      "Epoch 82/100\n",
      "\u001b[1m15/15\u001b[0m \u001b[32m━━━━━━━━━━━━━━━━━━━━\u001b[0m\u001b[37m\u001b[0m \u001b[1m0s\u001b[0m 5ms/step - loss: 2.5959e-05 - val_loss: 5.8273e-05\n",
      "Epoch 83/100\n",
      "\u001b[1m15/15\u001b[0m \u001b[32m━━━━━━━━━━━━━━━━━━━━\u001b[0m\u001b[37m\u001b[0m \u001b[1m0s\u001b[0m 5ms/step - loss: 7.3714e-05 - val_loss: 2.6281e-05\n",
      "Epoch 84/100\n",
      "\u001b[1m15/15\u001b[0m \u001b[32m━━━━━━━━━━━━━━━━━━━━\u001b[0m\u001b[37m\u001b[0m \u001b[1m0s\u001b[0m 5ms/step - loss: 4.3038e-05 - val_loss: 3.2834e-05\n",
      "Epoch 85/100\n",
      "\u001b[1m15/15\u001b[0m \u001b[32m━━━━━━━━━━━━━━━━━━━━\u001b[0m\u001b[37m\u001b[0m \u001b[1m0s\u001b[0m 5ms/step - loss: 4.3227e-05 - val_loss: 1.6791e-04\n",
      "Epoch 86/100\n",
      "\u001b[1m15/15\u001b[0m \u001b[32m━━━━━━━━━━━━━━━━━━━━\u001b[0m\u001b[37m\u001b[0m \u001b[1m0s\u001b[0m 5ms/step - loss: 1.4628e-04 - val_loss: 1.7038e-05\n",
      "Epoch 87/100\n",
      "\u001b[1m15/15\u001b[0m \u001b[32m━━━━━━━━━━━━━━━━━━━━\u001b[0m\u001b[37m\u001b[0m \u001b[1m0s\u001b[0m 6ms/step - loss: 6.5402e-05 - val_loss: 3.1685e-05\n",
      "Epoch 88/100\n",
      "\u001b[1m15/15\u001b[0m \u001b[32m━━━━━━━━━━━━━━━━━━━━\u001b[0m\u001b[37m\u001b[0m \u001b[1m0s\u001b[0m 5ms/step - loss: 5.3417e-05 - val_loss: 7.9530e-05\n",
      "Epoch 89/100\n",
      "\u001b[1m15/15\u001b[0m \u001b[32m━━━━━━━━━━━━━━━━━━━━\u001b[0m\u001b[37m\u001b[0m \u001b[1m0s\u001b[0m 5ms/step - loss: 5.5776e-05 - val_loss: 3.4425e-05\n",
      "Epoch 90/100\n",
      "\u001b[1m15/15\u001b[0m \u001b[32m━━━━━━━━━━━━━━━━━━━━\u001b[0m\u001b[37m\u001b[0m \u001b[1m0s\u001b[0m 6ms/step - loss: 5.1299e-05 - val_loss: 3.2118e-04\n",
      "Epoch 91/100\n",
      "\u001b[1m15/15\u001b[0m \u001b[32m━━━━━━━━━━━━━━━━━━━━\u001b[0m\u001b[37m\u001b[0m \u001b[1m0s\u001b[0m 5ms/step - loss: 3.4903e-04 - val_loss: 2.1170e-04\n",
      "Epoch 92/100\n",
      "\u001b[1m15/15\u001b[0m \u001b[32m━━━━━━━━━━━━━━━━━━━━\u001b[0m\u001b[37m\u001b[0m \u001b[1m0s\u001b[0m 5ms/step - loss: 1.9838e-04 - val_loss: 3.9509e-05\n",
      "Epoch 93/100\n",
      "\u001b[1m15/15\u001b[0m \u001b[32m━━━━━━━━━━━━━━━━━━━━\u001b[0m\u001b[37m\u001b[0m \u001b[1m0s\u001b[0m 5ms/step - loss: 9.4971e-05 - val_loss: 3.3723e-04\n",
      "Epoch 94/100\n",
      "\u001b[1m15/15\u001b[0m \u001b[32m━━━━━━━━━━━━━━━━━━━━\u001b[0m\u001b[37m\u001b[0m \u001b[1m0s\u001b[0m 5ms/step - loss: 2.8233e-04 - val_loss: 7.8932e-05\n",
      "Epoch 95/100\n",
      "\u001b[1m15/15\u001b[0m \u001b[32m━━━━━━━━━━━━━━━━━━━━\u001b[0m\u001b[37m\u001b[0m \u001b[1m0s\u001b[0m 5ms/step - loss: 3.2998e-04 - val_loss: 6.2196e-04\n",
      "Epoch 96/100\n",
      "\u001b[1m15/15\u001b[0m \u001b[32m━━━━━━━━━━━━━━━━━━━━\u001b[0m\u001b[37m\u001b[0m \u001b[1m0s\u001b[0m 5ms/step - loss: 3.3178e-04 - val_loss: 2.0908e-04\n",
      "Epoch 97/100\n",
      "\u001b[1m15/15\u001b[0m \u001b[32m━━━━━━━━━━━━━━━━━━━━\u001b[0m\u001b[37m\u001b[0m \u001b[1m0s\u001b[0m 5ms/step - loss: 2.5167e-04 - val_loss: 5.8747e-05\n",
      "Epoch 98/100\n",
      "\u001b[1m15/15\u001b[0m \u001b[32m━━━━━━━━━━━━━━━━━━━━\u001b[0m\u001b[37m\u001b[0m \u001b[1m0s\u001b[0m 5ms/step - loss: 1.0865e-04 - val_loss: 2.4952e-05\n",
      "Epoch 99/100\n",
      "\u001b[1m15/15\u001b[0m \u001b[32m━━━━━━━━━━━━━━━━━━━━\u001b[0m\u001b[37m\u001b[0m \u001b[1m0s\u001b[0m 6ms/step - loss: 8.3334e-05 - val_loss: 3.3811e-04\n",
      "Epoch 100/100\n",
      "\u001b[1m15/15\u001b[0m \u001b[32m━━━━━━━━━━━━━━━━━━━━\u001b[0m\u001b[37m\u001b[0m \u001b[1m0s\u001b[0m 5ms/step - loss: 2.2600e-04 - val_loss: 1.1156e-04\n",
      "Epoch 1/100\n",
      "\u001b[1m15/15\u001b[0m \u001b[32m━━━━━━━━━━━━━━━━━━━━\u001b[0m\u001b[37m\u001b[0m \u001b[1m2s\u001b[0m 21ms/step - loss: 0.0158 - val_loss: 0.0061\n",
      "Epoch 2/100\n",
      "\u001b[1m15/15\u001b[0m \u001b[32m━━━━━━━━━━━━━━━━━━━━\u001b[0m\u001b[37m\u001b[0m \u001b[1m0s\u001b[0m 5ms/step - loss: 0.0058 - val_loss: 0.0012\n",
      "Epoch 3/100\n",
      "\u001b[1m15/15\u001b[0m \u001b[32m━━━━━━━━━━━━━━━━━━━━\u001b[0m\u001b[37m\u001b[0m \u001b[1m0s\u001b[0m 5ms/step - loss: 0.0011 - val_loss: 5.7474e-04\n",
      "Epoch 4/100\n",
      "\u001b[1m15/15\u001b[0m \u001b[32m━━━━━━━━━━━━━━━━━━━━\u001b[0m\u001b[37m\u001b[0m \u001b[1m0s\u001b[0m 5ms/step - loss: 4.1640e-04 - val_loss: 2.0009e-04\n",
      "Epoch 5/100\n",
      "\u001b[1m15/15\u001b[0m \u001b[32m━━━━━━━━━━━━━━━━━━━━\u001b[0m\u001b[37m\u001b[0m \u001b[1m0s\u001b[0m 5ms/step - loss: 1.7501e-04 - val_loss: 1.2252e-04\n",
      "Epoch 6/100\n",
      "\u001b[1m15/15\u001b[0m \u001b[32m━━━━━━━━━━━━━━━━━━━━\u001b[0m\u001b[37m\u001b[0m \u001b[1m0s\u001b[0m 5ms/step - loss: 8.0563e-05 - val_loss: 5.0981e-05\n",
      "Epoch 7/100\n",
      "\u001b[1m15/15\u001b[0m \u001b[32m━━━━━━━━━━━━━━━━━━━━\u001b[0m\u001b[37m\u001b[0m \u001b[1m0s\u001b[0m 5ms/step - loss: 9.6771e-05 - val_loss: 1.1260e-04\n",
      "Epoch 8/100\n",
      "\u001b[1m15/15\u001b[0m \u001b[32m━━━━━━━━━━━━━━━━━━━━\u001b[0m\u001b[37m\u001b[0m \u001b[1m0s\u001b[0m 5ms/step - loss: 1.3118e-04 - val_loss: 9.3756e-05\n",
      "Epoch 9/100\n",
      "\u001b[1m15/15\u001b[0m \u001b[32m━━━━━━━━━━━━━━━━━━━━\u001b[0m\u001b[37m\u001b[0m \u001b[1m0s\u001b[0m 5ms/step - loss: 5.5631e-05 - val_loss: 5.6671e-05\n",
      "Epoch 10/100\n",
      "\u001b[1m15/15\u001b[0m \u001b[32m━━━━━━━━━━━━━━━━━━━━\u001b[0m\u001b[37m\u001b[0m \u001b[1m0s\u001b[0m 5ms/step - loss: 5.0129e-05 - val_loss: 9.7226e-05\n",
      "Epoch 11/100\n",
      "\u001b[1m15/15\u001b[0m \u001b[32m━━━━━━━━━━━━━━━━━━━━\u001b[0m\u001b[37m\u001b[0m \u001b[1m0s\u001b[0m 5ms/step - loss: 1.2642e-04 - val_loss: 2.2631e-04\n",
      "Epoch 12/100\n",
      "\u001b[1m15/15\u001b[0m \u001b[32m━━━━━━━━━━━━━━━━━━━━\u001b[0m\u001b[37m\u001b[0m \u001b[1m0s\u001b[0m 5ms/step - loss: 1.5575e-04 - val_loss: 7.1560e-05\n",
      "Epoch 13/100\n",
      "\u001b[1m15/15\u001b[0m \u001b[32m━━━━━━━━━━━━━━━━━━━━\u001b[0m\u001b[37m\u001b[0m \u001b[1m0s\u001b[0m 5ms/step - loss: 8.2557e-05 - val_loss: 1.3842e-04\n",
      "Epoch 14/100\n",
      "\u001b[1m15/15\u001b[0m \u001b[32m━━━━━━━━━━━━━━━━━━━━\u001b[0m\u001b[37m\u001b[0m \u001b[1m0s\u001b[0m 5ms/step - loss: 1.1201e-04 - val_loss: 6.0578e-05\n",
      "Epoch 15/100\n",
      "\u001b[1m15/15\u001b[0m \u001b[32m━━━━━━━━━━━━━━━━━━━━\u001b[0m\u001b[37m\u001b[0m \u001b[1m0s\u001b[0m 5ms/step - loss: 7.1522e-05 - val_loss: 4.3874e-05\n",
      "Epoch 16/100\n",
      "\u001b[1m15/15\u001b[0m \u001b[32m━━━━━━━━━━━━━━━━━━━━\u001b[0m\u001b[37m\u001b[0m \u001b[1m0s\u001b[0m 5ms/step - loss: 4.1140e-05 - val_loss: 4.4051e-05\n",
      "Epoch 17/100\n",
      "\u001b[1m15/15\u001b[0m \u001b[32m━━━━━━━━━━━━━━━━━━━━\u001b[0m\u001b[37m\u001b[0m \u001b[1m0s\u001b[0m 5ms/step - loss: 1.2569e-04 - val_loss: 3.2338e-04\n",
      "Epoch 18/100\n",
      "\u001b[1m15/15\u001b[0m \u001b[32m━━━━━━━━━━━━━━━━━━━━\u001b[0m\u001b[37m\u001b[0m \u001b[1m0s\u001b[0m 5ms/step - loss: 2.8154e-04 - val_loss: 2.3509e-04\n",
      "Epoch 19/100\n",
      "\u001b[1m15/15\u001b[0m \u001b[32m━━━━━━━━━━━━━━━━━━━━\u001b[0m\u001b[37m\u001b[0m \u001b[1m0s\u001b[0m 5ms/step - loss: 1.8379e-04 - val_loss: 5.4260e-05\n",
      "Epoch 20/100\n",
      "\u001b[1m15/15\u001b[0m \u001b[32m━━━━━━━━━━━━━━━━━━━━\u001b[0m\u001b[37m\u001b[0m \u001b[1m0s\u001b[0m 5ms/step - loss: 6.0853e-05 - val_loss: 6.5909e-05\n",
      "Epoch 21/100\n",
      "\u001b[1m15/15\u001b[0m \u001b[32m━━━━━━━━━━━━━━━━━━━━\u001b[0m\u001b[37m\u001b[0m \u001b[1m0s\u001b[0m 5ms/step - loss: 4.7143e-05 - val_loss: 2.7128e-05\n",
      "Epoch 22/100\n",
      "\u001b[1m15/15\u001b[0m \u001b[32m━━━━━━━━━━━━━━━━━━━━\u001b[0m\u001b[37m\u001b[0m \u001b[1m0s\u001b[0m 5ms/step - loss: 2.2705e-05 - val_loss: 7.4373e-05\n",
      "Epoch 23/100\n",
      "\u001b[1m15/15\u001b[0m \u001b[32m━━━━━━━━━━━━━━━━━━━━\u001b[0m\u001b[37m\u001b[0m \u001b[1m0s\u001b[0m 5ms/step - loss: 6.2708e-05 - val_loss: 3.6776e-05\n",
      "Epoch 24/100\n",
      "\u001b[1m15/15\u001b[0m \u001b[32m━━━━━━━━━━━━━━━━━━━━\u001b[0m\u001b[37m\u001b[0m \u001b[1m0s\u001b[0m 5ms/step - loss: 3.9422e-05 - val_loss: 2.8020e-05\n",
      "Epoch 25/100\n",
      "\u001b[1m15/15\u001b[0m \u001b[32m━━━━━━━━━━━━━━━━━━━━\u001b[0m\u001b[37m\u001b[0m \u001b[1m0s\u001b[0m 5ms/step - loss: 4.2551e-05 - val_loss: 3.6284e-05\n",
      "Epoch 26/100\n",
      "\u001b[1m15/15\u001b[0m \u001b[32m━━━━━━━━━━━━━━━━━━━━\u001b[0m\u001b[37m\u001b[0m \u001b[1m0s\u001b[0m 5ms/step - loss: 1.5237e-05 - val_loss: 2.2059e-05\n",
      "Epoch 27/100\n",
      "\u001b[1m15/15\u001b[0m \u001b[32m━━━━━━━━━━━━━━━━━━━━\u001b[0m\u001b[37m\u001b[0m \u001b[1m0s\u001b[0m 6ms/step - loss: 1.7877e-05 - val_loss: 3.3655e-05\n",
      "Epoch 28/100\n",
      "\u001b[1m15/15\u001b[0m \u001b[32m━━━━━━━━━━━━━━━━━━━━\u001b[0m\u001b[37m\u001b[0m \u001b[1m0s\u001b[0m 5ms/step - loss: 1.5466e-05 - val_loss: 2.0861e-05\n",
      "Epoch 29/100\n",
      "\u001b[1m15/15\u001b[0m \u001b[32m━━━━━━━━━━━━━━━━━━━━\u001b[0m\u001b[37m\u001b[0m \u001b[1m0s\u001b[0m 5ms/step - loss: 2.7224e-05 - val_loss: 4.3109e-05\n",
      "Epoch 30/100\n",
      "\u001b[1m15/15\u001b[0m \u001b[32m━━━━━━━━━━━━━━━━━━━━\u001b[0m\u001b[37m\u001b[0m \u001b[1m0s\u001b[0m 5ms/step - loss: 2.8137e-05 - val_loss: 6.2187e-05\n",
      "Epoch 31/100\n",
      "\u001b[1m15/15\u001b[0m \u001b[32m━━━━━━━━━━━━━━━━━━━━\u001b[0m\u001b[37m\u001b[0m \u001b[1m0s\u001b[0m 5ms/step - loss: 5.0820e-05 - val_loss: 2.4199e-05\n",
      "Epoch 32/100\n",
      "\u001b[1m15/15\u001b[0m \u001b[32m━━━━━━━━━━━━━━━━━━━━\u001b[0m\u001b[37m\u001b[0m \u001b[1m0s\u001b[0m 5ms/step - loss: 2.7073e-05 - val_loss: 5.0266e-05\n",
      "Epoch 33/100\n",
      "\u001b[1m15/15\u001b[0m \u001b[32m━━━━━━━━━━━━━━━━━━━━\u001b[0m\u001b[37m\u001b[0m \u001b[1m0s\u001b[0m 5ms/step - loss: 3.8832e-05 - val_loss: 5.3261e-05\n",
      "Epoch 34/100\n",
      "\u001b[1m15/15\u001b[0m \u001b[32m━━━━━━━━━━━━━━━━━━━━\u001b[0m\u001b[37m\u001b[0m \u001b[1m0s\u001b[0m 5ms/step - loss: 8.0026e-05 - val_loss: 7.4514e-05\n",
      "Epoch 35/100\n",
      "\u001b[1m15/15\u001b[0m \u001b[32m━━━━━━━━━━━━━━━━━━━━\u001b[0m\u001b[37m\u001b[0m \u001b[1m0s\u001b[0m 5ms/step - loss: 5.9323e-05 - val_loss: 2.4354e-04\n",
      "Epoch 36/100\n",
      "\u001b[1m15/15\u001b[0m \u001b[32m━━━━━━━━━━━━━━━━━━━━\u001b[0m\u001b[37m\u001b[0m \u001b[1m0s\u001b[0m 5ms/step - loss: 2.2014e-04 - val_loss: 1.8804e-04\n",
      "Epoch 37/100\n",
      "\u001b[1m15/15\u001b[0m \u001b[32m━━━━━━━━━━━━━━━━━━━━\u001b[0m\u001b[37m\u001b[0m \u001b[1m0s\u001b[0m 6ms/step - loss: 2.2200e-04 - val_loss: 1.2940e-04\n",
      "Epoch 38/100\n",
      "\u001b[1m15/15\u001b[0m \u001b[32m━━━━━━━━━━━━━━━━━━━━\u001b[0m\u001b[37m\u001b[0m \u001b[1m0s\u001b[0m 5ms/step - loss: 9.6524e-05 - val_loss: 1.4219e-04\n",
      "Epoch 39/100\n",
      "\u001b[1m15/15\u001b[0m \u001b[32m━━━━━━━━━━━━━━━━━━━━\u001b[0m\u001b[37m\u001b[0m \u001b[1m0s\u001b[0m 5ms/step - loss: 9.4138e-05 - val_loss: 1.3098e-04\n",
      "Epoch 40/100\n",
      "\u001b[1m15/15\u001b[0m \u001b[32m━━━━━━━━━━━━━━━━━━━━\u001b[0m\u001b[37m\u001b[0m \u001b[1m0s\u001b[0m 5ms/step - loss: 8.8201e-05 - val_loss: 4.1730e-05\n",
      "Epoch 41/100\n",
      "\u001b[1m15/15\u001b[0m \u001b[32m━━━━━━━━━━━━━━━━━━━━\u001b[0m\u001b[37m\u001b[0m \u001b[1m0s\u001b[0m 5ms/step - loss: 4.5495e-05 - val_loss: 7.3383e-05\n",
      "Epoch 42/100\n",
      "\u001b[1m15/15\u001b[0m \u001b[32m━━━━━━━━━━━━━━━━━━━━\u001b[0m\u001b[37m\u001b[0m \u001b[1m0s\u001b[0m 5ms/step - loss: 5.0299e-05 - val_loss: 4.2446e-05\n",
      "Epoch 43/100\n",
      "\u001b[1m15/15\u001b[0m \u001b[32m━━━━━━━━━━━━━━━━━━━━\u001b[0m\u001b[37m\u001b[0m \u001b[1m0s\u001b[0m 5ms/step - loss: 3.9094e-05 - val_loss: 5.7461e-05\n",
      "Epoch 44/100\n",
      "\u001b[1m15/15\u001b[0m \u001b[32m━━━━━━━━━━━━━━━━━━━━\u001b[0m\u001b[37m\u001b[0m \u001b[1m0s\u001b[0m 5ms/step - loss: 3.2607e-05 - val_loss: 3.7754e-05\n",
      "Epoch 45/100\n",
      "\u001b[1m15/15\u001b[0m \u001b[32m━━━━━━━━━━━━━━━━━━━━\u001b[0m\u001b[37m\u001b[0m \u001b[1m0s\u001b[0m 5ms/step - loss: 3.8861e-05 - val_loss: 2.5927e-05\n",
      "Epoch 46/100\n",
      "\u001b[1m15/15\u001b[0m \u001b[32m━━━━━━━━━━━━━━━━━━━━\u001b[0m\u001b[37m\u001b[0m \u001b[1m0s\u001b[0m 6ms/step - loss: 3.5933e-05 - val_loss: 3.8454e-05\n",
      "Epoch 47/100\n",
      "\u001b[1m15/15\u001b[0m \u001b[32m━━━━━━━━━━━━━━━━━━━━\u001b[0m\u001b[37m\u001b[0m \u001b[1m0s\u001b[0m 5ms/step - loss: 2.6234e-05 - val_loss: 4.7420e-05\n",
      "Epoch 48/100\n",
      "\u001b[1m15/15\u001b[0m \u001b[32m━━━━━━━━━━━━━━━━━━━━\u001b[0m\u001b[37m\u001b[0m \u001b[1m0s\u001b[0m 5ms/step - loss: 3.0018e-05 - val_loss: 3.9589e-05\n",
      "Epoch 49/100\n",
      "\u001b[1m15/15\u001b[0m \u001b[32m━━━━━━━━━━━━━━━━━━━━\u001b[0m\u001b[37m\u001b[0m \u001b[1m0s\u001b[0m 5ms/step - loss: 2.5955e-05 - val_loss: 4.4635e-05\n",
      "Epoch 50/100\n",
      "\u001b[1m15/15\u001b[0m \u001b[32m━━━━━━━━━━━━━━━━━━━━\u001b[0m\u001b[37m\u001b[0m \u001b[1m0s\u001b[0m 5ms/step - loss: 5.9892e-05 - val_loss: 6.9410e-05\n",
      "Epoch 51/100\n",
      "\u001b[1m15/15\u001b[0m \u001b[32m━━━━━━━━━━━━━━━━━━━━\u001b[0m\u001b[37m\u001b[0m \u001b[1m0s\u001b[0m 5ms/step - loss: 4.3834e-05 - val_loss: 2.4959e-05\n",
      "Epoch 52/100\n",
      "\u001b[1m15/15\u001b[0m \u001b[32m━━━━━━━━━━━━━━━━━━━━\u001b[0m\u001b[37m\u001b[0m \u001b[1m0s\u001b[0m 5ms/step - loss: 5.1851e-05 - val_loss: 9.6709e-05\n",
      "Epoch 53/100\n",
      "\u001b[1m15/15\u001b[0m \u001b[32m━━━━━━━━━━━━━━━━━━━━\u001b[0m\u001b[37m\u001b[0m \u001b[1m0s\u001b[0m 5ms/step - loss: 1.0704e-04 - val_loss: 1.5401e-04\n",
      "Epoch 54/100\n",
      "\u001b[1m15/15\u001b[0m \u001b[32m━━━━━━━━━━━━━━━━━━━━\u001b[0m\u001b[37m\u001b[0m \u001b[1m0s\u001b[0m 5ms/step - loss: 2.6111e-04 - val_loss: 5.7875e-05\n",
      "Epoch 55/100\n",
      "\u001b[1m15/15\u001b[0m \u001b[32m━━━━━━━━━━━━━━━━━━━━\u001b[0m\u001b[37m\u001b[0m \u001b[1m0s\u001b[0m 5ms/step - loss: 5.4359e-05 - val_loss: 3.8190e-05\n",
      "Epoch 56/100\n",
      "\u001b[1m15/15\u001b[0m \u001b[32m━━━━━━━━━━━━━━━━━━━━\u001b[0m\u001b[37m\u001b[0m \u001b[1m0s\u001b[0m 6ms/step - loss: 3.7388e-05 - val_loss: 2.5798e-05\n",
      "Epoch 57/100\n",
      "\u001b[1m15/15\u001b[0m \u001b[32m━━━━━━━━━━━━━━━━━━━━\u001b[0m\u001b[37m\u001b[0m \u001b[1m0s\u001b[0m 5ms/step - loss: 2.5096e-05 - val_loss: 4.1770e-05\n",
      "Epoch 58/100\n",
      "\u001b[1m15/15\u001b[0m \u001b[32m━━━━━━━━━━━━━━━━━━━━\u001b[0m\u001b[37m\u001b[0m \u001b[1m0s\u001b[0m 5ms/step - loss: 2.7044e-05 - val_loss: 8.3939e-05\n",
      "Epoch 59/100\n",
      "\u001b[1m15/15\u001b[0m \u001b[32m━━━━━━━━━━━━━━━━━━━━\u001b[0m\u001b[37m\u001b[0m \u001b[1m0s\u001b[0m 5ms/step - loss: 5.5522e-05 - val_loss: 4.3136e-05\n",
      "Epoch 60/100\n",
      "\u001b[1m15/15\u001b[0m \u001b[32m━━━━━━━━━━━━━━━━━━━━\u001b[0m\u001b[37m\u001b[0m \u001b[1m0s\u001b[0m 5ms/step - loss: 3.0360e-05 - val_loss: 2.2568e-05\n",
      "Epoch 61/100\n",
      "\u001b[1m15/15\u001b[0m \u001b[32m━━━━━━━━━━━━━━━━━━━━\u001b[0m\u001b[37m\u001b[0m \u001b[1m0s\u001b[0m 5ms/step - loss: 1.9345e-05 - val_loss: 3.0502e-05\n",
      "Epoch 62/100\n",
      "\u001b[1m15/15\u001b[0m \u001b[32m━━━━━━━━━━━━━━━━━━━━\u001b[0m\u001b[37m\u001b[0m \u001b[1m0s\u001b[0m 5ms/step - loss: 3.5329e-05 - val_loss: 3.1464e-05\n",
      "Epoch 63/100\n",
      "\u001b[1m15/15\u001b[0m \u001b[32m━━━━━━━━━━━━━━━━━━━━\u001b[0m\u001b[37m\u001b[0m \u001b[1m0s\u001b[0m 5ms/step - loss: 3.1289e-05 - val_loss: 1.9847e-05\n",
      "Epoch 64/100\n",
      "\u001b[1m15/15\u001b[0m \u001b[32m━━━━━━━━━━━━━━━━━━━━\u001b[0m\u001b[37m\u001b[0m \u001b[1m0s\u001b[0m 6ms/step - loss: 3.6644e-05 - val_loss: 6.7366e-05\n",
      "Epoch 65/100\n",
      "\u001b[1m15/15\u001b[0m \u001b[32m━━━━━━━━━━━━━━━━━━━━\u001b[0m\u001b[37m\u001b[0m \u001b[1m0s\u001b[0m 5ms/step - loss: 5.8443e-05 - val_loss: 4.1669e-05\n",
      "Epoch 66/100\n",
      "\u001b[1m15/15\u001b[0m \u001b[32m━━━━━━━━━━━━━━━━━━━━\u001b[0m\u001b[37m\u001b[0m \u001b[1m0s\u001b[0m 5ms/step - loss: 9.4353e-05 - val_loss: 6.6080e-05\n",
      "Epoch 67/100\n",
      "\u001b[1m15/15\u001b[0m \u001b[32m━━━━━━━━━━━━━━━━━━━━\u001b[0m\u001b[37m\u001b[0m \u001b[1m0s\u001b[0m 5ms/step - loss: 1.5069e-04 - val_loss: 5.5505e-04\n",
      "Epoch 68/100\n",
      "\u001b[1m15/15\u001b[0m \u001b[32m━━━━━━━━━━━━━━━━━━━━\u001b[0m\u001b[37m\u001b[0m \u001b[1m0s\u001b[0m 5ms/step - loss: 3.0297e-04 - val_loss: 3.4861e-04\n",
      "Epoch 69/100\n",
      "\u001b[1m15/15\u001b[0m \u001b[32m━━━━━━━━━━━━━━━━━━━━\u001b[0m\u001b[37m\u001b[0m \u001b[1m0s\u001b[0m 6ms/step - loss: 3.3482e-04 - val_loss: 2.5640e-04\n",
      "Epoch 70/100\n",
      "\u001b[1m15/15\u001b[0m \u001b[32m━━━━━━━━━━━━━━━━━━━━\u001b[0m\u001b[37m\u001b[0m \u001b[1m0s\u001b[0m 6ms/step - loss: 2.7775e-04 - val_loss: 2.1130e-04\n",
      "Epoch 71/100\n",
      "\u001b[1m15/15\u001b[0m \u001b[32m━━━━━━━━━━━━━━━━━━━━\u001b[0m\u001b[37m\u001b[0m \u001b[1m0s\u001b[0m 5ms/step - loss: 1.2307e-04 - val_loss: 4.1018e-05\n",
      "Epoch 72/100\n",
      "\u001b[1m15/15\u001b[0m \u001b[32m━━━━━━━━━━━━━━━━━━━━\u001b[0m\u001b[37m\u001b[0m \u001b[1m0s\u001b[0m 6ms/step - loss: 3.9184e-05 - val_loss: 8.4074e-05\n",
      "Epoch 73/100\n",
      "\u001b[1m15/15\u001b[0m \u001b[32m━━━━━━━━━━━━━━━━━━━━\u001b[0m\u001b[37m\u001b[0m \u001b[1m0s\u001b[0m 5ms/step - loss: 5.4216e-05 - val_loss: 5.4479e-05\n",
      "Epoch 74/100\n",
      "\u001b[1m15/15\u001b[0m \u001b[32m━━━━━━━━━━━━━━━━━━━━\u001b[0m\u001b[37m\u001b[0m \u001b[1m0s\u001b[0m 5ms/step - loss: 3.7659e-05 - val_loss: 9.9193e-05\n",
      "Epoch 75/100\n",
      "\u001b[1m15/15\u001b[0m \u001b[32m━━━━━━━━━━━━━━━━━━━━\u001b[0m\u001b[37m\u001b[0m \u001b[1m0s\u001b[0m 5ms/step - loss: 8.5463e-05 - val_loss: 9.7132e-05\n",
      "Epoch 76/100\n",
      "\u001b[1m15/15\u001b[0m \u001b[32m━━━━━━━━━━━━━━━━━━━━\u001b[0m\u001b[37m\u001b[0m \u001b[1m0s\u001b[0m 5ms/step - loss: 7.5586e-05 - val_loss: 7.2680e-05\n",
      "Epoch 77/100\n",
      "\u001b[1m15/15\u001b[0m \u001b[32m━━━━━━━━━━━━━━━━━━━━\u001b[0m\u001b[37m\u001b[0m \u001b[1m0s\u001b[0m 5ms/step - loss: 6.1564e-05 - val_loss: 9.1818e-05\n",
      "Epoch 78/100\n",
      "\u001b[1m15/15\u001b[0m \u001b[32m━━━━━━━━━━━━━━━━━━━━\u001b[0m\u001b[37m\u001b[0m \u001b[1m0s\u001b[0m 5ms/step - loss: 4.8442e-05 - val_loss: 5.7803e-05\n",
      "Epoch 79/100\n",
      "\u001b[1m15/15\u001b[0m \u001b[32m━━━━━━━━━━━━━━━━━━━━\u001b[0m\u001b[37m\u001b[0m \u001b[1m0s\u001b[0m 5ms/step - loss: 6.3922e-05 - val_loss: 3.7185e-05\n",
      "Epoch 80/100\n",
      "\u001b[1m15/15\u001b[0m \u001b[32m━━━━━━━━━━━━━━━━━━━━\u001b[0m\u001b[37m\u001b[0m \u001b[1m0s\u001b[0m 5ms/step - loss: 5.7897e-05 - val_loss: 3.0519e-05\n",
      "Epoch 81/100\n",
      "\u001b[1m15/15\u001b[0m \u001b[32m━━━━━━━━━━━━━━━━━━━━\u001b[0m\u001b[37m\u001b[0m \u001b[1m0s\u001b[0m 6ms/step - loss: 4.3046e-05 - val_loss: 3.4918e-05\n",
      "Epoch 82/100\n",
      "\u001b[1m15/15\u001b[0m \u001b[32m━━━━━━━━━━━━━━━━━━━━\u001b[0m\u001b[37m\u001b[0m \u001b[1m0s\u001b[0m 5ms/step - loss: 2.1419e-05 - val_loss: 1.8176e-05\n",
      "Epoch 83/100\n",
      "\u001b[1m15/15\u001b[0m \u001b[32m━━━━━━━━━━━━━━━━━━━━\u001b[0m\u001b[37m\u001b[0m \u001b[1m0s\u001b[0m 5ms/step - loss: 2.4429e-05 - val_loss: 4.9659e-05\n",
      "Epoch 84/100\n",
      "\u001b[1m15/15\u001b[0m \u001b[32m━━━━━━━━━━━━━━━━━━━━\u001b[0m\u001b[37m\u001b[0m \u001b[1m0s\u001b[0m 5ms/step - loss: 5.8956e-05 - val_loss: 5.7193e-05\n",
      "Epoch 85/100\n",
      "\u001b[1m15/15\u001b[0m \u001b[32m━━━━━━━━━━━━━━━━━━━━\u001b[0m\u001b[37m\u001b[0m \u001b[1m0s\u001b[0m 5ms/step - loss: 3.2436e-05 - val_loss: 2.0897e-05\n",
      "Epoch 86/100\n",
      "\u001b[1m15/15\u001b[0m \u001b[32m━━━━━━━━━━━━━━━━━━━━\u001b[0m\u001b[37m\u001b[0m \u001b[1m0s\u001b[0m 5ms/step - loss: 1.3527e-05 - val_loss: 2.3524e-05\n",
      "Epoch 87/100\n",
      "\u001b[1m15/15\u001b[0m \u001b[32m━━━━━━━━━━━━━━━━━━━━\u001b[0m\u001b[37m\u001b[0m \u001b[1m0s\u001b[0m 5ms/step - loss: 1.3398e-05 - val_loss: 1.8257e-05\n",
      "Epoch 88/100\n",
      "\u001b[1m15/15\u001b[0m \u001b[32m━━━━━━━━━━━━━━━━━━━━\u001b[0m\u001b[37m\u001b[0m \u001b[1m0s\u001b[0m 5ms/step - loss: 9.4096e-06 - val_loss: 1.3446e-05\n",
      "Epoch 89/100\n",
      "\u001b[1m15/15\u001b[0m \u001b[32m━━━━━━━━━━━━━━━━━━━━\u001b[0m\u001b[37m\u001b[0m \u001b[1m0s\u001b[0m 5ms/step - loss: 6.0096e-06 - val_loss: 1.4895e-05\n",
      "Epoch 90/100\n",
      "\u001b[1m15/15\u001b[0m \u001b[32m━━━━━━━━━━━━━━━━━━━━\u001b[0m\u001b[37m\u001b[0m \u001b[1m0s\u001b[0m 6ms/step - loss: 7.8639e-06 - val_loss: 1.4964e-05\n",
      "Epoch 91/100\n",
      "\u001b[1m15/15\u001b[0m \u001b[32m━━━━━━━━━━━━━━━━━━━━\u001b[0m\u001b[37m\u001b[0m \u001b[1m0s\u001b[0m 5ms/step - loss: 5.1255e-06 - val_loss: 1.3800e-05\n",
      "Epoch 92/100\n",
      "\u001b[1m15/15\u001b[0m \u001b[32m━━━━━━━━━━━━━━━━━━━━\u001b[0m\u001b[37m\u001b[0m \u001b[1m0s\u001b[0m 5ms/step - loss: 1.3300e-05 - val_loss: 3.1893e-05\n",
      "Epoch 93/100\n",
      "\u001b[1m15/15\u001b[0m \u001b[32m━━━━━━━━━━━━━━━━━━━━\u001b[0m\u001b[37m\u001b[0m \u001b[1m0s\u001b[0m 5ms/step - loss: 3.2641e-05 - val_loss: 4.0129e-05\n",
      "Epoch 94/100\n",
      "\u001b[1m15/15\u001b[0m \u001b[32m━━━━━━━━━━━━━━━━━━━━\u001b[0m\u001b[37m\u001b[0m \u001b[1m0s\u001b[0m 5ms/step - loss: 2.0798e-05 - val_loss: 2.1282e-05\n",
      "Epoch 95/100\n",
      "\u001b[1m15/15\u001b[0m \u001b[32m━━━━━━━━━━━━━━━━━━━━\u001b[0m\u001b[37m\u001b[0m \u001b[1m0s\u001b[0m 5ms/step - loss: 8.2937e-06 - val_loss: 1.9994e-05\n",
      "Epoch 96/100\n",
      "\u001b[1m15/15\u001b[0m \u001b[32m━━━━━━━━━━━━━━━━━━━━\u001b[0m\u001b[37m\u001b[0m \u001b[1m0s\u001b[0m 5ms/step - loss: 1.1695e-05 - val_loss: 2.5917e-05\n",
      "Epoch 97/100\n",
      "\u001b[1m15/15\u001b[0m \u001b[32m━━━━━━━━━━━━━━━━━━━━\u001b[0m\u001b[37m\u001b[0m \u001b[1m0s\u001b[0m 5ms/step - loss: 1.6793e-05 - val_loss: 2.7970e-05\n",
      "Epoch 98/100\n",
      "\u001b[1m15/15\u001b[0m \u001b[32m━━━━━━━━━━━━━━━━━━━━\u001b[0m\u001b[37m\u001b[0m \u001b[1m0s\u001b[0m 6ms/step - loss: 6.0549e-05 - val_loss: 1.1645e-04\n",
      "Epoch 99/100\n",
      "\u001b[1m15/15\u001b[0m \u001b[32m━━━━━━━━━━━━━━━━━━━━\u001b[0m\u001b[37m\u001b[0m \u001b[1m0s\u001b[0m 5ms/step - loss: 1.3715e-04 - val_loss: 5.6891e-05\n",
      "Epoch 100/100\n",
      "\u001b[1m15/15\u001b[0m \u001b[32m━━━━━━━━━━━━━━━━━━━━\u001b[0m\u001b[37m\u001b[0m \u001b[1m0s\u001b[0m 5ms/step - loss: 1.2217e-04 - val_loss: 3.5851e-04\n",
      "Epoch 1/100\n",
      "\u001b[1m15/15\u001b[0m \u001b[32m━━━━━━━━━━━━━━━━━━━━\u001b[0m\u001b[37m\u001b[0m \u001b[1m2s\u001b[0m 21ms/step - loss: 0.0064 - val_loss: 2.2205e-04\n",
      "Epoch 2/100\n",
      "\u001b[1m15/15\u001b[0m \u001b[32m━━━━━━━━━━━━━━━━━━━━\u001b[0m\u001b[37m\u001b[0m \u001b[1m0s\u001b[0m 5ms/step - loss: 1.1950e-04 - val_loss: 3.2167e-05\n",
      "Epoch 3/100\n",
      "\u001b[1m15/15\u001b[0m \u001b[32m━━━━━━━━━━━━━━━━━━━━\u001b[0m\u001b[37m\u001b[0m \u001b[1m0s\u001b[0m 5ms/step - loss: 2.2159e-05 - val_loss: 5.9046e-06\n",
      "Epoch 4/100\n",
      "\u001b[1m15/15\u001b[0m \u001b[32m━━━━━━━━━━━━━━━━━━━━\u001b[0m\u001b[37m\u001b[0m \u001b[1m0s\u001b[0m 4ms/step - loss: 4.3655e-06 - val_loss: 8.4340e-07\n",
      "Epoch 5/100\n",
      "\u001b[1m15/15\u001b[0m \u001b[32m━━━━━━━━━━━━━━━━━━━━\u001b[0m\u001b[37m\u001b[0m \u001b[1m0s\u001b[0m 5ms/step - loss: 1.6207e-06 - val_loss: 1.0194e-06\n",
      "Epoch 6/100\n",
      "\u001b[1m15/15\u001b[0m \u001b[32m━━━━━━━━━━━━━━━━━━━━\u001b[0m\u001b[37m\u001b[0m \u001b[1m0s\u001b[0m 5ms/step - loss: 1.0932e-06 - val_loss: 1.0978e-06\n",
      "Epoch 7/100\n",
      "\u001b[1m15/15\u001b[0m \u001b[32m━━━━━━━━━━━━━━━━━━━━\u001b[0m\u001b[37m\u001b[0m \u001b[1m0s\u001b[0m 5ms/step - loss: 1.0082e-06 - val_loss: 8.6085e-07\n",
      "Epoch 8/100\n",
      "\u001b[1m15/15\u001b[0m \u001b[32m━━━━━━━━━━━━━━━━━━━━\u001b[0m\u001b[37m\u001b[0m \u001b[1m0s\u001b[0m 5ms/step - loss: 1.0747e-06 - val_loss: 8.2009e-07\n",
      "Epoch 9/100\n",
      "\u001b[1m15/15\u001b[0m \u001b[32m━━━━━━━━━━━━━━━━━━━━\u001b[0m\u001b[37m\u001b[0m \u001b[1m0s\u001b[0m 6ms/step - loss: 1.0825e-06 - val_loss: 9.5011e-07\n",
      "Epoch 10/100\n",
      "\u001b[1m15/15\u001b[0m \u001b[32m━━━━━━━━━━━━━━━━━━━━\u001b[0m\u001b[37m\u001b[0m \u001b[1m0s\u001b[0m 5ms/step - loss: 1.0492e-06 - val_loss: 1.1197e-06\n",
      "Epoch 11/100\n",
      "\u001b[1m15/15\u001b[0m \u001b[32m━━━━━━━━━━━━━━━━━━━━\u001b[0m\u001b[37m\u001b[0m \u001b[1m0s\u001b[0m 5ms/step - loss: 1.0578e-06 - val_loss: 9.1941e-07\n",
      "Epoch 12/100\n",
      "\u001b[1m15/15\u001b[0m \u001b[32m━━━━━━━━━━━━━━━━━━━━\u001b[0m\u001b[37m\u001b[0m \u001b[1m0s\u001b[0m 5ms/step - loss: 1.0766e-06 - val_loss: 1.0116e-06\n",
      "Epoch 13/100\n",
      "\u001b[1m15/15\u001b[0m \u001b[32m━━━━━━━━━━━━━━━━━━━━\u001b[0m\u001b[37m\u001b[0m \u001b[1m0s\u001b[0m 5ms/step - loss: 1.0182e-06 - val_loss: 8.0266e-07\n",
      "Epoch 14/100\n",
      "\u001b[1m15/15\u001b[0m \u001b[32m━━━━━━━━━━━━━━━━━━━━\u001b[0m\u001b[37m\u001b[0m \u001b[1m0s\u001b[0m 5ms/step - loss: 1.0406e-06 - val_loss: 8.5481e-07\n",
      "Epoch 15/100\n",
      "\u001b[1m15/15\u001b[0m \u001b[32m━━━━━━━━━━━━━━━━━━━━\u001b[0m\u001b[37m\u001b[0m \u001b[1m0s\u001b[0m 5ms/step - loss: 1.0943e-06 - val_loss: 6.7451e-07\n",
      "Epoch 16/100\n",
      "\u001b[1m15/15\u001b[0m \u001b[32m━━━━━━━━━━━━━━━━━━━━\u001b[0m\u001b[37m\u001b[0m \u001b[1m0s\u001b[0m 5ms/step - loss: 1.0895e-06 - val_loss: 1.2357e-06\n",
      "Epoch 17/100\n",
      "\u001b[1m15/15\u001b[0m \u001b[32m━━━━━━━━━━━━━━━━━━━━\u001b[0m\u001b[37m\u001b[0m \u001b[1m0s\u001b[0m 5ms/step - loss: 1.0950e-06 - val_loss: 7.0488e-07\n",
      "Epoch 18/100\n",
      "\u001b[1m15/15\u001b[0m \u001b[32m━━━━━━━━━━━━━━━━━━━━\u001b[0m\u001b[37m\u001b[0m \u001b[1m0s\u001b[0m 5ms/step - loss: 1.0471e-06 - val_loss: 7.7174e-07\n",
      "Epoch 19/100\n",
      "\u001b[1m15/15\u001b[0m \u001b[32m━━━━━━━━━━━━━━━━━━━━\u001b[0m\u001b[37m\u001b[0m \u001b[1m0s\u001b[0m 5ms/step - loss: 1.0499e-06 - val_loss: 1.2023e-06\n",
      "Epoch 20/100\n",
      "\u001b[1m15/15\u001b[0m \u001b[32m━━━━━━━━━━━━━━━━━━━━\u001b[0m\u001b[37m\u001b[0m \u001b[1m0s\u001b[0m 6ms/step - loss: 1.0704e-06 - val_loss: 7.2070e-07\n",
      "Epoch 21/100\n",
      "\u001b[1m15/15\u001b[0m \u001b[32m━━━━━━━━━━━━━━━━━━━━\u001b[0m\u001b[37m\u001b[0m \u001b[1m0s\u001b[0m 5ms/step - loss: 1.1414e-06 - val_loss: 6.6870e-07\n",
      "Epoch 22/100\n",
      "\u001b[1m15/15\u001b[0m \u001b[32m━━━━━━━━━━━━━━━━━━━━\u001b[0m\u001b[37m\u001b[0m \u001b[1m0s\u001b[0m 6ms/step - loss: 1.2490e-06 - val_loss: 6.7439e-07\n",
      "Epoch 23/100\n",
      "\u001b[1m15/15\u001b[0m \u001b[32m━━━━━━━━━━━━━━━━━━━━\u001b[0m\u001b[37m\u001b[0m \u001b[1m0s\u001b[0m 5ms/step - loss: 1.1396e-06 - val_loss: 1.5810e-06\n",
      "Epoch 24/100\n",
      "\u001b[1m15/15\u001b[0m \u001b[32m━━━━━━━━━━━━━━━━━━━━\u001b[0m\u001b[37m\u001b[0m \u001b[1m0s\u001b[0m 5ms/step - loss: 1.1987e-06 - val_loss: 1.0159e-06\n",
      "Epoch 25/100\n",
      "\u001b[1m15/15\u001b[0m \u001b[32m━━━━━━━━━━━━━━━━━━━━\u001b[0m\u001b[37m\u001b[0m \u001b[1m0s\u001b[0m 5ms/step - loss: 1.0459e-06 - val_loss: 1.1204e-06\n",
      "Epoch 26/100\n",
      "\u001b[1m15/15\u001b[0m \u001b[32m━━━━━━━━━━━━━━━━━━━━\u001b[0m\u001b[37m\u001b[0m \u001b[1m0s\u001b[0m 5ms/step - loss: 1.0221e-06 - val_loss: 1.0438e-06\n",
      "Epoch 27/100\n",
      "\u001b[1m15/15\u001b[0m \u001b[32m━━━━━━━━━━━━━━━━━━━━\u001b[0m\u001b[37m\u001b[0m \u001b[1m0s\u001b[0m 5ms/step - loss: 1.0685e-06 - val_loss: 9.6815e-07\n",
      "Epoch 28/100\n",
      "\u001b[1m15/15\u001b[0m \u001b[32m━━━━━━━━━━━━━━━━━━━━\u001b[0m\u001b[37m\u001b[0m \u001b[1m0s\u001b[0m 5ms/step - loss: 1.2178e-06 - val_loss: 1.6726e-06\n",
      "Epoch 29/100\n",
      "\u001b[1m15/15\u001b[0m \u001b[32m━━━━━━━━━━━━━━━━━━━━\u001b[0m\u001b[37m\u001b[0m \u001b[1m0s\u001b[0m 5ms/step - loss: 1.2039e-06 - val_loss: 1.4755e-06\n",
      "Epoch 30/100\n",
      "\u001b[1m15/15\u001b[0m \u001b[32m━━━━━━━━━━━━━━━━━━━━\u001b[0m\u001b[37m\u001b[0m \u001b[1m0s\u001b[0m 5ms/step - loss: 1.0684e-06 - val_loss: 1.0985e-06\n",
      "Epoch 31/100\n",
      "\u001b[1m15/15\u001b[0m \u001b[32m━━━━━━━━━━━━━━━━━━━━\u001b[0m\u001b[37m\u001b[0m \u001b[1m0s\u001b[0m 5ms/step - loss: 1.1254e-06 - val_loss: 1.6458e-06\n",
      "Epoch 32/100\n",
      "\u001b[1m15/15\u001b[0m \u001b[32m━━━━━━━━━━━━━━━━━━━━\u001b[0m\u001b[37m\u001b[0m \u001b[1m0s\u001b[0m 5ms/step - loss: 1.1629e-06 - val_loss: 1.2338e-06\n",
      "Epoch 33/100\n",
      "\u001b[1m15/15\u001b[0m \u001b[32m━━━━━━━━━━━━━━━━━━━━\u001b[0m\u001b[37m\u001b[0m \u001b[1m0s\u001b[0m 5ms/step - loss: 1.0808e-06 - val_loss: 9.1303e-07\n",
      "Epoch 34/100\n",
      "\u001b[1m15/15\u001b[0m \u001b[32m━━━━━━━━━━━━━━━━━━━━\u001b[0m\u001b[37m\u001b[0m \u001b[1m0s\u001b[0m 5ms/step - loss: 1.0302e-06 - val_loss: 8.2101e-07\n",
      "Epoch 35/100\n",
      "\u001b[1m15/15\u001b[0m \u001b[32m━━━━━━━━━━━━━━━━━━━━\u001b[0m\u001b[37m\u001b[0m \u001b[1m0s\u001b[0m 5ms/step - loss: 1.1628e-06 - val_loss: 6.9189e-07\n",
      "Epoch 36/100\n",
      "\u001b[1m15/15\u001b[0m \u001b[32m━━━━━━━━━━━━━━━━━━━━\u001b[0m\u001b[37m\u001b[0m \u001b[1m0s\u001b[0m 5ms/step - loss: 1.2389e-06 - val_loss: 6.6586e-07\n",
      "Epoch 37/100\n",
      "\u001b[1m15/15\u001b[0m \u001b[32m━━━━━━━━━━━━━━━━━━━━\u001b[0m\u001b[37m\u001b[0m \u001b[1m0s\u001b[0m 5ms/step - loss: 1.1680e-06 - val_loss: 6.7962e-07\n",
      "Epoch 38/100\n",
      "\u001b[1m15/15\u001b[0m \u001b[32m━━━━━━━━━━━━━━━━━━━━\u001b[0m\u001b[37m\u001b[0m \u001b[1m0s\u001b[0m 5ms/step - loss: 1.0610e-06 - val_loss: 6.8471e-07\n",
      "Epoch 39/100\n",
      "\u001b[1m15/15\u001b[0m \u001b[32m━━━━━━━━━━━━━━━━━━━━\u001b[0m\u001b[37m\u001b[0m \u001b[1m0s\u001b[0m 5ms/step - loss: 1.1075e-06 - val_loss: 1.0665e-06\n",
      "Epoch 40/100\n",
      "\u001b[1m15/15\u001b[0m \u001b[32m━━━━━━━━━━━━━━━━━━━━\u001b[0m\u001b[37m\u001b[0m \u001b[1m0s\u001b[0m 5ms/step - loss: 1.3176e-06 - val_loss: 1.1588e-06\n",
      "Epoch 41/100\n",
      "\u001b[1m15/15\u001b[0m \u001b[32m━━━━━━━━━━━━━━━━━━━━\u001b[0m\u001b[37m\u001b[0m \u001b[1m0s\u001b[0m 5ms/step - loss: 1.0182e-06 - val_loss: 1.1300e-06\n",
      "Epoch 42/100\n",
      "\u001b[1m15/15\u001b[0m \u001b[32m━━━━━━━━━━━━━━━━━━━━\u001b[0m\u001b[37m\u001b[0m \u001b[1m0s\u001b[0m 5ms/step - loss: 1.0801e-06 - val_loss: 7.6266e-07\n",
      "Epoch 43/100\n",
      "\u001b[1m15/15\u001b[0m \u001b[32m━━━━━━━━━━━━━━━━━━━━\u001b[0m\u001b[37m\u001b[0m \u001b[1m0s\u001b[0m 5ms/step - loss: 1.0535e-06 - val_loss: 1.1738e-06\n",
      "Epoch 44/100\n",
      "\u001b[1m15/15\u001b[0m \u001b[32m━━━━━━━━━━━━━━━━━━━━\u001b[0m\u001b[37m\u001b[0m \u001b[1m0s\u001b[0m 5ms/step - loss: 1.0637e-06 - val_loss: 1.4580e-06\n",
      "Epoch 45/100\n",
      "\u001b[1m15/15\u001b[0m \u001b[32m━━━━━━━━━━━━━━━━━━━━\u001b[0m\u001b[37m\u001b[0m \u001b[1m0s\u001b[0m 5ms/step - loss: 1.1492e-06 - val_loss: 6.7524e-07\n",
      "Epoch 46/100\n",
      "\u001b[1m15/15\u001b[0m \u001b[32m━━━━━━━━━━━━━━━━━━━━\u001b[0m\u001b[37m\u001b[0m \u001b[1m0s\u001b[0m 5ms/step - loss: 1.2159e-06 - val_loss: 6.6559e-07\n",
      "Epoch 47/100\n",
      "\u001b[1m15/15\u001b[0m \u001b[32m━━━━━━━━━━━━━━━━━━━━\u001b[0m\u001b[37m\u001b[0m \u001b[1m0s\u001b[0m 5ms/step - loss: 1.1503e-06 - val_loss: 1.0139e-06\n",
      "Epoch 48/100\n",
      "\u001b[1m15/15\u001b[0m \u001b[32m━━━━━━━━━━━━━━━━━━━━\u001b[0m\u001b[37m\u001b[0m \u001b[1m0s\u001b[0m 5ms/step - loss: 1.0814e-06 - val_loss: 7.4941e-07\n",
      "Epoch 49/100\n",
      "\u001b[1m15/15\u001b[0m \u001b[32m━━━━━━━━━━━━━━━━━━━━\u001b[0m\u001b[37m\u001b[0m \u001b[1m0s\u001b[0m 5ms/step - loss: 1.0668e-06 - val_loss: 9.7149e-07\n",
      "Epoch 50/100\n",
      "\u001b[1m15/15\u001b[0m \u001b[32m━━━━━━━━━━━━━━━━━━━━\u001b[0m\u001b[37m\u001b[0m \u001b[1m0s\u001b[0m 5ms/step - loss: 1.0244e-06 - val_loss: 1.1538e-06\n",
      "Epoch 51/100\n",
      "\u001b[1m15/15\u001b[0m \u001b[32m━━━━━━━━━━━━━━━━━━━━\u001b[0m\u001b[37m\u001b[0m \u001b[1m0s\u001b[0m 5ms/step - loss: 1.2146e-06 - val_loss: 7.3602e-07\n",
      "Epoch 52/100\n",
      "\u001b[1m15/15\u001b[0m \u001b[32m━━━━━━━━━━━━━━━━━━━━\u001b[0m\u001b[37m\u001b[0m \u001b[1m0s\u001b[0m 6ms/step - loss: 1.0534e-06 - val_loss: 1.0856e-06\n",
      "Epoch 53/100\n",
      "\u001b[1m15/15\u001b[0m \u001b[32m━━━━━━━━━━━━━━━━━━━━\u001b[0m\u001b[37m\u001b[0m \u001b[1m0s\u001b[0m 5ms/step - loss: 1.0461e-06 - val_loss: 8.7422e-07\n",
      "Epoch 54/100\n",
      "\u001b[1m15/15\u001b[0m \u001b[32m━━━━━━━━━━━━━━━━━━━━\u001b[0m\u001b[37m\u001b[0m \u001b[1m0s\u001b[0m 5ms/step - loss: 1.0521e-06 - val_loss: 1.1692e-06\n",
      "Epoch 55/100\n",
      "\u001b[1m15/15\u001b[0m \u001b[32m━━━━━━━━━━━━━━━━━━━━\u001b[0m\u001b[37m\u001b[0m \u001b[1m0s\u001b[0m 5ms/step - loss: 1.1120e-06 - val_loss: 6.7852e-07\n",
      "Epoch 56/100\n",
      "\u001b[1m15/15\u001b[0m \u001b[32m━━━━━━━━━━━━━━━━━━━━\u001b[0m\u001b[37m\u001b[0m \u001b[1m0s\u001b[0m 5ms/step - loss: 1.1677e-06 - val_loss: 9.4374e-07\n",
      "Epoch 57/100\n",
      "\u001b[1m15/15\u001b[0m \u001b[32m━━━━━━━━━━━━━━━━━━━━\u001b[0m\u001b[37m\u001b[0m \u001b[1m0s\u001b[0m 5ms/step - loss: 1.0883e-06 - val_loss: 1.2310e-06\n",
      "Epoch 58/100\n",
      "\u001b[1m15/15\u001b[0m \u001b[32m━━━━━━━━━━━━━━━━━━━━\u001b[0m\u001b[37m\u001b[0m \u001b[1m0s\u001b[0m 5ms/step - loss: 1.0657e-06 - val_loss: 8.1406e-07\n",
      "Epoch 59/100\n",
      "\u001b[1m15/15\u001b[0m \u001b[32m━━━━━━━━━━━━━━━━━━━━\u001b[0m\u001b[37m\u001b[0m \u001b[1m0s\u001b[0m 5ms/step - loss: 1.0188e-06 - val_loss: 7.9839e-07\n",
      "Epoch 60/100\n",
      "\u001b[1m15/15\u001b[0m \u001b[32m━━━━━━━━━━━━━━━━━━━━\u001b[0m\u001b[37m\u001b[0m \u001b[1m0s\u001b[0m 5ms/step - loss: 1.0731e-06 - val_loss: 7.3859e-07\n",
      "Epoch 61/100\n",
      "\u001b[1m15/15\u001b[0m \u001b[32m━━━━━━━━━━━━━━━━━━━━\u001b[0m\u001b[37m\u001b[0m \u001b[1m0s\u001b[0m 5ms/step - loss: 1.0902e-06 - val_loss: 8.5380e-07\n",
      "Epoch 62/100\n",
      "\u001b[1m15/15\u001b[0m \u001b[32m━━━━━━━━━━━━━━━━━━━━\u001b[0m\u001b[37m\u001b[0m \u001b[1m0s\u001b[0m 5ms/step - loss: 1.1125e-06 - val_loss: 7.0170e-07\n",
      "Epoch 63/100\n",
      "\u001b[1m15/15\u001b[0m \u001b[32m━━━━━━━━━━━━━━━━━━━━\u001b[0m\u001b[37m\u001b[0m \u001b[1m0s\u001b[0m 5ms/step - loss: 1.1748e-06 - val_loss: 8.7185e-07\n",
      "Epoch 64/100\n",
      "\u001b[1m15/15\u001b[0m \u001b[32m━━━━━━━━━━━━━━━━━━━━\u001b[0m\u001b[37m\u001b[0m \u001b[1m0s\u001b[0m 5ms/step - loss: 1.0137e-06 - val_loss: 9.1382e-07\n",
      "Epoch 65/100\n",
      "\u001b[1m15/15\u001b[0m \u001b[32m━━━━━━━━━━━━━━━━━━━━\u001b[0m\u001b[37m\u001b[0m \u001b[1m0s\u001b[0m 5ms/step - loss: 1.1093e-06 - val_loss: 8.6288e-07\n",
      "Epoch 66/100\n",
      "\u001b[1m15/15\u001b[0m \u001b[32m━━━━━━━━━━━━━━━━━━━━\u001b[0m\u001b[37m\u001b[0m \u001b[1m0s\u001b[0m 5ms/step - loss: 1.0247e-06 - val_loss: 1.1021e-06\n",
      "Epoch 67/100\n",
      "\u001b[1m15/15\u001b[0m \u001b[32m━━━━━━━━━━━━━━━━━━━━\u001b[0m\u001b[37m\u001b[0m \u001b[1m0s\u001b[0m 5ms/step - loss: 1.0679e-06 - val_loss: 1.2604e-06\n",
      "Epoch 68/100\n",
      "\u001b[1m15/15\u001b[0m \u001b[32m━━━━━━━━━━━━━━━━━━━━\u001b[0m\u001b[37m\u001b[0m \u001b[1m0s\u001b[0m 5ms/step - loss: 1.0998e-06 - val_loss: 7.1708e-07\n",
      "Epoch 69/100\n",
      "\u001b[1m15/15\u001b[0m \u001b[32m━━━━━━━━━━━━━━━━━━━━\u001b[0m\u001b[37m\u001b[0m \u001b[1m0s\u001b[0m 5ms/step - loss: 1.2993e-06 - val_loss: 6.9238e-07\n",
      "Epoch 70/100\n",
      "\u001b[1m15/15\u001b[0m \u001b[32m━━━━━━━━━━━━━━━━━━━━\u001b[0m\u001b[37m\u001b[0m \u001b[1m0s\u001b[0m 5ms/step - loss: 1.1102e-06 - val_loss: 6.8818e-07\n",
      "Epoch 71/100\n",
      "\u001b[1m15/15\u001b[0m \u001b[32m━━━━━━━━━━━━━━━━━━━━\u001b[0m\u001b[37m\u001b[0m \u001b[1m0s\u001b[0m 6ms/step - loss: 1.0795e-06 - val_loss: 8.6602e-07\n",
      "Epoch 72/100\n",
      "\u001b[1m15/15\u001b[0m \u001b[32m━━━━━━━━━━━━━━━━━━━━\u001b[0m\u001b[37m\u001b[0m \u001b[1m0s\u001b[0m 5ms/step - loss: 1.2648e-06 - val_loss: 9.8513e-07\n",
      "Epoch 73/100\n",
      "\u001b[1m15/15\u001b[0m \u001b[32m━━━━━━━━━━━━━━━━━━━━\u001b[0m\u001b[37m\u001b[0m \u001b[1m0s\u001b[0m 5ms/step - loss: 1.0213e-06 - val_loss: 1.1574e-06\n",
      "Epoch 74/100\n",
      "\u001b[1m15/15\u001b[0m \u001b[32m━━━━━━━━━━━━━━━━━━━━\u001b[0m\u001b[37m\u001b[0m \u001b[1m0s\u001b[0m 5ms/step - loss: 1.2041e-06 - val_loss: 6.8349e-07\n",
      "Epoch 75/100\n",
      "\u001b[1m15/15\u001b[0m \u001b[32m━━━━━━━━━━━━━━━━━━━━\u001b[0m\u001b[37m\u001b[0m \u001b[1m0s\u001b[0m 5ms/step - loss: 1.3452e-06 - val_loss: 9.9807e-07\n",
      "Epoch 76/100\n",
      "\u001b[1m15/15\u001b[0m \u001b[32m━━━━━━━━━━━━━━━━━━━━\u001b[0m\u001b[37m\u001b[0m \u001b[1m0s\u001b[0m 5ms/step - loss: 1.0629e-06 - val_loss: 1.2677e-06\n",
      "Epoch 77/100\n",
      "\u001b[1m15/15\u001b[0m \u001b[32m━━━━━━━━━━━━━━━━━━━━\u001b[0m\u001b[37m\u001b[0m \u001b[1m0s\u001b[0m 5ms/step - loss: 1.3732e-06 - val_loss: 9.1389e-07\n",
      "Epoch 78/100\n",
      "\u001b[1m15/15\u001b[0m \u001b[32m━━━━━━━━━━━━━━━━━━━━\u001b[0m\u001b[37m\u001b[0m \u001b[1m0s\u001b[0m 5ms/step - loss: 1.2880e-06 - val_loss: 9.5736e-07\n",
      "Epoch 79/100\n",
      "\u001b[1m15/15\u001b[0m \u001b[32m━━━━━━━━━━━━━━━━━━━━\u001b[0m\u001b[37m\u001b[0m \u001b[1m0s\u001b[0m 5ms/step - loss: 1.1431e-06 - val_loss: 1.2674e-06\n",
      "Epoch 80/100\n",
      "\u001b[1m15/15\u001b[0m \u001b[32m━━━━━━━━━━━━━━━━━━━━\u001b[0m\u001b[37m\u001b[0m \u001b[1m0s\u001b[0m 6ms/step - loss: 1.0858e-06 - val_loss: 8.9182e-07\n",
      "Epoch 81/100\n",
      "\u001b[1m15/15\u001b[0m \u001b[32m━━━━━━━━━━━━━━━━━━━━\u001b[0m\u001b[37m\u001b[0m \u001b[1m0s\u001b[0m 5ms/step - loss: 9.8706e-07 - val_loss: 7.6549e-07\n",
      "Epoch 82/100\n",
      "\u001b[1m15/15\u001b[0m \u001b[32m━━━━━━━━━━━━━━━━━━━━\u001b[0m\u001b[37m\u001b[0m \u001b[1m0s\u001b[0m 5ms/step - loss: 1.1373e-06 - val_loss: 1.2949e-06\n",
      "Epoch 83/100\n",
      "\u001b[1m15/15\u001b[0m \u001b[32m━━━━━━━━━━━━━━━━━━━━\u001b[0m\u001b[37m\u001b[0m \u001b[1m0s\u001b[0m 5ms/step - loss: 1.1118e-06 - val_loss: 8.4595e-07\n",
      "Epoch 84/100\n",
      "\u001b[1m15/15\u001b[0m \u001b[32m━━━━━━━━━━━━━━━━━━━━\u001b[0m\u001b[37m\u001b[0m \u001b[1m0s\u001b[0m 5ms/step - loss: 1.0264e-06 - val_loss: 9.9688e-07\n",
      "Epoch 85/100\n",
      "\u001b[1m15/15\u001b[0m \u001b[32m━━━━━━━━━━━━━━━━━━━━\u001b[0m\u001b[37m\u001b[0m \u001b[1m0s\u001b[0m 5ms/step - loss: 1.0237e-06 - val_loss: 9.6169e-07\n",
      "Epoch 86/100\n",
      "\u001b[1m15/15\u001b[0m \u001b[32m━━━━━━━━━━━━━━━━━━━━\u001b[0m\u001b[37m\u001b[0m \u001b[1m0s\u001b[0m 5ms/step - loss: 1.2185e-06 - val_loss: 1.9294e-06\n",
      "Epoch 87/100\n",
      "\u001b[1m15/15\u001b[0m \u001b[32m━━━━━━━━━━━━━━━━━━━━\u001b[0m\u001b[37m\u001b[0m \u001b[1m0s\u001b[0m 5ms/step - loss: 1.1777e-06 - val_loss: 1.8757e-06\n",
      "Epoch 88/100\n",
      "\u001b[1m15/15\u001b[0m \u001b[32m━━━━━━━━━━━━━━━━━━━━\u001b[0m\u001b[37m\u001b[0m \u001b[1m0s\u001b[0m 5ms/step - loss: 1.2060e-06 - val_loss: 1.1627e-06\n",
      "Epoch 89/100\n",
      "\u001b[1m15/15\u001b[0m \u001b[32m━━━━━━━━━━━━━━━━━━━━\u001b[0m\u001b[37m\u001b[0m \u001b[1m0s\u001b[0m 5ms/step - loss: 1.1593e-06 - val_loss: 1.0700e-06\n",
      "Epoch 90/100\n",
      "\u001b[1m15/15\u001b[0m \u001b[32m━━━━━━━━━━━━━━━━━━━━\u001b[0m\u001b[37m\u001b[0m \u001b[1m0s\u001b[0m 5ms/step - loss: 1.0435e-06 - val_loss: 7.5760e-07\n",
      "Epoch 91/100\n",
      "\u001b[1m15/15\u001b[0m \u001b[32m━━━━━━━━━━━━━━━━━━━━\u001b[0m\u001b[37m\u001b[0m \u001b[1m0s\u001b[0m 5ms/step - loss: 1.0246e-06 - val_loss: 9.2666e-07\n",
      "Epoch 92/100\n",
      "\u001b[1m15/15\u001b[0m \u001b[32m━━━━━━━━━━━━━━━━━━━━\u001b[0m\u001b[37m\u001b[0m \u001b[1m0s\u001b[0m 5ms/step - loss: 1.0534e-06 - val_loss: 8.1402e-07\n",
      "Epoch 93/100\n",
      "\u001b[1m15/15\u001b[0m \u001b[32m━━━━━━━━━━━━━━━━━━━━\u001b[0m\u001b[37m\u001b[0m \u001b[1m0s\u001b[0m 5ms/step - loss: 1.0783e-06 - val_loss: 6.8969e-07\n",
      "Epoch 94/100\n",
      "\u001b[1m15/15\u001b[0m \u001b[32m━━━━━━━━━━━━━━━━━━━━\u001b[0m\u001b[37m\u001b[0m \u001b[1m0s\u001b[0m 5ms/step - loss: 1.0807e-06 - val_loss: 8.4497e-07\n",
      "Epoch 95/100\n",
      "\u001b[1m15/15\u001b[0m \u001b[32m━━━━━━━━━━━━━━━━━━━━\u001b[0m\u001b[37m\u001b[0m \u001b[1m0s\u001b[0m 5ms/step - loss: 1.0037e-06 - val_loss: 7.7387e-07\n",
      "Epoch 96/100\n",
      "\u001b[1m15/15\u001b[0m \u001b[32m━━━━━━━━━━━━━━━━━━━━\u001b[0m\u001b[37m\u001b[0m \u001b[1m0s\u001b[0m 5ms/step - loss: 1.0531e-06 - val_loss: 9.4530e-07\n",
      "Epoch 97/100\n",
      "\u001b[1m15/15\u001b[0m \u001b[32m━━━━━━━━━━━━━━━━━━━━\u001b[0m\u001b[37m\u001b[0m \u001b[1m0s\u001b[0m 5ms/step - loss: 1.0221e-06 - val_loss: 9.7393e-07\n",
      "Epoch 98/100\n",
      "\u001b[1m15/15\u001b[0m \u001b[32m━━━━━━━━━━━━━━━━━━━━\u001b[0m\u001b[37m\u001b[0m \u001b[1m0s\u001b[0m 5ms/step - loss: 1.1477e-06 - val_loss: 9.2213e-07\n",
      "Epoch 99/100\n",
      "\u001b[1m15/15\u001b[0m \u001b[32m━━━━━━━━━━━━━━━━━━━━\u001b[0m\u001b[37m\u001b[0m \u001b[1m0s\u001b[0m 5ms/step - loss: 1.1066e-06 - val_loss: 6.6100e-07\n",
      "Epoch 100/100\n",
      "\u001b[1m15/15\u001b[0m \u001b[32m━━━━━━━━━━━━━━━━━━━━\u001b[0m\u001b[37m\u001b[0m \u001b[1m0s\u001b[0m 6ms/step - loss: 1.0682e-06 - val_loss: 9.0741e-07\n"
     ]
    }
   ],
   "source": [
    "# Тренировка модели\n",
    "trainer_meantemp = TrainModel()\n",
    "trainer_meantemp.build_model_simple_rnn(input_shape=(X_train_meantemp.shape[1], 1))\n",
    "trainer_meantemp.train_model(X_train_meantemp, y_train_meantemp)\n",
    "\n",
    "trainer_humidity = TrainModel()\n",
    "trainer_humidity.build_model_simple_rnn(input_shape=(X_train_humidity.shape[1], 1))\n",
    "trainer_humidity.train_model(X_train_humidity, y_train_humidity)\n",
    "\n",
    "trainer_wind_speed = TrainModel()\n",
    "trainer_wind_speed.build_model_simple_rnn(input_shape=(X_train_wind_speed.shape[1], 1))\n",
    "trainer_wind_speed.train_model(X_train_wind_speed, y_train_wind_speed)\n",
    "\n",
    "trainer_meanpressure = TrainModel()\n",
    "trainer_meanpressure.build_model_simple_rnn(input_shape=(X_train_meanpressure.shape[1], 1))\n",
    "trainer_meanpressure.train_model(X_train_meanpressure, y_train_meanpressure)"
   ]
  },
  {
   "cell_type": "code",
   "execution_count": 8,
   "metadata": {},
   "outputs": [
    {
     "name": "stdout",
     "output_type": "stream",
     "text": [
      "\u001b[1m10/10\u001b[0m \u001b[32m━━━━━━━━━━━━━━━━━━━━\u001b[0m\u001b[37m\u001b[0m \u001b[1m0s\u001b[0m 22ms/step\n",
      "MAPE: 0.3276297405881455%\n",
      "MAE: 0.09628299522588331\n"
     ]
    },
    {
     "data": {
      "application/vnd.plotly.v1+json": {
       "config": {
        "linkText": "Export to plot.ly",
        "plotlyServerURL": "https://plot.ly",
        "showLink": true
       },
       "data": [
        {
         "line": {
          "color": "rgba(255, 153, 51, 1.0)",
          "dash": "solid",
          "shape": "linear",
          "width": 1.3
         },
         "mode": "lines",
         "name": "Actual",
         "text": "",
         "type": "scatter",
         "x": [
          0,
          1,
          2,
          3,
          4,
          5,
          6,
          7,
          8,
          9,
          10,
          11,
          12,
          13,
          14,
          15,
          16,
          17,
          18,
          19,
          20,
          21,
          22,
          23,
          24,
          25,
          26,
          27,
          28,
          29,
          30,
          31,
          32,
          33,
          34,
          35,
          36,
          37,
          38,
          39,
          40,
          41,
          42,
          43,
          44,
          45,
          46,
          47,
          48,
          49,
          50,
          51,
          52,
          53,
          54,
          55,
          56,
          57,
          58,
          59,
          60,
          61,
          62,
          63,
          64,
          65,
          66,
          67,
          68,
          69,
          70,
          71,
          72,
          73,
          74,
          75,
          76,
          77,
          78,
          79,
          80,
          81,
          82,
          83,
          84,
          85,
          86,
          87,
          88,
          89,
          90,
          91,
          92,
          93,
          94,
          95,
          96,
          97,
          98,
          99,
          100,
          101,
          102,
          103,
          104,
          105,
          106,
          107,
          108,
          109,
          110,
          111,
          112,
          113,
          114,
          115,
          116,
          117,
          118,
          119,
          120,
          121,
          122,
          123,
          124,
          125,
          126,
          127,
          128,
          129,
          130,
          131,
          132,
          133,
          134,
          135,
          136,
          137,
          138,
          139,
          140,
          141,
          142,
          143,
          144,
          145,
          146,
          147,
          148,
          149,
          150,
          151,
          152,
          153,
          154,
          155,
          156,
          157,
          158,
          159,
          160,
          161,
          162,
          163,
          164,
          165,
          166,
          167,
          168,
          169,
          170,
          171,
          172,
          173,
          174,
          175,
          176,
          177,
          178,
          179,
          180,
          181,
          182,
          183,
          184,
          185,
          186,
          187,
          188,
          189,
          190,
          191,
          192,
          193,
          194,
          195,
          196,
          197,
          198,
          199,
          200,
          201,
          202,
          203,
          204,
          205,
          206,
          207,
          208,
          209,
          210,
          211,
          212,
          213,
          214,
          215,
          216,
          217,
          218,
          219,
          220,
          221,
          222,
          223,
          224,
          225,
          226,
          227,
          228,
          229,
          230,
          231,
          232,
          233,
          234,
          235,
          236,
          237,
          238,
          239,
          240,
          241,
          242,
          243,
          244,
          245,
          246,
          247,
          248,
          249,
          250,
          251,
          252,
          253,
          254,
          255,
          256,
          257,
          258,
          259,
          260,
          261,
          262,
          263,
          264,
          265,
          266,
          267,
          268,
          269,
          270,
          271,
          272,
          273,
          274,
          275,
          276,
          277,
          278,
          279,
          280,
          281,
          282,
          283,
          284,
          285,
          286,
          287,
          288,
          289,
          290,
          291
         ],
         "y": [
          24.066666666666663,
          23.9375,
          26.3125,
          26.1875,
          26.785714285714285,
          27.133333333333333,
          26.625,
          25.0625,
          26.2,
          28.133333333333333,
          29.875,
          24.666666666666668,
          26.25,
          25.933333333333337,
          27.125,
          29.571428571428573,
          30,
          30.571428571428573,
          32.3125,
          33.3125,
          32.8125,
          32.3125,
          31.375,
          29.933333333333337,
          29.266666666666666,
          30.733333333333334,
          32.25,
          29.8,
          30.2,
          31.75,
          33.125,
          33.625,
          35.6875,
          34.666666666666664,
          34.625,
          34,
          34.0625,
          34,
          33.25,
          31.916666666666668,
          31.3125,
          31.75,
          33.4375,
          33.125,
          34.15384615384615,
          34.07142857142857,
          33.0625,
          34.6875,
          38,
          35.5,
          33.714285714285715,
          30.6,
          31.4375,
          33.3125,
          35.13333333333333,
          33.53333333333333,
          34,
          32.5,
          35.375,
          37.294117647058826,
          36.5625,
          37.25,
          37.214285714285715,
          37.5,
          37.75,
          37.375,
          37.4,
          36.13333333333333,
          36.8,
          32.214285714285715,
          31.526315789473685,
          33.21739130434783,
          35.26923076923077,
          38.27272727272727,
          36.0625,
          31.5,
          26.8125,
          32.642857142857146,
          36,
          37.5625,
          37.5625,
          38.2,
          36.166666666666664,
          35.42857142857143,
          34.625,
          36.07142857142857,
          35.733333333333334,
          36.13333333333333,
          33.4375,
          35.5,
          36,
          32.625,
          34.733333333333334,
          33.5,
          34.1875,
          35.857142857142854,
          35.625,
          30.9375,
          32.875,
          33.125,
          33.84615384615385,
          36.4375,
          35.42857142857143,
          34.86666666666667,
          34.3125,
          30.785714285714285,
          35.375,
          35.46666666666667,
          32.125,
          28.4,
          29.5625,
          30.6875,
          33.25,
          33.266666666666666,
          33.5,
          30.8,
          33.25,
          32.5625,
          31.5,
          30.5,
          31.25,
          30.4375,
          31,
          27.125,
          28.125,
          27.66666666666667,
          32.3125,
          34.1875,
          34.13333333333333,
          34.125,
          31.875,
          31.4375,
          31.9375,
          30.3125,
          28.3125,
          29.533333333333335,
          27.375,
          27.333333333333332,
          29.266666666666666,
          29.125,
          30.6875,
          32.5625,
          33.111111111111114,
          33.8,
          30.066666666666663,
          33.11764705882353,
          33.80952380952381,
          31.615384615384617,
          32,
          28.107142857142858,
          29.035714285714285,
          30.321428571428573,
          28.933333333333337,
          31.678571428571427,
          31.333333333333332,
          29.928571428571427,
          29.88888888888889,
          32.07142857142857,
          33.18518518518518,
          31.59259259259259,
          32.18518518518518,
          31.48,
          30.178571428571427,
          31.52,
          31.22222222222222,
          31.785714285714285,
          33.4,
          29.571428571428573,
          30.04,
          27.25925925925926,
          27.96,
          30.73913043478261,
          30.894736842105264,
          31.692307692307693,
          31.076923076923077,
          30.375,
          31.1,
          31.916666666666668,
          30.555555555555557,
          31.23076923076923,
          31,
          31.642857142857142,
          32.53333333333333,
          30.857142857142858,
          31.727272727272727,
          31.4,
          32.30769230769231,
          32.25,
          32.375,
          33.44444444444444,
          33.36,
          30.03703703703704,
          31,
          31.24,
          31.130434782608695,
          31.48,
          32.18518518518518,
          32.44,
          32.22727272727273,
          32.214285714285715,
          32.541666666666664,
          32.81481481481482,
          33.26923076923077,
          30.555555555555557,
          28.833333333333332,
          30.703703703703702,
          30.96,
          30.6,
          30.92,
          29.77777777777778,
          29.666666666666668,
          29.571428571428573,
          29.96296296296296,
          29.75,
          27.74074074074074,
          28.428571428571427,
          28.6,
          28.5,
          28.925925925925927,
          29.076923076923077,
          28.40909090909091,
          29.333333333333332,
          27.5,
          28.5,
          28.04,
          27.576923076923077,
          26.555555555555557,
          25.51851851851852,
          25.814814814814813,
          24.82608695652174,
          24.53846153846154,
          24.384615384615383,
          23.727272727272727,
          25.64,
          24.814814814814813,
          23.115384615384617,
          22.925925925925927,
          24.545454545454547,
          23.73076923076923,
          23,
          23.51851851851852,
          23.92,
          23.53846153846154,
          24.296296296296298,
          23.346153846153847,
          22.24,
          21.76923076923077,
          21.73076923076923,
          21.73076923076923,
          20.666666666666668,
          22.25,
          21.53846153846154,
          22.57894736842105,
          22.82608695652174,
          21.42105263157895,
          23.6,
          24.294117647058822,
          23.636363636363637,
          22.454545454545453,
          21.61111111111111,
          19.869565217391305,
          19.75,
          19.208333333333332,
          21.208333333333332,
          18.9,
          18.636363636363637,
          18.53846153846154,
          18.25,
          16.9,
          19.416666666666668,
          16.444444444444443,
          20.041666666666668,
          19.90909090909091,
          19.05,
          18.555555555555557,
          18.166666666666668,
          15.833333333333334,
          17.5,
          16.083333333333332,
          17.857142857142858,
          19.8,
          18.05,
          17.285714285714285,
          15.55,
          17.318181818181817,
          14,
          17.142857142857142,
          16.85,
          17.217391304347824,
          15.238095238095235,
          14.095238095238097,
          15.052631578947368
         ]
        },
        {
         "line": {
          "color": "rgba(55, 128, 191, 1.0)",
          "dash": "solid",
          "shape": "linear",
          "width": 1.3
         },
         "mode": "lines",
         "name": "Predicted",
         "text": "",
         "type": "scatter",
         "x": [
          0,
          1,
          2,
          3,
          4,
          5,
          6,
          7,
          8,
          9,
          10,
          11,
          12,
          13,
          14,
          15,
          16,
          17,
          18,
          19,
          20,
          21,
          22,
          23,
          24,
          25,
          26,
          27,
          28,
          29,
          30,
          31,
          32,
          33,
          34,
          35,
          36,
          37,
          38,
          39,
          40,
          41,
          42,
          43,
          44,
          45,
          46,
          47,
          48,
          49,
          50,
          51,
          52,
          53,
          54,
          55,
          56,
          57,
          58,
          59,
          60,
          61,
          62,
          63,
          64,
          65,
          66,
          67,
          68,
          69,
          70,
          71,
          72,
          73,
          74,
          75,
          76,
          77,
          78,
          79,
          80,
          81,
          82,
          83,
          84,
          85,
          86,
          87,
          88,
          89,
          90,
          91,
          92,
          93,
          94,
          95,
          96,
          97,
          98,
          99,
          100,
          101,
          102,
          103,
          104,
          105,
          106,
          107,
          108,
          109,
          110,
          111,
          112,
          113,
          114,
          115,
          116,
          117,
          118,
          119,
          120,
          121,
          122,
          123,
          124,
          125,
          126,
          127,
          128,
          129,
          130,
          131,
          132,
          133,
          134,
          135,
          136,
          137,
          138,
          139,
          140,
          141,
          142,
          143,
          144,
          145,
          146,
          147,
          148,
          149,
          150,
          151,
          152,
          153,
          154,
          155,
          156,
          157,
          158,
          159,
          160,
          161,
          162,
          163,
          164,
          165,
          166,
          167,
          168,
          169,
          170,
          171,
          172,
          173,
          174,
          175,
          176,
          177,
          178,
          179,
          180,
          181,
          182,
          183,
          184,
          185,
          186,
          187,
          188,
          189,
          190,
          191,
          192,
          193,
          194,
          195,
          196,
          197,
          198,
          199,
          200,
          201,
          202,
          203,
          204,
          205,
          206,
          207,
          208,
          209,
          210,
          211,
          212,
          213,
          214,
          215,
          216,
          217,
          218,
          219,
          220,
          221,
          222,
          223,
          224,
          225,
          226,
          227,
          228,
          229,
          230,
          231,
          232,
          233,
          234,
          235,
          236,
          237,
          238,
          239,
          240,
          241,
          242,
          243,
          244,
          245,
          246,
          247,
          248,
          249,
          250,
          251,
          252,
          253,
          254,
          255,
          256,
          257,
          258,
          259,
          260,
          261,
          262,
          263,
          264,
          265,
          266,
          267,
          268,
          269,
          270,
          271,
          272,
          273,
          274,
          275,
          276,
          277,
          278,
          279,
          280,
          281,
          282,
          283,
          284,
          285,
          286,
          287,
          288,
          289,
          290,
          291
         ],
         "y": [
          24.005233764648438,
          23.875688552856445,
          26.200546264648438,
          26.17594337463379,
          26.743812561035156,
          27.15530776977539,
          26.650033950805664,
          25.069169998168945,
          26.14409828186035,
          28.048763275146484,
          29.784381866455078,
          24.629106521606445,
          26.078920364379883,
          25.773902893066406,
          27.09246253967285,
          29.473806381225586,
          29.92861557006836,
          30.59234046936035,
          32.32517623901367,
          33.23381042480469,
          32.78864669799805,
          32.3408317565918,
          31.283817291259766,
          29.758808135986328,
          29.117717742919922,
          30.641040802001953,
          32.17859649658203,
          29.75591468811035,
          30.176815032958984,
          31.758068084716797,
          33.05115509033203,
          33.57943344116211,
          35.62268829345703,
          34.64671325683594,
          34.55727767944336,
          33.93284225463867,
          33.910369873046875,
          33.82555389404297,
          33.0996208190918,
          31.753618240356445,
          31.151235580444336,
          31.601123809814453,
          33.33298873901367,
          33.050724029541016,
          34.081871032714844,
          34.018280029296875,
          32.99570083618164,
          34.561126708984375,
          37.80949020385742,
          35.3613166809082,
          33.72347640991211,
          30.65433120727539,
          31.255552291870117,
          33.01950454711914,
          35.047630310058594,
          33.497283935546875,
          34.000553131103516,
          32.44369125366211,
          35.265357971191406,
          37.09581756591797,
          36.50031280517578,
          37.307891845703125,
          37.08059310913086,
          37.31081008911133,
          37.54151916503906,
          37.164432525634766,
          37.184104919433594,
          35.91387939453125,
          36.566993713378906,
          31.86915397644043,
          31.323928833007812,
          32.973941802978516,
          35.161434173583984,
          38.07530212402344,
          36.038333892822266,
          31.329368591308594,
          27.487075805664062,
          32.979496002197266,
          36.0915641784668,
          37.19451904296875,
          37.27299880981445,
          37.8797492980957,
          36.04603576660156,
          35.233253479003906,
          34.3884391784668,
          35.85029602050781,
          35.48796081542969,
          36.01420974731445,
          33.2028923034668,
          35.41132736206055,
          35.780052185058594,
          32.266178131103516,
          34.751953125,
          33.300716400146484,
          34.07806396484375,
          35.73495101928711,
          35.50027847290039,
          30.694141387939453,
          32.847110748291016,
          32.88160705566406,
          33.7635383605957,
          36.337711334228516,
          35.2967643737793,
          34.83049774169922,
          34.273597717285156,
          30.523921966552734,
          35.41215515136719,
          35.11603546142578,
          31.923307418823242,
          28.368757247924805,
          29.313199996948242,
          30.457143783569336,
          33.268402099609375,
          33.19755935668945,
          33.48126983642578,
          30.788284301757812,
          33.200111389160156,
          32.406856536865234,
          31.43978500366211,
          30.39335823059082,
          31.137983322143555,
          30.31460189819336,
          30.911733627319336,
          26.967676162719727,
          28.00286293029785,
          27.42365264892578,
          32.340450286865234,
          33.894100189208984,
          33.92301559448242,
          34.03998565673828,
          31.899423599243164,
          31.32127571105957,
          31.795726776123047,
          30.1254825592041,
          28.20380210876465,
          29.514196395874023,
          27.228219985961914,
          27.2410888671875,
          29.162145614624023,
          29.12543296813965,
          30.623769760131836,
          32.56991195678711,
          33.055728912353516,
          33.795108795166016,
          29.9556827545166,
          33.112491607666016,
          33.579002380371094,
          31.534835815429688,
          32.0130500793457,
          27.943084716796875,
          28.846698760986328,
          30.09528160095215,
          28.93179702758789,
          31.605575561523438,
          31.353933334350586,
          29.936939239501953,
          29.88823890686035,
          31.9921932220459,
          33.10816955566406,
          31.596378326416016,
          32.19740295410156,
          31.42616081237793,
          30.05587387084961,
          31.439102172851562,
          31.142269134521484,
          31.73468017578125,
          33.33715057373047,
          29.31684112548828,
          30.005128860473633,
          27.228063583374023,
          27.846818923950195,
          30.639860153198242,
          30.850122451782227,
          31.668495178222656,
          31.164592742919922,
          30.335491180419922,
          31.02031707763672,
          31.83828353881836,
          30.513132095336914,
          31.1335391998291,
          30.928083419799805,
          31.57145881652832,
          32.45866394042969,
          30.815902709960938,
          31.638084411621094,
          31.31342124938965,
          32.22676086425781,
          32.16651916503906,
          32.31069564819336,
          33.34296417236328,
          33.26496887207031,
          29.80845832824707,
          30.938034057617188,
          31.11594009399414,
          31.062162399291992,
          31.39359474182129,
          32.11238479614258,
          32.37300491333008,
          32.169349670410156,
          32.126102447509766,
          32.43842697143555,
          32.71025466918945,
          33.164825439453125,
          30.320568084716797,
          28.771005630493164,
          30.705942153930664,
          30.877227783203125,
          30.577388763427734,
          30.906675338745117,
          29.75446128845215,
          29.580657958984375,
          29.474515914916992,
          29.88064193725586,
          29.702367782592773,
          27.631845474243164,
          28.36324691772461,
          28.514028549194336,
          28.47270393371582,
          28.853740692138672,
          29.056854248046875,
          28.396888732910156,
          29.26233673095703,
          27.49407958984375,
          28.42732048034668,
          27.969127655029297,
          27.575883865356445,
          26.458538055419922,
          25.454092025756836,
          25.72859001159668,
          24.743011474609375,
          24.474252700805664,
          24.280071258544922,
          23.7071590423584,
          25.55255699157715,
          24.837114334106445,
          23.18415069580078,
          22.955095291137695,
          24.45668601989746,
          23.746173858642578,
          23.039880752563477,
          23.531681060791016,
          23.90258026123047,
          23.56852149963379,
          24.23653221130371,
          23.42551612854004,
          22.30147933959961,
          21.78994369506836,
          21.732986450195312,
          21.712793350219727,
          20.61212158203125,
          22.240997314453125,
          21.58819007873535,
          22.566299438476562,
          22.856632232666016,
          21.440210342407227,
          23.56563377380371,
          24.260934829711914,
          23.669198989868164,
          22.559587478637695,
          21.739198684692383,
          19.960052490234375,
          19.785717010498047,
          19.159931182861328,
          21.248685836791992,
          18.764278411865234,
          18.670358657836914,
          18.556386947631836,
          18.208206176757812,
          16.90415382385254,
          19.41512680053711,
          16.37273597717285,
          19.908416748046875,
          19.790138244628906,
          18.923765182495117,
          18.508445739746094,
          18.135210037231445,
          15.802995681762695,
          17.382585525512695,
          16.13602066040039,
          17.71354103088379,
          19.782711029052734,
          18.03270721435547,
          17.234825134277344,
          15.637343406677246,
          17.42145538330078,
          13.982492446899414,
          16.978473663330078,
          17.005632400512695,
          17.30296516418457,
          15.16469955444336,
          14.171588897705078,
          15.23431396484375
         ]
        }
       ],
       "layout": {
        "legend": {
         "bgcolor": "#151516",
         "font": {
          "color": "#D9D9D9"
         }
        },
        "paper_bgcolor": "#151516",
        "plot_bgcolor": "#151516",
        "template": {
         "data": {
          "bar": [
           {
            "error_x": {
             "color": "#2a3f5f"
            },
            "error_y": {
             "color": "#2a3f5f"
            },
            "marker": {
             "line": {
              "color": "#E5ECF6",
              "width": 0.5
             },
             "pattern": {
              "fillmode": "overlay",
              "size": 10,
              "solidity": 0.2
             }
            },
            "type": "bar"
           }
          ],
          "barpolar": [
           {
            "marker": {
             "line": {
              "color": "#E5ECF6",
              "width": 0.5
             },
             "pattern": {
              "fillmode": "overlay",
              "size": 10,
              "solidity": 0.2
             }
            },
            "type": "barpolar"
           }
          ],
          "carpet": [
           {
            "aaxis": {
             "endlinecolor": "#2a3f5f",
             "gridcolor": "white",
             "linecolor": "white",
             "minorgridcolor": "white",
             "startlinecolor": "#2a3f5f"
            },
            "baxis": {
             "endlinecolor": "#2a3f5f",
             "gridcolor": "white",
             "linecolor": "white",
             "minorgridcolor": "white",
             "startlinecolor": "#2a3f5f"
            },
            "type": "carpet"
           }
          ],
          "choropleth": [
           {
            "colorbar": {
             "outlinewidth": 0,
             "ticks": ""
            },
            "type": "choropleth"
           }
          ],
          "contour": [
           {
            "colorbar": {
             "outlinewidth": 0,
             "ticks": ""
            },
            "colorscale": [
             [
              0,
              "#0d0887"
             ],
             [
              0.1111111111111111,
              "#46039f"
             ],
             [
              0.2222222222222222,
              "#7201a8"
             ],
             [
              0.3333333333333333,
              "#9c179e"
             ],
             [
              0.4444444444444444,
              "#bd3786"
             ],
             [
              0.5555555555555556,
              "#d8576b"
             ],
             [
              0.6666666666666666,
              "#ed7953"
             ],
             [
              0.7777777777777778,
              "#fb9f3a"
             ],
             [
              0.8888888888888888,
              "#fdca26"
             ],
             [
              1,
              "#f0f921"
             ]
            ],
            "type": "contour"
           }
          ],
          "contourcarpet": [
           {
            "colorbar": {
             "outlinewidth": 0,
             "ticks": ""
            },
            "type": "contourcarpet"
           }
          ],
          "heatmap": [
           {
            "colorbar": {
             "outlinewidth": 0,
             "ticks": ""
            },
            "colorscale": [
             [
              0,
              "#0d0887"
             ],
             [
              0.1111111111111111,
              "#46039f"
             ],
             [
              0.2222222222222222,
              "#7201a8"
             ],
             [
              0.3333333333333333,
              "#9c179e"
             ],
             [
              0.4444444444444444,
              "#bd3786"
             ],
             [
              0.5555555555555556,
              "#d8576b"
             ],
             [
              0.6666666666666666,
              "#ed7953"
             ],
             [
              0.7777777777777778,
              "#fb9f3a"
             ],
             [
              0.8888888888888888,
              "#fdca26"
             ],
             [
              1,
              "#f0f921"
             ]
            ],
            "type": "heatmap"
           }
          ],
          "heatmapgl": [
           {
            "colorbar": {
             "outlinewidth": 0,
             "ticks": ""
            },
            "colorscale": [
             [
              0,
              "#0d0887"
             ],
             [
              0.1111111111111111,
              "#46039f"
             ],
             [
              0.2222222222222222,
              "#7201a8"
             ],
             [
              0.3333333333333333,
              "#9c179e"
             ],
             [
              0.4444444444444444,
              "#bd3786"
             ],
             [
              0.5555555555555556,
              "#d8576b"
             ],
             [
              0.6666666666666666,
              "#ed7953"
             ],
             [
              0.7777777777777778,
              "#fb9f3a"
             ],
             [
              0.8888888888888888,
              "#fdca26"
             ],
             [
              1,
              "#f0f921"
             ]
            ],
            "type": "heatmapgl"
           }
          ],
          "histogram": [
           {
            "marker": {
             "pattern": {
              "fillmode": "overlay",
              "size": 10,
              "solidity": 0.2
             }
            },
            "type": "histogram"
           }
          ],
          "histogram2d": [
           {
            "colorbar": {
             "outlinewidth": 0,
             "ticks": ""
            },
            "colorscale": [
             [
              0,
              "#0d0887"
             ],
             [
              0.1111111111111111,
              "#46039f"
             ],
             [
              0.2222222222222222,
              "#7201a8"
             ],
             [
              0.3333333333333333,
              "#9c179e"
             ],
             [
              0.4444444444444444,
              "#bd3786"
             ],
             [
              0.5555555555555556,
              "#d8576b"
             ],
             [
              0.6666666666666666,
              "#ed7953"
             ],
             [
              0.7777777777777778,
              "#fb9f3a"
             ],
             [
              0.8888888888888888,
              "#fdca26"
             ],
             [
              1,
              "#f0f921"
             ]
            ],
            "type": "histogram2d"
           }
          ],
          "histogram2dcontour": [
           {
            "colorbar": {
             "outlinewidth": 0,
             "ticks": ""
            },
            "colorscale": [
             [
              0,
              "#0d0887"
             ],
             [
              0.1111111111111111,
              "#46039f"
             ],
             [
              0.2222222222222222,
              "#7201a8"
             ],
             [
              0.3333333333333333,
              "#9c179e"
             ],
             [
              0.4444444444444444,
              "#bd3786"
             ],
             [
              0.5555555555555556,
              "#d8576b"
             ],
             [
              0.6666666666666666,
              "#ed7953"
             ],
             [
              0.7777777777777778,
              "#fb9f3a"
             ],
             [
              0.8888888888888888,
              "#fdca26"
             ],
             [
              1,
              "#f0f921"
             ]
            ],
            "type": "histogram2dcontour"
           }
          ],
          "mesh3d": [
           {
            "colorbar": {
             "outlinewidth": 0,
             "ticks": ""
            },
            "type": "mesh3d"
           }
          ],
          "parcoords": [
           {
            "line": {
             "colorbar": {
              "outlinewidth": 0,
              "ticks": ""
             }
            },
            "type": "parcoords"
           }
          ],
          "pie": [
           {
            "automargin": true,
            "type": "pie"
           }
          ],
          "scatter": [
           {
            "fillpattern": {
             "fillmode": "overlay",
             "size": 10,
             "solidity": 0.2
            },
            "type": "scatter"
           }
          ],
          "scatter3d": [
           {
            "line": {
             "colorbar": {
              "outlinewidth": 0,
              "ticks": ""
             }
            },
            "marker": {
             "colorbar": {
              "outlinewidth": 0,
              "ticks": ""
             }
            },
            "type": "scatter3d"
           }
          ],
          "scattercarpet": [
           {
            "marker": {
             "colorbar": {
              "outlinewidth": 0,
              "ticks": ""
             }
            },
            "type": "scattercarpet"
           }
          ],
          "scattergeo": [
           {
            "marker": {
             "colorbar": {
              "outlinewidth": 0,
              "ticks": ""
             }
            },
            "type": "scattergeo"
           }
          ],
          "scattergl": [
           {
            "marker": {
             "colorbar": {
              "outlinewidth": 0,
              "ticks": ""
             }
            },
            "type": "scattergl"
           }
          ],
          "scattermapbox": [
           {
            "marker": {
             "colorbar": {
              "outlinewidth": 0,
              "ticks": ""
             }
            },
            "type": "scattermapbox"
           }
          ],
          "scatterpolar": [
           {
            "marker": {
             "colorbar": {
              "outlinewidth": 0,
              "ticks": ""
             }
            },
            "type": "scatterpolar"
           }
          ],
          "scatterpolargl": [
           {
            "marker": {
             "colorbar": {
              "outlinewidth": 0,
              "ticks": ""
             }
            },
            "type": "scatterpolargl"
           }
          ],
          "scatterternary": [
           {
            "marker": {
             "colorbar": {
              "outlinewidth": 0,
              "ticks": ""
             }
            },
            "type": "scatterternary"
           }
          ],
          "surface": [
           {
            "colorbar": {
             "outlinewidth": 0,
             "ticks": ""
            },
            "colorscale": [
             [
              0,
              "#0d0887"
             ],
             [
              0.1111111111111111,
              "#46039f"
             ],
             [
              0.2222222222222222,
              "#7201a8"
             ],
             [
              0.3333333333333333,
              "#9c179e"
             ],
             [
              0.4444444444444444,
              "#bd3786"
             ],
             [
              0.5555555555555556,
              "#d8576b"
             ],
             [
              0.6666666666666666,
              "#ed7953"
             ],
             [
              0.7777777777777778,
              "#fb9f3a"
             ],
             [
              0.8888888888888888,
              "#fdca26"
             ],
             [
              1,
              "#f0f921"
             ]
            ],
            "type": "surface"
           }
          ],
          "table": [
           {
            "cells": {
             "fill": {
              "color": "#EBF0F8"
             },
             "line": {
              "color": "white"
             }
            },
            "header": {
             "fill": {
              "color": "#C8D4E3"
             },
             "line": {
              "color": "white"
             }
            },
            "type": "table"
           }
          ]
         },
         "layout": {
          "annotationdefaults": {
           "arrowcolor": "#2a3f5f",
           "arrowhead": 0,
           "arrowwidth": 1
          },
          "autotypenumbers": "strict",
          "coloraxis": {
           "colorbar": {
            "outlinewidth": 0,
            "ticks": ""
           }
          },
          "colorscale": {
           "diverging": [
            [
             0,
             "#8e0152"
            ],
            [
             0.1,
             "#c51b7d"
            ],
            [
             0.2,
             "#de77ae"
            ],
            [
             0.3,
             "#f1b6da"
            ],
            [
             0.4,
             "#fde0ef"
            ],
            [
             0.5,
             "#f7f7f7"
            ],
            [
             0.6,
             "#e6f5d0"
            ],
            [
             0.7,
             "#b8e186"
            ],
            [
             0.8,
             "#7fbc41"
            ],
            [
             0.9,
             "#4d9221"
            ],
            [
             1,
             "#276419"
            ]
           ],
           "sequential": [
            [
             0,
             "#0d0887"
            ],
            [
             0.1111111111111111,
             "#46039f"
            ],
            [
             0.2222222222222222,
             "#7201a8"
            ],
            [
             0.3333333333333333,
             "#9c179e"
            ],
            [
             0.4444444444444444,
             "#bd3786"
            ],
            [
             0.5555555555555556,
             "#d8576b"
            ],
            [
             0.6666666666666666,
             "#ed7953"
            ],
            [
             0.7777777777777778,
             "#fb9f3a"
            ],
            [
             0.8888888888888888,
             "#fdca26"
            ],
            [
             1,
             "#f0f921"
            ]
           ],
           "sequentialminus": [
            [
             0,
             "#0d0887"
            ],
            [
             0.1111111111111111,
             "#46039f"
            ],
            [
             0.2222222222222222,
             "#7201a8"
            ],
            [
             0.3333333333333333,
             "#9c179e"
            ],
            [
             0.4444444444444444,
             "#bd3786"
            ],
            [
             0.5555555555555556,
             "#d8576b"
            ],
            [
             0.6666666666666666,
             "#ed7953"
            ],
            [
             0.7777777777777778,
             "#fb9f3a"
            ],
            [
             0.8888888888888888,
             "#fdca26"
            ],
            [
             1,
             "#f0f921"
            ]
           ]
          },
          "colorway": [
           "#636efa",
           "#EF553B",
           "#00cc96",
           "#ab63fa",
           "#FFA15A",
           "#19d3f3",
           "#FF6692",
           "#B6E880",
           "#FF97FF",
           "#FECB52"
          ],
          "font": {
           "color": "#2a3f5f"
          },
          "geo": {
           "bgcolor": "white",
           "lakecolor": "white",
           "landcolor": "#E5ECF6",
           "showlakes": true,
           "showland": true,
           "subunitcolor": "white"
          },
          "hoverlabel": {
           "align": "left"
          },
          "hovermode": "closest",
          "mapbox": {
           "style": "light"
          },
          "paper_bgcolor": "white",
          "plot_bgcolor": "#E5ECF6",
          "polar": {
           "angularaxis": {
            "gridcolor": "white",
            "linecolor": "white",
            "ticks": ""
           },
           "bgcolor": "#E5ECF6",
           "radialaxis": {
            "gridcolor": "white",
            "linecolor": "white",
            "ticks": ""
           }
          },
          "scene": {
           "xaxis": {
            "backgroundcolor": "#E5ECF6",
            "gridcolor": "white",
            "gridwidth": 2,
            "linecolor": "white",
            "showbackground": true,
            "ticks": "",
            "zerolinecolor": "white"
           },
           "yaxis": {
            "backgroundcolor": "#E5ECF6",
            "gridcolor": "white",
            "gridwidth": 2,
            "linecolor": "white",
            "showbackground": true,
            "ticks": "",
            "zerolinecolor": "white"
           },
           "zaxis": {
            "backgroundcolor": "#E5ECF6",
            "gridcolor": "white",
            "gridwidth": 2,
            "linecolor": "white",
            "showbackground": true,
            "ticks": "",
            "zerolinecolor": "white"
           }
          },
          "shapedefaults": {
           "line": {
            "color": "#2a3f5f"
           }
          },
          "ternary": {
           "aaxis": {
            "gridcolor": "white",
            "linecolor": "white",
            "ticks": ""
           },
           "baxis": {
            "gridcolor": "white",
            "linecolor": "white",
            "ticks": ""
           },
           "bgcolor": "#E5ECF6",
           "caxis": {
            "gridcolor": "white",
            "linecolor": "white",
            "ticks": ""
           }
          },
          "title": {
           "x": 0.05
          },
          "xaxis": {
           "automargin": true,
           "gridcolor": "white",
           "linecolor": "white",
           "ticks": "",
           "title": {
            "standoff": 15
           },
           "zerolinecolor": "white",
           "zerolinewidth": 2
          },
          "yaxis": {
           "automargin": true,
           "gridcolor": "white",
           "linecolor": "white",
           "ticks": "",
           "title": {
            "standoff": 15
           },
           "zerolinecolor": "white",
           "zerolinewidth": 2
          }
         }
        },
        "title": {
         "font": {
          "color": "#D9D9D9"
         },
         "text": "Прогноз vs Реальные значения (Тест) для meantemp"
        },
        "xaxis": {
         "gridcolor": "#434343",
         "showgrid": true,
         "tickfont": {
          "color": "#C2C2C2"
         },
         "title": {
          "font": {
           "color": "#D9D9D9"
          },
          "text": "Время"
         },
         "zerolinecolor": "#666570"
        },
        "yaxis": {
         "gridcolor": "#434343",
         "showgrid": true,
         "tickfont": {
          "color": "#C2C2C2"
         },
         "title": {
          "font": {
           "color": "#D9D9D9"
          },
          "text": "Значение"
         },
         "zerolinecolor": "#666570"
        }
       }
      },
      "text/html": [
       "<div>                            <div id=\"e8ce0076-4504-468e-a9dc-ff2008be03fb\" class=\"plotly-graph-div\" style=\"height:525px; width:100%;\"></div>            <script type=\"text/javascript\">                require([\"plotly\"], function(Plotly) {                    window.PLOTLYENV=window.PLOTLYENV || {};\n",
       "                    window.PLOTLYENV.BASE_URL='https://plot.ly';                                    if (document.getElementById(\"e8ce0076-4504-468e-a9dc-ff2008be03fb\")) {                    Plotly.newPlot(                        \"e8ce0076-4504-468e-a9dc-ff2008be03fb\",                        [{\"line\":{\"color\":\"rgba(255, 153, 51, 1.0)\",\"dash\":\"solid\",\"shape\":\"linear\",\"width\":1.3},\"mode\":\"lines\",\"name\":\"Actual\",\"text\":\"\",\"x\":[0,1,2,3,4,5,6,7,8,9,10,11,12,13,14,15,16,17,18,19,20,21,22,23,24,25,26,27,28,29,30,31,32,33,34,35,36,37,38,39,40,41,42,43,44,45,46,47,48,49,50,51,52,53,54,55,56,57,58,59,60,61,62,63,64,65,66,67,68,69,70,71,72,73,74,75,76,77,78,79,80,81,82,83,84,85,86,87,88,89,90,91,92,93,94,95,96,97,98,99,100,101,102,103,104,105,106,107,108,109,110,111,112,113,114,115,116,117,118,119,120,121,122,123,124,125,126,127,128,129,130,131,132,133,134,135,136,137,138,139,140,141,142,143,144,145,146,147,148,149,150,151,152,153,154,155,156,157,158,159,160,161,162,163,164,165,166,167,168,169,170,171,172,173,174,175,176,177,178,179,180,181,182,183,184,185,186,187,188,189,190,191,192,193,194,195,196,197,198,199,200,201,202,203,204,205,206,207,208,209,210,211,212,213,214,215,216,217,218,219,220,221,222,223,224,225,226,227,228,229,230,231,232,233,234,235,236,237,238,239,240,241,242,243,244,245,246,247,248,249,250,251,252,253,254,255,256,257,258,259,260,261,262,263,264,265,266,267,268,269,270,271,272,273,274,275,276,277,278,279,280,281,282,283,284,285,286,287,288,289,290,291],\"y\":[24.066666666666663,23.9375,26.3125,26.1875,26.785714285714285,27.133333333333333,26.625,25.0625,26.2,28.133333333333333,29.875,24.666666666666668,26.25,25.933333333333337,27.125,29.571428571428573,30.0,30.571428571428573,32.3125,33.3125,32.8125,32.3125,31.375,29.933333333333337,29.266666666666666,30.733333333333334,32.25,29.8,30.2,31.75,33.125,33.625,35.6875,34.666666666666664,34.625,34.0,34.0625,34.0,33.25,31.916666666666668,31.3125,31.75,33.4375,33.125,34.15384615384615,34.07142857142857,33.0625,34.6875,38.0,35.5,33.714285714285715,30.6,31.4375,33.3125,35.13333333333333,33.53333333333333,34.0,32.5,35.375,37.294117647058826,36.5625,37.25,37.214285714285715,37.5,37.75,37.375,37.4,36.13333333333333,36.8,32.214285714285715,31.526315789473685,33.21739130434783,35.26923076923077,38.27272727272727,36.0625,31.5,26.8125,32.642857142857146,36.0,37.5625,37.5625,38.2,36.166666666666664,35.42857142857143,34.625,36.07142857142857,35.733333333333334,36.13333333333333,33.4375,35.5,36.0,32.625,34.733333333333334,33.5,34.1875,35.857142857142854,35.625,30.9375,32.875,33.125,33.84615384615385,36.4375,35.42857142857143,34.86666666666667,34.3125,30.785714285714285,35.375,35.46666666666667,32.125,28.4,29.5625,30.6875,33.25,33.266666666666666,33.5,30.8,33.25,32.5625,31.5,30.5,31.25,30.4375,31.0,27.125,28.125,27.66666666666667,32.3125,34.1875,34.13333333333333,34.125,31.875,31.4375,31.9375,30.3125,28.3125,29.533333333333335,27.375,27.333333333333332,29.266666666666666,29.125,30.6875,32.5625,33.111111111111114,33.8,30.066666666666663,33.11764705882353,33.80952380952381,31.615384615384617,32.0,28.107142857142858,29.035714285714285,30.321428571428573,28.933333333333337,31.678571428571427,31.333333333333332,29.928571428571427,29.88888888888889,32.07142857142857,33.18518518518518,31.59259259259259,32.18518518518518,31.48,30.178571428571427,31.52,31.22222222222222,31.785714285714285,33.4,29.571428571428573,30.04,27.25925925925926,27.96,30.73913043478261,30.894736842105264,31.692307692307693,31.076923076923077,30.375,31.1,31.916666666666668,30.555555555555557,31.23076923076923,31.0,31.642857142857142,32.53333333333333,30.857142857142858,31.727272727272727,31.4,32.30769230769231,32.25,32.375,33.44444444444444,33.36,30.03703703703704,31.0,31.24,31.130434782608695,31.48,32.18518518518518,32.44,32.22727272727273,32.214285714285715,32.541666666666664,32.81481481481482,33.26923076923077,30.555555555555557,28.833333333333332,30.703703703703702,30.96,30.6,30.92,29.77777777777778,29.666666666666668,29.571428571428573,29.96296296296296,29.75,27.74074074074074,28.428571428571427,28.6,28.5,28.925925925925927,29.076923076923077,28.40909090909091,29.333333333333332,27.5,28.5,28.04,27.576923076923077,26.555555555555557,25.51851851851852,25.814814814814813,24.82608695652174,24.53846153846154,24.384615384615383,23.727272727272727,25.64,24.814814814814813,23.115384615384617,22.925925925925927,24.545454545454547,23.73076923076923,23.0,23.51851851851852,23.92,23.53846153846154,24.296296296296298,23.346153846153847,22.24,21.76923076923077,21.73076923076923,21.73076923076923,20.666666666666668,22.25,21.53846153846154,22.57894736842105,22.82608695652174,21.42105263157895,23.6,24.294117647058822,23.636363636363637,22.454545454545453,21.61111111111111,19.869565217391305,19.75,19.208333333333332,21.208333333333332,18.9,18.636363636363637,18.53846153846154,18.25,16.9,19.416666666666668,16.444444444444443,20.041666666666668,19.90909090909091,19.05,18.555555555555557,18.166666666666668,15.833333333333334,17.5,16.083333333333332,17.857142857142858,19.8,18.05,17.285714285714285,15.55,17.318181818181817,14.0,17.142857142857142,16.85,17.217391304347824,15.238095238095235,14.095238095238097,15.052631578947368],\"type\":\"scatter\"},{\"line\":{\"color\":\"rgba(55, 128, 191, 1.0)\",\"dash\":\"solid\",\"shape\":\"linear\",\"width\":1.3},\"mode\":\"lines\",\"name\":\"Predicted\",\"text\":\"\",\"x\":[0,1,2,3,4,5,6,7,8,9,10,11,12,13,14,15,16,17,18,19,20,21,22,23,24,25,26,27,28,29,30,31,32,33,34,35,36,37,38,39,40,41,42,43,44,45,46,47,48,49,50,51,52,53,54,55,56,57,58,59,60,61,62,63,64,65,66,67,68,69,70,71,72,73,74,75,76,77,78,79,80,81,82,83,84,85,86,87,88,89,90,91,92,93,94,95,96,97,98,99,100,101,102,103,104,105,106,107,108,109,110,111,112,113,114,115,116,117,118,119,120,121,122,123,124,125,126,127,128,129,130,131,132,133,134,135,136,137,138,139,140,141,142,143,144,145,146,147,148,149,150,151,152,153,154,155,156,157,158,159,160,161,162,163,164,165,166,167,168,169,170,171,172,173,174,175,176,177,178,179,180,181,182,183,184,185,186,187,188,189,190,191,192,193,194,195,196,197,198,199,200,201,202,203,204,205,206,207,208,209,210,211,212,213,214,215,216,217,218,219,220,221,222,223,224,225,226,227,228,229,230,231,232,233,234,235,236,237,238,239,240,241,242,243,244,245,246,247,248,249,250,251,252,253,254,255,256,257,258,259,260,261,262,263,264,265,266,267,268,269,270,271,272,273,274,275,276,277,278,279,280,281,282,283,284,285,286,287,288,289,290,291],\"y\":[24.005233764648438,23.875688552856445,26.200546264648438,26.17594337463379,26.743812561035156,27.15530776977539,26.650033950805664,25.069169998168945,26.14409828186035,28.048763275146484,29.784381866455078,24.629106521606445,26.078920364379883,25.773902893066406,27.09246253967285,29.473806381225586,29.92861557006836,30.59234046936035,32.32517623901367,33.23381042480469,32.78864669799805,32.3408317565918,31.283817291259766,29.758808135986328,29.117717742919922,30.641040802001953,32.17859649658203,29.75591468811035,30.176815032958984,31.758068084716797,33.05115509033203,33.57943344116211,35.62268829345703,34.64671325683594,34.55727767944336,33.93284225463867,33.910369873046875,33.82555389404297,33.0996208190918,31.753618240356445,31.151235580444336,31.601123809814453,33.33298873901367,33.050724029541016,34.081871032714844,34.018280029296875,32.99570083618164,34.561126708984375,37.80949020385742,35.3613166809082,33.72347640991211,30.65433120727539,31.255552291870117,33.01950454711914,35.047630310058594,33.497283935546875,34.000553131103516,32.44369125366211,35.265357971191406,37.09581756591797,36.50031280517578,37.307891845703125,37.08059310913086,37.31081008911133,37.54151916503906,37.164432525634766,37.184104919433594,35.91387939453125,36.566993713378906,31.86915397644043,31.323928833007812,32.973941802978516,35.161434173583984,38.07530212402344,36.038333892822266,31.329368591308594,27.487075805664062,32.979496002197266,36.0915641784668,37.19451904296875,37.27299880981445,37.8797492980957,36.04603576660156,35.233253479003906,34.3884391784668,35.85029602050781,35.48796081542969,36.01420974731445,33.2028923034668,35.41132736206055,35.780052185058594,32.266178131103516,34.751953125,33.300716400146484,34.07806396484375,35.73495101928711,35.50027847290039,30.694141387939453,32.847110748291016,32.88160705566406,33.7635383605957,36.337711334228516,35.2967643737793,34.83049774169922,34.273597717285156,30.523921966552734,35.41215515136719,35.11603546142578,31.923307418823242,28.368757247924805,29.313199996948242,30.457143783569336,33.268402099609375,33.19755935668945,33.48126983642578,30.788284301757812,33.200111389160156,32.406856536865234,31.43978500366211,30.39335823059082,31.137983322143555,30.31460189819336,30.911733627319336,26.967676162719727,28.00286293029785,27.42365264892578,32.340450286865234,33.894100189208984,33.92301559448242,34.03998565673828,31.899423599243164,31.32127571105957,31.795726776123047,30.1254825592041,28.20380210876465,29.514196395874023,27.228219985961914,27.2410888671875,29.162145614624023,29.12543296813965,30.623769760131836,32.56991195678711,33.055728912353516,33.795108795166016,29.9556827545166,33.112491607666016,33.579002380371094,31.534835815429688,32.0130500793457,27.943084716796875,28.846698760986328,30.09528160095215,28.93179702758789,31.605575561523438,31.353933334350586,29.936939239501953,29.88823890686035,31.9921932220459,33.10816955566406,31.596378326416016,32.19740295410156,31.42616081237793,30.05587387084961,31.439102172851562,31.142269134521484,31.73468017578125,33.33715057373047,29.31684112548828,30.005128860473633,27.228063583374023,27.846818923950195,30.639860153198242,30.850122451782227,31.668495178222656,31.164592742919922,30.335491180419922,31.02031707763672,31.83828353881836,30.513132095336914,31.1335391998291,30.928083419799805,31.57145881652832,32.45866394042969,30.815902709960938,31.638084411621094,31.31342124938965,32.22676086425781,32.16651916503906,32.31069564819336,33.34296417236328,33.26496887207031,29.80845832824707,30.938034057617188,31.11594009399414,31.062162399291992,31.39359474182129,32.11238479614258,32.37300491333008,32.169349670410156,32.126102447509766,32.43842697143555,32.71025466918945,33.164825439453125,30.320568084716797,28.771005630493164,30.705942153930664,30.877227783203125,30.577388763427734,30.906675338745117,29.75446128845215,29.580657958984375,29.474515914916992,29.88064193725586,29.702367782592773,27.631845474243164,28.36324691772461,28.514028549194336,28.47270393371582,28.853740692138672,29.056854248046875,28.396888732910156,29.26233673095703,27.49407958984375,28.42732048034668,27.969127655029297,27.575883865356445,26.458538055419922,25.454092025756836,25.72859001159668,24.743011474609375,24.474252700805664,24.280071258544922,23.7071590423584,25.55255699157715,24.837114334106445,23.18415069580078,22.955095291137695,24.45668601989746,23.746173858642578,23.039880752563477,23.531681060791016,23.90258026123047,23.56852149963379,24.23653221130371,23.42551612854004,22.30147933959961,21.78994369506836,21.732986450195312,21.712793350219727,20.61212158203125,22.240997314453125,21.58819007873535,22.566299438476562,22.856632232666016,21.440210342407227,23.56563377380371,24.260934829711914,23.669198989868164,22.559587478637695,21.739198684692383,19.960052490234375,19.785717010498047,19.159931182861328,21.248685836791992,18.764278411865234,18.670358657836914,18.556386947631836,18.208206176757812,16.90415382385254,19.41512680053711,16.37273597717285,19.908416748046875,19.790138244628906,18.923765182495117,18.508445739746094,18.135210037231445,15.802995681762695,17.382585525512695,16.13602066040039,17.71354103088379,19.782711029052734,18.03270721435547,17.234825134277344,15.637343406677246,17.42145538330078,13.982492446899414,16.978473663330078,17.005632400512695,17.30296516418457,15.16469955444336,14.171588897705078,15.23431396484375],\"type\":\"scatter\"}],                        {\"legend\":{\"bgcolor\":\"#151516\",\"font\":{\"color\":\"#D9D9D9\"}},\"paper_bgcolor\":\"#151516\",\"plot_bgcolor\":\"#151516\",\"template\":{\"data\":{\"barpolar\":[{\"marker\":{\"line\":{\"color\":\"#E5ECF6\",\"width\":0.5},\"pattern\":{\"fillmode\":\"overlay\",\"size\":10,\"solidity\":0.2}},\"type\":\"barpolar\"}],\"bar\":[{\"error_x\":{\"color\":\"#2a3f5f\"},\"error_y\":{\"color\":\"#2a3f5f\"},\"marker\":{\"line\":{\"color\":\"#E5ECF6\",\"width\":0.5},\"pattern\":{\"fillmode\":\"overlay\",\"size\":10,\"solidity\":0.2}},\"type\":\"bar\"}],\"carpet\":[{\"aaxis\":{\"endlinecolor\":\"#2a3f5f\",\"gridcolor\":\"white\",\"linecolor\":\"white\",\"minorgridcolor\":\"white\",\"startlinecolor\":\"#2a3f5f\"},\"baxis\":{\"endlinecolor\":\"#2a3f5f\",\"gridcolor\":\"white\",\"linecolor\":\"white\",\"minorgridcolor\":\"white\",\"startlinecolor\":\"#2a3f5f\"},\"type\":\"carpet\"}],\"choropleth\":[{\"colorbar\":{\"outlinewidth\":0,\"ticks\":\"\"},\"type\":\"choropleth\"}],\"contourcarpet\":[{\"colorbar\":{\"outlinewidth\":0,\"ticks\":\"\"},\"type\":\"contourcarpet\"}],\"contour\":[{\"colorbar\":{\"outlinewidth\":0,\"ticks\":\"\"},\"colorscale\":[[0.0,\"#0d0887\"],[0.1111111111111111,\"#46039f\"],[0.2222222222222222,\"#7201a8\"],[0.3333333333333333,\"#9c179e\"],[0.4444444444444444,\"#bd3786\"],[0.5555555555555556,\"#d8576b\"],[0.6666666666666666,\"#ed7953\"],[0.7777777777777778,\"#fb9f3a\"],[0.8888888888888888,\"#fdca26\"],[1.0,\"#f0f921\"]],\"type\":\"contour\"}],\"heatmapgl\":[{\"colorbar\":{\"outlinewidth\":0,\"ticks\":\"\"},\"colorscale\":[[0.0,\"#0d0887\"],[0.1111111111111111,\"#46039f\"],[0.2222222222222222,\"#7201a8\"],[0.3333333333333333,\"#9c179e\"],[0.4444444444444444,\"#bd3786\"],[0.5555555555555556,\"#d8576b\"],[0.6666666666666666,\"#ed7953\"],[0.7777777777777778,\"#fb9f3a\"],[0.8888888888888888,\"#fdca26\"],[1.0,\"#f0f921\"]],\"type\":\"heatmapgl\"}],\"heatmap\":[{\"colorbar\":{\"outlinewidth\":0,\"ticks\":\"\"},\"colorscale\":[[0.0,\"#0d0887\"],[0.1111111111111111,\"#46039f\"],[0.2222222222222222,\"#7201a8\"],[0.3333333333333333,\"#9c179e\"],[0.4444444444444444,\"#bd3786\"],[0.5555555555555556,\"#d8576b\"],[0.6666666666666666,\"#ed7953\"],[0.7777777777777778,\"#fb9f3a\"],[0.8888888888888888,\"#fdca26\"],[1.0,\"#f0f921\"]],\"type\":\"heatmap\"}],\"histogram2dcontour\":[{\"colorbar\":{\"outlinewidth\":0,\"ticks\":\"\"},\"colorscale\":[[0.0,\"#0d0887\"],[0.1111111111111111,\"#46039f\"],[0.2222222222222222,\"#7201a8\"],[0.3333333333333333,\"#9c179e\"],[0.4444444444444444,\"#bd3786\"],[0.5555555555555556,\"#d8576b\"],[0.6666666666666666,\"#ed7953\"],[0.7777777777777778,\"#fb9f3a\"],[0.8888888888888888,\"#fdca26\"],[1.0,\"#f0f921\"]],\"type\":\"histogram2dcontour\"}],\"histogram2d\":[{\"colorbar\":{\"outlinewidth\":0,\"ticks\":\"\"},\"colorscale\":[[0.0,\"#0d0887\"],[0.1111111111111111,\"#46039f\"],[0.2222222222222222,\"#7201a8\"],[0.3333333333333333,\"#9c179e\"],[0.4444444444444444,\"#bd3786\"],[0.5555555555555556,\"#d8576b\"],[0.6666666666666666,\"#ed7953\"],[0.7777777777777778,\"#fb9f3a\"],[0.8888888888888888,\"#fdca26\"],[1.0,\"#f0f921\"]],\"type\":\"histogram2d\"}],\"histogram\":[{\"marker\":{\"pattern\":{\"fillmode\":\"overlay\",\"size\":10,\"solidity\":0.2}},\"type\":\"histogram\"}],\"mesh3d\":[{\"colorbar\":{\"outlinewidth\":0,\"ticks\":\"\"},\"type\":\"mesh3d\"}],\"parcoords\":[{\"line\":{\"colorbar\":{\"outlinewidth\":0,\"ticks\":\"\"}},\"type\":\"parcoords\"}],\"pie\":[{\"automargin\":true,\"type\":\"pie\"}],\"scatter3d\":[{\"line\":{\"colorbar\":{\"outlinewidth\":0,\"ticks\":\"\"}},\"marker\":{\"colorbar\":{\"outlinewidth\":0,\"ticks\":\"\"}},\"type\":\"scatter3d\"}],\"scattercarpet\":[{\"marker\":{\"colorbar\":{\"outlinewidth\":0,\"ticks\":\"\"}},\"type\":\"scattercarpet\"}],\"scattergeo\":[{\"marker\":{\"colorbar\":{\"outlinewidth\":0,\"ticks\":\"\"}},\"type\":\"scattergeo\"}],\"scattergl\":[{\"marker\":{\"colorbar\":{\"outlinewidth\":0,\"ticks\":\"\"}},\"type\":\"scattergl\"}],\"scattermapbox\":[{\"marker\":{\"colorbar\":{\"outlinewidth\":0,\"ticks\":\"\"}},\"type\":\"scattermapbox\"}],\"scatterpolargl\":[{\"marker\":{\"colorbar\":{\"outlinewidth\":0,\"ticks\":\"\"}},\"type\":\"scatterpolargl\"}],\"scatterpolar\":[{\"marker\":{\"colorbar\":{\"outlinewidth\":0,\"ticks\":\"\"}},\"type\":\"scatterpolar\"}],\"scatter\":[{\"fillpattern\":{\"fillmode\":\"overlay\",\"size\":10,\"solidity\":0.2},\"type\":\"scatter\"}],\"scatterternary\":[{\"marker\":{\"colorbar\":{\"outlinewidth\":0,\"ticks\":\"\"}},\"type\":\"scatterternary\"}],\"surface\":[{\"colorbar\":{\"outlinewidth\":0,\"ticks\":\"\"},\"colorscale\":[[0.0,\"#0d0887\"],[0.1111111111111111,\"#46039f\"],[0.2222222222222222,\"#7201a8\"],[0.3333333333333333,\"#9c179e\"],[0.4444444444444444,\"#bd3786\"],[0.5555555555555556,\"#d8576b\"],[0.6666666666666666,\"#ed7953\"],[0.7777777777777778,\"#fb9f3a\"],[0.8888888888888888,\"#fdca26\"],[1.0,\"#f0f921\"]],\"type\":\"surface\"}],\"table\":[{\"cells\":{\"fill\":{\"color\":\"#EBF0F8\"},\"line\":{\"color\":\"white\"}},\"header\":{\"fill\":{\"color\":\"#C8D4E3\"},\"line\":{\"color\":\"white\"}},\"type\":\"table\"}]},\"layout\":{\"annotationdefaults\":{\"arrowcolor\":\"#2a3f5f\",\"arrowhead\":0,\"arrowwidth\":1},\"autotypenumbers\":\"strict\",\"coloraxis\":{\"colorbar\":{\"outlinewidth\":0,\"ticks\":\"\"}},\"colorscale\":{\"diverging\":[[0,\"#8e0152\"],[0.1,\"#c51b7d\"],[0.2,\"#de77ae\"],[0.3,\"#f1b6da\"],[0.4,\"#fde0ef\"],[0.5,\"#f7f7f7\"],[0.6,\"#e6f5d0\"],[0.7,\"#b8e186\"],[0.8,\"#7fbc41\"],[0.9,\"#4d9221\"],[1,\"#276419\"]],\"sequential\":[[0.0,\"#0d0887\"],[0.1111111111111111,\"#46039f\"],[0.2222222222222222,\"#7201a8\"],[0.3333333333333333,\"#9c179e\"],[0.4444444444444444,\"#bd3786\"],[0.5555555555555556,\"#d8576b\"],[0.6666666666666666,\"#ed7953\"],[0.7777777777777778,\"#fb9f3a\"],[0.8888888888888888,\"#fdca26\"],[1.0,\"#f0f921\"]],\"sequentialminus\":[[0.0,\"#0d0887\"],[0.1111111111111111,\"#46039f\"],[0.2222222222222222,\"#7201a8\"],[0.3333333333333333,\"#9c179e\"],[0.4444444444444444,\"#bd3786\"],[0.5555555555555556,\"#d8576b\"],[0.6666666666666666,\"#ed7953\"],[0.7777777777777778,\"#fb9f3a\"],[0.8888888888888888,\"#fdca26\"],[1.0,\"#f0f921\"]]},\"colorway\":[\"#636efa\",\"#EF553B\",\"#00cc96\",\"#ab63fa\",\"#FFA15A\",\"#19d3f3\",\"#FF6692\",\"#B6E880\",\"#FF97FF\",\"#FECB52\"],\"font\":{\"color\":\"#2a3f5f\"},\"geo\":{\"bgcolor\":\"white\",\"lakecolor\":\"white\",\"landcolor\":\"#E5ECF6\",\"showlakes\":true,\"showland\":true,\"subunitcolor\":\"white\"},\"hoverlabel\":{\"align\":\"left\"},\"hovermode\":\"closest\",\"mapbox\":{\"style\":\"light\"},\"paper_bgcolor\":\"white\",\"plot_bgcolor\":\"#E5ECF6\",\"polar\":{\"angularaxis\":{\"gridcolor\":\"white\",\"linecolor\":\"white\",\"ticks\":\"\"},\"bgcolor\":\"#E5ECF6\",\"radialaxis\":{\"gridcolor\":\"white\",\"linecolor\":\"white\",\"ticks\":\"\"}},\"scene\":{\"xaxis\":{\"backgroundcolor\":\"#E5ECF6\",\"gridcolor\":\"white\",\"gridwidth\":2,\"linecolor\":\"white\",\"showbackground\":true,\"ticks\":\"\",\"zerolinecolor\":\"white\"},\"yaxis\":{\"backgroundcolor\":\"#E5ECF6\",\"gridcolor\":\"white\",\"gridwidth\":2,\"linecolor\":\"white\",\"showbackground\":true,\"ticks\":\"\",\"zerolinecolor\":\"white\"},\"zaxis\":{\"backgroundcolor\":\"#E5ECF6\",\"gridcolor\":\"white\",\"gridwidth\":2,\"linecolor\":\"white\",\"showbackground\":true,\"ticks\":\"\",\"zerolinecolor\":\"white\"}},\"shapedefaults\":{\"line\":{\"color\":\"#2a3f5f\"}},\"ternary\":{\"aaxis\":{\"gridcolor\":\"white\",\"linecolor\":\"white\",\"ticks\":\"\"},\"baxis\":{\"gridcolor\":\"white\",\"linecolor\":\"white\",\"ticks\":\"\"},\"bgcolor\":\"#E5ECF6\",\"caxis\":{\"gridcolor\":\"white\",\"linecolor\":\"white\",\"ticks\":\"\"}},\"title\":{\"x\":0.05},\"xaxis\":{\"automargin\":true,\"gridcolor\":\"white\",\"linecolor\":\"white\",\"ticks\":\"\",\"title\":{\"standoff\":15},\"zerolinecolor\":\"white\",\"zerolinewidth\":2},\"yaxis\":{\"automargin\":true,\"gridcolor\":\"white\",\"linecolor\":\"white\",\"ticks\":\"\",\"title\":{\"standoff\":15},\"zerolinecolor\":\"white\",\"zerolinewidth\":2}}},\"title\":{\"font\":{\"color\":\"#D9D9D9\"},\"text\":\"\\u041f\\u0440\\u043e\\u0433\\u043d\\u043e\\u0437 vs \\u0420\\u0435\\u0430\\u043b\\u044c\\u043d\\u044b\\u0435 \\u0437\\u043d\\u0430\\u0447\\u0435\\u043d\\u0438\\u044f (\\u0422\\u0435\\u0441\\u0442) \\u0434\\u043b\\u044f meantemp\"},\"xaxis\":{\"gridcolor\":\"#434343\",\"showgrid\":true,\"tickfont\":{\"color\":\"#C2C2C2\"},\"title\":{\"font\":{\"color\":\"#D9D9D9\"},\"text\":\"\\u0412\\u0440\\u0435\\u043c\\u044f\"},\"zerolinecolor\":\"#666570\"},\"yaxis\":{\"gridcolor\":\"#434343\",\"showgrid\":true,\"tickfont\":{\"color\":\"#C2C2C2\"},\"title\":{\"font\":{\"color\":\"#D9D9D9\"},\"text\":\"\\u0417\\u043d\\u0430\\u0447\\u0435\\u043d\\u0438\\u0435\"},\"zerolinecolor\":\"#666570\"}},                        {\"showLink\": true, \"linkText\": \"Export to plot.ly\", \"plotlyServerURL\": \"https://plot.ly\", \"responsive\": true}                    ).then(function(){\n",
       "                            \n",
       "var gd = document.getElementById('e8ce0076-4504-468e-a9dc-ff2008be03fb');\n",
       "var x = new MutationObserver(function (mutations, observer) {{\n",
       "        var display = window.getComputedStyle(gd).display;\n",
       "        if (!display || display === 'none') {{\n",
       "            console.log([gd, 'removed!']);\n",
       "            Plotly.purge(gd);\n",
       "            observer.disconnect();\n",
       "        }}\n",
       "}});\n",
       "\n",
       "// Listen for the removal of the full notebook cells\n",
       "var notebookContainer = gd.closest('#notebook-container');\n",
       "if (notebookContainer) {{\n",
       "    x.observe(notebookContainer, {childList: true});\n",
       "}}\n",
       "\n",
       "// Listen for the clearing of the current output cell\n",
       "var outputEl = gd.closest('.output');\n",
       "if (outputEl) {{\n",
       "    x.observe(outputEl, {childList: true});\n",
       "}}\n",
       "\n",
       "                        })                };                });            </script>        </div>"
      ]
     },
     "metadata": {},
     "output_type": "display_data"
    },
    {
     "name": "stdout",
     "output_type": "stream",
     "text": [
      "\u001b[1m10/10\u001b[0m \u001b[32m━━━━━━━━━━━━━━━━━━━━\u001b[0m\u001b[37m\u001b[0m \u001b[1m0s\u001b[0m 22ms/step\n",
      "MAPE: 1.6886056125395499%\n",
      "MAE: 0.86325406819272\n"
     ]
    },
    {
     "data": {
      "application/vnd.plotly.v1+json": {
       "config": {
        "linkText": "Export to plot.ly",
        "plotlyServerURL": "https://plot.ly",
        "showLink": true
       },
       "data": [
        {
         "line": {
          "color": "rgba(255, 153, 51, 1.0)",
          "dash": "solid",
          "shape": "linear",
          "width": 1.3
         },
         "mode": "lines",
         "name": "Actual",
         "text": "",
         "type": "scatter",
         "x": [
          0,
          1,
          2,
          3,
          4,
          5,
          6,
          7,
          8,
          9,
          10,
          11,
          12,
          13,
          14,
          15,
          16,
          17,
          18,
          19,
          20,
          21,
          22,
          23,
          24,
          25,
          26,
          27,
          28,
          29,
          30,
          31,
          32,
          33,
          34,
          35,
          36,
          37,
          38,
          39,
          40,
          41,
          42,
          43,
          44,
          45,
          46,
          47,
          48,
          49,
          50,
          51,
          52,
          53,
          54,
          55,
          56,
          57,
          58,
          59,
          60,
          61,
          62,
          63,
          64,
          65,
          66,
          67,
          68,
          69,
          70,
          71,
          72,
          73,
          74,
          75,
          76,
          77,
          78,
          79,
          80,
          81,
          82,
          83,
          84,
          85,
          86,
          87,
          88,
          89,
          90,
          91,
          92,
          93,
          94,
          95,
          96,
          97,
          98,
          99,
          100,
          101,
          102,
          103,
          104,
          105,
          106,
          107,
          108,
          109,
          110,
          111,
          112,
          113,
          114,
          115,
          116,
          117,
          118,
          119,
          120,
          121,
          122,
          123,
          124,
          125,
          126,
          127,
          128,
          129,
          130,
          131,
          132,
          133,
          134,
          135,
          136,
          137,
          138,
          139,
          140,
          141,
          142,
          143,
          144,
          145,
          146,
          147,
          148,
          149,
          150,
          151,
          152,
          153,
          154,
          155,
          156,
          157,
          158,
          159,
          160,
          161,
          162,
          163,
          164,
          165,
          166,
          167,
          168,
          169,
          170,
          171,
          172,
          173,
          174,
          175,
          176,
          177,
          178,
          179,
          180,
          181,
          182,
          183,
          184,
          185,
          186,
          187,
          188,
          189,
          190,
          191,
          192,
          193,
          194,
          195,
          196,
          197,
          198,
          199,
          200,
          201,
          202,
          203,
          204,
          205,
          206,
          207,
          208,
          209,
          210,
          211,
          212,
          213,
          214,
          215,
          216,
          217,
          218,
          219,
          220,
          221,
          222,
          223,
          224,
          225,
          226,
          227,
          228,
          229,
          230,
          231,
          232,
          233,
          234,
          235,
          236,
          237,
          238,
          239,
          240,
          241,
          242,
          243,
          244,
          245,
          246,
          247,
          248,
          249,
          250,
          251,
          252,
          253,
          254,
          255,
          256,
          257,
          258,
          259,
          260,
          261,
          262,
          263,
          264,
          265,
          266,
          267,
          268,
          269,
          270,
          271,
          272,
          273,
          274,
          275,
          276,
          277,
          278,
          279,
          280,
          281,
          282,
          283,
          284,
          285,
          286,
          287,
          288,
          289,
          290,
          291
         ],
         "y": [
          58.93333333333333,
          53.75,
          50.31249999999999,
          61.25000000000001,
          61.857142857142854,
          58.733333333333334,
          43.375,
          37.875,
          43.266666666666666,
          46.86666666666667,
          50.1875,
          62.666666666666664,
          53.68750000000001,
          52.8,
          47.75,
          39.785714285714285,
          39.733333333333334,
          38.21428571428571,
          38.56249999999999,
          44.25,
          33.125,
          29.3125,
          33.125,
          37,
          36,
          32.46666666666667,
          28.999999999999996,
          35,
          36.2,
          28.0625,
          23.875,
          25.374999999999996,
          23.6875,
          23.866666666666667,
          30.125,
          33.6,
          25.9375,
          24.666666666666668,
          24.250000000000004,
          21.818181818181817,
          22.125,
          22.8125,
          25.1875,
          29.0625,
          21.76923076923077,
          23.28571428571429,
          25.5625,
          23.374999999999996,
          18.466666666666665,
          30.375,
          31.857142857142854,
          41.99999999999999,
          37.4375,
          37.1875,
          36.333333333333336,
          40.6,
          39.74999999999999,
          49.9375,
          40,
          28.11764705882353,
          31.875,
          29.5,
          23.5,
          25.812500000000004,
          27.625,
          40.49999999999999,
          44.2,
          45.39999999999999,
          44.8,
          47.92857142857144,
          53.52631578947368,
          46.608695652173914,
          44.57692307692308,
          26.090909090909086,
          37.24999999999999,
          57.0625,
          74.8125,
          51.214285714285715,
          42.199999999999996,
          35.31249999999999,
          40.6875,
          42.06666666666666,
          51.75,
          45.714285714285715,
          59.18749999999999,
          44.642857142857146,
          43.733333333333334,
          41.86666666666666,
          49.9375,
          37.12499999999999,
          43.3125,
          55.125,
          48.86666666666667,
          51.285714285714285,
          52.25,
          50.57142857142858,
          53.25000000000001,
          73.9375,
          62.1875,
          60.81250000000001,
          51.61538461538461,
          46.5625,
          55.92857142857144,
          57.46666666666667,
          61.25000000000001,
          75.07142857142857,
          58.87500000000001,
          60.2,
          73.4,
          80,
          78.125,
          76.3125,
          68.6875,
          64.06666666666666,
          63,
          75.86666666666666,
          66.0625,
          65.6875,
          71.9375,
          80.1875,
          76.3125,
          80.4375,
          78.0625,
          93.875,
          86.5625,
          91.26666666666668,
          69.125,
          59.5625,
          56.86666666666667,
          56.125,
          66,
          72.25,
          69.125,
          82,
          88.25,
          81.33333333333333,
          92.4375,
          92.26666666666668,
          83.13333333333334,
          84.25,
          72.125,
          63.5625,
          63.888888888888886,
          61.66666666666667,
          76,
          65.17647058823529,
          62.38095238095238,
          71.65384615384616,
          71.25925925925925,
          89.4642857142857,
          85,
          77.07142857142857,
          83.7,
          67.64285714285714,
          66.41666666666667,
          72.5,
          79.81481481481481,
          68.28571428571429,
          66.48148148148148,
          68.07407407407408,
          65.55555555555556,
          70.08,
          79.28571428571429,
          72.44,
          73.81481481481481,
          70.28571428571429,
          66.24,
          82.32142857142857,
          76.8,
          89.55555555555556,
          87.24,
          71.73913043478261,
          62.68421052631578,
          59.30769230769231,
          60.30769230769231,
          55,
          57.7,
          57.99999999999999,
          56.666666666666664,
          58.23076923076923,
          56.4,
          55.49999999999999,
          57.06666666666667,
          70.35714285714286,
          59.63636363636363,
          57.99999999999999,
          57.99999999999999,
          58.833333333333336,
          59.458333333333336,
          54.07407407407409,
          58.96000000000001,
          67.62962962962963,
          66.10714285714286,
          66.48,
          62.30434782608695,
          60.88000000000001,
          57.81481481481482,
          55.28,
          61.31818181818181,
          59.357142857142854,
          61.916666666666664,
          61.81481481481482,
          59.57692307692308,
          69.81481481481481,
          71.875,
          64.81481481481481,
          59.96,
          57.96,
          59.2,
          51.111111111111114,
          51.14814814814815,
          47.285714285714285,
          44,
          47.875,
          54.148148148148145,
          49.857142857142854,
          49.239999999999995,
          48.458333333333336,
          49.18518518518518,
          47.73076923076923,
          50.40909090909091,
          49.48148148148148,
          54.96153846153846,
          51.42307692307692,
          54.56,
          56.19230769230769,
          59.37037037037037,
          58.77777777777778,
          62.77777777777778,
          71.04347826086956,
          66.8076923076923,
          58.730769230769226,
          65.9090909090909,
          59.76,
          58.2962962962963,
          66.57692307692308,
          63.851851851851855,
          51.31818181818182,
          52.26923076923077,
          49.7037037037037,
          50.148148148148145,
          54.04,
          58.03846153846154,
          55.814814814814824,
          60.73076923076923,
          55.720000000000006,
          53.23076923076924,
          51.73076923076923,
          53.61538461538461,
          60.666666666666664,
          59.900000000000006,
          60.46153846153846,
          50.1578947368421,
          51.43478260869565,
          51.473684210526315,
          30.55,
          32.64705882352941,
          33.63636363636363,
          37.31818181818181,
          53.72222222222222,
          80.08695652173913,
          84,
          75.875,
          52.16666666666667,
          55.25,
          56.59090909090909,
          69.92307692307692,
          74.35,
          73.3,
          68.125,
          82.83333333333333,
          69.58333333333333,
          63.86363636363637,
          62.35,
          58.611111111111114,
          56.625,
          63.27777777777778,
          63.38888888888888,
          64.54166666666667,
          56.095238095238095,
          48.53333333333333,
          54.3,
          57.857142857142854,
          74.7,
          78.63636363636364,
          94.30000000000001,
          74.85714285714286,
          67.55,
          68.04347826086956,
          87.85714285714288,
          89.66666666666669,
          86.99999999999999
         ]
        },
        {
         "line": {
          "color": "rgba(55, 128, 191, 1.0)",
          "dash": "solid",
          "shape": "linear",
          "width": 1.3
         },
         "mode": "lines",
         "name": "Predicted",
         "text": "",
         "type": "scatter",
         "x": [
          0,
          1,
          2,
          3,
          4,
          5,
          6,
          7,
          8,
          9,
          10,
          11,
          12,
          13,
          14,
          15,
          16,
          17,
          18,
          19,
          20,
          21,
          22,
          23,
          24,
          25,
          26,
          27,
          28,
          29,
          30,
          31,
          32,
          33,
          34,
          35,
          36,
          37,
          38,
          39,
          40,
          41,
          42,
          43,
          44,
          45,
          46,
          47,
          48,
          49,
          50,
          51,
          52,
          53,
          54,
          55,
          56,
          57,
          58,
          59,
          60,
          61,
          62,
          63,
          64,
          65,
          66,
          67,
          68,
          69,
          70,
          71,
          72,
          73,
          74,
          75,
          76,
          77,
          78,
          79,
          80,
          81,
          82,
          83,
          84,
          85,
          86,
          87,
          88,
          89,
          90,
          91,
          92,
          93,
          94,
          95,
          96,
          97,
          98,
          99,
          100,
          101,
          102,
          103,
          104,
          105,
          106,
          107,
          108,
          109,
          110,
          111,
          112,
          113,
          114,
          115,
          116,
          117,
          118,
          119,
          120,
          121,
          122,
          123,
          124,
          125,
          126,
          127,
          128,
          129,
          130,
          131,
          132,
          133,
          134,
          135,
          136,
          137,
          138,
          139,
          140,
          141,
          142,
          143,
          144,
          145,
          146,
          147,
          148,
          149,
          150,
          151,
          152,
          153,
          154,
          155,
          156,
          157,
          158,
          159,
          160,
          161,
          162,
          163,
          164,
          165,
          166,
          167,
          168,
          169,
          170,
          171,
          172,
          173,
          174,
          175,
          176,
          177,
          178,
          179,
          180,
          181,
          182,
          183,
          184,
          185,
          186,
          187,
          188,
          189,
          190,
          191,
          192,
          193,
          194,
          195,
          196,
          197,
          198,
          199,
          200,
          201,
          202,
          203,
          204,
          205,
          206,
          207,
          208,
          209,
          210,
          211,
          212,
          213,
          214,
          215,
          216,
          217,
          218,
          219,
          220,
          221,
          222,
          223,
          224,
          225,
          226,
          227,
          228,
          229,
          230,
          231,
          232,
          233,
          234,
          235,
          236,
          237,
          238,
          239,
          240,
          241,
          242,
          243,
          244,
          245,
          246,
          247,
          248,
          249,
          250,
          251,
          252,
          253,
          254,
          255,
          256,
          257,
          258,
          259,
          260,
          261,
          262,
          263,
          264,
          265,
          266,
          267,
          268,
          269,
          270,
          271,
          272,
          273,
          274,
          275,
          276,
          277,
          278,
          279,
          280,
          281,
          282,
          283,
          284,
          285,
          286,
          287,
          288,
          289,
          290,
          291
         ],
         "y": [
          60.15133285522461,
          54.566226959228516,
          50.81758499145508,
          61.74128723144531,
          62.437992095947266,
          59.57608413696289,
          44.49514389038086,
          38.556461334228516,
          43.95149230957031,
          47.279170989990234,
          51.54018020629883,
          64.10111236572266,
          54.737491607666016,
          52.876338958740234,
          48.79905700683594,
          40.92875289916992,
          39.500667572021484,
          38.068729400634766,
          39.22724533081055,
          45.615169525146484,
          33.541622161865234,
          29.432252883911133,
          33.6744499206543,
          37.25250244140625,
          36.631004333496094,
          32.55039596557617,
          29.74934959411621,
          35.929229736328125,
          36.774261474609375,
          28.329809188842773,
          24.55503273010254,
          25.370986938476562,
          24.909420013427734,
          24.083112716674805,
          29.320457458496094,
          33.88853073120117,
          26.439645767211914,
          24.91330337524414,
          24.290571212768555,
          22.88810157775879,
          22.702465057373047,
          23.596065521240234,
          25.356365203857422,
          28.54762077331543,
          22.961048126220703,
          23.50218391418457,
          25.82337760925293,
          24.391416549682617,
          20.395830154418945,
          28.066877365112305,
          31.211284637451172,
          43.0211296081543,
          37.59288024902344,
          36.80461502075195,
          36.25590515136719,
          41.763450622558594,
          40.35335159301758,
          51.22032165527344,
          40.17437744140625,
          29.821664810180664,
          33.024295806884766,
          28.47881317138672,
          25.080196380615234,
          24.85511589050293,
          28.000720977783203,
          40.607872009277344,
          44.022003173828125,
          45.53559112548828,
          45.77496337890625,
          49.052452087402344,
          54.70936965942383,
          47.61404800415039,
          44.987884521484375,
          28.771533966064453,
          35.33023452758789,
          56.36107635498047,
          76.02841186523438,
          49.73699188232422,
          43.46220779418945,
          35.63195037841797,
          40.826786041259766,
          41.807273864746094,
          52.81070327758789,
          46.57487487792969,
          60.65259552001953,
          45.04536056518555,
          43.63579177856445,
          42.205570220947266,
          50.482452392578125,
          38.17137908935547,
          42.6480712890625,
          55.95459747314453,
          49.60065841674805,
          51.48834991455078,
          53.011985778808594,
          51.61500930786133,
          54.156219482421875,
          75.36563110351562,
          63.326480865478516,
          60.79520797729492,
          53.03648376464844,
          47.21903610229492,
          57.21733856201172,
          57.88075256347656,
          62.29782485961914,
          75.8211669921875,
          59.506065368652344,
          60.288177490234375,
          74.69395446777344,
          80.92194366455078,
          78.26747131347656,
          77.04159545898438,
          69.720947265625,
          65.52030181884766,
          64.19886016845703,
          76.95054626464844,
          67.03364562988281,
          66.64334869384766,
          73.05323791503906,
          81.33226013183594,
          76.94402313232422,
          81.21524047851562,
          78.64777374267578,
          96.18325805664062,
          86.8499755859375,
          92.54358673095703,
          69.18678283691406,
          59.60716247558594,
          56.648677825927734,
          56.133724212646484,
          66.50767517089844,
          72.69234466552734,
          69.98592376708984,
          82.6077651977539,
          89.92733764648438,
          81.7641372680664,
          93.92115783691406,
          93.42935180664062,
          83.55021667480469,
          84.63727569580078,
          72.7308349609375,
          64.35211181640625,
          65.18074035644531,
          62.880828857421875,
          76.48457336425781,
          66.28804779052734,
          62.89768981933594,
          73.00811004638672,
          72.16975402832031,
          89.8991470336914,
          85.45724487304688,
          78.26374053955078,
          84.72864532470703,
          68.200439453125,
          67.17593383789062,
          73.32532501220703,
          80.68267822265625,
          69.50135803222656,
          67.56707763671875,
          68.99517822265625,
          66.59333801269531,
          70.88443756103516,
          80.40038299560547,
          73.05192565917969,
          74.46210479736328,
          71.04671478271484,
          67.47744750976562,
          83.41600036621094,
          77.75409698486328,
          90.2961654663086,
          87.72405242919922,
          72.67693328857422,
          62.79302978515625,
          59.59174728393555,
          60.723880767822266,
          55.557708740234375,
          59.15821838378906,
          59.35627365112305,
          58.033809661865234,
          59.627193450927734,
          57.703102111816406,
          56.7171745300293,
          58.33573532104492,
          70.86485290527344,
          60.851722717285156,
          58.10092544555664,
          59.27081298828125,
          60.07318115234375,
          60.80607986450195,
          55.30836868286133,
          59.99854278564453,
          68.1386489868164,
          66.93077087402344,
          67.1827621459961,
          63.654701232910156,
          62.30287551879883,
          58.953372955322266,
          56.12676239013672,
          62.458229064941406,
          60.89002990722656,
          62.95569610595703,
          63.203392028808594,
          61.142547607421875,
          70.69766235351562,
          72.8770523071289,
          66.12040710449219,
          61.11389923095703,
          58.85948944091797,
          60.245849609375,
          52.03211212158203,
          51.48535919189453,
          47.704681396484375,
          44.72626876831055,
          48.413089752197266,
          54.56073760986328,
          51.180973052978516,
          49.825252532958984,
          49.402408599853516,
          50.051795959472656,
          48.55847930908203,
          51.13517761230469,
          50.15409851074219,
          55.57144546508789,
          52.56124496459961,
          55.27436828613281,
          56.982669830322266,
          60.22734832763672,
          60.36656951904297,
          63.822994232177734,
          71.93777465820312,
          67.8097152709961,
          59.398921966552734,
          66.90586853027344,
          61.23563003540039,
          58.99606704711914,
          67.89800262451172,
          65.22669219970703,
          51.867698669433594,
          52.387664794921875,
          50.098060607910156,
          50.7841682434082,
          55.14966583251953,
          58.65522003173828,
          57.453853607177734,
          61.51927947998047,
          57.054908752441406,
          53.79262161254883,
          52.73289108276367,
          54.534767150878906,
          61.72812271118164,
          61.20248794555664,
          61.49808120727539,
          51.13862609863281,
          51.739192962646484,
          51.885475158691406,
          33.22425842285156,
          35.13774871826172,
          33.760311126708984,
          37.85321044921875,
          53.984771728515625,
          81.71055603027344,
          84.46533203125,
          77.31810760498047,
          55.176483154296875,
          55.49525451660156,
          56.90911102294922,
          71.57306671142578,
          72.9521484375,
          74.08551788330078,
          69.187744140625,
          84.04814147949219,
          70.91504669189453,
          64.21031951904297,
          63.92876434326172,
          59.51545333862305,
          58.03500747680664,
          64.50411224365234,
          64.60997009277344,
          65.48767852783203,
          57.38021469116211,
          49.06468200683594,
          55.40089797973633,
          58.17254638671875,
          74.64543914794922,
          79.4725570678711,
          95.43547058105469,
          75.09684753417969,
          68.04713439941406,
          69.23933410644531,
          90.20901489257812,
          89.50013732910156,
          87.42320251464844
         ]
        }
       ],
       "layout": {
        "legend": {
         "bgcolor": "#151516",
         "font": {
          "color": "#D9D9D9"
         }
        },
        "paper_bgcolor": "#151516",
        "plot_bgcolor": "#151516",
        "template": {
         "data": {
          "bar": [
           {
            "error_x": {
             "color": "#2a3f5f"
            },
            "error_y": {
             "color": "#2a3f5f"
            },
            "marker": {
             "line": {
              "color": "#E5ECF6",
              "width": 0.5
             },
             "pattern": {
              "fillmode": "overlay",
              "size": 10,
              "solidity": 0.2
             }
            },
            "type": "bar"
           }
          ],
          "barpolar": [
           {
            "marker": {
             "line": {
              "color": "#E5ECF6",
              "width": 0.5
             },
             "pattern": {
              "fillmode": "overlay",
              "size": 10,
              "solidity": 0.2
             }
            },
            "type": "barpolar"
           }
          ],
          "carpet": [
           {
            "aaxis": {
             "endlinecolor": "#2a3f5f",
             "gridcolor": "white",
             "linecolor": "white",
             "minorgridcolor": "white",
             "startlinecolor": "#2a3f5f"
            },
            "baxis": {
             "endlinecolor": "#2a3f5f",
             "gridcolor": "white",
             "linecolor": "white",
             "minorgridcolor": "white",
             "startlinecolor": "#2a3f5f"
            },
            "type": "carpet"
           }
          ],
          "choropleth": [
           {
            "colorbar": {
             "outlinewidth": 0,
             "ticks": ""
            },
            "type": "choropleth"
           }
          ],
          "contour": [
           {
            "colorbar": {
             "outlinewidth": 0,
             "ticks": ""
            },
            "colorscale": [
             [
              0,
              "#0d0887"
             ],
             [
              0.1111111111111111,
              "#46039f"
             ],
             [
              0.2222222222222222,
              "#7201a8"
             ],
             [
              0.3333333333333333,
              "#9c179e"
             ],
             [
              0.4444444444444444,
              "#bd3786"
             ],
             [
              0.5555555555555556,
              "#d8576b"
             ],
             [
              0.6666666666666666,
              "#ed7953"
             ],
             [
              0.7777777777777778,
              "#fb9f3a"
             ],
             [
              0.8888888888888888,
              "#fdca26"
             ],
             [
              1,
              "#f0f921"
             ]
            ],
            "type": "contour"
           }
          ],
          "contourcarpet": [
           {
            "colorbar": {
             "outlinewidth": 0,
             "ticks": ""
            },
            "type": "contourcarpet"
           }
          ],
          "heatmap": [
           {
            "colorbar": {
             "outlinewidth": 0,
             "ticks": ""
            },
            "colorscale": [
             [
              0,
              "#0d0887"
             ],
             [
              0.1111111111111111,
              "#46039f"
             ],
             [
              0.2222222222222222,
              "#7201a8"
             ],
             [
              0.3333333333333333,
              "#9c179e"
             ],
             [
              0.4444444444444444,
              "#bd3786"
             ],
             [
              0.5555555555555556,
              "#d8576b"
             ],
             [
              0.6666666666666666,
              "#ed7953"
             ],
             [
              0.7777777777777778,
              "#fb9f3a"
             ],
             [
              0.8888888888888888,
              "#fdca26"
             ],
             [
              1,
              "#f0f921"
             ]
            ],
            "type": "heatmap"
           }
          ],
          "heatmapgl": [
           {
            "colorbar": {
             "outlinewidth": 0,
             "ticks": ""
            },
            "colorscale": [
             [
              0,
              "#0d0887"
             ],
             [
              0.1111111111111111,
              "#46039f"
             ],
             [
              0.2222222222222222,
              "#7201a8"
             ],
             [
              0.3333333333333333,
              "#9c179e"
             ],
             [
              0.4444444444444444,
              "#bd3786"
             ],
             [
              0.5555555555555556,
              "#d8576b"
             ],
             [
              0.6666666666666666,
              "#ed7953"
             ],
             [
              0.7777777777777778,
              "#fb9f3a"
             ],
             [
              0.8888888888888888,
              "#fdca26"
             ],
             [
              1,
              "#f0f921"
             ]
            ],
            "type": "heatmapgl"
           }
          ],
          "histogram": [
           {
            "marker": {
             "pattern": {
              "fillmode": "overlay",
              "size": 10,
              "solidity": 0.2
             }
            },
            "type": "histogram"
           }
          ],
          "histogram2d": [
           {
            "colorbar": {
             "outlinewidth": 0,
             "ticks": ""
            },
            "colorscale": [
             [
              0,
              "#0d0887"
             ],
             [
              0.1111111111111111,
              "#46039f"
             ],
             [
              0.2222222222222222,
              "#7201a8"
             ],
             [
              0.3333333333333333,
              "#9c179e"
             ],
             [
              0.4444444444444444,
              "#bd3786"
             ],
             [
              0.5555555555555556,
              "#d8576b"
             ],
             [
              0.6666666666666666,
              "#ed7953"
             ],
             [
              0.7777777777777778,
              "#fb9f3a"
             ],
             [
              0.8888888888888888,
              "#fdca26"
             ],
             [
              1,
              "#f0f921"
             ]
            ],
            "type": "histogram2d"
           }
          ],
          "histogram2dcontour": [
           {
            "colorbar": {
             "outlinewidth": 0,
             "ticks": ""
            },
            "colorscale": [
             [
              0,
              "#0d0887"
             ],
             [
              0.1111111111111111,
              "#46039f"
             ],
             [
              0.2222222222222222,
              "#7201a8"
             ],
             [
              0.3333333333333333,
              "#9c179e"
             ],
             [
              0.4444444444444444,
              "#bd3786"
             ],
             [
              0.5555555555555556,
              "#d8576b"
             ],
             [
              0.6666666666666666,
              "#ed7953"
             ],
             [
              0.7777777777777778,
              "#fb9f3a"
             ],
             [
              0.8888888888888888,
              "#fdca26"
             ],
             [
              1,
              "#f0f921"
             ]
            ],
            "type": "histogram2dcontour"
           }
          ],
          "mesh3d": [
           {
            "colorbar": {
             "outlinewidth": 0,
             "ticks": ""
            },
            "type": "mesh3d"
           }
          ],
          "parcoords": [
           {
            "line": {
             "colorbar": {
              "outlinewidth": 0,
              "ticks": ""
             }
            },
            "type": "parcoords"
           }
          ],
          "pie": [
           {
            "automargin": true,
            "type": "pie"
           }
          ],
          "scatter": [
           {
            "fillpattern": {
             "fillmode": "overlay",
             "size": 10,
             "solidity": 0.2
            },
            "type": "scatter"
           }
          ],
          "scatter3d": [
           {
            "line": {
             "colorbar": {
              "outlinewidth": 0,
              "ticks": ""
             }
            },
            "marker": {
             "colorbar": {
              "outlinewidth": 0,
              "ticks": ""
             }
            },
            "type": "scatter3d"
           }
          ],
          "scattercarpet": [
           {
            "marker": {
             "colorbar": {
              "outlinewidth": 0,
              "ticks": ""
             }
            },
            "type": "scattercarpet"
           }
          ],
          "scattergeo": [
           {
            "marker": {
             "colorbar": {
              "outlinewidth": 0,
              "ticks": ""
             }
            },
            "type": "scattergeo"
           }
          ],
          "scattergl": [
           {
            "marker": {
             "colorbar": {
              "outlinewidth": 0,
              "ticks": ""
             }
            },
            "type": "scattergl"
           }
          ],
          "scattermapbox": [
           {
            "marker": {
             "colorbar": {
              "outlinewidth": 0,
              "ticks": ""
             }
            },
            "type": "scattermapbox"
           }
          ],
          "scatterpolar": [
           {
            "marker": {
             "colorbar": {
              "outlinewidth": 0,
              "ticks": ""
             }
            },
            "type": "scatterpolar"
           }
          ],
          "scatterpolargl": [
           {
            "marker": {
             "colorbar": {
              "outlinewidth": 0,
              "ticks": ""
             }
            },
            "type": "scatterpolargl"
           }
          ],
          "scatterternary": [
           {
            "marker": {
             "colorbar": {
              "outlinewidth": 0,
              "ticks": ""
             }
            },
            "type": "scatterternary"
           }
          ],
          "surface": [
           {
            "colorbar": {
             "outlinewidth": 0,
             "ticks": ""
            },
            "colorscale": [
             [
              0,
              "#0d0887"
             ],
             [
              0.1111111111111111,
              "#46039f"
             ],
             [
              0.2222222222222222,
              "#7201a8"
             ],
             [
              0.3333333333333333,
              "#9c179e"
             ],
             [
              0.4444444444444444,
              "#bd3786"
             ],
             [
              0.5555555555555556,
              "#d8576b"
             ],
             [
              0.6666666666666666,
              "#ed7953"
             ],
             [
              0.7777777777777778,
              "#fb9f3a"
             ],
             [
              0.8888888888888888,
              "#fdca26"
             ],
             [
              1,
              "#f0f921"
             ]
            ],
            "type": "surface"
           }
          ],
          "table": [
           {
            "cells": {
             "fill": {
              "color": "#EBF0F8"
             },
             "line": {
              "color": "white"
             }
            },
            "header": {
             "fill": {
              "color": "#C8D4E3"
             },
             "line": {
              "color": "white"
             }
            },
            "type": "table"
           }
          ]
         },
         "layout": {
          "annotationdefaults": {
           "arrowcolor": "#2a3f5f",
           "arrowhead": 0,
           "arrowwidth": 1
          },
          "autotypenumbers": "strict",
          "coloraxis": {
           "colorbar": {
            "outlinewidth": 0,
            "ticks": ""
           }
          },
          "colorscale": {
           "diverging": [
            [
             0,
             "#8e0152"
            ],
            [
             0.1,
             "#c51b7d"
            ],
            [
             0.2,
             "#de77ae"
            ],
            [
             0.3,
             "#f1b6da"
            ],
            [
             0.4,
             "#fde0ef"
            ],
            [
             0.5,
             "#f7f7f7"
            ],
            [
             0.6,
             "#e6f5d0"
            ],
            [
             0.7,
             "#b8e186"
            ],
            [
             0.8,
             "#7fbc41"
            ],
            [
             0.9,
             "#4d9221"
            ],
            [
             1,
             "#276419"
            ]
           ],
           "sequential": [
            [
             0,
             "#0d0887"
            ],
            [
             0.1111111111111111,
             "#46039f"
            ],
            [
             0.2222222222222222,
             "#7201a8"
            ],
            [
             0.3333333333333333,
             "#9c179e"
            ],
            [
             0.4444444444444444,
             "#bd3786"
            ],
            [
             0.5555555555555556,
             "#d8576b"
            ],
            [
             0.6666666666666666,
             "#ed7953"
            ],
            [
             0.7777777777777778,
             "#fb9f3a"
            ],
            [
             0.8888888888888888,
             "#fdca26"
            ],
            [
             1,
             "#f0f921"
            ]
           ],
           "sequentialminus": [
            [
             0,
             "#0d0887"
            ],
            [
             0.1111111111111111,
             "#46039f"
            ],
            [
             0.2222222222222222,
             "#7201a8"
            ],
            [
             0.3333333333333333,
             "#9c179e"
            ],
            [
             0.4444444444444444,
             "#bd3786"
            ],
            [
             0.5555555555555556,
             "#d8576b"
            ],
            [
             0.6666666666666666,
             "#ed7953"
            ],
            [
             0.7777777777777778,
             "#fb9f3a"
            ],
            [
             0.8888888888888888,
             "#fdca26"
            ],
            [
             1,
             "#f0f921"
            ]
           ]
          },
          "colorway": [
           "#636efa",
           "#EF553B",
           "#00cc96",
           "#ab63fa",
           "#FFA15A",
           "#19d3f3",
           "#FF6692",
           "#B6E880",
           "#FF97FF",
           "#FECB52"
          ],
          "font": {
           "color": "#2a3f5f"
          },
          "geo": {
           "bgcolor": "white",
           "lakecolor": "white",
           "landcolor": "#E5ECF6",
           "showlakes": true,
           "showland": true,
           "subunitcolor": "white"
          },
          "hoverlabel": {
           "align": "left"
          },
          "hovermode": "closest",
          "mapbox": {
           "style": "light"
          },
          "paper_bgcolor": "white",
          "plot_bgcolor": "#E5ECF6",
          "polar": {
           "angularaxis": {
            "gridcolor": "white",
            "linecolor": "white",
            "ticks": ""
           },
           "bgcolor": "#E5ECF6",
           "radialaxis": {
            "gridcolor": "white",
            "linecolor": "white",
            "ticks": ""
           }
          },
          "scene": {
           "xaxis": {
            "backgroundcolor": "#E5ECF6",
            "gridcolor": "white",
            "gridwidth": 2,
            "linecolor": "white",
            "showbackground": true,
            "ticks": "",
            "zerolinecolor": "white"
           },
           "yaxis": {
            "backgroundcolor": "#E5ECF6",
            "gridcolor": "white",
            "gridwidth": 2,
            "linecolor": "white",
            "showbackground": true,
            "ticks": "",
            "zerolinecolor": "white"
           },
           "zaxis": {
            "backgroundcolor": "#E5ECF6",
            "gridcolor": "white",
            "gridwidth": 2,
            "linecolor": "white",
            "showbackground": true,
            "ticks": "",
            "zerolinecolor": "white"
           }
          },
          "shapedefaults": {
           "line": {
            "color": "#2a3f5f"
           }
          },
          "ternary": {
           "aaxis": {
            "gridcolor": "white",
            "linecolor": "white",
            "ticks": ""
           },
           "baxis": {
            "gridcolor": "white",
            "linecolor": "white",
            "ticks": ""
           },
           "bgcolor": "#E5ECF6",
           "caxis": {
            "gridcolor": "white",
            "linecolor": "white",
            "ticks": ""
           }
          },
          "title": {
           "x": 0.05
          },
          "xaxis": {
           "automargin": true,
           "gridcolor": "white",
           "linecolor": "white",
           "ticks": "",
           "title": {
            "standoff": 15
           },
           "zerolinecolor": "white",
           "zerolinewidth": 2
          },
          "yaxis": {
           "automargin": true,
           "gridcolor": "white",
           "linecolor": "white",
           "ticks": "",
           "title": {
            "standoff": 15
           },
           "zerolinecolor": "white",
           "zerolinewidth": 2
          }
         }
        },
        "title": {
         "font": {
          "color": "#D9D9D9"
         },
         "text": "Прогноз vs Реальные значения (Тест) для humidity"
        },
        "xaxis": {
         "gridcolor": "#434343",
         "showgrid": true,
         "tickfont": {
          "color": "#C2C2C2"
         },
         "title": {
          "font": {
           "color": "#D9D9D9"
          },
          "text": "Время"
         },
         "zerolinecolor": "#666570"
        },
        "yaxis": {
         "gridcolor": "#434343",
         "showgrid": true,
         "tickfont": {
          "color": "#C2C2C2"
         },
         "title": {
          "font": {
           "color": "#D9D9D9"
          },
          "text": "Значение"
         },
         "zerolinecolor": "#666570"
        }
       }
      },
      "text/html": [
       "<div>                            <div id=\"1d52c0c1-5d24-4528-a71e-0af319930114\" class=\"plotly-graph-div\" style=\"height:525px; width:100%;\"></div>            <script type=\"text/javascript\">                require([\"plotly\"], function(Plotly) {                    window.PLOTLYENV=window.PLOTLYENV || {};\n",
       "                    window.PLOTLYENV.BASE_URL='https://plot.ly';                                    if (document.getElementById(\"1d52c0c1-5d24-4528-a71e-0af319930114\")) {                    Plotly.newPlot(                        \"1d52c0c1-5d24-4528-a71e-0af319930114\",                        [{\"line\":{\"color\":\"rgba(255, 153, 51, 1.0)\",\"dash\":\"solid\",\"shape\":\"linear\",\"width\":1.3},\"mode\":\"lines\",\"name\":\"Actual\",\"text\":\"\",\"x\":[0,1,2,3,4,5,6,7,8,9,10,11,12,13,14,15,16,17,18,19,20,21,22,23,24,25,26,27,28,29,30,31,32,33,34,35,36,37,38,39,40,41,42,43,44,45,46,47,48,49,50,51,52,53,54,55,56,57,58,59,60,61,62,63,64,65,66,67,68,69,70,71,72,73,74,75,76,77,78,79,80,81,82,83,84,85,86,87,88,89,90,91,92,93,94,95,96,97,98,99,100,101,102,103,104,105,106,107,108,109,110,111,112,113,114,115,116,117,118,119,120,121,122,123,124,125,126,127,128,129,130,131,132,133,134,135,136,137,138,139,140,141,142,143,144,145,146,147,148,149,150,151,152,153,154,155,156,157,158,159,160,161,162,163,164,165,166,167,168,169,170,171,172,173,174,175,176,177,178,179,180,181,182,183,184,185,186,187,188,189,190,191,192,193,194,195,196,197,198,199,200,201,202,203,204,205,206,207,208,209,210,211,212,213,214,215,216,217,218,219,220,221,222,223,224,225,226,227,228,229,230,231,232,233,234,235,236,237,238,239,240,241,242,243,244,245,246,247,248,249,250,251,252,253,254,255,256,257,258,259,260,261,262,263,264,265,266,267,268,269,270,271,272,273,274,275,276,277,278,279,280,281,282,283,284,285,286,287,288,289,290,291],\"y\":[58.93333333333333,53.75,50.31249999999999,61.25000000000001,61.857142857142854,58.733333333333334,43.375,37.875,43.266666666666666,46.86666666666667,50.1875,62.666666666666664,53.68750000000001,52.8,47.75,39.785714285714285,39.733333333333334,38.21428571428571,38.56249999999999,44.25,33.125,29.3125,33.125,37.0,36.0,32.46666666666667,28.999999999999996,35.0,36.2,28.0625,23.875,25.374999999999996,23.6875,23.866666666666667,30.125,33.6,25.9375,24.666666666666668,24.250000000000004,21.818181818181817,22.125,22.8125,25.1875,29.0625,21.76923076923077,23.28571428571429,25.5625,23.374999999999996,18.466666666666665,30.375,31.857142857142854,41.99999999999999,37.4375,37.1875,36.333333333333336,40.6,39.74999999999999,49.9375,40.0,28.11764705882353,31.875,29.5,23.5,25.812500000000004,27.625,40.49999999999999,44.2,45.39999999999999,44.8,47.92857142857144,53.52631578947368,46.608695652173914,44.57692307692308,26.090909090909086,37.24999999999999,57.0625,74.8125,51.214285714285715,42.199999999999996,35.31249999999999,40.6875,42.06666666666666,51.75,45.714285714285715,59.18749999999999,44.642857142857146,43.733333333333334,41.86666666666666,49.9375,37.12499999999999,43.3125,55.125,48.86666666666667,51.285714285714285,52.25,50.57142857142858,53.25000000000001,73.9375,62.1875,60.81250000000001,51.61538461538461,46.5625,55.92857142857144,57.46666666666667,61.25000000000001,75.07142857142857,58.87500000000001,60.2,73.4,80.0,78.125,76.3125,68.6875,64.06666666666666,63.0,75.86666666666666,66.0625,65.6875,71.9375,80.1875,76.3125,80.4375,78.0625,93.875,86.5625,91.26666666666668,69.125,59.5625,56.86666666666667,56.125,66.0,72.25,69.125,82.0,88.25,81.33333333333333,92.4375,92.26666666666668,83.13333333333334,84.25,72.125,63.5625,63.888888888888886,61.66666666666667,76.0,65.17647058823529,62.38095238095238,71.65384615384616,71.25925925925925,89.4642857142857,85.0,77.07142857142857,83.7,67.64285714285714,66.41666666666667,72.5,79.81481481481481,68.28571428571429,66.48148148148148,68.07407407407408,65.55555555555556,70.08,79.28571428571429,72.44,73.81481481481481,70.28571428571429,66.24,82.32142857142857,76.8,89.55555555555556,87.24,71.73913043478261,62.68421052631578,59.30769230769231,60.30769230769231,55.0,57.7,57.99999999999999,56.666666666666664,58.23076923076923,56.4,55.49999999999999,57.06666666666667,70.35714285714286,59.63636363636363,57.99999999999999,57.99999999999999,58.833333333333336,59.458333333333336,54.07407407407409,58.96000000000001,67.62962962962963,66.10714285714286,66.48,62.30434782608695,60.88000000000001,57.81481481481482,55.28,61.31818181818181,59.357142857142854,61.916666666666664,61.81481481481482,59.57692307692308,69.81481481481481,71.875,64.81481481481481,59.96,57.96,59.2,51.111111111111114,51.14814814814815,47.285714285714285,44.0,47.875,54.148148148148145,49.857142857142854,49.239999999999995,48.458333333333336,49.18518518518518,47.73076923076923,50.40909090909091,49.48148148148148,54.96153846153846,51.42307692307692,54.56,56.19230769230769,59.37037037037037,58.77777777777778,62.77777777777778,71.04347826086956,66.8076923076923,58.730769230769226,65.9090909090909,59.76,58.2962962962963,66.57692307692308,63.851851851851855,51.31818181818182,52.26923076923077,49.7037037037037,50.148148148148145,54.04,58.03846153846154,55.814814814814824,60.73076923076923,55.720000000000006,53.23076923076924,51.73076923076923,53.61538461538461,60.666666666666664,59.900000000000006,60.46153846153846,50.1578947368421,51.43478260869565,51.473684210526315,30.55,32.64705882352941,33.63636363636363,37.31818181818181,53.72222222222222,80.08695652173913,84.0,75.875,52.16666666666667,55.25,56.59090909090909,69.92307692307692,74.35,73.3,68.125,82.83333333333333,69.58333333333333,63.86363636363637,62.35,58.611111111111114,56.625,63.27777777777778,63.38888888888888,64.54166666666667,56.095238095238095,48.53333333333333,54.3,57.857142857142854,74.7,78.63636363636364,94.30000000000001,74.85714285714286,67.55,68.04347826086956,87.85714285714288,89.66666666666669,86.99999999999999],\"type\":\"scatter\"},{\"line\":{\"color\":\"rgba(55, 128, 191, 1.0)\",\"dash\":\"solid\",\"shape\":\"linear\",\"width\":1.3},\"mode\":\"lines\",\"name\":\"Predicted\",\"text\":\"\",\"x\":[0,1,2,3,4,5,6,7,8,9,10,11,12,13,14,15,16,17,18,19,20,21,22,23,24,25,26,27,28,29,30,31,32,33,34,35,36,37,38,39,40,41,42,43,44,45,46,47,48,49,50,51,52,53,54,55,56,57,58,59,60,61,62,63,64,65,66,67,68,69,70,71,72,73,74,75,76,77,78,79,80,81,82,83,84,85,86,87,88,89,90,91,92,93,94,95,96,97,98,99,100,101,102,103,104,105,106,107,108,109,110,111,112,113,114,115,116,117,118,119,120,121,122,123,124,125,126,127,128,129,130,131,132,133,134,135,136,137,138,139,140,141,142,143,144,145,146,147,148,149,150,151,152,153,154,155,156,157,158,159,160,161,162,163,164,165,166,167,168,169,170,171,172,173,174,175,176,177,178,179,180,181,182,183,184,185,186,187,188,189,190,191,192,193,194,195,196,197,198,199,200,201,202,203,204,205,206,207,208,209,210,211,212,213,214,215,216,217,218,219,220,221,222,223,224,225,226,227,228,229,230,231,232,233,234,235,236,237,238,239,240,241,242,243,244,245,246,247,248,249,250,251,252,253,254,255,256,257,258,259,260,261,262,263,264,265,266,267,268,269,270,271,272,273,274,275,276,277,278,279,280,281,282,283,284,285,286,287,288,289,290,291],\"y\":[60.15133285522461,54.566226959228516,50.81758499145508,61.74128723144531,62.437992095947266,59.57608413696289,44.49514389038086,38.556461334228516,43.95149230957031,47.279170989990234,51.54018020629883,64.10111236572266,54.737491607666016,52.876338958740234,48.79905700683594,40.92875289916992,39.500667572021484,38.068729400634766,39.22724533081055,45.615169525146484,33.541622161865234,29.432252883911133,33.6744499206543,37.25250244140625,36.631004333496094,32.55039596557617,29.74934959411621,35.929229736328125,36.774261474609375,28.329809188842773,24.55503273010254,25.370986938476562,24.909420013427734,24.083112716674805,29.320457458496094,33.88853073120117,26.439645767211914,24.91330337524414,24.290571212768555,22.88810157775879,22.702465057373047,23.596065521240234,25.356365203857422,28.54762077331543,22.961048126220703,23.50218391418457,25.82337760925293,24.391416549682617,20.395830154418945,28.066877365112305,31.211284637451172,43.0211296081543,37.59288024902344,36.80461502075195,36.25590515136719,41.763450622558594,40.35335159301758,51.22032165527344,40.17437744140625,29.821664810180664,33.024295806884766,28.47881317138672,25.080196380615234,24.85511589050293,28.000720977783203,40.607872009277344,44.022003173828125,45.53559112548828,45.77496337890625,49.052452087402344,54.70936965942383,47.61404800415039,44.987884521484375,28.771533966064453,35.33023452758789,56.36107635498047,76.02841186523438,49.73699188232422,43.46220779418945,35.63195037841797,40.826786041259766,41.807273864746094,52.81070327758789,46.57487487792969,60.65259552001953,45.04536056518555,43.63579177856445,42.205570220947266,50.482452392578125,38.17137908935547,42.6480712890625,55.95459747314453,49.60065841674805,51.48834991455078,53.011985778808594,51.61500930786133,54.156219482421875,75.36563110351562,63.326480865478516,60.79520797729492,53.03648376464844,47.21903610229492,57.21733856201172,57.88075256347656,62.29782485961914,75.8211669921875,59.506065368652344,60.288177490234375,74.69395446777344,80.92194366455078,78.26747131347656,77.04159545898438,69.720947265625,65.52030181884766,64.19886016845703,76.95054626464844,67.03364562988281,66.64334869384766,73.05323791503906,81.33226013183594,76.94402313232422,81.21524047851562,78.64777374267578,96.18325805664062,86.8499755859375,92.54358673095703,69.18678283691406,59.60716247558594,56.648677825927734,56.133724212646484,66.50767517089844,72.69234466552734,69.98592376708984,82.6077651977539,89.92733764648438,81.7641372680664,93.92115783691406,93.42935180664062,83.55021667480469,84.63727569580078,72.7308349609375,64.35211181640625,65.18074035644531,62.880828857421875,76.48457336425781,66.28804779052734,62.89768981933594,73.00811004638672,72.16975402832031,89.8991470336914,85.45724487304688,78.26374053955078,84.72864532470703,68.200439453125,67.17593383789062,73.32532501220703,80.68267822265625,69.50135803222656,67.56707763671875,68.99517822265625,66.59333801269531,70.88443756103516,80.40038299560547,73.05192565917969,74.46210479736328,71.04671478271484,67.47744750976562,83.41600036621094,77.75409698486328,90.2961654663086,87.72405242919922,72.67693328857422,62.79302978515625,59.59174728393555,60.723880767822266,55.557708740234375,59.15821838378906,59.35627365112305,58.033809661865234,59.627193450927734,57.703102111816406,56.7171745300293,58.33573532104492,70.86485290527344,60.851722717285156,58.10092544555664,59.27081298828125,60.07318115234375,60.80607986450195,55.30836868286133,59.99854278564453,68.1386489868164,66.93077087402344,67.1827621459961,63.654701232910156,62.30287551879883,58.953372955322266,56.12676239013672,62.458229064941406,60.89002990722656,62.95569610595703,63.203392028808594,61.142547607421875,70.69766235351562,72.8770523071289,66.12040710449219,61.11389923095703,58.85948944091797,60.245849609375,52.03211212158203,51.48535919189453,47.704681396484375,44.72626876831055,48.413089752197266,54.56073760986328,51.180973052978516,49.825252532958984,49.402408599853516,50.051795959472656,48.55847930908203,51.13517761230469,50.15409851074219,55.57144546508789,52.56124496459961,55.27436828613281,56.982669830322266,60.22734832763672,60.36656951904297,63.822994232177734,71.93777465820312,67.8097152709961,59.398921966552734,66.90586853027344,61.23563003540039,58.99606704711914,67.89800262451172,65.22669219970703,51.867698669433594,52.387664794921875,50.098060607910156,50.7841682434082,55.14966583251953,58.65522003173828,57.453853607177734,61.51927947998047,57.054908752441406,53.79262161254883,52.73289108276367,54.534767150878906,61.72812271118164,61.20248794555664,61.49808120727539,51.13862609863281,51.739192962646484,51.885475158691406,33.22425842285156,35.13774871826172,33.760311126708984,37.85321044921875,53.984771728515625,81.71055603027344,84.46533203125,77.31810760498047,55.176483154296875,55.49525451660156,56.90911102294922,71.57306671142578,72.9521484375,74.08551788330078,69.187744140625,84.04814147949219,70.91504669189453,64.21031951904297,63.92876434326172,59.51545333862305,58.03500747680664,64.50411224365234,64.60997009277344,65.48767852783203,57.38021469116211,49.06468200683594,55.40089797973633,58.17254638671875,74.64543914794922,79.4725570678711,95.43547058105469,75.09684753417969,68.04713439941406,69.23933410644531,90.20901489257812,89.50013732910156,87.42320251464844],\"type\":\"scatter\"}],                        {\"legend\":{\"bgcolor\":\"#151516\",\"font\":{\"color\":\"#D9D9D9\"}},\"paper_bgcolor\":\"#151516\",\"plot_bgcolor\":\"#151516\",\"template\":{\"data\":{\"barpolar\":[{\"marker\":{\"line\":{\"color\":\"#E5ECF6\",\"width\":0.5},\"pattern\":{\"fillmode\":\"overlay\",\"size\":10,\"solidity\":0.2}},\"type\":\"barpolar\"}],\"bar\":[{\"error_x\":{\"color\":\"#2a3f5f\"},\"error_y\":{\"color\":\"#2a3f5f\"},\"marker\":{\"line\":{\"color\":\"#E5ECF6\",\"width\":0.5},\"pattern\":{\"fillmode\":\"overlay\",\"size\":10,\"solidity\":0.2}},\"type\":\"bar\"}],\"carpet\":[{\"aaxis\":{\"endlinecolor\":\"#2a3f5f\",\"gridcolor\":\"white\",\"linecolor\":\"white\",\"minorgridcolor\":\"white\",\"startlinecolor\":\"#2a3f5f\"},\"baxis\":{\"endlinecolor\":\"#2a3f5f\",\"gridcolor\":\"white\",\"linecolor\":\"white\",\"minorgridcolor\":\"white\",\"startlinecolor\":\"#2a3f5f\"},\"type\":\"carpet\"}],\"choropleth\":[{\"colorbar\":{\"outlinewidth\":0,\"ticks\":\"\"},\"type\":\"choropleth\"}],\"contourcarpet\":[{\"colorbar\":{\"outlinewidth\":0,\"ticks\":\"\"},\"type\":\"contourcarpet\"}],\"contour\":[{\"colorbar\":{\"outlinewidth\":0,\"ticks\":\"\"},\"colorscale\":[[0.0,\"#0d0887\"],[0.1111111111111111,\"#46039f\"],[0.2222222222222222,\"#7201a8\"],[0.3333333333333333,\"#9c179e\"],[0.4444444444444444,\"#bd3786\"],[0.5555555555555556,\"#d8576b\"],[0.6666666666666666,\"#ed7953\"],[0.7777777777777778,\"#fb9f3a\"],[0.8888888888888888,\"#fdca26\"],[1.0,\"#f0f921\"]],\"type\":\"contour\"}],\"heatmapgl\":[{\"colorbar\":{\"outlinewidth\":0,\"ticks\":\"\"},\"colorscale\":[[0.0,\"#0d0887\"],[0.1111111111111111,\"#46039f\"],[0.2222222222222222,\"#7201a8\"],[0.3333333333333333,\"#9c179e\"],[0.4444444444444444,\"#bd3786\"],[0.5555555555555556,\"#d8576b\"],[0.6666666666666666,\"#ed7953\"],[0.7777777777777778,\"#fb9f3a\"],[0.8888888888888888,\"#fdca26\"],[1.0,\"#f0f921\"]],\"type\":\"heatmapgl\"}],\"heatmap\":[{\"colorbar\":{\"outlinewidth\":0,\"ticks\":\"\"},\"colorscale\":[[0.0,\"#0d0887\"],[0.1111111111111111,\"#46039f\"],[0.2222222222222222,\"#7201a8\"],[0.3333333333333333,\"#9c179e\"],[0.4444444444444444,\"#bd3786\"],[0.5555555555555556,\"#d8576b\"],[0.6666666666666666,\"#ed7953\"],[0.7777777777777778,\"#fb9f3a\"],[0.8888888888888888,\"#fdca26\"],[1.0,\"#f0f921\"]],\"type\":\"heatmap\"}],\"histogram2dcontour\":[{\"colorbar\":{\"outlinewidth\":0,\"ticks\":\"\"},\"colorscale\":[[0.0,\"#0d0887\"],[0.1111111111111111,\"#46039f\"],[0.2222222222222222,\"#7201a8\"],[0.3333333333333333,\"#9c179e\"],[0.4444444444444444,\"#bd3786\"],[0.5555555555555556,\"#d8576b\"],[0.6666666666666666,\"#ed7953\"],[0.7777777777777778,\"#fb9f3a\"],[0.8888888888888888,\"#fdca26\"],[1.0,\"#f0f921\"]],\"type\":\"histogram2dcontour\"}],\"histogram2d\":[{\"colorbar\":{\"outlinewidth\":0,\"ticks\":\"\"},\"colorscale\":[[0.0,\"#0d0887\"],[0.1111111111111111,\"#46039f\"],[0.2222222222222222,\"#7201a8\"],[0.3333333333333333,\"#9c179e\"],[0.4444444444444444,\"#bd3786\"],[0.5555555555555556,\"#d8576b\"],[0.6666666666666666,\"#ed7953\"],[0.7777777777777778,\"#fb9f3a\"],[0.8888888888888888,\"#fdca26\"],[1.0,\"#f0f921\"]],\"type\":\"histogram2d\"}],\"histogram\":[{\"marker\":{\"pattern\":{\"fillmode\":\"overlay\",\"size\":10,\"solidity\":0.2}},\"type\":\"histogram\"}],\"mesh3d\":[{\"colorbar\":{\"outlinewidth\":0,\"ticks\":\"\"},\"type\":\"mesh3d\"}],\"parcoords\":[{\"line\":{\"colorbar\":{\"outlinewidth\":0,\"ticks\":\"\"}},\"type\":\"parcoords\"}],\"pie\":[{\"automargin\":true,\"type\":\"pie\"}],\"scatter3d\":[{\"line\":{\"colorbar\":{\"outlinewidth\":0,\"ticks\":\"\"}},\"marker\":{\"colorbar\":{\"outlinewidth\":0,\"ticks\":\"\"}},\"type\":\"scatter3d\"}],\"scattercarpet\":[{\"marker\":{\"colorbar\":{\"outlinewidth\":0,\"ticks\":\"\"}},\"type\":\"scattercarpet\"}],\"scattergeo\":[{\"marker\":{\"colorbar\":{\"outlinewidth\":0,\"ticks\":\"\"}},\"type\":\"scattergeo\"}],\"scattergl\":[{\"marker\":{\"colorbar\":{\"outlinewidth\":0,\"ticks\":\"\"}},\"type\":\"scattergl\"}],\"scattermapbox\":[{\"marker\":{\"colorbar\":{\"outlinewidth\":0,\"ticks\":\"\"}},\"type\":\"scattermapbox\"}],\"scatterpolargl\":[{\"marker\":{\"colorbar\":{\"outlinewidth\":0,\"ticks\":\"\"}},\"type\":\"scatterpolargl\"}],\"scatterpolar\":[{\"marker\":{\"colorbar\":{\"outlinewidth\":0,\"ticks\":\"\"}},\"type\":\"scatterpolar\"}],\"scatter\":[{\"fillpattern\":{\"fillmode\":\"overlay\",\"size\":10,\"solidity\":0.2},\"type\":\"scatter\"}],\"scatterternary\":[{\"marker\":{\"colorbar\":{\"outlinewidth\":0,\"ticks\":\"\"}},\"type\":\"scatterternary\"}],\"surface\":[{\"colorbar\":{\"outlinewidth\":0,\"ticks\":\"\"},\"colorscale\":[[0.0,\"#0d0887\"],[0.1111111111111111,\"#46039f\"],[0.2222222222222222,\"#7201a8\"],[0.3333333333333333,\"#9c179e\"],[0.4444444444444444,\"#bd3786\"],[0.5555555555555556,\"#d8576b\"],[0.6666666666666666,\"#ed7953\"],[0.7777777777777778,\"#fb9f3a\"],[0.8888888888888888,\"#fdca26\"],[1.0,\"#f0f921\"]],\"type\":\"surface\"}],\"table\":[{\"cells\":{\"fill\":{\"color\":\"#EBF0F8\"},\"line\":{\"color\":\"white\"}},\"header\":{\"fill\":{\"color\":\"#C8D4E3\"},\"line\":{\"color\":\"white\"}},\"type\":\"table\"}]},\"layout\":{\"annotationdefaults\":{\"arrowcolor\":\"#2a3f5f\",\"arrowhead\":0,\"arrowwidth\":1},\"autotypenumbers\":\"strict\",\"coloraxis\":{\"colorbar\":{\"outlinewidth\":0,\"ticks\":\"\"}},\"colorscale\":{\"diverging\":[[0,\"#8e0152\"],[0.1,\"#c51b7d\"],[0.2,\"#de77ae\"],[0.3,\"#f1b6da\"],[0.4,\"#fde0ef\"],[0.5,\"#f7f7f7\"],[0.6,\"#e6f5d0\"],[0.7,\"#b8e186\"],[0.8,\"#7fbc41\"],[0.9,\"#4d9221\"],[1,\"#276419\"]],\"sequential\":[[0.0,\"#0d0887\"],[0.1111111111111111,\"#46039f\"],[0.2222222222222222,\"#7201a8\"],[0.3333333333333333,\"#9c179e\"],[0.4444444444444444,\"#bd3786\"],[0.5555555555555556,\"#d8576b\"],[0.6666666666666666,\"#ed7953\"],[0.7777777777777778,\"#fb9f3a\"],[0.8888888888888888,\"#fdca26\"],[1.0,\"#f0f921\"]],\"sequentialminus\":[[0.0,\"#0d0887\"],[0.1111111111111111,\"#46039f\"],[0.2222222222222222,\"#7201a8\"],[0.3333333333333333,\"#9c179e\"],[0.4444444444444444,\"#bd3786\"],[0.5555555555555556,\"#d8576b\"],[0.6666666666666666,\"#ed7953\"],[0.7777777777777778,\"#fb9f3a\"],[0.8888888888888888,\"#fdca26\"],[1.0,\"#f0f921\"]]},\"colorway\":[\"#636efa\",\"#EF553B\",\"#00cc96\",\"#ab63fa\",\"#FFA15A\",\"#19d3f3\",\"#FF6692\",\"#B6E880\",\"#FF97FF\",\"#FECB52\"],\"font\":{\"color\":\"#2a3f5f\"},\"geo\":{\"bgcolor\":\"white\",\"lakecolor\":\"white\",\"landcolor\":\"#E5ECF6\",\"showlakes\":true,\"showland\":true,\"subunitcolor\":\"white\"},\"hoverlabel\":{\"align\":\"left\"},\"hovermode\":\"closest\",\"mapbox\":{\"style\":\"light\"},\"paper_bgcolor\":\"white\",\"plot_bgcolor\":\"#E5ECF6\",\"polar\":{\"angularaxis\":{\"gridcolor\":\"white\",\"linecolor\":\"white\",\"ticks\":\"\"},\"bgcolor\":\"#E5ECF6\",\"radialaxis\":{\"gridcolor\":\"white\",\"linecolor\":\"white\",\"ticks\":\"\"}},\"scene\":{\"xaxis\":{\"backgroundcolor\":\"#E5ECF6\",\"gridcolor\":\"white\",\"gridwidth\":2,\"linecolor\":\"white\",\"showbackground\":true,\"ticks\":\"\",\"zerolinecolor\":\"white\"},\"yaxis\":{\"backgroundcolor\":\"#E5ECF6\",\"gridcolor\":\"white\",\"gridwidth\":2,\"linecolor\":\"white\",\"showbackground\":true,\"ticks\":\"\",\"zerolinecolor\":\"white\"},\"zaxis\":{\"backgroundcolor\":\"#E5ECF6\",\"gridcolor\":\"white\",\"gridwidth\":2,\"linecolor\":\"white\",\"showbackground\":true,\"ticks\":\"\",\"zerolinecolor\":\"white\"}},\"shapedefaults\":{\"line\":{\"color\":\"#2a3f5f\"}},\"ternary\":{\"aaxis\":{\"gridcolor\":\"white\",\"linecolor\":\"white\",\"ticks\":\"\"},\"baxis\":{\"gridcolor\":\"white\",\"linecolor\":\"white\",\"ticks\":\"\"},\"bgcolor\":\"#E5ECF6\",\"caxis\":{\"gridcolor\":\"white\",\"linecolor\":\"white\",\"ticks\":\"\"}},\"title\":{\"x\":0.05},\"xaxis\":{\"automargin\":true,\"gridcolor\":\"white\",\"linecolor\":\"white\",\"ticks\":\"\",\"title\":{\"standoff\":15},\"zerolinecolor\":\"white\",\"zerolinewidth\":2},\"yaxis\":{\"automargin\":true,\"gridcolor\":\"white\",\"linecolor\":\"white\",\"ticks\":\"\",\"title\":{\"standoff\":15},\"zerolinecolor\":\"white\",\"zerolinewidth\":2}}},\"title\":{\"font\":{\"color\":\"#D9D9D9\"},\"text\":\"\\u041f\\u0440\\u043e\\u0433\\u043d\\u043e\\u0437 vs \\u0420\\u0435\\u0430\\u043b\\u044c\\u043d\\u044b\\u0435 \\u0437\\u043d\\u0430\\u0447\\u0435\\u043d\\u0438\\u044f (\\u0422\\u0435\\u0441\\u0442) \\u0434\\u043b\\u044f humidity\"},\"xaxis\":{\"gridcolor\":\"#434343\",\"showgrid\":true,\"tickfont\":{\"color\":\"#C2C2C2\"},\"title\":{\"font\":{\"color\":\"#D9D9D9\"},\"text\":\"\\u0412\\u0440\\u0435\\u043c\\u044f\"},\"zerolinecolor\":\"#666570\"},\"yaxis\":{\"gridcolor\":\"#434343\",\"showgrid\":true,\"tickfont\":{\"color\":\"#C2C2C2\"},\"title\":{\"font\":{\"color\":\"#D9D9D9\"},\"text\":\"\\u0417\\u043d\\u0430\\u0447\\u0435\\u043d\\u0438\\u0435\"},\"zerolinecolor\":\"#666570\"}},                        {\"showLink\": true, \"linkText\": \"Export to plot.ly\", \"plotlyServerURL\": \"https://plot.ly\", \"responsive\": true}                    ).then(function(){\n",
       "                            \n",
       "var gd = document.getElementById('1d52c0c1-5d24-4528-a71e-0af319930114');\n",
       "var x = new MutationObserver(function (mutations, observer) {{\n",
       "        var display = window.getComputedStyle(gd).display;\n",
       "        if (!display || display === 'none') {{\n",
       "            console.log([gd, 'removed!']);\n",
       "            Plotly.purge(gd);\n",
       "            observer.disconnect();\n",
       "        }}\n",
       "}});\n",
       "\n",
       "// Listen for the removal of the full notebook cells\n",
       "var notebookContainer = gd.closest('#notebook-container');\n",
       "if (notebookContainer) {{\n",
       "    x.observe(notebookContainer, {childList: true});\n",
       "}}\n",
       "\n",
       "// Listen for the clearing of the current output cell\n",
       "var outputEl = gd.closest('.output');\n",
       "if (outputEl) {{\n",
       "    x.observe(outputEl, {childList: true});\n",
       "}}\n",
       "\n",
       "                        })                };                });            </script>        </div>"
      ]
     },
     "metadata": {},
     "output_type": "display_data"
    },
    {
     "name": "stdout",
     "output_type": "stream",
     "text": [
      "\u001b[1m10/10\u001b[0m \u001b[32m━━━━━━━━━━━━━━━━━━━━\u001b[0m\u001b[37m\u001b[0m \u001b[1m1s\u001b[0m 22ms/step\n",
      "MAPE: 11.665385170847138%\n",
      "MAE: 0.7950768335639486\n"
     ]
    },
    {
     "data": {
      "application/vnd.plotly.v1+json": {
       "config": {
        "linkText": "Export to plot.ly",
        "plotlyServerURL": "https://plot.ly",
        "showLink": true
       },
       "data": [
        {
         "line": {
          "color": "rgba(255, 153, 51, 1.0)",
          "dash": "solid",
          "shape": "linear",
          "width": 1.3
         },
         "mode": "lines",
         "name": "Actual",
         "text": "",
         "type": "scatter",
         "x": [
          0,
          1,
          2,
          3,
          4,
          5,
          6,
          7,
          8,
          9,
          10,
          11,
          12,
          13,
          14,
          15,
          16,
          17,
          18,
          19,
          20,
          21,
          22,
          23,
          24,
          25,
          26,
          27,
          28,
          29,
          30,
          31,
          32,
          33,
          34,
          35,
          36,
          37,
          38,
          39,
          40,
          41,
          42,
          43,
          44,
          45,
          46,
          47,
          48,
          49,
          50,
          51,
          52,
          53,
          54,
          55,
          56,
          57,
          58,
          59,
          60,
          61,
          62,
          63,
          64,
          65,
          66,
          67,
          68,
          69,
          70,
          71,
          72,
          73,
          74,
          75,
          76,
          77,
          78,
          79,
          80,
          81,
          82,
          83,
          84,
          85,
          86,
          87,
          88,
          89,
          90,
          91,
          92,
          93,
          94,
          95,
          96,
          97,
          98,
          99,
          100,
          101,
          102,
          103,
          104,
          105,
          106,
          107,
          108,
          109,
          110,
          111,
          112,
          113,
          114,
          115,
          116,
          117,
          118,
          119,
          120,
          121,
          122,
          123,
          124,
          125,
          126,
          127,
          128,
          129,
          130,
          131,
          132,
          133,
          134,
          135,
          136,
          137,
          138,
          139,
          140,
          141,
          142,
          143,
          144,
          145,
          146,
          147,
          148,
          149,
          150,
          151,
          152,
          153,
          154,
          155,
          156,
          157,
          158,
          159,
          160,
          161,
          162,
          163,
          164,
          165,
          166,
          167,
          168,
          169,
          170,
          171,
          172,
          173,
          174,
          175,
          176,
          177,
          178,
          179,
          180,
          181,
          182,
          183,
          184,
          185,
          186,
          187,
          188,
          189,
          190,
          191,
          192,
          193,
          194,
          195,
          196,
          197,
          198,
          199,
          200,
          201,
          202,
          203,
          204,
          205,
          206,
          207,
          208,
          209,
          210,
          211,
          212,
          213,
          214,
          215,
          216,
          217,
          218,
          219,
          220,
          221,
          222,
          223,
          224,
          225,
          226,
          227,
          228,
          229,
          230,
          231,
          232,
          233,
          234,
          235,
          236,
          237,
          238,
          239,
          240,
          241,
          242,
          243,
          244,
          245,
          246,
          247,
          248,
          249,
          250,
          251,
          252,
          253,
          254,
          255,
          256,
          257,
          258,
          259,
          260,
          261,
          262,
          263,
          264,
          265,
          266,
          267,
          268,
          269,
          270,
          271,
          272,
          273,
          274,
          275,
          276,
          277,
          278,
          279,
          280,
          281,
          282,
          283,
          284,
          285,
          286,
          287,
          288,
          289,
          290,
          291
         ],
         "y": [
          8.646666666666667,
          10.88125,
          6.84375,
          6.7125,
          3.5785714285714287,
          2.8466666666666667,
          12.2625,
          22.100000000000005,
          10.641666666666667,
          3.213333333333334,
          3.3687500000000004,
          9.393333333333334,
          9.156249999999996,
          6.546666666666667,
          7.293749999999999,
          7.021428571428571,
          4.333333333333333,
          12.035714285714286,
          5.4625,
          2.55,
          8,
          9.26875,
          3.4749999999999996,
          10.849999999999998,
          4.686666666666667,
          12.61875,
          5.225,
          16.04,
          19.380000000000003,
          18.643749999999997,
          10.425,
          9.8375,
          11.1125,
          9.386666666666663,
          7.175,
          4.566666666666666,
          14.01875,
          15.75,
          8.35,
          19.653846153846157,
          10.1875,
          6.949999999999999,
          3.8312500000000003,
          4.981249999999999,
          11.823076923076922,
          9.123076923076924,
          5.2125,
          8.575,
          9.513333333333334,
          6.4937499999999995,
          10.464285714285715,
          11.246666666666666,
          8.225,
          4.65,
          7.293333333333333,
          18.425,
          10.55625,
          7.774999999999999,
          5.1,
          8.07058823529412,
          4.16875,
          4.75,
          9.019999999999998,
          9.6125,
          8.45,
          9.3875,
          8.413333333333334,
          10.873333333333331,
          6.553333333333333,
          14.95,
          8.494736842105263,
          10.160869565217393,
          15.176923076923082,
          15.31818181818182,
          14.405555555555551,
          11.68125,
          9.4875,
          7.4071428571428575,
          9.133333333333336,
          11.93125,
          2.7812500000000004,
          3.2066666666666666,
          8.5,
          11,
          21.30625,
          8.485714285714284,
          9.26,
          10.08125,
          8.812500000000002,
          9.1625,
          12.85,
          11.859999999999998,
          10.513333333333332,
          11.39285714285714,
          7.425,
          10.857142857142858,
          9.387499999999998,
          7.643750000000001,
          8.91875,
          7.418750000000001,
          5.875000000000001,
          7.762499999999999,
          9.664285714285713,
          7.660000000000001,
          7.9937499999999995,
          5.435714285714285,
          8.449999999999998,
          6.793333333333333,
          8.35,
          5.231250000000001,
          1.96875,
          3.481250000000001,
          5.3375,
          8.878571428571428,
          5.91875,
          5.4333333333333345,
          6.731249999999999,
          4.7,
          8.046666666666665,
          5.5625,
          6.806666666666667,
          5.21875,
          7.271428571428571,
          4.371428571428571,
          6.6000000000000005,
          7.653333333333333,
          13.656249999999998,
          12.9625,
          11.48,
          8.687500000000002,
          7.768750000000001,
          2.43125,
          2.9125000000000005,
          6.485714285714287,
          4.293750000000001,
          5.186666666666667,
          2.43125,
          1.86,
          4.7,
          5.9125000000000005,
          6.375000000000001,
          5.45,
          7.927777777777779,
          4.319999999999999,
          6.926666666666667,
          7.852941176470587,
          9.440909090909091,
          9.55,
          10.159259259259262,
          7.82142857142857,
          3.848148148148149,
          3.2296296296296307,
          6.369999999999997,
          12.725,
          14.66666666666667,
          6.325,
          1.7222222222222223,
          1.9178571428571427,
          10.366666666666667,
          10.022222222222224,
          8.237037037037037,
          6.084,
          8.419230769230769,
          6.276923076923075,
          4.392592592592593,
          7.1499999999999995,
          7.2719999999999985,
          5.824999999999999,
          8.903846153846153,
          6.729629629629631,
          4.148,
          13.204347826086956,
          13.26315789473684,
          11.123076923076923,
          13.961538461538462,
          13.437499999999998,
          9.1,
          10.808333333333332,
          11.52222222222222,
          11.969230769230771,
          8.15,
          10.849999999999998,
          8.526666666666666,
          4.235714285714287,
          11.900000000000002,
          3.52,
          2.7076923076923083,
          17.908333333333335,
          2.0875,
          2.56923076923077,
          6.092,
          8.107407407407404,
          3.5714285714285734,
          5.496153846153845,
          3.1478260869565218,
          2.9869565217391307,
          1.7807692307692309,
          2.5200000000000005,
          3.963636363636364,
          2.582142857142858,
          3.1708333333333343,
          4.122222222222223,
          3.992592592592593,
          5.770370370370371,
          3.3249999999999997,
          3.2333333333333325,
          15.825,
          8.76153846153846,
          3.184000000000001,
          4.807407407407408,
          8.922222222222224,
          11.371428571428567,
          13.022222222222224,
          8.934782608695652,
          6.662962962962964,
          7.014285714285715,
          7.1160000000000005,
          7.668181818181818,
          6.459259259259259,
          9.124,
          10.695454545454549,
          13.323076923076924,
          11.546153846153846,
          11.188461538461535,
          12.388461538461542,
          5.699999999999998,
          6.044444444444444,
          7.277777777777776,
          1.7148148148148148,
          2.0130434782608697,
          1.6423076923076927,
          2.7153846153846155,
          1.4318181818181817,
          2.2320000000000007,
          4.122222222222222,
          5.784615384615384,
          2.411111111111111,
          8.172727272727274,
          12.750000000000002,
          7.074074074074075,
          3.225925925925927,
          2.968,
          2.784615384615385,
          4.3999999999999995,
          1.4961538461538462,
          4.087999999999999,
          7.138461538461538,
          11.55,
          7.779999999999999,
          2.8400000000000003,
          2.5050000000000003,
          2.7153846153846155,
          7.999999999999997,
          6.604347826086957,
          8.289473684210526,
          15.085000000000004,
          14.494117647058822,
          12.45909090909091,
          9.185714285714289,
          1.238888888888889,
          4.269565217391306,
          2.704166666666667,
          4.945833333333334,
          5.866666666666666,
          5.666666666666666,
          4.9523809523809526,
          2.5038461538461543,
          0.925,
          1.765,
          1.3125,
          5.355555555555556,
          4.716666666666667,
          3.2818181818181817,
          3.4300000000000006,
          8.027777777777775,
          9.879166666666666,
          3.9166666666666674,
          6.731578947368423,
          6.420833333333331,
          10.414285714285716,
          15.926666666666671,
          19.40476190476191,
          6.1809523809523785,
          1.205,
          5.236363636363636,
          9.085,
          8.784210526315787,
          8.335,
          3.547826086956522,
          6,
          6.266666666666667,
          7.325
         ]
        },
        {
         "line": {
          "color": "rgba(55, 128, 191, 1.0)",
          "dash": "solid",
          "shape": "linear",
          "width": 1.3
         },
         "mode": "lines",
         "name": "Predicted",
         "text": "",
         "type": "scatter",
         "x": [
          0,
          1,
          2,
          3,
          4,
          5,
          6,
          7,
          8,
          9,
          10,
          11,
          12,
          13,
          14,
          15,
          16,
          17,
          18,
          19,
          20,
          21,
          22,
          23,
          24,
          25,
          26,
          27,
          28,
          29,
          30,
          31,
          32,
          33,
          34,
          35,
          36,
          37,
          38,
          39,
          40,
          41,
          42,
          43,
          44,
          45,
          46,
          47,
          48,
          49,
          50,
          51,
          52,
          53,
          54,
          55,
          56,
          57,
          58,
          59,
          60,
          61,
          62,
          63,
          64,
          65,
          66,
          67,
          68,
          69,
          70,
          71,
          72,
          73,
          74,
          75,
          76,
          77,
          78,
          79,
          80,
          81,
          82,
          83,
          84,
          85,
          86,
          87,
          88,
          89,
          90,
          91,
          92,
          93,
          94,
          95,
          96,
          97,
          98,
          99,
          100,
          101,
          102,
          103,
          104,
          105,
          106,
          107,
          108,
          109,
          110,
          111,
          112,
          113,
          114,
          115,
          116,
          117,
          118,
          119,
          120,
          121,
          122,
          123,
          124,
          125,
          126,
          127,
          128,
          129,
          130,
          131,
          132,
          133,
          134,
          135,
          136,
          137,
          138,
          139,
          140,
          141,
          142,
          143,
          144,
          145,
          146,
          147,
          148,
          149,
          150,
          151,
          152,
          153,
          154,
          155,
          156,
          157,
          158,
          159,
          160,
          161,
          162,
          163,
          164,
          165,
          166,
          167,
          168,
          169,
          170,
          171,
          172,
          173,
          174,
          175,
          176,
          177,
          178,
          179,
          180,
          181,
          182,
          183,
          184,
          185,
          186,
          187,
          188,
          189,
          190,
          191,
          192,
          193,
          194,
          195,
          196,
          197,
          198,
          199,
          200,
          201,
          202,
          203,
          204,
          205,
          206,
          207,
          208,
          209,
          210,
          211,
          212,
          213,
          214,
          215,
          216,
          217,
          218,
          219,
          220,
          221,
          222,
          223,
          224,
          225,
          226,
          227,
          228,
          229,
          230,
          231,
          232,
          233,
          234,
          235,
          236,
          237,
          238,
          239,
          240,
          241,
          242,
          243,
          244,
          245,
          246,
          247,
          248,
          249,
          250,
          251,
          252,
          253,
          254,
          255,
          256,
          257,
          258,
          259,
          260,
          261,
          262,
          263,
          264,
          265,
          266,
          267,
          268,
          269,
          270,
          271,
          272,
          273,
          274,
          275,
          276,
          277,
          278,
          279,
          280,
          281,
          282,
          283,
          284,
          285,
          286,
          287,
          288,
          289,
          290,
          291
         ],
         "y": [
          8.340400695800781,
          10.004335403442383,
          5.697096347808838,
          6.268331050872803,
          3.591280698776245,
          2.7664332389831543,
          12.00247573852539,
          21.010149002075195,
          7.89253568649292,
          2.5497701168060303,
          3.8730297088623047,
          8.278754234313965,
          6.908145427703857,
          5.506906032562256,
          6.9974565505981445,
          6.728780269622803,
          3.7640464305877686,
          11.712505340576172,
          4.515249252319336,
          2.010798931121826,
          8.250335693359375,
          8.358006477355957,
          2.5985348224639893,
          10.350249290466309,
          4.218382835388184,
          11.544843673706055,
          4.560606479644775,
          14.951126098632812,
          17.664318084716797,
          15.63780689239502,
          8.628314018249512,
          8.169848442077637,
          9.48516845703125,
          7.311730861663818,
          5.9179558753967285,
          4.3644280433654785,
          13.703551292419434,
          14.264678955078125,
          6.126697063446045,
          18.4486083984375,
          7.630424976348877,
          5.002840518951416,
          3.8540236949920654,
          4.205782413482666,
          10.573391914367676,
          7.868641376495361,
          4.34492826461792,
          8.487343788146973,
          8.769207954406738,
          5.272377967834473,
          9.932234764099121,
          10.282060623168945,
          6.884993553161621,
          4.323873043060303,
          7.19398307800293,
          17.45146942138672,
          8.165360450744629,
          6.335940837860107,
          5.16317892074585,
          7.2771124839782715,
          3.2369987964630127,
          4.27073335647583,
          8.79065227508545,
          8.581793785095215,
          7.456047534942627,
          8.948906898498535,
          7.70815372467041,
          10.13511848449707,
          5.594326496124268,
          14.171121597290039,
          6.800040245056152,
          8.929409980773926,
          14.140894889831543,
          13.42319107055664,
          12.179394721984863,
          9.972278594970703,
          8.105423927307129,
          6.2899250984191895,
          8.138250350952148,
          10.920258522033691,
          2.4801862239837646,
          3.452404737472534,
          8.453670501708984,
          9.932452201843262,
          19.965900421142578,
          6.83999490737915,
          8.1105318069458,
          9.01741886138916,
          7.459087371826172,
          7.881538391113281,
          12.060325622558594,
          10.495314598083496,
          9.134867668151855,
          10.375652313232422,
          6.284675598144531,
          10.051955223083496,
          8.248777389526367,
          6.4948344230651855,
          8.291987419128418,
          6.6613264083862305,
          5.159107208251953,
          7.433197498321533,
          9.027052879333496,
          6.601398468017578,
          7.356246471405029,
          5.11285924911499,
          7.97319221496582,
          5.978655815124512,
          7.687227725982666,
          4.7849440574646,
          1.9057120084762573,
          3.7679388523101807,
          5.029269695281982,
          7.849742412567139,
          4.979781627655029,
          4.911981105804443,
          6.582485675811768,
          4.191786766052246,
          7.4668660163879395,
          5.001058578491211,
          6.202427387237549,
          4.870249271392822,
          6.749927997589111,
          3.8971598148345947,
          6.159104347229004,
          7.186424732208252,
          12.77245044708252,
          11.82453727722168,
          10.018165588378906,
          7.711050033569336,
          7.018528461456299,
          2.3923628330230713,
          2.9093544483184814,
          6.112152576446533,
          3.414215326309204,
          4.58933687210083,
          2.3074121475219727,
          1.9258522987365723,
          4.72351598739624,
          5.2160749435424805,
          5.488000869750977,
          4.857420444488525,
          7.464724063873291,
          3.862948417663574,
          6.466108322143555,
          7.363368034362793,
          8.54923152923584,
          8.71652889251709,
          9.290771484375,
          6.981992721557617,
          3.485649585723877,
          3.54795503616333,
          6.147587776184082,
          11.697587966918945,
          13.446394920349121,
          4.735728740692139,
          2.209913969039917,
          2.420334815979004,
          9.536142349243164,
          8.60466194152832,
          7.015333652496338,
          5.742616176605225,
          8.123129844665527,
          5.458978176116943,
          3.886019468307495,
          6.906020641326904,
          6.667884349822998,
          4.999692440032959,
          8.51878547668457,
          6.0200724601745605,
          3.7331061363220215,
          13.076541900634766,
          11.755331993103027,
          9.211085319519043,
          13.14281940460205,
          11.95380973815918,
          7.305140972137451,
          9.710614204406738,
          10.095915794372559,
          10.608258247375488,
          6.894209384918213,
          10.115735054016113,
          7.3574066162109375,
          3.456984519958496,
          11.743502616882324,
          2.649949073791504,
          2.188702344894409,
          17.851991653442383,
          1.129472255706787,
          2.357966184616089,
          5.766312599182129,
          5.838304042816162,
          2.74908447265625,
          5.042418003082275,
          2.985264778137207,
          2.7091801166534424,
          2.118001937866211,
          2.4326624870300293,
          3.646206855773926,
          2.1730713844299316,
          2.848283529281616,
          3.813225746154785,
          3.531186103820801,
          5.289973258972168,
          2.894697427749634,
          3.1661264896392822,
          15.753654479980469,
          7.078895568847656,
          1.965288758277893,
          4.756720542907715,
          7.796299457550049,
          9.86252212524414,
          11.986783981323242,
          7.650383472442627,
          6.1406145095825195,
          6.697110176086426,
          6.292361259460449,
          6.6960554122924805,
          5.811825275421143,
          8.707361221313477,
          9.926376342773438,
          12.2455472946167,
          10.071590423583984,
          9.990594863891602,
          11.114628791809082,
          4.479238033294678,
          5.598998546600342,
          6.7702813148498535,
          1.2836735248565674,
          2.3474984169006348,
          2.183648109436035,
          2.4781250953674316,
          1.172201156616211,
          1.9432077407836914,
          3.6438567638397217,
          5.050979137420654,
          1.7374557256698608,
          7.732117176055908,
          12.086495399475098,
          5.751810073852539,
          3.028630018234253,
          3.2609195709228516,
          2.6283180713653564,
          3.6796882152557373,
          1.2503297328948975,
          3.8294355869293213,
          6.553006172180176,
          10.494625091552734,
          6.367198467254639,
          2.4907991886138916,
          2.9099113941192627,
          2.780618190765381,
          7.189303874969482,
          5.615534782409668,
          7.434163570404053,
          14.464479446411133,
          12.976675987243652,
          10.80353832244873,
          8.012523651123047,
          1.9335970878601074,
          4.3528032302856445,
          2.9781293869018555,
          4.15661096572876,
          5.026247024536133,
          4.84114408493042,
          4.5249481201171875,
          2.4617257118225098,
          1.3188170194625854,
          1.9805022478103638,
          1.1029536724090576,
          4.706733226776123,
          3.887683153152466,
          2.5954689979553223,
          3.2536404132843018,
          7.6048407554626465,
          9.028242111206055,
          3.046469211578369,
          6.2006683349609375,
          5.989511966705322,
          9.410737037658691,
          15.057506561279297,
          17.469013214111328,
          4.941569805145264,
          2.4860591888427734,
          5.15208101272583,
          7.409943580627441,
          6.600409507751465,
          7.411705017089844,
          3.32053804397583,
          5.904955863952637,
          5.749139308929443,
          6.477964878082275
         ]
        }
       ],
       "layout": {
        "legend": {
         "bgcolor": "#151516",
         "font": {
          "color": "#D9D9D9"
         }
        },
        "paper_bgcolor": "#151516",
        "plot_bgcolor": "#151516",
        "template": {
         "data": {
          "bar": [
           {
            "error_x": {
             "color": "#2a3f5f"
            },
            "error_y": {
             "color": "#2a3f5f"
            },
            "marker": {
             "line": {
              "color": "#E5ECF6",
              "width": 0.5
             },
             "pattern": {
              "fillmode": "overlay",
              "size": 10,
              "solidity": 0.2
             }
            },
            "type": "bar"
           }
          ],
          "barpolar": [
           {
            "marker": {
             "line": {
              "color": "#E5ECF6",
              "width": 0.5
             },
             "pattern": {
              "fillmode": "overlay",
              "size": 10,
              "solidity": 0.2
             }
            },
            "type": "barpolar"
           }
          ],
          "carpet": [
           {
            "aaxis": {
             "endlinecolor": "#2a3f5f",
             "gridcolor": "white",
             "linecolor": "white",
             "minorgridcolor": "white",
             "startlinecolor": "#2a3f5f"
            },
            "baxis": {
             "endlinecolor": "#2a3f5f",
             "gridcolor": "white",
             "linecolor": "white",
             "minorgridcolor": "white",
             "startlinecolor": "#2a3f5f"
            },
            "type": "carpet"
           }
          ],
          "choropleth": [
           {
            "colorbar": {
             "outlinewidth": 0,
             "ticks": ""
            },
            "type": "choropleth"
           }
          ],
          "contour": [
           {
            "colorbar": {
             "outlinewidth": 0,
             "ticks": ""
            },
            "colorscale": [
             [
              0,
              "#0d0887"
             ],
             [
              0.1111111111111111,
              "#46039f"
             ],
             [
              0.2222222222222222,
              "#7201a8"
             ],
             [
              0.3333333333333333,
              "#9c179e"
             ],
             [
              0.4444444444444444,
              "#bd3786"
             ],
             [
              0.5555555555555556,
              "#d8576b"
             ],
             [
              0.6666666666666666,
              "#ed7953"
             ],
             [
              0.7777777777777778,
              "#fb9f3a"
             ],
             [
              0.8888888888888888,
              "#fdca26"
             ],
             [
              1,
              "#f0f921"
             ]
            ],
            "type": "contour"
           }
          ],
          "contourcarpet": [
           {
            "colorbar": {
             "outlinewidth": 0,
             "ticks": ""
            },
            "type": "contourcarpet"
           }
          ],
          "heatmap": [
           {
            "colorbar": {
             "outlinewidth": 0,
             "ticks": ""
            },
            "colorscale": [
             [
              0,
              "#0d0887"
             ],
             [
              0.1111111111111111,
              "#46039f"
             ],
             [
              0.2222222222222222,
              "#7201a8"
             ],
             [
              0.3333333333333333,
              "#9c179e"
             ],
             [
              0.4444444444444444,
              "#bd3786"
             ],
             [
              0.5555555555555556,
              "#d8576b"
             ],
             [
              0.6666666666666666,
              "#ed7953"
             ],
             [
              0.7777777777777778,
              "#fb9f3a"
             ],
             [
              0.8888888888888888,
              "#fdca26"
             ],
             [
              1,
              "#f0f921"
             ]
            ],
            "type": "heatmap"
           }
          ],
          "heatmapgl": [
           {
            "colorbar": {
             "outlinewidth": 0,
             "ticks": ""
            },
            "colorscale": [
             [
              0,
              "#0d0887"
             ],
             [
              0.1111111111111111,
              "#46039f"
             ],
             [
              0.2222222222222222,
              "#7201a8"
             ],
             [
              0.3333333333333333,
              "#9c179e"
             ],
             [
              0.4444444444444444,
              "#bd3786"
             ],
             [
              0.5555555555555556,
              "#d8576b"
             ],
             [
              0.6666666666666666,
              "#ed7953"
             ],
             [
              0.7777777777777778,
              "#fb9f3a"
             ],
             [
              0.8888888888888888,
              "#fdca26"
             ],
             [
              1,
              "#f0f921"
             ]
            ],
            "type": "heatmapgl"
           }
          ],
          "histogram": [
           {
            "marker": {
             "pattern": {
              "fillmode": "overlay",
              "size": 10,
              "solidity": 0.2
             }
            },
            "type": "histogram"
           }
          ],
          "histogram2d": [
           {
            "colorbar": {
             "outlinewidth": 0,
             "ticks": ""
            },
            "colorscale": [
             [
              0,
              "#0d0887"
             ],
             [
              0.1111111111111111,
              "#46039f"
             ],
             [
              0.2222222222222222,
              "#7201a8"
             ],
             [
              0.3333333333333333,
              "#9c179e"
             ],
             [
              0.4444444444444444,
              "#bd3786"
             ],
             [
              0.5555555555555556,
              "#d8576b"
             ],
             [
              0.6666666666666666,
              "#ed7953"
             ],
             [
              0.7777777777777778,
              "#fb9f3a"
             ],
             [
              0.8888888888888888,
              "#fdca26"
             ],
             [
              1,
              "#f0f921"
             ]
            ],
            "type": "histogram2d"
           }
          ],
          "histogram2dcontour": [
           {
            "colorbar": {
             "outlinewidth": 0,
             "ticks": ""
            },
            "colorscale": [
             [
              0,
              "#0d0887"
             ],
             [
              0.1111111111111111,
              "#46039f"
             ],
             [
              0.2222222222222222,
              "#7201a8"
             ],
             [
              0.3333333333333333,
              "#9c179e"
             ],
             [
              0.4444444444444444,
              "#bd3786"
             ],
             [
              0.5555555555555556,
              "#d8576b"
             ],
             [
              0.6666666666666666,
              "#ed7953"
             ],
             [
              0.7777777777777778,
              "#fb9f3a"
             ],
             [
              0.8888888888888888,
              "#fdca26"
             ],
             [
              1,
              "#f0f921"
             ]
            ],
            "type": "histogram2dcontour"
           }
          ],
          "mesh3d": [
           {
            "colorbar": {
             "outlinewidth": 0,
             "ticks": ""
            },
            "type": "mesh3d"
           }
          ],
          "parcoords": [
           {
            "line": {
             "colorbar": {
              "outlinewidth": 0,
              "ticks": ""
             }
            },
            "type": "parcoords"
           }
          ],
          "pie": [
           {
            "automargin": true,
            "type": "pie"
           }
          ],
          "scatter": [
           {
            "fillpattern": {
             "fillmode": "overlay",
             "size": 10,
             "solidity": 0.2
            },
            "type": "scatter"
           }
          ],
          "scatter3d": [
           {
            "line": {
             "colorbar": {
              "outlinewidth": 0,
              "ticks": ""
             }
            },
            "marker": {
             "colorbar": {
              "outlinewidth": 0,
              "ticks": ""
             }
            },
            "type": "scatter3d"
           }
          ],
          "scattercarpet": [
           {
            "marker": {
             "colorbar": {
              "outlinewidth": 0,
              "ticks": ""
             }
            },
            "type": "scattercarpet"
           }
          ],
          "scattergeo": [
           {
            "marker": {
             "colorbar": {
              "outlinewidth": 0,
              "ticks": ""
             }
            },
            "type": "scattergeo"
           }
          ],
          "scattergl": [
           {
            "marker": {
             "colorbar": {
              "outlinewidth": 0,
              "ticks": ""
             }
            },
            "type": "scattergl"
           }
          ],
          "scattermapbox": [
           {
            "marker": {
             "colorbar": {
              "outlinewidth": 0,
              "ticks": ""
             }
            },
            "type": "scattermapbox"
           }
          ],
          "scatterpolar": [
           {
            "marker": {
             "colorbar": {
              "outlinewidth": 0,
              "ticks": ""
             }
            },
            "type": "scatterpolar"
           }
          ],
          "scatterpolargl": [
           {
            "marker": {
             "colorbar": {
              "outlinewidth": 0,
              "ticks": ""
             }
            },
            "type": "scatterpolargl"
           }
          ],
          "scatterternary": [
           {
            "marker": {
             "colorbar": {
              "outlinewidth": 0,
              "ticks": ""
             }
            },
            "type": "scatterternary"
           }
          ],
          "surface": [
           {
            "colorbar": {
             "outlinewidth": 0,
             "ticks": ""
            },
            "colorscale": [
             [
              0,
              "#0d0887"
             ],
             [
              0.1111111111111111,
              "#46039f"
             ],
             [
              0.2222222222222222,
              "#7201a8"
             ],
             [
              0.3333333333333333,
              "#9c179e"
             ],
             [
              0.4444444444444444,
              "#bd3786"
             ],
             [
              0.5555555555555556,
              "#d8576b"
             ],
             [
              0.6666666666666666,
              "#ed7953"
             ],
             [
              0.7777777777777778,
              "#fb9f3a"
             ],
             [
              0.8888888888888888,
              "#fdca26"
             ],
             [
              1,
              "#f0f921"
             ]
            ],
            "type": "surface"
           }
          ],
          "table": [
           {
            "cells": {
             "fill": {
              "color": "#EBF0F8"
             },
             "line": {
              "color": "white"
             }
            },
            "header": {
             "fill": {
              "color": "#C8D4E3"
             },
             "line": {
              "color": "white"
             }
            },
            "type": "table"
           }
          ]
         },
         "layout": {
          "annotationdefaults": {
           "arrowcolor": "#2a3f5f",
           "arrowhead": 0,
           "arrowwidth": 1
          },
          "autotypenumbers": "strict",
          "coloraxis": {
           "colorbar": {
            "outlinewidth": 0,
            "ticks": ""
           }
          },
          "colorscale": {
           "diverging": [
            [
             0,
             "#8e0152"
            ],
            [
             0.1,
             "#c51b7d"
            ],
            [
             0.2,
             "#de77ae"
            ],
            [
             0.3,
             "#f1b6da"
            ],
            [
             0.4,
             "#fde0ef"
            ],
            [
             0.5,
             "#f7f7f7"
            ],
            [
             0.6,
             "#e6f5d0"
            ],
            [
             0.7,
             "#b8e186"
            ],
            [
             0.8,
             "#7fbc41"
            ],
            [
             0.9,
             "#4d9221"
            ],
            [
             1,
             "#276419"
            ]
           ],
           "sequential": [
            [
             0,
             "#0d0887"
            ],
            [
             0.1111111111111111,
             "#46039f"
            ],
            [
             0.2222222222222222,
             "#7201a8"
            ],
            [
             0.3333333333333333,
             "#9c179e"
            ],
            [
             0.4444444444444444,
             "#bd3786"
            ],
            [
             0.5555555555555556,
             "#d8576b"
            ],
            [
             0.6666666666666666,
             "#ed7953"
            ],
            [
             0.7777777777777778,
             "#fb9f3a"
            ],
            [
             0.8888888888888888,
             "#fdca26"
            ],
            [
             1,
             "#f0f921"
            ]
           ],
           "sequentialminus": [
            [
             0,
             "#0d0887"
            ],
            [
             0.1111111111111111,
             "#46039f"
            ],
            [
             0.2222222222222222,
             "#7201a8"
            ],
            [
             0.3333333333333333,
             "#9c179e"
            ],
            [
             0.4444444444444444,
             "#bd3786"
            ],
            [
             0.5555555555555556,
             "#d8576b"
            ],
            [
             0.6666666666666666,
             "#ed7953"
            ],
            [
             0.7777777777777778,
             "#fb9f3a"
            ],
            [
             0.8888888888888888,
             "#fdca26"
            ],
            [
             1,
             "#f0f921"
            ]
           ]
          },
          "colorway": [
           "#636efa",
           "#EF553B",
           "#00cc96",
           "#ab63fa",
           "#FFA15A",
           "#19d3f3",
           "#FF6692",
           "#B6E880",
           "#FF97FF",
           "#FECB52"
          ],
          "font": {
           "color": "#2a3f5f"
          },
          "geo": {
           "bgcolor": "white",
           "lakecolor": "white",
           "landcolor": "#E5ECF6",
           "showlakes": true,
           "showland": true,
           "subunitcolor": "white"
          },
          "hoverlabel": {
           "align": "left"
          },
          "hovermode": "closest",
          "mapbox": {
           "style": "light"
          },
          "paper_bgcolor": "white",
          "plot_bgcolor": "#E5ECF6",
          "polar": {
           "angularaxis": {
            "gridcolor": "white",
            "linecolor": "white",
            "ticks": ""
           },
           "bgcolor": "#E5ECF6",
           "radialaxis": {
            "gridcolor": "white",
            "linecolor": "white",
            "ticks": ""
           }
          },
          "scene": {
           "xaxis": {
            "backgroundcolor": "#E5ECF6",
            "gridcolor": "white",
            "gridwidth": 2,
            "linecolor": "white",
            "showbackground": true,
            "ticks": "",
            "zerolinecolor": "white"
           },
           "yaxis": {
            "backgroundcolor": "#E5ECF6",
            "gridcolor": "white",
            "gridwidth": 2,
            "linecolor": "white",
            "showbackground": true,
            "ticks": "",
            "zerolinecolor": "white"
           },
           "zaxis": {
            "backgroundcolor": "#E5ECF6",
            "gridcolor": "white",
            "gridwidth": 2,
            "linecolor": "white",
            "showbackground": true,
            "ticks": "",
            "zerolinecolor": "white"
           }
          },
          "shapedefaults": {
           "line": {
            "color": "#2a3f5f"
           }
          },
          "ternary": {
           "aaxis": {
            "gridcolor": "white",
            "linecolor": "white",
            "ticks": ""
           },
           "baxis": {
            "gridcolor": "white",
            "linecolor": "white",
            "ticks": ""
           },
           "bgcolor": "#E5ECF6",
           "caxis": {
            "gridcolor": "white",
            "linecolor": "white",
            "ticks": ""
           }
          },
          "title": {
           "x": 0.05
          },
          "xaxis": {
           "automargin": true,
           "gridcolor": "white",
           "linecolor": "white",
           "ticks": "",
           "title": {
            "standoff": 15
           },
           "zerolinecolor": "white",
           "zerolinewidth": 2
          },
          "yaxis": {
           "automargin": true,
           "gridcolor": "white",
           "linecolor": "white",
           "ticks": "",
           "title": {
            "standoff": 15
           },
           "zerolinecolor": "white",
           "zerolinewidth": 2
          }
         }
        },
        "title": {
         "font": {
          "color": "#D9D9D9"
         },
         "text": "Прогноз vs Реальные значения (Тест) для wind_speed"
        },
        "xaxis": {
         "gridcolor": "#434343",
         "showgrid": true,
         "tickfont": {
          "color": "#C2C2C2"
         },
         "title": {
          "font": {
           "color": "#D9D9D9"
          },
          "text": "Время"
         },
         "zerolinecolor": "#666570"
        },
        "yaxis": {
         "gridcolor": "#434343",
         "showgrid": true,
         "tickfont": {
          "color": "#C2C2C2"
         },
         "title": {
          "font": {
           "color": "#D9D9D9"
          },
          "text": "Значение"
         },
         "zerolinecolor": "#666570"
        }
       }
      },
      "text/html": [
       "<div>                            <div id=\"c3dd1704-19fa-4a9b-9a12-16bb35c03cbe\" class=\"plotly-graph-div\" style=\"height:525px; width:100%;\"></div>            <script type=\"text/javascript\">                require([\"plotly\"], function(Plotly) {                    window.PLOTLYENV=window.PLOTLYENV || {};\n",
       "                    window.PLOTLYENV.BASE_URL='https://plot.ly';                                    if (document.getElementById(\"c3dd1704-19fa-4a9b-9a12-16bb35c03cbe\")) {                    Plotly.newPlot(                        \"c3dd1704-19fa-4a9b-9a12-16bb35c03cbe\",                        [{\"line\":{\"color\":\"rgba(255, 153, 51, 1.0)\",\"dash\":\"solid\",\"shape\":\"linear\",\"width\":1.3},\"mode\":\"lines\",\"name\":\"Actual\",\"text\":\"\",\"x\":[0,1,2,3,4,5,6,7,8,9,10,11,12,13,14,15,16,17,18,19,20,21,22,23,24,25,26,27,28,29,30,31,32,33,34,35,36,37,38,39,40,41,42,43,44,45,46,47,48,49,50,51,52,53,54,55,56,57,58,59,60,61,62,63,64,65,66,67,68,69,70,71,72,73,74,75,76,77,78,79,80,81,82,83,84,85,86,87,88,89,90,91,92,93,94,95,96,97,98,99,100,101,102,103,104,105,106,107,108,109,110,111,112,113,114,115,116,117,118,119,120,121,122,123,124,125,126,127,128,129,130,131,132,133,134,135,136,137,138,139,140,141,142,143,144,145,146,147,148,149,150,151,152,153,154,155,156,157,158,159,160,161,162,163,164,165,166,167,168,169,170,171,172,173,174,175,176,177,178,179,180,181,182,183,184,185,186,187,188,189,190,191,192,193,194,195,196,197,198,199,200,201,202,203,204,205,206,207,208,209,210,211,212,213,214,215,216,217,218,219,220,221,222,223,224,225,226,227,228,229,230,231,232,233,234,235,236,237,238,239,240,241,242,243,244,245,246,247,248,249,250,251,252,253,254,255,256,257,258,259,260,261,262,263,264,265,266,267,268,269,270,271,272,273,274,275,276,277,278,279,280,281,282,283,284,285,286,287,288,289,290,291],\"y\":[8.646666666666667,10.88125,6.84375,6.7125,3.5785714285714287,2.8466666666666667,12.2625,22.100000000000005,10.641666666666667,3.213333333333334,3.3687500000000004,9.393333333333334,9.156249999999996,6.546666666666667,7.293749999999999,7.021428571428571,4.333333333333333,12.035714285714286,5.4625,2.55,8.0,9.26875,3.4749999999999996,10.849999999999998,4.686666666666667,12.61875,5.225,16.04,19.380000000000003,18.643749999999997,10.425,9.8375,11.1125,9.386666666666663,7.175,4.566666666666666,14.01875,15.75,8.35,19.653846153846157,10.1875,6.949999999999999,3.8312500000000003,4.981249999999999,11.823076923076922,9.123076923076924,5.2125,8.575,9.513333333333334,6.4937499999999995,10.464285714285715,11.246666666666666,8.225,4.65,7.293333333333333,18.425,10.55625,7.774999999999999,5.1,8.07058823529412,4.16875,4.75,9.019999999999998,9.6125,8.45,9.3875,8.413333333333334,10.873333333333331,6.553333333333333,14.95,8.494736842105263,10.160869565217393,15.176923076923082,15.31818181818182,14.405555555555551,11.68125,9.4875,7.4071428571428575,9.133333333333336,11.93125,2.7812500000000004,3.2066666666666666,8.5,11.0,21.30625,8.485714285714284,9.26,10.08125,8.812500000000002,9.1625,12.85,11.859999999999998,10.513333333333332,11.39285714285714,7.425,10.857142857142858,9.387499999999998,7.643750000000001,8.91875,7.418750000000001,5.875000000000001,7.762499999999999,9.664285714285713,7.660000000000001,7.9937499999999995,5.435714285714285,8.449999999999998,6.793333333333333,8.35,5.231250000000001,1.96875,3.481250000000001,5.3375,8.878571428571428,5.91875,5.4333333333333345,6.731249999999999,4.7,8.046666666666665,5.5625,6.806666666666667,5.21875,7.271428571428571,4.371428571428571,6.6000000000000005,7.653333333333333,13.656249999999998,12.9625,11.48,8.687500000000002,7.768750000000001,2.43125,2.9125000000000005,6.485714285714287,4.293750000000001,5.186666666666667,2.43125,1.86,4.7,5.9125000000000005,6.375000000000001,5.45,7.927777777777779,4.319999999999999,6.926666666666667,7.852941176470587,9.440909090909091,9.55,10.159259259259262,7.82142857142857,3.848148148148149,3.2296296296296307,6.369999999999997,12.725,14.66666666666667,6.325,1.7222222222222223,1.9178571428571427,10.366666666666667,10.022222222222224,8.237037037037037,6.084,8.419230769230769,6.276923076923075,4.392592592592593,7.1499999999999995,7.2719999999999985,5.824999999999999,8.903846153846153,6.729629629629631,4.148,13.204347826086956,13.26315789473684,11.123076923076923,13.961538461538462,13.437499999999998,9.1,10.808333333333332,11.52222222222222,11.969230769230771,8.15,10.849999999999998,8.526666666666666,4.235714285714287,11.900000000000002,3.52,2.7076923076923083,17.908333333333335,2.0875,2.56923076923077,6.092,8.107407407407404,3.5714285714285734,5.496153846153845,3.1478260869565218,2.9869565217391307,1.7807692307692309,2.5200000000000005,3.963636363636364,2.582142857142858,3.1708333333333343,4.122222222222223,3.992592592592593,5.770370370370371,3.3249999999999997,3.2333333333333325,15.825,8.76153846153846,3.184000000000001,4.807407407407408,8.922222222222224,11.371428571428567,13.022222222222224,8.934782608695652,6.662962962962964,7.014285714285715,7.1160000000000005,7.668181818181818,6.459259259259259,9.124,10.695454545454549,13.323076923076924,11.546153846153846,11.188461538461535,12.388461538461542,5.699999999999998,6.044444444444444,7.277777777777776,1.7148148148148148,2.0130434782608697,1.6423076923076927,2.7153846153846155,1.4318181818181817,2.2320000000000007,4.122222222222222,5.784615384615384,2.411111111111111,8.172727272727274,12.750000000000002,7.074074074074075,3.225925925925927,2.968,2.784615384615385,4.3999999999999995,1.4961538461538462,4.087999999999999,7.138461538461538,11.55,7.779999999999999,2.8400000000000003,2.5050000000000003,2.7153846153846155,7.999999999999997,6.604347826086957,8.289473684210526,15.085000000000004,14.494117647058822,12.45909090909091,9.185714285714289,1.238888888888889,4.269565217391306,2.704166666666667,4.945833333333334,5.866666666666666,5.666666666666666,4.9523809523809526,2.5038461538461543,0.925,1.765,1.3125,5.355555555555556,4.716666666666667,3.2818181818181817,3.4300000000000006,8.027777777777775,9.879166666666666,3.9166666666666674,6.731578947368423,6.420833333333331,10.414285714285716,15.926666666666671,19.40476190476191,6.1809523809523785,1.205,5.236363636363636,9.085,8.784210526315787,8.335,3.547826086956522,6.0,6.266666666666667,7.325],\"type\":\"scatter\"},{\"line\":{\"color\":\"rgba(55, 128, 191, 1.0)\",\"dash\":\"solid\",\"shape\":\"linear\",\"width\":1.3},\"mode\":\"lines\",\"name\":\"Predicted\",\"text\":\"\",\"x\":[0,1,2,3,4,5,6,7,8,9,10,11,12,13,14,15,16,17,18,19,20,21,22,23,24,25,26,27,28,29,30,31,32,33,34,35,36,37,38,39,40,41,42,43,44,45,46,47,48,49,50,51,52,53,54,55,56,57,58,59,60,61,62,63,64,65,66,67,68,69,70,71,72,73,74,75,76,77,78,79,80,81,82,83,84,85,86,87,88,89,90,91,92,93,94,95,96,97,98,99,100,101,102,103,104,105,106,107,108,109,110,111,112,113,114,115,116,117,118,119,120,121,122,123,124,125,126,127,128,129,130,131,132,133,134,135,136,137,138,139,140,141,142,143,144,145,146,147,148,149,150,151,152,153,154,155,156,157,158,159,160,161,162,163,164,165,166,167,168,169,170,171,172,173,174,175,176,177,178,179,180,181,182,183,184,185,186,187,188,189,190,191,192,193,194,195,196,197,198,199,200,201,202,203,204,205,206,207,208,209,210,211,212,213,214,215,216,217,218,219,220,221,222,223,224,225,226,227,228,229,230,231,232,233,234,235,236,237,238,239,240,241,242,243,244,245,246,247,248,249,250,251,252,253,254,255,256,257,258,259,260,261,262,263,264,265,266,267,268,269,270,271,272,273,274,275,276,277,278,279,280,281,282,283,284,285,286,287,288,289,290,291],\"y\":[8.340400695800781,10.004335403442383,5.697096347808838,6.268331050872803,3.591280698776245,2.7664332389831543,12.00247573852539,21.010149002075195,7.89253568649292,2.5497701168060303,3.8730297088623047,8.278754234313965,6.908145427703857,5.506906032562256,6.9974565505981445,6.728780269622803,3.7640464305877686,11.712505340576172,4.515249252319336,2.010798931121826,8.250335693359375,8.358006477355957,2.5985348224639893,10.350249290466309,4.218382835388184,11.544843673706055,4.560606479644775,14.951126098632812,17.664318084716797,15.63780689239502,8.628314018249512,8.169848442077637,9.48516845703125,7.311730861663818,5.9179558753967285,4.3644280433654785,13.703551292419434,14.264678955078125,6.126697063446045,18.4486083984375,7.630424976348877,5.002840518951416,3.8540236949920654,4.205782413482666,10.573391914367676,7.868641376495361,4.34492826461792,8.487343788146973,8.769207954406738,5.272377967834473,9.932234764099121,10.282060623168945,6.884993553161621,4.323873043060303,7.19398307800293,17.45146942138672,8.165360450744629,6.335940837860107,5.16317892074585,7.2771124839782715,3.2369987964630127,4.27073335647583,8.79065227508545,8.581793785095215,7.456047534942627,8.948906898498535,7.70815372467041,10.13511848449707,5.594326496124268,14.171121597290039,6.800040245056152,8.929409980773926,14.140894889831543,13.42319107055664,12.179394721984863,9.972278594970703,8.105423927307129,6.2899250984191895,8.138250350952148,10.920258522033691,2.4801862239837646,3.452404737472534,8.453670501708984,9.932452201843262,19.965900421142578,6.83999490737915,8.1105318069458,9.01741886138916,7.459087371826172,7.881538391113281,12.060325622558594,10.495314598083496,9.134867668151855,10.375652313232422,6.284675598144531,10.051955223083496,8.248777389526367,6.4948344230651855,8.291987419128418,6.6613264083862305,5.159107208251953,7.433197498321533,9.027052879333496,6.601398468017578,7.356246471405029,5.11285924911499,7.97319221496582,5.978655815124512,7.687227725982666,4.7849440574646,1.9057120084762573,3.7679388523101807,5.029269695281982,7.849742412567139,4.979781627655029,4.911981105804443,6.582485675811768,4.191786766052246,7.4668660163879395,5.001058578491211,6.202427387237549,4.870249271392822,6.749927997589111,3.8971598148345947,6.159104347229004,7.186424732208252,12.77245044708252,11.82453727722168,10.018165588378906,7.711050033569336,7.018528461456299,2.3923628330230713,2.9093544483184814,6.112152576446533,3.414215326309204,4.58933687210083,2.3074121475219727,1.9258522987365723,4.72351598739624,5.2160749435424805,5.488000869750977,4.857420444488525,7.464724063873291,3.862948417663574,6.466108322143555,7.363368034362793,8.54923152923584,8.71652889251709,9.290771484375,6.981992721557617,3.485649585723877,3.54795503616333,6.147587776184082,11.697587966918945,13.446394920349121,4.735728740692139,2.209913969039917,2.420334815979004,9.536142349243164,8.60466194152832,7.015333652496338,5.742616176605225,8.123129844665527,5.458978176116943,3.886019468307495,6.906020641326904,6.667884349822998,4.999692440032959,8.51878547668457,6.0200724601745605,3.7331061363220215,13.076541900634766,11.755331993103027,9.211085319519043,13.14281940460205,11.95380973815918,7.305140972137451,9.710614204406738,10.095915794372559,10.608258247375488,6.894209384918213,10.115735054016113,7.3574066162109375,3.456984519958496,11.743502616882324,2.649949073791504,2.188702344894409,17.851991653442383,1.129472255706787,2.357966184616089,5.766312599182129,5.838304042816162,2.74908447265625,5.042418003082275,2.985264778137207,2.7091801166534424,2.118001937866211,2.4326624870300293,3.646206855773926,2.1730713844299316,2.848283529281616,3.813225746154785,3.531186103820801,5.289973258972168,2.894697427749634,3.1661264896392822,15.753654479980469,7.078895568847656,1.965288758277893,4.756720542907715,7.796299457550049,9.86252212524414,11.986783981323242,7.650383472442627,6.1406145095825195,6.697110176086426,6.292361259460449,6.6960554122924805,5.811825275421143,8.707361221313477,9.926376342773438,12.2455472946167,10.071590423583984,9.990594863891602,11.114628791809082,4.479238033294678,5.598998546600342,6.7702813148498535,1.2836735248565674,2.3474984169006348,2.183648109436035,2.4781250953674316,1.172201156616211,1.9432077407836914,3.6438567638397217,5.050979137420654,1.7374557256698608,7.732117176055908,12.086495399475098,5.751810073852539,3.028630018234253,3.2609195709228516,2.6283180713653564,3.6796882152557373,1.2503297328948975,3.8294355869293213,6.553006172180176,10.494625091552734,6.367198467254639,2.4907991886138916,2.9099113941192627,2.780618190765381,7.189303874969482,5.615534782409668,7.434163570404053,14.464479446411133,12.976675987243652,10.80353832244873,8.012523651123047,1.9335970878601074,4.3528032302856445,2.9781293869018555,4.15661096572876,5.026247024536133,4.84114408493042,4.5249481201171875,2.4617257118225098,1.3188170194625854,1.9805022478103638,1.1029536724090576,4.706733226776123,3.887683153152466,2.5954689979553223,3.2536404132843018,7.6048407554626465,9.028242111206055,3.046469211578369,6.2006683349609375,5.989511966705322,9.410737037658691,15.057506561279297,17.469013214111328,4.941569805145264,2.4860591888427734,5.15208101272583,7.409943580627441,6.600409507751465,7.411705017089844,3.32053804397583,5.904955863952637,5.749139308929443,6.477964878082275],\"type\":\"scatter\"}],                        {\"legend\":{\"bgcolor\":\"#151516\",\"font\":{\"color\":\"#D9D9D9\"}},\"paper_bgcolor\":\"#151516\",\"plot_bgcolor\":\"#151516\",\"template\":{\"data\":{\"barpolar\":[{\"marker\":{\"line\":{\"color\":\"#E5ECF6\",\"width\":0.5},\"pattern\":{\"fillmode\":\"overlay\",\"size\":10,\"solidity\":0.2}},\"type\":\"barpolar\"}],\"bar\":[{\"error_x\":{\"color\":\"#2a3f5f\"},\"error_y\":{\"color\":\"#2a3f5f\"},\"marker\":{\"line\":{\"color\":\"#E5ECF6\",\"width\":0.5},\"pattern\":{\"fillmode\":\"overlay\",\"size\":10,\"solidity\":0.2}},\"type\":\"bar\"}],\"carpet\":[{\"aaxis\":{\"endlinecolor\":\"#2a3f5f\",\"gridcolor\":\"white\",\"linecolor\":\"white\",\"minorgridcolor\":\"white\",\"startlinecolor\":\"#2a3f5f\"},\"baxis\":{\"endlinecolor\":\"#2a3f5f\",\"gridcolor\":\"white\",\"linecolor\":\"white\",\"minorgridcolor\":\"white\",\"startlinecolor\":\"#2a3f5f\"},\"type\":\"carpet\"}],\"choropleth\":[{\"colorbar\":{\"outlinewidth\":0,\"ticks\":\"\"},\"type\":\"choropleth\"}],\"contourcarpet\":[{\"colorbar\":{\"outlinewidth\":0,\"ticks\":\"\"},\"type\":\"contourcarpet\"}],\"contour\":[{\"colorbar\":{\"outlinewidth\":0,\"ticks\":\"\"},\"colorscale\":[[0.0,\"#0d0887\"],[0.1111111111111111,\"#46039f\"],[0.2222222222222222,\"#7201a8\"],[0.3333333333333333,\"#9c179e\"],[0.4444444444444444,\"#bd3786\"],[0.5555555555555556,\"#d8576b\"],[0.6666666666666666,\"#ed7953\"],[0.7777777777777778,\"#fb9f3a\"],[0.8888888888888888,\"#fdca26\"],[1.0,\"#f0f921\"]],\"type\":\"contour\"}],\"heatmapgl\":[{\"colorbar\":{\"outlinewidth\":0,\"ticks\":\"\"},\"colorscale\":[[0.0,\"#0d0887\"],[0.1111111111111111,\"#46039f\"],[0.2222222222222222,\"#7201a8\"],[0.3333333333333333,\"#9c179e\"],[0.4444444444444444,\"#bd3786\"],[0.5555555555555556,\"#d8576b\"],[0.6666666666666666,\"#ed7953\"],[0.7777777777777778,\"#fb9f3a\"],[0.8888888888888888,\"#fdca26\"],[1.0,\"#f0f921\"]],\"type\":\"heatmapgl\"}],\"heatmap\":[{\"colorbar\":{\"outlinewidth\":0,\"ticks\":\"\"},\"colorscale\":[[0.0,\"#0d0887\"],[0.1111111111111111,\"#46039f\"],[0.2222222222222222,\"#7201a8\"],[0.3333333333333333,\"#9c179e\"],[0.4444444444444444,\"#bd3786\"],[0.5555555555555556,\"#d8576b\"],[0.6666666666666666,\"#ed7953\"],[0.7777777777777778,\"#fb9f3a\"],[0.8888888888888888,\"#fdca26\"],[1.0,\"#f0f921\"]],\"type\":\"heatmap\"}],\"histogram2dcontour\":[{\"colorbar\":{\"outlinewidth\":0,\"ticks\":\"\"},\"colorscale\":[[0.0,\"#0d0887\"],[0.1111111111111111,\"#46039f\"],[0.2222222222222222,\"#7201a8\"],[0.3333333333333333,\"#9c179e\"],[0.4444444444444444,\"#bd3786\"],[0.5555555555555556,\"#d8576b\"],[0.6666666666666666,\"#ed7953\"],[0.7777777777777778,\"#fb9f3a\"],[0.8888888888888888,\"#fdca26\"],[1.0,\"#f0f921\"]],\"type\":\"histogram2dcontour\"}],\"histogram2d\":[{\"colorbar\":{\"outlinewidth\":0,\"ticks\":\"\"},\"colorscale\":[[0.0,\"#0d0887\"],[0.1111111111111111,\"#46039f\"],[0.2222222222222222,\"#7201a8\"],[0.3333333333333333,\"#9c179e\"],[0.4444444444444444,\"#bd3786\"],[0.5555555555555556,\"#d8576b\"],[0.6666666666666666,\"#ed7953\"],[0.7777777777777778,\"#fb9f3a\"],[0.8888888888888888,\"#fdca26\"],[1.0,\"#f0f921\"]],\"type\":\"histogram2d\"}],\"histogram\":[{\"marker\":{\"pattern\":{\"fillmode\":\"overlay\",\"size\":10,\"solidity\":0.2}},\"type\":\"histogram\"}],\"mesh3d\":[{\"colorbar\":{\"outlinewidth\":0,\"ticks\":\"\"},\"type\":\"mesh3d\"}],\"parcoords\":[{\"line\":{\"colorbar\":{\"outlinewidth\":0,\"ticks\":\"\"}},\"type\":\"parcoords\"}],\"pie\":[{\"automargin\":true,\"type\":\"pie\"}],\"scatter3d\":[{\"line\":{\"colorbar\":{\"outlinewidth\":0,\"ticks\":\"\"}},\"marker\":{\"colorbar\":{\"outlinewidth\":0,\"ticks\":\"\"}},\"type\":\"scatter3d\"}],\"scattercarpet\":[{\"marker\":{\"colorbar\":{\"outlinewidth\":0,\"ticks\":\"\"}},\"type\":\"scattercarpet\"}],\"scattergeo\":[{\"marker\":{\"colorbar\":{\"outlinewidth\":0,\"ticks\":\"\"}},\"type\":\"scattergeo\"}],\"scattergl\":[{\"marker\":{\"colorbar\":{\"outlinewidth\":0,\"ticks\":\"\"}},\"type\":\"scattergl\"}],\"scattermapbox\":[{\"marker\":{\"colorbar\":{\"outlinewidth\":0,\"ticks\":\"\"}},\"type\":\"scattermapbox\"}],\"scatterpolargl\":[{\"marker\":{\"colorbar\":{\"outlinewidth\":0,\"ticks\":\"\"}},\"type\":\"scatterpolargl\"}],\"scatterpolar\":[{\"marker\":{\"colorbar\":{\"outlinewidth\":0,\"ticks\":\"\"}},\"type\":\"scatterpolar\"}],\"scatter\":[{\"fillpattern\":{\"fillmode\":\"overlay\",\"size\":10,\"solidity\":0.2},\"type\":\"scatter\"}],\"scatterternary\":[{\"marker\":{\"colorbar\":{\"outlinewidth\":0,\"ticks\":\"\"}},\"type\":\"scatterternary\"}],\"surface\":[{\"colorbar\":{\"outlinewidth\":0,\"ticks\":\"\"},\"colorscale\":[[0.0,\"#0d0887\"],[0.1111111111111111,\"#46039f\"],[0.2222222222222222,\"#7201a8\"],[0.3333333333333333,\"#9c179e\"],[0.4444444444444444,\"#bd3786\"],[0.5555555555555556,\"#d8576b\"],[0.6666666666666666,\"#ed7953\"],[0.7777777777777778,\"#fb9f3a\"],[0.8888888888888888,\"#fdca26\"],[1.0,\"#f0f921\"]],\"type\":\"surface\"}],\"table\":[{\"cells\":{\"fill\":{\"color\":\"#EBF0F8\"},\"line\":{\"color\":\"white\"}},\"header\":{\"fill\":{\"color\":\"#C8D4E3\"},\"line\":{\"color\":\"white\"}},\"type\":\"table\"}]},\"layout\":{\"annotationdefaults\":{\"arrowcolor\":\"#2a3f5f\",\"arrowhead\":0,\"arrowwidth\":1},\"autotypenumbers\":\"strict\",\"coloraxis\":{\"colorbar\":{\"outlinewidth\":0,\"ticks\":\"\"}},\"colorscale\":{\"diverging\":[[0,\"#8e0152\"],[0.1,\"#c51b7d\"],[0.2,\"#de77ae\"],[0.3,\"#f1b6da\"],[0.4,\"#fde0ef\"],[0.5,\"#f7f7f7\"],[0.6,\"#e6f5d0\"],[0.7,\"#b8e186\"],[0.8,\"#7fbc41\"],[0.9,\"#4d9221\"],[1,\"#276419\"]],\"sequential\":[[0.0,\"#0d0887\"],[0.1111111111111111,\"#46039f\"],[0.2222222222222222,\"#7201a8\"],[0.3333333333333333,\"#9c179e\"],[0.4444444444444444,\"#bd3786\"],[0.5555555555555556,\"#d8576b\"],[0.6666666666666666,\"#ed7953\"],[0.7777777777777778,\"#fb9f3a\"],[0.8888888888888888,\"#fdca26\"],[1.0,\"#f0f921\"]],\"sequentialminus\":[[0.0,\"#0d0887\"],[0.1111111111111111,\"#46039f\"],[0.2222222222222222,\"#7201a8\"],[0.3333333333333333,\"#9c179e\"],[0.4444444444444444,\"#bd3786\"],[0.5555555555555556,\"#d8576b\"],[0.6666666666666666,\"#ed7953\"],[0.7777777777777778,\"#fb9f3a\"],[0.8888888888888888,\"#fdca26\"],[1.0,\"#f0f921\"]]},\"colorway\":[\"#636efa\",\"#EF553B\",\"#00cc96\",\"#ab63fa\",\"#FFA15A\",\"#19d3f3\",\"#FF6692\",\"#B6E880\",\"#FF97FF\",\"#FECB52\"],\"font\":{\"color\":\"#2a3f5f\"},\"geo\":{\"bgcolor\":\"white\",\"lakecolor\":\"white\",\"landcolor\":\"#E5ECF6\",\"showlakes\":true,\"showland\":true,\"subunitcolor\":\"white\"},\"hoverlabel\":{\"align\":\"left\"},\"hovermode\":\"closest\",\"mapbox\":{\"style\":\"light\"},\"paper_bgcolor\":\"white\",\"plot_bgcolor\":\"#E5ECF6\",\"polar\":{\"angularaxis\":{\"gridcolor\":\"white\",\"linecolor\":\"white\",\"ticks\":\"\"},\"bgcolor\":\"#E5ECF6\",\"radialaxis\":{\"gridcolor\":\"white\",\"linecolor\":\"white\",\"ticks\":\"\"}},\"scene\":{\"xaxis\":{\"backgroundcolor\":\"#E5ECF6\",\"gridcolor\":\"white\",\"gridwidth\":2,\"linecolor\":\"white\",\"showbackground\":true,\"ticks\":\"\",\"zerolinecolor\":\"white\"},\"yaxis\":{\"backgroundcolor\":\"#E5ECF6\",\"gridcolor\":\"white\",\"gridwidth\":2,\"linecolor\":\"white\",\"showbackground\":true,\"ticks\":\"\",\"zerolinecolor\":\"white\"},\"zaxis\":{\"backgroundcolor\":\"#E5ECF6\",\"gridcolor\":\"white\",\"gridwidth\":2,\"linecolor\":\"white\",\"showbackground\":true,\"ticks\":\"\",\"zerolinecolor\":\"white\"}},\"shapedefaults\":{\"line\":{\"color\":\"#2a3f5f\"}},\"ternary\":{\"aaxis\":{\"gridcolor\":\"white\",\"linecolor\":\"white\",\"ticks\":\"\"},\"baxis\":{\"gridcolor\":\"white\",\"linecolor\":\"white\",\"ticks\":\"\"},\"bgcolor\":\"#E5ECF6\",\"caxis\":{\"gridcolor\":\"white\",\"linecolor\":\"white\",\"ticks\":\"\"}},\"title\":{\"x\":0.05},\"xaxis\":{\"automargin\":true,\"gridcolor\":\"white\",\"linecolor\":\"white\",\"ticks\":\"\",\"title\":{\"standoff\":15},\"zerolinecolor\":\"white\",\"zerolinewidth\":2},\"yaxis\":{\"automargin\":true,\"gridcolor\":\"white\",\"linecolor\":\"white\",\"ticks\":\"\",\"title\":{\"standoff\":15},\"zerolinecolor\":\"white\",\"zerolinewidth\":2}}},\"title\":{\"font\":{\"color\":\"#D9D9D9\"},\"text\":\"\\u041f\\u0440\\u043e\\u0433\\u043d\\u043e\\u0437 vs \\u0420\\u0435\\u0430\\u043b\\u044c\\u043d\\u044b\\u0435 \\u0437\\u043d\\u0430\\u0447\\u0435\\u043d\\u0438\\u044f (\\u0422\\u0435\\u0441\\u0442) \\u0434\\u043b\\u044f wind_speed\"},\"xaxis\":{\"gridcolor\":\"#434343\",\"showgrid\":true,\"tickfont\":{\"color\":\"#C2C2C2\"},\"title\":{\"font\":{\"color\":\"#D9D9D9\"},\"text\":\"\\u0412\\u0440\\u0435\\u043c\\u044f\"},\"zerolinecolor\":\"#666570\"},\"yaxis\":{\"gridcolor\":\"#434343\",\"showgrid\":true,\"tickfont\":{\"color\":\"#C2C2C2\"},\"title\":{\"font\":{\"color\":\"#D9D9D9\"},\"text\":\"\\u0417\\u043d\\u0430\\u0447\\u0435\\u043d\\u0438\\u0435\"},\"zerolinecolor\":\"#666570\"}},                        {\"showLink\": true, \"linkText\": \"Export to plot.ly\", \"plotlyServerURL\": \"https://plot.ly\", \"responsive\": true}                    ).then(function(){\n",
       "                            \n",
       "var gd = document.getElementById('c3dd1704-19fa-4a9b-9a12-16bb35c03cbe');\n",
       "var x = new MutationObserver(function (mutations, observer) {{\n",
       "        var display = window.getComputedStyle(gd).display;\n",
       "        if (!display || display === 'none') {{\n",
       "            console.log([gd, 'removed!']);\n",
       "            Plotly.purge(gd);\n",
       "            observer.disconnect();\n",
       "        }}\n",
       "}});\n",
       "\n",
       "// Listen for the removal of the full notebook cells\n",
       "var notebookContainer = gd.closest('#notebook-container');\n",
       "if (notebookContainer) {{\n",
       "    x.observe(notebookContainer, {childList: true});\n",
       "}}\n",
       "\n",
       "// Listen for the clearing of the current output cell\n",
       "var outputEl = gd.closest('.output');\n",
       "if (outputEl) {{\n",
       "    x.observe(outputEl, {childList: true});\n",
       "}}\n",
       "\n",
       "                        })                };                });            </script>        </div>"
      ]
     },
     "metadata": {},
     "output_type": "display_data"
    },
    {
     "name": "stdout",
     "output_type": "stream",
     "text": [
      "\u001b[1m10/10\u001b[0m \u001b[32m━━━━━━━━━━━━━━━━━━━━\u001b[0m\u001b[37m\u001b[0m \u001b[1m0s\u001b[0m 23ms/step\n",
      "MAPE: 144.0475605039483%\n",
      "MAE: 42.451493903681325\n"
     ]
    },
    {
     "data": {
      "application/vnd.plotly.v1+json": {
       "config": {
        "linkText": "Export to plot.ly",
        "plotlyServerURL": "https://plot.ly",
        "showLink": true
       },
       "data": [
        {
         "line": {
          "color": "rgba(255, 153, 51, 1.0)",
          "dash": "solid",
          "shape": "linear",
          "width": 1.3
         },
         "mode": "lines",
         "name": "Actual",
         "text": "",
         "type": "scatter",
         "x": [
          0,
          1,
          2,
          3,
          4,
          5,
          6,
          7,
          8,
          9,
          10,
          11,
          12,
          13,
          14,
          15,
          16,
          17,
          18,
          19,
          20,
          21,
          22,
          23,
          24,
          25,
          26,
          27,
          28,
          29,
          30,
          31,
          32,
          33,
          34,
          35,
          36,
          37,
          38,
          39,
          40,
          41,
          42,
          43,
          44,
          45,
          46,
          47,
          48,
          49,
          50,
          51,
          52,
          53,
          54,
          55,
          56,
          57,
          58,
          59,
          60,
          61,
          62,
          63,
          64,
          65,
          66,
          67,
          68,
          69,
          70,
          71,
          72,
          73,
          74,
          75,
          76,
          77,
          78,
          79,
          80,
          81,
          82,
          83,
          84,
          85,
          86,
          87,
          88,
          89,
          90,
          91,
          92,
          93,
          94,
          95,
          96,
          97,
          98,
          99,
          100,
          101,
          102,
          103,
          104,
          105,
          106,
          107,
          108,
          109,
          110,
          111,
          112,
          113,
          114,
          115,
          116,
          117,
          118,
          119,
          120,
          121,
          122,
          123,
          124,
          125,
          126,
          127,
          128,
          129,
          130,
          131,
          132,
          133,
          134,
          135,
          136,
          137,
          138,
          139,
          140,
          141,
          142,
          143,
          144,
          145,
          146,
          147,
          148,
          149,
          150,
          151,
          152,
          153,
          154,
          155,
          156,
          157,
          158,
          159,
          160,
          161,
          162,
          163,
          164,
          165,
          166,
          167,
          168,
          169,
          170,
          171,
          172,
          173,
          174,
          175,
          176,
          177,
          178,
          179,
          180,
          181,
          182,
          183,
          184,
          185,
          186,
          187,
          188,
          189,
          190,
          191,
          192,
          193,
          194,
          195,
          196,
          197,
          198,
          199,
          200,
          201,
          202,
          203,
          204,
          205,
          206,
          207,
          208,
          209,
          210,
          211,
          212,
          213,
          214,
          215,
          216,
          217,
          218,
          219,
          220,
          221,
          222,
          223,
          224,
          225,
          226,
          227,
          228,
          229,
          230,
          231,
          232,
          233,
          234,
          235,
          236,
          237,
          238,
          239,
          240,
          241,
          242,
          243,
          244,
          245,
          246,
          247,
          248,
          249,
          250,
          251,
          252,
          253,
          254,
          255,
          256,
          257,
          258,
          259,
          260,
          261,
          262,
          263,
          264,
          265,
          266,
          267,
          268,
          269,
          270,
          271,
          272,
          273,
          274,
          275,
          276,
          277,
          278,
          279,
          280,
          281,
          282,
          283,
          284,
          285,
          286,
          287,
          288,
          289,
          290,
          291
         ],
         "y": [
          1014.8666666666667,
          1012.8125,
          1010.4375,
          1009.8125,
          1009.2142857142857,
          1010.3333333333333,
          1011.1249999999999,
          1009.3750000000001,
          1010.0000000000001,
          1013.3333333333334,
          1013.1875,
          1013.6000000000001,
          1012.8125,
          7679.333333333333,
          1011.3125,
          1011.1428571428572,
          1009.1999999999999,
          1006.7142857142856,
          1008,
          1008.375,
          1006.6875000000001,
          1007,
          1006.875,
          1007.2666666666668,
          1009.1999999999999,
          1009.3125,
          1008.8125,
          1009.3999999999999,
          1006.3333333333334,
          1003.3125,
          1003.8125,
          1004.625,
          1003.0625,
          1002.6666666666667,
          1004.6875,
          1005.8666666666667,
          1006.4375000000001,
          1003.4,
          1001.7272727272729,
          1001.8461538461537,
          1003.0625,
          1005.5625000000001,
          1007.1874999999999,
          1005.6875000000001,
          1004.6923076923076,
          1005.7142857142856,
          1004.8125000000001,
          1002.4375,
          1002.2,
          1004.3125,
          1003.7857142857143,
          1007.4666666666669,
          1007,
          1005.5625000000001,
          1005.9333333333332,
          1006.0625000000001,
          1006.5625000000001,
          1006.0625000000001,
          1002.2500000000001,
          1001.3529411764705,
          1003.1249999999999,
          1003.5625,
          1000.8,
          998.9374999999999,
          997.8125000000001,
          998.625,
          996.9333333333332,
          995.933333333333,
          996.4666666666668,
          999.5714285714284,
          1000.7368421052631,
          997.4782608695651,
          999.1538461538462,
          999.9545454545455,
          999.8333333333335,
          1001.2500000000001,
          1003.8125,
          1002.3076923076924,
          1002.7333333333331,
          1002.0000000000001,
          1002.2500000000001,
          1001.8666666666668,
          1002.8333333333333,
          1001.5714285714286,
          1002.0625,
          999.2142857142856,
          938.0666666666668,
          998.25,
          999,
          998.8124999999999,
          998.1874999999999,
          997.8125000000001,
          996.1333333333332,
          999,
          999.4285714285713,
          1000.8571428571428,
          1001.3750000000001,
          1000.6875,
          999.9374999999999,
          1001.5625,
          999.6923076923075,
          998.3124999999999,
          1000.0714285714284,
          1000.375,
          998.8666666666668,
          1001.5000000000001,
          1001.1875,
          997.8666666666667,
          1002.5625,
          998.375,
          998.25,
          997.125,
          995.5625,
          996.8666666666667,
          997.6875000000001,
          997.4,
          996.75,
          996.0625,
          997.75,
          999.0624999999999,
          998.4374999999999,
          998.375,
          998.625,
          999.875,
          1001.3333333333333,
          1000.8,
          999.875,
          999.625,
          999.2666666666668,
          999.3333333333335,
          1001.6250000000001,
          946.3125,
          1001.8750000000001,
          1003.1249999999999,
          1004.625,
          1002.0666666666667,
          1000.9375,
          1001.2,
          1000.6666666666666,
          999.125,
          310.4375,
          998.5,
          998.7777777777779,
          999.3333333333335,
          1000.8,
          1000.529411764706,
          999.6363636363635,
          998.5,
          999.3703703703706,
          1001.6071428571428,
          1002.2857142857146,
          1001.0714285714286,
          633.9,
          999.2857142857144,
          -3.0416666666666665,
          999.5185185185182,
          999.9230769230769,
          999.8928571428571,
          1000.16,
          1001.1923076923076,
          1002.8888888888888,
          1003.24,
          1002.4999999999999,
          1004.4230769230768,
          1005.2222222222221,
          1006.1428571428573,
          1006.2000000000002,
          1003.6071428571428,
          1002.1923076923076,
          1003.0370370370372,
          1002.44,
          1001.2727272727274,
          1001.1578947368421,
          1002.9230769230767,
          1003.2307692307692,
          1003.7499999999999,
          1003.4545454545456,
          1005.1666666666665,
          1004.3333333333334,
          1005.2307692307693,
          1003.8,
          1005.0714285714287,
          1006.4,
          1006.9285714285713,
          1004.75,
          1004.4,
          1003.1538461538463,
          1005,
          1004.7083333333334,
          1003.5185185185184,
          1005.4,
          1008.7777777777779,
          1005.3214285714287,
          1352.6153846153843,
          1004.782608695652,
          1006.7599999999999,
          1006.7037037037037,
          1005.28,
          1005.5909090909092,
          1005.5714285714287,
          1007.5,
          1009.1111111111111,
          1007.1851851851852,
          1005.3703703703704,
          1005.25,
          1007.1481481481482,
          1007.2000000000002,
          1006.8461538461538,
          1005.96,
          1006.1481481481482,
          1006.5925925925926,
          1006.25,
          1008.3333333333335,
          1009.1250000000001,
          1010.5185185185184,
          1011.8571428571428,
          1010.56,
          1009.4583333333335,
          1008.5555555555555,
          1007.5384615384617,
          1008.7272727272727,
          1009.3703703703703,
          1009.3076923076924,
          1008.2692307692307,
          1008.9230769230769,
          1011.7307692307692,
          1014.6296296296294,
          1012.4074074074073,
          1012.9999999999999,
          1014.6086956521741,
          1017.8076923076924,
          1016.3846153846152,
          1016.5909090909092,
          1016.2400000000001,
          1012.6296296296297,
          1010.3461538461537,
          1011.5185185185184,
          1012.7727272727271,
          1013.6400000000001,
          1014.6666666666666,
          1013.8148148148147,
          1014.08,
          1015.1538461538461,
          1016.5185185185185,
          1015.730769230769,
          1016.2400000000001,
          1017.5384615384617,
          1350.2962962962963,
          1014.6923076923077,
          1012.4666666666668,
          1013.3500000000001,
          1012.9999999999999,
          1012.8947368421052,
          1013.1739130434783,
          1014.9473684210525,
          1012.95,
          1013.25,
          1013.5909090909092,
          12.045454545454543,
          1015,
          1016.6086956521739,
          1016.875,
          1017.7500000000001,
          1019.3333333333333,
          1019.7,
          1017.0454545454544,
          1017.9615384615385,
          1017.421052631579,
          1016.2000000000002,
          1013.4166666666665,
          1014,
          1013.2916666666665,
          1014.181818181818,
          1015.0999999999999,
          1017.3333333333335,
          1016.6666666666666,
          1018.7777777777777,
          1016.9473684210526,
          1018.0833333333335,
          1017.4285714285713,
          1015.2000000000002,
          1015.6190476190476,
          1016.1428571428571,
          1014.25,
          1011.3181818181821,
          1014.3499999999999,
          1016.9523809523808,
          1017.1999999999999,
          1015.5652173913045,
          1016.9047619047622,
          1017.9047619047622,
          1016.1
         ]
        },
        {
         "line": {
          "color": "rgba(55, 128, 191, 1.0)",
          "dash": "solid",
          "shape": "linear",
          "width": 1.3
         },
         "mode": "lines",
         "name": "Predicted",
         "text": "",
         "type": "scatter",
         "x": [
          0,
          1,
          2,
          3,
          4,
          5,
          6,
          7,
          8,
          9,
          10,
          11,
          12,
          13,
          14,
          15,
          16,
          17,
          18,
          19,
          20,
          21,
          22,
          23,
          24,
          25,
          26,
          27,
          28,
          29,
          30,
          31,
          32,
          33,
          34,
          35,
          36,
          37,
          38,
          39,
          40,
          41,
          42,
          43,
          44,
          45,
          46,
          47,
          48,
          49,
          50,
          51,
          52,
          53,
          54,
          55,
          56,
          57,
          58,
          59,
          60,
          61,
          62,
          63,
          64,
          65,
          66,
          67,
          68,
          69,
          70,
          71,
          72,
          73,
          74,
          75,
          76,
          77,
          78,
          79,
          80,
          81,
          82,
          83,
          84,
          85,
          86,
          87,
          88,
          89,
          90,
          91,
          92,
          93,
          94,
          95,
          96,
          97,
          98,
          99,
          100,
          101,
          102,
          103,
          104,
          105,
          106,
          107,
          108,
          109,
          110,
          111,
          112,
          113,
          114,
          115,
          116,
          117,
          118,
          119,
          120,
          121,
          122,
          123,
          124,
          125,
          126,
          127,
          128,
          129,
          130,
          131,
          132,
          133,
          134,
          135,
          136,
          137,
          138,
          139,
          140,
          141,
          142,
          143,
          144,
          145,
          146,
          147,
          148,
          149,
          150,
          151,
          152,
          153,
          154,
          155,
          156,
          157,
          158,
          159,
          160,
          161,
          162,
          163,
          164,
          165,
          166,
          167,
          168,
          169,
          170,
          171,
          172,
          173,
          174,
          175,
          176,
          177,
          178,
          179,
          180,
          181,
          182,
          183,
          184,
          185,
          186,
          187,
          188,
          189,
          190,
          191,
          192,
          193,
          194,
          195,
          196,
          197,
          198,
          199,
          200,
          201,
          202,
          203,
          204,
          205,
          206,
          207,
          208,
          209,
          210,
          211,
          212,
          213,
          214,
          215,
          216,
          217,
          218,
          219,
          220,
          221,
          222,
          223,
          224,
          225,
          226,
          227,
          228,
          229,
          230,
          231,
          232,
          233,
          234,
          235,
          236,
          237,
          238,
          239,
          240,
          241,
          242,
          243,
          244,
          245,
          246,
          247,
          248,
          249,
          250,
          251,
          252,
          253,
          254,
          255,
          256,
          257,
          258,
          259,
          260,
          261,
          262,
          263,
          264,
          265,
          266,
          267,
          268,
          269,
          270,
          271,
          272,
          273,
          274,
          275,
          276,
          277,
          278,
          279,
          280,
          281,
          282,
          283,
          284,
          285,
          286,
          287,
          288,
          289,
          290,
          291
         ],
         "y": [
          1007.8370361328125,
          1007.8567504882812,
          1007.8529663085938,
          1007.8329467773438,
          1007.8228759765625,
          1007.8150634765625,
          1007.8226318359375,
          1007.8324584960938,
          1007.82470703125,
          1007.8187255859375,
          1007.83544921875,
          1007.8417358398438,
          1007.8511352539062,
          995.7172241210938,
          972.5543212890625,
          907.1243896484375,
          907.6392211914062,
          983.9421997070312,
          1007.8082275390625,
          1007.8090209960938,
          1007.8150634765625,
          1007.8114013671875,
          1007.81005859375,
          1007.8049926757812,
          1007.8067016601562,
          1007.8178100585938,
          1007.8228759765625,
          1007.8217163085938,
          1007.8280029296875,
          1007.8153076171875,
          1007.7942504882812,
          1007.7852172851562,
          1007.7937622070312,
          1007.7922973632812,
          1007.784423828125,
          1007.7894287109375,
          1007.7996215820312,
          1007.815673828125,
          1007.7999877929688,
          1007.7850952148438,
          1007.7742919921875,
          1007.77880859375,
          1007.7952880859375,
          1007.813232421875,
          1007.8107299804688,
          1007.7993774414062,
          1007.8006591796875,
          1007.80224609375,
          1007.7908935546875,
          1007.7786865234375,
          1007.7894287109375,
          1007.7846069335938,
          1007.81201171875,
          1007.8115234375,
          1007.8094482421875,
          1007.8023681640625,
          1007.8006591796875,
          1007.8082275390625,
          1007.8134765625,
          1007.7921752929688,
          1007.7767333984375,
          1007.7791137695312,
          1007.794921875,
          1007.7874755859375,
          1007.7730712890625,
          1007.7562255859375,
          1007.7649536132812,
          1007.7587280273438,
          1007.7531127929688,
          1007.7439575195312,
          1007.76220703125,
          1007.7825927734375,
          1007.765380859375,
          1007.7669067382812,
          1007.765625,
          1007.7717895507812,
          1007.7733764648438,
          1007.7921752929688,
          1007.7879638671875,
          1007.7928466796875,
          1007.78076171875,
          1007.7857666015625,
          1007.7796020507812,
          1007.78955078125,
          1007.7806396484375,
          1007.7908325195312,
          1007.9010620117188,
          1007.3378295898438,
          1007.6885986328125,
          1007.6458740234375,
          1007.87548828125,
          1007.7660522460938,
          1007.7650756835938,
          1007.747314453125,
          1007.7623901367188,
          1007.7627563476562,
          1007.7792358398438,
          1007.7813110351562,
          1007.7811889648438,
          1007.7708740234375,
          1007.78173828125,
          1007.7747802734375,
          1007.7649536132812,
          1007.7669677734375,
          1007.7747802734375,
          1007.7660522460938,
          1007.778564453125,
          1007.7833862304688,
          1007.7603759765625,
          1007.7890014648438,
          1007.7631225585938,
          1007.775146484375,
          1007.7550048828125,
          1007.7484741210938,
          1007.7509765625,
          1007.7571411132812,
          1007.7631225585938,
          1007.7594604492188,
          1007.7489013671875,
          1007.7548828125,
          1007.7660522460938,
          1007.7683715820312,
          1007.7661743164062,
          1007.7614135742188,
          1007.7672119140625,
          1007.7792358398438,
          1007.7815551757812,
          1007.7763671875,
          1007.77099609375,
          1007.7674560546875,
          1007.7637939453125,
          1007.896240234375,
          1007.3949584960938,
          1007.7207641601562,
          1007.6740112304688,
          1007.899658203125,
          1007.791259765625,
          1007.7816772460938,
          1007.7753295898438,
          1007.778076171875,
          1007.3546752929688,
          1003.063720703125,
          1004.7550048828125,
          1006.3031616210938,
          1008.0955200195312,
          1007.7760620117188,
          1007.778564453125,
          1007.7769775390625,
          1007.7640380859375,
          1007.761962890625,
          1007.774658203125,
          1007.78759765625,
          1007.953369140625,
          1005.8195190429688,
          1006.4067993164062,
          1000.979248046875,
          1004.4489135742188,
          1005.984619140625,
          1008.2603759765625,
          1007.7716674804688,
          1007.7738647460938,
          1007.7853393554688,
          1007.7924194335938,
          1007.7855224609375,
          1007.7924194335938,
          1007.7954711914062,
          1007.8068237304688,
          1007.81201171875,
          1007.7994995117188,
          1007.7846069335938,
          1007.784423828125,
          1007.7861328125,
          1007.7827758789062,
          1007.7741088867188,
          1007.7830200195312,
          1007.7877197265625,
          1007.79541015625,
          1007.7879638671875,
          1007.8004150390625,
          1007.7937622070312,
          1007.8052368164062,
          1007.7901000976562,
          1007.7965087890625,
          1007.8006591796875,
          1007.8150634765625,
          1007.8034057617188,
          1007.800048828125,
          1007.7830200195312,
          1007.7967529296875,
          1007.7979125976562,
          1007.7919311523438,
          1007.791015625,
          1007.8193969726562,
          1007.5823364257812,
          1009.5372314453125,
          1006.8596801757812,
          1008.298828125,
          1007.3480224609375,
          1007.8049926757812,
          1007.8018188476562,
          1007.795166015625,
          1007.8065795898438,
          1007.8221435546875,
          1007.8200073242188,
          1007.8065185546875,
          1007.7930908203125,
          1007.804443359375,
          1007.8106079101562,
          1007.8142700195312,
          1007.8047485351562,
          1007.8031616210938,
          1007.8057861328125,
          1007.8016967773438,
          1007.8128051757812,
          1007.815673828125,
          1007.8267211914062,
          1007.8370361328125,
          1007.8342895507812,
          1007.828125,
          1007.8187255859375,
          1007.8091430664062,
          1007.8140258789062,
          1007.8192138671875,
          1007.8257446289062,
          1007.8170166015625,
          1007.8125610351562,
          1007.8223876953125,
          1007.8512573242188,
          1007.8439331054688,
          1007.8421020507812,
          1007.8362426757812,
          1007.8657836914062,
          1007.8622436523438,
          1007.8660278320312,
          1007.8634033203125,
          1007.8487548828125,
          1007.8270874023438,
          1007.8226318359375,
          1007.8319091796875,
          1007.8427734375,
          1007.8521728515625,
          1007.8469848632812,
          1007.8457641601562,
          1007.84619140625,
          1007.8594970703125,
          1007.8566284179688,
          1007.8569946289062,
          1007.6326293945312,
          1009.5659790039062,
          1006.978271484375,
          1008.3232421875,
          1007.390380859375,
          1007.8372802734375,
          1007.8414306640625,
          1007.8368530273438,
          1007.8528442382812,
          1007.8427734375,
          1007.8443603515625,
          1006.8242797851562,
          1000.7808227539062,
          1004.3319091796875,
          1006.0855712890625,
          1008.3724365234375,
          1007.8640747070312,
          1007.8715209960938,
          1007.8825073242188,
          1007.8661499023438,
          1007.8677368164062,
          1007.8623657226562,
          1007.8668212890625,
          1007.8443603515625,
          1007.8450927734375,
          1007.8362426757812,
          1007.8450927734375,
          1007.844482421875,
          1007.8635864257812,
          1007.857666015625,
          1007.8764038085938,
          1007.85986328125,
          1007.8713989257812,
          1007.8661499023438,
          1007.8563842773438,
          1007.8519287109375,
          1007.8565063476562,
          1007.8566284179688,
          1007.8304443359375,
          1007.83544921875,
          1007.8519287109375,
          1007.8710327148438,
          1007.8580322265625,
          1007.8580322265625,
          1007.8659057617188
         ]
        }
       ],
       "layout": {
        "legend": {
         "bgcolor": "#151516",
         "font": {
          "color": "#D9D9D9"
         }
        },
        "paper_bgcolor": "#151516",
        "plot_bgcolor": "#151516",
        "template": {
         "data": {
          "bar": [
           {
            "error_x": {
             "color": "#2a3f5f"
            },
            "error_y": {
             "color": "#2a3f5f"
            },
            "marker": {
             "line": {
              "color": "#E5ECF6",
              "width": 0.5
             },
             "pattern": {
              "fillmode": "overlay",
              "size": 10,
              "solidity": 0.2
             }
            },
            "type": "bar"
           }
          ],
          "barpolar": [
           {
            "marker": {
             "line": {
              "color": "#E5ECF6",
              "width": 0.5
             },
             "pattern": {
              "fillmode": "overlay",
              "size": 10,
              "solidity": 0.2
             }
            },
            "type": "barpolar"
           }
          ],
          "carpet": [
           {
            "aaxis": {
             "endlinecolor": "#2a3f5f",
             "gridcolor": "white",
             "linecolor": "white",
             "minorgridcolor": "white",
             "startlinecolor": "#2a3f5f"
            },
            "baxis": {
             "endlinecolor": "#2a3f5f",
             "gridcolor": "white",
             "linecolor": "white",
             "minorgridcolor": "white",
             "startlinecolor": "#2a3f5f"
            },
            "type": "carpet"
           }
          ],
          "choropleth": [
           {
            "colorbar": {
             "outlinewidth": 0,
             "ticks": ""
            },
            "type": "choropleth"
           }
          ],
          "contour": [
           {
            "colorbar": {
             "outlinewidth": 0,
             "ticks": ""
            },
            "colorscale": [
             [
              0,
              "#0d0887"
             ],
             [
              0.1111111111111111,
              "#46039f"
             ],
             [
              0.2222222222222222,
              "#7201a8"
             ],
             [
              0.3333333333333333,
              "#9c179e"
             ],
             [
              0.4444444444444444,
              "#bd3786"
             ],
             [
              0.5555555555555556,
              "#d8576b"
             ],
             [
              0.6666666666666666,
              "#ed7953"
             ],
             [
              0.7777777777777778,
              "#fb9f3a"
             ],
             [
              0.8888888888888888,
              "#fdca26"
             ],
             [
              1,
              "#f0f921"
             ]
            ],
            "type": "contour"
           }
          ],
          "contourcarpet": [
           {
            "colorbar": {
             "outlinewidth": 0,
             "ticks": ""
            },
            "type": "contourcarpet"
           }
          ],
          "heatmap": [
           {
            "colorbar": {
             "outlinewidth": 0,
             "ticks": ""
            },
            "colorscale": [
             [
              0,
              "#0d0887"
             ],
             [
              0.1111111111111111,
              "#46039f"
             ],
             [
              0.2222222222222222,
              "#7201a8"
             ],
             [
              0.3333333333333333,
              "#9c179e"
             ],
             [
              0.4444444444444444,
              "#bd3786"
             ],
             [
              0.5555555555555556,
              "#d8576b"
             ],
             [
              0.6666666666666666,
              "#ed7953"
             ],
             [
              0.7777777777777778,
              "#fb9f3a"
             ],
             [
              0.8888888888888888,
              "#fdca26"
             ],
             [
              1,
              "#f0f921"
             ]
            ],
            "type": "heatmap"
           }
          ],
          "heatmapgl": [
           {
            "colorbar": {
             "outlinewidth": 0,
             "ticks": ""
            },
            "colorscale": [
             [
              0,
              "#0d0887"
             ],
             [
              0.1111111111111111,
              "#46039f"
             ],
             [
              0.2222222222222222,
              "#7201a8"
             ],
             [
              0.3333333333333333,
              "#9c179e"
             ],
             [
              0.4444444444444444,
              "#bd3786"
             ],
             [
              0.5555555555555556,
              "#d8576b"
             ],
             [
              0.6666666666666666,
              "#ed7953"
             ],
             [
              0.7777777777777778,
              "#fb9f3a"
             ],
             [
              0.8888888888888888,
              "#fdca26"
             ],
             [
              1,
              "#f0f921"
             ]
            ],
            "type": "heatmapgl"
           }
          ],
          "histogram": [
           {
            "marker": {
             "pattern": {
              "fillmode": "overlay",
              "size": 10,
              "solidity": 0.2
             }
            },
            "type": "histogram"
           }
          ],
          "histogram2d": [
           {
            "colorbar": {
             "outlinewidth": 0,
             "ticks": ""
            },
            "colorscale": [
             [
              0,
              "#0d0887"
             ],
             [
              0.1111111111111111,
              "#46039f"
             ],
             [
              0.2222222222222222,
              "#7201a8"
             ],
             [
              0.3333333333333333,
              "#9c179e"
             ],
             [
              0.4444444444444444,
              "#bd3786"
             ],
             [
              0.5555555555555556,
              "#d8576b"
             ],
             [
              0.6666666666666666,
              "#ed7953"
             ],
             [
              0.7777777777777778,
              "#fb9f3a"
             ],
             [
              0.8888888888888888,
              "#fdca26"
             ],
             [
              1,
              "#f0f921"
             ]
            ],
            "type": "histogram2d"
           }
          ],
          "histogram2dcontour": [
           {
            "colorbar": {
             "outlinewidth": 0,
             "ticks": ""
            },
            "colorscale": [
             [
              0,
              "#0d0887"
             ],
             [
              0.1111111111111111,
              "#46039f"
             ],
             [
              0.2222222222222222,
              "#7201a8"
             ],
             [
              0.3333333333333333,
              "#9c179e"
             ],
             [
              0.4444444444444444,
              "#bd3786"
             ],
             [
              0.5555555555555556,
              "#d8576b"
             ],
             [
              0.6666666666666666,
              "#ed7953"
             ],
             [
              0.7777777777777778,
              "#fb9f3a"
             ],
             [
              0.8888888888888888,
              "#fdca26"
             ],
             [
              1,
              "#f0f921"
             ]
            ],
            "type": "histogram2dcontour"
           }
          ],
          "mesh3d": [
           {
            "colorbar": {
             "outlinewidth": 0,
             "ticks": ""
            },
            "type": "mesh3d"
           }
          ],
          "parcoords": [
           {
            "line": {
             "colorbar": {
              "outlinewidth": 0,
              "ticks": ""
             }
            },
            "type": "parcoords"
           }
          ],
          "pie": [
           {
            "automargin": true,
            "type": "pie"
           }
          ],
          "scatter": [
           {
            "fillpattern": {
             "fillmode": "overlay",
             "size": 10,
             "solidity": 0.2
            },
            "type": "scatter"
           }
          ],
          "scatter3d": [
           {
            "line": {
             "colorbar": {
              "outlinewidth": 0,
              "ticks": ""
             }
            },
            "marker": {
             "colorbar": {
              "outlinewidth": 0,
              "ticks": ""
             }
            },
            "type": "scatter3d"
           }
          ],
          "scattercarpet": [
           {
            "marker": {
             "colorbar": {
              "outlinewidth": 0,
              "ticks": ""
             }
            },
            "type": "scattercarpet"
           }
          ],
          "scattergeo": [
           {
            "marker": {
             "colorbar": {
              "outlinewidth": 0,
              "ticks": ""
             }
            },
            "type": "scattergeo"
           }
          ],
          "scattergl": [
           {
            "marker": {
             "colorbar": {
              "outlinewidth": 0,
              "ticks": ""
             }
            },
            "type": "scattergl"
           }
          ],
          "scattermapbox": [
           {
            "marker": {
             "colorbar": {
              "outlinewidth": 0,
              "ticks": ""
             }
            },
            "type": "scattermapbox"
           }
          ],
          "scatterpolar": [
           {
            "marker": {
             "colorbar": {
              "outlinewidth": 0,
              "ticks": ""
             }
            },
            "type": "scatterpolar"
           }
          ],
          "scatterpolargl": [
           {
            "marker": {
             "colorbar": {
              "outlinewidth": 0,
              "ticks": ""
             }
            },
            "type": "scatterpolargl"
           }
          ],
          "scatterternary": [
           {
            "marker": {
             "colorbar": {
              "outlinewidth": 0,
              "ticks": ""
             }
            },
            "type": "scatterternary"
           }
          ],
          "surface": [
           {
            "colorbar": {
             "outlinewidth": 0,
             "ticks": ""
            },
            "colorscale": [
             [
              0,
              "#0d0887"
             ],
             [
              0.1111111111111111,
              "#46039f"
             ],
             [
              0.2222222222222222,
              "#7201a8"
             ],
             [
              0.3333333333333333,
              "#9c179e"
             ],
             [
              0.4444444444444444,
              "#bd3786"
             ],
             [
              0.5555555555555556,
              "#d8576b"
             ],
             [
              0.6666666666666666,
              "#ed7953"
             ],
             [
              0.7777777777777778,
              "#fb9f3a"
             ],
             [
              0.8888888888888888,
              "#fdca26"
             ],
             [
              1,
              "#f0f921"
             ]
            ],
            "type": "surface"
           }
          ],
          "table": [
           {
            "cells": {
             "fill": {
              "color": "#EBF0F8"
             },
             "line": {
              "color": "white"
             }
            },
            "header": {
             "fill": {
              "color": "#C8D4E3"
             },
             "line": {
              "color": "white"
             }
            },
            "type": "table"
           }
          ]
         },
         "layout": {
          "annotationdefaults": {
           "arrowcolor": "#2a3f5f",
           "arrowhead": 0,
           "arrowwidth": 1
          },
          "autotypenumbers": "strict",
          "coloraxis": {
           "colorbar": {
            "outlinewidth": 0,
            "ticks": ""
           }
          },
          "colorscale": {
           "diverging": [
            [
             0,
             "#8e0152"
            ],
            [
             0.1,
             "#c51b7d"
            ],
            [
             0.2,
             "#de77ae"
            ],
            [
             0.3,
             "#f1b6da"
            ],
            [
             0.4,
             "#fde0ef"
            ],
            [
             0.5,
             "#f7f7f7"
            ],
            [
             0.6,
             "#e6f5d0"
            ],
            [
             0.7,
             "#b8e186"
            ],
            [
             0.8,
             "#7fbc41"
            ],
            [
             0.9,
             "#4d9221"
            ],
            [
             1,
             "#276419"
            ]
           ],
           "sequential": [
            [
             0,
             "#0d0887"
            ],
            [
             0.1111111111111111,
             "#46039f"
            ],
            [
             0.2222222222222222,
             "#7201a8"
            ],
            [
             0.3333333333333333,
             "#9c179e"
            ],
            [
             0.4444444444444444,
             "#bd3786"
            ],
            [
             0.5555555555555556,
             "#d8576b"
            ],
            [
             0.6666666666666666,
             "#ed7953"
            ],
            [
             0.7777777777777778,
             "#fb9f3a"
            ],
            [
             0.8888888888888888,
             "#fdca26"
            ],
            [
             1,
             "#f0f921"
            ]
           ],
           "sequentialminus": [
            [
             0,
             "#0d0887"
            ],
            [
             0.1111111111111111,
             "#46039f"
            ],
            [
             0.2222222222222222,
             "#7201a8"
            ],
            [
             0.3333333333333333,
             "#9c179e"
            ],
            [
             0.4444444444444444,
             "#bd3786"
            ],
            [
             0.5555555555555556,
             "#d8576b"
            ],
            [
             0.6666666666666666,
             "#ed7953"
            ],
            [
             0.7777777777777778,
             "#fb9f3a"
            ],
            [
             0.8888888888888888,
             "#fdca26"
            ],
            [
             1,
             "#f0f921"
            ]
           ]
          },
          "colorway": [
           "#636efa",
           "#EF553B",
           "#00cc96",
           "#ab63fa",
           "#FFA15A",
           "#19d3f3",
           "#FF6692",
           "#B6E880",
           "#FF97FF",
           "#FECB52"
          ],
          "font": {
           "color": "#2a3f5f"
          },
          "geo": {
           "bgcolor": "white",
           "lakecolor": "white",
           "landcolor": "#E5ECF6",
           "showlakes": true,
           "showland": true,
           "subunitcolor": "white"
          },
          "hoverlabel": {
           "align": "left"
          },
          "hovermode": "closest",
          "mapbox": {
           "style": "light"
          },
          "paper_bgcolor": "white",
          "plot_bgcolor": "#E5ECF6",
          "polar": {
           "angularaxis": {
            "gridcolor": "white",
            "linecolor": "white",
            "ticks": ""
           },
           "bgcolor": "#E5ECF6",
           "radialaxis": {
            "gridcolor": "white",
            "linecolor": "white",
            "ticks": ""
           }
          },
          "scene": {
           "xaxis": {
            "backgroundcolor": "#E5ECF6",
            "gridcolor": "white",
            "gridwidth": 2,
            "linecolor": "white",
            "showbackground": true,
            "ticks": "",
            "zerolinecolor": "white"
           },
           "yaxis": {
            "backgroundcolor": "#E5ECF6",
            "gridcolor": "white",
            "gridwidth": 2,
            "linecolor": "white",
            "showbackground": true,
            "ticks": "",
            "zerolinecolor": "white"
           },
           "zaxis": {
            "backgroundcolor": "#E5ECF6",
            "gridcolor": "white",
            "gridwidth": 2,
            "linecolor": "white",
            "showbackground": true,
            "ticks": "",
            "zerolinecolor": "white"
           }
          },
          "shapedefaults": {
           "line": {
            "color": "#2a3f5f"
           }
          },
          "ternary": {
           "aaxis": {
            "gridcolor": "white",
            "linecolor": "white",
            "ticks": ""
           },
           "baxis": {
            "gridcolor": "white",
            "linecolor": "white",
            "ticks": ""
           },
           "bgcolor": "#E5ECF6",
           "caxis": {
            "gridcolor": "white",
            "linecolor": "white",
            "ticks": ""
           }
          },
          "title": {
           "x": 0.05
          },
          "xaxis": {
           "automargin": true,
           "gridcolor": "white",
           "linecolor": "white",
           "ticks": "",
           "title": {
            "standoff": 15
           },
           "zerolinecolor": "white",
           "zerolinewidth": 2
          },
          "yaxis": {
           "automargin": true,
           "gridcolor": "white",
           "linecolor": "white",
           "ticks": "",
           "title": {
            "standoff": 15
           },
           "zerolinecolor": "white",
           "zerolinewidth": 2
          }
         }
        },
        "title": {
         "font": {
          "color": "#D9D9D9"
         },
         "text": "Прогноз vs Реальные значения (Тест) для meanpressure"
        },
        "xaxis": {
         "gridcolor": "#434343",
         "showgrid": true,
         "tickfont": {
          "color": "#C2C2C2"
         },
         "title": {
          "font": {
           "color": "#D9D9D9"
          },
          "text": "Время"
         },
         "zerolinecolor": "#666570"
        },
        "yaxis": {
         "gridcolor": "#434343",
         "showgrid": true,
         "tickfont": {
          "color": "#C2C2C2"
         },
         "title": {
          "font": {
           "color": "#D9D9D9"
          },
          "text": "Значение"
         },
         "zerolinecolor": "#666570"
        }
       }
      },
      "text/html": [
       "<div>                            <div id=\"a80728d6-6149-494a-be18-692977073d54\" class=\"plotly-graph-div\" style=\"height:525px; width:100%;\"></div>            <script type=\"text/javascript\">                require([\"plotly\"], function(Plotly) {                    window.PLOTLYENV=window.PLOTLYENV || {};\n",
       "                    window.PLOTLYENV.BASE_URL='https://plot.ly';                                    if (document.getElementById(\"a80728d6-6149-494a-be18-692977073d54\")) {                    Plotly.newPlot(                        \"a80728d6-6149-494a-be18-692977073d54\",                        [{\"line\":{\"color\":\"rgba(255, 153, 51, 1.0)\",\"dash\":\"solid\",\"shape\":\"linear\",\"width\":1.3},\"mode\":\"lines\",\"name\":\"Actual\",\"text\":\"\",\"x\":[0,1,2,3,4,5,6,7,8,9,10,11,12,13,14,15,16,17,18,19,20,21,22,23,24,25,26,27,28,29,30,31,32,33,34,35,36,37,38,39,40,41,42,43,44,45,46,47,48,49,50,51,52,53,54,55,56,57,58,59,60,61,62,63,64,65,66,67,68,69,70,71,72,73,74,75,76,77,78,79,80,81,82,83,84,85,86,87,88,89,90,91,92,93,94,95,96,97,98,99,100,101,102,103,104,105,106,107,108,109,110,111,112,113,114,115,116,117,118,119,120,121,122,123,124,125,126,127,128,129,130,131,132,133,134,135,136,137,138,139,140,141,142,143,144,145,146,147,148,149,150,151,152,153,154,155,156,157,158,159,160,161,162,163,164,165,166,167,168,169,170,171,172,173,174,175,176,177,178,179,180,181,182,183,184,185,186,187,188,189,190,191,192,193,194,195,196,197,198,199,200,201,202,203,204,205,206,207,208,209,210,211,212,213,214,215,216,217,218,219,220,221,222,223,224,225,226,227,228,229,230,231,232,233,234,235,236,237,238,239,240,241,242,243,244,245,246,247,248,249,250,251,252,253,254,255,256,257,258,259,260,261,262,263,264,265,266,267,268,269,270,271,272,273,274,275,276,277,278,279,280,281,282,283,284,285,286,287,288,289,290,291],\"y\":[1014.8666666666667,1012.8125,1010.4375,1009.8125,1009.2142857142857,1010.3333333333333,1011.1249999999999,1009.3750000000001,1010.0000000000001,1013.3333333333334,1013.1875,1013.6000000000001,1012.8125,7679.333333333333,1011.3125,1011.1428571428572,1009.1999999999999,1006.7142857142856,1008.0,1008.375,1006.6875000000001,1007.0,1006.875,1007.2666666666668,1009.1999999999999,1009.3125,1008.8125,1009.3999999999999,1006.3333333333334,1003.3125,1003.8125,1004.625,1003.0625,1002.6666666666667,1004.6875,1005.8666666666667,1006.4375000000001,1003.4,1001.7272727272729,1001.8461538461537,1003.0625,1005.5625000000001,1007.1874999999999,1005.6875000000001,1004.6923076923076,1005.7142857142856,1004.8125000000001,1002.4375,1002.2,1004.3125,1003.7857142857143,1007.4666666666669,1007.0,1005.5625000000001,1005.9333333333332,1006.0625000000001,1006.5625000000001,1006.0625000000001,1002.2500000000001,1001.3529411764705,1003.1249999999999,1003.5625,1000.8,998.9374999999999,997.8125000000001,998.625,996.9333333333332,995.933333333333,996.4666666666668,999.5714285714284,1000.7368421052631,997.4782608695651,999.1538461538462,999.9545454545455,999.8333333333335,1001.2500000000001,1003.8125,1002.3076923076924,1002.7333333333331,1002.0000000000001,1002.2500000000001,1001.8666666666668,1002.8333333333333,1001.5714285714286,1002.0625,999.2142857142856,938.0666666666668,998.25,999.0,998.8124999999999,998.1874999999999,997.8125000000001,996.1333333333332,999.0,999.4285714285713,1000.8571428571428,1001.3750000000001,1000.6875,999.9374999999999,1001.5625,999.6923076923075,998.3124999999999,1000.0714285714284,1000.375,998.8666666666668,1001.5000000000001,1001.1875,997.8666666666667,1002.5625,998.375,998.25,997.125,995.5625,996.8666666666667,997.6875000000001,997.4,996.75,996.0625,997.75,999.0624999999999,998.4374999999999,998.375,998.625,999.875,1001.3333333333333,1000.8,999.875,999.625,999.2666666666668,999.3333333333335,1001.6250000000001,946.3125,1001.8750000000001,1003.1249999999999,1004.625,1002.0666666666667,1000.9375,1001.2,1000.6666666666666,999.125,310.4375,998.5,998.7777777777779,999.3333333333335,1000.8,1000.529411764706,999.6363636363635,998.5,999.3703703703706,1001.6071428571428,1002.2857142857146,1001.0714285714286,633.9,999.2857142857144,-3.0416666666666665,999.5185185185182,999.9230769230769,999.8928571428571,1000.16,1001.1923076923076,1002.8888888888888,1003.24,1002.4999999999999,1004.4230769230768,1005.2222222222221,1006.1428571428573,1006.2000000000002,1003.6071428571428,1002.1923076923076,1003.0370370370372,1002.44,1001.2727272727274,1001.1578947368421,1002.9230769230767,1003.2307692307692,1003.7499999999999,1003.4545454545456,1005.1666666666665,1004.3333333333334,1005.2307692307693,1003.8,1005.0714285714287,1006.4,1006.9285714285713,1004.75,1004.4,1003.1538461538463,1005.0,1004.7083333333334,1003.5185185185184,1005.4,1008.7777777777779,1005.3214285714287,1352.6153846153843,1004.782608695652,1006.7599999999999,1006.7037037037037,1005.28,1005.5909090909092,1005.5714285714287,1007.5,1009.1111111111111,1007.1851851851852,1005.3703703703704,1005.25,1007.1481481481482,1007.2000000000002,1006.8461538461538,1005.96,1006.1481481481482,1006.5925925925926,1006.25,1008.3333333333335,1009.1250000000001,1010.5185185185184,1011.8571428571428,1010.56,1009.4583333333335,1008.5555555555555,1007.5384615384617,1008.7272727272727,1009.3703703703703,1009.3076923076924,1008.2692307692307,1008.9230769230769,1011.7307692307692,1014.6296296296294,1012.4074074074073,1012.9999999999999,1014.6086956521741,1017.8076923076924,1016.3846153846152,1016.5909090909092,1016.2400000000001,1012.6296296296297,1010.3461538461537,1011.5185185185184,1012.7727272727271,1013.6400000000001,1014.6666666666666,1013.8148148148147,1014.08,1015.1538461538461,1016.5185185185185,1015.730769230769,1016.2400000000001,1017.5384615384617,1350.2962962962963,1014.6923076923077,1012.4666666666668,1013.3500000000001,1012.9999999999999,1012.8947368421052,1013.1739130434783,1014.9473684210525,1012.95,1013.25,1013.5909090909092,12.045454545454543,1015.0,1016.6086956521739,1016.875,1017.7500000000001,1019.3333333333333,1019.7,1017.0454545454544,1017.9615384615385,1017.421052631579,1016.2000000000002,1013.4166666666665,1014.0,1013.2916666666665,1014.181818181818,1015.0999999999999,1017.3333333333335,1016.6666666666666,1018.7777777777777,1016.9473684210526,1018.0833333333335,1017.4285714285713,1015.2000000000002,1015.6190476190476,1016.1428571428571,1014.25,1011.3181818181821,1014.3499999999999,1016.9523809523808,1017.1999999999999,1015.5652173913045,1016.9047619047622,1017.9047619047622,1016.1],\"type\":\"scatter\"},{\"line\":{\"color\":\"rgba(55, 128, 191, 1.0)\",\"dash\":\"solid\",\"shape\":\"linear\",\"width\":1.3},\"mode\":\"lines\",\"name\":\"Predicted\",\"text\":\"\",\"x\":[0,1,2,3,4,5,6,7,8,9,10,11,12,13,14,15,16,17,18,19,20,21,22,23,24,25,26,27,28,29,30,31,32,33,34,35,36,37,38,39,40,41,42,43,44,45,46,47,48,49,50,51,52,53,54,55,56,57,58,59,60,61,62,63,64,65,66,67,68,69,70,71,72,73,74,75,76,77,78,79,80,81,82,83,84,85,86,87,88,89,90,91,92,93,94,95,96,97,98,99,100,101,102,103,104,105,106,107,108,109,110,111,112,113,114,115,116,117,118,119,120,121,122,123,124,125,126,127,128,129,130,131,132,133,134,135,136,137,138,139,140,141,142,143,144,145,146,147,148,149,150,151,152,153,154,155,156,157,158,159,160,161,162,163,164,165,166,167,168,169,170,171,172,173,174,175,176,177,178,179,180,181,182,183,184,185,186,187,188,189,190,191,192,193,194,195,196,197,198,199,200,201,202,203,204,205,206,207,208,209,210,211,212,213,214,215,216,217,218,219,220,221,222,223,224,225,226,227,228,229,230,231,232,233,234,235,236,237,238,239,240,241,242,243,244,245,246,247,248,249,250,251,252,253,254,255,256,257,258,259,260,261,262,263,264,265,266,267,268,269,270,271,272,273,274,275,276,277,278,279,280,281,282,283,284,285,286,287,288,289,290,291],\"y\":[1007.8370361328125,1007.8567504882812,1007.8529663085938,1007.8329467773438,1007.8228759765625,1007.8150634765625,1007.8226318359375,1007.8324584960938,1007.82470703125,1007.8187255859375,1007.83544921875,1007.8417358398438,1007.8511352539062,995.7172241210938,972.5543212890625,907.1243896484375,907.6392211914062,983.9421997070312,1007.8082275390625,1007.8090209960938,1007.8150634765625,1007.8114013671875,1007.81005859375,1007.8049926757812,1007.8067016601562,1007.8178100585938,1007.8228759765625,1007.8217163085938,1007.8280029296875,1007.8153076171875,1007.7942504882812,1007.7852172851562,1007.7937622070312,1007.7922973632812,1007.784423828125,1007.7894287109375,1007.7996215820312,1007.815673828125,1007.7999877929688,1007.7850952148438,1007.7742919921875,1007.77880859375,1007.7952880859375,1007.813232421875,1007.8107299804688,1007.7993774414062,1007.8006591796875,1007.80224609375,1007.7908935546875,1007.7786865234375,1007.7894287109375,1007.7846069335938,1007.81201171875,1007.8115234375,1007.8094482421875,1007.8023681640625,1007.8006591796875,1007.8082275390625,1007.8134765625,1007.7921752929688,1007.7767333984375,1007.7791137695312,1007.794921875,1007.7874755859375,1007.7730712890625,1007.7562255859375,1007.7649536132812,1007.7587280273438,1007.7531127929688,1007.7439575195312,1007.76220703125,1007.7825927734375,1007.765380859375,1007.7669067382812,1007.765625,1007.7717895507812,1007.7733764648438,1007.7921752929688,1007.7879638671875,1007.7928466796875,1007.78076171875,1007.7857666015625,1007.7796020507812,1007.78955078125,1007.7806396484375,1007.7908325195312,1007.9010620117188,1007.3378295898438,1007.6885986328125,1007.6458740234375,1007.87548828125,1007.7660522460938,1007.7650756835938,1007.747314453125,1007.7623901367188,1007.7627563476562,1007.7792358398438,1007.7813110351562,1007.7811889648438,1007.7708740234375,1007.78173828125,1007.7747802734375,1007.7649536132812,1007.7669677734375,1007.7747802734375,1007.7660522460938,1007.778564453125,1007.7833862304688,1007.7603759765625,1007.7890014648438,1007.7631225585938,1007.775146484375,1007.7550048828125,1007.7484741210938,1007.7509765625,1007.7571411132812,1007.7631225585938,1007.7594604492188,1007.7489013671875,1007.7548828125,1007.7660522460938,1007.7683715820312,1007.7661743164062,1007.7614135742188,1007.7672119140625,1007.7792358398438,1007.7815551757812,1007.7763671875,1007.77099609375,1007.7674560546875,1007.7637939453125,1007.896240234375,1007.3949584960938,1007.7207641601562,1007.6740112304688,1007.899658203125,1007.791259765625,1007.7816772460938,1007.7753295898438,1007.778076171875,1007.3546752929688,1003.063720703125,1004.7550048828125,1006.3031616210938,1008.0955200195312,1007.7760620117188,1007.778564453125,1007.7769775390625,1007.7640380859375,1007.761962890625,1007.774658203125,1007.78759765625,1007.953369140625,1005.8195190429688,1006.4067993164062,1000.979248046875,1004.4489135742188,1005.984619140625,1008.2603759765625,1007.7716674804688,1007.7738647460938,1007.7853393554688,1007.7924194335938,1007.7855224609375,1007.7924194335938,1007.7954711914062,1007.8068237304688,1007.81201171875,1007.7994995117188,1007.7846069335938,1007.784423828125,1007.7861328125,1007.7827758789062,1007.7741088867188,1007.7830200195312,1007.7877197265625,1007.79541015625,1007.7879638671875,1007.8004150390625,1007.7937622070312,1007.8052368164062,1007.7901000976562,1007.7965087890625,1007.8006591796875,1007.8150634765625,1007.8034057617188,1007.800048828125,1007.7830200195312,1007.7967529296875,1007.7979125976562,1007.7919311523438,1007.791015625,1007.8193969726562,1007.5823364257812,1009.5372314453125,1006.8596801757812,1008.298828125,1007.3480224609375,1007.8049926757812,1007.8018188476562,1007.795166015625,1007.8065795898438,1007.8221435546875,1007.8200073242188,1007.8065185546875,1007.7930908203125,1007.804443359375,1007.8106079101562,1007.8142700195312,1007.8047485351562,1007.8031616210938,1007.8057861328125,1007.8016967773438,1007.8128051757812,1007.815673828125,1007.8267211914062,1007.8370361328125,1007.8342895507812,1007.828125,1007.8187255859375,1007.8091430664062,1007.8140258789062,1007.8192138671875,1007.8257446289062,1007.8170166015625,1007.8125610351562,1007.8223876953125,1007.8512573242188,1007.8439331054688,1007.8421020507812,1007.8362426757812,1007.8657836914062,1007.8622436523438,1007.8660278320312,1007.8634033203125,1007.8487548828125,1007.8270874023438,1007.8226318359375,1007.8319091796875,1007.8427734375,1007.8521728515625,1007.8469848632812,1007.8457641601562,1007.84619140625,1007.8594970703125,1007.8566284179688,1007.8569946289062,1007.6326293945312,1009.5659790039062,1006.978271484375,1008.3232421875,1007.390380859375,1007.8372802734375,1007.8414306640625,1007.8368530273438,1007.8528442382812,1007.8427734375,1007.8443603515625,1006.8242797851562,1000.7808227539062,1004.3319091796875,1006.0855712890625,1008.3724365234375,1007.8640747070312,1007.8715209960938,1007.8825073242188,1007.8661499023438,1007.8677368164062,1007.8623657226562,1007.8668212890625,1007.8443603515625,1007.8450927734375,1007.8362426757812,1007.8450927734375,1007.844482421875,1007.8635864257812,1007.857666015625,1007.8764038085938,1007.85986328125,1007.8713989257812,1007.8661499023438,1007.8563842773438,1007.8519287109375,1007.8565063476562,1007.8566284179688,1007.8304443359375,1007.83544921875,1007.8519287109375,1007.8710327148438,1007.8580322265625,1007.8580322265625,1007.8659057617188],\"type\":\"scatter\"}],                        {\"legend\":{\"bgcolor\":\"#151516\",\"font\":{\"color\":\"#D9D9D9\"}},\"paper_bgcolor\":\"#151516\",\"plot_bgcolor\":\"#151516\",\"template\":{\"data\":{\"barpolar\":[{\"marker\":{\"line\":{\"color\":\"#E5ECF6\",\"width\":0.5},\"pattern\":{\"fillmode\":\"overlay\",\"size\":10,\"solidity\":0.2}},\"type\":\"barpolar\"}],\"bar\":[{\"error_x\":{\"color\":\"#2a3f5f\"},\"error_y\":{\"color\":\"#2a3f5f\"},\"marker\":{\"line\":{\"color\":\"#E5ECF6\",\"width\":0.5},\"pattern\":{\"fillmode\":\"overlay\",\"size\":10,\"solidity\":0.2}},\"type\":\"bar\"}],\"carpet\":[{\"aaxis\":{\"endlinecolor\":\"#2a3f5f\",\"gridcolor\":\"white\",\"linecolor\":\"white\",\"minorgridcolor\":\"white\",\"startlinecolor\":\"#2a3f5f\"},\"baxis\":{\"endlinecolor\":\"#2a3f5f\",\"gridcolor\":\"white\",\"linecolor\":\"white\",\"minorgridcolor\":\"white\",\"startlinecolor\":\"#2a3f5f\"},\"type\":\"carpet\"}],\"choropleth\":[{\"colorbar\":{\"outlinewidth\":0,\"ticks\":\"\"},\"type\":\"choropleth\"}],\"contourcarpet\":[{\"colorbar\":{\"outlinewidth\":0,\"ticks\":\"\"},\"type\":\"contourcarpet\"}],\"contour\":[{\"colorbar\":{\"outlinewidth\":0,\"ticks\":\"\"},\"colorscale\":[[0.0,\"#0d0887\"],[0.1111111111111111,\"#46039f\"],[0.2222222222222222,\"#7201a8\"],[0.3333333333333333,\"#9c179e\"],[0.4444444444444444,\"#bd3786\"],[0.5555555555555556,\"#d8576b\"],[0.6666666666666666,\"#ed7953\"],[0.7777777777777778,\"#fb9f3a\"],[0.8888888888888888,\"#fdca26\"],[1.0,\"#f0f921\"]],\"type\":\"contour\"}],\"heatmapgl\":[{\"colorbar\":{\"outlinewidth\":0,\"ticks\":\"\"},\"colorscale\":[[0.0,\"#0d0887\"],[0.1111111111111111,\"#46039f\"],[0.2222222222222222,\"#7201a8\"],[0.3333333333333333,\"#9c179e\"],[0.4444444444444444,\"#bd3786\"],[0.5555555555555556,\"#d8576b\"],[0.6666666666666666,\"#ed7953\"],[0.7777777777777778,\"#fb9f3a\"],[0.8888888888888888,\"#fdca26\"],[1.0,\"#f0f921\"]],\"type\":\"heatmapgl\"}],\"heatmap\":[{\"colorbar\":{\"outlinewidth\":0,\"ticks\":\"\"},\"colorscale\":[[0.0,\"#0d0887\"],[0.1111111111111111,\"#46039f\"],[0.2222222222222222,\"#7201a8\"],[0.3333333333333333,\"#9c179e\"],[0.4444444444444444,\"#bd3786\"],[0.5555555555555556,\"#d8576b\"],[0.6666666666666666,\"#ed7953\"],[0.7777777777777778,\"#fb9f3a\"],[0.8888888888888888,\"#fdca26\"],[1.0,\"#f0f921\"]],\"type\":\"heatmap\"}],\"histogram2dcontour\":[{\"colorbar\":{\"outlinewidth\":0,\"ticks\":\"\"},\"colorscale\":[[0.0,\"#0d0887\"],[0.1111111111111111,\"#46039f\"],[0.2222222222222222,\"#7201a8\"],[0.3333333333333333,\"#9c179e\"],[0.4444444444444444,\"#bd3786\"],[0.5555555555555556,\"#d8576b\"],[0.6666666666666666,\"#ed7953\"],[0.7777777777777778,\"#fb9f3a\"],[0.8888888888888888,\"#fdca26\"],[1.0,\"#f0f921\"]],\"type\":\"histogram2dcontour\"}],\"histogram2d\":[{\"colorbar\":{\"outlinewidth\":0,\"ticks\":\"\"},\"colorscale\":[[0.0,\"#0d0887\"],[0.1111111111111111,\"#46039f\"],[0.2222222222222222,\"#7201a8\"],[0.3333333333333333,\"#9c179e\"],[0.4444444444444444,\"#bd3786\"],[0.5555555555555556,\"#d8576b\"],[0.6666666666666666,\"#ed7953\"],[0.7777777777777778,\"#fb9f3a\"],[0.8888888888888888,\"#fdca26\"],[1.0,\"#f0f921\"]],\"type\":\"histogram2d\"}],\"histogram\":[{\"marker\":{\"pattern\":{\"fillmode\":\"overlay\",\"size\":10,\"solidity\":0.2}},\"type\":\"histogram\"}],\"mesh3d\":[{\"colorbar\":{\"outlinewidth\":0,\"ticks\":\"\"},\"type\":\"mesh3d\"}],\"parcoords\":[{\"line\":{\"colorbar\":{\"outlinewidth\":0,\"ticks\":\"\"}},\"type\":\"parcoords\"}],\"pie\":[{\"automargin\":true,\"type\":\"pie\"}],\"scatter3d\":[{\"line\":{\"colorbar\":{\"outlinewidth\":0,\"ticks\":\"\"}},\"marker\":{\"colorbar\":{\"outlinewidth\":0,\"ticks\":\"\"}},\"type\":\"scatter3d\"}],\"scattercarpet\":[{\"marker\":{\"colorbar\":{\"outlinewidth\":0,\"ticks\":\"\"}},\"type\":\"scattercarpet\"}],\"scattergeo\":[{\"marker\":{\"colorbar\":{\"outlinewidth\":0,\"ticks\":\"\"}},\"type\":\"scattergeo\"}],\"scattergl\":[{\"marker\":{\"colorbar\":{\"outlinewidth\":0,\"ticks\":\"\"}},\"type\":\"scattergl\"}],\"scattermapbox\":[{\"marker\":{\"colorbar\":{\"outlinewidth\":0,\"ticks\":\"\"}},\"type\":\"scattermapbox\"}],\"scatterpolargl\":[{\"marker\":{\"colorbar\":{\"outlinewidth\":0,\"ticks\":\"\"}},\"type\":\"scatterpolargl\"}],\"scatterpolar\":[{\"marker\":{\"colorbar\":{\"outlinewidth\":0,\"ticks\":\"\"}},\"type\":\"scatterpolar\"}],\"scatter\":[{\"fillpattern\":{\"fillmode\":\"overlay\",\"size\":10,\"solidity\":0.2},\"type\":\"scatter\"}],\"scatterternary\":[{\"marker\":{\"colorbar\":{\"outlinewidth\":0,\"ticks\":\"\"}},\"type\":\"scatterternary\"}],\"surface\":[{\"colorbar\":{\"outlinewidth\":0,\"ticks\":\"\"},\"colorscale\":[[0.0,\"#0d0887\"],[0.1111111111111111,\"#46039f\"],[0.2222222222222222,\"#7201a8\"],[0.3333333333333333,\"#9c179e\"],[0.4444444444444444,\"#bd3786\"],[0.5555555555555556,\"#d8576b\"],[0.6666666666666666,\"#ed7953\"],[0.7777777777777778,\"#fb9f3a\"],[0.8888888888888888,\"#fdca26\"],[1.0,\"#f0f921\"]],\"type\":\"surface\"}],\"table\":[{\"cells\":{\"fill\":{\"color\":\"#EBF0F8\"},\"line\":{\"color\":\"white\"}},\"header\":{\"fill\":{\"color\":\"#C8D4E3\"},\"line\":{\"color\":\"white\"}},\"type\":\"table\"}]},\"layout\":{\"annotationdefaults\":{\"arrowcolor\":\"#2a3f5f\",\"arrowhead\":0,\"arrowwidth\":1},\"autotypenumbers\":\"strict\",\"coloraxis\":{\"colorbar\":{\"outlinewidth\":0,\"ticks\":\"\"}},\"colorscale\":{\"diverging\":[[0,\"#8e0152\"],[0.1,\"#c51b7d\"],[0.2,\"#de77ae\"],[0.3,\"#f1b6da\"],[0.4,\"#fde0ef\"],[0.5,\"#f7f7f7\"],[0.6,\"#e6f5d0\"],[0.7,\"#b8e186\"],[0.8,\"#7fbc41\"],[0.9,\"#4d9221\"],[1,\"#276419\"]],\"sequential\":[[0.0,\"#0d0887\"],[0.1111111111111111,\"#46039f\"],[0.2222222222222222,\"#7201a8\"],[0.3333333333333333,\"#9c179e\"],[0.4444444444444444,\"#bd3786\"],[0.5555555555555556,\"#d8576b\"],[0.6666666666666666,\"#ed7953\"],[0.7777777777777778,\"#fb9f3a\"],[0.8888888888888888,\"#fdca26\"],[1.0,\"#f0f921\"]],\"sequentialminus\":[[0.0,\"#0d0887\"],[0.1111111111111111,\"#46039f\"],[0.2222222222222222,\"#7201a8\"],[0.3333333333333333,\"#9c179e\"],[0.4444444444444444,\"#bd3786\"],[0.5555555555555556,\"#d8576b\"],[0.6666666666666666,\"#ed7953\"],[0.7777777777777778,\"#fb9f3a\"],[0.8888888888888888,\"#fdca26\"],[1.0,\"#f0f921\"]]},\"colorway\":[\"#636efa\",\"#EF553B\",\"#00cc96\",\"#ab63fa\",\"#FFA15A\",\"#19d3f3\",\"#FF6692\",\"#B6E880\",\"#FF97FF\",\"#FECB52\"],\"font\":{\"color\":\"#2a3f5f\"},\"geo\":{\"bgcolor\":\"white\",\"lakecolor\":\"white\",\"landcolor\":\"#E5ECF6\",\"showlakes\":true,\"showland\":true,\"subunitcolor\":\"white\"},\"hoverlabel\":{\"align\":\"left\"},\"hovermode\":\"closest\",\"mapbox\":{\"style\":\"light\"},\"paper_bgcolor\":\"white\",\"plot_bgcolor\":\"#E5ECF6\",\"polar\":{\"angularaxis\":{\"gridcolor\":\"white\",\"linecolor\":\"white\",\"ticks\":\"\"},\"bgcolor\":\"#E5ECF6\",\"radialaxis\":{\"gridcolor\":\"white\",\"linecolor\":\"white\",\"ticks\":\"\"}},\"scene\":{\"xaxis\":{\"backgroundcolor\":\"#E5ECF6\",\"gridcolor\":\"white\",\"gridwidth\":2,\"linecolor\":\"white\",\"showbackground\":true,\"ticks\":\"\",\"zerolinecolor\":\"white\"},\"yaxis\":{\"backgroundcolor\":\"#E5ECF6\",\"gridcolor\":\"white\",\"gridwidth\":2,\"linecolor\":\"white\",\"showbackground\":true,\"ticks\":\"\",\"zerolinecolor\":\"white\"},\"zaxis\":{\"backgroundcolor\":\"#E5ECF6\",\"gridcolor\":\"white\",\"gridwidth\":2,\"linecolor\":\"white\",\"showbackground\":true,\"ticks\":\"\",\"zerolinecolor\":\"white\"}},\"shapedefaults\":{\"line\":{\"color\":\"#2a3f5f\"}},\"ternary\":{\"aaxis\":{\"gridcolor\":\"white\",\"linecolor\":\"white\",\"ticks\":\"\"},\"baxis\":{\"gridcolor\":\"white\",\"linecolor\":\"white\",\"ticks\":\"\"},\"bgcolor\":\"#E5ECF6\",\"caxis\":{\"gridcolor\":\"white\",\"linecolor\":\"white\",\"ticks\":\"\"}},\"title\":{\"x\":0.05},\"xaxis\":{\"automargin\":true,\"gridcolor\":\"white\",\"linecolor\":\"white\",\"ticks\":\"\",\"title\":{\"standoff\":15},\"zerolinecolor\":\"white\",\"zerolinewidth\":2},\"yaxis\":{\"automargin\":true,\"gridcolor\":\"white\",\"linecolor\":\"white\",\"ticks\":\"\",\"title\":{\"standoff\":15},\"zerolinecolor\":\"white\",\"zerolinewidth\":2}}},\"title\":{\"font\":{\"color\":\"#D9D9D9\"},\"text\":\"\\u041f\\u0440\\u043e\\u0433\\u043d\\u043e\\u0437 vs \\u0420\\u0435\\u0430\\u043b\\u044c\\u043d\\u044b\\u0435 \\u0437\\u043d\\u0430\\u0447\\u0435\\u043d\\u0438\\u044f (\\u0422\\u0435\\u0441\\u0442) \\u0434\\u043b\\u044f meanpressure\"},\"xaxis\":{\"gridcolor\":\"#434343\",\"showgrid\":true,\"tickfont\":{\"color\":\"#C2C2C2\"},\"title\":{\"font\":{\"color\":\"#D9D9D9\"},\"text\":\"\\u0412\\u0440\\u0435\\u043c\\u044f\"},\"zerolinecolor\":\"#666570\"},\"yaxis\":{\"gridcolor\":\"#434343\",\"showgrid\":true,\"tickfont\":{\"color\":\"#C2C2C2\"},\"title\":{\"font\":{\"color\":\"#D9D9D9\"},\"text\":\"\\u0417\\u043d\\u0430\\u0447\\u0435\\u043d\\u0438\\u0435\"},\"zerolinecolor\":\"#666570\"}},                        {\"showLink\": true, \"linkText\": \"Export to plot.ly\", \"plotlyServerURL\": \"https://plot.ly\", \"responsive\": true}                    ).then(function(){\n",
       "                            \n",
       "var gd = document.getElementById('a80728d6-6149-494a-be18-692977073d54');\n",
       "var x = new MutationObserver(function (mutations, observer) {{\n",
       "        var display = window.getComputedStyle(gd).display;\n",
       "        if (!display || display === 'none') {{\n",
       "            console.log([gd, 'removed!']);\n",
       "            Plotly.purge(gd);\n",
       "            observer.disconnect();\n",
       "        }}\n",
       "}});\n",
       "\n",
       "// Listen for the removal of the full notebook cells\n",
       "var notebookContainer = gd.closest('#notebook-container');\n",
       "if (notebookContainer) {{\n",
       "    x.observe(notebookContainer, {childList: true});\n",
       "}}\n",
       "\n",
       "// Listen for the clearing of the current output cell\n",
       "var outputEl = gd.closest('.output');\n",
       "if (outputEl) {{\n",
       "    x.observe(outputEl, {childList: true});\n",
       "}}\n",
       "\n",
       "                        })                };                });            </script>        </div>"
      ]
     },
     "metadata": {},
     "output_type": "display_data"
    }
   ],
   "source": [
    "# Визуализация результатов обучения модели\n",
    "predictions_meantemp, y_test_actual_meantemp = trainer_meantemp.evaluate_model(X_test_meantemp, y_test_meantemp, preprocess_meantemp.scaler)\n",
    "trainer_meantemp.plot_results(predictions_meantemp, y_test_actual_meantemp, preprocess_meantemp.feature_column)\n",
    "\n",
    "predictions_humidity, y_test_actual_humidity = trainer_humidity.evaluate_model(X_test_humidity, y_test_humidity, preprocess_humidity.scaler)\n",
    "trainer_humidity.plot_results(predictions_humidity, y_test_actual_humidity, preprocess_humidity.feature_column)\n",
    "\n",
    "predictions_wind_speed, y_test_actual_wind_speed = trainer_wind_speed.evaluate_model(X_test_wind_speed, y_test_wind_speed, preprocess_wind_speed.scaler)\n",
    "trainer_wind_speed.plot_results(predictions_wind_speed, y_test_actual_wind_speed, preprocess_wind_speed.feature_column)\n",
    "\n",
    "predictions_meanpressure, y_test_actual_meanpressure = trainer_meanpressure.evaluate_model(X_test_meanpressure, y_test_meanpressure, preprocess_meanpressure.scaler)\n",
    "trainer_meanpressure.plot_results(predictions_meanpressure, y_test_actual_meanpressure, preprocess_meanpressure.feature_column)"
   ]
  },
  {
   "cell_type": "code",
   "execution_count": 9,
   "metadata": {},
   "outputs": [
    {
     "name": "stdout",
     "output_type": "stream",
     "text": [
      "\u001b[1m4/4\u001b[0m \u001b[32m━━━━━━━━━━━━━━━━━━━━\u001b[0m\u001b[37m\u001b[0m \u001b[1m0s\u001b[0m 2ms/step \n",
      "\u001b[1m4/4\u001b[0m \u001b[32m━━━━━━━━━━━━━━━━━━━━\u001b[0m\u001b[37m\u001b[0m \u001b[1m0s\u001b[0m 2ms/step \n",
      "\u001b[1m4/4\u001b[0m \u001b[32m━━━━━━━━━━━━━━━━━━━━\u001b[0m\u001b[37m\u001b[0m \u001b[1m0s\u001b[0m 1ms/step \n",
      "\u001b[1m4/4\u001b[0m \u001b[32m━━━━━━━━━━━━━━━━━━━━\u001b[0m\u001b[37m\u001b[0m \u001b[1m0s\u001b[0m 2ms/step \n"
     ]
    }
   ],
   "source": [
    "validation_data_meantemp = ValidationData(preprocess_meantemp.feature_column, preprocess_meantemp.look_back)\n",
    "predictions_val_meantemp, y_val_actual_meantemp = validation_data_meantemp.load_validation_data('DailyDelhiClimateTest.csv', trainer_meantemp.model)\n",
    "\n",
    "validation_data_humidity = ValidationData(preprocess_humidity.feature_column, preprocess_humidity.look_back)\n",
    "predictions_val_humidity, y_val_actual_humidity = validation_data_humidity.load_validation_data('DailyDelhiClimateTest.csv', trainer_humidity.model)\n",
    "\n",
    "validation_data_wind_speed = ValidationData(preprocess_wind_speed.feature_column, preprocess_wind_speed.look_back)\n",
    "predictions_val_wind_speed, y_val_actual_wind_speed = validation_data_wind_speed.load_validation_data('DailyDelhiClimateTest.csv', trainer_wind_speed.model)\n",
    "\n",
    "validation_data_meanpressure = ValidationData(preprocess_meanpressure.feature_column, preprocess_meanpressure.look_back)\n",
    "predictions_val_meanpressure, y_val_actual_meanpressure = validation_data_meanpressure.load_validation_data('DailyDelhiClimateTest.csv', trainer_meanpressure.model)"
   ]
  },
  {
   "cell_type": "code",
   "execution_count": 10,
   "metadata": {},
   "outputs": [
    {
     "data": {
      "application/vnd.plotly.v1+json": {
       "config": {
        "linkText": "Export to plot.ly",
        "plotlyServerURL": "https://plot.ly",
        "showLink": true
       },
       "data": [
        {
         "line": {
          "color": "rgba(255, 153, 51, 1.0)",
          "dash": "solid",
          "shape": "linear",
          "width": 1.3
         },
         "mode": "lines",
         "name": "Actual (Validation)",
         "text": "",
         "type": "scatter",
         "x": [
          0,
          1,
          2,
          3,
          4,
          5,
          6,
          7,
          8,
          9,
          10,
          11,
          12,
          13,
          14,
          15,
          16,
          17,
          18,
          19,
          20,
          21,
          22,
          23,
          24,
          25,
          26,
          27,
          28,
          29,
          30,
          31,
          32,
          33,
          34,
          35,
          36,
          37,
          38,
          39,
          40,
          41,
          42,
          43,
          44,
          45,
          46,
          47,
          48,
          49,
          50,
          51,
          52,
          53,
          54,
          55,
          56,
          57,
          58,
          59,
          60,
          61,
          62,
          63,
          64,
          65,
          66,
          67,
          68,
          69,
          70,
          71,
          72,
          73,
          74,
          75,
          76,
          77,
          78,
          79,
          80,
          81,
          82,
          83,
          84,
          85,
          86,
          87,
          88,
          89,
          90,
          91,
          92,
          93,
          94,
          95,
          96,
          97,
          98,
          99,
          100,
          101,
          102,
          103,
          104,
          105,
          106,
          107
         ],
         "y": [
          19.318181818181817,
          14.708333333333334,
          15.68421052631579,
          14.571428571428571,
          12.11111111111111,
          11,
          11.789473684210524,
          13.235294117647058,
          13.2,
          16.434782608695652,
          14.649999999999999,
          11.72222222222222,
          13.041666666666666,
          14.619047619047619,
          15.26315789473684,
          15.39130434782609,
          18.44,
          18.11764705882353,
          18.347826086956523,
          21,
          16.178571428571427,
          16.5,
          14.863636363636365,
          15.666666666666666,
          16.444444444444443,
          16.125,
          15.25,
          17.09090909090909,
          15.636363636363637,
          18.7,
          18.63157894736842,
          16.88888888888889,
          15.125,
          15.7,
          15.375000000000002,
          14.666666666666668,
          15.625,
          16.25,
          16.333333333333332,
          16.875,
          17.571428571428573,
          20.25,
          21.3,
          21.125,
          22.363636363636363,
          23.375,
          21.833333333333332,
          19.125,
          18.625,
          19.125,
          19,
          18.75,
          19.875,
          23.333333333333332,
          24.461538461538463,
          23.750000000000004,
          20.5,
          19.125,
          19.75,
          20,
          22.625,
          21.545454545454547,
          20.785714285714285,
          19.9375,
          18.533333333333335,
          17.375,
          17.444444444444443,
          18,
          19.875,
          24,
          20.9,
          24.692307692307693,
          24.666666666666668,
          23.333333333333332,
          25,
          27.25,
          28,
          28.916666666666668,
          26.5,
          29.100000000000005,
          29.5,
          29.88888888888889,
          31,
          29.285714285714285,
          30.625,
          31.375,
          29.75,
          30.5,
          30.933333333333337,
          29.230769230769234,
          31.22222222222222,
          26.999999999999996,
          25.625,
          27.125,
          27.857142857142858,
          29.250000000000004,
          29.250000000000004,
          29.666666666666668,
          30.5,
          31.22222222222222,
          31,
          32.55555555555556,
          34,
          33.5,
          34.5,
          34.25,
          32.9,
          32.875
         ]
        },
        {
         "line": {
          "color": "rgba(55, 128, 191, 1.0)",
          "dash": "solid",
          "shape": "linear",
          "width": 1.3
         },
         "mode": "lines",
         "name": "Predicted (Validation)",
         "text": "",
         "type": "scatter",
         "x": [
          0,
          1,
          2,
          3,
          4,
          5,
          6,
          7,
          8,
          9,
          10,
          11,
          12,
          13,
          14,
          15,
          16,
          17,
          18,
          19,
          20,
          21,
          22,
          23,
          24,
          25,
          26,
          27,
          28,
          29,
          30,
          31,
          32,
          33,
          34,
          35,
          36,
          37,
          38,
          39,
          40,
          41,
          42,
          43,
          44,
          45,
          46,
          47,
          48,
          49,
          50,
          51,
          52,
          53,
          54,
          55,
          56,
          57,
          58,
          59,
          60,
          61,
          62,
          63,
          64,
          65,
          66,
          67,
          68,
          69,
          70,
          71,
          72,
          73,
          74,
          75,
          76,
          77,
          78,
          79,
          80,
          81,
          82,
          83,
          84,
          85,
          86,
          87,
          88,
          89,
          90,
          91,
          92,
          93,
          94,
          95,
          96,
          97,
          98,
          99,
          100,
          101,
          102,
          103,
          104,
          105,
          106,
          107
         ],
         "y": [
          19.347280502319336,
          15.92495346069336,
          16.377426147460938,
          14.895174980163574,
          13.465060234069824,
          12.917128562927246,
          13.09162425994873,
          14.442769050598145,
          14.409043312072754,
          16.798816680908203,
          15.14352035522461,
          12.301056861877441,
          13.28036880493164,
          15.293962478637695,
          16.133195877075195,
          16.167701721191406,
          18.391036987304688,
          18.165781021118164,
          18.366512298583984,
          20.617816925048828,
          16.02629852294922,
          15.990133285522461,
          14.845643997192383,
          15.75869369506836,
          17.091506958007812,
          16.249679565429688,
          15.373089790344238,
          17.002641677856445,
          15.757606506347656,
          18.614028930664062,
          18.800674438476562,
          17.11124610900879,
          15.050895690917969,
          15.848867416381836,
          15.400619506835938,
          14.791162490844727,
          15.5609712600708,
          16.2069034576416,
          16.45621681213379,
          16.919832229614258,
          17.567256927490234,
          20.060583114624023,
          21.055328369140625,
          20.957128524780273,
          22.099695205688477,
          23.202939987182617,
          21.815765380859375,
          18.99658966064453,
          18.929859161376953,
          19.28058624267578,
          18.892854690551758,
          18.667490005493164,
          19.872108459472656,
          23.079328536987305,
          24.040515899658203,
          23.46051788330078,
          20.341962814331055,
          19.373159408569336,
          19.885963439941406,
          19.784343719482422,
          22.5364990234375,
          21.469369888305664,
          20.69927978515625,
          20.044252395629883,
          18.515199661254883,
          17.682174682617188,
          17.563304901123047,
          18.08444595336914,
          19.836328506469727,
          23.489912033081055,
          20.459829330444336,
          23.87725257873535,
          24.257247924804688,
          23.258058547973633,
          24.970298767089844,
          26.922578811645508,
          27.84731101989746,
          28.824935913085938,
          26.555116653442383,
          29.09699249267578,
          29.401212692260742,
          29.864910125732422,
          31.003747940063477,
          29.263290405273438,
          30.574779510498047,
          31.322755813598633,
          29.673093795776367,
          30.490474700927734,
          30.8445987701416,
          29.08017349243164,
          31.185649871826172,
          26.764265060424805,
          25.38745880126953,
          27.064777374267578,
          27.780824661254883,
          29.222057342529297,
          29.286996841430664,
          29.651872634887695,
          30.50334930419922,
          31.14310073852539,
          30.957965850830078,
          32.48392105102539,
          33.83502197265625,
          33.417320251464844,
          34.47428512573242,
          34.11534881591797,
          32.758060455322266,
          32.714717864990234
         ]
        }
       ],
       "layout": {
        "legend": {
         "bgcolor": "#151516",
         "font": {
          "color": "#D9D9D9"
         }
        },
        "paper_bgcolor": "#151516",
        "plot_bgcolor": "#151516",
        "template": {
         "data": {
          "bar": [
           {
            "error_x": {
             "color": "#2a3f5f"
            },
            "error_y": {
             "color": "#2a3f5f"
            },
            "marker": {
             "line": {
              "color": "#E5ECF6",
              "width": 0.5
             },
             "pattern": {
              "fillmode": "overlay",
              "size": 10,
              "solidity": 0.2
             }
            },
            "type": "bar"
           }
          ],
          "barpolar": [
           {
            "marker": {
             "line": {
              "color": "#E5ECF6",
              "width": 0.5
             },
             "pattern": {
              "fillmode": "overlay",
              "size": 10,
              "solidity": 0.2
             }
            },
            "type": "barpolar"
           }
          ],
          "carpet": [
           {
            "aaxis": {
             "endlinecolor": "#2a3f5f",
             "gridcolor": "white",
             "linecolor": "white",
             "minorgridcolor": "white",
             "startlinecolor": "#2a3f5f"
            },
            "baxis": {
             "endlinecolor": "#2a3f5f",
             "gridcolor": "white",
             "linecolor": "white",
             "minorgridcolor": "white",
             "startlinecolor": "#2a3f5f"
            },
            "type": "carpet"
           }
          ],
          "choropleth": [
           {
            "colorbar": {
             "outlinewidth": 0,
             "ticks": ""
            },
            "type": "choropleth"
           }
          ],
          "contour": [
           {
            "colorbar": {
             "outlinewidth": 0,
             "ticks": ""
            },
            "colorscale": [
             [
              0,
              "#0d0887"
             ],
             [
              0.1111111111111111,
              "#46039f"
             ],
             [
              0.2222222222222222,
              "#7201a8"
             ],
             [
              0.3333333333333333,
              "#9c179e"
             ],
             [
              0.4444444444444444,
              "#bd3786"
             ],
             [
              0.5555555555555556,
              "#d8576b"
             ],
             [
              0.6666666666666666,
              "#ed7953"
             ],
             [
              0.7777777777777778,
              "#fb9f3a"
             ],
             [
              0.8888888888888888,
              "#fdca26"
             ],
             [
              1,
              "#f0f921"
             ]
            ],
            "type": "contour"
           }
          ],
          "contourcarpet": [
           {
            "colorbar": {
             "outlinewidth": 0,
             "ticks": ""
            },
            "type": "contourcarpet"
           }
          ],
          "heatmap": [
           {
            "colorbar": {
             "outlinewidth": 0,
             "ticks": ""
            },
            "colorscale": [
             [
              0,
              "#0d0887"
             ],
             [
              0.1111111111111111,
              "#46039f"
             ],
             [
              0.2222222222222222,
              "#7201a8"
             ],
             [
              0.3333333333333333,
              "#9c179e"
             ],
             [
              0.4444444444444444,
              "#bd3786"
             ],
             [
              0.5555555555555556,
              "#d8576b"
             ],
             [
              0.6666666666666666,
              "#ed7953"
             ],
             [
              0.7777777777777778,
              "#fb9f3a"
             ],
             [
              0.8888888888888888,
              "#fdca26"
             ],
             [
              1,
              "#f0f921"
             ]
            ],
            "type": "heatmap"
           }
          ],
          "heatmapgl": [
           {
            "colorbar": {
             "outlinewidth": 0,
             "ticks": ""
            },
            "colorscale": [
             [
              0,
              "#0d0887"
             ],
             [
              0.1111111111111111,
              "#46039f"
             ],
             [
              0.2222222222222222,
              "#7201a8"
             ],
             [
              0.3333333333333333,
              "#9c179e"
             ],
             [
              0.4444444444444444,
              "#bd3786"
             ],
             [
              0.5555555555555556,
              "#d8576b"
             ],
             [
              0.6666666666666666,
              "#ed7953"
             ],
             [
              0.7777777777777778,
              "#fb9f3a"
             ],
             [
              0.8888888888888888,
              "#fdca26"
             ],
             [
              1,
              "#f0f921"
             ]
            ],
            "type": "heatmapgl"
           }
          ],
          "histogram": [
           {
            "marker": {
             "pattern": {
              "fillmode": "overlay",
              "size": 10,
              "solidity": 0.2
             }
            },
            "type": "histogram"
           }
          ],
          "histogram2d": [
           {
            "colorbar": {
             "outlinewidth": 0,
             "ticks": ""
            },
            "colorscale": [
             [
              0,
              "#0d0887"
             ],
             [
              0.1111111111111111,
              "#46039f"
             ],
             [
              0.2222222222222222,
              "#7201a8"
             ],
             [
              0.3333333333333333,
              "#9c179e"
             ],
             [
              0.4444444444444444,
              "#bd3786"
             ],
             [
              0.5555555555555556,
              "#d8576b"
             ],
             [
              0.6666666666666666,
              "#ed7953"
             ],
             [
              0.7777777777777778,
              "#fb9f3a"
             ],
             [
              0.8888888888888888,
              "#fdca26"
             ],
             [
              1,
              "#f0f921"
             ]
            ],
            "type": "histogram2d"
           }
          ],
          "histogram2dcontour": [
           {
            "colorbar": {
             "outlinewidth": 0,
             "ticks": ""
            },
            "colorscale": [
             [
              0,
              "#0d0887"
             ],
             [
              0.1111111111111111,
              "#46039f"
             ],
             [
              0.2222222222222222,
              "#7201a8"
             ],
             [
              0.3333333333333333,
              "#9c179e"
             ],
             [
              0.4444444444444444,
              "#bd3786"
             ],
             [
              0.5555555555555556,
              "#d8576b"
             ],
             [
              0.6666666666666666,
              "#ed7953"
             ],
             [
              0.7777777777777778,
              "#fb9f3a"
             ],
             [
              0.8888888888888888,
              "#fdca26"
             ],
             [
              1,
              "#f0f921"
             ]
            ],
            "type": "histogram2dcontour"
           }
          ],
          "mesh3d": [
           {
            "colorbar": {
             "outlinewidth": 0,
             "ticks": ""
            },
            "type": "mesh3d"
           }
          ],
          "parcoords": [
           {
            "line": {
             "colorbar": {
              "outlinewidth": 0,
              "ticks": ""
             }
            },
            "type": "parcoords"
           }
          ],
          "pie": [
           {
            "automargin": true,
            "type": "pie"
           }
          ],
          "scatter": [
           {
            "fillpattern": {
             "fillmode": "overlay",
             "size": 10,
             "solidity": 0.2
            },
            "type": "scatter"
           }
          ],
          "scatter3d": [
           {
            "line": {
             "colorbar": {
              "outlinewidth": 0,
              "ticks": ""
             }
            },
            "marker": {
             "colorbar": {
              "outlinewidth": 0,
              "ticks": ""
             }
            },
            "type": "scatter3d"
           }
          ],
          "scattercarpet": [
           {
            "marker": {
             "colorbar": {
              "outlinewidth": 0,
              "ticks": ""
             }
            },
            "type": "scattercarpet"
           }
          ],
          "scattergeo": [
           {
            "marker": {
             "colorbar": {
              "outlinewidth": 0,
              "ticks": ""
             }
            },
            "type": "scattergeo"
           }
          ],
          "scattergl": [
           {
            "marker": {
             "colorbar": {
              "outlinewidth": 0,
              "ticks": ""
             }
            },
            "type": "scattergl"
           }
          ],
          "scattermapbox": [
           {
            "marker": {
             "colorbar": {
              "outlinewidth": 0,
              "ticks": ""
             }
            },
            "type": "scattermapbox"
           }
          ],
          "scatterpolar": [
           {
            "marker": {
             "colorbar": {
              "outlinewidth": 0,
              "ticks": ""
             }
            },
            "type": "scatterpolar"
           }
          ],
          "scatterpolargl": [
           {
            "marker": {
             "colorbar": {
              "outlinewidth": 0,
              "ticks": ""
             }
            },
            "type": "scatterpolargl"
           }
          ],
          "scatterternary": [
           {
            "marker": {
             "colorbar": {
              "outlinewidth": 0,
              "ticks": ""
             }
            },
            "type": "scatterternary"
           }
          ],
          "surface": [
           {
            "colorbar": {
             "outlinewidth": 0,
             "ticks": ""
            },
            "colorscale": [
             [
              0,
              "#0d0887"
             ],
             [
              0.1111111111111111,
              "#46039f"
             ],
             [
              0.2222222222222222,
              "#7201a8"
             ],
             [
              0.3333333333333333,
              "#9c179e"
             ],
             [
              0.4444444444444444,
              "#bd3786"
             ],
             [
              0.5555555555555556,
              "#d8576b"
             ],
             [
              0.6666666666666666,
              "#ed7953"
             ],
             [
              0.7777777777777778,
              "#fb9f3a"
             ],
             [
              0.8888888888888888,
              "#fdca26"
             ],
             [
              1,
              "#f0f921"
             ]
            ],
            "type": "surface"
           }
          ],
          "table": [
           {
            "cells": {
             "fill": {
              "color": "#EBF0F8"
             },
             "line": {
              "color": "white"
             }
            },
            "header": {
             "fill": {
              "color": "#C8D4E3"
             },
             "line": {
              "color": "white"
             }
            },
            "type": "table"
           }
          ]
         },
         "layout": {
          "annotationdefaults": {
           "arrowcolor": "#2a3f5f",
           "arrowhead": 0,
           "arrowwidth": 1
          },
          "autotypenumbers": "strict",
          "coloraxis": {
           "colorbar": {
            "outlinewidth": 0,
            "ticks": ""
           }
          },
          "colorscale": {
           "diverging": [
            [
             0,
             "#8e0152"
            ],
            [
             0.1,
             "#c51b7d"
            ],
            [
             0.2,
             "#de77ae"
            ],
            [
             0.3,
             "#f1b6da"
            ],
            [
             0.4,
             "#fde0ef"
            ],
            [
             0.5,
             "#f7f7f7"
            ],
            [
             0.6,
             "#e6f5d0"
            ],
            [
             0.7,
             "#b8e186"
            ],
            [
             0.8,
             "#7fbc41"
            ],
            [
             0.9,
             "#4d9221"
            ],
            [
             1,
             "#276419"
            ]
           ],
           "sequential": [
            [
             0,
             "#0d0887"
            ],
            [
             0.1111111111111111,
             "#46039f"
            ],
            [
             0.2222222222222222,
             "#7201a8"
            ],
            [
             0.3333333333333333,
             "#9c179e"
            ],
            [
             0.4444444444444444,
             "#bd3786"
            ],
            [
             0.5555555555555556,
             "#d8576b"
            ],
            [
             0.6666666666666666,
             "#ed7953"
            ],
            [
             0.7777777777777778,
             "#fb9f3a"
            ],
            [
             0.8888888888888888,
             "#fdca26"
            ],
            [
             1,
             "#f0f921"
            ]
           ],
           "sequentialminus": [
            [
             0,
             "#0d0887"
            ],
            [
             0.1111111111111111,
             "#46039f"
            ],
            [
             0.2222222222222222,
             "#7201a8"
            ],
            [
             0.3333333333333333,
             "#9c179e"
            ],
            [
             0.4444444444444444,
             "#bd3786"
            ],
            [
             0.5555555555555556,
             "#d8576b"
            ],
            [
             0.6666666666666666,
             "#ed7953"
            ],
            [
             0.7777777777777778,
             "#fb9f3a"
            ],
            [
             0.8888888888888888,
             "#fdca26"
            ],
            [
             1,
             "#f0f921"
            ]
           ]
          },
          "colorway": [
           "#636efa",
           "#EF553B",
           "#00cc96",
           "#ab63fa",
           "#FFA15A",
           "#19d3f3",
           "#FF6692",
           "#B6E880",
           "#FF97FF",
           "#FECB52"
          ],
          "font": {
           "color": "#2a3f5f"
          },
          "geo": {
           "bgcolor": "white",
           "lakecolor": "white",
           "landcolor": "#E5ECF6",
           "showlakes": true,
           "showland": true,
           "subunitcolor": "white"
          },
          "hoverlabel": {
           "align": "left"
          },
          "hovermode": "closest",
          "mapbox": {
           "style": "light"
          },
          "paper_bgcolor": "white",
          "plot_bgcolor": "#E5ECF6",
          "polar": {
           "angularaxis": {
            "gridcolor": "white",
            "linecolor": "white",
            "ticks": ""
           },
           "bgcolor": "#E5ECF6",
           "radialaxis": {
            "gridcolor": "white",
            "linecolor": "white",
            "ticks": ""
           }
          },
          "scene": {
           "xaxis": {
            "backgroundcolor": "#E5ECF6",
            "gridcolor": "white",
            "gridwidth": 2,
            "linecolor": "white",
            "showbackground": true,
            "ticks": "",
            "zerolinecolor": "white"
           },
           "yaxis": {
            "backgroundcolor": "#E5ECF6",
            "gridcolor": "white",
            "gridwidth": 2,
            "linecolor": "white",
            "showbackground": true,
            "ticks": "",
            "zerolinecolor": "white"
           },
           "zaxis": {
            "backgroundcolor": "#E5ECF6",
            "gridcolor": "white",
            "gridwidth": 2,
            "linecolor": "white",
            "showbackground": true,
            "ticks": "",
            "zerolinecolor": "white"
           }
          },
          "shapedefaults": {
           "line": {
            "color": "#2a3f5f"
           }
          },
          "ternary": {
           "aaxis": {
            "gridcolor": "white",
            "linecolor": "white",
            "ticks": ""
           },
           "baxis": {
            "gridcolor": "white",
            "linecolor": "white",
            "ticks": ""
           },
           "bgcolor": "#E5ECF6",
           "caxis": {
            "gridcolor": "white",
            "linecolor": "white",
            "ticks": ""
           }
          },
          "title": {
           "x": 0.05
          },
          "xaxis": {
           "automargin": true,
           "gridcolor": "white",
           "linecolor": "white",
           "ticks": "",
           "title": {
            "standoff": 15
           },
           "zerolinecolor": "white",
           "zerolinewidth": 2
          },
          "yaxis": {
           "automargin": true,
           "gridcolor": "white",
           "linecolor": "white",
           "ticks": "",
           "title": {
            "standoff": 15
           },
           "zerolinecolor": "white",
           "zerolinewidth": 2
          }
         }
        },
        "title": {
         "font": {
          "color": "#D9D9D9"
         },
         "text": "Прогноз vs Реальные значения (Валидация) для meantemp"
        },
        "xaxis": {
         "gridcolor": "#434343",
         "showgrid": true,
         "tickfont": {
          "color": "#C2C2C2"
         },
         "title": {
          "font": {
           "color": "#D9D9D9"
          },
          "text": "Время"
         },
         "zerolinecolor": "#666570"
        },
        "yaxis": {
         "gridcolor": "#434343",
         "showgrid": true,
         "tickfont": {
          "color": "#C2C2C2"
         },
         "title": {
          "font": {
           "color": "#D9D9D9"
          },
          "text": "Значение"
         },
         "zerolinecolor": "#666570"
        }
       }
      },
      "text/html": [
       "<div>                            <div id=\"dff6588e-5ebc-467e-967a-65952b0f1864\" class=\"plotly-graph-div\" style=\"height:525px; width:100%;\"></div>            <script type=\"text/javascript\">                require([\"plotly\"], function(Plotly) {                    window.PLOTLYENV=window.PLOTLYENV || {};\n",
       "                    window.PLOTLYENV.BASE_URL='https://plot.ly';                                    if (document.getElementById(\"dff6588e-5ebc-467e-967a-65952b0f1864\")) {                    Plotly.newPlot(                        \"dff6588e-5ebc-467e-967a-65952b0f1864\",                        [{\"line\":{\"color\":\"rgba(255, 153, 51, 1.0)\",\"dash\":\"solid\",\"shape\":\"linear\",\"width\":1.3},\"mode\":\"lines\",\"name\":\"Actual (Validation)\",\"text\":\"\",\"x\":[0,1,2,3,4,5,6,7,8,9,10,11,12,13,14,15,16,17,18,19,20,21,22,23,24,25,26,27,28,29,30,31,32,33,34,35,36,37,38,39,40,41,42,43,44,45,46,47,48,49,50,51,52,53,54,55,56,57,58,59,60,61,62,63,64,65,66,67,68,69,70,71,72,73,74,75,76,77,78,79,80,81,82,83,84,85,86,87,88,89,90,91,92,93,94,95,96,97,98,99,100,101,102,103,104,105,106,107],\"y\":[19.318181818181817,14.708333333333334,15.68421052631579,14.571428571428571,12.11111111111111,11.0,11.789473684210524,13.235294117647058,13.2,16.434782608695652,14.649999999999999,11.72222222222222,13.041666666666666,14.619047619047619,15.26315789473684,15.39130434782609,18.44,18.11764705882353,18.347826086956523,21.0,16.178571428571427,16.5,14.863636363636365,15.666666666666666,16.444444444444443,16.125,15.25,17.09090909090909,15.636363636363637,18.7,18.63157894736842,16.88888888888889,15.125,15.7,15.375000000000002,14.666666666666668,15.625,16.25,16.333333333333332,16.875,17.571428571428573,20.25,21.3,21.125,22.363636363636363,23.375,21.833333333333332,19.125,18.625,19.125,19.0,18.75,19.875,23.333333333333332,24.461538461538463,23.750000000000004,20.5,19.125,19.75,20.0,22.625,21.545454545454547,20.785714285714285,19.9375,18.533333333333335,17.375,17.444444444444443,18.0,19.875,24.0,20.9,24.692307692307693,24.666666666666668,23.333333333333332,25.0,27.25,28.0,28.916666666666668,26.5,29.100000000000005,29.5,29.88888888888889,31.0,29.285714285714285,30.625,31.375,29.75,30.5,30.933333333333337,29.230769230769234,31.22222222222222,26.999999999999996,25.625,27.125,27.857142857142858,29.250000000000004,29.250000000000004,29.666666666666668,30.5,31.22222222222222,31.0,32.55555555555556,34.0,33.5,34.5,34.25,32.9,32.875],\"type\":\"scatter\"},{\"line\":{\"color\":\"rgba(55, 128, 191, 1.0)\",\"dash\":\"solid\",\"shape\":\"linear\",\"width\":1.3},\"mode\":\"lines\",\"name\":\"Predicted (Validation)\",\"text\":\"\",\"x\":[0,1,2,3,4,5,6,7,8,9,10,11,12,13,14,15,16,17,18,19,20,21,22,23,24,25,26,27,28,29,30,31,32,33,34,35,36,37,38,39,40,41,42,43,44,45,46,47,48,49,50,51,52,53,54,55,56,57,58,59,60,61,62,63,64,65,66,67,68,69,70,71,72,73,74,75,76,77,78,79,80,81,82,83,84,85,86,87,88,89,90,91,92,93,94,95,96,97,98,99,100,101,102,103,104,105,106,107],\"y\":[19.347280502319336,15.92495346069336,16.377426147460938,14.895174980163574,13.465060234069824,12.917128562927246,13.09162425994873,14.442769050598145,14.409043312072754,16.798816680908203,15.14352035522461,12.301056861877441,13.28036880493164,15.293962478637695,16.133195877075195,16.167701721191406,18.391036987304688,18.165781021118164,18.366512298583984,20.617816925048828,16.02629852294922,15.990133285522461,14.845643997192383,15.75869369506836,17.091506958007812,16.249679565429688,15.373089790344238,17.002641677856445,15.757606506347656,18.614028930664062,18.800674438476562,17.11124610900879,15.050895690917969,15.848867416381836,15.400619506835938,14.791162490844727,15.5609712600708,16.2069034576416,16.45621681213379,16.919832229614258,17.567256927490234,20.060583114624023,21.055328369140625,20.957128524780273,22.099695205688477,23.202939987182617,21.815765380859375,18.99658966064453,18.929859161376953,19.28058624267578,18.892854690551758,18.667490005493164,19.872108459472656,23.079328536987305,24.040515899658203,23.46051788330078,20.341962814331055,19.373159408569336,19.885963439941406,19.784343719482422,22.5364990234375,21.469369888305664,20.69927978515625,20.044252395629883,18.515199661254883,17.682174682617188,17.563304901123047,18.08444595336914,19.836328506469727,23.489912033081055,20.459829330444336,23.87725257873535,24.257247924804688,23.258058547973633,24.970298767089844,26.922578811645508,27.84731101989746,28.824935913085938,26.555116653442383,29.09699249267578,29.401212692260742,29.864910125732422,31.003747940063477,29.263290405273438,30.574779510498047,31.322755813598633,29.673093795776367,30.490474700927734,30.8445987701416,29.08017349243164,31.185649871826172,26.764265060424805,25.38745880126953,27.064777374267578,27.780824661254883,29.222057342529297,29.286996841430664,29.651872634887695,30.50334930419922,31.14310073852539,30.957965850830078,32.48392105102539,33.83502197265625,33.417320251464844,34.47428512573242,34.11534881591797,32.758060455322266,32.714717864990234],\"type\":\"scatter\"}],                        {\"legend\":{\"bgcolor\":\"#151516\",\"font\":{\"color\":\"#D9D9D9\"}},\"paper_bgcolor\":\"#151516\",\"plot_bgcolor\":\"#151516\",\"template\":{\"data\":{\"barpolar\":[{\"marker\":{\"line\":{\"color\":\"#E5ECF6\",\"width\":0.5},\"pattern\":{\"fillmode\":\"overlay\",\"size\":10,\"solidity\":0.2}},\"type\":\"barpolar\"}],\"bar\":[{\"error_x\":{\"color\":\"#2a3f5f\"},\"error_y\":{\"color\":\"#2a3f5f\"},\"marker\":{\"line\":{\"color\":\"#E5ECF6\",\"width\":0.5},\"pattern\":{\"fillmode\":\"overlay\",\"size\":10,\"solidity\":0.2}},\"type\":\"bar\"}],\"carpet\":[{\"aaxis\":{\"endlinecolor\":\"#2a3f5f\",\"gridcolor\":\"white\",\"linecolor\":\"white\",\"minorgridcolor\":\"white\",\"startlinecolor\":\"#2a3f5f\"},\"baxis\":{\"endlinecolor\":\"#2a3f5f\",\"gridcolor\":\"white\",\"linecolor\":\"white\",\"minorgridcolor\":\"white\",\"startlinecolor\":\"#2a3f5f\"},\"type\":\"carpet\"}],\"choropleth\":[{\"colorbar\":{\"outlinewidth\":0,\"ticks\":\"\"},\"type\":\"choropleth\"}],\"contourcarpet\":[{\"colorbar\":{\"outlinewidth\":0,\"ticks\":\"\"},\"type\":\"contourcarpet\"}],\"contour\":[{\"colorbar\":{\"outlinewidth\":0,\"ticks\":\"\"},\"colorscale\":[[0.0,\"#0d0887\"],[0.1111111111111111,\"#46039f\"],[0.2222222222222222,\"#7201a8\"],[0.3333333333333333,\"#9c179e\"],[0.4444444444444444,\"#bd3786\"],[0.5555555555555556,\"#d8576b\"],[0.6666666666666666,\"#ed7953\"],[0.7777777777777778,\"#fb9f3a\"],[0.8888888888888888,\"#fdca26\"],[1.0,\"#f0f921\"]],\"type\":\"contour\"}],\"heatmapgl\":[{\"colorbar\":{\"outlinewidth\":0,\"ticks\":\"\"},\"colorscale\":[[0.0,\"#0d0887\"],[0.1111111111111111,\"#46039f\"],[0.2222222222222222,\"#7201a8\"],[0.3333333333333333,\"#9c179e\"],[0.4444444444444444,\"#bd3786\"],[0.5555555555555556,\"#d8576b\"],[0.6666666666666666,\"#ed7953\"],[0.7777777777777778,\"#fb9f3a\"],[0.8888888888888888,\"#fdca26\"],[1.0,\"#f0f921\"]],\"type\":\"heatmapgl\"}],\"heatmap\":[{\"colorbar\":{\"outlinewidth\":0,\"ticks\":\"\"},\"colorscale\":[[0.0,\"#0d0887\"],[0.1111111111111111,\"#46039f\"],[0.2222222222222222,\"#7201a8\"],[0.3333333333333333,\"#9c179e\"],[0.4444444444444444,\"#bd3786\"],[0.5555555555555556,\"#d8576b\"],[0.6666666666666666,\"#ed7953\"],[0.7777777777777778,\"#fb9f3a\"],[0.8888888888888888,\"#fdca26\"],[1.0,\"#f0f921\"]],\"type\":\"heatmap\"}],\"histogram2dcontour\":[{\"colorbar\":{\"outlinewidth\":0,\"ticks\":\"\"},\"colorscale\":[[0.0,\"#0d0887\"],[0.1111111111111111,\"#46039f\"],[0.2222222222222222,\"#7201a8\"],[0.3333333333333333,\"#9c179e\"],[0.4444444444444444,\"#bd3786\"],[0.5555555555555556,\"#d8576b\"],[0.6666666666666666,\"#ed7953\"],[0.7777777777777778,\"#fb9f3a\"],[0.8888888888888888,\"#fdca26\"],[1.0,\"#f0f921\"]],\"type\":\"histogram2dcontour\"}],\"histogram2d\":[{\"colorbar\":{\"outlinewidth\":0,\"ticks\":\"\"},\"colorscale\":[[0.0,\"#0d0887\"],[0.1111111111111111,\"#46039f\"],[0.2222222222222222,\"#7201a8\"],[0.3333333333333333,\"#9c179e\"],[0.4444444444444444,\"#bd3786\"],[0.5555555555555556,\"#d8576b\"],[0.6666666666666666,\"#ed7953\"],[0.7777777777777778,\"#fb9f3a\"],[0.8888888888888888,\"#fdca26\"],[1.0,\"#f0f921\"]],\"type\":\"histogram2d\"}],\"histogram\":[{\"marker\":{\"pattern\":{\"fillmode\":\"overlay\",\"size\":10,\"solidity\":0.2}},\"type\":\"histogram\"}],\"mesh3d\":[{\"colorbar\":{\"outlinewidth\":0,\"ticks\":\"\"},\"type\":\"mesh3d\"}],\"parcoords\":[{\"line\":{\"colorbar\":{\"outlinewidth\":0,\"ticks\":\"\"}},\"type\":\"parcoords\"}],\"pie\":[{\"automargin\":true,\"type\":\"pie\"}],\"scatter3d\":[{\"line\":{\"colorbar\":{\"outlinewidth\":0,\"ticks\":\"\"}},\"marker\":{\"colorbar\":{\"outlinewidth\":0,\"ticks\":\"\"}},\"type\":\"scatter3d\"}],\"scattercarpet\":[{\"marker\":{\"colorbar\":{\"outlinewidth\":0,\"ticks\":\"\"}},\"type\":\"scattercarpet\"}],\"scattergeo\":[{\"marker\":{\"colorbar\":{\"outlinewidth\":0,\"ticks\":\"\"}},\"type\":\"scattergeo\"}],\"scattergl\":[{\"marker\":{\"colorbar\":{\"outlinewidth\":0,\"ticks\":\"\"}},\"type\":\"scattergl\"}],\"scattermapbox\":[{\"marker\":{\"colorbar\":{\"outlinewidth\":0,\"ticks\":\"\"}},\"type\":\"scattermapbox\"}],\"scatterpolargl\":[{\"marker\":{\"colorbar\":{\"outlinewidth\":0,\"ticks\":\"\"}},\"type\":\"scatterpolargl\"}],\"scatterpolar\":[{\"marker\":{\"colorbar\":{\"outlinewidth\":0,\"ticks\":\"\"}},\"type\":\"scatterpolar\"}],\"scatter\":[{\"fillpattern\":{\"fillmode\":\"overlay\",\"size\":10,\"solidity\":0.2},\"type\":\"scatter\"}],\"scatterternary\":[{\"marker\":{\"colorbar\":{\"outlinewidth\":0,\"ticks\":\"\"}},\"type\":\"scatterternary\"}],\"surface\":[{\"colorbar\":{\"outlinewidth\":0,\"ticks\":\"\"},\"colorscale\":[[0.0,\"#0d0887\"],[0.1111111111111111,\"#46039f\"],[0.2222222222222222,\"#7201a8\"],[0.3333333333333333,\"#9c179e\"],[0.4444444444444444,\"#bd3786\"],[0.5555555555555556,\"#d8576b\"],[0.6666666666666666,\"#ed7953\"],[0.7777777777777778,\"#fb9f3a\"],[0.8888888888888888,\"#fdca26\"],[1.0,\"#f0f921\"]],\"type\":\"surface\"}],\"table\":[{\"cells\":{\"fill\":{\"color\":\"#EBF0F8\"},\"line\":{\"color\":\"white\"}},\"header\":{\"fill\":{\"color\":\"#C8D4E3\"},\"line\":{\"color\":\"white\"}},\"type\":\"table\"}]},\"layout\":{\"annotationdefaults\":{\"arrowcolor\":\"#2a3f5f\",\"arrowhead\":0,\"arrowwidth\":1},\"autotypenumbers\":\"strict\",\"coloraxis\":{\"colorbar\":{\"outlinewidth\":0,\"ticks\":\"\"}},\"colorscale\":{\"diverging\":[[0,\"#8e0152\"],[0.1,\"#c51b7d\"],[0.2,\"#de77ae\"],[0.3,\"#f1b6da\"],[0.4,\"#fde0ef\"],[0.5,\"#f7f7f7\"],[0.6,\"#e6f5d0\"],[0.7,\"#b8e186\"],[0.8,\"#7fbc41\"],[0.9,\"#4d9221\"],[1,\"#276419\"]],\"sequential\":[[0.0,\"#0d0887\"],[0.1111111111111111,\"#46039f\"],[0.2222222222222222,\"#7201a8\"],[0.3333333333333333,\"#9c179e\"],[0.4444444444444444,\"#bd3786\"],[0.5555555555555556,\"#d8576b\"],[0.6666666666666666,\"#ed7953\"],[0.7777777777777778,\"#fb9f3a\"],[0.8888888888888888,\"#fdca26\"],[1.0,\"#f0f921\"]],\"sequentialminus\":[[0.0,\"#0d0887\"],[0.1111111111111111,\"#46039f\"],[0.2222222222222222,\"#7201a8\"],[0.3333333333333333,\"#9c179e\"],[0.4444444444444444,\"#bd3786\"],[0.5555555555555556,\"#d8576b\"],[0.6666666666666666,\"#ed7953\"],[0.7777777777777778,\"#fb9f3a\"],[0.8888888888888888,\"#fdca26\"],[1.0,\"#f0f921\"]]},\"colorway\":[\"#636efa\",\"#EF553B\",\"#00cc96\",\"#ab63fa\",\"#FFA15A\",\"#19d3f3\",\"#FF6692\",\"#B6E880\",\"#FF97FF\",\"#FECB52\"],\"font\":{\"color\":\"#2a3f5f\"},\"geo\":{\"bgcolor\":\"white\",\"lakecolor\":\"white\",\"landcolor\":\"#E5ECF6\",\"showlakes\":true,\"showland\":true,\"subunitcolor\":\"white\"},\"hoverlabel\":{\"align\":\"left\"},\"hovermode\":\"closest\",\"mapbox\":{\"style\":\"light\"},\"paper_bgcolor\":\"white\",\"plot_bgcolor\":\"#E5ECF6\",\"polar\":{\"angularaxis\":{\"gridcolor\":\"white\",\"linecolor\":\"white\",\"ticks\":\"\"},\"bgcolor\":\"#E5ECF6\",\"radialaxis\":{\"gridcolor\":\"white\",\"linecolor\":\"white\",\"ticks\":\"\"}},\"scene\":{\"xaxis\":{\"backgroundcolor\":\"#E5ECF6\",\"gridcolor\":\"white\",\"gridwidth\":2,\"linecolor\":\"white\",\"showbackground\":true,\"ticks\":\"\",\"zerolinecolor\":\"white\"},\"yaxis\":{\"backgroundcolor\":\"#E5ECF6\",\"gridcolor\":\"white\",\"gridwidth\":2,\"linecolor\":\"white\",\"showbackground\":true,\"ticks\":\"\",\"zerolinecolor\":\"white\"},\"zaxis\":{\"backgroundcolor\":\"#E5ECF6\",\"gridcolor\":\"white\",\"gridwidth\":2,\"linecolor\":\"white\",\"showbackground\":true,\"ticks\":\"\",\"zerolinecolor\":\"white\"}},\"shapedefaults\":{\"line\":{\"color\":\"#2a3f5f\"}},\"ternary\":{\"aaxis\":{\"gridcolor\":\"white\",\"linecolor\":\"white\",\"ticks\":\"\"},\"baxis\":{\"gridcolor\":\"white\",\"linecolor\":\"white\",\"ticks\":\"\"},\"bgcolor\":\"#E5ECF6\",\"caxis\":{\"gridcolor\":\"white\",\"linecolor\":\"white\",\"ticks\":\"\"}},\"title\":{\"x\":0.05},\"xaxis\":{\"automargin\":true,\"gridcolor\":\"white\",\"linecolor\":\"white\",\"ticks\":\"\",\"title\":{\"standoff\":15},\"zerolinecolor\":\"white\",\"zerolinewidth\":2},\"yaxis\":{\"automargin\":true,\"gridcolor\":\"white\",\"linecolor\":\"white\",\"ticks\":\"\",\"title\":{\"standoff\":15},\"zerolinecolor\":\"white\",\"zerolinewidth\":2}}},\"title\":{\"font\":{\"color\":\"#D9D9D9\"},\"text\":\"\\u041f\\u0440\\u043e\\u0433\\u043d\\u043e\\u0437 vs \\u0420\\u0435\\u0430\\u043b\\u044c\\u043d\\u044b\\u0435 \\u0437\\u043d\\u0430\\u0447\\u0435\\u043d\\u0438\\u044f (\\u0412\\u0430\\u043b\\u0438\\u0434\\u0430\\u0446\\u0438\\u044f) \\u0434\\u043b\\u044f meantemp\"},\"xaxis\":{\"gridcolor\":\"#434343\",\"showgrid\":true,\"tickfont\":{\"color\":\"#C2C2C2\"},\"title\":{\"font\":{\"color\":\"#D9D9D9\"},\"text\":\"\\u0412\\u0440\\u0435\\u043c\\u044f\"},\"zerolinecolor\":\"#666570\"},\"yaxis\":{\"gridcolor\":\"#434343\",\"showgrid\":true,\"tickfont\":{\"color\":\"#C2C2C2\"},\"title\":{\"font\":{\"color\":\"#D9D9D9\"},\"text\":\"\\u0417\\u043d\\u0430\\u0447\\u0435\\u043d\\u0438\\u0435\"},\"zerolinecolor\":\"#666570\"}},                        {\"showLink\": true, \"linkText\": \"Export to plot.ly\", \"plotlyServerURL\": \"https://plot.ly\", \"responsive\": true}                    ).then(function(){\n",
       "                            \n",
       "var gd = document.getElementById('dff6588e-5ebc-467e-967a-65952b0f1864');\n",
       "var x = new MutationObserver(function (mutations, observer) {{\n",
       "        var display = window.getComputedStyle(gd).display;\n",
       "        if (!display || display === 'none') {{\n",
       "            console.log([gd, 'removed!']);\n",
       "            Plotly.purge(gd);\n",
       "            observer.disconnect();\n",
       "        }}\n",
       "}});\n",
       "\n",
       "// Listen for the removal of the full notebook cells\n",
       "var notebookContainer = gd.closest('#notebook-container');\n",
       "if (notebookContainer) {{\n",
       "    x.observe(notebookContainer, {childList: true});\n",
       "}}\n",
       "\n",
       "// Listen for the clearing of the current output cell\n",
       "var outputEl = gd.closest('.output');\n",
       "if (outputEl) {{\n",
       "    x.observe(outputEl, {childList: true});\n",
       "}}\n",
       "\n",
       "                        })                };                });            </script>        </div>"
      ]
     },
     "metadata": {},
     "output_type": "display_data"
    },
    {
     "data": {
      "application/vnd.plotly.v1+json": {
       "config": {
        "linkText": "Export to plot.ly",
        "plotlyServerURL": "https://plot.ly",
        "showLink": true
       },
       "data": [
        {
         "line": {
          "color": "rgba(255, 153, 51, 1.0)",
          "dash": "solid",
          "shape": "linear",
          "width": 1.3
         },
         "mode": "lines",
         "name": "Actual (Validation)",
         "text": "",
         "type": "scatter",
         "x": [
          0,
          1,
          2,
          3,
          4,
          5,
          6,
          7,
          8,
          9,
          10,
          11,
          12,
          13,
          14,
          15,
          16,
          17,
          18,
          19,
          20,
          21,
          22,
          23,
          24,
          25,
          26,
          27,
          28,
          29,
          30,
          31,
          32,
          33,
          34,
          35,
          36,
          37,
          38,
          39,
          40,
          41,
          42,
          43,
          44,
          45,
          46,
          47,
          48,
          49,
          50,
          51,
          52,
          53,
          54,
          55,
          56,
          57,
          58,
          59,
          60,
          61,
          62,
          63,
          64,
          65,
          66,
          67,
          68,
          69,
          70,
          71,
          72,
          73,
          74,
          75,
          76,
          77,
          78,
          79,
          80,
          81,
          82,
          83,
          84,
          85,
          86,
          87,
          88,
          89,
          90,
          91,
          92,
          93,
          94,
          95,
          96,
          97,
          98,
          99,
          100,
          101,
          102,
          103,
          104,
          105,
          106,
          107
         ],
         "y": [
          79.31818181818181,
          95.83333333333331,
          83.52631578947367,
          80.8095238095238,
          71.94444444444444,
          72.11111111111113,
          74.57894736842105,
          67.05882352941178,
          74.28000000000002,
          72.56521739130434,
          78.45000000000002,
          84.44444444444444,
          78.33333333333331,
          75.14285714285714,
          66.47368421052633,
          70.8695652173913,
          76.24000000000001,
          76,
          68.1304347826087,
          69.96,
          91.64285714285714,
          77.04166666666667,
          82.77272727272727,
          81.77777777777777,
          77.55555555555556,
          76,
          78.625,
          66.54545454545455,
          78.18181818181819,
          77.6,
          77.63157894736844,
          69.66666666666667,
          63.75,
          68.4,
          68.37500000000001,
          71.77777777777777,
          64.00000000000001,
          70.375,
          67,
          65.5,
          67.71428571428571,
          56.75,
          64.40000000000002,
          70.75,
          66.0909090909091,
          60.12500000000001,
          69.41666666666669,
          57.125,
          42.875,
          40.375,
          50.42857142857143,
          59.00000000000001,
          58.37500000000001,
          51.666666666666664,
          47.92307692307692,
          54.24999999999999,
          42.5,
          43.125,
          41.25,
          42.44444444444444,
          41.5,
          52.72727272727273,
          69.07142857142858,
          67.75,
          60.40000000000001,
          56.625,
          49.333333333333336,
          56.333333333333336,
          54.75,
          49.2,
          59.70000000000001,
          46.30769230769231,
          52.27777777777778,
          54.666666666666664,
          49,
          45,
          49.75,
          37.666666666666664,
          39.375,
          37.1,
          38.625,
          40.666666666666664,
          34.5,
          36.857142857142854,
          37.625,
          35.125,
          33.75,
          29.75,
          31.86666666666667,
          46.00000000000001,
          26,
          29.874999999999996,
          29.375,
          21.125,
          19.428571428571427,
          17.75,
          26,
          29.11111111111111,
          37.625,
          30.444444444444443,
          34.25,
          38.44444444444444,
          27.333333333333332,
          24.125,
          27.5,
          39.375,
          40.9,
          27.5
         ]
        },
        {
         "line": {
          "color": "rgba(55, 128, 191, 1.0)",
          "dash": "solid",
          "shape": "linear",
          "width": 1.3
         },
         "mode": "lines",
         "name": "Predicted (Validation)",
         "text": "",
         "type": "scatter",
         "x": [
          0,
          1,
          2,
          3,
          4,
          5,
          6,
          7,
          8,
          9,
          10,
          11,
          12,
          13,
          14,
          15,
          16,
          17,
          18,
          19,
          20,
          21,
          22,
          23,
          24,
          25,
          26,
          27,
          28,
          29,
          30,
          31,
          32,
          33,
          34,
          35,
          36,
          37,
          38,
          39,
          40,
          41,
          42,
          43,
          44,
          45,
          46,
          47,
          48,
          49,
          50,
          51,
          52,
          53,
          54,
          55,
          56,
          57,
          58,
          59,
          60,
          61,
          62,
          63,
          64,
          65,
          66,
          67,
          68,
          69,
          70,
          71,
          72,
          73,
          74,
          75,
          76,
          77,
          78,
          79,
          80,
          81,
          82,
          83,
          84,
          85,
          86,
          87,
          88,
          89,
          90,
          91,
          92,
          93,
          94,
          95,
          96,
          97,
          98,
          99,
          100,
          101,
          102,
          103,
          104,
          105,
          106,
          107
         ],
         "y": [
          80.26130676269531,
          98.08222198486328,
          83.00132751464844,
          81.68244934082031,
          72.56723022460938,
          72.85688018798828,
          75.3816146850586,
          67.89372253417969,
          74.75352478027344,
          73.24467468261719,
          79.0700454711914,
          85.53034210205078,
          78.78897094726562,
          75.69744873046875,
          67.54344940185547,
          71.82034301757812,
          77.1283950805664,
          76.4123764038086,
          69.17218780517578,
          70.8892593383789,
          94.34616088867188,
          77.26670837402344,
          83.49472045898438,
          82.6534652709961,
          77.34092712402344,
          76.69327545166016,
          79.27227783203125,
          67.3379135131836,
          78.8123779296875,
          78.55713653564453,
          78.0699234008789,
          70.53392028808594,
          64.87849426269531,
          69.19622039794922,
          69.00254821777344,
          72.33387756347656,
          65.1810302734375,
          71.13053894042969,
          67.85997772216797,
          66.44884490966797,
          68.46334838867188,
          57.62495422363281,
          65.12076568603516,
          71.5391845703125,
          66.82610321044922,
          60.25771713256836,
          70.36569213867188,
          57.97080612182617,
          44.3178825378418,
          42.02857208251953,
          51.33296585083008,
          59.951515197753906,
          59.669944763183594,
          52.317588806152344,
          48.82941818237305,
          55.183197021484375,
          43.03118133544922,
          42.442832946777344,
          41.42729568481445,
          42.41586685180664,
          41.285465240478516,
          54.31724166870117,
          70.83191680908203,
          68.44873809814453,
          60.601097106933594,
          58.14516067504883,
          49.84088134765625,
          57.12009048461914,
          55.51078796386719,
          49.5460090637207,
          60.2842903137207,
          47.15802001953125,
          50.94929885864258,
          55.467838287353516,
          49.3429069519043,
          44.824012756347656,
          50.346248626708984,
          38.54018783569336,
          38.857295989990234,
          37.37734603881836,
          38.570465087890625,
          40.60084533691406,
          35.180564880371094,
          36.81583786010742,
          37.99229431152344,
          35.479183197021484,
          33.67382049560547,
          30.378273010253906,
          32.50358200073242,
          46.416534423828125,
          27.343812942504883,
          27.97511100769043,
          28.56732940673828,
          24.751792907714844,
          23.197837829589844,
          23.851999282836914,
          28.1348876953125,
          31.1033935546875,
          43.46487045288086,
          33.60523223876953,
          34.317535400390625,
          38.37004470825195,
          27.569643020629883,
          24.34503936767578,
          26.88521385192871,
          39.01460266113281,
          39.969398498535156,
          27.635208129882812
         ]
        }
       ],
       "layout": {
        "legend": {
         "bgcolor": "#151516",
         "font": {
          "color": "#D9D9D9"
         }
        },
        "paper_bgcolor": "#151516",
        "plot_bgcolor": "#151516",
        "template": {
         "data": {
          "bar": [
           {
            "error_x": {
             "color": "#2a3f5f"
            },
            "error_y": {
             "color": "#2a3f5f"
            },
            "marker": {
             "line": {
              "color": "#E5ECF6",
              "width": 0.5
             },
             "pattern": {
              "fillmode": "overlay",
              "size": 10,
              "solidity": 0.2
             }
            },
            "type": "bar"
           }
          ],
          "barpolar": [
           {
            "marker": {
             "line": {
              "color": "#E5ECF6",
              "width": 0.5
             },
             "pattern": {
              "fillmode": "overlay",
              "size": 10,
              "solidity": 0.2
             }
            },
            "type": "barpolar"
           }
          ],
          "carpet": [
           {
            "aaxis": {
             "endlinecolor": "#2a3f5f",
             "gridcolor": "white",
             "linecolor": "white",
             "minorgridcolor": "white",
             "startlinecolor": "#2a3f5f"
            },
            "baxis": {
             "endlinecolor": "#2a3f5f",
             "gridcolor": "white",
             "linecolor": "white",
             "minorgridcolor": "white",
             "startlinecolor": "#2a3f5f"
            },
            "type": "carpet"
           }
          ],
          "choropleth": [
           {
            "colorbar": {
             "outlinewidth": 0,
             "ticks": ""
            },
            "type": "choropleth"
           }
          ],
          "contour": [
           {
            "colorbar": {
             "outlinewidth": 0,
             "ticks": ""
            },
            "colorscale": [
             [
              0,
              "#0d0887"
             ],
             [
              0.1111111111111111,
              "#46039f"
             ],
             [
              0.2222222222222222,
              "#7201a8"
             ],
             [
              0.3333333333333333,
              "#9c179e"
             ],
             [
              0.4444444444444444,
              "#bd3786"
             ],
             [
              0.5555555555555556,
              "#d8576b"
             ],
             [
              0.6666666666666666,
              "#ed7953"
             ],
             [
              0.7777777777777778,
              "#fb9f3a"
             ],
             [
              0.8888888888888888,
              "#fdca26"
             ],
             [
              1,
              "#f0f921"
             ]
            ],
            "type": "contour"
           }
          ],
          "contourcarpet": [
           {
            "colorbar": {
             "outlinewidth": 0,
             "ticks": ""
            },
            "type": "contourcarpet"
           }
          ],
          "heatmap": [
           {
            "colorbar": {
             "outlinewidth": 0,
             "ticks": ""
            },
            "colorscale": [
             [
              0,
              "#0d0887"
             ],
             [
              0.1111111111111111,
              "#46039f"
             ],
             [
              0.2222222222222222,
              "#7201a8"
             ],
             [
              0.3333333333333333,
              "#9c179e"
             ],
             [
              0.4444444444444444,
              "#bd3786"
             ],
             [
              0.5555555555555556,
              "#d8576b"
             ],
             [
              0.6666666666666666,
              "#ed7953"
             ],
             [
              0.7777777777777778,
              "#fb9f3a"
             ],
             [
              0.8888888888888888,
              "#fdca26"
             ],
             [
              1,
              "#f0f921"
             ]
            ],
            "type": "heatmap"
           }
          ],
          "heatmapgl": [
           {
            "colorbar": {
             "outlinewidth": 0,
             "ticks": ""
            },
            "colorscale": [
             [
              0,
              "#0d0887"
             ],
             [
              0.1111111111111111,
              "#46039f"
             ],
             [
              0.2222222222222222,
              "#7201a8"
             ],
             [
              0.3333333333333333,
              "#9c179e"
             ],
             [
              0.4444444444444444,
              "#bd3786"
             ],
             [
              0.5555555555555556,
              "#d8576b"
             ],
             [
              0.6666666666666666,
              "#ed7953"
             ],
             [
              0.7777777777777778,
              "#fb9f3a"
             ],
             [
              0.8888888888888888,
              "#fdca26"
             ],
             [
              1,
              "#f0f921"
             ]
            ],
            "type": "heatmapgl"
           }
          ],
          "histogram": [
           {
            "marker": {
             "pattern": {
              "fillmode": "overlay",
              "size": 10,
              "solidity": 0.2
             }
            },
            "type": "histogram"
           }
          ],
          "histogram2d": [
           {
            "colorbar": {
             "outlinewidth": 0,
             "ticks": ""
            },
            "colorscale": [
             [
              0,
              "#0d0887"
             ],
             [
              0.1111111111111111,
              "#46039f"
             ],
             [
              0.2222222222222222,
              "#7201a8"
             ],
             [
              0.3333333333333333,
              "#9c179e"
             ],
             [
              0.4444444444444444,
              "#bd3786"
             ],
             [
              0.5555555555555556,
              "#d8576b"
             ],
             [
              0.6666666666666666,
              "#ed7953"
             ],
             [
              0.7777777777777778,
              "#fb9f3a"
             ],
             [
              0.8888888888888888,
              "#fdca26"
             ],
             [
              1,
              "#f0f921"
             ]
            ],
            "type": "histogram2d"
           }
          ],
          "histogram2dcontour": [
           {
            "colorbar": {
             "outlinewidth": 0,
             "ticks": ""
            },
            "colorscale": [
             [
              0,
              "#0d0887"
             ],
             [
              0.1111111111111111,
              "#46039f"
             ],
             [
              0.2222222222222222,
              "#7201a8"
             ],
             [
              0.3333333333333333,
              "#9c179e"
             ],
             [
              0.4444444444444444,
              "#bd3786"
             ],
             [
              0.5555555555555556,
              "#d8576b"
             ],
             [
              0.6666666666666666,
              "#ed7953"
             ],
             [
              0.7777777777777778,
              "#fb9f3a"
             ],
             [
              0.8888888888888888,
              "#fdca26"
             ],
             [
              1,
              "#f0f921"
             ]
            ],
            "type": "histogram2dcontour"
           }
          ],
          "mesh3d": [
           {
            "colorbar": {
             "outlinewidth": 0,
             "ticks": ""
            },
            "type": "mesh3d"
           }
          ],
          "parcoords": [
           {
            "line": {
             "colorbar": {
              "outlinewidth": 0,
              "ticks": ""
             }
            },
            "type": "parcoords"
           }
          ],
          "pie": [
           {
            "automargin": true,
            "type": "pie"
           }
          ],
          "scatter": [
           {
            "fillpattern": {
             "fillmode": "overlay",
             "size": 10,
             "solidity": 0.2
            },
            "type": "scatter"
           }
          ],
          "scatter3d": [
           {
            "line": {
             "colorbar": {
              "outlinewidth": 0,
              "ticks": ""
             }
            },
            "marker": {
             "colorbar": {
              "outlinewidth": 0,
              "ticks": ""
             }
            },
            "type": "scatter3d"
           }
          ],
          "scattercarpet": [
           {
            "marker": {
             "colorbar": {
              "outlinewidth": 0,
              "ticks": ""
             }
            },
            "type": "scattercarpet"
           }
          ],
          "scattergeo": [
           {
            "marker": {
             "colorbar": {
              "outlinewidth": 0,
              "ticks": ""
             }
            },
            "type": "scattergeo"
           }
          ],
          "scattergl": [
           {
            "marker": {
             "colorbar": {
              "outlinewidth": 0,
              "ticks": ""
             }
            },
            "type": "scattergl"
           }
          ],
          "scattermapbox": [
           {
            "marker": {
             "colorbar": {
              "outlinewidth": 0,
              "ticks": ""
             }
            },
            "type": "scattermapbox"
           }
          ],
          "scatterpolar": [
           {
            "marker": {
             "colorbar": {
              "outlinewidth": 0,
              "ticks": ""
             }
            },
            "type": "scatterpolar"
           }
          ],
          "scatterpolargl": [
           {
            "marker": {
             "colorbar": {
              "outlinewidth": 0,
              "ticks": ""
             }
            },
            "type": "scatterpolargl"
           }
          ],
          "scatterternary": [
           {
            "marker": {
             "colorbar": {
              "outlinewidth": 0,
              "ticks": ""
             }
            },
            "type": "scatterternary"
           }
          ],
          "surface": [
           {
            "colorbar": {
             "outlinewidth": 0,
             "ticks": ""
            },
            "colorscale": [
             [
              0,
              "#0d0887"
             ],
             [
              0.1111111111111111,
              "#46039f"
             ],
             [
              0.2222222222222222,
              "#7201a8"
             ],
             [
              0.3333333333333333,
              "#9c179e"
             ],
             [
              0.4444444444444444,
              "#bd3786"
             ],
             [
              0.5555555555555556,
              "#d8576b"
             ],
             [
              0.6666666666666666,
              "#ed7953"
             ],
             [
              0.7777777777777778,
              "#fb9f3a"
             ],
             [
              0.8888888888888888,
              "#fdca26"
             ],
             [
              1,
              "#f0f921"
             ]
            ],
            "type": "surface"
           }
          ],
          "table": [
           {
            "cells": {
             "fill": {
              "color": "#EBF0F8"
             },
             "line": {
              "color": "white"
             }
            },
            "header": {
             "fill": {
              "color": "#C8D4E3"
             },
             "line": {
              "color": "white"
             }
            },
            "type": "table"
           }
          ]
         },
         "layout": {
          "annotationdefaults": {
           "arrowcolor": "#2a3f5f",
           "arrowhead": 0,
           "arrowwidth": 1
          },
          "autotypenumbers": "strict",
          "coloraxis": {
           "colorbar": {
            "outlinewidth": 0,
            "ticks": ""
           }
          },
          "colorscale": {
           "diverging": [
            [
             0,
             "#8e0152"
            ],
            [
             0.1,
             "#c51b7d"
            ],
            [
             0.2,
             "#de77ae"
            ],
            [
             0.3,
             "#f1b6da"
            ],
            [
             0.4,
             "#fde0ef"
            ],
            [
             0.5,
             "#f7f7f7"
            ],
            [
             0.6,
             "#e6f5d0"
            ],
            [
             0.7,
             "#b8e186"
            ],
            [
             0.8,
             "#7fbc41"
            ],
            [
             0.9,
             "#4d9221"
            ],
            [
             1,
             "#276419"
            ]
           ],
           "sequential": [
            [
             0,
             "#0d0887"
            ],
            [
             0.1111111111111111,
             "#46039f"
            ],
            [
             0.2222222222222222,
             "#7201a8"
            ],
            [
             0.3333333333333333,
             "#9c179e"
            ],
            [
             0.4444444444444444,
             "#bd3786"
            ],
            [
             0.5555555555555556,
             "#d8576b"
            ],
            [
             0.6666666666666666,
             "#ed7953"
            ],
            [
             0.7777777777777778,
             "#fb9f3a"
            ],
            [
             0.8888888888888888,
             "#fdca26"
            ],
            [
             1,
             "#f0f921"
            ]
           ],
           "sequentialminus": [
            [
             0,
             "#0d0887"
            ],
            [
             0.1111111111111111,
             "#46039f"
            ],
            [
             0.2222222222222222,
             "#7201a8"
            ],
            [
             0.3333333333333333,
             "#9c179e"
            ],
            [
             0.4444444444444444,
             "#bd3786"
            ],
            [
             0.5555555555555556,
             "#d8576b"
            ],
            [
             0.6666666666666666,
             "#ed7953"
            ],
            [
             0.7777777777777778,
             "#fb9f3a"
            ],
            [
             0.8888888888888888,
             "#fdca26"
            ],
            [
             1,
             "#f0f921"
            ]
           ]
          },
          "colorway": [
           "#636efa",
           "#EF553B",
           "#00cc96",
           "#ab63fa",
           "#FFA15A",
           "#19d3f3",
           "#FF6692",
           "#B6E880",
           "#FF97FF",
           "#FECB52"
          ],
          "font": {
           "color": "#2a3f5f"
          },
          "geo": {
           "bgcolor": "white",
           "lakecolor": "white",
           "landcolor": "#E5ECF6",
           "showlakes": true,
           "showland": true,
           "subunitcolor": "white"
          },
          "hoverlabel": {
           "align": "left"
          },
          "hovermode": "closest",
          "mapbox": {
           "style": "light"
          },
          "paper_bgcolor": "white",
          "plot_bgcolor": "#E5ECF6",
          "polar": {
           "angularaxis": {
            "gridcolor": "white",
            "linecolor": "white",
            "ticks": ""
           },
           "bgcolor": "#E5ECF6",
           "radialaxis": {
            "gridcolor": "white",
            "linecolor": "white",
            "ticks": ""
           }
          },
          "scene": {
           "xaxis": {
            "backgroundcolor": "#E5ECF6",
            "gridcolor": "white",
            "gridwidth": 2,
            "linecolor": "white",
            "showbackground": true,
            "ticks": "",
            "zerolinecolor": "white"
           },
           "yaxis": {
            "backgroundcolor": "#E5ECF6",
            "gridcolor": "white",
            "gridwidth": 2,
            "linecolor": "white",
            "showbackground": true,
            "ticks": "",
            "zerolinecolor": "white"
           },
           "zaxis": {
            "backgroundcolor": "#E5ECF6",
            "gridcolor": "white",
            "gridwidth": 2,
            "linecolor": "white",
            "showbackground": true,
            "ticks": "",
            "zerolinecolor": "white"
           }
          },
          "shapedefaults": {
           "line": {
            "color": "#2a3f5f"
           }
          },
          "ternary": {
           "aaxis": {
            "gridcolor": "white",
            "linecolor": "white",
            "ticks": ""
           },
           "baxis": {
            "gridcolor": "white",
            "linecolor": "white",
            "ticks": ""
           },
           "bgcolor": "#E5ECF6",
           "caxis": {
            "gridcolor": "white",
            "linecolor": "white",
            "ticks": ""
           }
          },
          "title": {
           "x": 0.05
          },
          "xaxis": {
           "automargin": true,
           "gridcolor": "white",
           "linecolor": "white",
           "ticks": "",
           "title": {
            "standoff": 15
           },
           "zerolinecolor": "white",
           "zerolinewidth": 2
          },
          "yaxis": {
           "automargin": true,
           "gridcolor": "white",
           "linecolor": "white",
           "ticks": "",
           "title": {
            "standoff": 15
           },
           "zerolinecolor": "white",
           "zerolinewidth": 2
          }
         }
        },
        "title": {
         "font": {
          "color": "#D9D9D9"
         },
         "text": "Прогноз vs Реальные значения (Валидация) для humidity"
        },
        "xaxis": {
         "gridcolor": "#434343",
         "showgrid": true,
         "tickfont": {
          "color": "#C2C2C2"
         },
         "title": {
          "font": {
           "color": "#D9D9D9"
          },
          "text": "Время"
         },
         "zerolinecolor": "#666570"
        },
        "yaxis": {
         "gridcolor": "#434343",
         "showgrid": true,
         "tickfont": {
          "color": "#C2C2C2"
         },
         "title": {
          "font": {
           "color": "#D9D9D9"
          },
          "text": "Значение"
         },
         "zerolinecolor": "#666570"
        }
       }
      },
      "text/html": [
       "<div>                            <div id=\"dfc332c5-a2ec-481d-af2d-a2ee53a989e0\" class=\"plotly-graph-div\" style=\"height:525px; width:100%;\"></div>            <script type=\"text/javascript\">                require([\"plotly\"], function(Plotly) {                    window.PLOTLYENV=window.PLOTLYENV || {};\n",
       "                    window.PLOTLYENV.BASE_URL='https://plot.ly';                                    if (document.getElementById(\"dfc332c5-a2ec-481d-af2d-a2ee53a989e0\")) {                    Plotly.newPlot(                        \"dfc332c5-a2ec-481d-af2d-a2ee53a989e0\",                        [{\"line\":{\"color\":\"rgba(255, 153, 51, 1.0)\",\"dash\":\"solid\",\"shape\":\"linear\",\"width\":1.3},\"mode\":\"lines\",\"name\":\"Actual (Validation)\",\"text\":\"\",\"x\":[0,1,2,3,4,5,6,7,8,9,10,11,12,13,14,15,16,17,18,19,20,21,22,23,24,25,26,27,28,29,30,31,32,33,34,35,36,37,38,39,40,41,42,43,44,45,46,47,48,49,50,51,52,53,54,55,56,57,58,59,60,61,62,63,64,65,66,67,68,69,70,71,72,73,74,75,76,77,78,79,80,81,82,83,84,85,86,87,88,89,90,91,92,93,94,95,96,97,98,99,100,101,102,103,104,105,106,107],\"y\":[79.31818181818181,95.83333333333331,83.52631578947367,80.8095238095238,71.94444444444444,72.11111111111113,74.57894736842105,67.05882352941178,74.28000000000002,72.56521739130434,78.45000000000002,84.44444444444444,78.33333333333331,75.14285714285714,66.47368421052633,70.8695652173913,76.24000000000001,76.0,68.1304347826087,69.96,91.64285714285714,77.04166666666667,82.77272727272727,81.77777777777777,77.55555555555556,76.0,78.625,66.54545454545455,78.18181818181819,77.6,77.63157894736844,69.66666666666667,63.75,68.4,68.37500000000001,71.77777777777777,64.00000000000001,70.375,67.0,65.5,67.71428571428571,56.75,64.40000000000002,70.75,66.0909090909091,60.12500000000001,69.41666666666669,57.125,42.875,40.375,50.42857142857143,59.00000000000001,58.37500000000001,51.666666666666664,47.92307692307692,54.24999999999999,42.5,43.125,41.25,42.44444444444444,41.5,52.72727272727273,69.07142857142858,67.75,60.40000000000001,56.625,49.333333333333336,56.333333333333336,54.75,49.2,59.70000000000001,46.30769230769231,52.27777777777778,54.666666666666664,49.0,45.0,49.75,37.666666666666664,39.375,37.1,38.625,40.666666666666664,34.5,36.857142857142854,37.625,35.125,33.75,29.75,31.86666666666667,46.00000000000001,26.0,29.874999999999996,29.375,21.125,19.428571428571427,17.75,26.0,29.11111111111111,37.625,30.444444444444443,34.25,38.44444444444444,27.333333333333332,24.125,27.5,39.375,40.9,27.5],\"type\":\"scatter\"},{\"line\":{\"color\":\"rgba(55, 128, 191, 1.0)\",\"dash\":\"solid\",\"shape\":\"linear\",\"width\":1.3},\"mode\":\"lines\",\"name\":\"Predicted (Validation)\",\"text\":\"\",\"x\":[0,1,2,3,4,5,6,7,8,9,10,11,12,13,14,15,16,17,18,19,20,21,22,23,24,25,26,27,28,29,30,31,32,33,34,35,36,37,38,39,40,41,42,43,44,45,46,47,48,49,50,51,52,53,54,55,56,57,58,59,60,61,62,63,64,65,66,67,68,69,70,71,72,73,74,75,76,77,78,79,80,81,82,83,84,85,86,87,88,89,90,91,92,93,94,95,96,97,98,99,100,101,102,103,104,105,106,107],\"y\":[80.26130676269531,98.08222198486328,83.00132751464844,81.68244934082031,72.56723022460938,72.85688018798828,75.3816146850586,67.89372253417969,74.75352478027344,73.24467468261719,79.0700454711914,85.53034210205078,78.78897094726562,75.69744873046875,67.54344940185547,71.82034301757812,77.1283950805664,76.4123764038086,69.17218780517578,70.8892593383789,94.34616088867188,77.26670837402344,83.49472045898438,82.6534652709961,77.34092712402344,76.69327545166016,79.27227783203125,67.3379135131836,78.8123779296875,78.55713653564453,78.0699234008789,70.53392028808594,64.87849426269531,69.19622039794922,69.00254821777344,72.33387756347656,65.1810302734375,71.13053894042969,67.85997772216797,66.44884490966797,68.46334838867188,57.62495422363281,65.12076568603516,71.5391845703125,66.82610321044922,60.25771713256836,70.36569213867188,57.97080612182617,44.3178825378418,42.02857208251953,51.33296585083008,59.951515197753906,59.669944763183594,52.317588806152344,48.82941818237305,55.183197021484375,43.03118133544922,42.442832946777344,41.42729568481445,42.41586685180664,41.285465240478516,54.31724166870117,70.83191680908203,68.44873809814453,60.601097106933594,58.14516067504883,49.84088134765625,57.12009048461914,55.51078796386719,49.5460090637207,60.2842903137207,47.15802001953125,50.94929885864258,55.467838287353516,49.3429069519043,44.824012756347656,50.346248626708984,38.54018783569336,38.857295989990234,37.37734603881836,38.570465087890625,40.60084533691406,35.180564880371094,36.81583786010742,37.99229431152344,35.479183197021484,33.67382049560547,30.378273010253906,32.50358200073242,46.416534423828125,27.343812942504883,27.97511100769043,28.56732940673828,24.751792907714844,23.197837829589844,23.851999282836914,28.1348876953125,31.1033935546875,43.46487045288086,33.60523223876953,34.317535400390625,38.37004470825195,27.569643020629883,24.34503936767578,26.88521385192871,39.01460266113281,39.969398498535156,27.635208129882812],\"type\":\"scatter\"}],                        {\"legend\":{\"bgcolor\":\"#151516\",\"font\":{\"color\":\"#D9D9D9\"}},\"paper_bgcolor\":\"#151516\",\"plot_bgcolor\":\"#151516\",\"template\":{\"data\":{\"barpolar\":[{\"marker\":{\"line\":{\"color\":\"#E5ECF6\",\"width\":0.5},\"pattern\":{\"fillmode\":\"overlay\",\"size\":10,\"solidity\":0.2}},\"type\":\"barpolar\"}],\"bar\":[{\"error_x\":{\"color\":\"#2a3f5f\"},\"error_y\":{\"color\":\"#2a3f5f\"},\"marker\":{\"line\":{\"color\":\"#E5ECF6\",\"width\":0.5},\"pattern\":{\"fillmode\":\"overlay\",\"size\":10,\"solidity\":0.2}},\"type\":\"bar\"}],\"carpet\":[{\"aaxis\":{\"endlinecolor\":\"#2a3f5f\",\"gridcolor\":\"white\",\"linecolor\":\"white\",\"minorgridcolor\":\"white\",\"startlinecolor\":\"#2a3f5f\"},\"baxis\":{\"endlinecolor\":\"#2a3f5f\",\"gridcolor\":\"white\",\"linecolor\":\"white\",\"minorgridcolor\":\"white\",\"startlinecolor\":\"#2a3f5f\"},\"type\":\"carpet\"}],\"choropleth\":[{\"colorbar\":{\"outlinewidth\":0,\"ticks\":\"\"},\"type\":\"choropleth\"}],\"contourcarpet\":[{\"colorbar\":{\"outlinewidth\":0,\"ticks\":\"\"},\"type\":\"contourcarpet\"}],\"contour\":[{\"colorbar\":{\"outlinewidth\":0,\"ticks\":\"\"},\"colorscale\":[[0.0,\"#0d0887\"],[0.1111111111111111,\"#46039f\"],[0.2222222222222222,\"#7201a8\"],[0.3333333333333333,\"#9c179e\"],[0.4444444444444444,\"#bd3786\"],[0.5555555555555556,\"#d8576b\"],[0.6666666666666666,\"#ed7953\"],[0.7777777777777778,\"#fb9f3a\"],[0.8888888888888888,\"#fdca26\"],[1.0,\"#f0f921\"]],\"type\":\"contour\"}],\"heatmapgl\":[{\"colorbar\":{\"outlinewidth\":0,\"ticks\":\"\"},\"colorscale\":[[0.0,\"#0d0887\"],[0.1111111111111111,\"#46039f\"],[0.2222222222222222,\"#7201a8\"],[0.3333333333333333,\"#9c179e\"],[0.4444444444444444,\"#bd3786\"],[0.5555555555555556,\"#d8576b\"],[0.6666666666666666,\"#ed7953\"],[0.7777777777777778,\"#fb9f3a\"],[0.8888888888888888,\"#fdca26\"],[1.0,\"#f0f921\"]],\"type\":\"heatmapgl\"}],\"heatmap\":[{\"colorbar\":{\"outlinewidth\":0,\"ticks\":\"\"},\"colorscale\":[[0.0,\"#0d0887\"],[0.1111111111111111,\"#46039f\"],[0.2222222222222222,\"#7201a8\"],[0.3333333333333333,\"#9c179e\"],[0.4444444444444444,\"#bd3786\"],[0.5555555555555556,\"#d8576b\"],[0.6666666666666666,\"#ed7953\"],[0.7777777777777778,\"#fb9f3a\"],[0.8888888888888888,\"#fdca26\"],[1.0,\"#f0f921\"]],\"type\":\"heatmap\"}],\"histogram2dcontour\":[{\"colorbar\":{\"outlinewidth\":0,\"ticks\":\"\"},\"colorscale\":[[0.0,\"#0d0887\"],[0.1111111111111111,\"#46039f\"],[0.2222222222222222,\"#7201a8\"],[0.3333333333333333,\"#9c179e\"],[0.4444444444444444,\"#bd3786\"],[0.5555555555555556,\"#d8576b\"],[0.6666666666666666,\"#ed7953\"],[0.7777777777777778,\"#fb9f3a\"],[0.8888888888888888,\"#fdca26\"],[1.0,\"#f0f921\"]],\"type\":\"histogram2dcontour\"}],\"histogram2d\":[{\"colorbar\":{\"outlinewidth\":0,\"ticks\":\"\"},\"colorscale\":[[0.0,\"#0d0887\"],[0.1111111111111111,\"#46039f\"],[0.2222222222222222,\"#7201a8\"],[0.3333333333333333,\"#9c179e\"],[0.4444444444444444,\"#bd3786\"],[0.5555555555555556,\"#d8576b\"],[0.6666666666666666,\"#ed7953\"],[0.7777777777777778,\"#fb9f3a\"],[0.8888888888888888,\"#fdca26\"],[1.0,\"#f0f921\"]],\"type\":\"histogram2d\"}],\"histogram\":[{\"marker\":{\"pattern\":{\"fillmode\":\"overlay\",\"size\":10,\"solidity\":0.2}},\"type\":\"histogram\"}],\"mesh3d\":[{\"colorbar\":{\"outlinewidth\":0,\"ticks\":\"\"},\"type\":\"mesh3d\"}],\"parcoords\":[{\"line\":{\"colorbar\":{\"outlinewidth\":0,\"ticks\":\"\"}},\"type\":\"parcoords\"}],\"pie\":[{\"automargin\":true,\"type\":\"pie\"}],\"scatter3d\":[{\"line\":{\"colorbar\":{\"outlinewidth\":0,\"ticks\":\"\"}},\"marker\":{\"colorbar\":{\"outlinewidth\":0,\"ticks\":\"\"}},\"type\":\"scatter3d\"}],\"scattercarpet\":[{\"marker\":{\"colorbar\":{\"outlinewidth\":0,\"ticks\":\"\"}},\"type\":\"scattercarpet\"}],\"scattergeo\":[{\"marker\":{\"colorbar\":{\"outlinewidth\":0,\"ticks\":\"\"}},\"type\":\"scattergeo\"}],\"scattergl\":[{\"marker\":{\"colorbar\":{\"outlinewidth\":0,\"ticks\":\"\"}},\"type\":\"scattergl\"}],\"scattermapbox\":[{\"marker\":{\"colorbar\":{\"outlinewidth\":0,\"ticks\":\"\"}},\"type\":\"scattermapbox\"}],\"scatterpolargl\":[{\"marker\":{\"colorbar\":{\"outlinewidth\":0,\"ticks\":\"\"}},\"type\":\"scatterpolargl\"}],\"scatterpolar\":[{\"marker\":{\"colorbar\":{\"outlinewidth\":0,\"ticks\":\"\"}},\"type\":\"scatterpolar\"}],\"scatter\":[{\"fillpattern\":{\"fillmode\":\"overlay\",\"size\":10,\"solidity\":0.2},\"type\":\"scatter\"}],\"scatterternary\":[{\"marker\":{\"colorbar\":{\"outlinewidth\":0,\"ticks\":\"\"}},\"type\":\"scatterternary\"}],\"surface\":[{\"colorbar\":{\"outlinewidth\":0,\"ticks\":\"\"},\"colorscale\":[[0.0,\"#0d0887\"],[0.1111111111111111,\"#46039f\"],[0.2222222222222222,\"#7201a8\"],[0.3333333333333333,\"#9c179e\"],[0.4444444444444444,\"#bd3786\"],[0.5555555555555556,\"#d8576b\"],[0.6666666666666666,\"#ed7953\"],[0.7777777777777778,\"#fb9f3a\"],[0.8888888888888888,\"#fdca26\"],[1.0,\"#f0f921\"]],\"type\":\"surface\"}],\"table\":[{\"cells\":{\"fill\":{\"color\":\"#EBF0F8\"},\"line\":{\"color\":\"white\"}},\"header\":{\"fill\":{\"color\":\"#C8D4E3\"},\"line\":{\"color\":\"white\"}},\"type\":\"table\"}]},\"layout\":{\"annotationdefaults\":{\"arrowcolor\":\"#2a3f5f\",\"arrowhead\":0,\"arrowwidth\":1},\"autotypenumbers\":\"strict\",\"coloraxis\":{\"colorbar\":{\"outlinewidth\":0,\"ticks\":\"\"}},\"colorscale\":{\"diverging\":[[0,\"#8e0152\"],[0.1,\"#c51b7d\"],[0.2,\"#de77ae\"],[0.3,\"#f1b6da\"],[0.4,\"#fde0ef\"],[0.5,\"#f7f7f7\"],[0.6,\"#e6f5d0\"],[0.7,\"#b8e186\"],[0.8,\"#7fbc41\"],[0.9,\"#4d9221\"],[1,\"#276419\"]],\"sequential\":[[0.0,\"#0d0887\"],[0.1111111111111111,\"#46039f\"],[0.2222222222222222,\"#7201a8\"],[0.3333333333333333,\"#9c179e\"],[0.4444444444444444,\"#bd3786\"],[0.5555555555555556,\"#d8576b\"],[0.6666666666666666,\"#ed7953\"],[0.7777777777777778,\"#fb9f3a\"],[0.8888888888888888,\"#fdca26\"],[1.0,\"#f0f921\"]],\"sequentialminus\":[[0.0,\"#0d0887\"],[0.1111111111111111,\"#46039f\"],[0.2222222222222222,\"#7201a8\"],[0.3333333333333333,\"#9c179e\"],[0.4444444444444444,\"#bd3786\"],[0.5555555555555556,\"#d8576b\"],[0.6666666666666666,\"#ed7953\"],[0.7777777777777778,\"#fb9f3a\"],[0.8888888888888888,\"#fdca26\"],[1.0,\"#f0f921\"]]},\"colorway\":[\"#636efa\",\"#EF553B\",\"#00cc96\",\"#ab63fa\",\"#FFA15A\",\"#19d3f3\",\"#FF6692\",\"#B6E880\",\"#FF97FF\",\"#FECB52\"],\"font\":{\"color\":\"#2a3f5f\"},\"geo\":{\"bgcolor\":\"white\",\"lakecolor\":\"white\",\"landcolor\":\"#E5ECF6\",\"showlakes\":true,\"showland\":true,\"subunitcolor\":\"white\"},\"hoverlabel\":{\"align\":\"left\"},\"hovermode\":\"closest\",\"mapbox\":{\"style\":\"light\"},\"paper_bgcolor\":\"white\",\"plot_bgcolor\":\"#E5ECF6\",\"polar\":{\"angularaxis\":{\"gridcolor\":\"white\",\"linecolor\":\"white\",\"ticks\":\"\"},\"bgcolor\":\"#E5ECF6\",\"radialaxis\":{\"gridcolor\":\"white\",\"linecolor\":\"white\",\"ticks\":\"\"}},\"scene\":{\"xaxis\":{\"backgroundcolor\":\"#E5ECF6\",\"gridcolor\":\"white\",\"gridwidth\":2,\"linecolor\":\"white\",\"showbackground\":true,\"ticks\":\"\",\"zerolinecolor\":\"white\"},\"yaxis\":{\"backgroundcolor\":\"#E5ECF6\",\"gridcolor\":\"white\",\"gridwidth\":2,\"linecolor\":\"white\",\"showbackground\":true,\"ticks\":\"\",\"zerolinecolor\":\"white\"},\"zaxis\":{\"backgroundcolor\":\"#E5ECF6\",\"gridcolor\":\"white\",\"gridwidth\":2,\"linecolor\":\"white\",\"showbackground\":true,\"ticks\":\"\",\"zerolinecolor\":\"white\"}},\"shapedefaults\":{\"line\":{\"color\":\"#2a3f5f\"}},\"ternary\":{\"aaxis\":{\"gridcolor\":\"white\",\"linecolor\":\"white\",\"ticks\":\"\"},\"baxis\":{\"gridcolor\":\"white\",\"linecolor\":\"white\",\"ticks\":\"\"},\"bgcolor\":\"#E5ECF6\",\"caxis\":{\"gridcolor\":\"white\",\"linecolor\":\"white\",\"ticks\":\"\"}},\"title\":{\"x\":0.05},\"xaxis\":{\"automargin\":true,\"gridcolor\":\"white\",\"linecolor\":\"white\",\"ticks\":\"\",\"title\":{\"standoff\":15},\"zerolinecolor\":\"white\",\"zerolinewidth\":2},\"yaxis\":{\"automargin\":true,\"gridcolor\":\"white\",\"linecolor\":\"white\",\"ticks\":\"\",\"title\":{\"standoff\":15},\"zerolinecolor\":\"white\",\"zerolinewidth\":2}}},\"title\":{\"font\":{\"color\":\"#D9D9D9\"},\"text\":\"\\u041f\\u0440\\u043e\\u0433\\u043d\\u043e\\u0437 vs \\u0420\\u0435\\u0430\\u043b\\u044c\\u043d\\u044b\\u0435 \\u0437\\u043d\\u0430\\u0447\\u0435\\u043d\\u0438\\u044f (\\u0412\\u0430\\u043b\\u0438\\u0434\\u0430\\u0446\\u0438\\u044f) \\u0434\\u043b\\u044f humidity\"},\"xaxis\":{\"gridcolor\":\"#434343\",\"showgrid\":true,\"tickfont\":{\"color\":\"#C2C2C2\"},\"title\":{\"font\":{\"color\":\"#D9D9D9\"},\"text\":\"\\u0412\\u0440\\u0435\\u043c\\u044f\"},\"zerolinecolor\":\"#666570\"},\"yaxis\":{\"gridcolor\":\"#434343\",\"showgrid\":true,\"tickfont\":{\"color\":\"#C2C2C2\"},\"title\":{\"font\":{\"color\":\"#D9D9D9\"},\"text\":\"\\u0417\\u043d\\u0430\\u0447\\u0435\\u043d\\u0438\\u0435\"},\"zerolinecolor\":\"#666570\"}},                        {\"showLink\": true, \"linkText\": \"Export to plot.ly\", \"plotlyServerURL\": \"https://plot.ly\", \"responsive\": true}                    ).then(function(){\n",
       "                            \n",
       "var gd = document.getElementById('dfc332c5-a2ec-481d-af2d-a2ee53a989e0');\n",
       "var x = new MutationObserver(function (mutations, observer) {{\n",
       "        var display = window.getComputedStyle(gd).display;\n",
       "        if (!display || display === 'none') {{\n",
       "            console.log([gd, 'removed!']);\n",
       "            Plotly.purge(gd);\n",
       "            observer.disconnect();\n",
       "        }}\n",
       "}});\n",
       "\n",
       "// Listen for the removal of the full notebook cells\n",
       "var notebookContainer = gd.closest('#notebook-container');\n",
       "if (notebookContainer) {{\n",
       "    x.observe(notebookContainer, {childList: true});\n",
       "}}\n",
       "\n",
       "// Listen for the clearing of the current output cell\n",
       "var outputEl = gd.closest('.output');\n",
       "if (outputEl) {{\n",
       "    x.observe(outputEl, {childList: true});\n",
       "}}\n",
       "\n",
       "                        })                };                });            </script>        </div>"
      ]
     },
     "metadata": {},
     "output_type": "display_data"
    },
    {
     "data": {
      "application/vnd.plotly.v1+json": {
       "config": {
        "linkText": "Export to plot.ly",
        "plotlyServerURL": "https://plot.ly",
        "showLink": true
       },
       "data": [
        {
         "line": {
          "color": "rgba(255, 153, 51, 1.0)",
          "dash": "solid",
          "shape": "linear",
          "width": 1.3
         },
         "mode": "lines",
         "name": "Actual (Validation)",
         "text": "",
         "type": "scatter",
         "x": [
          0,
          1,
          2,
          3,
          4,
          5,
          6,
          7,
          8,
          9,
          10,
          11,
          12,
          13,
          14,
          15,
          16,
          17,
          18,
          19,
          20,
          21,
          22,
          23,
          24,
          25,
          26,
          27,
          28,
          29,
          30,
          31,
          32,
          33,
          34,
          35,
          36,
          37,
          38,
          39,
          40,
          41,
          42,
          43,
          44,
          45,
          46,
          47,
          48,
          49,
          50,
          51,
          52,
          53,
          54,
          55,
          56,
          57,
          58,
          59,
          60,
          61,
          62,
          63,
          64,
          65,
          66,
          67,
          68,
          69,
          70,
          71,
          72,
          73,
          74,
          75,
          76,
          77,
          78,
          79,
          80,
          81,
          82,
          83,
          84,
          85,
          86,
          87,
          88,
          89,
          90,
          91,
          92,
          93,
          94,
          95,
          96,
          97,
          98,
          99,
          100,
          101,
          102,
          103,
          104,
          105,
          106,
          107
         ],
         "y": [
          8.681818181818182,
          10.041666666666664,
          1.95,
          6.54285714285714,
          9.361111111111107,
          9.772222222222219,
          6.626315789473684,
          6.435294117647059,
          5.276,
          3.630434782608696,
          10.380000000000003,
          8.038888888888886,
          6.029166666666663,
          10.33809523809524,
          11.226315789473684,
          13.695652173913045,
          5.8679999999999986,
          6.752941176470587,
          3.3913043478260865,
          8.755999999999998,
          8.467857142857142,
          14.358333333333333,
          9.690909090909091,
          10.294444444444444,
          4.322222222222222,
          4.625,
          5.1000000000000005,
          3.027272727272727,
          1.8545454545454545,
          9.82,
          8.099999999999998,
          9.044444444444444,
          7.637500000000001,
          4.08,
          7.875000000000001,
          9.066666666666666,
          3.95,
          1.625,
          6.377777777777777,
          6.9624999999999995,
          5.557142857142857,
          10.4375,
          9.279999999999998,
          6.249999999999999,
          6.054545454545456,
          6.937499999999998,
          12.341666666666669,
          7.412499999999999,
          14.35,
          16.6625,
          11.928571428571429,
          11.1125,
          5.1000000000000005,
          3.911111111111111,
          6.415384615384616,
          5.929999999999999,
          7.412499999999999,
          8.350000000000001,
          9.962500000000002,
          9.666666666666664,
          6.025000000000001,
          10.263636363636364,
          8.342857142857143,
          11.4625,
          5.566666666666666,
          7.637499999999998,
          9.055555555555554,
          4.522222222222222,
          7.175,
          5.5600000000000005,
          11.489999999999998,
          7.123076923076923,
          9.161111111111111,
          10.077777777777778,
          9.2625,
          10.187500000000002,
          3.4875000000000003,
          10.033333333333337,
          10.424999999999999,
          17.59,
          13.65,
          8.844444444444445,
          13.2,
          10.585714285714284,
          6.9499999999999975,
          9.0375,
          9.2625,
          6.9375,
          14.32,
          14.384615384615389,
          13.577777777777776,
          4.65,
          8.337499999999997,
          14.125,
          19.314285714285713,
          15.5125,
          9.4875,
          4.944444444444445,
          1.3875000000000002,
          5.966666666666668,
          2.0999999999999996,
          5.366666666666667,
          7.811111111111111,
          9.025,
          5.5625,
          6.9624999999999995,
          8.89,
          9.962500000000002
         ]
        },
        {
         "line": {
          "color": "rgba(55, 128, 191, 1.0)",
          "dash": "solid",
          "shape": "linear",
          "width": 1.3
         },
         "mode": "lines",
         "name": "Predicted (Validation)",
         "text": "",
         "type": "scatter",
         "x": [
          0,
          1,
          2,
          3,
          4,
          5,
          6,
          7,
          8,
          9,
          10,
          11,
          12,
          13,
          14,
          15,
          16,
          17,
          18,
          19,
          20,
          21,
          22,
          23,
          24,
          25,
          26,
          27,
          28,
          29,
          30,
          31,
          32,
          33,
          34,
          35,
          36,
          37,
          38,
          39,
          40,
          41,
          42,
          43,
          44,
          45,
          46,
          47,
          48,
          49,
          50,
          51,
          52,
          53,
          54,
          55,
          56,
          57,
          58,
          59,
          60,
          61,
          62,
          63,
          64,
          65,
          66,
          67,
          68,
          69,
          70,
          71,
          72,
          73,
          74,
          75,
          76,
          77,
          78,
          79,
          80,
          81,
          82,
          83,
          84,
          85,
          86,
          87,
          88,
          89,
          90,
          91,
          92,
          93,
          94,
          95,
          96,
          97,
          98,
          99,
          100,
          101,
          102,
          103,
          104,
          105,
          106,
          107
         ],
         "y": [
          8.48979377746582,
          9.059136390686035,
          2.1682345867156982,
          6.723835468292236,
          8.39717960357666,
          8.258974075317383,
          5.425026893615723,
          5.534723281860352,
          4.531800270080566,
          3.0278637409210205,
          9.974685668945312,
          6.712118148803711,
          4.691686630249023,
          9.587830543518066,
          10.028440475463867,
          11.521116256713867,
          4.577425479888916,
          5.769545078277588,
          2.8682985305786133,
          8.035365104675293,
          7.0260090827941895,
          13.0607271194458,
          7.629654407501221,
          8.32846736907959,
          3.761650323867798,
          4.005276679992676,
          4.346142768859863,
          2.548314332962036,
          2.2571544647216797,
          9.924040794372559,
          7.0731987953186035,
          7.636177062988281,
          6.540643692016602,
          3.4272513389587402,
          7.488095760345459,
          8.02158260345459,
          2.9287736415863037,
          2.449514865875244,
          6.32150411605835,
          6.123440742492676,
          4.300788402557373,
          9.877888679504395,
          8.169938087463379,
          4.891210556030273,
          5.35942268371582,
          6.247011661529541,
          11.37350082397461,
          5.454990863800049,
          13.089730262756348,
          14.38439655303955,
          8.594319343566895,
          9.004257202148438,
          3.676588773727417,
          3.2923953533172607,
          5.742883205413818,
          5.009963512420654,
          6.473358154296875,
          7.713209629058838,
          9.01871109008789,
          8.393206596374512,
          5.013183116912842,
          9.428556442260742,
          6.9883036613464355,
          9.971012115478516,
          4.464828014373779,
          6.612091541290283,
          8.01779556274414,
          3.6866023540496826,
          6.481403827667236,
          4.745729446411133,
          10.60019302368164,
          5.402981758117676,
          8.02973461151123,
          8.768050193786621,
          7.742461681365967,
          8.564896583557129,
          3.334312677383423,
          9.594088554382324,
          8.712306022644043,
          15.882987022399902,
          10.008973121643066,
          6.075085639953613,
          11.645597457885742,
          8.445548057556152,
          5.178755283355713,
          8.045747756958008,
          7.977487564086914,
          5.446140289306641,
          13.307955741882324,
          12.419332504272461,
          10.438572883605957,
          4.422874450683594,
          7.481109142303467,
          12.869853973388672,
          17.11121940612793,
          11.243791580200195,
          6.566479682922363,
          3.9430625438690186,
          2.375204086303711,
          5.621790409088135,
          1.8385467529296875,
          4.9160661697387695,
          7.599337577819824,
          8.122084617614746,
          4.734153747558594,
          6.277242183685303,
          8.119832038879395,
          8.719324111938477
         ]
        }
       ],
       "layout": {
        "legend": {
         "bgcolor": "#151516",
         "font": {
          "color": "#D9D9D9"
         }
        },
        "paper_bgcolor": "#151516",
        "plot_bgcolor": "#151516",
        "template": {
         "data": {
          "bar": [
           {
            "error_x": {
             "color": "#2a3f5f"
            },
            "error_y": {
             "color": "#2a3f5f"
            },
            "marker": {
             "line": {
              "color": "#E5ECF6",
              "width": 0.5
             },
             "pattern": {
              "fillmode": "overlay",
              "size": 10,
              "solidity": 0.2
             }
            },
            "type": "bar"
           }
          ],
          "barpolar": [
           {
            "marker": {
             "line": {
              "color": "#E5ECF6",
              "width": 0.5
             },
             "pattern": {
              "fillmode": "overlay",
              "size": 10,
              "solidity": 0.2
             }
            },
            "type": "barpolar"
           }
          ],
          "carpet": [
           {
            "aaxis": {
             "endlinecolor": "#2a3f5f",
             "gridcolor": "white",
             "linecolor": "white",
             "minorgridcolor": "white",
             "startlinecolor": "#2a3f5f"
            },
            "baxis": {
             "endlinecolor": "#2a3f5f",
             "gridcolor": "white",
             "linecolor": "white",
             "minorgridcolor": "white",
             "startlinecolor": "#2a3f5f"
            },
            "type": "carpet"
           }
          ],
          "choropleth": [
           {
            "colorbar": {
             "outlinewidth": 0,
             "ticks": ""
            },
            "type": "choropleth"
           }
          ],
          "contour": [
           {
            "colorbar": {
             "outlinewidth": 0,
             "ticks": ""
            },
            "colorscale": [
             [
              0,
              "#0d0887"
             ],
             [
              0.1111111111111111,
              "#46039f"
             ],
             [
              0.2222222222222222,
              "#7201a8"
             ],
             [
              0.3333333333333333,
              "#9c179e"
             ],
             [
              0.4444444444444444,
              "#bd3786"
             ],
             [
              0.5555555555555556,
              "#d8576b"
             ],
             [
              0.6666666666666666,
              "#ed7953"
             ],
             [
              0.7777777777777778,
              "#fb9f3a"
             ],
             [
              0.8888888888888888,
              "#fdca26"
             ],
             [
              1,
              "#f0f921"
             ]
            ],
            "type": "contour"
           }
          ],
          "contourcarpet": [
           {
            "colorbar": {
             "outlinewidth": 0,
             "ticks": ""
            },
            "type": "contourcarpet"
           }
          ],
          "heatmap": [
           {
            "colorbar": {
             "outlinewidth": 0,
             "ticks": ""
            },
            "colorscale": [
             [
              0,
              "#0d0887"
             ],
             [
              0.1111111111111111,
              "#46039f"
             ],
             [
              0.2222222222222222,
              "#7201a8"
             ],
             [
              0.3333333333333333,
              "#9c179e"
             ],
             [
              0.4444444444444444,
              "#bd3786"
             ],
             [
              0.5555555555555556,
              "#d8576b"
             ],
             [
              0.6666666666666666,
              "#ed7953"
             ],
             [
              0.7777777777777778,
              "#fb9f3a"
             ],
             [
              0.8888888888888888,
              "#fdca26"
             ],
             [
              1,
              "#f0f921"
             ]
            ],
            "type": "heatmap"
           }
          ],
          "heatmapgl": [
           {
            "colorbar": {
             "outlinewidth": 0,
             "ticks": ""
            },
            "colorscale": [
             [
              0,
              "#0d0887"
             ],
             [
              0.1111111111111111,
              "#46039f"
             ],
             [
              0.2222222222222222,
              "#7201a8"
             ],
             [
              0.3333333333333333,
              "#9c179e"
             ],
             [
              0.4444444444444444,
              "#bd3786"
             ],
             [
              0.5555555555555556,
              "#d8576b"
             ],
             [
              0.6666666666666666,
              "#ed7953"
             ],
             [
              0.7777777777777778,
              "#fb9f3a"
             ],
             [
              0.8888888888888888,
              "#fdca26"
             ],
             [
              1,
              "#f0f921"
             ]
            ],
            "type": "heatmapgl"
           }
          ],
          "histogram": [
           {
            "marker": {
             "pattern": {
              "fillmode": "overlay",
              "size": 10,
              "solidity": 0.2
             }
            },
            "type": "histogram"
           }
          ],
          "histogram2d": [
           {
            "colorbar": {
             "outlinewidth": 0,
             "ticks": ""
            },
            "colorscale": [
             [
              0,
              "#0d0887"
             ],
             [
              0.1111111111111111,
              "#46039f"
             ],
             [
              0.2222222222222222,
              "#7201a8"
             ],
             [
              0.3333333333333333,
              "#9c179e"
             ],
             [
              0.4444444444444444,
              "#bd3786"
             ],
             [
              0.5555555555555556,
              "#d8576b"
             ],
             [
              0.6666666666666666,
              "#ed7953"
             ],
             [
              0.7777777777777778,
              "#fb9f3a"
             ],
             [
              0.8888888888888888,
              "#fdca26"
             ],
             [
              1,
              "#f0f921"
             ]
            ],
            "type": "histogram2d"
           }
          ],
          "histogram2dcontour": [
           {
            "colorbar": {
             "outlinewidth": 0,
             "ticks": ""
            },
            "colorscale": [
             [
              0,
              "#0d0887"
             ],
             [
              0.1111111111111111,
              "#46039f"
             ],
             [
              0.2222222222222222,
              "#7201a8"
             ],
             [
              0.3333333333333333,
              "#9c179e"
             ],
             [
              0.4444444444444444,
              "#bd3786"
             ],
             [
              0.5555555555555556,
              "#d8576b"
             ],
             [
              0.6666666666666666,
              "#ed7953"
             ],
             [
              0.7777777777777778,
              "#fb9f3a"
             ],
             [
              0.8888888888888888,
              "#fdca26"
             ],
             [
              1,
              "#f0f921"
             ]
            ],
            "type": "histogram2dcontour"
           }
          ],
          "mesh3d": [
           {
            "colorbar": {
             "outlinewidth": 0,
             "ticks": ""
            },
            "type": "mesh3d"
           }
          ],
          "parcoords": [
           {
            "line": {
             "colorbar": {
              "outlinewidth": 0,
              "ticks": ""
             }
            },
            "type": "parcoords"
           }
          ],
          "pie": [
           {
            "automargin": true,
            "type": "pie"
           }
          ],
          "scatter": [
           {
            "fillpattern": {
             "fillmode": "overlay",
             "size": 10,
             "solidity": 0.2
            },
            "type": "scatter"
           }
          ],
          "scatter3d": [
           {
            "line": {
             "colorbar": {
              "outlinewidth": 0,
              "ticks": ""
             }
            },
            "marker": {
             "colorbar": {
              "outlinewidth": 0,
              "ticks": ""
             }
            },
            "type": "scatter3d"
           }
          ],
          "scattercarpet": [
           {
            "marker": {
             "colorbar": {
              "outlinewidth": 0,
              "ticks": ""
             }
            },
            "type": "scattercarpet"
           }
          ],
          "scattergeo": [
           {
            "marker": {
             "colorbar": {
              "outlinewidth": 0,
              "ticks": ""
             }
            },
            "type": "scattergeo"
           }
          ],
          "scattergl": [
           {
            "marker": {
             "colorbar": {
              "outlinewidth": 0,
              "ticks": ""
             }
            },
            "type": "scattergl"
           }
          ],
          "scattermapbox": [
           {
            "marker": {
             "colorbar": {
              "outlinewidth": 0,
              "ticks": ""
             }
            },
            "type": "scattermapbox"
           }
          ],
          "scatterpolar": [
           {
            "marker": {
             "colorbar": {
              "outlinewidth": 0,
              "ticks": ""
             }
            },
            "type": "scatterpolar"
           }
          ],
          "scatterpolargl": [
           {
            "marker": {
             "colorbar": {
              "outlinewidth": 0,
              "ticks": ""
             }
            },
            "type": "scatterpolargl"
           }
          ],
          "scatterternary": [
           {
            "marker": {
             "colorbar": {
              "outlinewidth": 0,
              "ticks": ""
             }
            },
            "type": "scatterternary"
           }
          ],
          "surface": [
           {
            "colorbar": {
             "outlinewidth": 0,
             "ticks": ""
            },
            "colorscale": [
             [
              0,
              "#0d0887"
             ],
             [
              0.1111111111111111,
              "#46039f"
             ],
             [
              0.2222222222222222,
              "#7201a8"
             ],
             [
              0.3333333333333333,
              "#9c179e"
             ],
             [
              0.4444444444444444,
              "#bd3786"
             ],
             [
              0.5555555555555556,
              "#d8576b"
             ],
             [
              0.6666666666666666,
              "#ed7953"
             ],
             [
              0.7777777777777778,
              "#fb9f3a"
             ],
             [
              0.8888888888888888,
              "#fdca26"
             ],
             [
              1,
              "#f0f921"
             ]
            ],
            "type": "surface"
           }
          ],
          "table": [
           {
            "cells": {
             "fill": {
              "color": "#EBF0F8"
             },
             "line": {
              "color": "white"
             }
            },
            "header": {
             "fill": {
              "color": "#C8D4E3"
             },
             "line": {
              "color": "white"
             }
            },
            "type": "table"
           }
          ]
         },
         "layout": {
          "annotationdefaults": {
           "arrowcolor": "#2a3f5f",
           "arrowhead": 0,
           "arrowwidth": 1
          },
          "autotypenumbers": "strict",
          "coloraxis": {
           "colorbar": {
            "outlinewidth": 0,
            "ticks": ""
           }
          },
          "colorscale": {
           "diverging": [
            [
             0,
             "#8e0152"
            ],
            [
             0.1,
             "#c51b7d"
            ],
            [
             0.2,
             "#de77ae"
            ],
            [
             0.3,
             "#f1b6da"
            ],
            [
             0.4,
             "#fde0ef"
            ],
            [
             0.5,
             "#f7f7f7"
            ],
            [
             0.6,
             "#e6f5d0"
            ],
            [
             0.7,
             "#b8e186"
            ],
            [
             0.8,
             "#7fbc41"
            ],
            [
             0.9,
             "#4d9221"
            ],
            [
             1,
             "#276419"
            ]
           ],
           "sequential": [
            [
             0,
             "#0d0887"
            ],
            [
             0.1111111111111111,
             "#46039f"
            ],
            [
             0.2222222222222222,
             "#7201a8"
            ],
            [
             0.3333333333333333,
             "#9c179e"
            ],
            [
             0.4444444444444444,
             "#bd3786"
            ],
            [
             0.5555555555555556,
             "#d8576b"
            ],
            [
             0.6666666666666666,
             "#ed7953"
            ],
            [
             0.7777777777777778,
             "#fb9f3a"
            ],
            [
             0.8888888888888888,
             "#fdca26"
            ],
            [
             1,
             "#f0f921"
            ]
           ],
           "sequentialminus": [
            [
             0,
             "#0d0887"
            ],
            [
             0.1111111111111111,
             "#46039f"
            ],
            [
             0.2222222222222222,
             "#7201a8"
            ],
            [
             0.3333333333333333,
             "#9c179e"
            ],
            [
             0.4444444444444444,
             "#bd3786"
            ],
            [
             0.5555555555555556,
             "#d8576b"
            ],
            [
             0.6666666666666666,
             "#ed7953"
            ],
            [
             0.7777777777777778,
             "#fb9f3a"
            ],
            [
             0.8888888888888888,
             "#fdca26"
            ],
            [
             1,
             "#f0f921"
            ]
           ]
          },
          "colorway": [
           "#636efa",
           "#EF553B",
           "#00cc96",
           "#ab63fa",
           "#FFA15A",
           "#19d3f3",
           "#FF6692",
           "#B6E880",
           "#FF97FF",
           "#FECB52"
          ],
          "font": {
           "color": "#2a3f5f"
          },
          "geo": {
           "bgcolor": "white",
           "lakecolor": "white",
           "landcolor": "#E5ECF6",
           "showlakes": true,
           "showland": true,
           "subunitcolor": "white"
          },
          "hoverlabel": {
           "align": "left"
          },
          "hovermode": "closest",
          "mapbox": {
           "style": "light"
          },
          "paper_bgcolor": "white",
          "plot_bgcolor": "#E5ECF6",
          "polar": {
           "angularaxis": {
            "gridcolor": "white",
            "linecolor": "white",
            "ticks": ""
           },
           "bgcolor": "#E5ECF6",
           "radialaxis": {
            "gridcolor": "white",
            "linecolor": "white",
            "ticks": ""
           }
          },
          "scene": {
           "xaxis": {
            "backgroundcolor": "#E5ECF6",
            "gridcolor": "white",
            "gridwidth": 2,
            "linecolor": "white",
            "showbackground": true,
            "ticks": "",
            "zerolinecolor": "white"
           },
           "yaxis": {
            "backgroundcolor": "#E5ECF6",
            "gridcolor": "white",
            "gridwidth": 2,
            "linecolor": "white",
            "showbackground": true,
            "ticks": "",
            "zerolinecolor": "white"
           },
           "zaxis": {
            "backgroundcolor": "#E5ECF6",
            "gridcolor": "white",
            "gridwidth": 2,
            "linecolor": "white",
            "showbackground": true,
            "ticks": "",
            "zerolinecolor": "white"
           }
          },
          "shapedefaults": {
           "line": {
            "color": "#2a3f5f"
           }
          },
          "ternary": {
           "aaxis": {
            "gridcolor": "white",
            "linecolor": "white",
            "ticks": ""
           },
           "baxis": {
            "gridcolor": "white",
            "linecolor": "white",
            "ticks": ""
           },
           "bgcolor": "#E5ECF6",
           "caxis": {
            "gridcolor": "white",
            "linecolor": "white",
            "ticks": ""
           }
          },
          "title": {
           "x": 0.05
          },
          "xaxis": {
           "automargin": true,
           "gridcolor": "white",
           "linecolor": "white",
           "ticks": "",
           "title": {
            "standoff": 15
           },
           "zerolinecolor": "white",
           "zerolinewidth": 2
          },
          "yaxis": {
           "automargin": true,
           "gridcolor": "white",
           "linecolor": "white",
           "ticks": "",
           "title": {
            "standoff": 15
           },
           "zerolinecolor": "white",
           "zerolinewidth": 2
          }
         }
        },
        "title": {
         "font": {
          "color": "#D9D9D9"
         },
         "text": "Прогноз vs Реальные значения (Валидация) для wind_speed"
        },
        "xaxis": {
         "gridcolor": "#434343",
         "showgrid": true,
         "tickfont": {
          "color": "#C2C2C2"
         },
         "title": {
          "font": {
           "color": "#D9D9D9"
          },
          "text": "Время"
         },
         "zerolinecolor": "#666570"
        },
        "yaxis": {
         "gridcolor": "#434343",
         "showgrid": true,
         "tickfont": {
          "color": "#C2C2C2"
         },
         "title": {
          "font": {
           "color": "#D9D9D9"
          },
          "text": "Значение"
         },
         "zerolinecolor": "#666570"
        }
       }
      },
      "text/html": [
       "<div>                            <div id=\"a0a359f2-d672-4416-8c9d-837fc8c52577\" class=\"plotly-graph-div\" style=\"height:525px; width:100%;\"></div>            <script type=\"text/javascript\">                require([\"plotly\"], function(Plotly) {                    window.PLOTLYENV=window.PLOTLYENV || {};\n",
       "                    window.PLOTLYENV.BASE_URL='https://plot.ly';                                    if (document.getElementById(\"a0a359f2-d672-4416-8c9d-837fc8c52577\")) {                    Plotly.newPlot(                        \"a0a359f2-d672-4416-8c9d-837fc8c52577\",                        [{\"line\":{\"color\":\"rgba(255, 153, 51, 1.0)\",\"dash\":\"solid\",\"shape\":\"linear\",\"width\":1.3},\"mode\":\"lines\",\"name\":\"Actual (Validation)\",\"text\":\"\",\"x\":[0,1,2,3,4,5,6,7,8,9,10,11,12,13,14,15,16,17,18,19,20,21,22,23,24,25,26,27,28,29,30,31,32,33,34,35,36,37,38,39,40,41,42,43,44,45,46,47,48,49,50,51,52,53,54,55,56,57,58,59,60,61,62,63,64,65,66,67,68,69,70,71,72,73,74,75,76,77,78,79,80,81,82,83,84,85,86,87,88,89,90,91,92,93,94,95,96,97,98,99,100,101,102,103,104,105,106,107],\"y\":[8.681818181818182,10.041666666666664,1.95,6.54285714285714,9.361111111111107,9.772222222222219,6.626315789473684,6.435294117647059,5.276,3.630434782608696,10.380000000000003,8.038888888888886,6.029166666666663,10.33809523809524,11.226315789473684,13.695652173913045,5.8679999999999986,6.752941176470587,3.3913043478260865,8.755999999999998,8.467857142857142,14.358333333333333,9.690909090909091,10.294444444444444,4.322222222222222,4.625,5.1000000000000005,3.027272727272727,1.8545454545454545,9.82,8.099999999999998,9.044444444444444,7.637500000000001,4.08,7.875000000000001,9.066666666666666,3.95,1.625,6.377777777777777,6.9624999999999995,5.557142857142857,10.4375,9.279999999999998,6.249999999999999,6.054545454545456,6.937499999999998,12.341666666666669,7.412499999999999,14.35,16.6625,11.928571428571429,11.1125,5.1000000000000005,3.911111111111111,6.415384615384616,5.929999999999999,7.412499999999999,8.350000000000001,9.962500000000002,9.666666666666664,6.025000000000001,10.263636363636364,8.342857142857143,11.4625,5.566666666666666,7.637499999999998,9.055555555555554,4.522222222222222,7.175,5.5600000000000005,11.489999999999998,7.123076923076923,9.161111111111111,10.077777777777778,9.2625,10.187500000000002,3.4875000000000003,10.033333333333337,10.424999999999999,17.59,13.65,8.844444444444445,13.2,10.585714285714284,6.9499999999999975,9.0375,9.2625,6.9375,14.32,14.384615384615389,13.577777777777776,4.65,8.337499999999997,14.125,19.314285714285713,15.5125,9.4875,4.944444444444445,1.3875000000000002,5.966666666666668,2.0999999999999996,5.366666666666667,7.811111111111111,9.025,5.5625,6.9624999999999995,8.89,9.962500000000002],\"type\":\"scatter\"},{\"line\":{\"color\":\"rgba(55, 128, 191, 1.0)\",\"dash\":\"solid\",\"shape\":\"linear\",\"width\":1.3},\"mode\":\"lines\",\"name\":\"Predicted (Validation)\",\"text\":\"\",\"x\":[0,1,2,3,4,5,6,7,8,9,10,11,12,13,14,15,16,17,18,19,20,21,22,23,24,25,26,27,28,29,30,31,32,33,34,35,36,37,38,39,40,41,42,43,44,45,46,47,48,49,50,51,52,53,54,55,56,57,58,59,60,61,62,63,64,65,66,67,68,69,70,71,72,73,74,75,76,77,78,79,80,81,82,83,84,85,86,87,88,89,90,91,92,93,94,95,96,97,98,99,100,101,102,103,104,105,106,107],\"y\":[8.48979377746582,9.059136390686035,2.1682345867156982,6.723835468292236,8.39717960357666,8.258974075317383,5.425026893615723,5.534723281860352,4.531800270080566,3.0278637409210205,9.974685668945312,6.712118148803711,4.691686630249023,9.587830543518066,10.028440475463867,11.521116256713867,4.577425479888916,5.769545078277588,2.8682985305786133,8.035365104675293,7.0260090827941895,13.0607271194458,7.629654407501221,8.32846736907959,3.761650323867798,4.005276679992676,4.346142768859863,2.548314332962036,2.2571544647216797,9.924040794372559,7.0731987953186035,7.636177062988281,6.540643692016602,3.4272513389587402,7.488095760345459,8.02158260345459,2.9287736415863037,2.449514865875244,6.32150411605835,6.123440742492676,4.300788402557373,9.877888679504395,8.169938087463379,4.891210556030273,5.35942268371582,6.247011661529541,11.37350082397461,5.454990863800049,13.089730262756348,14.38439655303955,8.594319343566895,9.004257202148438,3.676588773727417,3.2923953533172607,5.742883205413818,5.009963512420654,6.473358154296875,7.713209629058838,9.01871109008789,8.393206596374512,5.013183116912842,9.428556442260742,6.9883036613464355,9.971012115478516,4.464828014373779,6.612091541290283,8.01779556274414,3.6866023540496826,6.481403827667236,4.745729446411133,10.60019302368164,5.402981758117676,8.02973461151123,8.768050193786621,7.742461681365967,8.564896583557129,3.334312677383423,9.594088554382324,8.712306022644043,15.882987022399902,10.008973121643066,6.075085639953613,11.645597457885742,8.445548057556152,5.178755283355713,8.045747756958008,7.977487564086914,5.446140289306641,13.307955741882324,12.419332504272461,10.438572883605957,4.422874450683594,7.481109142303467,12.869853973388672,17.11121940612793,11.243791580200195,6.566479682922363,3.9430625438690186,2.375204086303711,5.621790409088135,1.8385467529296875,4.9160661697387695,7.599337577819824,8.122084617614746,4.734153747558594,6.277242183685303,8.119832038879395,8.719324111938477],\"type\":\"scatter\"}],                        {\"legend\":{\"bgcolor\":\"#151516\",\"font\":{\"color\":\"#D9D9D9\"}},\"paper_bgcolor\":\"#151516\",\"plot_bgcolor\":\"#151516\",\"template\":{\"data\":{\"barpolar\":[{\"marker\":{\"line\":{\"color\":\"#E5ECF6\",\"width\":0.5},\"pattern\":{\"fillmode\":\"overlay\",\"size\":10,\"solidity\":0.2}},\"type\":\"barpolar\"}],\"bar\":[{\"error_x\":{\"color\":\"#2a3f5f\"},\"error_y\":{\"color\":\"#2a3f5f\"},\"marker\":{\"line\":{\"color\":\"#E5ECF6\",\"width\":0.5},\"pattern\":{\"fillmode\":\"overlay\",\"size\":10,\"solidity\":0.2}},\"type\":\"bar\"}],\"carpet\":[{\"aaxis\":{\"endlinecolor\":\"#2a3f5f\",\"gridcolor\":\"white\",\"linecolor\":\"white\",\"minorgridcolor\":\"white\",\"startlinecolor\":\"#2a3f5f\"},\"baxis\":{\"endlinecolor\":\"#2a3f5f\",\"gridcolor\":\"white\",\"linecolor\":\"white\",\"minorgridcolor\":\"white\",\"startlinecolor\":\"#2a3f5f\"},\"type\":\"carpet\"}],\"choropleth\":[{\"colorbar\":{\"outlinewidth\":0,\"ticks\":\"\"},\"type\":\"choropleth\"}],\"contourcarpet\":[{\"colorbar\":{\"outlinewidth\":0,\"ticks\":\"\"},\"type\":\"contourcarpet\"}],\"contour\":[{\"colorbar\":{\"outlinewidth\":0,\"ticks\":\"\"},\"colorscale\":[[0.0,\"#0d0887\"],[0.1111111111111111,\"#46039f\"],[0.2222222222222222,\"#7201a8\"],[0.3333333333333333,\"#9c179e\"],[0.4444444444444444,\"#bd3786\"],[0.5555555555555556,\"#d8576b\"],[0.6666666666666666,\"#ed7953\"],[0.7777777777777778,\"#fb9f3a\"],[0.8888888888888888,\"#fdca26\"],[1.0,\"#f0f921\"]],\"type\":\"contour\"}],\"heatmapgl\":[{\"colorbar\":{\"outlinewidth\":0,\"ticks\":\"\"},\"colorscale\":[[0.0,\"#0d0887\"],[0.1111111111111111,\"#46039f\"],[0.2222222222222222,\"#7201a8\"],[0.3333333333333333,\"#9c179e\"],[0.4444444444444444,\"#bd3786\"],[0.5555555555555556,\"#d8576b\"],[0.6666666666666666,\"#ed7953\"],[0.7777777777777778,\"#fb9f3a\"],[0.8888888888888888,\"#fdca26\"],[1.0,\"#f0f921\"]],\"type\":\"heatmapgl\"}],\"heatmap\":[{\"colorbar\":{\"outlinewidth\":0,\"ticks\":\"\"},\"colorscale\":[[0.0,\"#0d0887\"],[0.1111111111111111,\"#46039f\"],[0.2222222222222222,\"#7201a8\"],[0.3333333333333333,\"#9c179e\"],[0.4444444444444444,\"#bd3786\"],[0.5555555555555556,\"#d8576b\"],[0.6666666666666666,\"#ed7953\"],[0.7777777777777778,\"#fb9f3a\"],[0.8888888888888888,\"#fdca26\"],[1.0,\"#f0f921\"]],\"type\":\"heatmap\"}],\"histogram2dcontour\":[{\"colorbar\":{\"outlinewidth\":0,\"ticks\":\"\"},\"colorscale\":[[0.0,\"#0d0887\"],[0.1111111111111111,\"#46039f\"],[0.2222222222222222,\"#7201a8\"],[0.3333333333333333,\"#9c179e\"],[0.4444444444444444,\"#bd3786\"],[0.5555555555555556,\"#d8576b\"],[0.6666666666666666,\"#ed7953\"],[0.7777777777777778,\"#fb9f3a\"],[0.8888888888888888,\"#fdca26\"],[1.0,\"#f0f921\"]],\"type\":\"histogram2dcontour\"}],\"histogram2d\":[{\"colorbar\":{\"outlinewidth\":0,\"ticks\":\"\"},\"colorscale\":[[0.0,\"#0d0887\"],[0.1111111111111111,\"#46039f\"],[0.2222222222222222,\"#7201a8\"],[0.3333333333333333,\"#9c179e\"],[0.4444444444444444,\"#bd3786\"],[0.5555555555555556,\"#d8576b\"],[0.6666666666666666,\"#ed7953\"],[0.7777777777777778,\"#fb9f3a\"],[0.8888888888888888,\"#fdca26\"],[1.0,\"#f0f921\"]],\"type\":\"histogram2d\"}],\"histogram\":[{\"marker\":{\"pattern\":{\"fillmode\":\"overlay\",\"size\":10,\"solidity\":0.2}},\"type\":\"histogram\"}],\"mesh3d\":[{\"colorbar\":{\"outlinewidth\":0,\"ticks\":\"\"},\"type\":\"mesh3d\"}],\"parcoords\":[{\"line\":{\"colorbar\":{\"outlinewidth\":0,\"ticks\":\"\"}},\"type\":\"parcoords\"}],\"pie\":[{\"automargin\":true,\"type\":\"pie\"}],\"scatter3d\":[{\"line\":{\"colorbar\":{\"outlinewidth\":0,\"ticks\":\"\"}},\"marker\":{\"colorbar\":{\"outlinewidth\":0,\"ticks\":\"\"}},\"type\":\"scatter3d\"}],\"scattercarpet\":[{\"marker\":{\"colorbar\":{\"outlinewidth\":0,\"ticks\":\"\"}},\"type\":\"scattercarpet\"}],\"scattergeo\":[{\"marker\":{\"colorbar\":{\"outlinewidth\":0,\"ticks\":\"\"}},\"type\":\"scattergeo\"}],\"scattergl\":[{\"marker\":{\"colorbar\":{\"outlinewidth\":0,\"ticks\":\"\"}},\"type\":\"scattergl\"}],\"scattermapbox\":[{\"marker\":{\"colorbar\":{\"outlinewidth\":0,\"ticks\":\"\"}},\"type\":\"scattermapbox\"}],\"scatterpolargl\":[{\"marker\":{\"colorbar\":{\"outlinewidth\":0,\"ticks\":\"\"}},\"type\":\"scatterpolargl\"}],\"scatterpolar\":[{\"marker\":{\"colorbar\":{\"outlinewidth\":0,\"ticks\":\"\"}},\"type\":\"scatterpolar\"}],\"scatter\":[{\"fillpattern\":{\"fillmode\":\"overlay\",\"size\":10,\"solidity\":0.2},\"type\":\"scatter\"}],\"scatterternary\":[{\"marker\":{\"colorbar\":{\"outlinewidth\":0,\"ticks\":\"\"}},\"type\":\"scatterternary\"}],\"surface\":[{\"colorbar\":{\"outlinewidth\":0,\"ticks\":\"\"},\"colorscale\":[[0.0,\"#0d0887\"],[0.1111111111111111,\"#46039f\"],[0.2222222222222222,\"#7201a8\"],[0.3333333333333333,\"#9c179e\"],[0.4444444444444444,\"#bd3786\"],[0.5555555555555556,\"#d8576b\"],[0.6666666666666666,\"#ed7953\"],[0.7777777777777778,\"#fb9f3a\"],[0.8888888888888888,\"#fdca26\"],[1.0,\"#f0f921\"]],\"type\":\"surface\"}],\"table\":[{\"cells\":{\"fill\":{\"color\":\"#EBF0F8\"},\"line\":{\"color\":\"white\"}},\"header\":{\"fill\":{\"color\":\"#C8D4E3\"},\"line\":{\"color\":\"white\"}},\"type\":\"table\"}]},\"layout\":{\"annotationdefaults\":{\"arrowcolor\":\"#2a3f5f\",\"arrowhead\":0,\"arrowwidth\":1},\"autotypenumbers\":\"strict\",\"coloraxis\":{\"colorbar\":{\"outlinewidth\":0,\"ticks\":\"\"}},\"colorscale\":{\"diverging\":[[0,\"#8e0152\"],[0.1,\"#c51b7d\"],[0.2,\"#de77ae\"],[0.3,\"#f1b6da\"],[0.4,\"#fde0ef\"],[0.5,\"#f7f7f7\"],[0.6,\"#e6f5d0\"],[0.7,\"#b8e186\"],[0.8,\"#7fbc41\"],[0.9,\"#4d9221\"],[1,\"#276419\"]],\"sequential\":[[0.0,\"#0d0887\"],[0.1111111111111111,\"#46039f\"],[0.2222222222222222,\"#7201a8\"],[0.3333333333333333,\"#9c179e\"],[0.4444444444444444,\"#bd3786\"],[0.5555555555555556,\"#d8576b\"],[0.6666666666666666,\"#ed7953\"],[0.7777777777777778,\"#fb9f3a\"],[0.8888888888888888,\"#fdca26\"],[1.0,\"#f0f921\"]],\"sequentialminus\":[[0.0,\"#0d0887\"],[0.1111111111111111,\"#46039f\"],[0.2222222222222222,\"#7201a8\"],[0.3333333333333333,\"#9c179e\"],[0.4444444444444444,\"#bd3786\"],[0.5555555555555556,\"#d8576b\"],[0.6666666666666666,\"#ed7953\"],[0.7777777777777778,\"#fb9f3a\"],[0.8888888888888888,\"#fdca26\"],[1.0,\"#f0f921\"]]},\"colorway\":[\"#636efa\",\"#EF553B\",\"#00cc96\",\"#ab63fa\",\"#FFA15A\",\"#19d3f3\",\"#FF6692\",\"#B6E880\",\"#FF97FF\",\"#FECB52\"],\"font\":{\"color\":\"#2a3f5f\"},\"geo\":{\"bgcolor\":\"white\",\"lakecolor\":\"white\",\"landcolor\":\"#E5ECF6\",\"showlakes\":true,\"showland\":true,\"subunitcolor\":\"white\"},\"hoverlabel\":{\"align\":\"left\"},\"hovermode\":\"closest\",\"mapbox\":{\"style\":\"light\"},\"paper_bgcolor\":\"white\",\"plot_bgcolor\":\"#E5ECF6\",\"polar\":{\"angularaxis\":{\"gridcolor\":\"white\",\"linecolor\":\"white\",\"ticks\":\"\"},\"bgcolor\":\"#E5ECF6\",\"radialaxis\":{\"gridcolor\":\"white\",\"linecolor\":\"white\",\"ticks\":\"\"}},\"scene\":{\"xaxis\":{\"backgroundcolor\":\"#E5ECF6\",\"gridcolor\":\"white\",\"gridwidth\":2,\"linecolor\":\"white\",\"showbackground\":true,\"ticks\":\"\",\"zerolinecolor\":\"white\"},\"yaxis\":{\"backgroundcolor\":\"#E5ECF6\",\"gridcolor\":\"white\",\"gridwidth\":2,\"linecolor\":\"white\",\"showbackground\":true,\"ticks\":\"\",\"zerolinecolor\":\"white\"},\"zaxis\":{\"backgroundcolor\":\"#E5ECF6\",\"gridcolor\":\"white\",\"gridwidth\":2,\"linecolor\":\"white\",\"showbackground\":true,\"ticks\":\"\",\"zerolinecolor\":\"white\"}},\"shapedefaults\":{\"line\":{\"color\":\"#2a3f5f\"}},\"ternary\":{\"aaxis\":{\"gridcolor\":\"white\",\"linecolor\":\"white\",\"ticks\":\"\"},\"baxis\":{\"gridcolor\":\"white\",\"linecolor\":\"white\",\"ticks\":\"\"},\"bgcolor\":\"#E5ECF6\",\"caxis\":{\"gridcolor\":\"white\",\"linecolor\":\"white\",\"ticks\":\"\"}},\"title\":{\"x\":0.05},\"xaxis\":{\"automargin\":true,\"gridcolor\":\"white\",\"linecolor\":\"white\",\"ticks\":\"\",\"title\":{\"standoff\":15},\"zerolinecolor\":\"white\",\"zerolinewidth\":2},\"yaxis\":{\"automargin\":true,\"gridcolor\":\"white\",\"linecolor\":\"white\",\"ticks\":\"\",\"title\":{\"standoff\":15},\"zerolinecolor\":\"white\",\"zerolinewidth\":2}}},\"title\":{\"font\":{\"color\":\"#D9D9D9\"},\"text\":\"\\u041f\\u0440\\u043e\\u0433\\u043d\\u043e\\u0437 vs \\u0420\\u0435\\u0430\\u043b\\u044c\\u043d\\u044b\\u0435 \\u0437\\u043d\\u0430\\u0447\\u0435\\u043d\\u0438\\u044f (\\u0412\\u0430\\u043b\\u0438\\u0434\\u0430\\u0446\\u0438\\u044f) \\u0434\\u043b\\u044f wind_speed\"},\"xaxis\":{\"gridcolor\":\"#434343\",\"showgrid\":true,\"tickfont\":{\"color\":\"#C2C2C2\"},\"title\":{\"font\":{\"color\":\"#D9D9D9\"},\"text\":\"\\u0412\\u0440\\u0435\\u043c\\u044f\"},\"zerolinecolor\":\"#666570\"},\"yaxis\":{\"gridcolor\":\"#434343\",\"showgrid\":true,\"tickfont\":{\"color\":\"#C2C2C2\"},\"title\":{\"font\":{\"color\":\"#D9D9D9\"},\"text\":\"\\u0417\\u043d\\u0430\\u0447\\u0435\\u043d\\u0438\\u0435\"},\"zerolinecolor\":\"#666570\"}},                        {\"showLink\": true, \"linkText\": \"Export to plot.ly\", \"plotlyServerURL\": \"https://plot.ly\", \"responsive\": true}                    ).then(function(){\n",
       "                            \n",
       "var gd = document.getElementById('a0a359f2-d672-4416-8c9d-837fc8c52577');\n",
       "var x = new MutationObserver(function (mutations, observer) {{\n",
       "        var display = window.getComputedStyle(gd).display;\n",
       "        if (!display || display === 'none') {{\n",
       "            console.log([gd, 'removed!']);\n",
       "            Plotly.purge(gd);\n",
       "            observer.disconnect();\n",
       "        }}\n",
       "}});\n",
       "\n",
       "// Listen for the removal of the full notebook cells\n",
       "var notebookContainer = gd.closest('#notebook-container');\n",
       "if (notebookContainer) {{\n",
       "    x.observe(notebookContainer, {childList: true});\n",
       "}}\n",
       "\n",
       "// Listen for the clearing of the current output cell\n",
       "var outputEl = gd.closest('.output');\n",
       "if (outputEl) {{\n",
       "    x.observe(outputEl, {childList: true});\n",
       "}}\n",
       "\n",
       "                        })                };                });            </script>        </div>"
      ]
     },
     "metadata": {},
     "output_type": "display_data"
    },
    {
     "data": {
      "application/vnd.plotly.v1+json": {
       "config": {
        "linkText": "Export to plot.ly",
        "plotlyServerURL": "https://plot.ly",
        "showLink": true
       },
       "data": [
        {
         "line": {
          "color": "rgba(255, 153, 51, 1.0)",
          "dash": "solid",
          "shape": "linear",
          "width": 1.3
         },
         "mode": "lines",
         "name": "Actual (Validation)",
         "text": "",
         "type": "scatter",
         "x": [
          0,
          1,
          2,
          3,
          4,
          5,
          6,
          7,
          8,
          9,
          10,
          11,
          12,
          13,
          14,
          15,
          16,
          17,
          18,
          19,
          20,
          21,
          22,
          23,
          24,
          25,
          26,
          27,
          28,
          29,
          30,
          31,
          32,
          33,
          34,
          35,
          36,
          37,
          38,
          39,
          40,
          41,
          42,
          43,
          44,
          45,
          46,
          47,
          48,
          49,
          50,
          51,
          52,
          53,
          54,
          55,
          56,
          57,
          58,
          59,
          60,
          61,
          62,
          63,
          64,
          65,
          66,
          67,
          68,
          69,
          70,
          71,
          72,
          73,
          74,
          75,
          76,
          77,
          78,
          79,
          80,
          81,
          82,
          83,
          84,
          85,
          86,
          87,
          88,
          89,
          90,
          91,
          92,
          93,
          94,
          95,
          96,
          97,
          98,
          99,
          100,
          101,
          102,
          103,
          104,
          105,
          106,
          107,
          108
         ],
         "y": [
          1014.3333333333334,
          1011.7727272727273,
          1011.375,
          1015.5500000000001,
          1015.9523809523808,
          1016.8888888888888,
          1016.7777777777779,
          1016.3684210526316,
          1017.529411764706,
          1018.84,
          1018.1304347826086,
          1017.1500000000001,
          1018.3888888888888,
          1021.9583333333335,
          1022.8095238095239,
          1021.7894736842105,
          1020.4782608695651,
          1021.0400000000001,
          1019.8235294117649,
          1018.8695652173913,
          1018.3999999999999,
          1017.7857142857146,
          1018.125,
          1019.6363636363635,
          1017.3888888888888,
          1015.8333333333335,
          1015.5,
          1017.5000000000001,
          1018.9090909090908,
          1017.7272727272729,
          1014.4,
          1014.2105263157897,
          1016,
          1016.1249999999999,
          1015.6,
          1016.375,
          1015.6666666666666,
          1016.625,
          1019.625,
          1021.5555555555557,
          1021.375,
          1020.5714285714286,
          1017.625,
          1016.5,
          1016.25,
          1013,
          1005.3749999999999,
          1007.4166666666666,
          1012.25,
          1015.25,
          1016.1249999999999,
          1014.2857142857144,
          1012.3750000000001,
          1014.25,
          1013.1111111111113,
          1012.9230769230768,
          1012.15,
          1010.625,
          1009.9999999999999,
          1010.4999999999999,
          1010.3333333333334,
          1007.375,
          1008.9090909090908,
          1007.3571428571428,
          1006.875,
          1009.8,
          1014.75,
          1014.8888888888888,
          1016.5555555555555,
          1014.1249999999999,
          1011.0999999999999,
          1010.7000000000002,
          1009.8461538461538,
          1011.8888888888889,
          1012.5555555555558,
          1011.75,
          1009.7499999999999,
          1008.875,
          1010.5833333333334,
          1009.875,
          1010.2000000000002,
          1009.4999999999999,
          1008.9999999999999,
          1007.125,
          1007.1428571428572,
          1007.5000000000001,
          1005,
          1004.25,
          1004.25,
          1007.2,
          1005,
          1002.8888888888887,
          1007.375,
          1010.375,
          1010.625,
          1008.5714285714286,
          1006.25,
          1005.8749999999999,
          1006.7777777777777,
          1004.6249999999999,
          1002.4444444444445,
          1003.25,
          1004.4444444444442,
          1003.1111111111113,
          1000.875,
          998.625,
          999.875,
          1001.5999999999999,
          1002.1250000000001
         ]
        },
        {
         "line": {
          "color": "rgba(55, 128, 191, 1.0)",
          "dash": "solid",
          "shape": "linear",
          "width": 1.3
         },
         "mode": "lines",
         "name": "Predicted (Validation)",
         "text": "",
         "type": "scatter",
         "x": [
          0,
          1,
          2,
          3,
          4,
          5,
          6,
          7,
          8,
          9,
          10,
          11,
          12,
          13,
          14,
          15,
          16,
          17,
          18,
          19,
          20,
          21,
          22,
          23,
          24,
          25,
          26,
          27,
          28,
          29,
          30,
          31,
          32,
          33,
          34,
          35,
          36,
          37,
          38,
          39,
          40,
          41,
          42,
          43,
          44,
          45,
          46,
          47,
          48,
          49,
          50,
          51,
          52,
          53,
          54,
          55,
          56,
          57,
          58,
          59,
          60,
          61,
          62,
          63,
          64,
          65,
          66,
          67,
          68,
          69,
          70,
          71,
          72,
          73,
          74,
          75,
          76,
          77,
          78,
          79,
          80,
          81,
          82,
          83,
          84,
          85,
          86,
          87,
          88,
          89,
          90,
          91,
          92,
          93,
          94,
          95,
          96,
          97,
          98,
          99,
          100,
          101,
          102,
          103,
          104,
          105,
          106,
          107,
          108
         ],
         "y": [
          188.50140380859375,
          187.44834899902344,
          187.44821166992188,
          187.45358276367188,
          187.49063110351562,
          187.48963928222656,
          187.47796630859375,
          187.4658203125,
          187.4565887451172,
          187.45973205566406,
          187.46820068359375,
          187.45968627929688,
          187.4451141357422,
          187.44679260253906,
          187.46826171875,
          187.4650115966797,
          187.44293212890625,
          187.42530822753906,
          187.43606567382812,
          187.4376220703125,
          187.4361114501953,
          187.4404754638672,
          187.4437255859375,
          187.44769287109375,
          187.46377563476562,
          187.45118713378906,
          187.4406280517578,
          187.44375610351562,
          187.4639892578125,
          187.47506713867188,
          187.4649658203125,
          187.4388427734375,
          187.44261169433594,
          187.4691162109375,
          187.4751434326172,
          187.4633026123047,
          187.46592712402344,
          187.4602813720703,
          187.45875549316406,
          187.4710693359375,
          187.47389221191406,
          187.4562530517578,
          187.44390869140625,
          187.4278564453125,
          187.431640625,
          187.453125,
          187.4620361328125,
          187.42454528808594,
          187.4552459716797,
          187.51405334472656,
          187.52374267578125,
          187.5022430419922,
          187.47146606445312,
          187.4504852294922,
          187.47303771972656,
          187.47500610351562,
          187.47412109375,
          187.47406005859375,
          187.47146606445312,
          187.47352600097656,
          187.48590087890625,
          187.49594116210938,
          187.47557067871094,
          187.49305725097656,
          187.49478149414062,
          187.4889678955078,
          187.4993438720703,
          187.5267333984375,
          187.50277709960938,
          187.49037170410156,
          187.4685821533203,
          187.44996643066406,
          187.46206665039062,
          187.47142028808594,
          187.49134826660156,
          187.49705505371094,
          187.48870849609375,
          187.4737548828125,
          187.47117614746094,
          187.49404907226562,
          187.4937744140625,
          187.4932861328125,
          187.48902893066406,
          187.49166870117188,
          187.48423767089844,
          187.4908905029297,
          187.50689697265625,
          187.4974822998047,
          187.49673461914062,
          187.50164794921875,
          187.53134155273438,
          187.51893615722656,
          187.4898681640625,
          187.51622009277344,
          187.53839111328125,
          187.52252197265625,
          187.49337768554688,
          187.47776794433594,
          187.4863739013672,
          187.51065063476562,
          187.50765991210938,
          187.49501037597656,
          187.50843811035156,
          187.52992248535156,
          187.52590942382812,
          187.51400756835938,
          187.50611877441406,
          187.5261688232422,
          187.54771423339844
         ]
        }
       ],
       "layout": {
        "legend": {
         "bgcolor": "#151516",
         "font": {
          "color": "#D9D9D9"
         }
        },
        "paper_bgcolor": "#151516",
        "plot_bgcolor": "#151516",
        "template": {
         "data": {
          "bar": [
           {
            "error_x": {
             "color": "#2a3f5f"
            },
            "error_y": {
             "color": "#2a3f5f"
            },
            "marker": {
             "line": {
              "color": "#E5ECF6",
              "width": 0.5
             },
             "pattern": {
              "fillmode": "overlay",
              "size": 10,
              "solidity": 0.2
             }
            },
            "type": "bar"
           }
          ],
          "barpolar": [
           {
            "marker": {
             "line": {
              "color": "#E5ECF6",
              "width": 0.5
             },
             "pattern": {
              "fillmode": "overlay",
              "size": 10,
              "solidity": 0.2
             }
            },
            "type": "barpolar"
           }
          ],
          "carpet": [
           {
            "aaxis": {
             "endlinecolor": "#2a3f5f",
             "gridcolor": "white",
             "linecolor": "white",
             "minorgridcolor": "white",
             "startlinecolor": "#2a3f5f"
            },
            "baxis": {
             "endlinecolor": "#2a3f5f",
             "gridcolor": "white",
             "linecolor": "white",
             "minorgridcolor": "white",
             "startlinecolor": "#2a3f5f"
            },
            "type": "carpet"
           }
          ],
          "choropleth": [
           {
            "colorbar": {
             "outlinewidth": 0,
             "ticks": ""
            },
            "type": "choropleth"
           }
          ],
          "contour": [
           {
            "colorbar": {
             "outlinewidth": 0,
             "ticks": ""
            },
            "colorscale": [
             [
              0,
              "#0d0887"
             ],
             [
              0.1111111111111111,
              "#46039f"
             ],
             [
              0.2222222222222222,
              "#7201a8"
             ],
             [
              0.3333333333333333,
              "#9c179e"
             ],
             [
              0.4444444444444444,
              "#bd3786"
             ],
             [
              0.5555555555555556,
              "#d8576b"
             ],
             [
              0.6666666666666666,
              "#ed7953"
             ],
             [
              0.7777777777777778,
              "#fb9f3a"
             ],
             [
              0.8888888888888888,
              "#fdca26"
             ],
             [
              1,
              "#f0f921"
             ]
            ],
            "type": "contour"
           }
          ],
          "contourcarpet": [
           {
            "colorbar": {
             "outlinewidth": 0,
             "ticks": ""
            },
            "type": "contourcarpet"
           }
          ],
          "heatmap": [
           {
            "colorbar": {
             "outlinewidth": 0,
             "ticks": ""
            },
            "colorscale": [
             [
              0,
              "#0d0887"
             ],
             [
              0.1111111111111111,
              "#46039f"
             ],
             [
              0.2222222222222222,
              "#7201a8"
             ],
             [
              0.3333333333333333,
              "#9c179e"
             ],
             [
              0.4444444444444444,
              "#bd3786"
             ],
             [
              0.5555555555555556,
              "#d8576b"
             ],
             [
              0.6666666666666666,
              "#ed7953"
             ],
             [
              0.7777777777777778,
              "#fb9f3a"
             ],
             [
              0.8888888888888888,
              "#fdca26"
             ],
             [
              1,
              "#f0f921"
             ]
            ],
            "type": "heatmap"
           }
          ],
          "heatmapgl": [
           {
            "colorbar": {
             "outlinewidth": 0,
             "ticks": ""
            },
            "colorscale": [
             [
              0,
              "#0d0887"
             ],
             [
              0.1111111111111111,
              "#46039f"
             ],
             [
              0.2222222222222222,
              "#7201a8"
             ],
             [
              0.3333333333333333,
              "#9c179e"
             ],
             [
              0.4444444444444444,
              "#bd3786"
             ],
             [
              0.5555555555555556,
              "#d8576b"
             ],
             [
              0.6666666666666666,
              "#ed7953"
             ],
             [
              0.7777777777777778,
              "#fb9f3a"
             ],
             [
              0.8888888888888888,
              "#fdca26"
             ],
             [
              1,
              "#f0f921"
             ]
            ],
            "type": "heatmapgl"
           }
          ],
          "histogram": [
           {
            "marker": {
             "pattern": {
              "fillmode": "overlay",
              "size": 10,
              "solidity": 0.2
             }
            },
            "type": "histogram"
           }
          ],
          "histogram2d": [
           {
            "colorbar": {
             "outlinewidth": 0,
             "ticks": ""
            },
            "colorscale": [
             [
              0,
              "#0d0887"
             ],
             [
              0.1111111111111111,
              "#46039f"
             ],
             [
              0.2222222222222222,
              "#7201a8"
             ],
             [
              0.3333333333333333,
              "#9c179e"
             ],
             [
              0.4444444444444444,
              "#bd3786"
             ],
             [
              0.5555555555555556,
              "#d8576b"
             ],
             [
              0.6666666666666666,
              "#ed7953"
             ],
             [
              0.7777777777777778,
              "#fb9f3a"
             ],
             [
              0.8888888888888888,
              "#fdca26"
             ],
             [
              1,
              "#f0f921"
             ]
            ],
            "type": "histogram2d"
           }
          ],
          "histogram2dcontour": [
           {
            "colorbar": {
             "outlinewidth": 0,
             "ticks": ""
            },
            "colorscale": [
             [
              0,
              "#0d0887"
             ],
             [
              0.1111111111111111,
              "#46039f"
             ],
             [
              0.2222222222222222,
              "#7201a8"
             ],
             [
              0.3333333333333333,
              "#9c179e"
             ],
             [
              0.4444444444444444,
              "#bd3786"
             ],
             [
              0.5555555555555556,
              "#d8576b"
             ],
             [
              0.6666666666666666,
              "#ed7953"
             ],
             [
              0.7777777777777778,
              "#fb9f3a"
             ],
             [
              0.8888888888888888,
              "#fdca26"
             ],
             [
              1,
              "#f0f921"
             ]
            ],
            "type": "histogram2dcontour"
           }
          ],
          "mesh3d": [
           {
            "colorbar": {
             "outlinewidth": 0,
             "ticks": ""
            },
            "type": "mesh3d"
           }
          ],
          "parcoords": [
           {
            "line": {
             "colorbar": {
              "outlinewidth": 0,
              "ticks": ""
             }
            },
            "type": "parcoords"
           }
          ],
          "pie": [
           {
            "automargin": true,
            "type": "pie"
           }
          ],
          "scatter": [
           {
            "fillpattern": {
             "fillmode": "overlay",
             "size": 10,
             "solidity": 0.2
            },
            "type": "scatter"
           }
          ],
          "scatter3d": [
           {
            "line": {
             "colorbar": {
              "outlinewidth": 0,
              "ticks": ""
             }
            },
            "marker": {
             "colorbar": {
              "outlinewidth": 0,
              "ticks": ""
             }
            },
            "type": "scatter3d"
           }
          ],
          "scattercarpet": [
           {
            "marker": {
             "colorbar": {
              "outlinewidth": 0,
              "ticks": ""
             }
            },
            "type": "scattercarpet"
           }
          ],
          "scattergeo": [
           {
            "marker": {
             "colorbar": {
              "outlinewidth": 0,
              "ticks": ""
             }
            },
            "type": "scattergeo"
           }
          ],
          "scattergl": [
           {
            "marker": {
             "colorbar": {
              "outlinewidth": 0,
              "ticks": ""
             }
            },
            "type": "scattergl"
           }
          ],
          "scattermapbox": [
           {
            "marker": {
             "colorbar": {
              "outlinewidth": 0,
              "ticks": ""
             }
            },
            "type": "scattermapbox"
           }
          ],
          "scatterpolar": [
           {
            "marker": {
             "colorbar": {
              "outlinewidth": 0,
              "ticks": ""
             }
            },
            "type": "scatterpolar"
           }
          ],
          "scatterpolargl": [
           {
            "marker": {
             "colorbar": {
              "outlinewidth": 0,
              "ticks": ""
             }
            },
            "type": "scatterpolargl"
           }
          ],
          "scatterternary": [
           {
            "marker": {
             "colorbar": {
              "outlinewidth": 0,
              "ticks": ""
             }
            },
            "type": "scatterternary"
           }
          ],
          "surface": [
           {
            "colorbar": {
             "outlinewidth": 0,
             "ticks": ""
            },
            "colorscale": [
             [
              0,
              "#0d0887"
             ],
             [
              0.1111111111111111,
              "#46039f"
             ],
             [
              0.2222222222222222,
              "#7201a8"
             ],
             [
              0.3333333333333333,
              "#9c179e"
             ],
             [
              0.4444444444444444,
              "#bd3786"
             ],
             [
              0.5555555555555556,
              "#d8576b"
             ],
             [
              0.6666666666666666,
              "#ed7953"
             ],
             [
              0.7777777777777778,
              "#fb9f3a"
             ],
             [
              0.8888888888888888,
              "#fdca26"
             ],
             [
              1,
              "#f0f921"
             ]
            ],
            "type": "surface"
           }
          ],
          "table": [
           {
            "cells": {
             "fill": {
              "color": "#EBF0F8"
             },
             "line": {
              "color": "white"
             }
            },
            "header": {
             "fill": {
              "color": "#C8D4E3"
             },
             "line": {
              "color": "white"
             }
            },
            "type": "table"
           }
          ]
         },
         "layout": {
          "annotationdefaults": {
           "arrowcolor": "#2a3f5f",
           "arrowhead": 0,
           "arrowwidth": 1
          },
          "autotypenumbers": "strict",
          "coloraxis": {
           "colorbar": {
            "outlinewidth": 0,
            "ticks": ""
           }
          },
          "colorscale": {
           "diverging": [
            [
             0,
             "#8e0152"
            ],
            [
             0.1,
             "#c51b7d"
            ],
            [
             0.2,
             "#de77ae"
            ],
            [
             0.3,
             "#f1b6da"
            ],
            [
             0.4,
             "#fde0ef"
            ],
            [
             0.5,
             "#f7f7f7"
            ],
            [
             0.6,
             "#e6f5d0"
            ],
            [
             0.7,
             "#b8e186"
            ],
            [
             0.8,
             "#7fbc41"
            ],
            [
             0.9,
             "#4d9221"
            ],
            [
             1,
             "#276419"
            ]
           ],
           "sequential": [
            [
             0,
             "#0d0887"
            ],
            [
             0.1111111111111111,
             "#46039f"
            ],
            [
             0.2222222222222222,
             "#7201a8"
            ],
            [
             0.3333333333333333,
             "#9c179e"
            ],
            [
             0.4444444444444444,
             "#bd3786"
            ],
            [
             0.5555555555555556,
             "#d8576b"
            ],
            [
             0.6666666666666666,
             "#ed7953"
            ],
            [
             0.7777777777777778,
             "#fb9f3a"
            ],
            [
             0.8888888888888888,
             "#fdca26"
            ],
            [
             1,
             "#f0f921"
            ]
           ],
           "sequentialminus": [
            [
             0,
             "#0d0887"
            ],
            [
             0.1111111111111111,
             "#46039f"
            ],
            [
             0.2222222222222222,
             "#7201a8"
            ],
            [
             0.3333333333333333,
             "#9c179e"
            ],
            [
             0.4444444444444444,
             "#bd3786"
            ],
            [
             0.5555555555555556,
             "#d8576b"
            ],
            [
             0.6666666666666666,
             "#ed7953"
            ],
            [
             0.7777777777777778,
             "#fb9f3a"
            ],
            [
             0.8888888888888888,
             "#fdca26"
            ],
            [
             1,
             "#f0f921"
            ]
           ]
          },
          "colorway": [
           "#636efa",
           "#EF553B",
           "#00cc96",
           "#ab63fa",
           "#FFA15A",
           "#19d3f3",
           "#FF6692",
           "#B6E880",
           "#FF97FF",
           "#FECB52"
          ],
          "font": {
           "color": "#2a3f5f"
          },
          "geo": {
           "bgcolor": "white",
           "lakecolor": "white",
           "landcolor": "#E5ECF6",
           "showlakes": true,
           "showland": true,
           "subunitcolor": "white"
          },
          "hoverlabel": {
           "align": "left"
          },
          "hovermode": "closest",
          "mapbox": {
           "style": "light"
          },
          "paper_bgcolor": "white",
          "plot_bgcolor": "#E5ECF6",
          "polar": {
           "angularaxis": {
            "gridcolor": "white",
            "linecolor": "white",
            "ticks": ""
           },
           "bgcolor": "#E5ECF6",
           "radialaxis": {
            "gridcolor": "white",
            "linecolor": "white",
            "ticks": ""
           }
          },
          "scene": {
           "xaxis": {
            "backgroundcolor": "#E5ECF6",
            "gridcolor": "white",
            "gridwidth": 2,
            "linecolor": "white",
            "showbackground": true,
            "ticks": "",
            "zerolinecolor": "white"
           },
           "yaxis": {
            "backgroundcolor": "#E5ECF6",
            "gridcolor": "white",
            "gridwidth": 2,
            "linecolor": "white",
            "showbackground": true,
            "ticks": "",
            "zerolinecolor": "white"
           },
           "zaxis": {
            "backgroundcolor": "#E5ECF6",
            "gridcolor": "white",
            "gridwidth": 2,
            "linecolor": "white",
            "showbackground": true,
            "ticks": "",
            "zerolinecolor": "white"
           }
          },
          "shapedefaults": {
           "line": {
            "color": "#2a3f5f"
           }
          },
          "ternary": {
           "aaxis": {
            "gridcolor": "white",
            "linecolor": "white",
            "ticks": ""
           },
           "baxis": {
            "gridcolor": "white",
            "linecolor": "white",
            "ticks": ""
           },
           "bgcolor": "#E5ECF6",
           "caxis": {
            "gridcolor": "white",
            "linecolor": "white",
            "ticks": ""
           }
          },
          "title": {
           "x": 0.05
          },
          "xaxis": {
           "automargin": true,
           "gridcolor": "white",
           "linecolor": "white",
           "ticks": "",
           "title": {
            "standoff": 15
           },
           "zerolinecolor": "white",
           "zerolinewidth": 2
          },
          "yaxis": {
           "automargin": true,
           "gridcolor": "white",
           "linecolor": "white",
           "ticks": "",
           "title": {
            "standoff": 15
           },
           "zerolinecolor": "white",
           "zerolinewidth": 2
          }
         }
        },
        "title": {
         "font": {
          "color": "#D9D9D9"
         },
         "text": "Прогноз vs Реальные значения (Валидация) для meanpressure"
        },
        "xaxis": {
         "gridcolor": "#434343",
         "showgrid": true,
         "tickfont": {
          "color": "#C2C2C2"
         },
         "title": {
          "font": {
           "color": "#D9D9D9"
          },
          "text": "Время"
         },
         "zerolinecolor": "#666570"
        },
        "yaxis": {
         "gridcolor": "#434343",
         "showgrid": true,
         "tickfont": {
          "color": "#C2C2C2"
         },
         "title": {
          "font": {
           "color": "#D9D9D9"
          },
          "text": "Значение"
         },
         "zerolinecolor": "#666570"
        }
       }
      },
      "text/html": [
       "<div>                            <div id=\"4550c321-f877-4fd0-a000-e2250aefb6bd\" class=\"plotly-graph-div\" style=\"height:525px; width:100%;\"></div>            <script type=\"text/javascript\">                require([\"plotly\"], function(Plotly) {                    window.PLOTLYENV=window.PLOTLYENV || {};\n",
       "                    window.PLOTLYENV.BASE_URL='https://plot.ly';                                    if (document.getElementById(\"4550c321-f877-4fd0-a000-e2250aefb6bd\")) {                    Plotly.newPlot(                        \"4550c321-f877-4fd0-a000-e2250aefb6bd\",                        [{\"line\":{\"color\":\"rgba(255, 153, 51, 1.0)\",\"dash\":\"solid\",\"shape\":\"linear\",\"width\":1.3},\"mode\":\"lines\",\"name\":\"Actual (Validation)\",\"text\":\"\",\"x\":[0,1,2,3,4,5,6,7,8,9,10,11,12,13,14,15,16,17,18,19,20,21,22,23,24,25,26,27,28,29,30,31,32,33,34,35,36,37,38,39,40,41,42,43,44,45,46,47,48,49,50,51,52,53,54,55,56,57,58,59,60,61,62,63,64,65,66,67,68,69,70,71,72,73,74,75,76,77,78,79,80,81,82,83,84,85,86,87,88,89,90,91,92,93,94,95,96,97,98,99,100,101,102,103,104,105,106,107,108],\"y\":[1014.3333333333334,1011.7727272727273,1011.375,1015.5500000000001,1015.9523809523808,1016.8888888888888,1016.7777777777779,1016.3684210526316,1017.529411764706,1018.84,1018.1304347826086,1017.1500000000001,1018.3888888888888,1021.9583333333335,1022.8095238095239,1021.7894736842105,1020.4782608695651,1021.0400000000001,1019.8235294117649,1018.8695652173913,1018.3999999999999,1017.7857142857146,1018.125,1019.6363636363635,1017.3888888888888,1015.8333333333335,1015.5,1017.5000000000001,1018.9090909090908,1017.7272727272729,1014.4,1014.2105263157897,1016.0,1016.1249999999999,1015.6,1016.375,1015.6666666666666,1016.625,1019.625,1021.5555555555557,1021.375,1020.5714285714286,1017.625,1016.5,1016.25,1013.0,1005.3749999999999,1007.4166666666666,1012.25,1015.25,1016.1249999999999,1014.2857142857144,1012.3750000000001,1014.25,1013.1111111111113,1012.9230769230768,1012.15,1010.625,1009.9999999999999,1010.4999999999999,1010.3333333333334,1007.375,1008.9090909090908,1007.3571428571428,1006.875,1009.8,1014.75,1014.8888888888888,1016.5555555555555,1014.1249999999999,1011.0999999999999,1010.7000000000002,1009.8461538461538,1011.8888888888889,1012.5555555555558,1011.75,1009.7499999999999,1008.875,1010.5833333333334,1009.875,1010.2000000000002,1009.4999999999999,1008.9999999999999,1007.125,1007.1428571428572,1007.5000000000001,1005.0,1004.25,1004.25,1007.2,1005.0,1002.8888888888887,1007.375,1010.375,1010.625,1008.5714285714286,1006.25,1005.8749999999999,1006.7777777777777,1004.6249999999999,1002.4444444444445,1003.25,1004.4444444444442,1003.1111111111113,1000.875,998.625,999.875,1001.5999999999999,1002.1250000000001],\"type\":\"scatter\"},{\"line\":{\"color\":\"rgba(55, 128, 191, 1.0)\",\"dash\":\"solid\",\"shape\":\"linear\",\"width\":1.3},\"mode\":\"lines\",\"name\":\"Predicted (Validation)\",\"text\":\"\",\"x\":[0,1,2,3,4,5,6,7,8,9,10,11,12,13,14,15,16,17,18,19,20,21,22,23,24,25,26,27,28,29,30,31,32,33,34,35,36,37,38,39,40,41,42,43,44,45,46,47,48,49,50,51,52,53,54,55,56,57,58,59,60,61,62,63,64,65,66,67,68,69,70,71,72,73,74,75,76,77,78,79,80,81,82,83,84,85,86,87,88,89,90,91,92,93,94,95,96,97,98,99,100,101,102,103,104,105,106,107,108],\"y\":[188.50140380859375,187.44834899902344,187.44821166992188,187.45358276367188,187.49063110351562,187.48963928222656,187.47796630859375,187.4658203125,187.4565887451172,187.45973205566406,187.46820068359375,187.45968627929688,187.4451141357422,187.44679260253906,187.46826171875,187.4650115966797,187.44293212890625,187.42530822753906,187.43606567382812,187.4376220703125,187.4361114501953,187.4404754638672,187.4437255859375,187.44769287109375,187.46377563476562,187.45118713378906,187.4406280517578,187.44375610351562,187.4639892578125,187.47506713867188,187.4649658203125,187.4388427734375,187.44261169433594,187.4691162109375,187.4751434326172,187.4633026123047,187.46592712402344,187.4602813720703,187.45875549316406,187.4710693359375,187.47389221191406,187.4562530517578,187.44390869140625,187.4278564453125,187.431640625,187.453125,187.4620361328125,187.42454528808594,187.4552459716797,187.51405334472656,187.52374267578125,187.5022430419922,187.47146606445312,187.4504852294922,187.47303771972656,187.47500610351562,187.47412109375,187.47406005859375,187.47146606445312,187.47352600097656,187.48590087890625,187.49594116210938,187.47557067871094,187.49305725097656,187.49478149414062,187.4889678955078,187.4993438720703,187.5267333984375,187.50277709960938,187.49037170410156,187.4685821533203,187.44996643066406,187.46206665039062,187.47142028808594,187.49134826660156,187.49705505371094,187.48870849609375,187.4737548828125,187.47117614746094,187.49404907226562,187.4937744140625,187.4932861328125,187.48902893066406,187.49166870117188,187.48423767089844,187.4908905029297,187.50689697265625,187.4974822998047,187.49673461914062,187.50164794921875,187.53134155273438,187.51893615722656,187.4898681640625,187.51622009277344,187.53839111328125,187.52252197265625,187.49337768554688,187.47776794433594,187.4863739013672,187.51065063476562,187.50765991210938,187.49501037597656,187.50843811035156,187.52992248535156,187.52590942382812,187.51400756835938,187.50611877441406,187.5261688232422,187.54771423339844],\"type\":\"scatter\"}],                        {\"legend\":{\"bgcolor\":\"#151516\",\"font\":{\"color\":\"#D9D9D9\"}},\"paper_bgcolor\":\"#151516\",\"plot_bgcolor\":\"#151516\",\"template\":{\"data\":{\"barpolar\":[{\"marker\":{\"line\":{\"color\":\"#E5ECF6\",\"width\":0.5},\"pattern\":{\"fillmode\":\"overlay\",\"size\":10,\"solidity\":0.2}},\"type\":\"barpolar\"}],\"bar\":[{\"error_x\":{\"color\":\"#2a3f5f\"},\"error_y\":{\"color\":\"#2a3f5f\"},\"marker\":{\"line\":{\"color\":\"#E5ECF6\",\"width\":0.5},\"pattern\":{\"fillmode\":\"overlay\",\"size\":10,\"solidity\":0.2}},\"type\":\"bar\"}],\"carpet\":[{\"aaxis\":{\"endlinecolor\":\"#2a3f5f\",\"gridcolor\":\"white\",\"linecolor\":\"white\",\"minorgridcolor\":\"white\",\"startlinecolor\":\"#2a3f5f\"},\"baxis\":{\"endlinecolor\":\"#2a3f5f\",\"gridcolor\":\"white\",\"linecolor\":\"white\",\"minorgridcolor\":\"white\",\"startlinecolor\":\"#2a3f5f\"},\"type\":\"carpet\"}],\"choropleth\":[{\"colorbar\":{\"outlinewidth\":0,\"ticks\":\"\"},\"type\":\"choropleth\"}],\"contourcarpet\":[{\"colorbar\":{\"outlinewidth\":0,\"ticks\":\"\"},\"type\":\"contourcarpet\"}],\"contour\":[{\"colorbar\":{\"outlinewidth\":0,\"ticks\":\"\"},\"colorscale\":[[0.0,\"#0d0887\"],[0.1111111111111111,\"#46039f\"],[0.2222222222222222,\"#7201a8\"],[0.3333333333333333,\"#9c179e\"],[0.4444444444444444,\"#bd3786\"],[0.5555555555555556,\"#d8576b\"],[0.6666666666666666,\"#ed7953\"],[0.7777777777777778,\"#fb9f3a\"],[0.8888888888888888,\"#fdca26\"],[1.0,\"#f0f921\"]],\"type\":\"contour\"}],\"heatmapgl\":[{\"colorbar\":{\"outlinewidth\":0,\"ticks\":\"\"},\"colorscale\":[[0.0,\"#0d0887\"],[0.1111111111111111,\"#46039f\"],[0.2222222222222222,\"#7201a8\"],[0.3333333333333333,\"#9c179e\"],[0.4444444444444444,\"#bd3786\"],[0.5555555555555556,\"#d8576b\"],[0.6666666666666666,\"#ed7953\"],[0.7777777777777778,\"#fb9f3a\"],[0.8888888888888888,\"#fdca26\"],[1.0,\"#f0f921\"]],\"type\":\"heatmapgl\"}],\"heatmap\":[{\"colorbar\":{\"outlinewidth\":0,\"ticks\":\"\"},\"colorscale\":[[0.0,\"#0d0887\"],[0.1111111111111111,\"#46039f\"],[0.2222222222222222,\"#7201a8\"],[0.3333333333333333,\"#9c179e\"],[0.4444444444444444,\"#bd3786\"],[0.5555555555555556,\"#d8576b\"],[0.6666666666666666,\"#ed7953\"],[0.7777777777777778,\"#fb9f3a\"],[0.8888888888888888,\"#fdca26\"],[1.0,\"#f0f921\"]],\"type\":\"heatmap\"}],\"histogram2dcontour\":[{\"colorbar\":{\"outlinewidth\":0,\"ticks\":\"\"},\"colorscale\":[[0.0,\"#0d0887\"],[0.1111111111111111,\"#46039f\"],[0.2222222222222222,\"#7201a8\"],[0.3333333333333333,\"#9c179e\"],[0.4444444444444444,\"#bd3786\"],[0.5555555555555556,\"#d8576b\"],[0.6666666666666666,\"#ed7953\"],[0.7777777777777778,\"#fb9f3a\"],[0.8888888888888888,\"#fdca26\"],[1.0,\"#f0f921\"]],\"type\":\"histogram2dcontour\"}],\"histogram2d\":[{\"colorbar\":{\"outlinewidth\":0,\"ticks\":\"\"},\"colorscale\":[[0.0,\"#0d0887\"],[0.1111111111111111,\"#46039f\"],[0.2222222222222222,\"#7201a8\"],[0.3333333333333333,\"#9c179e\"],[0.4444444444444444,\"#bd3786\"],[0.5555555555555556,\"#d8576b\"],[0.6666666666666666,\"#ed7953\"],[0.7777777777777778,\"#fb9f3a\"],[0.8888888888888888,\"#fdca26\"],[1.0,\"#f0f921\"]],\"type\":\"histogram2d\"}],\"histogram\":[{\"marker\":{\"pattern\":{\"fillmode\":\"overlay\",\"size\":10,\"solidity\":0.2}},\"type\":\"histogram\"}],\"mesh3d\":[{\"colorbar\":{\"outlinewidth\":0,\"ticks\":\"\"},\"type\":\"mesh3d\"}],\"parcoords\":[{\"line\":{\"colorbar\":{\"outlinewidth\":0,\"ticks\":\"\"}},\"type\":\"parcoords\"}],\"pie\":[{\"automargin\":true,\"type\":\"pie\"}],\"scatter3d\":[{\"line\":{\"colorbar\":{\"outlinewidth\":0,\"ticks\":\"\"}},\"marker\":{\"colorbar\":{\"outlinewidth\":0,\"ticks\":\"\"}},\"type\":\"scatter3d\"}],\"scattercarpet\":[{\"marker\":{\"colorbar\":{\"outlinewidth\":0,\"ticks\":\"\"}},\"type\":\"scattercarpet\"}],\"scattergeo\":[{\"marker\":{\"colorbar\":{\"outlinewidth\":0,\"ticks\":\"\"}},\"type\":\"scattergeo\"}],\"scattergl\":[{\"marker\":{\"colorbar\":{\"outlinewidth\":0,\"ticks\":\"\"}},\"type\":\"scattergl\"}],\"scattermapbox\":[{\"marker\":{\"colorbar\":{\"outlinewidth\":0,\"ticks\":\"\"}},\"type\":\"scattermapbox\"}],\"scatterpolargl\":[{\"marker\":{\"colorbar\":{\"outlinewidth\":0,\"ticks\":\"\"}},\"type\":\"scatterpolargl\"}],\"scatterpolar\":[{\"marker\":{\"colorbar\":{\"outlinewidth\":0,\"ticks\":\"\"}},\"type\":\"scatterpolar\"}],\"scatter\":[{\"fillpattern\":{\"fillmode\":\"overlay\",\"size\":10,\"solidity\":0.2},\"type\":\"scatter\"}],\"scatterternary\":[{\"marker\":{\"colorbar\":{\"outlinewidth\":0,\"ticks\":\"\"}},\"type\":\"scatterternary\"}],\"surface\":[{\"colorbar\":{\"outlinewidth\":0,\"ticks\":\"\"},\"colorscale\":[[0.0,\"#0d0887\"],[0.1111111111111111,\"#46039f\"],[0.2222222222222222,\"#7201a8\"],[0.3333333333333333,\"#9c179e\"],[0.4444444444444444,\"#bd3786\"],[0.5555555555555556,\"#d8576b\"],[0.6666666666666666,\"#ed7953\"],[0.7777777777777778,\"#fb9f3a\"],[0.8888888888888888,\"#fdca26\"],[1.0,\"#f0f921\"]],\"type\":\"surface\"}],\"table\":[{\"cells\":{\"fill\":{\"color\":\"#EBF0F8\"},\"line\":{\"color\":\"white\"}},\"header\":{\"fill\":{\"color\":\"#C8D4E3\"},\"line\":{\"color\":\"white\"}},\"type\":\"table\"}]},\"layout\":{\"annotationdefaults\":{\"arrowcolor\":\"#2a3f5f\",\"arrowhead\":0,\"arrowwidth\":1},\"autotypenumbers\":\"strict\",\"coloraxis\":{\"colorbar\":{\"outlinewidth\":0,\"ticks\":\"\"}},\"colorscale\":{\"diverging\":[[0,\"#8e0152\"],[0.1,\"#c51b7d\"],[0.2,\"#de77ae\"],[0.3,\"#f1b6da\"],[0.4,\"#fde0ef\"],[0.5,\"#f7f7f7\"],[0.6,\"#e6f5d0\"],[0.7,\"#b8e186\"],[0.8,\"#7fbc41\"],[0.9,\"#4d9221\"],[1,\"#276419\"]],\"sequential\":[[0.0,\"#0d0887\"],[0.1111111111111111,\"#46039f\"],[0.2222222222222222,\"#7201a8\"],[0.3333333333333333,\"#9c179e\"],[0.4444444444444444,\"#bd3786\"],[0.5555555555555556,\"#d8576b\"],[0.6666666666666666,\"#ed7953\"],[0.7777777777777778,\"#fb9f3a\"],[0.8888888888888888,\"#fdca26\"],[1.0,\"#f0f921\"]],\"sequentialminus\":[[0.0,\"#0d0887\"],[0.1111111111111111,\"#46039f\"],[0.2222222222222222,\"#7201a8\"],[0.3333333333333333,\"#9c179e\"],[0.4444444444444444,\"#bd3786\"],[0.5555555555555556,\"#d8576b\"],[0.6666666666666666,\"#ed7953\"],[0.7777777777777778,\"#fb9f3a\"],[0.8888888888888888,\"#fdca26\"],[1.0,\"#f0f921\"]]},\"colorway\":[\"#636efa\",\"#EF553B\",\"#00cc96\",\"#ab63fa\",\"#FFA15A\",\"#19d3f3\",\"#FF6692\",\"#B6E880\",\"#FF97FF\",\"#FECB52\"],\"font\":{\"color\":\"#2a3f5f\"},\"geo\":{\"bgcolor\":\"white\",\"lakecolor\":\"white\",\"landcolor\":\"#E5ECF6\",\"showlakes\":true,\"showland\":true,\"subunitcolor\":\"white\"},\"hoverlabel\":{\"align\":\"left\"},\"hovermode\":\"closest\",\"mapbox\":{\"style\":\"light\"},\"paper_bgcolor\":\"white\",\"plot_bgcolor\":\"#E5ECF6\",\"polar\":{\"angularaxis\":{\"gridcolor\":\"white\",\"linecolor\":\"white\",\"ticks\":\"\"},\"bgcolor\":\"#E5ECF6\",\"radialaxis\":{\"gridcolor\":\"white\",\"linecolor\":\"white\",\"ticks\":\"\"}},\"scene\":{\"xaxis\":{\"backgroundcolor\":\"#E5ECF6\",\"gridcolor\":\"white\",\"gridwidth\":2,\"linecolor\":\"white\",\"showbackground\":true,\"ticks\":\"\",\"zerolinecolor\":\"white\"},\"yaxis\":{\"backgroundcolor\":\"#E5ECF6\",\"gridcolor\":\"white\",\"gridwidth\":2,\"linecolor\":\"white\",\"showbackground\":true,\"ticks\":\"\",\"zerolinecolor\":\"white\"},\"zaxis\":{\"backgroundcolor\":\"#E5ECF6\",\"gridcolor\":\"white\",\"gridwidth\":2,\"linecolor\":\"white\",\"showbackground\":true,\"ticks\":\"\",\"zerolinecolor\":\"white\"}},\"shapedefaults\":{\"line\":{\"color\":\"#2a3f5f\"}},\"ternary\":{\"aaxis\":{\"gridcolor\":\"white\",\"linecolor\":\"white\",\"ticks\":\"\"},\"baxis\":{\"gridcolor\":\"white\",\"linecolor\":\"white\",\"ticks\":\"\"},\"bgcolor\":\"#E5ECF6\",\"caxis\":{\"gridcolor\":\"white\",\"linecolor\":\"white\",\"ticks\":\"\"}},\"title\":{\"x\":0.05},\"xaxis\":{\"automargin\":true,\"gridcolor\":\"white\",\"linecolor\":\"white\",\"ticks\":\"\",\"title\":{\"standoff\":15},\"zerolinecolor\":\"white\",\"zerolinewidth\":2},\"yaxis\":{\"automargin\":true,\"gridcolor\":\"white\",\"linecolor\":\"white\",\"ticks\":\"\",\"title\":{\"standoff\":15},\"zerolinecolor\":\"white\",\"zerolinewidth\":2}}},\"title\":{\"font\":{\"color\":\"#D9D9D9\"},\"text\":\"\\u041f\\u0440\\u043e\\u0433\\u043d\\u043e\\u0437 vs \\u0420\\u0435\\u0430\\u043b\\u044c\\u043d\\u044b\\u0435 \\u0437\\u043d\\u0430\\u0447\\u0435\\u043d\\u0438\\u044f (\\u0412\\u0430\\u043b\\u0438\\u0434\\u0430\\u0446\\u0438\\u044f) \\u0434\\u043b\\u044f meanpressure\"},\"xaxis\":{\"gridcolor\":\"#434343\",\"showgrid\":true,\"tickfont\":{\"color\":\"#C2C2C2\"},\"title\":{\"font\":{\"color\":\"#D9D9D9\"},\"text\":\"\\u0412\\u0440\\u0435\\u043c\\u044f\"},\"zerolinecolor\":\"#666570\"},\"yaxis\":{\"gridcolor\":\"#434343\",\"showgrid\":true,\"tickfont\":{\"color\":\"#C2C2C2\"},\"title\":{\"font\":{\"color\":\"#D9D9D9\"},\"text\":\"\\u0417\\u043d\\u0430\\u0447\\u0435\\u043d\\u0438\\u0435\"},\"zerolinecolor\":\"#666570\"}},                        {\"showLink\": true, \"linkText\": \"Export to plot.ly\", \"plotlyServerURL\": \"https://plot.ly\", \"responsive\": true}                    ).then(function(){\n",
       "                            \n",
       "var gd = document.getElementById('4550c321-f877-4fd0-a000-e2250aefb6bd');\n",
       "var x = new MutationObserver(function (mutations, observer) {{\n",
       "        var display = window.getComputedStyle(gd).display;\n",
       "        if (!display || display === 'none') {{\n",
       "            console.log([gd, 'removed!']);\n",
       "            Plotly.purge(gd);\n",
       "            observer.disconnect();\n",
       "        }}\n",
       "}});\n",
       "\n",
       "// Listen for the removal of the full notebook cells\n",
       "var notebookContainer = gd.closest('#notebook-container');\n",
       "if (notebookContainer) {{\n",
       "    x.observe(notebookContainer, {childList: true});\n",
       "}}\n",
       "\n",
       "// Listen for the clearing of the current output cell\n",
       "var outputEl = gd.closest('.output');\n",
       "if (outputEl) {{\n",
       "    x.observe(outputEl, {childList: true});\n",
       "}}\n",
       "\n",
       "                        })                };                });            </script>        </div>"
      ]
     },
     "metadata": {},
     "output_type": "display_data"
    }
   ],
   "source": [
    "# Визуализация валидационных данных\n",
    "validation_data_meantemp.plot_val_results(predictions_val_meantemp, y_val_actual_meantemp)\n",
    "validation_data_humidity.plot_val_results(predictions_val_humidity, y_val_actual_humidity)\n",
    "validation_data_wind_speed.plot_val_results(predictions_val_wind_speed, y_val_actual_wind_speed)\n",
    "validation_data_meanpressure.plot_val_results(predictions_val_meanpressure, y_val_actual_meanpressure)"
   ]
  },
  {
   "cell_type": "code",
   "execution_count": 10,
   "metadata": {},
   "outputs": [],
   "source": [
    "import matplotlib.pyplot as plt"
   ]
  },
  {
   "cell_type": "markdown",
   "metadata": {},
   "source": [
    "## Meanpressure"
   ]
  },
  {
   "cell_type": "code",
   "execution_count": 31,
   "metadata": {},
   "outputs": [],
   "source": [
    "class PreprocessDataMeanPressure:\n",
    "    def __init__(self, file_path, feature_column='meanpressure', look_back=2):\n",
    "        self.file_path = file_path\n",
    "        self.feature_column = feature_column\n",
    "        self.look_back = look_back\n",
    "        self.scaler = None\n",
    "        self.data_scaled = None\n",
    "        self.X = None\n",
    "        self.y = None\n",
    "\n",
    "    def load_preprocess_data(self):\n",
    "        df = pd.read_csv(self.file_path, index_col=['date'], parse_dates=True)\n",
    "        df[self.feature_column] = df[self.feature_column].apply(lambda x: x - 997)\n",
    "        df[self.feature_column].fillna(method='ffill', inplace=True)\n",
    "        \n",
    "        self.scaler = StandardScaler()\n",
    "        self.data_scaled = self.scaler.fit_transform(df[[self.feature_column]])\n",
    "\n",
    "    def check_look_back(self):\n",
    "        if self.look_back == 0:\n",
    "            raise ValueError('You can not use number 0')\n",
    "\n",
    "    def create_dataset(self):\n",
    "        X, y = [], []\n",
    "        \n",
    "        for i in range(len(self.data_scaled) - self.look_back):\n",
    "            a = self.data_scaled[i:(i + self.look_back), 0]\n",
    "            X.append(a)\n",
    "            y.append(self.data_scaled[i + self.look_back, 0])\n",
    "        \n",
    "        self.X, self.y = np.array(X), np.array(y)\n",
    "\n",
    "        X_dif = self.X[:-1] - self.X[1:]\n",
    "        X_new = np.hstack([self.X[:-1], X_dif])\n",
    "        self.y = self.y[:-1]\n",
    "\n",
    "        self.X = np.reshape(X_new, (X_new.shape[0], X_new.shape[1], 1))\n",
    "\n",
    "    def split_data(self, train_size=0.8):\n",
    "        split_idx = int(len(self.X) * train_size)\n",
    "        X_train, X_test = self.X[:split_idx], self.X[split_idx:]\n",
    "        y_train, y_test = self.y[:split_idx], self.y[split_idx:]\n",
    "        \n",
    "        X_test[0, 0, 0] = self.scaler.transform([[1000 - 997]])[0, 0]\n",
    "\n",
    "        return X_train, X_test, y_train, y_test"
   ]
  },
  {
   "cell_type": "code",
   "execution_count": 39,
   "metadata": {},
   "outputs": [],
   "source": [
    "class ValidationDataMeanPressure:\n",
    "    def __init__(self, feature_column='meanpressure', look_back=2, scaler=None):\n",
    "        self.feature_column = feature_column\n",
    "        self.look_back = look_back\n",
    "        self.scaler = scaler\n",
    "        self.X = None\n",
    "        self.y = None\n",
    "        self.model = None\n",
    "\n",
    "    def load_validation_data(self, file_path, model):\n",
    "        self.model = model\n",
    "        try:\n",
    "            df = pd.read_csv(file_path, index_col=['date'], parse_dates=True)\n",
    "            df.at[df.index[0], self.feature_column] = 1000\n",
    "            df[self.feature_column] = df[self.feature_column].apply(lambda x: x - 997)\n",
    "            df[self.feature_column].fillna(method='ffill', inplace=True)\n",
    "            \n",
    "            data_scaled = self.scaler.transform(df[[self.feature_column]])\n",
    "            \n",
    "            X, y = [], []\n",
    "            for i in range(len(data_scaled) - self.look_back):\n",
    "                a = data_scaled[i:(i + self.look_back), 0]\n",
    "                X.append(a)\n",
    "                y.append(data_scaled[i + self.look_back, 0])\n",
    "            \n",
    "            X, y = np.array(X), np.array(y)\n",
    "\n",
    "            X_dif = X[:-1] - X[1:]\n",
    "            X_new = np.hstack([X[:-1], X_dif])\n",
    "            y = y[:-1]\n",
    "\n",
    "            X = np.reshape(X_new, (X_new.shape[0], X_new.shape[1], 1))\n",
    "        \n",
    "            predictions = self.model.predict(X)\n",
    "            predictions = self.scaler.inverse_transform(predictions)\n",
    "            y_actual = self.scaler.inverse_transform(y.reshape(-1, 1))\n",
    "\n",
    "            return predictions, y_actual\n",
    "            \n",
    "        except Exception as e:\n",
    "            print(f\"Error in load_validation_data: {str(e)}\")\n",
    "            return None, None\n",
    "    \n",
    "    def plot_val_results(self, predictions, y_actual):\n",
    "        if predictions is not None and y_actual is not None:\n",
    "            predictions = predictions + 997\n",
    "            y_actual = y_actual + 997\n",
    "            df_val = pd.DataFrame({\n",
    "                'Actual (Validation)': y_actual.ravel(),\n",
    "                'Predicted (Validation)': predictions.ravel()\n",
    "            })\n",
    "            df_val.iplot(title=f\"Прогноз vs Реальные значения (Валидация) для {self.feature_column}\",\n",
    "                         xTitle=\"Время\",\n",
    "                         yTitle=\"Значение\",\n",
    "                         theme=\"solar\")\n",
    "        else:\n",
    "            print('Валидационные данные не введены.')\n"
   ]
  },
  {
   "cell_type": "code",
   "execution_count": 40,
   "metadata": {},
   "outputs": [
    {
     "name": "stdout",
     "output_type": "stream",
     "text": [
      "Epoch 1/100\n",
      "15/15 [==============================] - 2s 31ms/step - loss: 0.0014 - val_loss: 8.6220e-04\n",
      "Epoch 2/100\n",
      "15/15 [==============================] - 0s 13ms/step - loss: 4.4894e-04 - val_loss: 1.7249e-04\n",
      "Epoch 3/100\n",
      "15/15 [==============================] - 0s 13ms/step - loss: 1.9830e-04 - val_loss: 1.1759e-04\n",
      "Epoch 4/100\n",
      "15/15 [==============================] - 0s 11ms/step - loss: 1.2825e-04 - val_loss: 7.9415e-05\n",
      "Epoch 5/100\n",
      "15/15 [==============================] - 0s 12ms/step - loss: 8.5227e-05 - val_loss: 5.7448e-05\n",
      "Epoch 6/100\n",
      "15/15 [==============================] - 0s 12ms/step - loss: 6.9447e-05 - val_loss: 6.7788e-05\n",
      "Epoch 7/100\n",
      "15/15 [==============================] - 0s 11ms/step - loss: 6.4428e-05 - val_loss: 4.3176e-05\n",
      "Epoch 8/100\n",
      "15/15 [==============================] - 0s 12ms/step - loss: 6.0489e-05 - val_loss: 3.5162e-05\n",
      "Epoch 9/100\n",
      "15/15 [==============================] - 0s 14ms/step - loss: 4.8340e-05 - val_loss: 4.1070e-05\n",
      "Epoch 10/100\n",
      "15/15 [==============================] - 0s 19ms/step - loss: 4.0012e-05 - val_loss: 3.5701e-05\n",
      "Epoch 11/100\n",
      "15/15 [==============================] - 1s 35ms/step - loss: 2.9682e-05 - val_loss: 2.6764e-05\n",
      "Epoch 12/100\n",
      "15/15 [==============================] - 1s 50ms/step - loss: 3.5011e-05 - val_loss: 3.8162e-05\n",
      "Epoch 13/100\n",
      "15/15 [==============================] - 1s 74ms/step - loss: 3.2180e-05 - val_loss: 1.3005e-05\n",
      "Epoch 14/100\n",
      "15/15 [==============================] - 1s 51ms/step - loss: 1.3126e-05 - val_loss: 1.2202e-05\n",
      "Epoch 15/100\n",
      "15/15 [==============================] - 1s 49ms/step - loss: 1.0629e-05 - val_loss: 5.3012e-06\n",
      "Epoch 16/100\n",
      "15/15 [==============================] - 1s 63ms/step - loss: 1.0232e-05 - val_loss: 8.6771e-06\n",
      "Epoch 17/100\n",
      "15/15 [==============================] - 1s 47ms/step - loss: 6.4359e-06 - val_loss: 2.0971e-06\n",
      "Epoch 18/100\n",
      "15/15 [==============================] - 1s 50ms/step - loss: 3.3246e-06 - val_loss: 3.0318e-06\n",
      "Epoch 19/100\n",
      "15/15 [==============================] - 1s 47ms/step - loss: 3.8597e-06 - val_loss: 6.2470e-06\n",
      "Epoch 20/100\n",
      "15/15 [==============================] - 1s 61ms/step - loss: 2.8920e-06 - val_loss: 2.2258e-06\n",
      "Epoch 21/100\n",
      "15/15 [==============================] - 1s 47ms/step - loss: 2.5650e-06 - val_loss: 1.5341e-06\n",
      "Epoch 22/100\n",
      "15/15 [==============================] - 1s 46ms/step - loss: 1.9082e-06 - val_loss: 1.3010e-06\n",
      "Epoch 23/100\n",
      "15/15 [==============================] - 1s 47ms/step - loss: 1.8278e-06 - val_loss: 1.4303e-06\n",
      "Epoch 24/100\n",
      "15/15 [==============================] - 1s 45ms/step - loss: 2.0295e-06 - val_loss: 8.2019e-07\n",
      "Epoch 25/100\n",
      "15/15 [==============================] - 1s 44ms/step - loss: 1.4948e-06 - val_loss: 7.9194e-07\n",
      "Epoch 26/100\n",
      "15/15 [==============================] - 1s 44ms/step - loss: 9.7191e-07 - val_loss: 2.4964e-06\n",
      "Epoch 27/100\n",
      "15/15 [==============================] - 1s 65ms/step - loss: 1.6406e-06 - val_loss: 6.5776e-07\n",
      "Epoch 28/100\n",
      "15/15 [==============================] - 1s 43ms/step - loss: 5.3284e-06 - val_loss: 5.0859e-06\n",
      "Epoch 29/100\n",
      "15/15 [==============================] - 1s 43ms/step - loss: 1.1972e-05 - val_loss: 6.2063e-06\n",
      "Epoch 30/100\n",
      "15/15 [==============================] - 1s 44ms/step - loss: 5.4588e-06 - val_loss: 1.4675e-06\n",
      "Epoch 31/100\n",
      "15/15 [==============================] - 1s 46ms/step - loss: 2.8560e-06 - val_loss: 3.4643e-06\n",
      "Epoch 32/100\n",
      "15/15 [==============================] - 1s 43ms/step - loss: 2.8451e-06 - val_loss: 6.2732e-07\n",
      "Epoch 33/100\n",
      "15/15 [==============================] - 1s 57ms/step - loss: 2.6692e-06 - val_loss: 1.1470e-06\n",
      "Epoch 34/100\n",
      "15/15 [==============================] - 1s 44ms/step - loss: 1.5825e-06 - val_loss: 2.7559e-06\n",
      "Epoch 35/100\n",
      "15/15 [==============================] - 1s 44ms/step - loss: 2.8717e-06 - val_loss: 9.7830e-07\n",
      "Epoch 36/100\n",
      "15/15 [==============================] - 1s 42ms/step - loss: 1.6430e-06 - val_loss: 2.9066e-06\n",
      "Epoch 37/100\n",
      "15/15 [==============================] - 1s 42ms/step - loss: 1.5446e-06 - val_loss: 8.3050e-07\n",
      "Epoch 38/100\n",
      "15/15 [==============================] - 1s 54ms/step - loss: 7.9711e-07 - val_loss: 1.3530e-06\n",
      "Epoch 39/100\n",
      "15/15 [==============================] - 1s 43ms/step - loss: 2.4648e-06 - val_loss: 3.8373e-06\n",
      "Epoch 40/100\n",
      "15/15 [==============================] - 1s 59ms/step - loss: 3.3086e-06 - val_loss: 1.4409e-06\n",
      "Epoch 41/100\n",
      "15/15 [==============================] - 1s 44ms/step - loss: 1.3130e-06 - val_loss: 5.7667e-07\n",
      "Epoch 42/100\n",
      "15/15 [==============================] - 1s 43ms/step - loss: 8.1683e-07 - val_loss: 3.5472e-07\n",
      "Epoch 43/100\n",
      "15/15 [==============================] - 1s 40ms/step - loss: 4.3186e-07 - val_loss: 4.7910e-07\n",
      "Epoch 44/100\n",
      "15/15 [==============================] - 1s 41ms/step - loss: 9.4068e-07 - val_loss: 9.0926e-07\n",
      "Epoch 45/100\n",
      "15/15 [==============================] - 1s 42ms/step - loss: 6.8398e-07 - val_loss: 2.2218e-07\n",
      "Epoch 46/100\n",
      "15/15 [==============================] - 1s 45ms/step - loss: 1.1176e-06 - val_loss: 3.4571e-07\n",
      "Epoch 47/100\n",
      "15/15 [==============================] - 1s 56ms/step - loss: 1.1956e-06 - val_loss: 1.4868e-06\n",
      "Epoch 48/100\n",
      "15/15 [==============================] - 1s 43ms/step - loss: 3.6957e-06 - val_loss: 3.9822e-07\n",
      "Epoch 49/100\n",
      "15/15 [==============================] - 1s 40ms/step - loss: 2.7227e-06 - val_loss: 3.9258e-06\n",
      "Epoch 50/100\n",
      "15/15 [==============================] - 1s 40ms/step - loss: 1.6066e-06 - val_loss: 7.4976e-07\n",
      "Epoch 51/100\n",
      "15/15 [==============================] - 1s 43ms/step - loss: 8.8024e-07 - val_loss: 6.3253e-07\n",
      "Epoch 52/100\n",
      "15/15 [==============================] - 1s 42ms/step - loss: 1.3381e-06 - val_loss: 3.3471e-07\n",
      "Epoch 53/100\n",
      "15/15 [==============================] - 1s 43ms/step - loss: 3.8104e-06 - val_loss: 1.9804e-06\n",
      "Epoch 54/100\n",
      "15/15 [==============================] - 1s 57ms/step - loss: 4.6780e-06 - val_loss: 8.0535e-07\n",
      "Epoch 55/100\n",
      "15/15 [==============================] - 1s 43ms/step - loss: 1.5532e-06 - val_loss: 7.7602e-07\n",
      "Epoch 56/100\n",
      "15/15 [==============================] - 1s 42ms/step - loss: 1.5616e-06 - val_loss: 3.6241e-06\n",
      "Epoch 57/100\n",
      "15/15 [==============================] - 1s 42ms/step - loss: 1.0106e-06 - val_loss: 7.0587e-07\n",
      "Epoch 58/100\n",
      "15/15 [==============================] - 1s 43ms/step - loss: 1.2496e-06 - val_loss: 3.3618e-07\n",
      "Epoch 59/100\n",
      "15/15 [==============================] - 1s 53ms/step - loss: 7.9829e-07 - val_loss: 5.5865e-07\n",
      "Epoch 60/100\n",
      "15/15 [==============================] - 1s 54ms/step - loss: 6.5938e-07 - val_loss: 6.1981e-07\n",
      "Epoch 61/100\n",
      "15/15 [==============================] - 1s 44ms/step - loss: 3.3240e-06 - val_loss: 4.8375e-06\n",
      "Epoch 62/100\n",
      "15/15 [==============================] - 1s 43ms/step - loss: 4.5308e-06 - val_loss: 1.1966e-06\n",
      "Epoch 63/100\n",
      "15/15 [==============================] - 1s 42ms/step - loss: 1.7431e-06 - val_loss: 4.0203e-07\n",
      "Epoch 64/100\n",
      "15/15 [==============================] - 1s 40ms/step - loss: 1.4621e-06 - val_loss: 5.9648e-07\n",
      "Epoch 65/100\n",
      "15/15 [==============================] - 1s 40ms/step - loss: 1.3154e-06 - val_loss: 3.3098e-07\n",
      "Epoch 66/100\n",
      "15/15 [==============================] - 1s 42ms/step - loss: 7.3596e-07 - val_loss: 3.2649e-07\n",
      "Epoch 67/100\n",
      "15/15 [==============================] - 1s 56ms/step - loss: 4.5419e-07 - val_loss: 4.4851e-07\n",
      "Epoch 68/100\n",
      "15/15 [==============================] - 1s 40ms/step - loss: 8.3542e-07 - val_loss: 5.6146e-07\n",
      "Epoch 69/100\n",
      "15/15 [==============================] - 1s 41ms/step - loss: 8.6138e-07 - val_loss: 1.9635e-07\n",
      "Epoch 70/100\n",
      "15/15 [==============================] - 1s 42ms/step - loss: 1.0747e-06 - val_loss: 2.2688e-06\n",
      "Epoch 71/100\n",
      "15/15 [==============================] - 1s 40ms/step - loss: 1.0376e-06 - val_loss: 9.7428e-07\n",
      "Epoch 72/100\n",
      "15/15 [==============================] - 1s 47ms/step - loss: 5.2051e-07 - val_loss: 5.2769e-07\n",
      "Epoch 73/100\n",
      "15/15 [==============================] - 1s 43ms/step - loss: 1.4712e-06 - val_loss: 1.2990e-06\n",
      "Epoch 74/100\n",
      "15/15 [==============================] - 1s 57ms/step - loss: 1.2635e-06 - val_loss: 3.2176e-07\n",
      "Epoch 75/100\n",
      "15/15 [==============================] - 1s 41ms/step - loss: 2.5306e-06 - val_loss: 1.4174e-06\n",
      "Epoch 76/100\n",
      "15/15 [==============================] - 1s 38ms/step - loss: 1.0041e-06 - val_loss: 2.3843e-07\n",
      "Epoch 77/100\n",
      "15/15 [==============================] - 1s 43ms/step - loss: 3.6525e-07 - val_loss: 3.2911e-07\n",
      "Epoch 78/100\n",
      "15/15 [==============================] - 1s 44ms/step - loss: 2.4526e-07 - val_loss: 1.4999e-07\n",
      "Epoch 79/100\n",
      "15/15 [==============================] - 1s 41ms/step - loss: 3.7514e-06 - val_loss: 3.3633e-06\n",
      "Epoch 80/100\n",
      "15/15 [==============================] - 1s 72ms/step - loss: 9.7103e-07 - val_loss: 1.2051e-06\n",
      "Epoch 81/100\n",
      "15/15 [==============================] - 1s 41ms/step - loss: 8.0932e-06 - val_loss: 1.5322e-05\n",
      "Epoch 82/100\n",
      "15/15 [==============================] - 1s 40ms/step - loss: 2.0453e-05 - val_loss: 1.4072e-06\n",
      "Epoch 83/100\n",
      "15/15 [==============================] - 1s 39ms/step - loss: 1.7491e-05 - val_loss: 1.6315e-05\n",
      "Epoch 84/100\n",
      "15/15 [==============================] - 1s 42ms/step - loss: 6.5013e-06 - val_loss: 2.8088e-06\n",
      "Epoch 85/100\n",
      "15/15 [==============================] - 1s 40ms/step - loss: 2.9584e-06 - val_loss: 1.1600e-06\n",
      "Epoch 86/100\n",
      "15/15 [==============================] - 1s 54ms/step - loss: 1.0376e-06 - val_loss: 1.1116e-06\n",
      "Epoch 87/100\n",
      "15/15 [==============================] - 1s 43ms/step - loss: 6.2167e-07 - val_loss: 7.9580e-07\n",
      "Epoch 88/100\n",
      "15/15 [==============================] - 1s 40ms/step - loss: 1.1070e-06 - val_loss: 3.2245e-07\n",
      "Epoch 89/100\n",
      "15/15 [==============================] - 1s 40ms/step - loss: 1.3792e-06 - val_loss: 6.1546e-07\n",
      "Epoch 90/100\n",
      "15/15 [==============================] - 1s 41ms/step - loss: 5.7349e-07 - val_loss: 1.9429e-07\n",
      "Epoch 91/100\n",
      "15/15 [==============================] - 1s 40ms/step - loss: 3.1353e-07 - val_loss: 4.2370e-07\n",
      "Epoch 92/100\n",
      "15/15 [==============================] - 1s 40ms/step - loss: 5.0589e-07 - val_loss: 6.6357e-07\n",
      "Epoch 93/100\n",
      "15/15 [==============================] - 1s 59ms/step - loss: 3.7198e-07 - val_loss: 2.6214e-07\n",
      "Epoch 94/100\n",
      "15/15 [==============================] - 1s 43ms/step - loss: 2.4486e-07 - val_loss: 1.6463e-07\n",
      "Epoch 95/100\n",
      "15/15 [==============================] - 1s 36ms/step - loss: 2.3813e-07 - val_loss: 3.9633e-07\n",
      "Epoch 96/100\n",
      "15/15 [==============================] - 1s 47ms/step - loss: 3.9970e-07 - val_loss: 6.8514e-07\n",
      "Epoch 97/100\n",
      "15/15 [==============================] - 1s 56ms/step - loss: 3.6599e-07 - val_loss: 2.4428e-07\n",
      "Epoch 98/100\n",
      "15/15 [==============================] - 1s 43ms/step - loss: 5.6923e-07 - val_loss: 6.8910e-07\n",
      "Epoch 99/100\n",
      "15/15 [==============================] - 1s 60ms/step - loss: 3.3614e-07 - val_loss: 4.5194e-07\n",
      "Epoch 100/100\n",
      "15/15 [==============================] - 1s 45ms/step - loss: 1.1242e-06 - val_loss: 5.9873e-07\n",
      "10/10 [==============================] - 1s 7ms/step\n",
      "MAPE: 91.71838474553624%\n",
      "MAE: 38.92173713162919\n"
     ]
    },
    {
     "data": {
      "application/vnd.plotly.v1+json": {
       "config": {
        "linkText": "Export to plot.ly",
        "plotlyServerURL": "https://plot.ly",
        "showLink": true
       },
       "data": [
        {
         "line": {
          "color": "rgba(255, 153, 51, 1.0)",
          "dash": "solid",
          "shape": "linear",
          "width": 1.3
         },
         "mode": "lines",
         "name": "Actual",
         "text": "",
         "type": "scatter",
         "x": [
          0,
          1,
          2,
          3,
          4,
          5,
          6,
          7,
          8,
          9,
          10,
          11,
          12,
          13,
          14,
          15,
          16,
          17,
          18,
          19,
          20,
          21,
          22,
          23,
          24,
          25,
          26,
          27,
          28,
          29,
          30,
          31,
          32,
          33,
          34,
          35,
          36,
          37,
          38,
          39,
          40,
          41,
          42,
          43,
          44,
          45,
          46,
          47,
          48,
          49,
          50,
          51,
          52,
          53,
          54,
          55,
          56,
          57,
          58,
          59,
          60,
          61,
          62,
          63,
          64,
          65,
          66,
          67,
          68,
          69,
          70,
          71,
          72,
          73,
          74,
          75,
          76,
          77,
          78,
          79,
          80,
          81,
          82,
          83,
          84,
          85,
          86,
          87,
          88,
          89,
          90,
          91,
          92,
          93,
          94,
          95,
          96,
          97,
          98,
          99,
          100,
          101,
          102,
          103,
          104,
          105,
          106,
          107,
          108,
          109,
          110,
          111,
          112,
          113,
          114,
          115,
          116,
          117,
          118,
          119,
          120,
          121,
          122,
          123,
          124,
          125,
          126,
          127,
          128,
          129,
          130,
          131,
          132,
          133,
          134,
          135,
          136,
          137,
          138,
          139,
          140,
          141,
          142,
          143,
          144,
          145,
          146,
          147,
          148,
          149,
          150,
          151,
          152,
          153,
          154,
          155,
          156,
          157,
          158,
          159,
          160,
          161,
          162,
          163,
          164,
          165,
          166,
          167,
          168,
          169,
          170,
          171,
          172,
          173,
          174,
          175,
          176,
          177,
          178,
          179,
          180,
          181,
          182,
          183,
          184,
          185,
          186,
          187,
          188,
          189,
          190,
          191,
          192,
          193,
          194,
          195,
          196,
          197,
          198,
          199,
          200,
          201,
          202,
          203,
          204,
          205,
          206,
          207,
          208,
          209,
          210,
          211,
          212,
          213,
          214,
          215,
          216,
          217,
          218,
          219,
          220,
          221,
          222,
          223,
          224,
          225,
          226,
          227,
          228,
          229,
          230,
          231,
          232,
          233,
          234,
          235,
          236,
          237,
          238,
          239,
          240,
          241,
          242,
          243,
          244,
          245,
          246,
          247,
          248,
          249,
          250,
          251,
          252,
          253,
          254,
          255,
          256,
          257,
          258,
          259,
          260,
          261,
          262,
          263,
          264,
          265,
          266,
          267,
          268,
          269,
          270,
          271,
          272,
          273,
          274,
          275,
          276,
          277,
          278,
          279,
          280,
          281,
          282,
          283,
          284,
          285,
          286,
          287,
          288,
          289,
          290,
          291
         ],
         "y": [
          17.866666666666788,
          15.8125,
          13.4375,
          12.8125,
          12.214285714285552,
          13.333333333333371,
          14.125,
          12.375,
          13,
          16.33333333333337,
          16.1875,
          16.600000000000023,
          15.8125,
          6682.333333333333,
          14.3125,
          14.142857142857224,
          12.200000000000045,
          9.714285714285552,
          11,
          11.375,
          9.6875,
          10,
          9.875,
          10.266666666666765,
          12.200000000000045,
          12.3125,
          11.8125,
          12.399999999999977,
          9.333333333333371,
          6.3125,
          6.8125,
          7.625000000000001,
          6.0625,
          5.666666666666629,
          7.6875,
          8.866666666666788,
          9.4375,
          6.399999999999977,
          4.727272727272748,
          4.846153846153811,
          6.0625,
          8.5625,
          10.1875,
          8.6875,
          7.692307692307622,
          8.714285714285552,
          7.8125,
          5.4375,
          5.2000000000000455,
          7.3125,
          6.785714285714448,
          10.46666666666681,
          10,
          8.5625,
          8.933333333333167,
          9.0625,
          9.5625,
          9.0625,
          5.25,
          4.352941176470608,
          6.125000000000001,
          6.5625,
          3.7999999999999545,
          1.9374999999999982,
          0.8125,
          1.625,
          -0.06666666666683341,
          -1.0666666666668334,
          -0.5333333333331893,
          2.5714285714285534,
          3.7368421052632357,
          0.47826086956524705,
          2.153846153846189,
          2.9545454545456096,
          2.8333333333333712,
          4.25,
          6.8125,
          5.307692307692378,
          5.733333333333235,
          5,
          5.25,
          4.866666666666788,
          5.833333333333371,
          4.571428571428555,
          5.0625,
          2.21428571428555,
          -58.93333333333316,
          1.25,
          2.0000000000000018,
          1.8125,
          1.1875,
          0.8125,
          -0.8666666666667879,
          2.0000000000000018,
          2.428571428571445,
          3.857142857142776,
          4.375,
          3.6875,
          2.9375,
          4.5625,
          2.692307692307624,
          1.3125,
          3.071428571428555,
          3.375,
          1.866666666666788,
          4.5,
          4.1875,
          0.8666666666667879,
          5.5625,
          1.375,
          1.25,
          0.125,
          -1.4375,
          -0.13333333333321207,
          0.6875,
          0.39999999999997726,
          -0.25,
          -0.9375,
          0.75,
          2.0625,
          1.4374999999999982,
          1.375,
          1.625,
          2.875,
          4.333333333333371,
          3.7999999999999545,
          2.875,
          2.625,
          2.266666666666765,
          2.3333333333333712,
          4.625,
          -50.68749999999999,
          4.875,
          6.125000000000001,
          7.625000000000001,
          5.066666666666833,
          3.9375,
          4.2000000000000455,
          3.6666666666666288,
          2.125,
          -686.5625,
          1.5000000000000018,
          1.7777777777778283,
          2.3333333333333712,
          3.7999999999999545,
          3.5294117647059693,
          2.636363636363626,
          1.5000000000000018,
          2.3703703703704377,
          4.607142857142776,
          5.285714285714448,
          4.071428571428555,
          -363.1000000000001,
          2.285714285714448,
          -1000.0416666666666,
          2.5185185185183627,
          2.923076923076792,
          2.892857142857224,
          3.159999999999968,
          4.192307692307622,
          5.8888888888888005,
          6.240000000000009,
          5.5,
          7.423076923076793,
          8.222222222222172,
          9.142857142857224,
          9.200000000000045,
          6.607142857142776,
          5.192307692307622,
          6.03703703703718,
          5.440000000000055,
          4.272727272727252,
          4.157894736841968,
          5.923076923076792,
          6.2307692307691696,
          6.75,
          6.45454545454561,
          8.166666666666629,
          7.333333333333371,
          8.23076923076917,
          6.7999999999999545,
          8.071428571428555,
          9.399999999999977,
          9.928571428571445,
          7.75,
          7.399999999999977,
          6.153846153846189,
          8,
          7.708333333333372,
          6.518518518518364,
          8.399999999999977,
          11.777777777777828,
          8.321428571428555,
          355.6153846153843,
          7.782608695652016,
          9.759999999999991,
          9.703703703703582,
          8.279999999999973,
          8.590909090909236,
          8.571428571428555,
          10.5,
          12.1111111111112,
          10.185185185185219,
          8.370370370370438,
          8.25,
          10.148148148148152,
          10.200000000000045,
          9.846153846153811,
          8.960000000000036,
          9.148148148148152,
          9.59259259259261,
          9.25,
          11.333333333333371,
          12.125,
          13.518518518518363,
          14.857142857142776,
          13.559999999999945,
          12.458333333333371,
          11.555555555555657,
          10.538461538461547,
          11.727272727272748,
          12.370370370370438,
          12.307692307692378,
          11.26923076923083,
          11.923076923076792,
          14.73076923076917,
          17.629629629629562,
          15.40740740740739,
          16,
          17.608695652173992,
          20.807692307692378,
          19.38461538461536,
          19.590909090909236,
          19.24000000000001,
          15.629629629629562,
          13.346153846153811,
          14.518518518518363,
          15.772727272727252,
          16.639999999999986,
          17.66666666666663,
          16.81481481481478,
          17.08000000000004,
          18.15384615384619,
          19.518518518518363,
          18.73076923076917,
          19.24000000000001,
          20.538461538461547,
          353.2962962962963,
          17.692307692307622,
          15.46666666666681,
          16.350000000000023,
          16,
          15.894736842105203,
          16.173913043478365,
          17.9473684210526,
          15.950000000000045,
          16.25,
          16.590909090909236,
          -984.9545454545455,
          18,
          19.608695652173992,
          19.875,
          20.75,
          22.33333333333337,
          22.700000000000045,
          20.04545454545439,
          20.961538461538453,
          20.42105263157896,
          19.200000000000045,
          16.41666666666663,
          17,
          16.29166666666663,
          17.181818181818016,
          18.100000000000023,
          20.33333333333337,
          19.66666666666663,
          21.77777777777783,
          19.9473684210526,
          21.08333333333337,
          20.428571428571445,
          18.200000000000045,
          18.619047619047592,
          19.142857142857224,
          17.25,
          14.318181818181984,
          17.350000000000023,
          19.952380952380963,
          20.200000000000045,
          18.565217391304373,
          19.90476190476204,
          20.90476190476204,
          19.100000000000023
         ]
        },
        {
         "line": {
          "color": "rgba(55, 128, 191, 1.0)",
          "dash": "solid",
          "shape": "linear",
          "width": 1.3
         },
         "mode": "lines",
         "name": "Predicted",
         "text": "",
         "type": "scatter",
         "x": [
          0,
          1,
          2,
          3,
          4,
          5,
          6,
          7,
          8,
          9,
          10,
          11,
          12,
          13,
          14,
          15,
          16,
          17,
          18,
          19,
          20,
          21,
          22,
          23,
          24,
          25,
          26,
          27,
          28,
          29,
          30,
          31,
          32,
          33,
          34,
          35,
          36,
          37,
          38,
          39,
          40,
          41,
          42,
          43,
          44,
          45,
          46,
          47,
          48,
          49,
          50,
          51,
          52,
          53,
          54,
          55,
          56,
          57,
          58,
          59,
          60,
          61,
          62,
          63,
          64,
          65,
          66,
          67,
          68,
          69,
          70,
          71,
          72,
          73,
          74,
          75,
          76,
          77,
          78,
          79,
          80,
          81,
          82,
          83,
          84,
          85,
          86,
          87,
          88,
          89,
          90,
          91,
          92,
          93,
          94,
          95,
          96,
          97,
          98,
          99,
          100,
          101,
          102,
          103,
          104,
          105,
          106,
          107,
          108,
          109,
          110,
          111,
          112,
          113,
          114,
          115,
          116,
          117,
          118,
          119,
          120,
          121,
          122,
          123,
          124,
          125,
          126,
          127,
          128,
          129,
          130,
          131,
          132,
          133,
          134,
          135,
          136,
          137,
          138,
          139,
          140,
          141,
          142,
          143,
          144,
          145,
          146,
          147,
          148,
          149,
          150,
          151,
          152,
          153,
          154,
          155,
          156,
          157,
          158,
          159,
          160,
          161,
          162,
          163,
          164,
          165,
          166,
          167,
          168,
          169,
          170,
          171,
          172,
          173,
          174,
          175,
          176,
          177,
          178,
          179,
          180,
          181,
          182,
          183,
          184,
          185,
          186,
          187,
          188,
          189,
          190,
          191,
          192,
          193,
          194,
          195,
          196,
          197,
          198,
          199,
          200,
          201,
          202,
          203,
          204,
          205,
          206,
          207,
          208,
          209,
          210,
          211,
          212,
          213,
          214,
          215,
          216,
          217,
          218,
          219,
          220,
          221,
          222,
          223,
          224,
          225,
          226,
          227,
          228,
          229,
          230,
          231,
          232,
          233,
          234,
          235,
          236,
          237,
          238,
          239,
          240,
          241,
          242,
          243,
          244,
          245,
          246,
          247,
          248,
          249,
          250,
          251,
          252,
          253,
          254,
          255,
          256,
          257,
          258,
          259,
          260,
          261,
          262,
          263,
          264,
          265,
          266,
          267,
          268,
          269,
          270,
          271,
          272,
          273,
          274,
          275,
          276,
          277,
          278,
          279,
          280,
          281,
          282,
          283,
          284,
          285,
          286,
          287,
          288,
          289,
          290,
          291
         ],
         "y": [
          19.157596588134766,
          15.925028800964355,
          13.48960018157959,
          12.965710639953613,
          12.322000503540039,
          13.486621856689453,
          14.133329391479492,
          12.434836387634277,
          13.053461074829102,
          16.417600631713867,
          16.25341033935547,
          16.739168167114258,
          16.09304428100586,
          3.3536157608032227,
          100.3928451538086,
          -210.65762329101562,
          -408.8698425292969,
          -578.7542724609375,
          11.171027183532715,
          11.494322776794434,
          9.78207778930664,
          9.983830451965332,
          9.94308853149414,
          10.363175392150879,
          12.349027633666992,
          12.467846870422363,
          12.011083602905273,
          12.54135513305664,
          9.50095272064209,
          6.528512954711914,
          6.9907331466674805,
          7.895940780639648,
          6.314346790313721,
          5.892376899719238,
          7.732059955596924,
          9.050177574157715,
          9.6502046585083,
          6.5301923751831055,
          4.84813117980957,
          5.019756317138672,
          6.408581256866455,
          8.827917098999023,
          10.495970726013184,
          8.947291374206543,
          7.72159481048584,
          8.844878196716309,
          7.973010540008545,
          5.559065818786621,
          5.379251480102539,
          7.4837751388549805,
          6.966825485229492,
          10.658856391906738,
          10.442770004272461,
          8.729696273803711,
          9.076475143432617,
          9.195846557617188,
          9.661572456359863,
          9.19100570678711,
          5.408547401428223,
          4.579949378967285,
          6.259629249572754,
          6.781500339508057,
          4.048158645629883,
          2.170339584350586,
          1.0364819765090942,
          1.8780757188796997,
          0.1752053201198578,
          -0.8664425611495972,
          -0.2756594717502594,
          2.835576057434082,
          3.94112491607666,
          0.5325261354446411,
          2.463865280151367,
          3.036518096923828,
          3.0752906799316406,
          4.439944267272949,
          7.075075626373291,
          5.564641952514648,
          5.985254287719727,
          5.157188415527344,
          5.547903060913086,
          5.101509094238281,
          6.100031852722168,
          4.88454532623291,
          5.3030595779418945,
          2.4188880920410156,
          -25.957578659057617,
          8.462717056274414,
          18.32225799560547,
          17.715391159057617,
          -4.380765914916992,
          0.9988089799880981,
          -0.665913462638855,
          2.173685073852539,
          2.644857406616211,
          4.051712989807129,
          4.5499372482299805,
          3.9249019622802734,
          3.1148853302001953,
          4.7076416015625,
          3.019582748413086,
          1.524863362312317,
          3.3041038513183594,
          3.570423126220703,
          2.0722904205322266,
          4.730426788330078,
          4.485833168029785,
          1.1858903169631958,
          5.761448860168457,
          1.8217040300369263,
          1.6864873170852661,
          0.5050097703933716,
          -1.1898783445358276,
          0.09306059032678604,
          0.9745713472366333,
          0.6384526491165161,
          -0.0691622719168663,
          -0.7029465436935425,
          1.0075560808181763,
          2.3039722442626953,
          1.6278287172317505,
          1.5311747789382935,
          1.861481785774231,
          3.095456123352051,
          4.535212516784668,
          3.9982481002807617,
          3.0951013565063477,
          2.751699447631836,
          2.4956979751586914,
          2.5548620223999023,
          4.820937156677246,
          -22.0073184967041,
          9.574928283691406,
          19.001319885253906,
          22.524442672729492,
          -0.19436541199684143,
          4.198590278625488,
          4.268084526062012,
          4.0135602951049805,
          2.3611440658569336,
          -243.85736083984375,
          3.0054988861083984,
          24.402475357055664,
          11.2575101852417,
          -37.293487548828125,
          3.7378616333007812,
          2.8206405639648438,
          1.6512871980667114,
          2.5853118896484375,
          4.764692306518555,
          5.572029113769531,
          4.359572410583496,
          -142.74400329589844,
          7.244081497192383,
          -311.5708312988281,
          -22.430143356323242,
          24.53849220275879,
          6.663302898406982,
          -66.29676055908203,
          4.400487899780273,
          6.13095760345459,
          6.578337669372559,
          5.7696638107299805,
          7.627792835235596,
          8.487878799438477,
          9.31071949005127,
          9.429738998413086,
          6.688769340515137,
          5.327633857727051,
          6.2322678565979,
          5.791285514831543,
          4.595593452453613,
          4.292107582092285,
          6.102640151977539,
          6.546204090118408,
          7.0070481300354,
          6.746480464935303,
          8.403111457824707,
          7.567590236663818,
          8.319326400756836,
          6.9895920753479,
          8.188273429870605,
          9.567036628723145,
          10.089727401733398,
          7.881109237670898,
          7.432158470153809,
          6.443780899047852,
          8.35163688659668,
          7.884619235992432,
          6.676967144012451,
          8.482491493225098,
          11.881832122802734,
          8.598480224609375,
          22.287378311157227,
          25.247257232666016,
          19.354896545410156,
          2.501896858215332,
          -32.57693862915039,
          8.654951095581055,
          8.75279426574707,
          10.600238800048828,
          12.290481567382812,
          10.383978843688965,
          8.373571395874023,
          8.35566520690918,
          10.288637161254883,
          10.316277503967285,
          9.978890419006348,
          9.051254272460938,
          9.24259090423584,
          9.722373008728027,
          9.359294891357422,
          11.444846153259277,
          12.312553405761719,
          13.668539047241211,
          14.918362617492676,
          13.56425952911377,
          12.50118350982666,
          11.671957015991211,
          10.73266315460205,
          11.925271987915039,
          12.513704299926758,
          12.444263458251953,
          11.458834648132324,
          12.059486389160156,
          14.87758731842041,
          17.752544403076172,
          15.599729537963867,
          16.007190704345703,
          17.915416717529297,
          20.928728103637695,
          19.516685485839844,
          19.627931594848633,
          19.32678985595703,
          15.65457534790039,
          13.611799240112305,
          14.563468933105469,
          15.867205619812012,
          16.789138793945312,
          17.720476150512695,
          16.928022384643555,
          17.224668502807617,
          18.265716552734375,
          19.629289627075195,
          18.777454376220703,
          19.308185577392578,
          20.604326248168945,
          22.457107543945312,
          25.349580764770508,
          19.40692710876465,
          2.367190361022949,
          -29.394357681274414,
          15.994608879089355,
          16.33625602722168,
          18.049776077270508,
          16.080049514770508,
          16.400266647338867,
          16.797548294067383,
          -284.1461486816406,
          2.9817113876342773,
          26.054954528808594,
          7.726567268371582,
          -62.2065315246582,
          22.42021369934082,
          22.77308464050293,
          20.09258460998535,
          21.14263153076172,
          20.51544761657715,
          19.13916778564453,
          16.42469596862793,
          17.145614624023438,
          16.332704544067383,
          17.285633087158203,
          18.235578536987305,
          20.4283390045166,
          19.71873664855957,
          21.837722778320312,
          20.012466430664062,
          21.009967803955078,
          20.500564575195312,
          18.129121780395508,
          18.703636169433594,
          19.251306533813477,
          17.345626831054688,
          14.422465324401855,
          17.327543258666992,
          19.99245834350586,
          20.266990661621094,
          18.698389053344727,
          20.03220558166504,
          20.966707229614258,
          19.074926376342773
         ]
        }
       ],
       "layout": {
        "legend": {
         "bgcolor": "#151516",
         "font": {
          "color": "#D9D9D9"
         }
        },
        "paper_bgcolor": "#151516",
        "plot_bgcolor": "#151516",
        "template": {
         "data": {
          "bar": [
           {
            "error_x": {
             "color": "#2a3f5f"
            },
            "error_y": {
             "color": "#2a3f5f"
            },
            "marker": {
             "line": {
              "color": "#E5ECF6",
              "width": 0.5
             },
             "pattern": {
              "fillmode": "overlay",
              "size": 10,
              "solidity": 0.2
             }
            },
            "type": "bar"
           }
          ],
          "barpolar": [
           {
            "marker": {
             "line": {
              "color": "#E5ECF6",
              "width": 0.5
             },
             "pattern": {
              "fillmode": "overlay",
              "size": 10,
              "solidity": 0.2
             }
            },
            "type": "barpolar"
           }
          ],
          "carpet": [
           {
            "aaxis": {
             "endlinecolor": "#2a3f5f",
             "gridcolor": "white",
             "linecolor": "white",
             "minorgridcolor": "white",
             "startlinecolor": "#2a3f5f"
            },
            "baxis": {
             "endlinecolor": "#2a3f5f",
             "gridcolor": "white",
             "linecolor": "white",
             "minorgridcolor": "white",
             "startlinecolor": "#2a3f5f"
            },
            "type": "carpet"
           }
          ],
          "choropleth": [
           {
            "colorbar": {
             "outlinewidth": 0,
             "ticks": ""
            },
            "type": "choropleth"
           }
          ],
          "contour": [
           {
            "colorbar": {
             "outlinewidth": 0,
             "ticks": ""
            },
            "colorscale": [
             [
              0,
              "#0d0887"
             ],
             [
              0.1111111111111111,
              "#46039f"
             ],
             [
              0.2222222222222222,
              "#7201a8"
             ],
             [
              0.3333333333333333,
              "#9c179e"
             ],
             [
              0.4444444444444444,
              "#bd3786"
             ],
             [
              0.5555555555555556,
              "#d8576b"
             ],
             [
              0.6666666666666666,
              "#ed7953"
             ],
             [
              0.7777777777777778,
              "#fb9f3a"
             ],
             [
              0.8888888888888888,
              "#fdca26"
             ],
             [
              1,
              "#f0f921"
             ]
            ],
            "type": "contour"
           }
          ],
          "contourcarpet": [
           {
            "colorbar": {
             "outlinewidth": 0,
             "ticks": ""
            },
            "type": "contourcarpet"
           }
          ],
          "heatmap": [
           {
            "colorbar": {
             "outlinewidth": 0,
             "ticks": ""
            },
            "colorscale": [
             [
              0,
              "#0d0887"
             ],
             [
              0.1111111111111111,
              "#46039f"
             ],
             [
              0.2222222222222222,
              "#7201a8"
             ],
             [
              0.3333333333333333,
              "#9c179e"
             ],
             [
              0.4444444444444444,
              "#bd3786"
             ],
             [
              0.5555555555555556,
              "#d8576b"
             ],
             [
              0.6666666666666666,
              "#ed7953"
             ],
             [
              0.7777777777777778,
              "#fb9f3a"
             ],
             [
              0.8888888888888888,
              "#fdca26"
             ],
             [
              1,
              "#f0f921"
             ]
            ],
            "type": "heatmap"
           }
          ],
          "heatmapgl": [
           {
            "colorbar": {
             "outlinewidth": 0,
             "ticks": ""
            },
            "colorscale": [
             [
              0,
              "#0d0887"
             ],
             [
              0.1111111111111111,
              "#46039f"
             ],
             [
              0.2222222222222222,
              "#7201a8"
             ],
             [
              0.3333333333333333,
              "#9c179e"
             ],
             [
              0.4444444444444444,
              "#bd3786"
             ],
             [
              0.5555555555555556,
              "#d8576b"
             ],
             [
              0.6666666666666666,
              "#ed7953"
             ],
             [
              0.7777777777777778,
              "#fb9f3a"
             ],
             [
              0.8888888888888888,
              "#fdca26"
             ],
             [
              1,
              "#f0f921"
             ]
            ],
            "type": "heatmapgl"
           }
          ],
          "histogram": [
           {
            "marker": {
             "pattern": {
              "fillmode": "overlay",
              "size": 10,
              "solidity": 0.2
             }
            },
            "type": "histogram"
           }
          ],
          "histogram2d": [
           {
            "colorbar": {
             "outlinewidth": 0,
             "ticks": ""
            },
            "colorscale": [
             [
              0,
              "#0d0887"
             ],
             [
              0.1111111111111111,
              "#46039f"
             ],
             [
              0.2222222222222222,
              "#7201a8"
             ],
             [
              0.3333333333333333,
              "#9c179e"
             ],
             [
              0.4444444444444444,
              "#bd3786"
             ],
             [
              0.5555555555555556,
              "#d8576b"
             ],
             [
              0.6666666666666666,
              "#ed7953"
             ],
             [
              0.7777777777777778,
              "#fb9f3a"
             ],
             [
              0.8888888888888888,
              "#fdca26"
             ],
             [
              1,
              "#f0f921"
             ]
            ],
            "type": "histogram2d"
           }
          ],
          "histogram2dcontour": [
           {
            "colorbar": {
             "outlinewidth": 0,
             "ticks": ""
            },
            "colorscale": [
             [
              0,
              "#0d0887"
             ],
             [
              0.1111111111111111,
              "#46039f"
             ],
             [
              0.2222222222222222,
              "#7201a8"
             ],
             [
              0.3333333333333333,
              "#9c179e"
             ],
             [
              0.4444444444444444,
              "#bd3786"
             ],
             [
              0.5555555555555556,
              "#d8576b"
             ],
             [
              0.6666666666666666,
              "#ed7953"
             ],
             [
              0.7777777777777778,
              "#fb9f3a"
             ],
             [
              0.8888888888888888,
              "#fdca26"
             ],
             [
              1,
              "#f0f921"
             ]
            ],
            "type": "histogram2dcontour"
           }
          ],
          "mesh3d": [
           {
            "colorbar": {
             "outlinewidth": 0,
             "ticks": ""
            },
            "type": "mesh3d"
           }
          ],
          "parcoords": [
           {
            "line": {
             "colorbar": {
              "outlinewidth": 0,
              "ticks": ""
             }
            },
            "type": "parcoords"
           }
          ],
          "pie": [
           {
            "automargin": true,
            "type": "pie"
           }
          ],
          "scatter": [
           {
            "fillpattern": {
             "fillmode": "overlay",
             "size": 10,
             "solidity": 0.2
            },
            "type": "scatter"
           }
          ],
          "scatter3d": [
           {
            "line": {
             "colorbar": {
              "outlinewidth": 0,
              "ticks": ""
             }
            },
            "marker": {
             "colorbar": {
              "outlinewidth": 0,
              "ticks": ""
             }
            },
            "type": "scatter3d"
           }
          ],
          "scattercarpet": [
           {
            "marker": {
             "colorbar": {
              "outlinewidth": 0,
              "ticks": ""
             }
            },
            "type": "scattercarpet"
           }
          ],
          "scattergeo": [
           {
            "marker": {
             "colorbar": {
              "outlinewidth": 0,
              "ticks": ""
             }
            },
            "type": "scattergeo"
           }
          ],
          "scattergl": [
           {
            "marker": {
             "colorbar": {
              "outlinewidth": 0,
              "ticks": ""
             }
            },
            "type": "scattergl"
           }
          ],
          "scattermapbox": [
           {
            "marker": {
             "colorbar": {
              "outlinewidth": 0,
              "ticks": ""
             }
            },
            "type": "scattermapbox"
           }
          ],
          "scatterpolar": [
           {
            "marker": {
             "colorbar": {
              "outlinewidth": 0,
              "ticks": ""
             }
            },
            "type": "scatterpolar"
           }
          ],
          "scatterpolargl": [
           {
            "marker": {
             "colorbar": {
              "outlinewidth": 0,
              "ticks": ""
             }
            },
            "type": "scatterpolargl"
           }
          ],
          "scatterternary": [
           {
            "marker": {
             "colorbar": {
              "outlinewidth": 0,
              "ticks": ""
             }
            },
            "type": "scatterternary"
           }
          ],
          "surface": [
           {
            "colorbar": {
             "outlinewidth": 0,
             "ticks": ""
            },
            "colorscale": [
             [
              0,
              "#0d0887"
             ],
             [
              0.1111111111111111,
              "#46039f"
             ],
             [
              0.2222222222222222,
              "#7201a8"
             ],
             [
              0.3333333333333333,
              "#9c179e"
             ],
             [
              0.4444444444444444,
              "#bd3786"
             ],
             [
              0.5555555555555556,
              "#d8576b"
             ],
             [
              0.6666666666666666,
              "#ed7953"
             ],
             [
              0.7777777777777778,
              "#fb9f3a"
             ],
             [
              0.8888888888888888,
              "#fdca26"
             ],
             [
              1,
              "#f0f921"
             ]
            ],
            "type": "surface"
           }
          ],
          "table": [
           {
            "cells": {
             "fill": {
              "color": "#EBF0F8"
             },
             "line": {
              "color": "white"
             }
            },
            "header": {
             "fill": {
              "color": "#C8D4E3"
             },
             "line": {
              "color": "white"
             }
            },
            "type": "table"
           }
          ]
         },
         "layout": {
          "annotationdefaults": {
           "arrowcolor": "#2a3f5f",
           "arrowhead": 0,
           "arrowwidth": 1
          },
          "autotypenumbers": "strict",
          "coloraxis": {
           "colorbar": {
            "outlinewidth": 0,
            "ticks": ""
           }
          },
          "colorscale": {
           "diverging": [
            [
             0,
             "#8e0152"
            ],
            [
             0.1,
             "#c51b7d"
            ],
            [
             0.2,
             "#de77ae"
            ],
            [
             0.3,
             "#f1b6da"
            ],
            [
             0.4,
             "#fde0ef"
            ],
            [
             0.5,
             "#f7f7f7"
            ],
            [
             0.6,
             "#e6f5d0"
            ],
            [
             0.7,
             "#b8e186"
            ],
            [
             0.8,
             "#7fbc41"
            ],
            [
             0.9,
             "#4d9221"
            ],
            [
             1,
             "#276419"
            ]
           ],
           "sequential": [
            [
             0,
             "#0d0887"
            ],
            [
             0.1111111111111111,
             "#46039f"
            ],
            [
             0.2222222222222222,
             "#7201a8"
            ],
            [
             0.3333333333333333,
             "#9c179e"
            ],
            [
             0.4444444444444444,
             "#bd3786"
            ],
            [
             0.5555555555555556,
             "#d8576b"
            ],
            [
             0.6666666666666666,
             "#ed7953"
            ],
            [
             0.7777777777777778,
             "#fb9f3a"
            ],
            [
             0.8888888888888888,
             "#fdca26"
            ],
            [
             1,
             "#f0f921"
            ]
           ],
           "sequentialminus": [
            [
             0,
             "#0d0887"
            ],
            [
             0.1111111111111111,
             "#46039f"
            ],
            [
             0.2222222222222222,
             "#7201a8"
            ],
            [
             0.3333333333333333,
             "#9c179e"
            ],
            [
             0.4444444444444444,
             "#bd3786"
            ],
            [
             0.5555555555555556,
             "#d8576b"
            ],
            [
             0.6666666666666666,
             "#ed7953"
            ],
            [
             0.7777777777777778,
             "#fb9f3a"
            ],
            [
             0.8888888888888888,
             "#fdca26"
            ],
            [
             1,
             "#f0f921"
            ]
           ]
          },
          "colorway": [
           "#636efa",
           "#EF553B",
           "#00cc96",
           "#ab63fa",
           "#FFA15A",
           "#19d3f3",
           "#FF6692",
           "#B6E880",
           "#FF97FF",
           "#FECB52"
          ],
          "font": {
           "color": "#2a3f5f"
          },
          "geo": {
           "bgcolor": "white",
           "lakecolor": "white",
           "landcolor": "#E5ECF6",
           "showlakes": true,
           "showland": true,
           "subunitcolor": "white"
          },
          "hoverlabel": {
           "align": "left"
          },
          "hovermode": "closest",
          "mapbox": {
           "style": "light"
          },
          "paper_bgcolor": "white",
          "plot_bgcolor": "#E5ECF6",
          "polar": {
           "angularaxis": {
            "gridcolor": "white",
            "linecolor": "white",
            "ticks": ""
           },
           "bgcolor": "#E5ECF6",
           "radialaxis": {
            "gridcolor": "white",
            "linecolor": "white",
            "ticks": ""
           }
          },
          "scene": {
           "xaxis": {
            "backgroundcolor": "#E5ECF6",
            "gridcolor": "white",
            "gridwidth": 2,
            "linecolor": "white",
            "showbackground": true,
            "ticks": "",
            "zerolinecolor": "white"
           },
           "yaxis": {
            "backgroundcolor": "#E5ECF6",
            "gridcolor": "white",
            "gridwidth": 2,
            "linecolor": "white",
            "showbackground": true,
            "ticks": "",
            "zerolinecolor": "white"
           },
           "zaxis": {
            "backgroundcolor": "#E5ECF6",
            "gridcolor": "white",
            "gridwidth": 2,
            "linecolor": "white",
            "showbackground": true,
            "ticks": "",
            "zerolinecolor": "white"
           }
          },
          "shapedefaults": {
           "line": {
            "color": "#2a3f5f"
           }
          },
          "ternary": {
           "aaxis": {
            "gridcolor": "white",
            "linecolor": "white",
            "ticks": ""
           },
           "baxis": {
            "gridcolor": "white",
            "linecolor": "white",
            "ticks": ""
           },
           "bgcolor": "#E5ECF6",
           "caxis": {
            "gridcolor": "white",
            "linecolor": "white",
            "ticks": ""
           }
          },
          "title": {
           "x": 0.05
          },
          "xaxis": {
           "automargin": true,
           "gridcolor": "white",
           "linecolor": "white",
           "ticks": "",
           "title": {
            "standoff": 15
           },
           "zerolinecolor": "white",
           "zerolinewidth": 2
          },
          "yaxis": {
           "automargin": true,
           "gridcolor": "white",
           "linecolor": "white",
           "ticks": "",
           "title": {
            "standoff": 15
           },
           "zerolinecolor": "white",
           "zerolinewidth": 2
          }
         }
        },
        "title": {
         "font": {
          "color": "#D9D9D9"
         },
         "text": "Прогноз vs Реальные значения (Тест) для meanpressure"
        },
        "xaxis": {
         "gridcolor": "#434343",
         "showgrid": true,
         "tickfont": {
          "color": "#C2C2C2"
         },
         "title": {
          "font": {
           "color": "#D9D9D9"
          },
          "text": "Время"
         },
         "zerolinecolor": "#666570"
        },
        "yaxis": {
         "gridcolor": "#434343",
         "showgrid": true,
         "tickfont": {
          "color": "#C2C2C2"
         },
         "title": {
          "font": {
           "color": "#D9D9D9"
          },
          "text": "Значение"
         },
         "zerolinecolor": "#666570"
        }
       }
      },
      "text/html": [
       "<div>                            <div id=\"af58c0de-9c37-4b30-ba4a-d3c32d0b8d64\" class=\"plotly-graph-div\" style=\"height:525px; width:100%;\"></div>            <script type=\"text/javascript\">                require([\"plotly\"], function(Plotly) {                    window.PLOTLYENV=window.PLOTLYENV || {};\n",
       "                    window.PLOTLYENV.BASE_URL='https://plot.ly';                                    if (document.getElementById(\"af58c0de-9c37-4b30-ba4a-d3c32d0b8d64\")) {                    Plotly.newPlot(                        \"af58c0de-9c37-4b30-ba4a-d3c32d0b8d64\",                        [{\"line\":{\"color\":\"rgba(255, 153, 51, 1.0)\",\"dash\":\"solid\",\"shape\":\"linear\",\"width\":1.3},\"mode\":\"lines\",\"name\":\"Actual\",\"text\":\"\",\"x\":[0,1,2,3,4,5,6,7,8,9,10,11,12,13,14,15,16,17,18,19,20,21,22,23,24,25,26,27,28,29,30,31,32,33,34,35,36,37,38,39,40,41,42,43,44,45,46,47,48,49,50,51,52,53,54,55,56,57,58,59,60,61,62,63,64,65,66,67,68,69,70,71,72,73,74,75,76,77,78,79,80,81,82,83,84,85,86,87,88,89,90,91,92,93,94,95,96,97,98,99,100,101,102,103,104,105,106,107,108,109,110,111,112,113,114,115,116,117,118,119,120,121,122,123,124,125,126,127,128,129,130,131,132,133,134,135,136,137,138,139,140,141,142,143,144,145,146,147,148,149,150,151,152,153,154,155,156,157,158,159,160,161,162,163,164,165,166,167,168,169,170,171,172,173,174,175,176,177,178,179,180,181,182,183,184,185,186,187,188,189,190,191,192,193,194,195,196,197,198,199,200,201,202,203,204,205,206,207,208,209,210,211,212,213,214,215,216,217,218,219,220,221,222,223,224,225,226,227,228,229,230,231,232,233,234,235,236,237,238,239,240,241,242,243,244,245,246,247,248,249,250,251,252,253,254,255,256,257,258,259,260,261,262,263,264,265,266,267,268,269,270,271,272,273,274,275,276,277,278,279,280,281,282,283,284,285,286,287,288,289,290,291],\"y\":[17.866666666666788,15.8125,13.4375,12.8125,12.214285714285552,13.333333333333371,14.125,12.375,13.0,16.33333333333337,16.1875,16.600000000000023,15.8125,6682.333333333333,14.3125,14.142857142857224,12.200000000000045,9.714285714285552,11.0,11.375,9.6875,10.0,9.875,10.266666666666765,12.200000000000045,12.3125,11.8125,12.399999999999977,9.333333333333371,6.3125,6.8125,7.625000000000001,6.0625,5.666666666666629,7.6875,8.866666666666788,9.4375,6.399999999999977,4.727272727272748,4.846153846153811,6.0625,8.5625,10.1875,8.6875,7.692307692307622,8.714285714285552,7.8125,5.4375,5.2000000000000455,7.3125,6.785714285714448,10.46666666666681,10.0,8.5625,8.933333333333167,9.0625,9.5625,9.0625,5.25,4.352941176470608,6.125000000000001,6.5625,3.7999999999999545,1.9374999999999982,0.8125,1.625,-0.06666666666683341,-1.0666666666668334,-0.5333333333331893,2.5714285714285534,3.7368421052632357,0.47826086956524705,2.153846153846189,2.9545454545456096,2.8333333333333712,4.25,6.8125,5.307692307692378,5.733333333333235,5.0,5.25,4.866666666666788,5.833333333333371,4.571428571428555,5.0625,2.21428571428555,-58.93333333333316,1.25,2.0000000000000018,1.8125,1.1875,0.8125,-0.8666666666667879,2.0000000000000018,2.428571428571445,3.857142857142776,4.375,3.6875,2.9375,4.5625,2.692307692307624,1.3125,3.071428571428555,3.375,1.866666666666788,4.5,4.1875,0.8666666666667879,5.5625,1.375,1.25,0.125,-1.4375,-0.13333333333321207,0.6875,0.39999999999997726,-0.25,-0.9375,0.75,2.0625,1.4374999999999982,1.375,1.625,2.875,4.333333333333371,3.7999999999999545,2.875,2.625,2.266666666666765,2.3333333333333712,4.625,-50.68749999999999,4.875,6.125000000000001,7.625000000000001,5.066666666666833,3.9375,4.2000000000000455,3.6666666666666288,2.125,-686.5625,1.5000000000000018,1.7777777777778283,2.3333333333333712,3.7999999999999545,3.5294117647059693,2.636363636363626,1.5000000000000018,2.3703703703704377,4.607142857142776,5.285714285714448,4.071428571428555,-363.1000000000001,2.285714285714448,-1000.0416666666666,2.5185185185183627,2.923076923076792,2.892857142857224,3.159999999999968,4.192307692307622,5.8888888888888005,6.240000000000009,5.5,7.423076923076793,8.222222222222172,9.142857142857224,9.200000000000045,6.607142857142776,5.192307692307622,6.03703703703718,5.440000000000055,4.272727272727252,4.157894736841968,5.923076923076792,6.2307692307691696,6.75,6.45454545454561,8.166666666666629,7.333333333333371,8.23076923076917,6.7999999999999545,8.071428571428555,9.399999999999977,9.928571428571445,7.75,7.399999999999977,6.153846153846189,8.0,7.708333333333372,6.518518518518364,8.399999999999977,11.777777777777828,8.321428571428555,355.6153846153843,7.782608695652016,9.759999999999991,9.703703703703582,8.279999999999973,8.590909090909236,8.571428571428555,10.5,12.1111111111112,10.185185185185219,8.370370370370438,8.25,10.148148148148152,10.200000000000045,9.846153846153811,8.960000000000036,9.148148148148152,9.59259259259261,9.25,11.333333333333371,12.125,13.518518518518363,14.857142857142776,13.559999999999945,12.458333333333371,11.555555555555657,10.538461538461547,11.727272727272748,12.370370370370438,12.307692307692378,11.26923076923083,11.923076923076792,14.73076923076917,17.629629629629562,15.40740740740739,16.0,17.608695652173992,20.807692307692378,19.38461538461536,19.590909090909236,19.24000000000001,15.629629629629562,13.346153846153811,14.518518518518363,15.772727272727252,16.639999999999986,17.66666666666663,16.81481481481478,17.08000000000004,18.15384615384619,19.518518518518363,18.73076923076917,19.24000000000001,20.538461538461547,353.2962962962963,17.692307692307622,15.46666666666681,16.350000000000023,16.0,15.894736842105203,16.173913043478365,17.9473684210526,15.950000000000045,16.25,16.590909090909236,-984.9545454545455,18.0,19.608695652173992,19.875,20.75,22.33333333333337,22.700000000000045,20.04545454545439,20.961538461538453,20.42105263157896,19.200000000000045,16.41666666666663,17.0,16.29166666666663,17.181818181818016,18.100000000000023,20.33333333333337,19.66666666666663,21.77777777777783,19.9473684210526,21.08333333333337,20.428571428571445,18.200000000000045,18.619047619047592,19.142857142857224,17.25,14.318181818181984,17.350000000000023,19.952380952380963,20.200000000000045,18.565217391304373,19.90476190476204,20.90476190476204,19.100000000000023],\"type\":\"scatter\"},{\"line\":{\"color\":\"rgba(55, 128, 191, 1.0)\",\"dash\":\"solid\",\"shape\":\"linear\",\"width\":1.3},\"mode\":\"lines\",\"name\":\"Predicted\",\"text\":\"\",\"x\":[0,1,2,3,4,5,6,7,8,9,10,11,12,13,14,15,16,17,18,19,20,21,22,23,24,25,26,27,28,29,30,31,32,33,34,35,36,37,38,39,40,41,42,43,44,45,46,47,48,49,50,51,52,53,54,55,56,57,58,59,60,61,62,63,64,65,66,67,68,69,70,71,72,73,74,75,76,77,78,79,80,81,82,83,84,85,86,87,88,89,90,91,92,93,94,95,96,97,98,99,100,101,102,103,104,105,106,107,108,109,110,111,112,113,114,115,116,117,118,119,120,121,122,123,124,125,126,127,128,129,130,131,132,133,134,135,136,137,138,139,140,141,142,143,144,145,146,147,148,149,150,151,152,153,154,155,156,157,158,159,160,161,162,163,164,165,166,167,168,169,170,171,172,173,174,175,176,177,178,179,180,181,182,183,184,185,186,187,188,189,190,191,192,193,194,195,196,197,198,199,200,201,202,203,204,205,206,207,208,209,210,211,212,213,214,215,216,217,218,219,220,221,222,223,224,225,226,227,228,229,230,231,232,233,234,235,236,237,238,239,240,241,242,243,244,245,246,247,248,249,250,251,252,253,254,255,256,257,258,259,260,261,262,263,264,265,266,267,268,269,270,271,272,273,274,275,276,277,278,279,280,281,282,283,284,285,286,287,288,289,290,291],\"y\":[19.157596588134766,15.925028800964355,13.48960018157959,12.965710639953613,12.322000503540039,13.486621856689453,14.133329391479492,12.434836387634277,13.053461074829102,16.417600631713867,16.25341033935547,16.739168167114258,16.09304428100586,3.3536157608032227,100.3928451538086,-210.65762329101562,-408.8698425292969,-578.7542724609375,11.171027183532715,11.494322776794434,9.78207778930664,9.983830451965332,9.94308853149414,10.363175392150879,12.349027633666992,12.467846870422363,12.011083602905273,12.54135513305664,9.50095272064209,6.528512954711914,6.9907331466674805,7.895940780639648,6.314346790313721,5.892376899719238,7.732059955596924,9.050177574157715,9.6502046585083,6.5301923751831055,4.84813117980957,5.019756317138672,6.408581256866455,8.827917098999023,10.495970726013184,8.947291374206543,7.72159481048584,8.844878196716309,7.973010540008545,5.559065818786621,5.379251480102539,7.4837751388549805,6.966825485229492,10.658856391906738,10.442770004272461,8.729696273803711,9.076475143432617,9.195846557617188,9.661572456359863,9.19100570678711,5.408547401428223,4.579949378967285,6.259629249572754,6.781500339508057,4.048158645629883,2.170339584350586,1.0364819765090942,1.8780757188796997,0.1752053201198578,-0.8664425611495972,-0.2756594717502594,2.835576057434082,3.94112491607666,0.5325261354446411,2.463865280151367,3.036518096923828,3.0752906799316406,4.439944267272949,7.075075626373291,5.564641952514648,5.985254287719727,5.157188415527344,5.547903060913086,5.101509094238281,6.100031852722168,4.88454532623291,5.3030595779418945,2.4188880920410156,-25.957578659057617,8.462717056274414,18.32225799560547,17.715391159057617,-4.380765914916992,0.9988089799880981,-0.665913462638855,2.173685073852539,2.644857406616211,4.051712989807129,4.5499372482299805,3.9249019622802734,3.1148853302001953,4.7076416015625,3.019582748413086,1.524863362312317,3.3041038513183594,3.570423126220703,2.0722904205322266,4.730426788330078,4.485833168029785,1.1858903169631958,5.761448860168457,1.8217040300369263,1.6864873170852661,0.5050097703933716,-1.1898783445358276,0.09306059032678604,0.9745713472366333,0.6384526491165161,-0.0691622719168663,-0.7029465436935425,1.0075560808181763,2.3039722442626953,1.6278287172317505,1.5311747789382935,1.861481785774231,3.095456123352051,4.535212516784668,3.9982481002807617,3.0951013565063477,2.751699447631836,2.4956979751586914,2.5548620223999023,4.820937156677246,-22.0073184967041,9.574928283691406,19.001319885253906,22.524442672729492,-0.19436541199684143,4.198590278625488,4.268084526062012,4.0135602951049805,2.3611440658569336,-243.85736083984375,3.0054988861083984,24.402475357055664,11.2575101852417,-37.293487548828125,3.7378616333007812,2.8206405639648438,1.6512871980667114,2.5853118896484375,4.764692306518555,5.572029113769531,4.359572410583496,-142.74400329589844,7.244081497192383,-311.5708312988281,-22.430143356323242,24.53849220275879,6.663302898406982,-66.29676055908203,4.400487899780273,6.13095760345459,6.578337669372559,5.7696638107299805,7.627792835235596,8.487878799438477,9.31071949005127,9.429738998413086,6.688769340515137,5.327633857727051,6.2322678565979,5.791285514831543,4.595593452453613,4.292107582092285,6.102640151977539,6.546204090118408,7.0070481300354,6.746480464935303,8.403111457824707,7.567590236663818,8.319326400756836,6.9895920753479,8.188273429870605,9.567036628723145,10.089727401733398,7.881109237670898,7.432158470153809,6.443780899047852,8.35163688659668,7.884619235992432,6.676967144012451,8.482491493225098,11.881832122802734,8.598480224609375,22.287378311157227,25.247257232666016,19.354896545410156,2.501896858215332,-32.57693862915039,8.654951095581055,8.75279426574707,10.600238800048828,12.290481567382812,10.383978843688965,8.373571395874023,8.35566520690918,10.288637161254883,10.316277503967285,9.978890419006348,9.051254272460938,9.24259090423584,9.722373008728027,9.359294891357422,11.444846153259277,12.312553405761719,13.668539047241211,14.918362617492676,13.56425952911377,12.50118350982666,11.671957015991211,10.73266315460205,11.925271987915039,12.513704299926758,12.444263458251953,11.458834648132324,12.059486389160156,14.87758731842041,17.752544403076172,15.599729537963867,16.007190704345703,17.915416717529297,20.928728103637695,19.516685485839844,19.627931594848633,19.32678985595703,15.65457534790039,13.611799240112305,14.563468933105469,15.867205619812012,16.789138793945312,17.720476150512695,16.928022384643555,17.224668502807617,18.265716552734375,19.629289627075195,18.777454376220703,19.308185577392578,20.604326248168945,22.457107543945312,25.349580764770508,19.40692710876465,2.367190361022949,-29.394357681274414,15.994608879089355,16.33625602722168,18.049776077270508,16.080049514770508,16.400266647338867,16.797548294067383,-284.1461486816406,2.9817113876342773,26.054954528808594,7.726567268371582,-62.2065315246582,22.42021369934082,22.77308464050293,20.09258460998535,21.14263153076172,20.51544761657715,19.13916778564453,16.42469596862793,17.145614624023438,16.332704544067383,17.285633087158203,18.235578536987305,20.4283390045166,19.71873664855957,21.837722778320312,20.012466430664062,21.009967803955078,20.500564575195312,18.129121780395508,18.703636169433594,19.251306533813477,17.345626831054688,14.422465324401855,17.327543258666992,19.99245834350586,20.266990661621094,18.698389053344727,20.03220558166504,20.966707229614258,19.074926376342773],\"type\":\"scatter\"}],                        {\"legend\":{\"bgcolor\":\"#151516\",\"font\":{\"color\":\"#D9D9D9\"}},\"paper_bgcolor\":\"#151516\",\"plot_bgcolor\":\"#151516\",\"template\":{\"data\":{\"barpolar\":[{\"marker\":{\"line\":{\"color\":\"#E5ECF6\",\"width\":0.5},\"pattern\":{\"fillmode\":\"overlay\",\"size\":10,\"solidity\":0.2}},\"type\":\"barpolar\"}],\"bar\":[{\"error_x\":{\"color\":\"#2a3f5f\"},\"error_y\":{\"color\":\"#2a3f5f\"},\"marker\":{\"line\":{\"color\":\"#E5ECF6\",\"width\":0.5},\"pattern\":{\"fillmode\":\"overlay\",\"size\":10,\"solidity\":0.2}},\"type\":\"bar\"}],\"carpet\":[{\"aaxis\":{\"endlinecolor\":\"#2a3f5f\",\"gridcolor\":\"white\",\"linecolor\":\"white\",\"minorgridcolor\":\"white\",\"startlinecolor\":\"#2a3f5f\"},\"baxis\":{\"endlinecolor\":\"#2a3f5f\",\"gridcolor\":\"white\",\"linecolor\":\"white\",\"minorgridcolor\":\"white\",\"startlinecolor\":\"#2a3f5f\"},\"type\":\"carpet\"}],\"choropleth\":[{\"colorbar\":{\"outlinewidth\":0,\"ticks\":\"\"},\"type\":\"choropleth\"}],\"contourcarpet\":[{\"colorbar\":{\"outlinewidth\":0,\"ticks\":\"\"},\"type\":\"contourcarpet\"}],\"contour\":[{\"colorbar\":{\"outlinewidth\":0,\"ticks\":\"\"},\"colorscale\":[[0.0,\"#0d0887\"],[0.1111111111111111,\"#46039f\"],[0.2222222222222222,\"#7201a8\"],[0.3333333333333333,\"#9c179e\"],[0.4444444444444444,\"#bd3786\"],[0.5555555555555556,\"#d8576b\"],[0.6666666666666666,\"#ed7953\"],[0.7777777777777778,\"#fb9f3a\"],[0.8888888888888888,\"#fdca26\"],[1.0,\"#f0f921\"]],\"type\":\"contour\"}],\"heatmapgl\":[{\"colorbar\":{\"outlinewidth\":0,\"ticks\":\"\"},\"colorscale\":[[0.0,\"#0d0887\"],[0.1111111111111111,\"#46039f\"],[0.2222222222222222,\"#7201a8\"],[0.3333333333333333,\"#9c179e\"],[0.4444444444444444,\"#bd3786\"],[0.5555555555555556,\"#d8576b\"],[0.6666666666666666,\"#ed7953\"],[0.7777777777777778,\"#fb9f3a\"],[0.8888888888888888,\"#fdca26\"],[1.0,\"#f0f921\"]],\"type\":\"heatmapgl\"}],\"heatmap\":[{\"colorbar\":{\"outlinewidth\":0,\"ticks\":\"\"},\"colorscale\":[[0.0,\"#0d0887\"],[0.1111111111111111,\"#46039f\"],[0.2222222222222222,\"#7201a8\"],[0.3333333333333333,\"#9c179e\"],[0.4444444444444444,\"#bd3786\"],[0.5555555555555556,\"#d8576b\"],[0.6666666666666666,\"#ed7953\"],[0.7777777777777778,\"#fb9f3a\"],[0.8888888888888888,\"#fdca26\"],[1.0,\"#f0f921\"]],\"type\":\"heatmap\"}],\"histogram2dcontour\":[{\"colorbar\":{\"outlinewidth\":0,\"ticks\":\"\"},\"colorscale\":[[0.0,\"#0d0887\"],[0.1111111111111111,\"#46039f\"],[0.2222222222222222,\"#7201a8\"],[0.3333333333333333,\"#9c179e\"],[0.4444444444444444,\"#bd3786\"],[0.5555555555555556,\"#d8576b\"],[0.6666666666666666,\"#ed7953\"],[0.7777777777777778,\"#fb9f3a\"],[0.8888888888888888,\"#fdca26\"],[1.0,\"#f0f921\"]],\"type\":\"histogram2dcontour\"}],\"histogram2d\":[{\"colorbar\":{\"outlinewidth\":0,\"ticks\":\"\"},\"colorscale\":[[0.0,\"#0d0887\"],[0.1111111111111111,\"#46039f\"],[0.2222222222222222,\"#7201a8\"],[0.3333333333333333,\"#9c179e\"],[0.4444444444444444,\"#bd3786\"],[0.5555555555555556,\"#d8576b\"],[0.6666666666666666,\"#ed7953\"],[0.7777777777777778,\"#fb9f3a\"],[0.8888888888888888,\"#fdca26\"],[1.0,\"#f0f921\"]],\"type\":\"histogram2d\"}],\"histogram\":[{\"marker\":{\"pattern\":{\"fillmode\":\"overlay\",\"size\":10,\"solidity\":0.2}},\"type\":\"histogram\"}],\"mesh3d\":[{\"colorbar\":{\"outlinewidth\":0,\"ticks\":\"\"},\"type\":\"mesh3d\"}],\"parcoords\":[{\"line\":{\"colorbar\":{\"outlinewidth\":0,\"ticks\":\"\"}},\"type\":\"parcoords\"}],\"pie\":[{\"automargin\":true,\"type\":\"pie\"}],\"scatter3d\":[{\"line\":{\"colorbar\":{\"outlinewidth\":0,\"ticks\":\"\"}},\"marker\":{\"colorbar\":{\"outlinewidth\":0,\"ticks\":\"\"}},\"type\":\"scatter3d\"}],\"scattercarpet\":[{\"marker\":{\"colorbar\":{\"outlinewidth\":0,\"ticks\":\"\"}},\"type\":\"scattercarpet\"}],\"scattergeo\":[{\"marker\":{\"colorbar\":{\"outlinewidth\":0,\"ticks\":\"\"}},\"type\":\"scattergeo\"}],\"scattergl\":[{\"marker\":{\"colorbar\":{\"outlinewidth\":0,\"ticks\":\"\"}},\"type\":\"scattergl\"}],\"scattermapbox\":[{\"marker\":{\"colorbar\":{\"outlinewidth\":0,\"ticks\":\"\"}},\"type\":\"scattermapbox\"}],\"scatterpolargl\":[{\"marker\":{\"colorbar\":{\"outlinewidth\":0,\"ticks\":\"\"}},\"type\":\"scatterpolargl\"}],\"scatterpolar\":[{\"marker\":{\"colorbar\":{\"outlinewidth\":0,\"ticks\":\"\"}},\"type\":\"scatterpolar\"}],\"scatter\":[{\"fillpattern\":{\"fillmode\":\"overlay\",\"size\":10,\"solidity\":0.2},\"type\":\"scatter\"}],\"scatterternary\":[{\"marker\":{\"colorbar\":{\"outlinewidth\":0,\"ticks\":\"\"}},\"type\":\"scatterternary\"}],\"surface\":[{\"colorbar\":{\"outlinewidth\":0,\"ticks\":\"\"},\"colorscale\":[[0.0,\"#0d0887\"],[0.1111111111111111,\"#46039f\"],[0.2222222222222222,\"#7201a8\"],[0.3333333333333333,\"#9c179e\"],[0.4444444444444444,\"#bd3786\"],[0.5555555555555556,\"#d8576b\"],[0.6666666666666666,\"#ed7953\"],[0.7777777777777778,\"#fb9f3a\"],[0.8888888888888888,\"#fdca26\"],[1.0,\"#f0f921\"]],\"type\":\"surface\"}],\"table\":[{\"cells\":{\"fill\":{\"color\":\"#EBF0F8\"},\"line\":{\"color\":\"white\"}},\"header\":{\"fill\":{\"color\":\"#C8D4E3\"},\"line\":{\"color\":\"white\"}},\"type\":\"table\"}]},\"layout\":{\"annotationdefaults\":{\"arrowcolor\":\"#2a3f5f\",\"arrowhead\":0,\"arrowwidth\":1},\"autotypenumbers\":\"strict\",\"coloraxis\":{\"colorbar\":{\"outlinewidth\":0,\"ticks\":\"\"}},\"colorscale\":{\"diverging\":[[0,\"#8e0152\"],[0.1,\"#c51b7d\"],[0.2,\"#de77ae\"],[0.3,\"#f1b6da\"],[0.4,\"#fde0ef\"],[0.5,\"#f7f7f7\"],[0.6,\"#e6f5d0\"],[0.7,\"#b8e186\"],[0.8,\"#7fbc41\"],[0.9,\"#4d9221\"],[1,\"#276419\"]],\"sequential\":[[0.0,\"#0d0887\"],[0.1111111111111111,\"#46039f\"],[0.2222222222222222,\"#7201a8\"],[0.3333333333333333,\"#9c179e\"],[0.4444444444444444,\"#bd3786\"],[0.5555555555555556,\"#d8576b\"],[0.6666666666666666,\"#ed7953\"],[0.7777777777777778,\"#fb9f3a\"],[0.8888888888888888,\"#fdca26\"],[1.0,\"#f0f921\"]],\"sequentialminus\":[[0.0,\"#0d0887\"],[0.1111111111111111,\"#46039f\"],[0.2222222222222222,\"#7201a8\"],[0.3333333333333333,\"#9c179e\"],[0.4444444444444444,\"#bd3786\"],[0.5555555555555556,\"#d8576b\"],[0.6666666666666666,\"#ed7953\"],[0.7777777777777778,\"#fb9f3a\"],[0.8888888888888888,\"#fdca26\"],[1.0,\"#f0f921\"]]},\"colorway\":[\"#636efa\",\"#EF553B\",\"#00cc96\",\"#ab63fa\",\"#FFA15A\",\"#19d3f3\",\"#FF6692\",\"#B6E880\",\"#FF97FF\",\"#FECB52\"],\"font\":{\"color\":\"#2a3f5f\"},\"geo\":{\"bgcolor\":\"white\",\"lakecolor\":\"white\",\"landcolor\":\"#E5ECF6\",\"showlakes\":true,\"showland\":true,\"subunitcolor\":\"white\"},\"hoverlabel\":{\"align\":\"left\"},\"hovermode\":\"closest\",\"mapbox\":{\"style\":\"light\"},\"paper_bgcolor\":\"white\",\"plot_bgcolor\":\"#E5ECF6\",\"polar\":{\"angularaxis\":{\"gridcolor\":\"white\",\"linecolor\":\"white\",\"ticks\":\"\"},\"bgcolor\":\"#E5ECF6\",\"radialaxis\":{\"gridcolor\":\"white\",\"linecolor\":\"white\",\"ticks\":\"\"}},\"scene\":{\"xaxis\":{\"backgroundcolor\":\"#E5ECF6\",\"gridcolor\":\"white\",\"gridwidth\":2,\"linecolor\":\"white\",\"showbackground\":true,\"ticks\":\"\",\"zerolinecolor\":\"white\"},\"yaxis\":{\"backgroundcolor\":\"#E5ECF6\",\"gridcolor\":\"white\",\"gridwidth\":2,\"linecolor\":\"white\",\"showbackground\":true,\"ticks\":\"\",\"zerolinecolor\":\"white\"},\"zaxis\":{\"backgroundcolor\":\"#E5ECF6\",\"gridcolor\":\"white\",\"gridwidth\":2,\"linecolor\":\"white\",\"showbackground\":true,\"ticks\":\"\",\"zerolinecolor\":\"white\"}},\"shapedefaults\":{\"line\":{\"color\":\"#2a3f5f\"}},\"ternary\":{\"aaxis\":{\"gridcolor\":\"white\",\"linecolor\":\"white\",\"ticks\":\"\"},\"baxis\":{\"gridcolor\":\"white\",\"linecolor\":\"white\",\"ticks\":\"\"},\"bgcolor\":\"#E5ECF6\",\"caxis\":{\"gridcolor\":\"white\",\"linecolor\":\"white\",\"ticks\":\"\"}},\"title\":{\"x\":0.05},\"xaxis\":{\"automargin\":true,\"gridcolor\":\"white\",\"linecolor\":\"white\",\"ticks\":\"\",\"title\":{\"standoff\":15},\"zerolinecolor\":\"white\",\"zerolinewidth\":2},\"yaxis\":{\"automargin\":true,\"gridcolor\":\"white\",\"linecolor\":\"white\",\"ticks\":\"\",\"title\":{\"standoff\":15},\"zerolinecolor\":\"white\",\"zerolinewidth\":2}}},\"title\":{\"font\":{\"color\":\"#D9D9D9\"},\"text\":\"\\u041f\\u0440\\u043e\\u0433\\u043d\\u043e\\u0437 vs \\u0420\\u0435\\u0430\\u043b\\u044c\\u043d\\u044b\\u0435 \\u0437\\u043d\\u0430\\u0447\\u0435\\u043d\\u0438\\u044f (\\u0422\\u0435\\u0441\\u0442) \\u0434\\u043b\\u044f meanpressure\"},\"xaxis\":{\"gridcolor\":\"#434343\",\"showgrid\":true,\"tickfont\":{\"color\":\"#C2C2C2\"},\"title\":{\"font\":{\"color\":\"#D9D9D9\"},\"text\":\"\\u0412\\u0440\\u0435\\u043c\\u044f\"},\"zerolinecolor\":\"#666570\"},\"yaxis\":{\"gridcolor\":\"#434343\",\"showgrid\":true,\"tickfont\":{\"color\":\"#C2C2C2\"},\"title\":{\"font\":{\"color\":\"#D9D9D9\"},\"text\":\"\\u0417\\u043d\\u0430\\u0447\\u0435\\u043d\\u0438\\u0435\"},\"zerolinecolor\":\"#666570\"}},                        {\"showLink\": true, \"linkText\": \"Export to plot.ly\", \"plotlyServerURL\": \"https://plot.ly\", \"responsive\": true}                    ).then(function(){\n",
       "                            \n",
       "var gd = document.getElementById('af58c0de-9c37-4b30-ba4a-d3c32d0b8d64');\n",
       "var x = new MutationObserver(function (mutations, observer) {{\n",
       "        var display = window.getComputedStyle(gd).display;\n",
       "        if (!display || display === 'none') {{\n",
       "            console.log([gd, 'removed!']);\n",
       "            Plotly.purge(gd);\n",
       "            observer.disconnect();\n",
       "        }}\n",
       "}});\n",
       "\n",
       "// Listen for the removal of the full notebook cells\n",
       "var notebookContainer = gd.closest('#notebook-container');\n",
       "if (notebookContainer) {{\n",
       "    x.observe(notebookContainer, {childList: true});\n",
       "}}\n",
       "\n",
       "// Listen for the clearing of the current output cell\n",
       "var outputEl = gd.closest('.output');\n",
       "if (outputEl) {{\n",
       "    x.observe(outputEl, {childList: true});\n",
       "}}\n",
       "\n",
       "                        })                };                });            </script>        </div>"
      ]
     },
     "metadata": {},
     "output_type": "display_data"
    },
    {
     "name": "stdout",
     "output_type": "stream",
     "text": [
      "4/4 [==============================] - 0s 9ms/step\n"
     ]
    },
    {
     "data": {
      "application/vnd.plotly.v1+json": {
       "config": {
        "linkText": "Export to plot.ly",
        "plotlyServerURL": "https://plot.ly",
        "showLink": true
       },
       "data": [
        {
         "line": {
          "color": "rgba(255, 153, 51, 1.0)",
          "dash": "solid",
          "shape": "linear",
          "width": 1.3
         },
         "mode": "lines",
         "name": "Actual (Validation)",
         "text": "",
         "type": "scatter",
         "x": [
          0,
          1,
          2,
          3,
          4,
          5,
          6,
          7,
          8,
          9,
          10,
          11,
          12,
          13,
          14,
          15,
          16,
          17,
          18,
          19,
          20,
          21,
          22,
          23,
          24,
          25,
          26,
          27,
          28,
          29,
          30,
          31,
          32,
          33,
          34,
          35,
          36,
          37,
          38,
          39,
          40,
          41,
          42,
          43,
          44,
          45,
          46,
          47,
          48,
          49,
          50,
          51,
          52,
          53,
          54,
          55,
          56,
          57,
          58,
          59,
          60,
          61,
          62,
          63,
          64,
          65,
          66,
          67,
          68,
          69,
          70,
          71,
          72,
          73,
          74,
          75,
          76,
          77,
          78,
          79,
          80,
          81,
          82,
          83,
          84,
          85,
          86,
          87,
          88,
          89,
          90,
          91,
          92,
          93,
          94,
          95,
          96,
          97,
          98,
          99,
          100,
          101,
          102,
          103,
          104,
          105,
          106,
          107,
          108
         ],
         "y": [
          1017.3333333333334,
          1014.7727272727273,
          1014.375,
          1018.55,
          1018.952380952381,
          1019.8888888888888,
          1019.7777777777778,
          1019.3684210526316,
          1020.529411764706,
          1021.84,
          1021.1304347826087,
          1020.15,
          1021.3888888888888,
          1024.9583333333335,
          1025.8095238095239,
          1024.7894736842104,
          1023.4782608695652,
          1024.04,
          1022.8235294117648,
          1021.8695652173913,
          1021.4,
          1020.7857142857144,
          1021.125,
          1022.6363636363636,
          1020.3888888888888,
          1018.8333333333334,
          1018.5,
          1020.5,
          1021.9090909090908,
          1020.7272727272727,
          1017.4,
          1017.2105263157896,
          1019,
          1019.125,
          1018.6,
          1019.375,
          1018.6666666666666,
          1019.625,
          1022.625,
          1024.5555555555557,
          1024.375,
          1023.5714285714286,
          1020.625,
          1019.5,
          1019.25,
          1016,
          1008.375,
          1010.4166666666666,
          1015.25,
          1018.25,
          1019.125,
          1017.2857142857144,
          1015.375,
          1017.25,
          1016.1111111111112,
          1015.9230769230768,
          1015.15,
          1013.625,
          1013,
          1013.5,
          1013.3333333333334,
          1010.375,
          1011.9090909090908,
          1010.3571428571428,
          1009.875,
          1012.8,
          1017.75,
          1017.8888888888888,
          1019.5555555555557,
          1017.125,
          1014.1,
          1013.7,
          1012.8461538461538,
          1014.8888888888888,
          1015.5555555555557,
          1014.75,
          1012.75,
          1011.875,
          1013.5833333333334,
          1012.875,
          1013.2,
          1012.5,
          1012,
          1010.125,
          1010.1428571428572,
          1010.5,
          1008,
          1007.25,
          1007.25,
          1010.2,
          1008,
          1005.8888888888888,
          1010.375,
          1013.375,
          1013.625,
          1011.5714285714286,
          1009.25,
          1008.875,
          1009.7777777777778,
          1007.625,
          1005.4444444444443,
          1006.25,
          1007.4444444444443,
          1006.1111111111112,
          1003.875,
          1001.625,
          1002.875,
          1004.6,
          1005.125
         ]
        },
        {
         "line": {
          "color": "rgba(55, 128, 191, 1.0)",
          "dash": "solid",
          "shape": "linear",
          "width": 1.3
         },
         "mode": "lines",
         "name": "Predicted (Validation)",
         "text": "",
         "type": "scatter",
         "x": [
          0,
          1,
          2,
          3,
          4,
          5,
          6,
          7,
          8,
          9,
          10,
          11,
          12,
          13,
          14,
          15,
          16,
          17,
          18,
          19,
          20,
          21,
          22,
          23,
          24,
          25,
          26,
          27,
          28,
          29,
          30,
          31,
          32,
          33,
          34,
          35,
          36,
          37,
          38,
          39,
          40,
          41,
          42,
          43,
          44,
          45,
          46,
          47,
          48,
          49,
          50,
          51,
          52,
          53,
          54,
          55,
          56,
          57,
          58,
          59,
          60,
          61,
          62,
          63,
          64,
          65,
          66,
          67,
          68,
          69,
          70,
          71,
          72,
          73,
          74,
          75,
          76,
          77,
          78,
          79,
          80,
          81,
          82,
          83,
          84,
          85,
          86,
          87,
          88,
          89,
          90,
          91,
          92,
          93,
          94,
          95,
          96,
          97,
          98,
          99,
          100,
          101,
          102,
          103,
          104,
          105,
          106,
          107,
          108
         ],
         "y": [
          1014.8910522460938,
          1014.8391723632812,
          1014.4168090820312,
          1018.665283203125,
          1019.1183471679688,
          1019.9338989257812,
          1019.864013671875,
          1019.3922729492188,
          1020.5907592773438,
          1021.8715209960938,
          1021.1705322265625,
          1020.224609375,
          1021.5323486328125,
          1024.9317626953125,
          1025.626953125,
          1024.8109130859375,
          1023.4960327148438,
          1023.9637451171875,
          1022.7454223632812,
          1021.9443969726562,
          1021.5478515625,
          1020.9028930664062,
          1021.2247314453125,
          1022.703125,
          1020.4434814453125,
          1018.9063720703125,
          1018.6077270507812,
          1020.6119995117188,
          1021.935791015625,
          1020.795166015625,
          1017.3680419921875,
          1017.320556640625,
          1019.06982421875,
          1019.3276977539062,
          1018.655029296875,
          1019.4552001953125,
          1018.7621459960938,
          1019.7271728515625,
          1022.6986694335938,
          1024.626708984375,
          1024.3787841796875,
          1023.715576171875,
          1020.778564453125,
          1019.5552368164062,
          1019.346923828125,
          1015.9815063476562,
          1008.8834228515625,
          1010.6017456054688,
          1014.9979858398438,
          1018.576416015625,
          1019.5684204101562,
          1017.35693359375,
          1015.391845703125,
          1017.3466796875,
          1016.203369140625,
          1016.0643920898438,
          1015.3290405273438,
          1013.6187744140625,
          1013.017822265625,
          1013.5729370117188,
          1013.3936157226562,
          1010.4927368164062,
          1012.0340576171875,
          1010.5851440429688,
          1010.0807495117188,
          1012.8471069335938,
          1017.817138671875,
          1018.0633544921875,
          1019.7280883789062,
          1017.167724609375,
          1014.2466430664062,
          1013.8357543945312,
          1012.89599609375,
          1014.9611206054688,
          1015.6541137695312,
          1014.8159790039062,
          1012.8170776367188,
          1011.9730834960938,
          1013.6544189453125,
          1012.9107055664062,
          1013.2899780273438,
          1012.6005249023438,
          1012.1052856445312,
          1010.2911987304688,
          1010.3291015625,
          1010.5707397460938,
          1008.1575317382812,
          1007.3511352539062,
          1007.5205688476562,
          1010.3678588867188,
          1008.2630615234375,
          1005.8905639648438,
          1010.4515380859375,
          1013.34765625,
          1013.8645629882812,
          1011.5916137695312,
          1009.277587890625,
          1009.0686645507812,
          1009.93408203125,
          1007.8465576171875,
          1005.5730590820312,
          1006.4500122070312,
          1007.7083740234375,
          1006.3457641601562,
          1004.1655883789062,
          1001.711669921875,
          1003.0928955078125,
          1004.7804565429688,
          1005.3739624023438
         ]
        }
       ],
       "layout": {
        "legend": {
         "bgcolor": "#151516",
         "font": {
          "color": "#D9D9D9"
         }
        },
        "paper_bgcolor": "#151516",
        "plot_bgcolor": "#151516",
        "template": {
         "data": {
          "bar": [
           {
            "error_x": {
             "color": "#2a3f5f"
            },
            "error_y": {
             "color": "#2a3f5f"
            },
            "marker": {
             "line": {
              "color": "#E5ECF6",
              "width": 0.5
             },
             "pattern": {
              "fillmode": "overlay",
              "size": 10,
              "solidity": 0.2
             }
            },
            "type": "bar"
           }
          ],
          "barpolar": [
           {
            "marker": {
             "line": {
              "color": "#E5ECF6",
              "width": 0.5
             },
             "pattern": {
              "fillmode": "overlay",
              "size": 10,
              "solidity": 0.2
             }
            },
            "type": "barpolar"
           }
          ],
          "carpet": [
           {
            "aaxis": {
             "endlinecolor": "#2a3f5f",
             "gridcolor": "white",
             "linecolor": "white",
             "minorgridcolor": "white",
             "startlinecolor": "#2a3f5f"
            },
            "baxis": {
             "endlinecolor": "#2a3f5f",
             "gridcolor": "white",
             "linecolor": "white",
             "minorgridcolor": "white",
             "startlinecolor": "#2a3f5f"
            },
            "type": "carpet"
           }
          ],
          "choropleth": [
           {
            "colorbar": {
             "outlinewidth": 0,
             "ticks": ""
            },
            "type": "choropleth"
           }
          ],
          "contour": [
           {
            "colorbar": {
             "outlinewidth": 0,
             "ticks": ""
            },
            "colorscale": [
             [
              0,
              "#0d0887"
             ],
             [
              0.1111111111111111,
              "#46039f"
             ],
             [
              0.2222222222222222,
              "#7201a8"
             ],
             [
              0.3333333333333333,
              "#9c179e"
             ],
             [
              0.4444444444444444,
              "#bd3786"
             ],
             [
              0.5555555555555556,
              "#d8576b"
             ],
             [
              0.6666666666666666,
              "#ed7953"
             ],
             [
              0.7777777777777778,
              "#fb9f3a"
             ],
             [
              0.8888888888888888,
              "#fdca26"
             ],
             [
              1,
              "#f0f921"
             ]
            ],
            "type": "contour"
           }
          ],
          "contourcarpet": [
           {
            "colorbar": {
             "outlinewidth": 0,
             "ticks": ""
            },
            "type": "contourcarpet"
           }
          ],
          "heatmap": [
           {
            "colorbar": {
             "outlinewidth": 0,
             "ticks": ""
            },
            "colorscale": [
             [
              0,
              "#0d0887"
             ],
             [
              0.1111111111111111,
              "#46039f"
             ],
             [
              0.2222222222222222,
              "#7201a8"
             ],
             [
              0.3333333333333333,
              "#9c179e"
             ],
             [
              0.4444444444444444,
              "#bd3786"
             ],
             [
              0.5555555555555556,
              "#d8576b"
             ],
             [
              0.6666666666666666,
              "#ed7953"
             ],
             [
              0.7777777777777778,
              "#fb9f3a"
             ],
             [
              0.8888888888888888,
              "#fdca26"
             ],
             [
              1,
              "#f0f921"
             ]
            ],
            "type": "heatmap"
           }
          ],
          "heatmapgl": [
           {
            "colorbar": {
             "outlinewidth": 0,
             "ticks": ""
            },
            "colorscale": [
             [
              0,
              "#0d0887"
             ],
             [
              0.1111111111111111,
              "#46039f"
             ],
             [
              0.2222222222222222,
              "#7201a8"
             ],
             [
              0.3333333333333333,
              "#9c179e"
             ],
             [
              0.4444444444444444,
              "#bd3786"
             ],
             [
              0.5555555555555556,
              "#d8576b"
             ],
             [
              0.6666666666666666,
              "#ed7953"
             ],
             [
              0.7777777777777778,
              "#fb9f3a"
             ],
             [
              0.8888888888888888,
              "#fdca26"
             ],
             [
              1,
              "#f0f921"
             ]
            ],
            "type": "heatmapgl"
           }
          ],
          "histogram": [
           {
            "marker": {
             "pattern": {
              "fillmode": "overlay",
              "size": 10,
              "solidity": 0.2
             }
            },
            "type": "histogram"
           }
          ],
          "histogram2d": [
           {
            "colorbar": {
             "outlinewidth": 0,
             "ticks": ""
            },
            "colorscale": [
             [
              0,
              "#0d0887"
             ],
             [
              0.1111111111111111,
              "#46039f"
             ],
             [
              0.2222222222222222,
              "#7201a8"
             ],
             [
              0.3333333333333333,
              "#9c179e"
             ],
             [
              0.4444444444444444,
              "#bd3786"
             ],
             [
              0.5555555555555556,
              "#d8576b"
             ],
             [
              0.6666666666666666,
              "#ed7953"
             ],
             [
              0.7777777777777778,
              "#fb9f3a"
             ],
             [
              0.8888888888888888,
              "#fdca26"
             ],
             [
              1,
              "#f0f921"
             ]
            ],
            "type": "histogram2d"
           }
          ],
          "histogram2dcontour": [
           {
            "colorbar": {
             "outlinewidth": 0,
             "ticks": ""
            },
            "colorscale": [
             [
              0,
              "#0d0887"
             ],
             [
              0.1111111111111111,
              "#46039f"
             ],
             [
              0.2222222222222222,
              "#7201a8"
             ],
             [
              0.3333333333333333,
              "#9c179e"
             ],
             [
              0.4444444444444444,
              "#bd3786"
             ],
             [
              0.5555555555555556,
              "#d8576b"
             ],
             [
              0.6666666666666666,
              "#ed7953"
             ],
             [
              0.7777777777777778,
              "#fb9f3a"
             ],
             [
              0.8888888888888888,
              "#fdca26"
             ],
             [
              1,
              "#f0f921"
             ]
            ],
            "type": "histogram2dcontour"
           }
          ],
          "mesh3d": [
           {
            "colorbar": {
             "outlinewidth": 0,
             "ticks": ""
            },
            "type": "mesh3d"
           }
          ],
          "parcoords": [
           {
            "line": {
             "colorbar": {
              "outlinewidth": 0,
              "ticks": ""
             }
            },
            "type": "parcoords"
           }
          ],
          "pie": [
           {
            "automargin": true,
            "type": "pie"
           }
          ],
          "scatter": [
           {
            "fillpattern": {
             "fillmode": "overlay",
             "size": 10,
             "solidity": 0.2
            },
            "type": "scatter"
           }
          ],
          "scatter3d": [
           {
            "line": {
             "colorbar": {
              "outlinewidth": 0,
              "ticks": ""
             }
            },
            "marker": {
             "colorbar": {
              "outlinewidth": 0,
              "ticks": ""
             }
            },
            "type": "scatter3d"
           }
          ],
          "scattercarpet": [
           {
            "marker": {
             "colorbar": {
              "outlinewidth": 0,
              "ticks": ""
             }
            },
            "type": "scattercarpet"
           }
          ],
          "scattergeo": [
           {
            "marker": {
             "colorbar": {
              "outlinewidth": 0,
              "ticks": ""
             }
            },
            "type": "scattergeo"
           }
          ],
          "scattergl": [
           {
            "marker": {
             "colorbar": {
              "outlinewidth": 0,
              "ticks": ""
             }
            },
            "type": "scattergl"
           }
          ],
          "scattermapbox": [
           {
            "marker": {
             "colorbar": {
              "outlinewidth": 0,
              "ticks": ""
             }
            },
            "type": "scattermapbox"
           }
          ],
          "scatterpolar": [
           {
            "marker": {
             "colorbar": {
              "outlinewidth": 0,
              "ticks": ""
             }
            },
            "type": "scatterpolar"
           }
          ],
          "scatterpolargl": [
           {
            "marker": {
             "colorbar": {
              "outlinewidth": 0,
              "ticks": ""
             }
            },
            "type": "scatterpolargl"
           }
          ],
          "scatterternary": [
           {
            "marker": {
             "colorbar": {
              "outlinewidth": 0,
              "ticks": ""
             }
            },
            "type": "scatterternary"
           }
          ],
          "surface": [
           {
            "colorbar": {
             "outlinewidth": 0,
             "ticks": ""
            },
            "colorscale": [
             [
              0,
              "#0d0887"
             ],
             [
              0.1111111111111111,
              "#46039f"
             ],
             [
              0.2222222222222222,
              "#7201a8"
             ],
             [
              0.3333333333333333,
              "#9c179e"
             ],
             [
              0.4444444444444444,
              "#bd3786"
             ],
             [
              0.5555555555555556,
              "#d8576b"
             ],
             [
              0.6666666666666666,
              "#ed7953"
             ],
             [
              0.7777777777777778,
              "#fb9f3a"
             ],
             [
              0.8888888888888888,
              "#fdca26"
             ],
             [
              1,
              "#f0f921"
             ]
            ],
            "type": "surface"
           }
          ],
          "table": [
           {
            "cells": {
             "fill": {
              "color": "#EBF0F8"
             },
             "line": {
              "color": "white"
             }
            },
            "header": {
             "fill": {
              "color": "#C8D4E3"
             },
             "line": {
              "color": "white"
             }
            },
            "type": "table"
           }
          ]
         },
         "layout": {
          "annotationdefaults": {
           "arrowcolor": "#2a3f5f",
           "arrowhead": 0,
           "arrowwidth": 1
          },
          "autotypenumbers": "strict",
          "coloraxis": {
           "colorbar": {
            "outlinewidth": 0,
            "ticks": ""
           }
          },
          "colorscale": {
           "diverging": [
            [
             0,
             "#8e0152"
            ],
            [
             0.1,
             "#c51b7d"
            ],
            [
             0.2,
             "#de77ae"
            ],
            [
             0.3,
             "#f1b6da"
            ],
            [
             0.4,
             "#fde0ef"
            ],
            [
             0.5,
             "#f7f7f7"
            ],
            [
             0.6,
             "#e6f5d0"
            ],
            [
             0.7,
             "#b8e186"
            ],
            [
             0.8,
             "#7fbc41"
            ],
            [
             0.9,
             "#4d9221"
            ],
            [
             1,
             "#276419"
            ]
           ],
           "sequential": [
            [
             0,
             "#0d0887"
            ],
            [
             0.1111111111111111,
             "#46039f"
            ],
            [
             0.2222222222222222,
             "#7201a8"
            ],
            [
             0.3333333333333333,
             "#9c179e"
            ],
            [
             0.4444444444444444,
             "#bd3786"
            ],
            [
             0.5555555555555556,
             "#d8576b"
            ],
            [
             0.6666666666666666,
             "#ed7953"
            ],
            [
             0.7777777777777778,
             "#fb9f3a"
            ],
            [
             0.8888888888888888,
             "#fdca26"
            ],
            [
             1,
             "#f0f921"
            ]
           ],
           "sequentialminus": [
            [
             0,
             "#0d0887"
            ],
            [
             0.1111111111111111,
             "#46039f"
            ],
            [
             0.2222222222222222,
             "#7201a8"
            ],
            [
             0.3333333333333333,
             "#9c179e"
            ],
            [
             0.4444444444444444,
             "#bd3786"
            ],
            [
             0.5555555555555556,
             "#d8576b"
            ],
            [
             0.6666666666666666,
             "#ed7953"
            ],
            [
             0.7777777777777778,
             "#fb9f3a"
            ],
            [
             0.8888888888888888,
             "#fdca26"
            ],
            [
             1,
             "#f0f921"
            ]
           ]
          },
          "colorway": [
           "#636efa",
           "#EF553B",
           "#00cc96",
           "#ab63fa",
           "#FFA15A",
           "#19d3f3",
           "#FF6692",
           "#B6E880",
           "#FF97FF",
           "#FECB52"
          ],
          "font": {
           "color": "#2a3f5f"
          },
          "geo": {
           "bgcolor": "white",
           "lakecolor": "white",
           "landcolor": "#E5ECF6",
           "showlakes": true,
           "showland": true,
           "subunitcolor": "white"
          },
          "hoverlabel": {
           "align": "left"
          },
          "hovermode": "closest",
          "mapbox": {
           "style": "light"
          },
          "paper_bgcolor": "white",
          "plot_bgcolor": "#E5ECF6",
          "polar": {
           "angularaxis": {
            "gridcolor": "white",
            "linecolor": "white",
            "ticks": ""
           },
           "bgcolor": "#E5ECF6",
           "radialaxis": {
            "gridcolor": "white",
            "linecolor": "white",
            "ticks": ""
           }
          },
          "scene": {
           "xaxis": {
            "backgroundcolor": "#E5ECF6",
            "gridcolor": "white",
            "gridwidth": 2,
            "linecolor": "white",
            "showbackground": true,
            "ticks": "",
            "zerolinecolor": "white"
           },
           "yaxis": {
            "backgroundcolor": "#E5ECF6",
            "gridcolor": "white",
            "gridwidth": 2,
            "linecolor": "white",
            "showbackground": true,
            "ticks": "",
            "zerolinecolor": "white"
           },
           "zaxis": {
            "backgroundcolor": "#E5ECF6",
            "gridcolor": "white",
            "gridwidth": 2,
            "linecolor": "white",
            "showbackground": true,
            "ticks": "",
            "zerolinecolor": "white"
           }
          },
          "shapedefaults": {
           "line": {
            "color": "#2a3f5f"
           }
          },
          "ternary": {
           "aaxis": {
            "gridcolor": "white",
            "linecolor": "white",
            "ticks": ""
           },
           "baxis": {
            "gridcolor": "white",
            "linecolor": "white",
            "ticks": ""
           },
           "bgcolor": "#E5ECF6",
           "caxis": {
            "gridcolor": "white",
            "linecolor": "white",
            "ticks": ""
           }
          },
          "title": {
           "x": 0.05
          },
          "xaxis": {
           "automargin": true,
           "gridcolor": "white",
           "linecolor": "white",
           "ticks": "",
           "title": {
            "standoff": 15
           },
           "zerolinecolor": "white",
           "zerolinewidth": 2
          },
          "yaxis": {
           "automargin": true,
           "gridcolor": "white",
           "linecolor": "white",
           "ticks": "",
           "title": {
            "standoff": 15
           },
           "zerolinecolor": "white",
           "zerolinewidth": 2
          }
         }
        },
        "title": {
         "font": {
          "color": "#D9D9D9"
         },
         "text": "Прогноз vs Реальные значения (Валидация) для meanpressure"
        },
        "xaxis": {
         "gridcolor": "#434343",
         "showgrid": true,
         "tickfont": {
          "color": "#C2C2C2"
         },
         "title": {
          "font": {
           "color": "#D9D9D9"
          },
          "text": "Время"
         },
         "zerolinecolor": "#666570"
        },
        "yaxis": {
         "gridcolor": "#434343",
         "showgrid": true,
         "tickfont": {
          "color": "#C2C2C2"
         },
         "title": {
          "font": {
           "color": "#D9D9D9"
          },
          "text": "Значение"
         },
         "zerolinecolor": "#666570"
        }
       }
      },
      "text/html": [
       "<div>                            <div id=\"3c6064f6-9d51-422e-9f19-d1cce7ef1eff\" class=\"plotly-graph-div\" style=\"height:525px; width:100%;\"></div>            <script type=\"text/javascript\">                require([\"plotly\"], function(Plotly) {                    window.PLOTLYENV=window.PLOTLYENV || {};\n",
       "                    window.PLOTLYENV.BASE_URL='https://plot.ly';                                    if (document.getElementById(\"3c6064f6-9d51-422e-9f19-d1cce7ef1eff\")) {                    Plotly.newPlot(                        \"3c6064f6-9d51-422e-9f19-d1cce7ef1eff\",                        [{\"line\":{\"color\":\"rgba(255, 153, 51, 1.0)\",\"dash\":\"solid\",\"shape\":\"linear\",\"width\":1.3},\"mode\":\"lines\",\"name\":\"Actual (Validation)\",\"text\":\"\",\"x\":[0,1,2,3,4,5,6,7,8,9,10,11,12,13,14,15,16,17,18,19,20,21,22,23,24,25,26,27,28,29,30,31,32,33,34,35,36,37,38,39,40,41,42,43,44,45,46,47,48,49,50,51,52,53,54,55,56,57,58,59,60,61,62,63,64,65,66,67,68,69,70,71,72,73,74,75,76,77,78,79,80,81,82,83,84,85,86,87,88,89,90,91,92,93,94,95,96,97,98,99,100,101,102,103,104,105,106,107,108],\"y\":[1017.3333333333334,1014.7727272727273,1014.375,1018.55,1018.952380952381,1019.8888888888888,1019.7777777777778,1019.3684210526316,1020.529411764706,1021.84,1021.1304347826087,1020.15,1021.3888888888888,1024.9583333333335,1025.8095238095239,1024.7894736842104,1023.4782608695652,1024.04,1022.8235294117648,1021.8695652173913,1021.4,1020.7857142857144,1021.125,1022.6363636363636,1020.3888888888888,1018.8333333333334,1018.5,1020.5,1021.9090909090908,1020.7272727272727,1017.4,1017.2105263157896,1019.0,1019.125,1018.6,1019.375,1018.6666666666666,1019.625,1022.625,1024.5555555555557,1024.375,1023.5714285714286,1020.625,1019.5,1019.25,1016.0,1008.375,1010.4166666666666,1015.25,1018.25,1019.125,1017.2857142857144,1015.375,1017.25,1016.1111111111112,1015.9230769230768,1015.15,1013.625,1013.0,1013.5,1013.3333333333334,1010.375,1011.9090909090908,1010.3571428571428,1009.875,1012.8,1017.75,1017.8888888888888,1019.5555555555557,1017.125,1014.1,1013.7,1012.8461538461538,1014.8888888888888,1015.5555555555557,1014.75,1012.75,1011.875,1013.5833333333334,1012.875,1013.2,1012.5,1012.0,1010.125,1010.1428571428572,1010.5,1008.0,1007.25,1007.25,1010.2,1008.0,1005.8888888888888,1010.375,1013.375,1013.625,1011.5714285714286,1009.25,1008.875,1009.7777777777778,1007.625,1005.4444444444443,1006.25,1007.4444444444443,1006.1111111111112,1003.875,1001.625,1002.875,1004.6,1005.125],\"type\":\"scatter\"},{\"line\":{\"color\":\"rgba(55, 128, 191, 1.0)\",\"dash\":\"solid\",\"shape\":\"linear\",\"width\":1.3},\"mode\":\"lines\",\"name\":\"Predicted (Validation)\",\"text\":\"\",\"x\":[0,1,2,3,4,5,6,7,8,9,10,11,12,13,14,15,16,17,18,19,20,21,22,23,24,25,26,27,28,29,30,31,32,33,34,35,36,37,38,39,40,41,42,43,44,45,46,47,48,49,50,51,52,53,54,55,56,57,58,59,60,61,62,63,64,65,66,67,68,69,70,71,72,73,74,75,76,77,78,79,80,81,82,83,84,85,86,87,88,89,90,91,92,93,94,95,96,97,98,99,100,101,102,103,104,105,106,107,108],\"y\":[1014.8910522460938,1014.8391723632812,1014.4168090820312,1018.665283203125,1019.1183471679688,1019.9338989257812,1019.864013671875,1019.3922729492188,1020.5907592773438,1021.8715209960938,1021.1705322265625,1020.224609375,1021.5323486328125,1024.9317626953125,1025.626953125,1024.8109130859375,1023.4960327148438,1023.9637451171875,1022.7454223632812,1021.9443969726562,1021.5478515625,1020.9028930664062,1021.2247314453125,1022.703125,1020.4434814453125,1018.9063720703125,1018.6077270507812,1020.6119995117188,1021.935791015625,1020.795166015625,1017.3680419921875,1017.320556640625,1019.06982421875,1019.3276977539062,1018.655029296875,1019.4552001953125,1018.7621459960938,1019.7271728515625,1022.6986694335938,1024.626708984375,1024.3787841796875,1023.715576171875,1020.778564453125,1019.5552368164062,1019.346923828125,1015.9815063476562,1008.8834228515625,1010.6017456054688,1014.9979858398438,1018.576416015625,1019.5684204101562,1017.35693359375,1015.391845703125,1017.3466796875,1016.203369140625,1016.0643920898438,1015.3290405273438,1013.6187744140625,1013.017822265625,1013.5729370117188,1013.3936157226562,1010.4927368164062,1012.0340576171875,1010.5851440429688,1010.0807495117188,1012.8471069335938,1017.817138671875,1018.0633544921875,1019.7280883789062,1017.167724609375,1014.2466430664062,1013.8357543945312,1012.89599609375,1014.9611206054688,1015.6541137695312,1014.8159790039062,1012.8170776367188,1011.9730834960938,1013.6544189453125,1012.9107055664062,1013.2899780273438,1012.6005249023438,1012.1052856445312,1010.2911987304688,1010.3291015625,1010.5707397460938,1008.1575317382812,1007.3511352539062,1007.5205688476562,1010.3678588867188,1008.2630615234375,1005.8905639648438,1010.4515380859375,1013.34765625,1013.8645629882812,1011.5916137695312,1009.277587890625,1009.0686645507812,1009.93408203125,1007.8465576171875,1005.5730590820312,1006.4500122070312,1007.7083740234375,1006.3457641601562,1004.1655883789062,1001.711669921875,1003.0928955078125,1004.7804565429688,1005.3739624023438],\"type\":\"scatter\"}],                        {\"legend\":{\"bgcolor\":\"#151516\",\"font\":{\"color\":\"#D9D9D9\"}},\"paper_bgcolor\":\"#151516\",\"plot_bgcolor\":\"#151516\",\"template\":{\"data\":{\"barpolar\":[{\"marker\":{\"line\":{\"color\":\"#E5ECF6\",\"width\":0.5},\"pattern\":{\"fillmode\":\"overlay\",\"size\":10,\"solidity\":0.2}},\"type\":\"barpolar\"}],\"bar\":[{\"error_x\":{\"color\":\"#2a3f5f\"},\"error_y\":{\"color\":\"#2a3f5f\"},\"marker\":{\"line\":{\"color\":\"#E5ECF6\",\"width\":0.5},\"pattern\":{\"fillmode\":\"overlay\",\"size\":10,\"solidity\":0.2}},\"type\":\"bar\"}],\"carpet\":[{\"aaxis\":{\"endlinecolor\":\"#2a3f5f\",\"gridcolor\":\"white\",\"linecolor\":\"white\",\"minorgridcolor\":\"white\",\"startlinecolor\":\"#2a3f5f\"},\"baxis\":{\"endlinecolor\":\"#2a3f5f\",\"gridcolor\":\"white\",\"linecolor\":\"white\",\"minorgridcolor\":\"white\",\"startlinecolor\":\"#2a3f5f\"},\"type\":\"carpet\"}],\"choropleth\":[{\"colorbar\":{\"outlinewidth\":0,\"ticks\":\"\"},\"type\":\"choropleth\"}],\"contourcarpet\":[{\"colorbar\":{\"outlinewidth\":0,\"ticks\":\"\"},\"type\":\"contourcarpet\"}],\"contour\":[{\"colorbar\":{\"outlinewidth\":0,\"ticks\":\"\"},\"colorscale\":[[0.0,\"#0d0887\"],[0.1111111111111111,\"#46039f\"],[0.2222222222222222,\"#7201a8\"],[0.3333333333333333,\"#9c179e\"],[0.4444444444444444,\"#bd3786\"],[0.5555555555555556,\"#d8576b\"],[0.6666666666666666,\"#ed7953\"],[0.7777777777777778,\"#fb9f3a\"],[0.8888888888888888,\"#fdca26\"],[1.0,\"#f0f921\"]],\"type\":\"contour\"}],\"heatmapgl\":[{\"colorbar\":{\"outlinewidth\":0,\"ticks\":\"\"},\"colorscale\":[[0.0,\"#0d0887\"],[0.1111111111111111,\"#46039f\"],[0.2222222222222222,\"#7201a8\"],[0.3333333333333333,\"#9c179e\"],[0.4444444444444444,\"#bd3786\"],[0.5555555555555556,\"#d8576b\"],[0.6666666666666666,\"#ed7953\"],[0.7777777777777778,\"#fb9f3a\"],[0.8888888888888888,\"#fdca26\"],[1.0,\"#f0f921\"]],\"type\":\"heatmapgl\"}],\"heatmap\":[{\"colorbar\":{\"outlinewidth\":0,\"ticks\":\"\"},\"colorscale\":[[0.0,\"#0d0887\"],[0.1111111111111111,\"#46039f\"],[0.2222222222222222,\"#7201a8\"],[0.3333333333333333,\"#9c179e\"],[0.4444444444444444,\"#bd3786\"],[0.5555555555555556,\"#d8576b\"],[0.6666666666666666,\"#ed7953\"],[0.7777777777777778,\"#fb9f3a\"],[0.8888888888888888,\"#fdca26\"],[1.0,\"#f0f921\"]],\"type\":\"heatmap\"}],\"histogram2dcontour\":[{\"colorbar\":{\"outlinewidth\":0,\"ticks\":\"\"},\"colorscale\":[[0.0,\"#0d0887\"],[0.1111111111111111,\"#46039f\"],[0.2222222222222222,\"#7201a8\"],[0.3333333333333333,\"#9c179e\"],[0.4444444444444444,\"#bd3786\"],[0.5555555555555556,\"#d8576b\"],[0.6666666666666666,\"#ed7953\"],[0.7777777777777778,\"#fb9f3a\"],[0.8888888888888888,\"#fdca26\"],[1.0,\"#f0f921\"]],\"type\":\"histogram2dcontour\"}],\"histogram2d\":[{\"colorbar\":{\"outlinewidth\":0,\"ticks\":\"\"},\"colorscale\":[[0.0,\"#0d0887\"],[0.1111111111111111,\"#46039f\"],[0.2222222222222222,\"#7201a8\"],[0.3333333333333333,\"#9c179e\"],[0.4444444444444444,\"#bd3786\"],[0.5555555555555556,\"#d8576b\"],[0.6666666666666666,\"#ed7953\"],[0.7777777777777778,\"#fb9f3a\"],[0.8888888888888888,\"#fdca26\"],[1.0,\"#f0f921\"]],\"type\":\"histogram2d\"}],\"histogram\":[{\"marker\":{\"pattern\":{\"fillmode\":\"overlay\",\"size\":10,\"solidity\":0.2}},\"type\":\"histogram\"}],\"mesh3d\":[{\"colorbar\":{\"outlinewidth\":0,\"ticks\":\"\"},\"type\":\"mesh3d\"}],\"parcoords\":[{\"line\":{\"colorbar\":{\"outlinewidth\":0,\"ticks\":\"\"}},\"type\":\"parcoords\"}],\"pie\":[{\"automargin\":true,\"type\":\"pie\"}],\"scatter3d\":[{\"line\":{\"colorbar\":{\"outlinewidth\":0,\"ticks\":\"\"}},\"marker\":{\"colorbar\":{\"outlinewidth\":0,\"ticks\":\"\"}},\"type\":\"scatter3d\"}],\"scattercarpet\":[{\"marker\":{\"colorbar\":{\"outlinewidth\":0,\"ticks\":\"\"}},\"type\":\"scattercarpet\"}],\"scattergeo\":[{\"marker\":{\"colorbar\":{\"outlinewidth\":0,\"ticks\":\"\"}},\"type\":\"scattergeo\"}],\"scattergl\":[{\"marker\":{\"colorbar\":{\"outlinewidth\":0,\"ticks\":\"\"}},\"type\":\"scattergl\"}],\"scattermapbox\":[{\"marker\":{\"colorbar\":{\"outlinewidth\":0,\"ticks\":\"\"}},\"type\":\"scattermapbox\"}],\"scatterpolargl\":[{\"marker\":{\"colorbar\":{\"outlinewidth\":0,\"ticks\":\"\"}},\"type\":\"scatterpolargl\"}],\"scatterpolar\":[{\"marker\":{\"colorbar\":{\"outlinewidth\":0,\"ticks\":\"\"}},\"type\":\"scatterpolar\"}],\"scatter\":[{\"fillpattern\":{\"fillmode\":\"overlay\",\"size\":10,\"solidity\":0.2},\"type\":\"scatter\"}],\"scatterternary\":[{\"marker\":{\"colorbar\":{\"outlinewidth\":0,\"ticks\":\"\"}},\"type\":\"scatterternary\"}],\"surface\":[{\"colorbar\":{\"outlinewidth\":0,\"ticks\":\"\"},\"colorscale\":[[0.0,\"#0d0887\"],[0.1111111111111111,\"#46039f\"],[0.2222222222222222,\"#7201a8\"],[0.3333333333333333,\"#9c179e\"],[0.4444444444444444,\"#bd3786\"],[0.5555555555555556,\"#d8576b\"],[0.6666666666666666,\"#ed7953\"],[0.7777777777777778,\"#fb9f3a\"],[0.8888888888888888,\"#fdca26\"],[1.0,\"#f0f921\"]],\"type\":\"surface\"}],\"table\":[{\"cells\":{\"fill\":{\"color\":\"#EBF0F8\"},\"line\":{\"color\":\"white\"}},\"header\":{\"fill\":{\"color\":\"#C8D4E3\"},\"line\":{\"color\":\"white\"}},\"type\":\"table\"}]},\"layout\":{\"annotationdefaults\":{\"arrowcolor\":\"#2a3f5f\",\"arrowhead\":0,\"arrowwidth\":1},\"autotypenumbers\":\"strict\",\"coloraxis\":{\"colorbar\":{\"outlinewidth\":0,\"ticks\":\"\"}},\"colorscale\":{\"diverging\":[[0,\"#8e0152\"],[0.1,\"#c51b7d\"],[0.2,\"#de77ae\"],[0.3,\"#f1b6da\"],[0.4,\"#fde0ef\"],[0.5,\"#f7f7f7\"],[0.6,\"#e6f5d0\"],[0.7,\"#b8e186\"],[0.8,\"#7fbc41\"],[0.9,\"#4d9221\"],[1,\"#276419\"]],\"sequential\":[[0.0,\"#0d0887\"],[0.1111111111111111,\"#46039f\"],[0.2222222222222222,\"#7201a8\"],[0.3333333333333333,\"#9c179e\"],[0.4444444444444444,\"#bd3786\"],[0.5555555555555556,\"#d8576b\"],[0.6666666666666666,\"#ed7953\"],[0.7777777777777778,\"#fb9f3a\"],[0.8888888888888888,\"#fdca26\"],[1.0,\"#f0f921\"]],\"sequentialminus\":[[0.0,\"#0d0887\"],[0.1111111111111111,\"#46039f\"],[0.2222222222222222,\"#7201a8\"],[0.3333333333333333,\"#9c179e\"],[0.4444444444444444,\"#bd3786\"],[0.5555555555555556,\"#d8576b\"],[0.6666666666666666,\"#ed7953\"],[0.7777777777777778,\"#fb9f3a\"],[0.8888888888888888,\"#fdca26\"],[1.0,\"#f0f921\"]]},\"colorway\":[\"#636efa\",\"#EF553B\",\"#00cc96\",\"#ab63fa\",\"#FFA15A\",\"#19d3f3\",\"#FF6692\",\"#B6E880\",\"#FF97FF\",\"#FECB52\"],\"font\":{\"color\":\"#2a3f5f\"},\"geo\":{\"bgcolor\":\"white\",\"lakecolor\":\"white\",\"landcolor\":\"#E5ECF6\",\"showlakes\":true,\"showland\":true,\"subunitcolor\":\"white\"},\"hoverlabel\":{\"align\":\"left\"},\"hovermode\":\"closest\",\"mapbox\":{\"style\":\"light\"},\"paper_bgcolor\":\"white\",\"plot_bgcolor\":\"#E5ECF6\",\"polar\":{\"angularaxis\":{\"gridcolor\":\"white\",\"linecolor\":\"white\",\"ticks\":\"\"},\"bgcolor\":\"#E5ECF6\",\"radialaxis\":{\"gridcolor\":\"white\",\"linecolor\":\"white\",\"ticks\":\"\"}},\"scene\":{\"xaxis\":{\"backgroundcolor\":\"#E5ECF6\",\"gridcolor\":\"white\",\"gridwidth\":2,\"linecolor\":\"white\",\"showbackground\":true,\"ticks\":\"\",\"zerolinecolor\":\"white\"},\"yaxis\":{\"backgroundcolor\":\"#E5ECF6\",\"gridcolor\":\"white\",\"gridwidth\":2,\"linecolor\":\"white\",\"showbackground\":true,\"ticks\":\"\",\"zerolinecolor\":\"white\"},\"zaxis\":{\"backgroundcolor\":\"#E5ECF6\",\"gridcolor\":\"white\",\"gridwidth\":2,\"linecolor\":\"white\",\"showbackground\":true,\"ticks\":\"\",\"zerolinecolor\":\"white\"}},\"shapedefaults\":{\"line\":{\"color\":\"#2a3f5f\"}},\"ternary\":{\"aaxis\":{\"gridcolor\":\"white\",\"linecolor\":\"white\",\"ticks\":\"\"},\"baxis\":{\"gridcolor\":\"white\",\"linecolor\":\"white\",\"ticks\":\"\"},\"bgcolor\":\"#E5ECF6\",\"caxis\":{\"gridcolor\":\"white\",\"linecolor\":\"white\",\"ticks\":\"\"}},\"title\":{\"x\":0.05},\"xaxis\":{\"automargin\":true,\"gridcolor\":\"white\",\"linecolor\":\"white\",\"ticks\":\"\",\"title\":{\"standoff\":15},\"zerolinecolor\":\"white\",\"zerolinewidth\":2},\"yaxis\":{\"automargin\":true,\"gridcolor\":\"white\",\"linecolor\":\"white\",\"ticks\":\"\",\"title\":{\"standoff\":15},\"zerolinecolor\":\"white\",\"zerolinewidth\":2}}},\"title\":{\"font\":{\"color\":\"#D9D9D9\"},\"text\":\"\\u041f\\u0440\\u043e\\u0433\\u043d\\u043e\\u0437 vs \\u0420\\u0435\\u0430\\u043b\\u044c\\u043d\\u044b\\u0435 \\u0437\\u043d\\u0430\\u0447\\u0435\\u043d\\u0438\\u044f (\\u0412\\u0430\\u043b\\u0438\\u0434\\u0430\\u0446\\u0438\\u044f) \\u0434\\u043b\\u044f meanpressure\"},\"xaxis\":{\"gridcolor\":\"#434343\",\"showgrid\":true,\"tickfont\":{\"color\":\"#C2C2C2\"},\"title\":{\"font\":{\"color\":\"#D9D9D9\"},\"text\":\"\\u0412\\u0440\\u0435\\u043c\\u044f\"},\"zerolinecolor\":\"#666570\"},\"yaxis\":{\"gridcolor\":\"#434343\",\"showgrid\":true,\"tickfont\":{\"color\":\"#C2C2C2\"},\"title\":{\"font\":{\"color\":\"#D9D9D9\"},\"text\":\"\\u0417\\u043d\\u0430\\u0447\\u0435\\u043d\\u0438\\u0435\"},\"zerolinecolor\":\"#666570\"}},                        {\"showLink\": true, \"linkText\": \"Export to plot.ly\", \"plotlyServerURL\": \"https://plot.ly\", \"responsive\": true}                    ).then(function(){\n",
       "                            \n",
       "var gd = document.getElementById('3c6064f6-9d51-422e-9f19-d1cce7ef1eff');\n",
       "var x = new MutationObserver(function (mutations, observer) {{\n",
       "        var display = window.getComputedStyle(gd).display;\n",
       "        if (!display || display === 'none') {{\n",
       "            console.log([gd, 'removed!']);\n",
       "            Plotly.purge(gd);\n",
       "            observer.disconnect();\n",
       "        }}\n",
       "}});\n",
       "\n",
       "// Listen for the removal of the full notebook cells\n",
       "var notebookContainer = gd.closest('#notebook-container');\n",
       "if (notebookContainer) {{\n",
       "    x.observe(notebookContainer, {childList: true});\n",
       "}}\n",
       "\n",
       "// Listen for the clearing of the current output cell\n",
       "var outputEl = gd.closest('.output');\n",
       "if (outputEl) {{\n",
       "    x.observe(outputEl, {childList: true});\n",
       "}}\n",
       "\n",
       "                        })                };                });            </script>        </div>"
      ]
     },
     "metadata": {},
     "output_type": "display_data"
    }
   ],
   "source": [
    "preprocess_meanpressure = PreprocessDataMeanPressure('DailyDelhiClimateTrain.csv', 'meanpressure', look_back=4)\n",
    "preprocess_meanpressure.check_look_back()\n",
    "preprocess_meanpressure.load_preprocess_data()\n",
    "preprocess_meanpressure.create_dataset()\n",
    "X_train_meanpressure, X_test_meanpressure, y_train_meanpressure, y_test_meanpressure = preprocess_meanpressure.split_data()\n",
    "\n",
    "trainer_meanpressure = TrainModel()\n",
    "trainer_meanpressure.build_model_simple_rnn(input_shape=(X_train_meanpressure.shape[1], 1))\n",
    "trainer_meanpressure.train_model(X_train_meanpressure, y_train_meanpressure)\n",
    "\n",
    "predictions_meanpressure, y_test_actual_meanpressure = trainer_meanpressure.evaluate_model(X_test_meanpressure, y_test_meanpressure, preprocess_meanpressure.scaler)\n",
    "trainer_meanpressure.plot_results(predictions_meanpressure, y_test_actual_meanpressure, preprocess_meanpressure.feature_column)\n",
    "\n",
    "validation_meanpressure = ValidationDataMeanPressure('meanpressure', look_back=4, scaler=preprocess_meanpressure.scaler)\n",
    "predictions_val_meanpressure, y_val_actual_meanpressure = validation_meanpressure.load_validation_data('DailyDelhiClimateTest.csv', trainer_meanpressure.model)\n",
    "validation_meanpressure.plot_val_results(predictions_val_meanpressure, y_val_actual_meanpressure)\n"
   ]
  },
  {
   "cell_type": "code",
   "execution_count": null,
   "metadata": {},
   "outputs": [],
   "source": []
  }
 ],
 "metadata": {
  "kernelspec": {
   "display_name": ".arima",
   "language": "python",
   "name": "python3"
  },
  "language_info": {
   "codemirror_mode": {
    "name": "ipython",
    "version": 3
   },
   "file_extension": ".py",
   "mimetype": "text/x-python",
   "name": "python",
   "nbconvert_exporter": "python",
   "pygments_lexer": "ipython3",
   "version": "3.10.6"
  }
 },
 "nbformat": 4,
 "nbformat_minor": 2
}

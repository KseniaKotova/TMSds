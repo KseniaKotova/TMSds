{
 "cells": [
  {
   "cell_type": "markdown",
   "metadata": {},
   "source": [
    "# Task 1\n",
    "### Напишите функцию для разделения строки и преобразования ее в список слов. Пример \"Robin Singh\" ==> [\"Robin\", \"Singh\"]"
   ]
  },
  {
   "cell_type": "code",
   "execution_count": 7,
   "metadata": {},
   "outputs": [
    {
     "name": "stdout",
     "output_type": "stream",
     "text": [
      "['Robin', 'Singh']\n"
     ]
    }
   ],
   "source": [
    "lst = []\n",
    "\n",
    "def st_to_list(st: str) -> list:\n",
    "\n",
    "    lst = st.split(' ')\n",
    "\n",
    "    return lst\n",
    "\n",
    "\n",
    "st = \"Robin Singh\"\n",
    "print(st_to_list(st))"
   ]
  },
  {
   "cell_type": "code",
   "execution_count": 6,
   "metadata": {},
   "outputs": [],
   "source": [
    "assert st_to_list(\"fjdkf wdkfl sdf\") == ['fjdkf', 'wdkfl', 'sdf']\n",
    "assert st_to_list(\"fjdkfwdkflsdf\") == ['fjdkfwdkflsdf']"
   ]
  },
  {
   "cell_type": "markdown",
   "metadata": {},
   "source": [
    "# Task 2\n",
    "### Натан любит кататься на велосипеде. Поскольку Натан знает, как важно избегать обезвоживания, он выпивает 0,5 литра воды за час езды на велосипеде. Вам дано время в часах, и вам нужно вернуть количество литров, которое выпьет Натан, округленное до наименьшего значения.Пример time = 3 ----> litres = 1"
   ]
  },
  {
   "cell_type": "code",
   "execution_count": 5,
   "metadata": {},
   "outputs": [
    {
     "name": "stdout",
     "output_type": "stream",
     "text": [
      "5\n"
     ]
    }
   ],
   "source": [
    "liters = 0\n",
    "\n",
    "def number_of_liters(time: int) -> int:\n",
    "\n",
    "    liters = int(0.5 * time)\n",
    "\n",
    "    return liters\n",
    "\n",
    "\n",
    "time = int(input(\"Time is: \"))\n",
    "print(number_of_liters(time))"
   ]
  },
  {
   "cell_type": "markdown",
   "metadata": {},
   "source": [
    "# Task 3\n",
    "###  Создайте функцию, которая возвращает список целых чисел от n до 1, где n>0. Пример: n=5-->[5,4,3,2,1]"
   ]
  },
  {
   "cell_type": "code",
   "execution_count": 13,
   "metadata": {},
   "outputs": [
    {
     "name": "stdout",
     "output_type": "stream",
     "text": [
      "[9, 8, 7, 6, 5, 4, 3, 2, 1]\n"
     ]
    }
   ],
   "source": [
    "lst = []\n",
    "\n",
    "def num_to_list(number: int) -> list:\n",
    "\n",
    "    for num in range(number, 0, -1):\n",
    "        lst.append(num)\n",
    "\n",
    "    return lst\n",
    "\n",
    "number = int(input(\"Number: \"))\n",
    "print(num_to_list(number))"
   ]
  },
  {
   "cell_type": "markdown",
   "metadata": {},
   "source": [
    "# Task 4\n",
    "### Учитывая год, верните столетие, в котором он находится. Пример 1705 --> 18 1900 --> 19 1601 --> 17"
   ]
  },
  {
   "cell_type": "code",
   "execution_count": 16,
   "metadata": {},
   "outputs": [
    {
     "name": "stdout",
     "output_type": "stream",
     "text": [
      "10\n"
     ]
    }
   ],
   "source": [
    "def find_century(year: int) -> int:\n",
    "\n",
    "    if year % 100 == 0:\n",
    "        return year // 100 \n",
    "    elif year % 100 != 0:\n",
    "        return year // 100 + 1\n",
    "    else:\n",
    "        print(\"Something went wrong\")\n",
    "\n",
    "\n",
    "year = int(input(\"Year is: \"))\n",
    "print(find_century(year))"
   ]
  },
  {
   "cell_type": "code",
   "execution_count": 17,
   "metadata": {},
   "outputs": [],
   "source": [
    "assert find_century(1705) == 18\n",
    "assert find_century(1900) == 19\n",
    "assert find_century(1601) == 17"
   ]
  },
  {
   "cell_type": "markdown",
   "metadata": {},
   "source": [
    "# Task 5\n",
    "### Учитывая случайное неотрицательное число, вам необходимо вернуть цифры этого числа в массиве в обратном порядке. 35231 => [1,3,2,5,3]"
   ]
  },
  {
   "cell_type": "code",
   "execution_count": 36,
   "metadata": {},
   "outputs": [
    {
     "name": "stdout",
     "output_type": "stream",
     "text": [
      "[1, 3, 2, 5, 3]\n"
     ]
    }
   ],
   "source": [
    "lst = []\n",
    "\n",
    "def num_to_reverse(number: int) -> list:\n",
    "\n",
    "    if number > 0:    \n",
    "        for i in str(number):\n",
    "            lst.append(int(i))\n",
    "\n",
    "    return lst[::-1]\n",
    "\n",
    "number = 35231\n",
    "print(num_to_reverse(number))"
   ]
  },
  {
   "cell_type": "markdown",
   "metadata": {},
   "source": [
    "# Task 6\n",
    "### Получить квадратные матрицы порядка n (через список как на занятии), элементами которых являются заданные действительные числа 1, 2, ..., n*n, расположенные в ней по схемам, которые приведены на рисунка"
   ]
  },
  {
   "cell_type": "code",
   "execution_count": 53,
   "metadata": {},
   "outputs": [],
   "source": [
    "import numpy as np"
   ]
  },
  {
   "attachments": {
    "image.png": {
     "image/png": "[encoded data removed]"
    }
   },
   "cell_type": "markdown",
   "metadata": {},
   "source": [
    "![image.png](attachment:image.png)"
   ]
  },
  {
   "cell_type": "code",
   "execution_count": 56,
   "metadata": {},
   "outputs": [
    {
     "data": {
      "text/plain": [
       "array([[10, 19, 20, 29, 30],\n",
       "       [11, 18, 21, 28, 31],\n",
       "       [12, 17, 22, 27, 32],\n",
       "       [13, 16, 23, 26, 33],\n",
       "       [14, 15, 24, 25, 34]])"
      ]
     },
     "execution_count": 56,
     "metadata": {},
     "output_type": "execute_result"
    }
   ],
   "source": [
    "size = 5\n",
    "matrix = []\n",
    "\n",
    "counter = 10\n",
    "\n",
    "for i in range(size):\n",
    "    temp = []\n",
    "    for j in range(size):\n",
    "        temp.append(counter)\n",
    "        counter += 1\n",
    "    if i % 2 != 0:\n",
    "        temp = temp[::-1]\n",
    "    matrix.append(temp)\n",
    "\n",
    "np.array(matrix).T"
   ]
  },
  {
   "attachments": {
    "image.png": {
     "image/png": "[encoded data removed]"
    }
   },
   "cell_type": "markdown",
   "metadata": {},
   "source": [
    "![image.png](attachment:image.png)"
   ]
  },
  {
   "cell_type": "code",
   "execution_count": 57,
   "metadata": {},
   "outputs": [
    {
     "data": {
      "text/plain": [
       "[[10, 11, 12, 13, 14],\n",
       " [19, 18, 17, 16, 15],\n",
       " [20, 21, 22, 23, 24],\n",
       " [29, 28, 27, 26, 25],\n",
       " [30, 31, 32, 33, 34]]"
      ]
     },
     "execution_count": 57,
     "metadata": {},
     "output_type": "execute_result"
    }
   ],
   "source": [
    "size = 5\n",
    "matrix = []\n",
    "\n",
    "counter = 10\n",
    "\n",
    "for i in range(size):\n",
    "    temp = []\n",
    "    for j in range(size):\n",
    "        temp.append(counter)\n",
    "        counter += 1\n",
    "    if i % 2 != 0:            #  1, 3\n",
    "        temp = temp[::-1]\n",
    "    matrix.append(temp)\n",
    "\n",
    "\n",
    "matrix"
   ]
  }
 ],
 "metadata": {
  "kernelspec": {
   "display_name": "Python 3",
   "language": "python",
   "name": "python3"
  },
  "language_info": {
   "codemirror_mode": {
    "name": "ipython",
    "version": 3
   },
   "file_extension": ".py",
   "mimetype": "text/x-python",
   "name": "python",
   "nbconvert_exporter": "python",
   "pygments_lexer": "ipython3",
   "version": "3.10.6"
  }
 },
 "nbformat": 4,
 "nbformat_minor": 2
}

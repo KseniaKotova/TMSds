{
 "cells": [
  {
   "cell_type": "markdown",
   "metadata": {},
   "source": [
    "### Найти среднее значение элементов матрицы, расположенных в песочных часах"
   ]
  },
  {
   "cell_type": "code",
   "execution_count": 70,
   "metadata": {},
   "outputs": [],
   "source": [
    "import random\n",
    "import numpy as np"
   ]
  },
  {
   "cell_type": "code",
   "execution_count": 176,
   "metadata": {},
   "outputs": [],
   "source": [
    "def make_matrix(size: int, step: int, start: int) -> list:\n",
    "\n",
    "  lst = []\n",
    "  for i in range(size):\n",
    "    temp = []\n",
    "    for j in range(size):\n",
    "      temp.append(start)\n",
    "      start += step\n",
    "    lst.append(temp)\n",
    "  \n",
    "  return lst\n",
    "\n",
    "def make_upper(lst: list, size: int) -> list:\n",
    "\n",
    "    upper_tr = []\n",
    "\n",
    "    for i in range(size):\n",
    "        for j in range(i, size):\n",
    "            if j <= size - i - 1:\n",
    "                upper_tr.append(lst[i][j])\n",
    "    return upper_tr\n",
    "\n",
    "def make_down(lst: list, size: int) -> list:\n",
    "    down_tr = []\n",
    "\n",
    "    for i in range(size):\n",
    "        for j in range(i+1):\n",
    "            if j >= size - i - 1:\n",
    "                down_tr.append(lst[i][j])\n",
    "    \n",
    "    return down_tr\n"
   ]
  },
  {
   "cell_type": "code",
   "execution_count": 177,
   "metadata": {},
   "outputs": [
    {
     "data": {
      "text/plain": [
       "[[775, 780, 785, 790, 795],\n",
       " [800, 805, 810, 815, 820],\n",
       " [825, 830, 835, 840, 845],\n",
       " [850, 855, 860, 865, 870],\n",
       " [875, 880, 885, 890, 895]]"
      ]
     },
     "execution_count": 177,
     "metadata": {},
     "output_type": "execute_result"
    }
   ],
   "source": [
    "size = 5\n",
    "step = random.randint(1, 9)\n",
    "start = random.randint(100, 1000)\n",
    "\n",
    "matrix = make_matrix(size, step, start)\n",
    "matrix"
   ]
  },
  {
   "cell_type": "code",
   "execution_count": 178,
   "metadata": {},
   "outputs": [
    {
     "name": "stdout",
     "output_type": "stream",
     "text": [
      "Среднее значение 835.0\n"
     ]
    }
   ],
   "source": [
    "upper_tr = make_upper(matrix, size)\n",
    "down_tr = make_down(matrix, size)\n",
    "common_tr = upper_tr + down_tr\n",
    "new_total = set(common_tr)\n",
    "mean_val = sum(new_total)/len(new_total)\n",
    "print(f'Среднее значение {mean_val}')"
   ]
  },
  {
   "cell_type": "markdown",
   "metadata": {},
   "source": [
    "### Найти сумму элементов матрицы, расположенных в песочных часах, с помощью метода filter"
   ]
  },
  {
   "cell_type": "code",
   "execution_count": 157,
   "metadata": {},
   "outputs": [],
   "source": [
    "def make_matrix(size: int, step: int, start: int) -> list:\n",
    "    matrix = []\n",
    "    for i in range(size):\n",
    "        row = []\n",
    "        for j in range(size):\n",
    "            row.append(start)\n",
    "            start += step\n",
    "        matrix.append(row)\n",
    "    return matrix\n",
    "\n",
    "def make_trianglular(matrix: list, size: int) -> list:\n",
    "    triangular_elements = []\n",
    "    for i in range(size):\n",
    "        for j in range(size):\n",
    "            if j <= size - i - 1 and j >= i or j >= size - i - 1 and j <= i:\n",
    "                triangular_elements.append(matrix[i][j])\n",
    "    return triangular_elements\n",
    "\n",
    "def sum_filtered_elements(lst: list, size: int) -> int:\n",
    "    flat_list = [item for sublist in lst for item in sublist]\n",
    "    triangular_elements = list(filter(lambda x: x in make_trianglular(lst, size), flat_list))\n",
    "    return sum(triangular_elements)\n"
   ]
  },
  {
   "cell_type": "code",
   "execution_count": 174,
   "metadata": {},
   "outputs": [
    {
     "data": {
      "text/plain": [
       "[[396, 402, 408, 414],\n",
       " [420, 426, 432, 438],\n",
       " [444, 450, 456, 462],\n",
       " [468, 474, 480, 486]]"
      ]
     },
     "execution_count": 174,
     "metadata": {},
     "output_type": "execute_result"
    }
   ],
   "source": [
    "size = 4\n",
    "step = random.randint(1, 9)\n",
    "start = random.randint(100, 1000)\n",
    "\n",
    "matrix = make_matrix(size, step, start)\n",
    "matrix"
   ]
  },
  {
   "cell_type": "code",
   "execution_count": 175,
   "metadata": {},
   "outputs": [
    {
     "data": {
      "text/plain": [
       "5292"
      ]
     },
     "execution_count": 175,
     "metadata": {},
     "output_type": "execute_result"
    }
   ],
   "source": [
    "sum_of_traingles = sum_filtered_elements(matrix, size)\n",
    "sum_of_traingles"
   ]
  }
 ],
 "metadata": {
  "kernelspec": {
   "display_name": "Python 3",
   "language": "python",
   "name": "python3"
  },
  "language_info": {
   "codemirror_mode": {
    "name": "ipython",
    "version": 3
   },
   "file_extension": ".py",
   "mimetype": "text/x-python",
   "name": "python",
   "nbconvert_exporter": "python",
   "pygments_lexer": "ipython3",
   "version": "3.10.6"
  }
 },
 "nbformat": 4,
 "nbformat_minor": 2
}

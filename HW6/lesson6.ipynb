{
 "cells": [
  {
   "cell_type": "code",
   "execution_count": 1,
   "metadata": {},
   "outputs": [],
   "source": [
    "import random\n",
    "import numpy as np"
   ]
  },
  {
   "cell_type": "code",
   "execution_count": 13,
   "metadata": {},
   "outputs": [
    {
     "data": {
      "text/plain": [
       "[[412, 421, 430, 439, 448],\n",
       " [457, 466, 475, 484, 493],\n",
       " [502, 511, 520, 529, 538],\n",
       " [547, 556, 565, 574, 583],\n",
       " [592, 601, 610, 619, 628]]"
      ]
     },
     "execution_count": 13,
     "metadata": {},
     "output_type": "execute_result"
    }
   ],
   "source": [
    "def make_matrix(size: int, step: int, start: int) -> list:\n",
    "\n",
    "  lst = []\n",
    "  for i in range(size):\n",
    "    temp = []\n",
    "    for j in range(size):\n",
    "      temp.append(start)\n",
    "      start += step\n",
    "    lst.append(temp)\n",
    "  \n",
    "  return lst\n",
    "\n",
    "\n",
    "size = 5\n",
    "step = random.randint(1, 9)\n",
    "start = random.randint(100, 1000)\n",
    "\n",
    "matrix = make_matrix(size, step, start)\n",
    "matrix"
   ]
  },
  {
   "cell_type": "code",
   "execution_count": 18,
   "metadata": {},
   "outputs": [
    {
     "data": {
      "text/plain": [
       "[412, 421, 430, 439, 448, 466, 475, 484, 520]"
      ]
     },
     "execution_count": 18,
     "metadata": {},
     "output_type": "execute_result"
    }
   ],
   "source": [
    "def make_upper(lst: list, size: int) -> list:\n",
    "\n",
    "    upper_tr = []\n",
    "\n",
    "    for i in range(size):\n",
    "        for j in range(i, size):\n",
    "            if j <= size - i - 1:\n",
    "                upper_tr.append(lst[i][j])\n",
    "    return upper_tr\n",
    "\n",
    "upper_tr = make_upper(matrix, size)\n",
    "upper_tr"
   ]
  },
  {
   "cell_type": "code",
   "execution_count": 19,
   "metadata": {},
   "outputs": [
    {
     "data": {
      "text/plain": [
       "[520, 556, 565, 574, 592, 601, 610, 619, 628]"
      ]
     },
     "execution_count": 19,
     "metadata": {},
     "output_type": "execute_result"
    }
   ],
   "source": [
    "def make_down(lst: list, size: int) -> list:\n",
    "    down_tr = []\n",
    "\n",
    "    for i in range(size):\n",
    "        for j in range(i+1):\n",
    "            if j >= size - i - 1:\n",
    "                down_tr.append(lst[i][j])\n",
    "    \n",
    "    return down_tr\n",
    "    \n",
    "down_tr = make_down(matrix, size)\n",
    "down_tr"
   ]
  },
  {
   "cell_type": "code",
   "execution_count": 20,
   "metadata": {},
   "outputs": [
    {
     "name": "stdout",
     "output_type": "stream",
     "text": [
      "[412, 421, 430, 439, 448, 466, 475, 484, 520, 520, 556, 565, 574, 592, 601, 610, 619, 628]\n"
     ]
    },
    {
     "data": {
      "text/plain": [
       "520.0"
      ]
     },
     "execution_count": 20,
     "metadata": {},
     "output_type": "execute_result"
    }
   ],
   "source": [
    "common_tr = upper_tr + down_tr\n",
    "print(common_tr)\n",
    "np.mean(common_tr)"
   ]
  },
  {
   "cell_type": "code",
   "execution_count": null,
   "metadata": {},
   "outputs": [],
   "source": []
  }
 ],
 "metadata": {
  "kernelspec": {
   "display_name": "Python 3",
   "language": "python",
   "name": "python3"
  },
  "language_info": {
   "codemirror_mode": {
    "name": "ipython",
    "version": 3
   },
   "file_extension": ".py",
   "mimetype": "text/x-python",
   "name": "python",
   "nbconvert_exporter": "python",
   "pygments_lexer": "ipython3",
   "version": "3.10.6"
  }
 },
 "nbformat": 4,
 "nbformat_minor": 2
}

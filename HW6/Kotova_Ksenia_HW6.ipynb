{
 "cells": [
  {
   "cell_type": "markdown",
   "metadata": {},
   "source": [
    "# Task 1\n",
    "### В этом небольшом задании вам дается строка чисел, разделенных пробелами, и вы должны вернуть наибольшее и наименьшее число."
   ]
  },
  {
   "cell_type": "code",
   "execution_count": 2,
   "metadata": {},
   "outputs": [
    {
     "name": "stdout",
     "output_type": "stream",
     "text": [
      "Min number is -3\n",
      "Max number is 8\n"
     ]
    }
   ],
   "source": [
    "def min_max_num(numbers: str) -> int:\n",
    "    \n",
    "    numbers = numbers.split()\n",
    "    min_num = int(numbers[0])\n",
    "    max_num = int(numbers[0])\n",
    "\n",
    "    for num in numbers:\n",
    "        num = int(num)\n",
    "        if num < min_num:\n",
    "            min_num = num\n",
    "        if num > max_num:\n",
    "            max_num = num\n",
    "    \n",
    "    return min_num, max_num\n",
    "\n",
    "\n",
    "numbers = '1 5 8 2 -3'\n",
    "min_num, max_num = min_max_num(numbers)\n",
    "print(f\"Min number is {min_num}\")\n",
    "print(f\"Max number is {max_num}\")"
   ]
  },
  {
   "cell_type": "markdown",
   "metadata": {},
   "source": [
    "# Task 2\n",
    "### Банкоматы допускают использование 4- или 6-значных PIN-кодов, а PIN-коды не могут содержать ничего, кроме ровно 4 или ровно 6 цифр. Если функции передана действительная строка PIN-кода, return true, иначе return false.\n"
   ]
  },
  {
   "cell_type": "code",
   "execution_count": 7,
   "metadata": {},
   "outputs": [
    {
     "data": {
      "text/plain": [
       "True"
      ]
     },
     "execution_count": 7,
     "metadata": {},
     "output_type": "execute_result"
    }
   ],
   "source": [
    "def pin_check(pin_str: str) -> bool:\n",
    "    return len(pin_str) in (4, 6) and pin_str.isdigit()\n",
    "\n",
    "pin_check('1237')"
   ]
  },
  {
   "cell_type": "code",
   "execution_count": 8,
   "metadata": {},
   "outputs": [],
   "source": [
    "assert pin_check('aaaa') == False\n",
    "assert pin_check('18654') == False\n",
    "assert pin_check('12df56') == False"
   ]
  },
  {
   "cell_type": "markdown",
   "metadata": {},
   "source": [
    "# Task 3\n",
    "### Учитывая целое число, определите, является ли оно квадратным : В математике квадратное число или идеальный квадрат — это целое число, которое является квадратом целого числа; другими словами, это произведение некоторого целого числа само на себя. На вход список, на выходе список чисел"
   ]
  },
  {
   "cell_type": "code",
   "execution_count": 9,
   "metadata": {},
   "outputs": [
    {
     "data": {
      "text/plain": [
       "[1, 4, 9, 25]"
      ]
     },
     "execution_count": 9,
     "metadata": {},
     "output_type": "execute_result"
    }
   ],
   "source": [
    "def is_squared(num: int) -> bool:\n",
    "    root = int(num ** 0.5)\n",
    "    return root * root == num \n",
    "\n",
    "\n",
    "def check_nums(nums: list) -> list:\n",
    "    return list(filter(is_squared, nums))\n",
    "\n",
    "\n",
    "numbers = [1, 4, 9, 25, 6]\n",
    "check_nums(numbers)"
   ]
  },
  {
   "cell_type": "markdown",
   "metadata": {},
   "source": [
    "# Task 4\n",
    "### Реализуйте функцию unique_in_order, которая принимает в качестве аргумента последовательность и возвращает список элементов без каких-либо элементов с одинаковым значением рядом друг с другом и сохраняет исходный порядок элементов."
   ]
  },
  {
   "cell_type": "code",
   "execution_count": 27,
   "metadata": {},
   "outputs": [
    {
     "name": "stdout",
     "output_type": "stream",
     "text": [
      "Unique sequence: ['a', 'b', 'c', 'd']\n"
     ]
    }
   ],
   "source": [
    "def unique_in_order(seq: str) -> list:\n",
    "    \n",
    "    result = []\n",
    "    seq = seq.lower()\n",
    "\n",
    "    for item, char in enumerate(seq):\n",
    "        if item == 0 or char != seq[item - 1]:\n",
    "            result.append(char)\n",
    "    \n",
    "    return result\n",
    "\n",
    "\n",
    "seq = 'abbcaabccabc'\n",
    "seq1 = 'AAAbbbCCccDd'\n",
    "print(f\"Unique sequence: {unique_in_order(seq1)}\")"
   ]
  },
  {
   "cell_type": "markdown",
   "metadata": {},
   "source": [
    "# Task 5\n",
    "### Просто, учитывая строку слов, верните длину самого короткого слова (слов). Строка никогда не будет пустой, и вам не нужно учитывать разные типы данных."
   ]
  },
  {
   "cell_type": "code",
   "execution_count": 52,
   "metadata": {},
   "outputs": [
    {
     "name": "stdout",
     "output_type": "stream",
     "text": [
      "The smallest word is: do. It's length is: 2\n"
     ]
    }
   ],
   "source": [
    "def filter_punctuation(char: str) -> str:\n",
    "    punc = '!\"#$%&\\'()*+,-./:;<=>?@[\\\\]^_`{|}~'\n",
    "    return char in punc \n",
    "\n",
    "\n",
    "def smallest_word(seq: str) -> int:\n",
    "\n",
    "    seq = ''.join(filter(lambda char: not filter_punctuation(char), seq))\n",
    "    words = seq.split()\n",
    "    min_word = words[0]\n",
    "\n",
    "    for word in words:\n",
    "        if len(word) < len(min_word):\n",
    "            min_word = word\n",
    "        \n",
    "    return len(min_word), min_word\n",
    "\n",
    "\n",
    "sequence = \"Lorem ipsum dolor sit amet, consectetur adipiscing elit, sed do...\"\n",
    "length, min_word = smallest_word(sequence)\n",
    "print(f\"The smallest word is: {min_word}. It's length is: {length}\")\n"
   ]
  },
  {
   "cell_type": "markdown",
   "metadata": {},
   "source": [
    "# Task 6\n",
    "### Учитывая n, возьмите сумму цифр n. Если это значение имеет более одной цифры, продолжайте уменьшать таким образом, пока не получите однозначное число. Входные данные будут неотрицательным целым числом."
   ]
  },
  {
   "cell_type": "code",
   "execution_count": 62,
   "metadata": {},
   "outputs": [
    {
     "data": {
      "text/plain": [
       "4"
      ]
     },
     "execution_count": 62,
     "metadata": {},
     "output_type": "execute_result"
    }
   ],
   "source": [
    "def digital_root(number: int) -> int:\n",
    "\n",
    "    if number < 10:\n",
    "        return number\n",
    "    else:\n",
    "        digits = list(str(number))\n",
    "        sum_of_digits = sum((int(num) for num in digits))\n",
    "\n",
    "        return digital_root(sum_of_digits)\n",
    "\n",
    "\n",
    "digital_root(553)"
   ]
  },
  {
   "cell_type": "markdown",
   "metadata": {},
   "source": [
    "# Task 7\n",
    "### Вам будет предоставлено слово. Ваша задача — вернуть средний символ слова. Если длина слова нечетная, верните средний символ. Если длина слова четная, верните 2 средних символа."
   ]
  },
  {
   "cell_type": "code",
   "execution_count": 61,
   "metadata": {},
   "outputs": [
    {
     "data": {
      "text/plain": [
       "'cd'"
      ]
     },
     "execution_count": 61,
     "metadata": {},
     "output_type": "execute_result"
    }
   ],
   "source": [
    "def mean_char(word: str) -> str:\n",
    "\n",
    "    middle = len(word) // 2\n",
    "\n",
    "    if len(word) % 2 != 0:\n",
    "        return word[middle]\n",
    "    else:\n",
    "        return word[middle - 1 : middle + 1]\n",
    "\n",
    "mean_char(\"abcdee\")"
   ]
  },
  {
   "cell_type": "markdown",
   "metadata": {},
   "source": [
    "# Task 8\n",
    "### Определите функцию, которая принимает целочисленный аргумент и возвращает логическое значение true или false в зависимости от того, является ли целое число простым."
   ]
  },
  {
   "cell_type": "code",
   "execution_count": 65,
   "metadata": {},
   "outputs": [
    {
     "name": "stdout",
     "output_type": "stream",
     "text": [
      "Number 24 is prime: False\n"
     ]
    }
   ],
   "source": [
    "def prime_numb(number: int) -> bool:\n",
    "\n",
    "    if number <= 1:\n",
    "        return False\n",
    "    else:\n",
    "        sqrt_of_numb = int(number ** 0.5)\n",
    "\n",
    "        for i in range(2, sqrt_of_numb + 1):\n",
    "            if number % i == 0:\n",
    "                return False\n",
    "    \n",
    "    return True\n",
    "\n",
    "\n",
    "number = 24\n",
    "is_prime = prime_numb(number)\n",
    "print(f\"Number {number} is prime: {is_prime}\")"
   ]
  },
  {
   "cell_type": "markdown",
   "metadata": {},
   "source": [
    "# Task 9\n",
    "### Учитывая список целых чисел, определите, является ли сумма его элементов нечетной или четной"
   ]
  },
  {
   "cell_type": "code",
   "execution_count": 66,
   "metadata": {},
   "outputs": [],
   "source": [
    "from functools import reduce"
   ]
  },
  {
   "cell_type": "code",
   "execution_count": 68,
   "metadata": {},
   "outputs": [
    {
     "data": {
      "text/plain": [
       "'Sum of digits is 22 - even'"
      ]
     },
     "execution_count": 68,
     "metadata": {},
     "output_type": "execute_result"
    }
   ],
   "source": [
    "def odd_or_even(digits: list) -> str:\n",
    "\n",
    "    sum_of_digits = reduce(lambda x, y: x + y, digits)\n",
    "\n",
    "    if sum_of_digits % 2 == 0:\n",
    "        return f\"Sum of digits is {sum_of_digits} - even\"\n",
    "    else: \n",
    "        return f\"Sum of digits is {sum_of_digits} - odd\"\n",
    "\n",
    "\n",
    "lst = [1, 8, 3, 10]\n",
    "odd_or_even(lst) "
   ]
  }
 ],
 "metadata": {
  "kernelspec": {
   "display_name": "Python 3",
   "language": "python",
   "name": "python3"
  },
  "language_info": {
   "codemirror_mode": {
    "name": "ipython",
    "version": 3
   },
   "file_extension": ".py",
   "mimetype": "text/x-python",
   "name": "python",
   "nbconvert_exporter": "python",
   "pygments_lexer": "ipython3",
   "version": "3.10.6"
  }
 },
 "nbformat": 4,
 "nbformat_minor": 2
}

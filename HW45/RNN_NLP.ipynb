{
  "nbformat": 4,
  "nbformat_minor": 0,
  "metadata": {
    "colab": {
      "provenance": [],
      "gpuType": "T4"
    },
    "kernelspec": {
      "name": "python3",
      "display_name": "Python 3"
    },
    "language_info": {
      "name": "python"
    },
    "accelerator": "GPU"
  },
  "cells": [
    {
      "cell_type": "code",
      "source": [
        "import numpy as np\n",
        "import pandas as pd\n",
        "\n",
        "import collections\n",
        "import re\n",
        "import nltk\n",
        "\n",
        "from tensorflow.keras.layers import Dense, SpatialDropout1D, Conv1D, Embedding, GlobalMaxPooling1D, Flatten\n",
        "from tensorflow.keras.models import Sequential\n",
        "from tensorflow.keras.preprocessing.sequence import pad_sequences\n",
        "from tensorflow.keras.utils import to_categorical\n",
        "\n",
        "from sklearn.model_selection import train_test_split\n",
        "from sklearn.metrics import accuracy_score"
      ],
      "metadata": {
        "id": "ghU63OKh6Q8o"
      },
      "execution_count": null,
      "outputs": []
    },
    {
      "cell_type": "code",
      "execution_count": null,
      "metadata": {
        "id": "wtOsxXJy5pfl"
      },
      "outputs": [],
      "source": [
        "train_df  = pd.read_table('/content/UMICH_SI650_train_data.txt', names=['sentiment', 'comment'], header=None, delimiter=\"\\t\", quoting=3)"
      ]
    },
    {
      "cell_type": "code",
      "source": [
        "train_df.head()"
      ],
      "metadata": {
        "colab": {
          "base_uri": "https://localhost:8080/",
          "height": 204
        },
        "id": "0fAiGUY38d8L",
        "outputId": "304635a0-e485-4438-daf5-c3b8db16b391"
      },
      "execution_count": null,
      "outputs": [
        {
          "output_type": "execute_result",
          "data": {
            "text/plain": [
              "   sentiment                                            comment\n",
              "0          1            The Da Vinci Code book is just awesome.\n",
              "1          1  this was the first clive cussler i've ever rea...\n",
              "2          1                   i liked the Da Vinci Code a lot.\n",
              "3          1                   i liked the Da Vinci Code a lot.\n",
              "4          1  I liked the Da Vinci Code but it ultimatly did..."
            ],
            "text/html": [
              "\n",
              "  <div id=\"df-954cc8c9-e02a-457c-ba29-f6cdf7858c01\" class=\"colab-df-container\">\n",
              "    <div>\n",
              "<style scoped>\n",
              "    .dataframe tbody tr th:only-of-type {\n",
              "        vertical-align: middle;\n",
              "    }\n",
              "\n",
              "    .dataframe tbody tr th {\n",
              "        vertical-align: top;\n",
              "    }\n",
              "\n",
              "    .dataframe thead th {\n",
              "        text-align: right;\n",
              "    }\n",
              "</style>\n",
              "<table border=\"1\" class=\"dataframe\">\n",
              "  <thead>\n",
              "    <tr style=\"text-align: right;\">\n",
              "      <th></th>\n",
              "      <th>sentiment</th>\n",
              "      <th>comment</th>\n",
              "    </tr>\n",
              "  </thead>\n",
              "  <tbody>\n",
              "    <tr>\n",
              "      <th>0</th>\n",
              "      <td>1</td>\n",
              "      <td>The Da Vinci Code book is just awesome.</td>\n",
              "    </tr>\n",
              "    <tr>\n",
              "      <th>1</th>\n",
              "      <td>1</td>\n",
              "      <td>this was the first clive cussler i've ever rea...</td>\n",
              "    </tr>\n",
              "    <tr>\n",
              "      <th>2</th>\n",
              "      <td>1</td>\n",
              "      <td>i liked the Da Vinci Code a lot.</td>\n",
              "    </tr>\n",
              "    <tr>\n",
              "      <th>3</th>\n",
              "      <td>1</td>\n",
              "      <td>i liked the Da Vinci Code a lot.</td>\n",
              "    </tr>\n",
              "    <tr>\n",
              "      <th>4</th>\n",
              "      <td>1</td>\n",
              "      <td>I liked the Da Vinci Code but it ultimatly did...</td>\n",
              "    </tr>\n",
              "  </tbody>\n",
              "</table>\n",
              "</div>\n",
              "    <div class=\"colab-df-buttons\">\n",
              "\n",
              "  <div class=\"colab-df-container\">\n",
              "    <button class=\"colab-df-convert\" onclick=\"convertToInteractive('df-954cc8c9-e02a-457c-ba29-f6cdf7858c01')\"\n",
              "            title=\"Convert this dataframe to an interactive table.\"\n",
              "            style=\"display:none;\">\n",
              "\n",
              "  <svg xmlns=\"http://www.w3.org/2000/svg\" height=\"24px\" viewBox=\"0 -960 960 960\">\n",
              "    <path d=\"M120-120v-720h720v720H120Zm60-500h600v-160H180v160Zm220 220h160v-160H400v160Zm0 220h160v-160H400v160ZM180-400h160v-160H180v160Zm440 0h160v-160H620v160ZM180-180h160v-160H180v160Zm440 0h160v-160H620v160Z\"/>\n",
              "  </svg>\n",
              "    </button>\n",
              "\n",
              "  <style>\n",
              "    .colab-df-container {\n",
              "      display:flex;\n",
              "      gap: 12px;\n",
              "    }\n",
              "\n",
              "    .colab-df-convert {\n",
              "      background-color: #E8F0FE;\n",
              "      border: none;\n",
              "      border-radius: 50%;\n",
              "      cursor: pointer;\n",
              "      display: none;\n",
              "      fill: #1967D2;\n",
              "      height: 32px;\n",
              "      padding: 0 0 0 0;\n",
              "      width: 32px;\n",
              "    }\n",
              "\n",
              "    .colab-df-convert:hover {\n",
              "      background-color: #E2EBFA;\n",
              "      box-shadow: 0px 1px 2px rgba(60, 64, 67, 0.3), 0px 1px 3px 1px rgba(60, 64, 67, 0.15);\n",
              "      fill: #174EA6;\n",
              "    }\n",
              "\n",
              "    .colab-df-buttons div {\n",
              "      margin-bottom: 4px;\n",
              "    }\n",
              "\n",
              "    [theme=dark] .colab-df-convert {\n",
              "      background-color: #3B4455;\n",
              "      fill: #D2E3FC;\n",
              "    }\n",
              "\n",
              "    [theme=dark] .colab-df-convert:hover {\n",
              "      background-color: #434B5C;\n",
              "      box-shadow: 0px 1px 3px 1px rgba(0, 0, 0, 0.15);\n",
              "      filter: drop-shadow(0px 1px 2px rgba(0, 0, 0, 0.3));\n",
              "      fill: #FFFFFF;\n",
              "    }\n",
              "  </style>\n",
              "\n",
              "    <script>\n",
              "      const buttonEl =\n",
              "        document.querySelector('#df-954cc8c9-e02a-457c-ba29-f6cdf7858c01 button.colab-df-convert');\n",
              "      buttonEl.style.display =\n",
              "        google.colab.kernel.accessAllowed ? 'block' : 'none';\n",
              "\n",
              "      async function convertToInteractive(key) {\n",
              "        const element = document.querySelector('#df-954cc8c9-e02a-457c-ba29-f6cdf7858c01');\n",
              "        const dataTable =\n",
              "          await google.colab.kernel.invokeFunction('convertToInteractive',\n",
              "                                                    [key], {});\n",
              "        if (!dataTable) return;\n",
              "\n",
              "        const docLinkHtml = 'Like what you see? Visit the ' +\n",
              "          '<a target=\"_blank\" href=https://colab.research.google.com/notebooks/data_table.ipynb>data table notebook</a>'\n",
              "          + ' to learn more about interactive tables.';\n",
              "        element.innerHTML = '';\n",
              "        dataTable['output_type'] = 'display_data';\n",
              "        await google.colab.output.renderOutput(dataTable, element);\n",
              "        const docLink = document.createElement('div');\n",
              "        docLink.innerHTML = docLinkHtml;\n",
              "        element.appendChild(docLink);\n",
              "      }\n",
              "    </script>\n",
              "  </div>\n",
              "\n",
              "\n",
              "<div id=\"df-8fc5ccd6-5a83-446c-a683-f2b091da6deb\">\n",
              "  <button class=\"colab-df-quickchart\" onclick=\"quickchart('df-8fc5ccd6-5a83-446c-a683-f2b091da6deb')\"\n",
              "            title=\"Suggest charts\"\n",
              "            style=\"display:none;\">\n",
              "\n",
              "<svg xmlns=\"http://www.w3.org/2000/svg\" height=\"24px\"viewBox=\"0 0 24 24\"\n",
              "     width=\"24px\">\n",
              "    <g>\n",
              "        <path d=\"M19 3H5c-1.1 0-2 .9-2 2v14c0 1.1.9 2 2 2h14c1.1 0 2-.9 2-2V5c0-1.1-.9-2-2-2zM9 17H7v-7h2v7zm4 0h-2V7h2v10zm4 0h-2v-4h2v4z\"/>\n",
              "    </g>\n",
              "</svg>\n",
              "  </button>\n",
              "\n",
              "<style>\n",
              "  .colab-df-quickchart {\n",
              "      --bg-color: #E8F0FE;\n",
              "      --fill-color: #1967D2;\n",
              "      --hover-bg-color: #E2EBFA;\n",
              "      --hover-fill-color: #174EA6;\n",
              "      --disabled-fill-color: #AAA;\n",
              "      --disabled-bg-color: #DDD;\n",
              "  }\n",
              "\n",
              "  [theme=dark] .colab-df-quickchart {\n",
              "      --bg-color: #3B4455;\n",
              "      --fill-color: #D2E3FC;\n",
              "      --hover-bg-color: #434B5C;\n",
              "      --hover-fill-color: #FFFFFF;\n",
              "      --disabled-bg-color: #3B4455;\n",
              "      --disabled-fill-color: #666;\n",
              "  }\n",
              "\n",
              "  .colab-df-quickchart {\n",
              "    background-color: var(--bg-color);\n",
              "    border: none;\n",
              "    border-radius: 50%;\n",
              "    cursor: pointer;\n",
              "    display: none;\n",
              "    fill: var(--fill-color);\n",
              "    height: 32px;\n",
              "    padding: 0;\n",
              "    width: 32px;\n",
              "  }\n",
              "\n",
              "  .colab-df-quickchart:hover {\n",
              "    background-color: var(--hover-bg-color);\n",
              "    box-shadow: 0 1px 2px rgba(60, 64, 67, 0.3), 0 1px 3px 1px rgba(60, 64, 67, 0.15);\n",
              "    fill: var(--button-hover-fill-color);\n",
              "  }\n",
              "\n",
              "  .colab-df-quickchart-complete:disabled,\n",
              "  .colab-df-quickchart-complete:disabled:hover {\n",
              "    background-color: var(--disabled-bg-color);\n",
              "    fill: var(--disabled-fill-color);\n",
              "    box-shadow: none;\n",
              "  }\n",
              "\n",
              "  .colab-df-spinner {\n",
              "    border: 2px solid var(--fill-color);\n",
              "    border-color: transparent;\n",
              "    border-bottom-color: var(--fill-color);\n",
              "    animation:\n",
              "      spin 1s steps(1) infinite;\n",
              "  }\n",
              "\n",
              "  @keyframes spin {\n",
              "    0% {\n",
              "      border-color: transparent;\n",
              "      border-bottom-color: var(--fill-color);\n",
              "      border-left-color: var(--fill-color);\n",
              "    }\n",
              "    20% {\n",
              "      border-color: transparent;\n",
              "      border-left-color: var(--fill-color);\n",
              "      border-top-color: var(--fill-color);\n",
              "    }\n",
              "    30% {\n",
              "      border-color: transparent;\n",
              "      border-left-color: var(--fill-color);\n",
              "      border-top-color: var(--fill-color);\n",
              "      border-right-color: var(--fill-color);\n",
              "    }\n",
              "    40% {\n",
              "      border-color: transparent;\n",
              "      border-right-color: var(--fill-color);\n",
              "      border-top-color: var(--fill-color);\n",
              "    }\n",
              "    60% {\n",
              "      border-color: transparent;\n",
              "      border-right-color: var(--fill-color);\n",
              "    }\n",
              "    80% {\n",
              "      border-color: transparent;\n",
              "      border-right-color: var(--fill-color);\n",
              "      border-bottom-color: var(--fill-color);\n",
              "    }\n",
              "    90% {\n",
              "      border-color: transparent;\n",
              "      border-bottom-color: var(--fill-color);\n",
              "    }\n",
              "  }\n",
              "</style>\n",
              "\n",
              "  <script>\n",
              "    async function quickchart(key) {\n",
              "      const quickchartButtonEl =\n",
              "        document.querySelector('#' + key + ' button');\n",
              "      quickchartButtonEl.disabled = true;  // To prevent multiple clicks.\n",
              "      quickchartButtonEl.classList.add('colab-df-spinner');\n",
              "      try {\n",
              "        const charts = await google.colab.kernel.invokeFunction(\n",
              "            'suggestCharts', [key], {});\n",
              "      } catch (error) {\n",
              "        console.error('Error during call to suggestCharts:', error);\n",
              "      }\n",
              "      quickchartButtonEl.classList.remove('colab-df-spinner');\n",
              "      quickchartButtonEl.classList.add('colab-df-quickchart-complete');\n",
              "    }\n",
              "    (() => {\n",
              "      let quickchartButtonEl =\n",
              "        document.querySelector('#df-8fc5ccd6-5a83-446c-a683-f2b091da6deb button');\n",
              "      quickchartButtonEl.style.display =\n",
              "        google.colab.kernel.accessAllowed ? 'block' : 'none';\n",
              "    })();\n",
              "  </script>\n",
              "</div>\n",
              "    </div>\n",
              "  </div>\n"
            ],
            "application/vnd.google.colaboratory.intrinsic+json": {
              "type": "dataframe",
              "variable_name": "train_df",
              "summary": "{\n  \"name\": \"train_df\",\n  \"rows\": 7086,\n  \"fields\": [\n    {\n      \"column\": \"sentiment\",\n      \"properties\": {\n        \"dtype\": \"number\",\n        \"std\": 0,\n        \"min\": 0,\n        \"max\": 1,\n        \"num_unique_values\": 2,\n        \"samples\": [\n          0,\n          1\n        ],\n        \"semantic_type\": \"\",\n        \"description\": \"\"\n      }\n    },\n    {\n      \"column\": \"comment\",\n      \"properties\": {\n        \"dtype\": \"category\",\n        \"num_unique_values\": 1410,\n        \"samples\": [\n          \"Mission Impossible was amazing.\",\n          \"Because of this project, I fucking hate the Da Vinci Code.\"\n        ],\n        \"semantic_type\": \"\",\n        \"description\": \"\"\n      }\n    }\n  ]\n}"
            }
          },
          "metadata": {},
          "execution_count": 5
        }
      ]
    },
    {
      "cell_type": "code",
      "source": [
        "from gensim.models import Word2Vec\n",
        "\n",
        "nltk.download('punkt')\n",
        "nltk.download('stopwords')\n",
        "nltk.download('wordnet')\n",
        "\n",
        "INPUT_FILE = '/content/UMICH_SI650_train_data.txt'\n",
        "\n",
        "maxlen = 0\n",
        "counter = collections.Counter()\n",
        "\n",
        "with open(file=INPUT_FILE, mode='r', encoding='utf-8') as fin:\n",
        "    stop_words = set(nltk.corpus.stopwords.words('english'))\n",
        "    for line in fin:\n",
        "        label, sentence = line.strip().split('\\t') # убирает пробелы и разделяет на две части предложение в файле, построчно\n",
        "        sentence = re.sub(\"[^a-zA-Z]\", \" \", sentence) # ^начинается и заканчивается (любая буква a-z или A-Z в начале строки)\n",
        "        words = [token.lower() for token in nltk.word_tokenize(sentence) if not token.lower() in stop_words]\n",
        "\n",
        "        if len(words) > maxlen: # поиск макс строки со словами\n",
        "            maxlen = len(words)\n",
        "            if maxlen == 22:\n",
        "              print(words)\n",
        "        for word in words:\n",
        "            counter[word] += 1\n",
        "\n",
        "model = Word2Vec(words, vector_size=100, window=5, min_count=1)\n",
        "embeddings = np.array([np.mean([model.wv[word] for word in sentence], axis=0) for sentence in words])"
      ],
      "metadata": {
        "colab": {
          "base_uri": "https://localhost:8080/"
        },
        "id": "oo2ckNtA6KlA",
        "outputId": "9e95f9d2-eb79-4fd2-b70c-ff32ab061453"
      },
      "execution_count": null,
      "outputs": [
        {
          "output_type": "stream",
          "name": "stderr",
          "text": [
            "[nltk_data] Downloading package punkt to /root/nltk_data...\n",
            "[nltk_data]   Package punkt is already up-to-date!\n",
            "[nltk_data] Downloading package stopwords to /root/nltk_data...\n",
            "[nltk_data]   Package stopwords is already up-to-date!\n",
            "[nltk_data] Downloading package wordnet to /root/nltk_data...\n",
            "[nltk_data]   Package wordnet is already up-to-date!\n",
            "WARNING:gensim.models.word2vec:Each 'sentences' item should be a list of words (usually unicode strings). First item here is instead plain <class 'str'>.\n"
          ]
        },
        {
          "output_type": "stream",
          "name": "stdout",
          "text": [
            "['harry', 'potter', 'dragged', 'draco', 'malfoy', 'trousers', 'past', 'hips', 'sucked', 'throat', 'vigor', 'making', 'whimpering', 'noises', 'panting', 'groaning', 'around', 'blonds', 'rock', 'hard', 'aching', 'cock']\n"
          ]
        }
      ]
    },
    {
      "cell_type": "code",
      "source": [
        "word2index = collections.defaultdict(int) # возвращает новый словарь-подобный объект.\n",
        "VOCAB_SIZE = (train_df.shape[0]) # 7086\n",
        "\n",
        "# часто встречающиеся\n",
        "for wid, word in enumerate(counter.most_common(VOCAB_SIZE)):\n",
        "    word2index[word[0]] = wid + 1 # ключ-значение\n",
        "\n",
        "vocab_sz = len(word2index) + 1 # 1993\n",
        "index2word = {v:k for k, v in word2index.items()} # поменяли ключ-значение\n",
        "\n",
        "print(word2index)\n",
        "print(index2word)"
      ],
      "metadata": {
        "id": "6qyqmnzW7QIZ",
        "colab": {
          "base_uri": "https://localhost:8080/"
        },
        "outputId": "170180be-e7e2-45a8-abd7-d4a319a156d8"
      },
      "execution_count": null,
      "outputs": [
        {
          "output_type": "stream",
          "name": "stdout",
          "text": [
            "defaultdict(<class 'int'>, {'harry': 1, 'potter': 2, 'code': 3, 'da': 4, 'vinci': 5, 'brokeback': 6, 'mountain': 7, 'love': 8, 'awesome': 9, 'mission': 10, 'impossible': 11, 'like': 12, 'movie': 13, 'sucks': 14, 'sucked': 15, 'hate': 16, 'much': 17, 'really': 18, 'movies': 19, 'stupid': 20, 'one': 21, 'know': 22, 'suck': 23, 'loved': 24, 'want': 25, 'right': 26, 'think': 27, 'depressing': 28, 'people': 29, 'would': 30, 'reading': 31, 'horrible': 32, 'series': 33, 'fucking': 34, 'terrible': 35, 'yeah': 36, 'story': 37, 'oh': 38, 'left': 39, 'ok': 40, 'guy': 41, 'start': 42, 'felicia': 43, 'book': 44, 'beautiful': 45, 'good': 46, 'also': 47, 'went': 48, 'read': 49, 'saw': 50, 'first': 51, 'tom': 52, 'thought': 53, 'liked': 54, 'way': 55, 'absolutely': 56, 'well': 57, 'still': 58, 'time': 59, 'got': 60, 'big': 61, 'film': 62, 'heard': 63, 'ever': 64, 'better': 65, 'watch': 66, 'going': 67, 'great': 68, 'seen': 69, 'things': 70, 'said': 71, 'gay': 72, 'last': 73, 'boring': 74, 'watching': 75, 'man': 76, 'wait': 77, 'making': 78, 'never': 79, 'friday': 80, 'excellent': 81, 'friends': 82, 'cool': 83, 'always': 84, 'person': 85, 'opinion': 86, 'anyone': 87, 'na': 88, 'rocks': 89, 'around': 90, 'says': 91, 'cock': 92, 'hard': 93, 'side': 94, 'fun': 95, 'make': 96, 'place': 97, 'take': 98, 'anyway': 99, 'mom': 100, 'worth': 101, 'either': 102, 'knows': 103, 'thats': 104, 'luv': 105, 'wanted': 106, 'dad': 107, 'care': 108, 'freakin': 109, 'character': 110, 'daniel': 111, 'community': 112, 'main': 113, 'hates': 114, 'review': 115, 'b': 116, 'crazy': 117, 'stand': 118, 'begin': 119, 'turned': 120, 'soo': 121, 'gon': 122, 'hill': 123, 'reality': 124, 'bitch': 125, 'table': 126, 'type': 127, 'dies': 128, 'cowboy': 129, 'hat': 130, 'snuck': 131, 'awards': 132, 'acceptable': 133, 'becoming': 134, 'past': 135, 'needs': 136, 'head': 137, 'jokes': 138, 'desperately': 139, 'lubb': 140, 'hoot': 141, 'silent': 142, 'coz': 143, 'hella': 144, 'goin': 145, 'sentry': 146, 'station': 147, 'bonkers': 148, 'cleaning': 149, 'grabs': 150, 'keys': 151, 'dash': 152, 'kirsten': 153, 'leah': 154, 'kate': 155, 'escapades': 156, 'joining': 157, 'deep': 158, 'profound': 159, 'differently': 160, 'serious': 161, 'count': 162, 'catcher': 163, 'tye': 164, 'jane': 165, 'eyre': 166, 'virgin': 167, 'suicides': 168, 'acne': 169, 'dudeee': 170, 'homosexuality': 171, 'hung': 172, 'kelsie': 173, 'combining': 174, 'gary': 175, 'gin': 176, 'zen': 177, 'letting': 178, 'stars': 179, 'quiz': 180, 'bye': 181, 'retarted': 182, 'black': 183, 'outshines': 184, 'material': 185, 'plain': 186, 'likes': 187, 'dragged': 188, 'draco': 189, 'malfoy': 190, 'trousers': 191, 'hips': 192, 'throat': 193, 'vigor': 194, 'whimpering': 195, 'noises': 196, 'panting': 197, 'groaning': 198, 'blonds': 199, 'rock': 200, 'aching': 201, 'wotshisface': 202, 'slap': 203, 'helped': 204, 'bobbypin': 205, 'insanely': 206, 'laughed': 207, 'sit': 208, 'mtv': 209, 'reminded': 210, 'despised': 211, 'see': 212, 'iii': 213, 'hated': 214, 'pretty': 215, 'ass': 216, 'evil': 217, 'books': 218, 'though': 219, 'even': 220, 'say': 221, 'go': 222, 'lot': 223, 'get': 224, 'cruise': 225, 'watched': 226, 'awful': 227, 'amazing': 228, 'balls': 229, 'best': 230, 'kinda': 231, 'actually': 232, 'already': 233, 'lol': 234, 'made': 235, 'thing': 236, 'may': 237, 'two': 238, 'sad': 239, 'second': 240, 'since': 241, 'us': 242, 'new': 243, 'miss': 244, 'shit': 245, 'far': 246, 'three': 247, 'crash': 248, 'enjoy': 249, 'night': 250, 'tell': 251, 'everyone': 252, 'x': 253, 'action': 254, 'theme': 255, 'real': 256, 'could': 257, 'talk': 258, 'god': 259, 'enjoyed': 260, 'yet': 261, 'looks': 262, 'bad': 263, 'life': 264, 'try': 265, 'course': 266, 'something': 267, 'wrong': 268, 'hey': 269, 'interesting': 270, 'times': 271, 'totally': 272, 'mean': 273, 'men': 274, 'talking': 275, 'else': 276, 'back': 277, 'feel': 278, 'little': 279, 'sure': 280, 'thinking': 281, 'glad': 282, 'anything': 283, 'world': 284, 'saying': 285, 'demons': 286, 'bit': 287, 'quite': 288, 'seeing': 289, 'finished': 290, 'half': 291, 'week': 292, 'lost': 293, 'day': 294, 'almost': 295, 'long': 296, 'year': 297, 'fan': 298, 'fact': 299, 'freaking': 300, 'school': 301, 'picture': 302, 'might': 303, 'kids': 304, 'culture': 305, 'okay': 306, 'fandom': 307, 'every': 308, 'told': 309, 'cowboys': 310, 'crappy': 311, 'sucking': 312, 'angels': 313, 'personally': 314, 'crap': 315, 'probably': 316, 'im': 317, 'sick': 318, 'must': 319, 'end': 320, 'kind': 321, 'novel': 322, 'days': 323, 'luck': 324, 'officially': 325, 'tonight': 326, 'song': 327, 'least': 328, 'stories': 329, 'theater': 330, 'show': 331, 'fire': 332, 'money': 333, 'yes': 334, 'used': 335, 'th': 336, 'lord': 337, 'rings': 338, 'apparently': 339, 'news': 340, 'give': 341, 'bogus': 342, 'inaccurate': 343, 'hear': 344, 'mother': 345, 'different': 346, 'girl': 347, 'idea': 348, 'telling': 349, 'music': 350, 'omg': 351, 'damn': 352, 'wan': 353, 'come': 354, 'n': 355, 'jesus': 356, 'move': 357, 'hedge': 358, 'funny': 359, 'kick': 360, 'played': 361, 'finally': 362, 'fell': 363, 'classes': 364, 'films': 365, 'goblet': 366, 'comes': 367, 'wish': 368, 'children': 369, 'food': 370, 'club': 371, 'win': 372, 'fuck': 373, 'sexy': 374, 'part': 375, 'someone': 376, 'ta': 377, 'incredibly': 378, 'decided': 379, 'hope': 380, 'oscar': 381, 'shitty': 382, 'stinks': 383, 'majorly': 384, 'major': 385, 'lame': 386, 'john': 387, 'woo': 388, 'georgia': 389, 'board': 390, 'nearly': 391, 'hollywood': 392, 'religious': 393, 'heart': 394, 'dan': 395, 'brown': 396, 'lit': 397, 'absurd': 398, 'next': 399, 'pages': 400, 'besides': 401, 'many': 402, 'came': 403, 'agree': 404, 'hell': 405, 'ones': 406, 'playing': 407, 'given': 408, 'stayed': 409, 'update': 410, 'sort': 411, 'fat': 412, 'rent': 413, 'looking': 414, 'nothing': 415, 'ten': 416, 'top': 417, 'gun': 418, 'stop': 419, 'cuz': 420, 'anyways': 421, 'instead': 422, 'btw': 423, 'ask': 424, 'wondering': 425, 'except': 426, 'rather': 427, 'let': 428, 'especially': 429, 'guys': 430, 'shows': 431, 'dumb': 432, 'stuff': 433, 'minutes': 434, 'example': 435, 'eragon': 436, 'stone': 437, 'write': 438, 'loves': 439, 'pop': 440, 'deal': 441, 'fanfiction': 442, 'gorgeous': 443, 'christmas': 444, 'friend': 445, 'level': 446, 'case': 447, 'comment': 448, 'felt': 449, 'none': 450, 'college': 451, 'death': 452, 'halloween': 453, 'need': 454, 'gift': 455, 'nc': 456, 'taking': 457, 'sorry': 458, 'along': 459, 'hands': 460, 'short': 461, 'thank': 462, 'jake': 463, 'ban': 464, 'critics': 465, 'jack': 466, 'cried': 467, 'score': 468, 'racism': 469, 'worthless': 470, 'audrey': 471, 'tautou': 472, 'work': 473, 'erm': 474, 'looked': 475, 'passion': 476, 'donkey': 477, 'weekend': 478, 'conclusion': 479, 'true': 480, 'mi': 481, 'whole': 482, 'bullshit': 483, 'rant': 484, 'speaking': 485, 'dont': 486, 'mouth': 487, 'live': 488, 'extremely': 489, 'disliked': 490, 'hold': 491, 'buy': 492, 'ive': 493, 'turn': 494, 'figures': 495, 'old': 496, 'takes': 497, 'normal': 498, 'biased': 499, 'open': 500, 'able': 501, 'equal': 502, 'cold': 503, 'page': 504, 'awesomest': 505, 'sounds': 506, 'aaron': 507, 'knew': 508, 'took': 509, 'recently': 510, 'theaters': 511, 'religion': 512, 'together': 513, 'whatever': 514, 'lah': 515, 'soon': 516, 'hand': 517, 'hanks': 518, 'sooo': 519, 'hating': 520, 'awesomeness': 521, 'hardcore': 522, 'ps': 523, 'fireworks': 524, 'accompaniment': 525, 'whistles': 526, 'bangs': 527, 'colourfully': 528, 'sky': 529, 'events': 530, 'drive': 531, 'haunt': 532, 'yea': 533, 'fall': 534, 'class': 535, 'trailers': 536, 'catch': 537, 'flick': 538, 'saturday': 539, 'job': 540, 'ticket': 541, 'run': 542, 'sing': 543, 'makes': 544, 'cute': 545, 'problem': 546, 'geek': 547, 'cars': 548, 'tickets': 549, 'definitely': 550, 'meeting': 551, 'party': 552, 'special': 553, 'ya': 554, 'definately': 555, 'hide': 556, 'feeling': 557, 'hot': 558, 'third': 559, 'scene': 560, 'chris': 561, 'showing': 562, 'pictures': 563, 'putting': 564, 'pocket': 565, 'hero': 566, 'tv': 567, 'although': 568, 'tc': 569, 'issues': 570, 'play': 571, 'today': 572, 'joke': 573, 'girls': 574, 'maybe': 575, 'politics': 576, 'house': 577, 'proud': 578, 'ron': 579, 'favourite': 580, 'blood': 581, 'prince': 582, 'final': 583, 'shoes': 584, 'j': 585, 'k': 586, 'rowling': 587, 'strangely': 588, 'hp': 589, 'fanfic': 590, 'kid': 591, 'fantasy': 592, 'perhaps': 593, 'often': 594, 'vs': 595, 'decent': 596, 'enough': 597, 'suppose': 598, 'st': 599, 'nd': 600, 'funniest': 601, 'costumes': 602, 'la': 603, 'narnia': 604, 'disney': 605, 'eating': 606, 'fault': 607, 'form': 608, 'empty': 609, 'dream': 610, 'body': 611, 'nerd': 612, 'ruined': 613, 'fabulous': 614, 'scar': 615, 'bought': 616, 'adult': 617, 'adorable': 618, 'everything': 619, 'author': 620, 'student': 621, 'sorcerer': 622, 'forgotten': 623, 'dragons': 624, 'hogwarts': 625, 'emma': 626, 'watson': 627, 'icons': 628, 'mrs': 629, 'brilliant': 630, 'popular': 631, 'craze': 632, 'word': 633, 'fic': 634, 'vampire': 635, 'sivullinen': 636, 'requested': 637, 'het': 638, 'quizzes': 639, 'future': 640, 'till': 641, 'simply': 642, 'writing': 643, 'sense': 644, 'conquering': 645, 'friendships': 646, 'formed': 647, 'related': 648, 'whether': 649, 'stopped': 650, 'months': 651, 'idk': 652, 'honor': 653, 'cry': 654, 'asking': 655, 'queer': 656, 'heath': 657, 'dick': 658, 'yesterday': 659, 'asian': 660, 'copy': 661, 'choice': 662, 'kiss': 663, 'unbelievably': 664, 'asleep': 665, 'mentioned': 666, 'capote': 667, 'mention': 668, 'ang': 669, 'lee': 670, 'u': 671, 'understand': 672, 'industry': 673, 'rest': 674, 'acting': 675, 'deserved': 676, 'truly': 677, 'full': 678, 'carefully': 679, 'happy': 680, 'generally': 681, 'white': 682, 'mainstream': 683, 'challenge': 684, 'actor': 685, 'super': 686, 'written': 687, 'expected': 688, 'question': 689, 'beat': 690, 'piece': 691, 'butt': 692, 'loathe': 693, 'lie': 694, 'favorite': 695, 'everybody': 696, 'hoover': 697, 'less': 698, 'hopefully': 699, 'coming': 700, 'name': 701, 'due': 702, 'couple': 703, 'didnt': 704, 'compared': 705, 'use': 706, 'reaction': 707, 'royally': 708, 'attempt': 709, 'johnny': 710, 'article': 711, 'draw': 712, 'christian': 713, 'beans': 714, 'getting': 715, 'tho': 716, 'chinese': 717, 'nice': 718, 'please': 719, 'tired': 720, 'franchise': 721, 'ran': 722, 'cocktail': 723, 'phillip': 724, 'hoffman': 725, 'remix': 726, 'laid': 727, 'egg': 728, 'cringe': 729, 'whenever': 730, 'respect': 731, 'lousy': 732, 'point': 733, 'fit': 734, 'aka': 735, 'actual': 736, 'blame': 737, 'ending': 738, 'called': 739, 'dementors': 740, 'costume': 741, 'tea': 742, 'infuser': 743, 'die': 744, 'sometimes': 745, 'wesley': 746, 'captain': 747, 'picard': 748, 'douche': 749, 'tragic': 750, 'bible': 751, 'libraries': 752, 'witchcraft': 753, 'color': 754, 'dance': 755, 'obnoxious': 756, 'thinks': 757, 'thousand': 758, 'ultimate': 759, 'marvel': 760, 'education': 761, 'exquisite': 762, 'marcia': 763, 'gaither': 764, 'teaches': 765, 'wiccanism': 766, 'controversy': 767, 'working': 768, 'overall': 769, 'lords': 770, 'soul': 771, 'prisoner': 772, 'azkaban': 773, 'equally': 774, 'ago': 775, 'opened': 776, 'dictate': 777, 'reply': 778, 'cut': 779, 'mirror': 780, 'home': 781, 'goth': 782, 'academy': 783, 'gayness': 784, 'tried': 785, 'tale': 786, 'rented': 787, 'twist': 788, 'record': 789, 'murderball': 790, 'immediately': 791, 'robbed': 792, 'favor': 793, 'dislike': 794, 'shittiest': 795, 'clive': 796, 'cussler': 797, 'relic': 798, 'plausible': 799, 'ultimatly': 800, 'seem': 801, 'exaggeration': 802, 'midnight': 803, 'wal': 804, 'mart': 805, 'kite': 806, 'runner': 807, 'light': 808, 'radio': 809, 'mind': 810, 'slash': 811, 'race': 812, 'disappointed': 813, 'backtory': 814, 'various': 815, 'historical': 816, 'scifi': 817, 'ian': 818, 'mckellen': 819, 'husband': 820, 'joe': 821, 'bridget': 822, 'jones': 823, 'appeals': 824, 'chick': 825, 'arenas': 826, 'genre': 827, 'explore': 828, 'novels': 829, 'soundtrack': 830, 'pleased': 831, 'mindedness': 832, 'enjoyment': 833, 'reads': 834, 'ripping': 835, 'acoustic': 836, 'neither': 837, 'amazingly': 838, 'possibly': 839, 'figure': 840, 'seriously': 841, 'probable': 842, 'fr': 843, 'raises': 844, 'theological': 845, 'questions': 846, 'tour': 847, 'inside': 848, 'onto': 849, 'angel': 850, 'illustrated': 851, 'edition': 852, 'ca': 853, 'thriller': 854, 'angle': 855, 'friggin': 856, 'undercover': 857, 'outta': 858, 'drowining': 859, 'lynn': 860, 'jon': 861, 'luau': 862, 'gasp': 863, 'protests': 864, 'share': 865, 'idiots': 866, 'dating': 867, 'sister': 868, 'admired': 869, 'bachelor': 870, 'beyond': 871, 'tome': 872, 'unauthorized': 873, 'deals': 874, 'inspired': 875, 'ridiculous': 876, 'panties': 877, 'bunch': 878, 'heresies': 879, 'blashpemies': 880, 'allegedly': 881, 'contains': 882, 'decide': 883, 'ti': 884, 'hooked': 885, 'melbourne': 886, 'hahash': 887, 'tooo': 888, 'honestly': 889, 'ur': 890, 'tennis': 891, 'tournament': 892, 'america': 893, 'supporting': 894, 'finshed': 895, 'comprehend': 896, 'explain': 897, 'power': 898, 'exciting': 899, 'wow': 900, 'updated': 901, 'hammy': 902, 'unpredictable': 903, 'spy': 904, 'scenario': 905, 'astonishingly': 906, 'free': 907, 'generation': 908, 'team': 909, 'infiltrate': 910, 'hour': 911, 'doors': 912, 'wicked': 913, 'gym': 914, 'suspenseful': 915, 'plus': 916, 'attached': 917, 'clarksville': 918, 'summer': 919, 'grown': 920, 'teevee': 921, 'cant': 922, 'eek': 923, 'rolled': 924, 'fallon': 925, 'convo': 926, 'daddy': 927, 'speaker': 928, 'exelent': 929, 'game': 930, 'jamie': 931, 'lil': 932, 'bro': 933, 'tied': 934, 'mall': 935, 'shopping': 936, 'wacked': 937, 'however': 938, 'matters': 939, 'pressing': 940, 'alarm': 941, 'codes': 942, 'fortress': 943, 'excersizing': 944, 'funner': 945, 'latest': 946, 'kicked': 947, 'period': 948, 'characterization': 949, 'effects': 950, 'pretending': 951, 'moives': 952, 'mindless': 953, 'tech': 954, 'small': 955, 'etc': 956, 'surprisingly': 957, 'asshole': 958, 'sunday': 959, 'tests': 960, 'afterschool': 961, 'relaxed': 962, 'ate': 963, 'margaritas': 964, 'w': 965, 'emily': 966, 'despise': 967, 'scientology': 968, 'crusade': 969, 'stinkin': 970, 'ike': 971, 'holy': 972, 'fyi': 973, 'brazil': 974, 'harrison': 975, 'viewings': 976, 'vic': 977, 'bday': 978, 'screening': 979, 'awesomely': 980, 'um': 981, 'trece': 982, 'bet': 983, 'blows': 984, 'exception': 985, 'eh': 986, 'experience': 987, 'camp': 988, 'setting': 989, 'land': 990, 'places': 991, 'spin': 992, 'middle': 993, 'tan': 994, 'baby': 995, 'possum': 996, 'vault': 997, 'kelse': 998, 'spontaneously': 999, 'pm': 1000, 'erin': 1001, 'firstly': 1002, 'settin': 1003, 'halls': 1004, 'partyin': 1005, 'weekends': 1006, 'clubbin': 1007, 'lunch': 1008, 'causing': 1009, 'disruption': 1010, 'wherever': 1011, 'dart': 1012, 'considered': 1013, 'hooker': 1014, 'scientologist': 1015, 'orig': 1016, 'alright': 1017, 'halle': 1018, 'barry': 1019, 'hugh': 1020, 'jackson': 1021, 'jessica': 1022, 'frenzied': 1023, 'phone': 1024, 'calls': 1025, 'laura': 1026, 'garrett': 1027, 'abrams': 1028, 'reason': 1029, 'explosions': 1030, 'straight': 1031, 'row': 1032, 'magic': 1033, 'rocked': 1034, 'preview': 1035, 'note': 1036, 'davinci': 1037, 'quip': 1038, 'v': 1039, 'freak': 1040, 'pull': 1041, 'style': 1042, 'bond': 1043, 'kicking': 1044, 'throw': 1045, 'jail': 1046, 'break': 1047, 'reader': 1048, 'excited': 1049, 'lines': 1050, 'shadeslayer': 1051, 'truth': 1052, 'philosopher': 1053, 'paper': 1054, 'entitled': 1055, 'twilight': 1056, 'unfortunate': 1057, 'tons': 1058, 'clickfive': 1059, 'cake': 1060, 'texts': 1061, 'obviously': 1062, 'criticized': 1063, 'oversimplifying': 1064, 'struggle': 1065, 'thick': 1066, 'burnt': 1067, 'heavy': 1068, 'enjoying': 1069, 'sawyer': 1070, 'hookup': 1071, 'rereading': 1072, 'picky': 1073, 'clearly': 1074, 'planned': 1075, 'biggie': 1076, 'admiring': 1077, 'sisters': 1078, 'collection': 1079, 'waited': 1080, 'planning': 1081, 'unfortunately': 1082, 'japenese': 1083, 'undoubtedly': 1084, 'purchase': 1085, 'dvd': 1086, 'walks': 1087, 'beach': 1088, 'oreos': 1089, 'ootp': 1090, 'sixth': 1091, 'desperate': 1092, 'discovered': 1093, 'dork': 1094, 'found': 1095, 'german': 1096, 'primary': 1097, 'bits': 1098, 'happiness': 1099, 'usually': 1100, 'storytimes': 1101, 'occasional': 1102, 'talks': 1103, 'julia': 1104, 'marisa': 1105, 'spec': 1106, 'candy': 1107, 'requim': 1108, 'christopher': 1109, 'creed': 1110, 'shraddha': 1111, 'lotr': 1112, 'superman': 1113, 'budget': 1114, 'rare': 1115, 'bootlegged': 1116, 'radcliffe': 1117, 'completely': 1118, 'poem': 1119, 'chance': 1120, 'prize': 1121, 'equus': 1122, 'measure': 1123, 'march': 1124, 'artemis': 1125, 'fowl': 1126, 'colony': 1127, 'eoin': 1128, 'colfer': 1129, 'young': 1130, 'near': 1131, 'realize': 1132, 'mocking': 1133, 'freagin': 1134, 'magical': 1135, 'lore': 1136, 'personaly': 1137, 'encourage': 1138, 'wholesome': 1139, 'sakes': 1140, 'scarf': 1141, 'kept': 1142, 'g': 1143, 'lilo': 1144, 'stitch': 1145, 'barnyard': 1146, 'discuss': 1147, 'theories': 1148, 'low': 1149, 'discussing': 1150, 'learn': 1151, 'appeal': 1152, 'date': 1153, 'jamaica': 1154, 'queens': 1155, 'earrings': 1156, 'goes': 1157, 'adore': 1158, 'thanks': 1159, 'task': 1160, 'achieved': 1161, 'reasons': 1162, 'belong': 1163, 'grey': 1164, 'anatomy': 1165, 'dedicated': 1166, 'feast': 1167, 'spoke': 1168, 'cowan': 1169, 'briefly': 1170, 'independent': 1171, 'study': 1172, 'lazy': 1173, 'semester': 1174, 'dorks': 1175, 'delicious': 1176, 'away': 1177, 'enjoys': 1178, 'depth': 1179, 'conversations': 1180, 'subjects': 1181, 'interested': 1182, 'intrigued': 1183, 'robe': 1184, 'lends': 1185, 'nicely': 1186, 'deemed': 1187, 'gavin': 1188, 'degraw': 1189, 'beatles': 1190, 'drawing': 1191, 'hall': 1192, 'kaka': 1193, 'television': 1194, 'screens': 1195, 'perfect': 1196, 'literary': 1197, 'version': 1198, 'adaptation': 1199, 'grips': 1200, 'state': 1201, 'dress': 1202, 'find': 1203, 'anywhere': 1204, 'town': 1205, 'veil': 1206, 'darkness': 1207, 'oceans': 1208, 'phoenix': 1209, 'total': 1210, 'counting': 1211, 'fairly': 1212, 'drawn': 1213, 'deciding': 1214, 'xd': 1215, 'anime': 1216, 'manga': 1217, 'grow': 1218, 'rehearsal': 1219, 'invisibility': 1220, 'cloak': 1221, 'folows': 1222, 'machine': 1223, 'lets': 1224, 'portuguese': 1225, 'spanish': 1226, 'explaination': 1227, 'travel': 1228, 'packs': 1229, 'animated': 1230, 'emotes': 1231, 'keep': 1232, 'gettting': 1233, 'fits': 1234, 'cast': 1235, 'spells': 1236, 'fair': 1237, 'lower': 1238, 'shade': 1239, 'others': 1240, 'posts': 1241, 'pirates': 1242, 'caribbean': 1243, 'sarcastic': 1244, 'quirky': 1245, 'humor': 1246, 'otp': 1247, 'shipping': 1248, 'winter': 1249, 'specifically': 1250, 'tree': 1251, 'snowing': 1252, 'outside': 1253, 'devastate': 1254, 'included': 1255, 'coloured': 1256, 'intellectual': 1257, 'debates': 1258, 'irrespective': 1259, 'writes': 1260, 'legacy': 1261, 'grand': 1262, 'finale': 1263, 'lives': 1264, 'hype': 1265, 'younger': 1266, 'sis': 1267, 'theres': 1268, 'avatar': 1269, 'sports': 1270, 'messiah': 1271, 'complex': 1272, 'police': 1273, 'longer': 1274, 'intense': 1275, 'phase': 1276, 'literature': 1277, 'val': 1278, 'starring': 1279, 'performance': 1280, 'titus': 1281, 'rep': 1282, 'explains': 1283, 'oddly': 1284, 'cover': 1285, 'chronological': 1286, 'ground': 1287, 'unexpected': 1288, 'basically': 1289, 'diversity': 1290, 'shout': 1291, 'esther': 1292, 'calling': 1293, 'screenplay': 1294, 'mph': 1295, 'sale': 1296, 'expo': 1297, 'gosh': 1298, 'whereas': 1299, 'brother': 1300, 'cousins': 1301, 'parents': 1302, 'twice': 1303, 'genres': 1304, 'eye': 1305, 'gn': 1306, 'gl': 1307, 'important': 1308, 'hyped': 1309, 'sweeping': 1310, 'moving': 1311, 'bbm': 1312, 'rps': 1313, 'figured': 1314, 'interest': 1315, 'picturesque': 1316, 'quaintly': 1317, 'attractive': 1318, 'impressive': 1319, 'tourist': 1320, 'horses': 1321, 'hugged': 1322, 'wranglers': 1323, 'riding': 1324, 'giants': 1325, 'napoleon': 1326, 'dynamite': 1327, 'silly': 1328, 'pc': 1329, 'check': 1330, 'spectacularly': 1331, 'confess': 1332, 'judgement': 1333, 'springer': 1334, 'supper': 1335, 'latter': 1336, 'tiny': 1337, 'pink': 1338, 'shame': 1339, 'transamerica': 1340, 'apart': 1341, 'defensive': 1342, 'positions': 1343, 'gays': 1344, 'wonderful': 1345, 'discussed': 1346, 'abortion': 1347, 'south': 1348, 'dakota': 1349, 'strip': 1350, 'sexual': 1351, 'tells': 1352, 'easy': 1353, 'wondered': 1354, 'happened': 1355, 'ennis': 1356, 'spend': 1357, 'gayer': 1358, 'picnic': 1359, 'basket': 1360, 'haunted': 1361, 'ignore': 1362, 'photography': 1363, 'madly': 1364, 'p': 1365, 'change': 1366, 'background': 1367, 'tragically': 1368, 'romantic': 1369, 'heartbraking': 1370, 'dearly': 1371, 'ashamed': 1372, 'wept': 1373, 'five': 1374, 'afterwards': 1375, 'done': 1376, 'success': 1377, 'derek': 1378, 'heartbreaking': 1379, 'matter': 1380, 'gyllenhaal': 1381, 'leder': 1382, 'yip': 1383, 'changes': 1384, 'receive': 1385, 'director': 1386, 'finish': 1387, 'random': 1388, 'thoughts': 1389, 'bitter': 1390, 'bound': 1391, 'wins': 1392, 'heteronormativity': 1393, 'dissapointed': 1394, 'surprised': 1395, 'packed': 1396, 'sceneries': 1397, 'million': 1398, 'tomorrow': 1399, 'yahoo': 1400, 'games': 1401, 'themed': 1402, 'skin': 1403, 'chessboard': 1404, 'disappointing': 1405, 'fabricated': 1406, 'christianity': 1407, 'bolsters': 1408, 'arguments': 1409, 'england': 1410, 'slow': 1411, 'threw': 1412, 'phenomenon': 1413, 'congrats': 1414, 'beating': 1415, 'jay': 1416, 'rickards': 1417, 'finals': 1418, 'poorly': 1419, 'worst': 1420, 'rachel': 1421, 'nans': 1422, 'libarian': 1423, 'turner': 1424, 'forget': 1425, 'paul': 1426, 'bentlys': 1427, 'timings': 1428, 'ended': 1429, 'fer': 1430, 'runaway': 1431, 'vacation': 1432, 'conversation': 1433, 'professors': 1434, 'overslept': 1435, 'jenn': 1436, 'later': 1437, 'ballz': 1438, 'forgot': 1439, 'nacho': 1440, 'libre': 1441, 'hank': 1442, 'smoking': 1443, 'moments': 1444, 'bored': 1445, 'coherent': 1446, 'uh': 1447, 'usage': 1448, 'phrase': 1449, 'dogfucking': 1450, 'retarded': 1451, 'worse': 1452, 'started': 1453, 'gathered': 1454, 'lamest': 1455, 'cinema': 1456, 'lama': 1457, 'aimee': 1458, 'sean': 1459, 'supportive': 1460, 'indian': 1461, 'reservations': 1462, 'lately': 1463, 'hanging': 1464, 'happen': 1465, 'sometime': 1466, 'holding': 1467, 'signs': 1468, 'christ': 1469, 'project': 1470, 'witha': 1471, 'blasphying': 1472, 'wide': 1473, 'drove': 1474, 'bayers': 1475, 'lake': 1476, 'dramatic': 1477, 'supposed': 1478, 'hello': 1479, 'cos': 1480, 'effort': 1481, 'mang': 1482, 'latin': 1483, 'anyhow': 1484, 'rofls': 1485, 'howard': 1486, 'google': 1487, 'urls': 1488, 'songs': 1489, 'lucky': 1490, 'refusing': 1491, 'public': 1492, 'imo': 1493, 'mood': 1494, 'shop': 1495, 'quick': 1496, 'smoked': 1497, 'consumed': 1498, 'meat': 1499, 'broke': 1500, 'ideas': 1501, 'sucky': 1502, 'crack': 1503, 'motherfuckers': 1504, 'tonite': 1505, 'poseidon': 1506, 'hooray': 1507, 'memoirs': 1508, 'geisha': 1509, 'kelsey': 1510, 'oceanwalk': 1511, 'rockets': 1512, 'bless': 1513, 'linked': 1514, 'symantec': 1515, 'suing': 1516, 'microsoft': 1517, 'street': 1518, 'without': 1519, 'touching': 1520, 'delayed': 1521, 'banning': 1522, 'omen': 1523, 'muahahaahahah': 1524, 'weeeellllllll': 1525, 'therefor': 1526, 'frakking': 1527, 'media': 1528, 'seems': 1529, 'thirdly': 1530, 'post': 1531, 'add': 1532, 'save': 1533, 'showcasing': 1534, 'aniwae': 1535, 'trip': 1536, 'freshman': 1537, 'itz': 1538, 'altogether': 1539, 'theatan': 1540, 'energy': 1541, 'field': 1542, 'eat': 1543, 'dim': 1544, 'sum': 1545, 'whos': 1546, 'extent': 1547, 'rv': 1548, 'predictable': 1549, 'weird': 1550, 'tomkat': 1551, 'jill': 1552, 'staying': 1553, 'loathed': 1554, 'involving': 1555, 'badness': 1556, 'increasing': 1557, 'exponentially': 1558, 'imagine': 1559, 'sold': 1560, 'flat': 1561, 'shipmates': 1562, 'burbank': 1563, 'calif': 1564, 'ap': 1565, 'brooke': 1566, 'shields': 1567, 'publicly': 1568, 'apologized': 1569, 'career': 1570, 'including': 1571, 'war': 1572, 'worlds': 1573, 'atrocious': 1574, 'hahaha': 1575, 'search': 1576, 'boycotting': 1577, 'mybutthole': 1578, 'yuh': 1579, 'nasy': 1580, 'c': 1581, 'joiners': 1582, 'aside': 1583, 'seymore': 1584, 'nifty': 1585, 'gadgets': 1586, 'wif': 1587, 'haha': 1588, 'credit': 1589, 'insane': 1590, 'listen': 1591, 'kanye': 1592, 'west': 1593, 'sequels': 1594, 'facing': 1595, 'richard': 1596, 'simmons': 1597, 'closet': 1598, 'blogbacklinktitle': 1599, 'blogbacklinksnippet': 1600, 'seymour': 1601, 'simon': 1602, 'pegg': 1603, 'prediction': 1604, 'correct': 1605, 'boycott': 1606, 'talkin': 1607, 'bout': 1608, 'agreed': 1609, 'cobequid': 1610, 'health': 1611, 'center': 1612, 'soooooooo': 1613, 'et': 1614, 'al': 1615, 'useless': 1616, 'realized': 1617, 'chunnel': 1618, 'fears': 1619, 'scared': 1620, 'regardless': 1621, 'track': 1622, 'dumbest': 1623, 'futile': 1624, 'began': 1625, 'teri': 1626, 'interview': 1627, 'anne': 1628, 'rice': 1629, 'attraction': 1630, 'reopened': 1631, 'release': 1632, 'unable': 1633, 'ignorant': 1634, 'villains': 1635, 'creatures': 1636, 'monthly': 1637, 'mad': 1638, 'vintage': 1639, 'silver': 1640, 'shaped': 1641, 'frog': 1642, 'idiot': 1643, 'kenley': 1644, 'decides': 1645, 'plastic': 1646, 'axes': 1647, 'amazes': 1648, 'afraid': 1649, 'pastings': 1650, 'mpreg': 1651, 'archive': 1652, 'section': 1653, 'starting': 1654, 'deluded': 1655, 'loose': 1656, 'allegory': 1657, 'wants': 1658, 'local': 1659, 'schools': 1660, 'leads': 1661, 'according': 1662, 'images': 1663, 'lin': 1664, 'pale': 1665, 'comparrison': 1666, 'overlooking': 1667, 'hair': 1668, 'trivia': 1669, 'eyes': 1670, 'absolute': 1671, 'denial': 1672, 'general': 1673, 'involved': 1674, 'dumbass': 1675, 'highly': 1676, 'inappropriate': 1677, 'headmistress': 1678, 'office': 1679, 'melandry': 1680, 'fuckers': 1681, 'shut': 1682, 'ripper': 1683, 'following': 1684, 'clips': 1685, 'featured': 1686, 'believably': 1687, 'judging': 1688, 'generated': 1689, 'gives': 1690, 'returning': 1691, 'spite': 1692, 'knowing': 1693, 'clit': 1694, 'everytime': 1695, 'outnumbered': 1696, 'rules': 1697, 'anax': 1698, 'rife': 1699, 'faked': 1700, 'mary': 1701, 'sue': 1702, 'ism': 1703, 'hogwash': 1704, 'listens': 1705, 'campaign': 1706, 'rid': 1707, 'soooooo': 1708, 'claiming': 1709, 'drain': 1710, 'warns': 1711, 'indoctrinate': 1712, 'wicca': 1713, 'seeking': 1714, 'wiccans': 1715, 'react': 1716, 'possible': 1717, 'look': 1718, 'precious': 1719, 'classic': 1720, 'cheapened': 1721, 'association': 1722, 'glitz': 1723, 'gossip': 1724, 'talked': 1725, 'writer': 1726, 'immortal': 1727, 'psychology': 1728, 'thesis': 1729, 'iq': 1730, 'cucumber': 1731, 'potterholic': 1732, 'ew': 1733, 'jame': 1734, 'living': 1735, 'guts': 1736, 'depp': 1737, 'haircut': 1738, 'meganpenworthy': 1739, 'dressed': 1740, 'selfish': 1741, 'iron': 1742, 'optimus': 1743, 'prime': 1744, 'indicative': 1745, 'decline': 1746, 'english': 1747, 'predictability': 1748, 'packaging': 1749, 'standpoint': 1750, 'horridly': 1751, 'basic': 1752, 'cheap': 1753, 'christain': 1754, 'lynne': 1755, 'devil': 1756, 'chronicles': 1757, 'ring': 1758, 'arse': 1759, 'rides': 1760, 'broom': 1761, 'simple': 1762, 'exhausted': 1763, 'hilarious': 1764, 'fiber': 1765, 'inherently': 1766, 'invisible': 1767, 'murdered': 1768, 'fade': 1769, 'creature': 1770, 'demeantor': 1771, 'decaying': 1772, 'decomposing': 1773, 'hippie': 1774, 'bringing': 1775, 'mcgarther': 1776, 'park': 1777, 'chamber': 1778, 'secrets': 1779, 'giving': 1780, 'benefit': 1781, 'doubt': 1782, 'online': 1783, 'offence': 1784, 'roommate': 1785, 'believe': 1786, 'facebook': 1787, 'group': 1788, 'addition': 1789, 'screwed': 1790, 'malaguena': 1791, 'russotti': 1792, 'changed': 1793, 'plays': 1794, 'dumbledor': 1795, 'hours': 1796, 'suncoast': 1797, 'kat': 1798, 'tun': 1799, 'starred': 1800, 'topic': 1801, 'yuck': 1802, 'gladly': 1803, 'dungeons': 1804, 'asks': 1805, 'scent': 1806, 'nature': 1807, 'hairy': 1808, 'otters': 1809, 'wussies': 1810, 'joy': 1811, 'titanic': 1812, 'durno': 1813, 'offense': 1814, 'whatev': 1815, 'huge': 1816, 'loser': 1817, 'hahahaha': 1818, 'sent': 1819, 'musiclove': 1820, 'crystal': 1821, 'condeming': 1822, 'walk': 1823, 'forever': 1824, 'shell': 1825, 'huh': 1826, 'jelly': 1827, 'pic': 1828, 'frodo': 1829, 'vice': 1830, 'versa': 1831, 'whiny': 1832, 'canceled': 1833, 'postponed': 1834, 'hermione': 1835, 'childishly': 1836, 'immensely': 1837, 'executed': 1838, 'moralistic': 1839, 'actors': 1840, 'awkward': 1841, 'award': 1842, 'harder': 1843, 'pup': 1844, 'tent': 1845, 'boys': 1846, 'fill': 1847, 'blanks': 1848, 'joan': 1849, 'keeps': 1850, 'characters': 1851, 'juicy': 1852, 'posted': 1853, 'livejournal': 1854, 'close': 1855, 'waaaaaaaaaaaaaaaaaaaaaaaaaaaaaaaaaaaaaaaaaaaaaaaaaaaaaaaaaaaaa': 1856, 'anus': 1857, 'larry': 1858, 'mcmurtry': 1859, 'diana': 1860, 'ossana': 1861, 'freezing': 1862, 'evilpinkmunky': 1863, 'soooo': 1864, 'shameful': 1865, 'master': 1866, 'sitting': 1867, 'chicken': 1868, 'sam': 1869, 'scenes': 1870, 'backdrop': 1871, 'ah': 1872, 'nothin': 1873, 'heather': 1874, 'shes': 1875, 'stites': 1876, 'knight': 1877, 'seemed': 1878, 'josie': 1879, 'zach': 1880, 'loudest': 1881, 'criticizers': 1882, 'nanny': 1883, 'mcphee': 1884, 'revise': 1885, 'unless': 1886, 'crafted': 1887, 'involve': 1888, 'rode': 1889, 'bikes': 1890, 'complaints': 1891, 'vito': 1892, 'plot': 1893, 'facile': 1894, 'comparsions': 1895, 'overcoming': 1896, 'adversity': 1897, 'stupidest': 1898, 'offensive': 1899, 'concocted': 1900, 'dinner': 1901, 'min': 1902, 'rosie': 1903, 'independant': 1904, 'pudding': 1905, 'category': 1906, 'shattered': 1907, 'spine': 1908, 'emo': 1909, 'mound': 1910, 'cow': 1911, 'kill': 1912, 'writers': 1913, 'ruining': 1914, 'image': 1915, 'liberal': 1916, 'exploitation': 1917, 'boyy': 1918, 'hahahahahaha': 1919, 'weiners': 1920, 'generalized': 1921, 'condemnation': 1922, 'entire': 1923, 'voted': 1924, 'targeted': 1925, 'mob': 1926, 'homophobic': 1927, 'died': 1928, 'france': 1929, 'portugal': 1930, 'match': 1931, 'dvds': 1932, 'kudos': 1933, 'blog': 1934, 'overexagerated': 1935, 'requiem': 1936, 'patirot': 1937, 'knights': 1938, 'four': 1939, 'feathers': 1940, 'casanova': 1941, 'dogtown': 1942, 'monsters': 1943, 'ball': 1944, 'visually': 1945, 'incredible': 1946, 'directed': 1947, 'lapse': 1948, 'created': 1949, 'account': 1950, 'comments': 1951, 'becuase': 1952, 'consider': 1953, 'reference': 1954, 'answers': 1955, 'wrote': 1956, 'letter': 1957, 'editor': 1958, 'folk': 1959, 'families': 1960, 'boycotted': 1961, 'festivities': 1962, 'madre': 1963, 'tiffani': 1964, 'pirated': 1965, 'illegally': 1966, 'presented': 1967, 'subtitles': 1968, 'backward': 1969, 'mormon': 1970, 'danielle': 1971, 'mostly': 1972, 'honest': 1973, 'lesson': 1974, 'fix': 1975, 'homophobes': 1976, 'corrupting': 1977, 'thursday': 1978, 'hollywoord': 1979, 'reviews': 1980, 'fully': 1981, 'clothed': 1982, 'combonation': 1983, 'halfway': 1984, 'van': 1985, 'insurance': 1986, 'runs': 1987, 'room': 1988, 'messy': 1989, 'clean': 1990, 'ony': 1991, 'monchel': 1992, 'brigid': 1993})\n",
            "{1: 'harry', 2: 'potter', 3: 'code', 4: 'da', 5: 'vinci', 6: 'brokeback', 7: 'mountain', 8: 'love', 9: 'awesome', 10: 'mission', 11: 'impossible', 12: 'like', 13: 'movie', 14: 'sucks', 15: 'sucked', 16: 'hate', 17: 'much', 18: 'really', 19: 'movies', 20: 'stupid', 21: 'one', 22: 'know', 23: 'suck', 24: 'loved', 25: 'want', 26: 'right', 27: 'think', 28: 'depressing', 29: 'people', 30: 'would', 31: 'reading', 32: 'horrible', 33: 'series', 34: 'fucking', 35: 'terrible', 36: 'yeah', 37: 'story', 38: 'oh', 39: 'left', 40: 'ok', 41: 'guy', 42: 'start', 43: 'felicia', 44: 'book', 45: 'beautiful', 46: 'good', 47: 'also', 48: 'went', 49: 'read', 50: 'saw', 51: 'first', 52: 'tom', 53: 'thought', 54: 'liked', 55: 'way', 56: 'absolutely', 57: 'well', 58: 'still', 59: 'time', 60: 'got', 61: 'big', 62: 'film', 63: 'heard', 64: 'ever', 65: 'better', 66: 'watch', 67: 'going', 68: 'great', 69: 'seen', 70: 'things', 71: 'said', 72: 'gay', 73: 'last', 74: 'boring', 75: 'watching', 76: 'man', 77: 'wait', 78: 'making', 79: 'never', 80: 'friday', 81: 'excellent', 82: 'friends', 83: 'cool', 84: 'always', 85: 'person', 86: 'opinion', 87: 'anyone', 88: 'na', 89: 'rocks', 90: 'around', 91: 'says', 92: 'cock', 93: 'hard', 94: 'side', 95: 'fun', 96: 'make', 97: 'place', 98: 'take', 99: 'anyway', 100: 'mom', 101: 'worth', 102: 'either', 103: 'knows', 104: 'thats', 105: 'luv', 106: 'wanted', 107: 'dad', 108: 'care', 109: 'freakin', 110: 'character', 111: 'daniel', 112: 'community', 113: 'main', 114: 'hates', 115: 'review', 116: 'b', 117: 'crazy', 118: 'stand', 119: 'begin', 120: 'turned', 121: 'soo', 122: 'gon', 123: 'hill', 124: 'reality', 125: 'bitch', 126: 'table', 127: 'type', 128: 'dies', 129: 'cowboy', 130: 'hat', 131: 'snuck', 132: 'awards', 133: 'acceptable', 134: 'becoming', 135: 'past', 136: 'needs', 137: 'head', 138: 'jokes', 139: 'desperately', 140: 'lubb', 141: 'hoot', 142: 'silent', 143: 'coz', 144: 'hella', 145: 'goin', 146: 'sentry', 147: 'station', 148: 'bonkers', 149: 'cleaning', 150: 'grabs', 151: 'keys', 152: 'dash', 153: 'kirsten', 154: 'leah', 155: 'kate', 156: 'escapades', 157: 'joining', 158: 'deep', 159: 'profound', 160: 'differently', 161: 'serious', 162: 'count', 163: 'catcher', 164: 'tye', 165: 'jane', 166: 'eyre', 167: 'virgin', 168: 'suicides', 169: 'acne', 170: 'dudeee', 171: 'homosexuality', 172: 'hung', 173: 'kelsie', 174: 'combining', 175: 'gary', 176: 'gin', 177: 'zen', 178: 'letting', 179: 'stars', 180: 'quiz', 181: 'bye', 182: 'retarted', 183: 'black', 184: 'outshines', 185: 'material', 186: 'plain', 187: 'likes', 188: 'dragged', 189: 'draco', 190: 'malfoy', 191: 'trousers', 192: 'hips', 193: 'throat', 194: 'vigor', 195: 'whimpering', 196: 'noises', 197: 'panting', 198: 'groaning', 199: 'blonds', 200: 'rock', 201: 'aching', 202: 'wotshisface', 203: 'slap', 204: 'helped', 205: 'bobbypin', 206: 'insanely', 207: 'laughed', 208: 'sit', 209: 'mtv', 210: 'reminded', 211: 'despised', 212: 'see', 213: 'iii', 214: 'hated', 215: 'pretty', 216: 'ass', 217: 'evil', 218: 'books', 219: 'though', 220: 'even', 221: 'say', 222: 'go', 223: 'lot', 224: 'get', 225: 'cruise', 226: 'watched', 227: 'awful', 228: 'amazing', 229: 'balls', 230: 'best', 231: 'kinda', 232: 'actually', 233: 'already', 234: 'lol', 235: 'made', 236: 'thing', 237: 'may', 238: 'two', 239: 'sad', 240: 'second', 241: 'since', 242: 'us', 243: 'new', 244: 'miss', 245: 'shit', 246: 'far', 247: 'three', 248: 'crash', 249: 'enjoy', 250: 'night', 251: 'tell', 252: 'everyone', 253: 'x', 254: 'action', 255: 'theme', 256: 'real', 257: 'could', 258: 'talk', 259: 'god', 260: 'enjoyed', 261: 'yet', 262: 'looks', 263: 'bad', 264: 'life', 265: 'try', 266: 'course', 267: 'something', 268: 'wrong', 269: 'hey', 270: 'interesting', 271: 'times', 272: 'totally', 273: 'mean', 274: 'men', 275: 'talking', 276: 'else', 277: 'back', 278: 'feel', 279: 'little', 280: 'sure', 281: 'thinking', 282: 'glad', 283: 'anything', 284: 'world', 285: 'saying', 286: 'demons', 287: 'bit', 288: 'quite', 289: 'seeing', 290: 'finished', 291: 'half', 292: 'week', 293: 'lost', 294: 'day', 295: 'almost', 296: 'long', 297: 'year', 298: 'fan', 299: 'fact', 300: 'freaking', 301: 'school', 302: 'picture', 303: 'might', 304: 'kids', 305: 'culture', 306: 'okay', 307: 'fandom', 308: 'every', 309: 'told', 310: 'cowboys', 311: 'crappy', 312: 'sucking', 313: 'angels', 314: 'personally', 315: 'crap', 316: 'probably', 317: 'im', 318: 'sick', 319: 'must', 320: 'end', 321: 'kind', 322: 'novel', 323: 'days', 324: 'luck', 325: 'officially', 326: 'tonight', 327: 'song', 328: 'least', 329: 'stories', 330: 'theater', 331: 'show', 332: 'fire', 333: 'money', 334: 'yes', 335: 'used', 336: 'th', 337: 'lord', 338: 'rings', 339: 'apparently', 340: 'news', 341: 'give', 342: 'bogus', 343: 'inaccurate', 344: 'hear', 345: 'mother', 346: 'different', 347: 'girl', 348: 'idea', 349: 'telling', 350: 'music', 351: 'omg', 352: 'damn', 353: 'wan', 354: 'come', 355: 'n', 356: 'jesus', 357: 'move', 358: 'hedge', 359: 'funny', 360: 'kick', 361: 'played', 362: 'finally', 363: 'fell', 364: 'classes', 365: 'films', 366: 'goblet', 367: 'comes', 368: 'wish', 369: 'children', 370: 'food', 371: 'club', 372: 'win', 373: 'fuck', 374: 'sexy', 375: 'part', 376: 'someone', 377: 'ta', 378: 'incredibly', 379: 'decided', 380: 'hope', 381: 'oscar', 382: 'shitty', 383: 'stinks', 384: 'majorly', 385: 'major', 386: 'lame', 387: 'john', 388: 'woo', 389: 'georgia', 390: 'board', 391: 'nearly', 392: 'hollywood', 393: 'religious', 394: 'heart', 395: 'dan', 396: 'brown', 397: 'lit', 398: 'absurd', 399: 'next', 400: 'pages', 401: 'besides', 402: 'many', 403: 'came', 404: 'agree', 405: 'hell', 406: 'ones', 407: 'playing', 408: 'given', 409: 'stayed', 410: 'update', 411: 'sort', 412: 'fat', 413: 'rent', 414: 'looking', 415: 'nothing', 416: 'ten', 417: 'top', 418: 'gun', 419: 'stop', 420: 'cuz', 421: 'anyways', 422: 'instead', 423: 'btw', 424: 'ask', 425: 'wondering', 426: 'except', 427: 'rather', 428: 'let', 429: 'especially', 430: 'guys', 431: 'shows', 432: 'dumb', 433: 'stuff', 434: 'minutes', 435: 'example', 436: 'eragon', 437: 'stone', 438: 'write', 439: 'loves', 440: 'pop', 441: 'deal', 442: 'fanfiction', 443: 'gorgeous', 444: 'christmas', 445: 'friend', 446: 'level', 447: 'case', 448: 'comment', 449: 'felt', 450: 'none', 451: 'college', 452: 'death', 453: 'halloween', 454: 'need', 455: 'gift', 456: 'nc', 457: 'taking', 458: 'sorry', 459: 'along', 460: 'hands', 461: 'short', 462: 'thank', 463: 'jake', 464: 'ban', 465: 'critics', 466: 'jack', 467: 'cried', 468: 'score', 469: 'racism', 470: 'worthless', 471: 'audrey', 472: 'tautou', 473: 'work', 474: 'erm', 475: 'looked', 476: 'passion', 477: 'donkey', 478: 'weekend', 479: 'conclusion', 480: 'true', 481: 'mi', 482: 'whole', 483: 'bullshit', 484: 'rant', 485: 'speaking', 486: 'dont', 487: 'mouth', 488: 'live', 489: 'extremely', 490: 'disliked', 491: 'hold', 492: 'buy', 493: 'ive', 494: 'turn', 495: 'figures', 496: 'old', 497: 'takes', 498: 'normal', 499: 'biased', 500: 'open', 501: 'able', 502: 'equal', 503: 'cold', 504: 'page', 505: 'awesomest', 506: 'sounds', 507: 'aaron', 508: 'knew', 509: 'took', 510: 'recently', 511: 'theaters', 512: 'religion', 513: 'together', 514: 'whatever', 515: 'lah', 516: 'soon', 517: 'hand', 518: 'hanks', 519: 'sooo', 520: 'hating', 521: 'awesomeness', 522: 'hardcore', 523: 'ps', 524: 'fireworks', 525: 'accompaniment', 526: 'whistles', 527: 'bangs', 528: 'colourfully', 529: 'sky', 530: 'events', 531: 'drive', 532: 'haunt', 533: 'yea', 534: 'fall', 535: 'class', 536: 'trailers', 537: 'catch', 538: 'flick', 539: 'saturday', 540: 'job', 541: 'ticket', 542: 'run', 543: 'sing', 544: 'makes', 545: 'cute', 546: 'problem', 547: 'geek', 548: 'cars', 549: 'tickets', 550: 'definitely', 551: 'meeting', 552: 'party', 553: 'special', 554: 'ya', 555: 'definately', 556: 'hide', 557: 'feeling', 558: 'hot', 559: 'third', 560: 'scene', 561: 'chris', 562: 'showing', 563: 'pictures', 564: 'putting', 565: 'pocket', 566: 'hero', 567: 'tv', 568: 'although', 569: 'tc', 570: 'issues', 571: 'play', 572: 'today', 573: 'joke', 574: 'girls', 575: 'maybe', 576: 'politics', 577: 'house', 578: 'proud', 579: 'ron', 580: 'favourite', 581: 'blood', 582: 'prince', 583: 'final', 584: 'shoes', 585: 'j', 586: 'k', 587: 'rowling', 588: 'strangely', 589: 'hp', 590: 'fanfic', 591: 'kid', 592: 'fantasy', 593: 'perhaps', 594: 'often', 595: 'vs', 596: 'decent', 597: 'enough', 598: 'suppose', 599: 'st', 600: 'nd', 601: 'funniest', 602: 'costumes', 603: 'la', 604: 'narnia', 605: 'disney', 606: 'eating', 607: 'fault', 608: 'form', 609: 'empty', 610: 'dream', 611: 'body', 612: 'nerd', 613: 'ruined', 614: 'fabulous', 615: 'scar', 616: 'bought', 617: 'adult', 618: 'adorable', 619: 'everything', 620: 'author', 621: 'student', 622: 'sorcerer', 623: 'forgotten', 624: 'dragons', 625: 'hogwarts', 626: 'emma', 627: 'watson', 628: 'icons', 629: 'mrs', 630: 'brilliant', 631: 'popular', 632: 'craze', 633: 'word', 634: 'fic', 635: 'vampire', 636: 'sivullinen', 637: 'requested', 638: 'het', 639: 'quizzes', 640: 'future', 641: 'till', 642: 'simply', 643: 'writing', 644: 'sense', 645: 'conquering', 646: 'friendships', 647: 'formed', 648: 'related', 649: 'whether', 650: 'stopped', 651: 'months', 652: 'idk', 653: 'honor', 654: 'cry', 655: 'asking', 656: 'queer', 657: 'heath', 658: 'dick', 659: 'yesterday', 660: 'asian', 661: 'copy', 662: 'choice', 663: 'kiss', 664: 'unbelievably', 665: 'asleep', 666: 'mentioned', 667: 'capote', 668: 'mention', 669: 'ang', 670: 'lee', 671: 'u', 672: 'understand', 673: 'industry', 674: 'rest', 675: 'acting', 676: 'deserved', 677: 'truly', 678: 'full', 679: 'carefully', 680: 'happy', 681: 'generally', 682: 'white', 683: 'mainstream', 684: 'challenge', 685: 'actor', 686: 'super', 687: 'written', 688: 'expected', 689: 'question', 690: 'beat', 691: 'piece', 692: 'butt', 693: 'loathe', 694: 'lie', 695: 'favorite', 696: 'everybody', 697: 'hoover', 698: 'less', 699: 'hopefully', 700: 'coming', 701: 'name', 702: 'due', 703: 'couple', 704: 'didnt', 705: 'compared', 706: 'use', 707: 'reaction', 708: 'royally', 709: 'attempt', 710: 'johnny', 711: 'article', 712: 'draw', 713: 'christian', 714: 'beans', 715: 'getting', 716: 'tho', 717: 'chinese', 718: 'nice', 719: 'please', 720: 'tired', 721: 'franchise', 722: 'ran', 723: 'cocktail', 724: 'phillip', 725: 'hoffman', 726: 'remix', 727: 'laid', 728: 'egg', 729: 'cringe', 730: 'whenever', 731: 'respect', 732: 'lousy', 733: 'point', 734: 'fit', 735: 'aka', 736: 'actual', 737: 'blame', 738: 'ending', 739: 'called', 740: 'dementors', 741: 'costume', 742: 'tea', 743: 'infuser', 744: 'die', 745: 'sometimes', 746: 'wesley', 747: 'captain', 748: 'picard', 749: 'douche', 750: 'tragic', 751: 'bible', 752: 'libraries', 753: 'witchcraft', 754: 'color', 755: 'dance', 756: 'obnoxious', 757: 'thinks', 758: 'thousand', 759: 'ultimate', 760: 'marvel', 761: 'education', 762: 'exquisite', 763: 'marcia', 764: 'gaither', 765: 'teaches', 766: 'wiccanism', 767: 'controversy', 768: 'working', 769: 'overall', 770: 'lords', 771: 'soul', 772: 'prisoner', 773: 'azkaban', 774: 'equally', 775: 'ago', 776: 'opened', 777: 'dictate', 778: 'reply', 779: 'cut', 780: 'mirror', 781: 'home', 782: 'goth', 783: 'academy', 784: 'gayness', 785: 'tried', 786: 'tale', 787: 'rented', 788: 'twist', 789: 'record', 790: 'murderball', 791: 'immediately', 792: 'robbed', 793: 'favor', 794: 'dislike', 795: 'shittiest', 796: 'clive', 797: 'cussler', 798: 'relic', 799: 'plausible', 800: 'ultimatly', 801: 'seem', 802: 'exaggeration', 803: 'midnight', 804: 'wal', 805: 'mart', 806: 'kite', 807: 'runner', 808: 'light', 809: 'radio', 810: 'mind', 811: 'slash', 812: 'race', 813: 'disappointed', 814: 'backtory', 815: 'various', 816: 'historical', 817: 'scifi', 818: 'ian', 819: 'mckellen', 820: 'husband', 821: 'joe', 822: 'bridget', 823: 'jones', 824: 'appeals', 825: 'chick', 826: 'arenas', 827: 'genre', 828: 'explore', 829: 'novels', 830: 'soundtrack', 831: 'pleased', 832: 'mindedness', 833: 'enjoyment', 834: 'reads', 835: 'ripping', 836: 'acoustic', 837: 'neither', 838: 'amazingly', 839: 'possibly', 840: 'figure', 841: 'seriously', 842: 'probable', 843: 'fr', 844: 'raises', 845: 'theological', 846: 'questions', 847: 'tour', 848: 'inside', 849: 'onto', 850: 'angel', 851: 'illustrated', 852: 'edition', 853: 'ca', 854: 'thriller', 855: 'angle', 856: 'friggin', 857: 'undercover', 858: 'outta', 859: 'drowining', 860: 'lynn', 861: 'jon', 862: 'luau', 863: 'gasp', 864: 'protests', 865: 'share', 866: 'idiots', 867: 'dating', 868: 'sister', 869: 'admired', 870: 'bachelor', 871: 'beyond', 872: 'tome', 873: 'unauthorized', 874: 'deals', 875: 'inspired', 876: 'ridiculous', 877: 'panties', 878: 'bunch', 879: 'heresies', 880: 'blashpemies', 881: 'allegedly', 882: 'contains', 883: 'decide', 884: 'ti', 885: 'hooked', 886: 'melbourne', 887: 'hahash', 888: 'tooo', 889: 'honestly', 890: 'ur', 891: 'tennis', 892: 'tournament', 893: 'america', 894: 'supporting', 895: 'finshed', 896: 'comprehend', 897: 'explain', 898: 'power', 899: 'exciting', 900: 'wow', 901: 'updated', 902: 'hammy', 903: 'unpredictable', 904: 'spy', 905: 'scenario', 906: 'astonishingly', 907: 'free', 908: 'generation', 909: 'team', 910: 'infiltrate', 911: 'hour', 912: 'doors', 913: 'wicked', 914: 'gym', 915: 'suspenseful', 916: 'plus', 917: 'attached', 918: 'clarksville', 919: 'summer', 920: 'grown', 921: 'teevee', 922: 'cant', 923: 'eek', 924: 'rolled', 925: 'fallon', 926: 'convo', 927: 'daddy', 928: 'speaker', 929: 'exelent', 930: 'game', 931: 'jamie', 932: 'lil', 933: 'bro', 934: 'tied', 935: 'mall', 936: 'shopping', 937: 'wacked', 938: 'however', 939: 'matters', 940: 'pressing', 941: 'alarm', 942: 'codes', 943: 'fortress', 944: 'excersizing', 945: 'funner', 946: 'latest', 947: 'kicked', 948: 'period', 949: 'characterization', 950: 'effects', 951: 'pretending', 952: 'moives', 953: 'mindless', 954: 'tech', 955: 'small', 956: 'etc', 957: 'surprisingly', 958: 'asshole', 959: 'sunday', 960: 'tests', 961: 'afterschool', 962: 'relaxed', 963: 'ate', 964: 'margaritas', 965: 'w', 966: 'emily', 967: 'despise', 968: 'scientology', 969: 'crusade', 970: 'stinkin', 971: 'ike', 972: 'holy', 973: 'fyi', 974: 'brazil', 975: 'harrison', 976: 'viewings', 977: 'vic', 978: 'bday', 979: 'screening', 980: 'awesomely', 981: 'um', 982: 'trece', 983: 'bet', 984: 'blows', 985: 'exception', 986: 'eh', 987: 'experience', 988: 'camp', 989: 'setting', 990: 'land', 991: 'places', 992: 'spin', 993: 'middle', 994: 'tan', 995: 'baby', 996: 'possum', 997: 'vault', 998: 'kelse', 999: 'spontaneously', 1000: 'pm', 1001: 'erin', 1002: 'firstly', 1003: 'settin', 1004: 'halls', 1005: 'partyin', 1006: 'weekends', 1007: 'clubbin', 1008: 'lunch', 1009: 'causing', 1010: 'disruption', 1011: 'wherever', 1012: 'dart', 1013: 'considered', 1014: 'hooker', 1015: 'scientologist', 1016: 'orig', 1017: 'alright', 1018: 'halle', 1019: 'barry', 1020: 'hugh', 1021: 'jackson', 1022: 'jessica', 1023: 'frenzied', 1024: 'phone', 1025: 'calls', 1026: 'laura', 1027: 'garrett', 1028: 'abrams', 1029: 'reason', 1030: 'explosions', 1031: 'straight', 1032: 'row', 1033: 'magic', 1034: 'rocked', 1035: 'preview', 1036: 'note', 1037: 'davinci', 1038: 'quip', 1039: 'v', 1040: 'freak', 1041: 'pull', 1042: 'style', 1043: 'bond', 1044: 'kicking', 1045: 'throw', 1046: 'jail', 1047: 'break', 1048: 'reader', 1049: 'excited', 1050: 'lines', 1051: 'shadeslayer', 1052: 'truth', 1053: 'philosopher', 1054: 'paper', 1055: 'entitled', 1056: 'twilight', 1057: 'unfortunate', 1058: 'tons', 1059: 'clickfive', 1060: 'cake', 1061: 'texts', 1062: 'obviously', 1063: 'criticized', 1064: 'oversimplifying', 1065: 'struggle', 1066: 'thick', 1067: 'burnt', 1068: 'heavy', 1069: 'enjoying', 1070: 'sawyer', 1071: 'hookup', 1072: 'rereading', 1073: 'picky', 1074: 'clearly', 1075: 'planned', 1076: 'biggie', 1077: 'admiring', 1078: 'sisters', 1079: 'collection', 1080: 'waited', 1081: 'planning', 1082: 'unfortunately', 1083: 'japenese', 1084: 'undoubtedly', 1085: 'purchase', 1086: 'dvd', 1087: 'walks', 1088: 'beach', 1089: 'oreos', 1090: 'ootp', 1091: 'sixth', 1092: 'desperate', 1093: 'discovered', 1094: 'dork', 1095: 'found', 1096: 'german', 1097: 'primary', 1098: 'bits', 1099: 'happiness', 1100: 'usually', 1101: 'storytimes', 1102: 'occasional', 1103: 'talks', 1104: 'julia', 1105: 'marisa', 1106: 'spec', 1107: 'candy', 1108: 'requim', 1109: 'christopher', 1110: 'creed', 1111: 'shraddha', 1112: 'lotr', 1113: 'superman', 1114: 'budget', 1115: 'rare', 1116: 'bootlegged', 1117: 'radcliffe', 1118: 'completely', 1119: 'poem', 1120: 'chance', 1121: 'prize', 1122: 'equus', 1123: 'measure', 1124: 'march', 1125: 'artemis', 1126: 'fowl', 1127: 'colony', 1128: 'eoin', 1129: 'colfer', 1130: 'young', 1131: 'near', 1132: 'realize', 1133: 'mocking', 1134: 'freagin', 1135: 'magical', 1136: 'lore', 1137: 'personaly', 1138: 'encourage', 1139: 'wholesome', 1140: 'sakes', 1141: 'scarf', 1142: 'kept', 1143: 'g', 1144: 'lilo', 1145: 'stitch', 1146: 'barnyard', 1147: 'discuss', 1148: 'theories', 1149: 'low', 1150: 'discussing', 1151: 'learn', 1152: 'appeal', 1153: 'date', 1154: 'jamaica', 1155: 'queens', 1156: 'earrings', 1157: 'goes', 1158: 'adore', 1159: 'thanks', 1160: 'task', 1161: 'achieved', 1162: 'reasons', 1163: 'belong', 1164: 'grey', 1165: 'anatomy', 1166: 'dedicated', 1167: 'feast', 1168: 'spoke', 1169: 'cowan', 1170: 'briefly', 1171: 'independent', 1172: 'study', 1173: 'lazy', 1174: 'semester', 1175: 'dorks', 1176: 'delicious', 1177: 'away', 1178: 'enjoys', 1179: 'depth', 1180: 'conversations', 1181: 'subjects', 1182: 'interested', 1183: 'intrigued', 1184: 'robe', 1185: 'lends', 1186: 'nicely', 1187: 'deemed', 1188: 'gavin', 1189: 'degraw', 1190: 'beatles', 1191: 'drawing', 1192: 'hall', 1193: 'kaka', 1194: 'television', 1195: 'screens', 1196: 'perfect', 1197: 'literary', 1198: 'version', 1199: 'adaptation', 1200: 'grips', 1201: 'state', 1202: 'dress', 1203: 'find', 1204: 'anywhere', 1205: 'town', 1206: 'veil', 1207: 'darkness', 1208: 'oceans', 1209: 'phoenix', 1210: 'total', 1211: 'counting', 1212: 'fairly', 1213: 'drawn', 1214: 'deciding', 1215: 'xd', 1216: 'anime', 1217: 'manga', 1218: 'grow', 1219: 'rehearsal', 1220: 'invisibility', 1221: 'cloak', 1222: 'folows', 1223: 'machine', 1224: 'lets', 1225: 'portuguese', 1226: 'spanish', 1227: 'explaination', 1228: 'travel', 1229: 'packs', 1230: 'animated', 1231: 'emotes', 1232: 'keep', 1233: 'gettting', 1234: 'fits', 1235: 'cast', 1236: 'spells', 1237: 'fair', 1238: 'lower', 1239: 'shade', 1240: 'others', 1241: 'posts', 1242: 'pirates', 1243: 'caribbean', 1244: 'sarcastic', 1245: 'quirky', 1246: 'humor', 1247: 'otp', 1248: 'shipping', 1249: 'winter', 1250: 'specifically', 1251: 'tree', 1252: 'snowing', 1253: 'outside', 1254: 'devastate', 1255: 'included', 1256: 'coloured', 1257: 'intellectual', 1258: 'debates', 1259: 'irrespective', 1260: 'writes', 1261: 'legacy', 1262: 'grand', 1263: 'finale', 1264: 'lives', 1265: 'hype', 1266: 'younger', 1267: 'sis', 1268: 'theres', 1269: 'avatar', 1270: 'sports', 1271: 'messiah', 1272: 'complex', 1273: 'police', 1274: 'longer', 1275: 'intense', 1276: 'phase', 1277: 'literature', 1278: 'val', 1279: 'starring', 1280: 'performance', 1281: 'titus', 1282: 'rep', 1283: 'explains', 1284: 'oddly', 1285: 'cover', 1286: 'chronological', 1287: 'ground', 1288: 'unexpected', 1289: 'basically', 1290: 'diversity', 1291: 'shout', 1292: 'esther', 1293: 'calling', 1294: 'screenplay', 1295: 'mph', 1296: 'sale', 1297: 'expo', 1298: 'gosh', 1299: 'whereas', 1300: 'brother', 1301: 'cousins', 1302: 'parents', 1303: 'twice', 1304: 'genres', 1305: 'eye', 1306: 'gn', 1307: 'gl', 1308: 'important', 1309: 'hyped', 1310: 'sweeping', 1311: 'moving', 1312: 'bbm', 1313: 'rps', 1314: 'figured', 1315: 'interest', 1316: 'picturesque', 1317: 'quaintly', 1318: 'attractive', 1319: 'impressive', 1320: 'tourist', 1321: 'horses', 1322: 'hugged', 1323: 'wranglers', 1324: 'riding', 1325: 'giants', 1326: 'napoleon', 1327: 'dynamite', 1328: 'silly', 1329: 'pc', 1330: 'check', 1331: 'spectacularly', 1332: 'confess', 1333: 'judgement', 1334: 'springer', 1335: 'supper', 1336: 'latter', 1337: 'tiny', 1338: 'pink', 1339: 'shame', 1340: 'transamerica', 1341: 'apart', 1342: 'defensive', 1343: 'positions', 1344: 'gays', 1345: 'wonderful', 1346: 'discussed', 1347: 'abortion', 1348: 'south', 1349: 'dakota', 1350: 'strip', 1351: 'sexual', 1352: 'tells', 1353: 'easy', 1354: 'wondered', 1355: 'happened', 1356: 'ennis', 1357: 'spend', 1358: 'gayer', 1359: 'picnic', 1360: 'basket', 1361: 'haunted', 1362: 'ignore', 1363: 'photography', 1364: 'madly', 1365: 'p', 1366: 'change', 1367: 'background', 1368: 'tragically', 1369: 'romantic', 1370: 'heartbraking', 1371: 'dearly', 1372: 'ashamed', 1373: 'wept', 1374: 'five', 1375: 'afterwards', 1376: 'done', 1377: 'success', 1378: 'derek', 1379: 'heartbreaking', 1380: 'matter', 1381: 'gyllenhaal', 1382: 'leder', 1383: 'yip', 1384: 'changes', 1385: 'receive', 1386: 'director', 1387: 'finish', 1388: 'random', 1389: 'thoughts', 1390: 'bitter', 1391: 'bound', 1392: 'wins', 1393: 'heteronormativity', 1394: 'dissapointed', 1395: 'surprised', 1396: 'packed', 1397: 'sceneries', 1398: 'million', 1399: 'tomorrow', 1400: 'yahoo', 1401: 'games', 1402: 'themed', 1403: 'skin', 1404: 'chessboard', 1405: 'disappointing', 1406: 'fabricated', 1407: 'christianity', 1408: 'bolsters', 1409: 'arguments', 1410: 'england', 1411: 'slow', 1412: 'threw', 1413: 'phenomenon', 1414: 'congrats', 1415: 'beating', 1416: 'jay', 1417: 'rickards', 1418: 'finals', 1419: 'poorly', 1420: 'worst', 1421: 'rachel', 1422: 'nans', 1423: 'libarian', 1424: 'turner', 1425: 'forget', 1426: 'paul', 1427: 'bentlys', 1428: 'timings', 1429: 'ended', 1430: 'fer', 1431: 'runaway', 1432: 'vacation', 1433: 'conversation', 1434: 'professors', 1435: 'overslept', 1436: 'jenn', 1437: 'later', 1438: 'ballz', 1439: 'forgot', 1440: 'nacho', 1441: 'libre', 1442: 'hank', 1443: 'smoking', 1444: 'moments', 1445: 'bored', 1446: 'coherent', 1447: 'uh', 1448: 'usage', 1449: 'phrase', 1450: 'dogfucking', 1451: 'retarded', 1452: 'worse', 1453: 'started', 1454: 'gathered', 1455: 'lamest', 1456: 'cinema', 1457: 'lama', 1458: 'aimee', 1459: 'sean', 1460: 'supportive', 1461: 'indian', 1462: 'reservations', 1463: 'lately', 1464: 'hanging', 1465: 'happen', 1466: 'sometime', 1467: 'holding', 1468: 'signs', 1469: 'christ', 1470: 'project', 1471: 'witha', 1472: 'blasphying', 1473: 'wide', 1474: 'drove', 1475: 'bayers', 1476: 'lake', 1477: 'dramatic', 1478: 'supposed', 1479: 'hello', 1480: 'cos', 1481: 'effort', 1482: 'mang', 1483: 'latin', 1484: 'anyhow', 1485: 'rofls', 1486: 'howard', 1487: 'google', 1488: 'urls', 1489: 'songs', 1490: 'lucky', 1491: 'refusing', 1492: 'public', 1493: 'imo', 1494: 'mood', 1495: 'shop', 1496: 'quick', 1497: 'smoked', 1498: 'consumed', 1499: 'meat', 1500: 'broke', 1501: 'ideas', 1502: 'sucky', 1503: 'crack', 1504: 'motherfuckers', 1505: 'tonite', 1506: 'poseidon', 1507: 'hooray', 1508: 'memoirs', 1509: 'geisha', 1510: 'kelsey', 1511: 'oceanwalk', 1512: 'rockets', 1513: 'bless', 1514: 'linked', 1515: 'symantec', 1516: 'suing', 1517: 'microsoft', 1518: 'street', 1519: 'without', 1520: 'touching', 1521: 'delayed', 1522: 'banning', 1523: 'omen', 1524: 'muahahaahahah', 1525: 'weeeellllllll', 1526: 'therefor', 1527: 'frakking', 1528: 'media', 1529: 'seems', 1530: 'thirdly', 1531: 'post', 1532: 'add', 1533: 'save', 1534: 'showcasing', 1535: 'aniwae', 1536: 'trip', 1537: 'freshman', 1538: 'itz', 1539: 'altogether', 1540: 'theatan', 1541: 'energy', 1542: 'field', 1543: 'eat', 1544: 'dim', 1545: 'sum', 1546: 'whos', 1547: 'extent', 1548: 'rv', 1549: 'predictable', 1550: 'weird', 1551: 'tomkat', 1552: 'jill', 1553: 'staying', 1554: 'loathed', 1555: 'involving', 1556: 'badness', 1557: 'increasing', 1558: 'exponentially', 1559: 'imagine', 1560: 'sold', 1561: 'flat', 1562: 'shipmates', 1563: 'burbank', 1564: 'calif', 1565: 'ap', 1566: 'brooke', 1567: 'shields', 1568: 'publicly', 1569: 'apologized', 1570: 'career', 1571: 'including', 1572: 'war', 1573: 'worlds', 1574: 'atrocious', 1575: 'hahaha', 1576: 'search', 1577: 'boycotting', 1578: 'mybutthole', 1579: 'yuh', 1580: 'nasy', 1581: 'c', 1582: 'joiners', 1583: 'aside', 1584: 'seymore', 1585: 'nifty', 1586: 'gadgets', 1587: 'wif', 1588: 'haha', 1589: 'credit', 1590: 'insane', 1591: 'listen', 1592: 'kanye', 1593: 'west', 1594: 'sequels', 1595: 'facing', 1596: 'richard', 1597: 'simmons', 1598: 'closet', 1599: 'blogbacklinktitle', 1600: 'blogbacklinksnippet', 1601: 'seymour', 1602: 'simon', 1603: 'pegg', 1604: 'prediction', 1605: 'correct', 1606: 'boycott', 1607: 'talkin', 1608: 'bout', 1609: 'agreed', 1610: 'cobequid', 1611: 'health', 1612: 'center', 1613: 'soooooooo', 1614: 'et', 1615: 'al', 1616: 'useless', 1617: 'realized', 1618: 'chunnel', 1619: 'fears', 1620: 'scared', 1621: 'regardless', 1622: 'track', 1623: 'dumbest', 1624: 'futile', 1625: 'began', 1626: 'teri', 1627: 'interview', 1628: 'anne', 1629: 'rice', 1630: 'attraction', 1631: 'reopened', 1632: 'release', 1633: 'unable', 1634: 'ignorant', 1635: 'villains', 1636: 'creatures', 1637: 'monthly', 1638: 'mad', 1639: 'vintage', 1640: 'silver', 1641: 'shaped', 1642: 'frog', 1643: 'idiot', 1644: 'kenley', 1645: 'decides', 1646: 'plastic', 1647: 'axes', 1648: 'amazes', 1649: 'afraid', 1650: 'pastings', 1651: 'mpreg', 1652: 'archive', 1653: 'section', 1654: 'starting', 1655: 'deluded', 1656: 'loose', 1657: 'allegory', 1658: 'wants', 1659: 'local', 1660: 'schools', 1661: 'leads', 1662: 'according', 1663: 'images', 1664: 'lin', 1665: 'pale', 1666: 'comparrison', 1667: 'overlooking', 1668: 'hair', 1669: 'trivia', 1670: 'eyes', 1671: 'absolute', 1672: 'denial', 1673: 'general', 1674: 'involved', 1675: 'dumbass', 1676: 'highly', 1677: 'inappropriate', 1678: 'headmistress', 1679: 'office', 1680: 'melandry', 1681: 'fuckers', 1682: 'shut', 1683: 'ripper', 1684: 'following', 1685: 'clips', 1686: 'featured', 1687: 'believably', 1688: 'judging', 1689: 'generated', 1690: 'gives', 1691: 'returning', 1692: 'spite', 1693: 'knowing', 1694: 'clit', 1695: 'everytime', 1696: 'outnumbered', 1697: 'rules', 1698: 'anax', 1699: 'rife', 1700: 'faked', 1701: 'mary', 1702: 'sue', 1703: 'ism', 1704: 'hogwash', 1705: 'listens', 1706: 'campaign', 1707: 'rid', 1708: 'soooooo', 1709: 'claiming', 1710: 'drain', 1711: 'warns', 1712: 'indoctrinate', 1713: 'wicca', 1714: 'seeking', 1715: 'wiccans', 1716: 'react', 1717: 'possible', 1718: 'look', 1719: 'precious', 1720: 'classic', 1721: 'cheapened', 1722: 'association', 1723: 'glitz', 1724: 'gossip', 1725: 'talked', 1726: 'writer', 1727: 'immortal', 1728: 'psychology', 1729: 'thesis', 1730: 'iq', 1731: 'cucumber', 1732: 'potterholic', 1733: 'ew', 1734: 'jame', 1735: 'living', 1736: 'guts', 1737: 'depp', 1738: 'haircut', 1739: 'meganpenworthy', 1740: 'dressed', 1741: 'selfish', 1742: 'iron', 1743: 'optimus', 1744: 'prime', 1745: 'indicative', 1746: 'decline', 1747: 'english', 1748: 'predictability', 1749: 'packaging', 1750: 'standpoint', 1751: 'horridly', 1752: 'basic', 1753: 'cheap', 1754: 'christain', 1755: 'lynne', 1756: 'devil', 1757: 'chronicles', 1758: 'ring', 1759: 'arse', 1760: 'rides', 1761: 'broom', 1762: 'simple', 1763: 'exhausted', 1764: 'hilarious', 1765: 'fiber', 1766: 'inherently', 1767: 'invisible', 1768: 'murdered', 1769: 'fade', 1770: 'creature', 1771: 'demeantor', 1772: 'decaying', 1773: 'decomposing', 1774: 'hippie', 1775: 'bringing', 1776: 'mcgarther', 1777: 'park', 1778: 'chamber', 1779: 'secrets', 1780: 'giving', 1781: 'benefit', 1782: 'doubt', 1783: 'online', 1784: 'offence', 1785: 'roommate', 1786: 'believe', 1787: 'facebook', 1788: 'group', 1789: 'addition', 1790: 'screwed', 1791: 'malaguena', 1792: 'russotti', 1793: 'changed', 1794: 'plays', 1795: 'dumbledor', 1796: 'hours', 1797: 'suncoast', 1798: 'kat', 1799: 'tun', 1800: 'starred', 1801: 'topic', 1802: 'yuck', 1803: 'gladly', 1804: 'dungeons', 1805: 'asks', 1806: 'scent', 1807: 'nature', 1808: 'hairy', 1809: 'otters', 1810: 'wussies', 1811: 'joy', 1812: 'titanic', 1813: 'durno', 1814: 'offense', 1815: 'whatev', 1816: 'huge', 1817: 'loser', 1818: 'hahahaha', 1819: 'sent', 1820: 'musiclove', 1821: 'crystal', 1822: 'condeming', 1823: 'walk', 1824: 'forever', 1825: 'shell', 1826: 'huh', 1827: 'jelly', 1828: 'pic', 1829: 'frodo', 1830: 'vice', 1831: 'versa', 1832: 'whiny', 1833: 'canceled', 1834: 'postponed', 1835: 'hermione', 1836: 'childishly', 1837: 'immensely', 1838: 'executed', 1839: 'moralistic', 1840: 'actors', 1841: 'awkward', 1842: 'award', 1843: 'harder', 1844: 'pup', 1845: 'tent', 1846: 'boys', 1847: 'fill', 1848: 'blanks', 1849: 'joan', 1850: 'keeps', 1851: 'characters', 1852: 'juicy', 1853: 'posted', 1854: 'livejournal', 1855: 'close', 1856: 'waaaaaaaaaaaaaaaaaaaaaaaaaaaaaaaaaaaaaaaaaaaaaaaaaaaaaaaaaaaaa', 1857: 'anus', 1858: 'larry', 1859: 'mcmurtry', 1860: 'diana', 1861: 'ossana', 1862: 'freezing', 1863: 'evilpinkmunky', 1864: 'soooo', 1865: 'shameful', 1866: 'master', 1867: 'sitting', 1868: 'chicken', 1869: 'sam', 1870: 'scenes', 1871: 'backdrop', 1872: 'ah', 1873: 'nothin', 1874: 'heather', 1875: 'shes', 1876: 'stites', 1877: 'knight', 1878: 'seemed', 1879: 'josie', 1880: 'zach', 1881: 'loudest', 1882: 'criticizers', 1883: 'nanny', 1884: 'mcphee', 1885: 'revise', 1886: 'unless', 1887: 'crafted', 1888: 'involve', 1889: 'rode', 1890: 'bikes', 1891: 'complaints', 1892: 'vito', 1893: 'plot', 1894: 'facile', 1895: 'comparsions', 1896: 'overcoming', 1897: 'adversity', 1898: 'stupidest', 1899: 'offensive', 1900: 'concocted', 1901: 'dinner', 1902: 'min', 1903: 'rosie', 1904: 'independant', 1905: 'pudding', 1906: 'category', 1907: 'shattered', 1908: 'spine', 1909: 'emo', 1910: 'mound', 1911: 'cow', 1912: 'kill', 1913: 'writers', 1914: 'ruining', 1915: 'image', 1916: 'liberal', 1917: 'exploitation', 1918: 'boyy', 1919: 'hahahahahaha', 1920: 'weiners', 1921: 'generalized', 1922: 'condemnation', 1923: 'entire', 1924: 'voted', 1925: 'targeted', 1926: 'mob', 1927: 'homophobic', 1928: 'died', 1929: 'france', 1930: 'portugal', 1931: 'match', 1932: 'dvds', 1933: 'kudos', 1934: 'blog', 1935: 'overexagerated', 1936: 'requiem', 1937: 'patirot', 1938: 'knights', 1939: 'four', 1940: 'feathers', 1941: 'casanova', 1942: 'dogtown', 1943: 'monsters', 1944: 'ball', 1945: 'visually', 1946: 'incredible', 1947: 'directed', 1948: 'lapse', 1949: 'created', 1950: 'account', 1951: 'comments', 1952: 'becuase', 1953: 'consider', 1954: 'reference', 1955: 'answers', 1956: 'wrote', 1957: 'letter', 1958: 'editor', 1959: 'folk', 1960: 'families', 1961: 'boycotted', 1962: 'festivities', 1963: 'madre', 1964: 'tiffani', 1965: 'pirated', 1966: 'illegally', 1967: 'presented', 1968: 'subtitles', 1969: 'backward', 1970: 'mormon', 1971: 'danielle', 1972: 'mostly', 1973: 'honest', 1974: 'lesson', 1975: 'fix', 1976: 'homophobes', 1977: 'corrupting', 1978: 'thursday', 1979: 'hollywoord', 1980: 'reviews', 1981: 'fully', 1982: 'clothed', 1983: 'combonation', 1984: 'halfway', 1985: 'van', 1986: 'insurance', 1987: 'runs', 1988: 'room', 1989: 'messy', 1990: 'clean', 1991: 'ony', 1992: 'monchel', 1993: 'brigid'}\n"
          ]
        }
      ]
    },
    {
      "cell_type": "code",
      "source": [
        "xs, ys = [], []\n",
        "\n",
        "with open(file=INPUT_FILE, mode='r', encoding='utf-8') as fin:\n",
        "    stop_words = set(nltk.corpus.stopwords.words('english'))\n",
        "    for line in fin:\n",
        "        label, sentence = line.strip().split('\\t')\n",
        "        sentence = re.sub(\"[^a-zA-Z]\", \" \", sentence)\n",
        "        ys.append(int(label))\n",
        "\n",
        "        words = [token.lower() for token in nltk.word_tokenize(sentence) if not token.lower() in stop_words]\n",
        "\n",
        "        wids = [word2index[word] for word in words]\n",
        "        xs.append(wids)"
      ],
      "metadata": {
        "id": "1RwmnANV7B_a"
      },
      "execution_count": null,
      "outputs": []
    },
    {
      "cell_type": "code",
      "source": [
        "from tensorflow.keras.utils import to_categorical\n",
        "\n",
        "X = pad_sequences(xs, maxlen=maxlen) # преобразует список в двумерный тензор (матрицу).\n",
        "                                     # Длина преобразованного тензора определяется параметром maxlen\n",
        "y = to_categorical(ys)\n",
        "\n",
        "X_train, X_test, y_train, y_test = train_test_split(X, y, test_size=0.2, random_state=42)"
      ],
      "metadata": {
        "id": "Nj9MyaW97NKu"
      },
      "execution_count": null,
      "outputs": []
    },
    {
      "cell_type": "code",
      "source": [
        "X_train.shape"
      ],
      "metadata": {
        "colab": {
          "base_uri": "https://localhost:8080/"
        },
        "id": "dZsgFeoaBges",
        "outputId": "2480f61c-f6fb-4643-9bb5-d99b5eb25341"
      },
      "execution_count": null,
      "outputs": [
        {
          "output_type": "execute_result",
          "data": {
            "text/plain": [
              "(5668, 22)"
            ]
          },
          "metadata": {},
          "execution_count": 10
        }
      ]
    },
    {
      "cell_type": "code",
      "source": [
        "X_train"
      ],
      "metadata": {
        "colab": {
          "base_uri": "https://localhost:8080/"
        },
        "id": "RezEWunBfnyp",
        "outputId": "538e29be-d034-4bbd-f971-abc9d3f4a373"
      },
      "execution_count": null,
      "outputs": [
        {
          "output_type": "execute_result",
          "data": {
            "text/plain": [
              "array([[   0,    0,    0, ...,   24,    6,    7],\n",
              "       [   0,    0,    0, ...,   14,   40,  181],\n",
              "       [   0,    0,    0, ..., 1679,  456, 1680],\n",
              "       ...,\n",
              "       [   0,    0,    0, ...,    2,    8,   19],\n",
              "       [   0,    0,    0, ...,  186,   20,  119],\n",
              "       [   0,    0,    0, ...,    5,    3,   62]], dtype=int32)"
            ]
          },
          "metadata": {},
          "execution_count": 11
        }
      ]
    },
    {
      "cell_type": "code",
      "source": [
        "EMBED_SIZE  = 100\n",
        "NUM_FILTERS = 256\n",
        "NUM_WORDS   = 3\n",
        "\n",
        "model = Sequential()\n",
        "model.add(Embedding(input_length = maxlen, output_dim = EMBED_SIZE, input_dim = vocab_sz))\n",
        "model.add(SpatialDropout1D(0.1))\n",
        "model.add(Conv1D(filters=NUM_FILTERS, kernel_size = NUM_WORDS, padding='same', activation='relu'))\n",
        "model.add(GlobalMaxPooling1D())\n",
        "model.add(Dense(2, activation='softmax'))\n",
        "\n",
        "model.compile(loss='categorical_crossentropy', optimizer='adam',\n",
        "              metrics=['accuracy'])\n",
        "\n",
        "model.summary()"
      ],
      "metadata": {
        "id": "CNakDynX8jkT",
        "colab": {
          "base_uri": "https://localhost:8080/"
        },
        "outputId": "4f3d8778-eed0-4e66-aa0d-919b3e328b4c"
      },
      "execution_count": null,
      "outputs": [
        {
          "output_type": "stream",
          "name": "stdout",
          "text": [
            "Model: \"sequential\"\n",
            "_________________________________________________________________\n",
            " Layer (type)                Output Shape              Param #   \n",
            "=================================================================\n",
            " embedding (Embedding)       (None, 22, 100)           199400    \n",
            "                                                                 \n",
            " spatial_dropout1d (Spatial  (None, 22, 100)           0         \n",
            " Dropout1D)                                                      \n",
            "                                                                 \n",
            " conv1d (Conv1D)             (None, 22, 256)           77056     \n",
            "                                                                 \n",
            " global_max_pooling1d (Glob  (None, 256)               0         \n",
            " alMaxPooling1D)                                                 \n",
            "                                                                 \n",
            " dense (Dense)               (None, 2)                 514       \n",
            "                                                                 \n",
            "=================================================================\n",
            "Total params: 276970 (1.06 MB)\n",
            "Trainable params: 276970 (1.06 MB)\n",
            "Non-trainable params: 0 (0.00 Byte)\n",
            "_________________________________________________________________\n"
          ]
        }
      ]
    },
    {
      "cell_type": "code",
      "source": [
        "model.fit(X_train, y_train, epochs=100)"
      ],
      "metadata": {
        "id": "RPG-Z4q__ukv",
        "colab": {
          "base_uri": "https://localhost:8080/"
        },
        "outputId": "34237e4f-0426-4a87-f00c-9381bb260b19"
      },
      "execution_count": null,
      "outputs": [
        {
          "output_type": "stream",
          "name": "stdout",
          "text": [
            "Epoch 1/100\n",
            " 15/178 [=>............................] - ETA: 1:16 - loss: 0.6416 - accuracy: 0.5688"
          ]
        }
      ]
    },
    {
      "cell_type": "code",
      "source": [
        "from sklearn.metrics import accuracy_score, classification_report, confusion_matrix\n",
        "\n",
        "y_pred = model.predict(X_test)\n",
        "\n",
        "y_test_new = np.argmax(y_test, axis=1)\n",
        "y_pred_new = np.argmax(y_pred, axis=1)\n",
        "#\n",
        "accuracy = accuracy_score(y_test_new, y_pred_new)\n",
        "print(f\"Accuracy: {accuracy:.2f}\")\n",
        "\n",
        "print(classification_report(y_test_new, y_pred_new))\n",
        "print(confusion_matrix(y_test_new, y_pred_new))"
      ],
      "metadata": {
        "id": "ufWCYY5b_3Pd"
      },
      "execution_count": null,
      "outputs": []
    }
  ]
}
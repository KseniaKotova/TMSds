{
 "cells": [
  {
   "cell_type": "code",
   "execution_count": 1,
   "metadata": {},
   "outputs": [],
   "source": [
    "import numpy as np \n",
    "from scipy import stats\n",
    "import matplotlib.pyplot as plt\n",
    "from scipy.special import perm, comb, factorial"
   ]
  },
  {
   "cell_type": "markdown",
   "metadata": {},
   "source": [
    "Задача 1. В группе 30 студентов. Необходимо выбрать старосту, заместителя старосты и\n",
    "профорга. Сколько существует способов это сделать?\n",
    "Количество способов выбрать старосту - 30, зам старосты - 29, профорга - 28, в результате 30 * 29 * 28"
   ]
  },
  {
   "cell_type": "code",
   "execution_count": 5,
   "metadata": {},
   "outputs": [
    {
     "name": "stdout",
     "output_type": "stream",
     "text": [
      "Количество способов выбрать старосту, зам старосты, профорга: 24360.0\n"
     ]
    }
   ],
   "source": [
    "n_students = np.array(30)\n",
    "k_positions = np.array(3)\n",
    "print(f\"Количество способов выбрать старосту, зам старосты, профорга: {perm(n_students, k_positions)}\")"
   ]
  },
  {
   "cell_type": "markdown",
   "metadata": {},
   "source": [
    "Задача 2. Два почтальона должны разнести 10 писем по 10 адресам. Сколькими\n",
    "способами они могут распределить работу? \n",
    "Количество способов распределения работы можно найти с помощью формулы для кол-ва размещений с повторениями n^k => одно письмо может отправить либо первый почтальон, либо второй"
   ]
  },
  {
   "cell_type": "code",
   "execution_count": 15,
   "metadata": {},
   "outputs": [
    {
     "name": "stdout",
     "output_type": "stream",
     "text": [
      "Количество способов разнесения 10 писем по 10 адресам: 1024\n"
     ]
    }
   ],
   "source": [
    "k_letters = np.array(10)\n",
    "n_postman = np.array(2)\n",
    "print(f\"Количество способов разнесения 10 писем по 10 адресам: {n_postman**k_letters}\")"
   ]
  },
  {
   "cell_type": "markdown",
   "metadata": {},
   "source": [
    "Задача 3. В ящике 100 деталей, из них 30 – деталей 1-го сорта, 50 – 2-го, остальные – 3-\n",
    "го. Сколько существует способов извлечения из ящика одной детали 1-го или 2-го сорта?\n",
    "Общее количество способов извлечения деталей первого или второго сорта будет равно сумме этих двух чисел"
   ]
  },
  {
   "cell_type": "code",
   "execution_count": 9,
   "metadata": {},
   "outputs": [
    {
     "name": "stdout",
     "output_type": "stream",
     "text": [
      "Количество способов извлечения из ящика одной детали 1-го или 2-го сорта: 80\n"
     ]
    }
   ],
   "source": [
    "n_first = np.array(30)\n",
    "n_second = np.array(50)\n",
    "print(f\"Количество способов извлечения из ящика одной детали 1-го или 2-го сорта: {n_first + n_second}\")"
   ]
  },
  {
   "cell_type": "markdown",
   "metadata": {},
   "source": [
    "Задача 5. Порядок выступления 7 участников конкурса определяется жребием. Сколько\n",
    "различных вариантов жеребьевки при этом возможно?\n",
    "Количество вариантов равно 7 * 6 * 5 * 4 * 3 * 2 * 1"
   ]
  },
  {
   "cell_type": "code",
   "execution_count": 10,
   "metadata": {},
   "outputs": [
    {
     "name": "stdout",
     "output_type": "stream",
     "text": [
      "Количество вариантов жеребьевки: 5040.0\n"
     ]
    }
   ],
   "source": [
    "n_places = np.array(7)\n",
    "print(f\"Количество вариантов жеребьевки: {factorial(n_places)}\")"
   ]
  },
  {
   "cell_type": "markdown",
   "metadata": {},
   "source": [
    "Задача 6. В конкурсе по 5 номинациям участвуют 10 кинофильмов. Сколько существует\n",
    "вариантов распределения призов, если по всем номинациям установлены различные\n",
    "премии?\n",
    "Задача подобна задаче с почтальонами и письмами. Используется формула для кол-ва размещений с повторениями: n^k => один фильм может получить одну или несколько из 5 номинаций."
   ]
  },
  {
   "cell_type": "code",
   "execution_count": 16,
   "metadata": {},
   "outputs": [
    {
     "name": "stdout",
     "output_type": "stream",
     "text": [
      "Количество вариантов распределения призов: 9765625\n"
     ]
    }
   ],
   "source": [
    "n_films = np.array(10)\n",
    "k_positions = np.array(5)\n",
    "print(f\"Количество вариантов распределения призов: {n_films**k_positions}\")"
   ]
  },
  {
   "cell_type": "markdown",
   "metadata": {},
   "source": [
    "Задача 7. В шахматном турнире участвуют 16 человек. Сколько партий должно быть\n",
    "сыграно в турнире, если между любыми двумя участниками должна быть сыграна одна\n",
    "партия?\n",
    "В данном случае участвуют 16 человек, а в партии по 2 человека. Используется формула количества сочетаний из n элементов по k без повторений"
   ]
  },
  {
   "cell_type": "code",
   "execution_count": 13,
   "metadata": {},
   "outputs": [
    {
     "name": "stdout",
     "output_type": "stream",
     "text": [
      "Количество партий: 120.0\n"
     ]
    }
   ],
   "source": [
    "n_participant = np.array(16)\n",
    "k_in_game = np.array(2)\n",
    "print(f\"Количество партий: {comb(n_participant, k_in_game, repetition=False)}\")"
   ]
  },
  {
   "cell_type": "markdown",
   "metadata": {},
   "source": [
    "Задача 8. В условиях задачи 6 определить, сколько существует вариантов распределения\n",
    "призов, если по всем номинациям установлены одинаковые призы?\n",
    "Используется формула количества сочетаний с повторениями из-за одинаковых призов. Порядок фильмов значения не имеет."
   ]
  },
  {
   "cell_type": "code",
   "execution_count": 14,
   "metadata": {},
   "outputs": [
    {
     "name": "stdout",
     "output_type": "stream",
     "text": [
      "Количество вариантов распределения призов: 2002.0\n"
     ]
    }
   ],
   "source": [
    "n_films = np.array(10)\n",
    "k_positions = np.array(5)\n",
    "print(f\"Количество вариантов распределения призов: {comb(n_films, k_positions, repetition=True)}\")"
   ]
  },
  {
   "cell_type": "markdown",
   "metadata": {},
   "source": [
    "Задача 9. Садовник должен в течении трех дней посадить 6 деревьев. Сколькими\n",
    "способами он может распределить по дням работу, если будет сажать не менее одного\n",
    "дерева в день?"
   ]
  },
  {
   "cell_type": "code",
   "execution_count": 4,
   "metadata": {},
   "outputs": [
    {
     "name": "stdout",
     "output_type": "stream",
     "text": [
      "Количество способов посадить деревья: 10.0\n"
     ]
    }
   ],
   "source": [
    "n_columns = np.array(5)\n",
    "k_days_between = np.array(2)\n",
    "print(f\"Количество способов посадить деревья: {comb(n_columns, k_days_between, repetition=False)}\")"
   ]
  },
  {
   "cell_type": "markdown",
   "metadata": {},
   "source": [
    "Задача 10. Сколько существует четырехзначных чисел (возможно, начинающихся с нуля), \n",
    "сумма цифр которых равна 5?"
   ]
  },
  {
   "cell_type": "markdown",
   "metadata": {},
   "source": [
    "Задача 11. Сколькими способами можно разбить группу из 25 студентов на три подгруппы\n",
    "А, В и С по 6, 9 и 10 человек соответственно?"
   ]
  },
  {
   "cell_type": "code",
   "execution_count": 17,
   "metadata": {},
   "outputs": [
    {
     "name": "stdout",
     "output_type": "stream",
     "text": [
      "Количество способов разбиения на группы: 16360143799.999998\n"
     ]
    }
   ],
   "source": [
    "n_students = np.array(25)\n",
    "k_groups = np.array(3)\n",
    "n_group1 = np.array(6)\n",
    "n_group2 = np.array(9)\n",
    "n_group3 = np.array(10)\n",
    "print(f\"Количество способов разбиения на группы: {factorial(n_students)/(factorial(n_group1) * factorial(n_group2) * factorial(n_group3))}\")"
   ]
  },
  {
   "cell_type": "markdown",
   "metadata": {},
   "source": [
    "Задача 12. Сколько существует семизначных чисел, состоящих из цифр 4, 5 и 6, в которых\n",
    "цифра 4 повторяется 3 раза, а цифры 5 и 6 – по 2 раза?"
   ]
  },
  {
   "cell_type": "code",
   "execution_count": 18,
   "metadata": {},
   "outputs": [
    {
     "name": "stdout",
     "output_type": "stream",
     "text": [
      "Количество семизначных чисел: 210.0\n"
     ]
    }
   ],
   "source": [
    "n_digits = np.array(7)\n",
    "n_count_for_4 = np.array(3)\n",
    "n_count_for_5 = np.array(2)\n",
    "n_count_for_6 = np.array(2)\n",
    "print(f\"Количество семизначных чисел: {factorial(n_digits)/(factorial(n_count_for_4) * factorial(n_count_for_5) * factorial(n_count_for_6))}\")"
   ]
  },
  {
   "cell_type": "markdown",
   "metadata": {},
   "source": [
    "Задача 1. В ящике 5 апельсинов и 4 яблока. Наудачу выбираются 3 фрукта. Какова\n",
    "вероятность, что все три фрукта – апельсины?"
   ]
  },
  {
   "cell_type": "code",
   "execution_count": 19,
   "metadata": {},
   "outputs": [
    {
     "data": {
      "text/plain": [
       "0.11904761904761904"
      ]
     },
     "execution_count": 19,
     "metadata": {},
     "output_type": "execute_result"
    }
   ],
   "source": [
    "n_count_fruits = np.array(9)\n",
    "n_orange = np.array(5)\n",
    "n_apples = np.array(4) \n",
    "k_picked = np.array(3)\n",
    "c_all = comb(n_count_fruits, k_picked)\n",
    "c_positive = comb(n_orange, k_picked)\n",
    "c_positive/c_all"
   ]
  },
  {
   "cell_type": "markdown",
   "metadata": {},
   "source": [
    "Задача 2. Преподаватель предлагает каждому из трех студентов задумать любое число от\n",
    "1 до 10. Считая, что выбор каждым из студентов любого числа из заданных\n",
    "равновозможен, найти вероятность того, что у кого-то из них задуманные числа совпадут"
   ]
  },
  {
   "cell_type": "code",
   "execution_count": 21,
   "metadata": {},
   "outputs": [
    {
     "data": {
      "text/plain": [
       "0.28"
      ]
     },
     "execution_count": 21,
     "metadata": {},
     "output_type": "execute_result"
    }
   ],
   "source": [
    "n_numbs = np.array(10)\n",
    "k_students = np.array(3)\n",
    "all_pickle = n_numbs**k_students\n",
    "different_pickle = perm(n_numbs, k_students)\n",
    "(all_pickle - different_pickle)/all_pickle"
   ]
  },
  {
   "cell_type": "markdown",
   "metadata": {},
   "source": [
    "Задача 3. Найти вероятность того, что в 8-значном числе ровно 4 цифры совпадают, а\n",
    "остальные различны."
   ]
  },
  {
   "cell_type": "code",
   "execution_count": null,
   "metadata": {},
   "outputs": [],
   "source": []
  }
 ],
 "metadata": {
  "kernelspec": {
   "display_name": "Python 3",
   "language": "python",
   "name": "python3"
  },
  "language_info": {
   "codemirror_mode": {
    "name": "ipython",
    "version": 3
   },
   "file_extension": ".py",
   "mimetype": "text/x-python",
   "name": "python",
   "nbconvert_exporter": "python",
   "pygments_lexer": "ipython3",
   "version": "3.10.6"
  }
 },
 "nbformat": 4,
 "nbformat_minor": 2
}

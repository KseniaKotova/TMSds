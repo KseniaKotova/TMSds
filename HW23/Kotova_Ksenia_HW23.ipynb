{
 "cells": [
  {
   "cell_type": "code",
   "execution_count": 1,
   "metadata": {},
   "outputs": [],
   "source": [
    "import pandas as pd\n",
    "import numpy as np\n",
    "import matplotlib.pyplot as plt\n",
    "import seaborn as sns"
   ]
  },
  {
   "cell_type": "code",
   "execution_count": 2,
   "metadata": {},
   "outputs": [],
   "source": [
    "users_df = pd.read_csv('users.csv')\n",
    "feedback_df = pd.read_csv('recommendations.csv')\n",
    "games_df = pd.read_csv('games.csv')"
   ]
  },
  {
   "cell_type": "code",
   "execution_count": 3,
   "metadata": {
    "metadata": {}
   },
   "outputs": [
    {
     "data": {
      "text/html": [
       "<div>\n",
       "<style scoped>\n",
       "    .dataframe tbody tr th:only-of-type {\n",
       "        vertical-align: middle;\n",
       "    }\n",
       "\n",
       "    .dataframe tbody tr th {\n",
       "        vertical-align: top;\n",
       "    }\n",
       "\n",
       "    .dataframe thead th {\n",
       "        text-align: right;\n",
       "    }\n",
       "</style>\n",
       "<table border=\"1\" class=\"dataframe\">\n",
       "  <thead>\n",
       "    <tr style=\"text-align: right;\">\n",
       "      <th></th>\n",
       "      <th>user_id</th>\n",
       "      <th>products</th>\n",
       "      <th>reviews</th>\n",
       "    </tr>\n",
       "  </thead>\n",
       "  <tbody>\n",
       "    <tr>\n",
       "      <th>0</th>\n",
       "      <td>7360263</td>\n",
       "      <td>359</td>\n",
       "      <td>0</td>\n",
       "    </tr>\n",
       "    <tr>\n",
       "      <th>1</th>\n",
       "      <td>14020781</td>\n",
       "      <td>156</td>\n",
       "      <td>1</td>\n",
       "    </tr>\n",
       "    <tr>\n",
       "      <th>2</th>\n",
       "      <td>8762579</td>\n",
       "      <td>329</td>\n",
       "      <td>4</td>\n",
       "    </tr>\n",
       "    <tr>\n",
       "      <th>3</th>\n",
       "      <td>4820647</td>\n",
       "      <td>176</td>\n",
       "      <td>4</td>\n",
       "    </tr>\n",
       "    <tr>\n",
       "      <th>4</th>\n",
       "      <td>5167327</td>\n",
       "      <td>98</td>\n",
       "      <td>2</td>\n",
       "    </tr>\n",
       "    <tr>\n",
       "      <th>5</th>\n",
       "      <td>5664667</td>\n",
       "      <td>145</td>\n",
       "      <td>5</td>\n",
       "    </tr>\n",
       "    <tr>\n",
       "      <th>6</th>\n",
       "      <td>5889167</td>\n",
       "      <td>447</td>\n",
       "      <td>2</td>\n",
       "    </tr>\n",
       "    <tr>\n",
       "      <th>7</th>\n",
       "      <td>7281762</td>\n",
       "      <td>1083</td>\n",
       "      <td>1</td>\n",
       "    </tr>\n",
       "    <tr>\n",
       "      <th>8</th>\n",
       "      <td>7445952</td>\n",
       "      <td>273</td>\n",
       "      <td>1</td>\n",
       "    </tr>\n",
       "    <tr>\n",
       "      <th>9</th>\n",
       "      <td>7462927</td>\n",
       "      <td>51</td>\n",
       "      <td>1</td>\n",
       "    </tr>\n",
       "  </tbody>\n",
       "</table>\n",
       "</div>"
      ],
      "text/plain": [
       "    user_id  products  reviews\n",
       "0   7360263       359        0\n",
       "1  14020781       156        1\n",
       "2   8762579       329        4\n",
       "3   4820647       176        4\n",
       "4   5167327        98        2\n",
       "5   5664667       145        5\n",
       "6   5889167       447        2\n",
       "7   7281762      1083        1\n",
       "8   7445952       273        1\n",
       "9   7462927        51        1"
      ]
     },
     "execution_count": 3,
     "metadata": {},
     "output_type": "execute_result"
    }
   ],
   "source": [
    "users_df.head(10)"
   ]
  },
  {
   "cell_type": "code",
   "execution_count": 4,
   "metadata": {
    "metadata": {}
   },
   "outputs": [],
   "source": [
    "import json\n",
    "\n",
    "with open('games_metadata.json', 'r', encoding='utf-8') as f:\n",
    "    data = f.readlines()\n",
    "\n",
    "\n",
    "json_data = '[' + ','.join(data) + ']'\n",
    "\n",
    "metadata = pd.read_json(json_data)"
   ]
  },
  {
   "cell_type": "code",
   "execution_count": 5,
   "metadata": {
    "metadata": {}
   },
   "outputs": [
    {
     "data": {
      "text/html": [
       "<div>\n",
       "<style scoped>\n",
       "    .dataframe tbody tr th:only-of-type {\n",
       "        vertical-align: middle;\n",
       "    }\n",
       "\n",
       "    .dataframe tbody tr th {\n",
       "        vertical-align: top;\n",
       "    }\n",
       "\n",
       "    .dataframe thead th {\n",
       "        text-align: right;\n",
       "    }\n",
       "</style>\n",
       "<table border=\"1\" class=\"dataframe\">\n",
       "  <thead>\n",
       "    <tr style=\"text-align: right;\">\n",
       "      <th></th>\n",
       "      <th>app_id</th>\n",
       "      <th>description</th>\n",
       "      <th>tags</th>\n",
       "    </tr>\n",
       "  </thead>\n",
       "  <tbody>\n",
       "    <tr>\n",
       "      <th>0</th>\n",
       "      <td>13500</td>\n",
       "      <td>Enter the dark underworld of Prince of Persia ...</td>\n",
       "      <td>[Action, Adventure, Parkour, Third Person, Gre...</td>\n",
       "    </tr>\n",
       "    <tr>\n",
       "      <th>1</th>\n",
       "      <td>22364</td>\n",
       "      <td></td>\n",
       "      <td>[Action]</td>\n",
       "    </tr>\n",
       "    <tr>\n",
       "      <th>2</th>\n",
       "      <td>113020</td>\n",
       "      <td>Monaco: What's Yours Is Mine is a single playe...</td>\n",
       "      <td>[Co-op, Stealth, Indie, Heist, Local Co-Op, St...</td>\n",
       "    </tr>\n",
       "    <tr>\n",
       "      <th>3</th>\n",
       "      <td>226560</td>\n",
       "      <td>Escape Dead Island is a Survival-Mystery adven...</td>\n",
       "      <td>[Zombies, Adventure, Survival, Action, Third P...</td>\n",
       "    </tr>\n",
       "    <tr>\n",
       "      <th>4</th>\n",
       "      <td>249050</td>\n",
       "      <td>Dungeon of the Endless is a Rogue-Like Dungeon...</td>\n",
       "      <td>[Roguelike, Strategy, Tower Defense, Pixel Gra...</td>\n",
       "    </tr>\n",
       "  </tbody>\n",
       "</table>\n",
       "</div>"
      ],
      "text/plain": [
       "   app_id                                        description  \\\n",
       "0   13500  Enter the dark underworld of Prince of Persia ...   \n",
       "1   22364                                                      \n",
       "2  113020  Monaco: What's Yours Is Mine is a single playe...   \n",
       "3  226560  Escape Dead Island is a Survival-Mystery adven...   \n",
       "4  249050  Dungeon of the Endless is a Rogue-Like Dungeon...   \n",
       "\n",
       "                                                tags  \n",
       "0  [Action, Adventure, Parkour, Third Person, Gre...  \n",
       "1                                           [Action]  \n",
       "2  [Co-op, Stealth, Indie, Heist, Local Co-Op, St...  \n",
       "3  [Zombies, Adventure, Survival, Action, Third P...  \n",
       "4  [Roguelike, Strategy, Tower Defense, Pixel Gra...  "
      ]
     },
     "execution_count": 5,
     "metadata": {},
     "output_type": "execute_result"
    }
   ],
   "source": [
    "metadata.head()"
   ]
  },
  {
   "cell_type": "code",
   "execution_count": 6,
   "metadata": {
    "metadata": {}
   },
   "outputs": [
    {
     "data": {
      "text/plain": [
       "(14306064, 3)"
      ]
     },
     "execution_count": 6,
     "metadata": {},
     "output_type": "execute_result"
    }
   ],
   "source": [
    "users_df.shape"
   ]
  },
  {
   "cell_type": "code",
   "execution_count": 7,
   "metadata": {
    "metadata": {}
   },
   "outputs": [
    {
     "data": {
      "text/html": [
       "<div>\n",
       "<style scoped>\n",
       "    .dataframe tbody tr th:only-of-type {\n",
       "        vertical-align: middle;\n",
       "    }\n",
       "\n",
       "    .dataframe tbody tr th {\n",
       "        vertical-align: top;\n",
       "    }\n",
       "\n",
       "    .dataframe thead th {\n",
       "        text-align: right;\n",
       "    }\n",
       "</style>\n",
       "<table border=\"1\" class=\"dataframe\">\n",
       "  <thead>\n",
       "    <tr style=\"text-align: right;\">\n",
       "      <th></th>\n",
       "      <th>app_id</th>\n",
       "      <th>helpful</th>\n",
       "      <th>funny</th>\n",
       "      <th>date</th>\n",
       "      <th>is_recommended</th>\n",
       "      <th>hours</th>\n",
       "      <th>user_id</th>\n",
       "      <th>review_id</th>\n",
       "    </tr>\n",
       "  </thead>\n",
       "  <tbody>\n",
       "    <tr>\n",
       "      <th>0</th>\n",
       "      <td>975370</td>\n",
       "      <td>0</td>\n",
       "      <td>0</td>\n",
       "      <td>2022-12-12</td>\n",
       "      <td>True</td>\n",
       "      <td>36.3</td>\n",
       "      <td>51580</td>\n",
       "      <td>0</td>\n",
       "    </tr>\n",
       "    <tr>\n",
       "      <th>1</th>\n",
       "      <td>304390</td>\n",
       "      <td>4</td>\n",
       "      <td>0</td>\n",
       "      <td>2017-02-17</td>\n",
       "      <td>False</td>\n",
       "      <td>11.5</td>\n",
       "      <td>2586</td>\n",
       "      <td>1</td>\n",
       "    </tr>\n",
       "    <tr>\n",
       "      <th>2</th>\n",
       "      <td>1085660</td>\n",
       "      <td>2</td>\n",
       "      <td>0</td>\n",
       "      <td>2019-11-17</td>\n",
       "      <td>True</td>\n",
       "      <td>336.5</td>\n",
       "      <td>253880</td>\n",
       "      <td>2</td>\n",
       "    </tr>\n",
       "    <tr>\n",
       "      <th>3</th>\n",
       "      <td>703080</td>\n",
       "      <td>0</td>\n",
       "      <td>0</td>\n",
       "      <td>2022-09-23</td>\n",
       "      <td>True</td>\n",
       "      <td>27.4</td>\n",
       "      <td>259432</td>\n",
       "      <td>3</td>\n",
       "    </tr>\n",
       "    <tr>\n",
       "      <th>4</th>\n",
       "      <td>526870</td>\n",
       "      <td>0</td>\n",
       "      <td>0</td>\n",
       "      <td>2021-01-10</td>\n",
       "      <td>True</td>\n",
       "      <td>7.9</td>\n",
       "      <td>23869</td>\n",
       "      <td>4</td>\n",
       "    </tr>\n",
       "    <tr>\n",
       "      <th>5</th>\n",
       "      <td>306130</td>\n",
       "      <td>0</td>\n",
       "      <td>0</td>\n",
       "      <td>2021-10-10</td>\n",
       "      <td>True</td>\n",
       "      <td>8.6</td>\n",
       "      <td>45425</td>\n",
       "      <td>5</td>\n",
       "    </tr>\n",
       "    <tr>\n",
       "      <th>6</th>\n",
       "      <td>238960</td>\n",
       "      <td>0</td>\n",
       "      <td>0</td>\n",
       "      <td>2017-11-25</td>\n",
       "      <td>True</td>\n",
       "      <td>538.8</td>\n",
       "      <td>88282</td>\n",
       "      <td>6</td>\n",
       "    </tr>\n",
       "    <tr>\n",
       "      <th>7</th>\n",
       "      <td>730</td>\n",
       "      <td>0</td>\n",
       "      <td>0</td>\n",
       "      <td>2021-11-30</td>\n",
       "      <td>False</td>\n",
       "      <td>157.5</td>\n",
       "      <td>63209</td>\n",
       "      <td>7</td>\n",
       "    </tr>\n",
       "    <tr>\n",
       "      <th>8</th>\n",
       "      <td>255710</td>\n",
       "      <td>0</td>\n",
       "      <td>0</td>\n",
       "      <td>2021-05-21</td>\n",
       "      <td>True</td>\n",
       "      <td>18.7</td>\n",
       "      <td>354512</td>\n",
       "      <td>8</td>\n",
       "    </tr>\n",
       "    <tr>\n",
       "      <th>9</th>\n",
       "      <td>289070</td>\n",
       "      <td>0</td>\n",
       "      <td>0</td>\n",
       "      <td>2020-05-26</td>\n",
       "      <td>True</td>\n",
       "      <td>397.5</td>\n",
       "      <td>454422</td>\n",
       "      <td>9</td>\n",
       "    </tr>\n",
       "  </tbody>\n",
       "</table>\n",
       "</div>"
      ],
      "text/plain": [
       "    app_id  helpful  funny        date  is_recommended  hours  user_id  \\\n",
       "0   975370        0      0  2022-12-12            True   36.3    51580   \n",
       "1   304390        4      0  2017-02-17           False   11.5     2586   \n",
       "2  1085660        2      0  2019-11-17            True  336.5   253880   \n",
       "3   703080        0      0  2022-09-23            True   27.4   259432   \n",
       "4   526870        0      0  2021-01-10            True    7.9    23869   \n",
       "5   306130        0      0  2021-10-10            True    8.6    45425   \n",
       "6   238960        0      0  2017-11-25            True  538.8    88282   \n",
       "7      730        0      0  2021-11-30           False  157.5    63209   \n",
       "8   255710        0      0  2021-05-21            True   18.7   354512   \n",
       "9   289070        0      0  2020-05-26            True  397.5   454422   \n",
       "\n",
       "   review_id  \n",
       "0          0  \n",
       "1          1  \n",
       "2          2  \n",
       "3          3  \n",
       "4          4  \n",
       "5          5  \n",
       "6          6  \n",
       "7          7  \n",
       "8          8  \n",
       "9          9  "
      ]
     },
     "execution_count": 7,
     "metadata": {},
     "output_type": "execute_result"
    }
   ],
   "source": [
    "feedback_df.head(10)"
   ]
  },
  {
   "cell_type": "code",
   "execution_count": 8,
   "metadata": {
    "metadata": {}
   },
   "outputs": [
    {
     "name": "stdout",
     "output_type": "stream",
     "text": [
      "Пользователь с ID 13933393 провел наибольшее количество часов: 290694.2\n"
     ]
    },
    {
     "data": {
      "image/png": "[encoded data removed]",
      "text/plain": [
       "<Figure size 640x480 with 1 Axes>"
      ]
     },
     "metadata": {},
     "output_type": "display_data"
    }
   ],
   "source": [
    "top_users = feedback_df.groupby('user_id')['hours'].sum()\n",
    "top_user_id = top_users.idxmax()\n",
    "max_hours = top_users.max()\n",
    "\n",
    "print(f\"Пользователь с ID {top_user_id} провел наибольшее количество часов: {max_hours}\")\n",
    "\n",
    "top_5_users = top_users.nlargest(5)\n",
    "top_5_users.plot(kind='bar', xlabel='User ID', ylabel='Total Hours Played', title='Top 5 Users by Hours Played')\n",
    "plt.show()"
   ]
  },
  {
   "cell_type": "code",
   "execution_count": 9,
   "metadata": {
    "metadata": {}
   },
   "outputs": [
    {
     "name": "stdout",
     "output_type": "stream",
     "text": [
      "Игра с ID 226860 была игрой, в которой пользователь с ID 13933393 провел наибольшее количество часов: 999.2\n"
     ]
    },
    {
     "data": {
      "text/html": [
       "<div>\n",
       "<style scoped>\n",
       "    .dataframe tbody tr th:only-of-type {\n",
       "        vertical-align: middle;\n",
       "    }\n",
       "\n",
       "    .dataframe tbody tr th {\n",
       "        vertical-align: top;\n",
       "    }\n",
       "\n",
       "    .dataframe thead th {\n",
       "        text-align: right;\n",
       "    }\n",
       "</style>\n",
       "<table border=\"1\" class=\"dataframe\">\n",
       "  <thead>\n",
       "    <tr style=\"text-align: right;\">\n",
       "      <th></th>\n",
       "      <th>app_id</th>\n",
       "      <th>title</th>\n",
       "      <th>date_release</th>\n",
       "      <th>win</th>\n",
       "      <th>mac</th>\n",
       "      <th>linux</th>\n",
       "      <th>rating</th>\n",
       "      <th>positive_ratio</th>\n",
       "      <th>user_reviews</th>\n",
       "      <th>price_final</th>\n",
       "      <th>price_original</th>\n",
       "      <th>discount</th>\n",
       "      <th>steam_deck</th>\n",
       "    </tr>\n",
       "  </thead>\n",
       "  <tbody>\n",
       "    <tr>\n",
       "      <th>2690</th>\n",
       "      <td>226860</td>\n",
       "      <td>Galactic Civilizations III</td>\n",
       "      <td>2019-10-24</td>\n",
       "      <td>True</td>\n",
       "      <td>False</td>\n",
       "      <td>False</td>\n",
       "      <td>Mostly Positive</td>\n",
       "      <td>76</td>\n",
       "      <td>8051</td>\n",
       "      <td>39.99</td>\n",
       "      <td>39.99</td>\n",
       "      <td>0.0</td>\n",
       "      <td>True</td>\n",
       "    </tr>\n",
       "  </tbody>\n",
       "</table>\n",
       "</div>"
      ],
      "text/plain": [
       "      app_id                       title date_release   win    mac  linux  \\\n",
       "2690  226860  Galactic Civilizations III   2019-10-24  True  False  False   \n",
       "\n",
       "               rating  positive_ratio  user_reviews  price_final  \\\n",
       "2690  Mostly Positive              76          8051        39.99   \n",
       "\n",
       "      price_original  discount  steam_deck  \n",
       "2690           39.99       0.0        True  "
      ]
     },
     "execution_count": 9,
     "metadata": {},
     "output_type": "execute_result"
    }
   ],
   "source": [
    "user_reviews = feedback_df[feedback_df['user_id'] == top_user_id]\n",
    "top_game_id = user_reviews.loc[user_reviews['hours'].idxmax(), 'app_id']\n",
    "max_hours_in_game = user_reviews['hours'].max()\n",
    "\n",
    "print(f\"Игра с ID {top_game_id} была игрой, в которой пользователь с ID {top_user_id} провел наибольшее количество часов: {max_hours_in_game}\")\n",
    "games_df[games_df['app_id'] == 226860]"
   ]
  },
  {
   "cell_type": "code",
   "execution_count": 10,
   "metadata": {
    "metadata": {}
   },
   "outputs": [
    {
     "data": {
      "text/plain": [
       "(41154794, 8)"
      ]
     },
     "execution_count": 10,
     "metadata": {},
     "output_type": "execute_result"
    }
   ],
   "source": [
    "feedback_df.shape"
   ]
  },
  {
   "cell_type": "code",
   "execution_count": 11,
   "metadata": {
    "metadata": {}
   },
   "outputs": [
    {
     "data": {
      "text/html": [
       "<div>\n",
       "<style scoped>\n",
       "    .dataframe tbody tr th:only-of-type {\n",
       "        vertical-align: middle;\n",
       "    }\n",
       "\n",
       "    .dataframe tbody tr th {\n",
       "        vertical-align: top;\n",
       "    }\n",
       "\n",
       "    .dataframe thead th {\n",
       "        text-align: right;\n",
       "    }\n",
       "</style>\n",
       "<table border=\"1\" class=\"dataframe\">\n",
       "  <thead>\n",
       "    <tr style=\"text-align: right;\">\n",
       "      <th></th>\n",
       "      <th>app_id</th>\n",
       "      <th>title</th>\n",
       "      <th>date_release</th>\n",
       "      <th>win</th>\n",
       "      <th>mac</th>\n",
       "      <th>linux</th>\n",
       "      <th>rating</th>\n",
       "      <th>positive_ratio</th>\n",
       "      <th>user_reviews</th>\n",
       "      <th>price_final</th>\n",
       "      <th>price_original</th>\n",
       "      <th>discount</th>\n",
       "      <th>steam_deck</th>\n",
       "    </tr>\n",
       "  </thead>\n",
       "  <tbody>\n",
       "    <tr>\n",
       "      <th>0</th>\n",
       "      <td>13500</td>\n",
       "      <td>Prince of Persia: Warrior Within™</td>\n",
       "      <td>2008-11-21</td>\n",
       "      <td>True</td>\n",
       "      <td>False</td>\n",
       "      <td>False</td>\n",
       "      <td>Very Positive</td>\n",
       "      <td>84</td>\n",
       "      <td>2199</td>\n",
       "      <td>9.99</td>\n",
       "      <td>9.99</td>\n",
       "      <td>0.0</td>\n",
       "      <td>True</td>\n",
       "    </tr>\n",
       "    <tr>\n",
       "      <th>1</th>\n",
       "      <td>22364</td>\n",
       "      <td>BRINK: Agents of Change</td>\n",
       "      <td>2011-08-03</td>\n",
       "      <td>True</td>\n",
       "      <td>False</td>\n",
       "      <td>False</td>\n",
       "      <td>Positive</td>\n",
       "      <td>85</td>\n",
       "      <td>21</td>\n",
       "      <td>2.99</td>\n",
       "      <td>2.99</td>\n",
       "      <td>0.0</td>\n",
       "      <td>True</td>\n",
       "    </tr>\n",
       "    <tr>\n",
       "      <th>2</th>\n",
       "      <td>113020</td>\n",
       "      <td>Monaco: What's Yours Is Mine</td>\n",
       "      <td>2013-04-24</td>\n",
       "      <td>True</td>\n",
       "      <td>True</td>\n",
       "      <td>True</td>\n",
       "      <td>Very Positive</td>\n",
       "      <td>92</td>\n",
       "      <td>3722</td>\n",
       "      <td>14.99</td>\n",
       "      <td>14.99</td>\n",
       "      <td>0.0</td>\n",
       "      <td>True</td>\n",
       "    </tr>\n",
       "    <tr>\n",
       "      <th>3</th>\n",
       "      <td>226560</td>\n",
       "      <td>Escape Dead Island</td>\n",
       "      <td>2014-11-18</td>\n",
       "      <td>True</td>\n",
       "      <td>False</td>\n",
       "      <td>False</td>\n",
       "      <td>Mixed</td>\n",
       "      <td>61</td>\n",
       "      <td>873</td>\n",
       "      <td>14.99</td>\n",
       "      <td>14.99</td>\n",
       "      <td>0.0</td>\n",
       "      <td>True</td>\n",
       "    </tr>\n",
       "    <tr>\n",
       "      <th>4</th>\n",
       "      <td>249050</td>\n",
       "      <td>Dungeon of the ENDLESS™</td>\n",
       "      <td>2014-10-27</td>\n",
       "      <td>True</td>\n",
       "      <td>True</td>\n",
       "      <td>False</td>\n",
       "      <td>Very Positive</td>\n",
       "      <td>88</td>\n",
       "      <td>8784</td>\n",
       "      <td>11.99</td>\n",
       "      <td>11.99</td>\n",
       "      <td>0.0</td>\n",
       "      <td>True</td>\n",
       "    </tr>\n",
       "    <tr>\n",
       "      <th>5</th>\n",
       "      <td>250180</td>\n",
       "      <td>METAL SLUG 3</td>\n",
       "      <td>2015-09-14</td>\n",
       "      <td>True</td>\n",
       "      <td>False</td>\n",
       "      <td>False</td>\n",
       "      <td>Very Positive</td>\n",
       "      <td>90</td>\n",
       "      <td>5579</td>\n",
       "      <td>7.99</td>\n",
       "      <td>7.99</td>\n",
       "      <td>0.0</td>\n",
       "      <td>True</td>\n",
       "    </tr>\n",
       "    <tr>\n",
       "      <th>6</th>\n",
       "      <td>253980</td>\n",
       "      <td>Enclave</td>\n",
       "      <td>2013-10-04</td>\n",
       "      <td>True</td>\n",
       "      <td>True</td>\n",
       "      <td>True</td>\n",
       "      <td>Mostly Positive</td>\n",
       "      <td>75</td>\n",
       "      <td>1608</td>\n",
       "      <td>4.99</td>\n",
       "      <td>4.99</td>\n",
       "      <td>0.0</td>\n",
       "      <td>True</td>\n",
       "    </tr>\n",
       "    <tr>\n",
       "      <th>7</th>\n",
       "      <td>271850</td>\n",
       "      <td>Men of War: Assault Squad 2 - Deluxe Edition u...</td>\n",
       "      <td>2014-05-16</td>\n",
       "      <td>True</td>\n",
       "      <td>False</td>\n",
       "      <td>False</td>\n",
       "      <td>Mixed</td>\n",
       "      <td>61</td>\n",
       "      <td>199</td>\n",
       "      <td>6.99</td>\n",
       "      <td>6.99</td>\n",
       "      <td>0.0</td>\n",
       "      <td>True</td>\n",
       "    </tr>\n",
       "    <tr>\n",
       "      <th>8</th>\n",
       "      <td>282900</td>\n",
       "      <td>Hyperdimension Neptunia Re;Birth1</td>\n",
       "      <td>2015-01-29</td>\n",
       "      <td>True</td>\n",
       "      <td>False</td>\n",
       "      <td>False</td>\n",
       "      <td>Very Positive</td>\n",
       "      <td>94</td>\n",
       "      <td>9686</td>\n",
       "      <td>14.99</td>\n",
       "      <td>14.99</td>\n",
       "      <td>0.0</td>\n",
       "      <td>True</td>\n",
       "    </tr>\n",
       "    <tr>\n",
       "      <th>9</th>\n",
       "      <td>19810</td>\n",
       "      <td>The Sum of All Fears</td>\n",
       "      <td>2008-10-10</td>\n",
       "      <td>True</td>\n",
       "      <td>False</td>\n",
       "      <td>False</td>\n",
       "      <td>Mostly Positive</td>\n",
       "      <td>75</td>\n",
       "      <td>33</td>\n",
       "      <td>9.99</td>\n",
       "      <td>9.99</td>\n",
       "      <td>0.0</td>\n",
       "      <td>True</td>\n",
       "    </tr>\n",
       "  </tbody>\n",
       "</table>\n",
       "</div>"
      ],
      "text/plain": [
       "   app_id                                              title date_release  \\\n",
       "0   13500                  Prince of Persia: Warrior Within™   2008-11-21   \n",
       "1   22364                            BRINK: Agents of Change   2011-08-03   \n",
       "2  113020                       Monaco: What's Yours Is Mine   2013-04-24   \n",
       "3  226560                                 Escape Dead Island   2014-11-18   \n",
       "4  249050                            Dungeon of the ENDLESS™   2014-10-27   \n",
       "5  250180                                       METAL SLUG 3   2015-09-14   \n",
       "6  253980                                            Enclave   2013-10-04   \n",
       "7  271850  Men of War: Assault Squad 2 - Deluxe Edition u...   2014-05-16   \n",
       "8  282900                  Hyperdimension Neptunia Re;Birth1   2015-01-29   \n",
       "9   19810                               The Sum of All Fears   2008-10-10   \n",
       "\n",
       "    win    mac  linux           rating  positive_ratio  user_reviews  \\\n",
       "0  True  False  False    Very Positive              84          2199   \n",
       "1  True  False  False         Positive              85            21   \n",
       "2  True   True   True    Very Positive              92          3722   \n",
       "3  True  False  False            Mixed              61           873   \n",
       "4  True   True  False    Very Positive              88          8784   \n",
       "5  True  False  False    Very Positive              90          5579   \n",
       "6  True   True   True  Mostly Positive              75          1608   \n",
       "7  True  False  False            Mixed              61           199   \n",
       "8  True  False  False    Very Positive              94          9686   \n",
       "9  True  False  False  Mostly Positive              75            33   \n",
       "\n",
       "   price_final  price_original  discount  steam_deck  \n",
       "0         9.99            9.99       0.0        True  \n",
       "1         2.99            2.99       0.0        True  \n",
       "2        14.99           14.99       0.0        True  \n",
       "3        14.99           14.99       0.0        True  \n",
       "4        11.99           11.99       0.0        True  \n",
       "5         7.99            7.99       0.0        True  \n",
       "6         4.99            4.99       0.0        True  \n",
       "7         6.99            6.99       0.0        True  \n",
       "8        14.99           14.99       0.0        True  \n",
       "9         9.99            9.99       0.0        True  "
      ]
     },
     "execution_count": 11,
     "metadata": {},
     "output_type": "execute_result"
    }
   ],
   "source": [
    "games_df.head(10)"
   ]
  },
  {
   "cell_type": "code",
   "execution_count": 12,
   "metadata": {
    "metadata": {}
   },
   "outputs": [
    {
     "data": {
      "text/plain": [
       "(50872, 13)"
      ]
     },
     "execution_count": 12,
     "metadata": {},
     "output_type": "execute_result"
    }
   ],
   "source": [
    "games_df.shape"
   ]
  },
  {
   "cell_type": "code",
   "execution_count": 13,
   "metadata": {
    "metadata": {}
   },
   "outputs": [
    {
     "data": {
      "text/html": [
       "<div>\n",
       "<style scoped>\n",
       "    .dataframe tbody tr th:only-of-type {\n",
       "        vertical-align: middle;\n",
       "    }\n",
       "\n",
       "    .dataframe tbody tr th {\n",
       "        vertical-align: top;\n",
       "    }\n",
       "\n",
       "    .dataframe thead th {\n",
       "        text-align: right;\n",
       "    }\n",
       "</style>\n",
       "<table border=\"1\" class=\"dataframe\">\n",
       "  <thead>\n",
       "    <tr style=\"text-align: right;\">\n",
       "      <th></th>\n",
       "      <th>app_id</th>\n",
       "      <th>title</th>\n",
       "      <th>date_release</th>\n",
       "      <th>win</th>\n",
       "      <th>mac</th>\n",
       "      <th>linux</th>\n",
       "      <th>rating</th>\n",
       "      <th>positive_ratio</th>\n",
       "      <th>user_reviews</th>\n",
       "      <th>price_final</th>\n",
       "      <th>price_original</th>\n",
       "      <th>discount</th>\n",
       "      <th>steam_deck</th>\n",
       "      <th>description</th>\n",
       "    </tr>\n",
       "  </thead>\n",
       "  <tbody>\n",
       "    <tr>\n",
       "      <th>0</th>\n",
       "      <td>13500</td>\n",
       "      <td>Prince of Persia: Warrior Within™</td>\n",
       "      <td>2008-11-21</td>\n",
       "      <td>True</td>\n",
       "      <td>False</td>\n",
       "      <td>False</td>\n",
       "      <td>Very Positive</td>\n",
       "      <td>84</td>\n",
       "      <td>2199</td>\n",
       "      <td>9.99</td>\n",
       "      <td>9.99</td>\n",
       "      <td>0.0</td>\n",
       "      <td>True</td>\n",
       "      <td>Enter the dark underworld of Prince of Persia ...</td>\n",
       "    </tr>\n",
       "    <tr>\n",
       "      <th>1</th>\n",
       "      <td>22364</td>\n",
       "      <td>BRINK: Agents of Change</td>\n",
       "      <td>2011-08-03</td>\n",
       "      <td>True</td>\n",
       "      <td>False</td>\n",
       "      <td>False</td>\n",
       "      <td>Positive</td>\n",
       "      <td>85</td>\n",
       "      <td>21</td>\n",
       "      <td>2.99</td>\n",
       "      <td>2.99</td>\n",
       "      <td>0.0</td>\n",
       "      <td>True</td>\n",
       "      <td></td>\n",
       "    </tr>\n",
       "    <tr>\n",
       "      <th>2</th>\n",
       "      <td>113020</td>\n",
       "      <td>Monaco: What's Yours Is Mine</td>\n",
       "      <td>2013-04-24</td>\n",
       "      <td>True</td>\n",
       "      <td>True</td>\n",
       "      <td>True</td>\n",
       "      <td>Very Positive</td>\n",
       "      <td>92</td>\n",
       "      <td>3722</td>\n",
       "      <td>14.99</td>\n",
       "      <td>14.99</td>\n",
       "      <td>0.0</td>\n",
       "      <td>True</td>\n",
       "      <td>Monaco: What's Yours Is Mine is a single playe...</td>\n",
       "    </tr>\n",
       "    <tr>\n",
       "      <th>3</th>\n",
       "      <td>226560</td>\n",
       "      <td>Escape Dead Island</td>\n",
       "      <td>2014-11-18</td>\n",
       "      <td>True</td>\n",
       "      <td>False</td>\n",
       "      <td>False</td>\n",
       "      <td>Mixed</td>\n",
       "      <td>61</td>\n",
       "      <td>873</td>\n",
       "      <td>14.99</td>\n",
       "      <td>14.99</td>\n",
       "      <td>0.0</td>\n",
       "      <td>True</td>\n",
       "      <td>Escape Dead Island is a Survival-Mystery adven...</td>\n",
       "    </tr>\n",
       "    <tr>\n",
       "      <th>4</th>\n",
       "      <td>249050</td>\n",
       "      <td>Dungeon of the ENDLESS™</td>\n",
       "      <td>2014-10-27</td>\n",
       "      <td>True</td>\n",
       "      <td>True</td>\n",
       "      <td>False</td>\n",
       "      <td>Very Positive</td>\n",
       "      <td>88</td>\n",
       "      <td>8784</td>\n",
       "      <td>11.99</td>\n",
       "      <td>11.99</td>\n",
       "      <td>0.0</td>\n",
       "      <td>True</td>\n",
       "      <td>Dungeon of the Endless is a Rogue-Like Dungeon...</td>\n",
       "    </tr>\n",
       "    <tr>\n",
       "      <th>5</th>\n",
       "      <td>250180</td>\n",
       "      <td>METAL SLUG 3</td>\n",
       "      <td>2015-09-14</td>\n",
       "      <td>True</td>\n",
       "      <td>False</td>\n",
       "      <td>False</td>\n",
       "      <td>Very Positive</td>\n",
       "      <td>90</td>\n",
       "      <td>5579</td>\n",
       "      <td>7.99</td>\n",
       "      <td>7.99</td>\n",
       "      <td>0.0</td>\n",
       "      <td>True</td>\n",
       "      <td>“METAL SLUG 3”, the masterpiece in SNK’s emble...</td>\n",
       "    </tr>\n",
       "    <tr>\n",
       "      <th>6</th>\n",
       "      <td>253980</td>\n",
       "      <td>Enclave</td>\n",
       "      <td>2013-10-04</td>\n",
       "      <td>True</td>\n",
       "      <td>True</td>\n",
       "      <td>True</td>\n",
       "      <td>Mostly Positive</td>\n",
       "      <td>75</td>\n",
       "      <td>1608</td>\n",
       "      <td>4.99</td>\n",
       "      <td>4.99</td>\n",
       "      <td>0.0</td>\n",
       "      <td>True</td>\n",
       "      <td>Experience incredibly atmospheric and intense ...</td>\n",
       "    </tr>\n",
       "    <tr>\n",
       "      <th>7</th>\n",
       "      <td>271850</td>\n",
       "      <td>Men of War: Assault Squad 2 - Deluxe Edition u...</td>\n",
       "      <td>2014-05-16</td>\n",
       "      <td>True</td>\n",
       "      <td>False</td>\n",
       "      <td>False</td>\n",
       "      <td>Mixed</td>\n",
       "      <td>61</td>\n",
       "      <td>199</td>\n",
       "      <td>6.99</td>\n",
       "      <td>6.99</td>\n",
       "      <td>0.0</td>\n",
       "      <td>True</td>\n",
       "      <td></td>\n",
       "    </tr>\n",
       "    <tr>\n",
       "      <th>8</th>\n",
       "      <td>282900</td>\n",
       "      <td>Hyperdimension Neptunia Re;Birth1</td>\n",
       "      <td>2015-01-29</td>\n",
       "      <td>True</td>\n",
       "      <td>False</td>\n",
       "      <td>False</td>\n",
       "      <td>Very Positive</td>\n",
       "      <td>94</td>\n",
       "      <td>9686</td>\n",
       "      <td>14.99</td>\n",
       "      <td>14.99</td>\n",
       "      <td>0.0</td>\n",
       "      <td>True</td>\n",
       "      <td>Packed with fast-paced, turn-based RPG action,...</td>\n",
       "    </tr>\n",
       "    <tr>\n",
       "      <th>9</th>\n",
       "      <td>19810</td>\n",
       "      <td>The Sum of All Fears</td>\n",
       "      <td>2008-10-10</td>\n",
       "      <td>True</td>\n",
       "      <td>False</td>\n",
       "      <td>False</td>\n",
       "      <td>Mostly Positive</td>\n",
       "      <td>75</td>\n",
       "      <td>33</td>\n",
       "      <td>9.99</td>\n",
       "      <td>9.99</td>\n",
       "      <td>0.0</td>\n",
       "      <td>True</td>\n",
       "      <td>Lead a team of domestic counter-terrorism expe...</td>\n",
       "    </tr>\n",
       "  </tbody>\n",
       "</table>\n",
       "</div>"
      ],
      "text/plain": [
       "   app_id                                              title date_release  \\\n",
       "0   13500                  Prince of Persia: Warrior Within™   2008-11-21   \n",
       "1   22364                            BRINK: Agents of Change   2011-08-03   \n",
       "2  113020                       Monaco: What's Yours Is Mine   2013-04-24   \n",
       "3  226560                                 Escape Dead Island   2014-11-18   \n",
       "4  249050                            Dungeon of the ENDLESS™   2014-10-27   \n",
       "5  250180                                       METAL SLUG 3   2015-09-14   \n",
       "6  253980                                            Enclave   2013-10-04   \n",
       "7  271850  Men of War: Assault Squad 2 - Deluxe Edition u...   2014-05-16   \n",
       "8  282900                  Hyperdimension Neptunia Re;Birth1   2015-01-29   \n",
       "9   19810                               The Sum of All Fears   2008-10-10   \n",
       "\n",
       "    win    mac  linux           rating  positive_ratio  user_reviews  \\\n",
       "0  True  False  False    Very Positive              84          2199   \n",
       "1  True  False  False         Positive              85            21   \n",
       "2  True   True   True    Very Positive              92          3722   \n",
       "3  True  False  False            Mixed              61           873   \n",
       "4  True   True  False    Very Positive              88          8784   \n",
       "5  True  False  False    Very Positive              90          5579   \n",
       "6  True   True   True  Mostly Positive              75          1608   \n",
       "7  True  False  False            Mixed              61           199   \n",
       "8  True  False  False    Very Positive              94          9686   \n",
       "9  True  False  False  Mostly Positive              75            33   \n",
       "\n",
       "   price_final  price_original  discount  steam_deck  \\\n",
       "0         9.99            9.99       0.0        True   \n",
       "1         2.99            2.99       0.0        True   \n",
       "2        14.99           14.99       0.0        True   \n",
       "3        14.99           14.99       0.0        True   \n",
       "4        11.99           11.99       0.0        True   \n",
       "5         7.99            7.99       0.0        True   \n",
       "6         4.99            4.99       0.0        True   \n",
       "7         6.99            6.99       0.0        True   \n",
       "8        14.99           14.99       0.0        True   \n",
       "9         9.99            9.99       0.0        True   \n",
       "\n",
       "                                         description  \n",
       "0  Enter the dark underworld of Prince of Persia ...  \n",
       "1                                                     \n",
       "2  Monaco: What's Yours Is Mine is a single playe...  \n",
       "3  Escape Dead Island is a Survival-Mystery adven...  \n",
       "4  Dungeon of the Endless is a Rogue-Like Dungeon...  \n",
       "5  “METAL SLUG 3”, the masterpiece in SNK’s emble...  \n",
       "6  Experience incredibly atmospheric and intense ...  \n",
       "7                                                     \n",
       "8  Packed with fast-paced, turn-based RPG action,...  \n",
       "9  Lead a team of domestic counter-terrorism expe...  "
      ]
     },
     "execution_count": 13,
     "metadata": {},
     "output_type": "execute_result"
    }
   ],
   "source": [
    "games_descr = pd.merge(games_df, metadata[['app_id', 'description']], on='app_id', how='left')\n",
    "games_descr.head(10)"
   ]
  },
  {
   "cell_type": "code",
   "execution_count": 14,
   "metadata": {
    "metadata": {}
   },
   "outputs": [],
   "source": [
    "data = pd.merge(users_df, feedback_df, on='user_id')\n",
    "data = pd.merge(data, games_df, on='app_id')"
   ]
  },
  {
   "cell_type": "code",
   "execution_count": 15,
   "metadata": {
    "metadata": {}
   },
   "outputs": [
    {
     "data": {
      "text/html": [
       "<div>\n",
       "<style scoped>\n",
       "    .dataframe tbody tr th:only-of-type {\n",
       "        vertical-align: middle;\n",
       "    }\n",
       "\n",
       "    .dataframe tbody tr th {\n",
       "        vertical-align: top;\n",
       "    }\n",
       "\n",
       "    .dataframe thead th {\n",
       "        text-align: right;\n",
       "    }\n",
       "</style>\n",
       "<table border=\"1\" class=\"dataframe\">\n",
       "  <thead>\n",
       "    <tr style=\"text-align: right;\">\n",
       "      <th></th>\n",
       "      <th>user_id</th>\n",
       "      <th>products</th>\n",
       "      <th>reviews</th>\n",
       "      <th>app_id</th>\n",
       "      <th>helpful</th>\n",
       "      <th>funny</th>\n",
       "      <th>date</th>\n",
       "      <th>is_recommended</th>\n",
       "      <th>hours</th>\n",
       "      <th>review_id</th>\n",
       "      <th>...</th>\n",
       "      <th>win</th>\n",
       "      <th>mac</th>\n",
       "      <th>linux</th>\n",
       "      <th>rating</th>\n",
       "      <th>positive_ratio</th>\n",
       "      <th>user_reviews</th>\n",
       "      <th>price_final</th>\n",
       "      <th>price_original</th>\n",
       "      <th>discount</th>\n",
       "      <th>steam_deck</th>\n",
       "    </tr>\n",
       "  </thead>\n",
       "  <tbody>\n",
       "    <tr>\n",
       "      <th>0</th>\n",
       "      <td>14020781</td>\n",
       "      <td>156</td>\n",
       "      <td>1</td>\n",
       "      <td>730</td>\n",
       "      <td>0</td>\n",
       "      <td>0</td>\n",
       "      <td>2020-09-13</td>\n",
       "      <td>True</td>\n",
       "      <td>515.9</td>\n",
       "      <td>388620</td>\n",
       "      <td>...</td>\n",
       "      <td>True</td>\n",
       "      <td>True</td>\n",
       "      <td>True</td>\n",
       "      <td>Very Positive</td>\n",
       "      <td>88</td>\n",
       "      <td>7494460</td>\n",
       "      <td>15.0</td>\n",
       "      <td>0.0</td>\n",
       "      <td>0.0</td>\n",
       "      <td>True</td>\n",
       "    </tr>\n",
       "    <tr>\n",
       "      <th>1</th>\n",
       "      <td>5167327</td>\n",
       "      <td>98</td>\n",
       "      <td>2</td>\n",
       "      <td>730</td>\n",
       "      <td>2</td>\n",
       "      <td>0</td>\n",
       "      <td>2013-12-20</td>\n",
       "      <td>True</td>\n",
       "      <td>990.9</td>\n",
       "      <td>898452</td>\n",
       "      <td>...</td>\n",
       "      <td>True</td>\n",
       "      <td>True</td>\n",
       "      <td>True</td>\n",
       "      <td>Very Positive</td>\n",
       "      <td>88</td>\n",
       "      <td>7494460</td>\n",
       "      <td>15.0</td>\n",
       "      <td>0.0</td>\n",
       "      <td>0.0</td>\n",
       "      <td>True</td>\n",
       "    </tr>\n",
       "    <tr>\n",
       "      <th>2</th>\n",
       "      <td>6614910</td>\n",
       "      <td>62</td>\n",
       "      <td>1</td>\n",
       "      <td>730</td>\n",
       "      <td>2</td>\n",
       "      <td>0</td>\n",
       "      <td>2014-04-23</td>\n",
       "      <td>True</td>\n",
       "      <td>267.3</td>\n",
       "      <td>3083505</td>\n",
       "      <td>...</td>\n",
       "      <td>True</td>\n",
       "      <td>True</td>\n",
       "      <td>True</td>\n",
       "      <td>Very Positive</td>\n",
       "      <td>88</td>\n",
       "      <td>7494460</td>\n",
       "      <td>15.0</td>\n",
       "      <td>0.0</td>\n",
       "      <td>0.0</td>\n",
       "      <td>True</td>\n",
       "    </tr>\n",
       "    <tr>\n",
       "      <th>3</th>\n",
       "      <td>10122690</td>\n",
       "      <td>34</td>\n",
       "      <td>2</td>\n",
       "      <td>730</td>\n",
       "      <td>3</td>\n",
       "      <td>0</td>\n",
       "      <td>2019-06-26</td>\n",
       "      <td>True</td>\n",
       "      <td>937.0</td>\n",
       "      <td>33948654</td>\n",
       "      <td>...</td>\n",
       "      <td>True</td>\n",
       "      <td>True</td>\n",
       "      <td>True</td>\n",
       "      <td>Very Positive</td>\n",
       "      <td>88</td>\n",
       "      <td>7494460</td>\n",
       "      <td>15.0</td>\n",
       "      <td>0.0</td>\n",
       "      <td>0.0</td>\n",
       "      <td>True</td>\n",
       "    </tr>\n",
       "    <tr>\n",
       "      <th>4</th>\n",
       "      <td>4410864</td>\n",
       "      <td>18</td>\n",
       "      <td>1</td>\n",
       "      <td>730</td>\n",
       "      <td>5</td>\n",
       "      <td>0</td>\n",
       "      <td>2018-12-14</td>\n",
       "      <td>True</td>\n",
       "      <td>376.8</td>\n",
       "      <td>1614038</td>\n",
       "      <td>...</td>\n",
       "      <td>True</td>\n",
       "      <td>True</td>\n",
       "      <td>True</td>\n",
       "      <td>Very Positive</td>\n",
       "      <td>88</td>\n",
       "      <td>7494460</td>\n",
       "      <td>15.0</td>\n",
       "      <td>0.0</td>\n",
       "      <td>0.0</td>\n",
       "      <td>True</td>\n",
       "    </tr>\n",
       "  </tbody>\n",
       "</table>\n",
       "<p>5 rows × 22 columns</p>\n",
       "</div>"
      ],
      "text/plain": [
       "    user_id  products  reviews  app_id  helpful  funny        date  \\\n",
       "0  14020781       156        1     730        0      0  2020-09-13   \n",
       "1   5167327        98        2     730        2      0  2013-12-20   \n",
       "2   6614910        62        1     730        2      0  2014-04-23   \n",
       "3  10122690        34        2     730        3      0  2019-06-26   \n",
       "4   4410864        18        1     730        5      0  2018-12-14   \n",
       "\n",
       "   is_recommended  hours  review_id  ...   win   mac  linux         rating  \\\n",
       "0            True  515.9     388620  ...  True  True   True  Very Positive   \n",
       "1            True  990.9     898452  ...  True  True   True  Very Positive   \n",
       "2            True  267.3    3083505  ...  True  True   True  Very Positive   \n",
       "3            True  937.0   33948654  ...  True  True   True  Very Positive   \n",
       "4            True  376.8    1614038  ...  True  True   True  Very Positive   \n",
       "\n",
       "   positive_ratio user_reviews  price_final  price_original  discount  \\\n",
       "0              88      7494460         15.0             0.0       0.0   \n",
       "1              88      7494460         15.0             0.0       0.0   \n",
       "2              88      7494460         15.0             0.0       0.0   \n",
       "3              88      7494460         15.0             0.0       0.0   \n",
       "4              88      7494460         15.0             0.0       0.0   \n",
       "\n",
       "   steam_deck  \n",
       "0        True  \n",
       "1        True  \n",
       "2        True  \n",
       "3        True  \n",
       "4        True  \n",
       "\n",
       "[5 rows x 22 columns]"
      ]
     },
     "execution_count": 15,
     "metadata": {},
     "output_type": "execute_result"
    }
   ],
   "source": [
    "data.head()"
   ]
  },
  {
   "cell_type": "code",
   "execution_count": 16,
   "metadata": {
    "metadata": {}
   },
   "outputs": [
    {
     "name": "stdout",
     "output_type": "stream",
     "text": [
      "<class 'pandas.core.frame.DataFrame'>\n",
      "Int64Index: 41154794 entries, 0 to 41154793\n",
      "Data columns (total 22 columns):\n",
      " #   Column          Dtype  \n",
      "---  ------          -----  \n",
      " 0   user_id         int64  \n",
      " 1   products        int64  \n",
      " 2   reviews         int64  \n",
      " 3   app_id          int64  \n",
      " 4   helpful         int64  \n",
      " 5   funny           int64  \n",
      " 6   date            object \n",
      " 7   is_recommended  bool   \n",
      " 8   hours           float64\n",
      " 9   review_id       int64  \n",
      " 10  title           object \n",
      " 11  date_release    object \n",
      " 12  win             bool   \n",
      " 13  mac             bool   \n",
      " 14  linux           bool   \n",
      " 15  rating          object \n",
      " 16  positive_ratio  int64  \n",
      " 17  user_reviews    int64  \n",
      " 18  price_final     float64\n",
      " 19  price_original  float64\n",
      " 20  discount        float64\n",
      " 21  steam_deck      bool   \n",
      "dtypes: bool(5), float64(4), int64(9), object(4)\n",
      "memory usage: 5.7+ GB\n"
     ]
    }
   ],
   "source": [
    "data.info()"
   ]
  },
  {
   "cell_type": "code",
   "execution_count": 17,
   "metadata": {
    "metadata": {}
   },
   "outputs": [
    {
     "data": {
      "text/plain": [
       "(41154794, 22)"
      ]
     },
     "execution_count": 17,
     "metadata": {},
     "output_type": "execute_result"
    }
   ],
   "source": [
    "data.shape"
   ]
  },
  {
   "cell_type": "code",
   "execution_count": 18,
   "metadata": {
    "metadata": {}
   },
   "outputs": [
    {
     "data": {
      "text/plain": [
       "array([ 88,  92,  86,  80,  40,  97,  89,  82,  71,  57,  85,  78,  94,\n",
       "        96,  91,  76,  53,  75,  83,  98,  42,  59,  81,  93,  95,  90,\n",
       "        61,  43,  70,  84,  50,  72,  87,  77,  79,  49,  66,  65,  74,\n",
       "        73,  64,  47,  56,  58,  51,  55,  69,  62,  52,  14,  22,  13,\n",
       "        15,  63,  46,  67,  60,  68,  18,  48,  54,  44,  34,  23,  36,\n",
       "        41,  26,  37,  33,  29,  27, 100,  17,  35,  19,  45,  20,  39,\n",
       "        38,  10,  99,  30,  25,  21,  32,  31,  12,  11,  28,  24,  16,\n",
       "         5,   0,   3,   9,   6,   8,   7,   4], dtype=int64)"
      ]
     },
     "execution_count": 18,
     "metadata": {},
     "output_type": "execute_result"
    }
   ],
   "source": [
    "data['positive_ratio'].unique()"
   ]
  },
  {
   "cell_type": "code",
   "execution_count": 19,
   "metadata": {
    "metadata": {}
   },
   "outputs": [],
   "source": [
    "data_grouped = data.groupby('app_id').positive_ratio.mean()"
   ]
  },
  {
   "cell_type": "code",
   "execution_count": 20,
   "metadata": {
    "metadata": {}
   },
   "outputs": [
    {
     "data": {
      "text/plain": [
       "app_id\n",
       "1285870    100.0\n",
       "1414280    100.0\n",
       "1409340    100.0\n",
       "1410070    100.0\n",
       "1410200    100.0\n",
       "1410260    100.0\n",
       "1410440    100.0\n",
       "1900400    100.0\n",
       "1410620    100.0\n",
       "1410700    100.0\n",
       "Name: positive_ratio, dtype: float64"
      ]
     },
     "execution_count": 20,
     "metadata": {},
     "output_type": "execute_result"
    }
   ],
   "source": [
    "data_grouped.sort_values(ascending=False).head(10)"
   ]
  },
  {
   "cell_type": "markdown",
   "metadata": {},
   "source": [
    "## <strong>Рекомендации на основе словесного описания (games_descr)</strong>"
   ]
  },
  {
   "cell_type": "code",
   "execution_count": 21,
   "metadata": {
    "metadata": {}
   },
   "outputs": [
    {
     "name": "stdout",
     "output_type": "stream",
     "text": [
      "1603                         Yet Another Zombie Survivors\n",
      "3402                      Holy Potatoes! We’re in Space?!\n",
      "2936                                           Pawnbarian\n",
      "1565      MY HERO ONE'S JUSTICE 2 DLC Pack 2: Mei Hatsume\n",
      "5020                                           HellEscape\n",
      "526                                ABYSS OF THE SACRIFICE\n",
      "2453                IL-2 Sturmovik: Battle of Bodenplatte\n",
      "821     Freddi Fish and the Case of the Missing Kelp S...\n",
      "2773                         Order of Battle: Morning Sun\n",
      "3843                        Love n War: Warlord by Chance\n",
      "Name: title, dtype: object\n"
     ]
    }
   ],
   "source": [
    "from sklearn.feature_extraction.text import TfidfVectorizer\n",
    "from sklearn.metrics.pairwise import cosine_similarity\n",
    "from sklearn.metrics.pairwise import linear_kernel\n",
    "\n",
    "\n",
    "subset_data = games_descr.sample(frac=0.1, random_state=42)\n",
    "subset_descriptions = subset_data['description']\n",
    "\n",
    "tfidf_vectorizer = TfidfVectorizer(stop_words='english', max_features=5000)\n",
    "tfidf_matrix = tfidf_vectorizer.fit_transform(subset_descriptions)\n",
    "cosine_sim = cosine_similarity(tfidf_matrix, tfidf_matrix)\n",
    "\n",
    "def get_recommendations(title):\n",
    "    idx = games_descr.index[games_descr['title'] == title].tolist()[0]\n",
    "    sim_scores = list(enumerate(cosine_sim[idx]))\n",
    "    sim_scores = sorted(sim_scores, key=lambda x: x[1], reverse=True)\n",
    "    most_similar_indices = [i[0] for i in sim_scores[1:11]]\n",
    "    recommended_games = games_descr['title'].iloc[most_similar_indices]\n",
    "    return recommended_games\n",
    "\n",
    "recommended_games = get_recommendations('Call of Duty League™ - Launch Pack')\n",
    "print(recommended_games)\n"
   ]
  },
  {
   "cell_type": "code",
   "execution_count": 22,
   "metadata": {
    "metadata": {}
   },
   "outputs": [
    {
     "name": "stdout",
     "output_type": "stream",
     "text": [
      "1603                         Yet Another Zombie Survivors\n",
      "3402                      Holy Potatoes! We’re in Space?!\n",
      "2936                                           Pawnbarian\n",
      "1565      MY HERO ONE'S JUSTICE 2 DLC Pack 2: Mei Hatsume\n",
      "5020                                           HellEscape\n",
      "526                                ABYSS OF THE SACRIFICE\n",
      "2453                IL-2 Sturmovik: Battle of Bodenplatte\n",
      "821     Freddi Fish and the Case of the Missing Kelp S...\n",
      "2773                         Order of Battle: Morning Sun\n",
      "3843                        Love n War: Warlord by Chance\n",
      "Name: title, dtype: object\n"
     ]
    }
   ],
   "source": [
    "cosine_sim = linear_kernel(tfidf_matrix, tfidf_matrix)\n",
    "\n",
    "recommended_games = get_recommendations('Call of Duty League™ - Launch Pack')\n",
    "print(recommended_games)"
   ]
  },
  {
   "cell_type": "markdown",
   "metadata": {},
   "source": [
    "## <strong>Фильтрация по коллаборации</strong>"
   ]
  },
  {
   "cell_type": "code",
   "execution_count": 23,
   "metadata": {
    "metadata": {}
   },
   "outputs": [],
   "source": [
    "from scipy.sparse import csr_matrix\n",
    "from scipy.sparse.linalg import svds"
   ]
  },
  {
   "cell_type": "code",
   "execution_count": 31,
   "metadata": {
    "metadata": {}
   },
   "outputs": [],
   "source": [
    "import random\n",
    "\n",
    "subset_feedback_df = feedback_df.sample(frac=0.0001, random_state=42)\n",
    "\n",
    "user_reviews = subset_feedback_df.pivot(index='user_id', columns='app_id', values='hours')\n",
    "user_reviews = user_reviews.fillna(0)\n",
    "\n",
    "user_reviews_mean = user_reviews.mean(axis=1)\n",
    "user_reviews_demeaned = user_reviews - user_reviews_mean.values.reshape(-1, 1)\n",
    "\n",
    "U, sigma, Vt = svds(user_reviews_demeaned.values, k=50)\n",
    "\n",
    "sigma = np.diag(sigma)\n",
    "predicted_reviews = np.dot(np.dot(U, sigma), Vt) + user_reviews_mean.values.reshape(-1, 1)\n",
    "predicted_reviews_df = pd.DataFrame(predicted_reviews, columns=user_reviews.columns)\n"
   ]
  },
  {
   "cell_type": "code",
   "execution_count": 32,
   "metadata": {
    "metadata": {}
   },
   "outputs": [],
   "source": [
    "games_feedback_df = pd.merge(feedback_df, games_df[['app_id', 'title']], on='app_id', how='left')\n"
   ]
  },
  {
   "cell_type": "code",
   "execution_count": 33,
   "metadata": {
    "metadata": {}
   },
   "outputs": [],
   "source": [
    "def recommend_games(user_id, num_recommendations=5):\n",
    "    if user_id not in predicted_reviews_df.index:\n",
    "        return \"User with id {} is not found in the predicted reviews dataframe.\".format(user_id)\n",
    "    \n",
    "    sorted_user_predictions = predicted_reviews_df.loc[user_id].sort_values(ascending=False)\n",
    "    top_recommendations = sorted_user_predictions.head(num_recommendations)\n",
    "    \n",
    "    recommendations_with_titles = pd.merge(top_recommendations.reset_index(), games_feedback_df[['app_id', 'title']], \n",
    "                                           on='app_id', how='left')\n",
    "    recommendations_with_titles.drop_duplicates(inplace=True)\n",
    "    \n",
    "    return recommendations_with_titles"
   ]
  },
  {
   "cell_type": "code",
   "execution_count": 37,
   "metadata": {
    "metadata": {}
   },
   "outputs": [
    {
     "name": "stdout",
     "output_type": "stream",
     "text": [
      "         app_id         6             title\n",
      "0        304930  0.033238          Unturned\n",
      "155229     9900  0.029489  Star Trek Online\n",
      "169978  1187510  0.026757    Rock Simulator\n",
      "170525   228380  0.026515         Wreckfest\n",
      "184983  1072040  0.026001    Panzer Corps 2\n"
     ]
    }
   ],
   "source": [
    "recommended_games = recommend_games(6, 5)\n",
    "print(recommended_games)"
   ]
  },
  {
   "cell_type": "markdown",
   "metadata": {},
   "source": [
    "## <strong>Фильтрация по коллаборации (поиск похожих друг на друга пользователей)</strong>"
   ]
  },
  {
   "cell_type": "code",
   "execution_count": 38,
   "metadata": {
    "metadata": {}
   },
   "outputs": [
    {
     "name": "stdout",
     "output_type": "stream",
     "text": [
      "Recommended users for the first user are: [11422900, 7483536, 9284221, 6590596, 11161013]\n"
     ]
    }
   ],
   "source": [
    "from scipy.sparse import coo_matrix\n",
    "from sklearn.neighbors import NearestNeighbors\n",
    "\n",
    "user_ids = feedback_df['user_id'].astype('category').cat.codes\n",
    "item_ids = feedback_df['app_id'].astype('category').cat.codes\n",
    "\n",
    "\n",
    "unique_user_ids = feedback_df['user_id'].astype('category').cat.categories\n",
    "unique_item_ids = feedback_df['app_id'].astype('category').cat.categories\n",
    "\n",
    "user_game_matrix = coo_matrix((feedback_df['hours'], (user_ids, item_ids)))\n",
    "\n",
    "model_knn = NearestNeighbors(metric='cosine', algorithm='brute')\n",
    "model_knn.fit(user_game_matrix)\n",
    "\n",
    "\n",
    "distances, indices = model_knn.kneighbors(user_game_matrix.getrow(0), n_neighbors=6)\n",
    "recommended_users = [unique_user_ids[i] for i in indices.flatten()[1:]]\n",
    "print(f'Recommended users for the first user are: {recommended_users}')"
   ]
  },
  {
   "cell_type": "markdown",
   "metadata": {},
   "source": [
    "## <strong>Фильтрация на основе контента</strong>"
   ]
  },
  {
   "cell_type": "code",
   "execution_count": 46,
   "metadata": {
    "metadata": {}
   },
   "outputs": [
    {
     "name": "stdout",
     "output_type": "stream",
     "text": [
      "Recommended games for the first game are: ['Super Blackjack Battle 2 Turbo Edition - The Card Warriors', 'The Mutational', 'Long Road', 'Watching Delusion', 'Galactic Dominion']\n"
     ]
    }
   ],
   "source": [
    "subset_games_df = games_df.sample(frac=0.0001, random_state=42)\n",
    "\n",
    "\n",
    "tf = TfidfVectorizer(analyzer='word', ngram_range=(1, 3), min_df=0, stop_words='english')\n",
    "tfidf_matrix = tf.fit_transform(subset_games_df['title'])\n",
    "cosine_similarities = linear_kernel(tfidf_matrix, tfidf_matrix)\n",
    "\n",
    "\n",
    "similar_indices = cosine_similarities[0].argsort()[:-6:-1]\n",
    "recommended_games = [subset_games_df ['title'].iloc[i] for i in similar_indices]\n",
    "print(f'Recommended games for the first game are: {recommended_games}')"
   ]
  },
  {
   "cell_type": "markdown",
   "metadata": {},
   "source": [
    "## <strong>Гибридная система</strong>"
   ]
  },
  {
   "cell_type": "code",
   "execution_count": 40,
   "metadata": {
    "metadata": {}
   },
   "outputs": [],
   "source": [
    "import numpy as np\n",
    "\n",
    "def get_similar_users(user_id, user_game_matrix, model_knn, n_neighbors=6):\n",
    "    distances, indices = model_knn.kneighbors(user_game_matrix.getrow(user_id), n_neighbors=n_neighbors)\n",
    "    similar_users = [unique_user_ids[i] for i in indices.flatten()[1:]]\n",
    "    return similar_users\n",
    "\n",
    "unique_game_ids = feedback_df['app_id'].astype('category').cat.categories\n",
    "\n",
    "def get_similar_games(game_id, tfidf_matrix, n_neighbors=6):\n",
    "    game_index = np.where(unique_game_ids == game_id)[0][0]\n",
    "    cosine_similarities = linear_kernel(tfidf_matrix[game_index], tfidf_matrix).flatten()\n",
    "    similar_indices = cosine_similarities.argsort()[:-n_neighbors:-1]\n",
    "    similar_games = [games_df['title'].iloc[i] for i in similar_indices]\n",
    "    return similar_games\n",
    "\n",
    "\n",
    "def recommend_games(user_id):\n",
    "    similar_users = get_similar_users(user_id, user_game_matrix, model_knn)\n",
    "    similar_games = []\n",
    "    for user in similar_users:\n",
    "        user_games = feedback_df[feedback_df['user_id'] == user]['app_id'].unique()\n",
    "        for game_id in user_games:\n",
    "            similar_games.extend(get_similar_games(game_id, tfidf_matrix))\n",
    "    return similar_games"
   ]
  },
  {
   "cell_type": "code",
   "execution_count": 42,
   "metadata": {
    "metadata": {}
   },
   "outputs": [
    {
     "data": {
      "text/plain": [
       "['Kite',\n",
       " 'The Kite',\n",
       " 'Little Kite',\n",
       " 'Relaxing Kite',\n",
       " 'Stunt Kite Masters VR',\n",
       " \"Spy Fox in 'Dry Cereal'\",\n",
       " 'Spy Fox In: Cheese Chase',\n",
       " \"Spy Fox 3 'Operation Ozone'\",\n",
       " 'Spy Fox In: Hold the Mustard',\n",
       " \"Spy Fox 2 'Some Assembly Required'\",\n",
       " \"Spy Fox in 'Dry Cereal'\",\n",
       " 'Spy Fox In: Cheese Chase',\n",
       " \"Spy Fox 3 'Operation Ozone'\",\n",
       " 'Spy Fox In: Hold the Mustard',\n",
       " \"Spy Fox 2 'Some Assembly Required'\",\n",
       " \"Spy Fox in 'Dry Cereal'\",\n",
       " 'Spy Fox In: Cheese Chase',\n",
       " \"Spy Fox 3 'Operation Ozone'\",\n",
       " 'Spy Fox In: Hold the Mustard',\n",
       " \"Spy Fox 2 'Some Assembly Required'\",\n",
       " \"Spy Fox in 'Dry Cereal'\",\n",
       " 'Spy Fox In: Cheese Chase',\n",
       " \"Spy Fox 3 'Operation Ozone'\",\n",
       " 'Spy Fox In: Hold the Mustard',\n",
       " \"Spy Fox 2 'Some Assembly Required'\",\n",
       " \"Spy Fox in 'Dry Cereal'\",\n",
       " 'Spy Fox In: Cheese Chase',\n",
       " \"Spy Fox 3 'Operation Ozone'\",\n",
       " 'Spy Fox In: Hold the Mustard',\n",
       " \"Spy Fox 2 'Some Assembly Required'\"]"
      ]
     },
     "execution_count": 42,
     "metadata": {},
     "output_type": "execute_result"
    }
   ],
   "source": [
    "recommend_games(3094)"
   ]
  }
 ],
 "metadata": {
  "kernelspec": {
   "display_name": "Python 3",
   "language": "python",
   "name": "python3"
  },
  "language_info": {
   "codemirror_mode": {
    "name": "ipython",
    "version": 3
   },
   "file_extension": ".py",
   "mimetype": "text/x-python",
   "name": "python",
   "nbconvert_exporter": "python",
   "pygments_lexer": "ipython3",
   "version": "3.10.6"
  }
 },
 "nbformat": 4,
 "nbformat_minor": 2
}
